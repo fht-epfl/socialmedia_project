{
 "cells": [
  {
   "cell_type": "markdown",
   "id": "babbb32f",
   "metadata": {},
   "source": [
    "# Analyzing the Impact of Moderation Policies on User Activity in Decentralized Social Networks\n"
   ]
  },
  {
   "cell_type": "markdown",
   "id": "897c9f1b",
   "metadata": {},
   "source": [
    "This notebook is for displaying our final results. It should not be run or should not contain any computation, only displaying results for the reader to explore our analysis."
   ]
  },
  {
   "cell_type": "markdown",
   "id": "0bd69306",
   "metadata": {},
   "source": []
  }
 ],
 "metadata": {
  "language_info": {
   "name": "python"
  }
 },
 "nbformat": 4,
 "nbformat_minor": 5
}
