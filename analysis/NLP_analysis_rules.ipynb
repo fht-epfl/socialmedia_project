{
 "cells": [
  {
   "cell_type": "markdown",
   "id": "e80dfce8",
   "metadata": {},
   "source": [
    "# Natural Language Processing analysis of Mastodon's servers' rules"
   ]
  },
  {
   "cell_type": "code",
   "execution_count": 1,
   "id": "08b1e38c",
   "metadata": {},
   "outputs": [],
   "source": [
    "%load_ext autoreload\n",
    "%autoreload 2"
   ]
  },
  {
   "cell_type": "code",
   "execution_count": 2,
   "id": "28c43ef3",
   "metadata": {},
   "outputs": [],
   "source": [
    "import pandas as pd\n",
    "import numpy as np\n",
    "\n",
    "from utils.SocialMediaDataset import MastodonDataset, RedditDataset\n",
    "from utils.rules_extractor import RulesProcessor\n",
    "import utils.utils as utils"
   ]
  },
  {
   "cell_type": "markdown",
   "id": "c102b5de",
   "metadata": {},
   "source": [
    "## Data cleaning and preprocessing"
   ]
  },
  {
   "cell_type": "code",
   "execution_count": 3,
   "id": "f2f231d8",
   "metadata": {},
   "outputs": [],
   "source": [
    "mastodon = MastodonDataset()\n",
    "reddit = RedditDataset()"
   ]
  },
  {
   "cell_type": "code",
   "execution_count": 4,
   "id": "a8af217e",
   "metadata": {},
   "outputs": [
    {
     "data": {
      "application/vnd.microsoft.datawrangler.viewer.v0+json": {
       "columns": [
        {
         "name": "index",
         "rawType": "int64",
         "type": "integer"
        },
        {
         "name": "domain",
         "rawType": "object",
         "type": "string"
        },
        {
         "name": "title",
         "rawType": "object",
         "type": "string"
        },
        {
         "name": "description",
         "rawType": "object",
         "type": "string"
        },
        {
         "name": "active_month",
         "rawType": "int64",
         "type": "integer"
        },
        {
         "name": "languages",
         "rawType": "object",
         "type": "string"
        },
        {
         "name": "rules",
         "rawType": "object",
         "type": "string"
        },
        {
         "name": "total_users",
         "rawType": "float64",
         "type": "float"
        }
       ],
       "ref": "dc82fabc-1ed6-4c51-ae6c-305c914ba57e",
       "rows": [
        [
         "0",
         "mastodon.social",
         "Mastodon",
         "The original server operated by the Mastodon gGmbH non-profit",
         "327503",
         "[\"en\"]",
         "[{\"id\": \"1\", \"text\": \"Sexually explicit or violent media must be marked as sensitive or with a content warning\", \"hint\": \"This includes content that is particularly provocative even if it may not show specific body parts, as well as dead bodies, bloody injuries, and other gore. Particularly obscene content may be prohibited entirely. Profile pictures and header images may not contain sexually explicit or violent media.\"}, {\"id\": \"2\", \"text\": \"No racism, sexism, homophobia, transphobia, ableism, xenophobia, or casteism.\", \"hint\": \"Transphobic behavior such as intentional misgendering and deadnaming is strictly prohibited. Promotion of \\\"conversion therapy\\\" is strictly prohibited. Criticism of governments and religions is permissible unless being used as a proxy for discrimination.\"}, {\"id\": \"3\", \"text\": \"No incitement of violence or promotion of violent ideologies\", \"hint\": \"Calling for people or groups to be assassinated, murdered, or attacked physically is strictly prohibited. Support for violent groups or events is prohibited.\"}, {\"id\": \"4\", \"text\": \"No harassment, block evasion, dogpiling, or doxxing of others\", \"hint\": \"Repeat attempts to communicate with users who have blocked you or creation of accounts solely to harass or insult individuals is strictly prohibited. Coordinated activity to attack other users is prohibited. Posting of private personal information about others is prohibited.\"}, {\"id\": \"7\", \"text\": \"Do not share information widely-known to be false and misleading\", \"hint\": \"False and misleading information and links from low-quality sources may not be posted, especially if they are likely to mislead or confuse others or endanger their safety.\"}, {\"id\": \"1008\", \"text\": \"Content created by others must be attributed, and use of generative AI must be disclosed\", \"hint\": \"Content created by others must clearly provide a reference to the author, creator, or source. For adult content, this should include performers. Accounts may not solely post AI-generated content.\"}]",
         "2711879.0"
        ],
        [
         "1",
         "mstdn.social",
         "Mastodon 🐘",
         "A general-purpose Mastodon server with a 500 character limit. All languages are welcome.",
         "14546",
         "[\"en\"]",
         "[{\"id\": \"2\", \"text\": \"Sexually explicit or violent media must be marked as sensitive when posting.\", \"hint\": \"\"}, {\"id\": \"3\", \"text\": \"No spam or advertising.\", \"hint\": \"\"}, {\"id\": \"4\", \"text\": \"No racism, sexism, homophobia, transphobia, xenophobia, or casteism.\", \"hint\": \"\"}, {\"id\": \"5\", \"text\": \"No incitement of violence or promotion of violent ideologies.\", \"hint\": \"\"}, {\"id\": \"6\", \"text\": \"No harassment, dogpiling or doxxing of other users.\", \"hint\": \"\"}, {\"id\": \"7\", \"text\": \"No illegal content.\", \"hint\": \"\"}, {\"id\": \"11\", \"text\": \"No spreading of fake news or misinformation\", \"hint\": \"\"}, {\"id\": \"12\", \"text\": \"Content created by others must be attributed, and use of AI must be disclosed. Profiles that only post AI-generated content will not be tolerated.\", \"hint\": \"\"}]",
         "260323.0"
        ],
        [
         "2",
         "infosec.exchange",
         "Infosec Exchange",
         "A Mastodon instance for info/cyber security-minded people.\n",
         "13319",
         "[\"en\"]",
         "[{\"id\": \"1\", \"text\": \"Do unto others as you think they would want done to them.  \", \"hint\": \"\"}, {\"id\": \"2\", \"text\": \"Mark sensitive content with a content warning.  \", \"hint\": \"\"}, {\"id\": \"3\", \"text\": \"Gratuitous obscenity that serves no practical benefit to a discussion is not permitted.\", \"hint\": \"\"}, {\"id\": \"4\", \"text\": \"Illegal content such as child pornography, unsurprisingly, is not permitted\", \"hint\": \"\"}, {\"id\": \"5\", \"text\": \"Spam is not permitted, this includes creating spam accounts that only serve to provide profile links or advertise products and services. \", \"hint\": \"\"}, {\"id\": \"6\", \"text\": \"Hate speech and abusive or threatening behavior is not permitted, specifically that which directed at any gender, nationality, religion, race, age, pizza topping preference, or sexual identity.  One can hate on systemd all day long here.\", \"hint\": \"\"}, {\"id\": \"7\", \"text\": \"Lack of a specific rule against a certain behavior does not indicate acceptance of that behavior.  Each of us has a limited amount of time in this world.  Don't be a jerk.  \", \"hint\": \"\"}, {\"id\": \"8\", \"text\": \"Violating one or more of these rules may result in an immediate, permanent ban without notice or warning.  \", \"hint\": \"\"}, {\"id\": \"9\", \"text\": \"You may not impersonate a person or brand without a clear indication the account is unofficial and/or a parody. Parody accounts are permitted, as are legitimate brand accounts. \", \"hint\": \"\"}, {\"id\": \"11\", \"text\": \"No attacks against (or from) the instance.\\r\\n\\r\\nYou may not do anything which may impact confidentiality, integrity or availability of Infosec.Exchange, the users of the service or their data.\\r\\nFor more details see https://wiki.infosec.exchange/rules/start\", \"hint\": \"\"}, {\"id\": \"12\", \"text\": \"No doxing (aka doxxing) or disclosing personal information without consent and as a means of harassing or causing others to harass another person.\", \"hint\": \"\"}, {\"id\": \"13\", \"text\": \"No harassment in the form of continued engagement after a person has requested contact to stop\", \"hint\": \"\"}, {\"id\": \"14\", \"text\": \"Automated posting:\\r\\n- accounts that post >50% using automation must be labeled as a “bot” in the user profile to help provide a visual indicator to visitors\\r\\n- automated posts must be limited to one post per hour/24 per day with post visibility set to “public”. There is no limit on “unlisted” posts.\", \"hint\": \"\"}, {\"id\": \"15\", \"text\": \"Soliciting or inciting violence or harm against a person or segment of people is not permitted. \", \"hint\": \"\"}]",
         "75725.0"
        ],
        [
         "3",
         "mas.to",
         "mas.to",
         "Hello! mas.to is a fast, up-to-date and fun Mastodon server.",
         "11889",
         "[\"en\"]",
         "[{\"id\": \"9\", \"text\": \"No discrimination, including (but not limited to) racism, sexism, homophobia or transphobia (including targeted misgendering, deadnaming, or promotion of so-called 'conversion therapy').\", \"hint\": \"\"}, {\"id\": \"10\", \"text\": \"No explicit (NSFW) content without content warnings and/or sensitive media markers. Explicit content must not be used in user avatars or header images.\", \"hint\": \"\"}, {\"id\": \"17\", \"text\": \"No harassment of other users on this or other servers.\", \"hint\": \"\"}, {\"id\": \"18\", \"text\": \"No content illegal in the following countries: United Kingdom, Germany\", \"hint\": \"\"}, {\"id\": \"19\", \"text\": \"No incitement of violence or promotion of violent ideologies.\", \"hint\": \"\"}, {\"id\": \"20\", \"text\": \"No disinformation regarding public health issues or political/military campaigns.\", \"hint\": \"\"}, {\"id\": \"21\", \"text\": \"No spam. This includes commercial advertising, promotion of services, and SEO.\", \"hint\": \"\"}, {\"id\": \"22\", \"text\": \"No impersonation of other individuals, public figures or organisations, unless clearly marked as a parody.\", \"hint\": \"\"}, {\"id\": \"23\", \"text\": \"All automated (bot) accounts must enable the bot flag in their account preferences, respect #nobot markers, and post as unlisted unless making less than one post per hour.\", \"hint\": \"\"}]",
         "183608.0"
        ],
        [
         "4",
         "piaille.fr",
         "Piaille",
         "Piaille.fr est un serveur mastodon public francophone accessible à toutes et à tous.\n\nJoignable via Tor ici :\npiaillesmbiv4wjdy7no6r4eijsv6mlsp3cxrpy37dhmose2jwyqdrid.onion",
         "9221",
         "[\"fr\"]",
         "[{\"id\": \"1\", \"text\": \"Conformément aux lois françaises et à la jurisprudence, les contenus pédopornographiques, y compris sous forme dessinée, sont illégaux et seront supprimés, et les comptes concernés bloqués (si distants) ou supprimés (si local).\", \"hint\": \"\"}, {\"id\": \"2\", \"text\": \"La nudité, les contenus érotiques, pornographiques ou visiblement violents doivent être marqués avec le drapeau \\\"sensible / sensitive\\\". Les comptes ne respectant pas cette règle seront supprimés\\r\\n\", \"hint\": \"\"}, {\"id\": \"3\", \"text\": \"La publicité, sous forme répétée et/ou intrusive (faisant mention d'autres utilisateur·ices), n'est pas acceptée. Les comptes concernés seront rendus invisibles aux flux locaux et fédérés, ou supprimés, selon la gravité de la situation.\", \"hint\": \"\"}, {\"id\": \"4\", \"text\": \"Approchez les personnes avec précaution et politesse. Si une personne vous demande d'arrêter de la mentionner ou qu'elle exprime ne plus vouloir participer à une discussion, arrêtez immédiatement.\", \"hint\": \"\"}, {\"id\": \"5\", \"text\": \"Est interdit tout propos reproduisant des comportements oppressifs visibles dans la société ( par exemple : racisme, sexisme, lgbtphobie, validisme )\\r\\n\", \"hint\": \"\"}, {\"id\": \"6\", \"text\": \"Sont interdits les avances ou propositions à caractères sexuels non-sollicitées.\\r\\n\", \"hint\": \"\"}, {\"id\": \"7\", \"text\": \"Sont interdit toute conduite, en public ou en privé, ayant pour but de traquer, harceler ou intimider d'autres personnes.\\r\\n\", \"hint\": \"\"}, {\"id\": \"8\", \"text\": \"Il est interdit de rassembler, publier, disséminer les informations personnelles d'une autre personne sans son autorisation explicite.\\r\\n\", \"hint\": \"\"}, {\"id\": \"9\", \"text\": \"Il est interdit de poursuivre une conversation ou inciter une personne à poursuivre une interaction avec une personne ayant réclamé la cessation de ladite interaction. Cela peut être considéré comme du harcèlement, indépendamment de la confidentialité employée.\\r\\n\", \"hint\": \"\"}, {\"id\": \"10\", \"text\": \"Est interdit toute tentative de retournement d’une oppression systémique. Par exemple : « racisme anti-blanc », « sexisme anti-homme », « hétérophobie », « cisphobie ».\\r\\n\", \"hint\": \"\"}, {\"id\": \"11\", \"text\": \"Il est interdit de publier ou diffuser intentionnellement des propos diffamatoires, calomnieux, ainsi que toute désinformation avec intention de tromper (le gorafi ou the onion sont donc autorisés). Les profils satiriques doivent être indiqués comme tels dans leur nom et description publique.\\r\\n\", \"hint\": \"\"}]",
         "40869.0"
        ],
        [
         "5",
         "hachyderm.io",
         "Hachyderm.io",
         "Hachyderm is a safe space, LGBTQIA+ and BLM, primarily comprised of tech industry professionals world wide. Note that many non-user account types have restrictions - please see our About page.",
         "8937",
         "[\"en\"]",
         "[{\"id\": \"1\", \"text\": \"Don't be a dick.\", \"hint\": \"\"}, {\"id\": \"2\", \"text\": \"No hacking.\", \"hint\": \"\"}, {\"id\": \"3\", \"text\": \"No violence.\", \"hint\": \"\"}, {\"id\": \"4\", \"text\": \"No fascism. \", \"hint\": \"\"}, {\"id\": \"5\", \"text\": \"No colonialism.\", \"hint\": \"\"}, {\"id\": \"6\", \"text\": \"No white supremacy.\", \"hint\": \"\"}, {\"id\": \"7\", \"text\": \"No religious extremism. \", \"hint\": \"\"}, {\"id\": \"9\", \"text\": \"No nationalism.\", \"hint\": \"\"}, {\"id\": \"11\", \"text\": \"No racism.\", \"hint\": \"\"}, {\"id\": \"12\", \"text\": \"No homophobia.\", \"hint\": \"\"}, {\"id\": \"13\", \"text\": \"No transphobia.\", \"hint\": \"\"}, {\"id\": \"14\", \"text\": \"Safe Space: LGTBQIA+\", \"hint\": \"\"}, {\"id\": \"15\", \"text\": \"Safe Space: neurodivergent (ADHD, Autism, etc.) \", \"hint\": \"\"}]",
         "56318.0"
        ],
        [
         "6",
         "troet.cafe",
         "troet.cafe  - Mastodon",
         "Hallo im troet.cafe!\nDies ist die derzeit größte deutschsprachige Mastodon Instanz zum tröten, neue Leute kennenlernen, sich auszutauschen und Spaß zu haben.",
         "6850",
         "[\"de\"]",
         "[{\"id\": \"3\", \"text\": \"Keine Belästigung, Stalking und/oder Doxxing von anderen.\\r\\n\"}, {\"id\": \"4\", \"text\": \"Rassismus, Sexismus oder Beschimpfungen haben hier nichts verloren.\"}, {\"id\": \"5\", \"text\": \"Diskriminierung von Geschlechtern und sexuellen Minderheiten haben hier auch nichts verloren.\"}, {\"id\": \"7\", \"text\": \"Nationalistische Propaganda, Nazi-Symbolismus oder Förderung der Ideologie des Nationalsozialismus ist verboten.\"}, {\"id\": \"8\", \"text\": \"Aufrufe zu Gewalttaten sind verboten.\\r\\n\"}, {\"id\": \"11\", \"text\": \"Nicht markierter sexueller Inhalt und/oder Gewaltdarstellungen in jeglicher Form sind nicht erlaubt.\"}, {\"id\": \"12\", \"text\": \"Bots, die ohne ihre expliziten Anfragen mit Nutzer interagieren, werden gelöscht.\\r\\n\"}, {\"id\": \"13\", \"text\": \"Übermässige Werbung / Spam / Spamflut von wiederholenden Tröts sind nicht erwünscht.\"}, {\"id\": \"14\", \"text\": \"Falls du einen NSFW-Only Account erstellen möchtest, ziehe eventuell eine andere Instanz in Betracht. Wahrscheinlich sind wir leider nicht geeignet für dich.\"}, {\"id\": \"15\", \"text\": \"Allgemeine Verstöße gegen geltendes Recht in Deutschland.\"}, {\"id\": \"17\", \"text\": \"Gezieltes Misgendering, Deadnaming oder Werbung für sogenannte \\\"Konversionstherapien\\\" sind verboten.\"}, {\"id\": \"18\", \"text\": \"Mir ist bewusst, dass ein Verstoß gegen eine der Serverregeln zur Löschung von einzelnen Beiträgen, oder der Stummschaltung/Löschung des gesamten Accounts führen kann und mit dem Anlegen eines Accounts akzeptiere ich alle Regeln. \"}]",
         "46749.0"
        ],
        [
         "7",
         "mastodon.gamedev.place",
         "Gamedev Mastodon",
         "Mastodon server focused on game development and related topics.",
         "5078",
         "[\"en\"]",
         "[{\"id\": \"1\", \"text\": \"Sexually explicit or violent media must be marked as sensitive when posting\", \"hint\": \"\"}, {\"id\": \"2\", \"text\": \"No racism, sexism, homophobia, transphobia, xenophobia, or casteism\", \"hint\": \"\"}, {\"id\": \"3\", \"text\": \"No incitement of violence or promotion of violent ideologies\", \"hint\": \"\"}, {\"id\": \"4\", \"text\": \"No harassment, dogpiling or doxxing of other users\", \"hint\": \"\"}, {\"id\": \"5\", \"text\": \"No content illegal in EU\", \"hint\": \"\"}, {\"id\": \"6\", \"text\": \"Do not share intentionally false or misleading information\", \"hint\": \"\"}]",
         "33441.0"
        ],
        [
         "8",
         "techhub.social",
         "TechHub",
         "A hub primarily for passionate technologists, but everyone is welcome",
         "5031",
         "[\"en\"]",
         "[{\"id\": \"6\", \"text\": \"Violent media must be marked as sensitive when posting.\", \"hint\": \"\"}, {\"id\": \"7\", \"text\": \"No racism, sexism, homophobia, transphobia, xenophobia, or casteism.\", \"hint\": \"\"}, {\"id\": \"8\", \"text\": \"No incitement of violence or promotion of violent ideologies.\", \"hint\": \"\"}, {\"id\": \"9\", \"text\": \"No harassment, dogpiling or doxxing of other users.\", \"hint\": \"\"}, {\"id\": \"10\", \"text\": \"No content illegal in Canada.\", \"hint\": \"\"}, {\"id\": \"11\", \"text\": \"Do not share false or misleading information that may lead to physical harm.\", \"hint\": \"\"}, {\"id\": \"13\", \"text\": \"No spam, no direct advertising selling products or services, no aggressive promotion. If you promote your website, blog, etc do it responsibly and use a description and tags.\", \"hint\": \"\"}, {\"id\": \"14\", \"text\": \"Bots must be marked as Bot in their profile and bots created after Dec 31st 2024 must post in silent mode\", \"hint\": \"\"}, {\"id\": \"15\", \"text\": \"Sexually explicit content is not allowed\", \"hint\": \"\"}, {\"id\": \"16\", \"text\": \"Agree to Code of Conduct (see about section)\", \"hint\": \"\"}]",
         "83099.0"
        ],
        [
         "9",
         "mastodon.nl",
         "Mastodon.nl door Stichting Activityclub",
         "Mastodon voor de Nederlandse community - door de Nederlandse community - in stand gehouden door Stichting Activityclub",
         "4519",
         "[\"en\"]",
         "[{\"id\": \"2\", \"text\": \"Heb respect voor elkaar\"}, {\"id\": \"3\", \"text\": \"Geen links of referenties naar racistische, hatelijke of offensieve content\"}, {\"id\": \"4\", \"text\": \"Geen accounts en toots die nodeloos ongefundeerd zijn\"}, {\"id\": \"5\", \"text\": \"Geen zaken die in Nederland illegaal zijn\"}, {\"id\": \"7\", \"text\": \"Geen reclame en spam\"}, {\"id\": \"9\", \"text\": \"Bij herhaling provoceren of uitlokken (trolling) is niet toegestaan.\"}]",
         "43744.0"
        ],
        [
         "10",
         "social.tchncs.de",
         "Mastodon",
         "A friendly server from Germany – which tends to attract techy people, but welcomes everybody. This is one of the oldest Mastodon instances.",
         "3697",
         "[\"en\"]",
         "[{\"id\": \"1\", \"text\": \"Be nice to each other\", \"hint\": \"\"}, {\"id\": \"2\", \"text\": \"Do not publish advertisements\", \"hint\": \"\"}, {\"id\": \"3\", \"text\": \"Do not publish conspiracy myths\", \"hint\": \"\"}, {\"id\": \"4\", \"text\": \"Do not publish content illegal in Germany and/or France, such as holocaust denial or Nazi symbolism\", \"hint\": \"\"}, {\"id\": \"5\", \"text\": \"Do not publish content promoting the ideology of National Socialism\", \"hint\": \"\"}, {\"id\": \"6\", \"text\": \"Do not publish content that is hateful towards specific individuals or groups, or intended to cause or incite harm\", \"hint\": \"\"}, {\"id\": \"7\", \"text\": \"Do not exclusively crosspost from other platforms\", \"hint\": \"\"}]",
         "22825.0"
        ],
        [
         "11",
         "kolektiva.social",
         "kolektiva.social",
         "Kolektiva is an anti-colonial anarchist collective that offers federated social media to anarchist collectives and individuals in the fediverse. For the social movements and liberation!",
         "3405",
         "[\"en\"]",
         "[{\"id\": \"1\", \"text\": \"No racism, misogyny, homo/transphobia, ableism or other oppressive behaviour. \", \"hint\": \"\"}, {\"id\": \"2\", \"text\": \"No right wing bullshit and no authoritarian left wing apologetics. \", \"hint\": \"\"}, {\"id\": \"3\", \"text\": \"No harassment.\", \"hint\": \"\"}, {\"id\": \"4\", \"text\": \"No electoral propaganda/campaigning.\", \"hint\": \"\"}, {\"id\": \"5\", \"text\": \"No misinformation or conspiracy theories.\", \"hint\": \"\"}, {\"id\": \"6\", \"text\": \"No promotion of capitalism, meritocracy or a commercial enterprise.\", \"hint\": \"\"}, {\"id\": \"7\", \"text\": \"No spam.\", \"hint\": \"\"}, {\"id\": \"8\", \"text\": \"No sexualized images without consent.\", \"hint\": \"\"}, {\"id\": \"9\", \"text\": \"No glorification of nation states or militarism.\", \"hint\": \"\"}, {\"id\": \"10\", \"text\": \"Propaganda from the USSR, CCP, or DPRK is not allowed.\", \"hint\": \"\"}]",
         "40004.0"
        ],
        [
         "12",
         "norden.social",
         "norden.social",
         "Moin! Dies ist die Mastodon-Instanz für Nordlichter, Schnacker und alles dazwischen. Folge dem Leuchtturm.",
         "3383",
         "[\"en\"]",
         "[{\"id\": \"12\", \"text\": \"Respektvoller Umgang\", \"hint\": \"Sei freundlich und respektvoll. Persönliche Angriffe, Beleidigungen oder herablassendes Verhalten werden nicht toleriert.\"}, {\"id\": \"13\", \"text\": \"Keine Diskriminierung\", \"hint\": \"Diskriminierung oder Hass aufgrund von Herkunft, Geschlecht, sexueller Orientierung, Geschlechtsidentität, Behinderung, Einschränkungen (Ableismus), Religion oder anderen persönlichen Merkmalen sind verboten.\"}, {\"id\": \"14\", \"text\": \"Einhaltung von Gesetzen und Urheberrechten\", \"hint\": \"Veröffentliche keine illegalen Inhalte oder Materialien, die Urheberrechte verletzen. Solche Beiträge werden entfernt, und wiederholte Verstöße können zur Kontosperrung führen.\"}, {\"id\": \"15\", \"text\": \"Schutz der Privatsphäre\", \"hint\": \"Teile keine persönlichen Daten ohne ausdrückliche Zustimmung der betroffenen Personen. Überlege sorgfältig, welche Informationen du öffentlich machst.\"}, {\"id\": \"16\", \"text\": \"Kennzeichnung anstößiger und nicht jugendfreier Inhalte\", \"hint\": \"Markiere Inhalte, die als anstößig oder jugendgefährdend gelten, mit einer Inhaltswarnung und (zum Beispiel per Hashtag) als “NSFW” (Not Safe for Work). Beachte, dass unsere Instanz möglicherweise nicht für Accounts geeignet ist, die ausschließlich jugendgefährende Inhalte teilen.\"}, {\"id\": \"17\", \"text\": \"Automatisierte Beiträge\", \"hint\": \"Automatisierte Inhalte wie Bots oder Crossposts müssen als “Öffentlich (Still)” veröffentlicht werden. Konten, die ohne aktive Teilnahme ausschließlich automatisierte Inhalte posten, können entfernt werden.\"}, {\"id\": \"18\", \"text\": \"Keine Belästigung oder Spam\", \"hint\": \"Belästigung, Mobbing, unerwünschte Kontaktaufnahmen, Spam oder die Verbreitung von Schadsoftware sind untersagt.\"}, {\"id\": \"19\", \"text\": \"Verbot extremistischer Inhalte\", \"hint\": \"Inhalte mit Nazi-Symbolik, extremistischer Propaganda oder Hassrede sind strengstens verboten.\"}, {\"id\": \"20\", \"text\": \"Authentizität bewahren\", \"hint\": \"Erstelle keine Fake-Profile und gib dich nicht als jemand anderes aus.\"}, {\"id\": \"21\", \"text\": \"Keine absichtliche Verbreitung von Falschinformationen\", \"hint\": \"Das bewusste Verbreiten von falschen Informationen, die der Community oder der Gesellschaft schaden könnten, ist verboten.\"}]",
         "13802.0"
        ],
        [
         "13",
         "mastodonapp.uk",
         "Mastodon App UK",
         "UK Hosted and Managed Mastodon Instance. General communal space for discussion, everyone welcome! Now with a 1000 character limit for posts!",
         "3227",
         "[\"en\"]",
         "[{\"id\": \"1\", \"text\": \"Sexually explicit or violent media must be marked as sensitive & content warned when posting\"}, {\"id\": \"2\", \"text\": \"Be respectful. Racism, sexism, homophobia, transphobia (including targeted misgendering, deadnaming, or promotion of so-called \\\"conversion therapy\\\"), xenophobia, and other forms of hate and discrimination are not welcome. Your behaviour elsewhere may also be considered if brought to our attention. \"}, {\"id\": \"3\", \"text\": \"No incitement of violence or promotion of discriminatory or violent ideologies\"}, {\"id\": \"4\", \"text\": \"No spam, harrassment, dogpiling or doxxing of other users, this includes mass and spam reporting\"}, {\"id\": \"5\", \"text\": \"No content illegal in The United Kingdom\"}, {\"id\": \"6\", \"text\": \"No intentionally false or misleading information. By extension, do not pose as persons of interest. \"}, {\"id\": \"7\", \"text\": \"Controversial, reactionary, NSFW, and satirical or similar content may be removed if not obviously Content Warned where appropriate.\"}, {\"id\": \"9\", \"text\": \"No promotion of gambling, Crypto, NFTs, anti-vaccination, self-harm, terrorism, illegal activities, Abuse/exploitation, or Violence.\"}, {\"id\": \"10\", \"text\": \"The sites staff team will ultimately have the final say on any and all moderation actions.\"}]",
         "80374.0"
        ],
        [
         "14",
         "universeodon.com",
         "Universeodon Social Media",
         "Be one with the #fediverse. Join millions of humans building, creating, and collaborating on Mastodon Social Network. Supports 1000 character posts.",
         "3157",
         "[\"en\"]",
         "[{\"id\": \"16\", \"text\": \"Sexually explicit or violent media must be marked as sensitive & content warned when posting\"}, {\"id\": \"17\", \"text\": \"Be respectful. Racism, sexism, homophobia, transphobia (including targeted misgendering, deadnaming, or promotion of so-called \\\"conversion therapy\\\"), xenophobia, and other forms of hate and discrimination are not welcome. Your behaviour elsewhere may also be considered if brought to our attention. \"}, {\"id\": \"18\", \"text\": \"No incitement of violence or promotion of discriminatory or violent ideologies\"}, {\"id\": \"19\", \"text\": \"No spam, harrassment, dogpiling or doxxing of other users, this includes mass and spam reporting\"}, {\"id\": \"20\", \"text\": \"No content illegal in The United Kingdom\"}, {\"id\": \"21\", \"text\": \"No intentionally false or misleading information. By extension, do not pose as persons of interest. \"}, {\"id\": \"22\", \"text\": \"Controversial, reactionary, NSFW, and satirical or similar content may be removed if not obviously Content Warned where appropriate.\"}, {\"id\": \"23\", \"text\": \"No promotion of gambling, Crypto, NFTs, anti-vaccination, self-harm, terrorism, illegal activities, Abuse/exploitation, or Violence.\"}, {\"id\": \"24\", \"text\": \"The sites staff team will ultimately have the final say on any and all moderation actions.\"}]",
         "81677.0"
        ],
        [
         "15",
         "mamot.fr",
         "Mamot - Le Mastodon de La Quadrature du Net ",
         "Mamot.fr est un serveur Mastodon francophone, géré par La Quadrature du Net.",
         "3122",
         "[\"en\"]",
         "[{\"id\": \"1\", \"text\": \"Interdiction de la pédopornographique\", \"hint\": \"Conformément aux lois françaises et à la jurisprudence, les contenus pédopornographiques, y compris sous forme dessinée, sont illégaux et seront supprimés, et les comptes concernés bloqués (si distants) ou supprimés (si local).\"}, {\"id\": \"2\", \"text\": \"Discrétion des médias pornographique violent\", \"hint\": \"Les contenus pornographiques ou visiblement violents doivent être marqués avec le drapeau \\\"sensible / sensitive\\\". Les comptes ne respectant pas cette règle seront rendus invisibles aux flux locaux et fédérés. \"}, {\"id\": \"3\", \"text\": \"Interdiction de la Publicité\", \"hint\": \"La publicité, sous forme répétée et/ou intrusive (faisant mention d'autres utilisateur·ices), n'est pas acceptée. Les comptes concernés seront rendus invisibles aux flux locaux et fédérés, ou supprimés, selon la gravité de la situation. \"}, {\"id\": \"4\", \"text\": \"Politesse des discussions\", \"hint\": \"Approchez les personnes avec précaution et politesse. Si une personne vous demande d'arrêter de la mentionner ou qu'elle exprime ne plus vouloir participer à une discussion, arrêtez immédiatement. \"}, {\"id\": \"5\", \"text\": \"Interdiction des propos haineux\", \"hint\": \"Sont interdits les propos, images ou vidéos racistes, sexistes, homophobes ou transphobes.\"}, {\"id\": \"7\", \"text\": \"Interdiction du harcèlement\", \"hint\": \"Sont interdit toute conduite, en public ou en privé, ayant pour but de traquer, harceler ou intimider d'autres personnes, sexuellement ou non.\"}, {\"id\": \"8\", \"text\": \"Interdiction de la révélations confidentielles\", \"hint\": \"Il est interdit de rassembler, publier, disséminer les informations personnelles d'une autre personne sans son autorisation explicite.\"}, {\"id\": \"9\", \"text\": \"Interdiction de forcer une conversation\", \"hint\": \"Il est interdit de poursuivre une conversation ou inciter une personne à poursuivre une interaction avec une personne ayant réclamé la cessation de ladite interaction peut être considéré comme du harcèlement, indépendamment de la confidentialité employée.\"}, {\"id\": \"10\", \"text\": \"Interdiction de retournement d'une oppression systémique\", \"hint\": \"Est interdit toute tentative de retournement d’une oppression systémique. Par exemple : « racisme anti-blanc », « sexisme anti-homme », « hétérophobie », « cisphobie ».\"}, {\"id\": \"11\", \"text\": \"Interdiction de la diffamation & calomnie\", \"hint\": \"Il est interdit publier ou diffuser intentionnellement des propos diffamatoires, calomnieux. Cela concerne aussi toute désinformation avec intention de tromper (le gorafi ou the onion sont donc autorisés).\"}, {\"id\": \"12\", \"text\": \"Interdiction du partage d'informations à véracité douteuse avec intention de nuire\", \"hint\": \"Il est interdit de partager des informations à véracité douteuse avec intention de nuire. Veilliez à sourcer et à vérifier les informations que vous postez, notamment si elles peuvent nuire à la santé, l'intégrité ou à la sécurité des personnes. Une exigence particulière est apportée aux informations liées à la santé ou l'éducation. \"}, {\"id\": \"13\", \"text\": \"Attribution : Il est encouragé d’attribuer l’auteur·ce ayant crée le média ou contenu que vous postez\", \"hint\": \"Cette mesure est surtout destinée à pouvoir généré un avertissement, sans actions, pour prévenir la génération de contenu par IA qui puisse spammer le serveur et le fédiverse.\"}, {\"id\": \"14\", \"text\": \"Création humaine : Il est découragé d’utiliser des outils de génération procédurale ( IA ), et si c’est le cas, ça doit être mentionné\", \"hint\": \"Cette mesure est surtout destinée à pouvoir généré un avertissement, sans actions, pour prévenir la génération de contenu par IA qui puisse spammer le serveur et le fédiverse.\"}, {\"id\": \"15\", \"text\": \"Interdiction des arnaques. Il est interdit de faire la promotion d’arnaques du type cryptomonnaie, prêts, ventes illégales, soins médicaux, mais sans y être limité.\", \"hint\": \"\\r\\n\\r\\n    Cette mesure permet de supprimer les comptes qui font la promo de scams, de soins douteux, et de manière générale qui sont dans la prédation économique.\\r\\n\"}]",
         "39731.0"
        ],
        [
         "16",
         "nrw.social",
         "NRW.social",
         "Wir sind eine freundliche Mastodon Instanz aus Nordrhein-Westfalen. Ob NRW'ler oder NRW-Sympathifanten, jeder ist hier willkommen.",
         "2756",
         "[\"de\"]",
         "[]",
         "18579.0"
        ],
        [
         "17",
         "c.im",
         "C.IM",
         "C.IM is a general, mainly English-speaking Mastodon instance.",
         "2688",
         "[\"en\"]",
         "[{\"id\": \"11\", \"text\": \"Respect the laws of the Netherlands and the Isle of Man, including those related to hate speech and defamation.\", \"hint\": \"\"}, {\"id\": \"12\", \"text\": \"Threatening, abusive, intolerant or illegal behavior may lead to moderation and/or further measures. We have a zero tolerance approach to racism, sexism, homophobia and transphobia. Moderation decisions are final. \", \"hint\": \"\"}, {\"id\": \"13\", \"text\": \"The Content Warning flag should be used for NSFW content, and NSFW media should be marked as sensitive.\", \"hint\": \"\"}, {\"id\": \"14\", \"text\": \"Account registrations are monitored and accounts considered spam (including commercial advertising, political campaigning/propaganda, duplicate accounts or impersonating legal entities) will be moderated or removed.\", \"hint\": \"\"}, {\"id\": \"15\", \"text\": \"Do not harass or bully other users.\", \"hint\": \"\"}, {\"id\": \"16\", \"text\": \"Do not share illegal or copyrighted content.\", \"hint\": \"\"}, {\"id\": \"17\", \"text\": \"Do not spam or engage in any form of malicious activity.\", \"hint\": \"\"}, {\"id\": \"18\", \"text\": \"Keep discussions civil and respectful, and refrain from using derogatory language or engaging in personal attacks.\", \"hint\": \"\"}, {\"id\": \"19\", \"text\": \"Do not reveal personal information about other people without their consent.\", \"hint\": \"\"}, {\"id\": \"20\", \"text\": \"Use appropriate tags and content warnings when posting potentially sensitive or triggering content.\", \"hint\": \"\"}, {\"id\": \"21\", \"text\": \"If you see a violation of these rules, report it to the moderation team.\", \"hint\": \"\"}, {\"id\": \"22\", \"text\": \"To use our service, you are at least 18 years old.\", \"hint\": \"\"}]",
         "67782.0"
        ],
        [
         "18",
         "mstdn.ca",
         "Mastodon Canada",
         "A community for Canadians, First Nations, Metis, and Inuit Peoples of the great white north.",
         "2670",
         "[\"en\"]",
         "[{\"id\": \"1\", \"text\": \"No toxic and hateful speech.\", \"hint\": \"\"}, {\"id\": \"3\", \"text\": \"No incitement of violence and no promotion of misleading or violent ideologies.\", \"hint\": \"\"}, {\"id\": \"4\", \"text\": \"No harassment, dogpiling, or unwanted advances.\", \"hint\": \"\"}, {\"id\": \"5\", \"text\": \"No doxxing of other users.\", \"hint\": \"\"}, {\"id\": \"6\", \"text\": \"No content illegal in Canada or copyrighted content that you don't own rights to.\", \"hint\": \"\"}, {\"id\": \"7\", \"text\": \"Sexually explicit or violent media must be marked appropriately.\", \"hint\": \"\"}, {\"id\": \"8\", \"text\": \"No spamming.\\r\\nExcessive posting, boosting, advertising or mass-marketing posts will be actioned accordingly and based on intent.\", \"hint\": \"\"}, {\"id\": \"9\", \"text\": \"Be yourself.\\r\\nAccounts intended to impersonate or parody are not permitted, and those found to be directly misrepresenting themselves as another person or entity will be actioned accordingly.\", \"hint\": \"\"}, {\"id\": \"10\", \"text\": \"Agree to the Terms of Service and Code of Conduct.\", \"hint\": \"\"}]",
         "35494.0"
        ],
        [
         "19",
         "sfba.social",
         "SFBA.social",
         "A Mastodon instance for the San Francisco Bay Area. Come on in and join us!",
         "2269",
         "[\"en\"]",
         "[{\"id\": \"28\", \"text\": \"Do not use slurs or racist, sexist, homophobic, transphobic, ableist or otherwise discriminatory or hateful jokes or language; or promote white supremacy, anti-Semitism, transphobia, casteist, or other hateful ideologies.\", \"hint\": \"\"}, {\"id\": \"29\", \"text\": \"Do not post content that is illegal in the USA or California.\", \"hint\": \"This includes unlicensed media. We will remove copyrighted content in response to a valid DMCA notice per our policy.\"}, {\"id\": \"30\", \"text\": \"Do not harass anyone, participate in group harassment of anyone, or otherwise engage in name calling or personal attacks.\", \"hint\": \"\"}, {\"id\": \"31\", \"text\": \"Do not post or threaten to post other people’s personally identifying information (“doxxing”).\", \"hint\": \"\"}, {\"id\": \"32\", \"text\": \"Do not tone police.\", \"hint\": \"\"}, {\"id\": \"33\", \"text\": \"Do not “shitpost” hateful content\", \"hint\": \"While humorous posts are allowed, even encouraged, “shitposting” is not an exception to rules 1 or 3. There are no ironic slurs.\"}, {\"id\": \"34\", \"text\": \"Do not sell or promote cryptocurrencies or NFTs.\", \"hint\": \"\"}, {\"id\": \"62\", \"text\": \"Do not litigate moderation decisions on the timeline. \", \"hint\": \"You can direct message @moderators with concerns.\"}, {\"id\": \"63\", \"text\": \"Mark content that contains nudity, gore, violence, etc. as sensitive and clearly label it with a content warning and/or hashtag.\", \"hint\": \"\"}, {\"id\": \"64\", \"text\": \"Do not post spam.\", \"hint\": \"There is additional information about what SFBA.social considers spam on the information hub: https://hub.sfba.social/2024/07/05/sfba-social-spam-policy/\"}, {\"id\": \"65\", \"text\": \"Organizations must be based in the SF Bay Area.\", \"hint\": \"See our Corporate and Organization policy for more details.\\r\\nhttps://hub.sfba.social/governance/corporate-and-organization-accounts-on-sfba-sites/\"}]",
         "39192.0"
        ],
        [
         "20",
         "occm.cc",
         "자커마스 v3",
         "자커마스는 자작 캐릭터 커뮤니티, 즉 자캐커뮤를 위한 마스토돈 인스턴스입니다.\n자캐커뮤에 특화된 서버 설정을 제공하며, 한국어 검색을 지원합니다.",
         "2252",
         "[\"ko\"]",
         "[{\"id\": \"1\", \"text\": \"자커마스는 자작 캐릭터 커뮤니티를 위한 마스토돈 인스턴스입니다. 이외 목적의 계정은 사전에 승인받은 경우를 제외하고 7월 11일 오후 10시 이후 금지됩니다.\", \"hint\": \"\"}, {\"id\": \"2\", \"text\": \"19세 이상 이용가 내용을 민감한 콘텐츠 체크나 CW 없이 업로드할 수 없습니다.\", \"hint\": \"\"}, {\"id\": \"3\", \"text\": \"모든 종류의 혐오 발언을 사용할 수 없습니다. 불가피하게 사용시 열람 주의(CW) 기능을 사용해야 하며, 로컬/연합 타임라인에 노출되지 않도록 프라이버시 설정을 공개로 설정해서는 안됩니다.\", \"hint\": \"\"}, {\"id\": \"4\", \"text\": \"기본 공개 범위는 비표시를 권장합니다.\", \"hint\": \"\"}, {\"id\": \"5\", \"text\": \" 공개 타임라인에는 커뮤니티 홍보지 등 누구나 봐야 하는 내용만 업로드 가능합니다. 이외 업로드시 계정 침묵 처리 등 조치가 이루어질 수 있습니다.\", \"hint\": \"\"}, {\"id\": \"6\", \"text\": \"타 인스턴스와 교류는 인스턴스 특징상 권장하지 않습니다. 기본적으로 차단하지는 않으나 특정 인스턴스의 요청이 있다면(공개 타임라인 오염 등) 인스턴스 단위 차단이 이루어질 수 있습니다.\", \"hint\": \"\"}, {\"id\": \"7\", \"text\": \"일회용 이메일로 가입을 지양합니다. 추후 계정을 찾게 될 수 없게 될수 있으며 이메일 확인시 인증이 불필요한 특성상 타인이 계정 정보를 탈취할 수 있습니다.\", \"hint\": \"\"}, {\"id\": \"10\", \"text\": \"총괄 계정은 공지 계정으로 DM(개인적인 멘션)을 보내 주시면 총괄 권한을 부여해 드립니다. 커뮤니티 총괄 계정은 초대 링크를 생성할 수 있습니다.\", \"hint\": \"\"}]",
         "9285.0"
        ],
        [
         "21",
         "mastodon-japan.net",
         "Mastodon Japan Server",
         "こちらはMastodon Japan Server、日本居住および日本語話者向けの汎用サーバーです。\nただし日本国外居住者及び非日本語話者を除外するものではありません。ルール（利用規約）をご確認の上で平和に遊ぼう。",
         "2241",
         "[\"ja\"]",
         "[{\"id\": \"2\", \"text\": \"日本国内法は守ってください\", \"hint\": \"\"}, {\"id\": \"3\", \"text\": \"露骨な性表現や暴力的なメディアの禁止\", \"hint\": \"\"}, {\"id\": \"4\", \"text\": \"差別行為・暴力行為を行わないこと\", \"hint\": \"\"}, {\"id\": \"5\", \"text\": \"他のユーザーに対する嫌がらせ行為の禁止\", \"hint\": \"\"}]",
         "17108.0"
        ],
        [
         "22",
         "mastodon.scot",
         "mastodon.scot",
         "A server intended for (but not limited to) users in Scotland or who identify as Scottish.",
         "2178",
         "[\"en\"]",
         "[{\"id\": \"10\", \"text\": \"No discrimination, including (but not limited to) racism, sexism, homophobia or transphobia (including targeted misgendering, deadnaming, or promotion of so-called 'conversion therapy').\", \"hint\": \"\"}, {\"id\": \"11\", \"text\": \"No explicit (NSFW) content without content warnings and/or sensitive media markers. Explicit content must not be used in user avatars or header images.\", \"hint\": \"\"}, {\"id\": \"18\", \"text\": \"No harassment of other users on this or other servers.\", \"hint\": \"\"}, {\"id\": \"19\", \"text\": \"No content illegal in the following countries: United Kingdom, Germany\", \"hint\": \"\"}, {\"id\": \"20\", \"text\": \"No incitement of violence or promotion of violent ideologies.\", \"hint\": \"\"}, {\"id\": \"21\", \"text\": \"No disinformation regarding public health issues or political/military campaigns.\", \"hint\": \"\"}, {\"id\": \"22\", \"text\": \"No spam. This includes commercial advertising, promotion of services, and SEO.\", \"hint\": \"\"}, {\"id\": \"23\", \"text\": \"No impersonation of other individuals, public figures or organisations, unless clearly marked as a parody.\", \"hint\": \"\"}, {\"id\": \"24\", \"text\": \"All automated (bot) accounts must enable the bot flag in their account preferences, respect #nobot markers, and post as unlisted unless making less than one post per hour.\", \"hint\": \"\"}]",
         "29106.0"
        ],
        [
         "23",
         "sueden.social",
         "sueden.social",
         "Eine Community für alle, die sich dem Süden hingezogen fühlen. Wir können alles außer Hochdeutsch.",
         "1993",
         "[\"de\"]",
         "[{\"id\": \"1\", \"text\": \"Sei kein Arschloch. Du hast eine Meinung? Das ist gut aber bitte beleidige niemanden bei deinen Äußerungen.\", \"hint\": \"\"}, {\"id\": \"2\", \"text\": \"Diskriminiere niemanden. Rassistische, sexistische, frauenfeindliche, homophobe, antisemitische und andere menschenfeindliche Beiträge sind bei uns verboten!\", \"hint\": \"\"}, {\"id\": \"3\", \"text\": \"Halte dich an Gesetze. Ganz einfach. Auch im Internet kann man angezeigt werden.\", \"hint\": \"\"}, {\"id\": \"4\", \"text\": \"Du bist für deine Privatsphäre verantwortlich. Wenn du nicht willst, dass etwas im Internet über dich steht, veröffentliche es nicht.\", \"hint\": \"\"}, {\"id\": \"5\", \"text\": \"Wir legen Wert auf eine gesunde Kommunikation untereinander. Falls du deinen Account nur benutzt um Links zu teilen und ohne Rücksicht Crossposter verwendest, oder für Referral-Link nutzt, werden wir Admins uns bei dir melden.\", \"hint\": \"\"}, {\"id\": \"6\", \"text\": \"Falls du einen NSFW-Only Account erstellen möchtest, ziehe eventuell eine andere Instanz in Betracht. Wahrscheinlich sind wir leider nicht geeignet für dich.\", \"hint\": \"\"}, {\"id\": \"7\", \"text\": \"Wir dulden keine Belästigung, einschließlich Brigading, Dogpiling oder jede andere Form der Kontaktaufnahme mit einem Nutzer, der angegeben hat, dass er nicht kontaktiert werden möchte.\", \"hint\": \"\"}, {\"id\": \"8\", \"text\": \"\\r\\nWir dulden keine gewalttätige nationalistische Propaganda, keine Nazi-Symbolik und keine Förderung der Ideologie des Nationalsozialismus.\\r\\n\", \"hint\": \"\"}, {\"id\": \"9\", \"text\": \"Inhalte, die in Deutschland illegal sind, werden gelöscht und können zur sofortigen Sperrung des Kontos führen.\", \"hint\": \"\"}, {\"id\": \"10\", \"text\": \"Mach dich nicht lustig über andere und sei nicht herablassend. Du möchtest auch mit Respekt behandelt werden. Beachte, dass sich Ironie, Sarkasmus oder ähnliche Ausdrucksformen nicht gut in die Schriftsprache übertragen lassen und dazu neigen, Diskussionen oder Missverständnisse zu eskalieren.\", \"hint\": \"\"}, {\"id\": \"12\", \"text\": \"Automatisierte Beiträge sollten als \\\"Nicht gelistet\\\" gepostet werden (d. h. sie sind sichtbar, aber nicht in der lokalen Zeitleiste). Dies gilt auch für Bots, Feed-Poster, Twitter-\\\"Retweets\\\" und Twitter-Crossposts. Crossposter-Konten, die sich nicht aktiv beteiligen, können von uns entfernt werden.\", \"hint\": \"\"}, {\"id\": \"15\", \"text\": \"Wir dulden keine Verschwörungstheorien, die das oben genannte (und/oder ähnliche) Verhalten unterstützen oder dazu führen.\", \"hint\": \"\"}]",
         "14611.0"
        ],
        [
         "24",
         "ohai.social",
         "ohai.social",
         "A cozy, fast and secure Mastodon server where everyone is welcome. Run by the folks at ohai.is.",
         "1751",
         "[\"en\"]",
         "[{\"id\": \"1\", \"text\": \"We do not tolerate discriminatory behavior and content promoting or advocating the oppression of members of marginalized groups.\", \"hint\": \"\"}, {\"id\": \"8\", \"text\": \"We do not tolerate threatening behavior, stalking, doxxing, or harassment (including brigading, dogpiling, or any other form of contact with a user who has stated that they do not wish to be contacted).\", \"hint\": \"\"}, {\"id\": \"11\", \"text\": \"We do not tolerate violent nationalist propaganda, Nazi symbolism or promoting the ideology of National Socialism.\", \"hint\": \"\"}, {\"id\": \"12\", \"text\": \"We do not tolerate conspiracy narratives or other reactionary myths supporting or leading to the above-mentioned (and/or similar) behavior.\", \"hint\": \"\"}, {\"id\": \"15\", \"text\": \"All explicit (NSFW) content must be marked as sensitive and have a content warning. Explicit content must not be used in user avatars or header images.\", \"hint\": \"\"}, {\"id\": \"16\", \"text\": \"Content that is illegal in Germany will be deleted and may lead to immediate account suspension.\", \"hint\": \"\"}]",
         "40004.0"
        ],
        [
         "25",
         "mastodon.ie",
         "mastodon.ie",
         "Irish Mastodon - run from Ireland, we welcome all who respect the community rules and members.",
         "1742",
         "[\"en\"]",
         "[{\"id\": \"1\", \"text\": \"Don't Be A Ballox\", \"hint\": \"\"}, {\"id\": \"2\", \"text\": \"No bigotry, racism, xenophobia, sexism, homophobia, transphobia, anti-Traveller speech or any hate speech.\", \"hint\": \"\"}, {\"id\": \"5\", \"text\": \" No unsolicited DMs \", \"hint\": \"\"}, {\"id\": \"8\", \"text\": \"We have Threads blocked, just so you know\", \"hint\": \"\"}, {\"id\": \"9\", \"text\": \"We operate on a \\\"3 strikes and you're out\\\" basis.\", \"hint\": \"\"}]",
         "21213.0"
        ],
        [
         "26",
         "defcon.social",
         "DEF CON Social",
         "DEFCON.social = The intersection of technology and society, a community for artists, hackers, policy, academics, researchers, infosec, activists & cyberpunks",
         "1730",
         "[\"en\"]",
         "[{\"id\": \"21\", \"text\": \"No toxic behavior\", \"hint\": \"No racism, sexism, homophobia, transphobia, ableism, xenophobia, casetism, supremacy, and edgelord behavior such as trolling, dogpiling, sealioning, harassment, doxxing, incitement to violence. Do not make users feel uncomfortable, unwelcome, or afraid\"}, {\"id\": \"25\", \"text\": \"Don't break laws here\", \"hint\": \"Don't ask others to break laws here, or admit to breaking laws\"}, {\"id\": \"26\", \"text\": \"Pornography, Nudity, Gore, illegal content, spam & commercial advertising are forbidden\", \"hint\": \"Promoting your own projects in moderation is OK\"}, {\"id\": \"28\", \"text\": \"No impersonation or undeclared automated accounts\", \"hint\": \"Don't claim to be Taylor Swift when you aren't. Mark your account as type \\\"Bot\\\" if you are automatically posting\"}, {\"id\": \"30\", \"text\": \"You must be at least 13 years old\", \"hint\": \"We want to comply with regulations such as the US Child Online Protection Act (COPA), the California Consumer Privacy Act (CCPA), and the UK Age-Appropriate Design Code (AADC)\"}]",
         "15536.0"
        ],
        [
         "27",
         "hessen.social",
         "hessen.social",
         "hessen.social ist die Mastodongemeinschaft für alle Hessen:innen und alle, die sich Hessen verbunden fühlen",
         "1558",
         "[\"de\"]",
         "[{\"id\": \"1\", \"text\": \"Sei immer freundlich und höflich. Behandle andere mit Respekt.\", \"hint\": \"\"}, {\"id\": \"2\", \"text\": \"Belästige und beleidige niemanden und unterlasse persönliche Angriffe.Weder allein noch als Gruppe. Das Veröffentlichen oder die Androhung von Veröffentlichung von personen-identifizierenden Informationen (\\\"doxing\\\") wird als Belästigung ausgelegt.\", \"hint\": \"\"}, {\"id\": \"3\", \"text\": \"Kontaktiere keine Nutzer:innen die angegeben haben, dass sie nicht kontaktiert werden möchten.\", \"hint\": \"\"}, {\"id\": \"4\", \"text\": \"Die Nutzung oder Befürwortung von rassistischer, sexistischer, homophober, transphober, behindertenfeindlicher und anderweitig diskriminierender oder hasserfüllter Sprache wird nicht geduldet\", \"hint\": \"\"}, {\"id\": \"5\", \"text\": \"Verharmlosende oder gutheißende Inhalte zu Weißer Vorherrschaft, Antisemitismus, Transphobie oder anderen hasserfüllten Ideologien werden nicht geduldet.\", \"hint\": \"\"}, {\"id\": \"6\", \"text\": \"Nochmal ganz deutlich: Wir dulden keine nationalistische Propaganda, keine Nazi-Symbolik und keine Förderung der Ideologie des Nationalsozialismus!\", \"hint\": \"\"}, {\"id\": \"7\", \"text\": \"Poste keine pornographischen oder sexualisierten Inhalte. Dazu gehören auch Witze und Kommentare.\", \"hint\": \"\"}, {\"id\": \"8\", \"text\": \"Halte dich an die in Deutschland geltenden Gesetze (verbietet u.a. auch gewaltverherrlichende Inhalte).\", \"hint\": \"\"}, {\"id\": \"9\", \"text\": \"Veröffentliche keinen Spam oder kommerzielle Werbung. Kommerzielle Werbung in diesem Zusammenhang bedeutet, wenn die veröffentlichten Inhalte keinen persönlichen Bezug aufweisen und eindeutig dazu gedacht sind, direkt oder indirekt Geld zu erwirtschaften.\", \"hint\": \"\"}, {\"id\": \"10\", \"text\": \"Nutze Inhaltswarnungen für Posts und NSFW-Marker bei Medien im Falle von kontroversen, aufrührerischen oder triggernden Themen\", \"hint\": \"\"}, {\"id\": \"11\", \"text\": \"Keine Killerphrasen, Scheinargumente, schwarze Rhetorik oder Sophismus\", \"hint\": \"\"}, {\"id\": \"12\", \"text\": \"Diskutiere Moderationsentscheidungen nicht zuerst in öffentlichen Toots\", \"hint\": \"\"}, {\"id\": \"13\", \"text\": \"Nachgewiesene Falschinformationen/Fakenews (inkl. Verschwörungstheorien) sind hier unerwünscht\", \"hint\": \"\"}]",
         "10172.0"
        ],
        [
         "28",
         "mastodon.eus",
         "Mastodon.eus",
         "Mastodon.eus euskara eta euskal kulturaren komunitatearentzat sortutako Mastodon instantzia bat da.\n\n2018an hauek sortua: Azkue Fund, Dinahosting, iametza, Laborategia.eus, PuntuEUS eta Talaios Koop",
         "1287",
         "[\"eu\"]",
         "[{\"id\": \"1\", \"text\": \"Mastodon.eus euskaraz bizi da. Ahal bezain beste euskara erabili.\", \"hint\": \"\"}, {\"id\": \"2\", \"text\": \"Debekatuak daude: faxismoa, arrazakeria, sexismoa, xenofobia, homofobia, transfobia.\", \"hint\": \"\"}, {\"id\": \"3\", \"text\": \"Ez inor iraindu edo jazarri.\", \"hint\": \"\"}]",
         "5562.0"
        ],
        [
         "29",
         "social.linux.pizza",
         "Linux.Pizza",
         "A instance dedicated - but not limited - to people with an interest in the GNU+Linux ecosystem and/or general tech. Sysadmins to enthusiasts, creators to movielovers - Welcome!\n\n",
         "1252",
         "[\"en\"]",
         "[{\"id\": \"1\", \"text\": \"Dont post NSFW without CW\", \"hint\": \"\"}, {\"id\": \"2\", \"text\": \"Dont post ads without permission\\r\\n\", \"hint\": \"\"}, {\"id\": \"3\", \"text\": \"Dont promote violence, racism and/or discrimination towards other people of other ethnical backgrounds or sexual orientation (hate speech)\", \"hint\": \"\"}, {\"id\": \"4\", \"text\": \"We dont want crypto-ads here aswell.\", \"hint\": \"\"}, {\"id\": \"5\", \"text\": \"Dont be rude, keep conversations civil and kind.\", \"hint\": \"\"}, {\"id\": \"6\", \"text\": \"All public posts from this instance are indexed by tootfinder.ch.\", \"hint\": \"\"}, {\"id\": \"7\", \"text\": \"Do not flood the timeline with posts. If you still want to do that - please set the posts as \\\"unlisted\\\".\", \"hint\": \"\"}, {\"id\": \"8\", \"text\": \"No vatniks\", \"hint\": \"\"}]",
         "11992.0"
        ],
        [
         "30",
         "muenchen.social",
         "muenchen.social - Die erste Mastodon Instanz für München",
         "Hallo auf muenchen.social \nDies ist eine deutschsprachige Mastodon Instanz für München zum tröten, neue Leute kennenlernen, sich auszutauschen und Spass zu haben.",
         "1211",
         "[\"de\"]",
         "[{\"id\": \"4\", \"text\": \"Keine Belästigung, Stalking und/oder Doxxing von anderen. \"}, {\"id\": \"5\", \"text\": \"Rassismus, Sexismus oder Beschimpfungen haben hier nichts verloren.\"}, {\"id\": \"6\", \"text\": \" Diskriminierung von Geschlechtern und sexuellen Minderheiten haben hier auch nichts verloren.\"}, {\"id\": \"7\", \"text\": \"Nationalistische Propaganda, Nazi-Symbolismus oder Förderung der Ideologie des Nationalsozialismus ist verboten. \\r\\n\"}, {\"id\": \"8\", \"text\": \"Aufrufe zu Gewalttaten sind verboten.\\r\\n\"}, {\"id\": \"10\", \"text\": \" Nicht markierter sexueller Inhalt und/oder Gewaltdarstellungen in jeglicher Form sind nicht erlaubt.\"}, {\"id\": \"11\", \"text\": \" Bots, die ohne ihre expliziten Anfragen mit Nutzer interagieren, werden gelöscht. \"}, {\"id\": \"12\", \"text\": \"Übermässige Werbung / Spam / Spamflut von wiederholenden Tröts sind nicht erwünscht. \"}, {\"id\": \"13\", \"text\": \"Falls du einen NSFW-Only Account erstellen möchtest, ziehe eventuell eine andere Instanz in Betracht. Wahrscheinlich sind wir leider nicht geeignet für dich.\"}, {\"id\": \"14\", \"text\": \"Allgemeine Verstöße gegen geltendes Recht in Deutschland.\"}, {\"id\": \"17\", \"text\": \"Gezieltes Misgendering, Deadnaming oder Werbung für sogenannte \\\"Konversionstherapien\\\" sind verboten.\"}, {\"id\": \"18\", \"text\": \"Mir ist bewusst, dass ein Verstoß gegen eine der Serverregeln zur Löschung von einzelnen Beiträgen, oder der Stummschaltung/Löschung des gesamten Accounts führen kann und mit dem Anlegen eines Accounts akzeptiere ich alle Regeln. \"}]",
         "10999.0"
        ],
        [
         "31",
         "social.cologne",
         "Mastodon",
         "social.cologne is eine Mastodon Instanz für jede:n Kölner:in und alle, die sich mit Köln verbunden fühlen. Betrieben von https://cgnfs.de.",
         "1201",
         "[\"en\"]",
         "[{\"id\": \"12\", \"text\": \"Treat others with respect\", \"hint\": \"Avoid any form of insult, bullying, or discrimination, including but not limited to racist, sexist, homophobic, transphobic, anti-Semitic, and misogynistic statements or actions against others.\"}, {\"id\": \"13\", \"text\": \"Use appropriate tone\", \"hint\": \"Use a respectful and friendly tone, even if you disagree with someone.\"}, {\"id\": \"14\", \"text\": \"Respect privacy\", \"hint\": \"Do not share personal information without explicit permission and respect the privacy rights of others.\"}, {\"id\": \"15\", \"text\": \"Comply with applicable law\", \"hint\": \"Do not publish any illegal content.\"}, {\"id\": \"16\", \"text\": \"Avoid misinformation\", \"hint\": \"Do not share false or misleading information.\"}, {\"id\": \"17\", \"text\": \"No spam posts\", \"hint\": \"Refrain from publishing unwanted advertising or similar content that does not fit the community.\"}, {\"id\": \"19\", \"text\": \"Mark sensitive content (CW)\", \"hint\": \"Please mark any content that may contain common triggers, is sexually explicit or violent as sensitive (CW) to ensure the safety of other members. Note: Accounts that exclusively post such content may be limited or banned.\"}, {\"id\": \"20\", \"text\": \"You must be older than 16 years\", \"hint\": \"According to European law, you must be at least 16 years old to use this instance.\"}]",
         "12065.0"
        ],
        [
         "32",
         "flipboard.social",
         "Flipboard",
         "Welcome to Flipboard on Mastodon. A place for our community of curators and enthusiasts to inform and inspire each other.  \nIf you'd like to join please request an invitation via the sign-up page. ",
         "1192",
         "[\"en\"]",
         "[{\"id\": \"6\", \"text\": \"This instance is part of Flipboard and adheres to the same Community Guidelines. You can read them here https://about.flipboard.com/community-guidelines/\", \"hint\": \"\"}, {\"id\": \"7\", \"text\": \"Keep this instance safe, respectful, and fun by not violating the rules.\", \"hint\": \"\"}, {\"id\": \"8\", \"text\": \"Consider how your post might impact others - if it might be received as offensive, painful, or otherwise unwanted, please use a content warning (CW.)\", \"hint\": \"\"}, {\"id\": \"34\", \"text\": \"Misgendering, deadnaming, or promotion of so-called \\\"conversion therapy\\\" is prohibited.\", \"hint\": \"\"}]",
         "7482.0"
        ],
        [
         "33",
         "livellosegreto.it",
         "Livello Segreto",
         "Livello Segreto è il social etico che ha rispetto di te e del tuo tempo.",
         "1149",
         "[\"en\"]",
         "[{\"id\": \"2\", \"text\": \"No al sessismo\", \"hint\": \"\"}, {\"id\": \"3\", \"text\": \"No al machismo\", \"hint\": \"\"}, {\"id\": \"4\", \"text\": \"No al bullismo\", \"hint\": \"\"}, {\"id\": \"5\", \"text\": \"No alla queerfobia, all'omofobia, alla bifobia, alla lesbofobia, alla transfobia, alla afobia\", \"hint\": \"\"}, {\"id\": \"6\", \"text\": \"No all'abilismo\", \"hint\": \"\"}, {\"id\": \"7\", \"text\": \"No al razzismo\", \"hint\": \"\"}, {\"id\": \"9\", \"text\": \"No ai bot*\", \"hint\": \"* in generale è una regola da tenere presente, ma se il bot ha utilità per la community scrivici che si sistema tutto\"}, {\"id\": \"10\", \"text\": \"Usare i CW per: NSFW, SPOILER, GUERRA, POLITICA\", \"hint\": \"\"}, {\"id\": \"11\", \"text\": \"Evitare bestemmie e turpiloquio eccessivo/gratuito\", \"hint\": \"\"}, {\"id\": \"12\", \"text\": \"No pornografia\", \"hint\": \"\"}, {\"id\": \"15\", \"text\": \"Istanza antifascista\", \"hint\": \"\"}, {\"id\": \"16\", \"text\": \"No alla pubblicità e/o agli annunci commerciali (consentiti i progetti personali/indipendenti)\", \"hint\": \"\"}, {\"id\": \"17\", \"text\": \"No al proselitismo religioso\", \"hint\": \"\"}]",
         "7673.0"
        ],
        [
         "34",
         "mastodon.green",
         "Mastodon.green",
         "Plant trees while you use Mastodon. A server originally for people in the EU, but now open for anyone in the world",
         "1141",
         "[\"en\"]",
         "[{\"id\": \"395\", \"text\": \"Try 30-days for free, only 1,50 € (+VAT) per month after. No algorithms or ads to waste your time. We use 20 % of membership fees to plant trees. Change your plan or cancel at any time\", \"hint\": \"\"}, {\"id\": \"397\", \"text\": \"Please abide by the community standards\", \"hint\": \"\"}, {\"id\": \"398\", \"text\": \"You can use any official EU language, Icelandic and Norwegian on this server\", \"hint\": \"\"}, {\"id\": \"399\", \"text\": \"No sexually explicit images or video\", \"hint\": \"\"}, {\"id\": \"400\", \"text\": \"No racism, sexism, homophobia, transphobia, xenophobia, or casteism\", \"hint\": \"\"}, {\"id\": \"401\", \"text\": \"No incitement of violence or promotion of violent ideologies\", \"hint\": \"\"}, {\"id\": \"402\", \"text\": \"No harassment, dogpiling or doxxing of other users\", \"hint\": \"\"}, {\"id\": \"404\", \"text\": \"No false or misleading information\", \"hint\": \"\"}]",
         "12004.0"
        ],
        [
         "35",
         "mastodont.cat",
         "mastodont.cat, cultura catalana.",
         "Des del 13 d'abril del 2017, el primer i original servidor social en català per a la comunitat de llengua i cultura catalanes d'arreu d'internet.\n",
         "1132",
         "[\"ca\"]",
         "[{\"id\": \"2\", \"text\": \"No és permès fer publicitat ni spam.\", \"hint\": \"\"}, {\"id\": \"3\", \"text\": \"No s'accepta l'ús de \\\"crossposters\\\" (ponts que connecten xarxes diferents).\", \"hint\": \"\"}, {\"id\": \"6\", \"text\": \"Aquest servidor bloqueja totes les instàncies del programari birdsitelive\", \"hint\": \"\"}, {\"id\": \"8\", \"text\": \"La política de retenció dels fitxers multi mèdia remots és de 30 dies (seràn esborrats automàticament als 30 dies). Els arxius d'usuari seran esborrats als 7 dies. \", \"hint\": \"\"}, {\"id\": \"9\", \"text\": \"Està prohibida qualsevol mostra de racisme, xenofòbia o homofòbia contra cap usuari local o remot. \", \"hint\": \"\"}, {\"id\": \"10\", \"text\": \"L'ús d'altres llengües diferents del català en la majoria dels tuts publicats, pot provocar un avís i fins i tot suspensió del compte si és repetitiu.\", \"hint\": \"\"}, {\"id\": \"11\", \"text\": \"Està prohibida qualsevol mostra de nuesa, excepte quan aquesta tingui una procedència artística reconeguda i estigui degudament referenciada en el contingut del missatge\", \"hint\": \"\"}, {\"id\": \"12\", \"text\": \"Està prohibida qualsevol mostra explícita de contingut sexual o pornogràfic, i especialment aquelles que continguin pederàstia o impliquin a menors d'edat, fet que a més serà denunciat a les autoritats pertinents.\", \"hint\": \"\"}, {\"id\": \"13\", \"text\": \"No és permeten faltes de respecte contra usuaris locals o remots. \", \"hint\": \"\"}, {\"id\": \"14\", \"text\": \"Els serveis addicionals de Blog (Wordpress) i xmpp (Ejabberd), estan dedicats als usuaris actius. Els comptes registrats en aquests serveis addicionals seran esborrats si es detecta una falta d'activitat, a mastodont.cat i en els darrers 30 dies, dels usuaris locals relacionats.\", \"hint\": \"\"}]",
         "8624.0"
        ],
        [
         "36",
         "indieweb.social",
         " Indieweb.Social ",
         "INDIEWEB.SOCIAL is an instance focused on the evolution of #Openweb, #Indieweb, #Fediverse, #Mastodon, #Humanetech and #Calm technologies. ",
         "1123",
         "[\"en\"]",
         "[{\"id\": \"1\", \"text\": \"No spam or excessive self-promoting in posts.\", \"hint\": \"\"}, {\"id\": \"2\", \"text\": \"No bots that are not labeled as such in their profile.\", \"hint\": \"\"}, {\"id\": \"3\", \"text\": \"Keep conversations civil and respectful even in disagreement.\", \"hint\": \"\"}, {\"id\": \"4\", \"text\": \"No racism, sexism, homophobia, transphobia, xenophobia, anti-Semitism, or casteism (including targeted misgendering, deadnaming, or promotion of so-called \\\"conversion therapy\\\").\", \"hint\": \"\"}, {\"id\": \"5\", \"text\": \"No sexually explicit or violent posts or media allowed\", \"hint\": \"\"}, {\"id\": \"6\", \"text\": \"No incitement of violence or promotion of violent ideologies\", \"hint\": \"\"}, {\"id\": \"7\", \"text\": \"No illegal content.\", \"hint\": \"\"}]",
         "11825.0"
        ],
        [
         "37",
         "nerdculture.de",
         "NerdCulture",
         "Be excellent to each other, live humanism, no nazis, no hate speech. Not only for nerds, but the domain is somewhat cool. ;)\nNo bots in general. Languages: DE, EN, FR, NL, ES, IT",
         "1109",
         "[\"en\"]",
         "[{\"id\": \"1\", \"text\": \"Be friendly and polite to each other\", \"hint\": \"\"}, {\"id\": \"2\", \"text\": \"No hate speech, no discrimination of others, regardless of their age, gender, nationality or whatever\", \"hint\": \"\"}, {\"id\": \"3\", \"text\": \"No spamming of any kind.\", \"hint\": \"\"}, {\"id\": \"4\", \"text\": \"Don't annoy others and don't get easily annoyed by others.\", \"hint\": \"\"}, {\"id\": \"5\", \"text\": \"No advertisements of commercial products.\", \"hint\": \"\"}, {\"id\": \"6\", \"text\": \"No distribution of copyrighted material.\", \"hint\": \"\"}, {\"id\": \"7\", \"text\": \"Do not upload material for which you don't have the rights\", \"hint\": \"\"}, {\"id\": \"8\", \"text\": \"No automated posts by bots, except when you have permission to do so by the server admins\", \"hint\": \"\"}, {\"id\": \"9\", \"text\": \"Don't abuse this service or server.\", \"hint\": \"\"}, {\"id\": \"10\", \"text\": \"Treat other how you want to be treated by them - with respect!\", \"hint\": \"\"}, {\"id\": \"11\", \"text\": \"This is a service running on a private server and as a friendly user you are welcome to use this service, but in the end the server admin can cancel user accounts and will do when the user misbehaves. The admin will decide in the end. \", \"hint\": \"\"}, {\"id\": \"12\", \"text\": \"Valid mail address required! You'll receive reminder mail after 6 months of inactivity to log in again. If you don't react to those mails, your account will be deleted after 7 months of inactivity. \", \"hint\": \"\"}, {\"id\": \"13\", \"text\": \"Allowed languages are German and English as main languages while as the following languages are tolerated: Dutch, French, Spanish, Italian.\", \"hint\": \"\"}, {\"id\": \"14\", \"text\": \"This service is free of cost for you.\\r\\nHowever offering this service does have cost implications. If you can afford some cents per week it would be great when you could contribute in sharing the server costs. Of course this voluntarily for you. \", \"hint\": \"\"}, {\"id\": \"16\", \"text\": \"No free-speech extremists, no far-right extremists, no nationalists. This includes people that elect or support such political parties like AfD in Germany, Fratelli d'Italia in Italy or Rassemblement National in France, etc.. If you support these parties, this instance is not for you. \", \"hint\": \"\"}, {\"id\": \"18\", \"text\": \"Alt Texts for Pictures encouraged. Please conduct descriptive texts for pictures you upload (Alt Texts). This helps visually impaired users and others enormously in their online life. \", \"hint\": \"\"}]",
         "7163.0"
        ],
        [
         "38",
         "ieji.de",
         "ieji.de",
         "ieji.de is a generalistic mastodon instance, with the goal of being the fastest mastodon instance in Europe and with a focus on user privacy, like being usable via the tor network.",
         "1105",
         "[\"en\"]",
         "[{\"id\": \"1\", \"text\": \"No explicit content allowed\", \"hint\": \"\"}, {\"id\": \"2\", \"text\": \"Erotic content must have content warning\", \"hint\": \"\"}, {\"id\": \"3\", \"text\": \"No harassment allowed\", \"hint\": \"\"}, {\"id\": \"4\", \"text\": \"No backlink accounts allowed\", \"hint\": \"\"}, {\"id\": \"5\", \"text\": \"Unlawful content is forbidden\", \"hint\": \"\"}]",
         "15114.0"
        ],
        [
         "39",
         "social.anoxinon.de",
         "social.anoxinon.de - Mastodon",
         "Die offizielle Mastodon Instanz des Vereins Anoxinon e.V.",
         "1087",
         "[\"de\"]",
         "[{\"id\": \"1\", \"text\": \"Geht respektvoll und nett miteinander um!\", \"hint\": \"\"}, {\"id\": \"2\", \"text\": \"Beiträge mit rassistischen, illegalen, pornografischen oder gewaltverherrlichenden Inhalten sind strengstens untersagt. Zudem gelten allgemein deutsche Gesetze.\", \"hint\": \"\"}, {\"id\": \"3\", \"text\": \"Beleidigungen und Belästigungen sind generell verboten. Darunter fallen auch jegliche Formen der Diffamierung, Hetze, übler Nachrede und dergleichen.\", \"hint\": \"\"}, {\"id\": \"4\", \"text\": \"Konten für kommerzielle Zwecke erfordern eine schriftliche Erlaubnis unsererseits. Bis auf RSS-Bots \\r\\nbenötigen alle anderen die schriftliche Zustimmung von unserer Seite.\", \"hint\": \"\"}, {\"id\": \"5\", \"text\": \"Zuwiderhandlungen gegen diese Regeln werden mit Ermahnung, Verwarnung oder Sperre geahndet.\", \"hint\": \"\"}]",
         "10317.0"
        ],
        [
         "40",
         "metalhead.club",
         "Metalhead.club",
         "Metalhead.club is a Mastodon instance hosted in Germany and powered by 100% green energy.",
         "747",
         "[\"en\"]",
         "[{\"id\": \"1\", \"text\": \"No pornography\", \"hint\": \"\"}, {\"id\": \"3\", \"text\": \"No insulting / hate speech\", \"hint\": \"\"}, {\"id\": \"4\", \"text\": \"No racism\", \"hint\": \"\"}, {\"id\": \"5\", \"text\": \"No extremist political content\", \"hint\": \"\"}, {\"id\": \"6\", \"text\": \"This server is for humans, not for bots! If you intend to bulk-send posts, this instance is not for you. (use botsin.space)\", \"hint\": \"\"}, {\"id\": \"7\", \"text\": \"Upload / distribute only content that you have permission for.\", \"hint\": \"\"}, {\"id\": \"8\", \"text\": \"No ads, except for featuring your own creative Metal music content (music, articles, reviews, ...)\", \"hint\": \"\"}, {\"id\": \"10\", \"text\": \"Misusing unrelated hashtags on posts for better visibility is prohibited \", \"hint\": \"\"}]",
         "5776.0"
        ],
        [
         "41",
         "tkz.one",
         "TKZ.One",
         "La comunidad Mastodon más grande en Español para gamers, otakus y geeks. Libre de toxicidad. Contenido de anime, manga, videojuegos, tecnología, cómics, literatura, cine... ¡Únete a la familia!",
         "728",
         "[\"es\"]",
         "[{\"id\": \"11\", \"text\": \"Intenta mantener tu perfil y publicaciones mayormente en sintonía con la temática de la instancia: videojuegos, anime, manga, comics, series, cine, gastronomía, literatura, viajes y demás hobbies y temas relacionados.\", \"hint\": \"\"}, {\"id\": \"12\", \"text\": \"Sé amable y evita mal comportamiento, incluyendo racismo y discriminación de cualquier índole; las cuentas disruptivas podrían ser suspendidas. Trata a la gente como te gustaría que te tratasen.\", \"hint\": \"\"}, {\"id\": \"13\", \"text\": \"Habla principalmente en español, con opción de otros idiomas del territorio español; usa lenguaje inclusivo si lo deseas.\", \"hint\": \"\"}, {\"id\": \"14\", \"text\": \"No compartas pornografía infantil ni violencia; evita contenido ilegal bajo leyes españolas.\", \"hint\": \"\"}, {\"id\": \"15\", \"text\": \"Eres responsable de tus comentarios y publicaciones.\", \"hint\": \"\"}, {\"id\": \"16\", \"text\": \"Evita promover activismo, política institucional y proselitismo religioso. Se permiten temas políticos contextualizados y relacionados con la temática de la instancia. La promoción de nazismo, supremacía e ideologías ultra, religión o magufadas están estrictamente prohibidas.\", \"hint\": \"\"}, {\"id\": \"17\", \"text\": \"No compartas información falsa intencionalmente. En caso de hacerlo, retira cualquier bulo compartido si se verifica como tal.\", \"hint\": \"\"}, {\"id\": \"18\", \"text\": \"El contenido de adultos salvo la pornografía explícita, está permitido solo como forma de arte con la etiqueta CW, si es de tu autoría y se relaciona con la temática.\", \"hint\": \"\"}, {\"id\": \"19\", \"text\": \"Prohibido las cuentas centradas en el crossposting. Las cuentas que abusen de esta práctica pueden ser suspendidas.\", \"hint\": \"\"}, {\"id\": \"20\", \"text\": \"Las cuentas que promocionen SPAM, phishing o criptoactivos están prohibidas. \", \"hint\": \"\"}, {\"id\": \"21\", \"text\": \"El uso de IA para generar contenido es permitido si no se dedica a la promoción de dicho contenido. Las cuentas que promuevan activamente contenido generado por IA, tanto en el servidor como en sitios externos, serán prohibidas y pueden ser advertidas o canceladas por el equipo de moderación.\", \"hint\": \"\"}, {\"id\": \"22\", \"text\": \"El equipo de moderación se reserva el derecho de actuar como crea conveniente según las circunstancias y siempre velando por el buen funcionamiento para mantener la concordia en la instancia por algún motivo que no se cite expresamente en las normas anteriores.\", \"hint\": \"\"}]",
         "37079.0"
        ],
        [
         "42",
         "masto.nu",
         "masto.nu",
         "General purpose Mastodon server. All languages are welcome but English, Dutch and Spanish are preferred.",
         "725",
         "[\"en\"]",
         "[{\"id\": \"7\", \"text\": \"No harassment, dogpiling or doxxing of other users.\", \"hint\": \"\"}, {\"id\": \"8\", \"text\": \"No impersonation of other people, companies, organizations, brands, etc.\", \"hint\": \"\"}, {\"id\": \"9\", \"text\": \"No racism, sexism, homophobia, transphobia, xenophobia, or casteism.\", \"hint\": \"\"}, {\"id\": \"10\", \"text\": \"No incitement of violence or advocacy of violent acts/ideologies.\", \"hint\": \"\"}, {\"id\": \"11\", \"text\": \"No advertising, spam or excessive promotion.\", \"hint\": \"\"}, {\"id\": \"12\", \"text\": \"No sexually explicit or graphically violent media.\", \"hint\": \"\"}, {\"id\": \"13\", \"text\": \"No intentionally false or misleading information.\", \"hint\": \"\"}, {\"id\": \"14\", \"text\": \"No illegal or unlawful content\", \"hint\": \"\"}, {\"id\": \"15\", \"text\": \"Content created by others must be attributed, and the use of AI must be disclosed. Profiles that only post AI-generated content will not be tolerated.\", \"hint\": \"\"}]",
         "24284.0"
        ],
        [
         "43",
         "mastodon.ml",
         "Mastodon.ml",
         "Русскоязычный сервер социальной сети Mastodon. Зона общения, свободная от рекламы и шпионажа, теперь и на русском языке.",
         "715",
         "[\"ru\"]",
         "[{\"id\": \"7\", \"text\": \"Относитесь к другим пользователям с уважением. Харрасмент, разжигание ненависти (hate speech), трансфобия, гомофобия, расизм, сексизм, фашизм и прочие проявления шовинизма — запрещены\", \"hint\": \"\"}, {\"id\": \"8\", \"text\": \"Не разглашать чужую персональную информацию без согласия. Это относится как к пользователям сервера так и к людям вне него.\", \"hint\": \"\"}, {\"id\": \"9\", \"text\": \"Администрация сервера/модерационный состав будет рассматривать и решать спорные случаи исходя из ситуации и с учётом предыдущих жалоб на пользователей.\", \"hint\": \"\"}, {\"id\": \"10\", \"text\": \"Уважаемые щитпостеры, просим вас знать меру и не засорять ленты спамом. Излишнее злоупотребление будет наказываться.\", \"hint\": \"\"}, {\"id\": \"11\", \"text\": \"Проставляйте Content Warning и NSFW-метки на спорный контент (политика, описание/изображения жестоких сцен, сцен насилия, крови, порнографии, эротики, хентая, использование оскорбительной лексики, и.т.п)\", \"hint\": \"\"}, {\"id\": \"13\", \"text\": \"Свобода слова не означает вседозволенность\", \"hint\": \"\"}, {\"id\": \"14\", \"text\": \"Размещение рекламного контента, рекламирование внешних ресурсов или размещение ссылок на внешние ресурсы с целью рекламы будет рассматриваться администрацией. В некоторых случаях могут быть применены меры\", \"hint\": \"\"}, {\"id\": \"15\", \"text\": \"Убедительная просьба: заполняйте описания картинок. Это не обязательно, но очень сильно выручает незрячих пользователей, и не отнимает много времени\", \"hint\": \"\"}, {\"id\": \"17\", \"text\": \"ПОДАЧА ЗАЯВКИ НА РЕГИСТРАЦИЮ: ЗАЯВКИ МЕНЕЕ ПЯТИ СЛОВ ОТКЛОНЯЮТСЯ АВТОМАТИЧЕСКИ! Если не знаете, что написать, пишите о себе, как узнали о нас, чем вам интересен Мастодон, чем увлекаетесь.\", \"hint\": \"\"}]",
         "3506.0"
        ],
        [
         "44",
         "mstdn.business",
         "Mastodon For Business",
         "Business-friendly Mastodon server,open for everyone interested to contribute with their real name, business, brand, or startup to build a professional community. Hosted on Hetzner Cloud in Helsinki.",
         "699",
         "[\"en\"]",
         "[{\"id\": \"2\", \"text\": \"No NSFW or illegal content.\"}, {\"id\": \"3\", \"text\": \"No racism, sexism, homophobia, transphobia, or xenophobia.\"}, {\"id\": \"4\", \"text\": \"Do not share intentionally false or misleading information.\"}, {\"id\": \"5\", \"text\": \"No spam or excessive promotion.\"}, {\"id\": \"6\", \"text\": \"Brands are welcome. For personal accounts use your real name.\"}]",
         "27114.0"
        ],
        [
         "45",
         "ravenation.club",
         "Mastodon",
         "ravenation.club is an instance for all the ravers in the universe. Anyone who listens to electronic music (or not) is welcome. Operated by https://cgnfs.de",
         "665",
         "[\"en\"]",
         "[{\"id\": \"11\", \"text\": \"Treat others respectfully\", \"hint\": \"Refrain from any form of insult, bullying or discrimination, including but not limited to racist, sexist, homophobic, transphobic, anti-Semitic and misogynistic remarks or actions toward others.\"}, {\"id\": \"12\", \"text\": \"Use an appropriate tone\", \"hint\": \"Use a respectful and friendly tone, even if you disagree with someone.\"}, {\"id\": \"13\", \"text\": \"Respect the privacy of others\", \"hint\": \"Do not share personal information without explicit permission and respect the privacy rights of others.\"}, {\"id\": \"14\", \"text\": \"Compliance with applicable law\", \"hint\": \"Do not post illegal content.\"}, {\"id\": \"15\", \"text\": \"Avoid misinformation\", \"hint\": \"Do not share false or misleading information.\"}, {\"id\": \"16\", \"text\": \"No spam posts\", \"hint\": \"Refrain from posting unsolicited advertisements or similar content that does not fit the community.\"}, {\"id\": \"17\", \"text\": \"Mark sensitive content (CW)\", \"hint\": \"Please mark any content that may contain common triggers, is sexually explicit or violent as sensitive (CW) to ensure the safety of other members. Note: Accounts that exclusively post such content may be limited or banned.\"}, {\"id\": \"18\", \"text\": \"You must be older than 16 years\", \"hint\": \"According to European law, you must be at least 16 years old to use this instance.\"}]",
         "27827.0"
        ],
        [
         "46",
         "dresden.network",
         "Dresden.Network",
         "dresden.network ist eine Mastodon Instanz für alle aus Dresden und Umgebung, dennoch offen für alle. Das Team besteht aus @markus@dresden.network und @ueckueck@dresden.network.",
         "660",
         "[\"de\"]",
         "[{\"id\": \"1\", \"text\": \"kein(e) Belästigung, Stalking, Doxxing\", \"hint\": \"\"}, {\"id\": \"2\", \"text\": \"keine Verbreitung von Verschwörungstheorien und/oder deren Befürwortung \", \"hint\": \"\"}, {\"id\": \"3\", \"text\": \"kein Rassismus, Sexismus, Beschimpfungen oder deren Befürwortung \", \"hint\": \"\"}, {\"id\": \"4\", \"text\": \"keine Diskriminierung von Geschlechtern und sexuellen Minderheiten oder deren Befürwortung \", \"hint\": \"\"}, {\"id\": \"5\", \"text\": \"keine gewalttätige nationalistische Propaganda, Nazi-Symbolismus oder Förderung der Ideologie des Nationalsozialismus \", \"hint\": \"\"}, {\"id\": \"6\", \"text\": \"Leute kontaktieren, die klar gemacht haben, dass sie keinen Kontakt wollen. Dogpiling \", \"hint\": \"\"}, {\"id\": \"7\", \"text\": \"keine nicht markierte Werbung \", \"hint\": \"\"}, {\"id\": \"8\", \"text\": \"keine automatisierte und/oder übermäßige Werbung \", \"hint\": \"\"}, {\"id\": \"9\", \"text\": \"kein sexueller Inhalt oder Gewaltdarstellungen \", \"hint\": \"\"}, {\"id\": \"10\", \"text\": \"keine Bots, die ohne ihre expliziten Anfragen mit Nutzer interagieren \", \"hint\": \"\"}]",
         "3862.0"
        ],
        [
         "47",
         "sunny.garden",
         "Sunny Garden",
         "sunny.garden is a community for indie creators who draw, paint, sculpt, write, design, program, play, sing or build, and anyone else who thinks that sounds like a nice place to be.",
         "581",
         "[\"en\"]",
         "[{\"id\": \"1\", \"text\": \"Media containing nudity must be marked with a content warning.\", \"hint\": \"Profile image, header, and content must be appropriate for all audiences.\"}, {\"id\": \"2\", \"text\": \"No hate speech, derogatory language, or the use of slurs directed at marginalized groups or people. \", \"hint\": \"No racism, sexism, homophobia, transphobia, ableism, xenophobia. No fascist, neo-nazi or alt-right content.\"}, {\"id\": \"3\", \"text\": \"No incitement or promotion of violence including self-harm and suicide.\", \"hint\": \"\"}, {\"id\": \"4\", \"text\": \"No harassment, dogpiling, or doxxing.\", \"hint\": \"Ad hominem, personal attacks or mudslinging will be considered harassment.  You are free to criticize nations, corporations, billionaires, or high profile political figures; though other rules (eg. no racism, hate-speech, ableism) still apply.\"}, {\"id\": \"5\", \"text\": \"No content illegal in Canada.\", \"hint\": \"\"}, {\"id\": \"6\", \"text\": \"Do not share intentionally false or misleading information.\", \"hint\": \"\"}, {\"id\": \"7\", \"text\": \"No \\\"AI\\\" Art, no NFTs, no crypto, no blockchain.\", \"hint\": \"See About page for further details on \\\"AI\\\" Art policy.\"}, {\"id\": \"8\", \"text\": \"Respect personal boundaries.\", \"hint\": \"Don't pry into people's personal lives. Do not be \\\"a creep\\\".\"}, {\"id\": \"9\", \"text\": \"No explicit sexual, violent or gory content.\", \"hint\": \"\"}, {\"id\": \"10\", \"text\": \"No sexual depictions of minors.\", \"hint\": \"\"}, {\"id\": \"11\", \"text\": \"No proselytizing.\", \"hint\": \"\"}]",
         "2728.0"
        ],
        [
         "48",
         "bark.lgbt",
         "Bark!",
         "Furry focused instance for critters that like to bark!\nLGBTQ+ run and friendly, active moderation",
         "546",
         "[\"en\"]",
         "[{\"id\": \"1\", \"text\": \"No discrimination, bigotry, transphobia, homophobia, etc of any kind is accepted\", \"hint\": \"\"}, {\"id\": \"2\", \"text\": \"No discussion of illegal topics or sharing of pirated data.\", \"hint\": \"\"}, {\"id\": \"5\", \"text\": \"Any content that would be considered Illegal in the European economic area is strictly banned\", \"hint\": \"\"}, {\"id\": \"6\", \"text\": \"No uncensored NSFW content. Use a CW\", \"hint\": \"\"}, {\"id\": \"7\", \"text\": \"You are at least 18 years of age during sign-up\", \"hint\": \"\"}, {\"id\": \"8\", \"text\": \"No zoophillia / Loli\", \"hint\": \"\"}, {\"id\": \"11\", \"text\": \"No NSFW profile pictures, headers and usernames\", \"hint\": \"\"}, {\"id\": \"46\", \"text\": \"No posting of AI art\", \"hint\": \"\"}]",
         "6377.0"
        ],
        [
         "49",
         "urbanists.social",
         "Urbanists.Social",
         "We're a server for people who like bikes, transit, and walkable cities. Let's get to know each other!",
         "540",
         "[\"en\"]",
         "[{\"id\": \"1\", \"text\": \"Please don't post anything that's illegal in the US or EU.\", \"hint\": \"\"}, {\"id\": \"3\", \"text\": \"No racism, sexism, homophobia, transphobia, xenophobia, or any other form of discrimination.\", \"hint\": \"\"}, {\"id\": \"8\", \"text\": \"Punch Nazis, trebuchet TERFs. Any posts or usage containing nazi symbolism or ideology, or which contains \\\"gender critical\\\" / \\\"just asking questions\\\" shit will get you banned immediately and without recourse.\", \"hint\": \"\"}, {\"id\": \"9\", \"text\": \"No promotion of crypto or NFTs. \", \"hint\": \"\"}, {\"id\": \"10\", \"text\": \"NSFW content must be behind a content warning / marked as sensitive. Your profile (avatar, header, display name, etc.) must be SFW.\", \"hint\": \"\"}, {\"id\": \"11\", \"text\": \"Don't abuse the instance or use it to abuse other federated instances. Don't try to break things.\", \"hint\": \"\"}, {\"id\": \"12\", \"text\": \"Be considerate. Keep in mind that any public post you make will appear in our public timeline and the public timelines of other instances federated with Urbanists.Social. Use content warnings where appropriate. Use NSWF tags where appropriate. Don't be a jerk about it.\", \"hint\": \"\"}, {\"id\": \"13\", \"text\": \"Bots are allowed, but don't make them annoying. Admins will ask you to move your bot to another instance if it becomes a problem.\", \"hint\": \"\"}, {\"id\": \"14\", \"text\": \"Do not harass other users.\", \"hint\": \"\"}]",
         "6398.0"
        ]
       ],
       "shape": {
        "columns": 7,
        "rows": 140
       }
      },
      "text/html": [
       "<div>\n",
       "<style scoped>\n",
       "    .dataframe tbody tr th:only-of-type {\n",
       "        vertical-align: middle;\n",
       "    }\n",
       "\n",
       "    .dataframe tbody tr th {\n",
       "        vertical-align: top;\n",
       "    }\n",
       "\n",
       "    .dataframe thead th {\n",
       "        text-align: right;\n",
       "    }\n",
       "</style>\n",
       "<table border=\"1\" class=\"dataframe\">\n",
       "  <thead>\n",
       "    <tr style=\"text-align: right;\">\n",
       "      <th></th>\n",
       "      <th>domain</th>\n",
       "      <th>title</th>\n",
       "      <th>description</th>\n",
       "      <th>active_month</th>\n",
       "      <th>languages</th>\n",
       "      <th>rules</th>\n",
       "      <th>total_users</th>\n",
       "    </tr>\n",
       "  </thead>\n",
       "  <tbody>\n",
       "    <tr>\n",
       "      <th>0</th>\n",
       "      <td>mastodon.social</td>\n",
       "      <td>Mastodon</td>\n",
       "      <td>The original server operated by the Mastodon g...</td>\n",
       "      <td>327503</td>\n",
       "      <td>[\"en\"]</td>\n",
       "      <td>[{\"id\": \"1\", \"text\": \"Sexually explicit or vio...</td>\n",
       "      <td>2711879.0</td>\n",
       "    </tr>\n",
       "    <tr>\n",
       "      <th>1</th>\n",
       "      <td>mstdn.social</td>\n",
       "      <td>Mastodon 🐘</td>\n",
       "      <td>A general-purpose Mastodon server with a 500 c...</td>\n",
       "      <td>14546</td>\n",
       "      <td>[\"en\"]</td>\n",
       "      <td>[{\"id\": \"2\", \"text\": \"Sexually explicit or vio...</td>\n",
       "      <td>260323.0</td>\n",
       "    </tr>\n",
       "    <tr>\n",
       "      <th>2</th>\n",
       "      <td>infosec.exchange</td>\n",
       "      <td>Infosec Exchange</td>\n",
       "      <td>A Mastodon instance for info/cyber security-mi...</td>\n",
       "      <td>13319</td>\n",
       "      <td>[\"en\"]</td>\n",
       "      <td>[{\"id\": \"1\", \"text\": \"Do unto others as you th...</td>\n",
       "      <td>75725.0</td>\n",
       "    </tr>\n",
       "    <tr>\n",
       "      <th>3</th>\n",
       "      <td>mas.to</td>\n",
       "      <td>mas.to</td>\n",
       "      <td>Hello! mas.to is a fast, up-to-date and fun Ma...</td>\n",
       "      <td>11889</td>\n",
       "      <td>[\"en\"]</td>\n",
       "      <td>[{\"id\": \"9\", \"text\": \"No discrimination, inclu...</td>\n",
       "      <td>183608.0</td>\n",
       "    </tr>\n",
       "    <tr>\n",
       "      <th>4</th>\n",
       "      <td>piaille.fr</td>\n",
       "      <td>Piaille</td>\n",
       "      <td>Piaille.fr est un serveur mastodon public fran...</td>\n",
       "      <td>9221</td>\n",
       "      <td>[\"fr\"]</td>\n",
       "      <td>[{\"id\": \"1\", \"text\": \"Conformément aux lois fr...</td>\n",
       "      <td>40869.0</td>\n",
       "    </tr>\n",
       "    <tr>\n",
       "      <th>...</th>\n",
       "      <td>...</td>\n",
       "      <td>...</td>\n",
       "      <td>...</td>\n",
       "      <td>...</td>\n",
       "      <td>...</td>\n",
       "      <td>...</td>\n",
       "      <td>...</td>\n",
       "    </tr>\n",
       "    <tr>\n",
       "      <th>135</th>\n",
       "      <td>ceilidh.online</td>\n",
       "      <td>Ceilidh Online</td>\n",
       "      <td>Ceilidh.Online is meant to be a safe gathering...</td>\n",
       "      <td>11</td>\n",
       "      <td>[\"en\"]</td>\n",
       "      <td>[{\"id\": \"2\", \"text\": \"Do not engage in hate sp...</td>\n",
       "      <td>42.0</td>\n",
       "    </tr>\n",
       "    <tr>\n",
       "      <th>136</th>\n",
       "      <td>mastodon.bahia.no</td>\n",
       "      <td>Bahia.no - A Bahia no Mastodon!</td>\n",
       "      <td>Bahia.no - aqui, todo mundo é baiano! Se você ...</td>\n",
       "      <td>10</td>\n",
       "      <td>[\"pt-BR\"]</td>\n",
       "      <td>[{\"id\": \"1\", \"text\": \"Idiomas permitidos: Baia...</td>\n",
       "      <td>15.0</td>\n",
       "    </tr>\n",
       "    <tr>\n",
       "      <th>137</th>\n",
       "      <td>dariox.club</td>\n",
       "      <td>DARiOX</td>\n",
       "      <td>A safe space for tech-centered LGBTQI+ folks a...</td>\n",
       "      <td>9</td>\n",
       "      <td>[\"en\"]</td>\n",
       "      <td>[{\"id\": \"2\", \"text\": \"No illegal content\", \"hi...</td>\n",
       "      <td>150.0</td>\n",
       "    </tr>\n",
       "    <tr>\n",
       "      <th>138</th>\n",
       "      <td>mastodon.mg</td>\n",
       "      <td>Mastodon Madagascar</td>\n",
       "      <td>La première instance malgache de Mastodon.</td>\n",
       "      <td>6</td>\n",
       "      <td>[\"fr\"]</td>\n",
       "      <td>[{\"id\": \"1\", \"text\": \"Cette instance étant héb...</td>\n",
       "      <td>113.0</td>\n",
       "    </tr>\n",
       "    <tr>\n",
       "      <th>139</th>\n",
       "      <td>wxw.moe</td>\n",
       "      <td>呜呜 w(&gt; ʌ &lt;)w</td>\n",
       "      <td>一个萌萌哒 泛ACGN 实例，欢迎安家 ~</td>\n",
       "      <td>3381</td>\n",
       "      <td>[\"en\"]</td>\n",
       "      <td>[{\"id\": \"67\", \"text\": \"拒绝真人不雅内容 / No inappropr...</td>\n",
       "      <td>23662.0</td>\n",
       "    </tr>\n",
       "  </tbody>\n",
       "</table>\n",
       "<p>140 rows × 7 columns</p>\n",
       "</div>"
      ],
      "text/plain": [
       "                domain                            title  \\\n",
       "0      mastodon.social                         Mastodon   \n",
       "1         mstdn.social                       Mastodon 🐘   \n",
       "2     infosec.exchange                 Infosec Exchange   \n",
       "3               mas.to                           mas.to   \n",
       "4           piaille.fr                          Piaille   \n",
       "..                 ...                              ...   \n",
       "135     ceilidh.online                   Ceilidh Online   \n",
       "136  mastodon.bahia.no  Bahia.no - A Bahia no Mastodon!   \n",
       "137        dariox.club                           DARiOX   \n",
       "138        mastodon.mg              Mastodon Madagascar   \n",
       "139            wxw.moe                     呜呜 w(> ʌ <)w   \n",
       "\n",
       "                                           description  active_month  \\\n",
       "0    The original server operated by the Mastodon g...        327503   \n",
       "1    A general-purpose Mastodon server with a 500 c...         14546   \n",
       "2    A Mastodon instance for info/cyber security-mi...         13319   \n",
       "3    Hello! mas.to is a fast, up-to-date and fun Ma...         11889   \n",
       "4    Piaille.fr est un serveur mastodon public fran...          9221   \n",
       "..                                                 ...           ...   \n",
       "135  Ceilidh.Online is meant to be a safe gathering...            11   \n",
       "136  Bahia.no - aqui, todo mundo é baiano! Se você ...            10   \n",
       "137  A safe space for tech-centered LGBTQI+ folks a...             9   \n",
       "138         La première instance malgache de Mastodon.             6   \n",
       "139                              一个萌萌哒 泛ACGN 实例，欢迎安家 ~          3381   \n",
       "\n",
       "     languages                                              rules  total_users  \n",
       "0       [\"en\"]  [{\"id\": \"1\", \"text\": \"Sexually explicit or vio...    2711879.0  \n",
       "1       [\"en\"]  [{\"id\": \"2\", \"text\": \"Sexually explicit or vio...     260323.0  \n",
       "2       [\"en\"]  [{\"id\": \"1\", \"text\": \"Do unto others as you th...      75725.0  \n",
       "3       [\"en\"]  [{\"id\": \"9\", \"text\": \"No discrimination, inclu...     183608.0  \n",
       "4       [\"fr\"]  [{\"id\": \"1\", \"text\": \"Conformément aux lois fr...      40869.0  \n",
       "..         ...                                                ...          ...  \n",
       "135     [\"en\"]  [{\"id\": \"2\", \"text\": \"Do not engage in hate sp...         42.0  \n",
       "136  [\"pt-BR\"]  [{\"id\": \"1\", \"text\": \"Idiomas permitidos: Baia...         15.0  \n",
       "137     [\"en\"]  [{\"id\": \"2\", \"text\": \"No illegal content\", \"hi...        150.0  \n",
       "138     [\"fr\"]  [{\"id\": \"1\", \"text\": \"Cette instance étant héb...        113.0  \n",
       "139     [\"en\"]  [{\"id\": \"67\", \"text\": \"拒绝真人不雅内容 / No inappropr...      23662.0  \n",
       "\n",
       "[140 rows x 7 columns]"
      ]
     },
     "execution_count": 4,
     "metadata": {},
     "output_type": "execute_result"
    }
   ],
   "source": [
    "mastodon.df"
   ]
  },
  {
   "cell_type": "code",
   "execution_count": 5,
   "id": "22f18565",
   "metadata": {},
   "outputs": [
    {
     "data": {
      "application/vnd.microsoft.datawrangler.viewer.v0+json": {
       "columns": [
        {
         "name": "index",
         "rawType": "int64",
         "type": "integer"
        },
        {
         "name": "name",
         "rawType": "object",
         "type": "string"
        },
        {
         "name": "title",
         "rawType": "object",
         "type": "string"
        },
        {
         "name": "description",
         "rawType": "object",
         "type": "unknown"
        },
        {
         "name": "language",
         "rawType": "object",
         "type": "string"
        },
        {
         "name": "subscribers",
         "rawType": "int64",
         "type": "integer"
        },
        {
         "name": "active_user_count",
         "rawType": "int64",
         "type": "integer"
        },
        {
         "name": "rules",
         "rawType": "object",
         "type": "unknown"
        }
       ],
       "ref": "0cf5f146-6669-45a1-93a9-2b504c931e63",
       "rows": [
        [
         "0",
         "Home",
         "Home",
         null,
         "en",
         "307843",
         "51",
         null
        ],
        [
         "1",
         "AskReddit",
         "Ask Reddit...",
         "r/AskReddit is the place to ask and answer thought-provoking questions.",
         "es",
         "54701432",
         "9986",
         "Rule 1 - Questions must be clear and direct and may not use the body textbox; Rule 2 - No personal or professional advice requests; Rule 3 - Open ended questions only; Rule 4 - No personal info; Rule 5 - No loaded questions; Rule 6 - [Serious] tagged posts are off-limits to jokes or irrelevant replies; Rule 7 - No begging for goods or services, or Reddit rewards; Rule 8 - Be respectful to other users at all times and conduct your behaviour in a civil manner; Rule 9 -  No image only replies or large ascii art; Rule 10 - Harmful Misinformation; Rule 11 - No spam, machine generated content or karma farming"
        ],
        [
         "2",
         "NoStupidQuestions",
         "No such thing as stupid questions",
         "Ask away!\n\nDisclaimer: This is an anonymous forum so answers may not be correct",
         "en",
         "6021303",
         "4872",
         "Top level comments must contain a genuine human-written attempt at an answer; Please try searching the subreddit for your question first; Be Nice; No medical advice questions; No trolling or joke questions; No suicide or 'was I raped/sexual assaulted/sexually harrassed?' questions; No self-promotion, shilling or begging; No illegal/unethical or disturbing subject matter; No disguised rants, agenda posts or potstirring"
        ],
        [
         "3",
         "BaldursGate3",
         "Baldur's Gate 3",
         "A community all about Baldur's Gate III, the role-playing video game by Larian Studios. BG3 is the third main game in the Baldur's Gate series. Baldur's Gate III is based on a modified version of the Dungeons & Dragons 5th edition (D&D 5e) tabletop RPG ruleset.\n\nGather your party and venture forth!",
         "en",
         "3118378",
         "1384",
         "Be civil to one another.; Respect the opinions of others.; Keep your posts relevant.; Tag spoilers and NSFW content.; Memes, screenshots, and fanart must be flaired.; No Spamming; No Tav, Build/Multiclass, or LFG Posts outside of their megathreads; No piracy allowed. No posting pirated material of any kind but especially 5e material; Use modmail for issues or giveaways - don't mention/link or directly message the Mods; No discussion exclusively about 3rd Party wikis; No AI generated content or discussion; All posts should be in English. Non-English comments are allowed.; No asking for game codes/the game/steam accounts; No posting about bigoted mods; Cosplay posts must now be submitted on Sundays. "
        ],
        [
         "4",
         "facepalm",
         "now double verified",
         "/r/facepalm - please sir can I have some more?",
         "en",
         "8145733",
         "2345",
         "No uncivil, bigoted, misogynist, misandrist, racist comments or posts.; No Misinformation; No Memes; No language error posts; No jokes/satire/trolls posts; Remove identifying personal information; No 'likes\"/\"shares\" posts; No \"Reddit Meta\" Posts; No posts about politicians being politicians; No posts attacking a political party or side"
        ],
        [
         "5",
         "interestingasfuck",
         "Interesting As Fuck",
         "For anything truly interesting as fuck",
         "en",
         "13961838",
         "4038",
         "Posts MUST be INTERESTING AS FUCK!; No Politics; Titles must be descriptive and directly related to the content; No porn or gore; No doxing/witch hunts or meta related posts; Provide a source when the title is in doubt; No FCoO/flooding; No self-promotion; Be civil; Repost limitations; No gossip or tabloid-type material; Additional/temporary rules"
        ],
        [
         "6",
         "Damnthatsinteresting",
         "Damn, that's interesting!",
         "For the most interesting things on the internet",
         "en",
         "19795678",
         "3299",
         "Only \"Damnthatsinteresting\" content; Use descriptive titles; No racism, bigotry, or hate speech; No screenshots/memes/infographics; Moderator discretion; No reposts; No politics; Posts making claims must be sourced in comments at time of posting"
        ],
        [
         "7",
         "LivestreamFail",
         "r/LivestreamFail",
         "The place for all things livestreaming.",
         "en",
         "4007153",
         "3960",
         "Harassment: Civility; Harassment: Death & Violence; Harassment: Discrimination; Harassment: Unsourced Allegations; Harassment: Speculation; Harassment: Out of Context Content; Quality: Duplicate Submissions; Quality: Title Guidelines; Quality: Old News; Spam: Engagement Manipulation; Spam:  LSF Meta Posts; Spam: LSF Meta Comments; Spam: Off-topic; Restricted Content; Banned Streamers"
        ],
        [
         "8",
         "pics",
         "Reddit Pics",
         "A place for photographs, pictures, and other images.",
         "en",
         "32398953",
         "3539",
         "No screenshots, AI images, or pictures in which the focus is a screen.; No digital elements or text.; No pornography or gore.; No doxxing or witch-hunts.; Titles must obey all relevant rules.; Only approved image-hosts.; No GIFs or videos.; Remain civil.; No progress-pictures.; No FCoO or flooding.; Reposts are subject to limitations.; No self-promotional accounts."
        ],
        [
         "9",
         "Palworld",
         "Palworld",
         "[Unaffiliated with Pocketpair] \nPalworld is a brand-new multiplayer, open-world survival crafting game where you can befriend and collect mysterious creatures called \"Pals\" in a vast new world! Make your Pals fight, build, farm, work in factories, and more!",
         "en",
         "722697",
         "88",
         "Respect and Courtesy; Relevancy; No Low Effort Content or Spamming; No NSFW or Generally Inappropriate Content; Self Promotion Guidelines; No Sales, Advertisements, or Content Involving Monetary Exchange or Tender.; Art Submission Guidelines; English Only; Piracy, Hacks, and Cheating"
        ],
        [
         "10",
         "AmItheAsshole",
         "Am I the Asshole? ",
         "A catharsis for the frustrated moral philosopher in all of us, and a place to finally find out if you were wrong in an argument that's been bothering you. Tell us about any non-violent conflict you have experienced; give us both sides of the story, and find out if you're right, or you're the asshole. \n\nSee our ~~*Best Of*~~ \"Most Controversial\" at /r/AITAFiltered!",
         "en",
         "24179747",
         "3163",
         "Be Civil; Voting Rules; Accept Your Judgment; Never Delete An Active Discussion; No Violeпce; How To Post; Post Interpersonal Conflicts; No Shitposts, No AI; Do Not Ask For Advice; Updates and META posts are restricted; No Partings/Relationship/Sex/Reproductive Autonomy Posts; This Is Not A Debate Sub; No Revenge Stories; No Medical Conflicts; Review the FAQ Before Participating"
        ],
        [
         "11",
         "mildlyinfuriating",
         "jukmifgguggh",
         "jugkfmghgug",
         "en",
         "10478887",
         "3795",
         "Be civil. Respect Reddiquette and follow Reddit sitewide rules.; No memes, overdone references, price complaints, text-heavy pictures, or other low-quality posts.  ; No Reddit meta posts.; No reposts under 6 months or crossposts unless it's OC.; No GIFs cut short or overly edited GIFs. ; No politics, pushing agendas, or grandstanding. ; Hide or blur personal info such as full names, numbers, and addresses. ; No promotions."
        ],
        [
         "12",
         "Piracy",
         "Piracy: ꜱᴀɪʟ ᴛʜᴇ ʜɪɢʜ ꜱᴇᴀꜱ",
         "⚓ Dedicated to the discussion of digital piracy, including ethical problems and legal advancements.",
         "en",
         "2179942",
         "1824",
         "Posts must be related to the discussion of digital piracy; Don't request invites, trade, sell, or self-promote; Don't request or link to specific pirated titles, including DMs; Show effort and respect"
        ],
        [
         "13",
         "PeterExplainsTheJoke",
         "PeterExplainsTheJoke",
         "Hey gamers, this is the subreddit where you post a meme/joke you don't understand so it can be explained to you. You can also post memes about u/PeterExplainsTheJoke or just post weird pictures of Peter.",
         "en",
         "1819939",
         "665",
         "Poor Behavior; Recently posted jokes; Dogwhistles/Conspiracy Theories; Metaposts; 'Wooooshing' users; Low effort posts; Banned Jokes; Political Shilling / Debating"
        ],
        [
         "14",
         "funny",
         "funny",
         "Reddit's largest humor depository",
         "en",
         "66845994",
         "2551",
         "All posts must make an attempt at humor.; No memes, HIFW, MRW, MeIRL, DAE, or similar posts.; No reposts.; No personal info, no hate speech, no harassment.; No politics or political figures.; No forbidden titles, low-effort titles, or posts about Reddit cakedays.; No gore, pornography, or animal cruelty.; No unoriginal comics.; No pictures of just text.; No social-media, messaging, or AI-generated content."
        ],
        [
         "15",
         "AITAH",
         "AITAH",
         "This is a community like r/AmITheAsshole, except unlike that subreddit you can post interpersonal conflicts. Anything that's AITA including relationships, hypotheticals, even posting about Scar from the Lion King and trying to convince redditors that he was not the AH.\n\nrules: don't berate others and no pornography we have children here",
         "en",
         "4693425",
         "3275",
         "No completely fake posts. ; No AI or Bot post and comments; No karma farming; No third party posts.; Be civil to each other. ; No excessive use of demeaning language or names.; No advertising"
        ],
        [
         "16",
         "movies",
         "Movie News and Discussion",
         "The goal of /r/Movies is to provide an inclusive place for discussions and news about films with major releases. Submissions should be for the purpose of informing or initiating a discussion, not just to entertain readers. Read our extensive list of rules for more information on other types of posts like fan-art and self-promotion, or message the moderators if you have any questions.",
         "en",
         "35497336",
         "4034",
         "Do Familiarize Yourself With Our Rules.; No Intentional Antagonism or Negative Attention Whoring; No Spam & Self-promotion - Same Source Posts; No Image Posts & Memes; No Ambiguous/Misleading/Inaccurate Information or Clickbait in the Submission Title; No Extraneous Comic Book Movie Submissions; No Repost or Discussion Threads of New Releases; No Spoilers; No Encouraging Piracy; No Subreddit Brigading; AI Generated Garbage; No Low Effort Posts; Scuttlebutt and Canards; No Complaints of a Movie OP has Not Completed.; Political Ranting Unrelated to the Movie at Hand"
        ],
        [
         "17",
         "Helldivers",
         "Helldivers",
         "A subreddit dedicated to HELLDIVERS and HELLDIVERS II, intense co-op shooters set in a satirical dystopian future where you play as one of mankind's elite soldiers determined to spread managed democracy. Developed by Arrowhead Game Studios.",
         "en",
         "1975825",
         "876",
         "Be Civil; No reposts; No spamming; No begging; No naming and shaming; Credit the original creator; No low efforts posts/comments; No LFG request posts (use the megathread); Posts/comments must be related to Helldivers; No leaks/cheats/exploits discussions; Limited Self-promotion is allowed; No real-world political discussions; No low-quality rants/vents; Use the Q&A Megathread for simple questions; Submissions must be in English"
        ],
        [
         "18",
         "gaming",
         "r/gaming",
         "The Number One Gaming forum on the Internet.",
         "en",
         "46599439",
         "7308",
         "Not directly gaming related or generic meme template; Posting guidelines, bandwagons, brigades, direct reply posts.; Piracy; Unmarked spoiler / Unmarked NSFW.; No Giveaways / Trades / Contests / Items for sale / Donation requests / Crypto anything; Not original source / Website screenshot; Spam / Excessive self-promotion; Discussion prompts must be posted as self/text posts; Bigotry / Incivility / Toxicity; AMA related rule."
        ],
        [
         "19",
         "worldnews",
         "World News",
         "A place for major news from around the world, excluding US-internal news.",
         "en",
         "45645893",
         "9572",
         "No US Internal News or Politics; No Editorialized or Misleading Titles; No Feature stories; No Editorials, Opinion or Analysis Pieces; No Articles In Languages Other Than English; No Images, Videos or Audio Clips; No Old News Articles (≥ 1 Week old); Your content might be removed if /r/worldnews is not the appropriate subreddit for the story.; No Bigotry or Other Offensive Content; No Personal Attacks On Other Users; No Memes, Gifs, unlabeled NSFW images; No chatGPT bots or copy/paste bots"
        ],
        [
         "20",
         "leagueoflegends",
         "League of Legends",
         "This is a subreddit devoted to the game League of Legends.",
         "en",
         "8135989",
         "2369",
         "Please Read the full Rules on the sub. These are just several important ones; No Personal Attacks; All Claims Require Evidence; No Excessively Sexual or Violent Content/No NSFW; Don't Discuss or Advertise Cheats or Exploits; Posts Must Be Directly Related To League of Legends; Specific restricted content (see rules for list); Don't Address Individuals or Distinct Entities; Feature Suggestions; Personal Stories; Spoilers have to be tagged; Esports Content Restrictions; No Vague or Misleading Titles; Short duration content belongs in a text post; Reposts"
        ],
        [
         "21",
         "pcmasterrace",
         "PC Master Race - PCMR: A place where all enthusiasts of PC, PC gaming and PC technology are welcome!",
         "Welcome to the official subreddit of the PC Master Race / PCMR!\n\nAll PC-related content is welcome, including build help, tech support, and any doubt one might have about PC ownership.\n\nYou don't necessarily need a PC to be a member of the PCMR. You just have to love PCs. It's not about the hardware in your rig, but the software in your heart!\n\nJoin us in celebrating and promoting tech, knowledge, and the best gaming, study, and work platform there exists. The Personal Computer.",
         "en",
         "15127454",
         "1806",
         "Harassment/calls to action against others; Follow PCMR Etiquette; Do not link to outside threads; Anonymize all images/screenshots; No referral or affiliate links; Low quality, unrelated, unoriginal or low-effort posts will be deleted at mod discretion.; Do not discriminate against others; No begging, trading, selling, or asking for valuation.; Do not abuse the NSFW or Spoiler tags; Peasantry posts must be self posts; Giveaway rules; Read our full rules here"
        ],
        [
         "22",
         "Unexpected",
         "Unexpected",
         "This subreddit is for unexpected twists in videos and gifs.",
         "en",
         "11547639",
         "901",
         "Expected/No twist; Keep Content Civil; Unmarked NSFW/NSFL; No Reposts; Bad Title; No low/poor quality videos; No death or abuse; No minors; No glorifying violence/tragedy; Politics; No Pictures of Text - visit /r/unextexted; No stealing content; No linking to Reddit; Follow Reddit's TOS"
        ],
        [
         "23",
         "news",
         "News",
         "The place for news articles about current events in the United States and the rest of the world. Discuss it all here.",
         "en",
         "30164625",
         "6295",
         "Submissions must be articles about a specific news event; Old News; No opinion/analysis or advocacy pieces; Articles must not be primarily concerning politics; No editorialized titles; Title must match article title; No paywalls/blogspam that steals content; No posts covering an already submitted story; Do not be racist, sexist, vitriolic, or overly crude; Do not be unnecessarily rude or provocative; No cheap or distracting jokes or memes; No witchhunting. Follow the Reddit Content Policy.; Do not advocate or celebrate death; No bots/Novelty accounts"
        ],
        [
         "24",
         "politics",
         "Politics",
         "/r/Politics is for news and discussion about U.S. politics.",
         "en",
         "8822252",
         "8842",
         "General: No hateful speech; General: No novelty accounts or bots; General: No spam or solicitation; Comments: No incivility or personal attacks towards users; Comments: No flaming, baiting, or trolling; Comments: No witch hunts or personal information; Comments: Follow AMA specific rules; Posts: Submissions must be explicitly about US politics; Posts: Submissions must be published within the last 7 days; Posts: Submissions must be from the Approved Domain List; Posts: Titles must be the exact headline from the article with minor exceptions; Posts: Do not flood the new queue; Posts: No copy-pasted submissions or non-English articles; Posts: Disallowed submission types; Posts: Disclose employment or affiliation with a source"
        ],
        [
         "25",
         "wallstreetbets",
         "wallstreetbets",
         "Like 4chan found a Bloomberg Terminal.",
         "en",
         "18670873",
         "5996",
         "Avoid Purely Political Discussion; Screenshots of Social Media Posts are Prohibited; Market Cap Must Be Above $500MM USD; Keep Threads Interesting, Otherwise Use the Daily!; YOLOs Must Be Above $10K or $25K (Options, Shares); Gains and Losses Must Be Above $2.5K or $5K (Options, Shares); Gains and Losses Must Be Realized; Only Crypto Allowed is BTC and ETH; Avoid Pump & Dumps, Short Squeezes, and Market Manipulation; No Bullshitting - Only Comment If You Know What You're Talking About; Please Don't Derail Discussion by Brigading, Spreading Hate, or Downvoting Everyone; Don't Shit on the Community; No Advertisement, Self-Promotion, Fundraising, or Begging; Content Guidelines; Glorifying Losses is Unacceptable"
        ],
        [
         "26",
         "todayilearned",
         "Today I Learned (TIL)",
         "You learn something new every day; what did you learn today?\nSubmit interesting and specific facts about something that you just found out here.",
         "en",
         "40508942",
         "6548",
         "Inaccurate/unverifiable/not supported by source; No personal opinions/anecdotes/subjective posts; No recent sources; No politics/agenda pushing; No misleading claims; Too general/can't stand on its own/how to; No submissions about software/websites; All NSFW links must be tagged."
        ],
        [
         "27",
         "nottheonion",
         "Sadly, this is not the Onion.",
         "For true stories that you could have sworn were from The Onion.",
         "en",
         "25679956",
         "2142",
         "Do not alter headlines.; Submissions must be oniony.; Only submit news articles.; Use original, reliable sources.; Do not repost similar articles.; No satire articles; No tabloid sources; No old news.; Only submit articles in English.; Do not post mobile links.; No blocked or redirected links; No personal attacks, racism, sexism, or bigotry; Don’t break Reddit rules."
        ],
        [
         "28",
         "memes",
         "/r/Memes the original since 2008",
         "Memes!\n\nA way of describing cultural information being shared.\nAn element of a culture or system of behavior that may be considered to be passed from one individual to another by nongenetic means, especially imitation.",
         "en",
         "35469931",
         "967",
         "Rule 1 - ALL POSTS MUST BE MEMES and FOLLOW A GENERAL MEME FORMAT; Rule 2 - NO MEMES ABOUT POLARIZING/POLITICAL TOPICS, VULNERABLE GROUPS, VIOLENCE, ETC. [SEE LIST]; Rule 3 - NO SPAM/CHAINPOSTING and NO OVERUSED/PROHIBITED MEME TEMPLATES [SEE LIST]; Rule 4 - NO INTERACTION-BAITING POSTS/TITLES and NO IDENTIFYING INFO/WATERMARKS; Rule 5 - NO VIDEOS LONGER THAN 15 SECONDS and DIRECT REDDIT UPLOADS ONLY (NO LINKS); Rule 6 - ONLY POST MEMES YOU ACTUALLY MADE YOURSELF/NO REPOSTS and NO BAD CROPPING/LOW-RES MEMES"
        ],
        [
         "29",
         "PublicFreakout",
         "/r/PublicFreakout",
         "A subreddit dedicated to people freaking out, melting down, losing their cool, or being weird in public.",
         "en",
         "4708767",
         "2282",
         "Rule 1; No doxxing; Rule 2; Use tact videos involving mental disorders; Rule 3; Abusive comments will be removed; Rule 4; No racism, sexism, transphobia or bigotry; Rule 5; Video posts only; Rule 6; Text Posts require moderator approval.; Rule 7; Posting Guidelines.; Rule 8; No videos involving death/murder.; Rule 9; Facebook Videos are allowed, not encouraged; Rule 10; Submissions must fit community"
        ],
        [
         "30",
         "Wellthatsucks",
         "Well... That sucks...",
         "Posts that make you go: \"Well.. that sucks..\"",
         "en",
         "4071395",
         "927",
         "Please follow reddiquette.; Please be civil.; No injuries; No compilations ; No low effort; No Reposts."
        ],
        [
         "31",
         "explainlikeimfive",
         "Explain Like I'm Five | Don't Panic!",
         "Explain Like I'm Five is the best forum and archive on the internet for layperson-friendly explanations.\n\n\nDon't Panic!",
         "en",
         "23228465",
         "2442",
         "Be Civil; All submissions must seek objective explanations; Top-level comments must be written explanations; Explain for laypeople (but not actual 5-year-olds); ELI5 is for factual information, not opinions; Loaded questions are not allowed; Search before posting; don't repeat old posts; Don't guess; Don't try to trick the bot; Posts must begin with \"ELI5:\"; Link to the Detailed Rules"
        ],
        [
         "32",
         "OutOfTheLoop",
         "What's everyone on about?",
         "A subreddit to help you keep up to date with what's going on with reddit and other stuff.",
         "en",
         "3584343",
         "654",
         "Post title must be a current, unbiased, and coherent question; Text body must include context; Recently asked - already on the frontpage (search); Top-level comment must answer or ask a follow-up; Uncivil; Not a loop - better suited for another subreddit; No AI Answers"
        ],
        [
         "33",
         "OnePiece",
         "One Piece",
         "Welcome to r/OnePiece, the community for Eiichiro Oda's manga and anime series One Piece. From the East Blue to the New World, anything related to the world of One Piece belongs here! If you've just set sail with the Straw Hat Pirates, be wary of spoilers on this subreddit!",
         "en",
         "5164542",
         "426",
         "Be mindful of Spoilers.; No separate posts of chapter thread for 24h; Fanart/cosplay must directly link to the source; Plain panels/scenes must create discourse; Posts must be directly related to One Piece; Self promotion; No Low Effort Meme; No hentai; No posts about One Piece games other than news; No Questions answered in the FAQ/sidebar; Don't be Rude; Flair your posts"
        ],
        [
         "34",
         "BlackPeopleTwitter",
         "Black Twitter",
         "Screenshots of Black people being hilarious or insightful on social media, it doesn't need to just be twitter but obviously that is best.",
         "en",
         "6116748",
         "1406",
         "Social media posts from black people only; Bad Faith Participation; Respectability; No Racism/Hate speech; Posts must be showcasing somebody being hilarious or insightful on social media.; Reddit Cliches; No reposts; Bad post title; Don't complain about the use of AAVE or slang.; Please respect these voices of the users of this community; No posts from corporate or meme accounts; Moderator Fiat; ☑️ Country Club"
        ],
        [
         "35",
         "buildapc",
         "/r/buildapc - Planning on building a computer but need some advice? This is the place to ask!",
         "Planning on building a computer but need some advice? This is the place to ask!\n\n\n /r/buildapc is a community-driven subreddit dedicated to custom PC assembly. Anyone is welcome to seek the input of our helpful community as they piece together their desktop.",
         "en",
         "8034842",
         "1242",
         "Be respectful to others; No build-spoonfeeding requests; No piracy or grey-market software keys; No laptop or prebuilt PC questions; No submissions about hardware news, rumors, or reviews; No submissions about sales, deals or unauthorized giveaways; No submissions about retailer or customer service experiences; No titles that are all-caps, clickbait, PSAs, pro-tips or contain emoji.; No submissions that are low-effort, memes, jokes, meta, or hypothetical / dream builds.; No self-promotion, advertising or surveys; No selling, trading or requests for valuation; No excessive posting (more than one submission in 24 hours); No intentionally harmful, misleading or joke advice; No bots or automated accounts; Ban Appeal"
        ],
        [
         "36",
         "HonkaiStarRail",
         "HonkaiStarRail",
         "Honkai: Star Rail is a strategy-RPG title in the Honkai series that takes players on a cosmic adventure across the stars. Hop aboard the Astral Express and experience the galaxy's infinite wonders on this journey filled with adventure and thrill.",
         "en",
         "1134209",
         "546",
         "Be respectful to others; No leaked / datamined / modded content; Megathreads; Mundane or Repetitive Posts; Original Content Rules; Non-Original Content Rules; Non-OC Art Submission Frequency; NSFW Rules; Be careful with spoilers; Commercial and Self-Promotion Rules; Shipping Rules"
        ],
        [
         "37",
         "SipsTea",
         "SipsTea",
         "Delivering the internet's best content daily. On Wednesdays we post frogs!",
         "en",
         "1635741",
         "1841",
         "No NSFW; No Harassment ; No Toxicity; No Politics; No Sub GC's/Subreddits; No Spam; No Hate; No Impersonation (Catfishing); No Defamation ; No Brigading ; No Self Harm Discussion ; No Baiting; English Only; No Reposts; Reddit Site-Wide Rules"
        ],
        [
         "38",
         "Minecraft",
         "Minecraft on reddit",
         "Minecraft community on Reddit",
         "en",
         "8485731",
         "779",
         "Be civil; Don’t advertise servers or communities; No memes; Don’t post images of text; Do not promote illegal or unethical practices; Stay on topic; Avoid chain posting; Explain your suggestions with a text post; Use a search engine, the wiki or community support before asking questions here; Speak English only.; Keep self-promotion to a minimum; Follow our standards for quality.; Don't post banned topics"
        ],
        [
         "39",
         "mildlyinteresting",
         "For photos that are, you know, mildly interesting",
         "Aww, cripes. I didn't know I'd have to write a description. How many words is that so far, like a hundred? Soooo, yeah. Mildly interesting stuff. Stuff that interests you. Mildly. It's in the name, ffs.",
         "en",
         "24584963",
         "1880",
         "No Memes; No Related Posts; No X-Posts or Reposts; Original [OC] Photographs Only; No Screenshots; Titles Must Be Exact But Concise Descriptions"
        ],
        [
         "40",
         "nfl",
         "NFL: National Football League Discussion",
         "The place to discuss all NFL related things",
         "en",
         "12371281",
         "3025",
         "Off Topic Content; Low effort/Joke Posts/Repost; Editorialized Title; All news should be sourced; Highlights: During Games; Personal Life/Off Field, Serious illness, deaths, and arrests for current or former players; Official threads are official and not unofficial; Original Content v. promotion and spam; Personal attack or any kind of slur; Off-Season Posting Policy"
        ],
        [
         "41",
         "BeAmazed",
         "I bet you will /r/BeAmazed!",
         "A place to find and share things which are amazing in a positive way.",
         "en",
         "8928033",
         "430",
         "Post Appropriate Content; No Porn, Gore or Very Disturbing Content; No War or Politics related posts; No Misleading Content; Don’t be rude to others"
        ],
        [
         "42",
         "DIY",
         "DIY",
         "DIY",
         "en",
         "26629669",
         "656",
         "All content must be DIY; Basic Community Rules; NSFW / Reddiquette / Civility; 𝗡𝗼 𝗦𝗮𝗹𝗲𝘀 | 𝗣𝗿𝗼𝗺𝗼𝘁𝗶𝗼𝗻𝘀 | 𝗔𝗱𝘃𝗲𝗿𝘁𝗶𝘀𝗶𝗻𝗴; Google First, Reddit Last | Product Search; Low effort posts; Content / Topics not suited for r/DIY; Rating & Reviewing Products or Brands; Sometimes you let the professionals handle it; No AI Content"
        ],
        [
         "43",
         "nba",
         "NBA",
         "A community for NBA discussion.",
         "en",
         "16087593",
         "4426",
         "Be civil and respectful; No trolling or baiting users; No racist, sexist, or homophobic language; No reposts; No fake news; No self-promotion; No NSFW content; Posts and comments must be relevant to the NBA; Stats/Player Tweets/Quotes/Misc. Media are self-post only and must be sourced; No Reaction Posts; r/nba no longer permits links/references to Twitter/X (or alts), Facebook, Instagram, and Threads; Use the Daily Discussion Thread"
        ],
        [
         "44",
         "MapPorn",
         "Map Porn, for interesting maps",
         "High quality images of maps.",
         "en",
         "5801395",
         "743",
         "Posts must be maps; No Low Effort Memes; Must meet aesthetic standards; No Advertising; No Repost Bots"
        ],
        [
         "45",
         "Steam",
         "Steam on Reddit",
         "A subreddit for members of the Steam Community and fans of steam.\n\nDiscord: discord.gg/steam",
         "en",
         "4857400",
         "677",
         "Basic Requirements and Quality Standards; Common or Unrelated Content; Support; Bugs or Exploits; Advertising, User-Generated Content, or Surveys; Gambling, Scams, Cheating, or Trading; Begging, Charity, or Giveaways; Game Advice or Asking For Friends; Accusations or Witch Hunts; Steam Subscriber Agreement or Reddiquette"
        ],
        [
         "46",
         "Overwatch",
         "Overwatch",
         "Subreddit for all things Overwatch™, Overwatch 2™ and the Overwatch™ Universe, the team-based shooter from Blizzard Entertainment.",
         "en",
         "6057927",
         "752",
         "Must be relevant to Overwatch.; Titles must be clear and accurate.  No spoilers in titles.; No low-quality, low-effort, or repetitive content.; No NSFW/NSFL content.; Be civil. No personal attacks or hateful speech.; Terms of Service Violations; No Witchhunting or Cheating Accusations.; Site Violations; Use Correct Flair."
        ],
        [
         "47",
         "Genshin_Impact",
         "Genshin Impact Official",
         "This is the official community for Genshin Impact (原神), the latest open-world action RPG from HoYoverse. The game features a massive, gorgeous map, an elaborate elemental combat system, engaging storyline & characters, co-op game mode, soothing soundtrack, and much more for you to explore!",
         "en",
         "3618874",
         "816",
         "Be respectful and civil; Relevance to Genshin Impact; Megathread; No account trading or commercial promotion; NSFW rules; Non-OC art rules; OC rules; Mark spoilers; Post quality; Self-promotion rules; Overall subreddit quality; Cosplay Rules and guidelines"
        ],
        [
         "48",
         "classicwow",
         "WoW: Classic",
         "A community for World of Warcraft: Classic fans.",
         "en",
         "678347",
         "546",
         "Content must be related to WoW: Classic; Be civil and respectful; No witch hunts or brigading; Do not share or encourage the use of exploits, cheats, existing private servers, RWT, etc; No real world politics or religion; Flag NSFW content; Restricted content and extended rule-set; Flair your posts accurately; Follow Content Creator Guidelines"
        ],
        [
         "49",
         "soccer",
         "The back page of the internet.",
         "The football subreddit. \n\nNews, results, and discussion about the beautiful game.",
         "en",
         "8590217",
         "7417",
         "Follow reddiquette; No racism, homophobia, xenophobia, sexism or other offensive behaviour; Be on topic; No shit-posting; No Duplicates; No NSFW content; You must link sources for news, quotes and stats; Only valuable image and stat submissions; Please use factual and objective titles; No low-effort questions as top-level submissions; Hard paywalled content should be summarised, but not copied.; No Baiting/Trolling; Follow the Submission Guidelines and use the correct Flair creating a new post."
        ]
       ],
       "shape": {
        "columns": 7,
        "rows": 100
       }
      },
      "text/html": [
       "<div>\n",
       "<style scoped>\n",
       "    .dataframe tbody tr th:only-of-type {\n",
       "        vertical-align: middle;\n",
       "    }\n",
       "\n",
       "    .dataframe tbody tr th {\n",
       "        vertical-align: top;\n",
       "    }\n",
       "\n",
       "    .dataframe thead th {\n",
       "        text-align: right;\n",
       "    }\n",
       "</style>\n",
       "<table border=\"1\" class=\"dataframe\">\n",
       "  <thead>\n",
       "    <tr style=\"text-align: right;\">\n",
       "      <th></th>\n",
       "      <th>name</th>\n",
       "      <th>title</th>\n",
       "      <th>description</th>\n",
       "      <th>language</th>\n",
       "      <th>subscribers</th>\n",
       "      <th>active_user_count</th>\n",
       "      <th>rules</th>\n",
       "    </tr>\n",
       "  </thead>\n",
       "  <tbody>\n",
       "    <tr>\n",
       "      <th>0</th>\n",
       "      <td>Home</td>\n",
       "      <td>Home</td>\n",
       "      <td>NaN</td>\n",
       "      <td>en</td>\n",
       "      <td>307843</td>\n",
       "      <td>51</td>\n",
       "      <td>NaN</td>\n",
       "    </tr>\n",
       "    <tr>\n",
       "      <th>1</th>\n",
       "      <td>AskReddit</td>\n",
       "      <td>Ask Reddit...</td>\n",
       "      <td>r/AskReddit is the place to ask and answer tho...</td>\n",
       "      <td>es</td>\n",
       "      <td>54701432</td>\n",
       "      <td>9986</td>\n",
       "      <td>Rule 1 - Questions must be clear and direct an...</td>\n",
       "    </tr>\n",
       "    <tr>\n",
       "      <th>2</th>\n",
       "      <td>NoStupidQuestions</td>\n",
       "      <td>No such thing as stupid questions</td>\n",
       "      <td>Ask away!\\n\\nDisclaimer: This is an anonymous ...</td>\n",
       "      <td>en</td>\n",
       "      <td>6021303</td>\n",
       "      <td>4872</td>\n",
       "      <td>Top level comments must contain a genuine huma...</td>\n",
       "    </tr>\n",
       "    <tr>\n",
       "      <th>3</th>\n",
       "      <td>BaldursGate3</td>\n",
       "      <td>Baldur's Gate 3</td>\n",
       "      <td>A community all about Baldur's Gate III, the r...</td>\n",
       "      <td>en</td>\n",
       "      <td>3118378</td>\n",
       "      <td>1384</td>\n",
       "      <td>Be civil to one another.; Respect the opinions...</td>\n",
       "    </tr>\n",
       "    <tr>\n",
       "      <th>4</th>\n",
       "      <td>facepalm</td>\n",
       "      <td>now double verified</td>\n",
       "      <td>/r/facepalm - please sir can I have some more?</td>\n",
       "      <td>en</td>\n",
       "      <td>8145733</td>\n",
       "      <td>2345</td>\n",
       "      <td>No uncivil, bigoted, misogynist, misandrist, r...</td>\n",
       "    </tr>\n",
       "    <tr>\n",
       "      <th>...</th>\n",
       "      <td>...</td>\n",
       "      <td>...</td>\n",
       "      <td>...</td>\n",
       "      <td>...</td>\n",
       "      <td>...</td>\n",
       "      <td>...</td>\n",
       "      <td>...</td>\n",
       "    </tr>\n",
       "    <tr>\n",
       "      <th>95</th>\n",
       "      <td>SteamDeck</td>\n",
       "      <td>Steam Deck</td>\n",
       "      <td>The Unofficial Subreddit for the Valve Steam D...</td>\n",
       "      <td>en</td>\n",
       "      <td>903284</td>\n",
       "      <td>446</td>\n",
       "      <td>Be Kind Or Get Banned; Posts must be about or ...</td>\n",
       "    </tr>\n",
       "    <tr>\n",
       "      <th>96</th>\n",
       "      <td>college</td>\n",
       "      <td>College</td>\n",
       "      <td>The subreddit for discussion related to colleg...</td>\n",
       "      <td>en</td>\n",
       "      <td>2911405</td>\n",
       "      <td>76</td>\n",
       "      <td>Do not post spam or surveys.; Do not post anyt...</td>\n",
       "    </tr>\n",
       "    <tr>\n",
       "      <th>97</th>\n",
       "      <td>manga</td>\n",
       "      <td>/r/manga: manga, on reddit.</td>\n",
       "      <td>Everything and anything manga!  (manhwa/manhua...</td>\n",
       "      <td>en</td>\n",
       "      <td>4725267</td>\n",
       "      <td>1480</td>\n",
       "      <td>Disrespectful; Follow submission guidelines wh...</td>\n",
       "    </tr>\n",
       "    <tr>\n",
       "      <th>98</th>\n",
       "      <td>CrazyFuckingVideos</td>\n",
       "      <td>CrazyFuckingVideos</td>\n",
       "      <td>Crazy fucking videos for your viewing pleasure</td>\n",
       "      <td>en</td>\n",
       "      <td>2240152</td>\n",
       "      <td>799</td>\n",
       "      <td>Follow Reddit's TOS; Be civil; Must be a Crazy...</td>\n",
       "    </tr>\n",
       "    <tr>\n",
       "      <th>99</th>\n",
       "      <td>rareinsults</td>\n",
       "      <td>r/RareInsults</td>\n",
       "      <td>Did you stumble across a unique insult? Lookin...</td>\n",
       "      <td>en</td>\n",
       "      <td>2924628</td>\n",
       "      <td>201</td>\n",
       "      <td>Don't be a dick; No hateful insults; Repost; N...</td>\n",
       "    </tr>\n",
       "  </tbody>\n",
       "</table>\n",
       "<p>100 rows × 7 columns</p>\n",
       "</div>"
      ],
      "text/plain": [
       "                  name                              title  \\\n",
       "0                 Home                               Home   \n",
       "1            AskReddit                      Ask Reddit...   \n",
       "2    NoStupidQuestions  No such thing as stupid questions   \n",
       "3         BaldursGate3                    Baldur's Gate 3   \n",
       "4             facepalm                now double verified   \n",
       "..                 ...                                ...   \n",
       "95           SteamDeck                         Steam Deck   \n",
       "96             college                            College   \n",
       "97               manga        /r/manga: manga, on reddit.   \n",
       "98  CrazyFuckingVideos                 CrazyFuckingVideos   \n",
       "99         rareinsults                      r/RareInsults   \n",
       "\n",
       "                                          description language  subscribers  \\\n",
       "0                                                 NaN       en       307843   \n",
       "1   r/AskReddit is the place to ask and answer tho...       es     54701432   \n",
       "2   Ask away!\\n\\nDisclaimer: This is an anonymous ...       en      6021303   \n",
       "3   A community all about Baldur's Gate III, the r...       en      3118378   \n",
       "4      /r/facepalm - please sir can I have some more?       en      8145733   \n",
       "..                                                ...      ...          ...   \n",
       "95  The Unofficial Subreddit for the Valve Steam D...       en       903284   \n",
       "96  The subreddit for discussion related to colleg...       en      2911405   \n",
       "97  Everything and anything manga!  (manhwa/manhua...       en      4725267   \n",
       "98     Crazy fucking videos for your viewing pleasure       en      2240152   \n",
       "99  Did you stumble across a unique insult? Lookin...       en      2924628   \n",
       "\n",
       "    active_user_count                                              rules  \n",
       "0                  51                                                NaN  \n",
       "1                9986  Rule 1 - Questions must be clear and direct an...  \n",
       "2                4872  Top level comments must contain a genuine huma...  \n",
       "3                1384  Be civil to one another.; Respect the opinions...  \n",
       "4                2345  No uncivil, bigoted, misogynist, misandrist, r...  \n",
       "..                ...                                                ...  \n",
       "95                446  Be Kind Or Get Banned; Posts must be about or ...  \n",
       "96                 76  Do not post spam or surveys.; Do not post anyt...  \n",
       "97               1480  Disrespectful; Follow submission guidelines wh...  \n",
       "98                799  Follow Reddit's TOS; Be civil; Must be a Crazy...  \n",
       "99                201  Don't be a dick; No hateful insults; Repost; N...  \n",
       "\n",
       "[100 rows x 7 columns]"
      ]
     },
     "execution_count": 5,
     "metadata": {},
     "output_type": "execute_result"
    }
   ],
   "source": [
    "reddit.df"
   ]
  },
  {
   "cell_type": "code",
   "execution_count": 6,
   "id": "e5d78d15",
   "metadata": {},
   "outputs": [
    {
     "name": "stdout",
     "output_type": "stream",
     "text": [
      "\n",
      "Starting data cleaning process... 🧹🧼\n",
      "Cleaning column: description\n",
      "Cleaning column: active_month\n",
      "Cleaning column: languages\n",
      "Cleaning column: rules\n",
      "Cleaning column: total_users\n",
      "Data is all clean and shiny! ✨🫧\n",
      "\n",
      "Starting data cleaning process... 🧹🧼\n",
      "Cleaning column: description\n",
      "Cleaning column: languages\n",
      "Cleaning column: total_users\n",
      "Cleaning column: active_month\n",
      "Cleaning column: rules\n",
      "Data is all clean and shiny! ✨🫧\n"
     ]
    }
   ],
   "source": [
    "mastodon.clean()\n",
    "reddit.clean()"
   ]
  },
  {
   "cell_type": "code",
   "execution_count": 7,
   "id": "7844084b",
   "metadata": {},
   "outputs": [
    {
     "data": {
      "application/vnd.microsoft.datawrangler.viewer.v0+json": {
       "columns": [
        {
         "name": "index",
         "rawType": "int64",
         "type": "integer"
        },
        {
         "name": "domain",
         "rawType": "object",
         "type": "string"
        },
        {
         "name": "title",
         "rawType": "object",
         "type": "string"
        },
        {
         "name": "description",
         "rawType": "object",
         "type": "string"
        },
        {
         "name": "active_month",
         "rawType": "int64",
         "type": "integer"
        },
        {
         "name": "languages",
         "rawType": "object",
         "type": "unknown"
        },
        {
         "name": "rules",
         "rawType": "object",
         "type": "unknown"
        },
        {
         "name": "total_users",
         "rawType": "int64",
         "type": "integer"
        }
       ],
       "ref": "2fe300a3-a0e4-46c3-a10e-0e0ba50e5f8f",
       "rows": [
        [
         "0",
         "mastodon.social",
         "Mastodon",
         "The original server operated by the Mastodon gGmbH non-profit",
         "327503",
         "['en']",
         "[{'id': '1', 'text': 'Sexually explicit or violent media must be marked as sensitive or with a content warning', 'hint': 'This includes content that is particularly provocative even if it may not show specific body parts, as well as dead bodies, bloody injuries, and other gore. Particularly obscene content may be prohibited entirely. Profile pictures and header images may not contain sexually explicit or violent media.'}, {'id': '2', 'text': 'No racism, sexism, homophobia, transphobia, ableism, xenophobia, or casteism.', 'hint': 'Transphobic behavior such as intentional misgendering and deadnaming is strictly prohibited. Promotion of \"conversion therapy\" is strictly prohibited. Criticism of governments and religions is permissible unless being used as a proxy for discrimination.'}, {'id': '3', 'text': 'No incitement of violence or promotion of violent ideologies', 'hint': 'Calling for people or groups to be assassinated, murdered, or attacked physically is strictly prohibited. Support for violent groups or events is prohibited.'}, {'id': '4', 'text': 'No harassment, block evasion, dogpiling, or doxxing of others', 'hint': 'Repeat attempts to communicate with users who have blocked you or creation of accounts solely to harass or insult individuals is strictly prohibited. Coordinated activity to attack other users is prohibited. Posting of private personal information about others is prohibited.'}, {'id': '7', 'text': 'Do not share information widely-known to be false and misleading', 'hint': 'False and misleading information and links from low-quality sources may not be posted, especially if they are likely to mislead or confuse others or endanger their safety.'}, {'id': '1008', 'text': 'Content created by others must be attributed, and use of generative AI must be disclosed', 'hint': 'Content created by others must clearly provide a reference to the author, creator, or source. For adult content, this should include performers. Accounts may not solely post AI-generated content.'}]",
         "2711879"
        ],
        [
         "1",
         "mstdn.social",
         "Mastodon 🐘",
         "A general-purpose Mastodon server with a 500 character limit. All languages are welcome.",
         "14546",
         "['en']",
         "[{'id': '2', 'text': 'Sexually explicit or violent media must be marked as sensitive when posting.', 'hint': ''}, {'id': '3', 'text': 'No spam or advertising.', 'hint': ''}, {'id': '4', 'text': 'No racism, sexism, homophobia, transphobia, xenophobia, or casteism.', 'hint': ''}, {'id': '5', 'text': 'No incitement of violence or promotion of violent ideologies.', 'hint': ''}, {'id': '6', 'text': 'No harassment, dogpiling or doxxing of other users.', 'hint': ''}, {'id': '7', 'text': 'No illegal content.', 'hint': ''}, {'id': '11', 'text': 'No spreading of fake news or misinformation', 'hint': ''}, {'id': '12', 'text': 'Content created by others must be attributed, and use of AI must be disclosed. Profiles that only post AI-generated content will not be tolerated.', 'hint': ''}]",
         "260323"
        ],
        [
         "2",
         "infosec.exchange",
         "Infosec Exchange",
         "A Mastodon instance for info/cyber security-minded people.\n",
         "13319",
         "['en']",
         "[{'id': '1', 'text': 'Do unto others as you think they would want done to them.  ', 'hint': ''}, {'id': '2', 'text': 'Mark sensitive content with a content warning.  ', 'hint': ''}, {'id': '3', 'text': 'Gratuitous obscenity that serves no practical benefit to a discussion is not permitted.', 'hint': ''}, {'id': '4', 'text': 'Illegal content such as child pornography, unsurprisingly, is not permitted', 'hint': ''}, {'id': '5', 'text': 'Spam is not permitted, this includes creating spam accounts that only serve to provide profile links or advertise products and services. ', 'hint': ''}, {'id': '6', 'text': 'Hate speech and abusive or threatening behavior is not permitted, specifically that which directed at any gender, nationality, religion, race, age, pizza topping preference, or sexual identity.  One can hate on systemd all day long here.', 'hint': ''}, {'id': '7', 'text': \"Lack of a specific rule against a certain behavior does not indicate acceptance of that behavior.  Each of us has a limited amount of time in this world.  Don't be a jerk.  \", 'hint': ''}, {'id': '8', 'text': 'Violating one or more of these rules may result in an immediate, permanent ban without notice or warning.  ', 'hint': ''}, {'id': '9', 'text': 'You may not impersonate a person or brand without a clear indication the account is unofficial and/or a parody. Parody accounts are permitted, as are legitimate brand accounts. ', 'hint': ''}, {'id': '11', 'text': 'No attacks against (or from) the instance.\\r\\n\\r\\nYou may not do anything which may impact confidentiality, integrity or availability of Infosec.Exchange, the users of the service or their data.\\r\\nFor more details see https://wiki.infosec.exchange/rules/start', 'hint': ''}, {'id': '12', 'text': 'No doxing (aka doxxing) or disclosing personal information without consent and as a means of harassing or causing others to harass another person.', 'hint': ''}, {'id': '13', 'text': 'No harassment in the form of continued engagement after a person has requested contact to stop', 'hint': ''}, {'id': '14', 'text': 'Automated posting:\\r\\n- accounts that post >50% using automation must be labeled as a “bot” in the user profile to help provide a visual indicator to visitors\\r\\n- automated posts must be limited to one post per hour/24 per day with post visibility set to “public”. There is no limit on “unlisted” posts.', 'hint': ''}, {'id': '15', 'text': 'Soliciting or inciting violence or harm against a person or segment of people is not permitted. ', 'hint': ''}]",
         "75725"
        ],
        [
         "3",
         "mas.to",
         "mas.to",
         "Hello! mas.to is a fast, up-to-date and fun Mastodon server.",
         "11889",
         "['en']",
         "[{'id': '9', 'text': \"No discrimination, including (but not limited to) racism, sexism, homophobia or transphobia (including targeted misgendering, deadnaming, or promotion of so-called 'conversion therapy').\", 'hint': ''}, {'id': '10', 'text': 'No explicit (NSFW) content without content warnings and/or sensitive media markers. Explicit content must not be used in user avatars or header images.', 'hint': ''}, {'id': '17', 'text': 'No harassment of other users on this or other servers.', 'hint': ''}, {'id': '18', 'text': 'No content illegal in the following countries: United Kingdom, Germany', 'hint': ''}, {'id': '19', 'text': 'No incitement of violence or promotion of violent ideologies.', 'hint': ''}, {'id': '20', 'text': 'No disinformation regarding public health issues or political/military campaigns.', 'hint': ''}, {'id': '21', 'text': 'No spam. This includes commercial advertising, promotion of services, and SEO.', 'hint': ''}, {'id': '22', 'text': 'No impersonation of other individuals, public figures or organisations, unless clearly marked as a parody.', 'hint': ''}, {'id': '23', 'text': 'All automated (bot) accounts must enable the bot flag in their account preferences, respect #nobot markers, and post as unlisted unless making less than one post per hour.', 'hint': ''}]",
         "183608"
        ],
        [
         "4",
         "piaille.fr",
         "Piaille",
         "Piaille.fr est un serveur mastodon public francophone accessible à toutes et à tous.\n\nJoignable via Tor ici :\npiaillesmbiv4wjdy7no6r4eijsv6mlsp3cxrpy37dhmose2jwyqdrid.onion",
         "9221",
         "['fr']",
         "[{'id': '1', 'text': 'Conformément aux lois françaises et à la jurisprudence, les contenus pédopornographiques, y compris sous forme dessinée, sont illégaux et seront supprimés, et les comptes concernés bloqués (si distants) ou supprimés (si local).', 'hint': ''}, {'id': '2', 'text': 'La nudité, les contenus érotiques, pornographiques ou visiblement violents doivent être marqués avec le drapeau \"sensible / sensitive\". Les comptes ne respectant pas cette règle seront supprimés\\r\\n', 'hint': ''}, {'id': '3', 'text': \"La publicité, sous forme répétée et/ou intrusive (faisant mention d'autres utilisateur·ices), n'est pas acceptée. Les comptes concernés seront rendus invisibles aux flux locaux et fédérés, ou supprimés, selon la gravité de la situation.\", 'hint': ''}, {'id': '4', 'text': \"Approchez les personnes avec précaution et politesse. Si une personne vous demande d'arrêter de la mentionner ou qu'elle exprime ne plus vouloir participer à une discussion, arrêtez immédiatement.\", 'hint': ''}, {'id': '5', 'text': 'Est interdit tout propos reproduisant des comportements oppressifs visibles dans la société ( par exemple : racisme, sexisme, lgbtphobie, validisme )\\r\\n', 'hint': ''}, {'id': '6', 'text': 'Sont interdits les avances ou propositions à caractères sexuels non-sollicitées.\\r\\n', 'hint': ''}, {'id': '7', 'text': \"Sont interdit toute conduite, en public ou en privé, ayant pour but de traquer, harceler ou intimider d'autres personnes.\\r\\n\", 'hint': ''}, {'id': '8', 'text': \"Il est interdit de rassembler, publier, disséminer les informations personnelles d'une autre personne sans son autorisation explicite.\\r\\n\", 'hint': ''}, {'id': '9', 'text': 'Il est interdit de poursuivre une conversation ou inciter une personne à poursuivre une interaction avec une personne ayant réclamé la cessation de ladite interaction. Cela peut être considéré comme du harcèlement, indépendamment de la confidentialité employée.\\r\\n', 'hint': ''}, {'id': '10', 'text': 'Est interdit toute tentative de retournement d’une oppression systémique. Par exemple : « racisme anti-blanc », « sexisme anti-homme », « hétérophobie », « cisphobie ».\\r\\n', 'hint': ''}, {'id': '11', 'text': 'Il est interdit de publier ou diffuser intentionnellement des propos diffamatoires, calomnieux, ainsi que toute désinformation avec intention de tromper (le gorafi ou the onion sont donc autorisés). Les profils satiriques doivent être indiqués comme tels dans leur nom et description publique.\\r\\n', 'hint': ''}]",
         "40869"
        ],
        [
         "5",
         "hachyderm.io",
         "Hachyderm.io",
         "Hachyderm is a safe space, LGBTQIA+ and BLM, primarily comprised of tech industry professionals world wide. Note that many non-user account types have restrictions - please see our About page.",
         "8937",
         "['en']",
         "[{'id': '1', 'text': \"Don't be a dick.\", 'hint': ''}, {'id': '2', 'text': 'No hacking.', 'hint': ''}, {'id': '3', 'text': 'No violence.', 'hint': ''}, {'id': '4', 'text': 'No fascism. ', 'hint': ''}, {'id': '5', 'text': 'No colonialism.', 'hint': ''}, {'id': '6', 'text': 'No white supremacy.', 'hint': ''}, {'id': '7', 'text': 'No religious extremism. ', 'hint': ''}, {'id': '9', 'text': 'No nationalism.', 'hint': ''}, {'id': '11', 'text': 'No racism.', 'hint': ''}, {'id': '12', 'text': 'No homophobia.', 'hint': ''}, {'id': '13', 'text': 'No transphobia.', 'hint': ''}, {'id': '14', 'text': 'Safe Space: LGTBQIA+', 'hint': ''}, {'id': '15', 'text': 'Safe Space: neurodivergent (ADHD, Autism, etc.) ', 'hint': ''}]",
         "56318"
        ],
        [
         "6",
         "troet.cafe",
         "troet.cafe  - Mastodon",
         "Hallo im troet.cafe!\nDies ist die derzeit größte deutschsprachige Mastodon Instanz zum tröten, neue Leute kennenlernen, sich auszutauschen und Spaß zu haben.",
         "6850",
         "['de']",
         "[{'id': '3', 'text': 'Keine Belästigung, Stalking und/oder Doxxing von anderen.\\r\\n'}, {'id': '4', 'text': 'Rassismus, Sexismus oder Beschimpfungen haben hier nichts verloren.'}, {'id': '5', 'text': 'Diskriminierung von Geschlechtern und sexuellen Minderheiten haben hier auch nichts verloren.'}, {'id': '7', 'text': 'Nationalistische Propaganda, Nazi-Symbolismus oder Förderung der Ideologie des Nationalsozialismus ist verboten.'}, {'id': '8', 'text': 'Aufrufe zu Gewalttaten sind verboten.\\r\\n'}, {'id': '11', 'text': 'Nicht markierter sexueller Inhalt und/oder Gewaltdarstellungen in jeglicher Form sind nicht erlaubt.'}, {'id': '12', 'text': 'Bots, die ohne ihre expliziten Anfragen mit Nutzer interagieren, werden gelöscht.\\r\\n'}, {'id': '13', 'text': 'Übermässige Werbung / Spam / Spamflut von wiederholenden Tröts sind nicht erwünscht.'}, {'id': '14', 'text': 'Falls du einen NSFW-Only Account erstellen möchtest, ziehe eventuell eine andere Instanz in Betracht. Wahrscheinlich sind wir leider nicht geeignet für dich.'}, {'id': '15', 'text': 'Allgemeine Verstöße gegen geltendes Recht in Deutschland.'}, {'id': '17', 'text': 'Gezieltes Misgendering, Deadnaming oder Werbung für sogenannte \"Konversionstherapien\" sind verboten.'}, {'id': '18', 'text': 'Mir ist bewusst, dass ein Verstoß gegen eine der Serverregeln zur Löschung von einzelnen Beiträgen, oder der Stummschaltung/Löschung des gesamten Accounts führen kann und mit dem Anlegen eines Accounts akzeptiere ich alle Regeln. '}]",
         "46749"
        ],
        [
         "7",
         "mastodon.gamedev.place",
         "Gamedev Mastodon",
         "Mastodon server focused on game development and related topics.",
         "5078",
         "['en']",
         "[{'id': '1', 'text': 'Sexually explicit or violent media must be marked as sensitive when posting', 'hint': ''}, {'id': '2', 'text': 'No racism, sexism, homophobia, transphobia, xenophobia, or casteism', 'hint': ''}, {'id': '3', 'text': 'No incitement of violence or promotion of violent ideologies', 'hint': ''}, {'id': '4', 'text': 'No harassment, dogpiling or doxxing of other users', 'hint': ''}, {'id': '5', 'text': 'No content illegal in EU', 'hint': ''}, {'id': '6', 'text': 'Do not share intentionally false or misleading information', 'hint': ''}]",
         "33441"
        ],
        [
         "8",
         "techhub.social",
         "TechHub",
         "A hub primarily for passionate technologists, but everyone is welcome",
         "5031",
         "['en']",
         "[{'id': '6', 'text': 'Violent media must be marked as sensitive when posting.', 'hint': ''}, {'id': '7', 'text': 'No racism, sexism, homophobia, transphobia, xenophobia, or casteism.', 'hint': ''}, {'id': '8', 'text': 'No incitement of violence or promotion of violent ideologies.', 'hint': ''}, {'id': '9', 'text': 'No harassment, dogpiling or doxxing of other users.', 'hint': ''}, {'id': '10', 'text': 'No content illegal in Canada.', 'hint': ''}, {'id': '11', 'text': 'Do not share false or misleading information that may lead to physical harm.', 'hint': ''}, {'id': '13', 'text': 'No spam, no direct advertising selling products or services, no aggressive promotion. If you promote your website, blog, etc do it responsibly and use a description and tags.', 'hint': ''}, {'id': '14', 'text': 'Bots must be marked as Bot in their profile and bots created after Dec 31st 2024 must post in silent mode', 'hint': ''}, {'id': '15', 'text': 'Sexually explicit content is not allowed', 'hint': ''}, {'id': '16', 'text': 'Agree to Code of Conduct (see about section)', 'hint': ''}]",
         "83099"
        ],
        [
         "9",
         "mastodon.nl",
         "Mastodon.nl door Stichting Activityclub",
         "Mastodon voor de Nederlandse community - door de Nederlandse community - in stand gehouden door Stichting Activityclub",
         "4519",
         "['en']",
         "[{'id': '2', 'text': 'Heb respect voor elkaar'}, {'id': '3', 'text': 'Geen links of referenties naar racistische, hatelijke of offensieve content'}, {'id': '4', 'text': 'Geen accounts en toots die nodeloos ongefundeerd zijn'}, {'id': '5', 'text': 'Geen zaken die in Nederland illegaal zijn'}, {'id': '7', 'text': 'Geen reclame en spam'}, {'id': '9', 'text': 'Bij herhaling provoceren of uitlokken (trolling) is niet toegestaan.'}]",
         "43744"
        ],
        [
         "10",
         "social.tchncs.de",
         "Mastodon",
         "A friendly server from Germany – which tends to attract techy people, but welcomes everybody. This is one of the oldest Mastodon instances.",
         "3697",
         "['en']",
         "[{'id': '1', 'text': 'Be nice to each other', 'hint': ''}, {'id': '2', 'text': 'Do not publish advertisements', 'hint': ''}, {'id': '3', 'text': 'Do not publish conspiracy myths', 'hint': ''}, {'id': '4', 'text': 'Do not publish content illegal in Germany and/or France, such as holocaust denial or Nazi symbolism', 'hint': ''}, {'id': '5', 'text': 'Do not publish content promoting the ideology of National Socialism', 'hint': ''}, {'id': '6', 'text': 'Do not publish content that is hateful towards specific individuals or groups, or intended to cause or incite harm', 'hint': ''}, {'id': '7', 'text': 'Do not exclusively crosspost from other platforms', 'hint': ''}]",
         "22825"
        ],
        [
         "11",
         "kolektiva.social",
         "kolektiva.social",
         "Kolektiva is an anti-colonial anarchist collective that offers federated social media to anarchist collectives and individuals in the fediverse. For the social movements and liberation!",
         "3405",
         "['en']",
         "[{'id': '1', 'text': 'No racism, misogyny, homo/transphobia, ableism or other oppressive behaviour. ', 'hint': ''}, {'id': '2', 'text': 'No right wing bullshit and no authoritarian left wing apologetics. ', 'hint': ''}, {'id': '3', 'text': 'No harassment.', 'hint': ''}, {'id': '4', 'text': 'No electoral propaganda/campaigning.', 'hint': ''}, {'id': '5', 'text': 'No misinformation or conspiracy theories.', 'hint': ''}, {'id': '6', 'text': 'No promotion of capitalism, meritocracy or a commercial enterprise.', 'hint': ''}, {'id': '7', 'text': 'No spam.', 'hint': ''}, {'id': '8', 'text': 'No sexualized images without consent.', 'hint': ''}, {'id': '9', 'text': 'No glorification of nation states or militarism.', 'hint': ''}, {'id': '10', 'text': 'Propaganda from the USSR, CCP, or DPRK is not allowed.', 'hint': ''}]",
         "40004"
        ],
        [
         "12",
         "norden.social",
         "norden.social",
         "Moin! Dies ist die Mastodon-Instanz für Nordlichter, Schnacker und alles dazwischen. Folge dem Leuchtturm.",
         "3383",
         "['en']",
         "[{'id': '12', 'text': 'Respektvoller Umgang', 'hint': 'Sei freundlich und respektvoll. Persönliche Angriffe, Beleidigungen oder herablassendes Verhalten werden nicht toleriert.'}, {'id': '13', 'text': 'Keine Diskriminierung', 'hint': 'Diskriminierung oder Hass aufgrund von Herkunft, Geschlecht, sexueller Orientierung, Geschlechtsidentität, Behinderung, Einschränkungen (Ableismus), Religion oder anderen persönlichen Merkmalen sind verboten.'}, {'id': '14', 'text': 'Einhaltung von Gesetzen und Urheberrechten', 'hint': 'Veröffentliche keine illegalen Inhalte oder Materialien, die Urheberrechte verletzen. Solche Beiträge werden entfernt, und wiederholte Verstöße können zur Kontosperrung führen.'}, {'id': '15', 'text': 'Schutz der Privatsphäre', 'hint': 'Teile keine persönlichen Daten ohne ausdrückliche Zustimmung der betroffenen Personen. Überlege sorgfältig, welche Informationen du öffentlich machst.'}, {'id': '16', 'text': 'Kennzeichnung anstößiger und nicht jugendfreier Inhalte', 'hint': 'Markiere Inhalte, die als anstößig oder jugendgefährdend gelten, mit einer Inhaltswarnung und (zum Beispiel per Hashtag) als “NSFW” (Not Safe for Work). Beachte, dass unsere Instanz möglicherweise nicht für Accounts geeignet ist, die ausschließlich jugendgefährende Inhalte teilen.'}, {'id': '17', 'text': 'Automatisierte Beiträge', 'hint': 'Automatisierte Inhalte wie Bots oder Crossposts müssen als “Öffentlich (Still)” veröffentlicht werden. Konten, die ohne aktive Teilnahme ausschließlich automatisierte Inhalte posten, können entfernt werden.'}, {'id': '18', 'text': 'Keine Belästigung oder Spam', 'hint': 'Belästigung, Mobbing, unerwünschte Kontaktaufnahmen, Spam oder die Verbreitung von Schadsoftware sind untersagt.'}, {'id': '19', 'text': 'Verbot extremistischer Inhalte', 'hint': 'Inhalte mit Nazi-Symbolik, extremistischer Propaganda oder Hassrede sind strengstens verboten.'}, {'id': '20', 'text': 'Authentizität bewahren', 'hint': 'Erstelle keine Fake-Profile und gib dich nicht als jemand anderes aus.'}, {'id': '21', 'text': 'Keine absichtliche Verbreitung von Falschinformationen', 'hint': 'Das bewusste Verbreiten von falschen Informationen, die der Community oder der Gesellschaft schaden könnten, ist verboten.'}]",
         "13802"
        ],
        [
         "13",
         "mastodonapp.uk",
         "Mastodon App UK",
         "UK Hosted and Managed Mastodon Instance. General communal space for discussion, everyone welcome! Now with a 1000 character limit for posts!",
         "3227",
         "['en']",
         "[{'id': '1', 'text': 'Sexually explicit or violent media must be marked as sensitive & content warned when posting'}, {'id': '2', 'text': 'Be respectful. Racism, sexism, homophobia, transphobia (including targeted misgendering, deadnaming, or promotion of so-called \"conversion therapy\"), xenophobia, and other forms of hate and discrimination are not welcome. Your behaviour elsewhere may also be considered if brought to our attention. '}, {'id': '3', 'text': 'No incitement of violence or promotion of discriminatory or violent ideologies'}, {'id': '4', 'text': 'No spam, harrassment, dogpiling or doxxing of other users, this includes mass and spam reporting'}, {'id': '5', 'text': 'No content illegal in The United Kingdom'}, {'id': '6', 'text': 'No intentionally false or misleading information. By extension, do not pose as persons of interest. '}, {'id': '7', 'text': 'Controversial, reactionary, NSFW, and satirical or similar content may be removed if not obviously Content Warned where appropriate.'}, {'id': '9', 'text': 'No promotion of gambling, Crypto, NFTs, anti-vaccination, self-harm, terrorism, illegal activities, Abuse/exploitation, or Violence.'}, {'id': '10', 'text': 'The sites staff team will ultimately have the final say on any and all moderation actions.'}]",
         "80374"
        ],
        [
         "14",
         "universeodon.com",
         "Universeodon Social Media",
         "Be one with the #fediverse. Join millions of humans building, creating, and collaborating on Mastodon Social Network. Supports 1000 character posts.",
         "3157",
         "['en']",
         "[{'id': '16', 'text': 'Sexually explicit or violent media must be marked as sensitive & content warned when posting'}, {'id': '17', 'text': 'Be respectful. Racism, sexism, homophobia, transphobia (including targeted misgendering, deadnaming, or promotion of so-called \"conversion therapy\"), xenophobia, and other forms of hate and discrimination are not welcome. Your behaviour elsewhere may also be considered if brought to our attention. '}, {'id': '18', 'text': 'No incitement of violence or promotion of discriminatory or violent ideologies'}, {'id': '19', 'text': 'No spam, harrassment, dogpiling or doxxing of other users, this includes mass and spam reporting'}, {'id': '20', 'text': 'No content illegal in The United Kingdom'}, {'id': '21', 'text': 'No intentionally false or misleading information. By extension, do not pose as persons of interest. '}, {'id': '22', 'text': 'Controversial, reactionary, NSFW, and satirical or similar content may be removed if not obviously Content Warned where appropriate.'}, {'id': '23', 'text': 'No promotion of gambling, Crypto, NFTs, anti-vaccination, self-harm, terrorism, illegal activities, Abuse/exploitation, or Violence.'}, {'id': '24', 'text': 'The sites staff team will ultimately have the final say on any and all moderation actions.'}]",
         "81677"
        ],
        [
         "15",
         "mamot.fr",
         "Mamot - Le Mastodon de La Quadrature du Net ",
         "Mamot.fr est un serveur Mastodon francophone, géré par La Quadrature du Net.",
         "3122",
         "['en']",
         "[{'id': '1', 'text': 'Interdiction de la pédopornographique', 'hint': 'Conformément aux lois françaises et à la jurisprudence, les contenus pédopornographiques, y compris sous forme dessinée, sont illégaux et seront supprimés, et les comptes concernés bloqués (si distants) ou supprimés (si local).'}, {'id': '2', 'text': 'Discrétion des médias pornographique violent', 'hint': 'Les contenus pornographiques ou visiblement violents doivent être marqués avec le drapeau \"sensible / sensitive\". Les comptes ne respectant pas cette règle seront rendus invisibles aux flux locaux et fédérés. '}, {'id': '3', 'text': 'Interdiction de la Publicité', 'hint': \"La publicité, sous forme répétée et/ou intrusive (faisant mention d'autres utilisateur·ices), n'est pas acceptée. Les comptes concernés seront rendus invisibles aux flux locaux et fédérés, ou supprimés, selon la gravité de la situation. \"}, {'id': '4', 'text': 'Politesse des discussions', 'hint': \"Approchez les personnes avec précaution et politesse. Si une personne vous demande d'arrêter de la mentionner ou qu'elle exprime ne plus vouloir participer à une discussion, arrêtez immédiatement. \"}, {'id': '5', 'text': 'Interdiction des propos haineux', 'hint': 'Sont interdits les propos, images ou vidéos racistes, sexistes, homophobes ou transphobes.'}, {'id': '7', 'text': 'Interdiction du harcèlement', 'hint': \"Sont interdit toute conduite, en public ou en privé, ayant pour but de traquer, harceler ou intimider d'autres personnes, sexuellement ou non.\"}, {'id': '8', 'text': 'Interdiction de la révélations confidentielles', 'hint': \"Il est interdit de rassembler, publier, disséminer les informations personnelles d'une autre personne sans son autorisation explicite.\"}, {'id': '9', 'text': 'Interdiction de forcer une conversation', 'hint': 'Il est interdit de poursuivre une conversation ou inciter une personne à poursuivre une interaction avec une personne ayant réclamé la cessation de ladite interaction peut être considéré comme du harcèlement, indépendamment de la confidentialité employée.'}, {'id': '10', 'text': \"Interdiction de retournement d'une oppression systémique\", 'hint': 'Est interdit toute tentative de retournement d’une oppression systémique. Par exemple : « racisme anti-blanc », « sexisme anti-homme », « hétérophobie », « cisphobie ».'}, {'id': '11', 'text': 'Interdiction de la diffamation & calomnie', 'hint': 'Il est interdit publier ou diffuser intentionnellement des propos diffamatoires, calomnieux. Cela concerne aussi toute désinformation avec intention de tromper (le gorafi ou the onion sont donc autorisés).'}, {'id': '12', 'text': \"Interdiction du partage d'informations à véracité douteuse avec intention de nuire\", 'hint': \"Il est interdit de partager des informations à véracité douteuse avec intention de nuire. Veilliez à sourcer et à vérifier les informations que vous postez, notamment si elles peuvent nuire à la santé, l'intégrité ou à la sécurité des personnes. Une exigence particulière est apportée aux informations liées à la santé ou l'éducation. \"}, {'id': '13', 'text': 'Attribution : Il est encouragé d’attribuer l’auteur·ce ayant crée le média ou contenu que vous postez', 'hint': 'Cette mesure est surtout destinée à pouvoir généré un avertissement, sans actions, pour prévenir la génération de contenu par IA qui puisse spammer le serveur et le fédiverse.'}, {'id': '14', 'text': 'Création humaine : Il est découragé d’utiliser des outils de génération procédurale ( IA ), et si c’est le cas, ça doit être mentionné', 'hint': 'Cette mesure est surtout destinée à pouvoir généré un avertissement, sans actions, pour prévenir la génération de contenu par IA qui puisse spammer le serveur et le fédiverse.'}, {'id': '15', 'text': 'Interdiction des arnaques. Il est interdit de faire la promotion d’arnaques du type cryptomonnaie, prêts, ventes illégales, soins médicaux, mais sans y être limité.', 'hint': '\\r\\n\\r\\n    Cette mesure permet de supprimer les comptes qui font la promo de scams, de soins douteux, et de manière générale qui sont dans la prédation économique.\\r\\n'}]",
         "39731"
        ],
        [
         "16",
         "nrw.social",
         "NRW.social",
         "Wir sind eine freundliche Mastodon Instanz aus Nordrhein-Westfalen. Ob NRW'ler oder NRW-Sympathifanten, jeder ist hier willkommen.",
         "2756",
         "['de']",
         "[]",
         "18579"
        ],
        [
         "17",
         "c.im",
         "C.IM",
         "C.IM is a general, mainly English-speaking Mastodon instance.",
         "2688",
         "['en']",
         "[{'id': '11', 'text': 'Respect the laws of the Netherlands and the Isle of Man, including those related to hate speech and defamation.', 'hint': ''}, {'id': '12', 'text': 'Threatening, abusive, intolerant or illegal behavior may lead to moderation and/or further measures. We have a zero tolerance approach to racism, sexism, homophobia and transphobia. Moderation decisions are final. ', 'hint': ''}, {'id': '13', 'text': 'The Content Warning flag should be used for NSFW content, and NSFW media should be marked as sensitive.', 'hint': ''}, {'id': '14', 'text': 'Account registrations are monitored and accounts considered spam (including commercial advertising, political campaigning/propaganda, duplicate accounts or impersonating legal entities) will be moderated or removed.', 'hint': ''}, {'id': '15', 'text': 'Do not harass or bully other users.', 'hint': ''}, {'id': '16', 'text': 'Do not share illegal or copyrighted content.', 'hint': ''}, {'id': '17', 'text': 'Do not spam or engage in any form of malicious activity.', 'hint': ''}, {'id': '18', 'text': 'Keep discussions civil and respectful, and refrain from using derogatory language or engaging in personal attacks.', 'hint': ''}, {'id': '19', 'text': 'Do not reveal personal information about other people without their consent.', 'hint': ''}, {'id': '20', 'text': 'Use appropriate tags and content warnings when posting potentially sensitive or triggering content.', 'hint': ''}, {'id': '21', 'text': 'If you see a violation of these rules, report it to the moderation team.', 'hint': ''}, {'id': '22', 'text': 'To use our service, you are at least 18 years old.', 'hint': ''}]",
         "67782"
        ],
        [
         "18",
         "mstdn.ca",
         "Mastodon Canada",
         "A community for Canadians, First Nations, Metis, and Inuit Peoples of the great white north.",
         "2670",
         "['en']",
         "[{'id': '1', 'text': 'No toxic and hateful speech.', 'hint': ''}, {'id': '3', 'text': 'No incitement of violence and no promotion of misleading or violent ideologies.', 'hint': ''}, {'id': '4', 'text': 'No harassment, dogpiling, or unwanted advances.', 'hint': ''}, {'id': '5', 'text': 'No doxxing of other users.', 'hint': ''}, {'id': '6', 'text': \"No content illegal in Canada or copyrighted content that you don't own rights to.\", 'hint': ''}, {'id': '7', 'text': 'Sexually explicit or violent media must be marked appropriately.', 'hint': ''}, {'id': '8', 'text': 'No spamming.\\r\\nExcessive posting, boosting, advertising or mass-marketing posts will be actioned accordingly and based on intent.', 'hint': ''}, {'id': '9', 'text': 'Be yourself.\\r\\nAccounts intended to impersonate or parody are not permitted, and those found to be directly misrepresenting themselves as another person or entity will be actioned accordingly.', 'hint': ''}, {'id': '10', 'text': 'Agree to the Terms of Service and Code of Conduct.', 'hint': ''}]",
         "35494"
        ],
        [
         "19",
         "sfba.social",
         "SFBA.social",
         "A Mastodon instance for the San Francisco Bay Area. Come on in and join us!",
         "2269",
         "['en']",
         "[{'id': '28', 'text': 'Do not use slurs or racist, sexist, homophobic, transphobic, ableist or otherwise discriminatory or hateful jokes or language; or promote white supremacy, anti-Semitism, transphobia, casteist, or other hateful ideologies.', 'hint': ''}, {'id': '29', 'text': 'Do not post content that is illegal in the USA or California.', 'hint': 'This includes unlicensed media. We will remove copyrighted content in response to a valid DMCA notice per our policy.'}, {'id': '30', 'text': 'Do not harass anyone, participate in group harassment of anyone, or otherwise engage in name calling or personal attacks.', 'hint': ''}, {'id': '31', 'text': 'Do not post or threaten to post other people’s personally identifying information (“doxxing”).', 'hint': ''}, {'id': '32', 'text': 'Do not tone police.', 'hint': ''}, {'id': '33', 'text': 'Do not “shitpost” hateful content', 'hint': 'While humorous posts are allowed, even encouraged, “shitposting” is not an exception to rules 1 or 3. There are no ironic slurs.'}, {'id': '34', 'text': 'Do not sell or promote cryptocurrencies or NFTs.', 'hint': ''}, {'id': '62', 'text': 'Do not litigate moderation decisions on the timeline. ', 'hint': 'You can direct message @moderators with concerns.'}, {'id': '63', 'text': 'Mark content that contains nudity, gore, violence, etc. as sensitive and clearly label it with a content warning and/or hashtag.', 'hint': ''}, {'id': '64', 'text': 'Do not post spam.', 'hint': 'There is additional information about what SFBA.social considers spam on the information hub: https://hub.sfba.social/2024/07/05/sfba-social-spam-policy/'}, {'id': '65', 'text': 'Organizations must be based in the SF Bay Area.', 'hint': 'See our Corporate and Organization policy for more details.\\r\\nhttps://hub.sfba.social/governance/corporate-and-organization-accounts-on-sfba-sites/'}]",
         "39192"
        ],
        [
         "20",
         "occm.cc",
         "자커마스 v3",
         "자커마스는 자작 캐릭터 커뮤니티, 즉 자캐커뮤를 위한 마스토돈 인스턴스입니다.\n자캐커뮤에 특화된 서버 설정을 제공하며, 한국어 검색을 지원합니다.",
         "2252",
         "['ko']",
         "[{'id': '1', 'text': '자커마스는 자작 캐릭터 커뮤니티를 위한 마스토돈 인스턴스입니다. 이외 목적의 계정은 사전에 승인받은 경우를 제외하고 7월 11일 오후 10시 이후 금지됩니다.', 'hint': ''}, {'id': '2', 'text': '19세 이상 이용가 내용을 민감한 콘텐츠 체크나 CW 없이 업로드할 수 없습니다.', 'hint': ''}, {'id': '3', 'text': '모든 종류의 혐오 발언을 사용할 수 없습니다. 불가피하게 사용시 열람 주의(CW) 기능을 사용해야 하며, 로컬/연합 타임라인에 노출되지 않도록 프라이버시 설정을 공개로 설정해서는 안됩니다.', 'hint': ''}, {'id': '4', 'text': '기본 공개 범위는 비표시를 권장합니다.', 'hint': ''}, {'id': '5', 'text': ' 공개 타임라인에는 커뮤니티 홍보지 등 누구나 봐야 하는 내용만 업로드 가능합니다. 이외 업로드시 계정 침묵 처리 등 조치가 이루어질 수 있습니다.', 'hint': ''}, {'id': '6', 'text': '타 인스턴스와 교류는 인스턴스 특징상 권장하지 않습니다. 기본적으로 차단하지는 않으나 특정 인스턴스의 요청이 있다면(공개 타임라인 오염 등) 인스턴스 단위 차단이 이루어질 수 있습니다.', 'hint': ''}, {'id': '7', 'text': '일회용 이메일로 가입을 지양합니다. 추후 계정을 찾게 될 수 없게 될수 있으며 이메일 확인시 인증이 불필요한 특성상 타인이 계정 정보를 탈취할 수 있습니다.', 'hint': ''}, {'id': '10', 'text': '총괄 계정은 공지 계정으로 DM(개인적인 멘션)을 보내 주시면 총괄 권한을 부여해 드립니다. 커뮤니티 총괄 계정은 초대 링크를 생성할 수 있습니다.', 'hint': ''}]",
         "9285"
        ],
        [
         "21",
         "mastodon-japan.net",
         "Mastodon Japan Server",
         "こちらはMastodon Japan Server、日本居住および日本語話者向けの汎用サーバーです。\nただし日本国外居住者及び非日本語話者を除外するものではありません。ルール（利用規約）をご確認の上で平和に遊ぼう。",
         "2241",
         "['ja']",
         "[{'id': '2', 'text': '日本国内法は守ってください', 'hint': ''}, {'id': '3', 'text': '露骨な性表現や暴力的なメディアの禁止', 'hint': ''}, {'id': '4', 'text': '差別行為・暴力行為を行わないこと', 'hint': ''}, {'id': '5', 'text': '他のユーザーに対する嫌がらせ行為の禁止', 'hint': ''}]",
         "17108"
        ],
        [
         "22",
         "mastodon.scot",
         "mastodon.scot",
         "A server intended for (but not limited to) users in Scotland or who identify as Scottish.",
         "2178",
         "['en']",
         "[{'id': '10', 'text': \"No discrimination, including (but not limited to) racism, sexism, homophobia or transphobia (including targeted misgendering, deadnaming, or promotion of so-called 'conversion therapy').\", 'hint': ''}, {'id': '11', 'text': 'No explicit (NSFW) content without content warnings and/or sensitive media markers. Explicit content must not be used in user avatars or header images.', 'hint': ''}, {'id': '18', 'text': 'No harassment of other users on this or other servers.', 'hint': ''}, {'id': '19', 'text': 'No content illegal in the following countries: United Kingdom, Germany', 'hint': ''}, {'id': '20', 'text': 'No incitement of violence or promotion of violent ideologies.', 'hint': ''}, {'id': '21', 'text': 'No disinformation regarding public health issues or political/military campaigns.', 'hint': ''}, {'id': '22', 'text': 'No spam. This includes commercial advertising, promotion of services, and SEO.', 'hint': ''}, {'id': '23', 'text': 'No impersonation of other individuals, public figures or organisations, unless clearly marked as a parody.', 'hint': ''}, {'id': '24', 'text': 'All automated (bot) accounts must enable the bot flag in their account preferences, respect #nobot markers, and post as unlisted unless making less than one post per hour.', 'hint': ''}]",
         "29106"
        ],
        [
         "23",
         "sueden.social",
         "sueden.social",
         "Eine Community für alle, die sich dem Süden hingezogen fühlen. Wir können alles außer Hochdeutsch.",
         "1993",
         "['de']",
         "[{'id': '1', 'text': 'Sei kein Arschloch. Du hast eine Meinung? Das ist gut aber bitte beleidige niemanden bei deinen Äußerungen.', 'hint': ''}, {'id': '2', 'text': 'Diskriminiere niemanden. Rassistische, sexistische, frauenfeindliche, homophobe, antisemitische und andere menschenfeindliche Beiträge sind bei uns verboten!', 'hint': ''}, {'id': '3', 'text': 'Halte dich an Gesetze. Ganz einfach. Auch im Internet kann man angezeigt werden.', 'hint': ''}, {'id': '4', 'text': 'Du bist für deine Privatsphäre verantwortlich. Wenn du nicht willst, dass etwas im Internet über dich steht, veröffentliche es nicht.', 'hint': ''}, {'id': '5', 'text': 'Wir legen Wert auf eine gesunde Kommunikation untereinander. Falls du deinen Account nur benutzt um Links zu teilen und ohne Rücksicht Crossposter verwendest, oder für Referral-Link nutzt, werden wir Admins uns bei dir melden.', 'hint': ''}, {'id': '6', 'text': 'Falls du einen NSFW-Only Account erstellen möchtest, ziehe eventuell eine andere Instanz in Betracht. Wahrscheinlich sind wir leider nicht geeignet für dich.', 'hint': ''}, {'id': '7', 'text': 'Wir dulden keine Belästigung, einschließlich Brigading, Dogpiling oder jede andere Form der Kontaktaufnahme mit einem Nutzer, der angegeben hat, dass er nicht kontaktiert werden möchte.', 'hint': ''}, {'id': '8', 'text': '\\r\\nWir dulden keine gewalttätige nationalistische Propaganda, keine Nazi-Symbolik und keine Förderung der Ideologie des Nationalsozialismus.\\r\\n', 'hint': ''}, {'id': '9', 'text': 'Inhalte, die in Deutschland illegal sind, werden gelöscht und können zur sofortigen Sperrung des Kontos führen.', 'hint': ''}, {'id': '10', 'text': 'Mach dich nicht lustig über andere und sei nicht herablassend. Du möchtest auch mit Respekt behandelt werden. Beachte, dass sich Ironie, Sarkasmus oder ähnliche Ausdrucksformen nicht gut in die Schriftsprache übertragen lassen und dazu neigen, Diskussionen oder Missverständnisse zu eskalieren.', 'hint': ''}, {'id': '12', 'text': 'Automatisierte Beiträge sollten als \"Nicht gelistet\" gepostet werden (d. h. sie sind sichtbar, aber nicht in der lokalen Zeitleiste). Dies gilt auch für Bots, Feed-Poster, Twitter-\"Retweets\" und Twitter-Crossposts. Crossposter-Konten, die sich nicht aktiv beteiligen, können von uns entfernt werden.', 'hint': ''}, {'id': '15', 'text': 'Wir dulden keine Verschwörungstheorien, die das oben genannte (und/oder ähnliche) Verhalten unterstützen oder dazu führen.', 'hint': ''}]",
         "14611"
        ],
        [
         "24",
         "ohai.social",
         "ohai.social",
         "A cozy, fast and secure Mastodon server where everyone is welcome. Run by the folks at ohai.is.",
         "1751",
         "['en']",
         "[{'id': '1', 'text': 'We do not tolerate discriminatory behavior and content promoting or advocating the oppression of members of marginalized groups.', 'hint': ''}, {'id': '8', 'text': 'We do not tolerate threatening behavior, stalking, doxxing, or harassment (including brigading, dogpiling, or any other form of contact with a user who has stated that they do not wish to be contacted).', 'hint': ''}, {'id': '11', 'text': 'We do not tolerate violent nationalist propaganda, Nazi symbolism or promoting the ideology of National Socialism.', 'hint': ''}, {'id': '12', 'text': 'We do not tolerate conspiracy narratives or other reactionary myths supporting or leading to the above-mentioned (and/or similar) behavior.', 'hint': ''}, {'id': '15', 'text': 'All explicit (NSFW) content must be marked as sensitive and have a content warning. Explicit content must not be used in user avatars or header images.', 'hint': ''}, {'id': '16', 'text': 'Content that is illegal in Germany will be deleted and may lead to immediate account suspension.', 'hint': ''}]",
         "40004"
        ],
        [
         "25",
         "mastodon.ie",
         "mastodon.ie",
         "Irish Mastodon - run from Ireland, we welcome all who respect the community rules and members.",
         "1742",
         "['en']",
         "[{'id': '1', 'text': \"Don't Be A Ballox\", 'hint': ''}, {'id': '2', 'text': 'No bigotry, racism, xenophobia, sexism, homophobia, transphobia, anti-Traveller speech or any hate speech.', 'hint': ''}, {'id': '5', 'text': ' No unsolicited DMs ', 'hint': ''}, {'id': '8', 'text': 'We have Threads blocked, just so you know', 'hint': ''}, {'id': '9', 'text': 'We operate on a \"3 strikes and you\\'re out\" basis.', 'hint': ''}]",
         "21213"
        ],
        [
         "26",
         "defcon.social",
         "DEF CON Social",
         "DEFCON.social = The intersection of technology and society, a community for artists, hackers, policy, academics, researchers, infosec, activists & cyberpunks",
         "1730",
         "['en']",
         "[{'id': '21', 'text': 'No toxic behavior', 'hint': 'No racism, sexism, homophobia, transphobia, ableism, xenophobia, casetism, supremacy, and edgelord behavior such as trolling, dogpiling, sealioning, harassment, doxxing, incitement to violence. Do not make users feel uncomfortable, unwelcome, or afraid'}, {'id': '25', 'text': \"Don't break laws here\", 'hint': \"Don't ask others to break laws here, or admit to breaking laws\"}, {'id': '26', 'text': 'Pornography, Nudity, Gore, illegal content, spam & commercial advertising are forbidden', 'hint': 'Promoting your own projects in moderation is OK'}, {'id': '28', 'text': 'No impersonation or undeclared automated accounts', 'hint': 'Don\\'t claim to be Taylor Swift when you aren\\'t. Mark your account as type \"Bot\" if you are automatically posting'}, {'id': '30', 'text': 'You must be at least 13 years old', 'hint': 'We want to comply with regulations such as the US Child Online Protection Act (COPA), the California Consumer Privacy Act (CCPA), and the UK Age-Appropriate Design Code (AADC)'}]",
         "15536"
        ],
        [
         "27",
         "hessen.social",
         "hessen.social",
         "hessen.social ist die Mastodongemeinschaft für alle Hessen:innen und alle, die sich Hessen verbunden fühlen",
         "1558",
         "['de']",
         "[{'id': '1', 'text': 'Sei immer freundlich und höflich. Behandle andere mit Respekt.', 'hint': ''}, {'id': '2', 'text': 'Belästige und beleidige niemanden und unterlasse persönliche Angriffe.Weder allein noch als Gruppe. Das Veröffentlichen oder die Androhung von Veröffentlichung von personen-identifizierenden Informationen (\"doxing\") wird als Belästigung ausgelegt.', 'hint': ''}, {'id': '3', 'text': 'Kontaktiere keine Nutzer:innen die angegeben haben, dass sie nicht kontaktiert werden möchten.', 'hint': ''}, {'id': '4', 'text': 'Die Nutzung oder Befürwortung von rassistischer, sexistischer, homophober, transphober, behindertenfeindlicher und anderweitig diskriminierender oder hasserfüllter Sprache wird nicht geduldet', 'hint': ''}, {'id': '5', 'text': 'Verharmlosende oder gutheißende Inhalte zu Weißer Vorherrschaft, Antisemitismus, Transphobie oder anderen hasserfüllten Ideologien werden nicht geduldet.', 'hint': ''}, {'id': '6', 'text': 'Nochmal ganz deutlich: Wir dulden keine nationalistische Propaganda, keine Nazi-Symbolik und keine Förderung der Ideologie des Nationalsozialismus!', 'hint': ''}, {'id': '7', 'text': 'Poste keine pornographischen oder sexualisierten Inhalte. Dazu gehören auch Witze und Kommentare.', 'hint': ''}, {'id': '8', 'text': 'Halte dich an die in Deutschland geltenden Gesetze (verbietet u.a. auch gewaltverherrlichende Inhalte).', 'hint': ''}, {'id': '9', 'text': 'Veröffentliche keinen Spam oder kommerzielle Werbung. Kommerzielle Werbung in diesem Zusammenhang bedeutet, wenn die veröffentlichten Inhalte keinen persönlichen Bezug aufweisen und eindeutig dazu gedacht sind, direkt oder indirekt Geld zu erwirtschaften.', 'hint': ''}, {'id': '10', 'text': 'Nutze Inhaltswarnungen für Posts und NSFW-Marker bei Medien im Falle von kontroversen, aufrührerischen oder triggernden Themen', 'hint': ''}, {'id': '11', 'text': 'Keine Killerphrasen, Scheinargumente, schwarze Rhetorik oder Sophismus', 'hint': ''}, {'id': '12', 'text': 'Diskutiere Moderationsentscheidungen nicht zuerst in öffentlichen Toots', 'hint': ''}, {'id': '13', 'text': 'Nachgewiesene Falschinformationen/Fakenews (inkl. Verschwörungstheorien) sind hier unerwünscht', 'hint': ''}]",
         "10172"
        ],
        [
         "28",
         "mastodon.eus",
         "Mastodon.eus",
         "Mastodon.eus euskara eta euskal kulturaren komunitatearentzat sortutako Mastodon instantzia bat da.\n\n2018an hauek sortua: Azkue Fund, Dinahosting, iametza, Laborategia.eus, PuntuEUS eta Talaios Koop",
         "1287",
         "['eu']",
         "[{'id': '1', 'text': 'Mastodon.eus euskaraz bizi da. Ahal bezain beste euskara erabili.', 'hint': ''}, {'id': '2', 'text': 'Debekatuak daude: faxismoa, arrazakeria, sexismoa, xenofobia, homofobia, transfobia.', 'hint': ''}, {'id': '3', 'text': 'Ez inor iraindu edo jazarri.', 'hint': ''}]",
         "5562"
        ],
        [
         "29",
         "social.linux.pizza",
         "Linux.Pizza",
         "A instance dedicated - but not limited - to people with an interest in the GNU+Linux ecosystem and/or general tech. Sysadmins to enthusiasts, creators to movielovers - Welcome!\n\n",
         "1252",
         "['en']",
         "[{'id': '1', 'text': 'Dont post NSFW without CW', 'hint': ''}, {'id': '2', 'text': 'Dont post ads without permission\\r\\n', 'hint': ''}, {'id': '3', 'text': 'Dont promote violence, racism and/or discrimination towards other people of other ethnical backgrounds or sexual orientation (hate speech)', 'hint': ''}, {'id': '4', 'text': 'We dont want crypto-ads here aswell.', 'hint': ''}, {'id': '5', 'text': 'Dont be rude, keep conversations civil and kind.', 'hint': ''}, {'id': '6', 'text': 'All public posts from this instance are indexed by tootfinder.ch.', 'hint': ''}, {'id': '7', 'text': 'Do not flood the timeline with posts. If you still want to do that - please set the posts as \"unlisted\".', 'hint': ''}, {'id': '8', 'text': 'No vatniks', 'hint': ''}]",
         "11992"
        ],
        [
         "30",
         "muenchen.social",
         "muenchen.social - Die erste Mastodon Instanz für München",
         "Hallo auf muenchen.social \nDies ist eine deutschsprachige Mastodon Instanz für München zum tröten, neue Leute kennenlernen, sich auszutauschen und Spass zu haben.",
         "1211",
         "['de']",
         "[{'id': '4', 'text': 'Keine Belästigung, Stalking und/oder Doxxing von anderen. '}, {'id': '5', 'text': 'Rassismus, Sexismus oder Beschimpfungen haben hier nichts verloren.'}, {'id': '6', 'text': ' Diskriminierung von Geschlechtern und sexuellen Minderheiten haben hier auch nichts verloren.'}, {'id': '7', 'text': 'Nationalistische Propaganda, Nazi-Symbolismus oder Förderung der Ideologie des Nationalsozialismus ist verboten. \\r\\n'}, {'id': '8', 'text': 'Aufrufe zu Gewalttaten sind verboten.\\r\\n'}, {'id': '10', 'text': ' Nicht markierter sexueller Inhalt und/oder Gewaltdarstellungen in jeglicher Form sind nicht erlaubt.'}, {'id': '11', 'text': ' Bots, die ohne ihre expliziten Anfragen mit Nutzer interagieren, werden gelöscht. '}, {'id': '12', 'text': 'Übermässige Werbung / Spam / Spamflut von wiederholenden Tröts sind nicht erwünscht. '}, {'id': '13', 'text': 'Falls du einen NSFW-Only Account erstellen möchtest, ziehe eventuell eine andere Instanz in Betracht. Wahrscheinlich sind wir leider nicht geeignet für dich.'}, {'id': '14', 'text': 'Allgemeine Verstöße gegen geltendes Recht in Deutschland.'}, {'id': '17', 'text': 'Gezieltes Misgendering, Deadnaming oder Werbung für sogenannte \"Konversionstherapien\" sind verboten.'}, {'id': '18', 'text': 'Mir ist bewusst, dass ein Verstoß gegen eine der Serverregeln zur Löschung von einzelnen Beiträgen, oder der Stummschaltung/Löschung des gesamten Accounts führen kann und mit dem Anlegen eines Accounts akzeptiere ich alle Regeln. '}]",
         "10999"
        ],
        [
         "31",
         "social.cologne",
         "Mastodon",
         "social.cologne is eine Mastodon Instanz für jede:n Kölner:in und alle, die sich mit Köln verbunden fühlen. Betrieben von https://cgnfs.de.",
         "1201",
         "['en']",
         "[{'id': '12', 'text': 'Treat others with respect', 'hint': 'Avoid any form of insult, bullying, or discrimination, including but not limited to racist, sexist, homophobic, transphobic, anti-Semitic, and misogynistic statements or actions against others.'}, {'id': '13', 'text': 'Use appropriate tone', 'hint': 'Use a respectful and friendly tone, even if you disagree with someone.'}, {'id': '14', 'text': 'Respect privacy', 'hint': 'Do not share personal information without explicit permission and respect the privacy rights of others.'}, {'id': '15', 'text': 'Comply with applicable law', 'hint': 'Do not publish any illegal content.'}, {'id': '16', 'text': 'Avoid misinformation', 'hint': 'Do not share false or misleading information.'}, {'id': '17', 'text': 'No spam posts', 'hint': 'Refrain from publishing unwanted advertising or similar content that does not fit the community.'}, {'id': '19', 'text': 'Mark sensitive content (CW)', 'hint': 'Please mark any content that may contain common triggers, is sexually explicit or violent as sensitive (CW) to ensure the safety of other members. Note: Accounts that exclusively post such content may be limited or banned.'}, {'id': '20', 'text': 'You must be older than 16 years', 'hint': 'According to European law, you must be at least 16 years old to use this instance.'}]",
         "12065"
        ],
        [
         "32",
         "flipboard.social",
         "Flipboard",
         "Welcome to Flipboard on Mastodon. A place for our community of curators and enthusiasts to inform and inspire each other.  \nIf you'd like to join please request an invitation via the sign-up page. ",
         "1192",
         "['en']",
         "[{'id': '6', 'text': 'This instance is part of Flipboard and adheres to the same Community Guidelines. You can read them here https://about.flipboard.com/community-guidelines/', 'hint': ''}, {'id': '7', 'text': 'Keep this instance safe, respectful, and fun by not violating the rules.', 'hint': ''}, {'id': '8', 'text': 'Consider how your post might impact others - if it might be received as offensive, painful, or otherwise unwanted, please use a content warning (CW.)', 'hint': ''}, {'id': '34', 'text': 'Misgendering, deadnaming, or promotion of so-called \"conversion therapy\" is prohibited.', 'hint': ''}]",
         "7482"
        ],
        [
         "33",
         "livellosegreto.it",
         "Livello Segreto",
         "Livello Segreto è il social etico che ha rispetto di te e del tuo tempo.",
         "1149",
         "['en']",
         "[{'id': '2', 'text': 'No al sessismo', 'hint': ''}, {'id': '3', 'text': 'No al machismo', 'hint': ''}, {'id': '4', 'text': 'No al bullismo', 'hint': ''}, {'id': '5', 'text': \"No alla queerfobia, all'omofobia, alla bifobia, alla lesbofobia, alla transfobia, alla afobia\", 'hint': ''}, {'id': '6', 'text': \"No all'abilismo\", 'hint': ''}, {'id': '7', 'text': 'No al razzismo', 'hint': ''}, {'id': '9', 'text': 'No ai bot*', 'hint': '* in generale è una regola da tenere presente, ma se il bot ha utilità per la community scrivici che si sistema tutto'}, {'id': '10', 'text': 'Usare i CW per: NSFW, SPOILER, GUERRA, POLITICA', 'hint': ''}, {'id': '11', 'text': 'Evitare bestemmie e turpiloquio eccessivo/gratuito', 'hint': ''}, {'id': '12', 'text': 'No pornografia', 'hint': ''}, {'id': '15', 'text': 'Istanza antifascista', 'hint': ''}, {'id': '16', 'text': 'No alla pubblicità e/o agli annunci commerciali (consentiti i progetti personali/indipendenti)', 'hint': ''}, {'id': '17', 'text': 'No al proselitismo religioso', 'hint': ''}]",
         "7673"
        ],
        [
         "34",
         "mastodon.green",
         "Mastodon.green",
         "Plant trees while you use Mastodon. A server originally for people in the EU, but now open for anyone in the world",
         "1141",
         "['en']",
         "[{'id': '395', 'text': 'Try 30-days for free, only 1,50 € (+VAT) per month after. No algorithms or ads to waste your time. We use 20 % of membership fees to plant trees. Change your plan or cancel at any time', 'hint': ''}, {'id': '397', 'text': 'Please abide by the community standards', 'hint': ''}, {'id': '398', 'text': 'You can use any official EU language, Icelandic and Norwegian on this server', 'hint': ''}, {'id': '399', 'text': 'No sexually explicit images or video', 'hint': ''}, {'id': '400', 'text': 'No racism, sexism, homophobia, transphobia, xenophobia, or casteism', 'hint': ''}, {'id': '401', 'text': 'No incitement of violence or promotion of violent ideologies', 'hint': ''}, {'id': '402', 'text': 'No harassment, dogpiling or doxxing of other users', 'hint': ''}, {'id': '404', 'text': 'No false or misleading information', 'hint': ''}]",
         "12004"
        ],
        [
         "35",
         "mastodont.cat",
         "mastodont.cat, cultura catalana.",
         "Des del 13 d'abril del 2017, el primer i original servidor social en català per a la comunitat de llengua i cultura catalanes d'arreu d'internet.\n",
         "1132",
         "['ca']",
         "[{'id': '2', 'text': 'No és permès fer publicitat ni spam.', 'hint': ''}, {'id': '3', 'text': 'No s\\'accepta l\\'ús de \"crossposters\" (ponts que connecten xarxes diferents).', 'hint': ''}, {'id': '6', 'text': 'Aquest servidor bloqueja totes les instàncies del programari birdsitelive', 'hint': ''}, {'id': '8', 'text': \"La política de retenció dels fitxers multi mèdia remots és de 30 dies (seràn esborrats automàticament als 30 dies). Els arxius d'usuari seran esborrats als 7 dies. \", 'hint': ''}, {'id': '9', 'text': 'Està prohibida qualsevol mostra de racisme, xenofòbia o homofòbia contra cap usuari local o remot. ', 'hint': ''}, {'id': '10', 'text': \"L'ús d'altres llengües diferents del català en la majoria dels tuts publicats, pot provocar un avís i fins i tot suspensió del compte si és repetitiu.\", 'hint': ''}, {'id': '11', 'text': 'Està prohibida qualsevol mostra de nuesa, excepte quan aquesta tingui una procedència artística reconeguda i estigui degudament referenciada en el contingut del missatge', 'hint': ''}, {'id': '12', 'text': \"Està prohibida qualsevol mostra explícita de contingut sexual o pornogràfic, i especialment aquelles que continguin pederàstia o impliquin a menors d'edat, fet que a més serà denunciat a les autoritats pertinents.\", 'hint': ''}, {'id': '13', 'text': 'No és permeten faltes de respecte contra usuaris locals o remots. ', 'hint': ''}, {'id': '14', 'text': \"Els serveis addicionals de Blog (Wordpress) i xmpp (Ejabberd), estan dedicats als usuaris actius. Els comptes registrats en aquests serveis addicionals seran esborrats si es detecta una falta d'activitat, a mastodont.cat i en els darrers 30 dies, dels usuaris locals relacionats.\", 'hint': ''}]",
         "8624"
        ],
        [
         "36",
         "indieweb.social",
         " Indieweb.Social ",
         "INDIEWEB.SOCIAL is an instance focused on the evolution of #Openweb, #Indieweb, #Fediverse, #Mastodon, #Humanetech and #Calm technologies. ",
         "1123",
         "['en']",
         "[{'id': '1', 'text': 'No spam or excessive self-promoting in posts.', 'hint': ''}, {'id': '2', 'text': 'No bots that are not labeled as such in their profile.', 'hint': ''}, {'id': '3', 'text': 'Keep conversations civil and respectful even in disagreement.', 'hint': ''}, {'id': '4', 'text': 'No racism, sexism, homophobia, transphobia, xenophobia, anti-Semitism, or casteism (including targeted misgendering, deadnaming, or promotion of so-called \"conversion therapy\").', 'hint': ''}, {'id': '5', 'text': 'No sexually explicit or violent posts or media allowed', 'hint': ''}, {'id': '6', 'text': 'No incitement of violence or promotion of violent ideologies', 'hint': ''}, {'id': '7', 'text': 'No illegal content.', 'hint': ''}]",
         "11825"
        ],
        [
         "37",
         "nerdculture.de",
         "NerdCulture",
         "Be excellent to each other, live humanism, no nazis, no hate speech. Not only for nerds, but the domain is somewhat cool. ;)\nNo bots in general. Languages: DE, EN, FR, NL, ES, IT",
         "1109",
         "['en']",
         "[{'id': '1', 'text': 'Be friendly and polite to each other', 'hint': ''}, {'id': '2', 'text': 'No hate speech, no discrimination of others, regardless of their age, gender, nationality or whatever', 'hint': ''}, {'id': '3', 'text': 'No spamming of any kind.', 'hint': ''}, {'id': '4', 'text': \"Don't annoy others and don't get easily annoyed by others.\", 'hint': ''}, {'id': '5', 'text': 'No advertisements of commercial products.', 'hint': ''}, {'id': '6', 'text': 'No distribution of copyrighted material.', 'hint': ''}, {'id': '7', 'text': \"Do not upload material for which you don't have the rights\", 'hint': ''}, {'id': '8', 'text': 'No automated posts by bots, except when you have permission to do so by the server admins', 'hint': ''}, {'id': '9', 'text': \"Don't abuse this service or server.\", 'hint': ''}, {'id': '10', 'text': 'Treat other how you want to be treated by them - with respect!', 'hint': ''}, {'id': '11', 'text': 'This is a service running on a private server and as a friendly user you are welcome to use this service, but in the end the server admin can cancel user accounts and will do when the user misbehaves. The admin will decide in the end. ', 'hint': ''}, {'id': '12', 'text': \"Valid mail address required! You'll receive reminder mail after 6 months of inactivity to log in again. If you don't react to those mails, your account will be deleted after 7 months of inactivity. \", 'hint': ''}, {'id': '13', 'text': 'Allowed languages are German and English as main languages while as the following languages are tolerated: Dutch, French, Spanish, Italian.', 'hint': ''}, {'id': '14', 'text': 'This service is free of cost for you.\\r\\nHowever offering this service does have cost implications. If you can afford some cents per week it would be great when you could contribute in sharing the server costs. Of course this voluntarily for you. ', 'hint': ''}, {'id': '16', 'text': \"No free-speech extremists, no far-right extremists, no nationalists. This includes people that elect or support such political parties like AfD in Germany, Fratelli d'Italia in Italy or Rassemblement National in France, etc.. If you support these parties, this instance is not for you. \", 'hint': ''}, {'id': '18', 'text': 'Alt Texts for Pictures encouraged. Please conduct descriptive texts for pictures you upload (Alt Texts). This helps visually impaired users and others enormously in their online life. ', 'hint': ''}]",
         "7163"
        ],
        [
         "38",
         "ieji.de",
         "ieji.de",
         "ieji.de is a generalistic mastodon instance, with the goal of being the fastest mastodon instance in Europe and with a focus on user privacy, like being usable via the tor network.",
         "1105",
         "['en']",
         "[{'id': '1', 'text': 'No explicit content allowed', 'hint': ''}, {'id': '2', 'text': 'Erotic content must have content warning', 'hint': ''}, {'id': '3', 'text': 'No harassment allowed', 'hint': ''}, {'id': '4', 'text': 'No backlink accounts allowed', 'hint': ''}, {'id': '5', 'text': 'Unlawful content is forbidden', 'hint': ''}]",
         "15114"
        ],
        [
         "39",
         "social.anoxinon.de",
         "social.anoxinon.de - Mastodon",
         "Die offizielle Mastodon Instanz des Vereins Anoxinon e.V.",
         "1087",
         "['de']",
         "[{'id': '1', 'text': 'Geht respektvoll und nett miteinander um!', 'hint': ''}, {'id': '2', 'text': 'Beiträge mit rassistischen, illegalen, pornografischen oder gewaltverherrlichenden Inhalten sind strengstens untersagt. Zudem gelten allgemein deutsche Gesetze.', 'hint': ''}, {'id': '3', 'text': 'Beleidigungen und Belästigungen sind generell verboten. Darunter fallen auch jegliche Formen der Diffamierung, Hetze, übler Nachrede und dergleichen.', 'hint': ''}, {'id': '4', 'text': 'Konten für kommerzielle Zwecke erfordern eine schriftliche Erlaubnis unsererseits. Bis auf RSS-Bots \\r\\nbenötigen alle anderen die schriftliche Zustimmung von unserer Seite.', 'hint': ''}, {'id': '5', 'text': 'Zuwiderhandlungen gegen diese Regeln werden mit Ermahnung, Verwarnung oder Sperre geahndet.', 'hint': ''}]",
         "10317"
        ],
        [
         "40",
         "metalhead.club",
         "Metalhead.club",
         "Metalhead.club is a Mastodon instance hosted in Germany and powered by 100% green energy.",
         "747",
         "['en']",
         "[{'id': '1', 'text': 'No pornography', 'hint': ''}, {'id': '3', 'text': 'No insulting / hate speech', 'hint': ''}, {'id': '4', 'text': 'No racism', 'hint': ''}, {'id': '5', 'text': 'No extremist political content', 'hint': ''}, {'id': '6', 'text': 'This server is for humans, not for bots! If you intend to bulk-send posts, this instance is not for you. (use botsin.space)', 'hint': ''}, {'id': '7', 'text': 'Upload / distribute only content that you have permission for.', 'hint': ''}, {'id': '8', 'text': 'No ads, except for featuring your own creative Metal music content (music, articles, reviews, ...)', 'hint': ''}, {'id': '10', 'text': 'Misusing unrelated hashtags on posts for better visibility is prohibited ', 'hint': ''}]",
         "5776"
        ],
        [
         "41",
         "tkz.one",
         "TKZ.One",
         "La comunidad Mastodon más grande en Español para gamers, otakus y geeks. Libre de toxicidad. Contenido de anime, manga, videojuegos, tecnología, cómics, literatura, cine... ¡Únete a la familia!",
         "728",
         "['es']",
         "[{'id': '11', 'text': 'Intenta mantener tu perfil y publicaciones mayormente en sintonía con la temática de la instancia: videojuegos, anime, manga, comics, series, cine, gastronomía, literatura, viajes y demás hobbies y temas relacionados.', 'hint': ''}, {'id': '12', 'text': 'Sé amable y evita mal comportamiento, incluyendo racismo y discriminación de cualquier índole; las cuentas disruptivas podrían ser suspendidas. Trata a la gente como te gustaría que te tratasen.', 'hint': ''}, {'id': '13', 'text': 'Habla principalmente en español, con opción de otros idiomas del territorio español; usa lenguaje inclusivo si lo deseas.', 'hint': ''}, {'id': '14', 'text': 'No compartas pornografía infantil ni violencia; evita contenido ilegal bajo leyes españolas.', 'hint': ''}, {'id': '15', 'text': 'Eres responsable de tus comentarios y publicaciones.', 'hint': ''}, {'id': '16', 'text': 'Evita promover activismo, política institucional y proselitismo religioso. Se permiten temas políticos contextualizados y relacionados con la temática de la instancia. La promoción de nazismo, supremacía e ideologías ultra, religión o magufadas están estrictamente prohibidas.', 'hint': ''}, {'id': '17', 'text': 'No compartas información falsa intencionalmente. En caso de hacerlo, retira cualquier bulo compartido si se verifica como tal.', 'hint': ''}, {'id': '18', 'text': 'El contenido de adultos salvo la pornografía explícita, está permitido solo como forma de arte con la etiqueta CW, si es de tu autoría y se relaciona con la temática.', 'hint': ''}, {'id': '19', 'text': 'Prohibido las cuentas centradas en el crossposting. Las cuentas que abusen de esta práctica pueden ser suspendidas.', 'hint': ''}, {'id': '20', 'text': 'Las cuentas que promocionen SPAM, phishing o criptoactivos están prohibidas. ', 'hint': ''}, {'id': '21', 'text': 'El uso de IA para generar contenido es permitido si no se dedica a la promoción de dicho contenido. Las cuentas que promuevan activamente contenido generado por IA, tanto en el servidor como en sitios externos, serán prohibidas y pueden ser advertidas o canceladas por el equipo de moderación.', 'hint': ''}, {'id': '22', 'text': 'El equipo de moderación se reserva el derecho de actuar como crea conveniente según las circunstancias y siempre velando por el buen funcionamiento para mantener la concordia en la instancia por algún motivo que no se cite expresamente en las normas anteriores.', 'hint': ''}]",
         "37079"
        ],
        [
         "42",
         "masto.nu",
         "masto.nu",
         "General purpose Mastodon server. All languages are welcome but English, Dutch and Spanish are preferred.",
         "725",
         "['en']",
         "[{'id': '7', 'text': 'No harassment, dogpiling or doxxing of other users.', 'hint': ''}, {'id': '8', 'text': 'No impersonation of other people, companies, organizations, brands, etc.', 'hint': ''}, {'id': '9', 'text': 'No racism, sexism, homophobia, transphobia, xenophobia, or casteism.', 'hint': ''}, {'id': '10', 'text': 'No incitement of violence or advocacy of violent acts/ideologies.', 'hint': ''}, {'id': '11', 'text': 'No advertising, spam or excessive promotion.', 'hint': ''}, {'id': '12', 'text': 'No sexually explicit or graphically violent media.', 'hint': ''}, {'id': '13', 'text': 'No intentionally false or misleading information.', 'hint': ''}, {'id': '14', 'text': 'No illegal or unlawful content', 'hint': ''}, {'id': '15', 'text': 'Content created by others must be attributed, and the use of AI must be disclosed. Profiles that only post AI-generated content will not be tolerated.', 'hint': ''}]",
         "24284"
        ],
        [
         "43",
         "mastodon.ml",
         "Mastodon.ml",
         "Русскоязычный сервер социальной сети Mastodon. Зона общения, свободная от рекламы и шпионажа, теперь и на русском языке.",
         "715",
         "['ru']",
         "[{'id': '7', 'text': 'Относитесь к другим пользователям с уважением. Харрасмент, разжигание ненависти (hate speech), трансфобия, гомофобия, расизм, сексизм, фашизм и прочие проявления шовинизма — запрещены', 'hint': ''}, {'id': '8', 'text': 'Не разглашать чужую персональную информацию без согласия. Это относится как к пользователям сервера так и к людям вне него.', 'hint': ''}, {'id': '9', 'text': 'Администрация сервера/модерационный состав будет рассматривать и решать спорные случаи исходя из ситуации и с учётом предыдущих жалоб на пользователей.', 'hint': ''}, {'id': '10', 'text': 'Уважаемые щитпостеры, просим вас знать меру и не засорять ленты спамом. Излишнее злоупотребление будет наказываться.', 'hint': ''}, {'id': '11', 'text': 'Проставляйте Content Warning и NSFW-метки на спорный контент (политика, описание/изображения жестоких сцен, сцен насилия, крови, порнографии, эротики, хентая, использование оскорбительной лексики, и.т.п)', 'hint': ''}, {'id': '13', 'text': 'Свобода слова не означает вседозволенность', 'hint': ''}, {'id': '14', 'text': 'Размещение рекламного контента, рекламирование внешних ресурсов или размещение ссылок на внешние ресурсы с целью рекламы будет рассматриваться администрацией. В некоторых случаях могут быть применены меры', 'hint': ''}, {'id': '15', 'text': 'Убедительная просьба: заполняйте описания картинок. Это не обязательно, но очень сильно выручает незрячих пользователей, и не отнимает много времени', 'hint': ''}, {'id': '17', 'text': 'ПОДАЧА ЗАЯВКИ НА РЕГИСТРАЦИЮ: ЗАЯВКИ МЕНЕЕ ПЯТИ СЛОВ ОТКЛОНЯЮТСЯ АВТОМАТИЧЕСКИ! Если не знаете, что написать, пишите о себе, как узнали о нас, чем вам интересен Мастодон, чем увлекаетесь.', 'hint': ''}]",
         "3506"
        ],
        [
         "44",
         "mstdn.business",
         "Mastodon For Business",
         "Business-friendly Mastodon server,open for everyone interested to contribute with their real name, business, brand, or startup to build a professional community. Hosted on Hetzner Cloud in Helsinki.",
         "699",
         "['en']",
         "[{'id': '2', 'text': 'No NSFW or illegal content.'}, {'id': '3', 'text': 'No racism, sexism, homophobia, transphobia, or xenophobia.'}, {'id': '4', 'text': 'Do not share intentionally false or misleading information.'}, {'id': '5', 'text': 'No spam or excessive promotion.'}, {'id': '6', 'text': 'Brands are welcome. For personal accounts use your real name.'}]",
         "27114"
        ],
        [
         "45",
         "ravenation.club",
         "Mastodon",
         "ravenation.club is an instance for all the ravers in the universe. Anyone who listens to electronic music (or not) is welcome. Operated by https://cgnfs.de",
         "665",
         "['en']",
         "[{'id': '11', 'text': 'Treat others respectfully', 'hint': 'Refrain from any form of insult, bullying or discrimination, including but not limited to racist, sexist, homophobic, transphobic, anti-Semitic and misogynistic remarks or actions toward others.'}, {'id': '12', 'text': 'Use an appropriate tone', 'hint': 'Use a respectful and friendly tone, even if you disagree with someone.'}, {'id': '13', 'text': 'Respect the privacy of others', 'hint': 'Do not share personal information without explicit permission and respect the privacy rights of others.'}, {'id': '14', 'text': 'Compliance with applicable law', 'hint': 'Do not post illegal content.'}, {'id': '15', 'text': 'Avoid misinformation', 'hint': 'Do not share false or misleading information.'}, {'id': '16', 'text': 'No spam posts', 'hint': 'Refrain from posting unsolicited advertisements or similar content that does not fit the community.'}, {'id': '17', 'text': 'Mark sensitive content (CW)', 'hint': 'Please mark any content that may contain common triggers, is sexually explicit or violent as sensitive (CW) to ensure the safety of other members. Note: Accounts that exclusively post such content may be limited or banned.'}, {'id': '18', 'text': 'You must be older than 16 years', 'hint': 'According to European law, you must be at least 16 years old to use this instance.'}]",
         "27827"
        ],
        [
         "46",
         "dresden.network",
         "Dresden.Network",
         "dresden.network ist eine Mastodon Instanz für alle aus Dresden und Umgebung, dennoch offen für alle. Das Team besteht aus @markus@dresden.network und @ueckueck@dresden.network.",
         "660",
         "['de']",
         "[{'id': '1', 'text': 'kein(e) Belästigung, Stalking, Doxxing', 'hint': ''}, {'id': '2', 'text': 'keine Verbreitung von Verschwörungstheorien und/oder deren Befürwortung ', 'hint': ''}, {'id': '3', 'text': 'kein Rassismus, Sexismus, Beschimpfungen oder deren Befürwortung ', 'hint': ''}, {'id': '4', 'text': 'keine Diskriminierung von Geschlechtern und sexuellen Minderheiten oder deren Befürwortung ', 'hint': ''}, {'id': '5', 'text': 'keine gewalttätige nationalistische Propaganda, Nazi-Symbolismus oder Förderung der Ideologie des Nationalsozialismus ', 'hint': ''}, {'id': '6', 'text': 'Leute kontaktieren, die klar gemacht haben, dass sie keinen Kontakt wollen. Dogpiling ', 'hint': ''}, {'id': '7', 'text': 'keine nicht markierte Werbung ', 'hint': ''}, {'id': '8', 'text': 'keine automatisierte und/oder übermäßige Werbung ', 'hint': ''}, {'id': '9', 'text': 'kein sexueller Inhalt oder Gewaltdarstellungen ', 'hint': ''}, {'id': '10', 'text': 'keine Bots, die ohne ihre expliziten Anfragen mit Nutzer interagieren ', 'hint': ''}]",
         "3862"
        ],
        [
         "47",
         "sunny.garden",
         "Sunny Garden",
         "sunny.garden is a community for indie creators who draw, paint, sculpt, write, design, program, play, sing or build, and anyone else who thinks that sounds like a nice place to be.",
         "581",
         "['en']",
         "[{'id': '1', 'text': 'Media containing nudity must be marked with a content warning.', 'hint': 'Profile image, header, and content must be appropriate for all audiences.'}, {'id': '2', 'text': 'No hate speech, derogatory language, or the use of slurs directed at marginalized groups or people. ', 'hint': 'No racism, sexism, homophobia, transphobia, ableism, xenophobia. No fascist, neo-nazi or alt-right content.'}, {'id': '3', 'text': 'No incitement or promotion of violence including self-harm and suicide.', 'hint': ''}, {'id': '4', 'text': 'No harassment, dogpiling, or doxxing.', 'hint': 'Ad hominem, personal attacks or mudslinging will be considered harassment.  You are free to criticize nations, corporations, billionaires, or high profile political figures; though other rules (eg. no racism, hate-speech, ableism) still apply.'}, {'id': '5', 'text': 'No content illegal in Canada.', 'hint': ''}, {'id': '6', 'text': 'Do not share intentionally false or misleading information.', 'hint': ''}, {'id': '7', 'text': 'No \"AI\" Art, no NFTs, no crypto, no blockchain.', 'hint': 'See About page for further details on \"AI\" Art policy.'}, {'id': '8', 'text': 'Respect personal boundaries.', 'hint': 'Don\\'t pry into people\\'s personal lives. Do not be \"a creep\".'}, {'id': '9', 'text': 'No explicit sexual, violent or gory content.', 'hint': ''}, {'id': '10', 'text': 'No sexual depictions of minors.', 'hint': ''}, {'id': '11', 'text': 'No proselytizing.', 'hint': ''}]",
         "2728"
        ],
        [
         "48",
         "bark.lgbt",
         "Bark!",
         "Furry focused instance for critters that like to bark!\nLGBTQ+ run and friendly, active moderation",
         "546",
         "['en']",
         "[{'id': '1', 'text': 'No discrimination, bigotry, transphobia, homophobia, etc of any kind is accepted', 'hint': ''}, {'id': '2', 'text': 'No discussion of illegal topics or sharing of pirated data.', 'hint': ''}, {'id': '5', 'text': 'Any content that would be considered Illegal in the European economic area is strictly banned', 'hint': ''}, {'id': '6', 'text': 'No uncensored NSFW content. Use a CW', 'hint': ''}, {'id': '7', 'text': 'You are at least 18 years of age during sign-up', 'hint': ''}, {'id': '8', 'text': 'No zoophillia / Loli', 'hint': ''}, {'id': '11', 'text': 'No NSFW profile pictures, headers and usernames', 'hint': ''}, {'id': '46', 'text': 'No posting of AI art', 'hint': ''}]",
         "6377"
        ],
        [
         "49",
         "urbanists.social",
         "Urbanists.Social",
         "We're a server for people who like bikes, transit, and walkable cities. Let's get to know each other!",
         "540",
         "['en']",
         "[{'id': '1', 'text': \"Please don't post anything that's illegal in the US or EU.\", 'hint': ''}, {'id': '3', 'text': 'No racism, sexism, homophobia, transphobia, xenophobia, or any other form of discrimination.', 'hint': ''}, {'id': '8', 'text': 'Punch Nazis, trebuchet TERFs. Any posts or usage containing nazi symbolism or ideology, or which contains \"gender critical\" / \"just asking questions\" shit will get you banned immediately and without recourse.', 'hint': ''}, {'id': '9', 'text': 'No promotion of crypto or NFTs. ', 'hint': ''}, {'id': '10', 'text': 'NSFW content must be behind a content warning / marked as sensitive. Your profile (avatar, header, display name, etc.) must be SFW.', 'hint': ''}, {'id': '11', 'text': \"Don't abuse the instance or use it to abuse other federated instances. Don't try to break things.\", 'hint': ''}, {'id': '12', 'text': \"Be considerate. Keep in mind that any public post you make will appear in our public timeline and the public timelines of other instances federated with Urbanists.Social. Use content warnings where appropriate. Use NSWF tags where appropriate. Don't be a jerk about it.\", 'hint': ''}, {'id': '13', 'text': \"Bots are allowed, but don't make them annoying. Admins will ask you to move your bot to another instance if it becomes a problem.\", 'hint': ''}, {'id': '14', 'text': 'Do not harass other users.', 'hint': ''}]",
         "6398"
        ]
       ],
       "shape": {
        "columns": 7,
        "rows": 140
       }
      },
      "text/html": [
       "<div>\n",
       "<style scoped>\n",
       "    .dataframe tbody tr th:only-of-type {\n",
       "        vertical-align: middle;\n",
       "    }\n",
       "\n",
       "    .dataframe tbody tr th {\n",
       "        vertical-align: top;\n",
       "    }\n",
       "\n",
       "    .dataframe thead th {\n",
       "        text-align: right;\n",
       "    }\n",
       "</style>\n",
       "<table border=\"1\" class=\"dataframe\">\n",
       "  <thead>\n",
       "    <tr style=\"text-align: right;\">\n",
       "      <th></th>\n",
       "      <th>domain</th>\n",
       "      <th>title</th>\n",
       "      <th>description</th>\n",
       "      <th>active_month</th>\n",
       "      <th>languages</th>\n",
       "      <th>rules</th>\n",
       "      <th>total_users</th>\n",
       "    </tr>\n",
       "  </thead>\n",
       "  <tbody>\n",
       "    <tr>\n",
       "      <th>0</th>\n",
       "      <td>mastodon.social</td>\n",
       "      <td>Mastodon</td>\n",
       "      <td>The original server operated by the Mastodon g...</td>\n",
       "      <td>327503</td>\n",
       "      <td>[en]</td>\n",
       "      <td>[{'id': '1', 'text': 'Sexually explicit or vio...</td>\n",
       "      <td>2711879</td>\n",
       "    </tr>\n",
       "    <tr>\n",
       "      <th>1</th>\n",
       "      <td>mstdn.social</td>\n",
       "      <td>Mastodon 🐘</td>\n",
       "      <td>A general-purpose Mastodon server with a 500 c...</td>\n",
       "      <td>14546</td>\n",
       "      <td>[en]</td>\n",
       "      <td>[{'id': '2', 'text': 'Sexually explicit or vio...</td>\n",
       "      <td>260323</td>\n",
       "    </tr>\n",
       "    <tr>\n",
       "      <th>2</th>\n",
       "      <td>infosec.exchange</td>\n",
       "      <td>Infosec Exchange</td>\n",
       "      <td>A Mastodon instance for info/cyber security-mi...</td>\n",
       "      <td>13319</td>\n",
       "      <td>[en]</td>\n",
       "      <td>[{'id': '1', 'text': 'Do unto others as you th...</td>\n",
       "      <td>75725</td>\n",
       "    </tr>\n",
       "    <tr>\n",
       "      <th>3</th>\n",
       "      <td>mas.to</td>\n",
       "      <td>mas.to</td>\n",
       "      <td>Hello! mas.to is a fast, up-to-date and fun Ma...</td>\n",
       "      <td>11889</td>\n",
       "      <td>[en]</td>\n",
       "      <td>[{'id': '9', 'text': 'No discrimination, inclu...</td>\n",
       "      <td>183608</td>\n",
       "    </tr>\n",
       "    <tr>\n",
       "      <th>4</th>\n",
       "      <td>piaille.fr</td>\n",
       "      <td>Piaille</td>\n",
       "      <td>Piaille.fr est un serveur mastodon public fran...</td>\n",
       "      <td>9221</td>\n",
       "      <td>[fr]</td>\n",
       "      <td>[{'id': '1', 'text': 'Conformément aux lois fr...</td>\n",
       "      <td>40869</td>\n",
       "    </tr>\n",
       "    <tr>\n",
       "      <th>...</th>\n",
       "      <td>...</td>\n",
       "      <td>...</td>\n",
       "      <td>...</td>\n",
       "      <td>...</td>\n",
       "      <td>...</td>\n",
       "      <td>...</td>\n",
       "      <td>...</td>\n",
       "    </tr>\n",
       "    <tr>\n",
       "      <th>135</th>\n",
       "      <td>ceilidh.online</td>\n",
       "      <td>Ceilidh Online</td>\n",
       "      <td>Ceilidh.Online is meant to be a safe gathering...</td>\n",
       "      <td>11</td>\n",
       "      <td>[en]</td>\n",
       "      <td>[{'id': '2', 'text': 'Do not engage in hate sp...</td>\n",
       "      <td>42</td>\n",
       "    </tr>\n",
       "    <tr>\n",
       "      <th>136</th>\n",
       "      <td>mastodon.bahia.no</td>\n",
       "      <td>Bahia.no - A Bahia no Mastodon!</td>\n",
       "      <td>Bahia.no - aqui, todo mundo é baiano! Se você ...</td>\n",
       "      <td>10</td>\n",
       "      <td>[pt-BR]</td>\n",
       "      <td>[{'id': '1', 'text': 'Idiomas permitidos: Baia...</td>\n",
       "      <td>15</td>\n",
       "    </tr>\n",
       "    <tr>\n",
       "      <th>137</th>\n",
       "      <td>dariox.club</td>\n",
       "      <td>DARiOX</td>\n",
       "      <td>A safe space for tech-centered LGBTQI+ folks a...</td>\n",
       "      <td>9</td>\n",
       "      <td>[en]</td>\n",
       "      <td>[{'id': '2', 'text': 'No illegal content', 'hi...</td>\n",
       "      <td>150</td>\n",
       "    </tr>\n",
       "    <tr>\n",
       "      <th>138</th>\n",
       "      <td>mastodon.mg</td>\n",
       "      <td>Mastodon Madagascar</td>\n",
       "      <td>La première instance malgache de Mastodon.</td>\n",
       "      <td>6</td>\n",
       "      <td>[fr]</td>\n",
       "      <td>[{'id': '1', 'text': 'Cette instance étant héb...</td>\n",
       "      <td>113</td>\n",
       "    </tr>\n",
       "    <tr>\n",
       "      <th>139</th>\n",
       "      <td>wxw.moe</td>\n",
       "      <td>呜呜 w(&gt; ʌ &lt;)w</td>\n",
       "      <td>一个萌萌哒 泛ACGN 实例，欢迎安家 ~</td>\n",
       "      <td>3381</td>\n",
       "      <td>[en]</td>\n",
       "      <td>[{'id': '67', 'text': '拒绝真人不雅内容 / No inappropr...</td>\n",
       "      <td>23662</td>\n",
       "    </tr>\n",
       "  </tbody>\n",
       "</table>\n",
       "<p>140 rows × 7 columns</p>\n",
       "</div>"
      ],
      "text/plain": [
       "                domain                            title  \\\n",
       "0      mastodon.social                         Mastodon   \n",
       "1         mstdn.social                       Mastodon 🐘   \n",
       "2     infosec.exchange                 Infosec Exchange   \n",
       "3               mas.to                           mas.to   \n",
       "4           piaille.fr                          Piaille   \n",
       "..                 ...                              ...   \n",
       "135     ceilidh.online                   Ceilidh Online   \n",
       "136  mastodon.bahia.no  Bahia.no - A Bahia no Mastodon!   \n",
       "137        dariox.club                           DARiOX   \n",
       "138        mastodon.mg              Mastodon Madagascar   \n",
       "139            wxw.moe                     呜呜 w(> ʌ <)w   \n",
       "\n",
       "                                           description  active_month  \\\n",
       "0    The original server operated by the Mastodon g...        327503   \n",
       "1    A general-purpose Mastodon server with a 500 c...         14546   \n",
       "2    A Mastodon instance for info/cyber security-mi...         13319   \n",
       "3    Hello! mas.to is a fast, up-to-date and fun Ma...         11889   \n",
       "4    Piaille.fr est un serveur mastodon public fran...          9221   \n",
       "..                                                 ...           ...   \n",
       "135  Ceilidh.Online is meant to be a safe gathering...            11   \n",
       "136  Bahia.no - aqui, todo mundo é baiano! Se você ...            10   \n",
       "137  A safe space for tech-centered LGBTQI+ folks a...             9   \n",
       "138         La première instance malgache de Mastodon.             6   \n",
       "139                              一个萌萌哒 泛ACGN 实例，欢迎安家 ~          3381   \n",
       "\n",
       "    languages                                              rules  total_users  \n",
       "0        [en]  [{'id': '1', 'text': 'Sexually explicit or vio...      2711879  \n",
       "1        [en]  [{'id': '2', 'text': 'Sexually explicit or vio...       260323  \n",
       "2        [en]  [{'id': '1', 'text': 'Do unto others as you th...        75725  \n",
       "3        [en]  [{'id': '9', 'text': 'No discrimination, inclu...       183608  \n",
       "4        [fr]  [{'id': '1', 'text': 'Conformément aux lois fr...        40869  \n",
       "..        ...                                                ...          ...  \n",
       "135      [en]  [{'id': '2', 'text': 'Do not engage in hate sp...           42  \n",
       "136   [pt-BR]  [{'id': '1', 'text': 'Idiomas permitidos: Baia...           15  \n",
       "137      [en]  [{'id': '2', 'text': 'No illegal content', 'hi...          150  \n",
       "138      [fr]  [{'id': '1', 'text': 'Cette instance étant héb...          113  \n",
       "139      [en]  [{'id': '67', 'text': '拒绝真人不雅内容 / No inappropr...        23662  \n",
       "\n",
       "[140 rows x 7 columns]"
      ]
     },
     "execution_count": 7,
     "metadata": {},
     "output_type": "execute_result"
    }
   ],
   "source": [
    "df_mastodon = mastodon.df\n",
    "df_mastodon"
   ]
  },
  {
   "cell_type": "code",
   "execution_count": 8,
   "id": "0cdd215c",
   "metadata": {},
   "outputs": [
    {
     "data": {
      "application/vnd.microsoft.datawrangler.viewer.v0+json": {
       "columns": [
        {
         "name": "index",
         "rawType": "int64",
         "type": "integer"
        },
        {
         "name": "domain",
         "rawType": "object",
         "type": "string"
        },
        {
         "name": "title",
         "rawType": "object",
         "type": "string"
        },
        {
         "name": "description",
         "rawType": "object",
         "type": "string"
        },
        {
         "name": "languages",
         "rawType": "object",
         "type": "string"
        },
        {
         "name": "total_users",
         "rawType": "int64",
         "type": "integer"
        },
        {
         "name": "active_month",
         "rawType": "int64",
         "type": "integer"
        },
        {
         "name": "rules",
         "rawType": "object",
         "type": "unknown"
        }
       ],
       "ref": "1cbd43c6-d787-47be-83e7-2067324d287b",
       "rows": [
        [
         "0",
         "Home",
         "Home",
         "nan",
         "en",
         "307843",
         "51",
         "[]"
        ],
        [
         "1",
         "AskReddit",
         "Ask Reddit...",
         "r/AskReddit is the place to ask and answer thought-provoking questions.",
         "es",
         "54701432",
         "9986",
         "['Rule 1 - Questions must be clear and direct and may not use the body textbox', ' Rule 2 - No personal or professional advice requests', ' Rule 3 - Open ended questions only', ' Rule 4 - No personal info', ' Rule 5 - No loaded questions', ' Rule 6 - [Serious] tagged posts are off-limits to jokes or irrelevant replies', ' Rule 7 - No begging for goods or services, or Reddit rewards', ' Rule 8 - Be respectful to other users at all times and conduct your behaviour in a civil manner', ' Rule 9 -  No image only replies or large ascii art', ' Rule 10 - Harmful Misinformation', ' Rule 11 - No spam, machine generated content or karma farming']"
        ],
        [
         "2",
         "NoStupidQuestions",
         "No such thing as stupid questions",
         "Ask away!\n\nDisclaimer: This is an anonymous forum so answers may not be correct",
         "en",
         "6021303",
         "4872",
         "['Top level comments must contain a genuine human-written attempt at an answer', ' Please try searching the subreddit for your question first', ' Be Nice', ' No medical advice questions', ' No trolling or joke questions', \" No suicide or 'was I raped/sexual assaulted/sexually harrassed?' questions\", ' No self-promotion, shilling or begging', ' No illegal/unethical or disturbing subject matter', ' No disguised rants, agenda posts or potstirring']"
        ],
        [
         "3",
         "BaldursGate3",
         "Baldur's Gate 3",
         "A community all about Baldur's Gate III, the role-playing video game by Larian Studios. BG3 is the third main game in the Baldur's Gate series. Baldur's Gate III is based on a modified version of the Dungeons & Dragons 5th edition (D&D 5e) tabletop RPG ruleset.\n\nGather your party and venture forth!",
         "en",
         "3118378",
         "1384",
         "['Be civil to one another.', ' Respect the opinions of others.', ' Keep your posts relevant.', ' Tag spoilers and NSFW content.', ' Memes, screenshots, and fanart must be flaired.', ' No Spamming', ' No Tav, Build/Multiclass, or LFG Posts outside of their megathreads', ' No piracy allowed. No posting pirated material of any kind but especially 5e material', \" Use modmail for issues or giveaways - don't mention/link or directly message the Mods\", ' No discussion exclusively about 3rd Party wikis', ' No AI generated content or discussion', ' All posts should be in English. Non-English comments are allowed.', ' No asking for game codes/the game/steam accounts', ' No posting about bigoted mods', ' Cosplay posts must now be submitted on Sundays. ']"
        ],
        [
         "4",
         "facepalm",
         "now double verified",
         "/r/facepalm - please sir can I have some more?",
         "en",
         "8145733",
         "2345",
         "['No uncivil, bigoted, misogynist, misandrist, racist comments or posts.', ' No Misinformation', ' No Memes', ' No language error posts', ' No jokes/satire/trolls posts', ' Remove identifying personal information', ' No \\'likes\"/\"shares\" posts', ' No \"Reddit Meta\" Posts', ' No posts about politicians being politicians', ' No posts attacking a political party or side']"
        ],
        [
         "5",
         "interestingasfuck",
         "Interesting As Fuck",
         "For anything truly interesting as fuck",
         "en",
         "13961838",
         "4038",
         "['Posts MUST be INTERESTING AS FUCK!', ' No Politics', ' Titles must be descriptive and directly related to the content', ' No porn or gore', ' No doxing/witch hunts or meta related posts', ' Provide a source when the title is in doubt', ' No FCoO/flooding', ' No self-promotion', ' Be civil', ' Repost limitations', ' No gossip or tabloid-type material', ' Additional/temporary rules']"
        ],
        [
         "6",
         "Damnthatsinteresting",
         "Damn, that's interesting!",
         "For the most interesting things on the internet",
         "en",
         "19795678",
         "3299",
         "['Only \"Damnthatsinteresting\" content', ' Use descriptive titles', ' No racism, bigotry, or hate speech', ' No screenshots/memes/infographics', ' Moderator discretion', ' No reposts', ' No politics', ' Posts making claims must be sourced in comments at time of posting']"
        ],
        [
         "7",
         "LivestreamFail",
         "r/LivestreamFail",
         "The place for all things livestreaming.",
         "en",
         "4007153",
         "3960",
         "['Harassment: Civility', ' Harassment: Death & Violence', ' Harassment: Discrimination', ' Harassment: Unsourced Allegations', ' Harassment: Speculation', ' Harassment: Out of Context Content', ' Quality: Duplicate Submissions', ' Quality: Title Guidelines', ' Quality: Old News', ' Spam: Engagement Manipulation', ' Spam:  LSF Meta Posts', ' Spam: LSF Meta Comments', ' Spam: Off-topic', ' Restricted Content', ' Banned Streamers']"
        ],
        [
         "8",
         "pics",
         "Reddit Pics",
         "A place for photographs, pictures, and other images.",
         "en",
         "32398953",
         "3539",
         "['No screenshots, AI images, or pictures in which the focus is a screen.', ' No digital elements or text.', ' No pornography or gore.', ' No doxxing or witch-hunts.', ' Titles must obey all relevant rules.', ' Only approved image-hosts.', ' No GIFs or videos.', ' Remain civil.', ' No progress-pictures.', ' No FCoO or flooding.', ' Reposts are subject to limitations.', ' No self-promotional accounts.']"
        ],
        [
         "9",
         "Palworld",
         "Palworld",
         "[Unaffiliated with Pocketpair] \nPalworld is a brand-new multiplayer, open-world survival crafting game where you can befriend and collect mysterious creatures called \"Pals\" in a vast new world! Make your Pals fight, build, farm, work in factories, and more!",
         "en",
         "722697",
         "88",
         "['Respect and Courtesy', ' Relevancy', ' No Low Effort Content or Spamming', ' No NSFW or Generally Inappropriate Content', ' Self Promotion Guidelines', ' No Sales, Advertisements, or Content Involving Monetary Exchange or Tender.', ' Art Submission Guidelines', ' English Only', ' Piracy, Hacks, and Cheating']"
        ],
        [
         "10",
         "AmItheAsshole",
         "Am I the Asshole? ",
         "A catharsis for the frustrated moral philosopher in all of us, and a place to finally find out if you were wrong in an argument that's been bothering you. Tell us about any non-violent conflict you have experienced; give us both sides of the story, and find out if you're right, or you're the asshole. \n\nSee our ~~*Best Of*~~ \"Most Controversial\" at /r/AITAFiltered!",
         "en",
         "24179747",
         "3163",
         "['Be Civil', ' Voting Rules', ' Accept Your Judgment', ' Never Delete An Active Discussion', ' No Violeпce', ' How To Post', ' Post Interpersonal Conflicts', ' No Shitposts, No AI', ' Do Not Ask For Advice', ' Updates and META posts are restricted', ' No Partings/Relationship/Sex/Reproductive Autonomy Posts', ' This Is Not A Debate Sub', ' No Revenge Stories', ' No Medical Conflicts', ' Review the FAQ Before Participating']"
        ],
        [
         "11",
         "mildlyinfuriating",
         "jukmifgguggh",
         "jugkfmghgug",
         "en",
         "10478887",
         "3795",
         "['Be civil. Respect Reddiquette and follow Reddit sitewide rules.', ' No memes, overdone references, price complaints, text-heavy pictures, or other low-quality posts.  ', ' No Reddit meta posts.', \" No reposts under 6 months or crossposts unless it's OC.\", ' No GIFs cut short or overly edited GIFs. ', ' No politics, pushing agendas, or grandstanding. ', ' Hide or blur personal info such as full names, numbers, and addresses. ', ' No promotions.']"
        ],
        [
         "12",
         "Piracy",
         "Piracy: ꜱᴀɪʟ ᴛʜᴇ ʜɪɢʜ ꜱᴇᴀꜱ",
         "⚓ Dedicated to the discussion of digital piracy, including ethical problems and legal advancements.",
         "en",
         "2179942",
         "1824",
         "['Posts must be related to the discussion of digital piracy', \" Don't request invites, trade, sell, or self-promote\", \" Don't request or link to specific pirated titles, including DMs\", ' Show effort and respect']"
        ],
        [
         "13",
         "PeterExplainsTheJoke",
         "PeterExplainsTheJoke",
         "Hey gamers, this is the subreddit where you post a meme/joke you don't understand so it can be explained to you. You can also post memes about u/PeterExplainsTheJoke or just post weird pictures of Peter.",
         "en",
         "1819939",
         "665",
         "['Poor Behavior', ' Recently posted jokes', ' Dogwhistles/Conspiracy Theories', ' Metaposts', \" 'Wooooshing' users\", ' Low effort posts', ' Banned Jokes', ' Political Shilling / Debating']"
        ],
        [
         "14",
         "funny",
         "funny",
         "Reddit's largest humor depository",
         "en",
         "66845994",
         "2551",
         "['All posts must make an attempt at humor.', ' No memes, HIFW, MRW, MeIRL, DAE, or similar posts.', ' No reposts.', ' No personal info, no hate speech, no harassment.', ' No politics or political figures.', ' No forbidden titles, low-effort titles, or posts about Reddit cakedays.', ' No gore, pornography, or animal cruelty.', ' No unoriginal comics.', ' No pictures of just text.', ' No social-media, messaging, or AI-generated content.']"
        ],
        [
         "15",
         "AITAH",
         "AITAH",
         "This is a community like r/AmITheAsshole, except unlike that subreddit you can post interpersonal conflicts. Anything that's AITA including relationships, hypotheticals, even posting about Scar from the Lion King and trying to convince redditors that he was not the AH.\n\nrules: don't berate others and no pornography we have children here",
         "en",
         "4693425",
         "3275",
         "['No completely fake posts. ', ' No AI or Bot post and comments', ' No karma farming', ' No third party posts.', ' Be civil to each other. ', ' No excessive use of demeaning language or names.', ' No advertising']"
        ],
        [
         "16",
         "movies",
         "Movie News and Discussion",
         "The goal of /r/Movies is to provide an inclusive place for discussions and news about films with major releases. Submissions should be for the purpose of informing or initiating a discussion, not just to entertain readers. Read our extensive list of rules for more information on other types of posts like fan-art and self-promotion, or message the moderators if you have any questions.",
         "en",
         "35497336",
         "4034",
         "['Do Familiarize Yourself With Our Rules.', ' No Intentional Antagonism or Negative Attention Whoring', ' No Spam & Self-promotion - Same Source Posts', ' No Image Posts & Memes', ' No Ambiguous/Misleading/Inaccurate Information or Clickbait in the Submission Title', ' No Extraneous Comic Book Movie Submissions', ' No Repost or Discussion Threads of New Releases', ' No Spoilers', ' No Encouraging Piracy', ' No Subreddit Brigading', ' AI Generated Garbage', ' No Low Effort Posts', ' Scuttlebutt and Canards', ' No Complaints of a Movie OP has Not Completed.', ' Political Ranting Unrelated to the Movie at Hand']"
        ],
        [
         "17",
         "Helldivers",
         "Helldivers",
         "A subreddit dedicated to HELLDIVERS and HELLDIVERS II, intense co-op shooters set in a satirical dystopian future where you play as one of mankind's elite soldiers determined to spread managed democracy. Developed by Arrowhead Game Studios.",
         "en",
         "1975825",
         "876",
         "['Be Civil', ' No reposts', ' No spamming', ' No begging', ' No naming and shaming', ' Credit the original creator', ' No low efforts posts/comments', ' No LFG request posts (use the megathread)', ' Posts/comments must be related to Helldivers', ' No leaks/cheats/exploits discussions', ' Limited Self-promotion is allowed', ' No real-world political discussions', ' No low-quality rants/vents', ' Use the Q&A Megathread for simple questions', ' Submissions must be in English']"
        ],
        [
         "18",
         "gaming",
         "r/gaming",
         "The Number One Gaming forum on the Internet.",
         "en",
         "46599439",
         "7308",
         "['Not directly gaming related or generic meme template', ' Posting guidelines, bandwagons, brigades, direct reply posts.', ' Piracy', ' Unmarked spoiler / Unmarked NSFW.', ' No Giveaways / Trades / Contests / Items for sale / Donation requests / Crypto anything', ' Not original source / Website screenshot', ' Spam / Excessive self-promotion', ' Discussion prompts must be posted as self/text posts', ' Bigotry / Incivility / Toxicity', ' AMA related rule.']"
        ],
        [
         "19",
         "worldnews",
         "World News",
         "A place for major news from around the world, excluding US-internal news.",
         "en",
         "45645893",
         "9572",
         "['No US Internal News or Politics', ' No Editorialized or Misleading Titles', ' No Feature stories', ' No Editorials, Opinion or Analysis Pieces', ' No Articles In Languages Other Than English', ' No Images, Videos or Audio Clips', ' No Old News Articles (≥ 1 Week old)', ' Your content might be removed if /r/worldnews is not the appropriate subreddit for the story.', ' No Bigotry or Other Offensive Content', ' No Personal Attacks On Other Users', ' No Memes, Gifs, unlabeled NSFW images', ' No chatGPT bots or copy/paste bots']"
        ],
        [
         "20",
         "leagueoflegends",
         "League of Legends",
         "This is a subreddit devoted to the game League of Legends.",
         "en",
         "8135989",
         "2369",
         "['Please Read the full Rules on the sub. These are just several important ones', ' No Personal Attacks', ' All Claims Require Evidence', ' No Excessively Sexual or Violent Content/No NSFW', \" Don't Discuss or Advertise Cheats or Exploits\", ' Posts Must Be Directly Related To League of Legends', ' Specific restricted content (see rules for list)', \" Don't Address Individuals or Distinct Entities\", ' Feature Suggestions', ' Personal Stories', ' Spoilers have to be tagged', ' Esports Content Restrictions', ' No Vague or Misleading Titles', ' Short duration content belongs in a text post', ' Reposts']"
        ],
        [
         "21",
         "pcmasterrace",
         "PC Master Race - PCMR: A place where all enthusiasts of PC, PC gaming and PC technology are welcome!",
         "Welcome to the official subreddit of the PC Master Race / PCMR!\n\nAll PC-related content is welcome, including build help, tech support, and any doubt one might have about PC ownership.\n\nYou don't necessarily need a PC to be a member of the PCMR. You just have to love PCs. It's not about the hardware in your rig, but the software in your heart!\n\nJoin us in celebrating and promoting tech, knowledge, and the best gaming, study, and work platform there exists. The Personal Computer.",
         "en",
         "15127454",
         "1806",
         "['Harassment/calls to action against others', ' Follow PCMR Etiquette', ' Do not link to outside threads', ' Anonymize all images/screenshots', ' No referral or affiliate links', ' Low quality, unrelated, unoriginal or low-effort posts will be deleted at mod discretion.', ' Do not discriminate against others', ' No begging, trading, selling, or asking for valuation.', ' Do not abuse the NSFW or Spoiler tags', ' Peasantry posts must be self posts', ' Giveaway rules', ' Read our full rules here']"
        ],
        [
         "22",
         "Unexpected",
         "Unexpected",
         "This subreddit is for unexpected twists in videos and gifs.",
         "en",
         "11547639",
         "901",
         "['Expected/No twist', ' Keep Content Civil', ' Unmarked NSFW/NSFL', ' No Reposts', ' Bad Title', ' No low/poor quality videos', ' No death or abuse', ' No minors', ' No glorifying violence/tragedy', ' Politics', ' No Pictures of Text - visit /r/unextexted', ' No stealing content', ' No linking to Reddit', \" Follow Reddit's TOS\"]"
        ],
        [
         "23",
         "news",
         "News",
         "The place for news articles about current events in the United States and the rest of the world. Discuss it all here.",
         "en",
         "30164625",
         "6295",
         "['Submissions must be articles about a specific news event', ' Old News', ' No opinion/analysis or advocacy pieces', ' Articles must not be primarily concerning politics', ' No editorialized titles', ' Title must match article title', ' No paywalls/blogspam that steals content', ' No posts covering an already submitted story', ' Do not be racist, sexist, vitriolic, or overly crude', ' Do not be unnecessarily rude or provocative', ' No cheap or distracting jokes or memes', ' No witchhunting. Follow the Reddit Content Policy.', ' Do not advocate or celebrate death', ' No bots/Novelty accounts']"
        ],
        [
         "24",
         "politics",
         "Politics",
         "/r/Politics is for news and discussion about U.S. politics.",
         "en",
         "8822252",
         "8842",
         "['General: No hateful speech', ' General: No novelty accounts or bots', ' General: No spam or solicitation', ' Comments: No incivility or personal attacks towards users', ' Comments: No flaming, baiting, or trolling', ' Comments: No witch hunts or personal information', ' Comments: Follow AMA specific rules', ' Posts: Submissions must be explicitly about US politics', ' Posts: Submissions must be published within the last 7 days', ' Posts: Submissions must be from the Approved Domain List', ' Posts: Titles must be the exact headline from the article with minor exceptions', ' Posts: Do not flood the new queue', ' Posts: No copy-pasted submissions or non-English articles', ' Posts: Disallowed submission types', ' Posts: Disclose employment or affiliation with a source']"
        ],
        [
         "25",
         "wallstreetbets",
         "wallstreetbets",
         "Like 4chan found a Bloomberg Terminal.",
         "en",
         "18670873",
         "5996",
         "['Avoid Purely Political Discussion', ' Screenshots of Social Media Posts are Prohibited', ' Market Cap Must Be Above $500MM USD', ' Keep Threads Interesting, Otherwise Use the Daily!', ' YOLOs Must Be Above $10K or $25K (Options, Shares)', ' Gains and Losses Must Be Above $2.5K or $5K (Options, Shares)', ' Gains and Losses Must Be Realized', ' Only Crypto Allowed is BTC and ETH', ' Avoid Pump & Dumps, Short Squeezes, and Market Manipulation', \" No Bullshitting - Only Comment If You Know What You're Talking About\", \" Please Don't Derail Discussion by Brigading, Spreading Hate, or Downvoting Everyone\", \" Don't Shit on the Community\", ' No Advertisement, Self-Promotion, Fundraising, or Begging', ' Content Guidelines', ' Glorifying Losses is Unacceptable']"
        ],
        [
         "26",
         "todayilearned",
         "Today I Learned (TIL)",
         "You learn something new every day; what did you learn today?\nSubmit interesting and specific facts about something that you just found out here.",
         "en",
         "40508942",
         "6548",
         "['Inaccurate/unverifiable/not supported by source', ' No personal opinions/anecdotes/subjective posts', ' No recent sources', ' No politics/agenda pushing', ' No misleading claims', \" Too general/can't stand on its own/how to\", ' No submissions about software/websites', ' All NSFW links must be tagged.']"
        ],
        [
         "27",
         "nottheonion",
         "Sadly, this is not the Onion.",
         "For true stories that you could have sworn were from The Onion.",
         "en",
         "25679956",
         "2142",
         "['Do not alter headlines.', ' Submissions must be oniony.', ' Only submit news articles.', ' Use original, reliable sources.', ' Do not repost similar articles.', ' No satire articles', ' No tabloid sources', ' No old news.', ' Only submit articles in English.', ' Do not post mobile links.', ' No blocked or redirected links', ' No personal attacks, racism, sexism, or bigotry', ' Don’t break Reddit rules.']"
        ],
        [
         "28",
         "memes",
         "/r/Memes the original since 2008",
         "Memes!\n\nA way of describing cultural information being shared.\nAn element of a culture or system of behavior that may be considered to be passed from one individual to another by nongenetic means, especially imitation.",
         "en",
         "35469931",
         "967",
         "['Rule 1 - ALL POSTS MUST BE MEMES and FOLLOW A GENERAL MEME FORMAT', ' Rule 2 - NO MEMES ABOUT POLARIZING/POLITICAL TOPICS, VULNERABLE GROUPS, VIOLENCE, ETC. [SEE LIST]', ' Rule 3 - NO SPAM/CHAINPOSTING and NO OVERUSED/PROHIBITED MEME TEMPLATES [SEE LIST]', ' Rule 4 - NO INTERACTION-BAITING POSTS/TITLES and NO IDENTIFYING INFO/WATERMARKS', ' Rule 5 - NO VIDEOS LONGER THAN 15 SECONDS and DIRECT REDDIT UPLOADS ONLY (NO LINKS)', ' Rule 6 - ONLY POST MEMES YOU ACTUALLY MADE YOURSELF/NO REPOSTS and NO BAD CROPPING/LOW-RES MEMES']"
        ],
        [
         "29",
         "PublicFreakout",
         "/r/PublicFreakout",
         "A subreddit dedicated to people freaking out, melting down, losing their cool, or being weird in public.",
         "en",
         "4708767",
         "2282",
         "['Rule 1', ' No doxxing', ' Rule 2', ' Use tact videos involving mental disorders', ' Rule 3', ' Abusive comments will be removed', ' Rule 4', ' No racism, sexism, transphobia or bigotry', ' Rule 5', ' Video posts only', ' Rule 6', ' Text Posts require moderator approval.', ' Rule 7', ' Posting Guidelines.', ' Rule 8', ' No videos involving death/murder.', ' Rule 9', ' Facebook Videos are allowed, not encouraged', ' Rule 10', ' Submissions must fit community']"
        ],
        [
         "30",
         "Wellthatsucks",
         "Well... That sucks...",
         "Posts that make you go: \"Well.. that sucks..\"",
         "en",
         "4071395",
         "927",
         "['Please follow reddiquette.', ' Please be civil.', ' No injuries', ' No compilations ', ' No low effort', ' No Reposts.']"
        ],
        [
         "31",
         "explainlikeimfive",
         "Explain Like I'm Five | Don't Panic!",
         "Explain Like I'm Five is the best forum and archive on the internet for layperson-friendly explanations.\n\n\nDon't Panic!",
         "en",
         "23228465",
         "2442",
         "['Be Civil', ' All submissions must seek objective explanations', ' Top-level comments must be written explanations', ' Explain for laypeople (but not actual 5-year-olds)', ' ELI5 is for factual information, not opinions', ' Loaded questions are not allowed', ' Search before posting', \" don't repeat old posts\", \" Don't guess\", \" Don't try to trick the bot\", ' Posts must begin with \"ELI5:\"', ' Link to the Detailed Rules']"
        ],
        [
         "32",
         "OutOfTheLoop",
         "What's everyone on about?",
         "A subreddit to help you keep up to date with what's going on with reddit and other stuff.",
         "en",
         "3584343",
         "654",
         "['Post title must be a current, unbiased, and coherent question', ' Text body must include context', ' Recently asked - already on the frontpage (search)', ' Top-level comment must answer or ask a follow-up', ' Uncivil', ' Not a loop - better suited for another subreddit', ' No AI Answers']"
        ],
        [
         "33",
         "OnePiece",
         "One Piece",
         "Welcome to r/OnePiece, the community for Eiichiro Oda's manga and anime series One Piece. From the East Blue to the New World, anything related to the world of One Piece belongs here! If you've just set sail with the Straw Hat Pirates, be wary of spoilers on this subreddit!",
         "en",
         "5164542",
         "426",
         "['Be mindful of Spoilers.', ' No separate posts of chapter thread for 24h', ' Fanart/cosplay must directly link to the source', ' Plain panels/scenes must create discourse', ' Posts must be directly related to One Piece', ' Self promotion', ' No Low Effort Meme', ' No hentai', ' No posts about One Piece games other than news', ' No Questions answered in the FAQ/sidebar', \" Don't be Rude\", ' Flair your posts']"
        ],
        [
         "34",
         "BlackPeopleTwitter",
         "Black Twitter",
         "Screenshots of Black people being hilarious or insightful on social media, it doesn't need to just be twitter but obviously that is best.",
         "en",
         "6116748",
         "1406",
         "['Social media posts from black people only', ' Bad Faith Participation', ' Respectability', ' No Racism/Hate speech', ' Posts must be showcasing somebody being hilarious or insightful on social media.', ' Reddit Cliches', ' No reposts', ' Bad post title', \" Don't complain about the use of AAVE or slang.\", ' Please respect these voices of the users of this community', ' No posts from corporate or meme accounts', ' Moderator Fiat', ' ☑️ Country Club']"
        ],
        [
         "35",
         "buildapc",
         "/r/buildapc - Planning on building a computer but need some advice? This is the place to ask!",
         "Planning on building a computer but need some advice? This is the place to ask!\n\n\n /r/buildapc is a community-driven subreddit dedicated to custom PC assembly. Anyone is welcome to seek the input of our helpful community as they piece together their desktop.",
         "en",
         "8034842",
         "1242",
         "['Be respectful to others', ' No build-spoonfeeding requests', ' No piracy or grey-market software keys', ' No laptop or prebuilt PC questions', ' No submissions about hardware news, rumors, or reviews', ' No submissions about sales, deals or unauthorized giveaways', ' No submissions about retailer or customer service experiences', ' No titles that are all-caps, clickbait, PSAs, pro-tips or contain emoji.', ' No submissions that are low-effort, memes, jokes, meta, or hypothetical / dream builds.', ' No self-promotion, advertising or surveys', ' No selling, trading or requests for valuation', ' No excessive posting (more than one submission in 24 hours)', ' No intentionally harmful, misleading or joke advice', ' No bots or automated accounts', ' Ban Appeal']"
        ],
        [
         "36",
         "HonkaiStarRail",
         "HonkaiStarRail",
         "Honkai: Star Rail is a strategy-RPG title in the Honkai series that takes players on a cosmic adventure across the stars. Hop aboard the Astral Express and experience the galaxy's infinite wonders on this journey filled with adventure and thrill.",
         "en",
         "1134209",
         "546",
         "['Be respectful to others', ' No leaked / datamined / modded content', ' Megathreads', ' Mundane or Repetitive Posts', ' Original Content Rules', ' Non-Original Content Rules', ' Non-OC Art Submission Frequency', ' NSFW Rules', ' Be careful with spoilers', ' Commercial and Self-Promotion Rules', ' Shipping Rules']"
        ],
        [
         "37",
         "SipsTea",
         "SipsTea",
         "Delivering the internet's best content daily. On Wednesdays we post frogs!",
         "en",
         "1635741",
         "1841",
         "['No NSFW', ' No Harassment ', ' No Toxicity', ' No Politics', \" No Sub GC's/Subreddits\", ' No Spam', ' No Hate', ' No Impersonation (Catfishing)', ' No Defamation ', ' No Brigading ', ' No Self Harm Discussion ', ' No Baiting', ' English Only', ' No Reposts', ' Reddit Site-Wide Rules']"
        ],
        [
         "38",
         "Minecraft",
         "Minecraft on reddit",
         "Minecraft community on Reddit",
         "en",
         "8485731",
         "779",
         "['Be civil', ' Don’t advertise servers or communities', ' No memes', ' Don’t post images of text', ' Do not promote illegal or unethical practices', ' Stay on topic', ' Avoid chain posting', ' Explain your suggestions with a text post', ' Use a search engine, the wiki or community support before asking questions here', ' Speak English only.', ' Keep self-promotion to a minimum', ' Follow our standards for quality.', \" Don't post banned topics\"]"
        ],
        [
         "39",
         "mildlyinteresting",
         "For photos that are, you know, mildly interesting",
         "Aww, cripes. I didn't know I'd have to write a description. How many words is that so far, like a hundred? Soooo, yeah. Mildly interesting stuff. Stuff that interests you. Mildly. It's in the name, ffs.",
         "en",
         "24584963",
         "1880",
         "['No Memes', ' No Related Posts', ' No X-Posts or Reposts', ' Original [OC] Photographs Only', ' No Screenshots', ' Titles Must Be Exact But Concise Descriptions']"
        ],
        [
         "40",
         "nfl",
         "NFL: National Football League Discussion",
         "The place to discuss all NFL related things",
         "en",
         "12371281",
         "3025",
         "['Off Topic Content', ' Low effort/Joke Posts/Repost', ' Editorialized Title', ' All news should be sourced', ' Highlights: During Games', ' Personal Life/Off Field, Serious illness, deaths, and arrests for current or former players', ' Official threads are official and not unofficial', ' Original Content v. promotion and spam', ' Personal attack or any kind of slur', ' Off-Season Posting Policy']"
        ],
        [
         "41",
         "BeAmazed",
         "I bet you will /r/BeAmazed!",
         "A place to find and share things which are amazing in a positive way.",
         "en",
         "8928033",
         "430",
         "['Post Appropriate Content', ' No Porn, Gore or Very Disturbing Content', ' No War or Politics related posts', ' No Misleading Content', ' Don’t be rude to others']"
        ],
        [
         "42",
         "DIY",
         "DIY",
         "DIY",
         "en",
         "26629669",
         "656",
         "['All content must be DIY', ' Basic Community Rules', ' NSFW / Reddiquette / Civility', ' 𝗡𝗼 𝗦𝗮𝗹𝗲𝘀 | 𝗣𝗿𝗼𝗺𝗼𝘁𝗶𝗼𝗻𝘀 | 𝗔𝗱𝘃𝗲𝗿𝘁𝗶𝘀𝗶𝗻𝗴', ' Google First, Reddit Last | Product Search', ' Low effort posts', ' Content / Topics not suited for r/DIY', ' Rating & Reviewing Products or Brands', ' Sometimes you let the professionals handle it', ' No AI Content']"
        ],
        [
         "43",
         "nba",
         "NBA",
         "A community for NBA discussion.",
         "en",
         "16087593",
         "4426",
         "['Be civil and respectful', ' No trolling or baiting users', ' No racist, sexist, or homophobic language', ' No reposts', ' No fake news', ' No self-promotion', ' No NSFW content', ' Posts and comments must be relevant to the NBA', ' Stats/Player Tweets/Quotes/Misc. Media are self-post only and must be sourced', ' No Reaction Posts', ' r/nba no longer permits links/references to Twitter/X (or alts), Facebook, Instagram, and Threads', ' Use the Daily Discussion Thread']"
        ],
        [
         "44",
         "MapPorn",
         "Map Porn, for interesting maps",
         "High quality images of maps.",
         "en",
         "5801395",
         "743",
         "['Posts must be maps', ' No Low Effort Memes', ' Must meet aesthetic standards', ' No Advertising', ' No Repost Bots']"
        ],
        [
         "45",
         "Steam",
         "Steam on Reddit",
         "A subreddit for members of the Steam Community and fans of steam.\n\nDiscord: discord.gg/steam",
         "en",
         "4857400",
         "677",
         "['Basic Requirements and Quality Standards', ' Common or Unrelated Content', ' Support', ' Bugs or Exploits', ' Advertising, User-Generated Content, or Surveys', ' Gambling, Scams, Cheating, or Trading', ' Begging, Charity, or Giveaways', ' Game Advice or Asking For Friends', ' Accusations or Witch Hunts', ' Steam Subscriber Agreement or Reddiquette']"
        ],
        [
         "46",
         "Overwatch",
         "Overwatch",
         "Subreddit for all things Overwatch™, Overwatch 2™ and the Overwatch™ Universe, the team-based shooter from Blizzard Entertainment.",
         "en",
         "6057927",
         "752",
         "['Must be relevant to Overwatch.', ' Titles must be clear and accurate.  No spoilers in titles.', ' No low-quality, low-effort, or repetitive content.', ' No NSFW/NSFL content.', ' Be civil. No personal attacks or hateful speech.', ' Terms of Service Violations', ' No Witchhunting or Cheating Accusations.', ' Site Violations', ' Use Correct Flair.']"
        ],
        [
         "47",
         "Genshin_Impact",
         "Genshin Impact Official",
         "This is the official community for Genshin Impact (原神), the latest open-world action RPG from HoYoverse. The game features a massive, gorgeous map, an elaborate elemental combat system, engaging storyline & characters, co-op game mode, soothing soundtrack, and much more for you to explore!",
         "en",
         "3618874",
         "816",
         "['Be respectful and civil', ' Relevance to Genshin Impact', ' Megathread', ' No account trading or commercial promotion', ' NSFW rules', ' Non-OC art rules', ' OC rules', ' Mark spoilers', ' Post quality', ' Self-promotion rules', ' Overall subreddit quality', ' Cosplay Rules and guidelines']"
        ],
        [
         "48",
         "classicwow",
         "WoW: Classic",
         "A community for World of Warcraft: Classic fans.",
         "en",
         "678347",
         "546",
         "['Content must be related to WoW: Classic', ' Be civil and respectful', ' No witch hunts or brigading', ' Do not share or encourage the use of exploits, cheats, existing private servers, RWT, etc', ' No real world politics or religion', ' Flag NSFW content', ' Restricted content and extended rule-set', ' Flair your posts accurately', ' Follow Content Creator Guidelines']"
        ],
        [
         "49",
         "soccer",
         "The back page of the internet.",
         "The football subreddit. \n\nNews, results, and discussion about the beautiful game.",
         "en",
         "8590217",
         "7417",
         "['Follow reddiquette', ' No racism, homophobia, xenophobia, sexism or other offensive behaviour', ' Be on topic', ' No shit-posting', ' No Duplicates', ' No NSFW content', ' You must link sources for news, quotes and stats', ' Only valuable image and stat submissions', ' Please use factual and objective titles', ' No low-effort questions as top-level submissions', ' Hard paywalled content should be summarised, but not copied.', ' No Baiting/Trolling', ' Follow the Submission Guidelines and use the correct Flair creating a new post.']"
        ]
       ],
       "shape": {
        "columns": 7,
        "rows": 100
       }
      },
      "text/html": [
       "<div>\n",
       "<style scoped>\n",
       "    .dataframe tbody tr th:only-of-type {\n",
       "        vertical-align: middle;\n",
       "    }\n",
       "\n",
       "    .dataframe tbody tr th {\n",
       "        vertical-align: top;\n",
       "    }\n",
       "\n",
       "    .dataframe thead th {\n",
       "        text-align: right;\n",
       "    }\n",
       "</style>\n",
       "<table border=\"1\" class=\"dataframe\">\n",
       "  <thead>\n",
       "    <tr style=\"text-align: right;\">\n",
       "      <th></th>\n",
       "      <th>domain</th>\n",
       "      <th>title</th>\n",
       "      <th>description</th>\n",
       "      <th>languages</th>\n",
       "      <th>total_users</th>\n",
       "      <th>active_month</th>\n",
       "      <th>rules</th>\n",
       "    </tr>\n",
       "  </thead>\n",
       "  <tbody>\n",
       "    <tr>\n",
       "      <th>0</th>\n",
       "      <td>Home</td>\n",
       "      <td>Home</td>\n",
       "      <td>nan</td>\n",
       "      <td>en</td>\n",
       "      <td>307843</td>\n",
       "      <td>51</td>\n",
       "      <td>[]</td>\n",
       "    </tr>\n",
       "    <tr>\n",
       "      <th>1</th>\n",
       "      <td>AskReddit</td>\n",
       "      <td>Ask Reddit...</td>\n",
       "      <td>r/AskReddit is the place to ask and answer tho...</td>\n",
       "      <td>es</td>\n",
       "      <td>54701432</td>\n",
       "      <td>9986</td>\n",
       "      <td>[Rule 1 - Questions must be clear and direct a...</td>\n",
       "    </tr>\n",
       "    <tr>\n",
       "      <th>2</th>\n",
       "      <td>NoStupidQuestions</td>\n",
       "      <td>No such thing as stupid questions</td>\n",
       "      <td>Ask away!\\n\\nDisclaimer: This is an anonymous ...</td>\n",
       "      <td>en</td>\n",
       "      <td>6021303</td>\n",
       "      <td>4872</td>\n",
       "      <td>[Top level comments must contain a genuine hum...</td>\n",
       "    </tr>\n",
       "    <tr>\n",
       "      <th>3</th>\n",
       "      <td>BaldursGate3</td>\n",
       "      <td>Baldur's Gate 3</td>\n",
       "      <td>A community all about Baldur's Gate III, the r...</td>\n",
       "      <td>en</td>\n",
       "      <td>3118378</td>\n",
       "      <td>1384</td>\n",
       "      <td>[Be civil to one another.,  Respect the opinio...</td>\n",
       "    </tr>\n",
       "    <tr>\n",
       "      <th>4</th>\n",
       "      <td>facepalm</td>\n",
       "      <td>now double verified</td>\n",
       "      <td>/r/facepalm - please sir can I have some more?</td>\n",
       "      <td>en</td>\n",
       "      <td>8145733</td>\n",
       "      <td>2345</td>\n",
       "      <td>[No uncivil, bigoted, misogynist, misandrist, ...</td>\n",
       "    </tr>\n",
       "    <tr>\n",
       "      <th>...</th>\n",
       "      <td>...</td>\n",
       "      <td>...</td>\n",
       "      <td>...</td>\n",
       "      <td>...</td>\n",
       "      <td>...</td>\n",
       "      <td>...</td>\n",
       "      <td>...</td>\n",
       "    </tr>\n",
       "    <tr>\n",
       "      <th>95</th>\n",
       "      <td>SteamDeck</td>\n",
       "      <td>Steam Deck</td>\n",
       "      <td>The Unofficial Subreddit for the Valve Steam D...</td>\n",
       "      <td>en</td>\n",
       "      <td>903284</td>\n",
       "      <td>446</td>\n",
       "      <td>[Be Kind Or Get Banned,  Posts must be about o...</td>\n",
       "    </tr>\n",
       "    <tr>\n",
       "      <th>96</th>\n",
       "      <td>college</td>\n",
       "      <td>College</td>\n",
       "      <td>The subreddit for discussion related to colleg...</td>\n",
       "      <td>en</td>\n",
       "      <td>2911405</td>\n",
       "      <td>76</td>\n",
       "      <td>[Do not post spam or surveys.,  Do not post an...</td>\n",
       "    </tr>\n",
       "    <tr>\n",
       "      <th>97</th>\n",
       "      <td>manga</td>\n",
       "      <td>/r/manga: manga, on reddit.</td>\n",
       "      <td>Everything and anything manga!  (manhwa/manhua...</td>\n",
       "      <td>en</td>\n",
       "      <td>4725267</td>\n",
       "      <td>1480</td>\n",
       "      <td>[Disrespectful,  Follow submission guidelines ...</td>\n",
       "    </tr>\n",
       "    <tr>\n",
       "      <th>98</th>\n",
       "      <td>CrazyFuckingVideos</td>\n",
       "      <td>CrazyFuckingVideos</td>\n",
       "      <td>Crazy fucking videos for your viewing pleasure</td>\n",
       "      <td>en</td>\n",
       "      <td>2240152</td>\n",
       "      <td>799</td>\n",
       "      <td>[Follow Reddit's TOS,  Be civil,  Must be a Cr...</td>\n",
       "    </tr>\n",
       "    <tr>\n",
       "      <th>99</th>\n",
       "      <td>rareinsults</td>\n",
       "      <td>r/RareInsults</td>\n",
       "      <td>Did you stumble across a unique insult? Lookin...</td>\n",
       "      <td>en</td>\n",
       "      <td>2924628</td>\n",
       "      <td>201</td>\n",
       "      <td>[Don't be a dick,  No hateful insults,  Repost...</td>\n",
       "    </tr>\n",
       "  </tbody>\n",
       "</table>\n",
       "<p>100 rows × 7 columns</p>\n",
       "</div>"
      ],
      "text/plain": [
       "                domain                              title  \\\n",
       "0                 Home                               Home   \n",
       "1            AskReddit                      Ask Reddit...   \n",
       "2    NoStupidQuestions  No such thing as stupid questions   \n",
       "3         BaldursGate3                    Baldur's Gate 3   \n",
       "4             facepalm                now double verified   \n",
       "..                 ...                                ...   \n",
       "95           SteamDeck                         Steam Deck   \n",
       "96             college                            College   \n",
       "97               manga        /r/manga: manga, on reddit.   \n",
       "98  CrazyFuckingVideos                 CrazyFuckingVideos   \n",
       "99         rareinsults                      r/RareInsults   \n",
       "\n",
       "                                          description languages  total_users  \\\n",
       "0                                                 nan        en       307843   \n",
       "1   r/AskReddit is the place to ask and answer tho...        es     54701432   \n",
       "2   Ask away!\\n\\nDisclaimer: This is an anonymous ...        en      6021303   \n",
       "3   A community all about Baldur's Gate III, the r...        en      3118378   \n",
       "4      /r/facepalm - please sir can I have some more?        en      8145733   \n",
       "..                                                ...       ...          ...   \n",
       "95  The Unofficial Subreddit for the Valve Steam D...        en       903284   \n",
       "96  The subreddit for discussion related to colleg...        en      2911405   \n",
       "97  Everything and anything manga!  (manhwa/manhua...        en      4725267   \n",
       "98     Crazy fucking videos for your viewing pleasure        en      2240152   \n",
       "99  Did you stumble across a unique insult? Lookin...        en      2924628   \n",
       "\n",
       "    active_month                                              rules  \n",
       "0             51                                                 []  \n",
       "1           9986  [Rule 1 - Questions must be clear and direct a...  \n",
       "2           4872  [Top level comments must contain a genuine hum...  \n",
       "3           1384  [Be civil to one another.,  Respect the opinio...  \n",
       "4           2345  [No uncivil, bigoted, misogynist, misandrist, ...  \n",
       "..           ...                                                ...  \n",
       "95           446  [Be Kind Or Get Banned,  Posts must be about o...  \n",
       "96            76  [Do not post spam or surveys.,  Do not post an...  \n",
       "97          1480  [Disrespectful,  Follow submission guidelines ...  \n",
       "98           799  [Follow Reddit's TOS,  Be civil,  Must be a Cr...  \n",
       "99           201  [Don't be a dick,  No hateful insults,  Repost...  \n",
       "\n",
       "[100 rows x 7 columns]"
      ]
     },
     "execution_count": 8,
     "metadata": {},
     "output_type": "execute_result"
    }
   ],
   "source": [
    "df_reddit = reddit.df\n",
    "df_reddit"
   ]
  },
  {
   "cell_type": "code",
   "execution_count": 9,
   "id": "726e69f1",
   "metadata": {},
   "outputs": [
    {
     "data": {
      "application/vnd.microsoft.datawrangler.viewer.v0+json": {
       "columns": [
        {
         "name": "index",
         "rawType": "int64",
         "type": "integer"
        },
        {
         "name": "mastodon",
         "rawType": "object",
         "type": "string"
        },
        {
         "name": "reddit",
         "rawType": "object",
         "type": "string"
        }
       ],
       "ref": "322539dd-8d7e-448a-8695-dc050693c4cc",
       "rows": [
        [
         "0",
         "'en' : 94",
         "'en' : 99"
        ],
        [
         "1",
         "'de' : 16",
         "'es' : 1"
        ],
        [
         "2",
         "'fr' : 7",
         ""
        ],
        [
         "3",
         "'ko' : 3",
         ""
        ],
        [
         "4",
         "'es' : 3",
         ""
        ],
        [
         "5",
         "'nl' : 2",
         ""
        ],
        [
         "6",
         "'it' : 2",
         ""
        ],
        [
         "7",
         "'he' : 1",
         ""
        ],
        [
         "8",
         "'gd' : 1",
         ""
        ],
        [
         "9",
         "'pl' : 1",
         ""
        ],
        [
         "10",
         "'et' : 1",
         ""
        ],
        [
         "11",
         "'be' : 1",
         ""
        ],
        [
         "12",
         "'cs' : 1",
         ""
        ],
        [
         "13",
         "'no' : 1",
         ""
        ],
        [
         "14",
         "'gl' : 1",
         ""
        ],
        [
         "15",
         "'ru' : 1",
         ""
        ],
        [
         "16",
         "'ca' : 1",
         ""
        ],
        [
         "17",
         "'eu' : 1",
         ""
        ],
        [
         "18",
         "'ja' : 1",
         ""
        ],
        [
         "19",
         "'pt-BR' : 1",
         ""
        ]
       ],
       "shape": {
        "columns": 2,
        "rows": 20
       }
      },
      "text/html": [
       "<div>\n",
       "<style scoped>\n",
       "    .dataframe tbody tr th:only-of-type {\n",
       "        vertical-align: middle;\n",
       "    }\n",
       "\n",
       "    .dataframe tbody tr th {\n",
       "        vertical-align: top;\n",
       "    }\n",
       "\n",
       "    .dataframe thead th {\n",
       "        text-align: right;\n",
       "    }\n",
       "</style>\n",
       "<table border=\"1\" class=\"dataframe\">\n",
       "  <thead>\n",
       "    <tr style=\"text-align: right;\">\n",
       "      <th></th>\n",
       "      <th>mastodon</th>\n",
       "      <th>reddit</th>\n",
       "    </tr>\n",
       "  </thead>\n",
       "  <tbody>\n",
       "    <tr>\n",
       "      <th>0</th>\n",
       "      <td>'en' : 94</td>\n",
       "      <td>'en' : 99</td>\n",
       "    </tr>\n",
       "    <tr>\n",
       "      <th>1</th>\n",
       "      <td>'de' : 16</td>\n",
       "      <td>'es' : 1</td>\n",
       "    </tr>\n",
       "    <tr>\n",
       "      <th>2</th>\n",
       "      <td>'fr' : 7</td>\n",
       "      <td></td>\n",
       "    </tr>\n",
       "    <tr>\n",
       "      <th>3</th>\n",
       "      <td>'ko' : 3</td>\n",
       "      <td></td>\n",
       "    </tr>\n",
       "    <tr>\n",
       "      <th>4</th>\n",
       "      <td>'es' : 3</td>\n",
       "      <td></td>\n",
       "    </tr>\n",
       "    <tr>\n",
       "      <th>5</th>\n",
       "      <td>'nl' : 2</td>\n",
       "      <td></td>\n",
       "    </tr>\n",
       "    <tr>\n",
       "      <th>6</th>\n",
       "      <td>'it' : 2</td>\n",
       "      <td></td>\n",
       "    </tr>\n",
       "    <tr>\n",
       "      <th>7</th>\n",
       "      <td>'he' : 1</td>\n",
       "      <td></td>\n",
       "    </tr>\n",
       "    <tr>\n",
       "      <th>8</th>\n",
       "      <td>'gd' : 1</td>\n",
       "      <td></td>\n",
       "    </tr>\n",
       "    <tr>\n",
       "      <th>9</th>\n",
       "      <td>'pl' : 1</td>\n",
       "      <td></td>\n",
       "    </tr>\n",
       "    <tr>\n",
       "      <th>10</th>\n",
       "      <td>'et' : 1</td>\n",
       "      <td></td>\n",
       "    </tr>\n",
       "    <tr>\n",
       "      <th>11</th>\n",
       "      <td>'be' : 1</td>\n",
       "      <td></td>\n",
       "    </tr>\n",
       "    <tr>\n",
       "      <th>12</th>\n",
       "      <td>'cs' : 1</td>\n",
       "      <td></td>\n",
       "    </tr>\n",
       "    <tr>\n",
       "      <th>13</th>\n",
       "      <td>'no' : 1</td>\n",
       "      <td></td>\n",
       "    </tr>\n",
       "    <tr>\n",
       "      <th>14</th>\n",
       "      <td>'gl' : 1</td>\n",
       "      <td></td>\n",
       "    </tr>\n",
       "    <tr>\n",
       "      <th>15</th>\n",
       "      <td>'ru' : 1</td>\n",
       "      <td></td>\n",
       "    </tr>\n",
       "    <tr>\n",
       "      <th>16</th>\n",
       "      <td>'ca' : 1</td>\n",
       "      <td></td>\n",
       "    </tr>\n",
       "    <tr>\n",
       "      <th>17</th>\n",
       "      <td>'eu' : 1</td>\n",
       "      <td></td>\n",
       "    </tr>\n",
       "    <tr>\n",
       "      <th>18</th>\n",
       "      <td>'ja' : 1</td>\n",
       "      <td></td>\n",
       "    </tr>\n",
       "    <tr>\n",
       "      <th>19</th>\n",
       "      <td>'pt-BR' : 1</td>\n",
       "      <td></td>\n",
       "    </tr>\n",
       "  </tbody>\n",
       "</table>\n",
       "</div>"
      ],
      "text/plain": [
       "       mastodon     reddit\n",
       "0     'en' : 94  'en' : 99\n",
       "1     'de' : 16   'es' : 1\n",
       "2      'fr' : 7           \n",
       "3      'ko' : 3           \n",
       "4      'es' : 3           \n",
       "5      'nl' : 2           \n",
       "6      'it' : 2           \n",
       "7      'he' : 1           \n",
       "8      'gd' : 1           \n",
       "9      'pl' : 1           \n",
       "10     'et' : 1           \n",
       "11     'be' : 1           \n",
       "12     'cs' : 1           \n",
       "13     'no' : 1           \n",
       "14     'gl' : 1           \n",
       "15     'ru' : 1           \n",
       "16     'ca' : 1           \n",
       "17     'eu' : 1           \n",
       "18     'ja' : 1           \n",
       "19  'pt-BR' : 1           "
      ]
     },
     "metadata": {},
     "output_type": "display_data"
    }
   ],
   "source": [
    "display(utils.compare_languages(df_mastodon, df_reddit))"
   ]
  },
  {
   "cell_type": "code",
   "execution_count": 10,
   "id": "577c9347",
   "metadata": {},
   "outputs": [],
   "source": [
    "df_mastodon_en = df_mastodon[df_mastodon['languages'].apply(lambda x: x == ['en'] if isinstance(x, list) else False)]\n",
    "df_reddit_en =  df_reddit[df_reddit['languages'].apply(lambda x: x == 'en' if isinstance(x, str) else False)]"
   ]
  },
  {
   "cell_type": "code",
   "execution_count": 11,
   "id": "973deec2",
   "metadata": {},
   "outputs": [
    {
     "data": {
      "application/vnd.microsoft.datawrangler.viewer.v0+json": {
       "columns": [
        {
         "name": "index",
         "rawType": "int64",
         "type": "integer"
        },
        {
         "name": "domain",
         "rawType": "object",
         "type": "string"
        },
        {
         "name": "title",
         "rawType": "object",
         "type": "string"
        },
        {
         "name": "description",
         "rawType": "object",
         "type": "string"
        },
        {
         "name": "active_month",
         "rawType": "int64",
         "type": "integer"
        },
        {
         "name": "languages",
         "rawType": "object",
         "type": "unknown"
        },
        {
         "name": "rules",
         "rawType": "object",
         "type": "unknown"
        },
        {
         "name": "total_users",
         "rawType": "int64",
         "type": "integer"
        }
       ],
       "ref": "4c7a3fc7-182a-4c36-a81f-29688efefe00",
       "rows": [
        [
         "0",
         "mastodon.social",
         "Mastodon",
         "The original server operated by the Mastodon gGmbH non-profit",
         "327503",
         "['en']",
         "[{'id': '1', 'text': 'Sexually explicit or violent media must be marked as sensitive or with a content warning', 'hint': 'This includes content that is particularly provocative even if it may not show specific body parts, as well as dead bodies, bloody injuries, and other gore. Particularly obscene content may be prohibited entirely. Profile pictures and header images may not contain sexually explicit or violent media.'}, {'id': '2', 'text': 'No racism, sexism, homophobia, transphobia, ableism, xenophobia, or casteism.', 'hint': 'Transphobic behavior such as intentional misgendering and deadnaming is strictly prohibited. Promotion of \"conversion therapy\" is strictly prohibited. Criticism of governments and religions is permissible unless being used as a proxy for discrimination.'}, {'id': '3', 'text': 'No incitement of violence or promotion of violent ideologies', 'hint': 'Calling for people or groups to be assassinated, murdered, or attacked physically is strictly prohibited. Support for violent groups or events is prohibited.'}, {'id': '4', 'text': 'No harassment, block evasion, dogpiling, or doxxing of others', 'hint': 'Repeat attempts to communicate with users who have blocked you or creation of accounts solely to harass or insult individuals is strictly prohibited. Coordinated activity to attack other users is prohibited. Posting of private personal information about others is prohibited.'}, {'id': '7', 'text': 'Do not share information widely-known to be false and misleading', 'hint': 'False and misleading information and links from low-quality sources may not be posted, especially if they are likely to mislead or confuse others or endanger their safety.'}, {'id': '1008', 'text': 'Content created by others must be attributed, and use of generative AI must be disclosed', 'hint': 'Content created by others must clearly provide a reference to the author, creator, or source. For adult content, this should include performers. Accounts may not solely post AI-generated content.'}]",
         "2711879"
        ],
        [
         "1",
         "mstdn.social",
         "Mastodon 🐘",
         "A general-purpose Mastodon server with a 500 character limit. All languages are welcome.",
         "14546",
         "['en']",
         "[{'id': '2', 'text': 'Sexually explicit or violent media must be marked as sensitive when posting.', 'hint': ''}, {'id': '3', 'text': 'No spam or advertising.', 'hint': ''}, {'id': '4', 'text': 'No racism, sexism, homophobia, transphobia, xenophobia, or casteism.', 'hint': ''}, {'id': '5', 'text': 'No incitement of violence or promotion of violent ideologies.', 'hint': ''}, {'id': '6', 'text': 'No harassment, dogpiling or doxxing of other users.', 'hint': ''}, {'id': '7', 'text': 'No illegal content.', 'hint': ''}, {'id': '11', 'text': 'No spreading of fake news or misinformation', 'hint': ''}, {'id': '12', 'text': 'Content created by others must be attributed, and use of AI must be disclosed. Profiles that only post AI-generated content will not be tolerated.', 'hint': ''}]",
         "260323"
        ],
        [
         "2",
         "infosec.exchange",
         "Infosec Exchange",
         "A Mastodon instance for info/cyber security-minded people.\n",
         "13319",
         "['en']",
         "[{'id': '1', 'text': 'Do unto others as you think they would want done to them.  ', 'hint': ''}, {'id': '2', 'text': 'Mark sensitive content with a content warning.  ', 'hint': ''}, {'id': '3', 'text': 'Gratuitous obscenity that serves no practical benefit to a discussion is not permitted.', 'hint': ''}, {'id': '4', 'text': 'Illegal content such as child pornography, unsurprisingly, is not permitted', 'hint': ''}, {'id': '5', 'text': 'Spam is not permitted, this includes creating spam accounts that only serve to provide profile links or advertise products and services. ', 'hint': ''}, {'id': '6', 'text': 'Hate speech and abusive or threatening behavior is not permitted, specifically that which directed at any gender, nationality, religion, race, age, pizza topping preference, or sexual identity.  One can hate on systemd all day long here.', 'hint': ''}, {'id': '7', 'text': \"Lack of a specific rule against a certain behavior does not indicate acceptance of that behavior.  Each of us has a limited amount of time in this world.  Don't be a jerk.  \", 'hint': ''}, {'id': '8', 'text': 'Violating one or more of these rules may result in an immediate, permanent ban without notice or warning.  ', 'hint': ''}, {'id': '9', 'text': 'You may not impersonate a person or brand without a clear indication the account is unofficial and/or a parody. Parody accounts are permitted, as are legitimate brand accounts. ', 'hint': ''}, {'id': '11', 'text': 'No attacks against (or from) the instance.\\r\\n\\r\\nYou may not do anything which may impact confidentiality, integrity or availability of Infosec.Exchange, the users of the service or their data.\\r\\nFor more details see https://wiki.infosec.exchange/rules/start', 'hint': ''}, {'id': '12', 'text': 'No doxing (aka doxxing) or disclosing personal information without consent and as a means of harassing or causing others to harass another person.', 'hint': ''}, {'id': '13', 'text': 'No harassment in the form of continued engagement after a person has requested contact to stop', 'hint': ''}, {'id': '14', 'text': 'Automated posting:\\r\\n- accounts that post >50% using automation must be labeled as a “bot” in the user profile to help provide a visual indicator to visitors\\r\\n- automated posts must be limited to one post per hour/24 per day with post visibility set to “public”. There is no limit on “unlisted” posts.', 'hint': ''}, {'id': '15', 'text': 'Soliciting or inciting violence or harm against a person or segment of people is not permitted. ', 'hint': ''}]",
         "75725"
        ],
        [
         "3",
         "mas.to",
         "mas.to",
         "Hello! mas.to is a fast, up-to-date and fun Mastodon server.",
         "11889",
         "['en']",
         "[{'id': '9', 'text': \"No discrimination, including (but not limited to) racism, sexism, homophobia or transphobia (including targeted misgendering, deadnaming, or promotion of so-called 'conversion therapy').\", 'hint': ''}, {'id': '10', 'text': 'No explicit (NSFW) content without content warnings and/or sensitive media markers. Explicit content must not be used in user avatars or header images.', 'hint': ''}, {'id': '17', 'text': 'No harassment of other users on this or other servers.', 'hint': ''}, {'id': '18', 'text': 'No content illegal in the following countries: United Kingdom, Germany', 'hint': ''}, {'id': '19', 'text': 'No incitement of violence or promotion of violent ideologies.', 'hint': ''}, {'id': '20', 'text': 'No disinformation regarding public health issues or political/military campaigns.', 'hint': ''}, {'id': '21', 'text': 'No spam. This includes commercial advertising, promotion of services, and SEO.', 'hint': ''}, {'id': '22', 'text': 'No impersonation of other individuals, public figures or organisations, unless clearly marked as a parody.', 'hint': ''}, {'id': '23', 'text': 'All automated (bot) accounts must enable the bot flag in their account preferences, respect #nobot markers, and post as unlisted unless making less than one post per hour.', 'hint': ''}]",
         "183608"
        ],
        [
         "5",
         "hachyderm.io",
         "Hachyderm.io",
         "Hachyderm is a safe space, LGBTQIA+ and BLM, primarily comprised of tech industry professionals world wide. Note that many non-user account types have restrictions - please see our About page.",
         "8937",
         "['en']",
         "[{'id': '1', 'text': \"Don't be a dick.\", 'hint': ''}, {'id': '2', 'text': 'No hacking.', 'hint': ''}, {'id': '3', 'text': 'No violence.', 'hint': ''}, {'id': '4', 'text': 'No fascism. ', 'hint': ''}, {'id': '5', 'text': 'No colonialism.', 'hint': ''}, {'id': '6', 'text': 'No white supremacy.', 'hint': ''}, {'id': '7', 'text': 'No religious extremism. ', 'hint': ''}, {'id': '9', 'text': 'No nationalism.', 'hint': ''}, {'id': '11', 'text': 'No racism.', 'hint': ''}, {'id': '12', 'text': 'No homophobia.', 'hint': ''}, {'id': '13', 'text': 'No transphobia.', 'hint': ''}, {'id': '14', 'text': 'Safe Space: LGTBQIA+', 'hint': ''}, {'id': '15', 'text': 'Safe Space: neurodivergent (ADHD, Autism, etc.) ', 'hint': ''}]",
         "56318"
        ],
        [
         "7",
         "mastodon.gamedev.place",
         "Gamedev Mastodon",
         "Mastodon server focused on game development and related topics.",
         "5078",
         "['en']",
         "[{'id': '1', 'text': 'Sexually explicit or violent media must be marked as sensitive when posting', 'hint': ''}, {'id': '2', 'text': 'No racism, sexism, homophobia, transphobia, xenophobia, or casteism', 'hint': ''}, {'id': '3', 'text': 'No incitement of violence or promotion of violent ideologies', 'hint': ''}, {'id': '4', 'text': 'No harassment, dogpiling or doxxing of other users', 'hint': ''}, {'id': '5', 'text': 'No content illegal in EU', 'hint': ''}, {'id': '6', 'text': 'Do not share intentionally false or misleading information', 'hint': ''}]",
         "33441"
        ],
        [
         "8",
         "techhub.social",
         "TechHub",
         "A hub primarily for passionate technologists, but everyone is welcome",
         "5031",
         "['en']",
         "[{'id': '6', 'text': 'Violent media must be marked as sensitive when posting.', 'hint': ''}, {'id': '7', 'text': 'No racism, sexism, homophobia, transphobia, xenophobia, or casteism.', 'hint': ''}, {'id': '8', 'text': 'No incitement of violence or promotion of violent ideologies.', 'hint': ''}, {'id': '9', 'text': 'No harassment, dogpiling or doxxing of other users.', 'hint': ''}, {'id': '10', 'text': 'No content illegal in Canada.', 'hint': ''}, {'id': '11', 'text': 'Do not share false or misleading information that may lead to physical harm.', 'hint': ''}, {'id': '13', 'text': 'No spam, no direct advertising selling products or services, no aggressive promotion. If you promote your website, blog, etc do it responsibly and use a description and tags.', 'hint': ''}, {'id': '14', 'text': 'Bots must be marked as Bot in their profile and bots created after Dec 31st 2024 must post in silent mode', 'hint': ''}, {'id': '15', 'text': 'Sexually explicit content is not allowed', 'hint': ''}, {'id': '16', 'text': 'Agree to Code of Conduct (see about section)', 'hint': ''}]",
         "83099"
        ],
        [
         "9",
         "mastodon.nl",
         "Mastodon.nl door Stichting Activityclub",
         "Mastodon voor de Nederlandse community - door de Nederlandse community - in stand gehouden door Stichting Activityclub",
         "4519",
         "['en']",
         "[{'id': '2', 'text': 'Heb respect voor elkaar'}, {'id': '3', 'text': 'Geen links of referenties naar racistische, hatelijke of offensieve content'}, {'id': '4', 'text': 'Geen accounts en toots die nodeloos ongefundeerd zijn'}, {'id': '5', 'text': 'Geen zaken die in Nederland illegaal zijn'}, {'id': '7', 'text': 'Geen reclame en spam'}, {'id': '9', 'text': 'Bij herhaling provoceren of uitlokken (trolling) is niet toegestaan.'}]",
         "43744"
        ],
        [
         "10",
         "social.tchncs.de",
         "Mastodon",
         "A friendly server from Germany – which tends to attract techy people, but welcomes everybody. This is one of the oldest Mastodon instances.",
         "3697",
         "['en']",
         "[{'id': '1', 'text': 'Be nice to each other', 'hint': ''}, {'id': '2', 'text': 'Do not publish advertisements', 'hint': ''}, {'id': '3', 'text': 'Do not publish conspiracy myths', 'hint': ''}, {'id': '4', 'text': 'Do not publish content illegal in Germany and/or France, such as holocaust denial or Nazi symbolism', 'hint': ''}, {'id': '5', 'text': 'Do not publish content promoting the ideology of National Socialism', 'hint': ''}, {'id': '6', 'text': 'Do not publish content that is hateful towards specific individuals or groups, or intended to cause or incite harm', 'hint': ''}, {'id': '7', 'text': 'Do not exclusively crosspost from other platforms', 'hint': ''}]",
         "22825"
        ],
        [
         "11",
         "kolektiva.social",
         "kolektiva.social",
         "Kolektiva is an anti-colonial anarchist collective that offers federated social media to anarchist collectives and individuals in the fediverse. For the social movements and liberation!",
         "3405",
         "['en']",
         "[{'id': '1', 'text': 'No racism, misogyny, homo/transphobia, ableism or other oppressive behaviour. ', 'hint': ''}, {'id': '2', 'text': 'No right wing bullshit and no authoritarian left wing apologetics. ', 'hint': ''}, {'id': '3', 'text': 'No harassment.', 'hint': ''}, {'id': '4', 'text': 'No electoral propaganda/campaigning.', 'hint': ''}, {'id': '5', 'text': 'No misinformation or conspiracy theories.', 'hint': ''}, {'id': '6', 'text': 'No promotion of capitalism, meritocracy or a commercial enterprise.', 'hint': ''}, {'id': '7', 'text': 'No spam.', 'hint': ''}, {'id': '8', 'text': 'No sexualized images without consent.', 'hint': ''}, {'id': '9', 'text': 'No glorification of nation states or militarism.', 'hint': ''}, {'id': '10', 'text': 'Propaganda from the USSR, CCP, or DPRK is not allowed.', 'hint': ''}]",
         "40004"
        ],
        [
         "12",
         "norden.social",
         "norden.social",
         "Moin! Dies ist die Mastodon-Instanz für Nordlichter, Schnacker und alles dazwischen. Folge dem Leuchtturm.",
         "3383",
         "['en']",
         "[{'id': '12', 'text': 'Respektvoller Umgang', 'hint': 'Sei freundlich und respektvoll. Persönliche Angriffe, Beleidigungen oder herablassendes Verhalten werden nicht toleriert.'}, {'id': '13', 'text': 'Keine Diskriminierung', 'hint': 'Diskriminierung oder Hass aufgrund von Herkunft, Geschlecht, sexueller Orientierung, Geschlechtsidentität, Behinderung, Einschränkungen (Ableismus), Religion oder anderen persönlichen Merkmalen sind verboten.'}, {'id': '14', 'text': 'Einhaltung von Gesetzen und Urheberrechten', 'hint': 'Veröffentliche keine illegalen Inhalte oder Materialien, die Urheberrechte verletzen. Solche Beiträge werden entfernt, und wiederholte Verstöße können zur Kontosperrung führen.'}, {'id': '15', 'text': 'Schutz der Privatsphäre', 'hint': 'Teile keine persönlichen Daten ohne ausdrückliche Zustimmung der betroffenen Personen. Überlege sorgfältig, welche Informationen du öffentlich machst.'}, {'id': '16', 'text': 'Kennzeichnung anstößiger und nicht jugendfreier Inhalte', 'hint': 'Markiere Inhalte, die als anstößig oder jugendgefährdend gelten, mit einer Inhaltswarnung und (zum Beispiel per Hashtag) als “NSFW” (Not Safe for Work). Beachte, dass unsere Instanz möglicherweise nicht für Accounts geeignet ist, die ausschließlich jugendgefährende Inhalte teilen.'}, {'id': '17', 'text': 'Automatisierte Beiträge', 'hint': 'Automatisierte Inhalte wie Bots oder Crossposts müssen als “Öffentlich (Still)” veröffentlicht werden. Konten, die ohne aktive Teilnahme ausschließlich automatisierte Inhalte posten, können entfernt werden.'}, {'id': '18', 'text': 'Keine Belästigung oder Spam', 'hint': 'Belästigung, Mobbing, unerwünschte Kontaktaufnahmen, Spam oder die Verbreitung von Schadsoftware sind untersagt.'}, {'id': '19', 'text': 'Verbot extremistischer Inhalte', 'hint': 'Inhalte mit Nazi-Symbolik, extremistischer Propaganda oder Hassrede sind strengstens verboten.'}, {'id': '20', 'text': 'Authentizität bewahren', 'hint': 'Erstelle keine Fake-Profile und gib dich nicht als jemand anderes aus.'}, {'id': '21', 'text': 'Keine absichtliche Verbreitung von Falschinformationen', 'hint': 'Das bewusste Verbreiten von falschen Informationen, die der Community oder der Gesellschaft schaden könnten, ist verboten.'}]",
         "13802"
        ],
        [
         "13",
         "mastodonapp.uk",
         "Mastodon App UK",
         "UK Hosted and Managed Mastodon Instance. General communal space for discussion, everyone welcome! Now with a 1000 character limit for posts!",
         "3227",
         "['en']",
         "[{'id': '1', 'text': 'Sexually explicit or violent media must be marked as sensitive & content warned when posting'}, {'id': '2', 'text': 'Be respectful. Racism, sexism, homophobia, transphobia (including targeted misgendering, deadnaming, or promotion of so-called \"conversion therapy\"), xenophobia, and other forms of hate and discrimination are not welcome. Your behaviour elsewhere may also be considered if brought to our attention. '}, {'id': '3', 'text': 'No incitement of violence or promotion of discriminatory or violent ideologies'}, {'id': '4', 'text': 'No spam, harrassment, dogpiling or doxxing of other users, this includes mass and spam reporting'}, {'id': '5', 'text': 'No content illegal in The United Kingdom'}, {'id': '6', 'text': 'No intentionally false or misleading information. By extension, do not pose as persons of interest. '}, {'id': '7', 'text': 'Controversial, reactionary, NSFW, and satirical or similar content may be removed if not obviously Content Warned where appropriate.'}, {'id': '9', 'text': 'No promotion of gambling, Crypto, NFTs, anti-vaccination, self-harm, terrorism, illegal activities, Abuse/exploitation, or Violence.'}, {'id': '10', 'text': 'The sites staff team will ultimately have the final say on any and all moderation actions.'}]",
         "80374"
        ],
        [
         "14",
         "universeodon.com",
         "Universeodon Social Media",
         "Be one with the #fediverse. Join millions of humans building, creating, and collaborating on Mastodon Social Network. Supports 1000 character posts.",
         "3157",
         "['en']",
         "[{'id': '16', 'text': 'Sexually explicit or violent media must be marked as sensitive & content warned when posting'}, {'id': '17', 'text': 'Be respectful. Racism, sexism, homophobia, transphobia (including targeted misgendering, deadnaming, or promotion of so-called \"conversion therapy\"), xenophobia, and other forms of hate and discrimination are not welcome. Your behaviour elsewhere may also be considered if brought to our attention. '}, {'id': '18', 'text': 'No incitement of violence or promotion of discriminatory or violent ideologies'}, {'id': '19', 'text': 'No spam, harrassment, dogpiling or doxxing of other users, this includes mass and spam reporting'}, {'id': '20', 'text': 'No content illegal in The United Kingdom'}, {'id': '21', 'text': 'No intentionally false or misleading information. By extension, do not pose as persons of interest. '}, {'id': '22', 'text': 'Controversial, reactionary, NSFW, and satirical or similar content may be removed if not obviously Content Warned where appropriate.'}, {'id': '23', 'text': 'No promotion of gambling, Crypto, NFTs, anti-vaccination, self-harm, terrorism, illegal activities, Abuse/exploitation, or Violence.'}, {'id': '24', 'text': 'The sites staff team will ultimately have the final say on any and all moderation actions.'}]",
         "81677"
        ],
        [
         "15",
         "mamot.fr",
         "Mamot - Le Mastodon de La Quadrature du Net ",
         "Mamot.fr est un serveur Mastodon francophone, géré par La Quadrature du Net.",
         "3122",
         "['en']",
         "[{'id': '1', 'text': 'Interdiction de la pédopornographique', 'hint': 'Conformément aux lois françaises et à la jurisprudence, les contenus pédopornographiques, y compris sous forme dessinée, sont illégaux et seront supprimés, et les comptes concernés bloqués (si distants) ou supprimés (si local).'}, {'id': '2', 'text': 'Discrétion des médias pornographique violent', 'hint': 'Les contenus pornographiques ou visiblement violents doivent être marqués avec le drapeau \"sensible / sensitive\". Les comptes ne respectant pas cette règle seront rendus invisibles aux flux locaux et fédérés. '}, {'id': '3', 'text': 'Interdiction de la Publicité', 'hint': \"La publicité, sous forme répétée et/ou intrusive (faisant mention d'autres utilisateur·ices), n'est pas acceptée. Les comptes concernés seront rendus invisibles aux flux locaux et fédérés, ou supprimés, selon la gravité de la situation. \"}, {'id': '4', 'text': 'Politesse des discussions', 'hint': \"Approchez les personnes avec précaution et politesse. Si une personne vous demande d'arrêter de la mentionner ou qu'elle exprime ne plus vouloir participer à une discussion, arrêtez immédiatement. \"}, {'id': '5', 'text': 'Interdiction des propos haineux', 'hint': 'Sont interdits les propos, images ou vidéos racistes, sexistes, homophobes ou transphobes.'}, {'id': '7', 'text': 'Interdiction du harcèlement', 'hint': \"Sont interdit toute conduite, en public ou en privé, ayant pour but de traquer, harceler ou intimider d'autres personnes, sexuellement ou non.\"}, {'id': '8', 'text': 'Interdiction de la révélations confidentielles', 'hint': \"Il est interdit de rassembler, publier, disséminer les informations personnelles d'une autre personne sans son autorisation explicite.\"}, {'id': '9', 'text': 'Interdiction de forcer une conversation', 'hint': 'Il est interdit de poursuivre une conversation ou inciter une personne à poursuivre une interaction avec une personne ayant réclamé la cessation de ladite interaction peut être considéré comme du harcèlement, indépendamment de la confidentialité employée.'}, {'id': '10', 'text': \"Interdiction de retournement d'une oppression systémique\", 'hint': 'Est interdit toute tentative de retournement d’une oppression systémique. Par exemple : « racisme anti-blanc », « sexisme anti-homme », « hétérophobie », « cisphobie ».'}, {'id': '11', 'text': 'Interdiction de la diffamation & calomnie', 'hint': 'Il est interdit publier ou diffuser intentionnellement des propos diffamatoires, calomnieux. Cela concerne aussi toute désinformation avec intention de tromper (le gorafi ou the onion sont donc autorisés).'}, {'id': '12', 'text': \"Interdiction du partage d'informations à véracité douteuse avec intention de nuire\", 'hint': \"Il est interdit de partager des informations à véracité douteuse avec intention de nuire. Veilliez à sourcer et à vérifier les informations que vous postez, notamment si elles peuvent nuire à la santé, l'intégrité ou à la sécurité des personnes. Une exigence particulière est apportée aux informations liées à la santé ou l'éducation. \"}, {'id': '13', 'text': 'Attribution : Il est encouragé d’attribuer l’auteur·ce ayant crée le média ou contenu que vous postez', 'hint': 'Cette mesure est surtout destinée à pouvoir généré un avertissement, sans actions, pour prévenir la génération de contenu par IA qui puisse spammer le serveur et le fédiverse.'}, {'id': '14', 'text': 'Création humaine : Il est découragé d’utiliser des outils de génération procédurale ( IA ), et si c’est le cas, ça doit être mentionné', 'hint': 'Cette mesure est surtout destinée à pouvoir généré un avertissement, sans actions, pour prévenir la génération de contenu par IA qui puisse spammer le serveur et le fédiverse.'}, {'id': '15', 'text': 'Interdiction des arnaques. Il est interdit de faire la promotion d’arnaques du type cryptomonnaie, prêts, ventes illégales, soins médicaux, mais sans y être limité.', 'hint': '\\r\\n\\r\\n    Cette mesure permet de supprimer les comptes qui font la promo de scams, de soins douteux, et de manière générale qui sont dans la prédation économique.\\r\\n'}]",
         "39731"
        ],
        [
         "17",
         "c.im",
         "C.IM",
         "C.IM is a general, mainly English-speaking Mastodon instance.",
         "2688",
         "['en']",
         "[{'id': '11', 'text': 'Respect the laws of the Netherlands and the Isle of Man, including those related to hate speech and defamation.', 'hint': ''}, {'id': '12', 'text': 'Threatening, abusive, intolerant or illegal behavior may lead to moderation and/or further measures. We have a zero tolerance approach to racism, sexism, homophobia and transphobia. Moderation decisions are final. ', 'hint': ''}, {'id': '13', 'text': 'The Content Warning flag should be used for NSFW content, and NSFW media should be marked as sensitive.', 'hint': ''}, {'id': '14', 'text': 'Account registrations are monitored and accounts considered spam (including commercial advertising, political campaigning/propaganda, duplicate accounts or impersonating legal entities) will be moderated or removed.', 'hint': ''}, {'id': '15', 'text': 'Do not harass or bully other users.', 'hint': ''}, {'id': '16', 'text': 'Do not share illegal or copyrighted content.', 'hint': ''}, {'id': '17', 'text': 'Do not spam or engage in any form of malicious activity.', 'hint': ''}, {'id': '18', 'text': 'Keep discussions civil and respectful, and refrain from using derogatory language or engaging in personal attacks.', 'hint': ''}, {'id': '19', 'text': 'Do not reveal personal information about other people without their consent.', 'hint': ''}, {'id': '20', 'text': 'Use appropriate tags and content warnings when posting potentially sensitive or triggering content.', 'hint': ''}, {'id': '21', 'text': 'If you see a violation of these rules, report it to the moderation team.', 'hint': ''}, {'id': '22', 'text': 'To use our service, you are at least 18 years old.', 'hint': ''}]",
         "67782"
        ],
        [
         "18",
         "mstdn.ca",
         "Mastodon Canada",
         "A community for Canadians, First Nations, Metis, and Inuit Peoples of the great white north.",
         "2670",
         "['en']",
         "[{'id': '1', 'text': 'No toxic and hateful speech.', 'hint': ''}, {'id': '3', 'text': 'No incitement of violence and no promotion of misleading or violent ideologies.', 'hint': ''}, {'id': '4', 'text': 'No harassment, dogpiling, or unwanted advances.', 'hint': ''}, {'id': '5', 'text': 'No doxxing of other users.', 'hint': ''}, {'id': '6', 'text': \"No content illegal in Canada or copyrighted content that you don't own rights to.\", 'hint': ''}, {'id': '7', 'text': 'Sexually explicit or violent media must be marked appropriately.', 'hint': ''}, {'id': '8', 'text': 'No spamming.\\r\\nExcessive posting, boosting, advertising or mass-marketing posts will be actioned accordingly and based on intent.', 'hint': ''}, {'id': '9', 'text': 'Be yourself.\\r\\nAccounts intended to impersonate or parody are not permitted, and those found to be directly misrepresenting themselves as another person or entity will be actioned accordingly.', 'hint': ''}, {'id': '10', 'text': 'Agree to the Terms of Service and Code of Conduct.', 'hint': ''}]",
         "35494"
        ],
        [
         "19",
         "sfba.social",
         "SFBA.social",
         "A Mastodon instance for the San Francisco Bay Area. Come on in and join us!",
         "2269",
         "['en']",
         "[{'id': '28', 'text': 'Do not use slurs or racist, sexist, homophobic, transphobic, ableist or otherwise discriminatory or hateful jokes or language; or promote white supremacy, anti-Semitism, transphobia, casteist, or other hateful ideologies.', 'hint': ''}, {'id': '29', 'text': 'Do not post content that is illegal in the USA or California.', 'hint': 'This includes unlicensed media. We will remove copyrighted content in response to a valid DMCA notice per our policy.'}, {'id': '30', 'text': 'Do not harass anyone, participate in group harassment of anyone, or otherwise engage in name calling or personal attacks.', 'hint': ''}, {'id': '31', 'text': 'Do not post or threaten to post other people’s personally identifying information (“doxxing”).', 'hint': ''}, {'id': '32', 'text': 'Do not tone police.', 'hint': ''}, {'id': '33', 'text': 'Do not “shitpost” hateful content', 'hint': 'While humorous posts are allowed, even encouraged, “shitposting” is not an exception to rules 1 or 3. There are no ironic slurs.'}, {'id': '34', 'text': 'Do not sell or promote cryptocurrencies or NFTs.', 'hint': ''}, {'id': '62', 'text': 'Do not litigate moderation decisions on the timeline. ', 'hint': 'You can direct message @moderators with concerns.'}, {'id': '63', 'text': 'Mark content that contains nudity, gore, violence, etc. as sensitive and clearly label it with a content warning and/or hashtag.', 'hint': ''}, {'id': '64', 'text': 'Do not post spam.', 'hint': 'There is additional information about what SFBA.social considers spam on the information hub: https://hub.sfba.social/2024/07/05/sfba-social-spam-policy/'}, {'id': '65', 'text': 'Organizations must be based in the SF Bay Area.', 'hint': 'See our Corporate and Organization policy for more details.\\r\\nhttps://hub.sfba.social/governance/corporate-and-organization-accounts-on-sfba-sites/'}]",
         "39192"
        ],
        [
         "22",
         "mastodon.scot",
         "mastodon.scot",
         "A server intended for (but not limited to) users in Scotland or who identify as Scottish.",
         "2178",
         "['en']",
         "[{'id': '10', 'text': \"No discrimination, including (but not limited to) racism, sexism, homophobia or transphobia (including targeted misgendering, deadnaming, or promotion of so-called 'conversion therapy').\", 'hint': ''}, {'id': '11', 'text': 'No explicit (NSFW) content without content warnings and/or sensitive media markers. Explicit content must not be used in user avatars or header images.', 'hint': ''}, {'id': '18', 'text': 'No harassment of other users on this or other servers.', 'hint': ''}, {'id': '19', 'text': 'No content illegal in the following countries: United Kingdom, Germany', 'hint': ''}, {'id': '20', 'text': 'No incitement of violence or promotion of violent ideologies.', 'hint': ''}, {'id': '21', 'text': 'No disinformation regarding public health issues or political/military campaigns.', 'hint': ''}, {'id': '22', 'text': 'No spam. This includes commercial advertising, promotion of services, and SEO.', 'hint': ''}, {'id': '23', 'text': 'No impersonation of other individuals, public figures or organisations, unless clearly marked as a parody.', 'hint': ''}, {'id': '24', 'text': 'All automated (bot) accounts must enable the bot flag in their account preferences, respect #nobot markers, and post as unlisted unless making less than one post per hour.', 'hint': ''}]",
         "29106"
        ],
        [
         "24",
         "ohai.social",
         "ohai.social",
         "A cozy, fast and secure Mastodon server where everyone is welcome. Run by the folks at ohai.is.",
         "1751",
         "['en']",
         "[{'id': '1', 'text': 'We do not tolerate discriminatory behavior and content promoting or advocating the oppression of members of marginalized groups.', 'hint': ''}, {'id': '8', 'text': 'We do not tolerate threatening behavior, stalking, doxxing, or harassment (including brigading, dogpiling, or any other form of contact with a user who has stated that they do not wish to be contacted).', 'hint': ''}, {'id': '11', 'text': 'We do not tolerate violent nationalist propaganda, Nazi symbolism or promoting the ideology of National Socialism.', 'hint': ''}, {'id': '12', 'text': 'We do not tolerate conspiracy narratives or other reactionary myths supporting or leading to the above-mentioned (and/or similar) behavior.', 'hint': ''}, {'id': '15', 'text': 'All explicit (NSFW) content must be marked as sensitive and have a content warning. Explicit content must not be used in user avatars or header images.', 'hint': ''}, {'id': '16', 'text': 'Content that is illegal in Germany will be deleted and may lead to immediate account suspension.', 'hint': ''}]",
         "40004"
        ],
        [
         "25",
         "mastodon.ie",
         "mastodon.ie",
         "Irish Mastodon - run from Ireland, we welcome all who respect the community rules and members.",
         "1742",
         "['en']",
         "[{'id': '1', 'text': \"Don't Be A Ballox\", 'hint': ''}, {'id': '2', 'text': 'No bigotry, racism, xenophobia, sexism, homophobia, transphobia, anti-Traveller speech or any hate speech.', 'hint': ''}, {'id': '5', 'text': ' No unsolicited DMs ', 'hint': ''}, {'id': '8', 'text': 'We have Threads blocked, just so you know', 'hint': ''}, {'id': '9', 'text': 'We operate on a \"3 strikes and you\\'re out\" basis.', 'hint': ''}]",
         "21213"
        ],
        [
         "26",
         "defcon.social",
         "DEF CON Social",
         "DEFCON.social = The intersection of technology and society, a community for artists, hackers, policy, academics, researchers, infosec, activists & cyberpunks",
         "1730",
         "['en']",
         "[{'id': '21', 'text': 'No toxic behavior', 'hint': 'No racism, sexism, homophobia, transphobia, ableism, xenophobia, casetism, supremacy, and edgelord behavior such as trolling, dogpiling, sealioning, harassment, doxxing, incitement to violence. Do not make users feel uncomfortable, unwelcome, or afraid'}, {'id': '25', 'text': \"Don't break laws here\", 'hint': \"Don't ask others to break laws here, or admit to breaking laws\"}, {'id': '26', 'text': 'Pornography, Nudity, Gore, illegal content, spam & commercial advertising are forbidden', 'hint': 'Promoting your own projects in moderation is OK'}, {'id': '28', 'text': 'No impersonation or undeclared automated accounts', 'hint': 'Don\\'t claim to be Taylor Swift when you aren\\'t. Mark your account as type \"Bot\" if you are automatically posting'}, {'id': '30', 'text': 'You must be at least 13 years old', 'hint': 'We want to comply with regulations such as the US Child Online Protection Act (COPA), the California Consumer Privacy Act (CCPA), and the UK Age-Appropriate Design Code (AADC)'}]",
         "15536"
        ],
        [
         "29",
         "social.linux.pizza",
         "Linux.Pizza",
         "A instance dedicated - but not limited - to people with an interest in the GNU+Linux ecosystem and/or general tech. Sysadmins to enthusiasts, creators to movielovers - Welcome!\n\n",
         "1252",
         "['en']",
         "[{'id': '1', 'text': 'Dont post NSFW without CW', 'hint': ''}, {'id': '2', 'text': 'Dont post ads without permission\\r\\n', 'hint': ''}, {'id': '3', 'text': 'Dont promote violence, racism and/or discrimination towards other people of other ethnical backgrounds or sexual orientation (hate speech)', 'hint': ''}, {'id': '4', 'text': 'We dont want crypto-ads here aswell.', 'hint': ''}, {'id': '5', 'text': 'Dont be rude, keep conversations civil and kind.', 'hint': ''}, {'id': '6', 'text': 'All public posts from this instance are indexed by tootfinder.ch.', 'hint': ''}, {'id': '7', 'text': 'Do not flood the timeline with posts. If you still want to do that - please set the posts as \"unlisted\".', 'hint': ''}, {'id': '8', 'text': 'No vatniks', 'hint': ''}]",
         "11992"
        ],
        [
         "31",
         "social.cologne",
         "Mastodon",
         "social.cologne is eine Mastodon Instanz für jede:n Kölner:in und alle, die sich mit Köln verbunden fühlen. Betrieben von https://cgnfs.de.",
         "1201",
         "['en']",
         "[{'id': '12', 'text': 'Treat others with respect', 'hint': 'Avoid any form of insult, bullying, or discrimination, including but not limited to racist, sexist, homophobic, transphobic, anti-Semitic, and misogynistic statements or actions against others.'}, {'id': '13', 'text': 'Use appropriate tone', 'hint': 'Use a respectful and friendly tone, even if you disagree with someone.'}, {'id': '14', 'text': 'Respect privacy', 'hint': 'Do not share personal information without explicit permission and respect the privacy rights of others.'}, {'id': '15', 'text': 'Comply with applicable law', 'hint': 'Do not publish any illegal content.'}, {'id': '16', 'text': 'Avoid misinformation', 'hint': 'Do not share false or misleading information.'}, {'id': '17', 'text': 'No spam posts', 'hint': 'Refrain from publishing unwanted advertising or similar content that does not fit the community.'}, {'id': '19', 'text': 'Mark sensitive content (CW)', 'hint': 'Please mark any content that may contain common triggers, is sexually explicit or violent as sensitive (CW) to ensure the safety of other members. Note: Accounts that exclusively post such content may be limited or banned.'}, {'id': '20', 'text': 'You must be older than 16 years', 'hint': 'According to European law, you must be at least 16 years old to use this instance.'}]",
         "12065"
        ],
        [
         "32",
         "flipboard.social",
         "Flipboard",
         "Welcome to Flipboard on Mastodon. A place for our community of curators and enthusiasts to inform and inspire each other.  \nIf you'd like to join please request an invitation via the sign-up page. ",
         "1192",
         "['en']",
         "[{'id': '6', 'text': 'This instance is part of Flipboard and adheres to the same Community Guidelines. You can read them here https://about.flipboard.com/community-guidelines/', 'hint': ''}, {'id': '7', 'text': 'Keep this instance safe, respectful, and fun by not violating the rules.', 'hint': ''}, {'id': '8', 'text': 'Consider how your post might impact others - if it might be received as offensive, painful, or otherwise unwanted, please use a content warning (CW.)', 'hint': ''}, {'id': '34', 'text': 'Misgendering, deadnaming, or promotion of so-called \"conversion therapy\" is prohibited.', 'hint': ''}]",
         "7482"
        ],
        [
         "33",
         "livellosegreto.it",
         "Livello Segreto",
         "Livello Segreto è il social etico che ha rispetto di te e del tuo tempo.",
         "1149",
         "['en']",
         "[{'id': '2', 'text': 'No al sessismo', 'hint': ''}, {'id': '3', 'text': 'No al machismo', 'hint': ''}, {'id': '4', 'text': 'No al bullismo', 'hint': ''}, {'id': '5', 'text': \"No alla queerfobia, all'omofobia, alla bifobia, alla lesbofobia, alla transfobia, alla afobia\", 'hint': ''}, {'id': '6', 'text': \"No all'abilismo\", 'hint': ''}, {'id': '7', 'text': 'No al razzismo', 'hint': ''}, {'id': '9', 'text': 'No ai bot*', 'hint': '* in generale è una regola da tenere presente, ma se il bot ha utilità per la community scrivici che si sistema tutto'}, {'id': '10', 'text': 'Usare i CW per: NSFW, SPOILER, GUERRA, POLITICA', 'hint': ''}, {'id': '11', 'text': 'Evitare bestemmie e turpiloquio eccessivo/gratuito', 'hint': ''}, {'id': '12', 'text': 'No pornografia', 'hint': ''}, {'id': '15', 'text': 'Istanza antifascista', 'hint': ''}, {'id': '16', 'text': 'No alla pubblicità e/o agli annunci commerciali (consentiti i progetti personali/indipendenti)', 'hint': ''}, {'id': '17', 'text': 'No al proselitismo religioso', 'hint': ''}]",
         "7673"
        ],
        [
         "34",
         "mastodon.green",
         "Mastodon.green",
         "Plant trees while you use Mastodon. A server originally for people in the EU, but now open for anyone in the world",
         "1141",
         "['en']",
         "[{'id': '395', 'text': 'Try 30-days for free, only 1,50 € (+VAT) per month after. No algorithms or ads to waste your time. We use 20 % of membership fees to plant trees. Change your plan or cancel at any time', 'hint': ''}, {'id': '397', 'text': 'Please abide by the community standards', 'hint': ''}, {'id': '398', 'text': 'You can use any official EU language, Icelandic and Norwegian on this server', 'hint': ''}, {'id': '399', 'text': 'No sexually explicit images or video', 'hint': ''}, {'id': '400', 'text': 'No racism, sexism, homophobia, transphobia, xenophobia, or casteism', 'hint': ''}, {'id': '401', 'text': 'No incitement of violence or promotion of violent ideologies', 'hint': ''}, {'id': '402', 'text': 'No harassment, dogpiling or doxxing of other users', 'hint': ''}, {'id': '404', 'text': 'No false or misleading information', 'hint': ''}]",
         "12004"
        ],
        [
         "36",
         "indieweb.social",
         " Indieweb.Social ",
         "INDIEWEB.SOCIAL is an instance focused on the evolution of #Openweb, #Indieweb, #Fediverse, #Mastodon, #Humanetech and #Calm technologies. ",
         "1123",
         "['en']",
         "[{'id': '1', 'text': 'No spam or excessive self-promoting in posts.', 'hint': ''}, {'id': '2', 'text': 'No bots that are not labeled as such in their profile.', 'hint': ''}, {'id': '3', 'text': 'Keep conversations civil and respectful even in disagreement.', 'hint': ''}, {'id': '4', 'text': 'No racism, sexism, homophobia, transphobia, xenophobia, anti-Semitism, or casteism (including targeted misgendering, deadnaming, or promotion of so-called \"conversion therapy\").', 'hint': ''}, {'id': '5', 'text': 'No sexually explicit or violent posts or media allowed', 'hint': ''}, {'id': '6', 'text': 'No incitement of violence or promotion of violent ideologies', 'hint': ''}, {'id': '7', 'text': 'No illegal content.', 'hint': ''}]",
         "11825"
        ],
        [
         "37",
         "nerdculture.de",
         "NerdCulture",
         "Be excellent to each other, live humanism, no nazis, no hate speech. Not only for nerds, but the domain is somewhat cool. ;)\nNo bots in general. Languages: DE, EN, FR, NL, ES, IT",
         "1109",
         "['en']",
         "[{'id': '1', 'text': 'Be friendly and polite to each other', 'hint': ''}, {'id': '2', 'text': 'No hate speech, no discrimination of others, regardless of their age, gender, nationality or whatever', 'hint': ''}, {'id': '3', 'text': 'No spamming of any kind.', 'hint': ''}, {'id': '4', 'text': \"Don't annoy others and don't get easily annoyed by others.\", 'hint': ''}, {'id': '5', 'text': 'No advertisements of commercial products.', 'hint': ''}, {'id': '6', 'text': 'No distribution of copyrighted material.', 'hint': ''}, {'id': '7', 'text': \"Do not upload material for which you don't have the rights\", 'hint': ''}, {'id': '8', 'text': 'No automated posts by bots, except when you have permission to do so by the server admins', 'hint': ''}, {'id': '9', 'text': \"Don't abuse this service or server.\", 'hint': ''}, {'id': '10', 'text': 'Treat other how you want to be treated by them - with respect!', 'hint': ''}, {'id': '11', 'text': 'This is a service running on a private server and as a friendly user you are welcome to use this service, but in the end the server admin can cancel user accounts and will do when the user misbehaves. The admin will decide in the end. ', 'hint': ''}, {'id': '12', 'text': \"Valid mail address required! You'll receive reminder mail after 6 months of inactivity to log in again. If you don't react to those mails, your account will be deleted after 7 months of inactivity. \", 'hint': ''}, {'id': '13', 'text': 'Allowed languages are German and English as main languages while as the following languages are tolerated: Dutch, French, Spanish, Italian.', 'hint': ''}, {'id': '14', 'text': 'This service is free of cost for you.\\r\\nHowever offering this service does have cost implications. If you can afford some cents per week it would be great when you could contribute in sharing the server costs. Of course this voluntarily for you. ', 'hint': ''}, {'id': '16', 'text': \"No free-speech extremists, no far-right extremists, no nationalists. This includes people that elect or support such political parties like AfD in Germany, Fratelli d'Italia in Italy or Rassemblement National in France, etc.. If you support these parties, this instance is not for you. \", 'hint': ''}, {'id': '18', 'text': 'Alt Texts for Pictures encouraged. Please conduct descriptive texts for pictures you upload (Alt Texts). This helps visually impaired users and others enormously in their online life. ', 'hint': ''}]",
         "7163"
        ],
        [
         "38",
         "ieji.de",
         "ieji.de",
         "ieji.de is a generalistic mastodon instance, with the goal of being the fastest mastodon instance in Europe and with a focus on user privacy, like being usable via the tor network.",
         "1105",
         "['en']",
         "[{'id': '1', 'text': 'No explicit content allowed', 'hint': ''}, {'id': '2', 'text': 'Erotic content must have content warning', 'hint': ''}, {'id': '3', 'text': 'No harassment allowed', 'hint': ''}, {'id': '4', 'text': 'No backlink accounts allowed', 'hint': ''}, {'id': '5', 'text': 'Unlawful content is forbidden', 'hint': ''}]",
         "15114"
        ],
        [
         "40",
         "metalhead.club",
         "Metalhead.club",
         "Metalhead.club is a Mastodon instance hosted in Germany and powered by 100% green energy.",
         "747",
         "['en']",
         "[{'id': '1', 'text': 'No pornography', 'hint': ''}, {'id': '3', 'text': 'No insulting / hate speech', 'hint': ''}, {'id': '4', 'text': 'No racism', 'hint': ''}, {'id': '5', 'text': 'No extremist political content', 'hint': ''}, {'id': '6', 'text': 'This server is for humans, not for bots! If you intend to bulk-send posts, this instance is not for you. (use botsin.space)', 'hint': ''}, {'id': '7', 'text': 'Upload / distribute only content that you have permission for.', 'hint': ''}, {'id': '8', 'text': 'No ads, except for featuring your own creative Metal music content (music, articles, reviews, ...)', 'hint': ''}, {'id': '10', 'text': 'Misusing unrelated hashtags on posts for better visibility is prohibited ', 'hint': ''}]",
         "5776"
        ],
        [
         "42",
         "masto.nu",
         "masto.nu",
         "General purpose Mastodon server. All languages are welcome but English, Dutch and Spanish are preferred.",
         "725",
         "['en']",
         "[{'id': '7', 'text': 'No harassment, dogpiling or doxxing of other users.', 'hint': ''}, {'id': '8', 'text': 'No impersonation of other people, companies, organizations, brands, etc.', 'hint': ''}, {'id': '9', 'text': 'No racism, sexism, homophobia, transphobia, xenophobia, or casteism.', 'hint': ''}, {'id': '10', 'text': 'No incitement of violence or advocacy of violent acts/ideologies.', 'hint': ''}, {'id': '11', 'text': 'No advertising, spam or excessive promotion.', 'hint': ''}, {'id': '12', 'text': 'No sexually explicit or graphically violent media.', 'hint': ''}, {'id': '13', 'text': 'No intentionally false or misleading information.', 'hint': ''}, {'id': '14', 'text': 'No illegal or unlawful content', 'hint': ''}, {'id': '15', 'text': 'Content created by others must be attributed, and the use of AI must be disclosed. Profiles that only post AI-generated content will not be tolerated.', 'hint': ''}]",
         "24284"
        ],
        [
         "44",
         "mstdn.business",
         "Mastodon For Business",
         "Business-friendly Mastodon server,open for everyone interested to contribute with their real name, business, brand, or startup to build a professional community. Hosted on Hetzner Cloud in Helsinki.",
         "699",
         "['en']",
         "[{'id': '2', 'text': 'No NSFW or illegal content.'}, {'id': '3', 'text': 'No racism, sexism, homophobia, transphobia, or xenophobia.'}, {'id': '4', 'text': 'Do not share intentionally false or misleading information.'}, {'id': '5', 'text': 'No spam or excessive promotion.'}, {'id': '6', 'text': 'Brands are welcome. For personal accounts use your real name.'}]",
         "27114"
        ],
        [
         "45",
         "ravenation.club",
         "Mastodon",
         "ravenation.club is an instance for all the ravers in the universe. Anyone who listens to electronic music (or not) is welcome. Operated by https://cgnfs.de",
         "665",
         "['en']",
         "[{'id': '11', 'text': 'Treat others respectfully', 'hint': 'Refrain from any form of insult, bullying or discrimination, including but not limited to racist, sexist, homophobic, transphobic, anti-Semitic and misogynistic remarks or actions toward others.'}, {'id': '12', 'text': 'Use an appropriate tone', 'hint': 'Use a respectful and friendly tone, even if you disagree with someone.'}, {'id': '13', 'text': 'Respect the privacy of others', 'hint': 'Do not share personal information without explicit permission and respect the privacy rights of others.'}, {'id': '14', 'text': 'Compliance with applicable law', 'hint': 'Do not post illegal content.'}, {'id': '15', 'text': 'Avoid misinformation', 'hint': 'Do not share false or misleading information.'}, {'id': '16', 'text': 'No spam posts', 'hint': 'Refrain from posting unsolicited advertisements or similar content that does not fit the community.'}, {'id': '17', 'text': 'Mark sensitive content (CW)', 'hint': 'Please mark any content that may contain common triggers, is sexually explicit or violent as sensitive (CW) to ensure the safety of other members. Note: Accounts that exclusively post such content may be limited or banned.'}, {'id': '18', 'text': 'You must be older than 16 years', 'hint': 'According to European law, you must be at least 16 years old to use this instance.'}]",
         "27827"
        ],
        [
         "47",
         "sunny.garden",
         "Sunny Garden",
         "sunny.garden is a community for indie creators who draw, paint, sculpt, write, design, program, play, sing or build, and anyone else who thinks that sounds like a nice place to be.",
         "581",
         "['en']",
         "[{'id': '1', 'text': 'Media containing nudity must be marked with a content warning.', 'hint': 'Profile image, header, and content must be appropriate for all audiences.'}, {'id': '2', 'text': 'No hate speech, derogatory language, or the use of slurs directed at marginalized groups or people. ', 'hint': 'No racism, sexism, homophobia, transphobia, ableism, xenophobia. No fascist, neo-nazi or alt-right content.'}, {'id': '3', 'text': 'No incitement or promotion of violence including self-harm and suicide.', 'hint': ''}, {'id': '4', 'text': 'No harassment, dogpiling, or doxxing.', 'hint': 'Ad hominem, personal attacks or mudslinging will be considered harassment.  You are free to criticize nations, corporations, billionaires, or high profile political figures; though other rules (eg. no racism, hate-speech, ableism) still apply.'}, {'id': '5', 'text': 'No content illegal in Canada.', 'hint': ''}, {'id': '6', 'text': 'Do not share intentionally false or misleading information.', 'hint': ''}, {'id': '7', 'text': 'No \"AI\" Art, no NFTs, no crypto, no blockchain.', 'hint': 'See About page for further details on \"AI\" Art policy.'}, {'id': '8', 'text': 'Respect personal boundaries.', 'hint': 'Don\\'t pry into people\\'s personal lives. Do not be \"a creep\".'}, {'id': '9', 'text': 'No explicit sexual, violent or gory content.', 'hint': ''}, {'id': '10', 'text': 'No sexual depictions of minors.', 'hint': ''}, {'id': '11', 'text': 'No proselytizing.', 'hint': ''}]",
         "2728"
        ],
        [
         "48",
         "bark.lgbt",
         "Bark!",
         "Furry focused instance for critters that like to bark!\nLGBTQ+ run and friendly, active moderation",
         "546",
         "['en']",
         "[{'id': '1', 'text': 'No discrimination, bigotry, transphobia, homophobia, etc of any kind is accepted', 'hint': ''}, {'id': '2', 'text': 'No discussion of illegal topics or sharing of pirated data.', 'hint': ''}, {'id': '5', 'text': 'Any content that would be considered Illegal in the European economic area is strictly banned', 'hint': ''}, {'id': '6', 'text': 'No uncensored NSFW content. Use a CW', 'hint': ''}, {'id': '7', 'text': 'You are at least 18 years of age during sign-up', 'hint': ''}, {'id': '8', 'text': 'No zoophillia / Loli', 'hint': ''}, {'id': '11', 'text': 'No NSFW profile pictures, headers and usernames', 'hint': ''}, {'id': '46', 'text': 'No posting of AI art', 'hint': ''}]",
         "6377"
        ],
        [
         "49",
         "urbanists.social",
         "Urbanists.Social",
         "We're a server for people who like bikes, transit, and walkable cities. Let's get to know each other!",
         "540",
         "['en']",
         "[{'id': '1', 'text': \"Please don't post anything that's illegal in the US or EU.\", 'hint': ''}, {'id': '3', 'text': 'No racism, sexism, homophobia, transphobia, xenophobia, or any other form of discrimination.', 'hint': ''}, {'id': '8', 'text': 'Punch Nazis, trebuchet TERFs. Any posts or usage containing nazi symbolism or ideology, or which contains \"gender critical\" / \"just asking questions\" shit will get you banned immediately and without recourse.', 'hint': ''}, {'id': '9', 'text': 'No promotion of crypto or NFTs. ', 'hint': ''}, {'id': '10', 'text': 'NSFW content must be behind a content warning / marked as sensitive. Your profile (avatar, header, display name, etc.) must be SFW.', 'hint': ''}, {'id': '11', 'text': \"Don't abuse the instance or use it to abuse other federated instances. Don't try to break things.\", 'hint': ''}, {'id': '12', 'text': \"Be considerate. Keep in mind that any public post you make will appear in our public timeline and the public timelines of other instances federated with Urbanists.Social. Use content warnings where appropriate. Use NSWF tags where appropriate. Don't be a jerk about it.\", 'hint': ''}, {'id': '13', 'text': \"Bots are allowed, but don't make them annoying. Admins will ask you to move your bot to another instance if it becomes a problem.\", 'hint': ''}, {'id': '14', 'text': 'Do not harass other users.', 'hint': ''}]",
         "6398"
        ],
        [
         "50",
         "hostux.social",
         "Mastodon Hostux",
         "European mastodon instance hosted in TH2LF (FR). Also beer, privacy and free software lovers. Join us!\nThis service is managed by alarig and valere.\nPhoto from https://www.flickr.com/photos/cogdog/",
         "526",
         "['en']",
         "[]",
         "8518"
        ],
        [
         "52",
         "mastodon.me.uk",
         "mastodon.me.uk",
         "Open, user-supported, corporation-free social media for the UK.",
         "517",
         "['en']",
         "[{'id': '2', 'text': 'Commercial use (company accounts, advertising etc) is not permitted on this server.', 'hint': \"It's OK to register an account for a non-profit or public sector organisation, and we reserve the right to make exceptions for some companies that act in good faith.\"}, {'id': '3', 'text': 'You must comply with the Code of Conduct (see below).', 'hint': \"In general, be respectful of each other and we'll all get on just fine.\"}, {'id': '5', 'text': 'Automated (bot) accounts are allowed if run by someone with a personal account here. ', 'hint': 'Bot accounts must enable the bot flag in their account preferences, respect #nobot markers, and post as unlisted if making more than one post every six hours (on average). The mods may remove bot accounts that become disruptive.'}]",
         "2698"
        ],
        [
         "54",
         "freiburg.social",
         "freiburg.social",
         "Ein Mastodon-Server für Freiburg und Umland betrieben durch den Verein freiburg.social e.V.: https://wir.freiburg.social",
         "504",
         "['en']",
         "[{'id': '1', 'text': 'Keine rassistische, sexistische, homophobe, transphobe, beeinträchtigtenfeindliche und anderweitig diskriminierende oder hasserfüllte Sprache.', 'hint': ''}, {'id': '2', 'text': 'Kein Belästigung einzelner Personen durch ungewünschte Kontaktaufnahme, Stalking oder Doxing.', 'hint': ''}, {'id': '3', 'text': 'Keine Verbreitung von Inhalten die in der Bundesrepublik Deutschland gegen geltendes Recht verstoßen.', 'hint': ''}, {'id': '4', 'text': 'Kein Verbreiten von Verschwörungserzählungen.', 'hint': ''}, {'id': '5', 'text': 'Nicht jugendfreie Beiträge müssen als solche gekennzeichnet werden.', 'hint': ''}, {'id': '7', 'text': 'Profilbilder und Banner, die nicht jugendfrei sind, werden nicht toleriert.', 'hint': ''}, {'id': '8', 'text': 'Werbung muss als solche gekennzeichnet sein. Übermäßige oder automatisierte Werbung wird nicht toleriert.', 'hint': ''}, {'id': '9', 'text': 'Die lokale Timeline soll den manuellen Posts der Mitglieder:innen von freiburg.social vorbehalten bleiben. Automatisierte Posts, wie zum Beispiel Re-tweets von Twitter, müssen auf \"ungelistet\" gesetzt werden. ', 'hint': ''}, {'id': '10', 'text': 'Bot-Accounts, also Nutzerkonten, die größtenteils automatisierte Inhalte erstellen, müssen als solche gekennzeichnet sein, dürfen nicht auf der lokalen Timeline posten und dürfen nur mit Nutzer:innen interagieren, wenn sie dazu eingeladen worden sind.', 'hint': ''}, {'id': '11', 'text': 'Nicht als jemand anderes ausgeben (Verwechslungsgefahr)', 'hint': ''}]",
         "2674"
        ],
        [
         "57",
         "rheinneckar.social",
         "rheinneckar.social",
         "Das soziale Netzwerk für die Rhein-Neckar-Region im Fediverse. Mannheim, Heidelberg, Ludwigshafen und alles drumherum.",
         "418",
         "['en']",
         "[{'id': '1', 'text': 'Sexuell freizügige oder gewalttätige Medien müssen mit einer Inhaltswarnung versehen werden. Sexually explicit or violent media must be marked as sensitive when posting.', 'hint': ''}, {'id': '2', 'text': 'Kein Rassismus, Sexismus, Homophobie, Transfeindlichkeit, Fremdenfeindlichkeit oder Diskriminierung aufgrund der sozialen Herkunft. No racism, sexism, homophobia, transphobia, xenophobia, or casteism.', 'hint': ''}, {'id': '3', 'text': 'Keine Aufrufe zur Gewalt oder Verbreitung gewalttätiger Ideen. No incitement of violence or promotion of violent ideologies.', 'hint': ''}, {'id': '4', 'text': 'Keine Belästigung, Mobbing oder Bloßstellung anderer Nutzer. No harassment, dogpiling or doxxing of other users.', 'hint': ''}, {'id': '5', 'text': 'Keine in Deutschland rechtswidrigen Inhalte. No content illegal in Germany.', 'hint': ''}, {'id': '6', 'text': 'Keine Verbreitung von absichtlich falschen oder irreführenden Informationen. Do not share intentionally false or misleading information.', 'hint': ''}]",
         "3528"
        ],
        [
         "58",
         "mastoot.fr",
         "Mastodon — Mastoot.fr",
         "Serveur généraliste où la bienveillance, le respect, la fraternité et la sororité sont de mise. Tendance à Gauche.",
         "407",
         "['en']",
         "[{'id': '1', 'text': 'Principalement francophone', 'hint': ''}, {'id': '2', 'text': \"Pas de spam ni de Bot cross-post (cas particulier, contactez l'admin avant)\", 'hint': ''}, {'id': '3', 'text': \"Pas de racisme, de xénophobie, de transphobie, d'homophobie, de grossophobie etc.\", 'hint': ''}, {'id': '4', 'text': 'Pas de diffusion des idées/propagande d’extrême droite, des droites et LReM', 'hint': ''}, {'id': '5', 'text': 'Pas de confusionnisme, de complotisme, de platistes, de Fake-News', 'hint': ''}, {'id': '6', 'text': \"Utilisation du CW pour la nudité, ainsi que pour les mentions d'animaux morts, d'acte de torture ou de guerre.\", 'hint': ''}, {'id': '7', 'text': 'Bienveillance et respect de toutes et tous', 'hint': ''}, {'id': '8', 'text': 'Évitez l\\'utilisation du mot \"Pouet\" (qui a une connotation misogyne) : utilisez plutôt \"Toot\" ou \"Publier\"', 'hint': ''}, {'id': '9', 'text': '/!\\\\ Si vous ne recevez pas le mail de confirmation, envoyez-moi un mail à stefofficiel@proton.me il se peut que ça arrive dans vos SPAMS /!\\\\', 'hint': ''}, {'id': '10', 'text': '=> Pas de pornographie autorisé <=', 'hint': ''}]",
         "1880"
        ],
        [
         "61",
         "glasgow.social",
         "Glasgow.social",
         "A place for communities in and around Glasgow, Scotland.",
         "371",
         "['en']",
         "[{'id': '1', 'text': 'No discrimination, including (but not limited to) racism, sexism, homophobia or transphobia.', 'hint': ''}, {'id': '2', 'text': 'No explicit (NSFW) content without content warnings and/or sensitive media markers. Explicit content must not be used in user avatars or header images.', 'hint': ''}, {'id': '3', 'text': 'No harassment of other users on this or other servers.', 'hint': ''}, {'id': '4', 'text': 'No content illegal in the following countries: United Kingdom, Germany', 'hint': ''}, {'id': '5', 'text': 'No incitement of violence or promotion of violent ideologies.', 'hint': ''}, {'id': '6', 'text': 'No disinformation regarding public health issues or political/military campaigns.', 'hint': ''}, {'id': '7', 'text': 'No spam. This includes commercial advertising, promotional campaigns, and SEO.', 'hint': ''}, {'id': '8', 'text': 'English language only.  We cannot moderate all languages.  At this time we are able to moderate English only.  Unsupported language accounts will be suspended.  See https://joinmastodon.org/servers to find a server in your country or language.', 'hint': ''}]",
         "14907"
        ],
        [
         "63",
         "mastoart.social",
         "mastoart.social",
         "mastoart.social is a creative space for you to share your art and be part of a friendly creative community. A Mastodon instance that's hosted in Germany and runs on 100% green energy.",
         "330",
         "['en']",
         "[{'id': '1', 'text': 'Be kind and respectful.', 'hint': 'No personal attacks, harrassment, dogpiling or stalking. Misinformation as well as racist, extremist, ableist, anti-semitic, homophobic, sexist, transphobic or otherwise hateful or discriminatory content are prohibited.'}, {'id': '2', 'text': 'This server is for humans, not for corporations or bots.', 'hint': 'No corporate content marketing or ads. Promotion of your own work, commissions or stores is welcome and encouraged. Bots are only allowed if given explicit written permission by the administration team.'}, {'id': '3', 'text': 'Content must be your own.', 'hint': 'You may only upload content that you have created yourself, or content created by third parties that you have explicit permission to upload.'}, {'id': '4', 'text': 'No AI-generated work.', 'hint': 'You may not upload work generated through, or assisted by, LLMs/AI such as ChatGPT or MidJourney. You are free to upload generative work that does not rely on training from existing work of other people, such as fractals or other types of procedural generation.'}, {'id': '5', 'text': 'No NFTs or cryptocurrencies.', 'hint': ''}, {'id': '6', 'text': 'No erotic or nude photography and no pornography.', 'hint': 'Drawn or painted non-explicit suggestive and mature content depicting consenting adult characters is welcome, but must be marked as sensitive or put under a content warning (CW) and tagged accordingly. Examples include non-sexual, drawn or painted depictions of nude characters, characters in seductive poses or clothing, or characters engaging in intimate behavior such as ‘making out’.'}, {'id': '7', 'text': 'NSFW and potentially triggering content must be put under a content warning.', 'hint': 'NSFW (not-safe-for work) content and content including common phobia or anxiety triggers must be marked as sensitive or put under a content warning (CW) and tagged accordingly for ease of filtering. Examples include spiders, gore, drugs, suicidal ideation or erotic content.'}, {'id': '9', 'text': 'No bulk-uploading or flooding the local timeline.', 'hint': \"This is a microblogging platform, not a gallery site. It runs on voluntary community donations and storage space is not unlimited. Uploading large quantities of images in quick succession floods the local timeline, drowning out other members' works. Please be fair to your fellow creatives.\"}, {'id': '10', 'text': '(Recommended) Add alt text to your images.', 'hint': 'This is not an enforcable rule, but we recommend that you add alt text to your images if you can. It contributes to an inclusive community and increases the chances that your work will be shared by other users. '}]",
         "654"
        ],
        [
         "64",
         "peoplemaking.games",
         "People Making Games",
         "We're a community of folks who celebrate the craft of creating interactive experiences, whether they're working in games or around them! This is a space for games folks and creatives to call home!",
         "326",
         "['en']",
         "[{'id': '5', 'text': 'Be respectful of one another', 'hint': ''}, {'id': '6', 'text': 'No discrimination or harassment, including but not limited to racism, sexism, ableism, homophobia or transphobia.\\r\\n\\r\\nIn regards to PeopleMaking.Games\\' stance on recent \"Mastodon Discourse\": Tone policing marginalized groups is tantamount to harassment. It is not productive or useful.', 'hint': ''}, {'id': '7', 'text': 'No incitement of violence or promotion of violent ideologies. ', 'hint': ''}, {'id': '8', 'text': 'No explicit (NSFW) content without content warnings and/or sensitive media markers. Explicit content must not be used in user avatars or header images.', 'hint': ''}, {'id': '9', 'text': 'Provide appropriate content warnings on potentially sensitive posts. We permit and even encourage topical discussions, but ask that you respect the rights of others to have autonomy over the content they engage with.', 'hint': ''}, {'id': '10', 'text': 'Posts containing art not owned by the poster must be credited, ideally with a link back to the source.', 'hint': ''}, {'id': '11', 'text': 'The actions of individuals you bring to the community reflect back on you. Be responsible with your invites, and avoid posting an invite link in a public place. ', 'hint': ''}, {'id': '12', 'text': 'Mastodon v4 does not currently support badging for given roles. Until there is a UI implementation, using the \"Astro\" logo in your username is restricted to Moderators and Administrators. Thank you!', 'hint': ''}, {'id': '13', 'text': 'No NFTs, Crypto, or Web3 promotion. While these topics can be discussed at a distance, preferably behind CWs, if your primary reason for being here is to monetize via Web3 there are more suitable crypto-related instances available. NFTs may not be used in profile pictures.', 'hint': ''}]",
         "3027"
        ],
        [
         "67",
         "cupoftea.social",
         "CupOfTea.Social",
         "A Small Community Mastodon Server for Casual Chit-Chat. UK Based, A place for good and wholesome content open to everyone. Pets, Photos, Music & Food are popular topics. ",
         "316",
         "['en']",
         "[{'id': '1', 'text': 'Be Respectful, Content that is racist, sexist, hateful, nasty or discriminatory is not welcome.', 'hint': ''}, {'id': '2', 'text': 'No harassment, dogpiling or doxxing of other users', 'hint': ''}, {'id': '3', 'text': 'No incitement of violence or promotion of violent ideologies', 'hint': ''}, {'id': '4', 'text': 'Sexually explicit ,violent  or sensitive media must be marked as such when posting\\r\\n', 'hint': ''}, {'id': '5', 'text': 'No spam , Excessive promotion  , Porn , S**t Posting or Second Life locally on Cupoftea.social', 'hint': ''}, {'id': '6', 'text': 'No accounts setup purely to sell something / Fake Engagement (Such As Investments/NFT/Cryptos/Wealth stuff) There has to be a human element in your posting. ', 'hint': ''}, {'id': '7', 'text': 'No Selling Of Animals ', 'hint': ''}, {'id': '10', 'text': 'Please use the correct posting language setting for your language so others can translate', 'hint': ''}, {'id': '11', 'text': 'No Links to X.com', 'hint': ''}]",
         "5427"
        ],
        [
         "68",
         "vmst.io",
         "vmst·io",
         "Mastodon for respectful technologists, geeks and nerds of every type and stripe.",
         "308",
         "['en']",
         "[{'id': '20', 'text': 'Advertising', 'hint': 'Do not advertise or engage in excessive self-promotion of your brand or business.'}, {'id': '21', 'text': 'CSAM', 'hint': 'Do not post or view child sexual abuse materials (CSAM) including CG-CSAM or lolicon.'}, {'id': '22', 'text': 'Disinformation', 'hint': 'Do not deliberately deceive or mislead others.'}, {'id': '23', 'text': 'Extremism', 'hint': 'Do not incite violence against others or advocate violent ideologies.'}, {'id': '24', 'text': 'Gore', 'hint': 'Do not share media that depicts graphic violence, gore, or death for shock value.'}, {'id': '25', 'text': 'Harassment', 'hint': 'Do not engage in harassment or dogpiling behavior towards others.'}, {'id': '26', 'text': 'Impersonation', 'hint': 'Do not impersonate other people or orginizations.'}, {'id': '27', 'text': 'NSFW', 'hint': 'Do not share sexually explicit content, all other NSFW content must use content warnings.'}]",
         "1230"
        ],
        [
         "69",
         "union.place",
         "The Union Place",
         "The Union Place: a federated server for union members, organizations, friends, and allies. If you support labor and labor rights, you have a place here!",
         "306",
         "['en']",
         "[{'id': '1', 'text': 'No hate.', 'hint': ''}, {'id': '5', 'text': \"Don't be a dick.\", 'hint': ''}, {'id': '6', 'text': 'No harassment.', 'hint': ''}, {'id': '7', 'text': 'No violence.', 'hint': ''}, {'id': '8', 'text': 'No fascism.', 'hint': ''}, {'id': '9', 'text': 'No colonialism.', 'hint': ''}, {'id': '10', 'text': 'No white supremacy.', 'hint': ''}, {'id': '11', 'text': 'No religious extremism.', 'hint': ''}, {'id': '12', 'text': 'No nationalism.', 'hint': ''}, {'id': '13', 'text': 'No racism.', 'hint': ''}, {'id': '14', 'text': 'No homophobia.', 'hint': ''}, {'id': '15', 'text': 'No transphobia.', 'hint': ''}, {'id': '16', 'text': 'No conspiracy theories.', 'hint': ''}, {'id': '17', 'text': 'No police unions.', 'hint': ''}, {'id': '18', 'text': 'Safe Space: LGTBQIA+', 'hint': ''}, {'id': '19', 'text': 'Safe Space: neurodivergent (ADHD, Aspie, Autism, etc)', 'hint': ''}, {'id': '20', 'text': 'No hacking.', 'hint': ''}, {'id': '21', 'text': 'No pornography.', 'hint': ''}, {'id': '54', 'text': 'No impersonation accounts.', 'hint': ''}, {'id': '55', 'text': 'No sexism.', 'hint': ''}, {'id': '56', 'text': 'To join, users should share a reason they want to be a member of a union-oriented space intended for union members, organizations, friends, and allies. If you only say \"leaving Twitter\" we will NOT approve your account.', 'hint': ''}]",
         "5884"
        ],
        [
         "71",
         "gaygeek.social",
         "Gaygeek Social",
         "This server is intended as a safe place for LGBTQIA+ individuals to socialize. You do not have to be LGBTQIA to join, so long as you are an ally. ",
         "267",
         "['en']",
         "[{'id': '1', 'text': \"Don't post anything which would violate the law in either your home jurisdiction, under US law, or Washington State law.\\r\\n\\r\\nAny solicitation of, links to, or media containing child sexual abuse material, real or illustrated, is zero tolerance under these legal jurisdictions and you WILL be reported.\", 'hint': ''}, {'id': '2', 'text': \"Don't be a jerk. Hate speech, discrimination, and harassment of any kind are not tolerated here. \", 'hint': ''}, {'id': '3', 'text': 'If you post adult content, mark it as sensitive so that your followers can choose when to see it. This includes thirst traps even if they do not depict anything explicitly sexual. ', 'hint': ''}, {'id': '4', 'text': 'No spam. This includes using completely unrelated hashtags in your posts. ', 'hint': ''}, {'id': '5', 'text': 'Do not register trademarked usernames unless you are authorized to use that name (Subject to verification and the moderators make the final call)', 'hint': ''}, {'id': '34', 'text': 'No advertising or link farming accounts. Commercial accounts are acceptable only if they are also used for customer engagement.', 'hint': 'Mastodon is for conversation, not advertisements.  If the majority of your posts link to products or services elsewhere and you do not participate in conversation, or you have no posts and just have profile headers that link to your business, your account is subject to suspension under this rule. '}]",
         "2016"
        ],
        [
         "73",
         "freeradical.zone",
         "Free Radical",
         "Infosec and privacy and technology and leftward politics and cats and dogs and...",
         "259",
         "['en']",
         "[{'id': '1', 'text': 'No commercial accounts, advertising, or excessive promotion.', 'hint': ''}, {'id': '2', 'text': \"No bots, unless they're cute, funny, or useful. Bots should avoid posting to the public timeline.\", 'hint': ''}, {'id': '3', 'text': 'No gore or graphic violence.', 'hint': ''}, {'id': '4', 'text': 'Content that is borderline NSFW or could be construed as NSFW at a glance should be put behind a CW (Content Warning).', 'hint': ''}, {'id': '5', 'text': 'No racism.', 'hint': ''}, {'id': '6', 'text': 'No sexism.', 'hint': ''}, {'id': '7', 'text': 'No discrimination based on gender, sexual minority, sexual orientation, disability, physical appearance, body size, race, ethnicity, religion (or lack thereof), or national origin.', 'hint': ''}, {'id': '8', 'text': 'No xenophobia or violent nationalism.', 'hint': ''}, {'id': '9', 'text': 'No sexual depictions of children.', 'hint': ''}, {'id': '10', 'text': 'No holocaust denialism, Nazi symbolism, or promotion of National Socialism.', 'hint': ''}, {'id': '11', 'text': 'No stalking or harassment.', 'hint': ''}, {'id': '12', 'text': 'No fake accounts unless they are clearly labeled as such.', 'hint': ''}, {'id': '13', 'text': 'No solicitation of prostitution.', 'hint': ''}, {'id': '14', 'text': 'No Republican politicians, especially from Florida or Texas. The First Amendment overrules dumb state laws.', 'hint': ''}, {'id': '15', 'text': 'No COVID-19 misinformation. See https://blog.freeradical.zone/new-junk-medical-advice-policy/ for more information.', 'hint': ''}]",
         "2893"
        ],
        [
         "76",
         "woof.tech",
         "Woof.tech (Mastodon)",
         "Queer, tech and furry instance. Open to anyone that fits the atmosphere, come on in!",
         "246",
         "['en']",
         "[{'id': '1', 'text': 'Do not partake in unlawful activities on, or towards this instance.', 'hint': 'This instance is located in Europe. To be specific Finland and The Netherlands, please adhere to their respective laws.'}, {'id': '2', 'text': \"Be respectful. Don't insult, don't harass. Behave.\", 'hint': ''}, {'id': '3', 'text': \"Don't be transphobic, homophobic or otherwise rude to someone simply because of their identity or who they are. We will act strongly on violations. \", 'hint': ''}, {'id': '4', 'text': 'Content Warnings are required for NSFW, kink/fetish content, and otherwise questionable topics (drugs, \"tasteful\" nudity, sensitive or suggestive topics). ', 'hint': 'Locked accounts may post NSFW content without content warning, as long as these posts are marked as \"Followers Only\" and they clearly state in their profile that their content is NSFW. \\r\\nPlease contact an Administrator if unsure'}, {'id': '5', 'text': 'Do not impersonate other people. This applies to both (ex-)living beings and (online) identities', 'hint': 'There is an exception to this rule for parody reasons. A parody account is required to have \"(parody)\" both in the title and biography section clearly stated.'}, {'id': '6', 'text': 'Avatars that would fall under the 4th rule (content warnings) are not allowed, all avatars are required to be safe-for-work (SFW).\\r\\nThe same applies for banners, although we are slightly more lenient on these. Please try to keep it tasteful though! ', 'hint': ''}, {'id': '7', 'text': \"You're required to tag, or otherwise provide attribution the original artist of any art you post. Please do not post art you don't own / doesn't contain your characters or work.\", 'hint': ''}, {'id': '8', 'text': 'NSFW art and pictures of underage characters or real animals are not allowed!', 'hint': ''}, {'id': '9', 'text': 'You need to be 16 years or older in order to register on this instance, as required by dutch law on data processing. ', 'hint': ''}, {'id': '10', 'text': 'The usage of \"disposable\" email services for registration is not allowed, the email address you use needs to be a long-term email address only accessible by you.', 'hint': \"Using forwarding services (such as Apple's Mail Privacy feature) is totally fine, as long as the email address used can be used in future communication with you.\"}]",
         "717"
        ]
       ],
       "shape": {
        "columns": 7,
        "rows": 94
       }
      },
      "text/html": [
       "<div>\n",
       "<style scoped>\n",
       "    .dataframe tbody tr th:only-of-type {\n",
       "        vertical-align: middle;\n",
       "    }\n",
       "\n",
       "    .dataframe tbody tr th {\n",
       "        vertical-align: top;\n",
       "    }\n",
       "\n",
       "    .dataframe thead th {\n",
       "        text-align: right;\n",
       "    }\n",
       "</style>\n",
       "<table border=\"1\" class=\"dataframe\">\n",
       "  <thead>\n",
       "    <tr style=\"text-align: right;\">\n",
       "      <th></th>\n",
       "      <th>domain</th>\n",
       "      <th>title</th>\n",
       "      <th>description</th>\n",
       "      <th>active_month</th>\n",
       "      <th>languages</th>\n",
       "      <th>rules</th>\n",
       "      <th>total_users</th>\n",
       "    </tr>\n",
       "  </thead>\n",
       "  <tbody>\n",
       "    <tr>\n",
       "      <th>0</th>\n",
       "      <td>mastodon.social</td>\n",
       "      <td>Mastodon</td>\n",
       "      <td>The original server operated by the Mastodon g...</td>\n",
       "      <td>327503</td>\n",
       "      <td>[en]</td>\n",
       "      <td>[{'id': '1', 'text': 'Sexually explicit or vio...</td>\n",
       "      <td>2711879</td>\n",
       "    </tr>\n",
       "    <tr>\n",
       "      <th>1</th>\n",
       "      <td>mstdn.social</td>\n",
       "      <td>Mastodon 🐘</td>\n",
       "      <td>A general-purpose Mastodon server with a 500 c...</td>\n",
       "      <td>14546</td>\n",
       "      <td>[en]</td>\n",
       "      <td>[{'id': '2', 'text': 'Sexually explicit or vio...</td>\n",
       "      <td>260323</td>\n",
       "    </tr>\n",
       "    <tr>\n",
       "      <th>2</th>\n",
       "      <td>infosec.exchange</td>\n",
       "      <td>Infosec Exchange</td>\n",
       "      <td>A Mastodon instance for info/cyber security-mi...</td>\n",
       "      <td>13319</td>\n",
       "      <td>[en]</td>\n",
       "      <td>[{'id': '1', 'text': 'Do unto others as you th...</td>\n",
       "      <td>75725</td>\n",
       "    </tr>\n",
       "    <tr>\n",
       "      <th>3</th>\n",
       "      <td>mas.to</td>\n",
       "      <td>mas.to</td>\n",
       "      <td>Hello! mas.to is a fast, up-to-date and fun Ma...</td>\n",
       "      <td>11889</td>\n",
       "      <td>[en]</td>\n",
       "      <td>[{'id': '9', 'text': 'No discrimination, inclu...</td>\n",
       "      <td>183608</td>\n",
       "    </tr>\n",
       "    <tr>\n",
       "      <th>5</th>\n",
       "      <td>hachyderm.io</td>\n",
       "      <td>Hachyderm.io</td>\n",
       "      <td>Hachyderm is a safe space, LGBTQIA+ and BLM, p...</td>\n",
       "      <td>8937</td>\n",
       "      <td>[en]</td>\n",
       "      <td>[{'id': '1', 'text': 'Don't be a dick.', 'hint...</td>\n",
       "      <td>56318</td>\n",
       "    </tr>\n",
       "    <tr>\n",
       "      <th>...</th>\n",
       "      <td>...</td>\n",
       "      <td>...</td>\n",
       "      <td>...</td>\n",
       "      <td>...</td>\n",
       "      <td>...</td>\n",
       "      <td>...</td>\n",
       "      <td>...</td>\n",
       "    </tr>\n",
       "    <tr>\n",
       "      <th>133</th>\n",
       "      <td>mcr.wtf</td>\n",
       "      <td>mcr.wtf 🐝 Mastodon for Manchester</td>\n",
       "      <td>A community open to all whilst intended for pe...</td>\n",
       "      <td>14</td>\n",
       "      <td>[en]</td>\n",
       "      <td>[{'id': '1', 'text': 'No discrimination, inclu...</td>\n",
       "      <td>157</td>\n",
       "    </tr>\n",
       "    <tr>\n",
       "      <th>134</th>\n",
       "      <td>nfld.me</td>\n",
       "      <td>Mastodon Newfoundland and Labrador</td>\n",
       "      <td>Newfoundland and Labrador's Mastodon Server</td>\n",
       "      <td>12</td>\n",
       "      <td>[en]</td>\n",
       "      <td>[{'id': '1', 'text': 'No hate speech. We have ...</td>\n",
       "      <td>73</td>\n",
       "    </tr>\n",
       "    <tr>\n",
       "      <th>135</th>\n",
       "      <td>ceilidh.online</td>\n",
       "      <td>Ceilidh Online</td>\n",
       "      <td>Ceilidh.Online is meant to be a safe gathering...</td>\n",
       "      <td>11</td>\n",
       "      <td>[en]</td>\n",
       "      <td>[{'id': '2', 'text': 'Do not engage in hate sp...</td>\n",
       "      <td>42</td>\n",
       "    </tr>\n",
       "    <tr>\n",
       "      <th>137</th>\n",
       "      <td>dariox.club</td>\n",
       "      <td>DARiOX</td>\n",
       "      <td>A safe space for tech-centered LGBTQI+ folks a...</td>\n",
       "      <td>9</td>\n",
       "      <td>[en]</td>\n",
       "      <td>[{'id': '2', 'text': 'No illegal content', 'hi...</td>\n",
       "      <td>150</td>\n",
       "    </tr>\n",
       "    <tr>\n",
       "      <th>139</th>\n",
       "      <td>wxw.moe</td>\n",
       "      <td>呜呜 w(&gt; ʌ &lt;)w</td>\n",
       "      <td>一个萌萌哒 泛ACGN 实例，欢迎安家 ~</td>\n",
       "      <td>3381</td>\n",
       "      <td>[en]</td>\n",
       "      <td>[{'id': '67', 'text': '拒绝真人不雅内容 / No inappropr...</td>\n",
       "      <td>23662</td>\n",
       "    </tr>\n",
       "  </tbody>\n",
       "</table>\n",
       "<p>94 rows × 7 columns</p>\n",
       "</div>"
      ],
      "text/plain": [
       "               domain                               title  \\\n",
       "0     mastodon.social                            Mastodon   \n",
       "1        mstdn.social                          Mastodon 🐘   \n",
       "2    infosec.exchange                    Infosec Exchange   \n",
       "3              mas.to                              mas.to   \n",
       "5        hachyderm.io                        Hachyderm.io   \n",
       "..                ...                                 ...   \n",
       "133           mcr.wtf   mcr.wtf 🐝 Mastodon for Manchester   \n",
       "134           nfld.me  Mastodon Newfoundland and Labrador   \n",
       "135    ceilidh.online                      Ceilidh Online   \n",
       "137       dariox.club                              DARiOX   \n",
       "139           wxw.moe                        呜呜 w(> ʌ <)w   \n",
       "\n",
       "                                           description  active_month  \\\n",
       "0    The original server operated by the Mastodon g...        327503   \n",
       "1    A general-purpose Mastodon server with a 500 c...         14546   \n",
       "2    A Mastodon instance for info/cyber security-mi...         13319   \n",
       "3    Hello! mas.to is a fast, up-to-date and fun Ma...         11889   \n",
       "5    Hachyderm is a safe space, LGBTQIA+ and BLM, p...          8937   \n",
       "..                                                 ...           ...   \n",
       "133  A community open to all whilst intended for pe...            14   \n",
       "134        Newfoundland and Labrador's Mastodon Server            12   \n",
       "135  Ceilidh.Online is meant to be a safe gathering...            11   \n",
       "137  A safe space for tech-centered LGBTQI+ folks a...             9   \n",
       "139                              一个萌萌哒 泛ACGN 实例，欢迎安家 ~          3381   \n",
       "\n",
       "    languages                                              rules  total_users  \n",
       "0        [en]  [{'id': '1', 'text': 'Sexually explicit or vio...      2711879  \n",
       "1        [en]  [{'id': '2', 'text': 'Sexually explicit or vio...       260323  \n",
       "2        [en]  [{'id': '1', 'text': 'Do unto others as you th...        75725  \n",
       "3        [en]  [{'id': '9', 'text': 'No discrimination, inclu...       183608  \n",
       "5        [en]  [{'id': '1', 'text': 'Don't be a dick.', 'hint...        56318  \n",
       "..        ...                                                ...          ...  \n",
       "133      [en]  [{'id': '1', 'text': 'No discrimination, inclu...          157  \n",
       "134      [en]  [{'id': '1', 'text': 'No hate speech. We have ...           73  \n",
       "135      [en]  [{'id': '2', 'text': 'Do not engage in hate sp...           42  \n",
       "137      [en]  [{'id': '2', 'text': 'No illegal content', 'hi...          150  \n",
       "139      [en]  [{'id': '67', 'text': '拒绝真人不雅内容 / No inappropr...        23662  \n",
       "\n",
       "[94 rows x 7 columns]"
      ]
     },
     "execution_count": 11,
     "metadata": {},
     "output_type": "execute_result"
    }
   ],
   "source": [
    "df_mastodon_en"
   ]
  },
  {
   "cell_type": "markdown",
   "id": "2c7d96f4",
   "metadata": {},
   "source": [
    "## Mastodon dataset"
   ]
  },
  {
   "cell_type": "code",
   "execution_count": 12,
   "id": "65b24071",
   "metadata": {},
   "outputs": [
    {
     "data": {
      "application/vnd.microsoft.datawrangler.viewer.v0+json": {
       "columns": [
        {
         "name": "index",
         "rawType": "int64",
         "type": "integer"
        },
        {
         "name": "server_id",
         "rawType": "int64",
         "type": "integer"
        },
        {
         "name": "rules",
         "rawType": "object",
         "type": "unknown"
        }
       ],
       "ref": "39b4cec4-a58e-40e6-abcd-5412692c16b2",
       "rows": [
        [
         "0",
         "0",
         "{'id': '1', 'text': 'Sexually explicit or violent media must be marked as sensitive or with a content warning', 'hint': 'This includes content that is particularly provocative even if it may not show specific body parts, as well as dead bodies, bloody injuries, and other gore. Particularly obscene content may be prohibited entirely. Profile pictures and header images may not contain sexually explicit or violent media.'}"
        ],
        [
         "1",
         "0",
         "{'id': '2', 'text': 'No racism, sexism, homophobia, transphobia, ableism, xenophobia, or casteism.', 'hint': 'Transphobic behavior such as intentional misgendering and deadnaming is strictly prohibited. Promotion of \"conversion therapy\" is strictly prohibited. Criticism of governments and religions is permissible unless being used as a proxy for discrimination.'}"
        ],
        [
         "2",
         "0",
         "{'id': '3', 'text': 'No incitement of violence or promotion of violent ideologies', 'hint': 'Calling for people or groups to be assassinated, murdered, or attacked physically is strictly prohibited. Support for violent groups or events is prohibited.'}"
        ],
        [
         "3",
         "0",
         "{'id': '4', 'text': 'No harassment, block evasion, dogpiling, or doxxing of others', 'hint': 'Repeat attempts to communicate with users who have blocked you or creation of accounts solely to harass or insult individuals is strictly prohibited. Coordinated activity to attack other users is prohibited. Posting of private personal information about others is prohibited.'}"
        ],
        [
         "4",
         "0",
         "{'id': '7', 'text': 'Do not share information widely-known to be false and misleading', 'hint': 'False and misleading information and links from low-quality sources may not be posted, especially if they are likely to mislead or confuse others or endanger their safety.'}"
        ],
        [
         "5",
         "0",
         "{'id': '1008', 'text': 'Content created by others must be attributed, and use of generative AI must be disclosed', 'hint': 'Content created by others must clearly provide a reference to the author, creator, or source. For adult content, this should include performers. Accounts may not solely post AI-generated content.'}"
        ],
        [
         "6",
         "1",
         "{'id': '2', 'text': 'Sexually explicit or violent media must be marked as sensitive when posting.', 'hint': ''}"
        ],
        [
         "7",
         "1",
         "{'id': '3', 'text': 'No spam or advertising.', 'hint': ''}"
        ],
        [
         "8",
         "1",
         "{'id': '4', 'text': 'No racism, sexism, homophobia, transphobia, xenophobia, or casteism.', 'hint': ''}"
        ],
        [
         "9",
         "1",
         "{'id': '5', 'text': 'No incitement of violence or promotion of violent ideologies.', 'hint': ''}"
        ],
        [
         "10",
         "1",
         "{'id': '6', 'text': 'No harassment, dogpiling or doxxing of other users.', 'hint': ''}"
        ],
        [
         "11",
         "1",
         "{'id': '7', 'text': 'No illegal content.', 'hint': ''}"
        ],
        [
         "12",
         "1",
         "{'id': '11', 'text': 'No spreading of fake news or misinformation', 'hint': ''}"
        ],
        [
         "13",
         "1",
         "{'id': '12', 'text': 'Content created by others must be attributed, and use of AI must be disclosed. Profiles that only post AI-generated content will not be tolerated.', 'hint': ''}"
        ],
        [
         "14",
         "2",
         "{'id': '1', 'text': 'Do unto others as you think they would want done to them.  ', 'hint': ''}"
        ],
        [
         "15",
         "2",
         "{'id': '2', 'text': 'Mark sensitive content with a content warning.  ', 'hint': ''}"
        ],
        [
         "16",
         "2",
         "{'id': '3', 'text': 'Gratuitous obscenity that serves no practical benefit to a discussion is not permitted.', 'hint': ''}"
        ],
        [
         "17",
         "2",
         "{'id': '4', 'text': 'Illegal content such as child pornography, unsurprisingly, is not permitted', 'hint': ''}"
        ],
        [
         "18",
         "2",
         "{'id': '5', 'text': 'Spam is not permitted, this includes creating spam accounts that only serve to provide profile links or advertise products and services. ', 'hint': ''}"
        ],
        [
         "19",
         "2",
         "{'id': '6', 'text': 'Hate speech and abusive or threatening behavior is not permitted, specifically that which directed at any gender, nationality, religion, race, age, pizza topping preference, or sexual identity.  One can hate on systemd all day long here.', 'hint': ''}"
        ],
        [
         "20",
         "2",
         "{'id': '7', 'text': \"Lack of a specific rule against a certain behavior does not indicate acceptance of that behavior.  Each of us has a limited amount of time in this world.  Don't be a jerk.  \", 'hint': ''}"
        ],
        [
         "21",
         "2",
         "{'id': '8', 'text': 'Violating one or more of these rules may result in an immediate, permanent ban without notice or warning.  ', 'hint': ''}"
        ],
        [
         "22",
         "2",
         "{'id': '9', 'text': 'You may not impersonate a person or brand without a clear indication the account is unofficial and/or a parody. Parody accounts are permitted, as are legitimate brand accounts. ', 'hint': ''}"
        ],
        [
         "23",
         "2",
         "{'id': '11', 'text': 'No attacks against (or from) the instance.\\r\\n\\r\\nYou may not do anything which may impact confidentiality, integrity or availability of Infosec.Exchange, the users of the service or their data.\\r\\nFor more details see https://wiki.infosec.exchange/rules/start', 'hint': ''}"
        ],
        [
         "24",
         "2",
         "{'id': '12', 'text': 'No doxing (aka doxxing) or disclosing personal information without consent and as a means of harassing or causing others to harass another person.', 'hint': ''}"
        ],
        [
         "25",
         "2",
         "{'id': '13', 'text': 'No harassment in the form of continued engagement after a person has requested contact to stop', 'hint': ''}"
        ],
        [
         "26",
         "2",
         "{'id': '14', 'text': 'Automated posting:\\r\\n- accounts that post >50% using automation must be labeled as a “bot” in the user profile to help provide a visual indicator to visitors\\r\\n- automated posts must be limited to one post per hour/24 per day with post visibility set to “public”. There is no limit on “unlisted” posts.', 'hint': ''}"
        ],
        [
         "27",
         "2",
         "{'id': '15', 'text': 'Soliciting or inciting violence or harm against a person or segment of people is not permitted. ', 'hint': ''}"
        ],
        [
         "28",
         "3",
         "{'id': '9', 'text': \"No discrimination, including (but not limited to) racism, sexism, homophobia or transphobia (including targeted misgendering, deadnaming, or promotion of so-called 'conversion therapy').\", 'hint': ''}"
        ],
        [
         "29",
         "3",
         "{'id': '10', 'text': 'No explicit (NSFW) content without content warnings and/or sensitive media markers. Explicit content must not be used in user avatars or header images.', 'hint': ''}"
        ],
        [
         "30",
         "3",
         "{'id': '17', 'text': 'No harassment of other users on this or other servers.', 'hint': ''}"
        ],
        [
         "31",
         "3",
         "{'id': '18', 'text': 'No content illegal in the following countries: United Kingdom, Germany', 'hint': ''}"
        ],
        [
         "32",
         "3",
         "{'id': '19', 'text': 'No incitement of violence or promotion of violent ideologies.', 'hint': ''}"
        ],
        [
         "33",
         "3",
         "{'id': '20', 'text': 'No disinformation regarding public health issues or political/military campaigns.', 'hint': ''}"
        ],
        [
         "34",
         "3",
         "{'id': '21', 'text': 'No spam. This includes commercial advertising, promotion of services, and SEO.', 'hint': ''}"
        ],
        [
         "35",
         "3",
         "{'id': '22', 'text': 'No impersonation of other individuals, public figures or organisations, unless clearly marked as a parody.', 'hint': ''}"
        ],
        [
         "36",
         "3",
         "{'id': '23', 'text': 'All automated (bot) accounts must enable the bot flag in their account preferences, respect #nobot markers, and post as unlisted unless making less than one post per hour.', 'hint': ''}"
        ],
        [
         "37",
         "5",
         "{'id': '1', 'text': \"Don't be a dick.\", 'hint': ''}"
        ],
        [
         "38",
         "5",
         "{'id': '2', 'text': 'No hacking.', 'hint': ''}"
        ],
        [
         "39",
         "5",
         "{'id': '3', 'text': 'No violence.', 'hint': ''}"
        ],
        [
         "40",
         "5",
         "{'id': '4', 'text': 'No fascism. ', 'hint': ''}"
        ],
        [
         "41",
         "5",
         "{'id': '5', 'text': 'No colonialism.', 'hint': ''}"
        ],
        [
         "42",
         "5",
         "{'id': '6', 'text': 'No white supremacy.', 'hint': ''}"
        ],
        [
         "43",
         "5",
         "{'id': '7', 'text': 'No religious extremism. ', 'hint': ''}"
        ],
        [
         "44",
         "5",
         "{'id': '9', 'text': 'No nationalism.', 'hint': ''}"
        ],
        [
         "45",
         "5",
         "{'id': '11', 'text': 'No racism.', 'hint': ''}"
        ],
        [
         "46",
         "5",
         "{'id': '12', 'text': 'No homophobia.', 'hint': ''}"
        ],
        [
         "47",
         "5",
         "{'id': '13', 'text': 'No transphobia.', 'hint': ''}"
        ],
        [
         "48",
         "5",
         "{'id': '14', 'text': 'Safe Space: LGTBQIA+', 'hint': ''}"
        ],
        [
         "49",
         "5",
         "{'id': '15', 'text': 'Safe Space: neurodivergent (ADHD, Autism, etc.) ', 'hint': ''}"
        ]
       ],
       "shape": {
        "columns": 2,
        "rows": 807
       }
      },
      "text/html": [
       "<div>\n",
       "<style scoped>\n",
       "    .dataframe tbody tr th:only-of-type {\n",
       "        vertical-align: middle;\n",
       "    }\n",
       "\n",
       "    .dataframe tbody tr th {\n",
       "        vertical-align: top;\n",
       "    }\n",
       "\n",
       "    .dataframe thead th {\n",
       "        text-align: right;\n",
       "    }\n",
       "</style>\n",
       "<table border=\"1\" class=\"dataframe\">\n",
       "  <thead>\n",
       "    <tr style=\"text-align: right;\">\n",
       "      <th></th>\n",
       "      <th>server_id</th>\n",
       "      <th>rules</th>\n",
       "    </tr>\n",
       "  </thead>\n",
       "  <tbody>\n",
       "    <tr>\n",
       "      <th>0</th>\n",
       "      <td>0</td>\n",
       "      <td>{'id': '1', 'text': 'Sexually explicit or viol...</td>\n",
       "    </tr>\n",
       "    <tr>\n",
       "      <th>1</th>\n",
       "      <td>0</td>\n",
       "      <td>{'id': '2', 'text': 'No racism, sexism, homoph...</td>\n",
       "    </tr>\n",
       "    <tr>\n",
       "      <th>2</th>\n",
       "      <td>0</td>\n",
       "      <td>{'id': '3', 'text': 'No incitement of violence...</td>\n",
       "    </tr>\n",
       "    <tr>\n",
       "      <th>3</th>\n",
       "      <td>0</td>\n",
       "      <td>{'id': '4', 'text': 'No harassment, block evas...</td>\n",
       "    </tr>\n",
       "    <tr>\n",
       "      <th>4</th>\n",
       "      <td>0</td>\n",
       "      <td>{'id': '7', 'text': 'Do not share information ...</td>\n",
       "    </tr>\n",
       "    <tr>\n",
       "      <th>...</th>\n",
       "      <td>...</td>\n",
       "      <td>...</td>\n",
       "    </tr>\n",
       "    <tr>\n",
       "      <th>803</th>\n",
       "      <td>139</td>\n",
       "      <td>{'id': '77', 'text': '③ 同意呜呜站的社区规则？/ Do you ag...</td>\n",
       "    </tr>\n",
       "    <tr>\n",
       "      <th>804</th>\n",
       "      <td>139</td>\n",
       "      <td>{'id': '78', 'text': '🌸 缺项或错误将被拒绝 ... / Incomp...</td>\n",
       "    </tr>\n",
       "    <tr>\n",
       "      <th>805</th>\n",
       "      <td>139</td>\n",
       "      <td>{'id': '79', 'text': '详细社区规则见： / For detailed ...</td>\n",
       "    </tr>\n",
       "    <tr>\n",
       "      <th>806</th>\n",
       "      <td>139</td>\n",
       "      <td>{'id': '80', 'text': 'https://wxw.moe/about', ...</td>\n",
       "    </tr>\n",
       "    <tr>\n",
       "      <th>807</th>\n",
       "      <td>139</td>\n",
       "      <td>{'id': '82', 'text': '使用本站代表您同意了这些规则与政策，注册前请务必...</td>\n",
       "    </tr>\n",
       "  </tbody>\n",
       "</table>\n",
       "<p>807 rows × 2 columns</p>\n",
       "</div>"
      ],
      "text/plain": [
       "     server_id                                              rules\n",
       "0            0  {'id': '1', 'text': 'Sexually explicit or viol...\n",
       "1            0  {'id': '2', 'text': 'No racism, sexism, homoph...\n",
       "2            0  {'id': '3', 'text': 'No incitement of violence...\n",
       "3            0  {'id': '4', 'text': 'No harassment, block evas...\n",
       "4            0  {'id': '7', 'text': 'Do not share information ...\n",
       "..         ...                                                ...\n",
       "803        139  {'id': '77', 'text': '③ 同意呜呜站的社区规则？/ Do you ag...\n",
       "804        139  {'id': '78', 'text': '🌸 缺项或错误将被拒绝 ... / Incomp...\n",
       "805        139  {'id': '79', 'text': '详细社区规则见： / For detailed ...\n",
       "806        139  {'id': '80', 'text': 'https://wxw.moe/about', ...\n",
       "807        139  {'id': '82', 'text': '使用本站代表您同意了这些规则与政策，注册前请务必...\n",
       "\n",
       "[807 rows x 2 columns]"
      ]
     },
     "execution_count": 12,
     "metadata": {},
     "output_type": "execute_result"
    }
   ],
   "source": [
    "rules = df_mastodon_en[['rules']].explode('rules').reset_index(drop=False)\n",
    "rules = rules.rename(columns={\"index\": \"server_id\"})\n",
    "rules = rules.dropna()\n",
    "rules"
   ]
  },
  {
   "cell_type": "code",
   "execution_count": 233,
   "id": "35d57cf6",
   "metadata": {},
   "outputs": [
    {
     "data": {
      "application/vnd.microsoft.datawrangler.viewer.v0+json": {
       "columns": [
        {
         "name": "index",
         "rawType": "int64",
         "type": "integer"
        },
        {
         "name": "server_id",
         "rawType": "int64",
         "type": "integer"
        },
        {
         "name": "rule_id",
         "rawType": "object",
         "type": "string"
        },
        {
         "name": "text",
         "rawType": "object",
         "type": "string"
        },
        {
         "name": "hint",
         "rawType": "object",
         "type": "unknown"
        }
       ],
       "ref": "49f570d2-ee44-4fa1-bf12-2339bfcf963b",
       "rows": [
        [
         "0",
         "0",
         "1",
         "Sexually explicit or violent media must be marked as sensitive or with a content warning",
         "This includes content that is particularly provocative even if it may not show specific body parts, as well as dead bodies, bloody injuries, and other gore. Particularly obscene content may be prohibited entirely. Profile pictures and header images may not contain sexually explicit or violent media."
        ],
        [
         "1",
         "0",
         "2",
         "No racism, sexism, homophobia, transphobia, ableism, xenophobia, or casteism.",
         "Transphobic behavior such as intentional misgendering and deadnaming is strictly prohibited. Promotion of \"conversion therapy\" is strictly prohibited. Criticism of governments and religions is permissible unless being used as a proxy for discrimination."
        ],
        [
         "2",
         "0",
         "3",
         "No incitement of violence or promotion of violent ideologies",
         "Calling for people or groups to be assassinated, murdered, or attacked physically is strictly prohibited. Support for violent groups or events is prohibited."
        ],
        [
         "3",
         "0",
         "4",
         "No harassment, block evasion, dogpiling, or doxxing of others",
         "Repeat attempts to communicate with users who have blocked you or creation of accounts solely to harass or insult individuals is strictly prohibited. Coordinated activity to attack other users is prohibited. Posting of private personal information about others is prohibited."
        ],
        [
         "4",
         "0",
         "7",
         "Do not share information widely-known to be false and misleading",
         "False and misleading information and links from low-quality sources may not be posted, especially if they are likely to mislead or confuse others or endanger their safety."
        ],
        [
         "5",
         "0",
         "1008",
         "Content created by others must be attributed, and use of generative AI must be disclosed",
         "Content created by others must clearly provide a reference to the author, creator, or source. For adult content, this should include performers. Accounts may not solely post AI-generated content."
        ],
        [
         "6",
         "1",
         "2",
         "Sexually explicit or violent media must be marked as sensitive when posting.",
         ""
        ],
        [
         "7",
         "1",
         "3",
         "No spam or advertising.",
         ""
        ],
        [
         "8",
         "1",
         "4",
         "No racism, sexism, homophobia, transphobia, xenophobia, or casteism.",
         ""
        ],
        [
         "9",
         "1",
         "5",
         "No incitement of violence or promotion of violent ideologies.",
         ""
        ],
        [
         "10",
         "1",
         "6",
         "No harassment, dogpiling or doxxing of other users.",
         ""
        ],
        [
         "11",
         "1",
         "7",
         "No illegal content.",
         ""
        ],
        [
         "12",
         "1",
         "11",
         "No spreading of fake news or misinformation",
         ""
        ],
        [
         "13",
         "1",
         "12",
         "Content created by others must be attributed, and use of AI must be disclosed. Profiles that only post AI-generated content will not be tolerated.",
         ""
        ],
        [
         "14",
         "2",
         "1",
         "Do unto others as you think they would want done to them.  ",
         ""
        ],
        [
         "15",
         "2",
         "2",
         "Mark sensitive content with a content warning.  ",
         ""
        ],
        [
         "16",
         "2",
         "3",
         "Gratuitous obscenity that serves no practical benefit to a discussion is not permitted.",
         ""
        ],
        [
         "17",
         "2",
         "4",
         "Illegal content such as child pornography, unsurprisingly, is not permitted",
         ""
        ],
        [
         "18",
         "2",
         "5",
         "Spam is not permitted, this includes creating spam accounts that only serve to provide profile links or advertise products and services. ",
         ""
        ],
        [
         "19",
         "2",
         "6",
         "Hate speech and abusive or threatening behavior is not permitted, specifically that which directed at any gender, nationality, religion, race, age, pizza topping preference, or sexual identity.  One can hate on systemd all day long here.",
         ""
        ],
        [
         "20",
         "2",
         "7",
         "Lack of a specific rule against a certain behavior does not indicate acceptance of that behavior.  Each of us has a limited amount of time in this world.  Don't be a jerk.  ",
         ""
        ],
        [
         "21",
         "2",
         "8",
         "Violating one or more of these rules may result in an immediate, permanent ban without notice or warning.  ",
         ""
        ],
        [
         "22",
         "2",
         "9",
         "You may not impersonate a person or brand without a clear indication the account is unofficial and/or a parody. Parody accounts are permitted, as are legitimate brand accounts. ",
         ""
        ],
        [
         "23",
         "2",
         "11",
         "No attacks against (or from) the instance.\r\n\r\nYou may not do anything which may impact confidentiality, integrity or availability of Infosec.Exchange, the users of the service or their data.\r\nFor more details see https://wiki.infosec.exchange/rules/start",
         ""
        ],
        [
         "24",
         "2",
         "12",
         "No doxing (aka doxxing) or disclosing personal information without consent and as a means of harassing or causing others to harass another person.",
         ""
        ],
        [
         "25",
         "2",
         "13",
         "No harassment in the form of continued engagement after a person has requested contact to stop",
         ""
        ],
        [
         "26",
         "2",
         "14",
         "Automated posting:\r\n- accounts that post >50% using automation must be labeled as a “bot” in the user profile to help provide a visual indicator to visitors\r\n- automated posts must be limited to one post per hour/24 per day with post visibility set to “public”. There is no limit on “unlisted” posts.",
         ""
        ],
        [
         "27",
         "2",
         "15",
         "Soliciting or inciting violence or harm against a person or segment of people is not permitted. ",
         ""
        ],
        [
         "28",
         "3",
         "9",
         "No discrimination, including (but not limited to) racism, sexism, homophobia or transphobia (including targeted misgendering, deadnaming, or promotion of so-called 'conversion therapy').",
         ""
        ],
        [
         "29",
         "3",
         "10",
         "No explicit (NSFW) content without content warnings and/or sensitive media markers. Explicit content must not be used in user avatars or header images.",
         ""
        ],
        [
         "30",
         "3",
         "17",
         "No harassment of other users on this or other servers.",
         ""
        ],
        [
         "31",
         "3",
         "18",
         "No content illegal in the following countries: United Kingdom, Germany",
         ""
        ],
        [
         "32",
         "3",
         "19",
         "No incitement of violence or promotion of violent ideologies.",
         ""
        ],
        [
         "33",
         "3",
         "20",
         "No disinformation regarding public health issues or political/military campaigns.",
         ""
        ],
        [
         "34",
         "3",
         "21",
         "No spam. This includes commercial advertising, promotion of services, and SEO.",
         ""
        ],
        [
         "35",
         "3",
         "22",
         "No impersonation of other individuals, public figures or organisations, unless clearly marked as a parody.",
         ""
        ],
        [
         "36",
         "3",
         "23",
         "All automated (bot) accounts must enable the bot flag in their account preferences, respect #nobot markers, and post as unlisted unless making less than one post per hour.",
         ""
        ],
        [
         "37",
         "5",
         "1",
         "Don't be a dick.",
         ""
        ],
        [
         "38",
         "5",
         "2",
         "No hacking.",
         ""
        ],
        [
         "39",
         "5",
         "3",
         "No violence.",
         ""
        ],
        [
         "40",
         "5",
         "4",
         "No fascism. ",
         ""
        ],
        [
         "41",
         "5",
         "5",
         "No colonialism.",
         ""
        ],
        [
         "42",
         "5",
         "6",
         "No white supremacy.",
         ""
        ],
        [
         "43",
         "5",
         "7",
         "No religious extremism. ",
         ""
        ],
        [
         "44",
         "5",
         "9",
         "No nationalism.",
         ""
        ],
        [
         "45",
         "5",
         "11",
         "No racism.",
         ""
        ],
        [
         "46",
         "5",
         "12",
         "No homophobia.",
         ""
        ],
        [
         "47",
         "5",
         "13",
         "No transphobia.",
         ""
        ],
        [
         "48",
         "5",
         "14",
         "Safe Space: LGTBQIA+",
         ""
        ],
        [
         "49",
         "5",
         "15",
         "Safe Space: neurodivergent (ADHD, Autism, etc.) ",
         ""
        ]
       ],
       "shape": {
        "columns": 4,
        "rows": 807
       }
      },
      "text/html": [
       "<div>\n",
       "<style scoped>\n",
       "    .dataframe tbody tr th:only-of-type {\n",
       "        vertical-align: middle;\n",
       "    }\n",
       "\n",
       "    .dataframe tbody tr th {\n",
       "        vertical-align: top;\n",
       "    }\n",
       "\n",
       "    .dataframe thead th {\n",
       "        text-align: right;\n",
       "    }\n",
       "</style>\n",
       "<table border=\"1\" class=\"dataframe\">\n",
       "  <thead>\n",
       "    <tr style=\"text-align: right;\">\n",
       "      <th></th>\n",
       "      <th>server_id</th>\n",
       "      <th>rule_id</th>\n",
       "      <th>text</th>\n",
       "      <th>hint</th>\n",
       "    </tr>\n",
       "  </thead>\n",
       "  <tbody>\n",
       "    <tr>\n",
       "      <th>0</th>\n",
       "      <td>0</td>\n",
       "      <td>1</td>\n",
       "      <td>Sexually explicit or violent media must be mar...</td>\n",
       "      <td>This includes content that is particularly pro...</td>\n",
       "    </tr>\n",
       "    <tr>\n",
       "      <th>1</th>\n",
       "      <td>0</td>\n",
       "      <td>2</td>\n",
       "      <td>No racism, sexism, homophobia, transphobia, ab...</td>\n",
       "      <td>Transphobic behavior such as intentional misge...</td>\n",
       "    </tr>\n",
       "    <tr>\n",
       "      <th>2</th>\n",
       "      <td>0</td>\n",
       "      <td>3</td>\n",
       "      <td>No incitement of violence or promotion of viol...</td>\n",
       "      <td>Calling for people or groups to be assassinate...</td>\n",
       "    </tr>\n",
       "    <tr>\n",
       "      <th>3</th>\n",
       "      <td>0</td>\n",
       "      <td>4</td>\n",
       "      <td>No harassment, block evasion, dogpiling, or do...</td>\n",
       "      <td>Repeat attempts to communicate with users who ...</td>\n",
       "    </tr>\n",
       "    <tr>\n",
       "      <th>4</th>\n",
       "      <td>0</td>\n",
       "      <td>7</td>\n",
       "      <td>Do not share information widely-known to be fa...</td>\n",
       "      <td>False and misleading information and links fro...</td>\n",
       "    </tr>\n",
       "    <tr>\n",
       "      <th>...</th>\n",
       "      <td>...</td>\n",
       "      <td>...</td>\n",
       "      <td>...</td>\n",
       "      <td>...</td>\n",
       "    </tr>\n",
       "    <tr>\n",
       "      <th>803</th>\n",
       "      <td>139</td>\n",
       "      <td>77</td>\n",
       "      <td>③ 同意呜呜站的社区规则？/ Do you agree with the community...</td>\n",
       "      <td></td>\n",
       "    </tr>\n",
       "    <tr>\n",
       "      <th>804</th>\n",
       "      <td>139</td>\n",
       "      <td>78</td>\n",
       "      <td>🌸 缺项或错误将被拒绝 ... / Incomplete or nonsensical re...</td>\n",
       "      <td></td>\n",
       "    </tr>\n",
       "    <tr>\n",
       "      <th>805</th>\n",
       "      <td>139</td>\n",
       "      <td>79</td>\n",
       "      <td>详细社区规则见： / For detailed community rules, pleas...</td>\n",
       "      <td></td>\n",
       "    </tr>\n",
       "    <tr>\n",
       "      <th>806</th>\n",
       "      <td>139</td>\n",
       "      <td>80</td>\n",
       "      <td>https://wxw.moe/about</td>\n",
       "      <td></td>\n",
       "    </tr>\n",
       "    <tr>\n",
       "      <th>807</th>\n",
       "      <td>139</td>\n",
       "      <td>82</td>\n",
       "      <td>使用本站代表您同意了这些规则与政策，注册前请务必仔细阅读！/ By using this i...</td>\n",
       "      <td></td>\n",
       "    </tr>\n",
       "  </tbody>\n",
       "</table>\n",
       "<p>807 rows × 4 columns</p>\n",
       "</div>"
      ],
      "text/plain": [
       "     server_id rule_id                                               text  \\\n",
       "0            0       1  Sexually explicit or violent media must be mar...   \n",
       "1            0       2  No racism, sexism, homophobia, transphobia, ab...   \n",
       "2            0       3  No incitement of violence or promotion of viol...   \n",
       "3            0       4  No harassment, block evasion, dogpiling, or do...   \n",
       "4            0       7  Do not share information widely-known to be fa...   \n",
       "..         ...     ...                                                ...   \n",
       "803        139      77  ③ 同意呜呜站的社区规则？/ Do you agree with the community...   \n",
       "804        139      78  🌸 缺项或错误将被拒绝 ... / Incomplete or nonsensical re...   \n",
       "805        139      79  详细社区规则见： / For detailed community rules, pleas...   \n",
       "806        139      80                              https://wxw.moe/about   \n",
       "807        139      82  使用本站代表您同意了这些规则与政策，注册前请务必仔细阅读！/ By using this i...   \n",
       "\n",
       "                                                  hint  \n",
       "0    This includes content that is particularly pro...  \n",
       "1    Transphobic behavior such as intentional misge...  \n",
       "2    Calling for people or groups to be assassinate...  \n",
       "3    Repeat attempts to communicate with users who ...  \n",
       "4    False and misleading information and links fro...  \n",
       "..                                                 ...  \n",
       "803                                                     \n",
       "804                                                     \n",
       "805                                                     \n",
       "806                                                     \n",
       "807                                                     \n",
       "\n",
       "[807 rows x 4 columns]"
      ]
     },
     "execution_count": 233,
     "metadata": {},
     "output_type": "execute_result"
    }
   ],
   "source": [
    "# The following line explodes the initial format of mastodon's servers rules:\n",
    "# eg: {“id”: “rule_id”, “text”: “rule text”, \"hint\": \"hint text\"} -> pd.Series(cols=[id, text, hint])\n",
    "rules = pd.concat([rules.drop(['rules'], axis=1), rules['rules'].apply(pd.Series)], axis=1)\n",
    "\n",
    "rules = rules.rename(columns={'id': \"rule_id\"})\n",
    "rules"
   ]
  },
  {
   "cell_type": "code",
   "execution_count": 234,
   "id": "9de3133d",
   "metadata": {},
   "outputs": [
    {
     "name": "stdout",
     "output_type": "stream",
     "text": [
      " We removed 219 of the 807 rules (27%) that were not detected to be in english.\n"
     ]
    }
   ],
   "source": [
    "# remove rules that are not written in english\n",
    "df_english = rules[rules['text'].apply(utils.is_english)].reset_index(drop=True)\n",
    "\n",
    "non_english_rules_pourcentage = 100 * (rules.shape[0] - df_english.shape[0]) / rules.shape[0]\n",
    "\n",
    "print(f\" We removed {rules.shape[0] - df_english.shape[0]} of the {rules.shape[0]} rules ({non_english_rules_pourcentage:.0f}%) that were not detected to be in english.\")"
   ]
  },
  {
   "cell_type": "code",
   "execution_count": 235,
   "id": "0f89e918",
   "metadata": {},
   "outputs": [
    {
     "name": "stdout",
     "output_type": "stream",
     "text": [
      "78 servers have their description in english;\n",
      "15 servers have their description in another language.\n"
     ]
    },
    {
     "data": {
      "application/vnd.microsoft.datawrangler.viewer.v0+json": {
       "columns": [
        {
         "name": "index",
         "rawType": "int64",
         "type": "integer"
        },
        {
         "name": "server_id",
         "rawType": "int64",
         "type": "integer"
        },
        {
         "name": "rule_id",
         "rawType": "object",
         "type": "string"
        },
        {
         "name": "text",
         "rawType": "object",
         "type": "string"
        },
        {
         "name": "hint",
         "rawType": "object",
         "type": "string"
        }
       ],
       "ref": "cfad949d-bb56-4e1b-b7e3-85cb1ac7a524",
       "rows": [
        [
         "143",
         "31",
         "12",
         "Treat others with respect",
         "Avoid any form of insult, bullying, or discrimination, including but not limited to racist, sexist, homophobic, transphobic, anti-Semitic, and misogynistic statements or actions against others."
        ],
        [
         "144",
         "31",
         "15",
         "Comply with applicable law",
         "Do not publish any illegal content."
        ],
        [
         "145",
         "31",
         "16",
         "Avoid misinformation",
         "Do not share false or misleading information."
        ],
        [
         "146",
         "31",
         "19",
         "Mark sensitive content (CW)",
         "Please mark any content that may contain common triggers, is sexually explicit or violent as sensitive (CW) to ensure the safety of other members. Note: Accounts that exclusively post such content may be limited or banned."
        ],
        [
         "147",
         "31",
         "20",
         "You must be older than 16 years",
         "According to European law, you must be at least 16 years old to use this instance."
        ],
        [
         "152",
         "33",
         "3",
         "No al machismo",
         ""
        ],
        [
         "153",
         "33",
         "9",
         "No ai bot*",
         "* in generale è una regola da tenere presente, ma se il bot ha utilità per la community scrivici che si sistema tutto"
        ],
        [
         "363",
         "93",
         "21",
         "Don't be an asshole. You have an opinion? That's fine, but please don't offend anyone with what you say.",
         ""
        ],
        [
         "364",
         "93",
         "23",
         "Harassment, stalking, doxxing, transmisogyny, dogpiling, racism, sexism, hate speech, abuse or the endorse thereof, and generally disciminatory behaviour will not be tolerated.",
         ""
        ],
        [
         "365",
         "93",
         "25",
         "Violent nationalist propaganda, Nazi symbolism or promotion of Nazu ideology are forbidden.",
         ""
        ],
        [
         "366",
         "93",
         "27",
         "No calls for violence.",
         ""
        ],
        [
         "367",
         "93",
         "29",
         "Content that is illegal in Germany, sexual content or depictions of violence are prohibited.",
         ""
        ],
        [
         "368",
         "93",
         "31",
         "Languages within this instance are German or English only.",
         ""
        ],
        [
         "369",
         "93",
         "35",
         "If you want to create an NSFW-only account, consider another instance. We are probably not suitable for you.",
         ""
        ],
        [
         "370",
         "93",
         "37",
         "No advertisements. Bots only after talking with AND OK from the admins.",
         ""
        ],
        [
         "371",
         "93",
         "39",
         "Use content warnings for corresponding text/image content, many things that you take for granted can trigger others negatively.",
         ""
        ],
        [
         "577",
         "139",
         "68",
         "不参与三次元键政，包括转发 / Avoid real-world politics.",
         ""
        ],
        [
         "578",
         "139",
         "70",
         "NSFW 图片，须标记为 “敏感内容” / Mark NSFW images as \"Sensitive\".",
         ""
        ],
        [
         "579",
         "139",
         "71",
         "NSFW 内容，使用 “CW” 功能折叠 / Fold NSFW content with \"CW\".",
         ""
        ],
        [
         "580",
         "139",
         "73",
         "尊重他人，勿引战，勿发表攻击性言论 / Be respectful, no trolling or aggression.",
         ""
        ],
        [
         "581",
         "139",
         "74",
         "注册审核请回答下列问题： / To complete your registration, please answer the following questions:",
         ""
        ],
        [
         "582",
         "139",
         "75",
         "① 为什么注册呜呜站？/ Why do you want to register on this instance?",
         ""
        ],
        [
         "583",
         "139",
         "76",
         "② 简答 ACGN 的含义？/ What does ACGN stand for?",
         ""
        ],
        [
         "584",
         "139",
         "77",
         "③ 同意呜呜站的社区规则？/ Do you agree with the community rules of this instance?",
         ""
        ],
        [
         "585",
         "139",
         "78",
         "🌸 缺项或错误将被拒绝 ... / Incomplete or nonsensical responses will result in rejection ...",
         ""
        ],
        [
         "586",
         "139",
         "79",
         "详细社区规则见： / For detailed community rules, please see:",
         ""
        ],
        [
         "587",
         "139",
         "82",
         "使用本站代表您同意了这些规则与政策，注册前请务必仔细阅读！/ By using this instance, you agree to these rules and policies. Please be sure to read them carefully before registering!",
         ""
        ]
       ],
       "shape": {
        "columns": 4,
        "rows": 27
       }
      },
      "text/html": [
       "<div>\n",
       "<style scoped>\n",
       "    .dataframe tbody tr th:only-of-type {\n",
       "        vertical-align: middle;\n",
       "    }\n",
       "\n",
       "    .dataframe tbody tr th {\n",
       "        vertical-align: top;\n",
       "    }\n",
       "\n",
       "    .dataframe thead th {\n",
       "        text-align: right;\n",
       "    }\n",
       "</style>\n",
       "<table border=\"1\" class=\"dataframe\">\n",
       "  <thead>\n",
       "    <tr style=\"text-align: right;\">\n",
       "      <th></th>\n",
       "      <th>server_id</th>\n",
       "      <th>rule_id</th>\n",
       "      <th>text</th>\n",
       "      <th>hint</th>\n",
       "    </tr>\n",
       "  </thead>\n",
       "  <tbody>\n",
       "    <tr>\n",
       "      <th>143</th>\n",
       "      <td>31</td>\n",
       "      <td>12</td>\n",
       "      <td>Treat others with respect</td>\n",
       "      <td>Avoid any form of insult, bullying, or discrim...</td>\n",
       "    </tr>\n",
       "    <tr>\n",
       "      <th>144</th>\n",
       "      <td>31</td>\n",
       "      <td>15</td>\n",
       "      <td>Comply with applicable law</td>\n",
       "      <td>Do not publish any illegal content.</td>\n",
       "    </tr>\n",
       "    <tr>\n",
       "      <th>145</th>\n",
       "      <td>31</td>\n",
       "      <td>16</td>\n",
       "      <td>Avoid misinformation</td>\n",
       "      <td>Do not share false or misleading information.</td>\n",
       "    </tr>\n",
       "    <tr>\n",
       "      <th>146</th>\n",
       "      <td>31</td>\n",
       "      <td>19</td>\n",
       "      <td>Mark sensitive content (CW)</td>\n",
       "      <td>Please mark any content that may contain commo...</td>\n",
       "    </tr>\n",
       "    <tr>\n",
       "      <th>147</th>\n",
       "      <td>31</td>\n",
       "      <td>20</td>\n",
       "      <td>You must be older than 16 years</td>\n",
       "      <td>According to European law, you must be at leas...</td>\n",
       "    </tr>\n",
       "    <tr>\n",
       "      <th>152</th>\n",
       "      <td>33</td>\n",
       "      <td>3</td>\n",
       "      <td>No al machismo</td>\n",
       "      <td></td>\n",
       "    </tr>\n",
       "    <tr>\n",
       "      <th>153</th>\n",
       "      <td>33</td>\n",
       "      <td>9</td>\n",
       "      <td>No ai bot*</td>\n",
       "      <td>* in generale è una regola da tenere presente,...</td>\n",
       "    </tr>\n",
       "    <tr>\n",
       "      <th>363</th>\n",
       "      <td>93</td>\n",
       "      <td>21</td>\n",
       "      <td>Don't be an asshole. You have an opinion? That...</td>\n",
       "      <td></td>\n",
       "    </tr>\n",
       "    <tr>\n",
       "      <th>364</th>\n",
       "      <td>93</td>\n",
       "      <td>23</td>\n",
       "      <td>Harassment, stalking, doxxing, transmisogyny, ...</td>\n",
       "      <td></td>\n",
       "    </tr>\n",
       "    <tr>\n",
       "      <th>365</th>\n",
       "      <td>93</td>\n",
       "      <td>25</td>\n",
       "      <td>Violent nationalist propaganda, Nazi symbolism...</td>\n",
       "      <td></td>\n",
       "    </tr>\n",
       "    <tr>\n",
       "      <th>366</th>\n",
       "      <td>93</td>\n",
       "      <td>27</td>\n",
       "      <td>No calls for violence.</td>\n",
       "      <td></td>\n",
       "    </tr>\n",
       "    <tr>\n",
       "      <th>367</th>\n",
       "      <td>93</td>\n",
       "      <td>29</td>\n",
       "      <td>Content that is illegal in Germany, sexual con...</td>\n",
       "      <td></td>\n",
       "    </tr>\n",
       "    <tr>\n",
       "      <th>368</th>\n",
       "      <td>93</td>\n",
       "      <td>31</td>\n",
       "      <td>Languages within this instance are German or E...</td>\n",
       "      <td></td>\n",
       "    </tr>\n",
       "    <tr>\n",
       "      <th>369</th>\n",
       "      <td>93</td>\n",
       "      <td>35</td>\n",
       "      <td>If you want to create an NSFW-only account, co...</td>\n",
       "      <td></td>\n",
       "    </tr>\n",
       "    <tr>\n",
       "      <th>370</th>\n",
       "      <td>93</td>\n",
       "      <td>37</td>\n",
       "      <td>No advertisements. Bots only after talking wit...</td>\n",
       "      <td></td>\n",
       "    </tr>\n",
       "    <tr>\n",
       "      <th>371</th>\n",
       "      <td>93</td>\n",
       "      <td>39</td>\n",
       "      <td>Use content warnings for corresponding text/im...</td>\n",
       "      <td></td>\n",
       "    </tr>\n",
       "    <tr>\n",
       "      <th>577</th>\n",
       "      <td>139</td>\n",
       "      <td>68</td>\n",
       "      <td>不参与三次元键政，包括转发 / Avoid real-world politics.</td>\n",
       "      <td></td>\n",
       "    </tr>\n",
       "    <tr>\n",
       "      <th>578</th>\n",
       "      <td>139</td>\n",
       "      <td>70</td>\n",
       "      <td>NSFW 图片，须标记为 “敏感内容” / Mark NSFW images as \"Sen...</td>\n",
       "      <td></td>\n",
       "    </tr>\n",
       "    <tr>\n",
       "      <th>579</th>\n",
       "      <td>139</td>\n",
       "      <td>71</td>\n",
       "      <td>NSFW 内容，使用 “CW” 功能折叠 / Fold NSFW content with ...</td>\n",
       "      <td></td>\n",
       "    </tr>\n",
       "    <tr>\n",
       "      <th>580</th>\n",
       "      <td>139</td>\n",
       "      <td>73</td>\n",
       "      <td>尊重他人，勿引战，勿发表攻击性言论 / Be respectful, no trolling...</td>\n",
       "      <td></td>\n",
       "    </tr>\n",
       "    <tr>\n",
       "      <th>581</th>\n",
       "      <td>139</td>\n",
       "      <td>74</td>\n",
       "      <td>注册审核请回答下列问题： / To complete your registration, ...</td>\n",
       "      <td></td>\n",
       "    </tr>\n",
       "    <tr>\n",
       "      <th>582</th>\n",
       "      <td>139</td>\n",
       "      <td>75</td>\n",
       "      <td>① 为什么注册呜呜站？/ Why do you want to register on th...</td>\n",
       "      <td></td>\n",
       "    </tr>\n",
       "    <tr>\n",
       "      <th>583</th>\n",
       "      <td>139</td>\n",
       "      <td>76</td>\n",
       "      <td>② 简答 ACGN 的含义？/ What does ACGN stand for?</td>\n",
       "      <td></td>\n",
       "    </tr>\n",
       "    <tr>\n",
       "      <th>584</th>\n",
       "      <td>139</td>\n",
       "      <td>77</td>\n",
       "      <td>③ 同意呜呜站的社区规则？/ Do you agree with the community...</td>\n",
       "      <td></td>\n",
       "    </tr>\n",
       "    <tr>\n",
       "      <th>585</th>\n",
       "      <td>139</td>\n",
       "      <td>78</td>\n",
       "      <td>🌸 缺项或错误将被拒绝 ... / Incomplete or nonsensical re...</td>\n",
       "      <td></td>\n",
       "    </tr>\n",
       "    <tr>\n",
       "      <th>586</th>\n",
       "      <td>139</td>\n",
       "      <td>79</td>\n",
       "      <td>详细社区规则见： / For detailed community rules, pleas...</td>\n",
       "      <td></td>\n",
       "    </tr>\n",
       "    <tr>\n",
       "      <th>587</th>\n",
       "      <td>139</td>\n",
       "      <td>82</td>\n",
       "      <td>使用本站代表您同意了这些规则与政策，注册前请务必仔细阅读！/ By using this i...</td>\n",
       "      <td></td>\n",
       "    </tr>\n",
       "  </tbody>\n",
       "</table>\n",
       "</div>"
      ],
      "text/plain": [
       "     server_id rule_id                                               text  \\\n",
       "143         31      12                          Treat others with respect   \n",
       "144         31      15                         Comply with applicable law   \n",
       "145         31      16                               Avoid misinformation   \n",
       "146         31      19                        Mark sensitive content (CW)   \n",
       "147         31      20                    You must be older than 16 years   \n",
       "152         33       3                                     No al machismo   \n",
       "153         33       9                                         No ai bot*   \n",
       "363         93      21  Don't be an asshole. You have an opinion? That...   \n",
       "364         93      23  Harassment, stalking, doxxing, transmisogyny, ...   \n",
       "365         93      25  Violent nationalist propaganda, Nazi symbolism...   \n",
       "366         93      27                             No calls for violence.   \n",
       "367         93      29  Content that is illegal in Germany, sexual con...   \n",
       "368         93      31  Languages within this instance are German or E...   \n",
       "369         93      35  If you want to create an NSFW-only account, co...   \n",
       "370         93      37  No advertisements. Bots only after talking wit...   \n",
       "371         93      39  Use content warnings for corresponding text/im...   \n",
       "577        139      68         不参与三次元键政，包括转发 / Avoid real-world politics.   \n",
       "578        139      70  NSFW 图片，须标记为 “敏感内容” / Mark NSFW images as \"Sen...   \n",
       "579        139      71  NSFW 内容，使用 “CW” 功能折叠 / Fold NSFW content with ...   \n",
       "580        139      73  尊重他人，勿引战，勿发表攻击性言论 / Be respectful, no trolling...   \n",
       "581        139      74  注册审核请回答下列问题： / To complete your registration, ...   \n",
       "582        139      75  ① 为什么注册呜呜站？/ Why do you want to register on th...   \n",
       "583        139      76          ② 简答 ACGN 的含义？/ What does ACGN stand for?   \n",
       "584        139      77  ③ 同意呜呜站的社区规则？/ Do you agree with the community...   \n",
       "585        139      78  🌸 缺项或错误将被拒绝 ... / Incomplete or nonsensical re...   \n",
       "586        139      79  详细社区规则见： / For detailed community rules, pleas...   \n",
       "587        139      82  使用本站代表您同意了这些规则与政策，注册前请务必仔细阅读！/ By using this i...   \n",
       "\n",
       "                                                  hint  \n",
       "143  Avoid any form of insult, bullying, or discrim...  \n",
       "144                Do not publish any illegal content.  \n",
       "145      Do not share false or misleading information.  \n",
       "146  Please mark any content that may contain commo...  \n",
       "147  According to European law, you must be at leas...  \n",
       "152                                                     \n",
       "153  * in generale è una regola da tenere presente,...  \n",
       "363                                                     \n",
       "364                                                     \n",
       "365                                                     \n",
       "366                                                     \n",
       "367                                                     \n",
       "368                                                     \n",
       "369                                                     \n",
       "370                                                     \n",
       "371                                                     \n",
       "577                                                     \n",
       "578                                                     \n",
       "579                                                     \n",
       "580                                                     \n",
       "581                                                     \n",
       "582                                                     \n",
       "583                                                     \n",
       "584                                                     \n",
       "585                                                     \n",
       "586                                                     \n",
       "587                                                     "
      ]
     },
     "execution_count": 235,
     "metadata": {},
     "output_type": "execute_result"
    }
   ],
   "source": [
    "# Detect the language of the description among the supposedly engish servers\n",
    "server_descr_english = df_mastodon_en[df_mastodon_en['description'].apply(utils.is_english)].index\n",
    "server_descr_not_english = df_mastodon_en[~df_mastodon_en['description'].apply(utils.is_english)].index\n",
    "\n",
    "# Count them\n",
    "print(f\"{len(server_descr_english)} servers have their description in english;\")\n",
    "print(f\"{len(server_descr_not_english)} servers have their description in another language.\")\n",
    "\n",
    "# Display the rules of the servers that have their description in another language than english\n",
    "suspicious_server_ids = [serv_id for serv_id in df_english.server_id.unique() if serv_id in server_descr_not_english]\n",
    "df_english[df_english['server_id'].isin(suspicious_server_ids)]"
   ]
  },
  {
   "cell_type": "code",
   "execution_count": 236,
   "id": "8f586748",
   "metadata": {},
   "outputs": [
    {
     "data": {
      "application/vnd.microsoft.datawrangler.viewer.v0+json": {
       "columns": [
        {
         "name": "index",
         "rawType": "int64",
         "type": "integer"
        },
        {
         "name": "server_id",
         "rawType": "int64",
         "type": "integer"
        },
        {
         "name": "rule_id",
         "rawType": "object",
         "type": "string"
        },
        {
         "name": "text",
         "rawType": "object",
         "type": "string"
        },
        {
         "name": "hint",
         "rawType": "object",
         "type": "unknown"
        }
       ],
       "ref": "efb3f092-d0e8-4007-9a65-c8b34729f351",
       "rows": [
        [
         "0",
         "0",
         "1",
         "Sexually explicit or violent media must be marked as sensitive or with a content warning",
         "This includes content that is particularly provocative even if it may not show specific body parts, as well as dead bodies, bloody injuries, and other gore. Particularly obscene content may be prohibited entirely. Profile pictures and header images may not contain sexually explicit or violent media."
        ],
        [
         "1",
         "0",
         "3",
         "No incitement of violence or promotion of violent ideologies",
         "Calling for people or groups to be assassinated, murdered, or attacked physically is strictly prohibited. Support for violent groups or events is prohibited."
        ],
        [
         "2",
         "0",
         "4",
         "No harassment, block evasion, dogpiling, or doxxing of others",
         "Repeat attempts to communicate with users who have blocked you or creation of accounts solely to harass or insult individuals is strictly prohibited. Coordinated activity to attack other users is prohibited. Posting of private personal information about others is prohibited."
        ],
        [
         "3",
         "0",
         "7",
         "Do not share information widely-known to be false and misleading",
         "False and misleading information and links from low-quality sources may not be posted, especially if they are likely to mislead or confuse others or endanger their safety."
        ],
        [
         "4",
         "0",
         "1008",
         "Content created by others must be attributed, and use of generative AI must be disclosed",
         "Content created by others must clearly provide a reference to the author, creator, or source. For adult content, this should include performers. Accounts may not solely post AI-generated content."
        ],
        [
         "5",
         "1",
         "2",
         "Sexually explicit or violent media must be marked as sensitive when posting.",
         ""
        ],
        [
         "6",
         "1",
         "5",
         "No incitement of violence or promotion of violent ideologies.",
         ""
        ],
        [
         "7",
         "1",
         "6",
         "No harassment, dogpiling or doxxing of other users.",
         ""
        ],
        [
         "8",
         "1",
         "11",
         "No spreading of fake news or misinformation",
         ""
        ],
        [
         "9",
         "1",
         "12",
         "Content created by others must be attributed, and use of AI must be disclosed. Profiles that only post AI-generated content will not be tolerated.",
         ""
        ],
        [
         "10",
         "2",
         "1",
         "Do unto others as you think they would want done to them.  ",
         ""
        ],
        [
         "11",
         "2",
         "2",
         "Mark sensitive content with a content warning.  ",
         ""
        ],
        [
         "12",
         "2",
         "3",
         "Gratuitous obscenity that serves no practical benefit to a discussion is not permitted.",
         ""
        ],
        [
         "13",
         "2",
         "4",
         "Illegal content such as child pornography, unsurprisingly, is not permitted",
         ""
        ],
        [
         "14",
         "2",
         "5",
         "Spam is not permitted, this includes creating spam accounts that only serve to provide profile links or advertise products and services. ",
         ""
        ],
        [
         "15",
         "2",
         "6",
         "Hate speech and abusive or threatening behavior is not permitted, specifically that which directed at any gender, nationality, religion, race, age, pizza topping preference, or sexual identity.  One can hate on systemd all day long here.",
         ""
        ],
        [
         "16",
         "2",
         "7",
         "Lack of a specific rule against a certain behavior does not indicate acceptance of that behavior.  Each of us has a limited amount of time in this world.  Don't be a jerk.  ",
         ""
        ],
        [
         "17",
         "2",
         "8",
         "Violating one or more of these rules may result in an immediate, permanent ban without notice or warning.  ",
         ""
        ],
        [
         "18",
         "2",
         "9",
         "You may not impersonate a person or brand without a clear indication the account is unofficial and/or a parody. Parody accounts are permitted, as are legitimate brand accounts. ",
         ""
        ],
        [
         "19",
         "2",
         "11",
         "No attacks against (or from) the instance.\r\n\r\nYou may not do anything which may impact confidentiality, integrity or availability of Infosec.Exchange, the users of the service or their data.\r\nFor more details see https://wiki.infosec.exchange/rules/start",
         ""
        ],
        [
         "20",
         "2",
         "12",
         "No doxing (aka doxxing) or disclosing personal information without consent and as a means of harassing or causing others to harass another person.",
         ""
        ],
        [
         "21",
         "2",
         "13",
         "No harassment in the form of continued engagement after a person has requested contact to stop",
         ""
        ],
        [
         "22",
         "2",
         "14",
         "Automated posting:\r\n- accounts that post >50% using automation must be labeled as a “bot” in the user profile to help provide a visual indicator to visitors\r\n- automated posts must be limited to one post per hour/24 per day with post visibility set to “public”. There is no limit on “unlisted” posts.",
         ""
        ],
        [
         "23",
         "2",
         "15",
         "Soliciting or inciting violence or harm against a person or segment of people is not permitted. ",
         ""
        ],
        [
         "24",
         "3",
         "9",
         "No discrimination, including (but not limited to) racism, sexism, homophobia or transphobia (including targeted misgendering, deadnaming, or promotion of so-called 'conversion therapy').",
         ""
        ],
        [
         "25",
         "3",
         "10",
         "No explicit (NSFW) content without content warnings and/or sensitive media markers. Explicit content must not be used in user avatars or header images.",
         ""
        ],
        [
         "26",
         "3",
         "17",
         "No harassment of other users on this or other servers.",
         ""
        ],
        [
         "27",
         "3",
         "18",
         "No content illegal in the following countries: United Kingdom, Germany",
         ""
        ],
        [
         "28",
         "3",
         "19",
         "No incitement of violence or promotion of violent ideologies.",
         ""
        ],
        [
         "29",
         "3",
         "20",
         "No disinformation regarding public health issues or political/military campaigns.",
         ""
        ],
        [
         "30",
         "3",
         "21",
         "No spam. This includes commercial advertising, promotion of services, and SEO.",
         ""
        ],
        [
         "31",
         "3",
         "22",
         "No impersonation of other individuals, public figures or organisations, unless clearly marked as a parody.",
         ""
        ],
        [
         "32",
         "3",
         "23",
         "All automated (bot) accounts must enable the bot flag in their account preferences, respect #nobot markers, and post as unlisted unless making less than one post per hour.",
         ""
        ],
        [
         "33",
         "5",
         "1",
         "Don't be a dick.",
         ""
        ],
        [
         "34",
         "5",
         "6",
         "No white supremacy.",
         ""
        ],
        [
         "35",
         "5",
         "9",
         "No nationalism.",
         ""
        ],
        [
         "36",
         "5",
         "14",
         "Safe Space: LGTBQIA+",
         ""
        ],
        [
         "37",
         "7",
         "1",
         "Sexually explicit or violent media must be marked as sensitive when posting",
         ""
        ],
        [
         "38",
         "7",
         "3",
         "No incitement of violence or promotion of violent ideologies",
         ""
        ],
        [
         "39",
         "7",
         "4",
         "No harassment, dogpiling or doxxing of other users",
         ""
        ],
        [
         "40",
         "7",
         "6",
         "Do not share intentionally false or misleading information",
         ""
        ],
        [
         "41",
         "8",
         "6",
         "Violent media must be marked as sensitive when posting.",
         ""
        ],
        [
         "42",
         "8",
         "8",
         "No incitement of violence or promotion of violent ideologies.",
         ""
        ],
        [
         "43",
         "8",
         "9",
         "No harassment, dogpiling or doxxing of other users.",
         ""
        ],
        [
         "44",
         "8",
         "11",
         "Do not share false or misleading information that may lead to physical harm.",
         ""
        ],
        [
         "45",
         "8",
         "13",
         "No spam, no direct advertising selling products or services, no aggressive promotion. If you promote your website, blog, etc do it responsibly and use a description and tags.",
         ""
        ],
        [
         "46",
         "8",
         "14",
         "Bots must be marked as Bot in their profile and bots created after Dec 31st 2024 must post in silent mode",
         ""
        ],
        [
         "47",
         "8",
         "15",
         "Sexually explicit content is not allowed",
         ""
        ],
        [
         "48",
         "8",
         "16",
         "Agree to Code of Conduct (see about section)",
         ""
        ],
        [
         "49",
         "10",
         "1",
         "Be nice to each other",
         ""
        ]
       ],
       "shape": {
        "columns": 4,
        "rows": 585
       }
      },
      "text/html": [
       "<div>\n",
       "<style scoped>\n",
       "    .dataframe tbody tr th:only-of-type {\n",
       "        vertical-align: middle;\n",
       "    }\n",
       "\n",
       "    .dataframe tbody tr th {\n",
       "        vertical-align: top;\n",
       "    }\n",
       "\n",
       "    .dataframe thead th {\n",
       "        text-align: right;\n",
       "    }\n",
       "</style>\n",
       "<table border=\"1\" class=\"dataframe\">\n",
       "  <thead>\n",
       "    <tr style=\"text-align: right;\">\n",
       "      <th></th>\n",
       "      <th>server_id</th>\n",
       "      <th>rule_id</th>\n",
       "      <th>text</th>\n",
       "      <th>hint</th>\n",
       "    </tr>\n",
       "  </thead>\n",
       "  <tbody>\n",
       "    <tr>\n",
       "      <th>0</th>\n",
       "      <td>0</td>\n",
       "      <td>1</td>\n",
       "      <td>Sexually explicit or violent media must be mar...</td>\n",
       "      <td>This includes content that is particularly pro...</td>\n",
       "    </tr>\n",
       "    <tr>\n",
       "      <th>1</th>\n",
       "      <td>0</td>\n",
       "      <td>3</td>\n",
       "      <td>No incitement of violence or promotion of viol...</td>\n",
       "      <td>Calling for people or groups to be assassinate...</td>\n",
       "    </tr>\n",
       "    <tr>\n",
       "      <th>2</th>\n",
       "      <td>0</td>\n",
       "      <td>4</td>\n",
       "      <td>No harassment, block evasion, dogpiling, or do...</td>\n",
       "      <td>Repeat attempts to communicate with users who ...</td>\n",
       "    </tr>\n",
       "    <tr>\n",
       "      <th>3</th>\n",
       "      <td>0</td>\n",
       "      <td>7</td>\n",
       "      <td>Do not share information widely-known to be fa...</td>\n",
       "      <td>False and misleading information and links fro...</td>\n",
       "    </tr>\n",
       "    <tr>\n",
       "      <th>4</th>\n",
       "      <td>0</td>\n",
       "      <td>1008</td>\n",
       "      <td>Content created by others must be attributed, ...</td>\n",
       "      <td>Content created by others must clearly provide...</td>\n",
       "    </tr>\n",
       "    <tr>\n",
       "      <th>...</th>\n",
       "      <td>...</td>\n",
       "      <td>...</td>\n",
       "      <td>...</td>\n",
       "      <td>...</td>\n",
       "    </tr>\n",
       "    <tr>\n",
       "      <th>583</th>\n",
       "      <td>139</td>\n",
       "      <td>76</td>\n",
       "      <td>② 简答 ACGN 的含义？/ What does ACGN stand for?</td>\n",
       "      <td></td>\n",
       "    </tr>\n",
       "    <tr>\n",
       "      <th>584</th>\n",
       "      <td>139</td>\n",
       "      <td>77</td>\n",
       "      <td>③ 同意呜呜站的社区规则？/ Do you agree with the community...</td>\n",
       "      <td></td>\n",
       "    </tr>\n",
       "    <tr>\n",
       "      <th>585</th>\n",
       "      <td>139</td>\n",
       "      <td>78</td>\n",
       "      <td>🌸 缺项或错误将被拒绝 ... / Incomplete or nonsensical re...</td>\n",
       "      <td></td>\n",
       "    </tr>\n",
       "    <tr>\n",
       "      <th>586</th>\n",
       "      <td>139</td>\n",
       "      <td>79</td>\n",
       "      <td>详细社区规则见： / For detailed community rules, pleas...</td>\n",
       "      <td></td>\n",
       "    </tr>\n",
       "    <tr>\n",
       "      <th>587</th>\n",
       "      <td>139</td>\n",
       "      <td>82</td>\n",
       "      <td>使用本站代表您同意了这些规则与政策，注册前请务必仔细阅读！/ By using this i...</td>\n",
       "      <td></td>\n",
       "    </tr>\n",
       "  </tbody>\n",
       "</table>\n",
       "<p>585 rows × 4 columns</p>\n",
       "</div>"
      ],
      "text/plain": [
       "     server_id rule_id                                               text  \\\n",
       "0            0       1  Sexually explicit or violent media must be mar...   \n",
       "1            0       3  No incitement of violence or promotion of viol...   \n",
       "2            0       4  No harassment, block evasion, dogpiling, or do...   \n",
       "3            0       7  Do not share information widely-known to be fa...   \n",
       "4            0    1008  Content created by others must be attributed, ...   \n",
       "..         ...     ...                                                ...   \n",
       "583        139      76          ② 简答 ACGN 的含义？/ What does ACGN stand for?   \n",
       "584        139      77  ③ 同意呜呜站的社区规则？/ Do you agree with the community...   \n",
       "585        139      78  🌸 缺项或错误将被拒绝 ... / Incomplete or nonsensical re...   \n",
       "586        139      79  详细社区规则见： / For detailed community rules, pleas...   \n",
       "587        139      82  使用本站代表您同意了这些规则与政策，注册前请务必仔细阅读！/ By using this i...   \n",
       "\n",
       "                                                  hint  \n",
       "0    This includes content that is particularly pro...  \n",
       "1    Calling for people or groups to be assassinate...  \n",
       "2    Repeat attempts to communicate with users who ...  \n",
       "3    False and misleading information and links fro...  \n",
       "4    Content created by others must clearly provide...  \n",
       "..                                                 ...  \n",
       "583                                                     \n",
       "584                                                     \n",
       "585                                                     \n",
       "586                                                     \n",
       "587                                                     \n",
       "\n",
       "[585 rows x 4 columns]"
      ]
     },
     "execution_count": 236,
     "metadata": {},
     "output_type": "execute_result"
    }
   ],
   "source": [
    "# We decide to remove 4 servers based on their rules language\n",
    "manually_excluded = [52, 180, 230, 329] #manually inspected their rules and decide to remove the server since most of their rules contained words not in english.\n",
    "df_english = df_english[~df_english['server_id'].isin(manually_excluded)]\n",
    "df_english"
   ]
  },
  {
   "cell_type": "code",
   "execution_count": 237,
   "id": "3af2e831",
   "metadata": {},
   "outputs": [
    {
     "data": {
      "application/vnd.microsoft.datawrangler.viewer.v0+json": {
       "columns": [
        {
         "name": "index",
         "rawType": "int64",
         "type": "integer"
        },
        {
         "name": "server_id",
         "rawType": "int64",
         "type": "integer"
        },
        {
         "name": "rule_id",
         "rawType": "object",
         "type": "string"
        },
        {
         "name": "text",
         "rawType": "object",
         "type": "unknown"
        },
        {
         "name": "hint",
         "rawType": "object",
         "type": "unknown"
        },
        {
         "name": "strict_rule",
         "rawType": "bool",
         "type": "boolean"
        }
       ],
       "ref": "df175c96-f1f1-4ae2-b9e7-0643cdde10c0",
       "rows": [
        [
         "0",
         "0",
         "1",
         "['sexually', 'explicit', 'or', 'violent', 'media', 'must', 'be', 'marked', 'as', 'sensitive', 'or', 'with', 'a', 'content', 'warning']",
         "['this', 'includes', 'content', 'that', 'is', 'particularly', 'provocative', 'even', 'if', 'it', 'may', 'not', 'show', 'specific', 'body', 'parts', 'as', 'well', 'as', 'dead', 'bodies', 'bloody', 'injuries', 'and', 'other', 'gore', 'particularly', 'obscene', 'content', 'may', 'be', 'prohibited', 'entirely', 'profile', 'pictures', 'and', 'header', 'images', 'may', 'not', 'contain', 'sexually', 'explicit', 'or', 'violent', 'media']",
         "False"
        ],
        [
         "1",
         "0",
         "2",
         "['no', 'racism', 'sexism', 'homophobia', 'transphobia', 'ableism', 'xenophobia', 'or', 'casteism']",
         "['transphobic', 'behavior', 'such', 'as', 'intentional', 'misgendering', 'and', 'deadnaming', 'is', 'strictly', 'prohibited', 'promotion', 'of', 'conversion', 'therapy', 'is', 'strictly', 'prohibited', 'criticism', 'of', 'governments', 'and', 'religions', 'is', 'permissible', 'unless', 'being', 'used', 'as', 'a', 'proxy', 'for', 'discrimination']",
         "True"
        ],
        [
         "2",
         "0",
         "3",
         "['no', 'incitement', 'of', 'violence', 'or', 'promotion', 'of', 'violent', 'ideologies']",
         "['calling', 'for', 'people', 'or', 'groups', 'to', 'be', 'assassinated', 'murdered', 'or', 'attacked', 'physically', 'is', 'strictly', 'prohibited', 'support', 'for', 'violent', 'groups', 'or', 'events', 'is', 'prohibited']",
         "True"
        ],
        [
         "3",
         "0",
         "4",
         "['no', 'harassment', 'block', 'evasion', 'dogpiling', 'or', 'doxxing', 'of', 'others']",
         "['repeat', 'attempts', 'to', 'communicate', 'with', 'users', 'who', 'have', 'blocked', 'you', 'or', 'creation', 'of', 'accounts', 'solely', 'to', 'harass', 'or', 'insult', 'individuals', 'is', 'strictly', 'prohibited', 'coordinated', 'activity', 'to', 'attack', 'other', 'users', 'is', 'prohibited', 'posting', 'of', 'private', 'personal', 'information', 'about', 'others', 'is', 'prohibited']",
         "True"
        ],
        [
         "4",
         "0",
         "7",
         "['do', 'not', 'share', 'information', 'widely', 'known', 'to', 'be', 'false', 'and', 'misleading']",
         "['false', 'and', 'misleading', 'information', 'and', 'links', 'from', 'low', 'quality', 'sources', 'may', 'not', 'be', 'posted', 'especially', 'if', 'they', 'are', 'likely', 'to', 'mislead', 'or', 'confuse', 'others', 'or', 'endanger', 'their', 'safety']",
         "False"
        ],
        [
         "5",
         "0",
         "1008",
         "['content', 'created', 'by', 'others', 'must', 'be', 'attributed', 'and', 'use', 'of', 'generative', 'ai', 'must', 'be', 'disclosed']",
         "['content', 'created', 'by', 'others', 'must', 'clearly', 'provide', 'a', 'reference', 'to', 'the', 'author', 'creator', 'or', 'source', 'for', 'adult', 'content', 'this', 'should', 'include', 'performers', 'accounts', 'may', 'not', 'solely', 'post', 'ai', 'generated', 'content']",
         "False"
        ],
        [
         "6",
         "1",
         "2",
         "['sexually', 'explicit', 'or', 'violent', 'media', 'must', 'be', 'marked', 'as', 'sensitive', 'when', 'posting']",
         "[]",
         "False"
        ],
        [
         "7",
         "1",
         "3",
         "['no', 'spam', 'or', 'advertising']",
         "[]",
         "True"
        ],
        [
         "8",
         "1",
         "4",
         "['no', 'racism', 'sexism', 'homophobia', 'transphobia', 'xenophobia', 'or', 'casteism']",
         "[]",
         "True"
        ],
        [
         "9",
         "1",
         "5",
         "['no', 'incitement', 'of', 'violence', 'or', 'promotion', 'of', 'violent', 'ideologies']",
         "[]",
         "True"
        ],
        [
         "10",
         "1",
         "6",
         "['no', 'harassment', 'dogpiling', 'or', 'doxxing', 'of', 'other', 'users']",
         "[]",
         "True"
        ],
        [
         "11",
         "1",
         "7",
         "['no', 'illegal', 'content']",
         "[]",
         "True"
        ],
        [
         "12",
         "1",
         "11",
         "['no', 'spreading', 'of', 'fake', 'news', 'or', 'misinformation']",
         "[]",
         "True"
        ],
        [
         "13",
         "1",
         "12",
         "['content', 'created', 'by', 'others', 'must', 'be', 'attributed', 'and', 'use', 'of', 'ai', 'must', 'be', 'disclosed', 'profiles', 'that', 'only', 'post', 'ai', 'generated', 'content', 'will', 'not', 'be', 'tolerated']",
         "[]",
         "False"
        ],
        [
         "14",
         "2",
         "1",
         "['do', 'unto', 'others', 'as', 'you', 'think', 'they', 'would', 'want', 'done', 'to', 'them']",
         "[]",
         "False"
        ],
        [
         "15",
         "2",
         "2",
         "['mark', 'sensitive', 'content', 'with', 'a', 'content', 'warning']",
         "[]",
         "False"
        ],
        [
         "16",
         "2",
         "3",
         "['gratuitous', 'obscenity', 'that', 'serves', 'no', 'practical', 'benefit', 'to', 'a', 'discussion', 'is', 'not', 'permitted']",
         "[]",
         "True"
        ],
        [
         "17",
         "2",
         "4",
         "['illegal', 'content', 'such', 'as', 'child', 'pornography', 'unsurprisingly', 'is', 'not', 'permitted']",
         "[]",
         "False"
        ],
        [
         "18",
         "2",
         "5",
         "['spam', 'is', 'not', 'permitted', 'this', 'includes', 'creating', 'spam', 'accounts', 'that', 'only', 'serve', 'to', 'provide', 'profile', 'links', 'or', 'advertise', 'products', 'and', 'services']",
         "[]",
         "False"
        ],
        [
         "19",
         "2",
         "6",
         "['hate', 'speech', 'and', 'abusive', 'or', 'threatening', 'behavior', 'is', 'not', 'permitted', 'specifically', 'that', 'which', 'directed', 'at', 'any', 'gender', 'nationality', 'religion', 'race', 'age', 'pizza', 'topping', 'preference', 'or', 'sexual', 'identity', 'one', 'can', 'hate', 'on', 'systemd', 'all', 'day', 'long', 'here']",
         "[]",
         "False"
        ],
        [
         "20",
         "2",
         "7",
         "['lack', 'of', 'a', 'specific', 'rule', 'against', 'a', 'certain', 'behavior', 'does', 'not', 'indicate', 'acceptance', 'of', 'that', 'behavior', 'each', 'of', 'us', 'has', 'a', 'limited', 'amount', 'of', 'time', 'in', 'this', 'world', 'don', 't', 'be', 'a', 'jerk']",
         "[]",
         "False"
        ],
        [
         "21",
         "2",
         "8",
         "['violating', 'one', 'or', 'more', 'of', 'these', 'rules', 'may', 'result', 'in', 'an', 'immediate', 'permanent', 'ban', 'without', 'notice', 'or', 'warning']",
         "[]",
         "False"
        ],
        [
         "22",
         "2",
         "9",
         "['you', 'may', 'not', 'impersonate', 'a', 'person', 'or', 'brand', 'without', 'a', 'clear', 'indication', 'the', 'account', 'is', 'unofficial', 'and', 'or', 'a', 'parody', 'parody', 'accounts', 'are', 'permitted', 'as', 'are', 'legitimate', 'brand', 'accounts']",
         "[]",
         "False"
        ],
        [
         "23",
         "2",
         "11",
         "['no', 'attacks', 'against', 'or', 'from', 'the', 'instance', 'you', 'may', 'not', 'do', 'anything', 'which', 'may', 'impact', 'confidentiality', 'integrity', 'or', 'availability', 'of', 'infosec', 'exchange', 'the', 'users', 'of', 'the', 'service', 'or', 'their', 'data', 'for', 'more', 'details', 'see', 'https', 'wiki', 'infosec', 'exchange', 'rules', 'start']",
         "[]",
         "True"
        ],
        [
         "24",
         "2",
         "12",
         "['no', 'doxing', 'aka', 'doxxing', 'or', 'disclosing', 'personal', 'information', 'without', 'consent', 'and', 'as', 'a', 'means', 'of', 'harassing', 'or', 'causing', 'others', 'to', 'harass', 'another', 'person']",
         "[]",
         "True"
        ],
        [
         "25",
         "2",
         "13",
         "['no', 'harassment', 'in', 'the', 'form', 'of', 'continued', 'engagement', 'after', 'a', 'person', 'has', 'requested', 'contact', 'to', 'stop']",
         "[]",
         "True"
        ],
        [
         "26",
         "2",
         "14",
         "['automated', 'posting', 'accounts', 'that', 'post', '50', 'using', 'automation', 'must', 'be', 'labeled', 'as', 'a', 'bot', 'in', 'the', 'user', 'profile', 'to', 'help', 'provide', 'a', 'visual', 'indicator', 'to', 'visitors', 'automated', 'posts', 'must', 'be', 'limited', 'to', 'one', 'post', 'per', 'hour', '24', 'per', 'day', 'with', 'post', 'visibility', 'set', 'to', 'public', 'there', 'is', 'no', 'limit', 'on', 'unlisted', 'posts']",
         "[]",
         "True"
        ],
        [
         "27",
         "2",
         "15",
         "['soliciting', 'or', 'inciting', 'violence', 'or', 'harm', 'against', 'a', 'person', 'or', 'segment', 'of', 'people', 'is', 'not', 'permitted']",
         "[]",
         "False"
        ],
        [
         "28",
         "3",
         "9",
         "['no', 'discrimination', 'including', 'but', 'not', 'limited', 'to', 'racism', 'sexism', 'homophobia', 'or', 'transphobia', 'including', 'targeted', 'misgendering', 'deadnaming', 'or', 'promotion', 'of', 'so', 'called', 'conversion', 'therapy']",
         "[]",
         "True"
        ],
        [
         "29",
         "3",
         "10",
         "['no', 'explicit', 'nsfw', 'content', 'without', 'content', 'warnings', 'and', 'or', 'sensitive', 'media', 'markers', 'explicit', 'content', 'must', 'not', 'be', 'used', 'in', 'user', 'avatars', 'or', 'header', 'images']",
         "[]",
         "True"
        ],
        [
         "30",
         "3",
         "17",
         "['no', 'harassment', 'of', 'other', 'users', 'on', 'this', 'or', 'other', 'servers']",
         "[]",
         "True"
        ],
        [
         "31",
         "3",
         "18",
         "['no', 'content', 'illegal', 'in', 'the', 'following', 'countries', 'united', 'kingdom', 'germany']",
         "[]",
         "True"
        ],
        [
         "32",
         "3",
         "19",
         "['no', 'incitement', 'of', 'violence', 'or', 'promotion', 'of', 'violent', 'ideologies']",
         "[]",
         "True"
        ],
        [
         "33",
         "3",
         "20",
         "['no', 'disinformation', 'regarding', 'public', 'health', 'issues', 'or', 'political', 'military', 'campaigns']",
         "[]",
         "True"
        ],
        [
         "34",
         "3",
         "21",
         "['no', 'spam', 'this', 'includes', 'commercial', 'advertising', 'promotion', 'of', 'services', 'and', 'seo']",
         "[]",
         "True"
        ],
        [
         "35",
         "3",
         "22",
         "['no', 'impersonation', 'of', 'other', 'individuals', 'public', 'figures', 'or', 'organisations', 'unless', 'clearly', 'marked', 'as', 'a', 'parody']",
         "[]",
         "True"
        ],
        [
         "36",
         "3",
         "23",
         "['all', 'automated', 'bot', 'accounts', 'must', 'enable', 'the', 'bot', 'flag', 'in', 'their', 'account', 'preferences', 'respect', 'nobot', 'markers', 'and', 'post', 'as', 'unlisted', 'unless', 'making', 'less', 'than', 'one', 'post', 'per', 'hour']",
         "[]",
         "False"
        ],
        [
         "37",
         "5",
         "1",
         "['don', 't', 'be', 'a', 'dick']",
         "[]",
         "False"
        ],
        [
         "38",
         "5",
         "2",
         "['no', 'hacking']",
         "[]",
         "True"
        ],
        [
         "39",
         "5",
         "3",
         "['no', 'violence']",
         "[]",
         "True"
        ],
        [
         "40",
         "5",
         "4",
         "['no', 'fascism']",
         "[]",
         "True"
        ],
        [
         "41",
         "5",
         "5",
         "['no', 'colonialism']",
         "[]",
         "True"
        ],
        [
         "42",
         "5",
         "6",
         "['no', 'white', 'supremacy']",
         "[]",
         "True"
        ],
        [
         "43",
         "5",
         "7",
         "['no', 'religious', 'extremism']",
         "[]",
         "True"
        ],
        [
         "44",
         "5",
         "9",
         "['no', 'nationalism']",
         "[]",
         "True"
        ],
        [
         "45",
         "5",
         "11",
         "['no', 'racism']",
         "[]",
         "True"
        ],
        [
         "46",
         "5",
         "12",
         "['no', 'homophobia']",
         "[]",
         "True"
        ],
        [
         "47",
         "5",
         "13",
         "['no', 'transphobia']",
         "[]",
         "True"
        ],
        [
         "48",
         "5",
         "14",
         "['safe', 'space', 'lgtbqia']",
         "[]",
         "False"
        ],
        [
         "49",
         "5",
         "15",
         "['safe', 'space', 'neurodivergent', 'adhd', 'autism', 'etc']",
         "[]",
         "False"
        ]
       ],
       "shape": {
        "columns": 5,
        "rows": 807
       }
      },
      "text/html": [
       "<div>\n",
       "<style scoped>\n",
       "    .dataframe tbody tr th:only-of-type {\n",
       "        vertical-align: middle;\n",
       "    }\n",
       "\n",
       "    .dataframe tbody tr th {\n",
       "        vertical-align: top;\n",
       "    }\n",
       "\n",
       "    .dataframe thead th {\n",
       "        text-align: right;\n",
       "    }\n",
       "</style>\n",
       "<table border=\"1\" class=\"dataframe\">\n",
       "  <thead>\n",
       "    <tr style=\"text-align: right;\">\n",
       "      <th></th>\n",
       "      <th>server_id</th>\n",
       "      <th>rule_id</th>\n",
       "      <th>text</th>\n",
       "      <th>hint</th>\n",
       "      <th>strict_rule</th>\n",
       "    </tr>\n",
       "  </thead>\n",
       "  <tbody>\n",
       "    <tr>\n",
       "      <th>0</th>\n",
       "      <td>0</td>\n",
       "      <td>1</td>\n",
       "      <td>[sexually, explicit, or, violent, media, must,...</td>\n",
       "      <td>[this, includes, content, that, is, particular...</td>\n",
       "      <td>False</td>\n",
       "    </tr>\n",
       "    <tr>\n",
       "      <th>1</th>\n",
       "      <td>0</td>\n",
       "      <td>2</td>\n",
       "      <td>[no, racism, sexism, homophobia, transphobia, ...</td>\n",
       "      <td>[transphobic, behavior, such, as, intentional,...</td>\n",
       "      <td>True</td>\n",
       "    </tr>\n",
       "    <tr>\n",
       "      <th>2</th>\n",
       "      <td>0</td>\n",
       "      <td>3</td>\n",
       "      <td>[no, incitement, of, violence, or, promotion, ...</td>\n",
       "      <td>[calling, for, people, or, groups, to, be, ass...</td>\n",
       "      <td>True</td>\n",
       "    </tr>\n",
       "    <tr>\n",
       "      <th>3</th>\n",
       "      <td>0</td>\n",
       "      <td>4</td>\n",
       "      <td>[no, harassment, block, evasion, dogpiling, or...</td>\n",
       "      <td>[repeat, attempts, to, communicate, with, user...</td>\n",
       "      <td>True</td>\n",
       "    </tr>\n",
       "    <tr>\n",
       "      <th>4</th>\n",
       "      <td>0</td>\n",
       "      <td>7</td>\n",
       "      <td>[do, not, share, information, widely, known, t...</td>\n",
       "      <td>[false, and, misleading, information, and, lin...</td>\n",
       "      <td>False</td>\n",
       "    </tr>\n",
       "    <tr>\n",
       "      <th>...</th>\n",
       "      <td>...</td>\n",
       "      <td>...</td>\n",
       "      <td>...</td>\n",
       "      <td>...</td>\n",
       "      <td>...</td>\n",
       "    </tr>\n",
       "    <tr>\n",
       "      <th>803</th>\n",
       "      <td>139</td>\n",
       "      <td>77</td>\n",
       "      <td>[do, you, agree, with, the, community, rules, ...</td>\n",
       "      <td>[]</td>\n",
       "      <td>False</td>\n",
       "    </tr>\n",
       "    <tr>\n",
       "      <th>804</th>\n",
       "      <td>139</td>\n",
       "      <td>78</td>\n",
       "      <td>[incomplete, or, nonsensical, responses, will,...</td>\n",
       "      <td>[]</td>\n",
       "      <td>False</td>\n",
       "    </tr>\n",
       "    <tr>\n",
       "      <th>805</th>\n",
       "      <td>139</td>\n",
       "      <td>79</td>\n",
       "      <td>[for, detailed, community, rules, please, see]</td>\n",
       "      <td>[]</td>\n",
       "      <td>False</td>\n",
       "    </tr>\n",
       "    <tr>\n",
       "      <th>806</th>\n",
       "      <td>139</td>\n",
       "      <td>80</td>\n",
       "      <td>[https, wxw, moe, about]</td>\n",
       "      <td>[]</td>\n",
       "      <td>False</td>\n",
       "    </tr>\n",
       "    <tr>\n",
       "      <th>807</th>\n",
       "      <td>139</td>\n",
       "      <td>82</td>\n",
       "      <td>[by, using, this, instance, you, agree, to, th...</td>\n",
       "      <td>[]</td>\n",
       "      <td>False</td>\n",
       "    </tr>\n",
       "  </tbody>\n",
       "</table>\n",
       "<p>807 rows × 5 columns</p>\n",
       "</div>"
      ],
      "text/plain": [
       "     server_id rule_id                                               text  \\\n",
       "0            0       1  [sexually, explicit, or, violent, media, must,...   \n",
       "1            0       2  [no, racism, sexism, homophobia, transphobia, ...   \n",
       "2            0       3  [no, incitement, of, violence, or, promotion, ...   \n",
       "3            0       4  [no, harassment, block, evasion, dogpiling, or...   \n",
       "4            0       7  [do, not, share, information, widely, known, t...   \n",
       "..         ...     ...                                                ...   \n",
       "803        139      77  [do, you, agree, with, the, community, rules, ...   \n",
       "804        139      78  [incomplete, or, nonsensical, responses, will,...   \n",
       "805        139      79     [for, detailed, community, rules, please, see]   \n",
       "806        139      80                           [https, wxw, moe, about]   \n",
       "807        139      82  [by, using, this, instance, you, agree, to, th...   \n",
       "\n",
       "                                                  hint  strict_rule  \n",
       "0    [this, includes, content, that, is, particular...        False  \n",
       "1    [transphobic, behavior, such, as, intentional,...         True  \n",
       "2    [calling, for, people, or, groups, to, be, ass...         True  \n",
       "3    [repeat, attempts, to, communicate, with, user...         True  \n",
       "4    [false, and, misleading, information, and, lin...        False  \n",
       "..                                                 ...          ...  \n",
       "803                                                 []        False  \n",
       "804                                                 []        False  \n",
       "805                                                 []        False  \n",
       "806                                                 []        False  \n",
       "807                                                 []        False  \n",
       "\n",
       "[807 rows x 5 columns]"
      ]
     },
     "execution_count": 237,
     "metadata": {},
     "output_type": "execute_result"
    }
   ],
   "source": [
    "# Process te rules for NLP\n",
    "processor = RulesProcessor(df_mastodon_en)\n",
    "rules_df = processor.extract_rules()\n",
    "standardized_df = processor.standardize_rules()\n",
    "\n",
    "# Compute strictness metrics TODO: define metrics and compute them\n",
    "standardized_df[\"strict_rule\"] = standardized_df[\"text\"].apply(utils.contains_strict_words)\n",
    "standardized_df"
   ]
  },
  {
   "cell_type": "code",
   "execution_count": 238,
   "id": "505fd59e",
   "metadata": {},
   "outputs": [
    {
     "data": {
      "application/vnd.microsoft.datawrangler.viewer.v0+json": {
       "columns": [
        {
         "name": "index",
         "rawType": "int64",
         "type": "integer"
        },
        {
         "name": "server_id",
         "rawType": "int64",
         "type": "integer"
        },
        {
         "name": "rule_id",
         "rawType": "object",
         "type": "string"
        },
        {
         "name": "text",
         "rawType": "object",
         "type": "unknown"
        },
        {
         "name": "hint",
         "rawType": "object",
         "type": "unknown"
        },
        {
         "name": "strict_rule",
         "rawType": "bool",
         "type": "boolean"
        }
       ],
       "ref": "758be942-48e5-4721-9aa2-bf59e8cd131d",
       "rows": [
        [
         "0",
         "0",
         "1",
         "['sexually', 'explicit', 'or', 'violent', 'media', 'must', 'be', 'marked', 'as', 'sensitive', 'or', 'with', 'a', 'content', 'warning']",
         "['this', 'includes', 'content', 'that', 'is', 'particularly', 'provocative', 'even', 'if', 'it', 'may', 'not', 'show', 'specific', 'body', 'parts', 'as', 'well', 'as', 'dead', 'bodies', 'bloody', 'injuries', 'and', 'other', 'gore', 'particularly', 'obscene', 'content', 'may', 'be', 'prohibited', 'entirely', 'profile', 'pictures', 'and', 'header', 'images', 'may', 'not', 'contain', 'sexually', 'explicit', 'or', 'violent', 'media']",
         "False"
        ],
        [
         "1",
         "0",
         "3",
         "['no', 'incitement', 'of', 'violence', 'or', 'promotion', 'of', 'violent', 'ideologies']",
         "['calling', 'for', 'people', 'or', 'groups', 'to', 'be', 'assassinated', 'murdered', 'or', 'attacked', 'physically', 'is', 'strictly', 'prohibited', 'support', 'for', 'violent', 'groups', 'or', 'events', 'is', 'prohibited']",
         "True"
        ],
        [
         "2",
         "0",
         "4",
         "['no', 'harassment', 'block', 'evasion', 'dogpiling', 'or', 'doxxing', 'of', 'others']",
         "['repeat', 'attempts', 'to', 'communicate', 'with', 'users', 'who', 'have', 'blocked', 'you', 'or', 'creation', 'of', 'accounts', 'solely', 'to', 'harass', 'or', 'insult', 'individuals', 'is', 'strictly', 'prohibited', 'coordinated', 'activity', 'to', 'attack', 'other', 'users', 'is', 'prohibited', 'posting', 'of', 'private', 'personal', 'information', 'about', 'others', 'is', 'prohibited']",
         "True"
        ],
        [
         "3",
         "0",
         "7",
         "['do', 'not', 'share', 'information', 'widely', 'known', 'to', 'be', 'false', 'and', 'misleading']",
         "['false', 'and', 'misleading', 'information', 'and', 'links', 'from', 'low', 'quality', 'sources', 'may', 'not', 'be', 'posted', 'especially', 'if', 'they', 'are', 'likely', 'to', 'mislead', 'or', 'confuse', 'others', 'or', 'endanger', 'their', 'safety']",
         "False"
        ],
        [
         "4",
         "0",
         "1008",
         "['content', 'created', 'by', 'others', 'must', 'be', 'attributed', 'and', 'use', 'of', 'generative', 'ai', 'must', 'be', 'disclosed']",
         "['content', 'created', 'by', 'others', 'must', 'clearly', 'provide', 'a', 'reference', 'to', 'the', 'author', 'creator', 'or', 'source', 'for', 'adult', 'content', 'this', 'should', 'include', 'performers', 'accounts', 'may', 'not', 'solely', 'post', 'ai', 'generated', 'content']",
         "False"
        ],
        [
         "5",
         "1",
         "2",
         "['sexually', 'explicit', 'or', 'violent', 'media', 'must', 'be', 'marked', 'as', 'sensitive', 'when', 'posting']",
         "[]",
         "False"
        ],
        [
         "6",
         "1",
         "5",
         "['no', 'incitement', 'of', 'violence', 'or', 'promotion', 'of', 'violent', 'ideologies']",
         "[]",
         "True"
        ],
        [
         "7",
         "1",
         "6",
         "['no', 'harassment', 'dogpiling', 'or', 'doxxing', 'of', 'other', 'users']",
         "[]",
         "True"
        ],
        [
         "8",
         "1",
         "11",
         "['no', 'spreading', 'of', 'fake', 'news', 'or', 'misinformation']",
         "[]",
         "True"
        ],
        [
         "9",
         "1",
         "12",
         "['content', 'created', 'by', 'others', 'must', 'be', 'attributed', 'and', 'use', 'of', 'ai', 'must', 'be', 'disclosed', 'profiles', 'that', 'only', 'post', 'ai', 'generated', 'content', 'will', 'not', 'be', 'tolerated']",
         "[]",
         "False"
        ],
        [
         "10",
         "2",
         "1",
         "['do', 'unto', 'others', 'as', 'you', 'think', 'they', 'would', 'want', 'done', 'to', 'them']",
         "[]",
         "False"
        ],
        [
         "11",
         "2",
         "2",
         "['mark', 'sensitive', 'content', 'with', 'a', 'content', 'warning']",
         "[]",
         "False"
        ],
        [
         "12",
         "2",
         "3",
         "['gratuitous', 'obscenity', 'that', 'serves', 'no', 'practical', 'benefit', 'to', 'a', 'discussion', 'is', 'not', 'permitted']",
         "[]",
         "True"
        ],
        [
         "13",
         "2",
         "4",
         "['illegal', 'content', 'such', 'as', 'child', 'pornography', 'unsurprisingly', 'is', 'not', 'permitted']",
         "[]",
         "False"
        ],
        [
         "14",
         "2",
         "5",
         "['spam', 'is', 'not', 'permitted', 'this', 'includes', 'creating', 'spam', 'accounts', 'that', 'only', 'serve', 'to', 'provide', 'profile', 'links', 'or', 'advertise', 'products', 'and', 'services']",
         "[]",
         "False"
        ],
        [
         "15",
         "2",
         "6",
         "['hate', 'speech', 'and', 'abusive', 'or', 'threatening', 'behavior', 'is', 'not', 'permitted', 'specifically', 'that', 'which', 'directed', 'at', 'any', 'gender', 'nationality', 'religion', 'race', 'age', 'pizza', 'topping', 'preference', 'or', 'sexual', 'identity', 'one', 'can', 'hate', 'on', 'systemd', 'all', 'day', 'long', 'here']",
         "[]",
         "False"
        ],
        [
         "16",
         "2",
         "7",
         "['lack', 'of', 'a', 'specific', 'rule', 'against', 'a', 'certain', 'behavior', 'does', 'not', 'indicate', 'acceptance', 'of', 'that', 'behavior', 'each', 'of', 'us', 'has', 'a', 'limited', 'amount', 'of', 'time', 'in', 'this', 'world', 'don', 't', 'be', 'a', 'jerk']",
         "[]",
         "False"
        ],
        [
         "17",
         "2",
         "8",
         "['violating', 'one', 'or', 'more', 'of', 'these', 'rules', 'may', 'result', 'in', 'an', 'immediate', 'permanent', 'ban', 'without', 'notice', 'or', 'warning']",
         "[]",
         "False"
        ],
        [
         "18",
         "2",
         "9",
         "['you', 'may', 'not', 'impersonate', 'a', 'person', 'or', 'brand', 'without', 'a', 'clear', 'indication', 'the', 'account', 'is', 'unofficial', 'and', 'or', 'a', 'parody', 'parody', 'accounts', 'are', 'permitted', 'as', 'are', 'legitimate', 'brand', 'accounts']",
         "[]",
         "False"
        ],
        [
         "19",
         "2",
         "11",
         "['no', 'attacks', 'against', 'or', 'from', 'the', 'instance', 'you', 'may', 'not', 'do', 'anything', 'which', 'may', 'impact', 'confidentiality', 'integrity', 'or', 'availability', 'of', 'infosec', 'exchange', 'the', 'users', 'of', 'the', 'service', 'or', 'their', 'data', 'for', 'more', 'details', 'see', 'https', 'wiki', 'infosec', 'exchange', 'rules', 'start']",
         "[]",
         "True"
        ],
        [
         "20",
         "2",
         "12",
         "['no', 'doxing', 'aka', 'doxxing', 'or', 'disclosing', 'personal', 'information', 'without', 'consent', 'and', 'as', 'a', 'means', 'of', 'harassing', 'or', 'causing', 'others', 'to', 'harass', 'another', 'person']",
         "[]",
         "True"
        ],
        [
         "21",
         "2",
         "13",
         "['no', 'harassment', 'in', 'the', 'form', 'of', 'continued', 'engagement', 'after', 'a', 'person', 'has', 'requested', 'contact', 'to', 'stop']",
         "[]",
         "True"
        ],
        [
         "22",
         "2",
         "14",
         "['automated', 'posting', 'accounts', 'that', 'post', '50', 'using', 'automation', 'must', 'be', 'labeled', 'as', 'a', 'bot', 'in', 'the', 'user', 'profile', 'to', 'help', 'provide', 'a', 'visual', 'indicator', 'to', 'visitors', 'automated', 'posts', 'must', 'be', 'limited', 'to', 'one', 'post', 'per', 'hour', '24', 'per', 'day', 'with', 'post', 'visibility', 'set', 'to', 'public', 'there', 'is', 'no', 'limit', 'on', 'unlisted', 'posts']",
         "[]",
         "True"
        ],
        [
         "23",
         "2",
         "15",
         "['soliciting', 'or', 'inciting', 'violence', 'or', 'harm', 'against', 'a', 'person', 'or', 'segment', 'of', 'people', 'is', 'not', 'permitted']",
         "[]",
         "False"
        ],
        [
         "24",
         "3",
         "9",
         "['no', 'discrimination', 'including', 'but', 'not', 'limited', 'to', 'racism', 'sexism', 'homophobia', 'or', 'transphobia', 'including', 'targeted', 'misgendering', 'deadnaming', 'or', 'promotion', 'of', 'so', 'called', 'conversion', 'therapy']",
         "[]",
         "True"
        ],
        [
         "25",
         "3",
         "10",
         "['no', 'explicit', 'nsfw', 'content', 'without', 'content', 'warnings', 'and', 'or', 'sensitive', 'media', 'markers', 'explicit', 'content', 'must', 'not', 'be', 'used', 'in', 'user', 'avatars', 'or', 'header', 'images']",
         "[]",
         "True"
        ],
        [
         "26",
         "3",
         "17",
         "['no', 'harassment', 'of', 'other', 'users', 'on', 'this', 'or', 'other', 'servers']",
         "[]",
         "True"
        ],
        [
         "27",
         "3",
         "18",
         "['no', 'content', 'illegal', 'in', 'the', 'following', 'countries', 'united', 'kingdom', 'germany']",
         "[]",
         "True"
        ],
        [
         "28",
         "3",
         "19",
         "['no', 'incitement', 'of', 'violence', 'or', 'promotion', 'of', 'violent', 'ideologies']",
         "[]",
         "True"
        ],
        [
         "29",
         "3",
         "20",
         "['no', 'disinformation', 'regarding', 'public', 'health', 'issues', 'or', 'political', 'military', 'campaigns']",
         "[]",
         "True"
        ],
        [
         "30",
         "3",
         "21",
         "['no', 'spam', 'this', 'includes', 'commercial', 'advertising', 'promotion', 'of', 'services', 'and', 'seo']",
         "[]",
         "True"
        ],
        [
         "31",
         "3",
         "22",
         "['no', 'impersonation', 'of', 'other', 'individuals', 'public', 'figures', 'or', 'organisations', 'unless', 'clearly', 'marked', 'as', 'a', 'parody']",
         "[]",
         "True"
        ],
        [
         "32",
         "3",
         "23",
         "['all', 'automated', 'bot', 'accounts', 'must', 'enable', 'the', 'bot', 'flag', 'in', 'their', 'account', 'preferences', 'respect', 'nobot', 'markers', 'and', 'post', 'as', 'unlisted', 'unless', 'making', 'less', 'than', 'one', 'post', 'per', 'hour']",
         "[]",
         "False"
        ],
        [
         "33",
         "5",
         "1",
         "['don', 't', 'be', 'a', 'dick']",
         "[]",
         "False"
        ],
        [
         "34",
         "5",
         "6",
         "['no', 'white', 'supremacy']",
         "[]",
         "True"
        ],
        [
         "35",
         "5",
         "9",
         "['no', 'nationalism']",
         "[]",
         "True"
        ],
        [
         "36",
         "5",
         "14",
         "['safe', 'space', 'lgtbqia']",
         "[]",
         "False"
        ],
        [
         "37",
         "7",
         "1",
         "['sexually', 'explicit', 'or', 'violent', 'media', 'must', 'be', 'marked', 'as', 'sensitive', 'when', 'posting']",
         "[]",
         "False"
        ],
        [
         "38",
         "7",
         "3",
         "['no', 'incitement', 'of', 'violence', 'or', 'promotion', 'of', 'violent', 'ideologies']",
         "[]",
         "True"
        ],
        [
         "39",
         "7",
         "4",
         "['no', 'harassment', 'dogpiling', 'or', 'doxxing', 'of', 'other', 'users']",
         "[]",
         "True"
        ],
        [
         "40",
         "7",
         "6",
         "['do', 'not', 'share', 'intentionally', 'false', 'or', 'misleading', 'information']",
         "[]",
         "False"
        ],
        [
         "41",
         "8",
         "6",
         "['violent', 'media', 'must', 'be', 'marked', 'as', 'sensitive', 'when', 'posting']",
         "[]",
         "False"
        ],
        [
         "42",
         "8",
         "8",
         "['no', 'incitement', 'of', 'violence', 'or', 'promotion', 'of', 'violent', 'ideologies']",
         "[]",
         "True"
        ],
        [
         "43",
         "8",
         "9",
         "['no', 'harassment', 'dogpiling', 'or', 'doxxing', 'of', 'other', 'users']",
         "[]",
         "True"
        ],
        [
         "44",
         "8",
         "11",
         "['do', 'not', 'share', 'false', 'or', 'misleading', 'information', 'that', 'may', 'lead', 'to', 'physical', 'harm']",
         "[]",
         "False"
        ],
        [
         "45",
         "8",
         "13",
         "['no', 'spam', 'no', 'direct', 'advertising', 'selling', 'products', 'or', 'services', 'no', 'aggressive', 'promotion', 'if', 'you', 'promote', 'your', 'website', 'blog', 'etc', 'do', 'it', 'responsibly', 'and', 'use', 'a', 'description', 'and', 'tags']",
         "[]",
         "True"
        ],
        [
         "46",
         "8",
         "14",
         "['bots', 'must', 'be', 'marked', 'as', 'bot', 'in', 'their', 'profile', 'and', 'bots', 'created', 'after', 'dec', '31st', '2024', 'must', 'post', 'in', 'silent', 'mode']",
         "[]",
         "False"
        ],
        [
         "47",
         "8",
         "15",
         "['sexually', 'explicit', 'content', 'is', 'not', 'allowed']",
         "[]",
         "False"
        ],
        [
         "48",
         "8",
         "16",
         "['agree', 'to', 'code', 'of', 'conduct', 'see', 'about', 'section']",
         "[]",
         "False"
        ],
        [
         "49",
         "10",
         "1",
         "['be', 'nice', 'to', 'each', 'other']",
         "[]",
         "False"
        ]
       ],
       "shape": {
        "columns": 5,
        "rows": 585
       }
      },
      "text/html": [
       "<div>\n",
       "<style scoped>\n",
       "    .dataframe tbody tr th:only-of-type {\n",
       "        vertical-align: middle;\n",
       "    }\n",
       "\n",
       "    .dataframe tbody tr th {\n",
       "        vertical-align: top;\n",
       "    }\n",
       "\n",
       "    .dataframe thead th {\n",
       "        text-align: right;\n",
       "    }\n",
       "</style>\n",
       "<table border=\"1\" class=\"dataframe\">\n",
       "  <thead>\n",
       "    <tr style=\"text-align: right;\">\n",
       "      <th></th>\n",
       "      <th>server_id</th>\n",
       "      <th>rule_id</th>\n",
       "      <th>text</th>\n",
       "      <th>hint</th>\n",
       "      <th>strict_rule</th>\n",
       "    </tr>\n",
       "  </thead>\n",
       "  <tbody>\n",
       "    <tr>\n",
       "      <th>0</th>\n",
       "      <td>0</td>\n",
       "      <td>1</td>\n",
       "      <td>[sexually, explicit, or, violent, media, must,...</td>\n",
       "      <td>[this, includes, content, that, is, particular...</td>\n",
       "      <td>False</td>\n",
       "    </tr>\n",
       "    <tr>\n",
       "      <th>1</th>\n",
       "      <td>0</td>\n",
       "      <td>3</td>\n",
       "      <td>[no, incitement, of, violence, or, promotion, ...</td>\n",
       "      <td>[calling, for, people, or, groups, to, be, ass...</td>\n",
       "      <td>True</td>\n",
       "    </tr>\n",
       "    <tr>\n",
       "      <th>2</th>\n",
       "      <td>0</td>\n",
       "      <td>4</td>\n",
       "      <td>[no, harassment, block, evasion, dogpiling, or...</td>\n",
       "      <td>[repeat, attempts, to, communicate, with, user...</td>\n",
       "      <td>True</td>\n",
       "    </tr>\n",
       "    <tr>\n",
       "      <th>3</th>\n",
       "      <td>0</td>\n",
       "      <td>7</td>\n",
       "      <td>[do, not, share, information, widely, known, t...</td>\n",
       "      <td>[false, and, misleading, information, and, lin...</td>\n",
       "      <td>False</td>\n",
       "    </tr>\n",
       "    <tr>\n",
       "      <th>4</th>\n",
       "      <td>0</td>\n",
       "      <td>1008</td>\n",
       "      <td>[content, created, by, others, must, be, attri...</td>\n",
       "      <td>[content, created, by, others, must, clearly, ...</td>\n",
       "      <td>False</td>\n",
       "    </tr>\n",
       "    <tr>\n",
       "      <th>...</th>\n",
       "      <td>...</td>\n",
       "      <td>...</td>\n",
       "      <td>...</td>\n",
       "      <td>...</td>\n",
       "      <td>...</td>\n",
       "    </tr>\n",
       "    <tr>\n",
       "      <th>580</th>\n",
       "      <td>139</td>\n",
       "      <td>76</td>\n",
       "      <td>[acgn, what, does, acgn, stand, for]</td>\n",
       "      <td>[]</td>\n",
       "      <td>False</td>\n",
       "    </tr>\n",
       "    <tr>\n",
       "      <th>581</th>\n",
       "      <td>139</td>\n",
       "      <td>77</td>\n",
       "      <td>[do, you, agree, with, the, community, rules, ...</td>\n",
       "      <td>[]</td>\n",
       "      <td>False</td>\n",
       "    </tr>\n",
       "    <tr>\n",
       "      <th>582</th>\n",
       "      <td>139</td>\n",
       "      <td>78</td>\n",
       "      <td>[incomplete, or, nonsensical, responses, will,...</td>\n",
       "      <td>[]</td>\n",
       "      <td>False</td>\n",
       "    </tr>\n",
       "    <tr>\n",
       "      <th>583</th>\n",
       "      <td>139</td>\n",
       "      <td>79</td>\n",
       "      <td>[for, detailed, community, rules, please, see]</td>\n",
       "      <td>[]</td>\n",
       "      <td>False</td>\n",
       "    </tr>\n",
       "    <tr>\n",
       "      <th>584</th>\n",
       "      <td>139</td>\n",
       "      <td>82</td>\n",
       "      <td>[by, using, this, instance, you, agree, to, th...</td>\n",
       "      <td>[]</td>\n",
       "      <td>False</td>\n",
       "    </tr>\n",
       "  </tbody>\n",
       "</table>\n",
       "<p>585 rows × 5 columns</p>\n",
       "</div>"
      ],
      "text/plain": [
       "     server_id rule_id                                               text  \\\n",
       "0            0       1  [sexually, explicit, or, violent, media, must,...   \n",
       "1            0       3  [no, incitement, of, violence, or, promotion, ...   \n",
       "2            0       4  [no, harassment, block, evasion, dogpiling, or...   \n",
       "3            0       7  [do, not, share, information, widely, known, t...   \n",
       "4            0    1008  [content, created, by, others, must, be, attri...   \n",
       "..         ...     ...                                                ...   \n",
       "580        139      76               [acgn, what, does, acgn, stand, for]   \n",
       "581        139      77  [do, you, agree, with, the, community, rules, ...   \n",
       "582        139      78  [incomplete, or, nonsensical, responses, will,...   \n",
       "583        139      79     [for, detailed, community, rules, please, see]   \n",
       "584        139      82  [by, using, this, instance, you, agree, to, th...   \n",
       "\n",
       "                                                  hint  strict_rule  \n",
       "0    [this, includes, content, that, is, particular...        False  \n",
       "1    [calling, for, people, or, groups, to, be, ass...         True  \n",
       "2    [repeat, attempts, to, communicate, with, user...         True  \n",
       "3    [false, and, misleading, information, and, lin...        False  \n",
       "4    [content, created, by, others, must, clearly, ...        False  \n",
       "..                                                 ...          ...  \n",
       "580                                                 []        False  \n",
       "581                                                 []        False  \n",
       "582                                                 []        False  \n",
       "583                                                 []        False  \n",
       "584                                                 []        False  \n",
       "\n",
       "[585 rows x 5 columns]"
      ]
     },
     "execution_count": 238,
     "metadata": {},
     "output_type": "execute_result"
    }
   ],
   "source": [
    "# Keep only the rows from standardized_df that have a matching server_id and rule_id in df_english\n",
    "standardized_df = standardized_df.merge(df_english[[\"server_id\", \"rule_id\"]], on=[\"server_id\", \"rule_id\"], how='inner')\n",
    "standardized_df"
   ]
  },
  {
   "cell_type": "code",
   "execution_count": 239,
   "id": "5ae202a6",
   "metadata": {},
   "outputs": [
    {
     "name": "stderr",
     "output_type": "stream",
     "text": [
      "[nltk_data] Downloading package stopwords to\n",
      "[nltk_data]     /Users/eglantinevialaneix/nltk_data...\n",
      "[nltk_data]   Package stopwords is already up-to-date!\n"
     ]
    },
    {
     "data": {
      "application/vnd.microsoft.datawrangler.viewer.v0+json": {
       "columns": [
        {
         "name": "index",
         "rawType": "int64",
         "type": "integer"
        },
        {
         "name": "server_id",
         "rawType": "int64",
         "type": "integer"
        },
        {
         "name": "rule_id",
         "rawType": "object",
         "type": "string"
        },
        {
         "name": "text",
         "rawType": "object",
         "type": "unknown"
        },
        {
         "name": "hint",
         "rawType": "object",
         "type": "unknown"
        },
        {
         "name": "strict_rule",
         "rawType": "bool",
         "type": "boolean"
        }
       ],
       "ref": "7d2a9207-57ae-4d6b-acda-19e1d6e632d9",
       "rows": [
        [
         "0",
         "0",
         "1",
         "['sexually', 'explicit', 'violent', 'media', 'must', 'marked', 'sensitive', 'content', 'warning']",
         "['includes', 'content', 'particularly', 'provocative', 'even', 'may', 'show', 'specific', 'body', 'parts', 'well', 'dead', 'bodies', 'bloody', 'injuries', 'gore', 'particularly', 'obscene', 'content', 'may', 'prohibited', 'entirely', 'profile', 'pictures', 'header', 'images', 'may', 'contain', 'sexually', 'explicit', 'violent', 'media']",
         "False"
        ],
        [
         "1",
         "0",
         "3",
         "['incitement', 'violence', 'promotion', 'violent', 'ideologies']",
         "['calling', 'people', 'groups', 'assassinated', 'murdered', 'attacked', 'physically', 'strictly', 'prohibited', 'support', 'violent', 'groups', 'events', 'prohibited']",
         "True"
        ],
        [
         "2",
         "0",
         "4",
         "['harassment', 'block', 'evasion', 'dogpiling', 'doxxing', 'others']",
         "['repeat', 'attempts', 'communicate', 'users', 'blocked', 'creation', 'accounts', 'solely', 'harass', 'insult', 'individuals', 'strictly', 'prohibited', 'coordinated', 'activity', 'attack', 'users', 'prohibited', 'posting', 'private', 'personal', 'information', 'others', 'prohibited']",
         "True"
        ],
        [
         "3",
         "0",
         "7",
         "['share', 'information', 'widely', 'known', 'false', 'misleading']",
         "['false', 'misleading', 'information', 'links', 'low', 'quality', 'sources', 'may', 'posted', 'especially', 'likely', 'mislead', 'confuse', 'others', 'endanger', 'safety']",
         "False"
        ],
        [
         "4",
         "0",
         "1008",
         "['content', 'created', 'others', 'must', 'attributed', 'use', 'generative', 'must', 'disclosed']",
         "['content', 'created', 'others', 'must', 'clearly', 'provide', 'reference', 'author', 'creator', 'source', 'adult', 'content', 'include', 'performers', 'accounts', 'may', 'solely', 'post', 'generated', 'content']",
         "False"
        ],
        [
         "5",
         "1",
         "2",
         "['sexually', 'explicit', 'violent', 'media', 'must', 'marked', 'sensitive', 'posting']",
         "[]",
         "False"
        ],
        [
         "6",
         "1",
         "5",
         "['incitement', 'violence', 'promotion', 'violent', 'ideologies']",
         "[]",
         "True"
        ],
        [
         "7",
         "1",
         "6",
         "['harassment', 'dogpiling', 'doxxing', 'users']",
         "[]",
         "True"
        ],
        [
         "8",
         "1",
         "11",
         "['spreading', 'fake', 'news', 'misinformation']",
         "[]",
         "True"
        ],
        [
         "9",
         "1",
         "12",
         "['content', 'created', 'others', 'must', 'attributed', 'use', 'must', 'disclosed', 'profiles', 'post', 'generated', 'content', 'tolerated']",
         "[]",
         "False"
        ],
        [
         "10",
         "2",
         "1",
         "['unto', 'others', 'think', 'would', 'want', 'done']",
         "[]",
         "False"
        ],
        [
         "11",
         "2",
         "2",
         "['mark', 'sensitive', 'content', 'content', 'warning']",
         "[]",
         "False"
        ],
        [
         "12",
         "2",
         "3",
         "['gratuitous', 'obscenity', 'serves', 'practical', 'benefit', 'discussion', 'permitted']",
         "[]",
         "True"
        ],
        [
         "13",
         "2",
         "4",
         "['illegal', 'content', 'child', 'pornography', 'unsurprisingly', 'permitted']",
         "[]",
         "False"
        ],
        [
         "14",
         "2",
         "5",
         "['spam', 'permitted', 'includes', 'creating', 'spam', 'accounts', 'serve', 'provide', 'profile', 'links', 'advertise', 'products', 'services']",
         "[]",
         "False"
        ],
        [
         "15",
         "2",
         "6",
         "['hate', 'speech', 'abusive', 'threatening', 'behavior', 'permitted', 'specifically', 'directed', 'gender', 'nationality', 'religion', 'race', 'age', 'pizza', 'topping', 'preference', 'sexual', 'identity', 'one', 'hate', 'systemd', 'day', 'long']",
         "[]",
         "False"
        ],
        [
         "16",
         "2",
         "7",
         "['lack', 'specific', 'rule', 'certain', 'behavior', 'indicate', 'acceptance', 'behavior', 'us', 'limited', 'amount', 'time', 'world', 'jerk']",
         "[]",
         "False"
        ],
        [
         "17",
         "2",
         "8",
         "['violating', 'one', 'rules', 'may', 'result', 'immediate', 'permanent', 'ban', 'without', 'notice', 'warning']",
         "[]",
         "False"
        ],
        [
         "18",
         "2",
         "9",
         "['may', 'impersonate', 'person', 'brand', 'without', 'clear', 'indication', 'account', 'unofficial', 'parody', 'parody', 'accounts', 'permitted', 'legitimate', 'brand', 'accounts']",
         "[]",
         "False"
        ],
        [
         "19",
         "2",
         "11",
         "['attacks', 'instance', 'may', 'anything', 'may', 'impact', 'confidentiality', 'integrity', 'availability', 'infosec', 'exchange', 'users', 'service', 'data', 'details', 'see', 'https', 'wiki', 'infosec', 'exchange', 'rules', 'start']",
         "[]",
         "True"
        ],
        [
         "20",
         "2",
         "12",
         "['doxing', 'aka', 'doxxing', 'disclosing', 'personal', 'information', 'without', 'consent', 'means', 'harassing', 'causing', 'others', 'harass', 'another', 'person']",
         "[]",
         "True"
        ],
        [
         "21",
         "2",
         "13",
         "['harassment', 'form', 'continued', 'engagement', 'person', 'requested', 'contact', 'stop']",
         "[]",
         "True"
        ],
        [
         "22",
         "2",
         "14",
         "['automated', 'posting', 'accounts', 'post', '50', 'using', 'automation', 'must', 'labeled', 'bot', 'user', 'profile', 'help', 'provide', 'visual', 'indicator', 'visitors', 'automated', 'posts', 'must', 'limited', 'one', 'post', 'per', 'hour', '24', 'per', 'day', 'post', 'visibility', 'set', 'public', 'limit', 'unlisted', 'posts']",
         "[]",
         "True"
        ],
        [
         "23",
         "2",
         "15",
         "['soliciting', 'inciting', 'violence', 'harm', 'person', 'segment', 'people', 'permitted']",
         "[]",
         "False"
        ],
        [
         "24",
         "3",
         "9",
         "['discrimination', 'including', 'limited', 'racism', 'sexism', 'homophobia', 'transphobia', 'including', 'targeted', 'misgendering', 'deadnaming', 'promotion', 'called', 'conversion', 'therapy']",
         "[]",
         "True"
        ],
        [
         "25",
         "3",
         "10",
         "['explicit', 'nsfw', 'content', 'without', 'content', 'warnings', 'sensitive', 'media', 'markers', 'explicit', 'content', 'must', 'used', 'user', 'avatars', 'header', 'images']",
         "[]",
         "True"
        ],
        [
         "26",
         "3",
         "17",
         "['harassment', 'users', 'servers']",
         "[]",
         "True"
        ],
        [
         "27",
         "3",
         "18",
         "['content', 'illegal', 'following', 'countries', 'united', 'kingdom', 'germany']",
         "[]",
         "True"
        ],
        [
         "28",
         "3",
         "19",
         "['incitement', 'violence', 'promotion', 'violent', 'ideologies']",
         "[]",
         "True"
        ],
        [
         "29",
         "3",
         "20",
         "['disinformation', 'regarding', 'public', 'health', 'issues', 'political', 'military', 'campaigns']",
         "[]",
         "True"
        ],
        [
         "30",
         "3",
         "21",
         "['spam', 'includes', 'commercial', 'advertising', 'promotion', 'services', 'seo']",
         "[]",
         "True"
        ],
        [
         "31",
         "3",
         "22",
         "['impersonation', 'individuals', 'public', 'figures', 'organisations', 'unless', 'clearly', 'marked', 'parody']",
         "[]",
         "True"
        ],
        [
         "32",
         "3",
         "23",
         "['automated', 'bot', 'accounts', 'must', 'enable', 'bot', 'flag', 'account', 'preferences', 'respect', 'nobot', 'markers', 'post', 'unlisted', 'unless', 'making', 'less', 'one', 'post', 'per', 'hour']",
         "[]",
         "False"
        ],
        [
         "33",
         "5",
         "1",
         "['dick']",
         "[]",
         "False"
        ],
        [
         "34",
         "5",
         "6",
         "['white', 'supremacy']",
         "[]",
         "True"
        ],
        [
         "35",
         "5",
         "9",
         "['nationalism']",
         "[]",
         "True"
        ],
        [
         "36",
         "5",
         "14",
         "['safe', 'space', 'lgtbqia']",
         "[]",
         "False"
        ],
        [
         "37",
         "7",
         "1",
         "['sexually', 'explicit', 'violent', 'media', 'must', 'marked', 'sensitive', 'posting']",
         "[]",
         "False"
        ],
        [
         "38",
         "7",
         "3",
         "['incitement', 'violence', 'promotion', 'violent', 'ideologies']",
         "[]",
         "True"
        ],
        [
         "39",
         "7",
         "4",
         "['harassment', 'dogpiling', 'doxxing', 'users']",
         "[]",
         "True"
        ],
        [
         "40",
         "7",
         "6",
         "['share', 'intentionally', 'false', 'misleading', 'information']",
         "[]",
         "False"
        ],
        [
         "41",
         "8",
         "6",
         "['violent', 'media', 'must', 'marked', 'sensitive', 'posting']",
         "[]",
         "False"
        ],
        [
         "42",
         "8",
         "8",
         "['incitement', 'violence', 'promotion', 'violent', 'ideologies']",
         "[]",
         "True"
        ],
        [
         "43",
         "8",
         "9",
         "['harassment', 'dogpiling', 'doxxing', 'users']",
         "[]",
         "True"
        ],
        [
         "44",
         "8",
         "11",
         "['share', 'false', 'misleading', 'information', 'may', 'lead', 'physical', 'harm']",
         "[]",
         "False"
        ],
        [
         "45",
         "8",
         "13",
         "['spam', 'direct', 'advertising', 'selling', 'products', 'services', 'aggressive', 'promotion', 'promote', 'website', 'blog', 'etc', 'responsibly', 'use', 'description', 'tags']",
         "[]",
         "True"
        ],
        [
         "46",
         "8",
         "14",
         "['bots', 'must', 'marked', 'bot', 'profile', 'bots', 'created', 'dec', '31st', '2024', 'must', 'post', 'silent', 'mode']",
         "[]",
         "False"
        ],
        [
         "47",
         "8",
         "15",
         "['sexually', 'explicit', 'content', 'allowed']",
         "[]",
         "False"
        ],
        [
         "48",
         "8",
         "16",
         "['agree', 'code', 'conduct', 'see', 'section']",
         "[]",
         "False"
        ],
        [
         "49",
         "10",
         "1",
         "['nice']",
         "[]",
         "False"
        ]
       ],
       "shape": {
        "columns": 5,
        "rows": 585
       }
      },
      "text/html": [
       "<div>\n",
       "<style scoped>\n",
       "    .dataframe tbody tr th:only-of-type {\n",
       "        vertical-align: middle;\n",
       "    }\n",
       "\n",
       "    .dataframe tbody tr th {\n",
       "        vertical-align: top;\n",
       "    }\n",
       "\n",
       "    .dataframe thead th {\n",
       "        text-align: right;\n",
       "    }\n",
       "</style>\n",
       "<table border=\"1\" class=\"dataframe\">\n",
       "  <thead>\n",
       "    <tr style=\"text-align: right;\">\n",
       "      <th></th>\n",
       "      <th>server_id</th>\n",
       "      <th>rule_id</th>\n",
       "      <th>text</th>\n",
       "      <th>hint</th>\n",
       "      <th>strict_rule</th>\n",
       "    </tr>\n",
       "  </thead>\n",
       "  <tbody>\n",
       "    <tr>\n",
       "      <th>0</th>\n",
       "      <td>0</td>\n",
       "      <td>1</td>\n",
       "      <td>[sexually, explicit, violent, media, must, mar...</td>\n",
       "      <td>[includes, content, particularly, provocative,...</td>\n",
       "      <td>False</td>\n",
       "    </tr>\n",
       "    <tr>\n",
       "      <th>1</th>\n",
       "      <td>0</td>\n",
       "      <td>3</td>\n",
       "      <td>[incitement, violence, promotion, violent, ide...</td>\n",
       "      <td>[calling, people, groups, assassinated, murder...</td>\n",
       "      <td>True</td>\n",
       "    </tr>\n",
       "    <tr>\n",
       "      <th>2</th>\n",
       "      <td>0</td>\n",
       "      <td>4</td>\n",
       "      <td>[harassment, block, evasion, dogpiling, doxxin...</td>\n",
       "      <td>[repeat, attempts, communicate, users, blocked...</td>\n",
       "      <td>True</td>\n",
       "    </tr>\n",
       "    <tr>\n",
       "      <th>3</th>\n",
       "      <td>0</td>\n",
       "      <td>7</td>\n",
       "      <td>[share, information, widely, known, false, mis...</td>\n",
       "      <td>[false, misleading, information, links, low, q...</td>\n",
       "      <td>False</td>\n",
       "    </tr>\n",
       "    <tr>\n",
       "      <th>4</th>\n",
       "      <td>0</td>\n",
       "      <td>1008</td>\n",
       "      <td>[content, created, others, must, attributed, u...</td>\n",
       "      <td>[content, created, others, must, clearly, prov...</td>\n",
       "      <td>False</td>\n",
       "    </tr>\n",
       "    <tr>\n",
       "      <th>...</th>\n",
       "      <td>...</td>\n",
       "      <td>...</td>\n",
       "      <td>...</td>\n",
       "      <td>...</td>\n",
       "      <td>...</td>\n",
       "    </tr>\n",
       "    <tr>\n",
       "      <th>580</th>\n",
       "      <td>139</td>\n",
       "      <td>76</td>\n",
       "      <td>[acgn, acgn, stand]</td>\n",
       "      <td>[]</td>\n",
       "      <td>False</td>\n",
       "    </tr>\n",
       "    <tr>\n",
       "      <th>581</th>\n",
       "      <td>139</td>\n",
       "      <td>77</td>\n",
       "      <td>[agree, community, rules, instance]</td>\n",
       "      <td>[]</td>\n",
       "      <td>False</td>\n",
       "    </tr>\n",
       "    <tr>\n",
       "      <th>582</th>\n",
       "      <td>139</td>\n",
       "      <td>78</td>\n",
       "      <td>[incomplete, nonsensical, responses, result, r...</td>\n",
       "      <td>[]</td>\n",
       "      <td>False</td>\n",
       "    </tr>\n",
       "    <tr>\n",
       "      <th>583</th>\n",
       "      <td>139</td>\n",
       "      <td>79</td>\n",
       "      <td>[detailed, community, rules, please, see]</td>\n",
       "      <td>[]</td>\n",
       "      <td>False</td>\n",
       "    </tr>\n",
       "    <tr>\n",
       "      <th>584</th>\n",
       "      <td>139</td>\n",
       "      <td>82</td>\n",
       "      <td>[using, instance, agree, rules, policies, plea...</td>\n",
       "      <td>[]</td>\n",
       "      <td>False</td>\n",
       "    </tr>\n",
       "  </tbody>\n",
       "</table>\n",
       "<p>585 rows × 5 columns</p>\n",
       "</div>"
      ],
      "text/plain": [
       "     server_id rule_id                                               text  \\\n",
       "0            0       1  [sexually, explicit, violent, media, must, mar...   \n",
       "1            0       3  [incitement, violence, promotion, violent, ide...   \n",
       "2            0       4  [harassment, block, evasion, dogpiling, doxxin...   \n",
       "3            0       7  [share, information, widely, known, false, mis...   \n",
       "4            0    1008  [content, created, others, must, attributed, u...   \n",
       "..         ...     ...                                                ...   \n",
       "580        139      76                                [acgn, acgn, stand]   \n",
       "581        139      77                [agree, community, rules, instance]   \n",
       "582        139      78  [incomplete, nonsensical, responses, result, r...   \n",
       "583        139      79          [detailed, community, rules, please, see]   \n",
       "584        139      82  [using, instance, agree, rules, policies, plea...   \n",
       "\n",
       "                                                  hint  strict_rule  \n",
       "0    [includes, content, particularly, provocative,...        False  \n",
       "1    [calling, people, groups, assassinated, murder...         True  \n",
       "2    [repeat, attempts, communicate, users, blocked...         True  \n",
       "3    [false, misleading, information, links, low, q...        False  \n",
       "4    [content, created, others, must, clearly, prov...        False  \n",
       "..                                                 ...          ...  \n",
       "580                                                 []        False  \n",
       "581                                                 []        False  \n",
       "582                                                 []        False  \n",
       "583                                                 []        False  \n",
       "584                                                 []        False  \n",
       "\n",
       "[585 rows x 5 columns]"
      ]
     },
     "execution_count": 239,
     "metadata": {},
     "output_type": "execute_result"
    }
   ],
   "source": [
    "# Natural language processing\n",
    "import nltk\n",
    "from nltk.corpus import stopwords\n",
    "from sklearn.feature_extraction.text import TfidfVectorizer\n",
    "\n",
    "# Download stopwords if not already done\n",
    "nltk.download('stopwords')\n",
    "\n",
    "# Set of English stopwords\n",
    "stop_words = set(stopwords.words('english')).union(set(stopwords.words('french'))).union(set(stopwords.words('german'))).union(set(stopwords.words('spanish')))\n",
    "\n",
    "# Remove stop words from the tokenized lists\n",
    "standardized_df[\"text\"] = standardized_df[\"text\"].apply(lambda words: [word for word in words if word not in stop_words] if isinstance(words, list) else words)\n",
    "standardized_df[\"hint\"] = standardized_df[\"hint\"].apply(lambda words: [word for word in words if word not in stop_words] if isinstance(words, list) else words)\n",
    "\n",
    "# Lemmatize tokens\n",
    "# No need to lemmatize for berTOPIC\n",
    "#standardized_df[\"text\"] = standardized_df[\"text\"].apply(lemmatize)\n",
    "#standardized_df[\"hint\"] = standardized_df[\"hint\"].apply(lemmatize)\n",
    "\n",
    "standardized_df"
   ]
  },
  {
   "cell_type": "code",
   "execution_count": 240,
   "id": "663a236b",
   "metadata": {},
   "outputs": [
    {
     "data": {
      "application/vnd.microsoft.datawrangler.viewer.v0+json": {
       "columns": [
        {
         "name": "document",
         "rawType": "object",
         "type": "string"
        },
        {
         "name": "count",
         "rawType": "int64",
         "type": "integer"
        }
       ],
       "ref": "b407a492-6ba2-4b44-bfc2-40517995b3d1",
       "rows": [
        [
         "content",
         "178"
        ],
        [
         "must",
         "77"
        ],
        [
         "promotion",
         "56"
        ],
        [
         "violent",
         "52"
        ],
        [
         "accounts",
         "48"
        ],
        [
         "violence",
         "46"
        ],
        [
         "post",
         "46"
        ],
        [
         "users",
         "43"
        ],
        [
         "explicit",
         "42"
        ],
        [
         "sensitive",
         "42"
        ],
        [
         "harassment",
         "39"
        ],
        [
         "nsfw",
         "37"
        ],
        [
         "spam",
         "36"
        ],
        [
         "may",
         "35"
        ],
        [
         "posts",
         "35"
        ],
        [
         "use",
         "35"
        ],
        [
         "please",
         "34"
        ],
        [
         "others",
         "34"
        ],
        [
         "media",
         "33"
        ],
        [
         "illegal",
         "32"
        ],
        [
         "marked",
         "31"
        ],
        [
         "incitement",
         "30"
        ],
        [
         "information",
         "30"
        ],
        [
         "instance",
         "30"
        ],
        [
         "posting",
         "29"
        ],
        [
         "allowed",
         "29"
        ],
        [
         "including",
         "28"
        ],
        [
         "server",
         "28"
        ],
        [
         "ideologies",
         "27"
        ],
        [
         "warning",
         "27"
        ],
        [
         "hate",
         "26"
        ],
        [
         "without",
         "26"
        ],
        [
         "racism",
         "26"
        ],
        [
         "share",
         "25"
        ],
        [
         "account",
         "25"
        ],
        [
         "speech",
         "25"
        ],
        [
         "transphobia",
         "25"
        ],
        [
         "community",
         "25"
        ],
        [
         "doxxing",
         "24"
        ],
        [
         "sexism",
         "23"
        ],
        [
         "misleading",
         "22"
        ],
        [
         "discrimination",
         "22"
        ],
        [
         "homophobia",
         "22"
        ],
        [
         "dogpiling",
         "22"
        ],
        [
         "false",
         "21"
        ],
        [
         "sexual",
         "21"
        ],
        [
         "sexually",
         "21"
        ],
        [
         "people",
         "21"
        ],
        [
         "cw",
         "20"
        ],
        [
         "images",
         "20"
        ]
       ],
       "shape": {
        "columns": 1,
        "rows": 1631
       }
      },
      "text/plain": [
       "document\n",
       "content        178\n",
       "must            77\n",
       "promotion       56\n",
       "violent         52\n",
       "accounts        48\n",
       "              ... \n",
       "borderline       1\n",
       "construed        1\n",
       "minority         1\n",
       "size             1\n",
       "registering      1\n",
       "Name: count, Length: 1631, dtype: int64"
      ]
     },
     "execution_count": 240,
     "metadata": {},
     "output_type": "execute_result"
    }
   ],
   "source": [
    "#tokenize each text and each hint\n",
    "nlp_df = standardized_df.copy()\n",
    "\n",
    "nlp_df[\"document\"] = nlp_df.apply(utils.create_document, axis=1)\n",
    "\n",
    "vocab = nlp_df[\"document\"].explode().unique()\n",
    "nlp_df[\"document\"].explode().value_counts()"
   ]
  },
  {
   "cell_type": "code",
   "execution_count": 241,
   "id": "f760de55",
   "metadata": {},
   "outputs": [
    {
     "name": "stdout",
     "output_type": "stream",
     "text": [
      "TF-IDF matrix shape: (585, 1624)\n"
     ]
    }
   ],
   "source": [
    "# TF-IDF scores\n",
    "# Join the tokens back into strings\n",
    "nlp_df['document_str'] = nlp_df['document'].apply(lambda x: ' '.join(x))\n",
    "\n",
    "# Create and fit TF-IDF Vectorizer\n",
    "tfidf_vect = TfidfVectorizer()\n",
    "tfidf_matrix = tfidf_vect.fit_transform(nlp_df['document_str'])\n",
    "\n",
    "# Get feature names (words)\n",
    "feature_names = tfidf_vect.get_feature_names_out()\n",
    "\n",
    "tfidf = pd.DataFrame(tfidf_matrix.toarray(), columns=feature_names)\n",
    "print(f\"TF-IDF matrix shape: {tfidf_matrix.shape}\")\n",
    "    "
   ]
  },
  {
   "cell_type": "code",
   "execution_count": 242,
   "id": "b244df01",
   "metadata": {},
   "outputs": [
    {
     "name": "stdout",
     "output_type": "stream",
     "text": [
      "Top 10 terms by average TF-IDF score:\n",
      "            term     score\n",
      "325      content  0.049174\n",
      "1570     violent  0.028964\n",
      "1140   promotion  0.028426\n",
      "1569    violence  0.027094\n",
      "949         must  0.025458\n",
      "665   harassment  0.024997\n",
      "1545       users  0.023781\n",
      "739   incitement  0.022182\n",
      "714   ideologies  0.020737\n",
      "1354        spam  0.019079\n"
     ]
    }
   ],
   "source": [
    "# Display top terms with highest average TF-IDF scores\n",
    "mean_tfidf = tfidf_matrix.mean(axis=0).A1\n",
    "term_scores = pd.DataFrame({'term': feature_names, 'score': mean_tfidf})\n",
    "print(\"Top 10 terms by average TF-IDF score:\")\n",
    "print(term_scores.sort_values('score', ascending=False).head(10))"
   ]
  },
  {
   "cell_type": "code",
   "execution_count": 243,
   "id": "5e21c3e2",
   "metadata": {},
   "outputs": [
    {
     "name": "stdout",
     "output_type": "stream",
     "text": [
      "Top TF-IDF words for document 165:\n",
      "casteism      0.311001\n",
      "semitism      0.311001\n",
      "called        0.263404\n",
      "conversion    0.263404\n",
      "deadnaming    0.263404\n",
      "Name: 165, dtype: float64 \n",
      "\n",
      "Top TF-IDF words for document 579:\n",
      "register    0.680776\n",
      "want        0.559167\n",
      "instance    0.473155\n",
      "1044123     0.000000\n",
      "13          0.000000\n",
      "Name: 579, dtype: float64 \n",
      "\n",
      "Top TF-IDF words for document 493:\n",
      "annotated     0.340068\n",
      "provided      0.340068\n",
      "must          0.333846\n",
      "original      0.319427\n",
      "preferably    0.319427\n",
      "Name: 493, dtype: float64 \n",
      "\n",
      "Top TF-IDF words for document 149:\n",
      "violating     0.466664\n",
      "fun           0.445268\n",
      "keep          0.363562\n",
      "safe          0.357609\n",
      "respectful    0.352098\n",
      "Name: 149, dtype: float64 \n",
      "\n",
      "Top TF-IDF words for document 54:\n",
      "incite      0.372239\n",
      "cause       0.349646\n",
      "intended    0.321181\n",
      "towards     0.311021\n",
      "groups      0.302432\n",
      "Name: 54, dtype: float64 \n",
      "\n"
     ]
    }
   ],
   "source": [
    "# Display the top TF-IDF words for a few sample documents\n",
    "sample_indices = np.random.choice(tfidf.index, size=5, replace=False)\n",
    "for idx in sample_indices:\n",
    "    print(f\"Top TF-IDF words for document {idx}:\")\n",
    "    doc_tfidf = tfidf.iloc[idx]\n",
    "    top_words = doc_tfidf.nlargest(5)\n",
    "    print(top_words, '\\n')"
   ]
  },
  {
   "cell_type": "code",
   "execution_count": 244,
   "id": "3a781ab5",
   "metadata": {},
   "outputs": [
    {
     "ename": "KeyboardInterrupt",
     "evalue": "",
     "output_type": "error",
     "traceback": [
      "\u001b[31m---------------------------------------------------------------------------\u001b[39m",
      "\u001b[31mKeyboardInterrupt\u001b[39m                         Traceback (most recent call last)",
      "\u001b[36mCell\u001b[39m\u001b[36m \u001b[39m\u001b[32mIn[244]\u001b[39m\u001b[32m, line 5\u001b[39m\n\u001b[32m      2\u001b[39m \u001b[38;5;28;01mfrom\u001b[39;00m\u001b[38;5;250m \u001b[39m\u001b[34;01mbertopic\u001b[39;00m\u001b[38;5;250m \u001b[39m\u001b[38;5;28;01mimport\u001b[39;00m BERTopic\n\u001b[32m      4\u001b[39m topic_model = BERTopic()\n\u001b[32m----> \u001b[39m\u001b[32m5\u001b[39m topics, probs = \u001b[43mtopic_model\u001b[49m\u001b[43m.\u001b[49m\u001b[43mfit_transform\u001b[49m\u001b[43m(\u001b[49m\u001b[43mnlp_df\u001b[49m\u001b[43m[\u001b[49m\u001b[33;43m'\u001b[39;49m\u001b[33;43mdocument_str\u001b[39;49m\u001b[33;43m'\u001b[39;49m\u001b[43m]\u001b[49m\u001b[43m)\u001b[49m\n",
      "\u001b[36mFile \u001b[39m\u001b[32m~/Desktop/Computational Social Media/project/socialmedia_project/.venv/lib/python3.13/site-packages/bertopic/_bertopic.py:453\u001b[39m, in \u001b[36mBERTopic.fit_transform\u001b[39m\u001b[34m(self, documents, embeddings, images, y)\u001b[39m\n\u001b[32m    451\u001b[39m \u001b[38;5;28;01mif\u001b[39;00m embeddings \u001b[38;5;129;01mis\u001b[39;00m \u001b[38;5;28;01mNone\u001b[39;00m:\n\u001b[32m    452\u001b[39m     logger.info(\u001b[33m\"\u001b[39m\u001b[33mEmbedding - Transforming documents to embeddings.\u001b[39m\u001b[33m\"\u001b[39m)\n\u001b[32m--> \u001b[39m\u001b[32m453\u001b[39m     \u001b[38;5;28mself\u001b[39m.embedding_model = \u001b[43mselect_backend\u001b[49m\u001b[43m(\u001b[49m\u001b[38;5;28;43mself\u001b[39;49m\u001b[43m.\u001b[49m\u001b[43membedding_model\u001b[49m\u001b[43m,\u001b[49m\u001b[43m \u001b[49m\u001b[43mlanguage\u001b[49m\u001b[43m=\u001b[49m\u001b[38;5;28;43mself\u001b[39;49m\u001b[43m.\u001b[49m\u001b[43mlanguage\u001b[49m\u001b[43m,\u001b[49m\u001b[43m \u001b[49m\u001b[43mverbose\u001b[49m\u001b[43m=\u001b[49m\u001b[38;5;28;43mself\u001b[39;49m\u001b[43m.\u001b[49m\u001b[43mverbose\u001b[49m\u001b[43m)\u001b[49m\n\u001b[32m    454\u001b[39m     embeddings = \u001b[38;5;28mself\u001b[39m._extract_embeddings(\n\u001b[32m    455\u001b[39m         documents.Document.values.tolist(),\n\u001b[32m    456\u001b[39m         images=images,\n\u001b[32m    457\u001b[39m         method=\u001b[33m\"\u001b[39m\u001b[33mdocument\u001b[39m\u001b[33m\"\u001b[39m,\n\u001b[32m    458\u001b[39m         verbose=\u001b[38;5;28mself\u001b[39m.verbose,\n\u001b[32m    459\u001b[39m     )\n\u001b[32m    460\u001b[39m     logger.info(\u001b[33m\"\u001b[39m\u001b[33mEmbedding - Completed \u001b[39m\u001b[38;5;130;01m\\u2713\u001b[39;00m\u001b[33m\"\u001b[39m)\n",
      "\u001b[36mFile \u001b[39m\u001b[32m~/Desktop/Computational Social Media/project/socialmedia_project/.venv/lib/python3.13/site-packages/bertopic/backend/_utils.py:139\u001b[39m, in \u001b[36mselect_backend\u001b[39m\u001b[34m(embedding_model, language, verbose)\u001b[39m\n\u001b[32m    136\u001b[39m \u001b[38;5;28;01mfrom\u001b[39;00m\u001b[38;5;250m \u001b[39m\u001b[34;01m.\u001b[39;00m\u001b[34;01m_sentencetransformers\u001b[39;00m\u001b[38;5;250m \u001b[39m\u001b[38;5;28;01mimport\u001b[39;00m SentenceTransformerBackend\n\u001b[32m    138\u001b[39m \u001b[38;5;28;01mif\u001b[39;00m language.lower() \u001b[38;5;129;01min\u001b[39;00m [\u001b[33m\"\u001b[39m\u001b[33mEnglish\u001b[39m\u001b[33m\"\u001b[39m, \u001b[33m\"\u001b[39m\u001b[33menglish\u001b[39m\u001b[33m\"\u001b[39m, \u001b[33m\"\u001b[39m\u001b[33men\u001b[39m\u001b[33m\"\u001b[39m]:\n\u001b[32m--> \u001b[39m\u001b[32m139\u001b[39m     \u001b[38;5;28;01mreturn\u001b[39;00m \u001b[43mSentenceTransformerBackend\u001b[49m\u001b[43m(\u001b[49m\u001b[33;43m\"\u001b[39;49m\u001b[33;43msentence-transformers/all-MiniLM-L6-v2\u001b[39;49m\u001b[33;43m\"\u001b[39;49m\u001b[43m)\u001b[49m\n\u001b[32m    140\u001b[39m \u001b[38;5;28;01melif\u001b[39;00m language.lower() \u001b[38;5;129;01min\u001b[39;00m languages \u001b[38;5;129;01mor\u001b[39;00m language == \u001b[33m\"\u001b[39m\u001b[33mmultilingual\u001b[39m\u001b[33m\"\u001b[39m:\n\u001b[32m    141\u001b[39m     \u001b[38;5;28;01mreturn\u001b[39;00m SentenceTransformerBackend(\u001b[33m\"\u001b[39m\u001b[33msentence-transformers/paraphrase-multilingual-MiniLM-L12-v2\u001b[39m\u001b[33m\"\u001b[39m)\n",
      "\u001b[36mFile \u001b[39m\u001b[32m~/Desktop/Computational Social Media/project/socialmedia_project/.venv/lib/python3.13/site-packages/bertopic/backend/_sentencetransformers.py:63\u001b[39m, in \u001b[36mSentenceTransformerBackend.__init__\u001b[39m\u001b[34m(self, embedding_model, model2vec)\u001b[39m\n\u001b[32m     61\u001b[39m     \u001b[38;5;28mself\u001b[39m.embedding_model = embedding_model\n\u001b[32m     62\u001b[39m \u001b[38;5;28;01melif\u001b[39;00m \u001b[38;5;28misinstance\u001b[39m(embedding_model, \u001b[38;5;28mstr\u001b[39m):\n\u001b[32m---> \u001b[39m\u001b[32m63\u001b[39m     \u001b[38;5;28mself\u001b[39m.embedding_model = \u001b[43mSentenceTransformer\u001b[49m\u001b[43m(\u001b[49m\u001b[43membedding_model\u001b[49m\u001b[43m)\u001b[49m\n\u001b[32m     64\u001b[39m     \u001b[38;5;28mself\u001b[39m._hf_model = embedding_model\n\u001b[32m     65\u001b[39m \u001b[38;5;28;01melse\u001b[39;00m:\n",
      "\u001b[36mFile \u001b[39m\u001b[32m~/Desktop/Computational Social Media/project/socialmedia_project/.venv/lib/python3.13/site-packages/sentence_transformers/SentenceTransformer.py:309\u001b[39m, in \u001b[36mSentenceTransformer.__init__\u001b[39m\u001b[34m(self, model_name_or_path, modules, device, prompts, default_prompt_name, similarity_fn_name, cache_folder, trust_remote_code, revision, local_files_only, token, use_auth_token, truncate_dim, model_kwargs, tokenizer_kwargs, config_kwargs, model_card_data, backend)\u001b[39m\n\u001b[32m    300\u001b[39m         model_name_or_path = __MODEL_HUB_ORGANIZATION__ + \u001b[33m\"\u001b[39m\u001b[33m/\u001b[39m\u001b[33m\"\u001b[39m + model_name_or_path\n\u001b[32m    302\u001b[39m \u001b[38;5;28;01mif\u001b[39;00m is_sentence_transformer_model(\n\u001b[32m    303\u001b[39m     model_name_or_path,\n\u001b[32m    304\u001b[39m     token,\n\u001b[32m   (...)\u001b[39m\u001b[32m    307\u001b[39m     local_files_only=local_files_only,\n\u001b[32m    308\u001b[39m ):\n\u001b[32m--> \u001b[39m\u001b[32m309\u001b[39m     modules, \u001b[38;5;28mself\u001b[39m.module_kwargs = \u001b[38;5;28;43mself\u001b[39;49m\u001b[43m.\u001b[49m\u001b[43m_load_sbert_model\u001b[49m\u001b[43m(\u001b[49m\n\u001b[32m    310\u001b[39m \u001b[43m        \u001b[49m\u001b[43mmodel_name_or_path\u001b[49m\u001b[43m,\u001b[49m\n\u001b[32m    311\u001b[39m \u001b[43m        \u001b[49m\u001b[43mtoken\u001b[49m\u001b[43m=\u001b[49m\u001b[43mtoken\u001b[49m\u001b[43m,\u001b[49m\n\u001b[32m    312\u001b[39m \u001b[43m        \u001b[49m\u001b[43mcache_folder\u001b[49m\u001b[43m=\u001b[49m\u001b[43mcache_folder\u001b[49m\u001b[43m,\u001b[49m\n\u001b[32m    313\u001b[39m \u001b[43m        \u001b[49m\u001b[43mrevision\u001b[49m\u001b[43m=\u001b[49m\u001b[43mrevision\u001b[49m\u001b[43m,\u001b[49m\n\u001b[32m    314\u001b[39m \u001b[43m        \u001b[49m\u001b[43mtrust_remote_code\u001b[49m\u001b[43m=\u001b[49m\u001b[43mtrust_remote_code\u001b[49m\u001b[43m,\u001b[49m\n\u001b[32m    315\u001b[39m \u001b[43m        \u001b[49m\u001b[43mlocal_files_only\u001b[49m\u001b[43m=\u001b[49m\u001b[43mlocal_files_only\u001b[49m\u001b[43m,\u001b[49m\n\u001b[32m    316\u001b[39m \u001b[43m        \u001b[49m\u001b[43mmodel_kwargs\u001b[49m\u001b[43m=\u001b[49m\u001b[43mmodel_kwargs\u001b[49m\u001b[43m,\u001b[49m\n\u001b[32m    317\u001b[39m \u001b[43m        \u001b[49m\u001b[43mtokenizer_kwargs\u001b[49m\u001b[43m=\u001b[49m\u001b[43mtokenizer_kwargs\u001b[49m\u001b[43m,\u001b[49m\n\u001b[32m    318\u001b[39m \u001b[43m        \u001b[49m\u001b[43mconfig_kwargs\u001b[49m\u001b[43m=\u001b[49m\u001b[43mconfig_kwargs\u001b[49m\u001b[43m,\u001b[49m\n\u001b[32m    319\u001b[39m \u001b[43m    \u001b[49m\u001b[43m)\u001b[49m\n\u001b[32m    320\u001b[39m \u001b[38;5;28;01melse\u001b[39;00m:\n\u001b[32m    321\u001b[39m     modules = \u001b[38;5;28mself\u001b[39m._load_auto_model(\n\u001b[32m    322\u001b[39m         model_name_or_path,\n\u001b[32m    323\u001b[39m         token=token,\n\u001b[32m   (...)\u001b[39m\u001b[32m    330\u001b[39m         config_kwargs=config_kwargs,\n\u001b[32m    331\u001b[39m     )\n",
      "\u001b[36mFile \u001b[39m\u001b[32m~/Desktop/Computational Social Media/project/socialmedia_project/.venv/lib/python3.13/site-packages/sentence_transformers/SentenceTransformer.py:1726\u001b[39m, in \u001b[36mSentenceTransformer._load_sbert_model\u001b[39m\u001b[34m(self, model_name_or_path, token, cache_folder, revision, trust_remote_code, local_files_only, model_kwargs, tokenizer_kwargs, config_kwargs)\u001b[39m\n\u001b[32m   1723\u001b[39m         \u001b[38;5;28;01mpass\u001b[39;00m\n\u001b[32m   1725\u001b[39m \u001b[38;5;66;03m# Load the modules of sentence transformer\u001b[39;00m\n\u001b[32m-> \u001b[39m\u001b[32m1726\u001b[39m modules_json_path = \u001b[43mload_file_path\u001b[49m\u001b[43m(\u001b[49m\n\u001b[32m   1727\u001b[39m \u001b[43m    \u001b[49m\u001b[43mmodel_name_or_path\u001b[49m\u001b[43m,\u001b[49m\n\u001b[32m   1728\u001b[39m \u001b[43m    \u001b[49m\u001b[33;43m\"\u001b[39;49m\u001b[33;43mmodules.json\u001b[39;49m\u001b[33;43m\"\u001b[39;49m\u001b[43m,\u001b[49m\n\u001b[32m   1729\u001b[39m \u001b[43m    \u001b[49m\u001b[43mtoken\u001b[49m\u001b[43m=\u001b[49m\u001b[43mtoken\u001b[49m\u001b[43m,\u001b[49m\n\u001b[32m   1730\u001b[39m \u001b[43m    \u001b[49m\u001b[43mcache_folder\u001b[49m\u001b[43m=\u001b[49m\u001b[43mcache_folder\u001b[49m\u001b[43m,\u001b[49m\n\u001b[32m   1731\u001b[39m \u001b[43m    \u001b[49m\u001b[43mrevision\u001b[49m\u001b[43m=\u001b[49m\u001b[43mrevision\u001b[49m\u001b[43m,\u001b[49m\n\u001b[32m   1732\u001b[39m \u001b[43m    \u001b[49m\u001b[43mlocal_files_only\u001b[49m\u001b[43m=\u001b[49m\u001b[43mlocal_files_only\u001b[49m\u001b[43m,\u001b[49m\n\u001b[32m   1733\u001b[39m \u001b[43m\u001b[49m\u001b[43m)\u001b[49m\n\u001b[32m   1734\u001b[39m \u001b[38;5;28;01mwith\u001b[39;00m \u001b[38;5;28mopen\u001b[39m(modules_json_path) \u001b[38;5;28;01mas\u001b[39;00m fIn:\n\u001b[32m   1735\u001b[39m     modules_config = json.load(fIn)\n",
      "\u001b[36mFile \u001b[39m\u001b[32m~/Desktop/Computational Social Media/project/socialmedia_project/.venv/lib/python3.13/site-packages/sentence_transformers/util.py:1485\u001b[39m, in \u001b[36mload_file_path\u001b[39m\u001b[34m(model_name_or_path, filename, token, cache_folder, revision, local_files_only)\u001b[39m\n\u001b[32m   1483\u001b[39m \u001b[38;5;66;03m# If file is remote\u001b[39;00m\n\u001b[32m   1484\u001b[39m \u001b[38;5;28;01mtry\u001b[39;00m:\n\u001b[32m-> \u001b[39m\u001b[32m1485\u001b[39m     \u001b[38;5;28;01mreturn\u001b[39;00m \u001b[43mhf_hub_download\u001b[49m\u001b[43m(\u001b[49m\n\u001b[32m   1486\u001b[39m \u001b[43m        \u001b[49m\u001b[43mmodel_name_or_path\u001b[49m\u001b[43m,\u001b[49m\n\u001b[32m   1487\u001b[39m \u001b[43m        \u001b[49m\u001b[43mfilename\u001b[49m\u001b[43m=\u001b[49m\u001b[43mfilename\u001b[49m\u001b[43m,\u001b[49m\n\u001b[32m   1488\u001b[39m \u001b[43m        \u001b[49m\u001b[43mrevision\u001b[49m\u001b[43m=\u001b[49m\u001b[43mrevision\u001b[49m\u001b[43m,\u001b[49m\n\u001b[32m   1489\u001b[39m \u001b[43m        \u001b[49m\u001b[43mlibrary_name\u001b[49m\u001b[43m=\u001b[49m\u001b[33;43m\"\u001b[39;49m\u001b[33;43msentence-transformers\u001b[39;49m\u001b[33;43m\"\u001b[39;49m\u001b[43m,\u001b[49m\n\u001b[32m   1490\u001b[39m \u001b[43m        \u001b[49m\u001b[43mtoken\u001b[49m\u001b[43m=\u001b[49m\u001b[43mtoken\u001b[49m\u001b[43m,\u001b[49m\n\u001b[32m   1491\u001b[39m \u001b[43m        \u001b[49m\u001b[43mcache_dir\u001b[49m\u001b[43m=\u001b[49m\u001b[43mcache_folder\u001b[49m\u001b[43m,\u001b[49m\n\u001b[32m   1492\u001b[39m \u001b[43m        \u001b[49m\u001b[43mlocal_files_only\u001b[49m\u001b[43m=\u001b[49m\u001b[43mlocal_files_only\u001b[49m\u001b[43m,\u001b[49m\n\u001b[32m   1493\u001b[39m \u001b[43m    \u001b[49m\u001b[43m)\u001b[49m\n\u001b[32m   1494\u001b[39m \u001b[38;5;28;01mexcept\u001b[39;00m \u001b[38;5;167;01mException\u001b[39;00m:\n\u001b[32m   1495\u001b[39m     \u001b[38;5;28;01mreturn\u001b[39;00m \u001b[38;5;28;01mNone\u001b[39;00m\n",
      "\u001b[36mFile \u001b[39m\u001b[32m~/Desktop/Computational Social Media/project/socialmedia_project/.venv/lib/python3.13/site-packages/huggingface_hub/utils/_validators.py:114\u001b[39m, in \u001b[36mvalidate_hf_hub_args.<locals>._inner_fn\u001b[39m\u001b[34m(*args, **kwargs)\u001b[39m\n\u001b[32m    111\u001b[39m \u001b[38;5;28;01mif\u001b[39;00m check_use_auth_token:\n\u001b[32m    112\u001b[39m     kwargs = smoothly_deprecate_use_auth_token(fn_name=fn.\u001b[34m__name__\u001b[39m, has_token=has_token, kwargs=kwargs)\n\u001b[32m--> \u001b[39m\u001b[32m114\u001b[39m \u001b[38;5;28;01mreturn\u001b[39;00m \u001b[43mfn\u001b[49m\u001b[43m(\u001b[49m\u001b[43m*\u001b[49m\u001b[43margs\u001b[49m\u001b[43m,\u001b[49m\u001b[43m \u001b[49m\u001b[43m*\u001b[49m\u001b[43m*\u001b[49m\u001b[43mkwargs\u001b[49m\u001b[43m)\u001b[49m\n",
      "\u001b[36mFile \u001b[39m\u001b[32m~/Desktop/Computational Social Media/project/socialmedia_project/.venv/lib/python3.13/site-packages/huggingface_hub/file_download.py:1008\u001b[39m, in \u001b[36mhf_hub_download\u001b[39m\u001b[34m(repo_id, filename, subfolder, repo_type, revision, library_name, library_version, cache_dir, local_dir, user_agent, force_download, proxies, etag_timeout, token, local_files_only, headers, endpoint, resume_download, force_filename, local_dir_use_symlinks)\u001b[39m\n\u001b[32m    988\u001b[39m     \u001b[38;5;28;01mreturn\u001b[39;00m _hf_hub_download_to_local_dir(\n\u001b[32m    989\u001b[39m         \u001b[38;5;66;03m# Destination\u001b[39;00m\n\u001b[32m    990\u001b[39m         local_dir=local_dir,\n\u001b[32m   (...)\u001b[39m\u001b[32m   1005\u001b[39m         local_files_only=local_files_only,\n\u001b[32m   1006\u001b[39m     )\n\u001b[32m   1007\u001b[39m \u001b[38;5;28;01melse\u001b[39;00m:\n\u001b[32m-> \u001b[39m\u001b[32m1008\u001b[39m     \u001b[38;5;28;01mreturn\u001b[39;00m \u001b[43m_hf_hub_download_to_cache_dir\u001b[49m\u001b[43m(\u001b[49m\n\u001b[32m   1009\u001b[39m \u001b[43m        \u001b[49m\u001b[38;5;66;43;03m# Destination\u001b[39;49;00m\n\u001b[32m   1010\u001b[39m \u001b[43m        \u001b[49m\u001b[43mcache_dir\u001b[49m\u001b[43m=\u001b[49m\u001b[43mcache_dir\u001b[49m\u001b[43m,\u001b[49m\n\u001b[32m   1011\u001b[39m \u001b[43m        \u001b[49m\u001b[38;5;66;43;03m# File info\u001b[39;49;00m\n\u001b[32m   1012\u001b[39m \u001b[43m        \u001b[49m\u001b[43mrepo_id\u001b[49m\u001b[43m=\u001b[49m\u001b[43mrepo_id\u001b[49m\u001b[43m,\u001b[49m\n\u001b[32m   1013\u001b[39m \u001b[43m        \u001b[49m\u001b[43mfilename\u001b[49m\u001b[43m=\u001b[49m\u001b[43mfilename\u001b[49m\u001b[43m,\u001b[49m\n\u001b[32m   1014\u001b[39m \u001b[43m        \u001b[49m\u001b[43mrepo_type\u001b[49m\u001b[43m=\u001b[49m\u001b[43mrepo_type\u001b[49m\u001b[43m,\u001b[49m\n\u001b[32m   1015\u001b[39m \u001b[43m        \u001b[49m\u001b[43mrevision\u001b[49m\u001b[43m=\u001b[49m\u001b[43mrevision\u001b[49m\u001b[43m,\u001b[49m\n\u001b[32m   1016\u001b[39m \u001b[43m        \u001b[49m\u001b[38;5;66;43;03m# HTTP info\u001b[39;49;00m\n\u001b[32m   1017\u001b[39m \u001b[43m        \u001b[49m\u001b[43mendpoint\u001b[49m\u001b[43m=\u001b[49m\u001b[43mendpoint\u001b[49m\u001b[43m,\u001b[49m\n\u001b[32m   1018\u001b[39m \u001b[43m        \u001b[49m\u001b[43metag_timeout\u001b[49m\u001b[43m=\u001b[49m\u001b[43metag_timeout\u001b[49m\u001b[43m,\u001b[49m\n\u001b[32m   1019\u001b[39m \u001b[43m        \u001b[49m\u001b[43mheaders\u001b[49m\u001b[43m=\u001b[49m\u001b[43mhf_headers\u001b[49m\u001b[43m,\u001b[49m\n\u001b[32m   1020\u001b[39m \u001b[43m        \u001b[49m\u001b[43mproxies\u001b[49m\u001b[43m=\u001b[49m\u001b[43mproxies\u001b[49m\u001b[43m,\u001b[49m\n\u001b[32m   1021\u001b[39m \u001b[43m        \u001b[49m\u001b[43mtoken\u001b[49m\u001b[43m=\u001b[49m\u001b[43mtoken\u001b[49m\u001b[43m,\u001b[49m\n\u001b[32m   1022\u001b[39m \u001b[43m        \u001b[49m\u001b[38;5;66;43;03m# Additional options\u001b[39;49;00m\n\u001b[32m   1023\u001b[39m \u001b[43m        \u001b[49m\u001b[43mlocal_files_only\u001b[49m\u001b[43m=\u001b[49m\u001b[43mlocal_files_only\u001b[49m\u001b[43m,\u001b[49m\n\u001b[32m   1024\u001b[39m \u001b[43m        \u001b[49m\u001b[43mforce_download\u001b[49m\u001b[43m=\u001b[49m\u001b[43mforce_download\u001b[49m\u001b[43m,\u001b[49m\n\u001b[32m   1025\u001b[39m \u001b[43m    \u001b[49m\u001b[43m)\u001b[49m\n",
      "\u001b[36mFile \u001b[39m\u001b[32m~/Desktop/Computational Social Media/project/socialmedia_project/.venv/lib/python3.13/site-packages/huggingface_hub/file_download.py:1071\u001b[39m, in \u001b[36m_hf_hub_download_to_cache_dir\u001b[39m\u001b[34m(cache_dir, repo_id, filename, repo_type, revision, endpoint, etag_timeout, headers, proxies, token, local_files_only, force_download)\u001b[39m\n\u001b[32m   1067\u001b[39m         \u001b[38;5;28;01mreturn\u001b[39;00m pointer_path\n\u001b[32m   1069\u001b[39m \u001b[38;5;66;03m# Try to get metadata (etag, commit_hash, url, size) from the server.\u001b[39;00m\n\u001b[32m   1070\u001b[39m \u001b[38;5;66;03m# If we can't, a HEAD request error is returned.\u001b[39;00m\n\u001b[32m-> \u001b[39m\u001b[32m1071\u001b[39m (url_to_download, etag, commit_hash, expected_size, xet_file_data, head_call_error) = \u001b[43m_get_metadata_or_catch_error\u001b[49m\u001b[43m(\u001b[49m\n\u001b[32m   1072\u001b[39m \u001b[43m    \u001b[49m\u001b[43mrepo_id\u001b[49m\u001b[43m=\u001b[49m\u001b[43mrepo_id\u001b[49m\u001b[43m,\u001b[49m\n\u001b[32m   1073\u001b[39m \u001b[43m    \u001b[49m\u001b[43mfilename\u001b[49m\u001b[43m=\u001b[49m\u001b[43mfilename\u001b[49m\u001b[43m,\u001b[49m\n\u001b[32m   1074\u001b[39m \u001b[43m    \u001b[49m\u001b[43mrepo_type\u001b[49m\u001b[43m=\u001b[49m\u001b[43mrepo_type\u001b[49m\u001b[43m,\u001b[49m\n\u001b[32m   1075\u001b[39m \u001b[43m    \u001b[49m\u001b[43mrevision\u001b[49m\u001b[43m=\u001b[49m\u001b[43mrevision\u001b[49m\u001b[43m,\u001b[49m\n\u001b[32m   1076\u001b[39m \u001b[43m    \u001b[49m\u001b[43mendpoint\u001b[49m\u001b[43m=\u001b[49m\u001b[43mendpoint\u001b[49m\u001b[43m,\u001b[49m\n\u001b[32m   1077\u001b[39m \u001b[43m    \u001b[49m\u001b[43mproxies\u001b[49m\u001b[43m=\u001b[49m\u001b[43mproxies\u001b[49m\u001b[43m,\u001b[49m\n\u001b[32m   1078\u001b[39m \u001b[43m    \u001b[49m\u001b[43metag_timeout\u001b[49m\u001b[43m=\u001b[49m\u001b[43metag_timeout\u001b[49m\u001b[43m,\u001b[49m\n\u001b[32m   1079\u001b[39m \u001b[43m    \u001b[49m\u001b[43mheaders\u001b[49m\u001b[43m=\u001b[49m\u001b[43mheaders\u001b[49m\u001b[43m,\u001b[49m\n\u001b[32m   1080\u001b[39m \u001b[43m    \u001b[49m\u001b[43mtoken\u001b[49m\u001b[43m=\u001b[49m\u001b[43mtoken\u001b[49m\u001b[43m,\u001b[49m\n\u001b[32m   1081\u001b[39m \u001b[43m    \u001b[49m\u001b[43mlocal_files_only\u001b[49m\u001b[43m=\u001b[49m\u001b[43mlocal_files_only\u001b[49m\u001b[43m,\u001b[49m\n\u001b[32m   1082\u001b[39m \u001b[43m    \u001b[49m\u001b[43mstorage_folder\u001b[49m\u001b[43m=\u001b[49m\u001b[43mstorage_folder\u001b[49m\u001b[43m,\u001b[49m\n\u001b[32m   1083\u001b[39m \u001b[43m    \u001b[49m\u001b[43mrelative_filename\u001b[49m\u001b[43m=\u001b[49m\u001b[43mrelative_filename\u001b[49m\u001b[43m,\u001b[49m\n\u001b[32m   1084\u001b[39m \u001b[43m\u001b[49m\u001b[43m)\u001b[49m\n\u001b[32m   1086\u001b[39m \u001b[38;5;66;03m# etag can be None for several reasons:\u001b[39;00m\n\u001b[32m   1087\u001b[39m \u001b[38;5;66;03m# 1. we passed local_files_only.\u001b[39;00m\n\u001b[32m   1088\u001b[39m \u001b[38;5;66;03m# 2. we don't have a connection\u001b[39;00m\n\u001b[32m   (...)\u001b[39m\u001b[32m   1094\u001b[39m \u001b[38;5;66;03m# If the specified revision is a commit hash, look inside \"snapshots\".\u001b[39;00m\n\u001b[32m   1095\u001b[39m \u001b[38;5;66;03m# If the specified revision is a branch or tag, look inside \"refs\".\u001b[39;00m\n\u001b[32m   1096\u001b[39m \u001b[38;5;28;01mif\u001b[39;00m head_call_error \u001b[38;5;129;01mis\u001b[39;00m \u001b[38;5;129;01mnot\u001b[39;00m \u001b[38;5;28;01mNone\u001b[39;00m:\n\u001b[32m   1097\u001b[39m     \u001b[38;5;66;03m# Couldn't make a HEAD call => let's try to find a local file\u001b[39;00m\n",
      "\u001b[36mFile \u001b[39m\u001b[32m~/Desktop/Computational Social Media/project/socialmedia_project/.venv/lib/python3.13/site-packages/huggingface_hub/file_download.py:1531\u001b[39m, in \u001b[36m_get_metadata_or_catch_error\u001b[39m\u001b[34m(repo_id, filename, repo_type, revision, endpoint, proxies, etag_timeout, headers, token, local_files_only, relative_filename, storage_folder)\u001b[39m\n\u001b[32m   1529\u001b[39m \u001b[38;5;28;01mtry\u001b[39;00m:\n\u001b[32m   1530\u001b[39m     \u001b[38;5;28;01mtry\u001b[39;00m:\n\u001b[32m-> \u001b[39m\u001b[32m1531\u001b[39m         metadata = \u001b[43mget_hf_file_metadata\u001b[49m\u001b[43m(\u001b[49m\n\u001b[32m   1532\u001b[39m \u001b[43m            \u001b[49m\u001b[43murl\u001b[49m\u001b[43m=\u001b[49m\u001b[43murl\u001b[49m\u001b[43m,\u001b[49m\u001b[43m \u001b[49m\u001b[43mproxies\u001b[49m\u001b[43m=\u001b[49m\u001b[43mproxies\u001b[49m\u001b[43m,\u001b[49m\u001b[43m \u001b[49m\u001b[43mtimeout\u001b[49m\u001b[43m=\u001b[49m\u001b[43metag_timeout\u001b[49m\u001b[43m,\u001b[49m\u001b[43m \u001b[49m\u001b[43mheaders\u001b[49m\u001b[43m=\u001b[49m\u001b[43mheaders\u001b[49m\u001b[43m,\u001b[49m\u001b[43m \u001b[49m\u001b[43mtoken\u001b[49m\u001b[43m=\u001b[49m\u001b[43mtoken\u001b[49m\n\u001b[32m   1533\u001b[39m \u001b[43m        \u001b[49m\u001b[43m)\u001b[49m\n\u001b[32m   1534\u001b[39m     \u001b[38;5;28;01mexcept\u001b[39;00m EntryNotFoundError \u001b[38;5;28;01mas\u001b[39;00m http_error:\n\u001b[32m   1535\u001b[39m         \u001b[38;5;28;01mif\u001b[39;00m storage_folder \u001b[38;5;129;01mis\u001b[39;00m \u001b[38;5;129;01mnot\u001b[39;00m \u001b[38;5;28;01mNone\u001b[39;00m \u001b[38;5;129;01mand\u001b[39;00m relative_filename \u001b[38;5;129;01mis\u001b[39;00m \u001b[38;5;129;01mnot\u001b[39;00m \u001b[38;5;28;01mNone\u001b[39;00m:\n\u001b[32m   1536\u001b[39m             \u001b[38;5;66;03m# Cache the non-existence of the file\u001b[39;00m\n",
      "\u001b[36mFile \u001b[39m\u001b[32m~/Desktop/Computational Social Media/project/socialmedia_project/.venv/lib/python3.13/site-packages/huggingface_hub/utils/_validators.py:114\u001b[39m, in \u001b[36mvalidate_hf_hub_args.<locals>._inner_fn\u001b[39m\u001b[34m(*args, **kwargs)\u001b[39m\n\u001b[32m    111\u001b[39m \u001b[38;5;28;01mif\u001b[39;00m check_use_auth_token:\n\u001b[32m    112\u001b[39m     kwargs = smoothly_deprecate_use_auth_token(fn_name=fn.\u001b[34m__name__\u001b[39m, has_token=has_token, kwargs=kwargs)\n\u001b[32m--> \u001b[39m\u001b[32m114\u001b[39m \u001b[38;5;28;01mreturn\u001b[39;00m \u001b[43mfn\u001b[49m\u001b[43m(\u001b[49m\u001b[43m*\u001b[49m\u001b[43margs\u001b[49m\u001b[43m,\u001b[49m\u001b[43m \u001b[49m\u001b[43m*\u001b[49m\u001b[43m*\u001b[49m\u001b[43mkwargs\u001b[49m\u001b[43m)\u001b[49m\n",
      "\u001b[36mFile \u001b[39m\u001b[32m~/Desktop/Computational Social Media/project/socialmedia_project/.venv/lib/python3.13/site-packages/huggingface_hub/file_download.py:1448\u001b[39m, in \u001b[36mget_hf_file_metadata\u001b[39m\u001b[34m(url, token, proxies, timeout, library_name, library_version, user_agent, headers)\u001b[39m\n\u001b[32m   1445\u001b[39m hf_headers[\u001b[33m\"\u001b[39m\u001b[33mAccept-Encoding\u001b[39m\u001b[33m\"\u001b[39m] = \u001b[33m\"\u001b[39m\u001b[33midentity\u001b[39m\u001b[33m\"\u001b[39m  \u001b[38;5;66;03m# prevent any compression => we want to know the real size of the file\u001b[39;00m\n\u001b[32m   1447\u001b[39m \u001b[38;5;66;03m# Retrieve metadata\u001b[39;00m\n\u001b[32m-> \u001b[39m\u001b[32m1448\u001b[39m r = \u001b[43m_request_wrapper\u001b[49m\u001b[43m(\u001b[49m\n\u001b[32m   1449\u001b[39m \u001b[43m    \u001b[49m\u001b[43mmethod\u001b[49m\u001b[43m=\u001b[49m\u001b[33;43m\"\u001b[39;49m\u001b[33;43mHEAD\u001b[39;49m\u001b[33;43m\"\u001b[39;49m\u001b[43m,\u001b[49m\n\u001b[32m   1450\u001b[39m \u001b[43m    \u001b[49m\u001b[43murl\u001b[49m\u001b[43m=\u001b[49m\u001b[43murl\u001b[49m\u001b[43m,\u001b[49m\n\u001b[32m   1451\u001b[39m \u001b[43m    \u001b[49m\u001b[43mheaders\u001b[49m\u001b[43m=\u001b[49m\u001b[43mhf_headers\u001b[49m\u001b[43m,\u001b[49m\n\u001b[32m   1452\u001b[39m \u001b[43m    \u001b[49m\u001b[43mallow_redirects\u001b[49m\u001b[43m=\u001b[49m\u001b[38;5;28;43;01mFalse\u001b[39;49;00m\u001b[43m,\u001b[49m\n\u001b[32m   1453\u001b[39m \u001b[43m    \u001b[49m\u001b[43mfollow_relative_redirects\u001b[49m\u001b[43m=\u001b[49m\u001b[38;5;28;43;01mTrue\u001b[39;49;00m\u001b[43m,\u001b[49m\n\u001b[32m   1454\u001b[39m \u001b[43m    \u001b[49m\u001b[43mproxies\u001b[49m\u001b[43m=\u001b[49m\u001b[43mproxies\u001b[49m\u001b[43m,\u001b[49m\n\u001b[32m   1455\u001b[39m \u001b[43m    \u001b[49m\u001b[43mtimeout\u001b[49m\u001b[43m=\u001b[49m\u001b[43mtimeout\u001b[49m\u001b[43m,\u001b[49m\n\u001b[32m   1456\u001b[39m \u001b[43m\u001b[49m\u001b[43m)\u001b[49m\n\u001b[32m   1457\u001b[39m hf_raise_for_status(r)\n\u001b[32m   1459\u001b[39m \u001b[38;5;66;03m# Return\u001b[39;00m\n",
      "\u001b[36mFile \u001b[39m\u001b[32m~/Desktop/Computational Social Media/project/socialmedia_project/.venv/lib/python3.13/site-packages/huggingface_hub/file_download.py:286\u001b[39m, in \u001b[36m_request_wrapper\u001b[39m\u001b[34m(method, url, follow_relative_redirects, **params)\u001b[39m\n\u001b[32m    284\u001b[39m \u001b[38;5;66;03m# Recursively follow relative redirects\u001b[39;00m\n\u001b[32m    285\u001b[39m \u001b[38;5;28;01mif\u001b[39;00m follow_relative_redirects:\n\u001b[32m--> \u001b[39m\u001b[32m286\u001b[39m     response = \u001b[43m_request_wrapper\u001b[49m\u001b[43m(\u001b[49m\n\u001b[32m    287\u001b[39m \u001b[43m        \u001b[49m\u001b[43mmethod\u001b[49m\u001b[43m=\u001b[49m\u001b[43mmethod\u001b[49m\u001b[43m,\u001b[49m\n\u001b[32m    288\u001b[39m \u001b[43m        \u001b[49m\u001b[43murl\u001b[49m\u001b[43m=\u001b[49m\u001b[43murl\u001b[49m\u001b[43m,\u001b[49m\n\u001b[32m    289\u001b[39m \u001b[43m        \u001b[49m\u001b[43mfollow_relative_redirects\u001b[49m\u001b[43m=\u001b[49m\u001b[38;5;28;43;01mFalse\u001b[39;49;00m\u001b[43m,\u001b[49m\n\u001b[32m    290\u001b[39m \u001b[43m        \u001b[49m\u001b[43m*\u001b[49m\u001b[43m*\u001b[49m\u001b[43mparams\u001b[49m\u001b[43m,\u001b[49m\n\u001b[32m    291\u001b[39m \u001b[43m    \u001b[49m\u001b[43m)\u001b[49m\n\u001b[32m    293\u001b[39m     \u001b[38;5;66;03m# If redirection, we redirect only relative paths.\u001b[39;00m\n\u001b[32m    294\u001b[39m     \u001b[38;5;66;03m# This is useful in case of a renamed repository.\u001b[39;00m\n\u001b[32m    295\u001b[39m     \u001b[38;5;28;01mif\u001b[39;00m \u001b[32m300\u001b[39m <= response.status_code <= \u001b[32m399\u001b[39m:\n",
      "\u001b[36mFile \u001b[39m\u001b[32m~/Desktop/Computational Social Media/project/socialmedia_project/.venv/lib/python3.13/site-packages/huggingface_hub/file_download.py:309\u001b[39m, in \u001b[36m_request_wrapper\u001b[39m\u001b[34m(method, url, follow_relative_redirects, **params)\u001b[39m\n\u001b[32m    306\u001b[39m     \u001b[38;5;28;01mreturn\u001b[39;00m response\n\u001b[32m    308\u001b[39m \u001b[38;5;66;03m# Perform request and return if status_code is not in the retry list.\u001b[39;00m\n\u001b[32m--> \u001b[39m\u001b[32m309\u001b[39m response = \u001b[43mhttp_backoff\u001b[49m\u001b[43m(\u001b[49m\u001b[43mmethod\u001b[49m\u001b[43m=\u001b[49m\u001b[43mmethod\u001b[49m\u001b[43m,\u001b[49m\u001b[43m \u001b[49m\u001b[43murl\u001b[49m\u001b[43m=\u001b[49m\u001b[43murl\u001b[49m\u001b[43m,\u001b[49m\u001b[43m \u001b[49m\u001b[43m*\u001b[49m\u001b[43m*\u001b[49m\u001b[43mparams\u001b[49m\u001b[43m,\u001b[49m\u001b[43m \u001b[49m\u001b[43mretry_on_exceptions\u001b[49m\u001b[43m=\u001b[49m\u001b[43m(\u001b[49m\u001b[43m)\u001b[49m\u001b[43m,\u001b[49m\u001b[43m \u001b[49m\u001b[43mretry_on_status_codes\u001b[49m\u001b[43m=\u001b[49m\u001b[43m(\u001b[49m\u001b[32;43m429\u001b[39;49m\u001b[43m,\u001b[49m\u001b[43m)\u001b[49m\u001b[43m)\u001b[49m\n\u001b[32m    310\u001b[39m hf_raise_for_status(response)\n\u001b[32m    311\u001b[39m \u001b[38;5;28;01mreturn\u001b[39;00m response\n",
      "\u001b[36mFile \u001b[39m\u001b[32m~/Desktop/Computational Social Media/project/socialmedia_project/.venv/lib/python3.13/site-packages/huggingface_hub/utils/_http.py:310\u001b[39m, in \u001b[36mhttp_backoff\u001b[39m\u001b[34m(method, url, max_retries, base_wait_time, max_wait_time, retry_on_exceptions, retry_on_status_codes, **kwargs)\u001b[39m\n\u001b[32m    307\u001b[39m     kwargs[\u001b[33m\"\u001b[39m\u001b[33mdata\u001b[39m\u001b[33m\"\u001b[39m].seek(io_obj_initial_pos)\n\u001b[32m    309\u001b[39m \u001b[38;5;66;03m# Perform request and return if status_code is not in the retry list.\u001b[39;00m\n\u001b[32m--> \u001b[39m\u001b[32m310\u001b[39m response = \u001b[43msession\u001b[49m\u001b[43m.\u001b[49m\u001b[43mrequest\u001b[49m\u001b[43m(\u001b[49m\u001b[43mmethod\u001b[49m\u001b[43m=\u001b[49m\u001b[43mmethod\u001b[49m\u001b[43m,\u001b[49m\u001b[43m \u001b[49m\u001b[43murl\u001b[49m\u001b[43m=\u001b[49m\u001b[43murl\u001b[49m\u001b[43m,\u001b[49m\u001b[43m \u001b[49m\u001b[43m*\u001b[49m\u001b[43m*\u001b[49m\u001b[43mkwargs\u001b[49m\u001b[43m)\u001b[49m\n\u001b[32m    311\u001b[39m \u001b[38;5;28;01mif\u001b[39;00m response.status_code \u001b[38;5;129;01mnot\u001b[39;00m \u001b[38;5;129;01min\u001b[39;00m retry_on_status_codes:\n\u001b[32m    312\u001b[39m     \u001b[38;5;28;01mreturn\u001b[39;00m response\n",
      "\u001b[36mFile \u001b[39m\u001b[32m~/Desktop/Computational Social Media/project/socialmedia_project/.venv/lib/python3.13/site-packages/requests/sessions.py:589\u001b[39m, in \u001b[36mSession.request\u001b[39m\u001b[34m(self, method, url, params, data, headers, cookies, files, auth, timeout, allow_redirects, proxies, hooks, stream, verify, cert, json)\u001b[39m\n\u001b[32m    584\u001b[39m send_kwargs = {\n\u001b[32m    585\u001b[39m     \u001b[33m\"\u001b[39m\u001b[33mtimeout\u001b[39m\u001b[33m\"\u001b[39m: timeout,\n\u001b[32m    586\u001b[39m     \u001b[33m\"\u001b[39m\u001b[33mallow_redirects\u001b[39m\u001b[33m\"\u001b[39m: allow_redirects,\n\u001b[32m    587\u001b[39m }\n\u001b[32m    588\u001b[39m send_kwargs.update(settings)\n\u001b[32m--> \u001b[39m\u001b[32m589\u001b[39m resp = \u001b[38;5;28;43mself\u001b[39;49m\u001b[43m.\u001b[49m\u001b[43msend\u001b[49m\u001b[43m(\u001b[49m\u001b[43mprep\u001b[49m\u001b[43m,\u001b[49m\u001b[43m \u001b[49m\u001b[43m*\u001b[49m\u001b[43m*\u001b[49m\u001b[43msend_kwargs\u001b[49m\u001b[43m)\u001b[49m\n\u001b[32m    591\u001b[39m \u001b[38;5;28;01mreturn\u001b[39;00m resp\n",
      "\u001b[36mFile \u001b[39m\u001b[32m~/Desktop/Computational Social Media/project/socialmedia_project/.venv/lib/python3.13/site-packages/requests/sessions.py:703\u001b[39m, in \u001b[36mSession.send\u001b[39m\u001b[34m(self, request, **kwargs)\u001b[39m\n\u001b[32m    700\u001b[39m start = preferred_clock()\n\u001b[32m    702\u001b[39m \u001b[38;5;66;03m# Send the request\u001b[39;00m\n\u001b[32m--> \u001b[39m\u001b[32m703\u001b[39m r = \u001b[43madapter\u001b[49m\u001b[43m.\u001b[49m\u001b[43msend\u001b[49m\u001b[43m(\u001b[49m\u001b[43mrequest\u001b[49m\u001b[43m,\u001b[49m\u001b[43m \u001b[49m\u001b[43m*\u001b[49m\u001b[43m*\u001b[49m\u001b[43mkwargs\u001b[49m\u001b[43m)\u001b[49m\n\u001b[32m    705\u001b[39m \u001b[38;5;66;03m# Total elapsed time of the request (approximately)\u001b[39;00m\n\u001b[32m    706\u001b[39m elapsed = preferred_clock() - start\n",
      "\u001b[36mFile \u001b[39m\u001b[32m~/Desktop/Computational Social Media/project/socialmedia_project/.venv/lib/python3.13/site-packages/huggingface_hub/utils/_http.py:96\u001b[39m, in \u001b[36mUniqueRequestIdAdapter.send\u001b[39m\u001b[34m(self, request, *args, **kwargs)\u001b[39m\n\u001b[32m     94\u001b[39m     logger.debug(\u001b[33mf\u001b[39m\u001b[33m\"\u001b[39m\u001b[33mSend: \u001b[39m\u001b[38;5;132;01m{\u001b[39;00m_curlify(request)\u001b[38;5;132;01m}\u001b[39;00m\u001b[33m\"\u001b[39m)\n\u001b[32m     95\u001b[39m \u001b[38;5;28;01mtry\u001b[39;00m:\n\u001b[32m---> \u001b[39m\u001b[32m96\u001b[39m     \u001b[38;5;28;01mreturn\u001b[39;00m \u001b[38;5;28;43msuper\u001b[39;49m\u001b[43m(\u001b[49m\u001b[43m)\u001b[49m\u001b[43m.\u001b[49m\u001b[43msend\u001b[49m\u001b[43m(\u001b[49m\u001b[43mrequest\u001b[49m\u001b[43m,\u001b[49m\u001b[43m \u001b[49m\u001b[43m*\u001b[49m\u001b[43margs\u001b[49m\u001b[43m,\u001b[49m\u001b[43m \u001b[49m\u001b[43m*\u001b[49m\u001b[43m*\u001b[49m\u001b[43mkwargs\u001b[49m\u001b[43m)\u001b[49m\n\u001b[32m     97\u001b[39m \u001b[38;5;28;01mexcept\u001b[39;00m requests.RequestException \u001b[38;5;28;01mas\u001b[39;00m e:\n\u001b[32m     98\u001b[39m     request_id = request.headers.get(X_AMZN_TRACE_ID)\n",
      "\u001b[36mFile \u001b[39m\u001b[32m~/Desktop/Computational Social Media/project/socialmedia_project/.venv/lib/python3.13/site-packages/requests/adapters.py:667\u001b[39m, in \u001b[36mHTTPAdapter.send\u001b[39m\u001b[34m(self, request, stream, timeout, verify, cert, proxies)\u001b[39m\n\u001b[32m    664\u001b[39m     timeout = TimeoutSauce(connect=timeout, read=timeout)\n\u001b[32m    666\u001b[39m \u001b[38;5;28;01mtry\u001b[39;00m:\n\u001b[32m--> \u001b[39m\u001b[32m667\u001b[39m     resp = \u001b[43mconn\u001b[49m\u001b[43m.\u001b[49m\u001b[43murlopen\u001b[49m\u001b[43m(\u001b[49m\n\u001b[32m    668\u001b[39m \u001b[43m        \u001b[49m\u001b[43mmethod\u001b[49m\u001b[43m=\u001b[49m\u001b[43mrequest\u001b[49m\u001b[43m.\u001b[49m\u001b[43mmethod\u001b[49m\u001b[43m,\u001b[49m\n\u001b[32m    669\u001b[39m \u001b[43m        \u001b[49m\u001b[43murl\u001b[49m\u001b[43m=\u001b[49m\u001b[43murl\u001b[49m\u001b[43m,\u001b[49m\n\u001b[32m    670\u001b[39m \u001b[43m        \u001b[49m\u001b[43mbody\u001b[49m\u001b[43m=\u001b[49m\u001b[43mrequest\u001b[49m\u001b[43m.\u001b[49m\u001b[43mbody\u001b[49m\u001b[43m,\u001b[49m\n\u001b[32m    671\u001b[39m \u001b[43m        \u001b[49m\u001b[43mheaders\u001b[49m\u001b[43m=\u001b[49m\u001b[43mrequest\u001b[49m\u001b[43m.\u001b[49m\u001b[43mheaders\u001b[49m\u001b[43m,\u001b[49m\n\u001b[32m    672\u001b[39m \u001b[43m        \u001b[49m\u001b[43mredirect\u001b[49m\u001b[43m=\u001b[49m\u001b[38;5;28;43;01mFalse\u001b[39;49;00m\u001b[43m,\u001b[49m\n\u001b[32m    673\u001b[39m \u001b[43m        \u001b[49m\u001b[43massert_same_host\u001b[49m\u001b[43m=\u001b[49m\u001b[38;5;28;43;01mFalse\u001b[39;49;00m\u001b[43m,\u001b[49m\n\u001b[32m    674\u001b[39m \u001b[43m        \u001b[49m\u001b[43mpreload_content\u001b[49m\u001b[43m=\u001b[49m\u001b[38;5;28;43;01mFalse\u001b[39;49;00m\u001b[43m,\u001b[49m\n\u001b[32m    675\u001b[39m \u001b[43m        \u001b[49m\u001b[43mdecode_content\u001b[49m\u001b[43m=\u001b[49m\u001b[38;5;28;43;01mFalse\u001b[39;49;00m\u001b[43m,\u001b[49m\n\u001b[32m    676\u001b[39m \u001b[43m        \u001b[49m\u001b[43mretries\u001b[49m\u001b[43m=\u001b[49m\u001b[38;5;28;43mself\u001b[39;49m\u001b[43m.\u001b[49m\u001b[43mmax_retries\u001b[49m\u001b[43m,\u001b[49m\n\u001b[32m    677\u001b[39m \u001b[43m        \u001b[49m\u001b[43mtimeout\u001b[49m\u001b[43m=\u001b[49m\u001b[43mtimeout\u001b[49m\u001b[43m,\u001b[49m\n\u001b[32m    678\u001b[39m \u001b[43m        \u001b[49m\u001b[43mchunked\u001b[49m\u001b[43m=\u001b[49m\u001b[43mchunked\u001b[49m\u001b[43m,\u001b[49m\n\u001b[32m    679\u001b[39m \u001b[43m    \u001b[49m\u001b[43m)\u001b[49m\n\u001b[32m    681\u001b[39m \u001b[38;5;28;01mexcept\u001b[39;00m (ProtocolError, \u001b[38;5;167;01mOSError\u001b[39;00m) \u001b[38;5;28;01mas\u001b[39;00m err:\n\u001b[32m    682\u001b[39m     \u001b[38;5;28;01mraise\u001b[39;00m \u001b[38;5;167;01mConnectionError\u001b[39;00m(err, request=request)\n",
      "\u001b[36mFile \u001b[39m\u001b[32m~/Desktop/Computational Social Media/project/socialmedia_project/.venv/lib/python3.13/site-packages/urllib3/connectionpool.py:787\u001b[39m, in \u001b[36mHTTPConnectionPool.urlopen\u001b[39m\u001b[34m(self, method, url, body, headers, retries, redirect, assert_same_host, timeout, pool_timeout, release_conn, chunked, body_pos, preload_content, decode_content, **response_kw)\u001b[39m\n\u001b[32m    784\u001b[39m response_conn = conn \u001b[38;5;28;01mif\u001b[39;00m \u001b[38;5;129;01mnot\u001b[39;00m release_conn \u001b[38;5;28;01melse\u001b[39;00m \u001b[38;5;28;01mNone\u001b[39;00m\n\u001b[32m    786\u001b[39m \u001b[38;5;66;03m# Make the request on the HTTPConnection object\u001b[39;00m\n\u001b[32m--> \u001b[39m\u001b[32m787\u001b[39m response = \u001b[38;5;28;43mself\u001b[39;49m\u001b[43m.\u001b[49m\u001b[43m_make_request\u001b[49m\u001b[43m(\u001b[49m\n\u001b[32m    788\u001b[39m \u001b[43m    \u001b[49m\u001b[43mconn\u001b[49m\u001b[43m,\u001b[49m\n\u001b[32m    789\u001b[39m \u001b[43m    \u001b[49m\u001b[43mmethod\u001b[49m\u001b[43m,\u001b[49m\n\u001b[32m    790\u001b[39m \u001b[43m    \u001b[49m\u001b[43murl\u001b[49m\u001b[43m,\u001b[49m\n\u001b[32m    791\u001b[39m \u001b[43m    \u001b[49m\u001b[43mtimeout\u001b[49m\u001b[43m=\u001b[49m\u001b[43mtimeout_obj\u001b[49m\u001b[43m,\u001b[49m\n\u001b[32m    792\u001b[39m \u001b[43m    \u001b[49m\u001b[43mbody\u001b[49m\u001b[43m=\u001b[49m\u001b[43mbody\u001b[49m\u001b[43m,\u001b[49m\n\u001b[32m    793\u001b[39m \u001b[43m    \u001b[49m\u001b[43mheaders\u001b[49m\u001b[43m=\u001b[49m\u001b[43mheaders\u001b[49m\u001b[43m,\u001b[49m\n\u001b[32m    794\u001b[39m \u001b[43m    \u001b[49m\u001b[43mchunked\u001b[49m\u001b[43m=\u001b[49m\u001b[43mchunked\u001b[49m\u001b[43m,\u001b[49m\n\u001b[32m    795\u001b[39m \u001b[43m    \u001b[49m\u001b[43mretries\u001b[49m\u001b[43m=\u001b[49m\u001b[43mretries\u001b[49m\u001b[43m,\u001b[49m\n\u001b[32m    796\u001b[39m \u001b[43m    \u001b[49m\u001b[43mresponse_conn\u001b[49m\u001b[43m=\u001b[49m\u001b[43mresponse_conn\u001b[49m\u001b[43m,\u001b[49m\n\u001b[32m    797\u001b[39m \u001b[43m    \u001b[49m\u001b[43mpreload_content\u001b[49m\u001b[43m=\u001b[49m\u001b[43mpreload_content\u001b[49m\u001b[43m,\u001b[49m\n\u001b[32m    798\u001b[39m \u001b[43m    \u001b[49m\u001b[43mdecode_content\u001b[49m\u001b[43m=\u001b[49m\u001b[43mdecode_content\u001b[49m\u001b[43m,\u001b[49m\n\u001b[32m    799\u001b[39m \u001b[43m    \u001b[49m\u001b[43m*\u001b[49m\u001b[43m*\u001b[49m\u001b[43mresponse_kw\u001b[49m\u001b[43m,\u001b[49m\n\u001b[32m    800\u001b[39m \u001b[43m\u001b[49m\u001b[43m)\u001b[49m\n\u001b[32m    802\u001b[39m \u001b[38;5;66;03m# Everything went great!\u001b[39;00m\n\u001b[32m    803\u001b[39m clean_exit = \u001b[38;5;28;01mTrue\u001b[39;00m\n",
      "\u001b[36mFile \u001b[39m\u001b[32m~/Desktop/Computational Social Media/project/socialmedia_project/.venv/lib/python3.13/site-packages/urllib3/connectionpool.py:534\u001b[39m, in \u001b[36mHTTPConnectionPool._make_request\u001b[39m\u001b[34m(self, conn, method, url, body, headers, retries, timeout, chunked, response_conn, preload_content, decode_content, enforce_content_length)\u001b[39m\n\u001b[32m    532\u001b[39m \u001b[38;5;66;03m# Receive the response from the server\u001b[39;00m\n\u001b[32m    533\u001b[39m \u001b[38;5;28;01mtry\u001b[39;00m:\n\u001b[32m--> \u001b[39m\u001b[32m534\u001b[39m     response = \u001b[43mconn\u001b[49m\u001b[43m.\u001b[49m\u001b[43mgetresponse\u001b[49m\u001b[43m(\u001b[49m\u001b[43m)\u001b[49m\n\u001b[32m    535\u001b[39m \u001b[38;5;28;01mexcept\u001b[39;00m (BaseSSLError, \u001b[38;5;167;01mOSError\u001b[39;00m) \u001b[38;5;28;01mas\u001b[39;00m e:\n\u001b[32m    536\u001b[39m     \u001b[38;5;28mself\u001b[39m._raise_timeout(err=e, url=url, timeout_value=read_timeout)\n",
      "\u001b[36mFile \u001b[39m\u001b[32m~/Desktop/Computational Social Media/project/socialmedia_project/.venv/lib/python3.13/site-packages/urllib3/connection.py:516\u001b[39m, in \u001b[36mHTTPConnection.getresponse\u001b[39m\u001b[34m(self)\u001b[39m\n\u001b[32m    513\u001b[39m _shutdown = \u001b[38;5;28mgetattr\u001b[39m(\u001b[38;5;28mself\u001b[39m.sock, \u001b[33m\"\u001b[39m\u001b[33mshutdown\u001b[39m\u001b[33m\"\u001b[39m, \u001b[38;5;28;01mNone\u001b[39;00m)\n\u001b[32m    515\u001b[39m \u001b[38;5;66;03m# Get the response from http.client.HTTPConnection\u001b[39;00m\n\u001b[32m--> \u001b[39m\u001b[32m516\u001b[39m httplib_response = \u001b[38;5;28;43msuper\u001b[39;49m\u001b[43m(\u001b[49m\u001b[43m)\u001b[49m\u001b[43m.\u001b[49m\u001b[43mgetresponse\u001b[49m\u001b[43m(\u001b[49m\u001b[43m)\u001b[49m\n\u001b[32m    518\u001b[39m \u001b[38;5;28;01mtry\u001b[39;00m:\n\u001b[32m    519\u001b[39m     assert_header_parsing(httplib_response.msg)\n",
      "\u001b[36mFile \u001b[39m\u001b[32m/opt/homebrew/Cellar/python@3.13/3.13.2/Frameworks/Python.framework/Versions/3.13/lib/python3.13/http/client.py:1430\u001b[39m, in \u001b[36mHTTPConnection.getresponse\u001b[39m\u001b[34m(self)\u001b[39m\n\u001b[32m   1428\u001b[39m \u001b[38;5;28;01mtry\u001b[39;00m:\n\u001b[32m   1429\u001b[39m     \u001b[38;5;28;01mtry\u001b[39;00m:\n\u001b[32m-> \u001b[39m\u001b[32m1430\u001b[39m         \u001b[43mresponse\u001b[49m\u001b[43m.\u001b[49m\u001b[43mbegin\u001b[49m\u001b[43m(\u001b[49m\u001b[43m)\u001b[49m\n\u001b[32m   1431\u001b[39m     \u001b[38;5;28;01mexcept\u001b[39;00m \u001b[38;5;167;01mConnectionError\u001b[39;00m:\n\u001b[32m   1432\u001b[39m         \u001b[38;5;28mself\u001b[39m.close()\n",
      "\u001b[36mFile \u001b[39m\u001b[32m/opt/homebrew/Cellar/python@3.13/3.13.2/Frameworks/Python.framework/Versions/3.13/lib/python3.13/http/client.py:331\u001b[39m, in \u001b[36mHTTPResponse.begin\u001b[39m\u001b[34m(self)\u001b[39m\n\u001b[32m    329\u001b[39m \u001b[38;5;66;03m# read until we get a non-100 response\u001b[39;00m\n\u001b[32m    330\u001b[39m \u001b[38;5;28;01mwhile\u001b[39;00m \u001b[38;5;28;01mTrue\u001b[39;00m:\n\u001b[32m--> \u001b[39m\u001b[32m331\u001b[39m     version, status, reason = \u001b[38;5;28;43mself\u001b[39;49m\u001b[43m.\u001b[49m\u001b[43m_read_status\u001b[49m\u001b[43m(\u001b[49m\u001b[43m)\u001b[49m\n\u001b[32m    332\u001b[39m     \u001b[38;5;28;01mif\u001b[39;00m status != CONTINUE:\n\u001b[32m    333\u001b[39m         \u001b[38;5;28;01mbreak\u001b[39;00m\n",
      "\u001b[36mFile \u001b[39m\u001b[32m/opt/homebrew/Cellar/python@3.13/3.13.2/Frameworks/Python.framework/Versions/3.13/lib/python3.13/http/client.py:292\u001b[39m, in \u001b[36mHTTPResponse._read_status\u001b[39m\u001b[34m(self)\u001b[39m\n\u001b[32m    291\u001b[39m \u001b[38;5;28;01mdef\u001b[39;00m\u001b[38;5;250m \u001b[39m\u001b[34m_read_status\u001b[39m(\u001b[38;5;28mself\u001b[39m):\n\u001b[32m--> \u001b[39m\u001b[32m292\u001b[39m     line = \u001b[38;5;28mstr\u001b[39m(\u001b[38;5;28;43mself\u001b[39;49m\u001b[43m.\u001b[49m\u001b[43mfp\u001b[49m\u001b[43m.\u001b[49m\u001b[43mreadline\u001b[49m\u001b[43m(\u001b[49m\u001b[43m_MAXLINE\u001b[49m\u001b[43m \u001b[49m\u001b[43m+\u001b[49m\u001b[43m \u001b[49m\u001b[32;43m1\u001b[39;49m\u001b[43m)\u001b[49m, \u001b[33m\"\u001b[39m\u001b[33miso-8859-1\u001b[39m\u001b[33m\"\u001b[39m)\n\u001b[32m    293\u001b[39m     \u001b[38;5;28;01mif\u001b[39;00m \u001b[38;5;28mlen\u001b[39m(line) > _MAXLINE:\n\u001b[32m    294\u001b[39m         \u001b[38;5;28;01mraise\u001b[39;00m LineTooLong(\u001b[33m\"\u001b[39m\u001b[33mstatus line\u001b[39m\u001b[33m\"\u001b[39m)\n",
      "\u001b[36mFile \u001b[39m\u001b[32m/opt/homebrew/Cellar/python@3.13/3.13.2/Frameworks/Python.framework/Versions/3.13/lib/python3.13/socket.py:719\u001b[39m, in \u001b[36mSocketIO.readinto\u001b[39m\u001b[34m(self, b)\u001b[39m\n\u001b[32m    717\u001b[39m     \u001b[38;5;28;01mraise\u001b[39;00m \u001b[38;5;167;01mOSError\u001b[39;00m(\u001b[33m\"\u001b[39m\u001b[33mcannot read from timed out object\u001b[39m\u001b[33m\"\u001b[39m)\n\u001b[32m    718\u001b[39m \u001b[38;5;28;01mtry\u001b[39;00m:\n\u001b[32m--> \u001b[39m\u001b[32m719\u001b[39m     \u001b[38;5;28;01mreturn\u001b[39;00m \u001b[38;5;28;43mself\u001b[39;49m\u001b[43m.\u001b[49m\u001b[43m_sock\u001b[49m\u001b[43m.\u001b[49m\u001b[43mrecv_into\u001b[49m\u001b[43m(\u001b[49m\u001b[43mb\u001b[49m\u001b[43m)\u001b[49m\n\u001b[32m    720\u001b[39m \u001b[38;5;28;01mexcept\u001b[39;00m timeout:\n\u001b[32m    721\u001b[39m     \u001b[38;5;28mself\u001b[39m._timeout_occurred = \u001b[38;5;28;01mTrue\u001b[39;00m\n",
      "\u001b[36mFile \u001b[39m\u001b[32m/opt/homebrew/Cellar/python@3.13/3.13.2/Frameworks/Python.framework/Versions/3.13/lib/python3.13/ssl.py:1304\u001b[39m, in \u001b[36mSSLSocket.recv_into\u001b[39m\u001b[34m(self, buffer, nbytes, flags)\u001b[39m\n\u001b[32m   1300\u001b[39m     \u001b[38;5;28;01mif\u001b[39;00m flags != \u001b[32m0\u001b[39m:\n\u001b[32m   1301\u001b[39m         \u001b[38;5;28;01mraise\u001b[39;00m \u001b[38;5;167;01mValueError\u001b[39;00m(\n\u001b[32m   1302\u001b[39m           \u001b[33m\"\u001b[39m\u001b[33mnon-zero flags not allowed in calls to recv_into() on \u001b[39m\u001b[38;5;132;01m%s\u001b[39;00m\u001b[33m\"\u001b[39m %\n\u001b[32m   1303\u001b[39m           \u001b[38;5;28mself\u001b[39m.\u001b[34m__class__\u001b[39m)\n\u001b[32m-> \u001b[39m\u001b[32m1304\u001b[39m     \u001b[38;5;28;01mreturn\u001b[39;00m \u001b[38;5;28;43mself\u001b[39;49m\u001b[43m.\u001b[49m\u001b[43mread\u001b[49m\u001b[43m(\u001b[49m\u001b[43mnbytes\u001b[49m\u001b[43m,\u001b[49m\u001b[43m \u001b[49m\u001b[43mbuffer\u001b[49m\u001b[43m)\u001b[49m\n\u001b[32m   1305\u001b[39m \u001b[38;5;28;01melse\u001b[39;00m:\n\u001b[32m   1306\u001b[39m     \u001b[38;5;28;01mreturn\u001b[39;00m \u001b[38;5;28msuper\u001b[39m().recv_into(buffer, nbytes, flags)\n",
      "\u001b[36mFile \u001b[39m\u001b[32m/opt/homebrew/Cellar/python@3.13/3.13.2/Frameworks/Python.framework/Versions/3.13/lib/python3.13/ssl.py:1138\u001b[39m, in \u001b[36mSSLSocket.read\u001b[39m\u001b[34m(self, len, buffer)\u001b[39m\n\u001b[32m   1136\u001b[39m \u001b[38;5;28;01mtry\u001b[39;00m:\n\u001b[32m   1137\u001b[39m     \u001b[38;5;28;01mif\u001b[39;00m buffer \u001b[38;5;129;01mis\u001b[39;00m \u001b[38;5;129;01mnot\u001b[39;00m \u001b[38;5;28;01mNone\u001b[39;00m:\n\u001b[32m-> \u001b[39m\u001b[32m1138\u001b[39m         \u001b[38;5;28;01mreturn\u001b[39;00m \u001b[38;5;28;43mself\u001b[39;49m\u001b[43m.\u001b[49m\u001b[43m_sslobj\u001b[49m\u001b[43m.\u001b[49m\u001b[43mread\u001b[49m\u001b[43m(\u001b[49m\u001b[38;5;28;43mlen\u001b[39;49m\u001b[43m,\u001b[49m\u001b[43m \u001b[49m\u001b[43mbuffer\u001b[49m\u001b[43m)\u001b[49m\n\u001b[32m   1139\u001b[39m     \u001b[38;5;28;01melse\u001b[39;00m:\n\u001b[32m   1140\u001b[39m         \u001b[38;5;28;01mreturn\u001b[39;00m \u001b[38;5;28mself\u001b[39m._sslobj.read(\u001b[38;5;28mlen\u001b[39m)\n",
      "\u001b[31mKeyboardInterrupt\u001b[39m: "
     ]
    }
   ],
   "source": [
    "# Topic modeling - runs for 20 sec\n",
    "from bertopic import BERTopic\n",
    "\n",
    "topic_model = BERTopic()\n",
    "topics, probs = topic_model.fit_transform(nlp_df['document_str'])"
   ]
  },
  {
   "cell_type": "code",
   "execution_count": null,
   "id": "e3ba9399",
   "metadata": {},
   "outputs": [
    {
     "data": {
      "application/vnd.microsoft.datawrangler.viewer.v0+json": {
       "columns": [
        {
         "name": "index",
         "rawType": "int64",
         "type": "integer"
        },
        {
         "name": "Topic",
         "rawType": "int64",
         "type": "integer"
        },
        {
         "name": "Count",
         "rawType": "int64",
         "type": "integer"
        },
        {
         "name": "Name",
         "rawType": "object",
         "type": "string"
        },
        {
         "name": "Representation",
         "rawType": "object",
         "type": "unknown"
        },
        {
         "name": "Representative_Docs",
         "rawType": "object",
         "type": "unknown"
        }
       ],
       "ref": "d6d80d6a-8a40-4ba8-bd9c-479962472c94",
       "rows": [
        [
         "0",
         "-1",
         "65",
         "-1_languages_english_servers_language",
         "['languages', 'english', 'servers', 'language', 'community', 'trolling', 'nfts', 'server', 'crypto', 'users']",
         "['allowed languages german english main languages following languages tolerated dutch french spanish italian', 'languages allowed norwegian english portuguese moderation issues posts languages deleted', 'english language cannot moderate languages time able moderate english unsupported language accounts suspended see https joinmastodon org servers find server country language']"
        ],
        [
         "1",
         "0",
         "100",
         "0_content_sensitive_nsfw_explicit",
         "['content', 'sensitive', 'nsfw', 'explicit', 'media', 'warning', 'must', 'marked', 'sexually', 'cw']",
         "['explicit nsfw content without content warnings sensitive media markers explicit content must used user avatars header images', 'explicit nsfw content without content warnings sensitive media markers explicit content must used user avatars header images', 'explicit nsfw content must marked sensitive content warning explicit content must used user avatars header images']"
        ],
        [
         "2",
         "1",
         "67",
         "1_illegal_content_united_post",
         "['illegal', 'content', 'united', 'post', 'laws', 'kingdom', 'germany', 'created', 'must', 'copyrighted']",
         "['content illegal united kingdom', 'content illegal united kingdom', 'content illegal united kingdom']"
        ],
        [
         "3",
         "2",
         "65",
         "2_spam_advertising_accounts_commercial",
         "['spam', 'advertising', 'accounts', 'commercial', 'email', 'excessive', 'business', 'account', 'ads', 'services']",
         "['advertising spam excessive promotion', 'spam includes commercial advertising promotion services seo', 'spam includes commercial advertising promotion services seo']"
        ],
        [
         "4",
         "3",
         "41",
         "3_false_misleading_information_intentionally",
         "['false', 'misleading', 'information', 'intentionally', 'share', 'misinformation', 'disinformation', 'health', 'conspiracy', 'military']",
         "['share intentionally false misleading information', 'share intentionally false misleading information', 'share intentionally false misleading information']"
        ],
        [
         "5",
         "4",
         "37",
         "4_violence_incitement_ideologies_promotion",
         "['violence', 'incitement', 'ideologies', 'promotion', 'violent', 'harm', 'self', 'vaccination', 'inciting', 'exploitation']",
         "['incitement violence promotion violent ideologies', 'incitement violence promotion violent ideologies', 'incitement violence promotion violent ideologies']"
        ],
        [
         "6",
         "5",
         "35",
         "5_speech_hate_hateful_sexist",
         "['speech', 'hate', 'hateful', 'sexist', 'slurs', 'homophobic', 'racist', 'transphobic', 'discrimination', 'language']",
         "['hate speech zero tolerance policy hate speech includes slurs form degrading dehumanizing derisive speech based characteristics race heritage disability age sex sexual preference gender socio economic status religion', 'racism hate speech', 'hate speech']"
        ],
        [
         "7",
         "6",
         "26",
         "6_respectful_respect_keep_everyone",
         "['respectful', 'respect', 'keep', 'everyone', 'civil', 'others', 'safe', 'treat', 'personal', 'would']",
         "['order make libretooth welcoming safe place everyone intolerant towards intolerance toxic poisonous content behaviour crosses line abuse harassment welcome instance', 'excellent polite respect everyone everyone welcome instance libretooth safe place people regardless age gender class sexual orientation appearance', 'keep conversations civil respectful even disagreement']"
        ],
        [
         "8",
         "7",
         "25",
         "7_transphobia_homophobia_racism_sexism",
         "['transphobia', 'homophobia', 'racism', 'sexism', 'discrimination', 'called', 'conversion', 'therapy', 'deadnaming', 'misgendering']",
         "['racism sexism homophobia transphobia xenophobia anti semitism casteism including targeted misgendering deadnaming promotion called conversion therapy', 'discrimination including limited racism sexism homophobia transphobia including targeted misgendering deadnaming promotion called conversion therapy', 'discrimination including limited racism sexism homophobia transphobia including targeted misgendering deadnaming promotion called conversion therapy']"
        ],
        [
         "9",
         "8",
         "24",
         "8_doxxing_dogpiling_users_harassment",
         "['doxxing', 'dogpiling', 'users', 'harassment', 'identifying', 'information', 'harrassment', 'reporting', 'personally', 'spam']",
         "['harassment dogpiling doxxing users', 'harassment dogpiling doxxing users', 'harassment dogpiling doxxing users']"
        ],
        [
         "10",
         "9",
         "24",
         "9_admins_report_admin_moderators",
         "['admins', 'report', 'admin', 'moderators', 'team', 'server', 'rules', 'staff', 'moderator', 'moderation']",
         "['lack specific rule certain behavior indicate acceptance behavior us limited amount time world jerk', 'please report issues admins moderators let us take care please act admin moderator instead report adverse activity team handle properly well make reports admins', 'lack specific rule certain behavior indicate acceptance behavior us limited amount time world jerk']"
        ],
        [
         "11",
         "10",
         "19",
         "10_parody_impersonation_clearly_unless",
         "['parody', 'impersonation', 'clearly', 'unless', 'accounts', 'individuals', 'brand', 'impersonate', 'account', 'figures']",
         "['impersonation individuals public figures organisations unless clearly marked parody', 'impersonation individuals public figures organisations unless clearly marked parody', 'impersonation individuals public figures organisations unless clearly marked parody']"
        ],
        [
         "12",
         "11",
         "17",
         "11_bot_bots_unlisted_automated",
         "['bot', 'bots', 'unlisted', 'automated', 'post', 'per', 'posts', 'hour', 'set', 'must']",
         "['automated posting accounts post 50 using automation must labeled bot user profile help provide visual indicator visitors automated posts must limited one post per hour 24 per day post visibility set public limit unlisted posts', 'automated bot accounts must enable bot flag account preferences respect nobot markers post unlisted unless making less one post per hour', 'automated bot accounts must enable bot flag account preferences respect nobot markers post unlisted unless making less one post per hour']"
        ],
        [
         "13",
         "12",
         "14",
         "12_agree_community_mastodon_rules",
         "['agree', 'community', 'mastodon', 'rules', 'code', 'read', 'conduct', 'https', 'charter', 'acgn']",
         "['please direct requests site features mastodon open source project may implement downstream changes specific instance see fit wish maintain relative parity latest stable mastodon release', 'agree bound terms code conduct https mastodon africa', 'agree community rules instance']"
        ],
        [
         "14",
         "13",
         "13",
         "13_harassment_harass_kind_group",
         "['harassment', 'harass', 'kind', 'group', 'engage', 'attacks', 'anyone', 'personal', 'repeated', 'requested']",
         "['engage harassment kind', 'repeated targeted harassment individual group unacceptable behaviour may lead temporary permanent suspension', 'harass anyone participate group harassment anyone otherwise engage name calling personal attacks']"
        ],
        [
         "15",
         "14",
         "12",
         "14_years_18_older_least",
         "['years', '18', 'older', 'least', '16', 'old', '13', 'must', 'use', 'age']",
         "['use service least 18 years old', 'must older 16 years according european law must least 16 years old use instance', 'must older 16 years according european law must least 16 years old use instance']"
        ]
       ],
       "shape": {
        "columns": 5,
        "rows": 16
       }
      },
      "text/html": [
       "<div>\n",
       "<style scoped>\n",
       "    .dataframe tbody tr th:only-of-type {\n",
       "        vertical-align: middle;\n",
       "    }\n",
       "\n",
       "    .dataframe tbody tr th {\n",
       "        vertical-align: top;\n",
       "    }\n",
       "\n",
       "    .dataframe thead th {\n",
       "        text-align: right;\n",
       "    }\n",
       "</style>\n",
       "<table border=\"1\" class=\"dataframe\">\n",
       "  <thead>\n",
       "    <tr style=\"text-align: right;\">\n",
       "      <th></th>\n",
       "      <th>Topic</th>\n",
       "      <th>Count</th>\n",
       "      <th>Name</th>\n",
       "      <th>Representation</th>\n",
       "      <th>Representative_Docs</th>\n",
       "    </tr>\n",
       "  </thead>\n",
       "  <tbody>\n",
       "    <tr>\n",
       "      <th>0</th>\n",
       "      <td>-1</td>\n",
       "      <td>65</td>\n",
       "      <td>-1_languages_english_servers_language</td>\n",
       "      <td>[languages, english, servers, language, commun...</td>\n",
       "      <td>[allowed languages german english main languag...</td>\n",
       "    </tr>\n",
       "    <tr>\n",
       "      <th>1</th>\n",
       "      <td>0</td>\n",
       "      <td>100</td>\n",
       "      <td>0_content_sensitive_nsfw_explicit</td>\n",
       "      <td>[content, sensitive, nsfw, explicit, media, wa...</td>\n",
       "      <td>[explicit nsfw content without content warning...</td>\n",
       "    </tr>\n",
       "    <tr>\n",
       "      <th>2</th>\n",
       "      <td>1</td>\n",
       "      <td>67</td>\n",
       "      <td>1_illegal_content_united_post</td>\n",
       "      <td>[illegal, content, united, post, laws, kingdom...</td>\n",
       "      <td>[content illegal united kingdom, content illeg...</td>\n",
       "    </tr>\n",
       "    <tr>\n",
       "      <th>3</th>\n",
       "      <td>2</td>\n",
       "      <td>65</td>\n",
       "      <td>2_spam_advertising_accounts_commercial</td>\n",
       "      <td>[spam, advertising, accounts, commercial, emai...</td>\n",
       "      <td>[advertising spam excessive promotion, spam in...</td>\n",
       "    </tr>\n",
       "    <tr>\n",
       "      <th>4</th>\n",
       "      <td>3</td>\n",
       "      <td>41</td>\n",
       "      <td>3_false_misleading_information_intentionally</td>\n",
       "      <td>[false, misleading, information, intentionally...</td>\n",
       "      <td>[share intentionally false misleading informat...</td>\n",
       "    </tr>\n",
       "    <tr>\n",
       "      <th>5</th>\n",
       "      <td>4</td>\n",
       "      <td>37</td>\n",
       "      <td>4_violence_incitement_ideologies_promotion</td>\n",
       "      <td>[violence, incitement, ideologies, promotion, ...</td>\n",
       "      <td>[incitement violence promotion violent ideolog...</td>\n",
       "    </tr>\n",
       "    <tr>\n",
       "      <th>6</th>\n",
       "      <td>5</td>\n",
       "      <td>35</td>\n",
       "      <td>5_speech_hate_hateful_sexist</td>\n",
       "      <td>[speech, hate, hateful, sexist, slurs, homopho...</td>\n",
       "      <td>[hate speech zero tolerance policy hate speech...</td>\n",
       "    </tr>\n",
       "    <tr>\n",
       "      <th>7</th>\n",
       "      <td>6</td>\n",
       "      <td>26</td>\n",
       "      <td>6_respectful_respect_keep_everyone</td>\n",
       "      <td>[respectful, respect, keep, everyone, civil, o...</td>\n",
       "      <td>[order make libretooth welcoming safe place ev...</td>\n",
       "    </tr>\n",
       "    <tr>\n",
       "      <th>8</th>\n",
       "      <td>7</td>\n",
       "      <td>25</td>\n",
       "      <td>7_transphobia_homophobia_racism_sexism</td>\n",
       "      <td>[transphobia, homophobia, racism, sexism, disc...</td>\n",
       "      <td>[racism sexism homophobia transphobia xenophob...</td>\n",
       "    </tr>\n",
       "    <tr>\n",
       "      <th>9</th>\n",
       "      <td>8</td>\n",
       "      <td>24</td>\n",
       "      <td>8_doxxing_dogpiling_users_harassment</td>\n",
       "      <td>[doxxing, dogpiling, users, harassment, identi...</td>\n",
       "      <td>[harassment dogpiling doxxing users, harassmen...</td>\n",
       "    </tr>\n",
       "    <tr>\n",
       "      <th>10</th>\n",
       "      <td>9</td>\n",
       "      <td>24</td>\n",
       "      <td>9_admins_report_admin_moderators</td>\n",
       "      <td>[admins, report, admin, moderators, team, serv...</td>\n",
       "      <td>[lack specific rule certain behavior indicate ...</td>\n",
       "    </tr>\n",
       "    <tr>\n",
       "      <th>11</th>\n",
       "      <td>10</td>\n",
       "      <td>19</td>\n",
       "      <td>10_parody_impersonation_clearly_unless</td>\n",
       "      <td>[parody, impersonation, clearly, unless, accou...</td>\n",
       "      <td>[impersonation individuals public figures orga...</td>\n",
       "    </tr>\n",
       "    <tr>\n",
       "      <th>12</th>\n",
       "      <td>11</td>\n",
       "      <td>17</td>\n",
       "      <td>11_bot_bots_unlisted_automated</td>\n",
       "      <td>[bot, bots, unlisted, automated, post, per, po...</td>\n",
       "      <td>[automated posting accounts post 50 using auto...</td>\n",
       "    </tr>\n",
       "    <tr>\n",
       "      <th>13</th>\n",
       "      <td>12</td>\n",
       "      <td>14</td>\n",
       "      <td>12_agree_community_mastodon_rules</td>\n",
       "      <td>[agree, community, mastodon, rules, code, read...</td>\n",
       "      <td>[please direct requests site features mastodon...</td>\n",
       "    </tr>\n",
       "    <tr>\n",
       "      <th>14</th>\n",
       "      <td>13</td>\n",
       "      <td>13</td>\n",
       "      <td>13_harassment_harass_kind_group</td>\n",
       "      <td>[harassment, harass, kind, group, engage, atta...</td>\n",
       "      <td>[engage harassment kind, repeated targeted har...</td>\n",
       "    </tr>\n",
       "    <tr>\n",
       "      <th>15</th>\n",
       "      <td>14</td>\n",
       "      <td>12</td>\n",
       "      <td>14_years_18_older_least</td>\n",
       "      <td>[years, 18, older, least, 16, old, 13, must, u...</td>\n",
       "      <td>[use service least 18 years old, must older 16...</td>\n",
       "    </tr>\n",
       "  </tbody>\n",
       "</table>\n",
       "</div>"
      ],
      "text/plain": [
       "    Topic  Count                                          Name  \\\n",
       "0      -1     65         -1_languages_english_servers_language   \n",
       "1       0    100             0_content_sensitive_nsfw_explicit   \n",
       "2       1     67                 1_illegal_content_united_post   \n",
       "3       2     65        2_spam_advertising_accounts_commercial   \n",
       "4       3     41  3_false_misleading_information_intentionally   \n",
       "5       4     37    4_violence_incitement_ideologies_promotion   \n",
       "6       5     35                  5_speech_hate_hateful_sexist   \n",
       "7       6     26            6_respectful_respect_keep_everyone   \n",
       "8       7     25        7_transphobia_homophobia_racism_sexism   \n",
       "9       8     24          8_doxxing_dogpiling_users_harassment   \n",
       "10      9     24              9_admins_report_admin_moderators   \n",
       "11     10     19        10_parody_impersonation_clearly_unless   \n",
       "12     11     17                11_bot_bots_unlisted_automated   \n",
       "13     12     14             12_agree_community_mastodon_rules   \n",
       "14     13     13               13_harassment_harass_kind_group   \n",
       "15     14     12                       14_years_18_older_least   \n",
       "\n",
       "                                       Representation  \\\n",
       "0   [languages, english, servers, language, commun...   \n",
       "1   [content, sensitive, nsfw, explicit, media, wa...   \n",
       "2   [illegal, content, united, post, laws, kingdom...   \n",
       "3   [spam, advertising, accounts, commercial, emai...   \n",
       "4   [false, misleading, information, intentionally...   \n",
       "5   [violence, incitement, ideologies, promotion, ...   \n",
       "6   [speech, hate, hateful, sexist, slurs, homopho...   \n",
       "7   [respectful, respect, keep, everyone, civil, o...   \n",
       "8   [transphobia, homophobia, racism, sexism, disc...   \n",
       "9   [doxxing, dogpiling, users, harassment, identi...   \n",
       "10  [admins, report, admin, moderators, team, serv...   \n",
       "11  [parody, impersonation, clearly, unless, accou...   \n",
       "12  [bot, bots, unlisted, automated, post, per, po...   \n",
       "13  [agree, community, mastodon, rules, code, read...   \n",
       "14  [harassment, harass, kind, group, engage, atta...   \n",
       "15  [years, 18, older, least, 16, old, 13, must, u...   \n",
       "\n",
       "                                  Representative_Docs  \n",
       "0   [allowed languages german english main languag...  \n",
       "1   [explicit nsfw content without content warning...  \n",
       "2   [content illegal united kingdom, content illeg...  \n",
       "3   [advertising spam excessive promotion, spam in...  \n",
       "4   [share intentionally false misleading informat...  \n",
       "5   [incitement violence promotion violent ideolog...  \n",
       "6   [hate speech zero tolerance policy hate speech...  \n",
       "7   [order make libretooth welcoming safe place ev...  \n",
       "8   [racism sexism homophobia transphobia xenophob...  \n",
       "9   [harassment dogpiling doxxing users, harassmen...  \n",
       "10  [lack specific rule certain behavior indicate ...  \n",
       "11  [impersonation individuals public figures orga...  \n",
       "12  [automated posting accounts post 50 using auto...  \n",
       "13  [please direct requests site features mastodon...  \n",
       "14  [engage harassment kind, repeated targeted har...  \n",
       "15  [use service least 18 years old, must older 16...  "
      ]
     },
     "execution_count": 174,
     "metadata": {},
     "output_type": "execute_result"
    }
   ],
   "source": [
    "topic_model.get_topic_info()"
   ]
  },
  {
   "cell_type": "markdown",
   "id": "9e24ec87",
   "metadata": {},
   "source": [
    "## Reddit dataset"
   ]
  },
  {
   "cell_type": "code",
   "execution_count": null,
   "id": "04e377d8",
   "metadata": {},
   "outputs": [
    {
     "data": {
      "application/vnd.microsoft.datawrangler.viewer.v0+json": {
       "columns": [
        {
         "name": "index",
         "rawType": "int64",
         "type": "integer"
        },
        {
         "name": "domain",
         "rawType": "object",
         "type": "string"
        },
        {
         "name": "title",
         "rawType": "object",
         "type": "string"
        },
        {
         "name": "description",
         "rawType": "object",
         "type": "string"
        },
        {
         "name": "languages",
         "rawType": "object",
         "type": "string"
        },
        {
         "name": "total_users",
         "rawType": "int64",
         "type": "integer"
        },
        {
         "name": "active_month",
         "rawType": "int64",
         "type": "integer"
        },
        {
         "name": "rules",
         "rawType": "object",
         "type": "unknown"
        }
       ],
       "ref": "049f2297-69c5-4187-a516-205fdcf4da38",
       "rows": [
        [
         "0",
         "Home",
         "Home",
         "nan",
         "en",
         "307843",
         "51",
         "[]"
        ],
        [
         "2",
         "NoStupidQuestions",
         "No such thing as stupid questions",
         "Ask away!\n\nDisclaimer: This is an anonymous forum so answers may not be correct",
         "en",
         "6021303",
         "4872",
         "['Top level comments must contain a genuine human-written attempt at an answer', ' Please try searching the subreddit for your question first', ' Be Nice', ' No medical advice questions', ' No trolling or joke questions', \" No suicide or 'was I raped/sexual assaulted/sexually harrassed?' questions\", ' No self-promotion, shilling or begging', ' No illegal/unethical or disturbing subject matter', ' No disguised rants, agenda posts or potstirring']"
        ],
        [
         "3",
         "BaldursGate3",
         "Baldur's Gate 3",
         "A community all about Baldur's Gate III, the role-playing video game by Larian Studios. BG3 is the third main game in the Baldur's Gate series. Baldur's Gate III is based on a modified version of the Dungeons & Dragons 5th edition (D&D 5e) tabletop RPG ruleset.\n\nGather your party and venture forth!",
         "en",
         "3118378",
         "1384",
         "['Be civil to one another.', ' Respect the opinions of others.', ' Keep your posts relevant.', ' Tag spoilers and NSFW content.', ' Memes, screenshots, and fanart must be flaired.', ' No Spamming', ' No Tav, Build/Multiclass, or LFG Posts outside of their megathreads', ' No piracy allowed. No posting pirated material of any kind but especially 5e material', \" Use modmail for issues or giveaways - don't mention/link or directly message the Mods\", ' No discussion exclusively about 3rd Party wikis', ' No AI generated content or discussion', ' All posts should be in English. Non-English comments are allowed.', ' No asking for game codes/the game/steam accounts', ' No posting about bigoted mods', ' Cosplay posts must now be submitted on Sundays. ']"
        ],
        [
         "4",
         "facepalm",
         "now double verified",
         "/r/facepalm - please sir can I have some more?",
         "en",
         "8145733",
         "2345",
         "['No uncivil, bigoted, misogynist, misandrist, racist comments or posts.', ' No Misinformation', ' No Memes', ' No language error posts', ' No jokes/satire/trolls posts', ' Remove identifying personal information', ' No \\'likes\"/\"shares\" posts', ' No \"Reddit Meta\" Posts', ' No posts about politicians being politicians', ' No posts attacking a political party or side']"
        ],
        [
         "5",
         "interestingasfuck",
         "Interesting As Fuck",
         "For anything truly interesting as fuck",
         "en",
         "13961838",
         "4038",
         "['Posts MUST be INTERESTING AS FUCK!', ' No Politics', ' Titles must be descriptive and directly related to the content', ' No porn or gore', ' No doxing/witch hunts or meta related posts', ' Provide a source when the title is in doubt', ' No FCoO/flooding', ' No self-promotion', ' Be civil', ' Repost limitations', ' No gossip or tabloid-type material', ' Additional/temporary rules']"
        ],
        [
         "6",
         "Damnthatsinteresting",
         "Damn, that's interesting!",
         "For the most interesting things on the internet",
         "en",
         "19795678",
         "3299",
         "['Only \"Damnthatsinteresting\" content', ' Use descriptive titles', ' No racism, bigotry, or hate speech', ' No screenshots/memes/infographics', ' Moderator discretion', ' No reposts', ' No politics', ' Posts making claims must be sourced in comments at time of posting']"
        ],
        [
         "7",
         "LivestreamFail",
         "r/LivestreamFail",
         "The place for all things livestreaming.",
         "en",
         "4007153",
         "3960",
         "['Harassment: Civility', ' Harassment: Death & Violence', ' Harassment: Discrimination', ' Harassment: Unsourced Allegations', ' Harassment: Speculation', ' Harassment: Out of Context Content', ' Quality: Duplicate Submissions', ' Quality: Title Guidelines', ' Quality: Old News', ' Spam: Engagement Manipulation', ' Spam:  LSF Meta Posts', ' Spam: LSF Meta Comments', ' Spam: Off-topic', ' Restricted Content', ' Banned Streamers']"
        ],
        [
         "8",
         "pics",
         "Reddit Pics",
         "A place for photographs, pictures, and other images.",
         "en",
         "32398953",
         "3539",
         "['No screenshots, AI images, or pictures in which the focus is a screen.', ' No digital elements or text.', ' No pornography or gore.', ' No doxxing or witch-hunts.', ' Titles must obey all relevant rules.', ' Only approved image-hosts.', ' No GIFs or videos.', ' Remain civil.', ' No progress-pictures.', ' No FCoO or flooding.', ' Reposts are subject to limitations.', ' No self-promotional accounts.']"
        ],
        [
         "9",
         "Palworld",
         "Palworld",
         "[Unaffiliated with Pocketpair] \nPalworld is a brand-new multiplayer, open-world survival crafting game where you can befriend and collect mysterious creatures called \"Pals\" in a vast new world! Make your Pals fight, build, farm, work in factories, and more!",
         "en",
         "722697",
         "88",
         "['Respect and Courtesy', ' Relevancy', ' No Low Effort Content or Spamming', ' No NSFW or Generally Inappropriate Content', ' Self Promotion Guidelines', ' No Sales, Advertisements, or Content Involving Monetary Exchange or Tender.', ' Art Submission Guidelines', ' English Only', ' Piracy, Hacks, and Cheating']"
        ],
        [
         "10",
         "AmItheAsshole",
         "Am I the Asshole? ",
         "A catharsis for the frustrated moral philosopher in all of us, and a place to finally find out if you were wrong in an argument that's been bothering you. Tell us about any non-violent conflict you have experienced; give us both sides of the story, and find out if you're right, or you're the asshole. \n\nSee our ~~*Best Of*~~ \"Most Controversial\" at /r/AITAFiltered!",
         "en",
         "24179747",
         "3163",
         "['Be Civil', ' Voting Rules', ' Accept Your Judgment', ' Never Delete An Active Discussion', ' No Violeпce', ' How To Post', ' Post Interpersonal Conflicts', ' No Shitposts, No AI', ' Do Not Ask For Advice', ' Updates and META posts are restricted', ' No Partings/Relationship/Sex/Reproductive Autonomy Posts', ' This Is Not A Debate Sub', ' No Revenge Stories', ' No Medical Conflicts', ' Review the FAQ Before Participating']"
        ],
        [
         "11",
         "mildlyinfuriating",
         "jukmifgguggh",
         "jugkfmghgug",
         "en",
         "10478887",
         "3795",
         "['Be civil. Respect Reddiquette and follow Reddit sitewide rules.', ' No memes, overdone references, price complaints, text-heavy pictures, or other low-quality posts.  ', ' No Reddit meta posts.', \" No reposts under 6 months or crossposts unless it's OC.\", ' No GIFs cut short or overly edited GIFs. ', ' No politics, pushing agendas, or grandstanding. ', ' Hide or blur personal info such as full names, numbers, and addresses. ', ' No promotions.']"
        ],
        [
         "12",
         "Piracy",
         "Piracy: ꜱᴀɪʟ ᴛʜᴇ ʜɪɢʜ ꜱᴇᴀꜱ",
         "⚓ Dedicated to the discussion of digital piracy, including ethical problems and legal advancements.",
         "en",
         "2179942",
         "1824",
         "['Posts must be related to the discussion of digital piracy', \" Don't request invites, trade, sell, or self-promote\", \" Don't request or link to specific pirated titles, including DMs\", ' Show effort and respect']"
        ],
        [
         "13",
         "PeterExplainsTheJoke",
         "PeterExplainsTheJoke",
         "Hey gamers, this is the subreddit where you post a meme/joke you don't understand so it can be explained to you. You can also post memes about u/PeterExplainsTheJoke or just post weird pictures of Peter.",
         "en",
         "1819939",
         "665",
         "['Poor Behavior', ' Recently posted jokes', ' Dogwhistles/Conspiracy Theories', ' Metaposts', \" 'Wooooshing' users\", ' Low effort posts', ' Banned Jokes', ' Political Shilling / Debating']"
        ],
        [
         "14",
         "funny",
         "funny",
         "Reddit's largest humor depository",
         "en",
         "66845994",
         "2551",
         "['All posts must make an attempt at humor.', ' No memes, HIFW, MRW, MeIRL, DAE, or similar posts.', ' No reposts.', ' No personal info, no hate speech, no harassment.', ' No politics or political figures.', ' No forbidden titles, low-effort titles, or posts about Reddit cakedays.', ' No gore, pornography, or animal cruelty.', ' No unoriginal comics.', ' No pictures of just text.', ' No social-media, messaging, or AI-generated content.']"
        ],
        [
         "15",
         "AITAH",
         "AITAH",
         "This is a community like r/AmITheAsshole, except unlike that subreddit you can post interpersonal conflicts. Anything that's AITA including relationships, hypotheticals, even posting about Scar from the Lion King and trying to convince redditors that he was not the AH.\n\nrules: don't berate others and no pornography we have children here",
         "en",
         "4693425",
         "3275",
         "['No completely fake posts. ', ' No AI or Bot post and comments', ' No karma farming', ' No third party posts.', ' Be civil to each other. ', ' No excessive use of demeaning language or names.', ' No advertising']"
        ],
        [
         "16",
         "movies",
         "Movie News and Discussion",
         "The goal of /r/Movies is to provide an inclusive place for discussions and news about films with major releases. Submissions should be for the purpose of informing or initiating a discussion, not just to entertain readers. Read our extensive list of rules for more information on other types of posts like fan-art and self-promotion, or message the moderators if you have any questions.",
         "en",
         "35497336",
         "4034",
         "['Do Familiarize Yourself With Our Rules.', ' No Intentional Antagonism or Negative Attention Whoring', ' No Spam & Self-promotion - Same Source Posts', ' No Image Posts & Memes', ' No Ambiguous/Misleading/Inaccurate Information or Clickbait in the Submission Title', ' No Extraneous Comic Book Movie Submissions', ' No Repost or Discussion Threads of New Releases', ' No Spoilers', ' No Encouraging Piracy', ' No Subreddit Brigading', ' AI Generated Garbage', ' No Low Effort Posts', ' Scuttlebutt and Canards', ' No Complaints of a Movie OP has Not Completed.', ' Political Ranting Unrelated to the Movie at Hand']"
        ],
        [
         "17",
         "Helldivers",
         "Helldivers",
         "A subreddit dedicated to HELLDIVERS and HELLDIVERS II, intense co-op shooters set in a satirical dystopian future where you play as one of mankind's elite soldiers determined to spread managed democracy. Developed by Arrowhead Game Studios.",
         "en",
         "1975825",
         "876",
         "['Be Civil', ' No reposts', ' No spamming', ' No begging', ' No naming and shaming', ' Credit the original creator', ' No low efforts posts/comments', ' No LFG request posts (use the megathread)', ' Posts/comments must be related to Helldivers', ' No leaks/cheats/exploits discussions', ' Limited Self-promotion is allowed', ' No real-world political discussions', ' No low-quality rants/vents', ' Use the Q&A Megathread for simple questions', ' Submissions must be in English']"
        ],
        [
         "18",
         "gaming",
         "r/gaming",
         "The Number One Gaming forum on the Internet.",
         "en",
         "46599439",
         "7308",
         "['Not directly gaming related or generic meme template', ' Posting guidelines, bandwagons, brigades, direct reply posts.', ' Piracy', ' Unmarked spoiler / Unmarked NSFW.', ' No Giveaways / Trades / Contests / Items for sale / Donation requests / Crypto anything', ' Not original source / Website screenshot', ' Spam / Excessive self-promotion', ' Discussion prompts must be posted as self/text posts', ' Bigotry / Incivility / Toxicity', ' AMA related rule.']"
        ],
        [
         "19",
         "worldnews",
         "World News",
         "A place for major news from around the world, excluding US-internal news.",
         "en",
         "45645893",
         "9572",
         "['No US Internal News or Politics', ' No Editorialized or Misleading Titles', ' No Feature stories', ' No Editorials, Opinion or Analysis Pieces', ' No Articles In Languages Other Than English', ' No Images, Videos or Audio Clips', ' No Old News Articles (≥ 1 Week old)', ' Your content might be removed if /r/worldnews is not the appropriate subreddit for the story.', ' No Bigotry or Other Offensive Content', ' No Personal Attacks On Other Users', ' No Memes, Gifs, unlabeled NSFW images', ' No chatGPT bots or copy/paste bots']"
        ],
        [
         "20",
         "leagueoflegends",
         "League of Legends",
         "This is a subreddit devoted to the game League of Legends.",
         "en",
         "8135989",
         "2369",
         "['Please Read the full Rules on the sub. These are just several important ones', ' No Personal Attacks', ' All Claims Require Evidence', ' No Excessively Sexual or Violent Content/No NSFW', \" Don't Discuss or Advertise Cheats or Exploits\", ' Posts Must Be Directly Related To League of Legends', ' Specific restricted content (see rules for list)', \" Don't Address Individuals or Distinct Entities\", ' Feature Suggestions', ' Personal Stories', ' Spoilers have to be tagged', ' Esports Content Restrictions', ' No Vague or Misleading Titles', ' Short duration content belongs in a text post', ' Reposts']"
        ],
        [
         "21",
         "pcmasterrace",
         "PC Master Race - PCMR: A place where all enthusiasts of PC, PC gaming and PC technology are welcome!",
         "Welcome to the official subreddit of the PC Master Race / PCMR!\n\nAll PC-related content is welcome, including build help, tech support, and any doubt one might have about PC ownership.\n\nYou don't necessarily need a PC to be a member of the PCMR. You just have to love PCs. It's not about the hardware in your rig, but the software in your heart!\n\nJoin us in celebrating and promoting tech, knowledge, and the best gaming, study, and work platform there exists. The Personal Computer.",
         "en",
         "15127454",
         "1806",
         "['Harassment/calls to action against others', ' Follow PCMR Etiquette', ' Do not link to outside threads', ' Anonymize all images/screenshots', ' No referral or affiliate links', ' Low quality, unrelated, unoriginal or low-effort posts will be deleted at mod discretion.', ' Do not discriminate against others', ' No begging, trading, selling, or asking for valuation.', ' Do not abuse the NSFW or Spoiler tags', ' Peasantry posts must be self posts', ' Giveaway rules', ' Read our full rules here']"
        ],
        [
         "22",
         "Unexpected",
         "Unexpected",
         "This subreddit is for unexpected twists in videos and gifs.",
         "en",
         "11547639",
         "901",
         "['Expected/No twist', ' Keep Content Civil', ' Unmarked NSFW/NSFL', ' No Reposts', ' Bad Title', ' No low/poor quality videos', ' No death or abuse', ' No minors', ' No glorifying violence/tragedy', ' Politics', ' No Pictures of Text - visit /r/unextexted', ' No stealing content', ' No linking to Reddit', \" Follow Reddit's TOS\"]"
        ],
        [
         "23",
         "news",
         "News",
         "The place for news articles about current events in the United States and the rest of the world. Discuss it all here.",
         "en",
         "30164625",
         "6295",
         "['Submissions must be articles about a specific news event', ' Old News', ' No opinion/analysis or advocacy pieces', ' Articles must not be primarily concerning politics', ' No editorialized titles', ' Title must match article title', ' No paywalls/blogspam that steals content', ' No posts covering an already submitted story', ' Do not be racist, sexist, vitriolic, or overly crude', ' Do not be unnecessarily rude or provocative', ' No cheap or distracting jokes or memes', ' No witchhunting. Follow the Reddit Content Policy.', ' Do not advocate or celebrate death', ' No bots/Novelty accounts']"
        ],
        [
         "24",
         "politics",
         "Politics",
         "/r/Politics is for news and discussion about U.S. politics.",
         "en",
         "8822252",
         "8842",
         "['General: No hateful speech', ' General: No novelty accounts or bots', ' General: No spam or solicitation', ' Comments: No incivility or personal attacks towards users', ' Comments: No flaming, baiting, or trolling', ' Comments: No witch hunts or personal information', ' Comments: Follow AMA specific rules', ' Posts: Submissions must be explicitly about US politics', ' Posts: Submissions must be published within the last 7 days', ' Posts: Submissions must be from the Approved Domain List', ' Posts: Titles must be the exact headline from the article with minor exceptions', ' Posts: Do not flood the new queue', ' Posts: No copy-pasted submissions or non-English articles', ' Posts: Disallowed submission types', ' Posts: Disclose employment or affiliation with a source']"
        ],
        [
         "25",
         "wallstreetbets",
         "wallstreetbets",
         "Like 4chan found a Bloomberg Terminal.",
         "en",
         "18670873",
         "5996",
         "['Avoid Purely Political Discussion', ' Screenshots of Social Media Posts are Prohibited', ' Market Cap Must Be Above $500MM USD', ' Keep Threads Interesting, Otherwise Use the Daily!', ' YOLOs Must Be Above $10K or $25K (Options, Shares)', ' Gains and Losses Must Be Above $2.5K or $5K (Options, Shares)', ' Gains and Losses Must Be Realized', ' Only Crypto Allowed is BTC and ETH', ' Avoid Pump & Dumps, Short Squeezes, and Market Manipulation', \" No Bullshitting - Only Comment If You Know What You're Talking About\", \" Please Don't Derail Discussion by Brigading, Spreading Hate, or Downvoting Everyone\", \" Don't Shit on the Community\", ' No Advertisement, Self-Promotion, Fundraising, or Begging', ' Content Guidelines', ' Glorifying Losses is Unacceptable']"
        ],
        [
         "26",
         "todayilearned",
         "Today I Learned (TIL)",
         "You learn something new every day; what did you learn today?\nSubmit interesting and specific facts about something that you just found out here.",
         "en",
         "40508942",
         "6548",
         "['Inaccurate/unverifiable/not supported by source', ' No personal opinions/anecdotes/subjective posts', ' No recent sources', ' No politics/agenda pushing', ' No misleading claims', \" Too general/can't stand on its own/how to\", ' No submissions about software/websites', ' All NSFW links must be tagged.']"
        ],
        [
         "27",
         "nottheonion",
         "Sadly, this is not the Onion.",
         "For true stories that you could have sworn were from The Onion.",
         "en",
         "25679956",
         "2142",
         "['Do not alter headlines.', ' Submissions must be oniony.', ' Only submit news articles.', ' Use original, reliable sources.', ' Do not repost similar articles.', ' No satire articles', ' No tabloid sources', ' No old news.', ' Only submit articles in English.', ' Do not post mobile links.', ' No blocked or redirected links', ' No personal attacks, racism, sexism, or bigotry', ' Don’t break Reddit rules.']"
        ],
        [
         "28",
         "memes",
         "/r/Memes the original since 2008",
         "Memes!\n\nA way of describing cultural information being shared.\nAn element of a culture or system of behavior that may be considered to be passed from one individual to another by nongenetic means, especially imitation.",
         "en",
         "35469931",
         "967",
         "['Rule 1 - ALL POSTS MUST BE MEMES and FOLLOW A GENERAL MEME FORMAT', ' Rule 2 - NO MEMES ABOUT POLARIZING/POLITICAL TOPICS, VULNERABLE GROUPS, VIOLENCE, ETC. [SEE LIST]', ' Rule 3 - NO SPAM/CHAINPOSTING and NO OVERUSED/PROHIBITED MEME TEMPLATES [SEE LIST]', ' Rule 4 - NO INTERACTION-BAITING POSTS/TITLES and NO IDENTIFYING INFO/WATERMARKS', ' Rule 5 - NO VIDEOS LONGER THAN 15 SECONDS and DIRECT REDDIT UPLOADS ONLY (NO LINKS)', ' Rule 6 - ONLY POST MEMES YOU ACTUALLY MADE YOURSELF/NO REPOSTS and NO BAD CROPPING/LOW-RES MEMES']"
        ],
        [
         "29",
         "PublicFreakout",
         "/r/PublicFreakout",
         "A subreddit dedicated to people freaking out, melting down, losing their cool, or being weird in public.",
         "en",
         "4708767",
         "2282",
         "['Rule 1', ' No doxxing', ' Rule 2', ' Use tact videos involving mental disorders', ' Rule 3', ' Abusive comments will be removed', ' Rule 4', ' No racism, sexism, transphobia or bigotry', ' Rule 5', ' Video posts only', ' Rule 6', ' Text Posts require moderator approval.', ' Rule 7', ' Posting Guidelines.', ' Rule 8', ' No videos involving death/murder.', ' Rule 9', ' Facebook Videos are allowed, not encouraged', ' Rule 10', ' Submissions must fit community']"
        ],
        [
         "30",
         "Wellthatsucks",
         "Well... That sucks...",
         "Posts that make you go: \"Well.. that sucks..\"",
         "en",
         "4071395",
         "927",
         "['Please follow reddiquette.', ' Please be civil.', ' No injuries', ' No compilations ', ' No low effort', ' No Reposts.']"
        ],
        [
         "31",
         "explainlikeimfive",
         "Explain Like I'm Five | Don't Panic!",
         "Explain Like I'm Five is the best forum and archive on the internet for layperson-friendly explanations.\n\n\nDon't Panic!",
         "en",
         "23228465",
         "2442",
         "['Be Civil', ' All submissions must seek objective explanations', ' Top-level comments must be written explanations', ' Explain for laypeople (but not actual 5-year-olds)', ' ELI5 is for factual information, not opinions', ' Loaded questions are not allowed', ' Search before posting', \" don't repeat old posts\", \" Don't guess\", \" Don't try to trick the bot\", ' Posts must begin with \"ELI5:\"', ' Link to the Detailed Rules']"
        ],
        [
         "32",
         "OutOfTheLoop",
         "What's everyone on about?",
         "A subreddit to help you keep up to date with what's going on with reddit and other stuff.",
         "en",
         "3584343",
         "654",
         "['Post title must be a current, unbiased, and coherent question', ' Text body must include context', ' Recently asked - already on the frontpage (search)', ' Top-level comment must answer or ask a follow-up', ' Uncivil', ' Not a loop - better suited for another subreddit', ' No AI Answers']"
        ],
        [
         "33",
         "OnePiece",
         "One Piece",
         "Welcome to r/OnePiece, the community for Eiichiro Oda's manga and anime series One Piece. From the East Blue to the New World, anything related to the world of One Piece belongs here! If you've just set sail with the Straw Hat Pirates, be wary of spoilers on this subreddit!",
         "en",
         "5164542",
         "426",
         "['Be mindful of Spoilers.', ' No separate posts of chapter thread for 24h', ' Fanart/cosplay must directly link to the source', ' Plain panels/scenes must create discourse', ' Posts must be directly related to One Piece', ' Self promotion', ' No Low Effort Meme', ' No hentai', ' No posts about One Piece games other than news', ' No Questions answered in the FAQ/sidebar', \" Don't be Rude\", ' Flair your posts']"
        ],
        [
         "34",
         "BlackPeopleTwitter",
         "Black Twitter",
         "Screenshots of Black people being hilarious or insightful on social media, it doesn't need to just be twitter but obviously that is best.",
         "en",
         "6116748",
         "1406",
         "['Social media posts from black people only', ' Bad Faith Participation', ' Respectability', ' No Racism/Hate speech', ' Posts must be showcasing somebody being hilarious or insightful on social media.', ' Reddit Cliches', ' No reposts', ' Bad post title', \" Don't complain about the use of AAVE or slang.\", ' Please respect these voices of the users of this community', ' No posts from corporate or meme accounts', ' Moderator Fiat', ' ☑️ Country Club']"
        ],
        [
         "35",
         "buildapc",
         "/r/buildapc - Planning on building a computer but need some advice? This is the place to ask!",
         "Planning on building a computer but need some advice? This is the place to ask!\n\n\n /r/buildapc is a community-driven subreddit dedicated to custom PC assembly. Anyone is welcome to seek the input of our helpful community as they piece together their desktop.",
         "en",
         "8034842",
         "1242",
         "['Be respectful to others', ' No build-spoonfeeding requests', ' No piracy or grey-market software keys', ' No laptop or prebuilt PC questions', ' No submissions about hardware news, rumors, or reviews', ' No submissions about sales, deals or unauthorized giveaways', ' No submissions about retailer or customer service experiences', ' No titles that are all-caps, clickbait, PSAs, pro-tips or contain emoji.', ' No submissions that are low-effort, memes, jokes, meta, or hypothetical / dream builds.', ' No self-promotion, advertising or surveys', ' No selling, trading or requests for valuation', ' No excessive posting (more than one submission in 24 hours)', ' No intentionally harmful, misleading or joke advice', ' No bots or automated accounts', ' Ban Appeal']"
        ],
        [
         "36",
         "HonkaiStarRail",
         "HonkaiStarRail",
         "Honkai: Star Rail is a strategy-RPG title in the Honkai series that takes players on a cosmic adventure across the stars. Hop aboard the Astral Express and experience the galaxy's infinite wonders on this journey filled with adventure and thrill.",
         "en",
         "1134209",
         "546",
         "['Be respectful to others', ' No leaked / datamined / modded content', ' Megathreads', ' Mundane or Repetitive Posts', ' Original Content Rules', ' Non-Original Content Rules', ' Non-OC Art Submission Frequency', ' NSFW Rules', ' Be careful with spoilers', ' Commercial and Self-Promotion Rules', ' Shipping Rules']"
        ],
        [
         "37",
         "SipsTea",
         "SipsTea",
         "Delivering the internet's best content daily. On Wednesdays we post frogs!",
         "en",
         "1635741",
         "1841",
         "['No NSFW', ' No Harassment ', ' No Toxicity', ' No Politics', \" No Sub GC's/Subreddits\", ' No Spam', ' No Hate', ' No Impersonation (Catfishing)', ' No Defamation ', ' No Brigading ', ' No Self Harm Discussion ', ' No Baiting', ' English Only', ' No Reposts', ' Reddit Site-Wide Rules']"
        ],
        [
         "38",
         "Minecraft",
         "Minecraft on reddit",
         "Minecraft community on Reddit",
         "en",
         "8485731",
         "779",
         "['Be civil', ' Don’t advertise servers or communities', ' No memes', ' Don’t post images of text', ' Do not promote illegal or unethical practices', ' Stay on topic', ' Avoid chain posting', ' Explain your suggestions with a text post', ' Use a search engine, the wiki or community support before asking questions here', ' Speak English only.', ' Keep self-promotion to a minimum', ' Follow our standards for quality.', \" Don't post banned topics\"]"
        ],
        [
         "39",
         "mildlyinteresting",
         "For photos that are, you know, mildly interesting",
         "Aww, cripes. I didn't know I'd have to write a description. How many words is that so far, like a hundred? Soooo, yeah. Mildly interesting stuff. Stuff that interests you. Mildly. It's in the name, ffs.",
         "en",
         "24584963",
         "1880",
         "['No Memes', ' No Related Posts', ' No X-Posts or Reposts', ' Original [OC] Photographs Only', ' No Screenshots', ' Titles Must Be Exact But Concise Descriptions']"
        ],
        [
         "40",
         "nfl",
         "NFL: National Football League Discussion",
         "The place to discuss all NFL related things",
         "en",
         "12371281",
         "3025",
         "['Off Topic Content', ' Low effort/Joke Posts/Repost', ' Editorialized Title', ' All news should be sourced', ' Highlights: During Games', ' Personal Life/Off Field, Serious illness, deaths, and arrests for current or former players', ' Official threads are official and not unofficial', ' Original Content v. promotion and spam', ' Personal attack or any kind of slur', ' Off-Season Posting Policy']"
        ],
        [
         "41",
         "BeAmazed",
         "I bet you will /r/BeAmazed!",
         "A place to find and share things which are amazing in a positive way.",
         "en",
         "8928033",
         "430",
         "['Post Appropriate Content', ' No Porn, Gore or Very Disturbing Content', ' No War or Politics related posts', ' No Misleading Content', ' Don’t be rude to others']"
        ],
        [
         "42",
         "DIY",
         "DIY",
         "DIY",
         "en",
         "26629669",
         "656",
         "['All content must be DIY', ' Basic Community Rules', ' NSFW / Reddiquette / Civility', ' 𝗡𝗼 𝗦𝗮𝗹𝗲𝘀 | 𝗣𝗿𝗼𝗺𝗼𝘁𝗶𝗼𝗻𝘀 | 𝗔𝗱𝘃𝗲𝗿𝘁𝗶𝘀𝗶𝗻𝗴', ' Google First, Reddit Last | Product Search', ' Low effort posts', ' Content / Topics not suited for r/DIY', ' Rating & Reviewing Products or Brands', ' Sometimes you let the professionals handle it', ' No AI Content']"
        ],
        [
         "43",
         "nba",
         "NBA",
         "A community for NBA discussion.",
         "en",
         "16087593",
         "4426",
         "['Be civil and respectful', ' No trolling or baiting users', ' No racist, sexist, or homophobic language', ' No reposts', ' No fake news', ' No self-promotion', ' No NSFW content', ' Posts and comments must be relevant to the NBA', ' Stats/Player Tweets/Quotes/Misc. Media are self-post only and must be sourced', ' No Reaction Posts', ' r/nba no longer permits links/references to Twitter/X (or alts), Facebook, Instagram, and Threads', ' Use the Daily Discussion Thread']"
        ],
        [
         "44",
         "MapPorn",
         "Map Porn, for interesting maps",
         "High quality images of maps.",
         "en",
         "5801395",
         "743",
         "['Posts must be maps', ' No Low Effort Memes', ' Must meet aesthetic standards', ' No Advertising', ' No Repost Bots']"
        ],
        [
         "45",
         "Steam",
         "Steam on Reddit",
         "A subreddit for members of the Steam Community and fans of steam.\n\nDiscord: discord.gg/steam",
         "en",
         "4857400",
         "677",
         "['Basic Requirements and Quality Standards', ' Common or Unrelated Content', ' Support', ' Bugs or Exploits', ' Advertising, User-Generated Content, or Surveys', ' Gambling, Scams, Cheating, or Trading', ' Begging, Charity, or Giveaways', ' Game Advice or Asking For Friends', ' Accusations or Witch Hunts', ' Steam Subscriber Agreement or Reddiquette']"
        ],
        [
         "46",
         "Overwatch",
         "Overwatch",
         "Subreddit for all things Overwatch™, Overwatch 2™ and the Overwatch™ Universe, the team-based shooter from Blizzard Entertainment.",
         "en",
         "6057927",
         "752",
         "['Must be relevant to Overwatch.', ' Titles must be clear and accurate.  No spoilers in titles.', ' No low-quality, low-effort, or repetitive content.', ' No NSFW/NSFL content.', ' Be civil. No personal attacks or hateful speech.', ' Terms of Service Violations', ' No Witchhunting or Cheating Accusations.', ' Site Violations', ' Use Correct Flair.']"
        ],
        [
         "47",
         "Genshin_Impact",
         "Genshin Impact Official",
         "This is the official community for Genshin Impact (原神), the latest open-world action RPG from HoYoverse. The game features a massive, gorgeous map, an elaborate elemental combat system, engaging storyline & characters, co-op game mode, soothing soundtrack, and much more for you to explore!",
         "en",
         "3618874",
         "816",
         "['Be respectful and civil', ' Relevance to Genshin Impact', ' Megathread', ' No account trading or commercial promotion', ' NSFW rules', ' Non-OC art rules', ' OC rules', ' Mark spoilers', ' Post quality', ' Self-promotion rules', ' Overall subreddit quality', ' Cosplay Rules and guidelines']"
        ],
        [
         "48",
         "classicwow",
         "WoW: Classic",
         "A community for World of Warcraft: Classic fans.",
         "en",
         "678347",
         "546",
         "['Content must be related to WoW: Classic', ' Be civil and respectful', ' No witch hunts or brigading', ' Do not share or encourage the use of exploits, cheats, existing private servers, RWT, etc', ' No real world politics or religion', ' Flag NSFW content', ' Restricted content and extended rule-set', ' Flair your posts accurately', ' Follow Content Creator Guidelines']"
        ],
        [
         "49",
         "soccer",
         "The back page of the internet.",
         "The football subreddit. \n\nNews, results, and discussion about the beautiful game.",
         "en",
         "8590217",
         "7417",
         "['Follow reddiquette', ' No racism, homophobia, xenophobia, sexism or other offensive behaviour', ' Be on topic', ' No shit-posting', ' No Duplicates', ' No NSFW content', ' You must link sources for news, quotes and stats', ' Only valuable image and stat submissions', ' Please use factual and objective titles', ' No low-effort questions as top-level submissions', ' Hard paywalled content should be summarised, but not copied.', ' No Baiting/Trolling', ' Follow the Submission Guidelines and use the correct Flair creating a new post.']"
        ],
        [
         "50",
         "Eldenring",
         "r/EldenRing",
         "This is the subreddit for the Elden Ring gaming community. Elden Ring is an action RPG which takes place in the Lands Between, sometime after the Shattering of the titular Elden Ring. Players must explore and fight their way through the vast open-world to unite all the shards, restore the Elden Ring, and become Elden Lord.\n\nElden Ring was directed by Hidetaka Miyazaki and made in collaboration with George R. R. Martin. It was developed by FromSoft and published by Bandai Namco.",
         "en",
         "4315898",
         "692",
         "['Please be respectful, do not harass others.', ' Keep posts and discussion Elden Ring related.', ' No low-effort content or spamming of posts.', ' Self-Promotion Guidelines', ' No sales, adverts, or interactions involving real-world tender. No in-game trading.', ' No NSFW or generally inappropriate content.', ' All artwork must be OC only. No AI artwork.', ' No discussion of Moderation or Meta Sub topics.', ' Titles must require context and be free of spoilers. Utilize appropriate flairs.', ' Discussion of mods, cheats, hacks, etc. are not allowed.', ' No technical or account support requests & questions.', ' Datamining, leaks, rumors, and speculation are not allowed.']"
        ]
       ],
       "shape": {
        "columns": 7,
        "rows": 99
       }
      },
      "text/html": [
       "<div>\n",
       "<style scoped>\n",
       "    .dataframe tbody tr th:only-of-type {\n",
       "        vertical-align: middle;\n",
       "    }\n",
       "\n",
       "    .dataframe tbody tr th {\n",
       "        vertical-align: top;\n",
       "    }\n",
       "\n",
       "    .dataframe thead th {\n",
       "        text-align: right;\n",
       "    }\n",
       "</style>\n",
       "<table border=\"1\" class=\"dataframe\">\n",
       "  <thead>\n",
       "    <tr style=\"text-align: right;\">\n",
       "      <th></th>\n",
       "      <th>domain</th>\n",
       "      <th>title</th>\n",
       "      <th>description</th>\n",
       "      <th>languages</th>\n",
       "      <th>total_users</th>\n",
       "      <th>active_month</th>\n",
       "      <th>rules</th>\n",
       "    </tr>\n",
       "  </thead>\n",
       "  <tbody>\n",
       "    <tr>\n",
       "      <th>0</th>\n",
       "      <td>Home</td>\n",
       "      <td>Home</td>\n",
       "      <td>nan</td>\n",
       "      <td>en</td>\n",
       "      <td>307843</td>\n",
       "      <td>51</td>\n",
       "      <td>[]</td>\n",
       "    </tr>\n",
       "    <tr>\n",
       "      <th>2</th>\n",
       "      <td>NoStupidQuestions</td>\n",
       "      <td>No such thing as stupid questions</td>\n",
       "      <td>Ask away!\\n\\nDisclaimer: This is an anonymous ...</td>\n",
       "      <td>en</td>\n",
       "      <td>6021303</td>\n",
       "      <td>4872</td>\n",
       "      <td>[Top level comments must contain a genuine hum...</td>\n",
       "    </tr>\n",
       "    <tr>\n",
       "      <th>3</th>\n",
       "      <td>BaldursGate3</td>\n",
       "      <td>Baldur's Gate 3</td>\n",
       "      <td>A community all about Baldur's Gate III, the r...</td>\n",
       "      <td>en</td>\n",
       "      <td>3118378</td>\n",
       "      <td>1384</td>\n",
       "      <td>[Be civil to one another.,  Respect the opinio...</td>\n",
       "    </tr>\n",
       "    <tr>\n",
       "      <th>4</th>\n",
       "      <td>facepalm</td>\n",
       "      <td>now double verified</td>\n",
       "      <td>/r/facepalm - please sir can I have some more?</td>\n",
       "      <td>en</td>\n",
       "      <td>8145733</td>\n",
       "      <td>2345</td>\n",
       "      <td>[No uncivil, bigoted, misogynist, misandrist, ...</td>\n",
       "    </tr>\n",
       "    <tr>\n",
       "      <th>5</th>\n",
       "      <td>interestingasfuck</td>\n",
       "      <td>Interesting As Fuck</td>\n",
       "      <td>For anything truly interesting as fuck</td>\n",
       "      <td>en</td>\n",
       "      <td>13961838</td>\n",
       "      <td>4038</td>\n",
       "      <td>[Posts MUST be INTERESTING AS FUCK!,  No Polit...</td>\n",
       "    </tr>\n",
       "    <tr>\n",
       "      <th>...</th>\n",
       "      <td>...</td>\n",
       "      <td>...</td>\n",
       "      <td>...</td>\n",
       "      <td>...</td>\n",
       "      <td>...</td>\n",
       "      <td>...</td>\n",
       "      <td>...</td>\n",
       "    </tr>\n",
       "    <tr>\n",
       "      <th>95</th>\n",
       "      <td>SteamDeck</td>\n",
       "      <td>Steam Deck</td>\n",
       "      <td>The Unofficial Subreddit for the Valve Steam D...</td>\n",
       "      <td>en</td>\n",
       "      <td>903284</td>\n",
       "      <td>446</td>\n",
       "      <td>[Be Kind Or Get Banned,  Posts must be about o...</td>\n",
       "    </tr>\n",
       "    <tr>\n",
       "      <th>96</th>\n",
       "      <td>college</td>\n",
       "      <td>College</td>\n",
       "      <td>The subreddit for discussion related to colleg...</td>\n",
       "      <td>en</td>\n",
       "      <td>2911405</td>\n",
       "      <td>76</td>\n",
       "      <td>[Do not post spam or surveys.,  Do not post an...</td>\n",
       "    </tr>\n",
       "    <tr>\n",
       "      <th>97</th>\n",
       "      <td>manga</td>\n",
       "      <td>/r/manga: manga, on reddit.</td>\n",
       "      <td>Everything and anything manga!  (manhwa/manhua...</td>\n",
       "      <td>en</td>\n",
       "      <td>4725267</td>\n",
       "      <td>1480</td>\n",
       "      <td>[Disrespectful,  Follow submission guidelines ...</td>\n",
       "    </tr>\n",
       "    <tr>\n",
       "      <th>98</th>\n",
       "      <td>CrazyFuckingVideos</td>\n",
       "      <td>CrazyFuckingVideos</td>\n",
       "      <td>Crazy fucking videos for your viewing pleasure</td>\n",
       "      <td>en</td>\n",
       "      <td>2240152</td>\n",
       "      <td>799</td>\n",
       "      <td>[Follow Reddit's TOS,  Be civil,  Must be a Cr...</td>\n",
       "    </tr>\n",
       "    <tr>\n",
       "      <th>99</th>\n",
       "      <td>rareinsults</td>\n",
       "      <td>r/RareInsults</td>\n",
       "      <td>Did you stumble across a unique insult? Lookin...</td>\n",
       "      <td>en</td>\n",
       "      <td>2924628</td>\n",
       "      <td>201</td>\n",
       "      <td>[Don't be a dick,  No hateful insults,  Repost...</td>\n",
       "    </tr>\n",
       "  </tbody>\n",
       "</table>\n",
       "<p>99 rows × 7 columns</p>\n",
       "</div>"
      ],
      "text/plain": [
       "                domain                              title  \\\n",
       "0                 Home                               Home   \n",
       "2    NoStupidQuestions  No such thing as stupid questions   \n",
       "3         BaldursGate3                    Baldur's Gate 3   \n",
       "4             facepalm                now double verified   \n",
       "5    interestingasfuck                Interesting As Fuck   \n",
       "..                 ...                                ...   \n",
       "95           SteamDeck                         Steam Deck   \n",
       "96             college                            College   \n",
       "97               manga        /r/manga: manga, on reddit.   \n",
       "98  CrazyFuckingVideos                 CrazyFuckingVideos   \n",
       "99         rareinsults                      r/RareInsults   \n",
       "\n",
       "                                          description languages  total_users  \\\n",
       "0                                                 nan        en       307843   \n",
       "2   Ask away!\\n\\nDisclaimer: This is an anonymous ...        en      6021303   \n",
       "3   A community all about Baldur's Gate III, the r...        en      3118378   \n",
       "4      /r/facepalm - please sir can I have some more?        en      8145733   \n",
       "5              For anything truly interesting as fuck        en     13961838   \n",
       "..                                                ...       ...          ...   \n",
       "95  The Unofficial Subreddit for the Valve Steam D...        en       903284   \n",
       "96  The subreddit for discussion related to colleg...        en      2911405   \n",
       "97  Everything and anything manga!  (manhwa/manhua...        en      4725267   \n",
       "98     Crazy fucking videos for your viewing pleasure        en      2240152   \n",
       "99  Did you stumble across a unique insult? Lookin...        en      2924628   \n",
       "\n",
       "    active_month                                              rules  \n",
       "0             51                                                 []  \n",
       "2           4872  [Top level comments must contain a genuine hum...  \n",
       "3           1384  [Be civil to one another.,  Respect the opinio...  \n",
       "4           2345  [No uncivil, bigoted, misogynist, misandrist, ...  \n",
       "5           4038  [Posts MUST be INTERESTING AS FUCK!,  No Polit...  \n",
       "..           ...                                                ...  \n",
       "95           446  [Be Kind Or Get Banned,  Posts must be about o...  \n",
       "96            76  [Do not post spam or surveys.,  Do not post an...  \n",
       "97          1480  [Disrespectful,  Follow submission guidelines ...  \n",
       "98           799  [Follow Reddit's TOS,  Be civil,  Must be a Cr...  \n",
       "99           201  [Don't be a dick,  No hateful insults,  Repost...  \n",
       "\n",
       "[99 rows x 7 columns]"
      ]
     },
     "execution_count": 175,
     "metadata": {},
     "output_type": "execute_result"
    }
   ],
   "source": [
    "df_reddit_en"
   ]
  },
  {
   "cell_type": "code",
   "execution_count": null,
   "id": "36b4b8a8",
   "metadata": {},
   "outputs": [
    {
     "data": {
      "application/vnd.microsoft.datawrangler.viewer.v0+json": {
       "columns": [
        {
         "name": "index",
         "rawType": "int64",
         "type": "integer"
        },
        {
         "name": "server_id",
         "rawType": "int64",
         "type": "integer"
        },
        {
         "name": "rules",
         "rawType": "object",
         "type": "string"
        },
        {
         "name": "rule_id",
         "rawType": "int64",
         "type": "integer"
        }
       ],
       "ref": "483b6fdc-0b2d-4973-9ed4-9b2b65fc6600",
       "rows": [
        [
         "1",
         "2",
         "Top level comments must contain a genuine human-written attempt at an answer",
         "0"
        ],
        [
         "2",
         "2",
         " Please try searching the subreddit for your question first",
         "1"
        ],
        [
         "3",
         "2",
         " Be Nice",
         "2"
        ],
        [
         "4",
         "2",
         " No medical advice questions",
         "3"
        ],
        [
         "5",
         "2",
         " No trolling or joke questions",
         "4"
        ],
        [
         "6",
         "2",
         " No suicide or 'was I raped/sexual assaulted/sexually harrassed?' questions",
         "5"
        ],
        [
         "7",
         "2",
         " No self-promotion, shilling or begging",
         "6"
        ],
        [
         "8",
         "2",
         " No illegal/unethical or disturbing subject matter",
         "7"
        ],
        [
         "9",
         "2",
         " No disguised rants, agenda posts or potstirring",
         "8"
        ],
        [
         "10",
         "3",
         "Be civil to one another.",
         "0"
        ],
        [
         "11",
         "3",
         " Respect the opinions of others.",
         "1"
        ],
        [
         "12",
         "3",
         " Keep your posts relevant.",
         "2"
        ],
        [
         "13",
         "3",
         " Tag spoilers and NSFW content.",
         "3"
        ],
        [
         "14",
         "3",
         " Memes, screenshots, and fanart must be flaired.",
         "4"
        ],
        [
         "15",
         "3",
         " No Spamming",
         "5"
        ],
        [
         "16",
         "3",
         " No Tav, Build/Multiclass, or LFG Posts outside of their megathreads",
         "6"
        ],
        [
         "17",
         "3",
         " No piracy allowed. No posting pirated material of any kind but especially 5e material",
         "7"
        ],
        [
         "18",
         "3",
         " Use modmail for issues or giveaways - don't mention/link or directly message the Mods",
         "8"
        ],
        [
         "19",
         "3",
         " No discussion exclusively about 3rd Party wikis",
         "9"
        ],
        [
         "20",
         "3",
         " No AI generated content or discussion",
         "10"
        ],
        [
         "21",
         "3",
         " All posts should be in English. Non-English comments are allowed.",
         "11"
        ],
        [
         "22",
         "3",
         " No asking for game codes/the game/steam accounts",
         "12"
        ],
        [
         "23",
         "3",
         " No posting about bigoted mods",
         "13"
        ],
        [
         "24",
         "3",
         " Cosplay posts must now be submitted on Sundays. ",
         "14"
        ],
        [
         "25",
         "4",
         "No uncivil, bigoted, misogynist, misandrist, racist comments or posts.",
         "0"
        ],
        [
         "26",
         "4",
         " No Misinformation",
         "1"
        ],
        [
         "27",
         "4",
         " No Memes",
         "2"
        ],
        [
         "28",
         "4",
         " No language error posts",
         "3"
        ],
        [
         "29",
         "4",
         " No jokes/satire/trolls posts",
         "4"
        ],
        [
         "30",
         "4",
         " Remove identifying personal information",
         "5"
        ],
        [
         "31",
         "4",
         " No 'likes\"/\"shares\" posts",
         "6"
        ],
        [
         "32",
         "4",
         " No \"Reddit Meta\" Posts",
         "7"
        ],
        [
         "33",
         "4",
         " No posts about politicians being politicians",
         "8"
        ],
        [
         "34",
         "4",
         " No posts attacking a political party or side",
         "9"
        ],
        [
         "35",
         "5",
         "Posts MUST be INTERESTING AS FUCK!",
         "0"
        ],
        [
         "36",
         "5",
         " No Politics",
         "1"
        ],
        [
         "37",
         "5",
         " Titles must be descriptive and directly related to the content",
         "2"
        ],
        [
         "38",
         "5",
         " No porn or gore",
         "3"
        ],
        [
         "39",
         "5",
         " No doxing/witch hunts or meta related posts",
         "4"
        ],
        [
         "40",
         "5",
         " Provide a source when the title is in doubt",
         "5"
        ],
        [
         "41",
         "5",
         " No FCoO/flooding",
         "6"
        ],
        [
         "42",
         "5",
         " No self-promotion",
         "7"
        ],
        [
         "43",
         "5",
         " Be civil",
         "8"
        ],
        [
         "44",
         "5",
         " Repost limitations",
         "9"
        ],
        [
         "45",
         "5",
         " No gossip or tabloid-type material",
         "10"
        ],
        [
         "46",
         "5",
         " Additional/temporary rules",
         "11"
        ],
        [
         "47",
         "6",
         "Only \"Damnthatsinteresting\" content",
         "0"
        ],
        [
         "48",
         "6",
         " Use descriptive titles",
         "1"
        ],
        [
         "49",
         "6",
         " No racism, bigotry, or hate speech",
         "2"
        ],
        [
         "50",
         "6",
         " No screenshots/memes/infographics",
         "3"
        ]
       ],
       "shape": {
        "columns": 3,
        "rows": 1044
       }
      },
      "text/html": [
       "<div>\n",
       "<style scoped>\n",
       "    .dataframe tbody tr th:only-of-type {\n",
       "        vertical-align: middle;\n",
       "    }\n",
       "\n",
       "    .dataframe tbody tr th {\n",
       "        vertical-align: top;\n",
       "    }\n",
       "\n",
       "    .dataframe thead th {\n",
       "        text-align: right;\n",
       "    }\n",
       "</style>\n",
       "<table border=\"1\" class=\"dataframe\">\n",
       "  <thead>\n",
       "    <tr style=\"text-align: right;\">\n",
       "      <th></th>\n",
       "      <th>server_id</th>\n",
       "      <th>rules</th>\n",
       "      <th>rule_id</th>\n",
       "    </tr>\n",
       "  </thead>\n",
       "  <tbody>\n",
       "    <tr>\n",
       "      <th>1</th>\n",
       "      <td>2</td>\n",
       "      <td>Top level comments must contain a genuine huma...</td>\n",
       "      <td>0</td>\n",
       "    </tr>\n",
       "    <tr>\n",
       "      <th>2</th>\n",
       "      <td>2</td>\n",
       "      <td>Please try searching the subreddit for your q...</td>\n",
       "      <td>1</td>\n",
       "    </tr>\n",
       "    <tr>\n",
       "      <th>3</th>\n",
       "      <td>2</td>\n",
       "      <td>Be Nice</td>\n",
       "      <td>2</td>\n",
       "    </tr>\n",
       "    <tr>\n",
       "      <th>4</th>\n",
       "      <td>2</td>\n",
       "      <td>No medical advice questions</td>\n",
       "      <td>3</td>\n",
       "    </tr>\n",
       "    <tr>\n",
       "      <th>5</th>\n",
       "      <td>2</td>\n",
       "      <td>No trolling or joke questions</td>\n",
       "      <td>4</td>\n",
       "    </tr>\n",
       "    <tr>\n",
       "      <th>...</th>\n",
       "      <td>...</td>\n",
       "      <td>...</td>\n",
       "      <td>...</td>\n",
       "    </tr>\n",
       "    <tr>\n",
       "      <th>1040</th>\n",
       "      <td>99</td>\n",
       "      <td>No image macros/memes</td>\n",
       "      <td>8</td>\n",
       "    </tr>\n",
       "    <tr>\n",
       "      <th>1041</th>\n",
       "      <td>99</td>\n",
       "      <td>No crossposts</td>\n",
       "      <td>9</td>\n",
       "    </tr>\n",
       "    <tr>\n",
       "      <th>1042</th>\n",
       "      <td>99</td>\n",
       "      <td>No r/RoastMe</td>\n",
       "      <td>10</td>\n",
       "    </tr>\n",
       "    <tr>\n",
       "      <th>1043</th>\n",
       "      <td>99</td>\n",
       "      <td>Moderators Discretion</td>\n",
       "      <td>11</td>\n",
       "    </tr>\n",
       "    <tr>\n",
       "      <th>1044</th>\n",
       "      <td>99</td>\n",
       "      <td>Do not post your own insults</td>\n",
       "      <td>12</td>\n",
       "    </tr>\n",
       "  </tbody>\n",
       "</table>\n",
       "<p>1044 rows × 3 columns</p>\n",
       "</div>"
      ],
      "text/plain": [
       "      server_id                                              rules  rule_id\n",
       "1             2  Top level comments must contain a genuine huma...        0\n",
       "2             2   Please try searching the subreddit for your q...        1\n",
       "3             2                                            Be Nice        2\n",
       "4             2                        No medical advice questions        3\n",
       "5             2                      No trolling or joke questions        4\n",
       "...         ...                                                ...      ...\n",
       "1040         99                              No image macros/memes        8\n",
       "1041         99                                      No crossposts        9\n",
       "1042         99                                       No r/RoastMe       10\n",
       "1043         99                              Moderators Discretion       11\n",
       "1044         99                       Do not post your own insults       12\n",
       "\n",
       "[1044 rows x 3 columns]"
      ]
     },
     "execution_count": 203,
     "metadata": {},
     "output_type": "execute_result"
    }
   ],
   "source": [
    "rules = df_reddit_en['rules'].explode().reset_index(drop=False)\n",
    "rules = rules.rename(columns={\"index\": \"server_id\"})\n",
    "# We add an index to the rules\n",
    "rules[\"rule_id\"] = rules.groupby(\"server_id\").cumcount()\n",
    "rules = rules.dropna()\n",
    "rules"
   ]
  },
  {
   "cell_type": "code",
   "execution_count": null,
   "id": "f14ac1e2",
   "metadata": {},
   "outputs": [],
   "source": []
  },
  {
   "cell_type": "code",
   "execution_count": null,
   "id": "a4f4f3be",
   "metadata": {},
   "outputs": [
    {
     "name": "stdout",
     "output_type": "stream",
     "text": [
      " We removed 277 of the 1044 rules (27%) that were not detected to be in english.\n"
     ]
    }
   ],
   "source": [
    "# remove rules that are not written in english\n",
    "df_english = rules[rules.rules.apply(utils.is_english)].reset_index(drop=True)\n",
    "\n",
    "non_english_rules_pourcentage = 100 * (rules.shape[0] - df_english.shape[0]) / rules.shape[0]\n",
    "\n",
    "print(f\" We removed {rules.shape[0] - df_english.shape[0]} of the {rules.shape[0]} rules ({non_english_rules_pourcentage:.0f}%) that were not detected to be in english.\")"
   ]
  },
  {
   "cell_type": "code",
   "execution_count": null,
   "id": "b39cb443",
   "metadata": {},
   "outputs": [],
   "source": [
    "def r_remove_empty(x):\n",
    "    if isinstance(x, list) and len(x) > 0:\n",
    "        return [item for item in x if item != '']\n",
    "    return x\n",
    "\n",
    "def r_standardize_text(df_column):\n",
    "    df_column = df_column.apply(lambda x: x.strip() if isinstance(x, str) else x)\n",
    "    df_column = df_column.str.lower()\n",
    "    df_column = df_column.str.replace(r\"[^a-zA-Z0-9\\s]\", \" \", regex=True)\n",
    "    df_column = df_column.str.replace(r\"\\s+\", \" \", regex=True).str.strip()\n",
    "    df_column = df_column.str.split(\" \")\n",
    "    df_column = df_column.apply(r_remove_empty)\n",
    "    return df_column"
   ]
  },
  {
   "cell_type": "code",
   "execution_count": null,
   "id": "3aab4839",
   "metadata": {},
   "outputs": [
    {
     "data": {
      "text/plain": [
       "pandas.core.frame.DataFrame"
      ]
     },
     "execution_count": 206,
     "metadata": {},
     "output_type": "execute_result"
    }
   ],
   "source": [
    "type(df_english)"
   ]
  },
  {
   "cell_type": "code",
   "execution_count": null,
   "id": "5d7782b1",
   "metadata": {},
   "outputs": [
    {
     "data": {
      "application/vnd.microsoft.datawrangler.viewer.v0+json": {
       "columns": [
        {
         "name": "index",
         "rawType": "int64",
         "type": "integer"
        },
        {
         "name": "server_id",
         "rawType": "int64",
         "type": "integer"
        },
        {
         "name": "rules",
         "rawType": "object",
         "type": "string"
        },
        {
         "name": "rule_id",
         "rawType": "int64",
         "type": "integer"
        }
       ],
       "ref": "57e1393b-36cb-4ca4-a0e6-fd416e2c3022",
       "rows": [
        [
         "0",
         "2",
         "Top level comments must contain a genuine human-written attempt at an answer",
         "0"
        ],
        [
         "1",
         "2",
         " Please try searching the subreddit for your question first",
         "1"
        ],
        [
         "2",
         "2",
         " No suicide or 'was I raped/sexual assaulted/sexually harrassed?' questions",
         "5"
        ],
        [
         "3",
         "2",
         " No self-promotion, shilling or begging",
         "6"
        ],
        [
         "4",
         "2",
         " No illegal/unethical or disturbing subject matter",
         "7"
        ],
        [
         "5",
         "2",
         " No disguised rants, agenda posts or potstirring",
         "8"
        ],
        [
         "6",
         "3",
         "Be civil to one another.",
         "0"
        ],
        [
         "7",
         "3",
         " Respect the opinions of others.",
         "1"
        ],
        [
         "8",
         "3",
         " Tag spoilers and NSFW content.",
         "3"
        ],
        [
         "9",
         "3",
         " Memes, screenshots, and fanart must be flaired.",
         "4"
        ],
        [
         "10",
         "3",
         " No Spamming",
         "5"
        ],
        [
         "11",
         "3",
         " No Tav, Build/Multiclass, or LFG Posts outside of their megathreads",
         "6"
        ],
        [
         "12",
         "3",
         " No piracy allowed. No posting pirated material of any kind but especially 5e material",
         "7"
        ],
        [
         "13",
         "3",
         " Use modmail for issues or giveaways - don't mention/link or directly message the Mods",
         "8"
        ],
        [
         "14",
         "3",
         " No discussion exclusively about 3rd Party wikis",
         "9"
        ],
        [
         "15",
         "3",
         " All posts should be in English. Non-English comments are allowed.",
         "11"
        ],
        [
         "16",
         "3",
         " No asking for game codes/the game/steam accounts",
         "12"
        ],
        [
         "17",
         "3",
         " No posting about bigoted mods",
         "13"
        ],
        [
         "18",
         "3",
         " Cosplay posts must now be submitted on Sundays. ",
         "14"
        ],
        [
         "19",
         "4",
         "No uncivil, bigoted, misogynist, misandrist, racist comments or posts.",
         "0"
        ],
        [
         "20",
         "4",
         " No Misinformation",
         "1"
        ],
        [
         "21",
         "4",
         " Remove identifying personal information",
         "5"
        ],
        [
         "22",
         "4",
         " No \"Reddit Meta\" Posts",
         "7"
        ],
        [
         "23",
         "4",
         " No posts about politicians being politicians",
         "8"
        ],
        [
         "24",
         "4",
         " No posts attacking a political party or side",
         "9"
        ],
        [
         "25",
         "5",
         "Posts MUST be INTERESTING AS FUCK!",
         "0"
        ],
        [
         "26",
         "5",
         " No Politics",
         "1"
        ],
        [
         "27",
         "5",
         " Titles must be descriptive and directly related to the content",
         "2"
        ],
        [
         "28",
         "5",
         " No porn or gore",
         "3"
        ],
        [
         "29",
         "5",
         " No doxing/witch hunts or meta related posts",
         "4"
        ],
        [
         "30",
         "5",
         " Provide a source when the title is in doubt",
         "5"
        ],
        [
         "31",
         "5",
         " No FCoO/flooding",
         "6"
        ],
        [
         "32",
         "5",
         " No self-promotion",
         "7"
        ],
        [
         "33",
         "5",
         " No gossip or tabloid-type material",
         "10"
        ],
        [
         "34",
         "5",
         " Additional/temporary rules",
         "11"
        ],
        [
         "35",
         "6",
         "Only \"Damnthatsinteresting\" content",
         "0"
        ],
        [
         "36",
         "6",
         " No racism, bigotry, or hate speech",
         "2"
        ],
        [
         "37",
         "6",
         " No screenshots/memes/infographics",
         "3"
        ],
        [
         "38",
         "6",
         " No politics",
         "6"
        ],
        [
         "39",
         "6",
         " Posts making claims must be sourced in comments at time of posting",
         "7"
        ],
        [
         "40",
         "7",
         "Harassment: Civility",
         "0"
        ],
        [
         "41",
         "7",
         " Harassment: Death & Violence",
         "1"
        ],
        [
         "42",
         "7",
         " Harassment: Discrimination",
         "2"
        ],
        [
         "43",
         "7",
         " Harassment: Unsourced Allegations",
         "3"
        ],
        [
         "44",
         "7",
         " Harassment: Speculation",
         "4"
        ],
        [
         "45",
         "7",
         " Harassment: Out of Context Content",
         "5"
        ],
        [
         "46",
         "7",
         " Quality: Duplicate Submissions",
         "6"
        ],
        [
         "47",
         "7",
         " Quality: Title Guidelines",
         "7"
        ],
        [
         "48",
         "7",
         " Quality: Old News",
         "8"
        ],
        [
         "49",
         "7",
         " Spam: Off-topic",
         "12"
        ]
       ],
       "shape": {
        "columns": 3,
        "rows": 767
       }
      },
      "text/html": [
       "<div>\n",
       "<style scoped>\n",
       "    .dataframe tbody tr th:only-of-type {\n",
       "        vertical-align: middle;\n",
       "    }\n",
       "\n",
       "    .dataframe tbody tr th {\n",
       "        vertical-align: top;\n",
       "    }\n",
       "\n",
       "    .dataframe thead th {\n",
       "        text-align: right;\n",
       "    }\n",
       "</style>\n",
       "<table border=\"1\" class=\"dataframe\">\n",
       "  <thead>\n",
       "    <tr style=\"text-align: right;\">\n",
       "      <th></th>\n",
       "      <th>server_id</th>\n",
       "      <th>rules</th>\n",
       "      <th>rule_id</th>\n",
       "    </tr>\n",
       "  </thead>\n",
       "  <tbody>\n",
       "    <tr>\n",
       "      <th>0</th>\n",
       "      <td>2</td>\n",
       "      <td>Top level comments must contain a genuine huma...</td>\n",
       "      <td>0</td>\n",
       "    </tr>\n",
       "    <tr>\n",
       "      <th>1</th>\n",
       "      <td>2</td>\n",
       "      <td>Please try searching the subreddit for your q...</td>\n",
       "      <td>1</td>\n",
       "    </tr>\n",
       "    <tr>\n",
       "      <th>2</th>\n",
       "      <td>2</td>\n",
       "      <td>No suicide or 'was I raped/sexual assaulted/s...</td>\n",
       "      <td>5</td>\n",
       "    </tr>\n",
       "    <tr>\n",
       "      <th>3</th>\n",
       "      <td>2</td>\n",
       "      <td>No self-promotion, shilling or begging</td>\n",
       "      <td>6</td>\n",
       "    </tr>\n",
       "    <tr>\n",
       "      <th>4</th>\n",
       "      <td>2</td>\n",
       "      <td>No illegal/unethical or disturbing subject ma...</td>\n",
       "      <td>7</td>\n",
       "    </tr>\n",
       "    <tr>\n",
       "      <th>...</th>\n",
       "      <td>...</td>\n",
       "      <td>...</td>\n",
       "      <td>...</td>\n",
       "    </tr>\n",
       "    <tr>\n",
       "      <th>762</th>\n",
       "      <td>99</td>\n",
       "      <td>No personal information</td>\n",
       "      <td>4</td>\n",
       "    </tr>\n",
       "    <tr>\n",
       "      <th>763</th>\n",
       "      <td>99</td>\n",
       "      <td>No long videos (&gt;10s) or long texts</td>\n",
       "      <td>7</td>\n",
       "    </tr>\n",
       "    <tr>\n",
       "      <th>764</th>\n",
       "      <td>99</td>\n",
       "      <td>No r/RoastMe</td>\n",
       "      <td>10</td>\n",
       "    </tr>\n",
       "    <tr>\n",
       "      <th>765</th>\n",
       "      <td>99</td>\n",
       "      <td>Moderators Discretion</td>\n",
       "      <td>11</td>\n",
       "    </tr>\n",
       "    <tr>\n",
       "      <th>766</th>\n",
       "      <td>99</td>\n",
       "      <td>Do not post your own insults</td>\n",
       "      <td>12</td>\n",
       "    </tr>\n",
       "  </tbody>\n",
       "</table>\n",
       "<p>767 rows × 3 columns</p>\n",
       "</div>"
      ],
      "text/plain": [
       "     server_id                                              rules  rule_id\n",
       "0            2  Top level comments must contain a genuine huma...        0\n",
       "1            2   Please try searching the subreddit for your q...        1\n",
       "2            2   No suicide or 'was I raped/sexual assaulted/s...        5\n",
       "3            2             No self-promotion, shilling or begging        6\n",
       "4            2   No illegal/unethical or disturbing subject ma...        7\n",
       "..         ...                                                ...      ...\n",
       "762         99                            No personal information        4\n",
       "763         99                No long videos (>10s) or long texts        7\n",
       "764         99                                       No r/RoastMe       10\n",
       "765         99                              Moderators Discretion       11\n",
       "766         99                       Do not post your own insults       12\n",
       "\n",
       "[767 rows x 3 columns]"
      ]
     },
     "execution_count": 207,
     "metadata": {},
     "output_type": "execute_result"
    }
   ],
   "source": [
    "df_english"
   ]
  },
  {
   "cell_type": "code",
   "execution_count": null,
   "id": "eb63ba13",
   "metadata": {},
   "outputs": [
    {
     "data": {
      "application/vnd.microsoft.datawrangler.viewer.v0+json": {
       "columns": [
        {
         "name": "index",
         "rawType": "int64",
         "type": "integer"
        },
        {
         "name": "server_id",
         "rawType": "int64",
         "type": "integer"
        },
        {
         "name": "rules",
         "rawType": "object",
         "type": "unknown"
        },
        {
         "name": "rule_id",
         "rawType": "int64",
         "type": "integer"
        }
       ],
       "ref": "788ef24d-bc02-4338-8f6f-c6422b7f321c",
       "rows": [
        [
         "0",
         "2",
         "['top', 'level', 'comments', 'must', 'contain', 'a', 'genuine', 'human', 'written', 'attempt', 'at', 'an', 'answer']",
         "0"
        ],
        [
         "1",
         "2",
         "['please', 'try', 'searching', 'the', 'subreddit', 'for', 'your', 'question', 'first']",
         "1"
        ],
        [
         "2",
         "2",
         "['no', 'suicide', 'or', 'was', 'i', 'raped', 'sexual', 'assaulted', 'sexually', 'harrassed', 'questions']",
         "5"
        ],
        [
         "3",
         "2",
         "['no', 'self', 'promotion', 'shilling', 'or', 'begging']",
         "6"
        ],
        [
         "4",
         "2",
         "['no', 'illegal', 'unethical', 'or', 'disturbing', 'subject', 'matter']",
         "7"
        ],
        [
         "5",
         "2",
         "['no', 'disguised', 'rants', 'agenda', 'posts', 'or', 'potstirring']",
         "8"
        ],
        [
         "6",
         "3",
         "['be', 'civil', 'to', 'one', 'another']",
         "0"
        ],
        [
         "7",
         "3",
         "['respect', 'the', 'opinions', 'of', 'others']",
         "1"
        ],
        [
         "8",
         "3",
         "['tag', 'spoilers', 'and', 'nsfw', 'content']",
         "3"
        ],
        [
         "9",
         "3",
         "['memes', 'screenshots', 'and', 'fanart', 'must', 'be', 'flaired']",
         "4"
        ],
        [
         "10",
         "3",
         "['no', 'spamming']",
         "5"
        ],
        [
         "11",
         "3",
         "['no', 'tav', 'build', 'multiclass', 'or', 'lfg', 'posts', 'outside', 'of', 'their', 'megathreads']",
         "6"
        ],
        [
         "12",
         "3",
         "['no', 'piracy', 'allowed', 'no', 'posting', 'pirated', 'material', 'of', 'any', 'kind', 'but', 'especially', '5e', 'material']",
         "7"
        ],
        [
         "13",
         "3",
         "['use', 'modmail', 'for', 'issues', 'or', 'giveaways', 'don', 't', 'mention', 'link', 'or', 'directly', 'message', 'the', 'mods']",
         "8"
        ],
        [
         "14",
         "3",
         "['no', 'discussion', 'exclusively', 'about', '3rd', 'party', 'wikis']",
         "9"
        ],
        [
         "15",
         "3",
         "['all', 'posts', 'should', 'be', 'in', 'english', 'non', 'english', 'comments', 'are', 'allowed']",
         "11"
        ],
        [
         "16",
         "3",
         "['no', 'asking', 'for', 'game', 'codes', 'the', 'game', 'steam', 'accounts']",
         "12"
        ],
        [
         "17",
         "3",
         "['no', 'posting', 'about', 'bigoted', 'mods']",
         "13"
        ],
        [
         "18",
         "3",
         "['cosplay', 'posts', 'must', 'now', 'be', 'submitted', 'on', 'sundays']",
         "14"
        ],
        [
         "19",
         "4",
         "['no', 'uncivil', 'bigoted', 'misogynist', 'misandrist', 'racist', 'comments', 'or', 'posts']",
         "0"
        ],
        [
         "20",
         "4",
         "['no', 'misinformation']",
         "1"
        ],
        [
         "21",
         "4",
         "['remove', 'identifying', 'personal', 'information']",
         "5"
        ],
        [
         "22",
         "4",
         "['no', 'reddit', 'meta', 'posts']",
         "7"
        ],
        [
         "23",
         "4",
         "['no', 'posts', 'about', 'politicians', 'being', 'politicians']",
         "8"
        ],
        [
         "24",
         "4",
         "['no', 'posts', 'attacking', 'a', 'political', 'party', 'or', 'side']",
         "9"
        ],
        [
         "25",
         "5",
         "['posts', 'must', 'be', 'interesting', 'as', 'fuck']",
         "0"
        ],
        [
         "26",
         "5",
         "['no', 'politics']",
         "1"
        ],
        [
         "27",
         "5",
         "['titles', 'must', 'be', 'descriptive', 'and', 'directly', 'related', 'to', 'the', 'content']",
         "2"
        ],
        [
         "28",
         "5",
         "['no', 'porn', 'or', 'gore']",
         "3"
        ],
        [
         "29",
         "5",
         "['no', 'doxing', 'witch', 'hunts', 'or', 'meta', 'related', 'posts']",
         "4"
        ],
        [
         "30",
         "5",
         "['provide', 'a', 'source', 'when', 'the', 'title', 'is', 'in', 'doubt']",
         "5"
        ],
        [
         "31",
         "5",
         "['no', 'fcoo', 'flooding']",
         "6"
        ],
        [
         "32",
         "5",
         "['no', 'self', 'promotion']",
         "7"
        ],
        [
         "33",
         "5",
         "['no', 'gossip', 'or', 'tabloid', 'type', 'material']",
         "10"
        ],
        [
         "34",
         "5",
         "['additional', 'temporary', 'rules']",
         "11"
        ],
        [
         "35",
         "6",
         "['only', 'damnthatsinteresting', 'content']",
         "0"
        ],
        [
         "36",
         "6",
         "['no', 'racism', 'bigotry', 'or', 'hate', 'speech']",
         "2"
        ],
        [
         "37",
         "6",
         "['no', 'screenshots', 'memes', 'infographics']",
         "3"
        ],
        [
         "38",
         "6",
         "['no', 'politics']",
         "6"
        ],
        [
         "39",
         "6",
         "['posts', 'making', 'claims', 'must', 'be', 'sourced', 'in', 'comments', 'at', 'time', 'of', 'posting']",
         "7"
        ],
        [
         "40",
         "7",
         "['harassment', 'civility']",
         "0"
        ],
        [
         "41",
         "7",
         "['harassment', 'death', 'violence']",
         "1"
        ],
        [
         "42",
         "7",
         "['harassment', 'discrimination']",
         "2"
        ],
        [
         "43",
         "7",
         "['harassment', 'unsourced', 'allegations']",
         "3"
        ],
        [
         "44",
         "7",
         "['harassment', 'speculation']",
         "4"
        ],
        [
         "45",
         "7",
         "['harassment', 'out', 'of', 'context', 'content']",
         "5"
        ],
        [
         "46",
         "7",
         "['quality', 'duplicate', 'submissions']",
         "6"
        ],
        [
         "47",
         "7",
         "['quality', 'title', 'guidelines']",
         "7"
        ],
        [
         "48",
         "7",
         "['quality', 'old', 'news']",
         "8"
        ],
        [
         "49",
         "7",
         "['spam', 'off', 'topic']",
         "12"
        ]
       ],
       "shape": {
        "columns": 3,
        "rows": 767
       }
      },
      "text/html": [
       "<div>\n",
       "<style scoped>\n",
       "    .dataframe tbody tr th:only-of-type {\n",
       "        vertical-align: middle;\n",
       "    }\n",
       "\n",
       "    .dataframe tbody tr th {\n",
       "        vertical-align: top;\n",
       "    }\n",
       "\n",
       "    .dataframe thead th {\n",
       "        text-align: right;\n",
       "    }\n",
       "</style>\n",
       "<table border=\"1\" class=\"dataframe\">\n",
       "  <thead>\n",
       "    <tr style=\"text-align: right;\">\n",
       "      <th></th>\n",
       "      <th>server_id</th>\n",
       "      <th>rules</th>\n",
       "      <th>rule_id</th>\n",
       "    </tr>\n",
       "  </thead>\n",
       "  <tbody>\n",
       "    <tr>\n",
       "      <th>0</th>\n",
       "      <td>2</td>\n",
       "      <td>[top, level, comments, must, contain, a, genui...</td>\n",
       "      <td>0</td>\n",
       "    </tr>\n",
       "    <tr>\n",
       "      <th>1</th>\n",
       "      <td>2</td>\n",
       "      <td>[please, try, searching, the, subreddit, for, ...</td>\n",
       "      <td>1</td>\n",
       "    </tr>\n",
       "    <tr>\n",
       "      <th>2</th>\n",
       "      <td>2</td>\n",
       "      <td>[no, suicide, or, was, i, raped, sexual, assau...</td>\n",
       "      <td>5</td>\n",
       "    </tr>\n",
       "    <tr>\n",
       "      <th>3</th>\n",
       "      <td>2</td>\n",
       "      <td>[no, self, promotion, shilling, or, begging]</td>\n",
       "      <td>6</td>\n",
       "    </tr>\n",
       "    <tr>\n",
       "      <th>4</th>\n",
       "      <td>2</td>\n",
       "      <td>[no, illegal, unethical, or, disturbing, subje...</td>\n",
       "      <td>7</td>\n",
       "    </tr>\n",
       "    <tr>\n",
       "      <th>...</th>\n",
       "      <td>...</td>\n",
       "      <td>...</td>\n",
       "      <td>...</td>\n",
       "    </tr>\n",
       "    <tr>\n",
       "      <th>762</th>\n",
       "      <td>99</td>\n",
       "      <td>[no, personal, information]</td>\n",
       "      <td>4</td>\n",
       "    </tr>\n",
       "    <tr>\n",
       "      <th>763</th>\n",
       "      <td>99</td>\n",
       "      <td>[no, long, videos, 10s, or, long, texts]</td>\n",
       "      <td>7</td>\n",
       "    </tr>\n",
       "    <tr>\n",
       "      <th>764</th>\n",
       "      <td>99</td>\n",
       "      <td>[no, r, roastme]</td>\n",
       "      <td>10</td>\n",
       "    </tr>\n",
       "    <tr>\n",
       "      <th>765</th>\n",
       "      <td>99</td>\n",
       "      <td>[moderators, discretion]</td>\n",
       "      <td>11</td>\n",
       "    </tr>\n",
       "    <tr>\n",
       "      <th>766</th>\n",
       "      <td>99</td>\n",
       "      <td>[do, not, post, your, own, insults]</td>\n",
       "      <td>12</td>\n",
       "    </tr>\n",
       "  </tbody>\n",
       "</table>\n",
       "<p>767 rows × 3 columns</p>\n",
       "</div>"
      ],
      "text/plain": [
       "     server_id                                              rules  rule_id\n",
       "0            2  [top, level, comments, must, contain, a, genui...        0\n",
       "1            2  [please, try, searching, the, subreddit, for, ...        1\n",
       "2            2  [no, suicide, or, was, i, raped, sexual, assau...        5\n",
       "3            2       [no, self, promotion, shilling, or, begging]        6\n",
       "4            2  [no, illegal, unethical, or, disturbing, subje...        7\n",
       "..         ...                                                ...      ...\n",
       "762         99                        [no, personal, information]        4\n",
       "763         99           [no, long, videos, 10s, or, long, texts]        7\n",
       "764         99                                   [no, r, roastme]       10\n",
       "765         99                           [moderators, discretion]       11\n",
       "766         99                [do, not, post, your, own, insults]       12\n",
       "\n",
       "[767 rows x 3 columns]"
      ]
     },
     "execution_count": 208,
     "metadata": {},
     "output_type": "execute_result"
    }
   ],
   "source": [
    "# Process te rules for NLP\n",
    "standardized_df = df_english.copy()\n",
    "standardized_df[\"rules\"] = r_standardize_text(standardized_df['rules'])\n",
    "\n",
    "# Compute strictness metrics TODO: define metrics and compute them\n",
    "#standardized_df[\"strict_rule\"] = standardized_df[\"rules\"].apply(utils.contains_strict_words)\n",
    "standardized_df #[\"rules\"]"
   ]
  },
  {
   "cell_type": "code",
   "execution_count": null,
   "id": "6ff86570",
   "metadata": {},
   "outputs": [
    {
     "data": {
      "application/vnd.microsoft.datawrangler.viewer.v0+json": {
       "columns": [
        {
         "name": "index",
         "rawType": "int64",
         "type": "integer"
        },
        {
         "name": "server_id",
         "rawType": "int64",
         "type": "integer"
        },
        {
         "name": "rules",
         "rawType": "object",
         "type": "unknown"
        },
        {
         "name": "rule_id",
         "rawType": "int64",
         "type": "integer"
        }
       ],
       "ref": "c146abc8-aa60-42bf-bbfc-8e40e316e34f",
       "rows": [
        [
         "0",
         "2",
         "['top', 'level', 'comments', 'must', 'contain', 'a', 'genuine', 'human', 'written', 'attempt', 'at', 'an', 'answer']",
         "0"
        ],
        [
         "1",
         "2",
         "['please', 'try', 'searching', 'the', 'subreddit', 'for', 'your', 'question', 'first']",
         "1"
        ],
        [
         "2",
         "2",
         "['no', 'suicide', 'or', 'was', 'i', 'raped', 'sexual', 'assaulted', 'sexually', 'harrassed', 'questions']",
         "5"
        ],
        [
         "3",
         "2",
         "['no', 'self', 'promotion', 'shilling', 'or', 'begging']",
         "6"
        ],
        [
         "4",
         "2",
         "['no', 'illegal', 'unethical', 'or', 'disturbing', 'subject', 'matter']",
         "7"
        ],
        [
         "5",
         "2",
         "['no', 'disguised', 'rants', 'agenda', 'posts', 'or', 'potstirring']",
         "8"
        ],
        [
         "6",
         "3",
         "['be', 'civil', 'to', 'one', 'another']",
         "0"
        ],
        [
         "7",
         "3",
         "['respect', 'the', 'opinions', 'of', 'others']",
         "1"
        ],
        [
         "8",
         "3",
         "['tag', 'spoilers', 'and', 'nsfw', 'content']",
         "3"
        ],
        [
         "9",
         "3",
         "['memes', 'screenshots', 'and', 'fanart', 'must', 'be', 'flaired']",
         "4"
        ],
        [
         "10",
         "3",
         "['no', 'spamming']",
         "5"
        ],
        [
         "11",
         "3",
         "['no', 'tav', 'build', 'multiclass', 'or', 'lfg', 'posts', 'outside', 'of', 'their', 'megathreads']",
         "6"
        ],
        [
         "12",
         "3",
         "['no', 'piracy', 'allowed', 'no', 'posting', 'pirated', 'material', 'of', 'any', 'kind', 'but', 'especially', '5e', 'material']",
         "7"
        ],
        [
         "13",
         "3",
         "['use', 'modmail', 'for', 'issues', 'or', 'giveaways', 'don', 't', 'mention', 'link', 'or', 'directly', 'message', 'the', 'mods']",
         "8"
        ],
        [
         "14",
         "3",
         "['no', 'discussion', 'exclusively', 'about', '3rd', 'party', 'wikis']",
         "9"
        ],
        [
         "15",
         "3",
         "['all', 'posts', 'should', 'be', 'in', 'english', 'non', 'english', 'comments', 'are', 'allowed']",
         "11"
        ],
        [
         "16",
         "3",
         "['no', 'asking', 'for', 'game', 'codes', 'the', 'game', 'steam', 'accounts']",
         "12"
        ],
        [
         "17",
         "3",
         "['no', 'posting', 'about', 'bigoted', 'mods']",
         "13"
        ],
        [
         "18",
         "3",
         "['cosplay', 'posts', 'must', 'now', 'be', 'submitted', 'on', 'sundays']",
         "14"
        ],
        [
         "19",
         "4",
         "['no', 'uncivil', 'bigoted', 'misogynist', 'misandrist', 'racist', 'comments', 'or', 'posts']",
         "0"
        ],
        [
         "20",
         "4",
         "['no', 'misinformation']",
         "1"
        ],
        [
         "21",
         "4",
         "['remove', 'identifying', 'personal', 'information']",
         "5"
        ],
        [
         "22",
         "4",
         "['no', 'reddit', 'meta', 'posts']",
         "7"
        ],
        [
         "23",
         "4",
         "['no', 'posts', 'about', 'politicians', 'being', 'politicians']",
         "8"
        ],
        [
         "24",
         "4",
         "['no', 'posts', 'attacking', 'a', 'political', 'party', 'or', 'side']",
         "9"
        ],
        [
         "25",
         "5",
         "['posts', 'must', 'be', 'interesting', 'as', 'fuck']",
         "0"
        ],
        [
         "26",
         "5",
         "['no', 'politics']",
         "1"
        ],
        [
         "27",
         "5",
         "['titles', 'must', 'be', 'descriptive', 'and', 'directly', 'related', 'to', 'the', 'content']",
         "2"
        ],
        [
         "28",
         "5",
         "['no', 'porn', 'or', 'gore']",
         "3"
        ],
        [
         "29",
         "5",
         "['no', 'doxing', 'witch', 'hunts', 'or', 'meta', 'related', 'posts']",
         "4"
        ],
        [
         "30",
         "5",
         "['provide', 'a', 'source', 'when', 'the', 'title', 'is', 'in', 'doubt']",
         "5"
        ],
        [
         "31",
         "5",
         "['no', 'fcoo', 'flooding']",
         "6"
        ],
        [
         "32",
         "5",
         "['no', 'self', 'promotion']",
         "7"
        ],
        [
         "33",
         "5",
         "['no', 'gossip', 'or', 'tabloid', 'type', 'material']",
         "10"
        ],
        [
         "34",
         "5",
         "['additional', 'temporary', 'rules']",
         "11"
        ],
        [
         "35",
         "6",
         "['only', 'damnthatsinteresting', 'content']",
         "0"
        ],
        [
         "36",
         "6",
         "['no', 'racism', 'bigotry', 'or', 'hate', 'speech']",
         "2"
        ],
        [
         "37",
         "6",
         "['no', 'screenshots', 'memes', 'infographics']",
         "3"
        ],
        [
         "38",
         "6",
         "['no', 'politics']",
         "6"
        ],
        [
         "39",
         "6",
         "['posts', 'making', 'claims', 'must', 'be', 'sourced', 'in', 'comments', 'at', 'time', 'of', 'posting']",
         "7"
        ],
        [
         "40",
         "7",
         "['harassment', 'civility']",
         "0"
        ],
        [
         "41",
         "7",
         "['harassment', 'death', 'violence']",
         "1"
        ],
        [
         "42",
         "7",
         "['harassment', 'discrimination']",
         "2"
        ],
        [
         "43",
         "7",
         "['harassment', 'unsourced', 'allegations']",
         "3"
        ],
        [
         "44",
         "7",
         "['harassment', 'speculation']",
         "4"
        ],
        [
         "45",
         "7",
         "['harassment', 'out', 'of', 'context', 'content']",
         "5"
        ],
        [
         "46",
         "7",
         "['quality', 'duplicate', 'submissions']",
         "6"
        ],
        [
         "47",
         "7",
         "['quality', 'title', 'guidelines']",
         "7"
        ],
        [
         "48",
         "7",
         "['quality', 'old', 'news']",
         "8"
        ],
        [
         "49",
         "7",
         "['spam', 'off', 'topic']",
         "12"
        ]
       ],
       "shape": {
        "columns": 3,
        "rows": 767
       }
      },
      "text/html": [
       "<div>\n",
       "<style scoped>\n",
       "    .dataframe tbody tr th:only-of-type {\n",
       "        vertical-align: middle;\n",
       "    }\n",
       "\n",
       "    .dataframe tbody tr th {\n",
       "        vertical-align: top;\n",
       "    }\n",
       "\n",
       "    .dataframe thead th {\n",
       "        text-align: right;\n",
       "    }\n",
       "</style>\n",
       "<table border=\"1\" class=\"dataframe\">\n",
       "  <thead>\n",
       "    <tr style=\"text-align: right;\">\n",
       "      <th></th>\n",
       "      <th>server_id</th>\n",
       "      <th>rules</th>\n",
       "      <th>rule_id</th>\n",
       "    </tr>\n",
       "  </thead>\n",
       "  <tbody>\n",
       "    <tr>\n",
       "      <th>0</th>\n",
       "      <td>2</td>\n",
       "      <td>[top, level, comments, must, contain, a, genui...</td>\n",
       "      <td>0</td>\n",
       "    </tr>\n",
       "    <tr>\n",
       "      <th>1</th>\n",
       "      <td>2</td>\n",
       "      <td>[please, try, searching, the, subreddit, for, ...</td>\n",
       "      <td>1</td>\n",
       "    </tr>\n",
       "    <tr>\n",
       "      <th>2</th>\n",
       "      <td>2</td>\n",
       "      <td>[no, suicide, or, was, i, raped, sexual, assau...</td>\n",
       "      <td>5</td>\n",
       "    </tr>\n",
       "    <tr>\n",
       "      <th>3</th>\n",
       "      <td>2</td>\n",
       "      <td>[no, self, promotion, shilling, or, begging]</td>\n",
       "      <td>6</td>\n",
       "    </tr>\n",
       "    <tr>\n",
       "      <th>4</th>\n",
       "      <td>2</td>\n",
       "      <td>[no, illegal, unethical, or, disturbing, subje...</td>\n",
       "      <td>7</td>\n",
       "    </tr>\n",
       "    <tr>\n",
       "      <th>...</th>\n",
       "      <td>...</td>\n",
       "      <td>...</td>\n",
       "      <td>...</td>\n",
       "    </tr>\n",
       "    <tr>\n",
       "      <th>762</th>\n",
       "      <td>99</td>\n",
       "      <td>[no, personal, information]</td>\n",
       "      <td>4</td>\n",
       "    </tr>\n",
       "    <tr>\n",
       "      <th>763</th>\n",
       "      <td>99</td>\n",
       "      <td>[no, long, videos, 10s, or, long, texts]</td>\n",
       "      <td>7</td>\n",
       "    </tr>\n",
       "    <tr>\n",
       "      <th>764</th>\n",
       "      <td>99</td>\n",
       "      <td>[no, r, roastme]</td>\n",
       "      <td>10</td>\n",
       "    </tr>\n",
       "    <tr>\n",
       "      <th>765</th>\n",
       "      <td>99</td>\n",
       "      <td>[moderators, discretion]</td>\n",
       "      <td>11</td>\n",
       "    </tr>\n",
       "    <tr>\n",
       "      <th>766</th>\n",
       "      <td>99</td>\n",
       "      <td>[do, not, post, your, own, insults]</td>\n",
       "      <td>12</td>\n",
       "    </tr>\n",
       "  </tbody>\n",
       "</table>\n",
       "<p>767 rows × 3 columns</p>\n",
       "</div>"
      ],
      "text/plain": [
       "     server_id                                              rules  rule_id\n",
       "0            2  [top, level, comments, must, contain, a, genui...        0\n",
       "1            2  [please, try, searching, the, subreddit, for, ...        1\n",
       "2            2  [no, suicide, or, was, i, raped, sexual, assau...        5\n",
       "3            2       [no, self, promotion, shilling, or, begging]        6\n",
       "4            2  [no, illegal, unethical, or, disturbing, subje...        7\n",
       "..         ...                                                ...      ...\n",
       "762         99                        [no, personal, information]        4\n",
       "763         99           [no, long, videos, 10s, or, long, texts]        7\n",
       "764         99                                   [no, r, roastme]       10\n",
       "765         99                           [moderators, discretion]       11\n",
       "766         99                [do, not, post, your, own, insults]       12\n",
       "\n",
       "[767 rows x 3 columns]"
      ]
     },
     "execution_count": 209,
     "metadata": {},
     "output_type": "execute_result"
    }
   ],
   "source": [
    "# Keep only the rows from standardized_df that have a matching server_id and rule_id in df_english\n",
    "standardized_df = standardized_df.merge(df_english[[\"server_id\", \"rule_id\"]], on=[\"server_id\", \"rule_id\"], how='inner')\n",
    "standardized_df"
   ]
  },
  {
   "cell_type": "code",
   "execution_count": null,
   "id": "eb50c2b6",
   "metadata": {},
   "outputs": [
    {
     "name": "stderr",
     "output_type": "stream",
     "text": [
      "[nltk_data] Downloading package stopwords to\n",
      "[nltk_data]     /Users/eglantinevialaneix/nltk_data...\n",
      "[nltk_data]   Package stopwords is already up-to-date!\n"
     ]
    },
    {
     "data": {
      "application/vnd.microsoft.datawrangler.viewer.v0+json": {
       "columns": [
        {
         "name": "index",
         "rawType": "int64",
         "type": "integer"
        },
        {
         "name": "server_id",
         "rawType": "int64",
         "type": "integer"
        },
        {
         "name": "rules",
         "rawType": "object",
         "type": "unknown"
        },
        {
         "name": "rule_id",
         "rawType": "int64",
         "type": "integer"
        }
       ],
       "ref": "5f15c779-66c9-4df6-98ce-8961fcdfce32",
       "rows": [
        [
         "0",
         "2",
         "['top', 'level', 'comments', 'must', 'contain', 'genuine', 'human', 'written', 'attempt', 'answer']",
         "0"
        ],
        [
         "1",
         "2",
         "['please', 'try', 'searching', 'subreddit', 'question', 'first']",
         "1"
        ],
        [
         "2",
         "2",
         "['suicide', 'raped', 'sexual', 'assaulted', 'sexually', 'harrassed', 'questions']",
         "5"
        ],
        [
         "3",
         "2",
         "['self', 'promotion', 'shilling', 'begging']",
         "6"
        ],
        [
         "4",
         "2",
         "['illegal', 'unethical', 'disturbing', 'subject', 'matter']",
         "7"
        ],
        [
         "5",
         "2",
         "['disguised', 'rants', 'agenda', 'posts', 'potstirring']",
         "8"
        ],
        [
         "6",
         "3",
         "['civil', 'one', 'another']",
         "0"
        ],
        [
         "7",
         "3",
         "['respect', 'opinions', 'others']",
         "1"
        ],
        [
         "8",
         "3",
         "['tag', 'spoilers', 'nsfw', 'content']",
         "3"
        ],
        [
         "9",
         "3",
         "['memes', 'screenshots', 'fanart', 'must', 'flaired']",
         "4"
        ],
        [
         "10",
         "3",
         "['spamming']",
         "5"
        ],
        [
         "11",
         "3",
         "['tav', 'build', 'multiclass', 'lfg', 'posts', 'outside', 'megathreads']",
         "6"
        ],
        [
         "12",
         "3",
         "['piracy', 'allowed', 'posting', 'pirated', 'material', 'kind', 'especially', '5e', 'material']",
         "7"
        ],
        [
         "13",
         "3",
         "['use', 'modmail', 'issues', 'giveaways', 'mention', 'link', 'directly', 'message', 'mods']",
         "8"
        ],
        [
         "14",
         "3",
         "['discussion', 'exclusively', '3rd', 'party', 'wikis']",
         "9"
        ],
        [
         "15",
         "3",
         "['posts', 'english', 'non', 'english', 'comments', 'allowed']",
         "11"
        ],
        [
         "16",
         "3",
         "['asking', 'game', 'codes', 'game', 'steam', 'accounts']",
         "12"
        ],
        [
         "17",
         "3",
         "['posting', 'bigoted', 'mods']",
         "13"
        ],
        [
         "18",
         "3",
         "['cosplay', 'posts', 'must', 'submitted', 'sundays']",
         "14"
        ],
        [
         "19",
         "4",
         "['uncivil', 'bigoted', 'misogynist', 'misandrist', 'racist', 'comments', 'posts']",
         "0"
        ],
        [
         "20",
         "4",
         "['misinformation']",
         "1"
        ],
        [
         "21",
         "4",
         "['remove', 'identifying', 'personal', 'information']",
         "5"
        ],
        [
         "22",
         "4",
         "['reddit', 'meta', 'posts']",
         "7"
        ],
        [
         "23",
         "4",
         "['posts', 'politicians', 'politicians']",
         "8"
        ],
        [
         "24",
         "4",
         "['posts', 'attacking', 'political', 'party', 'side']",
         "9"
        ],
        [
         "25",
         "5",
         "['posts', 'must', 'interesting', 'fuck']",
         "0"
        ],
        [
         "26",
         "5",
         "['politics']",
         "1"
        ],
        [
         "27",
         "5",
         "['titles', 'must', 'descriptive', 'directly', 'related', 'content']",
         "2"
        ],
        [
         "28",
         "5",
         "['porn', 'gore']",
         "3"
        ],
        [
         "29",
         "5",
         "['doxing', 'witch', 'hunts', 'meta', 'related', 'posts']",
         "4"
        ],
        [
         "30",
         "5",
         "['provide', 'source', 'title', 'doubt']",
         "5"
        ],
        [
         "31",
         "5",
         "['fcoo', 'flooding']",
         "6"
        ],
        [
         "32",
         "5",
         "['self', 'promotion']",
         "7"
        ],
        [
         "33",
         "5",
         "['gossip', 'tabloid', 'type', 'material']",
         "10"
        ],
        [
         "34",
         "5",
         "['additional', 'temporary', 'rules']",
         "11"
        ],
        [
         "35",
         "6",
         "['damnthatsinteresting', 'content']",
         "0"
        ],
        [
         "36",
         "6",
         "['racism', 'bigotry', 'hate', 'speech']",
         "2"
        ],
        [
         "37",
         "6",
         "['screenshots', 'memes', 'infographics']",
         "3"
        ],
        [
         "38",
         "6",
         "['politics']",
         "6"
        ],
        [
         "39",
         "6",
         "['posts', 'making', 'claims', 'must', 'sourced', 'comments', 'time', 'posting']",
         "7"
        ],
        [
         "40",
         "7",
         "['harassment', 'civility']",
         "0"
        ],
        [
         "41",
         "7",
         "['harassment', 'death', 'violence']",
         "1"
        ],
        [
         "42",
         "7",
         "['harassment', 'discrimination']",
         "2"
        ],
        [
         "43",
         "7",
         "['harassment', 'unsourced', 'allegations']",
         "3"
        ],
        [
         "44",
         "7",
         "['harassment', 'speculation']",
         "4"
        ],
        [
         "45",
         "7",
         "['harassment', 'context', 'content']",
         "5"
        ],
        [
         "46",
         "7",
         "['quality', 'duplicate', 'submissions']",
         "6"
        ],
        [
         "47",
         "7",
         "['quality', 'title', 'guidelines']",
         "7"
        ],
        [
         "48",
         "7",
         "['quality', 'old', 'news']",
         "8"
        ],
        [
         "49",
         "7",
         "['spam', 'topic']",
         "12"
        ]
       ],
       "shape": {
        "columns": 3,
        "rows": 767
       }
      },
      "text/html": [
       "<div>\n",
       "<style scoped>\n",
       "    .dataframe tbody tr th:only-of-type {\n",
       "        vertical-align: middle;\n",
       "    }\n",
       "\n",
       "    .dataframe tbody tr th {\n",
       "        vertical-align: top;\n",
       "    }\n",
       "\n",
       "    .dataframe thead th {\n",
       "        text-align: right;\n",
       "    }\n",
       "</style>\n",
       "<table border=\"1\" class=\"dataframe\">\n",
       "  <thead>\n",
       "    <tr style=\"text-align: right;\">\n",
       "      <th></th>\n",
       "      <th>server_id</th>\n",
       "      <th>rules</th>\n",
       "      <th>rule_id</th>\n",
       "    </tr>\n",
       "  </thead>\n",
       "  <tbody>\n",
       "    <tr>\n",
       "      <th>0</th>\n",
       "      <td>2</td>\n",
       "      <td>[top, level, comments, must, contain, genuine,...</td>\n",
       "      <td>0</td>\n",
       "    </tr>\n",
       "    <tr>\n",
       "      <th>1</th>\n",
       "      <td>2</td>\n",
       "      <td>[please, try, searching, subreddit, question, ...</td>\n",
       "      <td>1</td>\n",
       "    </tr>\n",
       "    <tr>\n",
       "      <th>2</th>\n",
       "      <td>2</td>\n",
       "      <td>[suicide, raped, sexual, assaulted, sexually, ...</td>\n",
       "      <td>5</td>\n",
       "    </tr>\n",
       "    <tr>\n",
       "      <th>3</th>\n",
       "      <td>2</td>\n",
       "      <td>[self, promotion, shilling, begging]</td>\n",
       "      <td>6</td>\n",
       "    </tr>\n",
       "    <tr>\n",
       "      <th>4</th>\n",
       "      <td>2</td>\n",
       "      <td>[illegal, unethical, disturbing, subject, matter]</td>\n",
       "      <td>7</td>\n",
       "    </tr>\n",
       "    <tr>\n",
       "      <th>...</th>\n",
       "      <td>...</td>\n",
       "      <td>...</td>\n",
       "      <td>...</td>\n",
       "    </tr>\n",
       "    <tr>\n",
       "      <th>762</th>\n",
       "      <td>99</td>\n",
       "      <td>[personal, information]</td>\n",
       "      <td>4</td>\n",
       "    </tr>\n",
       "    <tr>\n",
       "      <th>763</th>\n",
       "      <td>99</td>\n",
       "      <td>[long, videos, 10s, long, texts]</td>\n",
       "      <td>7</td>\n",
       "    </tr>\n",
       "    <tr>\n",
       "      <th>764</th>\n",
       "      <td>99</td>\n",
       "      <td>[r, roastme]</td>\n",
       "      <td>10</td>\n",
       "    </tr>\n",
       "    <tr>\n",
       "      <th>765</th>\n",
       "      <td>99</td>\n",
       "      <td>[moderators, discretion]</td>\n",
       "      <td>11</td>\n",
       "    </tr>\n",
       "    <tr>\n",
       "      <th>766</th>\n",
       "      <td>99</td>\n",
       "      <td>[post, insults]</td>\n",
       "      <td>12</td>\n",
       "    </tr>\n",
       "  </tbody>\n",
       "</table>\n",
       "<p>767 rows × 3 columns</p>\n",
       "</div>"
      ],
      "text/plain": [
       "     server_id                                              rules  rule_id\n",
       "0            2  [top, level, comments, must, contain, genuine,...        0\n",
       "1            2  [please, try, searching, subreddit, question, ...        1\n",
       "2            2  [suicide, raped, sexual, assaulted, sexually, ...        5\n",
       "3            2               [self, promotion, shilling, begging]        6\n",
       "4            2  [illegal, unethical, disturbing, subject, matter]        7\n",
       "..         ...                                                ...      ...\n",
       "762         99                            [personal, information]        4\n",
       "763         99                   [long, videos, 10s, long, texts]        7\n",
       "764         99                                       [r, roastme]       10\n",
       "765         99                           [moderators, discretion]       11\n",
       "766         99                                    [post, insults]       12\n",
       "\n",
       "[767 rows x 3 columns]"
      ]
     },
     "execution_count": 211,
     "metadata": {},
     "output_type": "execute_result"
    }
   ],
   "source": [
    "# Natural language processing\n",
    "import nltk\n",
    "from nltk.corpus import stopwords\n",
    "from sklearn.feature_extraction.text import TfidfVectorizer\n",
    "\n",
    "# Download stopwords if not already done\n",
    "nltk.download('stopwords')\n",
    "\n",
    "# Set of English stopwords\n",
    "stop_words = set(stopwords.words('english')).union(set(stopwords.words('french'))).union(set(stopwords.words('german'))).union(set(stopwords.words('spanish')))\n",
    "\n",
    "# Remove stop words from the tokenized lists\n",
    "standardized_df[\"rules\"] = standardized_df[\"rules\"].apply(lambda words: [word for word in words if word not in stop_words] if isinstance(words, list) else words)\n",
    "\n",
    "# Lemmatize tokens\n",
    "# No need to lemmatize for berTOPIC\n",
    "#standardized_df[\"text\"] = standardized_df[\"text\"].apply(lemmatize)\n",
    "#standardized_df[\"hint\"] = standardized_df[\"hint\"].apply(lemmatize)\n",
    "\n",
    "standardized_df"
   ]
  },
  {
   "cell_type": "code",
   "execution_count": null,
   "id": "7c3502b7",
   "metadata": {},
   "outputs": [
    {
     "data": {
      "application/vnd.microsoft.datawrangler.viewer.v0+json": {
       "columns": [
        {
         "name": "rules",
         "rawType": "object",
         "type": "string"
        },
        {
         "name": "count",
         "rawType": "int64",
         "type": "integer"
        }
       ],
       "ref": "ee3fc1eb-00a1-42f4-8784-7c5593ac27d0",
       "rows": [
        [
         "posts",
         "126"
        ],
        [
         "must",
         "73"
        ],
        [
         "content",
         "64"
        ],
        [
         "post",
         "39"
        ],
        [
         "self",
         "35"
        ],
        [
         "rule",
         "33"
        ],
        [
         "low",
         "32"
        ],
        [
         "comments",
         "26"
        ],
        [
         "promotion",
         "26"
        ],
        [
         "effort",
         "24"
        ],
        [
         "personal",
         "23"
        ],
        [
         "rules",
         "21"
        ],
        [
         "discussion",
         "20"
        ],
        [
         "civil",
         "19"
        ],
        [
         "submissions",
         "19"
        ],
        [
         "title",
         "19"
        ],
        [
         "reddit",
         "17"
        ],
        [
         "questions",
         "17"
        ],
        [
         "follow",
         "17"
        ],
        [
         "use",
         "16"
        ],
        [
         "politics",
         "16"
        ],
        [
         "titles",
         "16"
        ],
        [
         "information",
         "16"
        ],
        [
         "allowed",
         "15"
        ],
        [
         "spam",
         "15"
        ],
        [
         "related",
         "15"
        ],
        [
         "quality",
         "14"
        ],
        [
         "posting",
         "14"
        ],
        [
         "memes",
         "14"
        ],
        [
         "links",
         "13"
        ],
        [
         "nsfw",
         "13"
        ],
        [
         "witch",
         "12"
        ],
        [
         "news",
         "12"
        ],
        [
         "source",
         "11"
        ],
        [
         "link",
         "10"
        ],
        [
         "giveaways",
         "10"
        ],
        [
         "english",
         "10"
        ],
        [
         "screenshots",
         "10"
        ],
        [
         "text",
         "10"
        ],
        [
         "reposts",
         "10"
        ],
        [
         "meme",
         "9"
        ],
        [
         "advice",
         "9"
        ],
        [
         "game",
         "9"
        ],
        [
         "respectful",
         "9"
        ],
        [
         "old",
         "9"
        ],
        [
         "harassment",
         "9"
        ],
        [
         "topic",
         "9"
        ],
        [
         "topics",
         "9"
        ],
        [
         "meta",
         "9"
        ],
        [
         "bigotry",
         "9"
        ]
       ],
       "shape": {
        "columns": 1,
        "rows": 1171
       }
      },
      "text/plain": [
       "rules\n",
       "posts         126\n",
       "must           73\n",
       "content        64\n",
       "post           39\n",
       "self           35\n",
       "             ... \n",
       "grey            1\n",
       "keys            1\n",
       "reviews         1\n",
       "deals           1\n",
       "moderators      1\n",
       "Name: count, Length: 1171, dtype: int64"
      ]
     },
     "execution_count": 213,
     "metadata": {},
     "output_type": "execute_result"
    }
   ],
   "source": [
    "#tokenize each text and each hint\n",
    "nlp_df = standardized_df.copy()\n",
    "\n",
    "#nlp_df[\"document\"] = nlp_df.apply(create_document, axis=1)\n",
    "\n",
    "vocab = nlp_df[\"rules\"].explode().unique()\n",
    "nlp_df[\"rules\"].explode().value_counts()"
   ]
  },
  {
   "cell_type": "code",
   "execution_count": null,
   "id": "897ef122",
   "metadata": {},
   "outputs": [
    {
     "name": "stdout",
     "output_type": "stream",
     "text": [
      "TF-IDF matrix shape: (767, 1157)\n"
     ]
    }
   ],
   "source": [
    "# TF-IDF scores\n",
    "# Join the tokens back into strings\n",
    "nlp_df['document_str'] = nlp_df['rules'].apply(lambda x: ' '.join(x))\n",
    "\n",
    "# Create and fit TF-IDF Vectorizer\n",
    "tfidf_vect = TfidfVectorizer()\n",
    "tfidf_matrix = tfidf_vect.fit_transform(nlp_df['document_str'])\n",
    "\n",
    "# Get feature names (words)\n",
    "feature_names = tfidf_vect.get_feature_names_out()\n",
    "\n",
    "tfidf = pd.DataFrame(tfidf_matrix.toarray(), columns=feature_names)\n",
    "print(f\"TF-IDF matrix shape: {tfidf_matrix.shape}\")\n",
    "    "
   ]
  },
  {
   "cell_type": "code",
   "execution_count": null,
   "id": "7a6fe000",
   "metadata": {},
   "outputs": [
    {
     "name": "stdout",
     "output_type": "stream",
     "text": [
      "Top 10 terms by average TF-IDF score:\n",
      "          term     score\n",
      "778      posts  0.041990\n",
      "230    content  0.027015\n",
      "677       must  0.025548\n",
      "912       self  0.020700\n",
      "798  promotion  0.017493\n",
      "607        low  0.017454\n",
      "189      civil  0.016888\n",
      "775       post  0.015915\n",
      "341     effort  0.014231\n",
      "768   politics  0.013817\n"
     ]
    }
   ],
   "source": [
    "# Display top terms with highest average TF-IDF scores\n",
    "mean_tfidf = tfidf_matrix.mean(axis=0).A1\n",
    "term_scores = pd.DataFrame({'term': feature_names, 'score': mean_tfidf})\n",
    "print(\"Top 10 terms by average TF-IDF score:\")\n",
    "print(term_scores.sort_values('score', ascending=False).head(10))"
   ]
  },
  {
   "cell_type": "code",
   "execution_count": null,
   "id": "952331ce",
   "metadata": {},
   "outputs": [
    {
     "name": "stdout",
     "output_type": "stream",
     "text": [
      "Top TF-IDF words for document 722:\n",
      "accessory    0.400045\n",
      "modding      0.400045\n",
      "setup        0.400045\n",
      "hardware     0.360151\n",
      "review       0.360151\n",
      "Name: 722, dtype: float64 \n",
      "\n",
      "Top TF-IDF words for document 583:\n",
      "tumblr         0.637504\n",
      "posts          0.517937\n",
      "screenshots    0.481146\n",
      "must           0.306315\n",
      "10k            0.000000\n",
      "Name: 583, dtype: float64 \n",
      "\n",
      "Top TF-IDF words for document 361:\n",
      "generated      0.509268\n",
      "user           0.509268\n",
      "advertising    0.452856\n",
      "surveys        0.443270\n",
      "content        0.282358\n",
      "Name: 361, dtype: float64 \n",
      "\n",
      "Top TF-IDF words for document 659:\n",
      "high        0.540310\n",
      "topical     0.540310\n",
      "relevant    0.442926\n",
      "quality     0.383681\n",
      "content     0.269695\n",
      "Name: 659, dtype: float64 \n",
      "\n",
      "Top TF-IDF words for document 104:\n",
      "third    0.693675\n",
      "party    0.648727\n",
      "posts    0.313000\n",
      "10k      0.000000\n",
      "10s      0.000000\n",
      "Name: 104, dtype: float64 \n",
      "\n"
     ]
    }
   ],
   "source": [
    "# Display the top TF-IDF words for a few sample documents\n",
    "sample_indices = np.random.choice(tfidf.index, size=5, replace=False)\n",
    "for idx in sample_indices:\n",
    "    print(f\"Top TF-IDF words for document {idx}:\")\n",
    "    doc_tfidf = tfidf.iloc[idx]\n",
    "    top_words = doc_tfidf.nlargest(5)\n",
    "    print(top_words, '\\n')"
   ]
  },
  {
   "cell_type": "code",
   "execution_count": null,
   "id": "eb17f392",
   "metadata": {},
   "outputs": [],
   "source": [
    "# Topic modeling\n",
    "from bertopic import BERTopic\n",
    "\n",
    "topic_model = BERTopic()\n",
    "topics, probs = topic_model.fit_transform(nlp_df['document_str'])"
   ]
  },
  {
   "cell_type": "code",
   "execution_count": null,
   "id": "b82b031d",
   "metadata": {},
   "outputs": [
    {
     "data": {
      "application/vnd.microsoft.datawrangler.viewer.v0+json": {
       "columns": [
        {
         "name": "index",
         "rawType": "int64",
         "type": "integer"
        },
        {
         "name": "Topic",
         "rawType": "int64",
         "type": "integer"
        },
        {
         "name": "Count",
         "rawType": "int64",
         "type": "integer"
        },
        {
         "name": "Name",
         "rawType": "object",
         "type": "string"
        },
        {
         "name": "Representation",
         "rawType": "object",
         "type": "unknown"
        },
        {
         "name": "Representative_Docs",
         "rawType": "object",
         "type": "unknown"
        }
       ],
       "ref": "b9aa4897-d329-4c39-8736-c5680915e940",
       "rows": [
        [
         "0",
         "-1",
         "164",
         "-1_must_english_questions_posts",
         "['must', 'english', 'questions', 'posts', 'submissions', 'comments', 'advice', 'posting', 'search', 'flair']",
         "['top level comment must answer ask follow', 'posts english non english comments allowed', 'submissions must english']"
        ],
        [
         "1",
         "0",
         "112",
         "0_personal_witch_bigotry_harassment",
         "['personal', 'witch', 'bigotry', 'harassment', 'hunts', 'racism', 'information', 'attacks', 'trolling', 'speech']",
         "['personal information witch hunting', 'comments witch hunts personal information', 'personal attacks racism sexism bigotry']"
        ],
        [
         "2",
         "1",
         "81",
         "1_promotion_self_giveaways_spam",
         "['promotion', 'self', 'giveaways', 'spam', 'surveys', 'advertising', 'trading', 'begging', 'promotional', 'flooding']",
         "['self promotion', 'self promotion', 'self promotion']"
        ],
        [
         "3",
         "2",
         "51",
         "2_rules_content_rule_follow",
         "['rules', 'content', 'rule', 'follow', 'restricted', 'reddit', 'reddiquette', 'full', 'read', 'disallowed']",
         "['specific restricted content see rules list', 'read full rules', 'read full list rules']"
        ],
        [
         "4",
         "3",
         "46",
         "3_links_piracy_exploits_cheats",
         "['links', 'piracy', 'exploits', 'cheats', 'pirated', 'link', 'material', 'content', 'cheating', 'copyrighted']",
         "['direct links copyrighted material', 'links discussion illegal copyrighted pirated content', 'cheating exploits piracy']"
        ],
        [
         "5",
         "4",
         "37",
         "4_posts_must_relevant_deck",
         "['posts', 'must', 'relevant', 'deck', 'related', 'steam', 'meta', 'nba', 'wow', 'posted']",
         "['game review deck posts must include game title steam deck experience', 'posts comments must relevant nba', 'posts must related steam deck']"
        ],
        [
         "6",
         "5",
         "33",
         "5_screenshots_memes_meme_image",
         "['screenshots', 'memes', 'meme', 'image', 'pictures', 'text', 'images', 'hosts', 'format', 'infographics']",
         "['screenshots', 'screenshots memes infographics', 'image posts memes']"
        ],
        [
         "7",
         "6",
         "31",
         "6_discussion_thread_threads_megathread",
         "['discussion', 'thread', 'threads', 'megathread', 'use', 'daily', 'topics', 'meta', 'topic', 'official']",
         "['discussion moderation meta sub topics', 'use daily discussion thread', 'topic posts discussion']"
        ],
        [
         "8",
         "7",
         "30",
         "7_titles_title_clickbait_editorialized",
         "['titles', 'title', 'clickbait', 'editorialized', 'article', 'must', 'contain', 'misleading', 'bad', 'exact']",
         "['editorialized misleading titles', 'title must match article title', 'title post must contain actual concise question clickbait titles']"
        ],
        [
         "9",
         "8",
         "28",
         "8_nsfw_spoilers_gore_porn",
         "['nsfw', 'spoilers', 'gore', 'porn', 'mark', 'dick', 'death', 'content', 'marked', 'generally']",
         "['mark nsfw content', 'mark nsfw spoilers', 'properly mark nsfw spoilers']"
        ],
        [
         "10",
         "9",
         "28",
         "9_low_effort_posts_content",
         "['low', 'effort', 'posts', 'content', 'poorly', 'quality', 'memes', 'spamming', 'comments', 'meme']",
         "['low effort posts', 'low effort posts', 'low effort posts']"
        ],
        [
         "11",
         "10",
         "26",
         "10_politics_political_agenda_world",
         "['politics', 'political', 'agenda', 'world', 'real', 'pushing', 'politicians', 'us', 'figures', 'explicitly']",
         "['politics', 'politics', 'politics']"
        ],
        [
         "12",
         "11",
         "22",
         "11_respectful_others_respect_civil",
         "['respectful', 'others', 'respect', 'civil', 'please', 'accept', 'courtesy', 'creative', 'discriminate', 'asshole']",
         "['civil respectful', 'respectful others', 'respectful others']"
        ],
        [
         "13",
         "12",
         "21",
         "12_videos_video_youtube_uploads",
         "['videos', 'video', 'youtube', 'uploads', 'photos', 'gifs', 'footage', 'fine', 'compilations', 'combat']",
         "['rule 5 videos longer 15 seconds direct reddit uploads links', 'rule 8 tv clips movie clips stills videos live performances home video fine', 'compilations youtube video uploads']"
        ],
        [
         "14",
         "13",
         "15",
         "13_bots_accounts_novelty_account",
         "['bots', 'accounts', 'novelty', 'account', 'bot', 'age', 'support', 'game', 'bans', 'chatgpt']",
         "['bots novelty accounts allowed', 'novelty accounts bots allowed', 'bots novelty accounts']"
        ],
        [
         "15",
         "14",
         "15",
         "14_news_old_articles_tabloid",
         "['news', 'old', 'articles', 'tabloid', 'sources', 'type', 'gossip', 'week', 'event', 'blogs']",
         "['quality old news', 'old news', 'old news']"
        ],
        [
         "16",
         "15",
         "14",
         "15_reposts_recent_months_old",
         "['reposts', 'recent', 'months', 'old', 'duplicates', 'mundane', 'limitations', 'less', 'crossposts', 'repeat']",
         "['x posts reposts', 'reposts', 'reposts']"
        ],
        [
         "17",
         "16",
         "13",
         "16_civil_keep_stand_civility",
         "['civil', 'keep', 'stand', 'civility', 'another', 'general', 'one', 'please', 'discussion', 'comments']",
         "['civil', 'civil', 'civil']"
        ]
       ],
       "shape": {
        "columns": 5,
        "rows": 18
       }
      },
      "text/html": [
       "<div>\n",
       "<style scoped>\n",
       "    .dataframe tbody tr th:only-of-type {\n",
       "        vertical-align: middle;\n",
       "    }\n",
       "\n",
       "    .dataframe tbody tr th {\n",
       "        vertical-align: top;\n",
       "    }\n",
       "\n",
       "    .dataframe thead th {\n",
       "        text-align: right;\n",
       "    }\n",
       "</style>\n",
       "<table border=\"1\" class=\"dataframe\">\n",
       "  <thead>\n",
       "    <tr style=\"text-align: right;\">\n",
       "      <th></th>\n",
       "      <th>Topic</th>\n",
       "      <th>Count</th>\n",
       "      <th>Name</th>\n",
       "      <th>Representation</th>\n",
       "      <th>Representative_Docs</th>\n",
       "    </tr>\n",
       "  </thead>\n",
       "  <tbody>\n",
       "    <tr>\n",
       "      <th>0</th>\n",
       "      <td>-1</td>\n",
       "      <td>164</td>\n",
       "      <td>-1_must_english_questions_posts</td>\n",
       "      <td>[must, english, questions, posts, submissions,...</td>\n",
       "      <td>[top level comment must answer ask follow, pos...</td>\n",
       "    </tr>\n",
       "    <tr>\n",
       "      <th>1</th>\n",
       "      <td>0</td>\n",
       "      <td>112</td>\n",
       "      <td>0_personal_witch_bigotry_harassment</td>\n",
       "      <td>[personal, witch, bigotry, harassment, hunts, ...</td>\n",
       "      <td>[personal information witch hunting, comments ...</td>\n",
       "    </tr>\n",
       "    <tr>\n",
       "      <th>2</th>\n",
       "      <td>1</td>\n",
       "      <td>81</td>\n",
       "      <td>1_promotion_self_giveaways_spam</td>\n",
       "      <td>[promotion, self, giveaways, spam, surveys, ad...</td>\n",
       "      <td>[self promotion, self promotion, self promotion]</td>\n",
       "    </tr>\n",
       "    <tr>\n",
       "      <th>3</th>\n",
       "      <td>2</td>\n",
       "      <td>51</td>\n",
       "      <td>2_rules_content_rule_follow</td>\n",
       "      <td>[rules, content, rule, follow, restricted, red...</td>\n",
       "      <td>[specific restricted content see rules list, r...</td>\n",
       "    </tr>\n",
       "    <tr>\n",
       "      <th>4</th>\n",
       "      <td>3</td>\n",
       "      <td>46</td>\n",
       "      <td>3_links_piracy_exploits_cheats</td>\n",
       "      <td>[links, piracy, exploits, cheats, pirated, lin...</td>\n",
       "      <td>[direct links copyrighted material, links disc...</td>\n",
       "    </tr>\n",
       "    <tr>\n",
       "      <th>5</th>\n",
       "      <td>4</td>\n",
       "      <td>37</td>\n",
       "      <td>4_posts_must_relevant_deck</td>\n",
       "      <td>[posts, must, relevant, deck, related, steam, ...</td>\n",
       "      <td>[game review deck posts must include game titl...</td>\n",
       "    </tr>\n",
       "    <tr>\n",
       "      <th>6</th>\n",
       "      <td>5</td>\n",
       "      <td>33</td>\n",
       "      <td>5_screenshots_memes_meme_image</td>\n",
       "      <td>[screenshots, memes, meme, image, pictures, te...</td>\n",
       "      <td>[screenshots, screenshots memes infographics, ...</td>\n",
       "    </tr>\n",
       "    <tr>\n",
       "      <th>7</th>\n",
       "      <td>6</td>\n",
       "      <td>31</td>\n",
       "      <td>6_discussion_thread_threads_megathread</td>\n",
       "      <td>[discussion, thread, threads, megathread, use,...</td>\n",
       "      <td>[discussion moderation meta sub topics, use da...</td>\n",
       "    </tr>\n",
       "    <tr>\n",
       "      <th>8</th>\n",
       "      <td>7</td>\n",
       "      <td>30</td>\n",
       "      <td>7_titles_title_clickbait_editorialized</td>\n",
       "      <td>[titles, title, clickbait, editorialized, arti...</td>\n",
       "      <td>[editorialized misleading titles, title must m...</td>\n",
       "    </tr>\n",
       "    <tr>\n",
       "      <th>9</th>\n",
       "      <td>8</td>\n",
       "      <td>28</td>\n",
       "      <td>8_nsfw_spoilers_gore_porn</td>\n",
       "      <td>[nsfw, spoilers, gore, porn, mark, dick, death...</td>\n",
       "      <td>[mark nsfw content, mark nsfw spoilers, proper...</td>\n",
       "    </tr>\n",
       "    <tr>\n",
       "      <th>10</th>\n",
       "      <td>9</td>\n",
       "      <td>28</td>\n",
       "      <td>9_low_effort_posts_content</td>\n",
       "      <td>[low, effort, posts, content, poorly, quality,...</td>\n",
       "      <td>[low effort posts, low effort posts, low effor...</td>\n",
       "    </tr>\n",
       "    <tr>\n",
       "      <th>11</th>\n",
       "      <td>10</td>\n",
       "      <td>26</td>\n",
       "      <td>10_politics_political_agenda_world</td>\n",
       "      <td>[politics, political, agenda, world, real, pus...</td>\n",
       "      <td>[politics, politics, politics]</td>\n",
       "    </tr>\n",
       "    <tr>\n",
       "      <th>12</th>\n",
       "      <td>11</td>\n",
       "      <td>22</td>\n",
       "      <td>11_respectful_others_respect_civil</td>\n",
       "      <td>[respectful, others, respect, civil, please, a...</td>\n",
       "      <td>[civil respectful, respectful others, respectf...</td>\n",
       "    </tr>\n",
       "    <tr>\n",
       "      <th>13</th>\n",
       "      <td>12</td>\n",
       "      <td>21</td>\n",
       "      <td>12_videos_video_youtube_uploads</td>\n",
       "      <td>[videos, video, youtube, uploads, photos, gifs...</td>\n",
       "      <td>[rule 5 videos longer 15 seconds direct reddit...</td>\n",
       "    </tr>\n",
       "    <tr>\n",
       "      <th>14</th>\n",
       "      <td>13</td>\n",
       "      <td>15</td>\n",
       "      <td>13_bots_accounts_novelty_account</td>\n",
       "      <td>[bots, accounts, novelty, account, bot, age, s...</td>\n",
       "      <td>[bots novelty accounts allowed, novelty accoun...</td>\n",
       "    </tr>\n",
       "    <tr>\n",
       "      <th>15</th>\n",
       "      <td>14</td>\n",
       "      <td>15</td>\n",
       "      <td>14_news_old_articles_tabloid</td>\n",
       "      <td>[news, old, articles, tabloid, sources, type, ...</td>\n",
       "      <td>[quality old news, old news, old news]</td>\n",
       "    </tr>\n",
       "    <tr>\n",
       "      <th>16</th>\n",
       "      <td>15</td>\n",
       "      <td>14</td>\n",
       "      <td>15_reposts_recent_months_old</td>\n",
       "      <td>[reposts, recent, months, old, duplicates, mun...</td>\n",
       "      <td>[x posts reposts, reposts, reposts]</td>\n",
       "    </tr>\n",
       "    <tr>\n",
       "      <th>17</th>\n",
       "      <td>16</td>\n",
       "      <td>13</td>\n",
       "      <td>16_civil_keep_stand_civility</td>\n",
       "      <td>[civil, keep, stand, civility, another, genera...</td>\n",
       "      <td>[civil, civil, civil]</td>\n",
       "    </tr>\n",
       "  </tbody>\n",
       "</table>\n",
       "</div>"
      ],
      "text/plain": [
       "    Topic  Count                                    Name  \\\n",
       "0      -1    164         -1_must_english_questions_posts   \n",
       "1       0    112     0_personal_witch_bigotry_harassment   \n",
       "2       1     81         1_promotion_self_giveaways_spam   \n",
       "3       2     51             2_rules_content_rule_follow   \n",
       "4       3     46          3_links_piracy_exploits_cheats   \n",
       "5       4     37              4_posts_must_relevant_deck   \n",
       "6       5     33          5_screenshots_memes_meme_image   \n",
       "7       6     31  6_discussion_thread_threads_megathread   \n",
       "8       7     30  7_titles_title_clickbait_editorialized   \n",
       "9       8     28               8_nsfw_spoilers_gore_porn   \n",
       "10      9     28              9_low_effort_posts_content   \n",
       "11     10     26      10_politics_political_agenda_world   \n",
       "12     11     22      11_respectful_others_respect_civil   \n",
       "13     12     21         12_videos_video_youtube_uploads   \n",
       "14     13     15        13_bots_accounts_novelty_account   \n",
       "15     14     15            14_news_old_articles_tabloid   \n",
       "16     15     14            15_reposts_recent_months_old   \n",
       "17     16     13            16_civil_keep_stand_civility   \n",
       "\n",
       "                                       Representation  \\\n",
       "0   [must, english, questions, posts, submissions,...   \n",
       "1   [personal, witch, bigotry, harassment, hunts, ...   \n",
       "2   [promotion, self, giveaways, spam, surveys, ad...   \n",
       "3   [rules, content, rule, follow, restricted, red...   \n",
       "4   [links, piracy, exploits, cheats, pirated, lin...   \n",
       "5   [posts, must, relevant, deck, related, steam, ...   \n",
       "6   [screenshots, memes, meme, image, pictures, te...   \n",
       "7   [discussion, thread, threads, megathread, use,...   \n",
       "8   [titles, title, clickbait, editorialized, arti...   \n",
       "9   [nsfw, spoilers, gore, porn, mark, dick, death...   \n",
       "10  [low, effort, posts, content, poorly, quality,...   \n",
       "11  [politics, political, agenda, world, real, pus...   \n",
       "12  [respectful, others, respect, civil, please, a...   \n",
       "13  [videos, video, youtube, uploads, photos, gifs...   \n",
       "14  [bots, accounts, novelty, account, bot, age, s...   \n",
       "15  [news, old, articles, tabloid, sources, type, ...   \n",
       "16  [reposts, recent, months, old, duplicates, mun...   \n",
       "17  [civil, keep, stand, civility, another, genera...   \n",
       "\n",
       "                                  Representative_Docs  \n",
       "0   [top level comment must answer ask follow, pos...  \n",
       "1   [personal information witch hunting, comments ...  \n",
       "2    [self promotion, self promotion, self promotion]  \n",
       "3   [specific restricted content see rules list, r...  \n",
       "4   [direct links copyrighted material, links disc...  \n",
       "5   [game review deck posts must include game titl...  \n",
       "6   [screenshots, screenshots memes infographics, ...  \n",
       "7   [discussion moderation meta sub topics, use da...  \n",
       "8   [editorialized misleading titles, title must m...  \n",
       "9   [mark nsfw content, mark nsfw spoilers, proper...  \n",
       "10  [low effort posts, low effort posts, low effor...  \n",
       "11                     [politics, politics, politics]  \n",
       "12  [civil respectful, respectful others, respectf...  \n",
       "13  [rule 5 videos longer 15 seconds direct reddit...  \n",
       "14  [bots novelty accounts allowed, novelty accoun...  \n",
       "15             [quality old news, old news, old news]  \n",
       "16                [x posts reposts, reposts, reposts]  \n",
       "17                              [civil, civil, civil]  "
      ]
     },
     "execution_count": 219,
     "metadata": {},
     "output_type": "execute_result"
    }
   ],
   "source": [
    "topic_model.get_topic_info()"
   ]
  },
  {
   "cell_type": "code",
   "execution_count": null,
   "id": "d1d9313f",
   "metadata": {},
   "outputs": [],
   "source": [
    "# try consensus clutering on topics shared between servers"
   ]
  }
 ],
 "metadata": {
  "kernelspec": {
   "display_name": ".venv",
   "language": "python",
   "name": "python3"
  },
  "language_info": {
   "codemirror_mode": {
    "name": "ipython",
    "version": 3
   },
   "file_extension": ".py",
   "mimetype": "text/x-python",
   "name": "python",
   "nbconvert_exporter": "python",
   "pygments_lexer": "ipython3",
   "version": "3.13.2"
  }
 },
 "nbformat": 4,
 "nbformat_minor": 5
}
