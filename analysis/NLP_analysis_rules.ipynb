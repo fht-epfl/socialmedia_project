{
 "cells": [
  {
   "cell_type": "markdown",
   "id": "e80dfce8",
   "metadata": {},
   "source": [
    "# Natural Language Processing analysis of Mastodon's servers' rules"
   ]
  },
  {
   "cell_type": "code",
   "execution_count": 45,
   "id": "28c43ef3",
   "metadata": {},
   "outputs": [],
   "source": [
    "import pandas as pd\n",
    "import numpy as np\n",
    "\n",
    "from utils.data_preprocesser import *"
   ]
  },
  {
   "cell_type": "markdown",
   "id": "c102b5de",
   "metadata": {},
   "source": [
    "## Data cleaning and preprocessing"
   ]
  },
  {
   "cell_type": "code",
   "execution_count": 46,
   "id": "9d21fd14",
   "metadata": {},
   "outputs": [
    {
     "name": "stdout",
     "output_type": "stream",
     "text": [
      "Cleaning column: description\n",
      "Cleaning column: languages\n",
      "Cleaning column: rules\n",
      "Cleaning column: total_users\n",
      "Cleaning column: total_posts\n",
      "Cleaning column: description\n",
      "Cleaning column: languages\n",
      "Cleaning column: rules\n",
      "Cleaning column: total_users\n",
      "Cleaning column: total_posts\n"
     ]
    }
   ],
   "source": [
    "df_mastodon1, df_mastodon2, df_reddit = load_instances_data(cols_to_keep_mastodon=[\"domain\", \"description\", \"active_month\", \n",
    "                                                                      \"languages\", \"rules\", \"total_users\", \n",
    "                                                                      \"total_posts\"],\n",
    "                                               cols_to_keep_reddit=[\"name\", \"title\", \"description\", \n",
    "                                                                    \"language\", \"subscribers\", \"active_user_count\", \n",
    "                                                                    \"rules\"])\n",
    "df_mastodon1 = DataCleaner(df_mastodon1).clean()\n",
    "df_mastodon2 = DataCleaner(df_mastodon2).clean()\n",
    "\n",
    "# df_reddit = DataCleaner(df_reddit)._clean_subscribers()\n",
    "# df_reddit = DataCleaner(df_reddit)._clean_active_user_count()\n",
    "# df_reddit = DataCleaner(df_reddit)._clean_description()\n"
   ]
  },
  {
   "cell_type": "code",
   "execution_count": 47,
   "id": "16f6d3ae",
   "metadata": {},
   "outputs": [
    {
     "data": {
      "application/vnd.microsoft.datawrangler.viewer.v0+json": {
       "columns": [
        {
         "name": "index",
         "rawType": "int64",
         "type": "integer"
        },
        {
         "name": "domain",
         "rawType": "object",
         "type": "string"
        },
        {
         "name": "description",
         "rawType": "object",
         "type": "string"
        },
        {
         "name": "active_month",
         "rawType": "int64",
         "type": "integer"
        },
        {
         "name": "languages",
         "rawType": "object",
         "type": "unknown"
        },
        {
         "name": "rules",
         "rawType": "object",
         "type": "unknown"
        },
        {
         "name": "total_users",
         "rawType": "int64",
         "type": "integer"
        },
        {
         "name": "total_posts",
         "rawType": "int64",
         "type": "integer"
        }
       ],
       "conversionMethod": "pd.DataFrame",
       "ref": "0296ff4b-ca83-413f-be2f-16e985e1a808",
       "rows": [
        [
         "0",
         "mastodon.social",
         "The original server operated by the Mastodon gGmbH non-profit",
         "327503",
         "['en']",
         "[{'id': '1', 'text': 'Sexually explicit or violent media must be marked as sensitive or with a content warning', 'hint': 'This includes content that is particularly provocative even if it may not show specific body parts, as well as dead bodies, bloody injuries, and other gore. Particularly obscene content may be prohibited entirely. Profile pictures and header images may not contain sexually explicit or violent media.'}, {'id': '2', 'text': 'No racism, sexism, homophobia, transphobia, ableism, xenophobia, or casteism.', 'hint': 'Transphobic behavior such as intentional misgendering and deadnaming is strictly prohibited. Promotion of \"conversion therapy\" is strictly prohibited. Criticism of governments and religions is permissible unless being used as a proxy for discrimination.'}, {'id': '3', 'text': 'No incitement of violence or promotion of violent ideologies', 'hint': 'Calling for people or groups to be assassinated, murdered, or attacked physically is strictly prohibited. Support for violent groups or events is prohibited.'}, {'id': '4', 'text': 'No harassment, block evasion, dogpiling, or doxxing of others', 'hint': 'Repeat attempts to communicate with users who have blocked you or creation of accounts solely to harass or insult individuals is strictly prohibited. Coordinated activity to attack other users is prohibited. Posting of private personal information about others is prohibited.'}, {'id': '7', 'text': 'Do not share information widely-known to be false and misleading', 'hint': 'False and misleading information and links from low-quality sources may not be posted, especially if they are likely to mislead or confuse others or endanger their safety.'}, {'id': '1008', 'text': 'Content created by others must be attributed, and use of generative AI must be disclosed', 'hint': 'Content created by others must clearly provide a reference to the author, creator, or source. For adult content, this should include performers. Accounts may not solely post AI-generated content.'}]",
         "2711879",
         "129725014"
        ],
        [
         "1",
         "mstdn.social",
         "A general-purpose Mastodon server with a 500 character limit. All languages are welcome.",
         "14546",
         "['en']",
         "[{'id': '2', 'text': 'Sexually explicit or violent media must be marked as sensitive when posting.', 'hint': ''}, {'id': '3', 'text': 'No spam or advertising.', 'hint': ''}, {'id': '4', 'text': 'No racism, sexism, homophobia, transphobia, xenophobia, or casteism.', 'hint': ''}, {'id': '5', 'text': 'No incitement of violence or promotion of violent ideologies.', 'hint': ''}, {'id': '6', 'text': 'No harassment, dogpiling or doxxing of other users.', 'hint': ''}, {'id': '7', 'text': 'No illegal content.', 'hint': ''}, {'id': '11', 'text': 'No spreading of fake news or misinformation', 'hint': ''}, {'id': '12', 'text': 'Content created by others must be attributed, and use of AI must be disclosed. Profiles that only post AI-generated content will not be tolerated.', 'hint': ''}]",
         "260323",
         "19904208"
        ],
        [
         "2",
         "infosec.exchange",
         "A Mastodon instance for info/cyber security-minded people.\n",
         "13319",
         "['en']",
         "[{'id': '1', 'text': 'Do unto others as you think they would want done to them.  ', 'hint': ''}, {'id': '2', 'text': 'Mark sensitive content with a content warning.  ', 'hint': ''}, {'id': '3', 'text': 'Gratuitous obscenity that serves no practical benefit to a discussion is not permitted.', 'hint': ''}, {'id': '4', 'text': 'Illegal content such as child pornography, unsurprisingly, is not permitted', 'hint': ''}, {'id': '5', 'text': 'Spam is not permitted, this includes creating spam accounts that only serve to provide profile links or advertise products and services. ', 'hint': ''}, {'id': '6', 'text': 'Hate speech and abusive or threatening behavior is not permitted, specifically that which directed at any gender, nationality, religion, race, age, pizza topping preference, or sexual identity.  One can hate on systemd all day long here.', 'hint': ''}, {'id': '7', 'text': \"Lack of a specific rule against a certain behavior does not indicate acceptance of that behavior.  Each of us has a limited amount of time in this world.  Don't be a jerk.  \", 'hint': ''}, {'id': '8', 'text': 'Violating one or more of these rules may result in an immediate, permanent ban without notice or warning.  ', 'hint': ''}, {'id': '9', 'text': 'You may not impersonate a person or brand without a clear indication the account is unofficial and/or a parody. Parody accounts are permitted, as are legitimate brand accounts. ', 'hint': ''}, {'id': '11', 'text': 'No attacks against (or from) the instance.\\r\\n\\r\\nYou may not do anything which may impact confidentiality, integrity or availability of Infosec.Exchange, the users of the service or their data.\\r\\nFor more details see https://wiki.infosec.exchange/rules/start', 'hint': ''}, {'id': '12', 'text': 'No doxing (aka doxxing) or disclosing personal information without consent and as a means of harassing or causing others to harass another person.', 'hint': ''}, {'id': '13', 'text': 'No harassment in the form of continued engagement after a person has requested contact to stop', 'hint': ''}, {'id': '14', 'text': 'Automated posting:\\r\\n- accounts that post >50% using automation must be labeled as a “bot” in the user profile to help provide a visual indicator to visitors\\r\\n- automated posts must be limited to one post per hour/24 per day with post visibility set to “public”. There is no limit on “unlisted” posts.', 'hint': ''}, {'id': '15', 'text': 'Soliciting or inciting violence or harm against a person or segment of people is not permitted. ', 'hint': ''}]",
         "75725",
         "4296664"
        ],
        [
         "3",
         "mas.to",
         "Hello! mas.to is a fast, up-to-date and fun Mastodon server.",
         "11889",
         "['en']",
         "[{'id': '9', 'text': \"No discrimination, including (but not limited to) racism, sexism, homophobia or transphobia (including targeted misgendering, deadnaming, or promotion of so-called 'conversion therapy').\", 'hint': ''}, {'id': '10', 'text': 'No explicit (NSFW) content without content warnings and/or sensitive media markers. Explicit content must not be used in user avatars or header images.', 'hint': ''}, {'id': '17', 'text': 'No harassment of other users on this or other servers.', 'hint': ''}, {'id': '18', 'text': 'No content illegal in the following countries: United Kingdom, Germany', 'hint': ''}, {'id': '19', 'text': 'No incitement of violence or promotion of violent ideologies.', 'hint': ''}, {'id': '20', 'text': 'No disinformation regarding public health issues or political/military campaigns.', 'hint': ''}, {'id': '21', 'text': 'No spam. This includes commercial advertising, promotion of services, and SEO.', 'hint': ''}, {'id': '22', 'text': 'No impersonation of other individuals, public figures or organisations, unless clearly marked as a parody.', 'hint': ''}, {'id': '23', 'text': 'All automated (bot) accounts must enable the bot flag in their account preferences, respect #nobot markers, and post as unlisted unless making less than one post per hour.', 'hint': ''}]",
         "183608",
         "10834206"
        ],
        [
         "4",
         "mastodon.world",
         "Generic Mastodon server for anyone to use.",
         "9472",
         "['en']",
         "[{'id': '16', 'text': 'No illegal content, e.g. child pornography, solicitation of illegal services, etc…', 'hint': ''}, {'id': '17', 'text': 'No posts or links to content supporting, featuring, or promoting hate groups, terrorism, mass violence or calls to violence.', 'hint': ''}, {'id': '18', 'text': 'No posts or comments supporting or promoting QAnon related content or similarly disproven conspiracy theories. Moderators have sole discretion to decide if a post violates this rule. Birds are real. The Earth is round. Get over it.', 'hint': ''}, {'id': '19', 'text': 'No posts or links featuring sexualized depictions of minors, whether photographic, written, drawn, anthropomorphic or animated.', 'hint': ''}, {'id': '20', 'text': 'No pornography featuring depictions of rape or non-consensual violence.', 'hint': ''}, {'id': '21', 'text': 'A Content Warning must always be used when posting all other pornographic, erotic or NSFW content, whether photographic, written, drawn or animated.', 'hint': ''}, {'id': '22', 'text': 'No racism.', 'hint': ''}, {'id': '23', 'text': 'No visual content depicting executions, murder, suicide, dismemberment, visible innards, excessive gore, or charred bodies. All other violent imagery requires a Content Warning.', 'hint': ''}, {'id': '24', 'text': 'No visual content depicting animal abuse. All other posts related to animal abuse require a Content Warning.', 'hint': ''}, {'id': '25', 'text': 'No posting of malicious links.', 'hint': ''}, {'id': '26', 'text': 'No Spam (see General Guidance below).', 'hint': ''}, {'id': '27', 'text': 'No threats, bullying or attacks on an individual or group.', 'hint': ''}, {'id': '28', 'text': 'No encouragement or promotion of self-harm.', 'hint': ''}, {'id': '29', 'text': 'No accounts that impersonate anyone else unless clearly marked as such for the purpose of parody.', 'hint': ''}, {'id': '30', 'text': 'No Hate Speech. Hate speech is defined as derogatory posts or links targeting any individual or group based on race, mental or physical disability, religion, gender identity, sex, nationality, age, class or sexual orientation.', 'hint': ''}, {'id': '31', 'text': 'No “shitposting” - while humorous posts are allowed, and actually encouraged, there is no place for “shitposting” here.', 'hint': ''}, {'id': '32', 'text': 'No targeted misgendering, deadnaming, or promotion of so-called \"conversion therapy\".', 'hint': ''}, {'id': '33', 'text': 'Banner and Avatar images must comply with the other rules, so no NSFW images etc', 'hint': ''}]",
         "191710",
         "7158644"
        ]
       ],
       "shape": {
        "columns": 7,
        "rows": 5
       }
      },
      "text/html": [
       "<div>\n",
       "<style scoped>\n",
       "    .dataframe tbody tr th:only-of-type {\n",
       "        vertical-align: middle;\n",
       "    }\n",
       "\n",
       "    .dataframe tbody tr th {\n",
       "        vertical-align: top;\n",
       "    }\n",
       "\n",
       "    .dataframe thead th {\n",
       "        text-align: right;\n",
       "    }\n",
       "</style>\n",
       "<table border=\"1\" class=\"dataframe\">\n",
       "  <thead>\n",
       "    <tr style=\"text-align: right;\">\n",
       "      <th></th>\n",
       "      <th>domain</th>\n",
       "      <th>description</th>\n",
       "      <th>active_month</th>\n",
       "      <th>languages</th>\n",
       "      <th>rules</th>\n",
       "      <th>total_users</th>\n",
       "      <th>total_posts</th>\n",
       "    </tr>\n",
       "  </thead>\n",
       "  <tbody>\n",
       "    <tr>\n",
       "      <th>0</th>\n",
       "      <td>mastodon.social</td>\n",
       "      <td>The original server operated by the Mastodon g...</td>\n",
       "      <td>327503</td>\n",
       "      <td>[en]</td>\n",
       "      <td>[{'id': '1', 'text': 'Sexually explicit or vio...</td>\n",
       "      <td>2711879</td>\n",
       "      <td>129725014</td>\n",
       "    </tr>\n",
       "    <tr>\n",
       "      <th>1</th>\n",
       "      <td>mstdn.social</td>\n",
       "      <td>A general-purpose Mastodon server with a 500 c...</td>\n",
       "      <td>14546</td>\n",
       "      <td>[en]</td>\n",
       "      <td>[{'id': '2', 'text': 'Sexually explicit or vio...</td>\n",
       "      <td>260323</td>\n",
       "      <td>19904208</td>\n",
       "    </tr>\n",
       "    <tr>\n",
       "      <th>2</th>\n",
       "      <td>infosec.exchange</td>\n",
       "      <td>A Mastodon instance for info/cyber security-mi...</td>\n",
       "      <td>13319</td>\n",
       "      <td>[en]</td>\n",
       "      <td>[{'id': '1', 'text': 'Do unto others as you th...</td>\n",
       "      <td>75725</td>\n",
       "      <td>4296664</td>\n",
       "    </tr>\n",
       "    <tr>\n",
       "      <th>3</th>\n",
       "      <td>mas.to</td>\n",
       "      <td>Hello! mas.to is a fast, up-to-date and fun Ma...</td>\n",
       "      <td>11889</td>\n",
       "      <td>[en]</td>\n",
       "      <td>[{'id': '9', 'text': 'No discrimination, inclu...</td>\n",
       "      <td>183608</td>\n",
       "      <td>10834206</td>\n",
       "    </tr>\n",
       "    <tr>\n",
       "      <th>4</th>\n",
       "      <td>mastodon.world</td>\n",
       "      <td>Generic Mastodon server for anyone to use.</td>\n",
       "      <td>9472</td>\n",
       "      <td>[en]</td>\n",
       "      <td>[{'id': '16', 'text': 'No illegal content, e.g...</td>\n",
       "      <td>191710</td>\n",
       "      <td>7158644</td>\n",
       "    </tr>\n",
       "  </tbody>\n",
       "</table>\n",
       "</div>"
      ],
      "text/plain": [
       "             domain                                        description  \\\n",
       "0   mastodon.social  The original server operated by the Mastodon g...   \n",
       "1      mstdn.social  A general-purpose Mastodon server with a 500 c...   \n",
       "2  infosec.exchange  A Mastodon instance for info/cyber security-mi...   \n",
       "3            mas.to  Hello! mas.to is a fast, up-to-date and fun Ma...   \n",
       "4    mastodon.world         Generic Mastodon server for anyone to use.   \n",
       "\n",
       "   active_month languages                                              rules  \\\n",
       "0        327503      [en]  [{'id': '1', 'text': 'Sexually explicit or vio...   \n",
       "1         14546      [en]  [{'id': '2', 'text': 'Sexually explicit or vio...   \n",
       "2         13319      [en]  [{'id': '1', 'text': 'Do unto others as you th...   \n",
       "3         11889      [en]  [{'id': '9', 'text': 'No discrimination, inclu...   \n",
       "4          9472      [en]  [{'id': '16', 'text': 'No illegal content, e.g...   \n",
       "\n",
       "   total_users  total_posts  \n",
       "0      2711879    129725014  \n",
       "1       260323     19904208  \n",
       "2        75725      4296664  \n",
       "3       183608     10834206  \n",
       "4       191710      7158644  "
      ]
     },
     "execution_count": 47,
     "metadata": {},
     "output_type": "execute_result"
    }
   ],
   "source": [
    "df_mastodon1.head(5)"
   ]
  },
  {
   "cell_type": "code",
   "execution_count": 48,
   "id": "de93e7cb",
   "metadata": {},
   "outputs": [
    {
     "data": {
      "application/vnd.microsoft.datawrangler.viewer.v0+json": {
       "columns": [
        {
         "name": "index",
         "rawType": "int64",
         "type": "integer"
        },
        {
         "name": "domain",
         "rawType": "object",
         "type": "string"
        },
        {
         "name": "description",
         "rawType": "object",
         "type": "string"
        },
        {
         "name": "active_month",
         "rawType": "int64",
         "type": "integer"
        },
        {
         "name": "languages",
         "rawType": "object",
         "type": "unknown"
        },
        {
         "name": "rules",
         "rawType": "object",
         "type": "unknown"
        },
        {
         "name": "total_users",
         "rawType": "int64",
         "type": "integer"
        },
        {
         "name": "total_posts",
         "rawType": "int64",
         "type": "integer"
        }
       ],
       "conversionMethod": "pd.DataFrame",
       "ref": "f87fad00-862b-4f4c-bdf8-5e0b6c761eba",
       "rows": [
        [
         "0",
         "mastodon.social",
         "The original server operated by the Mastodon gGmbH non-profit",
         "327503",
         "['en']",
         "[{'id': '1', 'text': 'Sexually explicit or violent media must be marked as sensitive or with a content warning', 'hint': 'This includes content that is particularly provocative even if it may not show specific body parts, as well as dead bodies, bloody injuries, and other gore. Particularly obscene content may be prohibited entirely. Profile pictures and header images may not contain sexually explicit or violent media.'}, {'id': '2', 'text': 'No racism, sexism, homophobia, transphobia, ableism, xenophobia, or casteism.', 'hint': 'Transphobic behavior such as intentional misgendering and deadnaming is strictly prohibited. Promotion of \"conversion therapy\" is strictly prohibited. Criticism of governments and religions is permissible unless being used as a proxy for discrimination.'}, {'id': '3', 'text': 'No incitement of violence or promotion of violent ideologies', 'hint': 'Calling for people or groups to be assassinated, murdered, or attacked physically is strictly prohibited. Support for violent groups or events is prohibited.'}, {'id': '4', 'text': 'No harassment, block evasion, dogpiling, or doxxing of others', 'hint': 'Repeat attempts to communicate with users who have blocked you or creation of accounts solely to harass or insult individuals is strictly prohibited. Coordinated activity to attack other users is prohibited. Posting of private personal information about others is prohibited.'}, {'id': '7', 'text': 'Do not share information widely-known to be false and misleading', 'hint': 'False and misleading information and links from low-quality sources may not be posted, especially if they are likely to mislead or confuse others or endanger their safety.'}, {'id': '1008', 'text': 'Content created by others must be attributed, and use of generative AI must be disclosed', 'hint': 'Content created by others must clearly provide a reference to the author, creator, or source. For adult content, this should include performers. Accounts may not solely post AI-generated content.'}]",
         "2711879",
         "129725014"
        ],
        [
         "1",
         "mstdn.social",
         "A general-purpose Mastodon server with a 500 character limit. All languages are welcome.",
         "14546",
         "['en']",
         "[{'id': '2', 'text': 'Sexually explicit or violent media must be marked as sensitive when posting.', 'hint': ''}, {'id': '3', 'text': 'No spam or advertising.', 'hint': ''}, {'id': '4', 'text': 'No racism, sexism, homophobia, transphobia, xenophobia, or casteism.', 'hint': ''}, {'id': '5', 'text': 'No incitement of violence or promotion of violent ideologies.', 'hint': ''}, {'id': '6', 'text': 'No harassment, dogpiling or doxxing of other users.', 'hint': ''}, {'id': '7', 'text': 'No illegal content.', 'hint': ''}, {'id': '11', 'text': 'No spreading of fake news or misinformation', 'hint': ''}, {'id': '12', 'text': 'Content created by others must be attributed, and use of AI must be disclosed. Profiles that only post AI-generated content will not be tolerated.', 'hint': ''}]",
         "260323",
         "19904208"
        ],
        [
         "2",
         "infosec.exchange",
         "A Mastodon instance for info/cyber security-minded people.\n",
         "13319",
         "['en']",
         "[{'id': '1', 'text': 'Do unto others as you think they would want done to them.  ', 'hint': ''}, {'id': '2', 'text': 'Mark sensitive content with a content warning.  ', 'hint': ''}, {'id': '3', 'text': 'Gratuitous obscenity that serves no practical benefit to a discussion is not permitted.', 'hint': ''}, {'id': '4', 'text': 'Illegal content such as child pornography, unsurprisingly, is not permitted', 'hint': ''}, {'id': '5', 'text': 'Spam is not permitted, this includes creating spam accounts that only serve to provide profile links or advertise products and services. ', 'hint': ''}, {'id': '6', 'text': 'Hate speech and abusive or threatening behavior is not permitted, specifically that which directed at any gender, nationality, religion, race, age, pizza topping preference, or sexual identity.  One can hate on systemd all day long here.', 'hint': ''}, {'id': '7', 'text': \"Lack of a specific rule against a certain behavior does not indicate acceptance of that behavior.  Each of us has a limited amount of time in this world.  Don't be a jerk.  \", 'hint': ''}, {'id': '8', 'text': 'Violating one or more of these rules may result in an immediate, permanent ban without notice or warning.  ', 'hint': ''}, {'id': '9', 'text': 'You may not impersonate a person or brand without a clear indication the account is unofficial and/or a parody. Parody accounts are permitted, as are legitimate brand accounts. ', 'hint': ''}, {'id': '11', 'text': 'No attacks against (or from) the instance.\\r\\n\\r\\nYou may not do anything which may impact confidentiality, integrity or availability of Infosec.Exchange, the users of the service or their data.\\r\\nFor more details see https://wiki.infosec.exchange/rules/start', 'hint': ''}, {'id': '12', 'text': 'No doxing (aka doxxing) or disclosing personal information without consent and as a means of harassing or causing others to harass another person.', 'hint': ''}, {'id': '13', 'text': 'No harassment in the form of continued engagement after a person has requested contact to stop', 'hint': ''}, {'id': '14', 'text': 'Automated posting:\\r\\n- accounts that post >50% using automation must be labeled as a “bot” in the user profile to help provide a visual indicator to visitors\\r\\n- automated posts must be limited to one post per hour/24 per day with post visibility set to “public”. There is no limit on “unlisted” posts.', 'hint': ''}, {'id': '15', 'text': 'Soliciting or inciting violence or harm against a person or segment of people is not permitted. ', 'hint': ''}]",
         "75725",
         "4296664"
        ],
        [
         "3",
         "mas.to",
         "Hello! mas.to is a fast, up-to-date and fun Mastodon server.",
         "11889",
         "['en']",
         "[{'id': '9', 'text': \"No discrimination, including (but not limited to) racism, sexism, homophobia or transphobia (including targeted misgendering, deadnaming, or promotion of so-called 'conversion therapy').\", 'hint': ''}, {'id': '10', 'text': 'No explicit (NSFW) content without content warnings and/or sensitive media markers. Explicit content must not be used in user avatars or header images.', 'hint': ''}, {'id': '17', 'text': 'No harassment of other users on this or other servers.', 'hint': ''}, {'id': '18', 'text': 'No content illegal in the following countries: United Kingdom, Germany', 'hint': ''}, {'id': '19', 'text': 'No incitement of violence or promotion of violent ideologies.', 'hint': ''}, {'id': '20', 'text': 'No disinformation regarding public health issues or political/military campaigns.', 'hint': ''}, {'id': '21', 'text': 'No spam. This includes commercial advertising, promotion of services, and SEO.', 'hint': ''}, {'id': '22', 'text': 'No impersonation of other individuals, public figures or organisations, unless clearly marked as a parody.', 'hint': ''}, {'id': '23', 'text': 'All automated (bot) accounts must enable the bot flag in their account preferences, respect #nobot markers, and post as unlisted unless making less than one post per hour.', 'hint': ''}]",
         "183608",
         "10834206"
        ],
        [
         "4",
         "piaille.fr",
         "Piaille.fr est un serveur mastodon public francophone accessible à toutes et à tous.\n\nJoignable via Tor ici :\npiaillesmbiv4wjdy7no6r4eijsv6mlsp3cxrpy37dhmose2jwyqdrid.onion",
         "9221",
         "['fr']",
         "[{'id': '1', 'text': 'Conformément aux lois françaises et à la jurisprudence, les contenus pédopornographiques, y compris sous forme dessinée, sont illégaux et seront supprimés, et les comptes concernés bloqués (si distants) ou supprimés (si local).', 'hint': ''}, {'id': '2', 'text': 'La nudité, les contenus érotiques, pornographiques ou visiblement violents doivent être marqués avec le drapeau \"sensible / sensitive\". Les comptes ne respectant pas cette règle seront supprimés\\r\\n', 'hint': ''}, {'id': '3', 'text': \"La publicité, sous forme répétée et/ou intrusive (faisant mention d'autres utilisateur·ices), n'est pas acceptée. Les comptes concernés seront rendus invisibles aux flux locaux et fédérés, ou supprimés, selon la gravité de la situation.\", 'hint': ''}, {'id': '4', 'text': \"Approchez les personnes avec précaution et politesse. Si une personne vous demande d'arrêter de la mentionner ou qu'elle exprime ne plus vouloir participer à une discussion, arrêtez immédiatement.\", 'hint': ''}, {'id': '5', 'text': 'Est interdit tout propos reproduisant des comportements oppressifs visibles dans la société ( par exemple : racisme, sexisme, lgbtphobie, validisme )\\r\\n', 'hint': ''}, {'id': '6', 'text': 'Sont interdits les avances ou propositions à caractères sexuels non-sollicitées.\\r\\n', 'hint': ''}, {'id': '7', 'text': \"Sont interdit toute conduite, en public ou en privé, ayant pour but de traquer, harceler ou intimider d'autres personnes.\\r\\n\", 'hint': ''}, {'id': '8', 'text': \"Il est interdit de rassembler, publier, disséminer les informations personnelles d'une autre personne sans son autorisation explicite.\\r\\n\", 'hint': ''}, {'id': '9', 'text': 'Il est interdit de poursuivre une conversation ou inciter une personne à poursuivre une interaction avec une personne ayant réclamé la cessation de ladite interaction. Cela peut être considéré comme du harcèlement, indépendamment de la confidentialité employée.\\r\\n', 'hint': ''}, {'id': '10', 'text': 'Est interdit toute tentative de retournement d’une oppression systémique. Par exemple : « racisme anti-blanc », « sexisme anti-homme », « hétérophobie », « cisphobie ».\\r\\n', 'hint': ''}, {'id': '11', 'text': 'Il est interdit de publier ou diffuser intentionnellement des propos diffamatoires, calomnieux, ainsi que toute désinformation avec intention de tromper (le gorafi ou the onion sont donc autorisés). Les profils satiriques doivent être indiqués comme tels dans leur nom et description publique.\\r\\n', 'hint': ''}]",
         "40869",
         "3220626"
        ]
       ],
       "shape": {
        "columns": 7,
        "rows": 5
       }
      },
      "text/html": [
       "<div>\n",
       "<style scoped>\n",
       "    .dataframe tbody tr th:only-of-type {\n",
       "        vertical-align: middle;\n",
       "    }\n",
       "\n",
       "    .dataframe tbody tr th {\n",
       "        vertical-align: top;\n",
       "    }\n",
       "\n",
       "    .dataframe thead th {\n",
       "        text-align: right;\n",
       "    }\n",
       "</style>\n",
       "<table border=\"1\" class=\"dataframe\">\n",
       "  <thead>\n",
       "    <tr style=\"text-align: right;\">\n",
       "      <th></th>\n",
       "      <th>domain</th>\n",
       "      <th>description</th>\n",
       "      <th>active_month</th>\n",
       "      <th>languages</th>\n",
       "      <th>rules</th>\n",
       "      <th>total_users</th>\n",
       "      <th>total_posts</th>\n",
       "    </tr>\n",
       "  </thead>\n",
       "  <tbody>\n",
       "    <tr>\n",
       "      <th>0</th>\n",
       "      <td>mastodon.social</td>\n",
       "      <td>The original server operated by the Mastodon g...</td>\n",
       "      <td>327503</td>\n",
       "      <td>[en]</td>\n",
       "      <td>[{'id': '1', 'text': 'Sexually explicit or vio...</td>\n",
       "      <td>2711879</td>\n",
       "      <td>129725014</td>\n",
       "    </tr>\n",
       "    <tr>\n",
       "      <th>1</th>\n",
       "      <td>mstdn.social</td>\n",
       "      <td>A general-purpose Mastodon server with a 500 c...</td>\n",
       "      <td>14546</td>\n",
       "      <td>[en]</td>\n",
       "      <td>[{'id': '2', 'text': 'Sexually explicit or vio...</td>\n",
       "      <td>260323</td>\n",
       "      <td>19904208</td>\n",
       "    </tr>\n",
       "    <tr>\n",
       "      <th>2</th>\n",
       "      <td>infosec.exchange</td>\n",
       "      <td>A Mastodon instance for info/cyber security-mi...</td>\n",
       "      <td>13319</td>\n",
       "      <td>[en]</td>\n",
       "      <td>[{'id': '1', 'text': 'Do unto others as you th...</td>\n",
       "      <td>75725</td>\n",
       "      <td>4296664</td>\n",
       "    </tr>\n",
       "    <tr>\n",
       "      <th>3</th>\n",
       "      <td>mas.to</td>\n",
       "      <td>Hello! mas.to is a fast, up-to-date and fun Ma...</td>\n",
       "      <td>11889</td>\n",
       "      <td>[en]</td>\n",
       "      <td>[{'id': '9', 'text': 'No discrimination, inclu...</td>\n",
       "      <td>183608</td>\n",
       "      <td>10834206</td>\n",
       "    </tr>\n",
       "    <tr>\n",
       "      <th>4</th>\n",
       "      <td>piaille.fr</td>\n",
       "      <td>Piaille.fr est un serveur mastodon public fran...</td>\n",
       "      <td>9221</td>\n",
       "      <td>[fr]</td>\n",
       "      <td>[{'id': '1', 'text': 'Conformément aux lois fr...</td>\n",
       "      <td>40869</td>\n",
       "      <td>3220626</td>\n",
       "    </tr>\n",
       "  </tbody>\n",
       "</table>\n",
       "</div>"
      ],
      "text/plain": [
       "             domain                                        description  \\\n",
       "0   mastodon.social  The original server operated by the Mastodon g...   \n",
       "1      mstdn.social  A general-purpose Mastodon server with a 500 c...   \n",
       "2  infosec.exchange  A Mastodon instance for info/cyber security-mi...   \n",
       "3            mas.to  Hello! mas.to is a fast, up-to-date and fun Ma...   \n",
       "4        piaille.fr  Piaille.fr est un serveur mastodon public fran...   \n",
       "\n",
       "   active_month languages                                              rules  \\\n",
       "0        327503      [en]  [{'id': '1', 'text': 'Sexually explicit or vio...   \n",
       "1         14546      [en]  [{'id': '2', 'text': 'Sexually explicit or vio...   \n",
       "2         13319      [en]  [{'id': '1', 'text': 'Do unto others as you th...   \n",
       "3         11889      [en]  [{'id': '9', 'text': 'No discrimination, inclu...   \n",
       "4          9221      [fr]  [{'id': '1', 'text': 'Conformément aux lois fr...   \n",
       "\n",
       "   total_users  total_posts  \n",
       "0      2711879    129725014  \n",
       "1       260323     19904208  \n",
       "2        75725      4296664  \n",
       "3       183608     10834206  \n",
       "4        40869      3220626  "
      ]
     },
     "execution_count": 48,
     "metadata": {},
     "output_type": "execute_result"
    }
   ],
   "source": [
    "df_mastodon2.head(5)"
   ]
  },
  {
   "cell_type": "code",
   "execution_count": 49,
   "id": "403b7156",
   "metadata": {},
   "outputs": [
    {
     "data": {
      "application/vnd.microsoft.datawrangler.viewer.v0+json": {
       "columns": [
        {
         "name": "index",
         "rawType": "int64",
         "type": "integer"
        },
        {
         "name": "name",
         "rawType": "object",
         "type": "string"
        },
        {
         "name": "title",
         "rawType": "object",
         "type": "string"
        },
        {
         "name": "description",
         "rawType": "object",
         "type": "unknown"
        },
        {
         "name": "language",
         "rawType": "object",
         "type": "string"
        },
        {
         "name": "subscribers",
         "rawType": "int64",
         "type": "integer"
        },
        {
         "name": "active_user_count",
         "rawType": "int64",
         "type": "integer"
        },
        {
         "name": "rules",
         "rawType": "object",
         "type": "unknown"
        }
       ],
       "conversionMethod": "pd.DataFrame",
       "ref": "70892bce-f269-411a-a7a6-c8fc78a6e1b1",
       "rows": [
        [
         "0",
         "Home",
         "Home",
         null,
         "en",
         "307843",
         "51",
         null
        ],
        [
         "1",
         "AskReddit",
         "Ask Reddit...",
         "r/AskReddit is the place to ask and answer thought-provoking questions.",
         "es",
         "54701432",
         "9986",
         "Rule 1 - Questions must be clear and direct and may not use the body textbox; Rule 2 - No personal or professional advice requests; Rule 3 - Open ended questions only; Rule 4 - No personal info; Rule 5 - No loaded questions; Rule 6 - [Serious] tagged posts are off-limits to jokes or irrelevant replies; Rule 7 - No begging for goods or services, or Reddit rewards; Rule 8 - Be respectful to other users at all times and conduct your behaviour in a civil manner; Rule 9 -  No image only replies or large ascii art; Rule 10 - Harmful Misinformation; Rule 11 - No spam, machine generated content or karma farming"
        ],
        [
         "2",
         "NoStupidQuestions",
         "No such thing as stupid questions",
         "Ask away!\n\nDisclaimer: This is an anonymous forum so answers may not be correct",
         "en",
         "6021303",
         "4872",
         "Top level comments must contain a genuine human-written attempt at an answer; Please try searching the subreddit for your question first; Be Nice; No medical advice questions; No trolling or joke questions; No suicide or 'was I raped/sexual assaulted/sexually harrassed?' questions; No self-promotion, shilling or begging; No illegal/unethical or disturbing subject matter; No disguised rants, agenda posts or potstirring"
        ],
        [
         "3",
         "BaldursGate3",
         "Baldur's Gate 3",
         "A community all about Baldur's Gate III, the role-playing video game by Larian Studios. BG3 is the third main game in the Baldur's Gate series. Baldur's Gate III is based on a modified version of the Dungeons & Dragons 5th edition (D&D 5e) tabletop RPG ruleset.\n\nGather your party and venture forth!",
         "en",
         "3118378",
         "1384",
         "Be civil to one another.; Respect the opinions of others.; Keep your posts relevant.; Tag spoilers and NSFW content.; Memes, screenshots, and fanart must be flaired.; No Spamming; No Tav, Build/Multiclass, or LFG Posts outside of their megathreads; No piracy allowed. No posting pirated material of any kind but especially 5e material; Use modmail for issues or giveaways - don't mention/link or directly message the Mods; No discussion exclusively about 3rd Party wikis; No AI generated content or discussion; All posts should be in English. Non-English comments are allowed.; No asking for game codes/the game/steam accounts; No posting about bigoted mods; Cosplay posts must now be submitted on Sundays. "
        ],
        [
         "4",
         "facepalm",
         "now double verified",
         "/r/facepalm - please sir can I have some more?",
         "en",
         "8145733",
         "2345",
         "No uncivil, bigoted, misogynist, misandrist, racist comments or posts.; No Misinformation; No Memes; No language error posts; No jokes/satire/trolls posts; Remove identifying personal information; No 'likes\"/\"shares\" posts; No \"Reddit Meta\" Posts; No posts about politicians being politicians; No posts attacking a political party or side"
        ]
       ],
       "shape": {
        "columns": 7,
        "rows": 5
       }
      },
      "text/html": [
       "<div>\n",
       "<style scoped>\n",
       "    .dataframe tbody tr th:only-of-type {\n",
       "        vertical-align: middle;\n",
       "    }\n",
       "\n",
       "    .dataframe tbody tr th {\n",
       "        vertical-align: top;\n",
       "    }\n",
       "\n",
       "    .dataframe thead th {\n",
       "        text-align: right;\n",
       "    }\n",
       "</style>\n",
       "<table border=\"1\" class=\"dataframe\">\n",
       "  <thead>\n",
       "    <tr style=\"text-align: right;\">\n",
       "      <th></th>\n",
       "      <th>name</th>\n",
       "      <th>title</th>\n",
       "      <th>description</th>\n",
       "      <th>language</th>\n",
       "      <th>subscribers</th>\n",
       "      <th>active_user_count</th>\n",
       "      <th>rules</th>\n",
       "    </tr>\n",
       "  </thead>\n",
       "  <tbody>\n",
       "    <tr>\n",
       "      <th>0</th>\n",
       "      <td>Home</td>\n",
       "      <td>Home</td>\n",
       "      <td>NaN</td>\n",
       "      <td>en</td>\n",
       "      <td>307843</td>\n",
       "      <td>51</td>\n",
       "      <td>NaN</td>\n",
       "    </tr>\n",
       "    <tr>\n",
       "      <th>1</th>\n",
       "      <td>AskReddit</td>\n",
       "      <td>Ask Reddit...</td>\n",
       "      <td>r/AskReddit is the place to ask and answer tho...</td>\n",
       "      <td>es</td>\n",
       "      <td>54701432</td>\n",
       "      <td>9986</td>\n",
       "      <td>Rule 1 - Questions must be clear and direct an...</td>\n",
       "    </tr>\n",
       "    <tr>\n",
       "      <th>2</th>\n",
       "      <td>NoStupidQuestions</td>\n",
       "      <td>No such thing as stupid questions</td>\n",
       "      <td>Ask away!\\n\\nDisclaimer: This is an anonymous ...</td>\n",
       "      <td>en</td>\n",
       "      <td>6021303</td>\n",
       "      <td>4872</td>\n",
       "      <td>Top level comments must contain a genuine huma...</td>\n",
       "    </tr>\n",
       "    <tr>\n",
       "      <th>3</th>\n",
       "      <td>BaldursGate3</td>\n",
       "      <td>Baldur's Gate 3</td>\n",
       "      <td>A community all about Baldur's Gate III, the r...</td>\n",
       "      <td>en</td>\n",
       "      <td>3118378</td>\n",
       "      <td>1384</td>\n",
       "      <td>Be civil to one another.; Respect the opinions...</td>\n",
       "    </tr>\n",
       "    <tr>\n",
       "      <th>4</th>\n",
       "      <td>facepalm</td>\n",
       "      <td>now double verified</td>\n",
       "      <td>/r/facepalm - please sir can I have some more?</td>\n",
       "      <td>en</td>\n",
       "      <td>8145733</td>\n",
       "      <td>2345</td>\n",
       "      <td>No uncivil, bigoted, misogynist, misandrist, r...</td>\n",
       "    </tr>\n",
       "  </tbody>\n",
       "</table>\n",
       "</div>"
      ],
      "text/plain": [
       "                name                              title  \\\n",
       "0               Home                               Home   \n",
       "1          AskReddit                      Ask Reddit...   \n",
       "2  NoStupidQuestions  No such thing as stupid questions   \n",
       "3       BaldursGate3                    Baldur's Gate 3   \n",
       "4           facepalm                now double verified   \n",
       "\n",
       "                                         description language  subscribers  \\\n",
       "0                                                NaN       en       307843   \n",
       "1  r/AskReddit is the place to ask and answer tho...       es     54701432   \n",
       "2  Ask away!\\n\\nDisclaimer: This is an anonymous ...       en      6021303   \n",
       "3  A community all about Baldur's Gate III, the r...       en      3118378   \n",
       "4     /r/facepalm - please sir can I have some more?       en      8145733   \n",
       "\n",
       "   active_user_count                                              rules  \n",
       "0                 51                                                NaN  \n",
       "1               9986  Rule 1 - Questions must be clear and direct an...  \n",
       "2               4872  Top level comments must contain a genuine huma...  \n",
       "3               1384  Be civil to one another.; Respect the opinions...  \n",
       "4               2345  No uncivil, bigoted, misogynist, misandrist, r...  "
      ]
     },
     "execution_count": 49,
     "metadata": {},
     "output_type": "execute_result"
    }
   ],
   "source": [
    "df_reddit.head()"
   ]
  },
  {
   "cell_type": "code",
   "execution_count": 50,
   "id": "fc9842f6",
   "metadata": {},
   "outputs": [],
   "source": [
    "datasets = [df_mastodon1, df_mastodon2, df_reddit]"
   ]
  },
  {
   "cell_type": "code",
   "execution_count": 51,
   "id": "2a67c94c",
   "metadata": {},
   "outputs": [],
   "source": [
    "from utils.rules_extractor import *\n",
    "from utils.utils import *"
   ]
  },
  {
   "cell_type": "code",
   "execution_count": 52,
   "id": "577c9347",
   "metadata": {},
   "outputs": [
    {
     "data": {
      "application/vnd.microsoft.datawrangler.viewer.v0+json": {
       "columns": [
        {
         "name": "index",
         "rawType": "int64",
         "type": "integer"
        },
        {
         "name": "mastodon1",
         "rawType": "object",
         "type": "string"
        },
        {
         "name": "mastodon2",
         "rawType": "object",
         "type": "string"
        },
        {
         "name": "reddit",
         "rawType": "object",
         "type": "string"
        }
       ],
       "conversionMethod": "pd.DataFrame",
       "ref": "5897f304-5016-4d49-b04f-2a711d8fd001",
       "rows": [
        [
         "0",
         "'en' : 234",
         "'en' : 94",
         "'en' : 99"
        ],
        [
         "1",
         "'de' : 33",
         "'de' : 16",
         "'es' : 1"
        ],
        [
         "2",
         "'fr' : 13",
         "'fr' : 7",
         ""
        ],
        [
         "3",
         "'es' : 9",
         "'ko' : 3",
         ""
        ],
        [
         "4",
         "'it' : 5",
         "'es' : 3",
         ""
        ],
        [
         "5",
         "'ko' : 5",
         "'nl' : 2",
         ""
        ],
        [
         "6",
         "'nl' : 4",
         "'it' : 2",
         ""
        ],
        [
         "7",
         "'pt-BR' : 3",
         "'he' : 1",
         ""
        ],
        [
         "8",
         "'pl' : 2",
         "'gd' : 1",
         ""
        ],
        [
         "9",
         "'et' : 2",
         "'pl' : 1",
         ""
        ],
        [
         "10",
         "'zh-CN' : 2",
         "'et' : 1",
         ""
        ],
        [
         "11",
         "'pt-PT' : 2",
         "'be' : 1",
         ""
        ],
        [
         "12",
         "'sv' : 2",
         "'cs' : 1",
         ""
        ],
        [
         "13",
         "'ja' : 2",
         "'no' : 1",
         ""
        ],
        [
         "14",
         "'fi' : 1",
         "'gl' : 1",
         ""
        ],
        [
         "15",
         "'ca' : 1",
         "'ru' : 1",
         ""
        ],
        [
         "16",
         "'ru' : 1",
         "'ca' : 1",
         ""
        ],
        [
         "17",
         "'eu' : 1",
         "'eu' : 1",
         ""
        ],
        [
         "18",
         "'tr' : 1",
         "'ja' : 1",
         ""
        ],
        [
         "19",
         "'no' : 1",
         "'pt-BR' : 1",
         ""
        ],
        [
         "20",
         "'gl' : 1",
         "",
         ""
        ],
        [
         "21",
         "'he' : 1",
         "",
         ""
        ],
        [
         "22",
         "'cs' : 1",
         "",
         ""
        ],
        [
         "23",
         "'be' : 1",
         "",
         ""
        ],
        [
         "24",
         "'ko, en, ja' : 1",
         "",
         ""
        ],
        [
         "25",
         "'gd' : 1",
         "",
         ""
        ]
       ],
       "shape": {
        "columns": 3,
        "rows": 26
       }
      },
      "text/html": [
       "<div>\n",
       "<style scoped>\n",
       "    .dataframe tbody tr th:only-of-type {\n",
       "        vertical-align: middle;\n",
       "    }\n",
       "\n",
       "    .dataframe tbody tr th {\n",
       "        vertical-align: top;\n",
       "    }\n",
       "\n",
       "    .dataframe thead th {\n",
       "        text-align: right;\n",
       "    }\n",
       "</style>\n",
       "<table border=\"1\" class=\"dataframe\">\n",
       "  <thead>\n",
       "    <tr style=\"text-align: right;\">\n",
       "      <th></th>\n",
       "      <th>mastodon1</th>\n",
       "      <th>mastodon2</th>\n",
       "      <th>reddit</th>\n",
       "    </tr>\n",
       "  </thead>\n",
       "  <tbody>\n",
       "    <tr>\n",
       "      <th>0</th>\n",
       "      <td>'en' : 234</td>\n",
       "      <td>'en' : 94</td>\n",
       "      <td>'en' : 99</td>\n",
       "    </tr>\n",
       "    <tr>\n",
       "      <th>1</th>\n",
       "      <td>'de' : 33</td>\n",
       "      <td>'de' : 16</td>\n",
       "      <td>'es' : 1</td>\n",
       "    </tr>\n",
       "    <tr>\n",
       "      <th>2</th>\n",
       "      <td>'fr' : 13</td>\n",
       "      <td>'fr' : 7</td>\n",
       "      <td></td>\n",
       "    </tr>\n",
       "    <tr>\n",
       "      <th>3</th>\n",
       "      <td>'es' : 9</td>\n",
       "      <td>'ko' : 3</td>\n",
       "      <td></td>\n",
       "    </tr>\n",
       "    <tr>\n",
       "      <th>4</th>\n",
       "      <td>'it' : 5</td>\n",
       "      <td>'es' : 3</td>\n",
       "      <td></td>\n",
       "    </tr>\n",
       "    <tr>\n",
       "      <th>5</th>\n",
       "      <td>'ko' : 5</td>\n",
       "      <td>'nl' : 2</td>\n",
       "      <td></td>\n",
       "    </tr>\n",
       "    <tr>\n",
       "      <th>6</th>\n",
       "      <td>'nl' : 4</td>\n",
       "      <td>'it' : 2</td>\n",
       "      <td></td>\n",
       "    </tr>\n",
       "    <tr>\n",
       "      <th>7</th>\n",
       "      <td>'pt-BR' : 3</td>\n",
       "      <td>'he' : 1</td>\n",
       "      <td></td>\n",
       "    </tr>\n",
       "    <tr>\n",
       "      <th>8</th>\n",
       "      <td>'pl' : 2</td>\n",
       "      <td>'gd' : 1</td>\n",
       "      <td></td>\n",
       "    </tr>\n",
       "    <tr>\n",
       "      <th>9</th>\n",
       "      <td>'et' : 2</td>\n",
       "      <td>'pl' : 1</td>\n",
       "      <td></td>\n",
       "    </tr>\n",
       "    <tr>\n",
       "      <th>10</th>\n",
       "      <td>'zh-CN' : 2</td>\n",
       "      <td>'et' : 1</td>\n",
       "      <td></td>\n",
       "    </tr>\n",
       "    <tr>\n",
       "      <th>11</th>\n",
       "      <td>'pt-PT' : 2</td>\n",
       "      <td>'be' : 1</td>\n",
       "      <td></td>\n",
       "    </tr>\n",
       "    <tr>\n",
       "      <th>12</th>\n",
       "      <td>'sv' : 2</td>\n",
       "      <td>'cs' : 1</td>\n",
       "      <td></td>\n",
       "    </tr>\n",
       "    <tr>\n",
       "      <th>13</th>\n",
       "      <td>'ja' : 2</td>\n",
       "      <td>'no' : 1</td>\n",
       "      <td></td>\n",
       "    </tr>\n",
       "    <tr>\n",
       "      <th>14</th>\n",
       "      <td>'fi' : 1</td>\n",
       "      <td>'gl' : 1</td>\n",
       "      <td></td>\n",
       "    </tr>\n",
       "    <tr>\n",
       "      <th>15</th>\n",
       "      <td>'ca' : 1</td>\n",
       "      <td>'ru' : 1</td>\n",
       "      <td></td>\n",
       "    </tr>\n",
       "    <tr>\n",
       "      <th>16</th>\n",
       "      <td>'ru' : 1</td>\n",
       "      <td>'ca' : 1</td>\n",
       "      <td></td>\n",
       "    </tr>\n",
       "    <tr>\n",
       "      <th>17</th>\n",
       "      <td>'eu' : 1</td>\n",
       "      <td>'eu' : 1</td>\n",
       "      <td></td>\n",
       "    </tr>\n",
       "    <tr>\n",
       "      <th>18</th>\n",
       "      <td>'tr' : 1</td>\n",
       "      <td>'ja' : 1</td>\n",
       "      <td></td>\n",
       "    </tr>\n",
       "    <tr>\n",
       "      <th>19</th>\n",
       "      <td>'no' : 1</td>\n",
       "      <td>'pt-BR' : 1</td>\n",
       "      <td></td>\n",
       "    </tr>\n",
       "    <tr>\n",
       "      <th>20</th>\n",
       "      <td>'gl' : 1</td>\n",
       "      <td></td>\n",
       "      <td></td>\n",
       "    </tr>\n",
       "    <tr>\n",
       "      <th>21</th>\n",
       "      <td>'he' : 1</td>\n",
       "      <td></td>\n",
       "      <td></td>\n",
       "    </tr>\n",
       "    <tr>\n",
       "      <th>22</th>\n",
       "      <td>'cs' : 1</td>\n",
       "      <td></td>\n",
       "      <td></td>\n",
       "    </tr>\n",
       "    <tr>\n",
       "      <th>23</th>\n",
       "      <td>'be' : 1</td>\n",
       "      <td></td>\n",
       "      <td></td>\n",
       "    </tr>\n",
       "    <tr>\n",
       "      <th>24</th>\n",
       "      <td>'ko, en, ja' : 1</td>\n",
       "      <td></td>\n",
       "      <td></td>\n",
       "    </tr>\n",
       "    <tr>\n",
       "      <th>25</th>\n",
       "      <td>'gd' : 1</td>\n",
       "      <td></td>\n",
       "      <td></td>\n",
       "    </tr>\n",
       "  </tbody>\n",
       "</table>\n",
       "</div>"
      ],
      "text/plain": [
       "           mastodon1    mastodon2     reddit\n",
       "0         'en' : 234    'en' : 94  'en' : 99\n",
       "1          'de' : 33    'de' : 16   'es' : 1\n",
       "2          'fr' : 13     'fr' : 7           \n",
       "3           'es' : 9     'ko' : 3           \n",
       "4           'it' : 5     'es' : 3           \n",
       "5           'ko' : 5     'nl' : 2           \n",
       "6           'nl' : 4     'it' : 2           \n",
       "7        'pt-BR' : 3     'he' : 1           \n",
       "8           'pl' : 2     'gd' : 1           \n",
       "9           'et' : 2     'pl' : 1           \n",
       "10       'zh-CN' : 2     'et' : 1           \n",
       "11       'pt-PT' : 2     'be' : 1           \n",
       "12          'sv' : 2     'cs' : 1           \n",
       "13          'ja' : 2     'no' : 1           \n",
       "14          'fi' : 1     'gl' : 1           \n",
       "15          'ca' : 1     'ru' : 1           \n",
       "16          'ru' : 1     'ca' : 1           \n",
       "17          'eu' : 1     'eu' : 1           \n",
       "18          'tr' : 1     'ja' : 1           \n",
       "19          'no' : 1  'pt-BR' : 1           \n",
       "20          'gl' : 1                        \n",
       "21          'he' : 1                        \n",
       "22          'cs' : 1                        \n",
       "23          'be' : 1                        \n",
       "24  'ko, en, ja' : 1                        \n",
       "25          'gd' : 1                        "
      ]
     },
     "metadata": {},
     "output_type": "display_data"
    }
   ],
   "source": [
    "df_mastodon1_en = df_mastodon1[df_mastodon1['languages'].apply(lambda x: x == ['en'] if isinstance(x, list) else False)]\n",
    "df_mastodon2_en = df_mastodon2[df_mastodon2['languages'].apply(lambda x: x == ['en'] if isinstance(x, list) else False)]\n",
    "df_reddit_en =  df_reddit[df_reddit['language'].apply(lambda x: x == 'en' if isinstance(x, str) else False)]\n",
    "\n",
    "display(compare_languages(df_mastodon1, df_mastodon2, df_reddit))"
   ]
  },
  {
   "cell_type": "code",
   "execution_count": 53,
   "id": "973deec2",
   "metadata": {},
   "outputs": [
    {
     "data": {
      "application/vnd.microsoft.datawrangler.viewer.v0+json": {
       "columns": [
        {
         "name": "index",
         "rawType": "int64",
         "type": "integer"
        },
        {
         "name": "domain",
         "rawType": "object",
         "type": "string"
        },
        {
         "name": "description",
         "rawType": "object",
         "type": "string"
        },
        {
         "name": "active_month",
         "rawType": "int64",
         "type": "integer"
        },
        {
         "name": "languages",
         "rawType": "object",
         "type": "unknown"
        },
        {
         "name": "rules",
         "rawType": "object",
         "type": "unknown"
        },
        {
         "name": "total_users",
         "rawType": "int64",
         "type": "integer"
        },
        {
         "name": "total_posts",
         "rawType": "int64",
         "type": "integer"
        }
       ],
       "conversionMethod": "pd.DataFrame",
       "ref": "774e742e-64fb-4ada-aa93-a0f8062cb371",
       "rows": [
        [
         "0",
         "mastodon.social",
         "The original server operated by the Mastodon gGmbH non-profit",
         "327503",
         "['en']",
         "[{'id': '1', 'text': 'Sexually explicit or violent media must be marked as sensitive or with a content warning', 'hint': 'This includes content that is particularly provocative even if it may not show specific body parts, as well as dead bodies, bloody injuries, and other gore. Particularly obscene content may be prohibited entirely. Profile pictures and header images may not contain sexually explicit or violent media.'}, {'id': '2', 'text': 'No racism, sexism, homophobia, transphobia, ableism, xenophobia, or casteism.', 'hint': 'Transphobic behavior such as intentional misgendering and deadnaming is strictly prohibited. Promotion of \"conversion therapy\" is strictly prohibited. Criticism of governments and religions is permissible unless being used as a proxy for discrimination.'}, {'id': '3', 'text': 'No incitement of violence or promotion of violent ideologies', 'hint': 'Calling for people or groups to be assassinated, murdered, or attacked physically is strictly prohibited. Support for violent groups or events is prohibited.'}, {'id': '4', 'text': 'No harassment, block evasion, dogpiling, or doxxing of others', 'hint': 'Repeat attempts to communicate with users who have blocked you or creation of accounts solely to harass or insult individuals is strictly prohibited. Coordinated activity to attack other users is prohibited. Posting of private personal information about others is prohibited.'}, {'id': '7', 'text': 'Do not share information widely-known to be false and misleading', 'hint': 'False and misleading information and links from low-quality sources may not be posted, especially if they are likely to mislead or confuse others or endanger their safety.'}, {'id': '1008', 'text': 'Content created by others must be attributed, and use of generative AI must be disclosed', 'hint': 'Content created by others must clearly provide a reference to the author, creator, or source. For adult content, this should include performers. Accounts may not solely post AI-generated content.'}]",
         "2711879",
         "129725014"
        ],
        [
         "1",
         "mstdn.social",
         "A general-purpose Mastodon server with a 500 character limit. All languages are welcome.",
         "14546",
         "['en']",
         "[{'id': '2', 'text': 'Sexually explicit or violent media must be marked as sensitive when posting.', 'hint': ''}, {'id': '3', 'text': 'No spam or advertising.', 'hint': ''}, {'id': '4', 'text': 'No racism, sexism, homophobia, transphobia, xenophobia, or casteism.', 'hint': ''}, {'id': '5', 'text': 'No incitement of violence or promotion of violent ideologies.', 'hint': ''}, {'id': '6', 'text': 'No harassment, dogpiling or doxxing of other users.', 'hint': ''}, {'id': '7', 'text': 'No illegal content.', 'hint': ''}, {'id': '11', 'text': 'No spreading of fake news or misinformation', 'hint': ''}, {'id': '12', 'text': 'Content created by others must be attributed, and use of AI must be disclosed. Profiles that only post AI-generated content will not be tolerated.', 'hint': ''}]",
         "260323",
         "19904208"
        ],
        [
         "2",
         "infosec.exchange",
         "A Mastodon instance for info/cyber security-minded people.\n",
         "13319",
         "['en']",
         "[{'id': '1', 'text': 'Do unto others as you think they would want done to them.  ', 'hint': ''}, {'id': '2', 'text': 'Mark sensitive content with a content warning.  ', 'hint': ''}, {'id': '3', 'text': 'Gratuitous obscenity that serves no practical benefit to a discussion is not permitted.', 'hint': ''}, {'id': '4', 'text': 'Illegal content such as child pornography, unsurprisingly, is not permitted', 'hint': ''}, {'id': '5', 'text': 'Spam is not permitted, this includes creating spam accounts that only serve to provide profile links or advertise products and services. ', 'hint': ''}, {'id': '6', 'text': 'Hate speech and abusive or threatening behavior is not permitted, specifically that which directed at any gender, nationality, religion, race, age, pizza topping preference, or sexual identity.  One can hate on systemd all day long here.', 'hint': ''}, {'id': '7', 'text': \"Lack of a specific rule against a certain behavior does not indicate acceptance of that behavior.  Each of us has a limited amount of time in this world.  Don't be a jerk.  \", 'hint': ''}, {'id': '8', 'text': 'Violating one or more of these rules may result in an immediate, permanent ban without notice or warning.  ', 'hint': ''}, {'id': '9', 'text': 'You may not impersonate a person or brand without a clear indication the account is unofficial and/or a parody. Parody accounts are permitted, as are legitimate brand accounts. ', 'hint': ''}, {'id': '11', 'text': 'No attacks against (or from) the instance.\\r\\n\\r\\nYou may not do anything which may impact confidentiality, integrity or availability of Infosec.Exchange, the users of the service or their data.\\r\\nFor more details see https://wiki.infosec.exchange/rules/start', 'hint': ''}, {'id': '12', 'text': 'No doxing (aka doxxing) or disclosing personal information without consent and as a means of harassing or causing others to harass another person.', 'hint': ''}, {'id': '13', 'text': 'No harassment in the form of continued engagement after a person has requested contact to stop', 'hint': ''}, {'id': '14', 'text': 'Automated posting:\\r\\n- accounts that post >50% using automation must be labeled as a “bot” in the user profile to help provide a visual indicator to visitors\\r\\n- automated posts must be limited to one post per hour/24 per day with post visibility set to “public”. There is no limit on “unlisted” posts.', 'hint': ''}, {'id': '15', 'text': 'Soliciting or inciting violence or harm against a person or segment of people is not permitted. ', 'hint': ''}]",
         "75725",
         "4296664"
        ],
        [
         "3",
         "mas.to",
         "Hello! mas.to is a fast, up-to-date and fun Mastodon server.",
         "11889",
         "['en']",
         "[{'id': '9', 'text': \"No discrimination, including (but not limited to) racism, sexism, homophobia or transphobia (including targeted misgendering, deadnaming, or promotion of so-called 'conversion therapy').\", 'hint': ''}, {'id': '10', 'text': 'No explicit (NSFW) content without content warnings and/or sensitive media markers. Explicit content must not be used in user avatars or header images.', 'hint': ''}, {'id': '17', 'text': 'No harassment of other users on this or other servers.', 'hint': ''}, {'id': '18', 'text': 'No content illegal in the following countries: United Kingdom, Germany', 'hint': ''}, {'id': '19', 'text': 'No incitement of violence or promotion of violent ideologies.', 'hint': ''}, {'id': '20', 'text': 'No disinformation regarding public health issues or political/military campaigns.', 'hint': ''}, {'id': '21', 'text': 'No spam. This includes commercial advertising, promotion of services, and SEO.', 'hint': ''}, {'id': '22', 'text': 'No impersonation of other individuals, public figures or organisations, unless clearly marked as a parody.', 'hint': ''}, {'id': '23', 'text': 'All automated (bot) accounts must enable the bot flag in their account preferences, respect #nobot markers, and post as unlisted unless making less than one post per hour.', 'hint': ''}]",
         "183608",
         "10834206"
        ],
        [
         "4",
         "mastodon.world",
         "Generic Mastodon server for anyone to use.",
         "9472",
         "['en']",
         "[{'id': '16', 'text': 'No illegal content, e.g. child pornography, solicitation of illegal services, etc…', 'hint': ''}, {'id': '17', 'text': 'No posts or links to content supporting, featuring, or promoting hate groups, terrorism, mass violence or calls to violence.', 'hint': ''}, {'id': '18', 'text': 'No posts or comments supporting or promoting QAnon related content or similarly disproven conspiracy theories. Moderators have sole discretion to decide if a post violates this rule. Birds are real. The Earth is round. Get over it.', 'hint': ''}, {'id': '19', 'text': 'No posts or links featuring sexualized depictions of minors, whether photographic, written, drawn, anthropomorphic or animated.', 'hint': ''}, {'id': '20', 'text': 'No pornography featuring depictions of rape or non-consensual violence.', 'hint': ''}, {'id': '21', 'text': 'A Content Warning must always be used when posting all other pornographic, erotic or NSFW content, whether photographic, written, drawn or animated.', 'hint': ''}, {'id': '22', 'text': 'No racism.', 'hint': ''}, {'id': '23', 'text': 'No visual content depicting executions, murder, suicide, dismemberment, visible innards, excessive gore, or charred bodies. All other violent imagery requires a Content Warning.', 'hint': ''}, {'id': '24', 'text': 'No visual content depicting animal abuse. All other posts related to animal abuse require a Content Warning.', 'hint': ''}, {'id': '25', 'text': 'No posting of malicious links.', 'hint': ''}, {'id': '26', 'text': 'No Spam (see General Guidance below).', 'hint': ''}, {'id': '27', 'text': 'No threats, bullying or attacks on an individual or group.', 'hint': ''}, {'id': '28', 'text': 'No encouragement or promotion of self-harm.', 'hint': ''}, {'id': '29', 'text': 'No accounts that impersonate anyone else unless clearly marked as such for the purpose of parody.', 'hint': ''}, {'id': '30', 'text': 'No Hate Speech. Hate speech is defined as derogatory posts or links targeting any individual or group based on race, mental or physical disability, religion, gender identity, sex, nationality, age, class or sexual orientation.', 'hint': ''}, {'id': '31', 'text': 'No “shitposting” - while humorous posts are allowed, and actually encouraged, there is no place for “shitposting” here.', 'hint': ''}, {'id': '32', 'text': 'No targeted misgendering, deadnaming, or promotion of so-called \"conversion therapy\".', 'hint': ''}, {'id': '33', 'text': 'Banner and Avatar images must comply with the other rules, so no NSFW images etc', 'hint': ''}]",
         "191710",
         "7158644"
        ],
        [
         "6",
         "hachyderm.io",
         "Hachyderm is a safe space, LGBTQIA+ and BLM, primarily comprised of tech industry professionals world wide. Note that many non-user account types have restrictions - please see our About page.",
         "8937",
         "['en']",
         "[{'id': '1', 'text': \"Don't be a dick.\", 'hint': ''}, {'id': '2', 'text': 'No hacking.', 'hint': ''}, {'id': '3', 'text': 'No violence.', 'hint': ''}, {'id': '4', 'text': 'No fascism. ', 'hint': ''}, {'id': '5', 'text': 'No colonialism.', 'hint': ''}, {'id': '6', 'text': 'No white supremacy.', 'hint': ''}, {'id': '7', 'text': 'No religious extremism. ', 'hint': ''}, {'id': '9', 'text': 'No nationalism.', 'hint': ''}, {'id': '11', 'text': 'No racism.', 'hint': ''}, {'id': '12', 'text': 'No homophobia.', 'hint': ''}, {'id': '13', 'text': 'No transphobia.', 'hint': ''}, {'id': '14', 'text': 'Safe Space: LGTBQIA+', 'hint': ''}, {'id': '15', 'text': 'Safe Space: neurodivergent (ADHD, Autism, etc.) ', 'hint': ''}]",
         "56318",
         "4025216"
        ],
        [
         "7",
         "social.vivaldi.net",
         "Vivaldi Social is part of the Mastodon network and is hosted in Iceland by the makers of Vivaldi Browser. Everyone is welcome to join.",
         "8719",
         "['en']",
         "[{'id': '1', 'text': 'No sexually explicit or violent content', 'hint': ''}, {'id': '2', 'text': 'No discrimination of any form (incl. racism, sexism, homophobia, transphobia, xenophobia, casteism, ableism, etc.)', 'hint': ''}, {'id': '3', 'text': 'No incitement of violence or promotion of violent ideologies', 'hint': ''}, {'id': '4', 'text': 'No harassment, dogpiling or doxxing of other users', 'hint': ''}, {'id': '5', 'text': 'No content illegal in Iceland, Norway or the EU', 'hint': ''}, {'id': '6', 'text': 'Do not share intentionally false or misleading information', 'hint': ''}, {'id': '7', 'text': 'No promotion of Cryptocurrencies or NFTs', 'hint': ''}, {'id': '8', 'text': 'Follow the Terms of Use and Code of Conduct of Vivaldi.net', 'hint': ''}]",
         "64393",
         "3040344"
        ],
        [
         "11",
         "mastodon.gamedev.place",
         "Mastodon server focused on game development and related topics.",
         "5078",
         "['en']",
         "[{'id': '1', 'text': 'Sexually explicit or violent media must be marked as sensitive when posting', 'hint': ''}, {'id': '2', 'text': 'No racism, sexism, homophobia, transphobia, xenophobia, or casteism', 'hint': ''}, {'id': '3', 'text': 'No incitement of violence or promotion of violent ideologies', 'hint': ''}, {'id': '4', 'text': 'No harassment, dogpiling or doxxing of other users', 'hint': ''}, {'id': '5', 'text': 'No content illegal in EU', 'hint': ''}, {'id': '6', 'text': 'Do not share intentionally false or misleading information', 'hint': ''}]",
         "33441",
         "1700682"
        ],
        [
         "12",
         "techhub.social",
         "A hub primarily for passionate technologists, but everyone is welcome",
         "5031",
         "['en']",
         "[{'id': '6', 'text': 'Violent media must be marked as sensitive when posting.', 'hint': ''}, {'id': '7', 'text': 'No racism, sexism, homophobia, transphobia, xenophobia, or casteism.', 'hint': ''}, {'id': '8', 'text': 'No incitement of violence or promotion of violent ideologies.', 'hint': ''}, {'id': '9', 'text': 'No harassment, dogpiling or doxxing of other users.', 'hint': ''}, {'id': '10', 'text': 'No content illegal in Canada.', 'hint': ''}, {'id': '11', 'text': 'Do not share false or misleading information that may lead to physical harm.', 'hint': ''}, {'id': '13', 'text': 'No spam, no direct advertising selling products or services, no aggressive promotion. If you promote your website, blog, etc do it responsibly and use a description and tags.', 'hint': ''}, {'id': '14', 'text': 'Bots must be marked as Bot in their profile and bots created after Dec 31st 2024 must post in silent mode', 'hint': ''}, {'id': '15', 'text': 'Sexually explicit content is not allowed', 'hint': ''}, {'id': '16', 'text': 'Agree to Code of Conduct (see about section)', 'hint': ''}]",
         "83099",
         "2178838"
        ],
        [
         "13",
         "mastodon.nl",
         "Mastodon voor de Nederlandse community - door de Nederlandse community - in stand gehouden door Stichting Activityclub",
         "4519",
         "['en']",
         "[{'id': '2', 'text': 'Heb respect voor elkaar'}, {'id': '3', 'text': 'Geen links of referenties naar racistische, hatelijke of offensieve content'}, {'id': '4', 'text': 'Geen accounts en toots die nodeloos ongefundeerd zijn'}, {'id': '5', 'text': 'Geen zaken die in Nederland illegaal zijn'}, {'id': '7', 'text': 'Geen reclame en spam'}, {'id': '9', 'text': 'Bij herhaling provoceren of uitlokken (trolling) is niet toegestaan.'}]",
         "43744",
         "2916058"
        ],
        [
         "14",
         "social.tchncs.de",
         "A friendly server from Germany – which tends to attract techy people, but welcomes everybody. This is one of the oldest Mastodon instances.",
         "3697",
         "['en']",
         "[{'id': '1', 'text': 'Be nice to each other', 'hint': ''}, {'id': '2', 'text': 'Do not publish advertisements', 'hint': ''}, {'id': '3', 'text': 'Do not publish conspiracy myths', 'hint': ''}, {'id': '4', 'text': 'Do not publish content illegal in Germany and/or France, such as holocaust denial or Nazi symbolism', 'hint': ''}, {'id': '5', 'text': 'Do not publish content promoting the ideology of National Socialism', 'hint': ''}, {'id': '6', 'text': 'Do not publish content that is hateful towards specific individuals or groups, or intended to cause or incite harm', 'hint': ''}, {'id': '7', 'text': 'Do not exclusively crosspost from other platforms', 'hint': ''}]",
         "22825",
         "3536154"
        ],
        [
         "15",
         "kolektiva.social",
         "Kolektiva is an anti-colonial anarchist collective that offers federated social media to anarchist collectives and individuals in the fediverse. For the social movements and liberation!",
         "3405",
         "['en']",
         "[{'id': '1', 'text': 'No racism, misogyny, homo/transphobia, ableism or other oppressive behaviour. ', 'hint': ''}, {'id': '2', 'text': 'No right wing bullshit and no authoritarian left wing apologetics. ', 'hint': ''}, {'id': '3', 'text': 'No harassment.', 'hint': ''}, {'id': '4', 'text': 'No electoral propaganda/campaigning.', 'hint': ''}, {'id': '5', 'text': 'No misinformation or conspiracy theories.', 'hint': ''}, {'id': '6', 'text': 'No promotion of capitalism, meritocracy or a commercial enterprise.', 'hint': ''}, {'id': '7', 'text': 'No spam.', 'hint': ''}, {'id': '8', 'text': 'No sexualized images without consent.', 'hint': ''}, {'id': '9', 'text': 'No glorification of nation states or militarism.', 'hint': ''}, {'id': '10', 'text': 'Propaganda from the USSR, CCP, or DPRK is not allowed.', 'hint': ''}]",
         "40004",
         "3529807"
        ],
        [
         "16",
         "norden.social",
         "Moin! Dies ist die Mastodon-Instanz für Nordlichter, Schnacker und alles dazwischen. Folge dem Leuchtturm.",
         "3383",
         "['en']",
         "[{'id': '12', 'text': 'Respektvoller Umgang', 'hint': 'Sei freundlich und respektvoll. Persönliche Angriffe, Beleidigungen oder herablassendes Verhalten werden nicht toleriert.'}, {'id': '13', 'text': 'Keine Diskriminierung', 'hint': 'Diskriminierung oder Hass aufgrund von Herkunft, Geschlecht, sexueller Orientierung, Geschlechtsidentität, Behinderung, Einschränkungen (Ableismus), Religion oder anderen persönlichen Merkmalen sind verboten.'}, {'id': '14', 'text': 'Einhaltung von Gesetzen und Urheberrechten', 'hint': 'Veröffentliche keine illegalen Inhalte oder Materialien, die Urheberrechte verletzen. Solche Beiträge werden entfernt, und wiederholte Verstöße können zur Kontosperrung führen.'}, {'id': '15', 'text': 'Schutz der Privatsphäre', 'hint': 'Teile keine persönlichen Daten ohne ausdrückliche Zustimmung der betroffenen Personen. Überlege sorgfältig, welche Informationen du öffentlich machst.'}, {'id': '16', 'text': 'Kennzeichnung anstößiger und nicht jugendfreier Inhalte', 'hint': 'Markiere Inhalte, die als anstößig oder jugendgefährdend gelten, mit einer Inhaltswarnung und (zum Beispiel per Hashtag) als “NSFW” (Not Safe for Work). Beachte, dass unsere Instanz möglicherweise nicht für Accounts geeignet ist, die ausschließlich jugendgefährende Inhalte teilen.'}, {'id': '17', 'text': 'Automatisierte Beiträge', 'hint': 'Automatisierte Inhalte wie Bots oder Crossposts müssen als “Öffentlich (Still)” veröffentlicht werden. Konten, die ohne aktive Teilnahme ausschließlich automatisierte Inhalte posten, können entfernt werden.'}, {'id': '18', 'text': 'Keine Belästigung oder Spam', 'hint': 'Belästigung, Mobbing, unerwünschte Kontaktaufnahmen, Spam oder die Verbreitung von Schadsoftware sind untersagt.'}, {'id': '19', 'text': 'Verbot extremistischer Inhalte', 'hint': 'Inhalte mit Nazi-Symbolik, extremistischer Propaganda oder Hassrede sind strengstens verboten.'}, {'id': '20', 'text': 'Authentizität bewahren', 'hint': 'Erstelle keine Fake-Profile und gib dich nicht als jemand anderes aus.'}, {'id': '21', 'text': 'Keine absichtliche Verbreitung von Falschinformationen', 'hint': 'Das bewusste Verbreiten von falschen Informationen, die der Community oder der Gesellschaft schaden könnten, ist verboten.'}]",
         "13802",
         "3128077"
        ],
        [
         "17",
         "mastodonapp.uk",
         "UK Hosted and Managed Mastodon Instance. General communal space for discussion, everyone welcome! Now with a 1000 character limit for posts!",
         "3227",
         "['en']",
         "[{'id': '1', 'text': 'Sexually explicit or violent media must be marked as sensitive & content warned when posting'}, {'id': '2', 'text': 'Be respectful. Racism, sexism, homophobia, transphobia (including targeted misgendering, deadnaming, or promotion of so-called \"conversion therapy\"), xenophobia, and other forms of hate and discrimination are not welcome. Your behaviour elsewhere may also be considered if brought to our attention. '}, {'id': '3', 'text': 'No incitement of violence or promotion of discriminatory or violent ideologies'}, {'id': '4', 'text': 'No spam, harrassment, dogpiling or doxxing of other users, this includes mass and spam reporting'}, {'id': '5', 'text': 'No content illegal in The United Kingdom'}, {'id': '6', 'text': 'No intentionally false or misleading information. By extension, do not pose as persons of interest. '}, {'id': '7', 'text': 'Controversial, reactionary, NSFW, and satirical or similar content may be removed if not obviously Content Warned where appropriate.'}, {'id': '9', 'text': 'No promotion of gambling, Crypto, NFTs, anti-vaccination, self-harm, terrorism, illegal activities, Abuse/exploitation, or Violence.'}, {'id': '10', 'text': 'The sites staff team will ultimately have the final say on any and all moderation actions.'}]",
         "80374",
         "4088677"
        ],
        [
         "18",
         "universeodon.com",
         "Be one with the #fediverse. Join millions of humans building, creating, and collaborating on Mastodon Social Network. Supports 1000 character posts.",
         "3157",
         "['en']",
         "[{'id': '16', 'text': 'Sexually explicit or violent media must be marked as sensitive & content warned when posting'}, {'id': '17', 'text': 'Be respectful. Racism, sexism, homophobia, transphobia (including targeted misgendering, deadnaming, or promotion of so-called \"conversion therapy\"), xenophobia, and other forms of hate and discrimination are not welcome. Your behaviour elsewhere may also be considered if brought to our attention. '}, {'id': '18', 'text': 'No incitement of violence or promotion of discriminatory or violent ideologies'}, {'id': '19', 'text': 'No spam, harrassment, dogpiling or doxxing of other users, this includes mass and spam reporting'}, {'id': '20', 'text': 'No content illegal in The United Kingdom'}, {'id': '21', 'text': 'No intentionally false or misleading information. By extension, do not pose as persons of interest. '}, {'id': '22', 'text': 'Controversial, reactionary, NSFW, and satirical or similar content may be removed if not obviously Content Warned where appropriate.'}, {'id': '23', 'text': 'No promotion of gambling, Crypto, NFTs, anti-vaccination, self-harm, terrorism, illegal activities, Abuse/exploitation, or Violence.'}, {'id': '24', 'text': 'The sites staff team will ultimately have the final say on any and all moderation actions.'}]",
         "81677",
         "3989200"
        ],
        [
         "19",
         "mamot.fr",
         "Mamot.fr est un serveur Mastodon francophone, géré par La Quadrature du Net.",
         "3122",
         "['en']",
         "[{'id': '1', 'text': 'Interdiction de la pédopornographique', 'hint': 'Conformément aux lois françaises et à la jurisprudence, les contenus pédopornographiques, y compris sous forme dessinée, sont illégaux et seront supprimés, et les comptes concernés bloqués (si distants) ou supprimés (si local).'}, {'id': '2', 'text': 'Discrétion des médias pornographique violent', 'hint': 'Les contenus pornographiques ou visiblement violents doivent être marqués avec le drapeau \"sensible / sensitive\". Les comptes ne respectant pas cette règle seront rendus invisibles aux flux locaux et fédérés. '}, {'id': '3', 'text': 'Interdiction de la Publicité', 'hint': \"La publicité, sous forme répétée et/ou intrusive (faisant mention d'autres utilisateur·ices), n'est pas acceptée. Les comptes concernés seront rendus invisibles aux flux locaux et fédérés, ou supprimés, selon la gravité de la situation. \"}, {'id': '4', 'text': 'Politesse des discussions', 'hint': \"Approchez les personnes avec précaution et politesse. Si une personne vous demande d'arrêter de la mentionner ou qu'elle exprime ne plus vouloir participer à une discussion, arrêtez immédiatement. \"}, {'id': '5', 'text': 'Interdiction des propos haineux', 'hint': 'Sont interdits les propos, images ou vidéos racistes, sexistes, homophobes ou transphobes.'}, {'id': '7', 'text': 'Interdiction du harcèlement', 'hint': \"Sont interdit toute conduite, en public ou en privé, ayant pour but de traquer, harceler ou intimider d'autres personnes, sexuellement ou non.\"}, {'id': '8', 'text': 'Interdiction de la révélations confidentielles', 'hint': \"Il est interdit de rassembler, publier, disséminer les informations personnelles d'une autre personne sans son autorisation explicite.\"}, {'id': '9', 'text': 'Interdiction de forcer une conversation', 'hint': 'Il est interdit de poursuivre une conversation ou inciter une personne à poursuivre une interaction avec une personne ayant réclamé la cessation de ladite interaction peut être considéré comme du harcèlement, indépendamment de la confidentialité employée.'}, {'id': '10', 'text': \"Interdiction de retournement d'une oppression systémique\", 'hint': 'Est interdit toute tentative de retournement d’une oppression systémique. Par exemple : « racisme anti-blanc », « sexisme anti-homme », « hétérophobie », « cisphobie ».'}, {'id': '11', 'text': 'Interdiction de la diffamation & calomnie', 'hint': 'Il est interdit publier ou diffuser intentionnellement des propos diffamatoires, calomnieux. Cela concerne aussi toute désinformation avec intention de tromper (le gorafi ou the onion sont donc autorisés).'}, {'id': '12', 'text': \"Interdiction du partage d'informations à véracité douteuse avec intention de nuire\", 'hint': \"Il est interdit de partager des informations à véracité douteuse avec intention de nuire. Veilliez à sourcer et à vérifier les informations que vous postez, notamment si elles peuvent nuire à la santé, l'intégrité ou à la sécurité des personnes. Une exigence particulière est apportée aux informations liées à la santé ou l'éducation. \"}, {'id': '13', 'text': 'Attribution : Il est encouragé d’attribuer l’auteur·ce ayant crée le média ou contenu que vous postez', 'hint': 'Cette mesure est surtout destinée à pouvoir généré un avertissement, sans actions, pour prévenir la génération de contenu par IA qui puisse spammer le serveur et le fédiverse.'}, {'id': '14', 'text': 'Création humaine : Il est découragé d’utiliser des outils de génération procédurale ( IA ), et si c’est le cas, ça doit être mentionné', 'hint': 'Cette mesure est surtout destinée à pouvoir généré un avertissement, sans actions, pour prévenir la génération de contenu par IA qui puisse spammer le serveur et le fédiverse.'}, {'id': '15', 'text': 'Interdiction des arnaques. Il est interdit de faire la promotion d’arnaques du type cryptomonnaie, prêts, ventes illégales, soins médicaux, mais sans y être limité.', 'hint': '\\r\\n\\r\\n    Cette mesure permet de supprimer les comptes qui font la promo de scams, de soins douteux, et de manière générale qui sont dans la prédation économique.\\r\\n'}]",
         "39731",
         "7100320"
        ],
        [
         "20",
         "tech.lgbt",
         "We welcome all marginalized identities. This Mastodon instance is generally for folks who are LGBTQIA+ and Allies with an interest in tech work, academics, or technology in general.",
         "2779",
         "['en']",
         "[{'id': '1', 'text': 'Discrimination & Bigotry Won’t Be Tolerated.\\r\\n\\r\\nWe\\'re not a free speech absolutist. We\\'re not interested in Nazis, TERFS, or hate speech. Targeted misgendering, deadnaming, or promotion of so-called \"conversion therapy\" is prohibited.', 'hint': ''}, {'id': '2', 'text': '\\r\\nRespect Other Users.\\r\\n\\r\\nThis instance is meant to be a friendly, welcoming space to all who are willing to reciprocate in helping to create that environment.\\r\\n', 'hint': ''}, {'id': '4', 'text': '\\r\\nConsent is Important in all contexts.\\r\\n\\r\\nIf you’re ever unsure, ask first. Use content warnings (CWs) where required.\\r\\n', 'hint': ''}, {'id': '5', 'text': '\\r\\nListen; Don’t Make Excuses.\\r\\n\\r\\nIf you’re accused of causing harm, either take some responsibility or ask moderators for help.\\r\\n', 'hint': ''}, {'id': '8', 'text': 'No Pedophilia or Zoophilia.\\r\\n\\r\\nThis includes artistic depictions of characters that cannot give consent.', 'hint': ''}, {'id': '11', 'text': 'Members under the age of 18 are not permitted to post lewd, explicit, nsfw, or otherwise sexual content. This includes as original posts or in reply to other members, as well as boosting content of this type from their accounts.', 'hint': ''}, {'id': '13', 'text': 'No direct threats and incitement to violence. Expressing dissatisfaction is fine, but directly stating interest or intent to commit violent harm are not welcome on this server.', 'hint': ''}, {'id': '14', 'text': 'Use the Report Feature.\\r\\nOur moderators are here to listen and respond to reports.', 'hint': ''}]",
         "14995",
         "3859606"
        ],
        [
         "21",
         "mathstodon.xyz",
         "A Mastodon instance for maths people. We have LaTeX rendering in the web interface!",
         "2762",
         "['en']",
         "[{'id': '1', 'text': 'Don’t do anything that’s illegal in the UK or EU.', 'hint': ''}, {'id': '2', 'text': 'Aggression and elitism are unwelcome here - it’s not a competition. Don’t assume you know better than the person you’re talking to.', 'hint': ''}, {'id': '3', 'text': 'We want to be inclusive; do not engage in exclusionary behaviour or language against anyone based on their race, caste, gender (binary, assigned or otherwise), disability, mental health, sexual orientation, level of education or age.', 'hint': ''}, {'id': '4', 'text': 'Don’t make exclusionary jokes. Don’t even make them “ironically”.', 'hint': ''}, {'id': '5', 'text': 'Don’t harass people. Unconsented contact or sexual attention can constitute harassment, even if it wasn’t intended to cause upset. Dressing or acting in a certain way is not consent.', 'hint': ''}, {'id': '7', 'text': 'All services on this site are intended for people who are at least 18 years old. If you are under the age of 18, do not use this site.', 'hint': ''}, {'id': '8', 'text': \"No spam. While difficult to define precisely, a broad guideline is 'the advertising of goods or services we find inappropriate, irrelevant, or too frequent'. If in doubt, ask us and we will be happy to engage and advise.\", 'hint': ''}]",
         "20336",
         "1416820"
        ],
        [
         "23",
         "c.im",
         "C.IM is a general, mainly English-speaking Mastodon instance.",
         "2688",
         "['en']",
         "[{'id': '11', 'text': 'Respect the laws of the Netherlands and the Isle of Man, including those related to hate speech and defamation.', 'hint': ''}, {'id': '12', 'text': 'Threatening, abusive, intolerant or illegal behavior may lead to moderation and/or further measures. We have a zero tolerance approach to racism, sexism, homophobia and transphobia. Moderation decisions are final. ', 'hint': ''}, {'id': '13', 'text': 'The Content Warning flag should be used for NSFW content, and NSFW media should be marked as sensitive.', 'hint': ''}, {'id': '14', 'text': 'Account registrations are monitored and accounts considered spam (including commercial advertising, political campaigning/propaganda, duplicate accounts or impersonating legal entities) will be moderated or removed.', 'hint': ''}, {'id': '15', 'text': 'Do not harass or bully other users.', 'hint': ''}, {'id': '16', 'text': 'Do not share illegal or copyrighted content.', 'hint': ''}, {'id': '17', 'text': 'Do not spam or engage in any form of malicious activity.', 'hint': ''}, {'id': '18', 'text': 'Keep discussions civil and respectful, and refrain from using derogatory language or engaging in personal attacks.', 'hint': ''}, {'id': '19', 'text': 'Do not reveal personal information about other people without their consent.', 'hint': ''}, {'id': '20', 'text': 'Use appropriate tags and content warnings when posting potentially sensitive or triggering content.', 'hint': ''}, {'id': '21', 'text': 'If you see a violation of these rules, report it to the moderation team.', 'hint': ''}, {'id': '22', 'text': 'To use our service, you are at least 18 years old.', 'hint': ''}]",
         "67782",
         "3328430"
        ],
        [
         "24",
         "mstdn.ca",
         "A community for Canadians, First Nations, Metis, and Inuit Peoples of the great white north.",
         "2670",
         "['en']",
         "[{'id': '1', 'text': 'No toxic and hateful speech.', 'hint': ''}, {'id': '3', 'text': 'No incitement of violence and no promotion of misleading or violent ideologies.', 'hint': ''}, {'id': '4', 'text': 'No harassment, dogpiling, or unwanted advances.', 'hint': ''}, {'id': '5', 'text': 'No doxxing of other users.', 'hint': ''}, {'id': '6', 'text': \"No content illegal in Canada or copyrighted content that you don't own rights to.\", 'hint': ''}, {'id': '7', 'text': 'Sexually explicit or violent media must be marked appropriately.', 'hint': ''}, {'id': '8', 'text': 'No spamming.\\r\\nExcessive posting, boosting, advertising or mass-marketing posts will be actioned accordingly and based on intent.', 'hint': ''}, {'id': '9', 'text': 'Be yourself.\\r\\nAccounts intended to impersonate or parody are not permitted, and those found to be directly misrepresenting themselves as another person or entity will be actioned accordingly.', 'hint': ''}, {'id': '10', 'text': 'Agree to the Terms of Service and Code of Conduct.', 'hint': ''}]",
         "35494",
         "3234597"
        ],
        [
         "25",
         "mastodon.sdf.org",
         "\"I appreciate SDF but it's a general-purpose server and the name doesn't make it obvious that it's about art.\" - Eugen Rochko",
         "2389",
         "['en']",
         "[{'id': '1', 'text': 'This server abides by the Mastodon Covenant '}, {'id': '2', 'text': 'Organizations are welcome to engage with the community in a non-commercial, non-advertising manner.'}, {'id': '3', 'text': 'Artists, musicians, writers and artisans are welcome to engage with the community regarding their craft.'}, {'id': '4', 'text': 'Do not engage in harassment, hateful content or posts of a derogatory nature.'}, {'id': '5', 'text': 'Do not make advertising posts for the sake of purely promoting a commercial product or service.'}, {'id': '6', 'text': \"Content originating from this site may not be used for machine training or other data mining activities without the individual author's consent.\"}]",
         "73086",
         "2406280"
        ],
        [
         "26",
         "sfba.social",
         "A Mastodon instance for the San Francisco Bay Area. Come on in and join us!",
         "2269",
         "['en']",
         "[{'id': '28', 'text': 'Do not use slurs or racist, sexist, homophobic, transphobic, ableist or otherwise discriminatory or hateful jokes or language; or promote white supremacy, anti-Semitism, transphobia, casteist, or other hateful ideologies.', 'hint': ''}, {'id': '29', 'text': 'Do not post content that is illegal in the USA or California.', 'hint': 'This includes unlicensed media. We will remove copyrighted content in response to a valid DMCA notice per our policy.'}, {'id': '30', 'text': 'Do not harass anyone, participate in group harassment of anyone, or otherwise engage in name calling or personal attacks.', 'hint': ''}, {'id': '31', 'text': 'Do not post or threaten to post other people’s personally identifying information (“doxxing”).', 'hint': ''}, {'id': '32', 'text': 'Do not tone police.', 'hint': ''}, {'id': '33', 'text': 'Do not “shitpost” hateful content', 'hint': 'While humorous posts are allowed, even encouraged, “shitposting” is not an exception to rules 1 or 3. There are no ironic slurs.'}, {'id': '34', 'text': 'Do not sell or promote cryptocurrencies or NFTs.', 'hint': ''}, {'id': '62', 'text': 'Do not litigate moderation decisions on the timeline. ', 'hint': 'You can direct message @moderators with concerns.'}, {'id': '63', 'text': 'Mark content that contains nudity, gore, violence, etc. as sensitive and clearly label it with a content warning and/or hashtag.', 'hint': ''}, {'id': '64', 'text': 'Do not post spam.', 'hint': 'There is additional information about what SFBA.social considers spam on the information hub: https://hub.sfba.social/2024/07/05/sfba-social-spam-policy/'}, {'id': '65', 'text': 'Organizations must be based in the SF Bay Area.', 'hint': 'See our Corporate and Organization policy for more details.\\r\\nhttps://hub.sfba.social/governance/corporate-and-organization-accounts-on-sfba-sites/'}]",
         "39192",
         "3067528"
        ],
        [
         "29",
         "aus.social",
         "Welcome to thundertoot! A Mastodon Instance for the People.",
         "2237",
         "['en']",
         "[{'id': '9', 'text': 'Do not break the Code of Conduct.', 'hint': ''}, {'id': '10', 'text': 'Do not break the law (Australian).', 'hint': ''}, {'id': '11', 'text': 'Do not open a Business/Professional/Brand account (Art, Music or homemade stuff is fine).', 'hint': ''}, {'id': '12', 'text': 'Do not create accounts for Impersonation (individuals, groups, or organisations)', 'hint': ''}]",
         "25825",
         "3071570"
        ],
        [
         "30",
         "mastodon.scot",
         "A server intended for (but not limited to) users in Scotland or who identify as Scottish.",
         "2178",
         "['en']",
         "[{'id': '10', 'text': \"No discrimination, including (but not limited to) racism, sexism, homophobia or transphobia (including targeted misgendering, deadnaming, or promotion of so-called 'conversion therapy').\", 'hint': ''}, {'id': '11', 'text': 'No explicit (NSFW) content without content warnings and/or sensitive media markers. Explicit content must not be used in user avatars or header images.', 'hint': ''}, {'id': '18', 'text': 'No harassment of other users on this or other servers.', 'hint': ''}, {'id': '19', 'text': 'No content illegal in the following countries: United Kingdom, Germany', 'hint': ''}, {'id': '20', 'text': 'No incitement of violence or promotion of violent ideologies.', 'hint': ''}, {'id': '21', 'text': 'No disinformation regarding public health issues or political/military campaigns.', 'hint': ''}, {'id': '22', 'text': 'No spam. This includes commercial advertising, promotion of services, and SEO.', 'hint': ''}, {'id': '23', 'text': 'No impersonation of other individuals, public figures or organisations, unless clearly marked as a parody.', 'hint': ''}, {'id': '24', 'text': 'All automated (bot) accounts must enable the bot flag in their account preferences, respect #nobot markers, and post as unlisted unless making less than one post per hour.', 'hint': ''}]",
         "29106",
         "2387680"
        ],
        [
         "31",
         "det.social",
         "Mastodon Server des Unterhaltungsfernsehen Ehrenfeld zum dezentralen Diskurs. ",
         "2043",
         "['en']",
         "[{'id': '5', 'text': 'Keine Beleidigungen, Drohungen und Verunglimpfungen aller Art', 'hint': ''}, {'id': '6', 'text': 'Keine Aufforderungen zu Gewalt', 'hint': ''}, {'id': '7', 'text': 'Kein radikales Gedankengut, Rassismus und Hasspropaganda', 'hint': ''}, {'id': '8', 'text': 'Keine Pornografie und Obszönitäten', 'hint': ''}, {'id': '9', 'text': 'Keine Verletzungen von Rechten Dritter', 'hint': ''}, {'id': '11', 'text': 'Keine Veröffentlichung von privaten Korrespondenzen und privaten Daten (Anschriften, E-Mail-Adressen oder Telefonnummern)', 'hint': ''}, {'id': '12', 'text': 'Kein Missbrauch der Kommentarfunktion für werbliche Zwecke', 'hint': ''}, {'id': '13', 'text': 'Nur deutsch- oder englischsprachige Accounts erlaubt. Bei anderen Sprachen können wir die Moderation nicht gewährleisten.', 'hint': ''}]",
         "0",
         "0"
        ],
        [
         "33",
         "toot.community",
         "A worldwide Mastodon instance from The Netherlands. Run by digital enthusiasts, inviting everyone, everywhere to join us in the #fediverse.",
         "1924",
         "['en']",
         "[{'id': '1', 'text': 'Sexually explicit or violent media must be marked as sensitive when posting.', 'hint': ''}, {'id': '2', 'text': 'No racism, sexism, homophobia, transphobia, xenophobia, or casteism.', 'hint': ''}, {'id': '3', 'text': 'No incitement of violence or promotion of violent ideologies.', 'hint': ''}, {'id': '4', 'text': 'No harassment, dogpiling or doxxing of other users.', 'hint': ''}, {'id': '5', 'text': 'No content illegal in The Netherlands.', 'hint': ''}, {'id': '6', 'text': 'Do not share intentionally false or misleading information.', 'hint': ''}, {'id': '7', 'text': 'Add a Content Warning (CW) to any toots that may hurt or trigger people like religion, gore, spoilers, or sensitive topics.', 'hint': ''}]",
         "32233",
         "1857291"
        ],
        [
         "35",
         "mstdn.party",
         "Mastodon Party is a general-purpose Mastodon instance. Welcome to the fediverse!",
         "1857",
         "['en']",
         "[{'id': '1', 'text': 'Posts that contain nudity, sexually explicit, or violent content must be marked with an \"NSFW\" content warning, and media marked as sensitive when posting.', 'hint': 'See https://fedi.tips/how-to-use-content-warnings-cws-on-mastodon-and-the-fediverse/ for how to use CW.'}, {'id': '2', 'text': 'No racism, sexism, homophobia, transphobia, xenophobia, or casteism', 'hint': 'This rule is written as it is on mastodon.social as well as many other generalist instances. The omission of any specific term is not intentional, and bad faith attempts to challenge the exact terminology are considered to be in violation of the rule.'}, {'id': '3', 'text': 'No incitement of violence or promotion of violent ideologies', 'hint': ''}, {'id': '4', 'text': 'No harassment, dogpiling or doxxing of other users', 'hint': ''}, {'id': '5', 'text': 'No content illegal in the United States, Germany, or Finland\\r\\n', 'hint': ''}, {'id': '6', 'text': 'Do not share intentionally false or misleading information', 'hint': ''}, {'id': '7', 'text': 'Bots must be marked as bots in their profile preferences, and automated posts should be unlisted (exceptions apply). Twitter-mirroring instances like BirdsiteLIVE will be suspended, if you want to browse Twitter, use Twitter.', 'hint': 'Any accounts that produce automated posts and do not plan to manually respond to replies are considered \"bots\" here. This rule applies to all bots, other than local accounts that provide content of general public interest AND post at an average frequency of at most once per hour with reasonable spacing. Other exceptions may be granted on a case-by-case basis.'}, {'id': '8', 'text': 'Do not spam or abuse network features.', 'hint': ''}, {'id': '9', 'text': 'You must select the appropriate language for each post.', 'hint': 'See https://fedi.tips/setting-your-language-preferences-on-mastodon-and-filtering-out-posts-in-other-languages/. This is necessary for the proper functioning of the timeline language filter. If a post is in multiple languages, choose one that represents a significant part of the post.'}, {'id': '10', 'text': 'Please read https://mpp.bus-hit.me for moderation information and best practices.', 'hint': ''}]",
         "52031",
         "1770613"
        ],
        [
         "36",
         "ohai.social",
         "A cozy, fast and secure Mastodon server where everyone is welcome. Run by the folks at ohai.is.",
         "1751",
         "['en']",
         "[{'id': '1', 'text': 'We do not tolerate discriminatory behavior and content promoting or advocating the oppression of members of marginalized groups.', 'hint': ''}, {'id': '8', 'text': 'We do not tolerate threatening behavior, stalking, doxxing, or harassment (including brigading, dogpiling, or any other form of contact with a user who has stated that they do not wish to be contacted).', 'hint': ''}, {'id': '11', 'text': 'We do not tolerate violent nationalist propaganda, Nazi symbolism or promoting the ideology of National Socialism.', 'hint': ''}, {'id': '12', 'text': 'We do not tolerate conspiracy narratives or other reactionary myths supporting or leading to the above-mentioned (and/or similar) behavior.', 'hint': ''}, {'id': '15', 'text': 'All explicit (NSFW) content must be marked as sensitive and have a content warning. Explicit content must not be used in user avatars or header images.', 'hint': ''}, {'id': '16', 'text': 'Content that is illegal in Germany will be deleted and may lead to immediate account suspension.', 'hint': ''}]",
         "40004",
         "1841535"
        ],
        [
         "37",
         "mastodon.ie",
         "Irish Mastodon - run from Ireland, we welcome all who respect the community rules and members.",
         "1742",
         "['en']",
         "[{'id': '1', 'text': \"Don't Be A Ballox\", 'hint': ''}, {'id': '2', 'text': 'No bigotry, racism, xenophobia, sexism, homophobia, transphobia, anti-Traveller speech or any hate speech.', 'hint': ''}, {'id': '5', 'text': ' No unsolicited DMs ', 'hint': ''}, {'id': '8', 'text': 'We have Threads blocked, just so you know', 'hint': ''}, {'id': '9', 'text': 'We operate on a \"3 strikes and you\\'re out\" basis.', 'hint': ''}]",
         "21213",
         "1669562"
        ],
        [
         "38",
         "defcon.social",
         "DEFCON.social = The intersection of technology and society, a community for artists, hackers, policy, academics, researchers, infosec, activists & cyberpunks",
         "1730",
         "['en']",
         "[{'id': '21', 'text': 'No toxic behavior', 'hint': 'No racism, sexism, homophobia, transphobia, ableism, xenophobia, casetism, supremacy, and edgelord behavior such as trolling, dogpiling, sealioning, harassment, doxxing, incitement to violence. Do not make users feel uncomfortable, unwelcome, or afraid'}, {'id': '25', 'text': \"Don't break laws here\", 'hint': \"Don't ask others to break laws here, or admit to breaking laws\"}, {'id': '26', 'text': 'Pornography, Nudity, Gore, illegal content, spam & commercial advertising are forbidden', 'hint': 'Promoting your own projects in moderation is OK'}, {'id': '28', 'text': 'No impersonation or undeclared automated accounts', 'hint': 'Don\\'t claim to be Taylor Swift when you aren\\'t. Mark your account as type \"Bot\" if you are automatically posting'}, {'id': '30', 'text': 'You must be at least 13 years old', 'hint': 'We want to comply with regulations such as the US Child Online Protection Act (COPA), the California Consumer Privacy Act (CCPA), and the UK Age-Appropriate Design Code (AADC)'}]",
         "15536",
         "347227"
        ],
        [
         "43",
         "ioc.exchange",
         "INDICATORS OF COMPROMISE (IOC)\nInfoSec Community within the Fediverse. Newbies, experts, gurus - Everyone is Welcome! Instance is supposed to be fast and secure.",
         "1445",
         "['en']",
         "[{'id': '1', 'text': 'Be Nice!', 'hint': ''}, {'id': '2', 'text': 'Mark sensitive content with a content warning.', 'hint': ''}, {'id': '3', 'text': 'No Spam and No Advertisement. (Promoting your own work is fine.)', 'hint': ''}, {'id': '4', 'text': 'No Hate Speech!', 'hint': ''}]",
         "27049",
         "582298"
        ],
        [
         "45",
         "social.linux.pizza",
         "A instance dedicated - but not limited - to people with an interest in the GNU+Linux ecosystem and/or general tech. Sysadmins to enthusiasts, creators to movielovers - Welcome!\n\n",
         "1252",
         "['en']",
         "[{'id': '1', 'text': 'Dont post NSFW without CW', 'hint': ''}, {'id': '2', 'text': 'Dont post ads without permission\\r\\n', 'hint': ''}, {'id': '3', 'text': 'Dont promote violence, racism and/or discrimination towards other people of other ethnical backgrounds or sexual orientation (hate speech)', 'hint': ''}, {'id': '4', 'text': 'We dont want crypto-ads here aswell.', 'hint': ''}, {'id': '5', 'text': 'Dont be rude, keep conversations civil and kind.', 'hint': ''}, {'id': '6', 'text': 'All public posts from this instance are indexed by tootfinder.ch.', 'hint': ''}, {'id': '7', 'text': 'Do not flood the timeline with posts. If you still want to do that - please set the posts as \"unlisted\".', 'hint': ''}, {'id': '8', 'text': 'No vatniks', 'hint': ''}]",
         "11992",
         "861875"
        ],
        [
         "47",
         "mastodon.au",
         "No description because we couldn't make up our minds and went fishing instead 🎣 (*or pat the cat or doggo 🐱🐶)",
         "1205",
         "['en']",
         "[{'id': '140', 'text': 'No incitement of violence or promotion of violent ideologies .', 'hint': ''}, {'id': '141', 'text': 'Threatening, abusive, intolerant or illegal behaviour will lead to moderation and/or account deletion.', 'hint': ''}, {'id': '142', 'text': 'Do not post anything that is illegal in Queensland, Australia - this service and all data stored on it is 100% stored and operated in QLD.', 'hint': ''}, {'id': '143', 'text': 'Do not knowingly share false or misleading information.', 'hint': ''}, {'id': '144', 'text': 'The Content Warning flag must be used for NSFW content, and NSFW media should be marked as sensitive.', 'hint': ''}, {'id': '145', 'text': 'Registrations are monitored and accounts considered spam, impersonating legal entities or persons, or any other kind of fraud will be deleted.', 'hint': ''}, {'id': '146', 'text': \"Always be kind to each other. Don't say anything you wouldn't face to face.\", 'hint': ''}, {'id': '147', 'text': 'No Spam/SEO/Gambling', 'hint': 'This is not a place to create a page for your Gambling page or Website. It will be removed when noticed.'}]",
         "26976",
         "744305"
        ],
        [
         "48",
         "social.cologne",
         "social.cologne is eine Mastodon Instanz für jede:n Kölner:in und alle, die sich mit Köln verbunden fühlen. Betrieben von https://cgnfs.de.",
         "1201",
         "['en']",
         "[{'id': '12', 'text': 'Treat others with respect', 'hint': 'Avoid any form of insult, bullying, or discrimination, including but not limited to racist, sexist, homophobic, transphobic, anti-Semitic, and misogynistic statements or actions against others.'}, {'id': '13', 'text': 'Use appropriate tone', 'hint': 'Use a respectful and friendly tone, even if you disagree with someone.'}, {'id': '14', 'text': 'Respect privacy', 'hint': 'Do not share personal information without explicit permission and respect the privacy rights of others.'}, {'id': '15', 'text': 'Comply with applicable law', 'hint': 'Do not publish any illegal content.'}, {'id': '16', 'text': 'Avoid misinformation', 'hint': 'Do not share false or misleading information.'}, {'id': '17', 'text': 'No spam posts', 'hint': 'Refrain from publishing unwanted advertising or similar content that does not fit the community.'}, {'id': '19', 'text': 'Mark sensitive content (CW)', 'hint': 'Please mark any content that may contain common triggers, is sexually explicit or violent as sensitive (CW) to ensure the safety of other members. Note: Accounts that exclusively post such content may be limited or banned.'}, {'id': '20', 'text': 'You must be older than 16 years', 'hint': 'According to European law, you must be at least 16 years old to use this instance.'}]",
         "12065",
         "781820"
        ],
        [
         "49",
         "flipboard.social",
         "Welcome to Flipboard on Mastodon. A place for our community of curators and enthusiasts to inform and inspire each other.  \nIf you'd like to join please request an invitation via the sign-up page. ",
         "1192",
         "['en']",
         "[{'id': '6', 'text': 'This instance is part of Flipboard and adheres to the same Community Guidelines. You can read them here https://about.flipboard.com/community-guidelines/', 'hint': ''}, {'id': '7', 'text': 'Keep this instance safe, respectful, and fun by not violating the rules.', 'hint': ''}, {'id': '8', 'text': 'Consider how your post might impact others - if it might be received as offensive, painful, or otherwise unwanted, please use a content warning (CW.)', 'hint': ''}, {'id': '34', 'text': 'Misgendering, deadnaming, or promotion of so-called \"conversion therapy\" is prohibited.', 'hint': ''}]",
         "7482",
         "591941"
        ],
        [
         "50",
         "feuerwehr.social",
         "Eine Mastodon Instanz für Feuerwehren sowie deren Mitglieder und Förderer.",
         "1188",
         "['en']",
         "[{'id': '1', 'text': 'Die Instanz \"Feuerwehr.Social\" soll den Feuerwehren in der DACH-Region eine Heimat sein. Gerne sind wir auch offen für Mitarbeiter und Mitglieder von Feuerwehren, Mitarbeitern und deren Arbeitgebern, sofern diese für Feuerwehren tätig sind.'}, {'id': '2', 'text': 'Wir sind generell eine offene Instanz, jedoch möchten wir darauf hinweisen, dass wir hier keinen Rassismus, Sexismus, *phobie noch extremistische Inhalte dulden.'}, {'id': '3', 'text': 'Bei mehrfachem Verstoß behalten wir uns eine Sperrung des betroffenen Accounts vor. Ebenso werden wir bei Bedarf die Strafverfolgungsbehörden hinzuziehen.'}]",
         "2593",
         "30828"
        ],
        [
         "51",
         "mindly.social",
         "Mindly.Social is an English speaking, friendly Mastodon instance created for people who want to use their brains and their hearts to make social networking more social. 🧠💖",
         "1174",
         "['en']",
         "[{'id': '1', 'text': 'Be nice to everybody always. No hate speech, slurs, or directing negativity towards others (including targeted deadnaming and misgendering).', 'hint': ''}, {'id': '5', 'text': 'Stay tasteful and legal.', 'hint': ''}, {'id': '6', 'text': 'Use content warnings when appropriate for NFSW or sensitive topics/media.', 'hint': ''}, {'id': '7', 'text': 'No companies/brands/corporations. (Individual self-promotion is allowed.)', 'hint': ''}, {'id': '9', 'text': 'English only. Due to the issues with moderating other languages, please stick to English posts/media on this server.', 'hint': ''}, {'id': '10', 'text': 'No users under 13 years of age.', 'hint': ''}]",
         "35990",
         "1619593"
        ],
        [
         "52",
         "livellosegreto.it",
         "Livello Segreto è il social etico che ha rispetto di te e del tuo tempo.",
         "1149",
         "['en']",
         "[{'id': '2', 'text': 'No al sessismo', 'hint': ''}, {'id': '3', 'text': 'No al machismo', 'hint': ''}, {'id': '4', 'text': 'No al bullismo', 'hint': ''}, {'id': '5', 'text': \"No alla queerfobia, all'omofobia, alla bifobia, alla lesbofobia, alla transfobia, alla afobia\", 'hint': ''}, {'id': '6', 'text': \"No all'abilismo\", 'hint': ''}, {'id': '7', 'text': 'No al razzismo', 'hint': ''}, {'id': '9', 'text': 'No ai bot*', 'hint': '* in generale è una regola da tenere presente, ma se il bot ha utilità per la community scrivici che si sistema tutto'}, {'id': '10', 'text': 'Usare i CW per: NSFW, SPOILER, GUERRA, POLITICA', 'hint': ''}, {'id': '11', 'text': 'Evitare bestemmie e turpiloquio eccessivo/gratuito', 'hint': ''}, {'id': '12', 'text': 'No pornografia', 'hint': ''}, {'id': '15', 'text': 'Istanza antifascista', 'hint': ''}, {'id': '16', 'text': 'No alla pubblicità e/o agli annunci commerciali (consentiti i progetti personali/indipendenti)', 'hint': ''}, {'id': '17', 'text': 'No al proselitismo religioso', 'hint': ''}]",
         "7673",
         "436687"
        ],
        [
         "53",
         "mastodon.green",
         "Plant trees while you use Mastodon. A server originally for people in the EU, but now open for anyone in the world",
         "1141",
         "['en']",
         "[{'id': '395', 'text': 'Try 30-days for free, only 1,50 € (+VAT) per month after. No algorithms or ads to waste your time. We use 20 % of membership fees to plant trees. Change your plan or cancel at any time', 'hint': ''}, {'id': '397', 'text': 'Please abide by the community standards', 'hint': ''}, {'id': '398', 'text': 'You can use any official EU language, Icelandic and Norwegian on this server', 'hint': ''}, {'id': '399', 'text': 'No sexually explicit images or video', 'hint': ''}, {'id': '400', 'text': 'No racism, sexism, homophobia, transphobia, xenophobia, or casteism', 'hint': ''}, {'id': '401', 'text': 'No incitement of violence or promotion of violent ideologies', 'hint': ''}, {'id': '402', 'text': 'No harassment, dogpiling or doxxing of other users', 'hint': ''}, {'id': '404', 'text': 'No false or misleading information', 'hint': ''}]",
         "12004",
         "1249210"
        ],
        [
         "55",
         "indieweb.social",
         "INDIEWEB.SOCIAL is an instance focused on the evolution of #Openweb, #Indieweb, #Fediverse, #Mastodon, #Humanetech and #Calm technologies. ",
         "1123",
         "['en']",
         "[{'id': '1', 'text': 'No spam or excessive self-promoting in posts.', 'hint': ''}, {'id': '2', 'text': 'No bots that are not labeled as such in their profile.', 'hint': ''}, {'id': '3', 'text': 'Keep conversations civil and respectful even in disagreement.', 'hint': ''}, {'id': '4', 'text': 'No racism, sexism, homophobia, transphobia, xenophobia, anti-Semitism, or casteism (including targeted misgendering, deadnaming, or promotion of so-called \"conversion therapy\").', 'hint': ''}, {'id': '5', 'text': 'No sexually explicit or violent posts or media allowed', 'hint': ''}, {'id': '6', 'text': 'No incitement of violence or promotion of violent ideologies', 'hint': ''}, {'id': '7', 'text': 'No illegal content.', 'hint': ''}]",
         "11825",
         "721945"
        ],
        [
         "56",
         "nerdculture.de",
         "Be excellent to each other, live humanism, no nazis, no hate speech. Not only for nerds, but the domain is somewhat cool. ;)\nNo bots in general. Languages: DE, EN, FR, NL, ES, IT",
         "1109",
         "['en']",
         "[{'id': '1', 'text': 'Be friendly and polite to each other', 'hint': ''}, {'id': '2', 'text': 'No hate speech, no discrimination of others, regardless of their age, gender, nationality or whatever', 'hint': ''}, {'id': '3', 'text': 'No spamming of any kind.', 'hint': ''}, {'id': '4', 'text': \"Don't annoy others and don't get easily annoyed by others.\", 'hint': ''}, {'id': '5', 'text': 'No advertisements of commercial products.', 'hint': ''}, {'id': '6', 'text': 'No distribution of copyrighted material.', 'hint': ''}, {'id': '7', 'text': \"Do not upload material for which you don't have the rights\", 'hint': ''}, {'id': '8', 'text': 'No automated posts by bots, except when you have permission to do so by the server admins', 'hint': ''}, {'id': '9', 'text': \"Don't abuse this service or server.\", 'hint': ''}, {'id': '10', 'text': 'Treat other how you want to be treated by them - with respect!', 'hint': ''}, {'id': '11', 'text': 'This is a service running on a private server and as a friendly user you are welcome to use this service, but in the end the server admin can cancel user accounts and will do when the user misbehaves. The admin will decide in the end. ', 'hint': ''}, {'id': '12', 'text': \"Valid mail address required! You'll receive reminder mail after 6 months of inactivity to log in again. If you don't react to those mails, your account will be deleted after 7 months of inactivity. \", 'hint': ''}, {'id': '13', 'text': 'Allowed languages are German and English as main languages while as the following languages are tolerated: Dutch, French, Spanish, Italian.', 'hint': ''}, {'id': '14', 'text': 'This service is free of cost for you.\\r\\nHowever offering this service does have cost implications. If you can afford some cents per week it would be great when you could contribute in sharing the server costs. Of course this voluntarily for you. ', 'hint': ''}, {'id': '16', 'text': \"No free-speech extremists, no far-right extremists, no nationalists. This includes people that elect or support such political parties like AfD in Germany, Fratelli d'Italia in Italy or Rassemblement National in France, etc.. If you support these parties, this instance is not for you. \", 'hint': ''}, {'id': '18', 'text': 'Alt Texts for Pictures encouraged. Please conduct descriptive texts for pictures you upload (Alt Texts). This helps visually impaired users and others enormously in their online life. ', 'hint': ''}]",
         "7163",
         "741641"
        ],
        [
         "57",
         "ieji.de",
         "ieji.de is a generalistic mastodon instance, with the goal of being the fastest mastodon instance in Europe and with a focus on user privacy, like being usable via the tor network.",
         "1105",
         "['en']",
         "[{'id': '1', 'text': 'No explicit content allowed', 'hint': ''}, {'id': '2', 'text': 'Erotic content must have content warning', 'hint': ''}, {'id': '3', 'text': 'No harassment allowed', 'hint': ''}, {'id': '4', 'text': 'No backlink accounts allowed', 'hint': ''}, {'id': '5', 'text': 'Unlawful content is forbidden', 'hint': ''}]",
         "15114",
         "417036"
        ],
        [
         "60",
         "ruby.social",
         "If you are interested in the Ruby programming language, come join us! Tell us about yourself when signing up.\n\nIf you just want to join Mastodon, another server will be a better place for you.",
         "981",
         "['en']",
         "[{'id': '2', 'text': \"No bots\\r\\n\\r\\n... unless they're cute, funny, or useful. Bots should avoid posting to the public timeline.\\r\\n\", 'hint': ''}, {'id': '3', 'text': 'No pornography or nudity, or something that would be considered \"NSFW\" in a workplace, even behind a NSFW warning. In particular, no sexual depictions of children.', 'hint': ''}, {'id': '4', 'text': \"No gore or graphic violence. Again, if you wouldn't post it at work, you definitely shouldn't be posting it here.\", 'hint': ''}, {'id': '5', 'text': 'Use content warnings. Content that is borderline NSFW or could be construed as NSFW at a glance should be put behind a CW (Content Warning)', 'hint': ''}, {'id': '6', 'text': \"No racism. This should go without saying, but unfortunately it doesn't.\", 'hint': ''}, {'id': '7', 'text': 'No sexism\\r\\n\\r\\n... or pretty much any other -ism', 'hint': ''}, {'id': '8', 'text': 'No discrimination. Any discrimination based on gender, sexual minority, sexual orientation, disability, physical appearance, body size, race, ethnicity, religion (or lack thereof), or national origin, will result in your account and content being removed.', 'hint': ''}, {'id': '9', 'text': 'No xenophobia. This includes violent nationalism.', 'hint': ''}, {'id': '11', 'text': 'No holocaust denialism. No Nazi symbolism, promotion of National Socialism, or anything that is illegal in the European Union', 'hint': ''}, {'id': '12', 'text': 'No stalking or harassment of any kind', 'hint': ''}, {'id': '13', 'text': 'No fake accounts, even celebrity joke accounts.\\r\\n\\r\\nNote this rule does not necessarily apply to remote accounts.', 'hint': ''}, {'id': '14', 'text': 'No \"follow bots.\" We block these and our instance is on a \"no bots\" list', 'hint': ''}, {'id': '15', 'text': \"No advertising or excessive promotion. By far the biggest problem we've had running this server are spam accounts that sign up only to promote some company (often nothing even to do with Ruby), and so we take a fairly strong stance against letting such accounts even register on the server now.\", 'hint': ''}]",
         "6408",
         "371187"
        ],
        [
         "61",
         "mastodon.nz",
         "A Mastodon instance hosted in New Zealand. Made for kiwis and honorary kiwis home and abroad!\n\nDonate @ https://ko-fi.com/nzfedi",
         "918",
         "['en']",
         "[{'id': '16', 'text': 'You must read the rules.', 'hint': ''}, {'id': '17', 'text': 'You MUST describe your link to NZ as part of your reason for wanting to join on the next page. Applications without this will be declined. You must be a kiwi or honorary kiwi, at home or abroad, to join Mastodon.nz.', 'hint': ''}, {'id': '18', 'text': 'You may only have one account on Mastodon.nz and be at least 13 years of age.', 'hint': ''}, {'id': '19', 'text': 'Personal accounts only. We do not allow bots, commercial, business, organisation or purely promotional accounts.', 'hint': ''}, {'id': '20', 'text': 'Automated cross-posting from other services such as twitter is considered to be a bot and is not allowed. If you have a blog or something and you want feed that through, this is generally fine.', 'hint': ''}, {'id': '21', 'text': \"No spamming. The occasional mention of your shop, fundraiser etc. is fine. It's hard to give a defined daily limit of what constitutes spam. Personal or professional (i.e. Mutual Aid/Kickstarters) fundraisers must be clearly tagged as such.\", 'hint': ''}, {'id': '22', 'text': 'Content Warnings are mandatory on posts containing gore and/or violence. Posts about politics must be tagged one or more of #nzpol, #tōrangapū, #pol, and/or #politics, and optionally may be content warned.', 'hint': ''}, {'id': '23', 'text': 'No impersonation of others. We may consider obvious parody accounts, but they must be agreed with @theMods in advance.', 'hint': ''}, {'id': '24', 'text': 'No hate speech, racism, sexism, ableism, homophobia or transphobia.', 'hint': ''}, {'id': '25', 'text': 'No illegal content, gore or violence for the sake of it, incitement of violence or promotion of violent ideologies or conspiracy theories.', 'hint': ''}, {'id': '26', 'text': \"No NSFW content. A bit of casual swearing is fine, but don't be derogatory or aggressive to other users (see rule 12).\", 'hint': ''}, {'id': '27', 'text': 'Be kind. No abuse or harassment will be tolerated. ', 'hint': ''}, {'id': '28', 'text': 'No doxxing other users.', 'hint': ''}, {'id': '29', 'text': 'Content hosted on Mastodon.nz or produced by its users may not be reused outside of the fediverse without the express permission of the author(s).', 'hint': ''}, {'id': '30', 'text': 'Mastodon.nz complies with copyright laws. We expect you to as well. Your content must be your own or acceptable use.', 'hint': ''}, {'id': '32', 'text': 'Image descriptions: It is expected that users will add image descriptions to their uploads for\\r\\nour visually impaired users. Unless there is a reason you can not, you must do so.', 'hint': ''}, {'id': '33', 'text': 'Copy of rules with more detailed guidance can be found at https://mastodon.nz/rules.pdf', 'hint': ''}]",
         "9130",
         "1239171"
        ],
        [
         "62",
         "cyberplace.social",
         "Cybersecurity, fandom, video games, technology, dog photos and most importantly, you.",
         "887",
         "['en']",
         "[{'id': '1', 'text': 'No discrimination -- including racism, sexism, homophobia or transphobia.', 'hint': ''}, {'id': '2', 'text': 'No incitement of violence or promotion of violent ideologies.', 'hint': ''}, {'id': '3', 'text': 'No impersonation of a person or brand.  Even parodies.', 'hint': ''}, {'id': '4', 'text': \"Spam. Don't join if you just want to spam links to things you represent.\", 'hint': ''}, {'id': '5', 'text': 'No attacking or pentesting of this instance, or any other instance.', 'hint': ''}, {'id': '6', 'text': 'Each username on here should be a person, not a brand or corporation - and that person must be you, no impersonation.', 'hint': ''}, {'id': '7', 'text': \"Do not join to primarily publicise or promote 'red team' tools.\", 'hint': ''}, {'id': '9', 'text': 'No porn or nudity.', 'hint': ''}, {'id': '10', 'text': 'No posting identifiable personal information from data breaches.', 'hint': ''}, {'id': '11', 'text': 'You cannot join if you are under 18 years old. ', 'hint': 'You must be an adult to use this service. '}]",
         "11320",
         "124630"
        ],
        [
         "63",
         "mastodon.bida.im",
         "Un'istanza mastodon antifascista. autogestita, italofona con base a Bologna. Rispettosa di privacy e anonimato.",
         "867",
         "['en']",
         "[]",
         "21203",
         "976576"
        ],
        [
         "66",
         "phpc.social",
         "A server for PHP programmers & friends. Join us for discussions on the PHP programming language, frameworks, packages, tools, open source, tech, life, and more.",
         "754",
         "['en']",
         "[{'id': '7', 'text': 'No sexually explicit or violent media', 'hint': ''}, {'id': '8', 'text': 'No racism, sexism, homophobia, transphobia, xenophobia, or casteism', 'hint': ''}, {'id': '9', 'text': 'No incitement of violence or promotion of violent ideologies', 'hint': ''}, {'id': '10', 'text': 'No harassment, dogpiling or doxxing of other users', 'hint': ''}, {'id': '11', 'text': 'No content illegal in Germany, France, or the United Kingdom', 'hint': ''}]",
         "5115",
         "341161"
        ],
        [
         "67",
         "metalhead.club",
         "Metalhead.club is a Mastodon instance hosted in Germany and powered by 100% green energy.",
         "747",
         "['en']",
         "[{'id': '1', 'text': 'No pornography', 'hint': ''}, {'id': '3', 'text': 'No insulting / hate speech', 'hint': ''}, {'id': '4', 'text': 'No racism', 'hint': ''}, {'id': '5', 'text': 'No extremist political content', 'hint': ''}, {'id': '6', 'text': 'This server is for humans, not for bots! If you intend to bulk-send posts, this instance is not for you. (use botsin.space)', 'hint': ''}, {'id': '7', 'text': 'Upload / distribute only content that you have permission for.', 'hint': ''}, {'id': '8', 'text': 'No ads, except for featuring your own creative Metal music content (music, articles, reviews, ...)', 'hint': ''}, {'id': '10', 'text': 'Misusing unrelated hashtags on posts for better visibility is prohibited ', 'hint': ''}]",
         "5776",
         "618849"
        ],
        [
         "70",
         "masto.nu",
         "General purpose Mastodon server. All languages are welcome but English, Dutch and Spanish are preferred.",
         "725",
         "['en']",
         "[{'id': '7', 'text': 'No harassment, dogpiling or doxxing of other users.', 'hint': ''}, {'id': '8', 'text': 'No impersonation of other people, companies, organizations, brands, etc.', 'hint': ''}, {'id': '9', 'text': 'No racism, sexism, homophobia, transphobia, xenophobia, or casteism.', 'hint': ''}, {'id': '10', 'text': 'No incitement of violence or advocacy of violent acts/ideologies.', 'hint': ''}, {'id': '11', 'text': 'No advertising, spam or excessive promotion.', 'hint': ''}, {'id': '12', 'text': 'No sexually explicit or graphically violent media.', 'hint': ''}, {'id': '13', 'text': 'No intentionally false or misleading information.', 'hint': ''}, {'id': '14', 'text': 'No illegal or unlawful content', 'hint': ''}, {'id': '15', 'text': 'Content created by others must be attributed, and the use of AI must be disclosed. Profiles that only post AI-generated content will not be tolerated.', 'hint': ''}]",
         "24284",
         "93810"
        ],
        [
         "73",
         "mstdn.business",
         "Business-friendly Mastodon server,open for everyone interested to contribute with their real name, business, brand, or startup to build a professional community. Hosted on Hetzner Cloud in Helsinki.",
         "699",
         "['en']",
         "[{'id': '2', 'text': 'No NSFW or illegal content.'}, {'id': '3', 'text': 'No racism, sexism, homophobia, transphobia, or xenophobia.'}, {'id': '4', 'text': 'Do not share intentionally false or misleading information.'}, {'id': '5', 'text': 'No spam or excessive promotion.'}, {'id': '6', 'text': 'Brands are welcome. For personal accounts use your real name.'}]",
         "27114",
         "238876"
        ]
       ],
       "shape": {
        "columns": 7,
        "rows": 234
       }
      },
      "text/html": [
       "<div>\n",
       "<style scoped>\n",
       "    .dataframe tbody tr th:only-of-type {\n",
       "        vertical-align: middle;\n",
       "    }\n",
       "\n",
       "    .dataframe tbody tr th {\n",
       "        vertical-align: top;\n",
       "    }\n",
       "\n",
       "    .dataframe thead th {\n",
       "        text-align: right;\n",
       "    }\n",
       "</style>\n",
       "<table border=\"1\" class=\"dataframe\">\n",
       "  <thead>\n",
       "    <tr style=\"text-align: right;\">\n",
       "      <th></th>\n",
       "      <th>domain</th>\n",
       "      <th>description</th>\n",
       "      <th>active_month</th>\n",
       "      <th>languages</th>\n",
       "      <th>rules</th>\n",
       "      <th>total_users</th>\n",
       "      <th>total_posts</th>\n",
       "    </tr>\n",
       "  </thead>\n",
       "  <tbody>\n",
       "    <tr>\n",
       "      <th>0</th>\n",
       "      <td>mastodon.social</td>\n",
       "      <td>The original server operated by the Mastodon g...</td>\n",
       "      <td>327503</td>\n",
       "      <td>[en]</td>\n",
       "      <td>[{'id': '1', 'text': 'Sexually explicit or vio...</td>\n",
       "      <td>2711879</td>\n",
       "      <td>129725014</td>\n",
       "    </tr>\n",
       "    <tr>\n",
       "      <th>1</th>\n",
       "      <td>mstdn.social</td>\n",
       "      <td>A general-purpose Mastodon server with a 500 c...</td>\n",
       "      <td>14546</td>\n",
       "      <td>[en]</td>\n",
       "      <td>[{'id': '2', 'text': 'Sexually explicit or vio...</td>\n",
       "      <td>260323</td>\n",
       "      <td>19904208</td>\n",
       "    </tr>\n",
       "    <tr>\n",
       "      <th>2</th>\n",
       "      <td>infosec.exchange</td>\n",
       "      <td>A Mastodon instance for info/cyber security-mi...</td>\n",
       "      <td>13319</td>\n",
       "      <td>[en]</td>\n",
       "      <td>[{'id': '1', 'text': 'Do unto others as you th...</td>\n",
       "      <td>75725</td>\n",
       "      <td>4296664</td>\n",
       "    </tr>\n",
       "    <tr>\n",
       "      <th>3</th>\n",
       "      <td>mas.to</td>\n",
       "      <td>Hello! mas.to is a fast, up-to-date and fun Ma...</td>\n",
       "      <td>11889</td>\n",
       "      <td>[en]</td>\n",
       "      <td>[{'id': '9', 'text': 'No discrimination, inclu...</td>\n",
       "      <td>183608</td>\n",
       "      <td>10834206</td>\n",
       "    </tr>\n",
       "    <tr>\n",
       "      <th>4</th>\n",
       "      <td>mastodon.world</td>\n",
       "      <td>Generic Mastodon server for anyone to use.</td>\n",
       "      <td>9472</td>\n",
       "      <td>[en]</td>\n",
       "      <td>[{'id': '16', 'text': 'No illegal content, e.g...</td>\n",
       "      <td>191710</td>\n",
       "      <td>7158644</td>\n",
       "    </tr>\n",
       "    <tr>\n",
       "      <th>...</th>\n",
       "      <td>...</td>\n",
       "      <td>...</td>\n",
       "      <td>...</td>\n",
       "      <td>...</td>\n",
       "      <td>...</td>\n",
       "      <td>...</td>\n",
       "      <td>...</td>\n",
       "    </tr>\n",
       "    <tr>\n",
       "      <th>321</th>\n",
       "      <td>darticulate.com</td>\n",
       "      <td>A Mastodon instance for Dartisans, run by myse...</td>\n",
       "      <td>10</td>\n",
       "      <td>[en]</td>\n",
       "      <td>[{'id': '2', 'text': 'This server is intended ...</td>\n",
       "      <td>43</td>\n",
       "      <td>22</td>\n",
       "    </tr>\n",
       "    <tr>\n",
       "      <th>322</th>\n",
       "      <td>dariox.club</td>\n",
       "      <td>A safe space for tech-centered LGBTQI+ folks a...</td>\n",
       "      <td>9</td>\n",
       "      <td>[en]</td>\n",
       "      <td>[{'id': '2', 'text': 'No illegal content', 'hi...</td>\n",
       "      <td>150</td>\n",
       "      <td>3872</td>\n",
       "    </tr>\n",
       "    <tr>\n",
       "      <th>326</th>\n",
       "      <td>kjas.no</td>\n",
       "      <td>Server for brukere med litt ekstra interesse f...</td>\n",
       "      <td>3</td>\n",
       "      <td>[en]</td>\n",
       "      <td>[{'id': '1', 'text': 'Vær ålreit med hverandre...</td>\n",
       "      <td>24</td>\n",
       "      <td>284</td>\n",
       "    </tr>\n",
       "    <tr>\n",
       "      <th>327</th>\n",
       "      <td>jaxbeach.social</td>\n",
       "      <td>Local server based in Jacksonville Beach Flori...</td>\n",
       "      <td>3</td>\n",
       "      <td>[en]</td>\n",
       "      <td>[{'id': '1', 'text': 'No Illegal content', 'hi...</td>\n",
       "      <td>17</td>\n",
       "      <td>37</td>\n",
       "    </tr>\n",
       "    <tr>\n",
       "      <th>329</th>\n",
       "      <td>wxw.moe</td>\n",
       "      <td>一个萌萌哒 泛ACGN 实例，欢迎安家 ~</td>\n",
       "      <td>3381</td>\n",
       "      <td>[en]</td>\n",
       "      <td>[{'id': '67', 'text': '拒绝真人不雅内容 / No inappropr...</td>\n",
       "      <td>23662</td>\n",
       "      <td>11945471</td>\n",
       "    </tr>\n",
       "  </tbody>\n",
       "</table>\n",
       "<p>234 rows × 7 columns</p>\n",
       "</div>"
      ],
      "text/plain": [
       "               domain                                        description  \\\n",
       "0     mastodon.social  The original server operated by the Mastodon g...   \n",
       "1        mstdn.social  A general-purpose Mastodon server with a 500 c...   \n",
       "2    infosec.exchange  A Mastodon instance for info/cyber security-mi...   \n",
       "3              mas.to  Hello! mas.to is a fast, up-to-date and fun Ma...   \n",
       "4      mastodon.world         Generic Mastodon server for anyone to use.   \n",
       "..                ...                                                ...   \n",
       "321   darticulate.com  A Mastodon instance for Dartisans, run by myse...   \n",
       "322       dariox.club  A safe space for tech-centered LGBTQI+ folks a...   \n",
       "326           kjas.no  Server for brukere med litt ekstra interesse f...   \n",
       "327   jaxbeach.social  Local server based in Jacksonville Beach Flori...   \n",
       "329           wxw.moe                              一个萌萌哒 泛ACGN 实例，欢迎安家 ~   \n",
       "\n",
       "     active_month languages  \\\n",
       "0          327503      [en]   \n",
       "1           14546      [en]   \n",
       "2           13319      [en]   \n",
       "3           11889      [en]   \n",
       "4            9472      [en]   \n",
       "..            ...       ...   \n",
       "321            10      [en]   \n",
       "322             9      [en]   \n",
       "326             3      [en]   \n",
       "327             3      [en]   \n",
       "329          3381      [en]   \n",
       "\n",
       "                                                 rules  total_users  \\\n",
       "0    [{'id': '1', 'text': 'Sexually explicit or vio...      2711879   \n",
       "1    [{'id': '2', 'text': 'Sexually explicit or vio...       260323   \n",
       "2    [{'id': '1', 'text': 'Do unto others as you th...        75725   \n",
       "3    [{'id': '9', 'text': 'No discrimination, inclu...       183608   \n",
       "4    [{'id': '16', 'text': 'No illegal content, e.g...       191710   \n",
       "..                                                 ...          ...   \n",
       "321  [{'id': '2', 'text': 'This server is intended ...           43   \n",
       "322  [{'id': '2', 'text': 'No illegal content', 'hi...          150   \n",
       "326  [{'id': '1', 'text': 'Vær ålreit med hverandre...           24   \n",
       "327  [{'id': '1', 'text': 'No Illegal content', 'hi...           17   \n",
       "329  [{'id': '67', 'text': '拒绝真人不雅内容 / No inappropr...        23662   \n",
       "\n",
       "     total_posts  \n",
       "0      129725014  \n",
       "1       19904208  \n",
       "2        4296664  \n",
       "3       10834206  \n",
       "4        7158644  \n",
       "..           ...  \n",
       "321           22  \n",
       "322         3872  \n",
       "326          284  \n",
       "327           37  \n",
       "329     11945471  \n",
       "\n",
       "[234 rows x 7 columns]"
      ]
     },
     "execution_count": 53,
     "metadata": {},
     "output_type": "execute_result"
    }
   ],
   "source": [
    "df_mastodon1_en"
   ]
  },
  {
   "cell_type": "code",
   "execution_count": null,
   "id": "e2237b7d",
   "metadata": {},
   "outputs": [],
   "source": []
  },
  {
   "cell_type": "markdown",
   "id": "2c7d96f4",
   "metadata": {},
   "source": [
    "### First Mastodon dataset"
   ]
  },
  {
   "cell_type": "code",
   "execution_count": 54,
   "id": "35d57cf6",
   "metadata": {},
   "outputs": [
    {
     "data": {
      "application/vnd.microsoft.datawrangler.viewer.v0+json": {
       "columns": [
        {
         "name": "index",
         "rawType": "int64",
         "type": "integer"
        },
        {
         "name": "server_id",
         "rawType": "int64",
         "type": "integer"
        },
        {
         "name": "rule_id",
         "rawType": "object",
         "type": "string"
        },
        {
         "name": "text",
         "rawType": "object",
         "type": "string"
        },
        {
         "name": "hint",
         "rawType": "object",
         "type": "unknown"
        }
       ],
       "conversionMethod": "pd.DataFrame",
       "ref": "a0d32737-7085-4f9a-bccc-4b1dd83f5c79",
       "rows": [
        [
         "0",
         "0",
         "1",
         "Sexually explicit or violent media must be marked as sensitive or with a content warning",
         "This includes content that is particularly provocative even if it may not show specific body parts, as well as dead bodies, bloody injuries, and other gore. Particularly obscene content may be prohibited entirely. Profile pictures and header images may not contain sexually explicit or violent media."
        ],
        [
         "1",
         "0",
         "2",
         "No racism, sexism, homophobia, transphobia, ableism, xenophobia, or casteism.",
         "Transphobic behavior such as intentional misgendering and deadnaming is strictly prohibited. Promotion of \"conversion therapy\" is strictly prohibited. Criticism of governments and religions is permissible unless being used as a proxy for discrimination."
        ],
        [
         "2",
         "0",
         "3",
         "No incitement of violence or promotion of violent ideologies",
         "Calling for people or groups to be assassinated, murdered, or attacked physically is strictly prohibited. Support for violent groups or events is prohibited."
        ],
        [
         "3",
         "0",
         "4",
         "No harassment, block evasion, dogpiling, or doxxing of others",
         "Repeat attempts to communicate with users who have blocked you or creation of accounts solely to harass or insult individuals is strictly prohibited. Coordinated activity to attack other users is prohibited. Posting of private personal information about others is prohibited."
        ],
        [
         "4",
         "0",
         "7",
         "Do not share information widely-known to be false and misleading",
         "False and misleading information and links from low-quality sources may not be posted, especially if they are likely to mislead or confuse others or endanger their safety."
        ],
        [
         "5",
         "0",
         "1008",
         "Content created by others must be attributed, and use of generative AI must be disclosed",
         "Content created by others must clearly provide a reference to the author, creator, or source. For adult content, this should include performers. Accounts may not solely post AI-generated content."
        ],
        [
         "6",
         "1",
         "2",
         "Sexually explicit or violent media must be marked as sensitive when posting.",
         ""
        ],
        [
         "7",
         "1",
         "3",
         "No spam or advertising.",
         ""
        ],
        [
         "8",
         "1",
         "4",
         "No racism, sexism, homophobia, transphobia, xenophobia, or casteism.",
         ""
        ],
        [
         "9",
         "1",
         "5",
         "No incitement of violence or promotion of violent ideologies.",
         ""
        ],
        [
         "10",
         "1",
         "6",
         "No harassment, dogpiling or doxxing of other users.",
         ""
        ],
        [
         "11",
         "1",
         "7",
         "No illegal content.",
         ""
        ],
        [
         "12",
         "1",
         "11",
         "No spreading of fake news or misinformation",
         ""
        ],
        [
         "13",
         "1",
         "12",
         "Content created by others must be attributed, and use of AI must be disclosed. Profiles that only post AI-generated content will not be tolerated.",
         ""
        ],
        [
         "14",
         "2",
         "1",
         "Do unto others as you think they would want done to them.  ",
         ""
        ],
        [
         "15",
         "2",
         "2",
         "Mark sensitive content with a content warning.  ",
         ""
        ],
        [
         "16",
         "2",
         "3",
         "Gratuitous obscenity that serves no practical benefit to a discussion is not permitted.",
         ""
        ],
        [
         "17",
         "2",
         "4",
         "Illegal content such as child pornography, unsurprisingly, is not permitted",
         ""
        ],
        [
         "18",
         "2",
         "5",
         "Spam is not permitted, this includes creating spam accounts that only serve to provide profile links or advertise products and services. ",
         ""
        ],
        [
         "19",
         "2",
         "6",
         "Hate speech and abusive or threatening behavior is not permitted, specifically that which directed at any gender, nationality, religion, race, age, pizza topping preference, or sexual identity.  One can hate on systemd all day long here.",
         ""
        ],
        [
         "20",
         "2",
         "7",
         "Lack of a specific rule against a certain behavior does not indicate acceptance of that behavior.  Each of us has a limited amount of time in this world.  Don't be a jerk.  ",
         ""
        ],
        [
         "21",
         "2",
         "8",
         "Violating one or more of these rules may result in an immediate, permanent ban without notice or warning.  ",
         ""
        ],
        [
         "22",
         "2",
         "9",
         "You may not impersonate a person or brand without a clear indication the account is unofficial and/or a parody. Parody accounts are permitted, as are legitimate brand accounts. ",
         ""
        ],
        [
         "23",
         "2",
         "11",
         "No attacks against (or from) the instance.\r\n\r\nYou may not do anything which may impact confidentiality, integrity or availability of Infosec.Exchange, the users of the service or their data.\r\nFor more details see https://wiki.infosec.exchange/rules/start",
         ""
        ],
        [
         "24",
         "2",
         "12",
         "No doxing (aka doxxing) or disclosing personal information without consent and as a means of harassing or causing others to harass another person.",
         ""
        ],
        [
         "25",
         "2",
         "13",
         "No harassment in the form of continued engagement after a person has requested contact to stop",
         ""
        ],
        [
         "26",
         "2",
         "14",
         "Automated posting:\r\n- accounts that post >50% using automation must be labeled as a “bot” in the user profile to help provide a visual indicator to visitors\r\n- automated posts must be limited to one post per hour/24 per day with post visibility set to “public”. There is no limit on “unlisted” posts.",
         ""
        ],
        [
         "27",
         "2",
         "15",
         "Soliciting or inciting violence or harm against a person or segment of people is not permitted. ",
         ""
        ],
        [
         "28",
         "3",
         "9",
         "No discrimination, including (but not limited to) racism, sexism, homophobia or transphobia (including targeted misgendering, deadnaming, or promotion of so-called 'conversion therapy').",
         ""
        ],
        [
         "29",
         "3",
         "10",
         "No explicit (NSFW) content without content warnings and/or sensitive media markers. Explicit content must not be used in user avatars or header images.",
         ""
        ],
        [
         "30",
         "3",
         "17",
         "No harassment of other users on this or other servers.",
         ""
        ],
        [
         "31",
         "3",
         "18",
         "No content illegal in the following countries: United Kingdom, Germany",
         ""
        ],
        [
         "32",
         "3",
         "19",
         "No incitement of violence or promotion of violent ideologies.",
         ""
        ],
        [
         "33",
         "3",
         "20",
         "No disinformation regarding public health issues or political/military campaigns.",
         ""
        ],
        [
         "34",
         "3",
         "21",
         "No spam. This includes commercial advertising, promotion of services, and SEO.",
         ""
        ],
        [
         "35",
         "3",
         "22",
         "No impersonation of other individuals, public figures or organisations, unless clearly marked as a parody.",
         ""
        ],
        [
         "36",
         "3",
         "23",
         "All automated (bot) accounts must enable the bot flag in their account preferences, respect #nobot markers, and post as unlisted unless making less than one post per hour.",
         ""
        ],
        [
         "37",
         "4",
         "16",
         "No illegal content, e.g. child pornography, solicitation of illegal services, etc…",
         ""
        ],
        [
         "38",
         "4",
         "17",
         "No posts or links to content supporting, featuring, or promoting hate groups, terrorism, mass violence or calls to violence.",
         ""
        ],
        [
         "39",
         "4",
         "18",
         "No posts or comments supporting or promoting QAnon related content or similarly disproven conspiracy theories. Moderators have sole discretion to decide if a post violates this rule. Birds are real. The Earth is round. Get over it.",
         ""
        ],
        [
         "40",
         "4",
         "19",
         "No posts or links featuring sexualized depictions of minors, whether photographic, written, drawn, anthropomorphic or animated.",
         ""
        ],
        [
         "41",
         "4",
         "20",
         "No pornography featuring depictions of rape or non-consensual violence.",
         ""
        ],
        [
         "42",
         "4",
         "21",
         "A Content Warning must always be used when posting all other pornographic, erotic or NSFW content, whether photographic, written, drawn or animated.",
         ""
        ],
        [
         "43",
         "4",
         "22",
         "No racism.",
         ""
        ],
        [
         "44",
         "4",
         "23",
         "No visual content depicting executions, murder, suicide, dismemberment, visible innards, excessive gore, or charred bodies. All other violent imagery requires a Content Warning.",
         ""
        ],
        [
         "45",
         "4",
         "24",
         "No visual content depicting animal abuse. All other posts related to animal abuse require a Content Warning.",
         ""
        ],
        [
         "46",
         "4",
         "25",
         "No posting of malicious links.",
         ""
        ],
        [
         "47",
         "4",
         "26",
         "No Spam (see General Guidance below).",
         ""
        ],
        [
         "48",
         "4",
         "27",
         "No threats, bullying or attacks on an individual or group.",
         ""
        ],
        [
         "49",
         "4",
         "28",
         "No encouragement or promotion of self-harm.",
         ""
        ]
       ],
       "shape": {
        "columns": 4,
        "rows": 1912
       }
      },
      "text/html": [
       "<div>\n",
       "<style scoped>\n",
       "    .dataframe tbody tr th:only-of-type {\n",
       "        vertical-align: middle;\n",
       "    }\n",
       "\n",
       "    .dataframe tbody tr th {\n",
       "        vertical-align: top;\n",
       "    }\n",
       "\n",
       "    .dataframe thead th {\n",
       "        text-align: right;\n",
       "    }\n",
       "</style>\n",
       "<table border=\"1\" class=\"dataframe\">\n",
       "  <thead>\n",
       "    <tr style=\"text-align: right;\">\n",
       "      <th></th>\n",
       "      <th>server_id</th>\n",
       "      <th>rule_id</th>\n",
       "      <th>text</th>\n",
       "      <th>hint</th>\n",
       "    </tr>\n",
       "  </thead>\n",
       "  <tbody>\n",
       "    <tr>\n",
       "      <th>0</th>\n",
       "      <td>0</td>\n",
       "      <td>1</td>\n",
       "      <td>Sexually explicit or violent media must be mar...</td>\n",
       "      <td>This includes content that is particularly pro...</td>\n",
       "    </tr>\n",
       "    <tr>\n",
       "      <th>1</th>\n",
       "      <td>0</td>\n",
       "      <td>2</td>\n",
       "      <td>No racism, sexism, homophobia, transphobia, ab...</td>\n",
       "      <td>Transphobic behavior such as intentional misge...</td>\n",
       "    </tr>\n",
       "    <tr>\n",
       "      <th>2</th>\n",
       "      <td>0</td>\n",
       "      <td>3</td>\n",
       "      <td>No incitement of violence or promotion of viol...</td>\n",
       "      <td>Calling for people or groups to be assassinate...</td>\n",
       "    </tr>\n",
       "    <tr>\n",
       "      <th>3</th>\n",
       "      <td>0</td>\n",
       "      <td>4</td>\n",
       "      <td>No harassment, block evasion, dogpiling, or do...</td>\n",
       "      <td>Repeat attempts to communicate with users who ...</td>\n",
       "    </tr>\n",
       "    <tr>\n",
       "      <th>4</th>\n",
       "      <td>0</td>\n",
       "      <td>7</td>\n",
       "      <td>Do not share information widely-known to be fa...</td>\n",
       "      <td>False and misleading information and links fro...</td>\n",
       "    </tr>\n",
       "    <tr>\n",
       "      <th>...</th>\n",
       "      <td>...</td>\n",
       "      <td>...</td>\n",
       "      <td>...</td>\n",
       "      <td>...</td>\n",
       "    </tr>\n",
       "    <tr>\n",
       "      <th>1912</th>\n",
       "      <td>329</td>\n",
       "      <td>77</td>\n",
       "      <td>③ 同意呜呜站的社区规则？/ Do you agree with the community...</td>\n",
       "      <td></td>\n",
       "    </tr>\n",
       "    <tr>\n",
       "      <th>1913</th>\n",
       "      <td>329</td>\n",
       "      <td>78</td>\n",
       "      <td>🌸 缺项或错误将被拒绝 ... / Incomplete or nonsensical re...</td>\n",
       "      <td></td>\n",
       "    </tr>\n",
       "    <tr>\n",
       "      <th>1914</th>\n",
       "      <td>329</td>\n",
       "      <td>79</td>\n",
       "      <td>详细社区规则见： / For detailed community rules, pleas...</td>\n",
       "      <td></td>\n",
       "    </tr>\n",
       "    <tr>\n",
       "      <th>1915</th>\n",
       "      <td>329</td>\n",
       "      <td>80</td>\n",
       "      <td>https://wxw.moe/about</td>\n",
       "      <td></td>\n",
       "    </tr>\n",
       "    <tr>\n",
       "      <th>1916</th>\n",
       "      <td>329</td>\n",
       "      <td>82</td>\n",
       "      <td>使用本站代表您同意了这些规则与政策，注册前请务必仔细阅读！/ By using this i...</td>\n",
       "      <td></td>\n",
       "    </tr>\n",
       "  </tbody>\n",
       "</table>\n",
       "<p>1912 rows × 4 columns</p>\n",
       "</div>"
      ],
      "text/plain": [
       "      server_id rule_id                                               text  \\\n",
       "0             0       1  Sexually explicit or violent media must be mar...   \n",
       "1             0       2  No racism, sexism, homophobia, transphobia, ab...   \n",
       "2             0       3  No incitement of violence or promotion of viol...   \n",
       "3             0       4  No harassment, block evasion, dogpiling, or do...   \n",
       "4             0       7  Do not share information widely-known to be fa...   \n",
       "...         ...     ...                                                ...   \n",
       "1912        329      77  ③ 同意呜呜站的社区规则？/ Do you agree with the community...   \n",
       "1913        329      78  🌸 缺项或错误将被拒绝 ... / Incomplete or nonsensical re...   \n",
       "1914        329      79  详细社区规则见： / For detailed community rules, pleas...   \n",
       "1915        329      80                              https://wxw.moe/about   \n",
       "1916        329      82  使用本站代表您同意了这些规则与政策，注册前请务必仔细阅读！/ By using this i...   \n",
       "\n",
       "                                                   hint  \n",
       "0     This includes content that is particularly pro...  \n",
       "1     Transphobic behavior such as intentional misge...  \n",
       "2     Calling for people or groups to be assassinate...  \n",
       "3     Repeat attempts to communicate with users who ...  \n",
       "4     False and misleading information and links fro...  \n",
       "...                                                 ...  \n",
       "1912                                                     \n",
       "1913                                                     \n",
       "1914                                                     \n",
       "1915                                                     \n",
       "1916                                                     \n",
       "\n",
       "[1912 rows x 4 columns]"
      ]
     },
     "execution_count": 54,
     "metadata": {},
     "output_type": "execute_result"
    }
   ],
   "source": [
    "rules = df_mastodon1_en[['rules']].explode('rules').reset_index(drop=False)\n",
    "rules = rules.rename(columns={\"index\": \"server_id\"})\n",
    "rules = rules.dropna()\n",
    "rules = pd.concat([rules.drop(['rules'], axis=1), rules['rules'].apply(pd.Series)], axis=1)\n",
    "rules = rules.rename(columns={'id': \"rule_id\"})\n",
    "rules"
   ]
  },
  {
   "cell_type": "code",
   "execution_count": 55,
   "id": "9de3133d",
   "metadata": {},
   "outputs": [
    {
     "name": "stdout",
     "output_type": "stream",
     "text": [
      " We removed 499 of the 1912 rules (26%) that were not detected to be in english.\n"
     ]
    }
   ],
   "source": [
    "# remove rules that are not written in english\n",
    "df_english = rules[rules['text'].apply(is_english)].reset_index(drop=True)\n",
    "\n",
    "non_english_rules_pourcentage = 100 * (rules.shape[0] - df_english.shape[0]) / rules.shape[0]\n",
    "\n",
    "print(f\" We removed {rules.shape[0] - df_english.shape[0]} of the {rules.shape[0]} rules ({non_english_rules_pourcentage:.0f}%) that were not detected to be in english.\")"
   ]
  },
  {
   "cell_type": "code",
   "execution_count": 56,
   "id": "0f89e918",
   "metadata": {},
   "outputs": [
    {
     "name": "stdout",
     "output_type": "stream",
     "text": [
      "188 servers have their description in english;\n",
      "46 servers have their description in another language.\n"
     ]
    },
    {
     "data": {
      "application/vnd.microsoft.datawrangler.viewer.v0+json": {
       "columns": [
        {
         "name": "index",
         "rawType": "int64",
         "type": "integer"
        },
        {
         "name": "server_id",
         "rawType": "int64",
         "type": "integer"
        },
        {
         "name": "rule_id",
         "rawType": "object",
         "type": "string"
        },
        {
         "name": "text",
         "rawType": "object",
         "type": "string"
        },
        {
         "name": "hint",
         "rawType": "object",
         "type": "string"
        }
       ],
       "conversionMethod": "pd.DataFrame",
       "ref": "289c58a9-3e92-48ad-b20c-88f7fac51fac",
       "rows": [
        [
         "215",
         "48",
         "12",
         "Treat others with respect",
         "Avoid any form of insult, bullying, or discrimination, including but not limited to racist, sexist, homophobic, transphobic, anti-Semitic, and misogynistic statements or actions against others."
        ],
        [
         "216",
         "48",
         "15",
         "Comply with applicable law",
         "Do not publish any illegal content."
        ],
        [
         "217",
         "48",
         "16",
         "Avoid misinformation",
         "Do not share false or misleading information."
        ],
        [
         "218",
         "48",
         "19",
         "Mark sensitive content (CW)",
         "Please mark any content that may contain common triggers, is sexually explicit or violent as sensitive (CW) to ensure the safety of other members. Note: Accounts that exclusively post such content may be limited or banned."
        ],
        [
         "219",
         "48",
         "20",
         "You must be older than 16 years",
         "According to European law, you must be at least 16 years old to use this instance."
        ],
        [
         "230",
         "52",
         "3",
         "No al machismo",
         ""
        ],
        [
         "231",
         "52",
         "9",
         "No ai bot*",
         "* in generale è una regola da tenere presente, ma se il bot ha utilità per la community scrivici che si sistema tutto"
        ],
        [
         "326",
         "74",
         "11",
         "All content must comply with all applicable laws, including but not limited to laws regarding intellectual property, data privacy, and prohibited content.",
         ""
        ],
        [
         "327",
         "74",
         "19",
         "All content must comply with our Code of Conduct and related Terms of Service located at https://blogs.toot.wales/toot/twt-community-code-of-conduct",
         ""
        ],
        [
         "328",
         "74",
         "26",
         "All content must comply with applicable policies (Automated and Bot Content Policy, Federation Policy, News Media Publishing Policy, Spam and Inauthentic Activity) located at https://blogs.toot.wales/toot/croeso-i-twt",
         ""
        ],
        [
         "492",
         "124",
         "18",
         "NO ACCOUNTS OF CASINO, BITCOIN, LOTTO or any gambling else, NO ACCOUNTS OF NON-EUROPEAN LANGUAGE (non latin letters) WILL BE APPEROVED !!!! Any Spamming accounts are DELETED IMMEDETELY!!",
         ""
        ],
        [
         "493",
         "124",
         "19",
         "All registrations of users using non-european letters will be DELETED immediately",
         ""
        ],
        [
         "494",
         "124",
         "20",
         "All registrations of bet- platforms or any other spam platforms (esp. vietnamese, thai, chinese, russian ) will be DELETED immediately",
         ""
        ],
        [
         "495",
         "124",
         "21",
         "All obviously only-commercial registrations obviously without any benefit for the community will be DELETED immediately !",
         ""
        ],
        [
         "496",
         "124",
         "22",
         "ONLY BERLIN (Germany) related users accepted! Please write a full, MEANINGFUL  sentence in a EUROPEAN language with latin letters about YOUR reseon to chose this Berlin (Germany) related server. Commercial users ONLY from Berlin (Germany) will be accepted. SPAMMING users are deleted IMMEDIATELY ",
         ""
        ],
        [
         "497",
         "124",
         "23",
         "ANY Promotion for fashism and its stuff (eg.g. Putin, Trump, Musk, AfD will cause deletion of the promoting account. ",
         ""
        ],
        [
         "780",
         "176",
         "21",
         "Don't be an asshole. You have an opinion? That's fine, but please don't offend anyone with what you say.",
         ""
        ],
        [
         "781",
         "176",
         "23",
         "Harassment, stalking, doxxing, transmisogyny, dogpiling, racism, sexism, hate speech, abuse or the endorse thereof, and generally disciminatory behaviour will not be tolerated.",
         ""
        ],
        [
         "782",
         "176",
         "25",
         "Violent nationalist propaganda, Nazi symbolism or promotion of Nazu ideology are forbidden.",
         ""
        ],
        [
         "783",
         "176",
         "27",
         "No calls for violence.",
         ""
        ],
        [
         "784",
         "176",
         "29",
         "Content that is illegal in Germany, sexual content or depictions of violence are prohibited.",
         ""
        ],
        [
         "785",
         "176",
         "31",
         "Languages within this instance are German or English only.",
         ""
        ],
        [
         "786",
         "176",
         "35",
         "If you want to create an NSFW-only account, consider another instance. We are probably not suitable for you.",
         ""
        ],
        [
         "787",
         "176",
         "37",
         "No advertisements. Bots only after talking with AND OK from the admins.",
         ""
        ],
        [
         "788",
         "176",
         "39",
         "Use content warnings for corresponding text/image content, many things that you take for granted can trigger others negatively.",
         ""
        ],
        [
         "800",
         "180",
         "12",
         "(EN): Upon creating an account, it is required to introduce oneself using the hashtag #introduction in one's post. (PL): Po utworzeniu konta, wymagane jest przedstawienie się z wykorzystaniem hasztagu #introduction w swoim toot'cie.",
         ""
        ],
        [
         "900",
         "210",
         "8",
         "No discriminatory behaviour and content promoting or advocating the oppression of members of marginalised groups.",
         ""
        ],
        [
         "901",
         "210",
         "9",
         "No threatening behaviour, stalking, doxxing, mobbing, including name-calling, intentional misgendering or deadnaming.",
         ""
        ],
        [
         "902",
         "210",
         "10",
         "No harassment, including brigading, dogpiling, or any other form of contact with a user who has stated that they do not wish to be contacted.",
         ""
        ],
        [
         "903",
         "210",
         "12",
         "No conspiracy narratives, nationalist propaganda, reactionary myths, Nazi symbolism or promoting the ideology of National Socialism.",
         ""
        ],
        [
         "904",
         "210",
         "17",
         "Do not publish private conversations, except to the moderation team if you need to report them. ",
         ""
        ],
        [
         "905",
         "210",
         "18",
         "No corporate accounts, no excessive advertising, no bots, or automated crossposters from other networks. ",
         ""
        ],
        [
         "906",
         "210",
         "19",
         "Use content warnings (CW) for sexually explicit or violent media and other content that might be common triggers. ",
         ""
        ],
        [
         "907",
         "210",
         "21",
         "No illegal content. Abide by laws. ",
         ""
        ],
        [
         "908",
         "210",
         "54",
         "You agree to our complete Code of Conduct (toot.si/about) ",
         ""
        ],
        [
         "931",
         "218",
         "1",
         "No illegal stuff according to Belgian law",
         ""
        ],
        [
         "932",
         "218",
         "2",
         "No spamming, which includes using our instance for referencing",
         ""
        ],
        [
         "933",
         "218",
         "3",
         "Be respectful to other people",
         ""
        ],
        [
         "934",
         "218",
         "4",
         "No bully / no harassment",
         ""
        ],
        [
         "935",
         "218",
         "5",
         "Respect people's gender / pronouns",
         ""
        ],
        [
         "936",
         "218",
         "7",
         "Assume good faith",
         ""
        ],
        [
         "937",
         "218",
         "8",
         "Respect people's privacy (no scraping the timelines, don't post private/direct messages public, ...)",
         ""
        ],
        [
         "938",
         "218",
         "9",
         "Avoid posting graphic violence and porn in public timelines without content warning",
         ""
        ],
        [
         "939",
         "218",
         "10",
         "Avoid crossposting retweets, use the followers-only mode if you post often on Twitter",
         ""
        ],
        [
         "940",
         "218",
         "11",
         "Bots and community managed accounts are tolerated as long as you don't post on the public timeline",
         ""
        ],
        [
         "1048",
         "245",
         "2",
         "No hate speech or discrimination of any group of people, nationality, ethnicity, religion, gender, sexual orientation",
         ""
        ],
        [
         "1049",
         "245",
         "3",
         "No personal attacks or unwanted individual-directed sexual humor",
         ""
        ],
        [
         "1050",
         "245",
         "4",
         "No content illegal in the United Kingdom",
         ""
        ],
        [
         "1051",
         "245",
         "5",
         "No public posts in languages other than English and Farsi",
         ""
        ],
        [
         "1052",
         "245",
         "6",
         "And more...",
         ""
        ]
       ],
       "shape": {
        "columns": 4,
        "rows": 90
       }
      },
      "text/html": [
       "<div>\n",
       "<style scoped>\n",
       "    .dataframe tbody tr th:only-of-type {\n",
       "        vertical-align: middle;\n",
       "    }\n",
       "\n",
       "    .dataframe tbody tr th {\n",
       "        vertical-align: top;\n",
       "    }\n",
       "\n",
       "    .dataframe thead th {\n",
       "        text-align: right;\n",
       "    }\n",
       "</style>\n",
       "<table border=\"1\" class=\"dataframe\">\n",
       "  <thead>\n",
       "    <tr style=\"text-align: right;\">\n",
       "      <th></th>\n",
       "      <th>server_id</th>\n",
       "      <th>rule_id</th>\n",
       "      <th>text</th>\n",
       "      <th>hint</th>\n",
       "    </tr>\n",
       "  </thead>\n",
       "  <tbody>\n",
       "    <tr>\n",
       "      <th>215</th>\n",
       "      <td>48</td>\n",
       "      <td>12</td>\n",
       "      <td>Treat others with respect</td>\n",
       "      <td>Avoid any form of insult, bullying, or discrim...</td>\n",
       "    </tr>\n",
       "    <tr>\n",
       "      <th>216</th>\n",
       "      <td>48</td>\n",
       "      <td>15</td>\n",
       "      <td>Comply with applicable law</td>\n",
       "      <td>Do not publish any illegal content.</td>\n",
       "    </tr>\n",
       "    <tr>\n",
       "      <th>217</th>\n",
       "      <td>48</td>\n",
       "      <td>16</td>\n",
       "      <td>Avoid misinformation</td>\n",
       "      <td>Do not share false or misleading information.</td>\n",
       "    </tr>\n",
       "    <tr>\n",
       "      <th>218</th>\n",
       "      <td>48</td>\n",
       "      <td>19</td>\n",
       "      <td>Mark sensitive content (CW)</td>\n",
       "      <td>Please mark any content that may contain commo...</td>\n",
       "    </tr>\n",
       "    <tr>\n",
       "      <th>219</th>\n",
       "      <td>48</td>\n",
       "      <td>20</td>\n",
       "      <td>You must be older than 16 years</td>\n",
       "      <td>According to European law, you must be at leas...</td>\n",
       "    </tr>\n",
       "    <tr>\n",
       "      <th>...</th>\n",
       "      <td>...</td>\n",
       "      <td>...</td>\n",
       "      <td>...</td>\n",
       "      <td>...</td>\n",
       "    </tr>\n",
       "    <tr>\n",
       "      <th>1408</th>\n",
       "      <td>329</td>\n",
       "      <td>76</td>\n",
       "      <td>② 简答 ACGN 的含义？/ What does ACGN stand for?</td>\n",
       "      <td></td>\n",
       "    </tr>\n",
       "    <tr>\n",
       "      <th>1409</th>\n",
       "      <td>329</td>\n",
       "      <td>77</td>\n",
       "      <td>③ 同意呜呜站的社区规则？/ Do you agree with the community...</td>\n",
       "      <td></td>\n",
       "    </tr>\n",
       "    <tr>\n",
       "      <th>1410</th>\n",
       "      <td>329</td>\n",
       "      <td>78</td>\n",
       "      <td>🌸 缺项或错误将被拒绝 ... / Incomplete or nonsensical re...</td>\n",
       "      <td></td>\n",
       "    </tr>\n",
       "    <tr>\n",
       "      <th>1411</th>\n",
       "      <td>329</td>\n",
       "      <td>79</td>\n",
       "      <td>详细社区规则见： / For detailed community rules, pleas...</td>\n",
       "      <td></td>\n",
       "    </tr>\n",
       "    <tr>\n",
       "      <th>1412</th>\n",
       "      <td>329</td>\n",
       "      <td>82</td>\n",
       "      <td>使用本站代表您同意了这些规则与政策，注册前请务必仔细阅读！/ By using this i...</td>\n",
       "      <td></td>\n",
       "    </tr>\n",
       "  </tbody>\n",
       "</table>\n",
       "<p>90 rows × 4 columns</p>\n",
       "</div>"
      ],
      "text/plain": [
       "      server_id rule_id                                               text  \\\n",
       "215          48      12                          Treat others with respect   \n",
       "216          48      15                         Comply with applicable law   \n",
       "217          48      16                               Avoid misinformation   \n",
       "218          48      19                        Mark sensitive content (CW)   \n",
       "219          48      20                    You must be older than 16 years   \n",
       "...         ...     ...                                                ...   \n",
       "1408        329      76          ② 简答 ACGN 的含义？/ What does ACGN stand for?   \n",
       "1409        329      77  ③ 同意呜呜站的社区规则？/ Do you agree with the community...   \n",
       "1410        329      78  🌸 缺项或错误将被拒绝 ... / Incomplete or nonsensical re...   \n",
       "1411        329      79  详细社区规则见： / For detailed community rules, pleas...   \n",
       "1412        329      82  使用本站代表您同意了这些规则与政策，注册前请务必仔细阅读！/ By using this i...   \n",
       "\n",
       "                                                   hint  \n",
       "215   Avoid any form of insult, bullying, or discrim...  \n",
       "216                 Do not publish any illegal content.  \n",
       "217       Do not share false or misleading information.  \n",
       "218   Please mark any content that may contain commo...  \n",
       "219   According to European law, you must be at leas...  \n",
       "...                                                 ...  \n",
       "1408                                                     \n",
       "1409                                                     \n",
       "1410                                                     \n",
       "1411                                                     \n",
       "1412                                                     \n",
       "\n",
       "[90 rows x 4 columns]"
      ]
     },
     "execution_count": 56,
     "metadata": {},
     "output_type": "execute_result"
    }
   ],
   "source": [
    "# Detect the language of the description among the supposedly engish servers\n",
    "server_descr_english = df_mastodon1_en[df_mastodon1_en['description'].apply(is_english)].index\n",
    "server_descr_not_english = df_mastodon1_en[~df_mastodon1_en['description'].apply(is_english)].index\n",
    "\n",
    "# Count them\n",
    "print(f\"{len(server_descr_english)} servers have their description in english;\")\n",
    "print(f\"{len(server_descr_not_english)} servers have their description in another language.\")\n",
    "\n",
    "# Display the rules of the servers that have their description in another language than english\n",
    "suspicious_server_ids = [serv_id for serv_id in df_english.server_id.unique() if serv_id in server_descr_not_english]\n",
    "df_english[df_english['server_id'].isin(suspicious_server_ids)]"
   ]
  },
  {
   "cell_type": "code",
   "execution_count": 57,
   "id": "8f586748",
   "metadata": {},
   "outputs": [
    {
     "data": {
      "application/vnd.microsoft.datawrangler.viewer.v0+json": {
       "columns": [
        {
         "name": "index",
         "rawType": "int64",
         "type": "integer"
        },
        {
         "name": "server_id",
         "rawType": "int64",
         "type": "integer"
        },
        {
         "name": "rule_id",
         "rawType": "object",
         "type": "string"
        },
        {
         "name": "text",
         "rawType": "object",
         "type": "string"
        },
        {
         "name": "hint",
         "rawType": "object",
         "type": "unknown"
        }
       ],
       "conversionMethod": "pd.DataFrame",
       "ref": "09047385-4b8a-419a-8b5a-e74e5eac92e4",
       "rows": [
        [
         "0",
         "0",
         "1",
         "Sexually explicit or violent media must be marked as sensitive or with a content warning",
         "This includes content that is particularly provocative even if it may not show specific body parts, as well as dead bodies, bloody injuries, and other gore. Particularly obscene content may be prohibited entirely. Profile pictures and header images may not contain sexually explicit or violent media."
        ],
        [
         "1",
         "0",
         "3",
         "No incitement of violence or promotion of violent ideologies",
         "Calling for people or groups to be assassinated, murdered, or attacked physically is strictly prohibited. Support for violent groups or events is prohibited."
        ],
        [
         "2",
         "0",
         "4",
         "No harassment, block evasion, dogpiling, or doxxing of others",
         "Repeat attempts to communicate with users who have blocked you or creation of accounts solely to harass or insult individuals is strictly prohibited. Coordinated activity to attack other users is prohibited. Posting of private personal information about others is prohibited."
        ],
        [
         "3",
         "0",
         "7",
         "Do not share information widely-known to be false and misleading",
         "False and misleading information and links from low-quality sources may not be posted, especially if they are likely to mislead or confuse others or endanger their safety."
        ],
        [
         "4",
         "0",
         "1008",
         "Content created by others must be attributed, and use of generative AI must be disclosed",
         "Content created by others must clearly provide a reference to the author, creator, or source. For adult content, this should include performers. Accounts may not solely post AI-generated content."
        ],
        [
         "5",
         "1",
         "2",
         "Sexually explicit or violent media must be marked as sensitive when posting.",
         ""
        ],
        [
         "6",
         "1",
         "5",
         "No incitement of violence or promotion of violent ideologies.",
         ""
        ],
        [
         "7",
         "1",
         "6",
         "No harassment, dogpiling or doxxing of other users.",
         ""
        ],
        [
         "8",
         "1",
         "11",
         "No spreading of fake news or misinformation",
         ""
        ],
        [
         "9",
         "1",
         "12",
         "Content created by others must be attributed, and use of AI must be disclosed. Profiles that only post AI-generated content will not be tolerated.",
         ""
        ],
        [
         "10",
         "2",
         "1",
         "Do unto others as you think they would want done to them.  ",
         ""
        ],
        [
         "11",
         "2",
         "2",
         "Mark sensitive content with a content warning.  ",
         ""
        ],
        [
         "12",
         "2",
         "3",
         "Gratuitous obscenity that serves no practical benefit to a discussion is not permitted.",
         ""
        ],
        [
         "13",
         "2",
         "4",
         "Illegal content such as child pornography, unsurprisingly, is not permitted",
         ""
        ],
        [
         "14",
         "2",
         "5",
         "Spam is not permitted, this includes creating spam accounts that only serve to provide profile links or advertise products and services. ",
         ""
        ],
        [
         "15",
         "2",
         "6",
         "Hate speech and abusive or threatening behavior is not permitted, specifically that which directed at any gender, nationality, religion, race, age, pizza topping preference, or sexual identity.  One can hate on systemd all day long here.",
         ""
        ],
        [
         "16",
         "2",
         "7",
         "Lack of a specific rule against a certain behavior does not indicate acceptance of that behavior.  Each of us has a limited amount of time in this world.  Don't be a jerk.  ",
         ""
        ],
        [
         "17",
         "2",
         "8",
         "Violating one or more of these rules may result in an immediate, permanent ban without notice or warning.  ",
         ""
        ],
        [
         "18",
         "2",
         "9",
         "You may not impersonate a person or brand without a clear indication the account is unofficial and/or a parody. Parody accounts are permitted, as are legitimate brand accounts. ",
         ""
        ],
        [
         "19",
         "2",
         "11",
         "No attacks against (or from) the instance.\r\n\r\nYou may not do anything which may impact confidentiality, integrity or availability of Infosec.Exchange, the users of the service or their data.\r\nFor more details see https://wiki.infosec.exchange/rules/start",
         ""
        ],
        [
         "20",
         "2",
         "12",
         "No doxing (aka doxxing) or disclosing personal information without consent and as a means of harassing or causing others to harass another person.",
         ""
        ],
        [
         "21",
         "2",
         "13",
         "No harassment in the form of continued engagement after a person has requested contact to stop",
         ""
        ],
        [
         "22",
         "2",
         "14",
         "Automated posting:\r\n- accounts that post >50% using automation must be labeled as a “bot” in the user profile to help provide a visual indicator to visitors\r\n- automated posts must be limited to one post per hour/24 per day with post visibility set to “public”. There is no limit on “unlisted” posts.",
         ""
        ],
        [
         "23",
         "2",
         "15",
         "Soliciting or inciting violence or harm against a person or segment of people is not permitted. ",
         ""
        ],
        [
         "24",
         "3",
         "9",
         "No discrimination, including (but not limited to) racism, sexism, homophobia or transphobia (including targeted misgendering, deadnaming, or promotion of so-called 'conversion therapy').",
         ""
        ],
        [
         "25",
         "3",
         "10",
         "No explicit (NSFW) content without content warnings and/or sensitive media markers. Explicit content must not be used in user avatars or header images.",
         ""
        ],
        [
         "26",
         "3",
         "17",
         "No harassment of other users on this or other servers.",
         ""
        ],
        [
         "27",
         "3",
         "18",
         "No content illegal in the following countries: United Kingdom, Germany",
         ""
        ],
        [
         "28",
         "3",
         "19",
         "No incitement of violence or promotion of violent ideologies.",
         ""
        ],
        [
         "29",
         "3",
         "20",
         "No disinformation regarding public health issues or political/military campaigns.",
         ""
        ],
        [
         "30",
         "3",
         "21",
         "No spam. This includes commercial advertising, promotion of services, and SEO.",
         ""
        ],
        [
         "31",
         "3",
         "22",
         "No impersonation of other individuals, public figures or organisations, unless clearly marked as a parody.",
         ""
        ],
        [
         "32",
         "3",
         "23",
         "All automated (bot) accounts must enable the bot flag in their account preferences, respect #nobot markers, and post as unlisted unless making less than one post per hour.",
         ""
        ],
        [
         "33",
         "4",
         "16",
         "No illegal content, e.g. child pornography, solicitation of illegal services, etc…",
         ""
        ],
        [
         "34",
         "4",
         "17",
         "No posts or links to content supporting, featuring, or promoting hate groups, terrorism, mass violence or calls to violence.",
         ""
        ],
        [
         "35",
         "4",
         "18",
         "No posts or comments supporting or promoting QAnon related content or similarly disproven conspiracy theories. Moderators have sole discretion to decide if a post violates this rule. Birds are real. The Earth is round. Get over it.",
         ""
        ],
        [
         "36",
         "4",
         "19",
         "No posts or links featuring sexualized depictions of minors, whether photographic, written, drawn, anthropomorphic or animated.",
         ""
        ],
        [
         "37",
         "4",
         "20",
         "No pornography featuring depictions of rape or non-consensual violence.",
         ""
        ],
        [
         "38",
         "4",
         "21",
         "A Content Warning must always be used when posting all other pornographic, erotic or NSFW content, whether photographic, written, drawn or animated.",
         ""
        ],
        [
         "39",
         "4",
         "23",
         "No visual content depicting executions, murder, suicide, dismemberment, visible innards, excessive gore, or charred bodies. All other violent imagery requires a Content Warning.",
         ""
        ],
        [
         "40",
         "4",
         "24",
         "No visual content depicting animal abuse. All other posts related to animal abuse require a Content Warning.",
         ""
        ],
        [
         "41",
         "4",
         "25",
         "No posting of malicious links.",
         ""
        ],
        [
         "42",
         "4",
         "26",
         "No Spam (see General Guidance below).",
         ""
        ],
        [
         "43",
         "4",
         "27",
         "No threats, bullying or attacks on an individual or group.",
         ""
        ],
        [
         "44",
         "4",
         "28",
         "No encouragement or promotion of self-harm.",
         ""
        ],
        [
         "45",
         "4",
         "29",
         "No accounts that impersonate anyone else unless clearly marked as such for the purpose of parody.",
         ""
        ],
        [
         "46",
         "4",
         "30",
         "No Hate Speech. Hate speech is defined as derogatory posts or links targeting any individual or group based on race, mental or physical disability, religion, gender identity, sex, nationality, age, class or sexual orientation.",
         ""
        ],
        [
         "47",
         "4",
         "31",
         "No “shitposting” - while humorous posts are allowed, and actually encouraged, there is no place for “shitposting” here.",
         ""
        ],
        [
         "48",
         "4",
         "32",
         "No targeted misgendering, deadnaming, or promotion of so-called \"conversion therapy\".",
         ""
        ],
        [
         "49",
         "4",
         "33",
         "Banner and Avatar images must comply with the other rules, so no NSFW images etc",
         ""
        ]
       ],
       "shape": {
        "columns": 4,
        "rows": 1395
       }
      },
      "text/html": [
       "<div>\n",
       "<style scoped>\n",
       "    .dataframe tbody tr th:only-of-type {\n",
       "        vertical-align: middle;\n",
       "    }\n",
       "\n",
       "    .dataframe tbody tr th {\n",
       "        vertical-align: top;\n",
       "    }\n",
       "\n",
       "    .dataframe thead th {\n",
       "        text-align: right;\n",
       "    }\n",
       "</style>\n",
       "<table border=\"1\" class=\"dataframe\">\n",
       "  <thead>\n",
       "    <tr style=\"text-align: right;\">\n",
       "      <th></th>\n",
       "      <th>server_id</th>\n",
       "      <th>rule_id</th>\n",
       "      <th>text</th>\n",
       "      <th>hint</th>\n",
       "    </tr>\n",
       "  </thead>\n",
       "  <tbody>\n",
       "    <tr>\n",
       "      <th>0</th>\n",
       "      <td>0</td>\n",
       "      <td>1</td>\n",
       "      <td>Sexually explicit or violent media must be mar...</td>\n",
       "      <td>This includes content that is particularly pro...</td>\n",
       "    </tr>\n",
       "    <tr>\n",
       "      <th>1</th>\n",
       "      <td>0</td>\n",
       "      <td>3</td>\n",
       "      <td>No incitement of violence or promotion of viol...</td>\n",
       "      <td>Calling for people or groups to be assassinate...</td>\n",
       "    </tr>\n",
       "    <tr>\n",
       "      <th>2</th>\n",
       "      <td>0</td>\n",
       "      <td>4</td>\n",
       "      <td>No harassment, block evasion, dogpiling, or do...</td>\n",
       "      <td>Repeat attempts to communicate with users who ...</td>\n",
       "    </tr>\n",
       "    <tr>\n",
       "      <th>3</th>\n",
       "      <td>0</td>\n",
       "      <td>7</td>\n",
       "      <td>Do not share information widely-known to be fa...</td>\n",
       "      <td>False and misleading information and links fro...</td>\n",
       "    </tr>\n",
       "    <tr>\n",
       "      <th>4</th>\n",
       "      <td>0</td>\n",
       "      <td>1008</td>\n",
       "      <td>Content created by others must be attributed, ...</td>\n",
       "      <td>Content created by others must clearly provide...</td>\n",
       "    </tr>\n",
       "    <tr>\n",
       "      <th>...</th>\n",
       "      <td>...</td>\n",
       "      <td>...</td>\n",
       "      <td>...</td>\n",
       "      <td>...</td>\n",
       "    </tr>\n",
       "    <tr>\n",
       "      <th>1397</th>\n",
       "      <td>322</td>\n",
       "      <td>21</td>\n",
       "      <td>This instance is under the jurisdiction of Wes...</td>\n",
       "      <td></td>\n",
       "    </tr>\n",
       "    <tr>\n",
       "      <th>1398</th>\n",
       "      <td>327</td>\n",
       "      <td>2</td>\n",
       "      <td>No incitement of violence or promotion of viol...</td>\n",
       "      <td></td>\n",
       "    </tr>\n",
       "    <tr>\n",
       "      <th>1399</th>\n",
       "      <td>327</td>\n",
       "      <td>3</td>\n",
       "      <td>No harassment, block evasion, dogpiling, or do...</td>\n",
       "      <td></td>\n",
       "    </tr>\n",
       "    <tr>\n",
       "      <th>1400</th>\n",
       "      <td>327</td>\n",
       "      <td>4</td>\n",
       "      <td>Do not share information widely-known to be fa...</td>\n",
       "      <td></td>\n",
       "    </tr>\n",
       "    <tr>\n",
       "      <th>1401</th>\n",
       "      <td>327</td>\n",
       "      <td>5</td>\n",
       "      <td>Follow the Posting Guidelines</td>\n",
       "      <td>https://info.jaxbeach.social/posting-guidelines</td>\n",
       "    </tr>\n",
       "  </tbody>\n",
       "</table>\n",
       "<p>1395 rows × 4 columns</p>\n",
       "</div>"
      ],
      "text/plain": [
       "      server_id rule_id                                               text  \\\n",
       "0             0       1  Sexually explicit or violent media must be mar...   \n",
       "1             0       3  No incitement of violence or promotion of viol...   \n",
       "2             0       4  No harassment, block evasion, dogpiling, or do...   \n",
       "3             0       7  Do not share information widely-known to be fa...   \n",
       "4             0    1008  Content created by others must be attributed, ...   \n",
       "...         ...     ...                                                ...   \n",
       "1397        322      21  This instance is under the jurisdiction of Wes...   \n",
       "1398        327       2  No incitement of violence or promotion of viol...   \n",
       "1399        327       3  No harassment, block evasion, dogpiling, or do...   \n",
       "1400        327       4  Do not share information widely-known to be fa...   \n",
       "1401        327       5                      Follow the Posting Guidelines   \n",
       "\n",
       "                                                   hint  \n",
       "0     This includes content that is particularly pro...  \n",
       "1     Calling for people or groups to be assassinate...  \n",
       "2     Repeat attempts to communicate with users who ...  \n",
       "3     False and misleading information and links fro...  \n",
       "4     Content created by others must clearly provide...  \n",
       "...                                                 ...  \n",
       "1397                                                     \n",
       "1398                                                     \n",
       "1399                                                     \n",
       "1400                                                     \n",
       "1401    https://info.jaxbeach.social/posting-guidelines  \n",
       "\n",
       "[1395 rows x 4 columns]"
      ]
     },
     "execution_count": 57,
     "metadata": {},
     "output_type": "execute_result"
    }
   ],
   "source": [
    "# We decide to remove 4 servers based on their rules language\n",
    "manually_excluded = [52, 180, 230, 329] #manually inspected their rules and decide to remove the server since most of their rules contained words not in english.\n",
    "df_english = df_english[~df_english['server_id'].isin(manually_excluded)]\n",
    "df_english"
   ]
  },
  {
   "cell_type": "code",
   "execution_count": 59,
   "id": "3af2e831",
   "metadata": {},
   "outputs": [
    {
     "data": {
      "application/vnd.microsoft.datawrangler.viewer.v0+json": {
       "columns": [
        {
         "name": "index",
         "rawType": "int64",
         "type": "integer"
        },
        {
         "name": "server_id",
         "rawType": "int64",
         "type": "integer"
        },
        {
         "name": "rule_id",
         "rawType": "object",
         "type": "string"
        },
        {
         "name": "text",
         "rawType": "object",
         "type": "unknown"
        },
        {
         "name": "hint",
         "rawType": "object",
         "type": "unknown"
        },
        {
         "name": "strict_rule",
         "rawType": "bool",
         "type": "boolean"
        }
       ],
       "conversionMethod": "pd.DataFrame",
       "ref": "8d875da2-e4f7-49a8-b2fc-fe1d0f0e34f0",
       "rows": [
        [
         "0",
         "0",
         "1",
         "['sexually', 'explicit', 'or', 'violent', 'media', 'must', 'be', 'marked', 'as', 'sensitive', 'or', 'with', 'a', 'content', 'warning']",
         "['this', 'includes', 'content', 'that', 'is', 'particularly', 'provocative', 'even', 'if', 'it', 'may', 'not', 'show', 'specific', 'body', 'parts', 'as', 'well', 'as', 'dead', 'bodies', 'bloody', 'injuries', 'and', 'other', 'gore', 'particularly', 'obscene', 'content', 'may', 'be', 'prohibited', 'entirely', 'profile', 'pictures', 'and', 'header', 'images', 'may', 'not', 'contain', 'sexually', 'explicit', 'or', 'violent', 'media']",
         "False"
        ],
        [
         "1",
         "0",
         "2",
         "['no', 'racism', 'sexism', 'homophobia', 'transphobia', 'ableism', 'xenophobia', 'or', 'casteism']",
         "['transphobic', 'behavior', 'such', 'as', 'intentional', 'misgendering', 'and', 'deadnaming', 'is', 'strictly', 'prohibited', 'promotion', 'of', 'conversion', 'therapy', 'is', 'strictly', 'prohibited', 'criticism', 'of', 'governments', 'and', 'religions', 'is', 'permissible', 'unless', 'being', 'used', 'as', 'a', 'proxy', 'for', 'discrimination']",
         "True"
        ],
        [
         "2",
         "0",
         "3",
         "['no', 'incitement', 'of', 'violence', 'or', 'promotion', 'of', 'violent', 'ideologies']",
         "['calling', 'for', 'people', 'or', 'groups', 'to', 'be', 'assassinated', 'murdered', 'or', 'attacked', 'physically', 'is', 'strictly', 'prohibited', 'support', 'for', 'violent', 'groups', 'or', 'events', 'is', 'prohibited']",
         "True"
        ],
        [
         "3",
         "0",
         "4",
         "['no', 'harassment', 'block', 'evasion', 'dogpiling', 'or', 'doxxing', 'of', 'others']",
         "['repeat', 'attempts', 'to', 'communicate', 'with', 'users', 'who', 'have', 'blocked', 'you', 'or', 'creation', 'of', 'accounts', 'solely', 'to', 'harass', 'or', 'insult', 'individuals', 'is', 'strictly', 'prohibited', 'coordinated', 'activity', 'to', 'attack', 'other', 'users', 'is', 'prohibited', 'posting', 'of', 'private', 'personal', 'information', 'about', 'others', 'is', 'prohibited']",
         "True"
        ],
        [
         "4",
         "0",
         "7",
         "['do', 'not', 'share', 'information', 'widely', 'known', 'to', 'be', 'false', 'and', 'misleading']",
         "['false', 'and', 'misleading', 'information', 'and', 'links', 'from', 'low', 'quality', 'sources', 'may', 'not', 'be', 'posted', 'especially', 'if', 'they', 'are', 'likely', 'to', 'mislead', 'or', 'confuse', 'others', 'or', 'endanger', 'their', 'safety']",
         "False"
        ],
        [
         "5",
         "0",
         "1008",
         "['content', 'created', 'by', 'others', 'must', 'be', 'attributed', 'and', 'use', 'of', 'generative', 'ai', 'must', 'be', 'disclosed']",
         "['content', 'created', 'by', 'others', 'must', 'clearly', 'provide', 'a', 'reference', 'to', 'the', 'author', 'creator', 'or', 'source', 'for', 'adult', 'content', 'this', 'should', 'include', 'performers', 'accounts', 'may', 'not', 'solely', 'post', 'ai', 'generated', 'content']",
         "False"
        ],
        [
         "6",
         "1",
         "2",
         "['sexually', 'explicit', 'or', 'violent', 'media', 'must', 'be', 'marked', 'as', 'sensitive', 'when', 'posting']",
         "[]",
         "False"
        ],
        [
         "7",
         "1",
         "3",
         "['no', 'spam', 'or', 'advertising']",
         "[]",
         "True"
        ],
        [
         "8",
         "1",
         "4",
         "['no', 'racism', 'sexism', 'homophobia', 'transphobia', 'xenophobia', 'or', 'casteism']",
         "[]",
         "True"
        ],
        [
         "9",
         "1",
         "5",
         "['no', 'incitement', 'of', 'violence', 'or', 'promotion', 'of', 'violent', 'ideologies']",
         "[]",
         "True"
        ],
        [
         "10",
         "1",
         "6",
         "['no', 'harassment', 'dogpiling', 'or', 'doxxing', 'of', 'other', 'users']",
         "[]",
         "True"
        ],
        [
         "11",
         "1",
         "7",
         "['no', 'illegal', 'content']",
         "[]",
         "True"
        ],
        [
         "12",
         "1",
         "11",
         "['no', 'spreading', 'of', 'fake', 'news', 'or', 'misinformation']",
         "[]",
         "True"
        ],
        [
         "13",
         "1",
         "12",
         "['content', 'created', 'by', 'others', 'must', 'be', 'attributed', 'and', 'use', 'of', 'ai', 'must', 'be', 'disclosed', 'profiles', 'that', 'only', 'post', 'ai', 'generated', 'content', 'will', 'not', 'be', 'tolerated']",
         "[]",
         "False"
        ],
        [
         "14",
         "2",
         "1",
         "['do', 'unto', 'others', 'as', 'you', 'think', 'they', 'would', 'want', 'done', 'to', 'them']",
         "[]",
         "False"
        ],
        [
         "15",
         "2",
         "2",
         "['mark', 'sensitive', 'content', 'with', 'a', 'content', 'warning']",
         "[]",
         "False"
        ],
        [
         "16",
         "2",
         "3",
         "['gratuitous', 'obscenity', 'that', 'serves', 'no', 'practical', 'benefit', 'to', 'a', 'discussion', 'is', 'not', 'permitted']",
         "[]",
         "True"
        ],
        [
         "17",
         "2",
         "4",
         "['illegal', 'content', 'such', 'as', 'child', 'pornography', 'unsurprisingly', 'is', 'not', 'permitted']",
         "[]",
         "False"
        ],
        [
         "18",
         "2",
         "5",
         "['spam', 'is', 'not', 'permitted', 'this', 'includes', 'creating', 'spam', 'accounts', 'that', 'only', 'serve', 'to', 'provide', 'profile', 'links', 'or', 'advertise', 'products', 'and', 'services']",
         "[]",
         "False"
        ],
        [
         "19",
         "2",
         "6",
         "['hate', 'speech', 'and', 'abusive', 'or', 'threatening', 'behavior', 'is', 'not', 'permitted', 'specifically', 'that', 'which', 'directed', 'at', 'any', 'gender', 'nationality', 'religion', 'race', 'age', 'pizza', 'topping', 'preference', 'or', 'sexual', 'identity', 'one', 'can', 'hate', 'on', 'systemd', 'all', 'day', 'long', 'here']",
         "[]",
         "False"
        ],
        [
         "20",
         "2",
         "7",
         "['lack', 'of', 'a', 'specific', 'rule', 'against', 'a', 'certain', 'behavior', 'does', 'not', 'indicate', 'acceptance', 'of', 'that', 'behavior', 'each', 'of', 'us', 'has', 'a', 'limited', 'amount', 'of', 'time', 'in', 'this', 'world', 'don', 't', 'be', 'a', 'jerk']",
         "[]",
         "False"
        ],
        [
         "21",
         "2",
         "8",
         "['violating', 'one', 'or', 'more', 'of', 'these', 'rules', 'may', 'result', 'in', 'an', 'immediate', 'permanent', 'ban', 'without', 'notice', 'or', 'warning']",
         "[]",
         "False"
        ],
        [
         "22",
         "2",
         "9",
         "['you', 'may', 'not', 'impersonate', 'a', 'person', 'or', 'brand', 'without', 'a', 'clear', 'indication', 'the', 'account', 'is', 'unofficial', 'and', 'or', 'a', 'parody', 'parody', 'accounts', 'are', 'permitted', 'as', 'are', 'legitimate', 'brand', 'accounts']",
         "[]",
         "False"
        ],
        [
         "23",
         "2",
         "11",
         "['no', 'attacks', 'against', 'or', 'from', 'the', 'instance', 'you', 'may', 'not', 'do', 'anything', 'which', 'may', 'impact', 'confidentiality', 'integrity', 'or', 'availability', 'of', 'infosec', 'exchange', 'the', 'users', 'of', 'the', 'service', 'or', 'their', 'data', 'for', 'more', 'details', 'see', 'https', 'wiki', 'infosec', 'exchange', 'rules', 'start']",
         "[]",
         "True"
        ],
        [
         "24",
         "2",
         "12",
         "['no', 'doxing', 'aka', 'doxxing', 'or', 'disclosing', 'personal', 'information', 'without', 'consent', 'and', 'as', 'a', 'means', 'of', 'harassing', 'or', 'causing', 'others', 'to', 'harass', 'another', 'person']",
         "[]",
         "True"
        ],
        [
         "25",
         "2",
         "13",
         "['no', 'harassment', 'in', 'the', 'form', 'of', 'continued', 'engagement', 'after', 'a', 'person', 'has', 'requested', 'contact', 'to', 'stop']",
         "[]",
         "True"
        ],
        [
         "26",
         "2",
         "14",
         "['automated', 'posting', 'accounts', 'that', 'post', '50', 'using', 'automation', 'must', 'be', 'labeled', 'as', 'a', 'bot', 'in', 'the', 'user', 'profile', 'to', 'help', 'provide', 'a', 'visual', 'indicator', 'to', 'visitors', 'automated', 'posts', 'must', 'be', 'limited', 'to', 'one', 'post', 'per', 'hour', '24', 'per', 'day', 'with', 'post', 'visibility', 'set', 'to', 'public', 'there', 'is', 'no', 'limit', 'on', 'unlisted', 'posts']",
         "[]",
         "True"
        ],
        [
         "27",
         "2",
         "15",
         "['soliciting', 'or', 'inciting', 'violence', 'or', 'harm', 'against', 'a', 'person', 'or', 'segment', 'of', 'people', 'is', 'not', 'permitted']",
         "[]",
         "False"
        ],
        [
         "28",
         "3",
         "9",
         "['no', 'discrimination', 'including', 'but', 'not', 'limited', 'to', 'racism', 'sexism', 'homophobia', 'or', 'transphobia', 'including', 'targeted', 'misgendering', 'deadnaming', 'or', 'promotion', 'of', 'so', 'called', 'conversion', 'therapy']",
         "[]",
         "True"
        ],
        [
         "29",
         "3",
         "10",
         "['no', 'explicit', 'nsfw', 'content', 'without', 'content', 'warnings', 'and', 'or', 'sensitive', 'media', 'markers', 'explicit', 'content', 'must', 'not', 'be', 'used', 'in', 'user', 'avatars', 'or', 'header', 'images']",
         "[]",
         "True"
        ],
        [
         "30",
         "3",
         "17",
         "['no', 'harassment', 'of', 'other', 'users', 'on', 'this', 'or', 'other', 'servers']",
         "[]",
         "True"
        ],
        [
         "31",
         "3",
         "18",
         "['no', 'content', 'illegal', 'in', 'the', 'following', 'countries', 'united', 'kingdom', 'germany']",
         "[]",
         "True"
        ],
        [
         "32",
         "3",
         "19",
         "['no', 'incitement', 'of', 'violence', 'or', 'promotion', 'of', 'violent', 'ideologies']",
         "[]",
         "True"
        ],
        [
         "33",
         "3",
         "20",
         "['no', 'disinformation', 'regarding', 'public', 'health', 'issues', 'or', 'political', 'military', 'campaigns']",
         "[]",
         "True"
        ],
        [
         "34",
         "3",
         "21",
         "['no', 'spam', 'this', 'includes', 'commercial', 'advertising', 'promotion', 'of', 'services', 'and', 'seo']",
         "[]",
         "True"
        ],
        [
         "35",
         "3",
         "22",
         "['no', 'impersonation', 'of', 'other', 'individuals', 'public', 'figures', 'or', 'organisations', 'unless', 'clearly', 'marked', 'as', 'a', 'parody']",
         "[]",
         "True"
        ],
        [
         "36",
         "3",
         "23",
         "['all', 'automated', 'bot', 'accounts', 'must', 'enable', 'the', 'bot', 'flag', 'in', 'their', 'account', 'preferences', 'respect', 'nobot', 'markers', 'and', 'post', 'as', 'unlisted', 'unless', 'making', 'less', 'than', 'one', 'post', 'per', 'hour']",
         "[]",
         "False"
        ],
        [
         "37",
         "4",
         "16",
         "['no', 'illegal', 'content', 'e', 'g', 'child', 'pornography', 'solicitation', 'of', 'illegal', 'services', 'etc']",
         "[]",
         "True"
        ],
        [
         "38",
         "4",
         "17",
         "['no', 'posts', 'or', 'links', 'to', 'content', 'supporting', 'featuring', 'or', 'promoting', 'hate', 'groups', 'terrorism', 'mass', 'violence', 'or', 'calls', 'to', 'violence']",
         "[]",
         "True"
        ],
        [
         "39",
         "4",
         "18",
         "['no', 'posts', 'or', 'comments', 'supporting', 'or', 'promoting', 'qanon', 'related', 'content', 'or', 'similarly', 'disproven', 'conspiracy', 'theories', 'moderators', 'have', 'sole', 'discretion', 'to', 'decide', 'if', 'a', 'post', 'violates', 'this', 'rule', 'birds', 'are', 'real', 'the', 'earth', 'is', 'round', 'get', 'over', 'it']",
         "[]",
         "True"
        ],
        [
         "40",
         "4",
         "19",
         "['no', 'posts', 'or', 'links', 'featuring', 'sexualized', 'depictions', 'of', 'minors', 'whether', 'photographic', 'written', 'drawn', 'anthropomorphic', 'or', 'animated']",
         "[]",
         "True"
        ],
        [
         "41",
         "4",
         "20",
         "['no', 'pornography', 'featuring', 'depictions', 'of', 'rape', 'or', 'non', 'consensual', 'violence']",
         "[]",
         "True"
        ],
        [
         "42",
         "4",
         "21",
         "['a', 'content', 'warning', 'must', 'always', 'be', 'used', 'when', 'posting', 'all', 'other', 'pornographic', 'erotic', 'or', 'nsfw', 'content', 'whether', 'photographic', 'written', 'drawn', 'or', 'animated']",
         "[]",
         "False"
        ],
        [
         "43",
         "4",
         "22",
         "['no', 'racism']",
         "[]",
         "True"
        ],
        [
         "44",
         "4",
         "23",
         "['no', 'visual', 'content', 'depicting', 'executions', 'murder', 'suicide', 'dismemberment', 'visible', 'innards', 'excessive', 'gore', 'or', 'charred', 'bodies', 'all', 'other', 'violent', 'imagery', 'requires', 'a', 'content', 'warning']",
         "[]",
         "True"
        ],
        [
         "45",
         "4",
         "24",
         "['no', 'visual', 'content', 'depicting', 'animal', 'abuse', 'all', 'other', 'posts', 'related', 'to', 'animal', 'abuse', 'require', 'a', 'content', 'warning']",
         "[]",
         "True"
        ],
        [
         "46",
         "4",
         "25",
         "['no', 'posting', 'of', 'malicious', 'links']",
         "[]",
         "True"
        ],
        [
         "47",
         "4",
         "26",
         "['no', 'spam', 'see', 'general', 'guidance', 'below']",
         "[]",
         "True"
        ],
        [
         "48",
         "4",
         "27",
         "['no', 'threats', 'bullying', 'or', 'attacks', 'on', 'an', 'individual', 'or', 'group']",
         "[]",
         "True"
        ],
        [
         "49",
         "4",
         "28",
         "['no', 'encouragement', 'or', 'promotion', 'of', 'self', 'harm']",
         "[]",
         "True"
        ]
       ],
       "shape": {
        "columns": 5,
        "rows": 1912
       }
      },
      "text/html": [
       "<div>\n",
       "<style scoped>\n",
       "    .dataframe tbody tr th:only-of-type {\n",
       "        vertical-align: middle;\n",
       "    }\n",
       "\n",
       "    .dataframe tbody tr th {\n",
       "        vertical-align: top;\n",
       "    }\n",
       "\n",
       "    .dataframe thead th {\n",
       "        text-align: right;\n",
       "    }\n",
       "</style>\n",
       "<table border=\"1\" class=\"dataframe\">\n",
       "  <thead>\n",
       "    <tr style=\"text-align: right;\">\n",
       "      <th></th>\n",
       "      <th>server_id</th>\n",
       "      <th>rule_id</th>\n",
       "      <th>text</th>\n",
       "      <th>hint</th>\n",
       "      <th>strict_rule</th>\n",
       "    </tr>\n",
       "  </thead>\n",
       "  <tbody>\n",
       "    <tr>\n",
       "      <th>0</th>\n",
       "      <td>0</td>\n",
       "      <td>1</td>\n",
       "      <td>[sexually, explicit, or, violent, media, must,...</td>\n",
       "      <td>[this, includes, content, that, is, particular...</td>\n",
       "      <td>False</td>\n",
       "    </tr>\n",
       "    <tr>\n",
       "      <th>1</th>\n",
       "      <td>0</td>\n",
       "      <td>2</td>\n",
       "      <td>[no, racism, sexism, homophobia, transphobia, ...</td>\n",
       "      <td>[transphobic, behavior, such, as, intentional,...</td>\n",
       "      <td>True</td>\n",
       "    </tr>\n",
       "    <tr>\n",
       "      <th>2</th>\n",
       "      <td>0</td>\n",
       "      <td>3</td>\n",
       "      <td>[no, incitement, of, violence, or, promotion, ...</td>\n",
       "      <td>[calling, for, people, or, groups, to, be, ass...</td>\n",
       "      <td>True</td>\n",
       "    </tr>\n",
       "    <tr>\n",
       "      <th>3</th>\n",
       "      <td>0</td>\n",
       "      <td>4</td>\n",
       "      <td>[no, harassment, block, evasion, dogpiling, or...</td>\n",
       "      <td>[repeat, attempts, to, communicate, with, user...</td>\n",
       "      <td>True</td>\n",
       "    </tr>\n",
       "    <tr>\n",
       "      <th>4</th>\n",
       "      <td>0</td>\n",
       "      <td>7</td>\n",
       "      <td>[do, not, share, information, widely, known, t...</td>\n",
       "      <td>[false, and, misleading, information, and, lin...</td>\n",
       "      <td>False</td>\n",
       "    </tr>\n",
       "    <tr>\n",
       "      <th>...</th>\n",
       "      <td>...</td>\n",
       "      <td>...</td>\n",
       "      <td>...</td>\n",
       "      <td>...</td>\n",
       "      <td>...</td>\n",
       "    </tr>\n",
       "    <tr>\n",
       "      <th>1912</th>\n",
       "      <td>329</td>\n",
       "      <td>77</td>\n",
       "      <td>[do, you, agree, with, the, community, rules, ...</td>\n",
       "      <td>[]</td>\n",
       "      <td>False</td>\n",
       "    </tr>\n",
       "    <tr>\n",
       "      <th>1913</th>\n",
       "      <td>329</td>\n",
       "      <td>78</td>\n",
       "      <td>[incomplete, or, nonsensical, responses, will,...</td>\n",
       "      <td>[]</td>\n",
       "      <td>False</td>\n",
       "    </tr>\n",
       "    <tr>\n",
       "      <th>1914</th>\n",
       "      <td>329</td>\n",
       "      <td>79</td>\n",
       "      <td>[for, detailed, community, rules, please, see]</td>\n",
       "      <td>[]</td>\n",
       "      <td>False</td>\n",
       "    </tr>\n",
       "    <tr>\n",
       "      <th>1915</th>\n",
       "      <td>329</td>\n",
       "      <td>80</td>\n",
       "      <td>[https, wxw, moe, about]</td>\n",
       "      <td>[]</td>\n",
       "      <td>False</td>\n",
       "    </tr>\n",
       "    <tr>\n",
       "      <th>1916</th>\n",
       "      <td>329</td>\n",
       "      <td>82</td>\n",
       "      <td>[by, using, this, instance, you, agree, to, th...</td>\n",
       "      <td>[]</td>\n",
       "      <td>False</td>\n",
       "    </tr>\n",
       "  </tbody>\n",
       "</table>\n",
       "<p>1912 rows × 5 columns</p>\n",
       "</div>"
      ],
      "text/plain": [
       "      server_id rule_id                                               text  \\\n",
       "0             0       1  [sexually, explicit, or, violent, media, must,...   \n",
       "1             0       2  [no, racism, sexism, homophobia, transphobia, ...   \n",
       "2             0       3  [no, incitement, of, violence, or, promotion, ...   \n",
       "3             0       4  [no, harassment, block, evasion, dogpiling, or...   \n",
       "4             0       7  [do, not, share, information, widely, known, t...   \n",
       "...         ...     ...                                                ...   \n",
       "1912        329      77  [do, you, agree, with, the, community, rules, ...   \n",
       "1913        329      78  [incomplete, or, nonsensical, responses, will,...   \n",
       "1914        329      79     [for, detailed, community, rules, please, see]   \n",
       "1915        329      80                           [https, wxw, moe, about]   \n",
       "1916        329      82  [by, using, this, instance, you, agree, to, th...   \n",
       "\n",
       "                                                   hint  strict_rule  \n",
       "0     [this, includes, content, that, is, particular...        False  \n",
       "1     [transphobic, behavior, such, as, intentional,...         True  \n",
       "2     [calling, for, people, or, groups, to, be, ass...         True  \n",
       "3     [repeat, attempts, to, communicate, with, user...         True  \n",
       "4     [false, and, misleading, information, and, lin...        False  \n",
       "...                                                 ...          ...  \n",
       "1912                                                 []        False  \n",
       "1913                                                 []        False  \n",
       "1914                                                 []        False  \n",
       "1915                                                 []        False  \n",
       "1916                                                 []        False  \n",
       "\n",
       "[1912 rows x 5 columns]"
      ]
     },
     "execution_count": 59,
     "metadata": {},
     "output_type": "execute_result"
    }
   ],
   "source": [
    "# Process te rules for NLP\n",
    "processor = RulesProcessor(df_mastodon1_en)\n",
    "rules_df = processor.extract_rules()\n",
    "standardized_df = processor.standardize_rules()\n",
    "\n",
    "# Compute strictness metrics TODO: define metrics and compute them\n",
    "standardized_df[\"strict_rule\"] = standardized_df[\"text\"].apply(contains_strict_words)\n",
    "standardized_df"
   ]
  },
  {
   "cell_type": "code",
   "execution_count": 61,
   "id": "505fd59e",
   "metadata": {},
   "outputs": [
    {
     "data": {
      "application/vnd.microsoft.datawrangler.viewer.v0+json": {
       "columns": [
        {
         "name": "index",
         "rawType": "int64",
         "type": "integer"
        },
        {
         "name": "server_id",
         "rawType": "int64",
         "type": "integer"
        },
        {
         "name": "rule_id",
         "rawType": "object",
         "type": "string"
        },
        {
         "name": "text",
         "rawType": "object",
         "type": "unknown"
        },
        {
         "name": "hint",
         "rawType": "object",
         "type": "unknown"
        },
        {
         "name": "strict_rule",
         "rawType": "bool",
         "type": "boolean"
        }
       ],
       "conversionMethod": "pd.DataFrame",
       "ref": "e205bc8e-9e78-4cf7-a55f-d757a07db032",
       "rows": [
        [
         "0",
         "0",
         "1",
         "['sexually', 'explicit', 'or', 'violent', 'media', 'must', 'be', 'marked', 'as', 'sensitive', 'or', 'with', 'a', 'content', 'warning']",
         "['this', 'includes', 'content', 'that', 'is', 'particularly', 'provocative', 'even', 'if', 'it', 'may', 'not', 'show', 'specific', 'body', 'parts', 'as', 'well', 'as', 'dead', 'bodies', 'bloody', 'injuries', 'and', 'other', 'gore', 'particularly', 'obscene', 'content', 'may', 'be', 'prohibited', 'entirely', 'profile', 'pictures', 'and', 'header', 'images', 'may', 'not', 'contain', 'sexually', 'explicit', 'or', 'violent', 'media']",
         "False"
        ],
        [
         "1",
         "0",
         "3",
         "['no', 'incitement', 'of', 'violence', 'or', 'promotion', 'of', 'violent', 'ideologies']",
         "['calling', 'for', 'people', 'or', 'groups', 'to', 'be', 'assassinated', 'murdered', 'or', 'attacked', 'physically', 'is', 'strictly', 'prohibited', 'support', 'for', 'violent', 'groups', 'or', 'events', 'is', 'prohibited']",
         "True"
        ],
        [
         "2",
         "0",
         "4",
         "['no', 'harassment', 'block', 'evasion', 'dogpiling', 'or', 'doxxing', 'of', 'others']",
         "['repeat', 'attempts', 'to', 'communicate', 'with', 'users', 'who', 'have', 'blocked', 'you', 'or', 'creation', 'of', 'accounts', 'solely', 'to', 'harass', 'or', 'insult', 'individuals', 'is', 'strictly', 'prohibited', 'coordinated', 'activity', 'to', 'attack', 'other', 'users', 'is', 'prohibited', 'posting', 'of', 'private', 'personal', 'information', 'about', 'others', 'is', 'prohibited']",
         "True"
        ],
        [
         "3",
         "0",
         "7",
         "['do', 'not', 'share', 'information', 'widely', 'known', 'to', 'be', 'false', 'and', 'misleading']",
         "['false', 'and', 'misleading', 'information', 'and', 'links', 'from', 'low', 'quality', 'sources', 'may', 'not', 'be', 'posted', 'especially', 'if', 'they', 'are', 'likely', 'to', 'mislead', 'or', 'confuse', 'others', 'or', 'endanger', 'their', 'safety']",
         "False"
        ],
        [
         "4",
         "0",
         "1008",
         "['content', 'created', 'by', 'others', 'must', 'be', 'attributed', 'and', 'use', 'of', 'generative', 'ai', 'must', 'be', 'disclosed']",
         "['content', 'created', 'by', 'others', 'must', 'clearly', 'provide', 'a', 'reference', 'to', 'the', 'author', 'creator', 'or', 'source', 'for', 'adult', 'content', 'this', 'should', 'include', 'performers', 'accounts', 'may', 'not', 'solely', 'post', 'ai', 'generated', 'content']",
         "False"
        ],
        [
         "5",
         "1",
         "2",
         "['sexually', 'explicit', 'or', 'violent', 'media', 'must', 'be', 'marked', 'as', 'sensitive', 'when', 'posting']",
         "[]",
         "False"
        ],
        [
         "6",
         "1",
         "5",
         "['no', 'incitement', 'of', 'violence', 'or', 'promotion', 'of', 'violent', 'ideologies']",
         "[]",
         "True"
        ],
        [
         "7",
         "1",
         "6",
         "['no', 'harassment', 'dogpiling', 'or', 'doxxing', 'of', 'other', 'users']",
         "[]",
         "True"
        ],
        [
         "8",
         "1",
         "11",
         "['no', 'spreading', 'of', 'fake', 'news', 'or', 'misinformation']",
         "[]",
         "True"
        ],
        [
         "9",
         "1",
         "12",
         "['content', 'created', 'by', 'others', 'must', 'be', 'attributed', 'and', 'use', 'of', 'ai', 'must', 'be', 'disclosed', 'profiles', 'that', 'only', 'post', 'ai', 'generated', 'content', 'will', 'not', 'be', 'tolerated']",
         "[]",
         "False"
        ],
        [
         "10",
         "2",
         "1",
         "['do', 'unto', 'others', 'as', 'you', 'think', 'they', 'would', 'want', 'done', 'to', 'them']",
         "[]",
         "False"
        ],
        [
         "11",
         "2",
         "2",
         "['mark', 'sensitive', 'content', 'with', 'a', 'content', 'warning']",
         "[]",
         "False"
        ],
        [
         "12",
         "2",
         "3",
         "['gratuitous', 'obscenity', 'that', 'serves', 'no', 'practical', 'benefit', 'to', 'a', 'discussion', 'is', 'not', 'permitted']",
         "[]",
         "True"
        ],
        [
         "13",
         "2",
         "4",
         "['illegal', 'content', 'such', 'as', 'child', 'pornography', 'unsurprisingly', 'is', 'not', 'permitted']",
         "[]",
         "False"
        ],
        [
         "14",
         "2",
         "5",
         "['spam', 'is', 'not', 'permitted', 'this', 'includes', 'creating', 'spam', 'accounts', 'that', 'only', 'serve', 'to', 'provide', 'profile', 'links', 'or', 'advertise', 'products', 'and', 'services']",
         "[]",
         "False"
        ],
        [
         "15",
         "2",
         "6",
         "['hate', 'speech', 'and', 'abusive', 'or', 'threatening', 'behavior', 'is', 'not', 'permitted', 'specifically', 'that', 'which', 'directed', 'at', 'any', 'gender', 'nationality', 'religion', 'race', 'age', 'pizza', 'topping', 'preference', 'or', 'sexual', 'identity', 'one', 'can', 'hate', 'on', 'systemd', 'all', 'day', 'long', 'here']",
         "[]",
         "False"
        ],
        [
         "16",
         "2",
         "7",
         "['lack', 'of', 'a', 'specific', 'rule', 'against', 'a', 'certain', 'behavior', 'does', 'not', 'indicate', 'acceptance', 'of', 'that', 'behavior', 'each', 'of', 'us', 'has', 'a', 'limited', 'amount', 'of', 'time', 'in', 'this', 'world', 'don', 't', 'be', 'a', 'jerk']",
         "[]",
         "False"
        ],
        [
         "17",
         "2",
         "8",
         "['violating', 'one', 'or', 'more', 'of', 'these', 'rules', 'may', 'result', 'in', 'an', 'immediate', 'permanent', 'ban', 'without', 'notice', 'or', 'warning']",
         "[]",
         "False"
        ],
        [
         "18",
         "2",
         "9",
         "['you', 'may', 'not', 'impersonate', 'a', 'person', 'or', 'brand', 'without', 'a', 'clear', 'indication', 'the', 'account', 'is', 'unofficial', 'and', 'or', 'a', 'parody', 'parody', 'accounts', 'are', 'permitted', 'as', 'are', 'legitimate', 'brand', 'accounts']",
         "[]",
         "False"
        ],
        [
         "19",
         "2",
         "11",
         "['no', 'attacks', 'against', 'or', 'from', 'the', 'instance', 'you', 'may', 'not', 'do', 'anything', 'which', 'may', 'impact', 'confidentiality', 'integrity', 'or', 'availability', 'of', 'infosec', 'exchange', 'the', 'users', 'of', 'the', 'service', 'or', 'their', 'data', 'for', 'more', 'details', 'see', 'https', 'wiki', 'infosec', 'exchange', 'rules', 'start']",
         "[]",
         "True"
        ],
        [
         "20",
         "2",
         "12",
         "['no', 'doxing', 'aka', 'doxxing', 'or', 'disclosing', 'personal', 'information', 'without', 'consent', 'and', 'as', 'a', 'means', 'of', 'harassing', 'or', 'causing', 'others', 'to', 'harass', 'another', 'person']",
         "[]",
         "True"
        ],
        [
         "21",
         "2",
         "13",
         "['no', 'harassment', 'in', 'the', 'form', 'of', 'continued', 'engagement', 'after', 'a', 'person', 'has', 'requested', 'contact', 'to', 'stop']",
         "[]",
         "True"
        ],
        [
         "22",
         "2",
         "14",
         "['automated', 'posting', 'accounts', 'that', 'post', '50', 'using', 'automation', 'must', 'be', 'labeled', 'as', 'a', 'bot', 'in', 'the', 'user', 'profile', 'to', 'help', 'provide', 'a', 'visual', 'indicator', 'to', 'visitors', 'automated', 'posts', 'must', 'be', 'limited', 'to', 'one', 'post', 'per', 'hour', '24', 'per', 'day', 'with', 'post', 'visibility', 'set', 'to', 'public', 'there', 'is', 'no', 'limit', 'on', 'unlisted', 'posts']",
         "[]",
         "True"
        ],
        [
         "23",
         "2",
         "15",
         "['soliciting', 'or', 'inciting', 'violence', 'or', 'harm', 'against', 'a', 'person', 'or', 'segment', 'of', 'people', 'is', 'not', 'permitted']",
         "[]",
         "False"
        ],
        [
         "24",
         "3",
         "9",
         "['no', 'discrimination', 'including', 'but', 'not', 'limited', 'to', 'racism', 'sexism', 'homophobia', 'or', 'transphobia', 'including', 'targeted', 'misgendering', 'deadnaming', 'or', 'promotion', 'of', 'so', 'called', 'conversion', 'therapy']",
         "[]",
         "True"
        ],
        [
         "25",
         "3",
         "10",
         "['no', 'explicit', 'nsfw', 'content', 'without', 'content', 'warnings', 'and', 'or', 'sensitive', 'media', 'markers', 'explicit', 'content', 'must', 'not', 'be', 'used', 'in', 'user', 'avatars', 'or', 'header', 'images']",
         "[]",
         "True"
        ],
        [
         "26",
         "3",
         "17",
         "['no', 'harassment', 'of', 'other', 'users', 'on', 'this', 'or', 'other', 'servers']",
         "[]",
         "True"
        ],
        [
         "27",
         "3",
         "18",
         "['no', 'content', 'illegal', 'in', 'the', 'following', 'countries', 'united', 'kingdom', 'germany']",
         "[]",
         "True"
        ],
        [
         "28",
         "3",
         "19",
         "['no', 'incitement', 'of', 'violence', 'or', 'promotion', 'of', 'violent', 'ideologies']",
         "[]",
         "True"
        ],
        [
         "29",
         "3",
         "20",
         "['no', 'disinformation', 'regarding', 'public', 'health', 'issues', 'or', 'political', 'military', 'campaigns']",
         "[]",
         "True"
        ],
        [
         "30",
         "3",
         "21",
         "['no', 'spam', 'this', 'includes', 'commercial', 'advertising', 'promotion', 'of', 'services', 'and', 'seo']",
         "[]",
         "True"
        ],
        [
         "31",
         "3",
         "22",
         "['no', 'impersonation', 'of', 'other', 'individuals', 'public', 'figures', 'or', 'organisations', 'unless', 'clearly', 'marked', 'as', 'a', 'parody']",
         "[]",
         "True"
        ],
        [
         "32",
         "3",
         "23",
         "['all', 'automated', 'bot', 'accounts', 'must', 'enable', 'the', 'bot', 'flag', 'in', 'their', 'account', 'preferences', 'respect', 'nobot', 'markers', 'and', 'post', 'as', 'unlisted', 'unless', 'making', 'less', 'than', 'one', 'post', 'per', 'hour']",
         "[]",
         "False"
        ],
        [
         "33",
         "4",
         "16",
         "['no', 'illegal', 'content', 'e', 'g', 'child', 'pornography', 'solicitation', 'of', 'illegal', 'services', 'etc']",
         "[]",
         "True"
        ],
        [
         "34",
         "4",
         "17",
         "['no', 'posts', 'or', 'links', 'to', 'content', 'supporting', 'featuring', 'or', 'promoting', 'hate', 'groups', 'terrorism', 'mass', 'violence', 'or', 'calls', 'to', 'violence']",
         "[]",
         "True"
        ],
        [
         "35",
         "4",
         "18",
         "['no', 'posts', 'or', 'comments', 'supporting', 'or', 'promoting', 'qanon', 'related', 'content', 'or', 'similarly', 'disproven', 'conspiracy', 'theories', 'moderators', 'have', 'sole', 'discretion', 'to', 'decide', 'if', 'a', 'post', 'violates', 'this', 'rule', 'birds', 'are', 'real', 'the', 'earth', 'is', 'round', 'get', 'over', 'it']",
         "[]",
         "True"
        ],
        [
         "36",
         "4",
         "19",
         "['no', 'posts', 'or', 'links', 'featuring', 'sexualized', 'depictions', 'of', 'minors', 'whether', 'photographic', 'written', 'drawn', 'anthropomorphic', 'or', 'animated']",
         "[]",
         "True"
        ],
        [
         "37",
         "4",
         "20",
         "['no', 'pornography', 'featuring', 'depictions', 'of', 'rape', 'or', 'non', 'consensual', 'violence']",
         "[]",
         "True"
        ],
        [
         "38",
         "4",
         "21",
         "['a', 'content', 'warning', 'must', 'always', 'be', 'used', 'when', 'posting', 'all', 'other', 'pornographic', 'erotic', 'or', 'nsfw', 'content', 'whether', 'photographic', 'written', 'drawn', 'or', 'animated']",
         "[]",
         "False"
        ],
        [
         "39",
         "4",
         "23",
         "['no', 'visual', 'content', 'depicting', 'executions', 'murder', 'suicide', 'dismemberment', 'visible', 'innards', 'excessive', 'gore', 'or', 'charred', 'bodies', 'all', 'other', 'violent', 'imagery', 'requires', 'a', 'content', 'warning']",
         "[]",
         "True"
        ],
        [
         "40",
         "4",
         "24",
         "['no', 'visual', 'content', 'depicting', 'animal', 'abuse', 'all', 'other', 'posts', 'related', 'to', 'animal', 'abuse', 'require', 'a', 'content', 'warning']",
         "[]",
         "True"
        ],
        [
         "41",
         "4",
         "25",
         "['no', 'posting', 'of', 'malicious', 'links']",
         "[]",
         "True"
        ],
        [
         "42",
         "4",
         "26",
         "['no', 'spam', 'see', 'general', 'guidance', 'below']",
         "[]",
         "True"
        ],
        [
         "43",
         "4",
         "27",
         "['no', 'threats', 'bullying', 'or', 'attacks', 'on', 'an', 'individual', 'or', 'group']",
         "[]",
         "True"
        ],
        [
         "44",
         "4",
         "28",
         "['no', 'encouragement', 'or', 'promotion', 'of', 'self', 'harm']",
         "[]",
         "True"
        ],
        [
         "45",
         "4",
         "29",
         "['no', 'accounts', 'that', 'impersonate', 'anyone', 'else', 'unless', 'clearly', 'marked', 'as', 'such', 'for', 'the', 'purpose', 'of', 'parody']",
         "[]",
         "True"
        ],
        [
         "46",
         "4",
         "30",
         "['no', 'hate', 'speech', 'hate', 'speech', 'is', 'defined', 'as', 'derogatory', 'posts', 'or', 'links', 'targeting', 'any', 'individual', 'or', 'group', 'based', 'on', 'race', 'mental', 'or', 'physical', 'disability', 'religion', 'gender', 'identity', 'sex', 'nationality', 'age', 'class', 'or', 'sexual', 'orientation']",
         "[]",
         "True"
        ],
        [
         "47",
         "4",
         "31",
         "['no', 'shitposting', 'while', 'humorous', 'posts', 'are', 'allowed', 'and', 'actually', 'encouraged', 'there', 'is', 'no', 'place', 'for', 'shitposting', 'here']",
         "[]",
         "True"
        ],
        [
         "48",
         "4",
         "32",
         "['no', 'targeted', 'misgendering', 'deadnaming', 'or', 'promotion', 'of', 'so', 'called', 'conversion', 'therapy']",
         "[]",
         "True"
        ],
        [
         "49",
         "4",
         "33",
         "['banner', 'and', 'avatar', 'images', 'must', 'comply', 'with', 'the', 'other', 'rules', 'so', 'no', 'nsfw', 'images', 'etc']",
         "[]",
         "True"
        ]
       ],
       "shape": {
        "columns": 5,
        "rows": 1395
       }
      },
      "text/html": [
       "<div>\n",
       "<style scoped>\n",
       "    .dataframe tbody tr th:only-of-type {\n",
       "        vertical-align: middle;\n",
       "    }\n",
       "\n",
       "    .dataframe tbody tr th {\n",
       "        vertical-align: top;\n",
       "    }\n",
       "\n",
       "    .dataframe thead th {\n",
       "        text-align: right;\n",
       "    }\n",
       "</style>\n",
       "<table border=\"1\" class=\"dataframe\">\n",
       "  <thead>\n",
       "    <tr style=\"text-align: right;\">\n",
       "      <th></th>\n",
       "      <th>server_id</th>\n",
       "      <th>rule_id</th>\n",
       "      <th>text</th>\n",
       "      <th>hint</th>\n",
       "      <th>strict_rule</th>\n",
       "    </tr>\n",
       "  </thead>\n",
       "  <tbody>\n",
       "    <tr>\n",
       "      <th>0</th>\n",
       "      <td>0</td>\n",
       "      <td>1</td>\n",
       "      <td>[sexually, explicit, or, violent, media, must,...</td>\n",
       "      <td>[this, includes, content, that, is, particular...</td>\n",
       "      <td>False</td>\n",
       "    </tr>\n",
       "    <tr>\n",
       "      <th>1</th>\n",
       "      <td>0</td>\n",
       "      <td>3</td>\n",
       "      <td>[no, incitement, of, violence, or, promotion, ...</td>\n",
       "      <td>[calling, for, people, or, groups, to, be, ass...</td>\n",
       "      <td>True</td>\n",
       "    </tr>\n",
       "    <tr>\n",
       "      <th>2</th>\n",
       "      <td>0</td>\n",
       "      <td>4</td>\n",
       "      <td>[no, harassment, block, evasion, dogpiling, or...</td>\n",
       "      <td>[repeat, attempts, to, communicate, with, user...</td>\n",
       "      <td>True</td>\n",
       "    </tr>\n",
       "    <tr>\n",
       "      <th>3</th>\n",
       "      <td>0</td>\n",
       "      <td>7</td>\n",
       "      <td>[do, not, share, information, widely, known, t...</td>\n",
       "      <td>[false, and, misleading, information, and, lin...</td>\n",
       "      <td>False</td>\n",
       "    </tr>\n",
       "    <tr>\n",
       "      <th>4</th>\n",
       "      <td>0</td>\n",
       "      <td>1008</td>\n",
       "      <td>[content, created, by, others, must, be, attri...</td>\n",
       "      <td>[content, created, by, others, must, clearly, ...</td>\n",
       "      <td>False</td>\n",
       "    </tr>\n",
       "    <tr>\n",
       "      <th>...</th>\n",
       "      <td>...</td>\n",
       "      <td>...</td>\n",
       "      <td>...</td>\n",
       "      <td>...</td>\n",
       "      <td>...</td>\n",
       "    </tr>\n",
       "    <tr>\n",
       "      <th>1390</th>\n",
       "      <td>322</td>\n",
       "      <td>21</td>\n",
       "      <td>[this, instance, is, under, the, jurisdiction,...</td>\n",
       "      <td>[]</td>\n",
       "      <td>False</td>\n",
       "    </tr>\n",
       "    <tr>\n",
       "      <th>1391</th>\n",
       "      <td>327</td>\n",
       "      <td>2</td>\n",
       "      <td>[no, incitement, of, violence, or, promotion, ...</td>\n",
       "      <td>[]</td>\n",
       "      <td>True</td>\n",
       "    </tr>\n",
       "    <tr>\n",
       "      <th>1392</th>\n",
       "      <td>327</td>\n",
       "      <td>3</td>\n",
       "      <td>[no, harassment, block, evasion, dogpiling, or...</td>\n",
       "      <td>[]</td>\n",
       "      <td>True</td>\n",
       "    </tr>\n",
       "    <tr>\n",
       "      <th>1393</th>\n",
       "      <td>327</td>\n",
       "      <td>4</td>\n",
       "      <td>[do, not, share, information, widely, known, t...</td>\n",
       "      <td>[]</td>\n",
       "      <td>False</td>\n",
       "    </tr>\n",
       "    <tr>\n",
       "      <th>1394</th>\n",
       "      <td>327</td>\n",
       "      <td>5</td>\n",
       "      <td>[follow, the, posting, guidelines]</td>\n",
       "      <td>[https, info, jaxbeach, social, posting, guide...</td>\n",
       "      <td>False</td>\n",
       "    </tr>\n",
       "  </tbody>\n",
       "</table>\n",
       "<p>1395 rows × 5 columns</p>\n",
       "</div>"
      ],
      "text/plain": [
       "      server_id rule_id                                               text  \\\n",
       "0             0       1  [sexually, explicit, or, violent, media, must,...   \n",
       "1             0       3  [no, incitement, of, violence, or, promotion, ...   \n",
       "2             0       4  [no, harassment, block, evasion, dogpiling, or...   \n",
       "3             0       7  [do, not, share, information, widely, known, t...   \n",
       "4             0    1008  [content, created, by, others, must, be, attri...   \n",
       "...         ...     ...                                                ...   \n",
       "1390        322      21  [this, instance, is, under, the, jurisdiction,...   \n",
       "1391        327       2  [no, incitement, of, violence, or, promotion, ...   \n",
       "1392        327       3  [no, harassment, block, evasion, dogpiling, or...   \n",
       "1393        327       4  [do, not, share, information, widely, known, t...   \n",
       "1394        327       5                 [follow, the, posting, guidelines]   \n",
       "\n",
       "                                                   hint  strict_rule  \n",
       "0     [this, includes, content, that, is, particular...        False  \n",
       "1     [calling, for, people, or, groups, to, be, ass...         True  \n",
       "2     [repeat, attempts, to, communicate, with, user...         True  \n",
       "3     [false, and, misleading, information, and, lin...        False  \n",
       "4     [content, created, by, others, must, clearly, ...        False  \n",
       "...                                                 ...          ...  \n",
       "1390                                                 []        False  \n",
       "1391                                                 []         True  \n",
       "1392                                                 []         True  \n",
       "1393                                                 []        False  \n",
       "1394  [https, info, jaxbeach, social, posting, guide...        False  \n",
       "\n",
       "[1395 rows x 5 columns]"
      ]
     },
     "execution_count": 61,
     "metadata": {},
     "output_type": "execute_result"
    }
   ],
   "source": [
    "# Keep only the rows from standardized_df that have a matching server_id and rule_id in df_english\n",
    "standardized_df = standardized_df.merge(df_english[[\"server_id\", \"rule_id\"]], on=[\"server_id\", \"rule_id\"], how='inner')\n",
    "standardized_df"
   ]
  },
  {
   "cell_type": "code",
   "execution_count": 63,
   "id": "5ae202a6",
   "metadata": {},
   "outputs": [
    {
     "name": "stderr",
     "output_type": "stream",
     "text": [
      "[nltk_data] Downloading package stopwords to\n",
      "[nltk_data]     /Users/eglantinevialaneix/nltk_data...\n",
      "[nltk_data]   Package stopwords is already up-to-date!\n"
     ]
    },
    {
     "data": {
      "application/vnd.microsoft.datawrangler.viewer.v0+json": {
       "columns": [
        {
         "name": "index",
         "rawType": "int64",
         "type": "integer"
        },
        {
         "name": "server_id",
         "rawType": "int64",
         "type": "integer"
        },
        {
         "name": "rule_id",
         "rawType": "object",
         "type": "string"
        },
        {
         "name": "text",
         "rawType": "object",
         "type": "unknown"
        },
        {
         "name": "hint",
         "rawType": "object",
         "type": "unknown"
        },
        {
         "name": "strict_rule",
         "rawType": "bool",
         "type": "boolean"
        }
       ],
       "conversionMethod": "pd.DataFrame",
       "ref": "d99431a3-9355-496a-90d7-c232ace9fbd5",
       "rows": [
        [
         "0",
         "0",
         "1",
         "['sexually', 'explicit', 'violent', 'media', 'must', 'marked', 'sensitive', 'content', 'warning']",
         "['includes', 'content', 'particularly', 'provocative', 'even', 'may', 'show', 'specific', 'body', 'parts', 'well', 'dead', 'bodies', 'bloody', 'injuries', 'gore', 'particularly', 'obscene', 'content', 'may', 'prohibited', 'entirely', 'profile', 'pictures', 'header', 'images', 'may', 'contain', 'sexually', 'explicit', 'violent', 'media']",
         "False"
        ],
        [
         "1",
         "0",
         "3",
         "['incitement', 'violence', 'promotion', 'violent', 'ideologies']",
         "['calling', 'people', 'groups', 'assassinated', 'murdered', 'attacked', 'physically', 'strictly', 'prohibited', 'support', 'violent', 'groups', 'events', 'prohibited']",
         "True"
        ],
        [
         "2",
         "0",
         "4",
         "['harassment', 'block', 'evasion', 'dogpiling', 'doxxing', 'others']",
         "['repeat', 'attempts', 'communicate', 'users', 'blocked', 'creation', 'accounts', 'solely', 'harass', 'insult', 'individuals', 'strictly', 'prohibited', 'coordinated', 'activity', 'attack', 'users', 'prohibited', 'posting', 'private', 'personal', 'information', 'others', 'prohibited']",
         "True"
        ],
        [
         "3",
         "0",
         "7",
         "['share', 'information', 'widely', 'known', 'false', 'misleading']",
         "['false', 'misleading', 'information', 'links', 'low', 'quality', 'sources', 'may', 'posted', 'especially', 'likely', 'mislead', 'confuse', 'others', 'endanger', 'safety']",
         "False"
        ],
        [
         "4",
         "0",
         "1008",
         "['content', 'created', 'others', 'must', 'attributed', 'use', 'generative', 'must', 'disclosed']",
         "['content', 'created', 'others', 'must', 'clearly', 'provide', 'reference', 'author', 'creator', 'source', 'adult', 'content', 'include', 'performers', 'accounts', 'may', 'solely', 'post', 'generated', 'content']",
         "False"
        ],
        [
         "5",
         "1",
         "2",
         "['sexually', 'explicit', 'violent', 'media', 'must', 'marked', 'sensitive', 'posting']",
         "[]",
         "False"
        ],
        [
         "6",
         "1",
         "5",
         "['incitement', 'violence', 'promotion', 'violent', 'ideologies']",
         "[]",
         "True"
        ],
        [
         "7",
         "1",
         "6",
         "['harassment', 'dogpiling', 'doxxing', 'users']",
         "[]",
         "True"
        ],
        [
         "8",
         "1",
         "11",
         "['spreading', 'fake', 'news', 'misinformation']",
         "[]",
         "True"
        ],
        [
         "9",
         "1",
         "12",
         "['content', 'created', 'others', 'must', 'attributed', 'use', 'must', 'disclosed', 'profiles', 'post', 'generated', 'content', 'tolerated']",
         "[]",
         "False"
        ],
        [
         "10",
         "2",
         "1",
         "['unto', 'others', 'think', 'would', 'want', 'done']",
         "[]",
         "False"
        ],
        [
         "11",
         "2",
         "2",
         "['mark', 'sensitive', 'content', 'content', 'warning']",
         "[]",
         "False"
        ],
        [
         "12",
         "2",
         "3",
         "['gratuitous', 'obscenity', 'serves', 'practical', 'benefit', 'discussion', 'permitted']",
         "[]",
         "True"
        ],
        [
         "13",
         "2",
         "4",
         "['illegal', 'content', 'child', 'pornography', 'unsurprisingly', 'permitted']",
         "[]",
         "False"
        ],
        [
         "14",
         "2",
         "5",
         "['spam', 'permitted', 'includes', 'creating', 'spam', 'accounts', 'serve', 'provide', 'profile', 'links', 'advertise', 'products', 'services']",
         "[]",
         "False"
        ],
        [
         "15",
         "2",
         "6",
         "['hate', 'speech', 'abusive', 'threatening', 'behavior', 'permitted', 'specifically', 'directed', 'gender', 'nationality', 'religion', 'race', 'age', 'pizza', 'topping', 'preference', 'sexual', 'identity', 'one', 'hate', 'systemd', 'day', 'long']",
         "[]",
         "False"
        ],
        [
         "16",
         "2",
         "7",
         "['lack', 'specific', 'rule', 'certain', 'behavior', 'indicate', 'acceptance', 'behavior', 'us', 'limited', 'amount', 'time', 'world', 'jerk']",
         "[]",
         "False"
        ],
        [
         "17",
         "2",
         "8",
         "['violating', 'one', 'rules', 'may', 'result', 'immediate', 'permanent', 'ban', 'without', 'notice', 'warning']",
         "[]",
         "False"
        ],
        [
         "18",
         "2",
         "9",
         "['may', 'impersonate', 'person', 'brand', 'without', 'clear', 'indication', 'account', 'unofficial', 'parody', 'parody', 'accounts', 'permitted', 'legitimate', 'brand', 'accounts']",
         "[]",
         "False"
        ],
        [
         "19",
         "2",
         "11",
         "['attacks', 'instance', 'may', 'anything', 'may', 'impact', 'confidentiality', 'integrity', 'availability', 'infosec', 'exchange', 'users', 'service', 'data', 'details', 'see', 'https', 'wiki', 'infosec', 'exchange', 'rules', 'start']",
         "[]",
         "True"
        ],
        [
         "20",
         "2",
         "12",
         "['doxing', 'aka', 'doxxing', 'disclosing', 'personal', 'information', 'without', 'consent', 'means', 'harassing', 'causing', 'others', 'harass', 'another', 'person']",
         "[]",
         "True"
        ],
        [
         "21",
         "2",
         "13",
         "['harassment', 'form', 'continued', 'engagement', 'person', 'requested', 'contact', 'stop']",
         "[]",
         "True"
        ],
        [
         "22",
         "2",
         "14",
         "['automated', 'posting', 'accounts', 'post', '50', 'using', 'automation', 'must', 'labeled', 'bot', 'user', 'profile', 'help', 'provide', 'visual', 'indicator', 'visitors', 'automated', 'posts', 'must', 'limited', 'one', 'post', 'per', 'hour', '24', 'per', 'day', 'post', 'visibility', 'set', 'public', 'limit', 'unlisted', 'posts']",
         "[]",
         "True"
        ],
        [
         "23",
         "2",
         "15",
         "['soliciting', 'inciting', 'violence', 'harm', 'person', 'segment', 'people', 'permitted']",
         "[]",
         "False"
        ],
        [
         "24",
         "3",
         "9",
         "['discrimination', 'including', 'limited', 'racism', 'sexism', 'homophobia', 'transphobia', 'including', 'targeted', 'misgendering', 'deadnaming', 'promotion', 'called', 'conversion', 'therapy']",
         "[]",
         "True"
        ],
        [
         "25",
         "3",
         "10",
         "['explicit', 'nsfw', 'content', 'without', 'content', 'warnings', 'sensitive', 'media', 'markers', 'explicit', 'content', 'must', 'used', 'user', 'avatars', 'header', 'images']",
         "[]",
         "True"
        ],
        [
         "26",
         "3",
         "17",
         "['harassment', 'users', 'servers']",
         "[]",
         "True"
        ],
        [
         "27",
         "3",
         "18",
         "['content', 'illegal', 'following', 'countries', 'united', 'kingdom', 'germany']",
         "[]",
         "True"
        ],
        [
         "28",
         "3",
         "19",
         "['incitement', 'violence', 'promotion', 'violent', 'ideologies']",
         "[]",
         "True"
        ],
        [
         "29",
         "3",
         "20",
         "['disinformation', 'regarding', 'public', 'health', 'issues', 'political', 'military', 'campaigns']",
         "[]",
         "True"
        ],
        [
         "30",
         "3",
         "21",
         "['spam', 'includes', 'commercial', 'advertising', 'promotion', 'services', 'seo']",
         "[]",
         "True"
        ],
        [
         "31",
         "3",
         "22",
         "['impersonation', 'individuals', 'public', 'figures', 'organisations', 'unless', 'clearly', 'marked', 'parody']",
         "[]",
         "True"
        ],
        [
         "32",
         "3",
         "23",
         "['automated', 'bot', 'accounts', 'must', 'enable', 'bot', 'flag', 'account', 'preferences', 'respect', 'nobot', 'markers', 'post', 'unlisted', 'unless', 'making', 'less', 'one', 'post', 'per', 'hour']",
         "[]",
         "False"
        ],
        [
         "33",
         "4",
         "16",
         "['illegal', 'content', 'g', 'child', 'pornography', 'solicitation', 'illegal', 'services', 'etc']",
         "[]",
         "True"
        ],
        [
         "34",
         "4",
         "17",
         "['posts', 'links', 'content', 'supporting', 'featuring', 'promoting', 'hate', 'groups', 'terrorism', 'mass', 'violence', 'calls', 'violence']",
         "[]",
         "True"
        ],
        [
         "35",
         "4",
         "18",
         "['posts', 'comments', 'supporting', 'promoting', 'qanon', 'related', 'content', 'similarly', 'disproven', 'conspiracy', 'theories', 'moderators', 'sole', 'discretion', 'decide', 'post', 'violates', 'rule', 'birds', 'real', 'earth', 'round', 'get']",
         "[]",
         "True"
        ],
        [
         "36",
         "4",
         "19",
         "['posts', 'links', 'featuring', 'sexualized', 'depictions', 'minors', 'whether', 'photographic', 'written', 'drawn', 'anthropomorphic', 'animated']",
         "[]",
         "True"
        ],
        [
         "37",
         "4",
         "20",
         "['pornography', 'featuring', 'depictions', 'rape', 'non', 'consensual', 'violence']",
         "[]",
         "True"
        ],
        [
         "38",
         "4",
         "21",
         "['content', 'warning', 'must', 'always', 'used', 'posting', 'pornographic', 'erotic', 'nsfw', 'content', 'whether', 'photographic', 'written', 'drawn', 'animated']",
         "[]",
         "False"
        ],
        [
         "39",
         "4",
         "23",
         "['visual', 'content', 'depicting', 'executions', 'murder', 'suicide', 'dismemberment', 'visible', 'innards', 'excessive', 'gore', 'charred', 'bodies', 'violent', 'imagery', 'requires', 'content', 'warning']",
         "[]",
         "True"
        ],
        [
         "40",
         "4",
         "24",
         "['visual', 'content', 'depicting', 'animal', 'abuse', 'posts', 'related', 'animal', 'abuse', 'require', 'content', 'warning']",
         "[]",
         "True"
        ],
        [
         "41",
         "4",
         "25",
         "['posting', 'malicious', 'links']",
         "[]",
         "True"
        ],
        [
         "42",
         "4",
         "26",
         "['spam', 'see', 'general', 'guidance']",
         "[]",
         "True"
        ],
        [
         "43",
         "4",
         "27",
         "['threats', 'bullying', 'attacks', 'individual', 'group']",
         "[]",
         "True"
        ],
        [
         "44",
         "4",
         "28",
         "['encouragement', 'promotion', 'self', 'harm']",
         "[]",
         "True"
        ],
        [
         "45",
         "4",
         "29",
         "['accounts', 'impersonate', 'anyone', 'else', 'unless', 'clearly', 'marked', 'purpose', 'parody']",
         "[]",
         "True"
        ],
        [
         "46",
         "4",
         "30",
         "['hate', 'speech', 'hate', 'speech', 'defined', 'derogatory', 'posts', 'links', 'targeting', 'individual', 'group', 'based', 'race', 'mental', 'physical', 'disability', 'religion', 'gender', 'identity', 'sex', 'nationality', 'age', 'class', 'sexual', 'orientation']",
         "[]",
         "True"
        ],
        [
         "47",
         "4",
         "31",
         "['shitposting', 'humorous', 'posts', 'allowed', 'actually', 'encouraged', 'place', 'shitposting']",
         "[]",
         "True"
        ],
        [
         "48",
         "4",
         "32",
         "['targeted', 'misgendering', 'deadnaming', 'promotion', 'called', 'conversion', 'therapy']",
         "[]",
         "True"
        ],
        [
         "49",
         "4",
         "33",
         "['banner', 'avatar', 'images', 'must', 'comply', 'rules', 'nsfw', 'images', 'etc']",
         "[]",
         "True"
        ]
       ],
       "shape": {
        "columns": 5,
        "rows": 1395
       }
      },
      "text/html": [
       "<div>\n",
       "<style scoped>\n",
       "    .dataframe tbody tr th:only-of-type {\n",
       "        vertical-align: middle;\n",
       "    }\n",
       "\n",
       "    .dataframe tbody tr th {\n",
       "        vertical-align: top;\n",
       "    }\n",
       "\n",
       "    .dataframe thead th {\n",
       "        text-align: right;\n",
       "    }\n",
       "</style>\n",
       "<table border=\"1\" class=\"dataframe\">\n",
       "  <thead>\n",
       "    <tr style=\"text-align: right;\">\n",
       "      <th></th>\n",
       "      <th>server_id</th>\n",
       "      <th>rule_id</th>\n",
       "      <th>text</th>\n",
       "      <th>hint</th>\n",
       "      <th>strict_rule</th>\n",
       "    </tr>\n",
       "  </thead>\n",
       "  <tbody>\n",
       "    <tr>\n",
       "      <th>0</th>\n",
       "      <td>0</td>\n",
       "      <td>1</td>\n",
       "      <td>[sexually, explicit, violent, media, must, mar...</td>\n",
       "      <td>[includes, content, particularly, provocative,...</td>\n",
       "      <td>False</td>\n",
       "    </tr>\n",
       "    <tr>\n",
       "      <th>1</th>\n",
       "      <td>0</td>\n",
       "      <td>3</td>\n",
       "      <td>[incitement, violence, promotion, violent, ide...</td>\n",
       "      <td>[calling, people, groups, assassinated, murder...</td>\n",
       "      <td>True</td>\n",
       "    </tr>\n",
       "    <tr>\n",
       "      <th>2</th>\n",
       "      <td>0</td>\n",
       "      <td>4</td>\n",
       "      <td>[harassment, block, evasion, dogpiling, doxxin...</td>\n",
       "      <td>[repeat, attempts, communicate, users, blocked...</td>\n",
       "      <td>True</td>\n",
       "    </tr>\n",
       "    <tr>\n",
       "      <th>3</th>\n",
       "      <td>0</td>\n",
       "      <td>7</td>\n",
       "      <td>[share, information, widely, known, false, mis...</td>\n",
       "      <td>[false, misleading, information, links, low, q...</td>\n",
       "      <td>False</td>\n",
       "    </tr>\n",
       "    <tr>\n",
       "      <th>4</th>\n",
       "      <td>0</td>\n",
       "      <td>1008</td>\n",
       "      <td>[content, created, others, must, attributed, u...</td>\n",
       "      <td>[content, created, others, must, clearly, prov...</td>\n",
       "      <td>False</td>\n",
       "    </tr>\n",
       "    <tr>\n",
       "      <th>...</th>\n",
       "      <td>...</td>\n",
       "      <td>...</td>\n",
       "      <td>...</td>\n",
       "      <td>...</td>\n",
       "      <td>...</td>\n",
       "    </tr>\n",
       "    <tr>\n",
       "      <th>1390</th>\n",
       "      <td>322</td>\n",
       "      <td>21</td>\n",
       "      <td>[instance, jurisdiction, western, australia, p...</td>\n",
       "      <td>[]</td>\n",
       "      <td>False</td>\n",
       "    </tr>\n",
       "    <tr>\n",
       "      <th>1391</th>\n",
       "      <td>327</td>\n",
       "      <td>2</td>\n",
       "      <td>[incitement, violence, promotion, violent, ide...</td>\n",
       "      <td>[]</td>\n",
       "      <td>True</td>\n",
       "    </tr>\n",
       "    <tr>\n",
       "      <th>1392</th>\n",
       "      <td>327</td>\n",
       "      <td>3</td>\n",
       "      <td>[harassment, block, evasion, dogpiling, doxxin...</td>\n",
       "      <td>[]</td>\n",
       "      <td>True</td>\n",
       "    </tr>\n",
       "    <tr>\n",
       "      <th>1393</th>\n",
       "      <td>327</td>\n",
       "      <td>4</td>\n",
       "      <td>[share, information, widely, known, false, mis...</td>\n",
       "      <td>[]</td>\n",
       "      <td>False</td>\n",
       "    </tr>\n",
       "    <tr>\n",
       "      <th>1394</th>\n",
       "      <td>327</td>\n",
       "      <td>5</td>\n",
       "      <td>[follow, posting, guidelines]</td>\n",
       "      <td>[https, info, jaxbeach, social, posting, guide...</td>\n",
       "      <td>False</td>\n",
       "    </tr>\n",
       "  </tbody>\n",
       "</table>\n",
       "<p>1395 rows × 5 columns</p>\n",
       "</div>"
      ],
      "text/plain": [
       "      server_id rule_id                                               text  \\\n",
       "0             0       1  [sexually, explicit, violent, media, must, mar...   \n",
       "1             0       3  [incitement, violence, promotion, violent, ide...   \n",
       "2             0       4  [harassment, block, evasion, dogpiling, doxxin...   \n",
       "3             0       7  [share, information, widely, known, false, mis...   \n",
       "4             0    1008  [content, created, others, must, attributed, u...   \n",
       "...         ...     ...                                                ...   \n",
       "1390        322      21  [instance, jurisdiction, western, australia, p...   \n",
       "1391        327       2  [incitement, violence, promotion, violent, ide...   \n",
       "1392        327       3  [harassment, block, evasion, dogpiling, doxxin...   \n",
       "1393        327       4  [share, information, widely, known, false, mis...   \n",
       "1394        327       5                      [follow, posting, guidelines]   \n",
       "\n",
       "                                                   hint  strict_rule  \n",
       "0     [includes, content, particularly, provocative,...        False  \n",
       "1     [calling, people, groups, assassinated, murder...         True  \n",
       "2     [repeat, attempts, communicate, users, blocked...         True  \n",
       "3     [false, misleading, information, links, low, q...        False  \n",
       "4     [content, created, others, must, clearly, prov...        False  \n",
       "...                                                 ...          ...  \n",
       "1390                                                 []        False  \n",
       "1391                                                 []         True  \n",
       "1392                                                 []         True  \n",
       "1393                                                 []        False  \n",
       "1394  [https, info, jaxbeach, social, posting, guide...        False  \n",
       "\n",
       "[1395 rows x 5 columns]"
      ]
     },
     "execution_count": 63,
     "metadata": {},
     "output_type": "execute_result"
    }
   ],
   "source": [
    "# Natural language processing\n",
    "import nltk\n",
    "from nltk.corpus import stopwords\n",
    "from sklearn.feature_extraction.text import TfidfVectorizer\n",
    "\n",
    "# Download stopwords if not already done\n",
    "nltk.download('stopwords')\n",
    "\n",
    "# Set of English stopwords\n",
    "stop_words = set(stopwords.words('english')).union(set(stopwords.words('french'))).union(set(stopwords.words('german'))).union(set(stopwords.words('spanish')))\n",
    "\n",
    "# Remove stop words from the tokenized lists\n",
    "standardized_df[\"text\"] = standardized_df[\"text\"].apply(lambda words: [word for word in words if word not in stop_words] if isinstance(words, list) else words)\n",
    "standardized_df[\"hint\"] = standardized_df[\"hint\"].apply(lambda words: [word for word in words if word not in stop_words] if isinstance(words, list) else words)\n",
    "\n",
    "# Lemmatize tokens\n",
    "# No need to lemmatize for berTOPIC\n",
    "#standardized_df[\"text\"] = standardized_df[\"text\"].apply(lemmatize)\n",
    "#standardized_df[\"hint\"] = standardized_df[\"hint\"].apply(lemmatize)\n",
    "\n",
    "standardized_df"
   ]
  },
  {
   "cell_type": "code",
   "execution_count": 64,
   "id": "663a236b",
   "metadata": {},
   "outputs": [
    {
     "data": {
      "text/plain": [
       "document\n",
       "content          396\n",
       "must             174\n",
       "accounts         140\n",
       "violent          133\n",
       "users            127\n",
       "                ... \n",
       "contributors       1\n",
       "disrespectful      1\n",
       "file               1\n",
       "famichiki          1\n",
       "jaxbeach           1\n",
       "Name: count, Length: 2726, dtype: int64"
      ]
     },
     "execution_count": 64,
     "metadata": {},
     "output_type": "execute_result"
    }
   ],
   "source": [
    "#tokenize each text and each hint\n",
    "nlp_df = standardized_df.copy()\n",
    "\n",
    "nlp_df[\"document\"] = nlp_df.apply(create_document, axis=1)\n",
    "\n",
    "vocab = nlp_df[\"document\"].explode().unique()\n",
    "nlp_df[\"document\"].explode().value_counts()"
   ]
  },
  {
   "cell_type": "code",
   "execution_count": 65,
   "id": "f760de55",
   "metadata": {},
   "outputs": [
    {
     "name": "stdout",
     "output_type": "stream",
     "text": [
      "TF-IDF matrix shape: (1395, 2711)\n"
     ]
    }
   ],
   "source": [
    "# TF-IDF scores\n",
    "# Join the tokens back into strings\n",
    "nlp_df['document_str'] = nlp_df['document'].apply(lambda x: ' '.join(x))\n",
    "\n",
    "# Create and fit TF-IDF Vectorizer\n",
    "tfidf_vect = TfidfVectorizer()\n",
    "tfidf_matrix = tfidf_vect.fit_transform(nlp_df['document_str'])\n",
    "\n",
    "# Get feature names (words)\n",
    "feature_names = tfidf_vect.get_feature_names_out()\n",
    "\n",
    "tfidf = pd.DataFrame(tfidf_matrix.toarray(), columns=feature_names)\n",
    "print(f\"TF-IDF matrix shape: {tfidf_matrix.shape}\")\n",
    "    "
   ]
  },
  {
   "cell_type": "code",
   "execution_count": 66,
   "id": "b244df01",
   "metadata": {},
   "outputs": [
    {
     "name": "stdout",
     "output_type": "stream",
     "text": [
      "Top 10 terms by average TF-IDF score:\n",
      "            term     score\n",
      "540      content  0.042975\n",
      "2623     violent  0.030025\n",
      "1922   promotion  0.027371\n",
      "2622    violence  0.027367\n",
      "1136  harassment  0.026950\n",
      "2582       users  0.026153\n",
      "1599        must  0.023212\n",
      "1248  incitement  0.022352\n",
      "1214  ideologies  0.021237\n",
      "784      doxxing  0.020395\n"
     ]
    }
   ],
   "source": [
    "# Display top terms with highest average TF-IDF scores\n",
    "mean_tfidf = tfidf_matrix.mean(axis=0).A1\n",
    "term_scores = pd.DataFrame({'term': feature_names, 'score': mean_tfidf})\n",
    "print(\"Top 10 terms by average TF-IDF score:\")\n",
    "print(term_scores.sort_values('score', ascending=False).head(10))"
   ]
  },
  {
   "cell_type": "code",
   "execution_count": 88,
   "id": "5e21c3e2",
   "metadata": {},
   "outputs": [
    {
     "name": "stdout",
     "output_type": "stream",
     "text": [
      "Top TF-IDF words for document 788:\n",
      "nsfw          0.418596\n",
      "borderline    0.361127\n",
      "construed     0.361127\n",
      "glance        0.347197\n",
      "could         0.327563\n",
      "Name: 788, dtype: float64 \n",
      "\n",
      "Top TF-IDF words for document 1515:\n",
      "gratuitous    0.412529\n",
      "serves        0.412529\n",
      "obscenity     0.396616\n",
      "practical     0.396616\n",
      "benefit       0.384273\n",
      "Name: 1515, dtype: float64 \n",
      "\n",
      "Top TF-IDF words for document 921:\n",
      "ban            0.414406\n",
      "rules          0.308624\n",
      "authorities    0.257913\n",
      "depending      0.257913\n",
      "failure        0.257913\n",
      "Name: 921, dtype: float64 \n",
      "\n",
      "Top TF-IDF words for document 364:\n",
      "accounts       0.488438\n",
      "joke           0.338930\n",
      "necessarily    0.338930\n",
      "remote         0.338930\n",
      "celebrity      0.321453\n",
      "Name: 364, dtype: float64 \n",
      "\n",
      "Top TF-IDF words for document 873:\n",
      "intentionally    0.484170\n",
      "false            0.449582\n",
      "misleading       0.449582\n",
      "share            0.444260\n",
      "information      0.404926\n",
      "Name: 873, dtype: float64 \n",
      "\n"
     ]
    }
   ],
   "source": [
    "# Display the top TF-IDF words for a few sample documents\n",
    "sample_indices = np.random.choice(tfidf.index, size=5, replace=False)\n",
    "for idx in sample_indices:\n",
    "    print(f\"Top TF-IDF words for document {idx}:\")\n",
    "    doc_tfidf = tfidf.iloc[idx]\n",
    "    top_words = doc_tfidf.nlargest(5)\n",
    "    print(top_words, '\\n')"
   ]
  },
  {
   "cell_type": "code",
   "execution_count": 68,
   "id": "3a781ab5",
   "metadata": {},
   "outputs": [],
   "source": [
    "# Topic modeling\n",
    "from bertopic import BERTopic\n",
    "\n",
    "topic_model = BERTopic()\n",
    "topics, probs = topic_model.fit_transform(nlp_df['document_str'])"
   ]
  },
  {
   "cell_type": "code",
   "execution_count": 69,
   "id": "e3ba9399",
   "metadata": {},
   "outputs": [
    {
     "data": {
      "application/vnd.microsoft.datawrangler.viewer.v0+json": {
       "columns": [
        {
         "name": "index",
         "rawType": "int64",
         "type": "integer"
        },
        {
         "name": "Topic",
         "rawType": "int64",
         "type": "integer"
        },
        {
         "name": "Count",
         "rawType": "int64",
         "type": "integer"
        },
        {
         "name": "Name",
         "rawType": "object",
         "type": "string"
        },
        {
         "name": "Representation",
         "rawType": "object",
         "type": "unknown"
        },
        {
         "name": "Representative_Docs",
         "rawType": "object",
         "type": "unknown"
        }
       ],
       "conversionMethod": "pd.DataFrame",
       "ref": "6d9c7218-fa16-4d1d-9676-0cf2d2258431",
       "rows": [
        [
         "0",
         "-1",
         "310",
         "-1_spam_accounts_advertising_racism",
         "['spam', 'accounts', 'advertising', 'racism', 'transphobia', 'misgendering', 'promotion', 'homophobia', 'deadnaming', 'discrimination']",
         "['respectful racism sexism homophobia transphobia including targeted misgendering deadnaming promotion called conversion therapy xenophobia forms hate discrimination welcome behaviour elsewhere may considered brought attention', 'respectful racism sexism homophobia transphobia including targeted misgendering deadnaming promotion called conversion therapy xenophobia forms hate discrimination welcome behaviour elsewhere may considered brought attention', 'discrimination including limited racism sexism homophobia transphobia including targeted misgendering deadnaming promotion called conversion therapy']"
        ],
        [
         "1",
         "0",
         "107",
         "0_content_nsfw_warning_cw",
         "['content', 'nsfw', 'warning', 'cw', 'warnings', 'adult', 'sensitive', 'nudity', 'explicit', 'depictions']",
         "['nsfw without content warning', 'posts contain nudity sexually explicit violent content must marked nsfw content warning media marked sensitive posting see https fedi tips use content warnings cws mastodon fediverse use cw', 'nsfw content warning nsfw content must cw unsure use cw']"
        ],
        [
         "2",
         "1",
         "92",
         "1_harassment_threats_harass_bullying",
         "['harassment', 'threats', 'harass', 'bullying', 'kind', 'attacks', 'trolling', 'users', 'violence', 'anyone']",
         "['harassment bullying doxxing users', 'harassment users', 'harass anyone participate group harassment anyone otherwise engage personal attacks posting threatening post people personally identifying information doxing constitutes harassment']"
        ],
        [
         "3",
         "2",
         "78",
         "2_ideologies_incitement_violence_promotion",
         "['ideologies', 'incitement', 'violence', 'promotion', 'violent', 'white', 'supremacy', 'harm', 'self', 'attacked']",
         "['incitement violence promotion violent ideologies', 'incitement violence promotion violent ideologies', 'incitement violence promotion violent ideologies']"
        ],
        [
         "4",
         "3",
         "69",
         "3_illegal_laws_content_states",
         "['illegal', 'laws', 'content', 'states', 'united', 'copyrighted', 'law', 'upload', 'dmca', 'child']",
         "['content illegal united states', 'content illegal united states', 'content illegal united states']"
        ],
        [
         "5",
         "4",
         "55",
         "4_bots_bot_unlisted_automated",
         "['bots', 'bot', 'unlisted', 'automated', 'post', 'accounts', 'posts', 'hour', 'must', 'twitter']",
         "['automated bot accounts must enable bot flag account preferences respect nobot markers post unlisted unless making less one post per hour', 'automated bot accounts must enable bot flag account preferences respect nobot markers post unlisted unless making less one post per hour', 'may operate bots must follow rules must japanese media related bots post 4 public posts hour 16 unlisted posts hour repetitive posts unless unlisted bots cannot use chat bots g chatgpt']"
        ],
        [
         "6",
         "5",
         "46",
         "5_respect_treat_respectful_everyone",
         "['respect', 'treat', 'respectful', 'everyone', 'welcoming', 'people', 'nice', 'good', 'pronouns', 'treated']",
         "['always kind polite treat others respect', 'treat people respect', 'treat everyone respect']"
        ],
        [
         "7",
         "6",
         "44",
         "6_report_rules_admins_admin",
         "['report', 'rules', 'admins', 'admin', 'team', 'moderation', 'moderators', 'ban', 'moderator', 'final']",
         "['please report violations rules admin', 'please report issues admins moderators let us take care please act admin moderator instead report adverse activity team handle properly well make reports admins', 'see violation rules report moderation team']"
        ],
        [
         "8",
         "7",
         "38",
         "7_impersonation_parody_clearly_impersonate",
         "['impersonation', 'parody', 'clearly', 'impersonate', 'unless', 'accounts', 'organisations', 'person', 'individuals', 'figures']",
         "['impersonation individuals public figures organisations unless clearly marked parody', 'impersonation individuals public figures organisations unless clearly marked parody', 'impersonation individuals public figures organisations unless clearly marked parody']"
        ],
        [
         "9",
         "8",
         "36",
         "8_dogpiling_doxxing_harassment_users",
         "['dogpiling', 'doxxing', 'harassment', 'users', 'contacted', 'wish', 'contact', 'form', 'user', 'brigading']",
         "['harassment dogpiling doxxing users', 'harassment dogpiling doxxing users', 'harassment dogpiling doxxing users']"
        ],
        [
         "10",
         "9",
         "32",
         "9_years_18_least_old",
         "['years', '18', 'least', 'old', '13', 'age', '16', 'older', 'must', 'service']",
         "['must least 18 years old use site', 'must least 18 years old use service', 'use service least 18 years old']"
        ],
        [
         "11",
         "10",
         "30",
         "10_marked_media_sexually_sensitive",
         "['marked', 'media', 'sexually', 'sensitive', 'posting', 'explicit', 'violent', 'must', 'warned', 'offensive']",
         "['sexually explicit violent media must marked sensitive posting', 'sexually explicit violent media must marked sensitive posting', 'sexually explicit violent media must marked sensitive posting']"
        ],
        [
         "12",
         "11",
         "30",
         "11_false_misleading_intentionally_share",
         "['false', 'misleading', 'intentionally', 'share', 'information', 'widely', 'known', 'knowingly', 'quality', 'endanger']",
         "['share intentionally false misleading information', 'share intentionally false misleading information', 'share intentionally false misleading information']"
        ],
        [
         "13",
         "12",
         "27",
         "12_misinformation_false_misleading_information",
         "['misinformation', 'false', 'misleading', 'information', 'disinformation', 'intentionally', 'spreading', 'news', 'fake', 'pose']",
         "['intentionally false misleading information', 'misinformation disinformation share intentionally false misleading information', 'disinformation false misleading information']"
        ],
        [
         "14",
         "13",
         "27",
         "13_english_languages_language_posts",
         "['english', 'languages', 'language', 'posts', 'please', 'norwegian', 'deepl', 'translation', 'berlin', 'preferred']",
         "['english language admin team primary language english language trained qualified support', 'english preferred please make sure members group understand please use english language links posts languages ok', 'languages allowed norwegian english portuguese moderation issues posts languages deleted']"
        ],
        [
         "15",
         "14",
         "26",
         "14_advertising_commercial_seo_ads",
         "['advertising', 'commercial', 'seo', 'ads', 'spam', 'music', 'advertisements', 'creative', 'promotional', 'campaigns']",
         "['spam including commercial advertising promotion seo', 'spam includes commercial advertising promotion services seo', 'spam includes commercial advertising promotion services seo']"
        ],
        [
         "16",
         "15",
         "26",
         "15_sexism_casteism_xenophobia_racism",
         "['sexism', 'casteism', 'xenophobia', 'racism', 'transphobia', 'homophobia', 'ableism', 'bigotry', 'anti', 'semitism']",
         "['racism sexism homophobia transphobia xenophobia casteism', 'racism sexism homophobia transphobia xenophobia casteism', 'racism sexism homophobia transphobia xenophobia casteism']"
        ],
        [
         "17",
         "16",
         "21",
         "16_generated_art_attributed_disclosed",
         "['generated', 'art', 'attributed', 'disclosed', 'must', 'created', 'opinions', 'training', 'indie', 'post']",
         "['content created others must attributed use generative must disclosed content created others must clearly provide reference author creator source adult content include performers accounts may solely post generated content', 'content created others must attributed use must disclosed profiles post generated content tolerated', 'content created others must attributed use must disclosed profiles post generated content tolerated']"
        ],
        [
         "18",
         "17",
         "20",
         "17_dogpiling_doxxing_users_harassment",
         "['dogpiling', 'doxxing', 'users', 'harassment', 'harrassment', 'reporting', 'mass', 'spam', 'dogpile', 'piling']",
         "['harassment dogpiling doxxing users', 'harassment dogpiling doxxing users', 'harassment dogpiling doxxing users']"
        ],
        [
         "19",
         "18",
         "18",
         "18_code_conduct_terms_full",
         "['code', 'conduct', 'terms', 'full', 'agree', 'https', 'service', 'found', 'toot', 'comply']",
         "['agree terms service code conduct', 'full code conduct full code conduct found https docs google com document 1jxkuljkmwemv cb jaykg2l0stczehkdcqwimnkf6ko rules wording listed summarized brevity', 'full code conduct full code conduct found https docs google com document 1jxkuljkmwemv cb jaykg2l0stczehkdcqwimnkf6ko rules wording listed summarized brevity']"
        ],
        [
         "20",
         "19",
         "18",
         "19_sexually_media_violent_explicit",
         "['sexually', 'media', 'violent', 'explicit', 'gratuitous', 'serves', 'obscenity', 'practical', 'benefit', 'offensive']",
         "['sexually explicit violent posts media allowed', 'sexually explicit violent posts media allowed', 'sexually explicit violent media']"
        ],
        [
         "21",
         "20",
         "18",
         "20_mastodon_servers_abides_nz",
         "['mastodon', 'servers', 'abides', 'nz', 'server', 'covenant', 'answer', 'charter', 'rules', 'hosted']",
         "['mastodon servers break rules banned federating nfld possible follow users servers around world federated timeline streams posts servers break rules limited blocked communicating us', 'please direct requests site features mastodon open source project may implement downstream changes specific instance see fit wish maintain relative parity latest stable mastodon release', 'server abides mastodon covenant']"
        ],
        [
         "22",
         "21",
         "18",
         "21_header_avatars_nsfw_images",
         "['header', 'avatars', 'nsfw', 'images', 'explicit', 'markers', 'content', 'used', 'avatar', 'user']",
         "['explicit nsfw content without content warnings sensitive media markers explicit content must used user avatars header images', 'explicit nsfw content without content warnings sensitive media markers explicit content must used user avatars header images', 'explicit nsfw content without content warnings sensitive media markers explicit content must used user avatars header images']"
        ],
        [
         "23",
         "22",
         "17",
         "22_email_apple_corporate_accounts",
         "['email', 'apple', 'corporate', 'accounts', 'organisation', 'address', 'net', 'business', 'account', 'organization']",
         "['valid reachable email required temporary email accounts sorry sell emails sign bullshit need able reach issue account', 'usage disposable email services registration allowed email address use needs long term email address accessible using forwarding services apple mail privacy feature totally fine long email address used used future communication', 'business organizations accounts allowed email used sign organization owned domain example mastodon user apple must use email owned apple like apple com gmail hotmail protonmail etc allowed without prior approval admins']"
        ],
        [
         "24",
         "23",
         "17",
         "23_spam_malicious_links_network",
         "['spam', 'malicious', 'links', 'network', 'spamming', '4chan', 'style', 'represent', 'memes', 'posting']",
         "['posting malicious links', 'posting malicious links', 'spam posting malicious links']"
        ],
        [
         "25",
         "24",
         "17",
         "24_conspiracy_theories_supporting_myths",
         "['conspiracy', 'theories', 'supporting', 'myths', 'leading', 'narratives', 'mentioned', 'reactionary', 'news', 'similar']",
         "['misinformation conspiracy theories', 'conspiracy theories', 'conspiracy theories']"
        ],
        [
         "26",
         "25",
         "17",
         "25_discrimination_homophobia_transphobia_racism",
         "['discrimination', 'homophobia', 'transphobia', 'racism', 'sexism', 'diversity', 'including', 'limited', 'racial', 'thereof']",
         "['discrimination including limited racism sexism homophobia transphobia', 'discrimination including racism sexism homophobia transphobia', 'discrimination including racism sexism homophobia transphobia']"
        ],
        [
         "27",
         "26",
         "16",
         "26_nfts_cryptocurrencies_crypto_blockchain",
         "['nfts', 'cryptocurrencies', 'crypto', 'blockchain', 'web3', 'cryptocurrency', 'available', 'suitable', 'nft', 'promotion']",
         "['promotion crypto nfts', 'blockchain crypto nfts', 'nfts crypto blockchain']"
        ],
        [
         "28",
         "27",
         "16",
         "27_privacy_private_information_addresses",
         "['privacy', 'private', 'information', 'addresses', 'personal', 'others', 'consent', 'data', 'respect', 'without']",
         "['doxxing share personal information others without consent', 'respect privacy others share personal information without explicit permission respect privacy rights others', 'respectful privacy reveal request personal sensitive information others without consent post share content violates privacy security others impersonate misrepresent others']"
        ],
        [
         "29",
         "28",
         "15",
         "28_kingdom_united_illegal_germany",
         "['kingdom', 'united', 'illegal', 'germany', 'countries', 'following', 'content', 'strictly', 'considered', 'belgian']",
         "['content illegal united kingdom', 'content illegal united kingdom', 'content illegal united kingdom']"
        ],
        [
         "30",
         "29",
         "14",
         "29_hate_speech_radical_love",
         "['hate', 'speech', 'radical', 'love', 'ideas', 'condone', 'insulting', 'kind', 'toxic', 'racism']",
         "['hate speech', 'hate speech', 'hate speech']"
        ],
        [
         "31",
         "30",
         "14",
         "30_excessive_spam_mass_advertising",
         "['excessive', 'spam', 'mass', 'advertising', 'boosting', 'unsolicited', 'accordingly', 'marketing', 'posts', 'actioned']",
         "['advertising spam excessive promotion', 'spamming excessive posting boosting advertising mass marketing posts actioned accordingly based intent', 'spamming excessive posting boosting advertising mass marketing posts actioned accordingly based intent']"
        ],
        [
         "32",
         "31",
         "14",
         "31_germany_illegal_okay_german",
         "['germany', 'illegal', 'okay', 'german', 'content', 'immediate', 'suspension', 'lead', 'deleted', 'law']",
         "['content illegal germany', 'content illegal germany', 'content illegal germany']"
        ],
        [
         "33",
         "32",
         "14",
         "32_symbolism_nazi_socialism_ideology",
         "['symbolism', 'nazi', 'socialism', 'ideology', 'national', 'nationalist', 'propaganda', 'holocaust', 'denial', 'promoting']",
         "['agree promote advocate violent nationalist propaganda fascism nazi symbolism promoting ideology national socialism', 'tolerate violent nationalist propaganda nazi symbolism promoting ideology national socialism', 'nationalist propaganda nazi symbolism allowed server tolerated promotion ideology national socialism forbidden']"
        ],
        [
         "34",
         "33",
         "14",
         "33_pawb_social_accounts_account",
         "['pawb', 'social', 'accounts', 'account', 'services', 'government', 'interaction', 'rule', 'brand', 'may']",
         "['rule 8 5 bypassing suspension suspended pawb social instance may create another account services', 'rule 8 4 unauthorized brand government accounts brand government affiliated account may registered pawb social services without prior written publicly recorded approval except furry fandom operated brands events covered exception full rules rule applies accounts pawb social services', 'rule 8 4 unauthorized brand government accounts brand government affiliated account may registered pawb social services without prior written publicly recorded approval except furry fandom operated brands events covered exception full rules rule applies accounts pawb social services']"
        ],
        [
         "35",
         "34",
         "13",
         "34_reason_join_requests_rejected",
         "['reason', 'join', 'requests', 'rejected', 'want', 'field', 'application', 'signing', 'sign', 'accepted']",
         "['must describe link nz part reason wanting join next page applications without declined must kiwi honorary kiwi home abroad join mastodon nz', 'important applying agree server rules please give genuine reason would like join applications short generic answers like games leaving twitter declined english speaking server thanks', 'new account requests must meaningful reason requesting new account must include meaningful reason joining server requests word two reason reason make sense rejected']"
        ],
        [
         "36",
         "35",
         "11",
         "35_speech_hate_nationality_religion",
         "['speech', 'hate', 'nationality', 'religion', 'gender', 'race', 'orientation', 'identity', 'sexual', 'age']",
         "['hate speech discrimination group people nationality ethnicity religion gender sexual orientation', 'hate speech hate speech defined derogatory posts links targeting individual group based race mental physical disability religion gender identity sex nationality age class sexual orientation', 'hate speech hate speech defined derogatory posts links targeting individual group based race mental physical disability religion gender identity sex nationality age class sexual orientation']"
        ]
       ],
       "shape": {
        "columns": 5,
        "rows": 37
       }
      },
      "text/html": [
       "<div>\n",
       "<style scoped>\n",
       "    .dataframe tbody tr th:only-of-type {\n",
       "        vertical-align: middle;\n",
       "    }\n",
       "\n",
       "    .dataframe tbody tr th {\n",
       "        vertical-align: top;\n",
       "    }\n",
       "\n",
       "    .dataframe thead th {\n",
       "        text-align: right;\n",
       "    }\n",
       "</style>\n",
       "<table border=\"1\" class=\"dataframe\">\n",
       "  <thead>\n",
       "    <tr style=\"text-align: right;\">\n",
       "      <th></th>\n",
       "      <th>Topic</th>\n",
       "      <th>Count</th>\n",
       "      <th>Name</th>\n",
       "      <th>Representation</th>\n",
       "      <th>Representative_Docs</th>\n",
       "    </tr>\n",
       "  </thead>\n",
       "  <tbody>\n",
       "    <tr>\n",
       "      <th>0</th>\n",
       "      <td>-1</td>\n",
       "      <td>310</td>\n",
       "      <td>-1_spam_accounts_advertising_racism</td>\n",
       "      <td>[spam, accounts, advertising, racism, transpho...</td>\n",
       "      <td>[respectful racism sexism homophobia transphob...</td>\n",
       "    </tr>\n",
       "    <tr>\n",
       "      <th>1</th>\n",
       "      <td>0</td>\n",
       "      <td>107</td>\n",
       "      <td>0_content_nsfw_warning_cw</td>\n",
       "      <td>[content, nsfw, warning, cw, warnings, adult, ...</td>\n",
       "      <td>[nsfw without content warning, posts contain n...</td>\n",
       "    </tr>\n",
       "    <tr>\n",
       "      <th>2</th>\n",
       "      <td>1</td>\n",
       "      <td>92</td>\n",
       "      <td>1_harassment_threats_harass_bullying</td>\n",
       "      <td>[harassment, threats, harass, bullying, kind, ...</td>\n",
       "      <td>[harassment bullying doxxing users, harassment...</td>\n",
       "    </tr>\n",
       "    <tr>\n",
       "      <th>3</th>\n",
       "      <td>2</td>\n",
       "      <td>78</td>\n",
       "      <td>2_ideologies_incitement_violence_promotion</td>\n",
       "      <td>[ideologies, incitement, violence, promotion, ...</td>\n",
       "      <td>[incitement violence promotion violent ideolog...</td>\n",
       "    </tr>\n",
       "    <tr>\n",
       "      <th>4</th>\n",
       "      <td>3</td>\n",
       "      <td>69</td>\n",
       "      <td>3_illegal_laws_content_states</td>\n",
       "      <td>[illegal, laws, content, states, united, copyr...</td>\n",
       "      <td>[content illegal united states, content illega...</td>\n",
       "    </tr>\n",
       "    <tr>\n",
       "      <th>5</th>\n",
       "      <td>4</td>\n",
       "      <td>55</td>\n",
       "      <td>4_bots_bot_unlisted_automated</td>\n",
       "      <td>[bots, bot, unlisted, automated, post, account...</td>\n",
       "      <td>[automated bot accounts must enable bot flag a...</td>\n",
       "    </tr>\n",
       "    <tr>\n",
       "      <th>6</th>\n",
       "      <td>5</td>\n",
       "      <td>46</td>\n",
       "      <td>5_respect_treat_respectful_everyone</td>\n",
       "      <td>[respect, treat, respectful, everyone, welcomi...</td>\n",
       "      <td>[always kind polite treat others respect, trea...</td>\n",
       "    </tr>\n",
       "    <tr>\n",
       "      <th>7</th>\n",
       "      <td>6</td>\n",
       "      <td>44</td>\n",
       "      <td>6_report_rules_admins_admin</td>\n",
       "      <td>[report, rules, admins, admin, team, moderatio...</td>\n",
       "      <td>[please report violations rules admin, please ...</td>\n",
       "    </tr>\n",
       "    <tr>\n",
       "      <th>8</th>\n",
       "      <td>7</td>\n",
       "      <td>38</td>\n",
       "      <td>7_impersonation_parody_clearly_impersonate</td>\n",
       "      <td>[impersonation, parody, clearly, impersonate, ...</td>\n",
       "      <td>[impersonation individuals public figures orga...</td>\n",
       "    </tr>\n",
       "    <tr>\n",
       "      <th>9</th>\n",
       "      <td>8</td>\n",
       "      <td>36</td>\n",
       "      <td>8_dogpiling_doxxing_harassment_users</td>\n",
       "      <td>[dogpiling, doxxing, harassment, users, contac...</td>\n",
       "      <td>[harassment dogpiling doxxing users, harassmen...</td>\n",
       "    </tr>\n",
       "    <tr>\n",
       "      <th>10</th>\n",
       "      <td>9</td>\n",
       "      <td>32</td>\n",
       "      <td>9_years_18_least_old</td>\n",
       "      <td>[years, 18, least, old, 13, age, 16, older, mu...</td>\n",
       "      <td>[must least 18 years old use site, must least ...</td>\n",
       "    </tr>\n",
       "    <tr>\n",
       "      <th>11</th>\n",
       "      <td>10</td>\n",
       "      <td>30</td>\n",
       "      <td>10_marked_media_sexually_sensitive</td>\n",
       "      <td>[marked, media, sexually, sensitive, posting, ...</td>\n",
       "      <td>[sexually explicit violent media must marked s...</td>\n",
       "    </tr>\n",
       "    <tr>\n",
       "      <th>12</th>\n",
       "      <td>11</td>\n",
       "      <td>30</td>\n",
       "      <td>11_false_misleading_intentionally_share</td>\n",
       "      <td>[false, misleading, intentionally, share, info...</td>\n",
       "      <td>[share intentionally false misleading informat...</td>\n",
       "    </tr>\n",
       "    <tr>\n",
       "      <th>13</th>\n",
       "      <td>12</td>\n",
       "      <td>27</td>\n",
       "      <td>12_misinformation_false_misleading_information</td>\n",
       "      <td>[misinformation, false, misleading, informatio...</td>\n",
       "      <td>[intentionally false misleading information, m...</td>\n",
       "    </tr>\n",
       "    <tr>\n",
       "      <th>14</th>\n",
       "      <td>13</td>\n",
       "      <td>27</td>\n",
       "      <td>13_english_languages_language_posts</td>\n",
       "      <td>[english, languages, language, posts, please, ...</td>\n",
       "      <td>[english language admin team primary language ...</td>\n",
       "    </tr>\n",
       "    <tr>\n",
       "      <th>15</th>\n",
       "      <td>14</td>\n",
       "      <td>26</td>\n",
       "      <td>14_advertising_commercial_seo_ads</td>\n",
       "      <td>[advertising, commercial, seo, ads, spam, musi...</td>\n",
       "      <td>[spam including commercial advertising promoti...</td>\n",
       "    </tr>\n",
       "    <tr>\n",
       "      <th>16</th>\n",
       "      <td>15</td>\n",
       "      <td>26</td>\n",
       "      <td>15_sexism_casteism_xenophobia_racism</td>\n",
       "      <td>[sexism, casteism, xenophobia, racism, transph...</td>\n",
       "      <td>[racism sexism homophobia transphobia xenophob...</td>\n",
       "    </tr>\n",
       "    <tr>\n",
       "      <th>17</th>\n",
       "      <td>16</td>\n",
       "      <td>21</td>\n",
       "      <td>16_generated_art_attributed_disclosed</td>\n",
       "      <td>[generated, art, attributed, disclosed, must, ...</td>\n",
       "      <td>[content created others must attributed use ge...</td>\n",
       "    </tr>\n",
       "    <tr>\n",
       "      <th>18</th>\n",
       "      <td>17</td>\n",
       "      <td>20</td>\n",
       "      <td>17_dogpiling_doxxing_users_harassment</td>\n",
       "      <td>[dogpiling, doxxing, users, harassment, harras...</td>\n",
       "      <td>[harassment dogpiling doxxing users, harassmen...</td>\n",
       "    </tr>\n",
       "    <tr>\n",
       "      <th>19</th>\n",
       "      <td>18</td>\n",
       "      <td>18</td>\n",
       "      <td>18_code_conduct_terms_full</td>\n",
       "      <td>[code, conduct, terms, full, agree, https, ser...</td>\n",
       "      <td>[agree terms service code conduct, full code c...</td>\n",
       "    </tr>\n",
       "    <tr>\n",
       "      <th>20</th>\n",
       "      <td>19</td>\n",
       "      <td>18</td>\n",
       "      <td>19_sexually_media_violent_explicit</td>\n",
       "      <td>[sexually, media, violent, explicit, gratuitou...</td>\n",
       "      <td>[sexually explicit violent posts media allowed...</td>\n",
       "    </tr>\n",
       "    <tr>\n",
       "      <th>21</th>\n",
       "      <td>20</td>\n",
       "      <td>18</td>\n",
       "      <td>20_mastodon_servers_abides_nz</td>\n",
       "      <td>[mastodon, servers, abides, nz, server, covena...</td>\n",
       "      <td>[mastodon servers break rules banned federatin...</td>\n",
       "    </tr>\n",
       "    <tr>\n",
       "      <th>22</th>\n",
       "      <td>21</td>\n",
       "      <td>18</td>\n",
       "      <td>21_header_avatars_nsfw_images</td>\n",
       "      <td>[header, avatars, nsfw, images, explicit, mark...</td>\n",
       "      <td>[explicit nsfw content without content warning...</td>\n",
       "    </tr>\n",
       "    <tr>\n",
       "      <th>23</th>\n",
       "      <td>22</td>\n",
       "      <td>17</td>\n",
       "      <td>22_email_apple_corporate_accounts</td>\n",
       "      <td>[email, apple, corporate, accounts, organisati...</td>\n",
       "      <td>[valid reachable email required temporary emai...</td>\n",
       "    </tr>\n",
       "    <tr>\n",
       "      <th>24</th>\n",
       "      <td>23</td>\n",
       "      <td>17</td>\n",
       "      <td>23_spam_malicious_links_network</td>\n",
       "      <td>[spam, malicious, links, network, spamming, 4c...</td>\n",
       "      <td>[posting malicious links, posting malicious li...</td>\n",
       "    </tr>\n",
       "    <tr>\n",
       "      <th>25</th>\n",
       "      <td>24</td>\n",
       "      <td>17</td>\n",
       "      <td>24_conspiracy_theories_supporting_myths</td>\n",
       "      <td>[conspiracy, theories, supporting, myths, lead...</td>\n",
       "      <td>[misinformation conspiracy theories, conspirac...</td>\n",
       "    </tr>\n",
       "    <tr>\n",
       "      <th>26</th>\n",
       "      <td>25</td>\n",
       "      <td>17</td>\n",
       "      <td>25_discrimination_homophobia_transphobia_racism</td>\n",
       "      <td>[discrimination, homophobia, transphobia, raci...</td>\n",
       "      <td>[discrimination including limited racism sexis...</td>\n",
       "    </tr>\n",
       "    <tr>\n",
       "      <th>27</th>\n",
       "      <td>26</td>\n",
       "      <td>16</td>\n",
       "      <td>26_nfts_cryptocurrencies_crypto_blockchain</td>\n",
       "      <td>[nfts, cryptocurrencies, crypto, blockchain, w...</td>\n",
       "      <td>[promotion crypto nfts, blockchain crypto nfts...</td>\n",
       "    </tr>\n",
       "    <tr>\n",
       "      <th>28</th>\n",
       "      <td>27</td>\n",
       "      <td>16</td>\n",
       "      <td>27_privacy_private_information_addresses</td>\n",
       "      <td>[privacy, private, information, addresses, per...</td>\n",
       "      <td>[doxxing share personal information others wit...</td>\n",
       "    </tr>\n",
       "    <tr>\n",
       "      <th>29</th>\n",
       "      <td>28</td>\n",
       "      <td>15</td>\n",
       "      <td>28_kingdom_united_illegal_germany</td>\n",
       "      <td>[kingdom, united, illegal, germany, countries,...</td>\n",
       "      <td>[content illegal united kingdom, content illeg...</td>\n",
       "    </tr>\n",
       "    <tr>\n",
       "      <th>30</th>\n",
       "      <td>29</td>\n",
       "      <td>14</td>\n",
       "      <td>29_hate_speech_radical_love</td>\n",
       "      <td>[hate, speech, radical, love, ideas, condone, ...</td>\n",
       "      <td>[hate speech, hate speech, hate speech]</td>\n",
       "    </tr>\n",
       "    <tr>\n",
       "      <th>31</th>\n",
       "      <td>30</td>\n",
       "      <td>14</td>\n",
       "      <td>30_excessive_spam_mass_advertising</td>\n",
       "      <td>[excessive, spam, mass, advertising, boosting,...</td>\n",
       "      <td>[advertising spam excessive promotion, spammin...</td>\n",
       "    </tr>\n",
       "    <tr>\n",
       "      <th>32</th>\n",
       "      <td>31</td>\n",
       "      <td>14</td>\n",
       "      <td>31_germany_illegal_okay_german</td>\n",
       "      <td>[germany, illegal, okay, german, content, imme...</td>\n",
       "      <td>[content illegal germany, content illegal germ...</td>\n",
       "    </tr>\n",
       "    <tr>\n",
       "      <th>33</th>\n",
       "      <td>32</td>\n",
       "      <td>14</td>\n",
       "      <td>32_symbolism_nazi_socialism_ideology</td>\n",
       "      <td>[symbolism, nazi, socialism, ideology, nationa...</td>\n",
       "      <td>[agree promote advocate violent nationalist pr...</td>\n",
       "    </tr>\n",
       "    <tr>\n",
       "      <th>34</th>\n",
       "      <td>33</td>\n",
       "      <td>14</td>\n",
       "      <td>33_pawb_social_accounts_account</td>\n",
       "      <td>[pawb, social, accounts, account, services, go...</td>\n",
       "      <td>[rule 8 5 bypassing suspension suspended pawb ...</td>\n",
       "    </tr>\n",
       "    <tr>\n",
       "      <th>35</th>\n",
       "      <td>34</td>\n",
       "      <td>13</td>\n",
       "      <td>34_reason_join_requests_rejected</td>\n",
       "      <td>[reason, join, requests, rejected, want, field...</td>\n",
       "      <td>[must describe link nz part reason wanting joi...</td>\n",
       "    </tr>\n",
       "    <tr>\n",
       "      <th>36</th>\n",
       "      <td>35</td>\n",
       "      <td>11</td>\n",
       "      <td>35_speech_hate_nationality_religion</td>\n",
       "      <td>[speech, hate, nationality, religion, gender, ...</td>\n",
       "      <td>[hate speech discrimination group people natio...</td>\n",
       "    </tr>\n",
       "  </tbody>\n",
       "</table>\n",
       "</div>"
      ],
      "text/plain": [
       "    Topic  Count                                             Name  \\\n",
       "0      -1    310              -1_spam_accounts_advertising_racism   \n",
       "1       0    107                        0_content_nsfw_warning_cw   \n",
       "2       1     92             1_harassment_threats_harass_bullying   \n",
       "3       2     78       2_ideologies_incitement_violence_promotion   \n",
       "4       3     69                    3_illegal_laws_content_states   \n",
       "5       4     55                    4_bots_bot_unlisted_automated   \n",
       "6       5     46              5_respect_treat_respectful_everyone   \n",
       "7       6     44                      6_report_rules_admins_admin   \n",
       "8       7     38       7_impersonation_parody_clearly_impersonate   \n",
       "9       8     36             8_dogpiling_doxxing_harassment_users   \n",
       "10      9     32                             9_years_18_least_old   \n",
       "11     10     30               10_marked_media_sexually_sensitive   \n",
       "12     11     30          11_false_misleading_intentionally_share   \n",
       "13     12     27   12_misinformation_false_misleading_information   \n",
       "14     13     27              13_english_languages_language_posts   \n",
       "15     14     26                14_advertising_commercial_seo_ads   \n",
       "16     15     26             15_sexism_casteism_xenophobia_racism   \n",
       "17     16     21            16_generated_art_attributed_disclosed   \n",
       "18     17     20            17_dogpiling_doxxing_users_harassment   \n",
       "19     18     18                       18_code_conduct_terms_full   \n",
       "20     19     18               19_sexually_media_violent_explicit   \n",
       "21     20     18                    20_mastodon_servers_abides_nz   \n",
       "22     21     18                    21_header_avatars_nsfw_images   \n",
       "23     22     17                22_email_apple_corporate_accounts   \n",
       "24     23     17                  23_spam_malicious_links_network   \n",
       "25     24     17          24_conspiracy_theories_supporting_myths   \n",
       "26     25     17  25_discrimination_homophobia_transphobia_racism   \n",
       "27     26     16       26_nfts_cryptocurrencies_crypto_blockchain   \n",
       "28     27     16         27_privacy_private_information_addresses   \n",
       "29     28     15                28_kingdom_united_illegal_germany   \n",
       "30     29     14                      29_hate_speech_radical_love   \n",
       "31     30     14               30_excessive_spam_mass_advertising   \n",
       "32     31     14                   31_germany_illegal_okay_german   \n",
       "33     32     14             32_symbolism_nazi_socialism_ideology   \n",
       "34     33     14                  33_pawb_social_accounts_account   \n",
       "35     34     13                 34_reason_join_requests_rejected   \n",
       "36     35     11              35_speech_hate_nationality_religion   \n",
       "\n",
       "                                       Representation  \\\n",
       "0   [spam, accounts, advertising, racism, transpho...   \n",
       "1   [content, nsfw, warning, cw, warnings, adult, ...   \n",
       "2   [harassment, threats, harass, bullying, kind, ...   \n",
       "3   [ideologies, incitement, violence, promotion, ...   \n",
       "4   [illegal, laws, content, states, united, copyr...   \n",
       "5   [bots, bot, unlisted, automated, post, account...   \n",
       "6   [respect, treat, respectful, everyone, welcomi...   \n",
       "7   [report, rules, admins, admin, team, moderatio...   \n",
       "8   [impersonation, parody, clearly, impersonate, ...   \n",
       "9   [dogpiling, doxxing, harassment, users, contac...   \n",
       "10  [years, 18, least, old, 13, age, 16, older, mu...   \n",
       "11  [marked, media, sexually, sensitive, posting, ...   \n",
       "12  [false, misleading, intentionally, share, info...   \n",
       "13  [misinformation, false, misleading, informatio...   \n",
       "14  [english, languages, language, posts, please, ...   \n",
       "15  [advertising, commercial, seo, ads, spam, musi...   \n",
       "16  [sexism, casteism, xenophobia, racism, transph...   \n",
       "17  [generated, art, attributed, disclosed, must, ...   \n",
       "18  [dogpiling, doxxing, users, harassment, harras...   \n",
       "19  [code, conduct, terms, full, agree, https, ser...   \n",
       "20  [sexually, media, violent, explicit, gratuitou...   \n",
       "21  [mastodon, servers, abides, nz, server, covena...   \n",
       "22  [header, avatars, nsfw, images, explicit, mark...   \n",
       "23  [email, apple, corporate, accounts, organisati...   \n",
       "24  [spam, malicious, links, network, spamming, 4c...   \n",
       "25  [conspiracy, theories, supporting, myths, lead...   \n",
       "26  [discrimination, homophobia, transphobia, raci...   \n",
       "27  [nfts, cryptocurrencies, crypto, blockchain, w...   \n",
       "28  [privacy, private, information, addresses, per...   \n",
       "29  [kingdom, united, illegal, germany, countries,...   \n",
       "30  [hate, speech, radical, love, ideas, condone, ...   \n",
       "31  [excessive, spam, mass, advertising, boosting,...   \n",
       "32  [germany, illegal, okay, german, content, imme...   \n",
       "33  [symbolism, nazi, socialism, ideology, nationa...   \n",
       "34  [pawb, social, accounts, account, services, go...   \n",
       "35  [reason, join, requests, rejected, want, field...   \n",
       "36  [speech, hate, nationality, religion, gender, ...   \n",
       "\n",
       "                                  Representative_Docs  \n",
       "0   [respectful racism sexism homophobia transphob...  \n",
       "1   [nsfw without content warning, posts contain n...  \n",
       "2   [harassment bullying doxxing users, harassment...  \n",
       "3   [incitement violence promotion violent ideolog...  \n",
       "4   [content illegal united states, content illega...  \n",
       "5   [automated bot accounts must enable bot flag a...  \n",
       "6   [always kind polite treat others respect, trea...  \n",
       "7   [please report violations rules admin, please ...  \n",
       "8   [impersonation individuals public figures orga...  \n",
       "9   [harassment dogpiling doxxing users, harassmen...  \n",
       "10  [must least 18 years old use site, must least ...  \n",
       "11  [sexually explicit violent media must marked s...  \n",
       "12  [share intentionally false misleading informat...  \n",
       "13  [intentionally false misleading information, m...  \n",
       "14  [english language admin team primary language ...  \n",
       "15  [spam including commercial advertising promoti...  \n",
       "16  [racism sexism homophobia transphobia xenophob...  \n",
       "17  [content created others must attributed use ge...  \n",
       "18  [harassment dogpiling doxxing users, harassmen...  \n",
       "19  [agree terms service code conduct, full code c...  \n",
       "20  [sexually explicit violent posts media allowed...  \n",
       "21  [mastodon servers break rules banned federatin...  \n",
       "22  [explicit nsfw content without content warning...  \n",
       "23  [valid reachable email required temporary emai...  \n",
       "24  [posting malicious links, posting malicious li...  \n",
       "25  [misinformation conspiracy theories, conspirac...  \n",
       "26  [discrimination including limited racism sexis...  \n",
       "27  [promotion crypto nfts, blockchain crypto nfts...  \n",
       "28  [doxxing share personal information others wit...  \n",
       "29  [content illegal united kingdom, content illeg...  \n",
       "30            [hate speech, hate speech, hate speech]  \n",
       "31  [advertising spam excessive promotion, spammin...  \n",
       "32  [content illegal germany, content illegal germ...  \n",
       "33  [agree promote advocate violent nationalist pr...  \n",
       "34  [rule 8 5 bypassing suspension suspended pawb ...  \n",
       "35  [must describe link nz part reason wanting joi...  \n",
       "36  [hate speech discrimination group people natio...  "
      ]
     },
     "execution_count": 69,
     "metadata": {},
     "output_type": "execute_result"
    }
   ],
   "source": [
    "topic_model.get_topic_info()"
   ]
  },
  {
   "cell_type": "markdown",
   "id": "88fb420e",
   "metadata": {},
   "source": [
    "### Second Mastodon dataset"
   ]
  },
  {
   "cell_type": "code",
   "execution_count": 89,
   "id": "8ea6d9d7",
   "metadata": {},
   "outputs": [
    {
     "data": {
      "application/vnd.microsoft.datawrangler.viewer.v0+json": {
       "columns": [
        {
         "name": "index",
         "rawType": "int64",
         "type": "integer"
        },
        {
         "name": "server_id",
         "rawType": "int64",
         "type": "integer"
        },
        {
         "name": "rule_id",
         "rawType": "object",
         "type": "string"
        },
        {
         "name": "text",
         "rawType": "object",
         "type": "string"
        },
        {
         "name": "hint",
         "rawType": "object",
         "type": "unknown"
        }
       ],
       "conversionMethod": "pd.DataFrame",
       "ref": "ce08c6b0-54f2-4a8b-bcda-24225bb886d6",
       "rows": [
        [
         "0",
         "0",
         "1",
         "Sexually explicit or violent media must be marked as sensitive or with a content warning",
         "This includes content that is particularly provocative even if it may not show specific body parts, as well as dead bodies, bloody injuries, and other gore. Particularly obscene content may be prohibited entirely. Profile pictures and header images may not contain sexually explicit or violent media."
        ],
        [
         "1",
         "0",
         "2",
         "No racism, sexism, homophobia, transphobia, ableism, xenophobia, or casteism.",
         "Transphobic behavior such as intentional misgendering and deadnaming is strictly prohibited. Promotion of \"conversion therapy\" is strictly prohibited. Criticism of governments and religions is permissible unless being used as a proxy for discrimination."
        ],
        [
         "2",
         "0",
         "3",
         "No incitement of violence or promotion of violent ideologies",
         "Calling for people or groups to be assassinated, murdered, or attacked physically is strictly prohibited. Support for violent groups or events is prohibited."
        ],
        [
         "3",
         "0",
         "4",
         "No harassment, block evasion, dogpiling, or doxxing of others",
         "Repeat attempts to communicate with users who have blocked you or creation of accounts solely to harass or insult individuals is strictly prohibited. Coordinated activity to attack other users is prohibited. Posting of private personal information about others is prohibited."
        ],
        [
         "4",
         "0",
         "7",
         "Do not share information widely-known to be false and misleading",
         "False and misleading information and links from low-quality sources may not be posted, especially if they are likely to mislead or confuse others or endanger their safety."
        ],
        [
         "5",
         "0",
         "1008",
         "Content created by others must be attributed, and use of generative AI must be disclosed",
         "Content created by others must clearly provide a reference to the author, creator, or source. For adult content, this should include performers. Accounts may not solely post AI-generated content."
        ],
        [
         "6",
         "1",
         "2",
         "Sexually explicit or violent media must be marked as sensitive when posting.",
         ""
        ],
        [
         "7",
         "1",
         "3",
         "No spam or advertising.",
         ""
        ],
        [
         "8",
         "1",
         "4",
         "No racism, sexism, homophobia, transphobia, xenophobia, or casteism.",
         ""
        ],
        [
         "9",
         "1",
         "5",
         "No incitement of violence or promotion of violent ideologies.",
         ""
        ],
        [
         "10",
         "1",
         "6",
         "No harassment, dogpiling or doxxing of other users.",
         ""
        ],
        [
         "11",
         "1",
         "7",
         "No illegal content.",
         ""
        ],
        [
         "12",
         "1",
         "11",
         "No spreading of fake news or misinformation",
         ""
        ],
        [
         "13",
         "1",
         "12",
         "Content created by others must be attributed, and use of AI must be disclosed. Profiles that only post AI-generated content will not be tolerated.",
         ""
        ],
        [
         "14",
         "2",
         "1",
         "Do unto others as you think they would want done to them.  ",
         ""
        ],
        [
         "15",
         "2",
         "2",
         "Mark sensitive content with a content warning.  ",
         ""
        ],
        [
         "16",
         "2",
         "3",
         "Gratuitous obscenity that serves no practical benefit to a discussion is not permitted.",
         ""
        ],
        [
         "17",
         "2",
         "4",
         "Illegal content such as child pornography, unsurprisingly, is not permitted",
         ""
        ],
        [
         "18",
         "2",
         "5",
         "Spam is not permitted, this includes creating spam accounts that only serve to provide profile links or advertise products and services. ",
         ""
        ],
        [
         "19",
         "2",
         "6",
         "Hate speech and abusive or threatening behavior is not permitted, specifically that which directed at any gender, nationality, religion, race, age, pizza topping preference, or sexual identity.  One can hate on systemd all day long here.",
         ""
        ],
        [
         "20",
         "2",
         "7",
         "Lack of a specific rule against a certain behavior does not indicate acceptance of that behavior.  Each of us has a limited amount of time in this world.  Don't be a jerk.  ",
         ""
        ],
        [
         "21",
         "2",
         "8",
         "Violating one or more of these rules may result in an immediate, permanent ban without notice or warning.  ",
         ""
        ],
        [
         "22",
         "2",
         "9",
         "You may not impersonate a person or brand without a clear indication the account is unofficial and/or a parody. Parody accounts are permitted, as are legitimate brand accounts. ",
         ""
        ],
        [
         "23",
         "2",
         "11",
         "No attacks against (or from) the instance.\r\n\r\nYou may not do anything which may impact confidentiality, integrity or availability of Infosec.Exchange, the users of the service or their data.\r\nFor more details see https://wiki.infosec.exchange/rules/start",
         ""
        ],
        [
         "24",
         "2",
         "12",
         "No doxing (aka doxxing) or disclosing personal information without consent and as a means of harassing or causing others to harass another person.",
         ""
        ],
        [
         "25",
         "2",
         "13",
         "No harassment in the form of continued engagement after a person has requested contact to stop",
         ""
        ],
        [
         "26",
         "2",
         "14",
         "Automated posting:\r\n- accounts that post >50% using automation must be labeled as a “bot” in the user profile to help provide a visual indicator to visitors\r\n- automated posts must be limited to one post per hour/24 per day with post visibility set to “public”. There is no limit on “unlisted” posts.",
         ""
        ],
        [
         "27",
         "2",
         "15",
         "Soliciting or inciting violence or harm against a person or segment of people is not permitted. ",
         ""
        ],
        [
         "28",
         "3",
         "9",
         "No discrimination, including (but not limited to) racism, sexism, homophobia or transphobia (including targeted misgendering, deadnaming, or promotion of so-called 'conversion therapy').",
         ""
        ],
        [
         "29",
         "3",
         "10",
         "No explicit (NSFW) content without content warnings and/or sensitive media markers. Explicit content must not be used in user avatars or header images.",
         ""
        ],
        [
         "30",
         "3",
         "17",
         "No harassment of other users on this or other servers.",
         ""
        ],
        [
         "31",
         "3",
         "18",
         "No content illegal in the following countries: United Kingdom, Germany",
         ""
        ],
        [
         "32",
         "3",
         "19",
         "No incitement of violence or promotion of violent ideologies.",
         ""
        ],
        [
         "33",
         "3",
         "20",
         "No disinformation regarding public health issues or political/military campaigns.",
         ""
        ],
        [
         "34",
         "3",
         "21",
         "No spam. This includes commercial advertising, promotion of services, and SEO.",
         ""
        ],
        [
         "35",
         "3",
         "22",
         "No impersonation of other individuals, public figures or organisations, unless clearly marked as a parody.",
         ""
        ],
        [
         "36",
         "3",
         "23",
         "All automated (bot) accounts must enable the bot flag in their account preferences, respect #nobot markers, and post as unlisted unless making less than one post per hour.",
         ""
        ],
        [
         "37",
         "5",
         "1",
         "Don't be a dick.",
         ""
        ],
        [
         "38",
         "5",
         "2",
         "No hacking.",
         ""
        ],
        [
         "39",
         "5",
         "3",
         "No violence.",
         ""
        ],
        [
         "40",
         "5",
         "4",
         "No fascism. ",
         ""
        ],
        [
         "41",
         "5",
         "5",
         "No colonialism.",
         ""
        ],
        [
         "42",
         "5",
         "6",
         "No white supremacy.",
         ""
        ],
        [
         "43",
         "5",
         "7",
         "No religious extremism. ",
         ""
        ],
        [
         "44",
         "5",
         "9",
         "No nationalism.",
         ""
        ],
        [
         "45",
         "5",
         "11",
         "No racism.",
         ""
        ],
        [
         "46",
         "5",
         "12",
         "No homophobia.",
         ""
        ],
        [
         "47",
         "5",
         "13",
         "No transphobia.",
         ""
        ],
        [
         "48",
         "5",
         "14",
         "Safe Space: LGTBQIA+",
         ""
        ],
        [
         "49",
         "5",
         "15",
         "Safe Space: neurodivergent (ADHD, Autism, etc.) ",
         ""
        ]
       ],
       "shape": {
        "columns": 4,
        "rows": 807
       }
      },
      "text/html": [
       "<div>\n",
       "<style scoped>\n",
       "    .dataframe tbody tr th:only-of-type {\n",
       "        vertical-align: middle;\n",
       "    }\n",
       "\n",
       "    .dataframe tbody tr th {\n",
       "        vertical-align: top;\n",
       "    }\n",
       "\n",
       "    .dataframe thead th {\n",
       "        text-align: right;\n",
       "    }\n",
       "</style>\n",
       "<table border=\"1\" class=\"dataframe\">\n",
       "  <thead>\n",
       "    <tr style=\"text-align: right;\">\n",
       "      <th></th>\n",
       "      <th>server_id</th>\n",
       "      <th>rule_id</th>\n",
       "      <th>text</th>\n",
       "      <th>hint</th>\n",
       "    </tr>\n",
       "  </thead>\n",
       "  <tbody>\n",
       "    <tr>\n",
       "      <th>0</th>\n",
       "      <td>0</td>\n",
       "      <td>1</td>\n",
       "      <td>Sexually explicit or violent media must be mar...</td>\n",
       "      <td>This includes content that is particularly pro...</td>\n",
       "    </tr>\n",
       "    <tr>\n",
       "      <th>1</th>\n",
       "      <td>0</td>\n",
       "      <td>2</td>\n",
       "      <td>No racism, sexism, homophobia, transphobia, ab...</td>\n",
       "      <td>Transphobic behavior such as intentional misge...</td>\n",
       "    </tr>\n",
       "    <tr>\n",
       "      <th>2</th>\n",
       "      <td>0</td>\n",
       "      <td>3</td>\n",
       "      <td>No incitement of violence or promotion of viol...</td>\n",
       "      <td>Calling for people or groups to be assassinate...</td>\n",
       "    </tr>\n",
       "    <tr>\n",
       "      <th>3</th>\n",
       "      <td>0</td>\n",
       "      <td>4</td>\n",
       "      <td>No harassment, block evasion, dogpiling, or do...</td>\n",
       "      <td>Repeat attempts to communicate with users who ...</td>\n",
       "    </tr>\n",
       "    <tr>\n",
       "      <th>4</th>\n",
       "      <td>0</td>\n",
       "      <td>7</td>\n",
       "      <td>Do not share information widely-known to be fa...</td>\n",
       "      <td>False and misleading information and links fro...</td>\n",
       "    </tr>\n",
       "    <tr>\n",
       "      <th>...</th>\n",
       "      <td>...</td>\n",
       "      <td>...</td>\n",
       "      <td>...</td>\n",
       "      <td>...</td>\n",
       "    </tr>\n",
       "    <tr>\n",
       "      <th>803</th>\n",
       "      <td>139</td>\n",
       "      <td>77</td>\n",
       "      <td>③ 同意呜呜站的社区规则？/ Do you agree with the community...</td>\n",
       "      <td></td>\n",
       "    </tr>\n",
       "    <tr>\n",
       "      <th>804</th>\n",
       "      <td>139</td>\n",
       "      <td>78</td>\n",
       "      <td>🌸 缺项或错误将被拒绝 ... / Incomplete or nonsensical re...</td>\n",
       "      <td></td>\n",
       "    </tr>\n",
       "    <tr>\n",
       "      <th>805</th>\n",
       "      <td>139</td>\n",
       "      <td>79</td>\n",
       "      <td>详细社区规则见： / For detailed community rules, pleas...</td>\n",
       "      <td></td>\n",
       "    </tr>\n",
       "    <tr>\n",
       "      <th>806</th>\n",
       "      <td>139</td>\n",
       "      <td>80</td>\n",
       "      <td>https://wxw.moe/about</td>\n",
       "      <td></td>\n",
       "    </tr>\n",
       "    <tr>\n",
       "      <th>807</th>\n",
       "      <td>139</td>\n",
       "      <td>82</td>\n",
       "      <td>使用本站代表您同意了这些规则与政策，注册前请务必仔细阅读！/ By using this i...</td>\n",
       "      <td></td>\n",
       "    </tr>\n",
       "  </tbody>\n",
       "</table>\n",
       "<p>807 rows × 4 columns</p>\n",
       "</div>"
      ],
      "text/plain": [
       "     server_id rule_id                                               text  \\\n",
       "0            0       1  Sexually explicit or violent media must be mar...   \n",
       "1            0       2  No racism, sexism, homophobia, transphobia, ab...   \n",
       "2            0       3  No incitement of violence or promotion of viol...   \n",
       "3            0       4  No harassment, block evasion, dogpiling, or do...   \n",
       "4            0       7  Do not share information widely-known to be fa...   \n",
       "..         ...     ...                                                ...   \n",
       "803        139      77  ③ 同意呜呜站的社区规则？/ Do you agree with the community...   \n",
       "804        139      78  🌸 缺项或错误将被拒绝 ... / Incomplete or nonsensical re...   \n",
       "805        139      79  详细社区规则见： / For detailed community rules, pleas...   \n",
       "806        139      80                              https://wxw.moe/about   \n",
       "807        139      82  使用本站代表您同意了这些规则与政策，注册前请务必仔细阅读！/ By using this i...   \n",
       "\n",
       "                                                  hint  \n",
       "0    This includes content that is particularly pro...  \n",
       "1    Transphobic behavior such as intentional misge...  \n",
       "2    Calling for people or groups to be assassinate...  \n",
       "3    Repeat attempts to communicate with users who ...  \n",
       "4    False and misleading information and links fro...  \n",
       "..                                                 ...  \n",
       "803                                                     \n",
       "804                                                     \n",
       "805                                                     \n",
       "806                                                     \n",
       "807                                                     \n",
       "\n",
       "[807 rows x 4 columns]"
      ]
     },
     "execution_count": 89,
     "metadata": {},
     "output_type": "execute_result"
    }
   ],
   "source": [
    "rules = df_mastodon2_en[['rules']].explode('rules').reset_index(drop=False)\n",
    "rules = rules.rename(columns={\"index\": \"server_id\"})\n",
    "rules = rules.dropna()\n",
    "rules = pd.concat([rules.drop(['rules'], axis=1), rules['rules'].apply(pd.Series)], axis=1)\n",
    "rules = rules.rename(columns={'id': \"rule_id\"})\n",
    "rules"
   ]
  },
  {
   "cell_type": "code",
   "execution_count": 90,
   "id": "9ee28ef6",
   "metadata": {},
   "outputs": [
    {
     "name": "stdout",
     "output_type": "stream",
     "text": [
      " We removed 221 of the 807 rules (27%) that were not detected to be in english.\n"
     ]
    }
   ],
   "source": [
    "# remove rules that are not written in english\n",
    "df_english = rules[rules['text'].apply(is_english)].reset_index(drop=True)\n",
    "\n",
    "non_english_rules_pourcentage = 100 * (rules.shape[0] - df_english.shape[0]) / rules.shape[0]\n",
    "\n",
    "print(f\" We removed {rules.shape[0] - df_english.shape[0]} of the {rules.shape[0]} rules ({non_english_rules_pourcentage:.0f}%) that were not detected to be in english.\")"
   ]
  },
  {
   "cell_type": "code",
   "execution_count": 91,
   "id": "70cdb3d6",
   "metadata": {},
   "outputs": [
    {
     "name": "stdout",
     "output_type": "stream",
     "text": [
      "79 servers have their description in english;\n",
      "15 servers have their description in another language.\n"
     ]
    },
    {
     "data": {
      "application/vnd.microsoft.datawrangler.viewer.v0+json": {
       "columns": [
        {
         "name": "index",
         "rawType": "int64",
         "type": "integer"
        },
        {
         "name": "server_id",
         "rawType": "int64",
         "type": "integer"
        },
        {
         "name": "rule_id",
         "rawType": "object",
         "type": "string"
        },
        {
         "name": "text",
         "rawType": "object",
         "type": "string"
        },
        {
         "name": "hint",
         "rawType": "object",
         "type": "string"
        }
       ],
       "conversionMethod": "pd.DataFrame",
       "ref": "5c3048e6-bf4e-44d2-9565-a42fc8297c4c",
       "rows": [
        [
         "142",
         "31",
         "12",
         "Treat others with respect",
         "Avoid any form of insult, bullying, or discrimination, including but not limited to racist, sexist, homophobic, transphobic, anti-Semitic, and misogynistic statements or actions against others."
        ],
        [
         "143",
         "31",
         "15",
         "Comply with applicable law",
         "Do not publish any illegal content."
        ],
        [
         "144",
         "31",
         "16",
         "Avoid misinformation",
         "Do not share false or misleading information."
        ],
        [
         "145",
         "31",
         "19",
         "Mark sensitive content (CW)",
         "Please mark any content that may contain common triggers, is sexually explicit or violent as sensitive (CW) to ensure the safety of other members. Note: Accounts that exclusively post such content may be limited or banned."
        ],
        [
         "146",
         "31",
         "20",
         "You must be older than 16 years",
         "According to European law, you must be at least 16 years old to use this instance."
        ],
        [
         "151",
         "33",
         "3",
         "No al machismo",
         ""
        ],
        [
         "152",
         "33",
         "9",
         "No ai bot*",
         "* in generale è una regola da tenere presente, ma se il bot ha utilità per la community scrivici che si sistema tutto"
        ],
        [
         "363",
         "93",
         "21",
         "Don't be an asshole. You have an opinion? That's fine, but please don't offend anyone with what you say.",
         ""
        ],
        [
         "364",
         "93",
         "23",
         "Harassment, stalking, doxxing, transmisogyny, dogpiling, racism, sexism, hate speech, abuse or the endorse thereof, and generally disciminatory behaviour will not be tolerated.",
         ""
        ],
        [
         "365",
         "93",
         "25",
         "Violent nationalist propaganda, Nazi symbolism or promotion of Nazu ideology are forbidden.",
         ""
        ],
        [
         "366",
         "93",
         "27",
         "No calls for violence.",
         ""
        ],
        [
         "367",
         "93",
         "29",
         "Content that is illegal in Germany, sexual content or depictions of violence are prohibited.",
         ""
        ],
        [
         "368",
         "93",
         "31",
         "Languages within this instance are German or English only.",
         ""
        ],
        [
         "369",
         "93",
         "35",
         "If you want to create an NSFW-only account, consider another instance. We are probably not suitable for you.",
         ""
        ],
        [
         "370",
         "93",
         "37",
         "No advertisements. Bots only after talking with AND OK from the admins.",
         ""
        ],
        [
         "371",
         "93",
         "39",
         "Use content warnings for corresponding text/image content, many things that you take for granted can trigger others negatively.",
         ""
        ],
        [
         "575",
         "139",
         "68",
         "不参与三次元键政，包括转发 / Avoid real-world politics.",
         ""
        ],
        [
         "576",
         "139",
         "70",
         "NSFW 图片，须标记为 “敏感内容” / Mark NSFW images as \"Sensitive\".",
         ""
        ],
        [
         "577",
         "139",
         "71",
         "NSFW 内容，使用 “CW” 功能折叠 / Fold NSFW content with \"CW\".",
         ""
        ],
        [
         "578",
         "139",
         "73",
         "尊重他人，勿引战，勿发表攻击性言论 / Be respectful, no trolling or aggression.",
         ""
        ],
        [
         "579",
         "139",
         "74",
         "注册审核请回答下列问题： / To complete your registration, please answer the following questions:",
         ""
        ],
        [
         "580",
         "139",
         "75",
         "① 为什么注册呜呜站？/ Why do you want to register on this instance?",
         ""
        ],
        [
         "581",
         "139",
         "76",
         "② 简答 ACGN 的含义？/ What does ACGN stand for?",
         ""
        ],
        [
         "582",
         "139",
         "77",
         "③ 同意呜呜站的社区规则？/ Do you agree with the community rules of this instance?",
         ""
        ],
        [
         "583",
         "139",
         "78",
         "🌸 缺项或错误将被拒绝 ... / Incomplete or nonsensical responses will result in rejection ...",
         ""
        ],
        [
         "584",
         "139",
         "79",
         "详细社区规则见： / For detailed community rules, please see:",
         ""
        ],
        [
         "585",
         "139",
         "82",
         "使用本站代表您同意了这些规则与政策，注册前请务必仔细阅读！/ By using this instance, you agree to these rules and policies. Please be sure to read them carefully before registering!",
         ""
        ]
       ],
       "shape": {
        "columns": 4,
        "rows": 27
       }
      },
      "text/html": [
       "<div>\n",
       "<style scoped>\n",
       "    .dataframe tbody tr th:only-of-type {\n",
       "        vertical-align: middle;\n",
       "    }\n",
       "\n",
       "    .dataframe tbody tr th {\n",
       "        vertical-align: top;\n",
       "    }\n",
       "\n",
       "    .dataframe thead th {\n",
       "        text-align: right;\n",
       "    }\n",
       "</style>\n",
       "<table border=\"1\" class=\"dataframe\">\n",
       "  <thead>\n",
       "    <tr style=\"text-align: right;\">\n",
       "      <th></th>\n",
       "      <th>server_id</th>\n",
       "      <th>rule_id</th>\n",
       "      <th>text</th>\n",
       "      <th>hint</th>\n",
       "    </tr>\n",
       "  </thead>\n",
       "  <tbody>\n",
       "    <tr>\n",
       "      <th>142</th>\n",
       "      <td>31</td>\n",
       "      <td>12</td>\n",
       "      <td>Treat others with respect</td>\n",
       "      <td>Avoid any form of insult, bullying, or discrim...</td>\n",
       "    </tr>\n",
       "    <tr>\n",
       "      <th>143</th>\n",
       "      <td>31</td>\n",
       "      <td>15</td>\n",
       "      <td>Comply with applicable law</td>\n",
       "      <td>Do not publish any illegal content.</td>\n",
       "    </tr>\n",
       "    <tr>\n",
       "      <th>144</th>\n",
       "      <td>31</td>\n",
       "      <td>16</td>\n",
       "      <td>Avoid misinformation</td>\n",
       "      <td>Do not share false or misleading information.</td>\n",
       "    </tr>\n",
       "    <tr>\n",
       "      <th>145</th>\n",
       "      <td>31</td>\n",
       "      <td>19</td>\n",
       "      <td>Mark sensitive content (CW)</td>\n",
       "      <td>Please mark any content that may contain commo...</td>\n",
       "    </tr>\n",
       "    <tr>\n",
       "      <th>146</th>\n",
       "      <td>31</td>\n",
       "      <td>20</td>\n",
       "      <td>You must be older than 16 years</td>\n",
       "      <td>According to European law, you must be at leas...</td>\n",
       "    </tr>\n",
       "    <tr>\n",
       "      <th>151</th>\n",
       "      <td>33</td>\n",
       "      <td>3</td>\n",
       "      <td>No al machismo</td>\n",
       "      <td></td>\n",
       "    </tr>\n",
       "    <tr>\n",
       "      <th>152</th>\n",
       "      <td>33</td>\n",
       "      <td>9</td>\n",
       "      <td>No ai bot*</td>\n",
       "      <td>* in generale è una regola da tenere presente,...</td>\n",
       "    </tr>\n",
       "    <tr>\n",
       "      <th>363</th>\n",
       "      <td>93</td>\n",
       "      <td>21</td>\n",
       "      <td>Don't be an asshole. You have an opinion? That...</td>\n",
       "      <td></td>\n",
       "    </tr>\n",
       "    <tr>\n",
       "      <th>364</th>\n",
       "      <td>93</td>\n",
       "      <td>23</td>\n",
       "      <td>Harassment, stalking, doxxing, transmisogyny, ...</td>\n",
       "      <td></td>\n",
       "    </tr>\n",
       "    <tr>\n",
       "      <th>365</th>\n",
       "      <td>93</td>\n",
       "      <td>25</td>\n",
       "      <td>Violent nationalist propaganda, Nazi symbolism...</td>\n",
       "      <td></td>\n",
       "    </tr>\n",
       "    <tr>\n",
       "      <th>366</th>\n",
       "      <td>93</td>\n",
       "      <td>27</td>\n",
       "      <td>No calls for violence.</td>\n",
       "      <td></td>\n",
       "    </tr>\n",
       "    <tr>\n",
       "      <th>367</th>\n",
       "      <td>93</td>\n",
       "      <td>29</td>\n",
       "      <td>Content that is illegal in Germany, sexual con...</td>\n",
       "      <td></td>\n",
       "    </tr>\n",
       "    <tr>\n",
       "      <th>368</th>\n",
       "      <td>93</td>\n",
       "      <td>31</td>\n",
       "      <td>Languages within this instance are German or E...</td>\n",
       "      <td></td>\n",
       "    </tr>\n",
       "    <tr>\n",
       "      <th>369</th>\n",
       "      <td>93</td>\n",
       "      <td>35</td>\n",
       "      <td>If you want to create an NSFW-only account, co...</td>\n",
       "      <td></td>\n",
       "    </tr>\n",
       "    <tr>\n",
       "      <th>370</th>\n",
       "      <td>93</td>\n",
       "      <td>37</td>\n",
       "      <td>No advertisements. Bots only after talking wit...</td>\n",
       "      <td></td>\n",
       "    </tr>\n",
       "    <tr>\n",
       "      <th>371</th>\n",
       "      <td>93</td>\n",
       "      <td>39</td>\n",
       "      <td>Use content warnings for corresponding text/im...</td>\n",
       "      <td></td>\n",
       "    </tr>\n",
       "    <tr>\n",
       "      <th>575</th>\n",
       "      <td>139</td>\n",
       "      <td>68</td>\n",
       "      <td>不参与三次元键政，包括转发 / Avoid real-world politics.</td>\n",
       "      <td></td>\n",
       "    </tr>\n",
       "    <tr>\n",
       "      <th>576</th>\n",
       "      <td>139</td>\n",
       "      <td>70</td>\n",
       "      <td>NSFW 图片，须标记为 “敏感内容” / Mark NSFW images as \"Sen...</td>\n",
       "      <td></td>\n",
       "    </tr>\n",
       "    <tr>\n",
       "      <th>577</th>\n",
       "      <td>139</td>\n",
       "      <td>71</td>\n",
       "      <td>NSFW 内容，使用 “CW” 功能折叠 / Fold NSFW content with ...</td>\n",
       "      <td></td>\n",
       "    </tr>\n",
       "    <tr>\n",
       "      <th>578</th>\n",
       "      <td>139</td>\n",
       "      <td>73</td>\n",
       "      <td>尊重他人，勿引战，勿发表攻击性言论 / Be respectful, no trolling...</td>\n",
       "      <td></td>\n",
       "    </tr>\n",
       "    <tr>\n",
       "      <th>579</th>\n",
       "      <td>139</td>\n",
       "      <td>74</td>\n",
       "      <td>注册审核请回答下列问题： / To complete your registration, ...</td>\n",
       "      <td></td>\n",
       "    </tr>\n",
       "    <tr>\n",
       "      <th>580</th>\n",
       "      <td>139</td>\n",
       "      <td>75</td>\n",
       "      <td>① 为什么注册呜呜站？/ Why do you want to register on th...</td>\n",
       "      <td></td>\n",
       "    </tr>\n",
       "    <tr>\n",
       "      <th>581</th>\n",
       "      <td>139</td>\n",
       "      <td>76</td>\n",
       "      <td>② 简答 ACGN 的含义？/ What does ACGN stand for?</td>\n",
       "      <td></td>\n",
       "    </tr>\n",
       "    <tr>\n",
       "      <th>582</th>\n",
       "      <td>139</td>\n",
       "      <td>77</td>\n",
       "      <td>③ 同意呜呜站的社区规则？/ Do you agree with the community...</td>\n",
       "      <td></td>\n",
       "    </tr>\n",
       "    <tr>\n",
       "      <th>583</th>\n",
       "      <td>139</td>\n",
       "      <td>78</td>\n",
       "      <td>🌸 缺项或错误将被拒绝 ... / Incomplete or nonsensical re...</td>\n",
       "      <td></td>\n",
       "    </tr>\n",
       "    <tr>\n",
       "      <th>584</th>\n",
       "      <td>139</td>\n",
       "      <td>79</td>\n",
       "      <td>详细社区规则见： / For detailed community rules, pleas...</td>\n",
       "      <td></td>\n",
       "    </tr>\n",
       "    <tr>\n",
       "      <th>585</th>\n",
       "      <td>139</td>\n",
       "      <td>82</td>\n",
       "      <td>使用本站代表您同意了这些规则与政策，注册前请务必仔细阅读！/ By using this i...</td>\n",
       "      <td></td>\n",
       "    </tr>\n",
       "  </tbody>\n",
       "</table>\n",
       "</div>"
      ],
      "text/plain": [
       "     server_id rule_id                                               text  \\\n",
       "142         31      12                          Treat others with respect   \n",
       "143         31      15                         Comply with applicable law   \n",
       "144         31      16                               Avoid misinformation   \n",
       "145         31      19                        Mark sensitive content (CW)   \n",
       "146         31      20                    You must be older than 16 years   \n",
       "151         33       3                                     No al machismo   \n",
       "152         33       9                                         No ai bot*   \n",
       "363         93      21  Don't be an asshole. You have an opinion? That...   \n",
       "364         93      23  Harassment, stalking, doxxing, transmisogyny, ...   \n",
       "365         93      25  Violent nationalist propaganda, Nazi symbolism...   \n",
       "366         93      27                             No calls for violence.   \n",
       "367         93      29  Content that is illegal in Germany, sexual con...   \n",
       "368         93      31  Languages within this instance are German or E...   \n",
       "369         93      35  If you want to create an NSFW-only account, co...   \n",
       "370         93      37  No advertisements. Bots only after talking wit...   \n",
       "371         93      39  Use content warnings for corresponding text/im...   \n",
       "575        139      68         不参与三次元键政，包括转发 / Avoid real-world politics.   \n",
       "576        139      70  NSFW 图片，须标记为 “敏感内容” / Mark NSFW images as \"Sen...   \n",
       "577        139      71  NSFW 内容，使用 “CW” 功能折叠 / Fold NSFW content with ...   \n",
       "578        139      73  尊重他人，勿引战，勿发表攻击性言论 / Be respectful, no trolling...   \n",
       "579        139      74  注册审核请回答下列问题： / To complete your registration, ...   \n",
       "580        139      75  ① 为什么注册呜呜站？/ Why do you want to register on th...   \n",
       "581        139      76          ② 简答 ACGN 的含义？/ What does ACGN stand for?   \n",
       "582        139      77  ③ 同意呜呜站的社区规则？/ Do you agree with the community...   \n",
       "583        139      78  🌸 缺项或错误将被拒绝 ... / Incomplete or nonsensical re...   \n",
       "584        139      79  详细社区规则见： / For detailed community rules, pleas...   \n",
       "585        139      82  使用本站代表您同意了这些规则与政策，注册前请务必仔细阅读！/ By using this i...   \n",
       "\n",
       "                                                  hint  \n",
       "142  Avoid any form of insult, bullying, or discrim...  \n",
       "143                Do not publish any illegal content.  \n",
       "144      Do not share false or misleading information.  \n",
       "145  Please mark any content that may contain commo...  \n",
       "146  According to European law, you must be at leas...  \n",
       "151                                                     \n",
       "152  * in generale è una regola da tenere presente,...  \n",
       "363                                                     \n",
       "364                                                     \n",
       "365                                                     \n",
       "366                                                     \n",
       "367                                                     \n",
       "368                                                     \n",
       "369                                                     \n",
       "370                                                     \n",
       "371                                                     \n",
       "575                                                     \n",
       "576                                                     \n",
       "577                                                     \n",
       "578                                                     \n",
       "579                                                     \n",
       "580                                                     \n",
       "581                                                     \n",
       "582                                                     \n",
       "583                                                     \n",
       "584                                                     \n",
       "585                                                     "
      ]
     },
     "execution_count": 91,
     "metadata": {},
     "output_type": "execute_result"
    }
   ],
   "source": [
    "# Detect the language of the description among the supposedly engish servers\n",
    "server_descr_english = df_mastodon2_en[df_mastodon2_en['description'].apply(is_english)].index\n",
    "server_descr_not_english = df_mastodon2_en[~df_mastodon2_en['description'].apply(is_english)].index\n",
    "\n",
    "# Count them\n",
    "print(f\"{len(server_descr_english)} servers have their description in english;\")\n",
    "print(f\"{len(server_descr_not_english)} servers have their description in another language.\")\n",
    "\n",
    "# Display the rules of the servers that have their description in another language than english\n",
    "suspicious_server_ids = [serv_id for serv_id in df_english.server_id.unique() if serv_id in server_descr_not_english]\n",
    "df_english[df_english['server_id'].isin(suspicious_server_ids)]"
   ]
  },
  {
   "cell_type": "code",
   "execution_count": 102,
   "id": "27940f3b",
   "metadata": {},
   "outputs": [
    {
     "data": {
      "application/vnd.microsoft.datawrangler.viewer.v0+json": {
       "columns": [
        {
         "name": "index",
         "rawType": "int64",
         "type": "integer"
        },
        {
         "name": "server_id",
         "rawType": "int64",
         "type": "integer"
        },
        {
         "name": "rule_id",
         "rawType": "object",
         "type": "string"
        },
        {
         "name": "text",
         "rawType": "object",
         "type": "string"
        },
        {
         "name": "hint",
         "rawType": "object",
         "type": "unknown"
        }
       ],
       "conversionMethod": "pd.DataFrame",
       "ref": "9dbd1b08-65ea-4c49-8c9b-af6cf3deecc6",
       "rows": [
        [
         "0",
         "0",
         "1",
         "Sexually explicit or violent media must be marked as sensitive or with a content warning",
         "This includes content that is particularly provocative even if it may not show specific body parts, as well as dead bodies, bloody injuries, and other gore. Particularly obscene content may be prohibited entirely. Profile pictures and header images may not contain sexually explicit or violent media."
        ],
        [
         "1",
         "0",
         "3",
         "No incitement of violence or promotion of violent ideologies",
         "Calling for people or groups to be assassinated, murdered, or attacked physically is strictly prohibited. Support for violent groups or events is prohibited."
        ],
        [
         "2",
         "0",
         "4",
         "No harassment, block evasion, dogpiling, or doxxing of others",
         "Repeat attempts to communicate with users who have blocked you or creation of accounts solely to harass or insult individuals is strictly prohibited. Coordinated activity to attack other users is prohibited. Posting of private personal information about others is prohibited."
        ],
        [
         "3",
         "0",
         "7",
         "Do not share information widely-known to be false and misleading",
         "False and misleading information and links from low-quality sources may not be posted, especially if they are likely to mislead or confuse others or endanger their safety."
        ],
        [
         "4",
         "0",
         "1008",
         "Content created by others must be attributed, and use of generative AI must be disclosed",
         "Content created by others must clearly provide a reference to the author, creator, or source. For adult content, this should include performers. Accounts may not solely post AI-generated content."
        ],
        [
         "5",
         "1",
         "2",
         "Sexually explicit or violent media must be marked as sensitive when posting.",
         ""
        ],
        [
         "6",
         "1",
         "5",
         "No incitement of violence or promotion of violent ideologies.",
         ""
        ],
        [
         "7",
         "1",
         "6",
         "No harassment, dogpiling or doxxing of other users.",
         ""
        ],
        [
         "8",
         "1",
         "11",
         "No spreading of fake news or misinformation",
         ""
        ],
        [
         "9",
         "1",
         "12",
         "Content created by others must be attributed, and use of AI must be disclosed. Profiles that only post AI-generated content will not be tolerated.",
         ""
        ],
        [
         "10",
         "2",
         "1",
         "Do unto others as you think they would want done to them.  ",
         ""
        ],
        [
         "11",
         "2",
         "2",
         "Mark sensitive content with a content warning.  ",
         ""
        ],
        [
         "12",
         "2",
         "3",
         "Gratuitous obscenity that serves no practical benefit to a discussion is not permitted.",
         ""
        ],
        [
         "13",
         "2",
         "4",
         "Illegal content such as child pornography, unsurprisingly, is not permitted",
         ""
        ],
        [
         "14",
         "2",
         "5",
         "Spam is not permitted, this includes creating spam accounts that only serve to provide profile links or advertise products and services. ",
         ""
        ],
        [
         "15",
         "2",
         "6",
         "Hate speech and abusive or threatening behavior is not permitted, specifically that which directed at any gender, nationality, religion, race, age, pizza topping preference, or sexual identity.  One can hate on systemd all day long here.",
         ""
        ],
        [
         "16",
         "2",
         "7",
         "Lack of a specific rule against a certain behavior does not indicate acceptance of that behavior.  Each of us has a limited amount of time in this world.  Don't be a jerk.  ",
         ""
        ],
        [
         "17",
         "2",
         "8",
         "Violating one or more of these rules may result in an immediate, permanent ban without notice or warning.  ",
         ""
        ],
        [
         "18",
         "2",
         "9",
         "You may not impersonate a person or brand without a clear indication the account is unofficial and/or a parody. Parody accounts are permitted, as are legitimate brand accounts. ",
         ""
        ],
        [
         "19",
         "2",
         "11",
         "No attacks against (or from) the instance.\r\n\r\nYou may not do anything which may impact confidentiality, integrity or availability of Infosec.Exchange, the users of the service or their data.\r\nFor more details see https://wiki.infosec.exchange/rules/start",
         ""
        ],
        [
         "20",
         "2",
         "12",
         "No doxing (aka doxxing) or disclosing personal information without consent and as a means of harassing or causing others to harass another person.",
         ""
        ],
        [
         "21",
         "2",
         "13",
         "No harassment in the form of continued engagement after a person has requested contact to stop",
         ""
        ],
        [
         "22",
         "2",
         "14",
         "Automated posting:\r\n- accounts that post >50% using automation must be labeled as a “bot” in the user profile to help provide a visual indicator to visitors\r\n- automated posts must be limited to one post per hour/24 per day with post visibility set to “public”. There is no limit on “unlisted” posts.",
         ""
        ],
        [
         "23",
         "2",
         "15",
         "Soliciting or inciting violence or harm against a person or segment of people is not permitted. ",
         ""
        ],
        [
         "24",
         "3",
         "9",
         "No discrimination, including (but not limited to) racism, sexism, homophobia or transphobia (including targeted misgendering, deadnaming, or promotion of so-called 'conversion therapy').",
         ""
        ],
        [
         "25",
         "3",
         "10",
         "No explicit (NSFW) content without content warnings and/or sensitive media markers. Explicit content must not be used in user avatars or header images.",
         ""
        ],
        [
         "26",
         "3",
         "17",
         "No harassment of other users on this or other servers.",
         ""
        ],
        [
         "27",
         "3",
         "18",
         "No content illegal in the following countries: United Kingdom, Germany",
         ""
        ],
        [
         "28",
         "3",
         "19",
         "No incitement of violence or promotion of violent ideologies.",
         ""
        ],
        [
         "29",
         "3",
         "20",
         "No disinformation regarding public health issues or political/military campaigns.",
         ""
        ],
        [
         "30",
         "3",
         "21",
         "No spam. This includes commercial advertising, promotion of services, and SEO.",
         ""
        ],
        [
         "31",
         "3",
         "22",
         "No impersonation of other individuals, public figures or organisations, unless clearly marked as a parody.",
         ""
        ],
        [
         "32",
         "3",
         "23",
         "All automated (bot) accounts must enable the bot flag in their account preferences, respect #nobot markers, and post as unlisted unless making less than one post per hour.",
         ""
        ],
        [
         "33",
         "5",
         "1",
         "Don't be a dick.",
         ""
        ],
        [
         "34",
         "5",
         "6",
         "No white supremacy.",
         ""
        ],
        [
         "35",
         "5",
         "9",
         "No nationalism.",
         ""
        ],
        [
         "36",
         "5",
         "14",
         "Safe Space: LGTBQIA+",
         ""
        ],
        [
         "37",
         "7",
         "1",
         "Sexually explicit or violent media must be marked as sensitive when posting",
         ""
        ],
        [
         "38",
         "7",
         "3",
         "No incitement of violence or promotion of violent ideologies",
         ""
        ],
        [
         "39",
         "7",
         "4",
         "No harassment, dogpiling or doxxing of other users",
         ""
        ],
        [
         "40",
         "7",
         "6",
         "Do not share intentionally false or misleading information",
         ""
        ],
        [
         "41",
         "8",
         "6",
         "Violent media must be marked as sensitive when posting.",
         ""
        ],
        [
         "42",
         "8",
         "8",
         "No incitement of violence or promotion of violent ideologies.",
         ""
        ],
        [
         "43",
         "8",
         "9",
         "No harassment, dogpiling or doxxing of other users.",
         ""
        ],
        [
         "44",
         "8",
         "11",
         "Do not share false or misleading information that may lead to physical harm.",
         ""
        ],
        [
         "45",
         "8",
         "13",
         "No spam, no direct advertising selling products or services, no aggressive promotion. If you promote your website, blog, etc do it responsibly and use a description and tags.",
         ""
        ],
        [
         "46",
         "8",
         "14",
         "Bots must be marked as Bot in their profile and bots created after Dec 31st 2024 must post in silent mode",
         ""
        ],
        [
         "47",
         "8",
         "15",
         "Sexually explicit content is not allowed",
         ""
        ],
        [
         "48",
         "8",
         "16",
         "Agree to Code of Conduct (see about section)",
         ""
        ],
        [
         "49",
         "10",
         "1",
         "Be nice to each other",
         ""
        ]
       ],
       "shape": {
        "columns": 4,
        "rows": 573
       }
      },
      "text/html": [
       "<div>\n",
       "<style scoped>\n",
       "    .dataframe tbody tr th:only-of-type {\n",
       "        vertical-align: middle;\n",
       "    }\n",
       "\n",
       "    .dataframe tbody tr th {\n",
       "        vertical-align: top;\n",
       "    }\n",
       "\n",
       "    .dataframe thead th {\n",
       "        text-align: right;\n",
       "    }\n",
       "</style>\n",
       "<table border=\"1\" class=\"dataframe\">\n",
       "  <thead>\n",
       "    <tr style=\"text-align: right;\">\n",
       "      <th></th>\n",
       "      <th>server_id</th>\n",
       "      <th>rule_id</th>\n",
       "      <th>text</th>\n",
       "      <th>hint</th>\n",
       "    </tr>\n",
       "  </thead>\n",
       "  <tbody>\n",
       "    <tr>\n",
       "      <th>0</th>\n",
       "      <td>0</td>\n",
       "      <td>1</td>\n",
       "      <td>Sexually explicit or violent media must be mar...</td>\n",
       "      <td>This includes content that is particularly pro...</td>\n",
       "    </tr>\n",
       "    <tr>\n",
       "      <th>1</th>\n",
       "      <td>0</td>\n",
       "      <td>3</td>\n",
       "      <td>No incitement of violence or promotion of viol...</td>\n",
       "      <td>Calling for people or groups to be assassinate...</td>\n",
       "    </tr>\n",
       "    <tr>\n",
       "      <th>2</th>\n",
       "      <td>0</td>\n",
       "      <td>4</td>\n",
       "      <td>No harassment, block evasion, dogpiling, or do...</td>\n",
       "      <td>Repeat attempts to communicate with users who ...</td>\n",
       "    </tr>\n",
       "    <tr>\n",
       "      <th>3</th>\n",
       "      <td>0</td>\n",
       "      <td>7</td>\n",
       "      <td>Do not share information widely-known to be fa...</td>\n",
       "      <td>False and misleading information and links fro...</td>\n",
       "    </tr>\n",
       "    <tr>\n",
       "      <th>4</th>\n",
       "      <td>0</td>\n",
       "      <td>1008</td>\n",
       "      <td>Content created by others must be attributed, ...</td>\n",
       "      <td>Content created by others must clearly provide...</td>\n",
       "    </tr>\n",
       "    <tr>\n",
       "      <th>...</th>\n",
       "      <td>...</td>\n",
       "      <td>...</td>\n",
       "      <td>...</td>\n",
       "      <td>...</td>\n",
       "    </tr>\n",
       "    <tr>\n",
       "      <th>570</th>\n",
       "      <td>137</td>\n",
       "      <td>16</td>\n",
       "      <td>This instance is made for individuals older th...</td>\n",
       "      <td></td>\n",
       "    </tr>\n",
       "    <tr>\n",
       "      <th>571</th>\n",
       "      <td>137</td>\n",
       "      <td>17</td>\n",
       "      <td>Brand accounts are not allowed. This instance ...</td>\n",
       "      <td></td>\n",
       "    </tr>\n",
       "    <tr>\n",
       "      <th>572</th>\n",
       "      <td>137</td>\n",
       "      <td>18</td>\n",
       "      <td>Do not register your account via Tor/VPN/Hosti...</td>\n",
       "      <td></td>\n",
       "    </tr>\n",
       "    <tr>\n",
       "      <th>573</th>\n",
       "      <td>137</td>\n",
       "      <td>20</td>\n",
       "      <td>English Only. If you sign up with the reason n...</td>\n",
       "      <td></td>\n",
       "    </tr>\n",
       "    <tr>\n",
       "      <th>574</th>\n",
       "      <td>137</td>\n",
       "      <td>21</td>\n",
       "      <td>This instance is under the jurisdiction of Wes...</td>\n",
       "      <td></td>\n",
       "    </tr>\n",
       "  </tbody>\n",
       "</table>\n",
       "<p>573 rows × 4 columns</p>\n",
       "</div>"
      ],
      "text/plain": [
       "     server_id rule_id                                               text  \\\n",
       "0            0       1  Sexually explicit or violent media must be mar...   \n",
       "1            0       3  No incitement of violence or promotion of viol...   \n",
       "2            0       4  No harassment, block evasion, dogpiling, or do...   \n",
       "3            0       7  Do not share information widely-known to be fa...   \n",
       "4            0    1008  Content created by others must be attributed, ...   \n",
       "..         ...     ...                                                ...   \n",
       "570        137      16  This instance is made for individuals older th...   \n",
       "571        137      17  Brand accounts are not allowed. This instance ...   \n",
       "572        137      18  Do not register your account via Tor/VPN/Hosti...   \n",
       "573        137      20  English Only. If you sign up with the reason n...   \n",
       "574        137      21  This instance is under the jurisdiction of Wes...   \n",
       "\n",
       "                                                  hint  \n",
       "0    This includes content that is particularly pro...  \n",
       "1    Calling for people or groups to be assassinate...  \n",
       "2    Repeat attempts to communicate with users who ...  \n",
       "3    False and misleading information and links fro...  \n",
       "4    Content created by others must clearly provide...  \n",
       "..                                                 ...  \n",
       "570                                                     \n",
       "571                                                     \n",
       "572                                                     \n",
       "573                                                     \n",
       "574                                                     \n",
       "\n",
       "[573 rows x 4 columns]"
      ]
     },
     "execution_count": 102,
     "metadata": {},
     "output_type": "execute_result"
    }
   ],
   "source": [
    "# We decide to remove some servers based on their rules language\n",
    "manually_excluded = [33, 139] #manually inspected their rules and decide to remove the server since most of their rules contained words not in english.\n",
    "df_english = df_english[~df_english['server_id'].isin(manually_excluded)]\n",
    "df_english"
   ]
  },
  {
   "cell_type": "code",
   "execution_count": 103,
   "id": "841b1908",
   "metadata": {},
   "outputs": [
    {
     "data": {
      "application/vnd.microsoft.datawrangler.viewer.v0+json": {
       "columns": [
        {
         "name": "index",
         "rawType": "int64",
         "type": "integer"
        },
        {
         "name": "server_id",
         "rawType": "int64",
         "type": "integer"
        },
        {
         "name": "rule_id",
         "rawType": "object",
         "type": "string"
        },
        {
         "name": "text",
         "rawType": "object",
         "type": "unknown"
        },
        {
         "name": "hint",
         "rawType": "object",
         "type": "unknown"
        },
        {
         "name": "strict_rule",
         "rawType": "bool",
         "type": "boolean"
        }
       ],
       "conversionMethod": "pd.DataFrame",
       "ref": "5a77d836-daa4-4456-b460-b8ae9092ef07",
       "rows": [
        [
         "0",
         "0",
         "1",
         "['sexually', 'explicit', 'or', 'violent', 'media', 'must', 'be', 'marked', 'as', 'sensitive', 'or', 'with', 'a', 'content', 'warning']",
         "['this', 'includes', 'content', 'that', 'is', 'particularly', 'provocative', 'even', 'if', 'it', 'may', 'not', 'show', 'specific', 'body', 'parts', 'as', 'well', 'as', 'dead', 'bodies', 'bloody', 'injuries', 'and', 'other', 'gore', 'particularly', 'obscene', 'content', 'may', 'be', 'prohibited', 'entirely', 'profile', 'pictures', 'and', 'header', 'images', 'may', 'not', 'contain', 'sexually', 'explicit', 'or', 'violent', 'media']",
         "False"
        ],
        [
         "1",
         "0",
         "2",
         "['no', 'racism', 'sexism', 'homophobia', 'transphobia', 'ableism', 'xenophobia', 'or', 'casteism']",
         "['transphobic', 'behavior', 'such', 'as', 'intentional', 'misgendering', 'and', 'deadnaming', 'is', 'strictly', 'prohibited', 'promotion', 'of', 'conversion', 'therapy', 'is', 'strictly', 'prohibited', 'criticism', 'of', 'governments', 'and', 'religions', 'is', 'permissible', 'unless', 'being', 'used', 'as', 'a', 'proxy', 'for', 'discrimination']",
         "True"
        ],
        [
         "2",
         "0",
         "3",
         "['no', 'incitement', 'of', 'violence', 'or', 'promotion', 'of', 'violent', 'ideologies']",
         "['calling', 'for', 'people', 'or', 'groups', 'to', 'be', 'assassinated', 'murdered', 'or', 'attacked', 'physically', 'is', 'strictly', 'prohibited', 'support', 'for', 'violent', 'groups', 'or', 'events', 'is', 'prohibited']",
         "True"
        ],
        [
         "3",
         "0",
         "4",
         "['no', 'harassment', 'block', 'evasion', 'dogpiling', 'or', 'doxxing', 'of', 'others']",
         "['repeat', 'attempts', 'to', 'communicate', 'with', 'users', 'who', 'have', 'blocked', 'you', 'or', 'creation', 'of', 'accounts', 'solely', 'to', 'harass', 'or', 'insult', 'individuals', 'is', 'strictly', 'prohibited', 'coordinated', 'activity', 'to', 'attack', 'other', 'users', 'is', 'prohibited', 'posting', 'of', 'private', 'personal', 'information', 'about', 'others', 'is', 'prohibited']",
         "True"
        ],
        [
         "4",
         "0",
         "7",
         "['do', 'not', 'share', 'information', 'widely', 'known', 'to', 'be', 'false', 'and', 'misleading']",
         "['false', 'and', 'misleading', 'information', 'and', 'links', 'from', 'low', 'quality', 'sources', 'may', 'not', 'be', 'posted', 'especially', 'if', 'they', 'are', 'likely', 'to', 'mislead', 'or', 'confuse', 'others', 'or', 'endanger', 'their', 'safety']",
         "False"
        ],
        [
         "5",
         "0",
         "1008",
         "['content', 'created', 'by', 'others', 'must', 'be', 'attributed', 'and', 'use', 'of', 'generative', 'ai', 'must', 'be', 'disclosed']",
         "['content', 'created', 'by', 'others', 'must', 'clearly', 'provide', 'a', 'reference', 'to', 'the', 'author', 'creator', 'or', 'source', 'for', 'adult', 'content', 'this', 'should', 'include', 'performers', 'accounts', 'may', 'not', 'solely', 'post', 'ai', 'generated', 'content']",
         "False"
        ],
        [
         "6",
         "1",
         "2",
         "['sexually', 'explicit', 'or', 'violent', 'media', 'must', 'be', 'marked', 'as', 'sensitive', 'when', 'posting']",
         "[]",
         "False"
        ],
        [
         "7",
         "1",
         "3",
         "['no', 'spam', 'or', 'advertising']",
         "[]",
         "True"
        ],
        [
         "8",
         "1",
         "4",
         "['no', 'racism', 'sexism', 'homophobia', 'transphobia', 'xenophobia', 'or', 'casteism']",
         "[]",
         "True"
        ],
        [
         "9",
         "1",
         "5",
         "['no', 'incitement', 'of', 'violence', 'or', 'promotion', 'of', 'violent', 'ideologies']",
         "[]",
         "True"
        ],
        [
         "10",
         "1",
         "6",
         "['no', 'harassment', 'dogpiling', 'or', 'doxxing', 'of', 'other', 'users']",
         "[]",
         "True"
        ],
        [
         "11",
         "1",
         "7",
         "['no', 'illegal', 'content']",
         "[]",
         "True"
        ],
        [
         "12",
         "1",
         "11",
         "['no', 'spreading', 'of', 'fake', 'news', 'or', 'misinformation']",
         "[]",
         "True"
        ],
        [
         "13",
         "1",
         "12",
         "['content', 'created', 'by', 'others', 'must', 'be', 'attributed', 'and', 'use', 'of', 'ai', 'must', 'be', 'disclosed', 'profiles', 'that', 'only', 'post', 'ai', 'generated', 'content', 'will', 'not', 'be', 'tolerated']",
         "[]",
         "False"
        ],
        [
         "14",
         "2",
         "1",
         "['do', 'unto', 'others', 'as', 'you', 'think', 'they', 'would', 'want', 'done', 'to', 'them']",
         "[]",
         "False"
        ],
        [
         "15",
         "2",
         "2",
         "['mark', 'sensitive', 'content', 'with', 'a', 'content', 'warning']",
         "[]",
         "False"
        ],
        [
         "16",
         "2",
         "3",
         "['gratuitous', 'obscenity', 'that', 'serves', 'no', 'practical', 'benefit', 'to', 'a', 'discussion', 'is', 'not', 'permitted']",
         "[]",
         "True"
        ],
        [
         "17",
         "2",
         "4",
         "['illegal', 'content', 'such', 'as', 'child', 'pornography', 'unsurprisingly', 'is', 'not', 'permitted']",
         "[]",
         "False"
        ],
        [
         "18",
         "2",
         "5",
         "['spam', 'is', 'not', 'permitted', 'this', 'includes', 'creating', 'spam', 'accounts', 'that', 'only', 'serve', 'to', 'provide', 'profile', 'links', 'or', 'advertise', 'products', 'and', 'services']",
         "[]",
         "False"
        ],
        [
         "19",
         "2",
         "6",
         "['hate', 'speech', 'and', 'abusive', 'or', 'threatening', 'behavior', 'is', 'not', 'permitted', 'specifically', 'that', 'which', 'directed', 'at', 'any', 'gender', 'nationality', 'religion', 'race', 'age', 'pizza', 'topping', 'preference', 'or', 'sexual', 'identity', 'one', 'can', 'hate', 'on', 'systemd', 'all', 'day', 'long', 'here']",
         "[]",
         "False"
        ],
        [
         "20",
         "2",
         "7",
         "['lack', 'of', 'a', 'specific', 'rule', 'against', 'a', 'certain', 'behavior', 'does', 'not', 'indicate', 'acceptance', 'of', 'that', 'behavior', 'each', 'of', 'us', 'has', 'a', 'limited', 'amount', 'of', 'time', 'in', 'this', 'world', 'don', 't', 'be', 'a', 'jerk']",
         "[]",
         "False"
        ],
        [
         "21",
         "2",
         "8",
         "['violating', 'one', 'or', 'more', 'of', 'these', 'rules', 'may', 'result', 'in', 'an', 'immediate', 'permanent', 'ban', 'without', 'notice', 'or', 'warning']",
         "[]",
         "False"
        ],
        [
         "22",
         "2",
         "9",
         "['you', 'may', 'not', 'impersonate', 'a', 'person', 'or', 'brand', 'without', 'a', 'clear', 'indication', 'the', 'account', 'is', 'unofficial', 'and', 'or', 'a', 'parody', 'parody', 'accounts', 'are', 'permitted', 'as', 'are', 'legitimate', 'brand', 'accounts']",
         "[]",
         "False"
        ],
        [
         "23",
         "2",
         "11",
         "['no', 'attacks', 'against', 'or', 'from', 'the', 'instance', 'you', 'may', 'not', 'do', 'anything', 'which', 'may', 'impact', 'confidentiality', 'integrity', 'or', 'availability', 'of', 'infosec', 'exchange', 'the', 'users', 'of', 'the', 'service', 'or', 'their', 'data', 'for', 'more', 'details', 'see', 'https', 'wiki', 'infosec', 'exchange', 'rules', 'start']",
         "[]",
         "True"
        ],
        [
         "24",
         "2",
         "12",
         "['no', 'doxing', 'aka', 'doxxing', 'or', 'disclosing', 'personal', 'information', 'without', 'consent', 'and', 'as', 'a', 'means', 'of', 'harassing', 'or', 'causing', 'others', 'to', 'harass', 'another', 'person']",
         "[]",
         "True"
        ],
        [
         "25",
         "2",
         "13",
         "['no', 'harassment', 'in', 'the', 'form', 'of', 'continued', 'engagement', 'after', 'a', 'person', 'has', 'requested', 'contact', 'to', 'stop']",
         "[]",
         "True"
        ],
        [
         "26",
         "2",
         "14",
         "['automated', 'posting', 'accounts', 'that', 'post', '50', 'using', 'automation', 'must', 'be', 'labeled', 'as', 'a', 'bot', 'in', 'the', 'user', 'profile', 'to', 'help', 'provide', 'a', 'visual', 'indicator', 'to', 'visitors', 'automated', 'posts', 'must', 'be', 'limited', 'to', 'one', 'post', 'per', 'hour', '24', 'per', 'day', 'with', 'post', 'visibility', 'set', 'to', 'public', 'there', 'is', 'no', 'limit', 'on', 'unlisted', 'posts']",
         "[]",
         "True"
        ],
        [
         "27",
         "2",
         "15",
         "['soliciting', 'or', 'inciting', 'violence', 'or', 'harm', 'against', 'a', 'person', 'or', 'segment', 'of', 'people', 'is', 'not', 'permitted']",
         "[]",
         "False"
        ],
        [
         "28",
         "3",
         "9",
         "['no', 'discrimination', 'including', 'but', 'not', 'limited', 'to', 'racism', 'sexism', 'homophobia', 'or', 'transphobia', 'including', 'targeted', 'misgendering', 'deadnaming', 'or', 'promotion', 'of', 'so', 'called', 'conversion', 'therapy']",
         "[]",
         "True"
        ],
        [
         "29",
         "3",
         "10",
         "['no', 'explicit', 'nsfw', 'content', 'without', 'content', 'warnings', 'and', 'or', 'sensitive', 'media', 'markers', 'explicit', 'content', 'must', 'not', 'be', 'used', 'in', 'user', 'avatars', 'or', 'header', 'images']",
         "[]",
         "True"
        ],
        [
         "30",
         "3",
         "17",
         "['no', 'harassment', 'of', 'other', 'users', 'on', 'this', 'or', 'other', 'servers']",
         "[]",
         "True"
        ],
        [
         "31",
         "3",
         "18",
         "['no', 'content', 'illegal', 'in', 'the', 'following', 'countries', 'united', 'kingdom', 'germany']",
         "[]",
         "True"
        ],
        [
         "32",
         "3",
         "19",
         "['no', 'incitement', 'of', 'violence', 'or', 'promotion', 'of', 'violent', 'ideologies']",
         "[]",
         "True"
        ],
        [
         "33",
         "3",
         "20",
         "['no', 'disinformation', 'regarding', 'public', 'health', 'issues', 'or', 'political', 'military', 'campaigns']",
         "[]",
         "True"
        ],
        [
         "34",
         "3",
         "21",
         "['no', 'spam', 'this', 'includes', 'commercial', 'advertising', 'promotion', 'of', 'services', 'and', 'seo']",
         "[]",
         "True"
        ],
        [
         "35",
         "3",
         "22",
         "['no', 'impersonation', 'of', 'other', 'individuals', 'public', 'figures', 'or', 'organisations', 'unless', 'clearly', 'marked', 'as', 'a', 'parody']",
         "[]",
         "True"
        ],
        [
         "36",
         "3",
         "23",
         "['all', 'automated', 'bot', 'accounts', 'must', 'enable', 'the', 'bot', 'flag', 'in', 'their', 'account', 'preferences', 'respect', 'nobot', 'markers', 'and', 'post', 'as', 'unlisted', 'unless', 'making', 'less', 'than', 'one', 'post', 'per', 'hour']",
         "[]",
         "False"
        ],
        [
         "37",
         "5",
         "1",
         "['don', 't', 'be', 'a', 'dick']",
         "[]",
         "False"
        ],
        [
         "38",
         "5",
         "2",
         "['no', 'hacking']",
         "[]",
         "True"
        ],
        [
         "39",
         "5",
         "3",
         "['no', 'violence']",
         "[]",
         "True"
        ],
        [
         "40",
         "5",
         "4",
         "['no', 'fascism']",
         "[]",
         "True"
        ],
        [
         "41",
         "5",
         "5",
         "['no', 'colonialism']",
         "[]",
         "True"
        ],
        [
         "42",
         "5",
         "6",
         "['no', 'white', 'supremacy']",
         "[]",
         "True"
        ],
        [
         "43",
         "5",
         "7",
         "['no', 'religious', 'extremism']",
         "[]",
         "True"
        ],
        [
         "44",
         "5",
         "9",
         "['no', 'nationalism']",
         "[]",
         "True"
        ],
        [
         "45",
         "5",
         "11",
         "['no', 'racism']",
         "[]",
         "True"
        ],
        [
         "46",
         "5",
         "12",
         "['no', 'homophobia']",
         "[]",
         "True"
        ],
        [
         "47",
         "5",
         "13",
         "['no', 'transphobia']",
         "[]",
         "True"
        ],
        [
         "48",
         "5",
         "14",
         "['safe', 'space', 'lgtbqia']",
         "[]",
         "False"
        ],
        [
         "49",
         "5",
         "15",
         "['safe', 'space', 'neurodivergent', 'adhd', 'autism', 'etc']",
         "[]",
         "False"
        ]
       ],
       "shape": {
        "columns": 5,
        "rows": 807
       }
      },
      "text/html": [
       "<div>\n",
       "<style scoped>\n",
       "    .dataframe tbody tr th:only-of-type {\n",
       "        vertical-align: middle;\n",
       "    }\n",
       "\n",
       "    .dataframe tbody tr th {\n",
       "        vertical-align: top;\n",
       "    }\n",
       "\n",
       "    .dataframe thead th {\n",
       "        text-align: right;\n",
       "    }\n",
       "</style>\n",
       "<table border=\"1\" class=\"dataframe\">\n",
       "  <thead>\n",
       "    <tr style=\"text-align: right;\">\n",
       "      <th></th>\n",
       "      <th>server_id</th>\n",
       "      <th>rule_id</th>\n",
       "      <th>text</th>\n",
       "      <th>hint</th>\n",
       "      <th>strict_rule</th>\n",
       "    </tr>\n",
       "  </thead>\n",
       "  <tbody>\n",
       "    <tr>\n",
       "      <th>0</th>\n",
       "      <td>0</td>\n",
       "      <td>1</td>\n",
       "      <td>[sexually, explicit, or, violent, media, must,...</td>\n",
       "      <td>[this, includes, content, that, is, particular...</td>\n",
       "      <td>False</td>\n",
       "    </tr>\n",
       "    <tr>\n",
       "      <th>1</th>\n",
       "      <td>0</td>\n",
       "      <td>2</td>\n",
       "      <td>[no, racism, sexism, homophobia, transphobia, ...</td>\n",
       "      <td>[transphobic, behavior, such, as, intentional,...</td>\n",
       "      <td>True</td>\n",
       "    </tr>\n",
       "    <tr>\n",
       "      <th>2</th>\n",
       "      <td>0</td>\n",
       "      <td>3</td>\n",
       "      <td>[no, incitement, of, violence, or, promotion, ...</td>\n",
       "      <td>[calling, for, people, or, groups, to, be, ass...</td>\n",
       "      <td>True</td>\n",
       "    </tr>\n",
       "    <tr>\n",
       "      <th>3</th>\n",
       "      <td>0</td>\n",
       "      <td>4</td>\n",
       "      <td>[no, harassment, block, evasion, dogpiling, or...</td>\n",
       "      <td>[repeat, attempts, to, communicate, with, user...</td>\n",
       "      <td>True</td>\n",
       "    </tr>\n",
       "    <tr>\n",
       "      <th>4</th>\n",
       "      <td>0</td>\n",
       "      <td>7</td>\n",
       "      <td>[do, not, share, information, widely, known, t...</td>\n",
       "      <td>[false, and, misleading, information, and, lin...</td>\n",
       "      <td>False</td>\n",
       "    </tr>\n",
       "    <tr>\n",
       "      <th>...</th>\n",
       "      <td>...</td>\n",
       "      <td>...</td>\n",
       "      <td>...</td>\n",
       "      <td>...</td>\n",
       "      <td>...</td>\n",
       "    </tr>\n",
       "    <tr>\n",
       "      <th>803</th>\n",
       "      <td>139</td>\n",
       "      <td>77</td>\n",
       "      <td>[do, you, agree, with, the, community, rules, ...</td>\n",
       "      <td>[]</td>\n",
       "      <td>False</td>\n",
       "    </tr>\n",
       "    <tr>\n",
       "      <th>804</th>\n",
       "      <td>139</td>\n",
       "      <td>78</td>\n",
       "      <td>[incomplete, or, nonsensical, responses, will,...</td>\n",
       "      <td>[]</td>\n",
       "      <td>False</td>\n",
       "    </tr>\n",
       "    <tr>\n",
       "      <th>805</th>\n",
       "      <td>139</td>\n",
       "      <td>79</td>\n",
       "      <td>[for, detailed, community, rules, please, see]</td>\n",
       "      <td>[]</td>\n",
       "      <td>False</td>\n",
       "    </tr>\n",
       "    <tr>\n",
       "      <th>806</th>\n",
       "      <td>139</td>\n",
       "      <td>80</td>\n",
       "      <td>[https, wxw, moe, about]</td>\n",
       "      <td>[]</td>\n",
       "      <td>False</td>\n",
       "    </tr>\n",
       "    <tr>\n",
       "      <th>807</th>\n",
       "      <td>139</td>\n",
       "      <td>82</td>\n",
       "      <td>[by, using, this, instance, you, agree, to, th...</td>\n",
       "      <td>[]</td>\n",
       "      <td>False</td>\n",
       "    </tr>\n",
       "  </tbody>\n",
       "</table>\n",
       "<p>807 rows × 5 columns</p>\n",
       "</div>"
      ],
      "text/plain": [
       "     server_id rule_id                                               text  \\\n",
       "0            0       1  [sexually, explicit, or, violent, media, must,...   \n",
       "1            0       2  [no, racism, sexism, homophobia, transphobia, ...   \n",
       "2            0       3  [no, incitement, of, violence, or, promotion, ...   \n",
       "3            0       4  [no, harassment, block, evasion, dogpiling, or...   \n",
       "4            0       7  [do, not, share, information, widely, known, t...   \n",
       "..         ...     ...                                                ...   \n",
       "803        139      77  [do, you, agree, with, the, community, rules, ...   \n",
       "804        139      78  [incomplete, or, nonsensical, responses, will,...   \n",
       "805        139      79     [for, detailed, community, rules, please, see]   \n",
       "806        139      80                           [https, wxw, moe, about]   \n",
       "807        139      82  [by, using, this, instance, you, agree, to, th...   \n",
       "\n",
       "                                                  hint  strict_rule  \n",
       "0    [this, includes, content, that, is, particular...        False  \n",
       "1    [transphobic, behavior, such, as, intentional,...         True  \n",
       "2    [calling, for, people, or, groups, to, be, ass...         True  \n",
       "3    [repeat, attempts, to, communicate, with, user...         True  \n",
       "4    [false, and, misleading, information, and, lin...        False  \n",
       "..                                                 ...          ...  \n",
       "803                                                 []        False  \n",
       "804                                                 []        False  \n",
       "805                                                 []        False  \n",
       "806                                                 []        False  \n",
       "807                                                 []        False  \n",
       "\n",
       "[807 rows x 5 columns]"
      ]
     },
     "execution_count": 103,
     "metadata": {},
     "output_type": "execute_result"
    }
   ],
   "source": [
    "# Process te rules for NLP\n",
    "processor = RulesProcessor(df_mastodon2_en)\n",
    "rules_df = processor.extract_rules()\n",
    "standardized_df = processor.standardize_rules()\n",
    "\n",
    "# Compute strictness metrics TODO: define metrics and compute them\n",
    "standardized_df[\"strict_rule\"] = standardized_df[\"text\"].apply(contains_strict_words)\n",
    "standardized_df"
   ]
  },
  {
   "cell_type": "code",
   "execution_count": 104,
   "id": "8cabd7a9",
   "metadata": {},
   "outputs": [
    {
     "data": {
      "application/vnd.microsoft.datawrangler.viewer.v0+json": {
       "columns": [
        {
         "name": "index",
         "rawType": "int64",
         "type": "integer"
        },
        {
         "name": "server_id",
         "rawType": "int64",
         "type": "integer"
        },
        {
         "name": "rule_id",
         "rawType": "object",
         "type": "string"
        },
        {
         "name": "text",
         "rawType": "object",
         "type": "unknown"
        },
        {
         "name": "hint",
         "rawType": "object",
         "type": "unknown"
        },
        {
         "name": "strict_rule",
         "rawType": "bool",
         "type": "boolean"
        }
       ],
       "conversionMethod": "pd.DataFrame",
       "ref": "b0199a02-7a93-44f6-93b3-eaaaea9f096c",
       "rows": [
        [
         "0",
         "0",
         "1",
         "['sexually', 'explicit', 'or', 'violent', 'media', 'must', 'be', 'marked', 'as', 'sensitive', 'or', 'with', 'a', 'content', 'warning']",
         "['this', 'includes', 'content', 'that', 'is', 'particularly', 'provocative', 'even', 'if', 'it', 'may', 'not', 'show', 'specific', 'body', 'parts', 'as', 'well', 'as', 'dead', 'bodies', 'bloody', 'injuries', 'and', 'other', 'gore', 'particularly', 'obscene', 'content', 'may', 'be', 'prohibited', 'entirely', 'profile', 'pictures', 'and', 'header', 'images', 'may', 'not', 'contain', 'sexually', 'explicit', 'or', 'violent', 'media']",
         "False"
        ],
        [
         "1",
         "0",
         "3",
         "['no', 'incitement', 'of', 'violence', 'or', 'promotion', 'of', 'violent', 'ideologies']",
         "['calling', 'for', 'people', 'or', 'groups', 'to', 'be', 'assassinated', 'murdered', 'or', 'attacked', 'physically', 'is', 'strictly', 'prohibited', 'support', 'for', 'violent', 'groups', 'or', 'events', 'is', 'prohibited']",
         "True"
        ],
        [
         "2",
         "0",
         "4",
         "['no', 'harassment', 'block', 'evasion', 'dogpiling', 'or', 'doxxing', 'of', 'others']",
         "['repeat', 'attempts', 'to', 'communicate', 'with', 'users', 'who', 'have', 'blocked', 'you', 'or', 'creation', 'of', 'accounts', 'solely', 'to', 'harass', 'or', 'insult', 'individuals', 'is', 'strictly', 'prohibited', 'coordinated', 'activity', 'to', 'attack', 'other', 'users', 'is', 'prohibited', 'posting', 'of', 'private', 'personal', 'information', 'about', 'others', 'is', 'prohibited']",
         "True"
        ],
        [
         "3",
         "0",
         "7",
         "['do', 'not', 'share', 'information', 'widely', 'known', 'to', 'be', 'false', 'and', 'misleading']",
         "['false', 'and', 'misleading', 'information', 'and', 'links', 'from', 'low', 'quality', 'sources', 'may', 'not', 'be', 'posted', 'especially', 'if', 'they', 'are', 'likely', 'to', 'mislead', 'or', 'confuse', 'others', 'or', 'endanger', 'their', 'safety']",
         "False"
        ],
        [
         "4",
         "0",
         "1008",
         "['content', 'created', 'by', 'others', 'must', 'be', 'attributed', 'and', 'use', 'of', 'generative', 'ai', 'must', 'be', 'disclosed']",
         "['content', 'created', 'by', 'others', 'must', 'clearly', 'provide', 'a', 'reference', 'to', 'the', 'author', 'creator', 'or', 'source', 'for', 'adult', 'content', 'this', 'should', 'include', 'performers', 'accounts', 'may', 'not', 'solely', 'post', 'ai', 'generated', 'content']",
         "False"
        ],
        [
         "5",
         "1",
         "2",
         "['sexually', 'explicit', 'or', 'violent', 'media', 'must', 'be', 'marked', 'as', 'sensitive', 'when', 'posting']",
         "[]",
         "False"
        ],
        [
         "6",
         "1",
         "5",
         "['no', 'incitement', 'of', 'violence', 'or', 'promotion', 'of', 'violent', 'ideologies']",
         "[]",
         "True"
        ],
        [
         "7",
         "1",
         "6",
         "['no', 'harassment', 'dogpiling', 'or', 'doxxing', 'of', 'other', 'users']",
         "[]",
         "True"
        ],
        [
         "8",
         "1",
         "11",
         "['no', 'spreading', 'of', 'fake', 'news', 'or', 'misinformation']",
         "[]",
         "True"
        ],
        [
         "9",
         "1",
         "12",
         "['content', 'created', 'by', 'others', 'must', 'be', 'attributed', 'and', 'use', 'of', 'ai', 'must', 'be', 'disclosed', 'profiles', 'that', 'only', 'post', 'ai', 'generated', 'content', 'will', 'not', 'be', 'tolerated']",
         "[]",
         "False"
        ],
        [
         "10",
         "2",
         "1",
         "['do', 'unto', 'others', 'as', 'you', 'think', 'they', 'would', 'want', 'done', 'to', 'them']",
         "[]",
         "False"
        ],
        [
         "11",
         "2",
         "2",
         "['mark', 'sensitive', 'content', 'with', 'a', 'content', 'warning']",
         "[]",
         "False"
        ],
        [
         "12",
         "2",
         "3",
         "['gratuitous', 'obscenity', 'that', 'serves', 'no', 'practical', 'benefit', 'to', 'a', 'discussion', 'is', 'not', 'permitted']",
         "[]",
         "True"
        ],
        [
         "13",
         "2",
         "4",
         "['illegal', 'content', 'such', 'as', 'child', 'pornography', 'unsurprisingly', 'is', 'not', 'permitted']",
         "[]",
         "False"
        ],
        [
         "14",
         "2",
         "5",
         "['spam', 'is', 'not', 'permitted', 'this', 'includes', 'creating', 'spam', 'accounts', 'that', 'only', 'serve', 'to', 'provide', 'profile', 'links', 'or', 'advertise', 'products', 'and', 'services']",
         "[]",
         "False"
        ],
        [
         "15",
         "2",
         "6",
         "['hate', 'speech', 'and', 'abusive', 'or', 'threatening', 'behavior', 'is', 'not', 'permitted', 'specifically', 'that', 'which', 'directed', 'at', 'any', 'gender', 'nationality', 'religion', 'race', 'age', 'pizza', 'topping', 'preference', 'or', 'sexual', 'identity', 'one', 'can', 'hate', 'on', 'systemd', 'all', 'day', 'long', 'here']",
         "[]",
         "False"
        ],
        [
         "16",
         "2",
         "7",
         "['lack', 'of', 'a', 'specific', 'rule', 'against', 'a', 'certain', 'behavior', 'does', 'not', 'indicate', 'acceptance', 'of', 'that', 'behavior', 'each', 'of', 'us', 'has', 'a', 'limited', 'amount', 'of', 'time', 'in', 'this', 'world', 'don', 't', 'be', 'a', 'jerk']",
         "[]",
         "False"
        ],
        [
         "17",
         "2",
         "8",
         "['violating', 'one', 'or', 'more', 'of', 'these', 'rules', 'may', 'result', 'in', 'an', 'immediate', 'permanent', 'ban', 'without', 'notice', 'or', 'warning']",
         "[]",
         "False"
        ],
        [
         "18",
         "2",
         "9",
         "['you', 'may', 'not', 'impersonate', 'a', 'person', 'or', 'brand', 'without', 'a', 'clear', 'indication', 'the', 'account', 'is', 'unofficial', 'and', 'or', 'a', 'parody', 'parody', 'accounts', 'are', 'permitted', 'as', 'are', 'legitimate', 'brand', 'accounts']",
         "[]",
         "False"
        ],
        [
         "19",
         "2",
         "11",
         "['no', 'attacks', 'against', 'or', 'from', 'the', 'instance', 'you', 'may', 'not', 'do', 'anything', 'which', 'may', 'impact', 'confidentiality', 'integrity', 'or', 'availability', 'of', 'infosec', 'exchange', 'the', 'users', 'of', 'the', 'service', 'or', 'their', 'data', 'for', 'more', 'details', 'see', 'https', 'wiki', 'infosec', 'exchange', 'rules', 'start']",
         "[]",
         "True"
        ],
        [
         "20",
         "2",
         "12",
         "['no', 'doxing', 'aka', 'doxxing', 'or', 'disclosing', 'personal', 'information', 'without', 'consent', 'and', 'as', 'a', 'means', 'of', 'harassing', 'or', 'causing', 'others', 'to', 'harass', 'another', 'person']",
         "[]",
         "True"
        ],
        [
         "21",
         "2",
         "13",
         "['no', 'harassment', 'in', 'the', 'form', 'of', 'continued', 'engagement', 'after', 'a', 'person', 'has', 'requested', 'contact', 'to', 'stop']",
         "[]",
         "True"
        ],
        [
         "22",
         "2",
         "14",
         "['automated', 'posting', 'accounts', 'that', 'post', '50', 'using', 'automation', 'must', 'be', 'labeled', 'as', 'a', 'bot', 'in', 'the', 'user', 'profile', 'to', 'help', 'provide', 'a', 'visual', 'indicator', 'to', 'visitors', 'automated', 'posts', 'must', 'be', 'limited', 'to', 'one', 'post', 'per', 'hour', '24', 'per', 'day', 'with', 'post', 'visibility', 'set', 'to', 'public', 'there', 'is', 'no', 'limit', 'on', 'unlisted', 'posts']",
         "[]",
         "True"
        ],
        [
         "23",
         "2",
         "15",
         "['soliciting', 'or', 'inciting', 'violence', 'or', 'harm', 'against', 'a', 'person', 'or', 'segment', 'of', 'people', 'is', 'not', 'permitted']",
         "[]",
         "False"
        ],
        [
         "24",
         "3",
         "9",
         "['no', 'discrimination', 'including', 'but', 'not', 'limited', 'to', 'racism', 'sexism', 'homophobia', 'or', 'transphobia', 'including', 'targeted', 'misgendering', 'deadnaming', 'or', 'promotion', 'of', 'so', 'called', 'conversion', 'therapy']",
         "[]",
         "True"
        ],
        [
         "25",
         "3",
         "10",
         "['no', 'explicit', 'nsfw', 'content', 'without', 'content', 'warnings', 'and', 'or', 'sensitive', 'media', 'markers', 'explicit', 'content', 'must', 'not', 'be', 'used', 'in', 'user', 'avatars', 'or', 'header', 'images']",
         "[]",
         "True"
        ],
        [
         "26",
         "3",
         "17",
         "['no', 'harassment', 'of', 'other', 'users', 'on', 'this', 'or', 'other', 'servers']",
         "[]",
         "True"
        ],
        [
         "27",
         "3",
         "18",
         "['no', 'content', 'illegal', 'in', 'the', 'following', 'countries', 'united', 'kingdom', 'germany']",
         "[]",
         "True"
        ],
        [
         "28",
         "3",
         "19",
         "['no', 'incitement', 'of', 'violence', 'or', 'promotion', 'of', 'violent', 'ideologies']",
         "[]",
         "True"
        ],
        [
         "29",
         "3",
         "20",
         "['no', 'disinformation', 'regarding', 'public', 'health', 'issues', 'or', 'political', 'military', 'campaigns']",
         "[]",
         "True"
        ],
        [
         "30",
         "3",
         "21",
         "['no', 'spam', 'this', 'includes', 'commercial', 'advertising', 'promotion', 'of', 'services', 'and', 'seo']",
         "[]",
         "True"
        ],
        [
         "31",
         "3",
         "22",
         "['no', 'impersonation', 'of', 'other', 'individuals', 'public', 'figures', 'or', 'organisations', 'unless', 'clearly', 'marked', 'as', 'a', 'parody']",
         "[]",
         "True"
        ],
        [
         "32",
         "3",
         "23",
         "['all', 'automated', 'bot', 'accounts', 'must', 'enable', 'the', 'bot', 'flag', 'in', 'their', 'account', 'preferences', 'respect', 'nobot', 'markers', 'and', 'post', 'as', 'unlisted', 'unless', 'making', 'less', 'than', 'one', 'post', 'per', 'hour']",
         "[]",
         "False"
        ],
        [
         "33",
         "5",
         "1",
         "['don', 't', 'be', 'a', 'dick']",
         "[]",
         "False"
        ],
        [
         "34",
         "5",
         "6",
         "['no', 'white', 'supremacy']",
         "[]",
         "True"
        ],
        [
         "35",
         "5",
         "9",
         "['no', 'nationalism']",
         "[]",
         "True"
        ],
        [
         "36",
         "5",
         "14",
         "['safe', 'space', 'lgtbqia']",
         "[]",
         "False"
        ],
        [
         "37",
         "7",
         "1",
         "['sexually', 'explicit', 'or', 'violent', 'media', 'must', 'be', 'marked', 'as', 'sensitive', 'when', 'posting']",
         "[]",
         "False"
        ],
        [
         "38",
         "7",
         "3",
         "['no', 'incitement', 'of', 'violence', 'or', 'promotion', 'of', 'violent', 'ideologies']",
         "[]",
         "True"
        ],
        [
         "39",
         "7",
         "4",
         "['no', 'harassment', 'dogpiling', 'or', 'doxxing', 'of', 'other', 'users']",
         "[]",
         "True"
        ],
        [
         "40",
         "7",
         "6",
         "['do', 'not', 'share', 'intentionally', 'false', 'or', 'misleading', 'information']",
         "[]",
         "False"
        ],
        [
         "41",
         "8",
         "6",
         "['violent', 'media', 'must', 'be', 'marked', 'as', 'sensitive', 'when', 'posting']",
         "[]",
         "False"
        ],
        [
         "42",
         "8",
         "8",
         "['no', 'incitement', 'of', 'violence', 'or', 'promotion', 'of', 'violent', 'ideologies']",
         "[]",
         "True"
        ],
        [
         "43",
         "8",
         "9",
         "['no', 'harassment', 'dogpiling', 'or', 'doxxing', 'of', 'other', 'users']",
         "[]",
         "True"
        ],
        [
         "44",
         "8",
         "11",
         "['do', 'not', 'share', 'false', 'or', 'misleading', 'information', 'that', 'may', 'lead', 'to', 'physical', 'harm']",
         "[]",
         "False"
        ],
        [
         "45",
         "8",
         "13",
         "['no', 'spam', 'no', 'direct', 'advertising', 'selling', 'products', 'or', 'services', 'no', 'aggressive', 'promotion', 'if', 'you', 'promote', 'your', 'website', 'blog', 'etc', 'do', 'it', 'responsibly', 'and', 'use', 'a', 'description', 'and', 'tags']",
         "[]",
         "True"
        ],
        [
         "46",
         "8",
         "14",
         "['bots', 'must', 'be', 'marked', 'as', 'bot', 'in', 'their', 'profile', 'and', 'bots', 'created', 'after', 'dec', '31st', '2024', 'must', 'post', 'in', 'silent', 'mode']",
         "[]",
         "False"
        ],
        [
         "47",
         "8",
         "15",
         "['sexually', 'explicit', 'content', 'is', 'not', 'allowed']",
         "[]",
         "False"
        ],
        [
         "48",
         "8",
         "16",
         "['agree', 'to', 'code', 'of', 'conduct', 'see', 'about', 'section']",
         "[]",
         "False"
        ],
        [
         "49",
         "10",
         "1",
         "['be', 'nice', 'to', 'each', 'other']",
         "[]",
         "False"
        ]
       ],
       "shape": {
        "columns": 5,
        "rows": 573
       }
      },
      "text/html": [
       "<div>\n",
       "<style scoped>\n",
       "    .dataframe tbody tr th:only-of-type {\n",
       "        vertical-align: middle;\n",
       "    }\n",
       "\n",
       "    .dataframe tbody tr th {\n",
       "        vertical-align: top;\n",
       "    }\n",
       "\n",
       "    .dataframe thead th {\n",
       "        text-align: right;\n",
       "    }\n",
       "</style>\n",
       "<table border=\"1\" class=\"dataframe\">\n",
       "  <thead>\n",
       "    <tr style=\"text-align: right;\">\n",
       "      <th></th>\n",
       "      <th>server_id</th>\n",
       "      <th>rule_id</th>\n",
       "      <th>text</th>\n",
       "      <th>hint</th>\n",
       "      <th>strict_rule</th>\n",
       "    </tr>\n",
       "  </thead>\n",
       "  <tbody>\n",
       "    <tr>\n",
       "      <th>0</th>\n",
       "      <td>0</td>\n",
       "      <td>1</td>\n",
       "      <td>[sexually, explicit, or, violent, media, must,...</td>\n",
       "      <td>[this, includes, content, that, is, particular...</td>\n",
       "      <td>False</td>\n",
       "    </tr>\n",
       "    <tr>\n",
       "      <th>1</th>\n",
       "      <td>0</td>\n",
       "      <td>3</td>\n",
       "      <td>[no, incitement, of, violence, or, promotion, ...</td>\n",
       "      <td>[calling, for, people, or, groups, to, be, ass...</td>\n",
       "      <td>True</td>\n",
       "    </tr>\n",
       "    <tr>\n",
       "      <th>2</th>\n",
       "      <td>0</td>\n",
       "      <td>4</td>\n",
       "      <td>[no, harassment, block, evasion, dogpiling, or...</td>\n",
       "      <td>[repeat, attempts, to, communicate, with, user...</td>\n",
       "      <td>True</td>\n",
       "    </tr>\n",
       "    <tr>\n",
       "      <th>3</th>\n",
       "      <td>0</td>\n",
       "      <td>7</td>\n",
       "      <td>[do, not, share, information, widely, known, t...</td>\n",
       "      <td>[false, and, misleading, information, and, lin...</td>\n",
       "      <td>False</td>\n",
       "    </tr>\n",
       "    <tr>\n",
       "      <th>4</th>\n",
       "      <td>0</td>\n",
       "      <td>1008</td>\n",
       "      <td>[content, created, by, others, must, be, attri...</td>\n",
       "      <td>[content, created, by, others, must, clearly, ...</td>\n",
       "      <td>False</td>\n",
       "    </tr>\n",
       "    <tr>\n",
       "      <th>...</th>\n",
       "      <td>...</td>\n",
       "      <td>...</td>\n",
       "      <td>...</td>\n",
       "      <td>...</td>\n",
       "      <td>...</td>\n",
       "    </tr>\n",
       "    <tr>\n",
       "      <th>568</th>\n",
       "      <td>137</td>\n",
       "      <td>16</td>\n",
       "      <td>[this, instance, is, made, for, individuals, o...</td>\n",
       "      <td>[]</td>\n",
       "      <td>False</td>\n",
       "    </tr>\n",
       "    <tr>\n",
       "      <th>569</th>\n",
       "      <td>137</td>\n",
       "      <td>17</td>\n",
       "      <td>[brand, accounts, are, not, allowed, this, ins...</td>\n",
       "      <td>[]</td>\n",
       "      <td>False</td>\n",
       "    </tr>\n",
       "    <tr>\n",
       "      <th>570</th>\n",
       "      <td>137</td>\n",
       "      <td>18</td>\n",
       "      <td>[do, not, register, your, account, via, tor, v...</td>\n",
       "      <td>[]</td>\n",
       "      <td>False</td>\n",
       "    </tr>\n",
       "    <tr>\n",
       "      <th>571</th>\n",
       "      <td>137</td>\n",
       "      <td>20</td>\n",
       "      <td>[english, only, if, you, sign, up, with, the, ...</td>\n",
       "      <td>[]</td>\n",
       "      <td>False</td>\n",
       "    </tr>\n",
       "    <tr>\n",
       "      <th>572</th>\n",
       "      <td>137</td>\n",
       "      <td>21</td>\n",
       "      <td>[this, instance, is, under, the, jurisdiction,...</td>\n",
       "      <td>[]</td>\n",
       "      <td>False</td>\n",
       "    </tr>\n",
       "  </tbody>\n",
       "</table>\n",
       "<p>573 rows × 5 columns</p>\n",
       "</div>"
      ],
      "text/plain": [
       "     server_id rule_id                                               text  \\\n",
       "0            0       1  [sexually, explicit, or, violent, media, must,...   \n",
       "1            0       3  [no, incitement, of, violence, or, promotion, ...   \n",
       "2            0       4  [no, harassment, block, evasion, dogpiling, or...   \n",
       "3            0       7  [do, not, share, information, widely, known, t...   \n",
       "4            0    1008  [content, created, by, others, must, be, attri...   \n",
       "..         ...     ...                                                ...   \n",
       "568        137      16  [this, instance, is, made, for, individuals, o...   \n",
       "569        137      17  [brand, accounts, are, not, allowed, this, ins...   \n",
       "570        137      18  [do, not, register, your, account, via, tor, v...   \n",
       "571        137      20  [english, only, if, you, sign, up, with, the, ...   \n",
       "572        137      21  [this, instance, is, under, the, jurisdiction,...   \n",
       "\n",
       "                                                  hint  strict_rule  \n",
       "0    [this, includes, content, that, is, particular...        False  \n",
       "1    [calling, for, people, or, groups, to, be, ass...         True  \n",
       "2    [repeat, attempts, to, communicate, with, user...         True  \n",
       "3    [false, and, misleading, information, and, lin...        False  \n",
       "4    [content, created, by, others, must, clearly, ...        False  \n",
       "..                                                 ...          ...  \n",
       "568                                                 []        False  \n",
       "569                                                 []        False  \n",
       "570                                                 []        False  \n",
       "571                                                 []        False  \n",
       "572                                                 []        False  \n",
       "\n",
       "[573 rows x 5 columns]"
      ]
     },
     "execution_count": 104,
     "metadata": {},
     "output_type": "execute_result"
    }
   ],
   "source": [
    "# Keep only the rows from standardized_df that have a matching server_id and rule_id in df_english\n",
    "standardized_df = standardized_df.merge(df_english[[\"server_id\", \"rule_id\"]], on=[\"server_id\", \"rule_id\"], how='inner')\n",
    "standardized_df"
   ]
  },
  {
   "cell_type": "code",
   "execution_count": 105,
   "id": "ef8c9deb",
   "metadata": {},
   "outputs": [
    {
     "name": "stderr",
     "output_type": "stream",
     "text": [
      "[nltk_data] Downloading package stopwords to\n",
      "[nltk_data]     /Users/eglantinevialaneix/nltk_data...\n",
      "[nltk_data]   Package stopwords is already up-to-date!\n"
     ]
    },
    {
     "data": {
      "application/vnd.microsoft.datawrangler.viewer.v0+json": {
       "columns": [
        {
         "name": "index",
         "rawType": "int64",
         "type": "integer"
        },
        {
         "name": "server_id",
         "rawType": "int64",
         "type": "integer"
        },
        {
         "name": "rule_id",
         "rawType": "object",
         "type": "string"
        },
        {
         "name": "text",
         "rawType": "object",
         "type": "unknown"
        },
        {
         "name": "hint",
         "rawType": "object",
         "type": "unknown"
        },
        {
         "name": "strict_rule",
         "rawType": "bool",
         "type": "boolean"
        }
       ],
       "conversionMethod": "pd.DataFrame",
       "ref": "242376f8-f6da-465b-b0c3-acbef9035624",
       "rows": [
        [
         "0",
         "0",
         "1",
         "['sexually', 'explicit', 'violent', 'media', 'must', 'marked', 'sensitive', 'content', 'warning']",
         "['includes', 'content', 'particularly', 'provocative', 'even', 'may', 'show', 'specific', 'body', 'parts', 'well', 'dead', 'bodies', 'bloody', 'injuries', 'gore', 'particularly', 'obscene', 'content', 'may', 'prohibited', 'entirely', 'profile', 'pictures', 'header', 'images', 'may', 'contain', 'sexually', 'explicit', 'violent', 'media']",
         "False"
        ],
        [
         "1",
         "0",
         "3",
         "['incitement', 'violence', 'promotion', 'violent', 'ideologies']",
         "['calling', 'people', 'groups', 'assassinated', 'murdered', 'attacked', 'physically', 'strictly', 'prohibited', 'support', 'violent', 'groups', 'events', 'prohibited']",
         "True"
        ],
        [
         "2",
         "0",
         "4",
         "['harassment', 'block', 'evasion', 'dogpiling', 'doxxing', 'others']",
         "['repeat', 'attempts', 'communicate', 'users', 'blocked', 'creation', 'accounts', 'solely', 'harass', 'insult', 'individuals', 'strictly', 'prohibited', 'coordinated', 'activity', 'attack', 'users', 'prohibited', 'posting', 'private', 'personal', 'information', 'others', 'prohibited']",
         "True"
        ],
        [
         "3",
         "0",
         "7",
         "['share', 'information', 'widely', 'known', 'false', 'misleading']",
         "['false', 'misleading', 'information', 'links', 'low', 'quality', 'sources', 'may', 'posted', 'especially', 'likely', 'mislead', 'confuse', 'others', 'endanger', 'safety']",
         "False"
        ],
        [
         "4",
         "0",
         "1008",
         "['content', 'created', 'others', 'must', 'attributed', 'use', 'generative', 'must', 'disclosed']",
         "['content', 'created', 'others', 'must', 'clearly', 'provide', 'reference', 'author', 'creator', 'source', 'adult', 'content', 'include', 'performers', 'accounts', 'may', 'solely', 'post', 'generated', 'content']",
         "False"
        ],
        [
         "5",
         "1",
         "2",
         "['sexually', 'explicit', 'violent', 'media', 'must', 'marked', 'sensitive', 'posting']",
         "[]",
         "False"
        ],
        [
         "6",
         "1",
         "5",
         "['incitement', 'violence', 'promotion', 'violent', 'ideologies']",
         "[]",
         "True"
        ],
        [
         "7",
         "1",
         "6",
         "['harassment', 'dogpiling', 'doxxing', 'users']",
         "[]",
         "True"
        ],
        [
         "8",
         "1",
         "11",
         "['spreading', 'fake', 'news', 'misinformation']",
         "[]",
         "True"
        ],
        [
         "9",
         "1",
         "12",
         "['content', 'created', 'others', 'must', 'attributed', 'use', 'must', 'disclosed', 'profiles', 'post', 'generated', 'content', 'tolerated']",
         "[]",
         "False"
        ],
        [
         "10",
         "2",
         "1",
         "['unto', 'others', 'think', 'would', 'want', 'done']",
         "[]",
         "False"
        ],
        [
         "11",
         "2",
         "2",
         "['mark', 'sensitive', 'content', 'content', 'warning']",
         "[]",
         "False"
        ],
        [
         "12",
         "2",
         "3",
         "['gratuitous', 'obscenity', 'serves', 'practical', 'benefit', 'discussion', 'permitted']",
         "[]",
         "True"
        ],
        [
         "13",
         "2",
         "4",
         "['illegal', 'content', 'child', 'pornography', 'unsurprisingly', 'permitted']",
         "[]",
         "False"
        ],
        [
         "14",
         "2",
         "5",
         "['spam', 'permitted', 'includes', 'creating', 'spam', 'accounts', 'serve', 'provide', 'profile', 'links', 'advertise', 'products', 'services']",
         "[]",
         "False"
        ],
        [
         "15",
         "2",
         "6",
         "['hate', 'speech', 'abusive', 'threatening', 'behavior', 'permitted', 'specifically', 'directed', 'gender', 'nationality', 'religion', 'race', 'age', 'pizza', 'topping', 'preference', 'sexual', 'identity', 'one', 'hate', 'systemd', 'day', 'long']",
         "[]",
         "False"
        ],
        [
         "16",
         "2",
         "7",
         "['lack', 'specific', 'rule', 'certain', 'behavior', 'indicate', 'acceptance', 'behavior', 'us', 'limited', 'amount', 'time', 'world', 'jerk']",
         "[]",
         "False"
        ],
        [
         "17",
         "2",
         "8",
         "['violating', 'one', 'rules', 'may', 'result', 'immediate', 'permanent', 'ban', 'without', 'notice', 'warning']",
         "[]",
         "False"
        ],
        [
         "18",
         "2",
         "9",
         "['may', 'impersonate', 'person', 'brand', 'without', 'clear', 'indication', 'account', 'unofficial', 'parody', 'parody', 'accounts', 'permitted', 'legitimate', 'brand', 'accounts']",
         "[]",
         "False"
        ],
        [
         "19",
         "2",
         "11",
         "['attacks', 'instance', 'may', 'anything', 'may', 'impact', 'confidentiality', 'integrity', 'availability', 'infosec', 'exchange', 'users', 'service', 'data', 'details', 'see', 'https', 'wiki', 'infosec', 'exchange', 'rules', 'start']",
         "[]",
         "True"
        ],
        [
         "20",
         "2",
         "12",
         "['doxing', 'aka', 'doxxing', 'disclosing', 'personal', 'information', 'without', 'consent', 'means', 'harassing', 'causing', 'others', 'harass', 'another', 'person']",
         "[]",
         "True"
        ],
        [
         "21",
         "2",
         "13",
         "['harassment', 'form', 'continued', 'engagement', 'person', 'requested', 'contact', 'stop']",
         "[]",
         "True"
        ],
        [
         "22",
         "2",
         "14",
         "['automated', 'posting', 'accounts', 'post', '50', 'using', 'automation', 'must', 'labeled', 'bot', 'user', 'profile', 'help', 'provide', 'visual', 'indicator', 'visitors', 'automated', 'posts', 'must', 'limited', 'one', 'post', 'per', 'hour', '24', 'per', 'day', 'post', 'visibility', 'set', 'public', 'limit', 'unlisted', 'posts']",
         "[]",
         "True"
        ],
        [
         "23",
         "2",
         "15",
         "['soliciting', 'inciting', 'violence', 'harm', 'person', 'segment', 'people', 'permitted']",
         "[]",
         "False"
        ],
        [
         "24",
         "3",
         "9",
         "['discrimination', 'including', 'limited', 'racism', 'sexism', 'homophobia', 'transphobia', 'including', 'targeted', 'misgendering', 'deadnaming', 'promotion', 'called', 'conversion', 'therapy']",
         "[]",
         "True"
        ],
        [
         "25",
         "3",
         "10",
         "['explicit', 'nsfw', 'content', 'without', 'content', 'warnings', 'sensitive', 'media', 'markers', 'explicit', 'content', 'must', 'used', 'user', 'avatars', 'header', 'images']",
         "[]",
         "True"
        ],
        [
         "26",
         "3",
         "17",
         "['harassment', 'users', 'servers']",
         "[]",
         "True"
        ],
        [
         "27",
         "3",
         "18",
         "['content', 'illegal', 'following', 'countries', 'united', 'kingdom', 'germany']",
         "[]",
         "True"
        ],
        [
         "28",
         "3",
         "19",
         "['incitement', 'violence', 'promotion', 'violent', 'ideologies']",
         "[]",
         "True"
        ],
        [
         "29",
         "3",
         "20",
         "['disinformation', 'regarding', 'public', 'health', 'issues', 'political', 'military', 'campaigns']",
         "[]",
         "True"
        ],
        [
         "30",
         "3",
         "21",
         "['spam', 'includes', 'commercial', 'advertising', 'promotion', 'services', 'seo']",
         "[]",
         "True"
        ],
        [
         "31",
         "3",
         "22",
         "['impersonation', 'individuals', 'public', 'figures', 'organisations', 'unless', 'clearly', 'marked', 'parody']",
         "[]",
         "True"
        ],
        [
         "32",
         "3",
         "23",
         "['automated', 'bot', 'accounts', 'must', 'enable', 'bot', 'flag', 'account', 'preferences', 'respect', 'nobot', 'markers', 'post', 'unlisted', 'unless', 'making', 'less', 'one', 'post', 'per', 'hour']",
         "[]",
         "False"
        ],
        [
         "33",
         "5",
         "1",
         "['dick']",
         "[]",
         "False"
        ],
        [
         "34",
         "5",
         "6",
         "['white', 'supremacy']",
         "[]",
         "True"
        ],
        [
         "35",
         "5",
         "9",
         "['nationalism']",
         "[]",
         "True"
        ],
        [
         "36",
         "5",
         "14",
         "['safe', 'space', 'lgtbqia']",
         "[]",
         "False"
        ],
        [
         "37",
         "7",
         "1",
         "['sexually', 'explicit', 'violent', 'media', 'must', 'marked', 'sensitive', 'posting']",
         "[]",
         "False"
        ],
        [
         "38",
         "7",
         "3",
         "['incitement', 'violence', 'promotion', 'violent', 'ideologies']",
         "[]",
         "True"
        ],
        [
         "39",
         "7",
         "4",
         "['harassment', 'dogpiling', 'doxxing', 'users']",
         "[]",
         "True"
        ],
        [
         "40",
         "7",
         "6",
         "['share', 'intentionally', 'false', 'misleading', 'information']",
         "[]",
         "False"
        ],
        [
         "41",
         "8",
         "6",
         "['violent', 'media', 'must', 'marked', 'sensitive', 'posting']",
         "[]",
         "False"
        ],
        [
         "42",
         "8",
         "8",
         "['incitement', 'violence', 'promotion', 'violent', 'ideologies']",
         "[]",
         "True"
        ],
        [
         "43",
         "8",
         "9",
         "['harassment', 'dogpiling', 'doxxing', 'users']",
         "[]",
         "True"
        ],
        [
         "44",
         "8",
         "11",
         "['share', 'false', 'misleading', 'information', 'may', 'lead', 'physical', 'harm']",
         "[]",
         "False"
        ],
        [
         "45",
         "8",
         "13",
         "['spam', 'direct', 'advertising', 'selling', 'products', 'services', 'aggressive', 'promotion', 'promote', 'website', 'blog', 'etc', 'responsibly', 'use', 'description', 'tags']",
         "[]",
         "True"
        ],
        [
         "46",
         "8",
         "14",
         "['bots', 'must', 'marked', 'bot', 'profile', 'bots', 'created', 'dec', '31st', '2024', 'must', 'post', 'silent', 'mode']",
         "[]",
         "False"
        ],
        [
         "47",
         "8",
         "15",
         "['sexually', 'explicit', 'content', 'allowed']",
         "[]",
         "False"
        ],
        [
         "48",
         "8",
         "16",
         "['agree', 'code', 'conduct', 'see', 'section']",
         "[]",
         "False"
        ],
        [
         "49",
         "10",
         "1",
         "['nice']",
         "[]",
         "False"
        ]
       ],
       "shape": {
        "columns": 5,
        "rows": 573
       }
      },
      "text/html": [
       "<div>\n",
       "<style scoped>\n",
       "    .dataframe tbody tr th:only-of-type {\n",
       "        vertical-align: middle;\n",
       "    }\n",
       "\n",
       "    .dataframe tbody tr th {\n",
       "        vertical-align: top;\n",
       "    }\n",
       "\n",
       "    .dataframe thead th {\n",
       "        text-align: right;\n",
       "    }\n",
       "</style>\n",
       "<table border=\"1\" class=\"dataframe\">\n",
       "  <thead>\n",
       "    <tr style=\"text-align: right;\">\n",
       "      <th></th>\n",
       "      <th>server_id</th>\n",
       "      <th>rule_id</th>\n",
       "      <th>text</th>\n",
       "      <th>hint</th>\n",
       "      <th>strict_rule</th>\n",
       "    </tr>\n",
       "  </thead>\n",
       "  <tbody>\n",
       "    <tr>\n",
       "      <th>0</th>\n",
       "      <td>0</td>\n",
       "      <td>1</td>\n",
       "      <td>[sexually, explicit, violent, media, must, mar...</td>\n",
       "      <td>[includes, content, particularly, provocative,...</td>\n",
       "      <td>False</td>\n",
       "    </tr>\n",
       "    <tr>\n",
       "      <th>1</th>\n",
       "      <td>0</td>\n",
       "      <td>3</td>\n",
       "      <td>[incitement, violence, promotion, violent, ide...</td>\n",
       "      <td>[calling, people, groups, assassinated, murder...</td>\n",
       "      <td>True</td>\n",
       "    </tr>\n",
       "    <tr>\n",
       "      <th>2</th>\n",
       "      <td>0</td>\n",
       "      <td>4</td>\n",
       "      <td>[harassment, block, evasion, dogpiling, doxxin...</td>\n",
       "      <td>[repeat, attempts, communicate, users, blocked...</td>\n",
       "      <td>True</td>\n",
       "    </tr>\n",
       "    <tr>\n",
       "      <th>3</th>\n",
       "      <td>0</td>\n",
       "      <td>7</td>\n",
       "      <td>[share, information, widely, known, false, mis...</td>\n",
       "      <td>[false, misleading, information, links, low, q...</td>\n",
       "      <td>False</td>\n",
       "    </tr>\n",
       "    <tr>\n",
       "      <th>4</th>\n",
       "      <td>0</td>\n",
       "      <td>1008</td>\n",
       "      <td>[content, created, others, must, attributed, u...</td>\n",
       "      <td>[content, created, others, must, clearly, prov...</td>\n",
       "      <td>False</td>\n",
       "    </tr>\n",
       "    <tr>\n",
       "      <th>...</th>\n",
       "      <td>...</td>\n",
       "      <td>...</td>\n",
       "      <td>...</td>\n",
       "      <td>...</td>\n",
       "      <td>...</td>\n",
       "    </tr>\n",
       "    <tr>\n",
       "      <th>568</th>\n",
       "      <td>137</td>\n",
       "      <td>16</td>\n",
       "      <td>[instance, made, individuals, older, 18yo, acc...</td>\n",
       "      <td>[]</td>\n",
       "      <td>False</td>\n",
       "    </tr>\n",
       "    <tr>\n",
       "      <th>569</th>\n",
       "      <td>137</td>\n",
       "      <td>17</td>\n",
       "      <td>[brand, accounts, allowed, instance, individuals]</td>\n",
       "      <td>[]</td>\n",
       "      <td>False</td>\n",
       "    </tr>\n",
       "    <tr>\n",
       "      <th>570</th>\n",
       "      <td>137</td>\n",
       "      <td>18</td>\n",
       "      <td>[register, account, via, tor, vpn, hosting, pr...</td>\n",
       "      <td>[]</td>\n",
       "      <td>False</td>\n",
       "    </tr>\n",
       "    <tr>\n",
       "      <th>571</th>\n",
       "      <td>137</td>\n",
       "      <td>20</td>\n",
       "      <td>[english, sign, reason, english, application, ...</td>\n",
       "      <td>[]</td>\n",
       "      <td>False</td>\n",
       "    </tr>\n",
       "    <tr>\n",
       "      <th>572</th>\n",
       "      <td>137</td>\n",
       "      <td>21</td>\n",
       "      <td>[instance, jurisdiction, western, australia, p...</td>\n",
       "      <td>[]</td>\n",
       "      <td>False</td>\n",
       "    </tr>\n",
       "  </tbody>\n",
       "</table>\n",
       "<p>573 rows × 5 columns</p>\n",
       "</div>"
      ],
      "text/plain": [
       "     server_id rule_id                                               text  \\\n",
       "0            0       1  [sexually, explicit, violent, media, must, mar...   \n",
       "1            0       3  [incitement, violence, promotion, violent, ide...   \n",
       "2            0       4  [harassment, block, evasion, dogpiling, doxxin...   \n",
       "3            0       7  [share, information, widely, known, false, mis...   \n",
       "4            0    1008  [content, created, others, must, attributed, u...   \n",
       "..         ...     ...                                                ...   \n",
       "568        137      16  [instance, made, individuals, older, 18yo, acc...   \n",
       "569        137      17  [brand, accounts, allowed, instance, individuals]   \n",
       "570        137      18  [register, account, via, tor, vpn, hosting, pr...   \n",
       "571        137      20  [english, sign, reason, english, application, ...   \n",
       "572        137      21  [instance, jurisdiction, western, australia, p...   \n",
       "\n",
       "                                                  hint  strict_rule  \n",
       "0    [includes, content, particularly, provocative,...        False  \n",
       "1    [calling, people, groups, assassinated, murder...         True  \n",
       "2    [repeat, attempts, communicate, users, blocked...         True  \n",
       "3    [false, misleading, information, links, low, q...        False  \n",
       "4    [content, created, others, must, clearly, prov...        False  \n",
       "..                                                 ...          ...  \n",
       "568                                                 []        False  \n",
       "569                                                 []        False  \n",
       "570                                                 []        False  \n",
       "571                                                 []        False  \n",
       "572                                                 []        False  \n",
       "\n",
       "[573 rows x 5 columns]"
      ]
     },
     "execution_count": 105,
     "metadata": {},
     "output_type": "execute_result"
    }
   ],
   "source": [
    "# Natural language processing\n",
    "import nltk\n",
    "from nltk.corpus import stopwords\n",
    "from sklearn.feature_extraction.text import TfidfVectorizer\n",
    "\n",
    "# Download stopwords if not already done\n",
    "nltk.download('stopwords')\n",
    "\n",
    "# Set of English stopwords\n",
    "stop_words = set(stopwords.words('english')).union(set(stopwords.words('french'))).union(set(stopwords.words('german'))).union(set(stopwords.words('spanish')))\n",
    "\n",
    "# Remove stop words from the tokenized lists\n",
    "standardized_df[\"text\"] = standardized_df[\"text\"].apply(lambda words: [word for word in words if word not in stop_words] if isinstance(words, list) else words)\n",
    "standardized_df[\"hint\"] = standardized_df[\"hint\"].apply(lambda words: [word for word in words if word not in stop_words] if isinstance(words, list) else words)\n",
    "\n",
    "# Lemmatize tokens\n",
    "# No need to lemmatize for berTOPIC\n",
    "#standardized_df[\"text\"] = standardized_df[\"text\"].apply(lemmatize)\n",
    "#standardized_df[\"hint\"] = standardized_df[\"hint\"].apply(lemmatize)\n",
    "\n",
    "standardized_df"
   ]
  },
  {
   "cell_type": "code",
   "execution_count": 106,
   "id": "aca6ad71",
   "metadata": {},
   "outputs": [
    {
     "data": {
      "text/plain": [
       "document\n",
       "content        177\n",
       "must            79\n",
       "promotion       56\n",
       "accounts        52\n",
       "violent         52\n",
       "              ... \n",
       "bring            1\n",
       "reflect          1\n",
       "responsible      1\n",
       "invites          1\n",
       "australian       1\n",
       "Name: count, Length: 1616, dtype: int64"
      ]
     },
     "execution_count": 106,
     "metadata": {},
     "output_type": "execute_result"
    }
   ],
   "source": [
    "#tokenize each text and each hint\n",
    "nlp_df = standardized_df.copy()\n",
    "\n",
    "nlp_df[\"document\"] = nlp_df.apply(create_document, axis=1)\n",
    "\n",
    "vocab = nlp_df[\"document\"].explode().unique()\n",
    "nlp_df[\"document\"].explode().value_counts()"
   ]
  },
  {
   "cell_type": "code",
   "execution_count": 107,
   "id": "32a39004",
   "metadata": {},
   "outputs": [
    {
     "name": "stdout",
     "output_type": "stream",
     "text": [
      "TF-IDF matrix shape: (573, 1609)\n"
     ]
    }
   ],
   "source": [
    "# TF-IDF scores\n",
    "# Join the tokens back into strings\n",
    "nlp_df['document_str'] = nlp_df['document'].apply(lambda x: ' '.join(x))\n",
    "\n",
    "# Create and fit TF-IDF Vectorizer\n",
    "tfidf_vect = TfidfVectorizer()\n",
    "tfidf_matrix = tfidf_vect.fit_transform(nlp_df['document_str'])\n",
    "\n",
    "# Get feature names (words)\n",
    "feature_names = tfidf_vect.get_feature_names_out()\n",
    "\n",
    "tfidf = pd.DataFrame(tfidf_matrix.toarray(), columns=feature_names)\n",
    "print(f\"TF-IDF matrix shape: {tfidf_matrix.shape}\")\n",
    "    "
   ]
  },
  {
   "cell_type": "code",
   "execution_count": 108,
   "id": "b6f60540",
   "metadata": {},
   "outputs": [
    {
     "name": "stdout",
     "output_type": "stream",
     "text": [
      "Top 10 terms by average TF-IDF score:\n",
      "            term     score\n",
      "322      content  0.049851\n",
      "1555     violent  0.029528\n",
      "1134   promotion  0.028996\n",
      "1554    violence  0.027639\n",
      "945         must  0.026209\n",
      "662   harassment  0.025530\n",
      "1531       users  0.024257\n",
      "737   incitement  0.022650\n",
      "712   ideologies  0.021178\n",
      "539     explicit  0.019201\n"
     ]
    }
   ],
   "source": [
    "# Display top terms with highest average TF-IDF scores\n",
    "mean_tfidf = tfidf_matrix.mean(axis=0).A1\n",
    "term_scores = pd.DataFrame({'term': feature_names, 'score': mean_tfidf})\n",
    "print(\"Top 10 terms by average TF-IDF score:\")\n",
    "print(term_scores.sort_values('score', ascending=False).head(10))"
   ]
  },
  {
   "cell_type": "code",
   "execution_count": 109,
   "id": "972b5e63",
   "metadata": {},
   "outputs": [
    {
     "name": "stdout",
     "output_type": "stream",
     "text": [
      "Top TF-IDF words for document 305:\n",
      "characteristic    0.359952\n",
      "considerate       0.322487\n",
      "identity          0.322487\n",
      "nationality       0.322487\n",
      "orientation       0.310426\n",
      "Name: 305, dtype: float64 \n",
      "\n",
      "Top TF-IDF words for document 559:\n",
      "fediblock    0.476019\n",
      "added        0.238009\n",
      "filters      0.238009\n",
      "hatred       0.238009\n",
      "honors       0.238009\n",
      "Name: 559, dtype: float64 \n",
      "\n",
      "Top TF-IDF words for document 443:\n",
      "islamophobia    0.462459\n",
      "casteism        0.414325\n",
      "semitism        0.414325\n",
      "anti            0.338033\n",
      "homophobia      0.292854\n",
      "Name: 443, dtype: float64 \n",
      "\n",
      "Top TF-IDF words for document 164:\n",
      "friendly    0.707107\n",
      "polite      0.707107\n",
      "1044123     0.000000\n",
      "13          0.000000\n",
      "16          0.000000\n",
      "Name: 164, dtype: float64 \n",
      "\n",
      "Top TF-IDF words for document 338:\n",
      "people     0.515307\n",
      "hit        0.398281\n",
      "inquire    0.398281\n",
      "lives      0.374032\n",
      "pry        0.374032\n",
      "Name: 338, dtype: float64 \n",
      "\n"
     ]
    }
   ],
   "source": [
    "# Display the top TF-IDF words for a few sample documents\n",
    "sample_indices = np.random.choice(tfidf.index, size=5, replace=False)\n",
    "for idx in sample_indices:\n",
    "    print(f\"Top TF-IDF words for document {idx}:\")\n",
    "    doc_tfidf = tfidf.iloc[idx]\n",
    "    top_words = doc_tfidf.nlargest(5)\n",
    "    print(top_words, '\\n')"
   ]
  },
  {
   "cell_type": "code",
   "execution_count": 110,
   "id": "431b45b3",
   "metadata": {},
   "outputs": [],
   "source": [
    "# Topic modeling\n",
    "from bertopic import BERTopic\n",
    "\n",
    "topic_model = BERTopic()\n",
    "topics, probs = topic_model.fit_transform(nlp_df['document_str'])"
   ]
  },
  {
   "cell_type": "code",
   "execution_count": 111,
   "id": "b585d7aa",
   "metadata": {},
   "outputs": [
    {
     "data": {
      "application/vnd.microsoft.datawrangler.viewer.v0+json": {
       "columns": [
        {
         "name": "index",
         "rawType": "int64",
         "type": "integer"
        },
        {
         "name": "Topic",
         "rawType": "int64",
         "type": "integer"
        },
        {
         "name": "Count",
         "rawType": "int64",
         "type": "integer"
        },
        {
         "name": "Name",
         "rawType": "object",
         "type": "string"
        },
        {
         "name": "Representation",
         "rawType": "object",
         "type": "unknown"
        },
        {
         "name": "Representative_Docs",
         "rawType": "object",
         "type": "unknown"
        }
       ],
       "conversionMethod": "pd.DataFrame",
       "ref": "d9cd756b-1bd3-4942-9123-7a7b32365508",
       "rows": [
        [
         "0",
         "-1",
         "20",
         "-1_languages_language_english_servers",
         "['languages', 'language', 'english', 'servers', 'deepl', 'harassment', 'nfts', 'crypto', 'terrorism', 'exploitation']",
         "['allowed languages german english main languages following languages tolerated dutch french spanish italian', 'english language cannot moderate languages time able moderate english unsupported language accounts suspended see https joinmastodon org servers find server country language', 'languages translated deepl translation integration allowed everybody read posts supported languages listed https support deepl com hc us articles 360019925219 languages included deepl pro']"
        ],
        [
         "1",
         "0",
         "131",
         "0_racism_hate_transphobia_speech",
         "['racism', 'hate', 'transphobia', 'speech', 'sexism', 'discrimination', 'homophobia', 'community', 'including', 'respectful']",
         "['respectful racism sexism homophobia transphobia including targeted misgendering deadnaming promotion called conversion therapy xenophobia forms hate discrimination welcome behaviour elsewhere may considered brought attention', 'discrimination including limited racism sexism homophobia transphobia including targeted misgendering deadnaming promotion called conversion therapy', 'discrimination including limited racism sexism homophobia transphobia including targeted misgendering deadnaming promotion called conversion therapy']"
        ],
        [
         "2",
         "1",
         "97",
         "1_content_sensitive_explicit_nsfw",
         "['content', 'sensitive', 'explicit', 'nsfw', 'media', 'warning', 'must', 'marked', 'sexually', 'cw']",
         "['explicit nsfw content without content warnings sensitive media markers explicit content must used user avatars header images', 'explicit nsfw content must marked sensitive content warning explicit content must used user avatars header images', 'explicit nsfw content without content warnings sensitive media markers explicit content must used user avatars header images']"
        ],
        [
         "3",
         "2",
         "72",
         "2_spam_accounts_advertising_commercial",
         "['spam', 'accounts', 'advertising', 'commercial', 'account', 'email', 'business', 'excessive', 'promotion', 'ads']",
         "['commercial accounts advertising excessive promotion', 'spam includes commercial advertising promotion services seo', 'spam includes commercial advertising promotion services seo']"
        ],
        [
         "4",
         "3",
         "65",
         "3_illegal_content_united_post",
         "['illegal', 'content', 'united', 'post', 'laws', 'kingdom', 'germany', 'must', 'created', 'copyrighted']",
         "['content illegal united kingdom', 'content illegal united kingdom', 'content illegal united kingdom']"
        ],
        [
         "5",
         "4",
         "39",
         "4_false_misleading_information_intentionally",
         "['false', 'misleading', 'information', 'intentionally', 'share', 'misinformation', 'disinformation', 'health', 'conspiracy', 'military']",
         "['share intentionally false misleading information', 'share intentionally false misleading information', 'share intentionally false misleading information']"
        ],
        [
         "6",
         "5",
         "36",
         "5_violence_incitement_ideologies_violent",
         "['violence', 'incitement', 'ideologies', 'violent', 'promotion', 'harm', 'inciting', 'suicide', 'prohibited', 'strictly']",
         "['incitement violence promotion violent ideologies', 'incitement violence promotion violent ideologies', 'incitement violence promotion violent ideologies']"
        ],
        [
         "7",
         "6",
         "29",
         "6_rules_admins_report_admin",
         "['rules', 'admins', 'report', 'admin', 'moderators', 'server', 'service', 'team', 'instance', 'users']",
         "['hoosier social admins unilateral authority judgment users violate rules users immediately suspended without appeal admins federate servers whose users act group harass attack server users', 'mastodon servers break rules banned federating nfld possible follow users servers around world federated timeline streams posts servers break rules limited blocked communicating us', 'please report issues admins moderators let us take care please act admin moderator instead report adverse activity team handle properly well make reports admins']"
        ],
        [
         "8",
         "7",
         "24",
         "7_doxxing_dogpiling_users_harassment",
         "['doxxing', 'dogpiling', 'users', 'harassment', 'information', 'identifying', 'spam', 'harrassment', 'reporting', 'personally']",
         "['harassment dogpiling doxxing users', 'harassment dogpiling doxxing users', 'harassment dogpiling doxxing users']"
        ],
        [
         "9",
         "8",
         "19",
         "8_parody_impersonation_clearly_unless",
         "['parody', 'impersonation', 'clearly', 'unless', 'accounts', 'individuals', 'brand', 'impersonate', 'account', 'figures']",
         "['impersonation individuals public figures organisations unless clearly marked parody', 'impersonation individuals public figures organisations unless clearly marked parody', 'impersonation individuals public figures organisations unless clearly marked parody']"
        ],
        [
         "10",
         "9",
         "17",
         "9_bot_bots_unlisted_post",
         "['bot', 'bots', 'unlisted', 'post', 'automated', 'posts', 'accounts', 'per', 'one', 'must']",
         "['automated bot accounts allowed run someone personal account bot accounts must enable bot flag account preferences respect nobot markers post unlisted making one post every six hours average mods may remove bot accounts become disruptive', 'automated bot accounts must enable bot flag account preferences respect nobot markers post unlisted unless making less one post per hour', 'automated bot accounts must enable bot flag account preferences respect nobot markers post unlisted unless making less one post per hour']"
        ],
        [
         "11",
         "10",
         "12",
         "10_harassment_harass_kind_group",
         "['harassment', 'harass', 'kind', 'group', 'engage', 'attacks', 'anyone', 'personal', 'unethical', 'bully']",
         "['engage harassment kind', 'repeated targeted harassment individual group unacceptable behaviour may lead temporary permanent suspension', 'harass anyone participate group harassment anyone otherwise engage name calling personal attacks']"
        ],
        [
         "12",
         "11",
         "12",
         "11_years_18_older_least",
         "['years', '18', 'older', 'least', '16', 'old', '13', 'must', 'use', 'age']",
         "['use service least 18 years old', 'must older 16 years according european law must least 16 years old use instance', 'must older 16 years according european law must least 16 years old use instance']"
        ]
       ],
       "shape": {
        "columns": 5,
        "rows": 13
       }
      },
      "text/html": [
       "<div>\n",
       "<style scoped>\n",
       "    .dataframe tbody tr th:only-of-type {\n",
       "        vertical-align: middle;\n",
       "    }\n",
       "\n",
       "    .dataframe tbody tr th {\n",
       "        vertical-align: top;\n",
       "    }\n",
       "\n",
       "    .dataframe thead th {\n",
       "        text-align: right;\n",
       "    }\n",
       "</style>\n",
       "<table border=\"1\" class=\"dataframe\">\n",
       "  <thead>\n",
       "    <tr style=\"text-align: right;\">\n",
       "      <th></th>\n",
       "      <th>Topic</th>\n",
       "      <th>Count</th>\n",
       "      <th>Name</th>\n",
       "      <th>Representation</th>\n",
       "      <th>Representative_Docs</th>\n",
       "    </tr>\n",
       "  </thead>\n",
       "  <tbody>\n",
       "    <tr>\n",
       "      <th>0</th>\n",
       "      <td>-1</td>\n",
       "      <td>20</td>\n",
       "      <td>-1_languages_language_english_servers</td>\n",
       "      <td>[languages, language, english, servers, deepl,...</td>\n",
       "      <td>[allowed languages german english main languag...</td>\n",
       "    </tr>\n",
       "    <tr>\n",
       "      <th>1</th>\n",
       "      <td>0</td>\n",
       "      <td>131</td>\n",
       "      <td>0_racism_hate_transphobia_speech</td>\n",
       "      <td>[racism, hate, transphobia, speech, sexism, di...</td>\n",
       "      <td>[respectful racism sexism homophobia transphob...</td>\n",
       "    </tr>\n",
       "    <tr>\n",
       "      <th>2</th>\n",
       "      <td>1</td>\n",
       "      <td>97</td>\n",
       "      <td>1_content_sensitive_explicit_nsfw</td>\n",
       "      <td>[content, sensitive, explicit, nsfw, media, wa...</td>\n",
       "      <td>[explicit nsfw content without content warning...</td>\n",
       "    </tr>\n",
       "    <tr>\n",
       "      <th>3</th>\n",
       "      <td>2</td>\n",
       "      <td>72</td>\n",
       "      <td>2_spam_accounts_advertising_commercial</td>\n",
       "      <td>[spam, accounts, advertising, commercial, acco...</td>\n",
       "      <td>[commercial accounts advertising excessive pro...</td>\n",
       "    </tr>\n",
       "    <tr>\n",
       "      <th>4</th>\n",
       "      <td>3</td>\n",
       "      <td>65</td>\n",
       "      <td>3_illegal_content_united_post</td>\n",
       "      <td>[illegal, content, united, post, laws, kingdom...</td>\n",
       "      <td>[content illegal united kingdom, content illeg...</td>\n",
       "    </tr>\n",
       "    <tr>\n",
       "      <th>5</th>\n",
       "      <td>4</td>\n",
       "      <td>39</td>\n",
       "      <td>4_false_misleading_information_intentionally</td>\n",
       "      <td>[false, misleading, information, intentionally...</td>\n",
       "      <td>[share intentionally false misleading informat...</td>\n",
       "    </tr>\n",
       "    <tr>\n",
       "      <th>6</th>\n",
       "      <td>5</td>\n",
       "      <td>36</td>\n",
       "      <td>5_violence_incitement_ideologies_violent</td>\n",
       "      <td>[violence, incitement, ideologies, violent, pr...</td>\n",
       "      <td>[incitement violence promotion violent ideolog...</td>\n",
       "    </tr>\n",
       "    <tr>\n",
       "      <th>7</th>\n",
       "      <td>6</td>\n",
       "      <td>29</td>\n",
       "      <td>6_rules_admins_report_admin</td>\n",
       "      <td>[rules, admins, report, admin, moderators, ser...</td>\n",
       "      <td>[hoosier social admins unilateral authority ju...</td>\n",
       "    </tr>\n",
       "    <tr>\n",
       "      <th>8</th>\n",
       "      <td>7</td>\n",
       "      <td>24</td>\n",
       "      <td>7_doxxing_dogpiling_users_harassment</td>\n",
       "      <td>[doxxing, dogpiling, users, harassment, inform...</td>\n",
       "      <td>[harassment dogpiling doxxing users, harassmen...</td>\n",
       "    </tr>\n",
       "    <tr>\n",
       "      <th>9</th>\n",
       "      <td>8</td>\n",
       "      <td>19</td>\n",
       "      <td>8_parody_impersonation_clearly_unless</td>\n",
       "      <td>[parody, impersonation, clearly, unless, accou...</td>\n",
       "      <td>[impersonation individuals public figures orga...</td>\n",
       "    </tr>\n",
       "    <tr>\n",
       "      <th>10</th>\n",
       "      <td>9</td>\n",
       "      <td>17</td>\n",
       "      <td>9_bot_bots_unlisted_post</td>\n",
       "      <td>[bot, bots, unlisted, post, automated, posts, ...</td>\n",
       "      <td>[automated bot accounts allowed run someone pe...</td>\n",
       "    </tr>\n",
       "    <tr>\n",
       "      <th>11</th>\n",
       "      <td>10</td>\n",
       "      <td>12</td>\n",
       "      <td>10_harassment_harass_kind_group</td>\n",
       "      <td>[harassment, harass, kind, group, engage, atta...</td>\n",
       "      <td>[engage harassment kind, repeated targeted har...</td>\n",
       "    </tr>\n",
       "    <tr>\n",
       "      <th>12</th>\n",
       "      <td>11</td>\n",
       "      <td>12</td>\n",
       "      <td>11_years_18_older_least</td>\n",
       "      <td>[years, 18, older, least, 16, old, 13, must, u...</td>\n",
       "      <td>[use service least 18 years old, must older 16...</td>\n",
       "    </tr>\n",
       "  </tbody>\n",
       "</table>\n",
       "</div>"
      ],
      "text/plain": [
       "    Topic  Count                                          Name  \\\n",
       "0      -1     20         -1_languages_language_english_servers   \n",
       "1       0    131              0_racism_hate_transphobia_speech   \n",
       "2       1     97             1_content_sensitive_explicit_nsfw   \n",
       "3       2     72        2_spam_accounts_advertising_commercial   \n",
       "4       3     65                 3_illegal_content_united_post   \n",
       "5       4     39  4_false_misleading_information_intentionally   \n",
       "6       5     36      5_violence_incitement_ideologies_violent   \n",
       "7       6     29                   6_rules_admins_report_admin   \n",
       "8       7     24          7_doxxing_dogpiling_users_harassment   \n",
       "9       8     19         8_parody_impersonation_clearly_unless   \n",
       "10      9     17                      9_bot_bots_unlisted_post   \n",
       "11     10     12               10_harassment_harass_kind_group   \n",
       "12     11     12                       11_years_18_older_least   \n",
       "\n",
       "                                       Representation  \\\n",
       "0   [languages, language, english, servers, deepl,...   \n",
       "1   [racism, hate, transphobia, speech, sexism, di...   \n",
       "2   [content, sensitive, explicit, nsfw, media, wa...   \n",
       "3   [spam, accounts, advertising, commercial, acco...   \n",
       "4   [illegal, content, united, post, laws, kingdom...   \n",
       "5   [false, misleading, information, intentionally...   \n",
       "6   [violence, incitement, ideologies, violent, pr...   \n",
       "7   [rules, admins, report, admin, moderators, ser...   \n",
       "8   [doxxing, dogpiling, users, harassment, inform...   \n",
       "9   [parody, impersonation, clearly, unless, accou...   \n",
       "10  [bot, bots, unlisted, post, automated, posts, ...   \n",
       "11  [harassment, harass, kind, group, engage, atta...   \n",
       "12  [years, 18, older, least, 16, old, 13, must, u...   \n",
       "\n",
       "                                  Representative_Docs  \n",
       "0   [allowed languages german english main languag...  \n",
       "1   [respectful racism sexism homophobia transphob...  \n",
       "2   [explicit nsfw content without content warning...  \n",
       "3   [commercial accounts advertising excessive pro...  \n",
       "4   [content illegal united kingdom, content illeg...  \n",
       "5   [share intentionally false misleading informat...  \n",
       "6   [incitement violence promotion violent ideolog...  \n",
       "7   [hoosier social admins unilateral authority ju...  \n",
       "8   [harassment dogpiling doxxing users, harassmen...  \n",
       "9   [impersonation individuals public figures orga...  \n",
       "10  [automated bot accounts allowed run someone pe...  \n",
       "11  [engage harassment kind, repeated targeted har...  \n",
       "12  [use service least 18 years old, must older 16...  "
      ]
     },
     "execution_count": 111,
     "metadata": {},
     "output_type": "execute_result"
    }
   ],
   "source": [
    "topic_model.get_topic_info()"
   ]
  }
 ],
 "metadata": {
  "kernelspec": {
   "display_name": ".venv",
   "language": "python",
   "name": "python3"
  },
  "language_info": {
   "codemirror_mode": {
    "name": "ipython",
    "version": 3
   },
   "file_extension": ".py",
   "mimetype": "text/x-python",
   "name": "python",
   "nbconvert_exporter": "python",
   "pygments_lexer": "ipython3",
   "version": "3.13.2"
  }
 },
 "nbformat": 4,
 "nbformat_minor": 5
}
