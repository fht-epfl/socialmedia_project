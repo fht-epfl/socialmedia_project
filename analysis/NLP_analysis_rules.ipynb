{
 "cells": [
  {
   "cell_type": "markdown",
   "id": "e80dfce8",
   "metadata": {},
   "source": [
    "# Natural Language Processing analysis of Mastodon's servers' rules"
   ]
  },
  {
   "cell_type": "code",
   "execution_count": 82,
   "id": "08b1e38c",
   "metadata": {},
   "outputs": [
    {
     "name": "stdout",
     "output_type": "stream",
     "text": [
      "The autoreload extension is already loaded. To reload it, use:\n",
      "  %reload_ext autoreload\n"
     ]
    }
   ],
   "source": [
    "%load_ext autoreload\n",
    "%autoreload 2"
   ]
  },
  {
   "cell_type": "code",
   "execution_count": 83,
   "id": "28c43ef3",
   "metadata": {},
   "outputs": [],
   "source": [
    "import pandas as pd\n",
    "import numpy as np\n",
    "\n",
    "from utils.SocialMediaDataset import MastodonDataset, RedditDataset\n",
    "import utils.utils as utils"
   ]
  },
  {
   "cell_type": "markdown",
   "id": "c102b5de",
   "metadata": {},
   "source": [
    "## Data cleaning and preprocessing"
   ]
  },
  {
   "cell_type": "code",
   "execution_count": 84,
   "id": "f2f231d8",
   "metadata": {},
   "outputs": [],
   "source": [
    "mastodon = MastodonDataset()\n",
    "reddit = RedditDataset()"
   ]
  },
  {
   "cell_type": "code",
   "execution_count": 85,
   "id": "a8af217e",
   "metadata": {},
   "outputs": [
    {
     "data": {
      "application/vnd.microsoft.datawrangler.viewer.v0+json": {
       "columns": [
        {
         "name": "index",
         "rawType": "int64",
         "type": "integer"
        },
        {
         "name": "domain",
         "rawType": "object",
         "type": "string"
        },
        {
         "name": "title",
         "rawType": "object",
         "type": "string"
        },
        {
         "name": "description",
         "rawType": "object",
         "type": "string"
        },
        {
         "name": "active_month",
         "rawType": "int64",
         "type": "integer"
        },
        {
         "name": "languages",
         "rawType": "object",
         "type": "string"
        },
        {
         "name": "rules",
         "rawType": "object",
         "type": "string"
        },
        {
         "name": "total_users",
         "rawType": "float64",
         "type": "float"
        },
        {
         "name": "server_id",
         "rawType": "int64",
         "type": "integer"
        }
       ],
       "ref": "2d3a812e-1963-451b-95ba-0efce497d02b",
       "rows": [
        [
         "0",
         "mastodon.social",
         "Mastodon",
         "The original server operated by the Mastodon gGmbH non-profit",
         "327503",
         "[\"en\"]",
         "[{\"id\": \"1\", \"text\": \"Sexually explicit or violent media must be marked as sensitive or with a content warning\", \"hint\": \"This includes content that is particularly provocative even if it may not show specific body parts, as well as dead bodies, bloody injuries, and other gore. Particularly obscene content may be prohibited entirely. Profile pictures and header images may not contain sexually explicit or violent media.\"}, {\"id\": \"2\", \"text\": \"No racism, sexism, homophobia, transphobia, ableism, xenophobia, or casteism.\", \"hint\": \"Transphobic behavior such as intentional misgendering and deadnaming is strictly prohibited. Promotion of \\\"conversion therapy\\\" is strictly prohibited. Criticism of governments and religions is permissible unless being used as a proxy for discrimination.\"}, {\"id\": \"3\", \"text\": \"No incitement of violence or promotion of violent ideologies\", \"hint\": \"Calling for people or groups to be assassinated, murdered, or attacked physically is strictly prohibited. Support for violent groups or events is prohibited.\"}, {\"id\": \"4\", \"text\": \"No harassment, block evasion, dogpiling, or doxxing of others\", \"hint\": \"Repeat attempts to communicate with users who have blocked you or creation of accounts solely to harass or insult individuals is strictly prohibited. Coordinated activity to attack other users is prohibited. Posting of private personal information about others is prohibited.\"}, {\"id\": \"7\", \"text\": \"Do not share information widely-known to be false and misleading\", \"hint\": \"False and misleading information and links from low-quality sources may not be posted, especially if they are likely to mislead or confuse others or endanger their safety.\"}, {\"id\": \"1008\", \"text\": \"Content created by others must be attributed, and use of generative AI must be disclosed\", \"hint\": \"Content created by others must clearly provide a reference to the author, creator, or source. For adult content, this should include performers. Accounts may not solely post AI-generated content.\"}]",
         "2711879.0",
         "0"
        ],
        [
         "1",
         "mstdn.social",
         "Mastodon 🐘",
         "A general-purpose Mastodon server with a 500 character limit. All languages are welcome.",
         "14546",
         "[\"en\"]",
         "[{\"id\": \"2\", \"text\": \"Sexually explicit or violent media must be marked as sensitive when posting.\", \"hint\": \"\"}, {\"id\": \"3\", \"text\": \"No spam or advertising.\", \"hint\": \"\"}, {\"id\": \"4\", \"text\": \"No racism, sexism, homophobia, transphobia, xenophobia, or casteism.\", \"hint\": \"\"}, {\"id\": \"5\", \"text\": \"No incitement of violence or promotion of violent ideologies.\", \"hint\": \"\"}, {\"id\": \"6\", \"text\": \"No harassment, dogpiling or doxxing of other users.\", \"hint\": \"\"}, {\"id\": \"7\", \"text\": \"No illegal content.\", \"hint\": \"\"}, {\"id\": \"11\", \"text\": \"No spreading of fake news or misinformation\", \"hint\": \"\"}, {\"id\": \"12\", \"text\": \"Content created by others must be attributed, and use of AI must be disclosed. Profiles that only post AI-generated content will not be tolerated.\", \"hint\": \"\"}]",
         "260323.0",
         "1"
        ],
        [
         "2",
         "infosec.exchange",
         "Infosec Exchange",
         "A Mastodon instance for info/cyber security-minded people.\n",
         "13319",
         "[\"en\"]",
         "[{\"id\": \"1\", \"text\": \"Do unto others as you think they would want done to them.  \", \"hint\": \"\"}, {\"id\": \"2\", \"text\": \"Mark sensitive content with a content warning.  \", \"hint\": \"\"}, {\"id\": \"3\", \"text\": \"Gratuitous obscenity that serves no practical benefit to a discussion is not permitted.\", \"hint\": \"\"}, {\"id\": \"4\", \"text\": \"Illegal content such as child pornography, unsurprisingly, is not permitted\", \"hint\": \"\"}, {\"id\": \"5\", \"text\": \"Spam is not permitted, this includes creating spam accounts that only serve to provide profile links or advertise products and services. \", \"hint\": \"\"}, {\"id\": \"6\", \"text\": \"Hate speech and abusive or threatening behavior is not permitted, specifically that which directed at any gender, nationality, religion, race, age, pizza topping preference, or sexual identity.  One can hate on systemd all day long here.\", \"hint\": \"\"}, {\"id\": \"7\", \"text\": \"Lack of a specific rule against a certain behavior does not indicate acceptance of that behavior.  Each of us has a limited amount of time in this world.  Don't be a jerk.  \", \"hint\": \"\"}, {\"id\": \"8\", \"text\": \"Violating one or more of these rules may result in an immediate, permanent ban without notice or warning.  \", \"hint\": \"\"}, {\"id\": \"9\", \"text\": \"You may not impersonate a person or brand without a clear indication the account is unofficial and/or a parody. Parody accounts are permitted, as are legitimate brand accounts. \", \"hint\": \"\"}, {\"id\": \"11\", \"text\": \"No attacks against (or from) the instance.\\r\\n\\r\\nYou may not do anything which may impact confidentiality, integrity or availability of Infosec.Exchange, the users of the service or their data.\\r\\nFor more details see https://wiki.infosec.exchange/rules/start\", \"hint\": \"\"}, {\"id\": \"12\", \"text\": \"No doxing (aka doxxing) or disclosing personal information without consent and as a means of harassing or causing others to harass another person.\", \"hint\": \"\"}, {\"id\": \"13\", \"text\": \"No harassment in the form of continued engagement after a person has requested contact to stop\", \"hint\": \"\"}, {\"id\": \"14\", \"text\": \"Automated posting:\\r\\n- accounts that post >50% using automation must be labeled as a “bot” in the user profile to help provide a visual indicator to visitors\\r\\n- automated posts must be limited to one post per hour/24 per day with post visibility set to “public”. There is no limit on “unlisted” posts.\", \"hint\": \"\"}, {\"id\": \"15\", \"text\": \"Soliciting or inciting violence or harm against a person or segment of people is not permitted. \", \"hint\": \"\"}]",
         "75725.0",
         "2"
        ],
        [
         "3",
         "mas.to",
         "mas.to",
         "Hello! mas.to is a fast, up-to-date and fun Mastodon server.",
         "11889",
         "[\"en\"]",
         "[{\"id\": \"9\", \"text\": \"No discrimination, including (but not limited to) racism, sexism, homophobia or transphobia (including targeted misgendering, deadnaming, or promotion of so-called 'conversion therapy').\", \"hint\": \"\"}, {\"id\": \"10\", \"text\": \"No explicit (NSFW) content without content warnings and/or sensitive media markers. Explicit content must not be used in user avatars or header images.\", \"hint\": \"\"}, {\"id\": \"17\", \"text\": \"No harassment of other users on this or other servers.\", \"hint\": \"\"}, {\"id\": \"18\", \"text\": \"No content illegal in the following countries: United Kingdom, Germany\", \"hint\": \"\"}, {\"id\": \"19\", \"text\": \"No incitement of violence or promotion of violent ideologies.\", \"hint\": \"\"}, {\"id\": \"20\", \"text\": \"No disinformation regarding public health issues or political/military campaigns.\", \"hint\": \"\"}, {\"id\": \"21\", \"text\": \"No spam. This includes commercial advertising, promotion of services, and SEO.\", \"hint\": \"\"}, {\"id\": \"22\", \"text\": \"No impersonation of other individuals, public figures or organisations, unless clearly marked as a parody.\", \"hint\": \"\"}, {\"id\": \"23\", \"text\": \"All automated (bot) accounts must enable the bot flag in their account preferences, respect #nobot markers, and post as unlisted unless making less than one post per hour.\", \"hint\": \"\"}]",
         "183608.0",
         "3"
        ],
        [
         "4",
         "piaille.fr",
         "Piaille",
         "Piaille.fr est un serveur mastodon public francophone accessible à toutes et à tous.\n\nJoignable via Tor ici :\npiaillesmbiv4wjdy7no6r4eijsv6mlsp3cxrpy37dhmose2jwyqdrid.onion",
         "9221",
         "[\"fr\"]",
         "[{\"id\": \"1\", \"text\": \"Conformément aux lois françaises et à la jurisprudence, les contenus pédopornographiques, y compris sous forme dessinée, sont illégaux et seront supprimés, et les comptes concernés bloqués (si distants) ou supprimés (si local).\", \"hint\": \"\"}, {\"id\": \"2\", \"text\": \"La nudité, les contenus érotiques, pornographiques ou visiblement violents doivent être marqués avec le drapeau \\\"sensible / sensitive\\\". Les comptes ne respectant pas cette règle seront supprimés\\r\\n\", \"hint\": \"\"}, {\"id\": \"3\", \"text\": \"La publicité, sous forme répétée et/ou intrusive (faisant mention d'autres utilisateur·ices), n'est pas acceptée. Les comptes concernés seront rendus invisibles aux flux locaux et fédérés, ou supprimés, selon la gravité de la situation.\", \"hint\": \"\"}, {\"id\": \"4\", \"text\": \"Approchez les personnes avec précaution et politesse. Si une personne vous demande d'arrêter de la mentionner ou qu'elle exprime ne plus vouloir participer à une discussion, arrêtez immédiatement.\", \"hint\": \"\"}, {\"id\": \"5\", \"text\": \"Est interdit tout propos reproduisant des comportements oppressifs visibles dans la société ( par exemple : racisme, sexisme, lgbtphobie, validisme )\\r\\n\", \"hint\": \"\"}, {\"id\": \"6\", \"text\": \"Sont interdits les avances ou propositions à caractères sexuels non-sollicitées.\\r\\n\", \"hint\": \"\"}, {\"id\": \"7\", \"text\": \"Sont interdit toute conduite, en public ou en privé, ayant pour but de traquer, harceler ou intimider d'autres personnes.\\r\\n\", \"hint\": \"\"}, {\"id\": \"8\", \"text\": \"Il est interdit de rassembler, publier, disséminer les informations personnelles d'une autre personne sans son autorisation explicite.\\r\\n\", \"hint\": \"\"}, {\"id\": \"9\", \"text\": \"Il est interdit de poursuivre une conversation ou inciter une personne à poursuivre une interaction avec une personne ayant réclamé la cessation de ladite interaction. Cela peut être considéré comme du harcèlement, indépendamment de la confidentialité employée.\\r\\n\", \"hint\": \"\"}, {\"id\": \"10\", \"text\": \"Est interdit toute tentative de retournement d’une oppression systémique. Par exemple : « racisme anti-blanc », « sexisme anti-homme », « hétérophobie », « cisphobie ».\\r\\n\", \"hint\": \"\"}, {\"id\": \"11\", \"text\": \"Il est interdit de publier ou diffuser intentionnellement des propos diffamatoires, calomnieux, ainsi que toute désinformation avec intention de tromper (le gorafi ou the onion sont donc autorisés). Les profils satiriques doivent être indiqués comme tels dans leur nom et description publique.\\r\\n\", \"hint\": \"\"}]",
         "40869.0",
         "4"
        ],
        [
         "5",
         "hachyderm.io",
         "Hachyderm.io",
         "Hachyderm is a safe space, LGBTQIA+ and BLM, primarily comprised of tech industry professionals world wide. Note that many non-user account types have restrictions - please see our About page.",
         "8937",
         "[\"en\"]",
         "[{\"id\": \"1\", \"text\": \"Don't be a dick.\", \"hint\": \"\"}, {\"id\": \"2\", \"text\": \"No hacking.\", \"hint\": \"\"}, {\"id\": \"3\", \"text\": \"No violence.\", \"hint\": \"\"}, {\"id\": \"4\", \"text\": \"No fascism. \", \"hint\": \"\"}, {\"id\": \"5\", \"text\": \"No colonialism.\", \"hint\": \"\"}, {\"id\": \"6\", \"text\": \"No white supremacy.\", \"hint\": \"\"}, {\"id\": \"7\", \"text\": \"No religious extremism. \", \"hint\": \"\"}, {\"id\": \"9\", \"text\": \"No nationalism.\", \"hint\": \"\"}, {\"id\": \"11\", \"text\": \"No racism.\", \"hint\": \"\"}, {\"id\": \"12\", \"text\": \"No homophobia.\", \"hint\": \"\"}, {\"id\": \"13\", \"text\": \"No transphobia.\", \"hint\": \"\"}, {\"id\": \"14\", \"text\": \"Safe Space: LGTBQIA+\", \"hint\": \"\"}, {\"id\": \"15\", \"text\": \"Safe Space: neurodivergent (ADHD, Autism, etc.) \", \"hint\": \"\"}]",
         "56318.0",
         "5"
        ],
        [
         "6",
         "troet.cafe",
         "troet.cafe  - Mastodon",
         "Hallo im troet.cafe!\nDies ist die derzeit größte deutschsprachige Mastodon Instanz zum tröten, neue Leute kennenlernen, sich auszutauschen und Spaß zu haben.",
         "6850",
         "[\"de\"]",
         "[{\"id\": \"3\", \"text\": \"Keine Belästigung, Stalking und/oder Doxxing von anderen.\\r\\n\"}, {\"id\": \"4\", \"text\": \"Rassismus, Sexismus oder Beschimpfungen haben hier nichts verloren.\"}, {\"id\": \"5\", \"text\": \"Diskriminierung von Geschlechtern und sexuellen Minderheiten haben hier auch nichts verloren.\"}, {\"id\": \"7\", \"text\": \"Nationalistische Propaganda, Nazi-Symbolismus oder Förderung der Ideologie des Nationalsozialismus ist verboten.\"}, {\"id\": \"8\", \"text\": \"Aufrufe zu Gewalttaten sind verboten.\\r\\n\"}, {\"id\": \"11\", \"text\": \"Nicht markierter sexueller Inhalt und/oder Gewaltdarstellungen in jeglicher Form sind nicht erlaubt.\"}, {\"id\": \"12\", \"text\": \"Bots, die ohne ihre expliziten Anfragen mit Nutzer interagieren, werden gelöscht.\\r\\n\"}, {\"id\": \"13\", \"text\": \"Übermässige Werbung / Spam / Spamflut von wiederholenden Tröts sind nicht erwünscht.\"}, {\"id\": \"14\", \"text\": \"Falls du einen NSFW-Only Account erstellen möchtest, ziehe eventuell eine andere Instanz in Betracht. Wahrscheinlich sind wir leider nicht geeignet für dich.\"}, {\"id\": \"15\", \"text\": \"Allgemeine Verstöße gegen geltendes Recht in Deutschland.\"}, {\"id\": \"17\", \"text\": \"Gezieltes Misgendering, Deadnaming oder Werbung für sogenannte \\\"Konversionstherapien\\\" sind verboten.\"}, {\"id\": \"18\", \"text\": \"Mir ist bewusst, dass ein Verstoß gegen eine der Serverregeln zur Löschung von einzelnen Beiträgen, oder der Stummschaltung/Löschung des gesamten Accounts führen kann und mit dem Anlegen eines Accounts akzeptiere ich alle Regeln. \"}]",
         "46749.0",
         "6"
        ],
        [
         "7",
         "mastodon.gamedev.place",
         "Gamedev Mastodon",
         "Mastodon server focused on game development and related topics.",
         "5078",
         "[\"en\"]",
         "[{\"id\": \"1\", \"text\": \"Sexually explicit or violent media must be marked as sensitive when posting\", \"hint\": \"\"}, {\"id\": \"2\", \"text\": \"No racism, sexism, homophobia, transphobia, xenophobia, or casteism\", \"hint\": \"\"}, {\"id\": \"3\", \"text\": \"No incitement of violence or promotion of violent ideologies\", \"hint\": \"\"}, {\"id\": \"4\", \"text\": \"No harassment, dogpiling or doxxing of other users\", \"hint\": \"\"}, {\"id\": \"5\", \"text\": \"No content illegal in EU\", \"hint\": \"\"}, {\"id\": \"6\", \"text\": \"Do not share intentionally false or misleading information\", \"hint\": \"\"}]",
         "33441.0",
         "7"
        ],
        [
         "8",
         "techhub.social",
         "TechHub",
         "A hub primarily for passionate technologists, but everyone is welcome",
         "5031",
         "[\"en\"]",
         "[{\"id\": \"6\", \"text\": \"Violent media must be marked as sensitive when posting.\", \"hint\": \"\"}, {\"id\": \"7\", \"text\": \"No racism, sexism, homophobia, transphobia, xenophobia, or casteism.\", \"hint\": \"\"}, {\"id\": \"8\", \"text\": \"No incitement of violence or promotion of violent ideologies.\", \"hint\": \"\"}, {\"id\": \"9\", \"text\": \"No harassment, dogpiling or doxxing of other users.\", \"hint\": \"\"}, {\"id\": \"10\", \"text\": \"No content illegal in Canada.\", \"hint\": \"\"}, {\"id\": \"11\", \"text\": \"Do not share false or misleading information that may lead to physical harm.\", \"hint\": \"\"}, {\"id\": \"13\", \"text\": \"No spam, no direct advertising selling products or services, no aggressive promotion. If you promote your website, blog, etc do it responsibly and use a description and tags.\", \"hint\": \"\"}, {\"id\": \"14\", \"text\": \"Bots must be marked as Bot in their profile and bots created after Dec 31st 2024 must post in silent mode\", \"hint\": \"\"}, {\"id\": \"15\", \"text\": \"Sexually explicit content is not allowed\", \"hint\": \"\"}, {\"id\": \"16\", \"text\": \"Agree to Code of Conduct (see about section)\", \"hint\": \"\"}]",
         "83099.0",
         "8"
        ],
        [
         "9",
         "mastodon.nl",
         "Mastodon.nl door Stichting Activityclub",
         "Mastodon voor de Nederlandse community - door de Nederlandse community - in stand gehouden door Stichting Activityclub",
         "4519",
         "[\"en\"]",
         "[{\"id\": \"2\", \"text\": \"Heb respect voor elkaar\"}, {\"id\": \"3\", \"text\": \"Geen links of referenties naar racistische, hatelijke of offensieve content\"}, {\"id\": \"4\", \"text\": \"Geen accounts en toots die nodeloos ongefundeerd zijn\"}, {\"id\": \"5\", \"text\": \"Geen zaken die in Nederland illegaal zijn\"}, {\"id\": \"7\", \"text\": \"Geen reclame en spam\"}, {\"id\": \"9\", \"text\": \"Bij herhaling provoceren of uitlokken (trolling) is niet toegestaan.\"}]",
         "43744.0",
         "9"
        ],
        [
         "10",
         "social.tchncs.de",
         "Mastodon",
         "A friendly server from Germany – which tends to attract techy people, but welcomes everybody. This is one of the oldest Mastodon instances.",
         "3697",
         "[\"en\"]",
         "[{\"id\": \"1\", \"text\": \"Be nice to each other\", \"hint\": \"\"}, {\"id\": \"2\", \"text\": \"Do not publish advertisements\", \"hint\": \"\"}, {\"id\": \"3\", \"text\": \"Do not publish conspiracy myths\", \"hint\": \"\"}, {\"id\": \"4\", \"text\": \"Do not publish content illegal in Germany and/or France, such as holocaust denial or Nazi symbolism\", \"hint\": \"\"}, {\"id\": \"5\", \"text\": \"Do not publish content promoting the ideology of National Socialism\", \"hint\": \"\"}, {\"id\": \"6\", \"text\": \"Do not publish content that is hateful towards specific individuals or groups, or intended to cause or incite harm\", \"hint\": \"\"}, {\"id\": \"7\", \"text\": \"Do not exclusively crosspost from other platforms\", \"hint\": \"\"}]",
         "22825.0",
         "10"
        ],
        [
         "11",
         "kolektiva.social",
         "kolektiva.social",
         "Kolektiva is an anti-colonial anarchist collective that offers federated social media to anarchist collectives and individuals in the fediverse. For the social movements and liberation!",
         "3405",
         "[\"en\"]",
         "[{\"id\": \"1\", \"text\": \"No racism, misogyny, homo/transphobia, ableism or other oppressive behaviour. \", \"hint\": \"\"}, {\"id\": \"2\", \"text\": \"No right wing bullshit and no authoritarian left wing apologetics. \", \"hint\": \"\"}, {\"id\": \"3\", \"text\": \"No harassment.\", \"hint\": \"\"}, {\"id\": \"4\", \"text\": \"No electoral propaganda/campaigning.\", \"hint\": \"\"}, {\"id\": \"5\", \"text\": \"No misinformation or conspiracy theories.\", \"hint\": \"\"}, {\"id\": \"6\", \"text\": \"No promotion of capitalism, meritocracy or a commercial enterprise.\", \"hint\": \"\"}, {\"id\": \"7\", \"text\": \"No spam.\", \"hint\": \"\"}, {\"id\": \"8\", \"text\": \"No sexualized images without consent.\", \"hint\": \"\"}, {\"id\": \"9\", \"text\": \"No glorification of nation states or militarism.\", \"hint\": \"\"}, {\"id\": \"10\", \"text\": \"Propaganda from the USSR, CCP, or DPRK is not allowed.\", \"hint\": \"\"}]",
         "40004.0",
         "11"
        ],
        [
         "12",
         "norden.social",
         "norden.social",
         "Moin! Dies ist die Mastodon-Instanz für Nordlichter, Schnacker und alles dazwischen. Folge dem Leuchtturm.",
         "3383",
         "[\"en\"]",
         "[{\"id\": \"12\", \"text\": \"Respektvoller Umgang\", \"hint\": \"Sei freundlich und respektvoll. Persönliche Angriffe, Beleidigungen oder herablassendes Verhalten werden nicht toleriert.\"}, {\"id\": \"13\", \"text\": \"Keine Diskriminierung\", \"hint\": \"Diskriminierung oder Hass aufgrund von Herkunft, Geschlecht, sexueller Orientierung, Geschlechtsidentität, Behinderung, Einschränkungen (Ableismus), Religion oder anderen persönlichen Merkmalen sind verboten.\"}, {\"id\": \"14\", \"text\": \"Einhaltung von Gesetzen und Urheberrechten\", \"hint\": \"Veröffentliche keine illegalen Inhalte oder Materialien, die Urheberrechte verletzen. Solche Beiträge werden entfernt, und wiederholte Verstöße können zur Kontosperrung führen.\"}, {\"id\": \"15\", \"text\": \"Schutz der Privatsphäre\", \"hint\": \"Teile keine persönlichen Daten ohne ausdrückliche Zustimmung der betroffenen Personen. Überlege sorgfältig, welche Informationen du öffentlich machst.\"}, {\"id\": \"16\", \"text\": \"Kennzeichnung anstößiger und nicht jugendfreier Inhalte\", \"hint\": \"Markiere Inhalte, die als anstößig oder jugendgefährdend gelten, mit einer Inhaltswarnung und (zum Beispiel per Hashtag) als “NSFW” (Not Safe for Work). Beachte, dass unsere Instanz möglicherweise nicht für Accounts geeignet ist, die ausschließlich jugendgefährende Inhalte teilen.\"}, {\"id\": \"17\", \"text\": \"Automatisierte Beiträge\", \"hint\": \"Automatisierte Inhalte wie Bots oder Crossposts müssen als “Öffentlich (Still)” veröffentlicht werden. Konten, die ohne aktive Teilnahme ausschließlich automatisierte Inhalte posten, können entfernt werden.\"}, {\"id\": \"18\", \"text\": \"Keine Belästigung oder Spam\", \"hint\": \"Belästigung, Mobbing, unerwünschte Kontaktaufnahmen, Spam oder die Verbreitung von Schadsoftware sind untersagt.\"}, {\"id\": \"19\", \"text\": \"Verbot extremistischer Inhalte\", \"hint\": \"Inhalte mit Nazi-Symbolik, extremistischer Propaganda oder Hassrede sind strengstens verboten.\"}, {\"id\": \"20\", \"text\": \"Authentizität bewahren\", \"hint\": \"Erstelle keine Fake-Profile und gib dich nicht als jemand anderes aus.\"}, {\"id\": \"21\", \"text\": \"Keine absichtliche Verbreitung von Falschinformationen\", \"hint\": \"Das bewusste Verbreiten von falschen Informationen, die der Community oder der Gesellschaft schaden könnten, ist verboten.\"}]",
         "13802.0",
         "12"
        ],
        [
         "13",
         "mastodonapp.uk",
         "Mastodon App UK",
         "UK Hosted and Managed Mastodon Instance. General communal space for discussion, everyone welcome! Now with a 1000 character limit for posts!",
         "3227",
         "[\"en\"]",
         "[{\"id\": \"1\", \"text\": \"Sexually explicit or violent media must be marked as sensitive & content warned when posting\"}, {\"id\": \"2\", \"text\": \"Be respectful. Racism, sexism, homophobia, transphobia (including targeted misgendering, deadnaming, or promotion of so-called \\\"conversion therapy\\\"), xenophobia, and other forms of hate and discrimination are not welcome. Your behaviour elsewhere may also be considered if brought to our attention. \"}, {\"id\": \"3\", \"text\": \"No incitement of violence or promotion of discriminatory or violent ideologies\"}, {\"id\": \"4\", \"text\": \"No spam, harrassment, dogpiling or doxxing of other users, this includes mass and spam reporting\"}, {\"id\": \"5\", \"text\": \"No content illegal in The United Kingdom\"}, {\"id\": \"6\", \"text\": \"No intentionally false or misleading information. By extension, do not pose as persons of interest. \"}, {\"id\": \"7\", \"text\": \"Controversial, reactionary, NSFW, and satirical or similar content may be removed if not obviously Content Warned where appropriate.\"}, {\"id\": \"9\", \"text\": \"No promotion of gambling, Crypto, NFTs, anti-vaccination, self-harm, terrorism, illegal activities, Abuse/exploitation, or Violence.\"}, {\"id\": \"10\", \"text\": \"The sites staff team will ultimately have the final say on any and all moderation actions.\"}]",
         "80374.0",
         "13"
        ],
        [
         "14",
         "universeodon.com",
         "Universeodon Social Media",
         "Be one with the #fediverse. Join millions of humans building, creating, and collaborating on Mastodon Social Network. Supports 1000 character posts.",
         "3157",
         "[\"en\"]",
         "[{\"id\": \"16\", \"text\": \"Sexually explicit or violent media must be marked as sensitive & content warned when posting\"}, {\"id\": \"17\", \"text\": \"Be respectful. Racism, sexism, homophobia, transphobia (including targeted misgendering, deadnaming, or promotion of so-called \\\"conversion therapy\\\"), xenophobia, and other forms of hate and discrimination are not welcome. Your behaviour elsewhere may also be considered if brought to our attention. \"}, {\"id\": \"18\", \"text\": \"No incitement of violence or promotion of discriminatory or violent ideologies\"}, {\"id\": \"19\", \"text\": \"No spam, harrassment, dogpiling or doxxing of other users, this includes mass and spam reporting\"}, {\"id\": \"20\", \"text\": \"No content illegal in The United Kingdom\"}, {\"id\": \"21\", \"text\": \"No intentionally false or misleading information. By extension, do not pose as persons of interest. \"}, {\"id\": \"22\", \"text\": \"Controversial, reactionary, NSFW, and satirical or similar content may be removed if not obviously Content Warned where appropriate.\"}, {\"id\": \"23\", \"text\": \"No promotion of gambling, Crypto, NFTs, anti-vaccination, self-harm, terrorism, illegal activities, Abuse/exploitation, or Violence.\"}, {\"id\": \"24\", \"text\": \"The sites staff team will ultimately have the final say on any and all moderation actions.\"}]",
         "81677.0",
         "14"
        ],
        [
         "15",
         "mamot.fr",
         "Mamot - Le Mastodon de La Quadrature du Net ",
         "Mamot.fr est un serveur Mastodon francophone, géré par La Quadrature du Net.",
         "3122",
         "[\"en\"]",
         "[{\"id\": \"1\", \"text\": \"Interdiction de la pédopornographique\", \"hint\": \"Conformément aux lois françaises et à la jurisprudence, les contenus pédopornographiques, y compris sous forme dessinée, sont illégaux et seront supprimés, et les comptes concernés bloqués (si distants) ou supprimés (si local).\"}, {\"id\": \"2\", \"text\": \"Discrétion des médias pornographique violent\", \"hint\": \"Les contenus pornographiques ou visiblement violents doivent être marqués avec le drapeau \\\"sensible / sensitive\\\". Les comptes ne respectant pas cette règle seront rendus invisibles aux flux locaux et fédérés. \"}, {\"id\": \"3\", \"text\": \"Interdiction de la Publicité\", \"hint\": \"La publicité, sous forme répétée et/ou intrusive (faisant mention d'autres utilisateur·ices), n'est pas acceptée. Les comptes concernés seront rendus invisibles aux flux locaux et fédérés, ou supprimés, selon la gravité de la situation. \"}, {\"id\": \"4\", \"text\": \"Politesse des discussions\", \"hint\": \"Approchez les personnes avec précaution et politesse. Si une personne vous demande d'arrêter de la mentionner ou qu'elle exprime ne plus vouloir participer à une discussion, arrêtez immédiatement. \"}, {\"id\": \"5\", \"text\": \"Interdiction des propos haineux\", \"hint\": \"Sont interdits les propos, images ou vidéos racistes, sexistes, homophobes ou transphobes.\"}, {\"id\": \"7\", \"text\": \"Interdiction du harcèlement\", \"hint\": \"Sont interdit toute conduite, en public ou en privé, ayant pour but de traquer, harceler ou intimider d'autres personnes, sexuellement ou non.\"}, {\"id\": \"8\", \"text\": \"Interdiction de la révélations confidentielles\", \"hint\": \"Il est interdit de rassembler, publier, disséminer les informations personnelles d'une autre personne sans son autorisation explicite.\"}, {\"id\": \"9\", \"text\": \"Interdiction de forcer une conversation\", \"hint\": \"Il est interdit de poursuivre une conversation ou inciter une personne à poursuivre une interaction avec une personne ayant réclamé la cessation de ladite interaction peut être considéré comme du harcèlement, indépendamment de la confidentialité employée.\"}, {\"id\": \"10\", \"text\": \"Interdiction de retournement d'une oppression systémique\", \"hint\": \"Est interdit toute tentative de retournement d’une oppression systémique. Par exemple : « racisme anti-blanc », « sexisme anti-homme », « hétérophobie », « cisphobie ».\"}, {\"id\": \"11\", \"text\": \"Interdiction de la diffamation & calomnie\", \"hint\": \"Il est interdit publier ou diffuser intentionnellement des propos diffamatoires, calomnieux. Cela concerne aussi toute désinformation avec intention de tromper (le gorafi ou the onion sont donc autorisés).\"}, {\"id\": \"12\", \"text\": \"Interdiction du partage d'informations à véracité douteuse avec intention de nuire\", \"hint\": \"Il est interdit de partager des informations à véracité douteuse avec intention de nuire. Veilliez à sourcer et à vérifier les informations que vous postez, notamment si elles peuvent nuire à la santé, l'intégrité ou à la sécurité des personnes. Une exigence particulière est apportée aux informations liées à la santé ou l'éducation. \"}, {\"id\": \"13\", \"text\": \"Attribution : Il est encouragé d’attribuer l’auteur·ce ayant crée le média ou contenu que vous postez\", \"hint\": \"Cette mesure est surtout destinée à pouvoir généré un avertissement, sans actions, pour prévenir la génération de contenu par IA qui puisse spammer le serveur et le fédiverse.\"}, {\"id\": \"14\", \"text\": \"Création humaine : Il est découragé d’utiliser des outils de génération procédurale ( IA ), et si c’est le cas, ça doit être mentionné\", \"hint\": \"Cette mesure est surtout destinée à pouvoir généré un avertissement, sans actions, pour prévenir la génération de contenu par IA qui puisse spammer le serveur et le fédiverse.\"}, {\"id\": \"15\", \"text\": \"Interdiction des arnaques. Il est interdit de faire la promotion d’arnaques du type cryptomonnaie, prêts, ventes illégales, soins médicaux, mais sans y être limité.\", \"hint\": \"\\r\\n\\r\\n    Cette mesure permet de supprimer les comptes qui font la promo de scams, de soins douteux, et de manière générale qui sont dans la prédation économique.\\r\\n\"}]",
         "39731.0",
         "15"
        ],
        [
         "16",
         "nrw.social",
         "NRW.social",
         "Wir sind eine freundliche Mastodon Instanz aus Nordrhein-Westfalen. Ob NRW'ler oder NRW-Sympathifanten, jeder ist hier willkommen.",
         "2756",
         "[\"de\"]",
         "[]",
         "18579.0",
         "16"
        ],
        [
         "17",
         "c.im",
         "C.IM",
         "C.IM is a general, mainly English-speaking Mastodon instance.",
         "2688",
         "[\"en\"]",
         "[{\"id\": \"11\", \"text\": \"Respect the laws of the Netherlands and the Isle of Man, including those related to hate speech and defamation.\", \"hint\": \"\"}, {\"id\": \"12\", \"text\": \"Threatening, abusive, intolerant or illegal behavior may lead to moderation and/or further measures. We have a zero tolerance approach to racism, sexism, homophobia and transphobia. Moderation decisions are final. \", \"hint\": \"\"}, {\"id\": \"13\", \"text\": \"The Content Warning flag should be used for NSFW content, and NSFW media should be marked as sensitive.\", \"hint\": \"\"}, {\"id\": \"14\", \"text\": \"Account registrations are monitored and accounts considered spam (including commercial advertising, political campaigning/propaganda, duplicate accounts or impersonating legal entities) will be moderated or removed.\", \"hint\": \"\"}, {\"id\": \"15\", \"text\": \"Do not harass or bully other users.\", \"hint\": \"\"}, {\"id\": \"16\", \"text\": \"Do not share illegal or copyrighted content.\", \"hint\": \"\"}, {\"id\": \"17\", \"text\": \"Do not spam or engage in any form of malicious activity.\", \"hint\": \"\"}, {\"id\": \"18\", \"text\": \"Keep discussions civil and respectful, and refrain from using derogatory language or engaging in personal attacks.\", \"hint\": \"\"}, {\"id\": \"19\", \"text\": \"Do not reveal personal information about other people without their consent.\", \"hint\": \"\"}, {\"id\": \"20\", \"text\": \"Use appropriate tags and content warnings when posting potentially sensitive or triggering content.\", \"hint\": \"\"}, {\"id\": \"21\", \"text\": \"If you see a violation of these rules, report it to the moderation team.\", \"hint\": \"\"}, {\"id\": \"22\", \"text\": \"To use our service, you are at least 18 years old.\", \"hint\": \"\"}]",
         "67782.0",
         "17"
        ],
        [
         "18",
         "mstdn.ca",
         "Mastodon Canada",
         "A community for Canadians, First Nations, Metis, and Inuit Peoples of the great white north.",
         "2670",
         "[\"en\"]",
         "[{\"id\": \"1\", \"text\": \"No toxic and hateful speech.\", \"hint\": \"\"}, {\"id\": \"3\", \"text\": \"No incitement of violence and no promotion of misleading or violent ideologies.\", \"hint\": \"\"}, {\"id\": \"4\", \"text\": \"No harassment, dogpiling, or unwanted advances.\", \"hint\": \"\"}, {\"id\": \"5\", \"text\": \"No doxxing of other users.\", \"hint\": \"\"}, {\"id\": \"6\", \"text\": \"No content illegal in Canada or copyrighted content that you don't own rights to.\", \"hint\": \"\"}, {\"id\": \"7\", \"text\": \"Sexually explicit or violent media must be marked appropriately.\", \"hint\": \"\"}, {\"id\": \"8\", \"text\": \"No spamming.\\r\\nExcessive posting, boosting, advertising or mass-marketing posts will be actioned accordingly and based on intent.\", \"hint\": \"\"}, {\"id\": \"9\", \"text\": \"Be yourself.\\r\\nAccounts intended to impersonate or parody are not permitted, and those found to be directly misrepresenting themselves as another person or entity will be actioned accordingly.\", \"hint\": \"\"}, {\"id\": \"10\", \"text\": \"Agree to the Terms of Service and Code of Conduct.\", \"hint\": \"\"}]",
         "35494.0",
         "18"
        ],
        [
         "19",
         "sfba.social",
         "SFBA.social",
         "A Mastodon instance for the San Francisco Bay Area. Come on in and join us!",
         "2269",
         "[\"en\"]",
         "[{\"id\": \"28\", \"text\": \"Do not use slurs or racist, sexist, homophobic, transphobic, ableist or otherwise discriminatory or hateful jokes or language; or promote white supremacy, anti-Semitism, transphobia, casteist, or other hateful ideologies.\", \"hint\": \"\"}, {\"id\": \"29\", \"text\": \"Do not post content that is illegal in the USA or California.\", \"hint\": \"This includes unlicensed media. We will remove copyrighted content in response to a valid DMCA notice per our policy.\"}, {\"id\": \"30\", \"text\": \"Do not harass anyone, participate in group harassment of anyone, or otherwise engage in name calling or personal attacks.\", \"hint\": \"\"}, {\"id\": \"31\", \"text\": \"Do not post or threaten to post other people’s personally identifying information (“doxxing”).\", \"hint\": \"\"}, {\"id\": \"32\", \"text\": \"Do not tone police.\", \"hint\": \"\"}, {\"id\": \"33\", \"text\": \"Do not “shitpost” hateful content\", \"hint\": \"While humorous posts are allowed, even encouraged, “shitposting” is not an exception to rules 1 or 3. There are no ironic slurs.\"}, {\"id\": \"34\", \"text\": \"Do not sell or promote cryptocurrencies or NFTs.\", \"hint\": \"\"}, {\"id\": \"62\", \"text\": \"Do not litigate moderation decisions on the timeline. \", \"hint\": \"You can direct message @moderators with concerns.\"}, {\"id\": \"63\", \"text\": \"Mark content that contains nudity, gore, violence, etc. as sensitive and clearly label it with a content warning and/or hashtag.\", \"hint\": \"\"}, {\"id\": \"64\", \"text\": \"Do not post spam.\", \"hint\": \"There is additional information about what SFBA.social considers spam on the information hub: https://hub.sfba.social/2024/07/05/sfba-social-spam-policy/\"}, {\"id\": \"65\", \"text\": \"Organizations must be based in the SF Bay Area.\", \"hint\": \"See our Corporate and Organization policy for more details.\\r\\nhttps://hub.sfba.social/governance/corporate-and-organization-accounts-on-sfba-sites/\"}]",
         "39192.0",
         "19"
        ],
        [
         "20",
         "occm.cc",
         "자커마스 v3",
         "자커마스는 자작 캐릭터 커뮤니티, 즉 자캐커뮤를 위한 마스토돈 인스턴스입니다.\n자캐커뮤에 특화된 서버 설정을 제공하며, 한국어 검색을 지원합니다.",
         "2252",
         "[\"ko\"]",
         "[{\"id\": \"1\", \"text\": \"자커마스는 자작 캐릭터 커뮤니티를 위한 마스토돈 인스턴스입니다. 이외 목적의 계정은 사전에 승인받은 경우를 제외하고 7월 11일 오후 10시 이후 금지됩니다.\", \"hint\": \"\"}, {\"id\": \"2\", \"text\": \"19세 이상 이용가 내용을 민감한 콘텐츠 체크나 CW 없이 업로드할 수 없습니다.\", \"hint\": \"\"}, {\"id\": \"3\", \"text\": \"모든 종류의 혐오 발언을 사용할 수 없습니다. 불가피하게 사용시 열람 주의(CW) 기능을 사용해야 하며, 로컬/연합 타임라인에 노출되지 않도록 프라이버시 설정을 공개로 설정해서는 안됩니다.\", \"hint\": \"\"}, {\"id\": \"4\", \"text\": \"기본 공개 범위는 비표시를 권장합니다.\", \"hint\": \"\"}, {\"id\": \"5\", \"text\": \" 공개 타임라인에는 커뮤니티 홍보지 등 누구나 봐야 하는 내용만 업로드 가능합니다. 이외 업로드시 계정 침묵 처리 등 조치가 이루어질 수 있습니다.\", \"hint\": \"\"}, {\"id\": \"6\", \"text\": \"타 인스턴스와 교류는 인스턴스 특징상 권장하지 않습니다. 기본적으로 차단하지는 않으나 특정 인스턴스의 요청이 있다면(공개 타임라인 오염 등) 인스턴스 단위 차단이 이루어질 수 있습니다.\", \"hint\": \"\"}, {\"id\": \"7\", \"text\": \"일회용 이메일로 가입을 지양합니다. 추후 계정을 찾게 될 수 없게 될수 있으며 이메일 확인시 인증이 불필요한 특성상 타인이 계정 정보를 탈취할 수 있습니다.\", \"hint\": \"\"}, {\"id\": \"10\", \"text\": \"총괄 계정은 공지 계정으로 DM(개인적인 멘션)을 보내 주시면 총괄 권한을 부여해 드립니다. 커뮤니티 총괄 계정은 초대 링크를 생성할 수 있습니다.\", \"hint\": \"\"}]",
         "9285.0",
         "20"
        ],
        [
         "21",
         "mastodon-japan.net",
         "Mastodon Japan Server",
         "こちらはMastodon Japan Server、日本居住および日本語話者向けの汎用サーバーです。\nただし日本国外居住者及び非日本語話者を除外するものではありません。ルール（利用規約）をご確認の上で平和に遊ぼう。",
         "2241",
         "[\"ja\"]",
         "[{\"id\": \"2\", \"text\": \"日本国内法は守ってください\", \"hint\": \"\"}, {\"id\": \"3\", \"text\": \"露骨な性表現や暴力的なメディアの禁止\", \"hint\": \"\"}, {\"id\": \"4\", \"text\": \"差別行為・暴力行為を行わないこと\", \"hint\": \"\"}, {\"id\": \"5\", \"text\": \"他のユーザーに対する嫌がらせ行為の禁止\", \"hint\": \"\"}]",
         "17108.0",
         "21"
        ],
        [
         "22",
         "mastodon.scot",
         "mastodon.scot",
         "A server intended for (but not limited to) users in Scotland or who identify as Scottish.",
         "2178",
         "[\"en\"]",
         "[{\"id\": \"10\", \"text\": \"No discrimination, including (but not limited to) racism, sexism, homophobia or transphobia (including targeted misgendering, deadnaming, or promotion of so-called 'conversion therapy').\", \"hint\": \"\"}, {\"id\": \"11\", \"text\": \"No explicit (NSFW) content without content warnings and/or sensitive media markers. Explicit content must not be used in user avatars or header images.\", \"hint\": \"\"}, {\"id\": \"18\", \"text\": \"No harassment of other users on this or other servers.\", \"hint\": \"\"}, {\"id\": \"19\", \"text\": \"No content illegal in the following countries: United Kingdom, Germany\", \"hint\": \"\"}, {\"id\": \"20\", \"text\": \"No incitement of violence or promotion of violent ideologies.\", \"hint\": \"\"}, {\"id\": \"21\", \"text\": \"No disinformation regarding public health issues or political/military campaigns.\", \"hint\": \"\"}, {\"id\": \"22\", \"text\": \"No spam. This includes commercial advertising, promotion of services, and SEO.\", \"hint\": \"\"}, {\"id\": \"23\", \"text\": \"No impersonation of other individuals, public figures or organisations, unless clearly marked as a parody.\", \"hint\": \"\"}, {\"id\": \"24\", \"text\": \"All automated (bot) accounts must enable the bot flag in their account preferences, respect #nobot markers, and post as unlisted unless making less than one post per hour.\", \"hint\": \"\"}]",
         "29106.0",
         "22"
        ],
        [
         "23",
         "sueden.social",
         "sueden.social",
         "Eine Community für alle, die sich dem Süden hingezogen fühlen. Wir können alles außer Hochdeutsch.",
         "1993",
         "[\"de\"]",
         "[{\"id\": \"1\", \"text\": \"Sei kein Arschloch. Du hast eine Meinung? Das ist gut aber bitte beleidige niemanden bei deinen Äußerungen.\", \"hint\": \"\"}, {\"id\": \"2\", \"text\": \"Diskriminiere niemanden. Rassistische, sexistische, frauenfeindliche, homophobe, antisemitische und andere menschenfeindliche Beiträge sind bei uns verboten!\", \"hint\": \"\"}, {\"id\": \"3\", \"text\": \"Halte dich an Gesetze. Ganz einfach. Auch im Internet kann man angezeigt werden.\", \"hint\": \"\"}, {\"id\": \"4\", \"text\": \"Du bist für deine Privatsphäre verantwortlich. Wenn du nicht willst, dass etwas im Internet über dich steht, veröffentliche es nicht.\", \"hint\": \"\"}, {\"id\": \"5\", \"text\": \"Wir legen Wert auf eine gesunde Kommunikation untereinander. Falls du deinen Account nur benutzt um Links zu teilen und ohne Rücksicht Crossposter verwendest, oder für Referral-Link nutzt, werden wir Admins uns bei dir melden.\", \"hint\": \"\"}, {\"id\": \"6\", \"text\": \"Falls du einen NSFW-Only Account erstellen möchtest, ziehe eventuell eine andere Instanz in Betracht. Wahrscheinlich sind wir leider nicht geeignet für dich.\", \"hint\": \"\"}, {\"id\": \"7\", \"text\": \"Wir dulden keine Belästigung, einschließlich Brigading, Dogpiling oder jede andere Form der Kontaktaufnahme mit einem Nutzer, der angegeben hat, dass er nicht kontaktiert werden möchte.\", \"hint\": \"\"}, {\"id\": \"8\", \"text\": \"\\r\\nWir dulden keine gewalttätige nationalistische Propaganda, keine Nazi-Symbolik und keine Förderung der Ideologie des Nationalsozialismus.\\r\\n\", \"hint\": \"\"}, {\"id\": \"9\", \"text\": \"Inhalte, die in Deutschland illegal sind, werden gelöscht und können zur sofortigen Sperrung des Kontos führen.\", \"hint\": \"\"}, {\"id\": \"10\", \"text\": \"Mach dich nicht lustig über andere und sei nicht herablassend. Du möchtest auch mit Respekt behandelt werden. Beachte, dass sich Ironie, Sarkasmus oder ähnliche Ausdrucksformen nicht gut in die Schriftsprache übertragen lassen und dazu neigen, Diskussionen oder Missverständnisse zu eskalieren.\", \"hint\": \"\"}, {\"id\": \"12\", \"text\": \"Automatisierte Beiträge sollten als \\\"Nicht gelistet\\\" gepostet werden (d. h. sie sind sichtbar, aber nicht in der lokalen Zeitleiste). Dies gilt auch für Bots, Feed-Poster, Twitter-\\\"Retweets\\\" und Twitter-Crossposts. Crossposter-Konten, die sich nicht aktiv beteiligen, können von uns entfernt werden.\", \"hint\": \"\"}, {\"id\": \"15\", \"text\": \"Wir dulden keine Verschwörungstheorien, die das oben genannte (und/oder ähnliche) Verhalten unterstützen oder dazu führen.\", \"hint\": \"\"}]",
         "14611.0",
         "23"
        ],
        [
         "24",
         "ohai.social",
         "ohai.social",
         "A cozy, fast and secure Mastodon server where everyone is welcome. Run by the folks at ohai.is.",
         "1751",
         "[\"en\"]",
         "[{\"id\": \"1\", \"text\": \"We do not tolerate discriminatory behavior and content promoting or advocating the oppression of members of marginalized groups.\", \"hint\": \"\"}, {\"id\": \"8\", \"text\": \"We do not tolerate threatening behavior, stalking, doxxing, or harassment (including brigading, dogpiling, or any other form of contact with a user who has stated that they do not wish to be contacted).\", \"hint\": \"\"}, {\"id\": \"11\", \"text\": \"We do not tolerate violent nationalist propaganda, Nazi symbolism or promoting the ideology of National Socialism.\", \"hint\": \"\"}, {\"id\": \"12\", \"text\": \"We do not tolerate conspiracy narratives or other reactionary myths supporting or leading to the above-mentioned (and/or similar) behavior.\", \"hint\": \"\"}, {\"id\": \"15\", \"text\": \"All explicit (NSFW) content must be marked as sensitive and have a content warning. Explicit content must not be used in user avatars or header images.\", \"hint\": \"\"}, {\"id\": \"16\", \"text\": \"Content that is illegal in Germany will be deleted and may lead to immediate account suspension.\", \"hint\": \"\"}]",
         "40004.0",
         "24"
        ],
        [
         "25",
         "mastodon.ie",
         "mastodon.ie",
         "Irish Mastodon - run from Ireland, we welcome all who respect the community rules and members.",
         "1742",
         "[\"en\"]",
         "[{\"id\": \"1\", \"text\": \"Don't Be A Ballox\", \"hint\": \"\"}, {\"id\": \"2\", \"text\": \"No bigotry, racism, xenophobia, sexism, homophobia, transphobia, anti-Traveller speech or any hate speech.\", \"hint\": \"\"}, {\"id\": \"5\", \"text\": \" No unsolicited DMs \", \"hint\": \"\"}, {\"id\": \"8\", \"text\": \"We have Threads blocked, just so you know\", \"hint\": \"\"}, {\"id\": \"9\", \"text\": \"We operate on a \\\"3 strikes and you're out\\\" basis.\", \"hint\": \"\"}]",
         "21213.0",
         "25"
        ],
        [
         "26",
         "defcon.social",
         "DEF CON Social",
         "DEFCON.social = The intersection of technology and society, a community for artists, hackers, policy, academics, researchers, infosec, activists & cyberpunks",
         "1730",
         "[\"en\"]",
         "[{\"id\": \"21\", \"text\": \"No toxic behavior\", \"hint\": \"No racism, sexism, homophobia, transphobia, ableism, xenophobia, casetism, supremacy, and edgelord behavior such as trolling, dogpiling, sealioning, harassment, doxxing, incitement to violence. Do not make users feel uncomfortable, unwelcome, or afraid\"}, {\"id\": \"25\", \"text\": \"Don't break laws here\", \"hint\": \"Don't ask others to break laws here, or admit to breaking laws\"}, {\"id\": \"26\", \"text\": \"Pornography, Nudity, Gore, illegal content, spam & commercial advertising are forbidden\", \"hint\": \"Promoting your own projects in moderation is OK\"}, {\"id\": \"28\", \"text\": \"No impersonation or undeclared automated accounts\", \"hint\": \"Don't claim to be Taylor Swift when you aren't. Mark your account as type \\\"Bot\\\" if you are automatically posting\"}, {\"id\": \"30\", \"text\": \"You must be at least 13 years old\", \"hint\": \"We want to comply with regulations such as the US Child Online Protection Act (COPA), the California Consumer Privacy Act (CCPA), and the UK Age-Appropriate Design Code (AADC)\"}]",
         "15536.0",
         "26"
        ],
        [
         "27",
         "hessen.social",
         "hessen.social",
         "hessen.social ist die Mastodongemeinschaft für alle Hessen:innen und alle, die sich Hessen verbunden fühlen",
         "1558",
         "[\"de\"]",
         "[{\"id\": \"1\", \"text\": \"Sei immer freundlich und höflich. Behandle andere mit Respekt.\", \"hint\": \"\"}, {\"id\": \"2\", \"text\": \"Belästige und beleidige niemanden und unterlasse persönliche Angriffe.Weder allein noch als Gruppe. Das Veröffentlichen oder die Androhung von Veröffentlichung von personen-identifizierenden Informationen (\\\"doxing\\\") wird als Belästigung ausgelegt.\", \"hint\": \"\"}, {\"id\": \"3\", \"text\": \"Kontaktiere keine Nutzer:innen die angegeben haben, dass sie nicht kontaktiert werden möchten.\", \"hint\": \"\"}, {\"id\": \"4\", \"text\": \"Die Nutzung oder Befürwortung von rassistischer, sexistischer, homophober, transphober, behindertenfeindlicher und anderweitig diskriminierender oder hasserfüllter Sprache wird nicht geduldet\", \"hint\": \"\"}, {\"id\": \"5\", \"text\": \"Verharmlosende oder gutheißende Inhalte zu Weißer Vorherrschaft, Antisemitismus, Transphobie oder anderen hasserfüllten Ideologien werden nicht geduldet.\", \"hint\": \"\"}, {\"id\": \"6\", \"text\": \"Nochmal ganz deutlich: Wir dulden keine nationalistische Propaganda, keine Nazi-Symbolik und keine Förderung der Ideologie des Nationalsozialismus!\", \"hint\": \"\"}, {\"id\": \"7\", \"text\": \"Poste keine pornographischen oder sexualisierten Inhalte. Dazu gehören auch Witze und Kommentare.\", \"hint\": \"\"}, {\"id\": \"8\", \"text\": \"Halte dich an die in Deutschland geltenden Gesetze (verbietet u.a. auch gewaltverherrlichende Inhalte).\", \"hint\": \"\"}, {\"id\": \"9\", \"text\": \"Veröffentliche keinen Spam oder kommerzielle Werbung. Kommerzielle Werbung in diesem Zusammenhang bedeutet, wenn die veröffentlichten Inhalte keinen persönlichen Bezug aufweisen und eindeutig dazu gedacht sind, direkt oder indirekt Geld zu erwirtschaften.\", \"hint\": \"\"}, {\"id\": \"10\", \"text\": \"Nutze Inhaltswarnungen für Posts und NSFW-Marker bei Medien im Falle von kontroversen, aufrührerischen oder triggernden Themen\", \"hint\": \"\"}, {\"id\": \"11\", \"text\": \"Keine Killerphrasen, Scheinargumente, schwarze Rhetorik oder Sophismus\", \"hint\": \"\"}, {\"id\": \"12\", \"text\": \"Diskutiere Moderationsentscheidungen nicht zuerst in öffentlichen Toots\", \"hint\": \"\"}, {\"id\": \"13\", \"text\": \"Nachgewiesene Falschinformationen/Fakenews (inkl. Verschwörungstheorien) sind hier unerwünscht\", \"hint\": \"\"}]",
         "10172.0",
         "27"
        ],
        [
         "28",
         "mastodon.eus",
         "Mastodon.eus",
         "Mastodon.eus euskara eta euskal kulturaren komunitatearentzat sortutako Mastodon instantzia bat da.\n\n2018an hauek sortua: Azkue Fund, Dinahosting, iametza, Laborategia.eus, PuntuEUS eta Talaios Koop",
         "1287",
         "[\"eu\"]",
         "[{\"id\": \"1\", \"text\": \"Mastodon.eus euskaraz bizi da. Ahal bezain beste euskara erabili.\", \"hint\": \"\"}, {\"id\": \"2\", \"text\": \"Debekatuak daude: faxismoa, arrazakeria, sexismoa, xenofobia, homofobia, transfobia.\", \"hint\": \"\"}, {\"id\": \"3\", \"text\": \"Ez inor iraindu edo jazarri.\", \"hint\": \"\"}]",
         "5562.0",
         "28"
        ],
        [
         "29",
         "social.linux.pizza",
         "Linux.Pizza",
         "A instance dedicated - but not limited - to people with an interest in the GNU+Linux ecosystem and/or general tech. Sysadmins to enthusiasts, creators to movielovers - Welcome!\n\n",
         "1252",
         "[\"en\"]",
         "[{\"id\": \"1\", \"text\": \"Dont post NSFW without CW\", \"hint\": \"\"}, {\"id\": \"2\", \"text\": \"Dont post ads without permission\\r\\n\", \"hint\": \"\"}, {\"id\": \"3\", \"text\": \"Dont promote violence, racism and/or discrimination towards other people of other ethnical backgrounds or sexual orientation (hate speech)\", \"hint\": \"\"}, {\"id\": \"4\", \"text\": \"We dont want crypto-ads here aswell.\", \"hint\": \"\"}, {\"id\": \"5\", \"text\": \"Dont be rude, keep conversations civil and kind.\", \"hint\": \"\"}, {\"id\": \"6\", \"text\": \"All public posts from this instance are indexed by tootfinder.ch.\", \"hint\": \"\"}, {\"id\": \"7\", \"text\": \"Do not flood the timeline with posts. If you still want to do that - please set the posts as \\\"unlisted\\\".\", \"hint\": \"\"}, {\"id\": \"8\", \"text\": \"No vatniks\", \"hint\": \"\"}]",
         "11992.0",
         "29"
        ],
        [
         "30",
         "muenchen.social",
         "muenchen.social - Die erste Mastodon Instanz für München",
         "Hallo auf muenchen.social \nDies ist eine deutschsprachige Mastodon Instanz für München zum tröten, neue Leute kennenlernen, sich auszutauschen und Spass zu haben.",
         "1211",
         "[\"de\"]",
         "[{\"id\": \"4\", \"text\": \"Keine Belästigung, Stalking und/oder Doxxing von anderen. \"}, {\"id\": \"5\", \"text\": \"Rassismus, Sexismus oder Beschimpfungen haben hier nichts verloren.\"}, {\"id\": \"6\", \"text\": \" Diskriminierung von Geschlechtern und sexuellen Minderheiten haben hier auch nichts verloren.\"}, {\"id\": \"7\", \"text\": \"Nationalistische Propaganda, Nazi-Symbolismus oder Förderung der Ideologie des Nationalsozialismus ist verboten. \\r\\n\"}, {\"id\": \"8\", \"text\": \"Aufrufe zu Gewalttaten sind verboten.\\r\\n\"}, {\"id\": \"10\", \"text\": \" Nicht markierter sexueller Inhalt und/oder Gewaltdarstellungen in jeglicher Form sind nicht erlaubt.\"}, {\"id\": \"11\", \"text\": \" Bots, die ohne ihre expliziten Anfragen mit Nutzer interagieren, werden gelöscht. \"}, {\"id\": \"12\", \"text\": \"Übermässige Werbung / Spam / Spamflut von wiederholenden Tröts sind nicht erwünscht. \"}, {\"id\": \"13\", \"text\": \"Falls du einen NSFW-Only Account erstellen möchtest, ziehe eventuell eine andere Instanz in Betracht. Wahrscheinlich sind wir leider nicht geeignet für dich.\"}, {\"id\": \"14\", \"text\": \"Allgemeine Verstöße gegen geltendes Recht in Deutschland.\"}, {\"id\": \"17\", \"text\": \"Gezieltes Misgendering, Deadnaming oder Werbung für sogenannte \\\"Konversionstherapien\\\" sind verboten.\"}, {\"id\": \"18\", \"text\": \"Mir ist bewusst, dass ein Verstoß gegen eine der Serverregeln zur Löschung von einzelnen Beiträgen, oder der Stummschaltung/Löschung des gesamten Accounts führen kann und mit dem Anlegen eines Accounts akzeptiere ich alle Regeln. \"}]",
         "10999.0",
         "30"
        ],
        [
         "31",
         "social.cologne",
         "Mastodon",
         "social.cologne is eine Mastodon Instanz für jede:n Kölner:in und alle, die sich mit Köln verbunden fühlen. Betrieben von https://cgnfs.de.",
         "1201",
         "[\"en\"]",
         "[{\"id\": \"12\", \"text\": \"Treat others with respect\", \"hint\": \"Avoid any form of insult, bullying, or discrimination, including but not limited to racist, sexist, homophobic, transphobic, anti-Semitic, and misogynistic statements or actions against others.\"}, {\"id\": \"13\", \"text\": \"Use appropriate tone\", \"hint\": \"Use a respectful and friendly tone, even if you disagree with someone.\"}, {\"id\": \"14\", \"text\": \"Respect privacy\", \"hint\": \"Do not share personal information without explicit permission and respect the privacy rights of others.\"}, {\"id\": \"15\", \"text\": \"Comply with applicable law\", \"hint\": \"Do not publish any illegal content.\"}, {\"id\": \"16\", \"text\": \"Avoid misinformation\", \"hint\": \"Do not share false or misleading information.\"}, {\"id\": \"17\", \"text\": \"No spam posts\", \"hint\": \"Refrain from publishing unwanted advertising or similar content that does not fit the community.\"}, {\"id\": \"19\", \"text\": \"Mark sensitive content (CW)\", \"hint\": \"Please mark any content that may contain common triggers, is sexually explicit or violent as sensitive (CW) to ensure the safety of other members. Note: Accounts that exclusively post such content may be limited or banned.\"}, {\"id\": \"20\", \"text\": \"You must be older than 16 years\", \"hint\": \"According to European law, you must be at least 16 years old to use this instance.\"}]",
         "12065.0",
         "31"
        ],
        [
         "32",
         "flipboard.social",
         "Flipboard",
         "Welcome to Flipboard on Mastodon. A place for our community of curators and enthusiasts to inform and inspire each other.  \nIf you'd like to join please request an invitation via the sign-up page. ",
         "1192",
         "[\"en\"]",
         "[{\"id\": \"6\", \"text\": \"This instance is part of Flipboard and adheres to the same Community Guidelines. You can read them here https://about.flipboard.com/community-guidelines/\", \"hint\": \"\"}, {\"id\": \"7\", \"text\": \"Keep this instance safe, respectful, and fun by not violating the rules.\", \"hint\": \"\"}, {\"id\": \"8\", \"text\": \"Consider how your post might impact others - if it might be received as offensive, painful, or otherwise unwanted, please use a content warning (CW.)\", \"hint\": \"\"}, {\"id\": \"34\", \"text\": \"Misgendering, deadnaming, or promotion of so-called \\\"conversion therapy\\\" is prohibited.\", \"hint\": \"\"}]",
         "7482.0",
         "32"
        ],
        [
         "33",
         "livellosegreto.it",
         "Livello Segreto",
         "Livello Segreto è il social etico che ha rispetto di te e del tuo tempo.",
         "1149",
         "[\"en\"]",
         "[{\"id\": \"2\", \"text\": \"No al sessismo\", \"hint\": \"\"}, {\"id\": \"3\", \"text\": \"No al machismo\", \"hint\": \"\"}, {\"id\": \"4\", \"text\": \"No al bullismo\", \"hint\": \"\"}, {\"id\": \"5\", \"text\": \"No alla queerfobia, all'omofobia, alla bifobia, alla lesbofobia, alla transfobia, alla afobia\", \"hint\": \"\"}, {\"id\": \"6\", \"text\": \"No all'abilismo\", \"hint\": \"\"}, {\"id\": \"7\", \"text\": \"No al razzismo\", \"hint\": \"\"}, {\"id\": \"9\", \"text\": \"No ai bot*\", \"hint\": \"* in generale è una regola da tenere presente, ma se il bot ha utilità per la community scrivici che si sistema tutto\"}, {\"id\": \"10\", \"text\": \"Usare i CW per: NSFW, SPOILER, GUERRA, POLITICA\", \"hint\": \"\"}, {\"id\": \"11\", \"text\": \"Evitare bestemmie e turpiloquio eccessivo/gratuito\", \"hint\": \"\"}, {\"id\": \"12\", \"text\": \"No pornografia\", \"hint\": \"\"}, {\"id\": \"15\", \"text\": \"Istanza antifascista\", \"hint\": \"\"}, {\"id\": \"16\", \"text\": \"No alla pubblicità e/o agli annunci commerciali (consentiti i progetti personali/indipendenti)\", \"hint\": \"\"}, {\"id\": \"17\", \"text\": \"No al proselitismo religioso\", \"hint\": \"\"}]",
         "7673.0",
         "33"
        ],
        [
         "34",
         "mastodon.green",
         "Mastodon.green",
         "Plant trees while you use Mastodon. A server originally for people in the EU, but now open for anyone in the world",
         "1141",
         "[\"en\"]",
         "[{\"id\": \"395\", \"text\": \"Try 30-days for free, only 1,50 € (+VAT) per month after. No algorithms or ads to waste your time. We use 20 % of membership fees to plant trees. Change your plan or cancel at any time\", \"hint\": \"\"}, {\"id\": \"397\", \"text\": \"Please abide by the community standards\", \"hint\": \"\"}, {\"id\": \"398\", \"text\": \"You can use any official EU language, Icelandic and Norwegian on this server\", \"hint\": \"\"}, {\"id\": \"399\", \"text\": \"No sexually explicit images or video\", \"hint\": \"\"}, {\"id\": \"400\", \"text\": \"No racism, sexism, homophobia, transphobia, xenophobia, or casteism\", \"hint\": \"\"}, {\"id\": \"401\", \"text\": \"No incitement of violence or promotion of violent ideologies\", \"hint\": \"\"}, {\"id\": \"402\", \"text\": \"No harassment, dogpiling or doxxing of other users\", \"hint\": \"\"}, {\"id\": \"404\", \"text\": \"No false or misleading information\", \"hint\": \"\"}]",
         "12004.0",
         "34"
        ],
        [
         "35",
         "mastodont.cat",
         "mastodont.cat, cultura catalana.",
         "Des del 13 d'abril del 2017, el primer i original servidor social en català per a la comunitat de llengua i cultura catalanes d'arreu d'internet.\n",
         "1132",
         "[\"ca\"]",
         "[{\"id\": \"2\", \"text\": \"No és permès fer publicitat ni spam.\", \"hint\": \"\"}, {\"id\": \"3\", \"text\": \"No s'accepta l'ús de \\\"crossposters\\\" (ponts que connecten xarxes diferents).\", \"hint\": \"\"}, {\"id\": \"6\", \"text\": \"Aquest servidor bloqueja totes les instàncies del programari birdsitelive\", \"hint\": \"\"}, {\"id\": \"8\", \"text\": \"La política de retenció dels fitxers multi mèdia remots és de 30 dies (seràn esborrats automàticament als 30 dies). Els arxius d'usuari seran esborrats als 7 dies. \", \"hint\": \"\"}, {\"id\": \"9\", \"text\": \"Està prohibida qualsevol mostra de racisme, xenofòbia o homofòbia contra cap usuari local o remot. \", \"hint\": \"\"}, {\"id\": \"10\", \"text\": \"L'ús d'altres llengües diferents del català en la majoria dels tuts publicats, pot provocar un avís i fins i tot suspensió del compte si és repetitiu.\", \"hint\": \"\"}, {\"id\": \"11\", \"text\": \"Està prohibida qualsevol mostra de nuesa, excepte quan aquesta tingui una procedència artística reconeguda i estigui degudament referenciada en el contingut del missatge\", \"hint\": \"\"}, {\"id\": \"12\", \"text\": \"Està prohibida qualsevol mostra explícita de contingut sexual o pornogràfic, i especialment aquelles que continguin pederàstia o impliquin a menors d'edat, fet que a més serà denunciat a les autoritats pertinents.\", \"hint\": \"\"}, {\"id\": \"13\", \"text\": \"No és permeten faltes de respecte contra usuaris locals o remots. \", \"hint\": \"\"}, {\"id\": \"14\", \"text\": \"Els serveis addicionals de Blog (Wordpress) i xmpp (Ejabberd), estan dedicats als usuaris actius. Els comptes registrats en aquests serveis addicionals seran esborrats si es detecta una falta d'activitat, a mastodont.cat i en els darrers 30 dies, dels usuaris locals relacionats.\", \"hint\": \"\"}]",
         "8624.0",
         "35"
        ],
        [
         "36",
         "indieweb.social",
         " Indieweb.Social ",
         "INDIEWEB.SOCIAL is an instance focused on the evolution of #Openweb, #Indieweb, #Fediverse, #Mastodon, #Humanetech and #Calm technologies. ",
         "1123",
         "[\"en\"]",
         "[{\"id\": \"1\", \"text\": \"No spam or excessive self-promoting in posts.\", \"hint\": \"\"}, {\"id\": \"2\", \"text\": \"No bots that are not labeled as such in their profile.\", \"hint\": \"\"}, {\"id\": \"3\", \"text\": \"Keep conversations civil and respectful even in disagreement.\", \"hint\": \"\"}, {\"id\": \"4\", \"text\": \"No racism, sexism, homophobia, transphobia, xenophobia, anti-Semitism, or casteism (including targeted misgendering, deadnaming, or promotion of so-called \\\"conversion therapy\\\").\", \"hint\": \"\"}, {\"id\": \"5\", \"text\": \"No sexually explicit or violent posts or media allowed\", \"hint\": \"\"}, {\"id\": \"6\", \"text\": \"No incitement of violence or promotion of violent ideologies\", \"hint\": \"\"}, {\"id\": \"7\", \"text\": \"No illegal content.\", \"hint\": \"\"}]",
         "11825.0",
         "36"
        ],
        [
         "37",
         "nerdculture.de",
         "NerdCulture",
         "Be excellent to each other, live humanism, no nazis, no hate speech. Not only for nerds, but the domain is somewhat cool. ;)\nNo bots in general. Languages: DE, EN, FR, NL, ES, IT",
         "1109",
         "[\"en\"]",
         "[{\"id\": \"1\", \"text\": \"Be friendly and polite to each other\", \"hint\": \"\"}, {\"id\": \"2\", \"text\": \"No hate speech, no discrimination of others, regardless of their age, gender, nationality or whatever\", \"hint\": \"\"}, {\"id\": \"3\", \"text\": \"No spamming of any kind.\", \"hint\": \"\"}, {\"id\": \"4\", \"text\": \"Don't annoy others and don't get easily annoyed by others.\", \"hint\": \"\"}, {\"id\": \"5\", \"text\": \"No advertisements of commercial products.\", \"hint\": \"\"}, {\"id\": \"6\", \"text\": \"No distribution of copyrighted material.\", \"hint\": \"\"}, {\"id\": \"7\", \"text\": \"Do not upload material for which you don't have the rights\", \"hint\": \"\"}, {\"id\": \"8\", \"text\": \"No automated posts by bots, except when you have permission to do so by the server admins\", \"hint\": \"\"}, {\"id\": \"9\", \"text\": \"Don't abuse this service or server.\", \"hint\": \"\"}, {\"id\": \"10\", \"text\": \"Treat other how you want to be treated by them - with respect!\", \"hint\": \"\"}, {\"id\": \"11\", \"text\": \"This is a service running on a private server and as a friendly user you are welcome to use this service, but in the end the server admin can cancel user accounts and will do when the user misbehaves. The admin will decide in the end. \", \"hint\": \"\"}, {\"id\": \"12\", \"text\": \"Valid mail address required! You'll receive reminder mail after 6 months of inactivity to log in again. If you don't react to those mails, your account will be deleted after 7 months of inactivity. \", \"hint\": \"\"}, {\"id\": \"13\", \"text\": \"Allowed languages are German and English as main languages while as the following languages are tolerated: Dutch, French, Spanish, Italian.\", \"hint\": \"\"}, {\"id\": \"14\", \"text\": \"This service is free of cost for you.\\r\\nHowever offering this service does have cost implications. If you can afford some cents per week it would be great when you could contribute in sharing the server costs. Of course this voluntarily for you. \", \"hint\": \"\"}, {\"id\": \"16\", \"text\": \"No free-speech extremists, no far-right extremists, no nationalists. This includes people that elect or support such political parties like AfD in Germany, Fratelli d'Italia in Italy or Rassemblement National in France, etc.. If you support these parties, this instance is not for you. \", \"hint\": \"\"}, {\"id\": \"18\", \"text\": \"Alt Texts for Pictures encouraged. Please conduct descriptive texts for pictures you upload (Alt Texts). This helps visually impaired users and others enormously in their online life. \", \"hint\": \"\"}]",
         "7163.0",
         "37"
        ],
        [
         "38",
         "ieji.de",
         "ieji.de",
         "ieji.de is a generalistic mastodon instance, with the goal of being the fastest mastodon instance in Europe and with a focus on user privacy, like being usable via the tor network.",
         "1105",
         "[\"en\"]",
         "[{\"id\": \"1\", \"text\": \"No explicit content allowed\", \"hint\": \"\"}, {\"id\": \"2\", \"text\": \"Erotic content must have content warning\", \"hint\": \"\"}, {\"id\": \"3\", \"text\": \"No harassment allowed\", \"hint\": \"\"}, {\"id\": \"4\", \"text\": \"No backlink accounts allowed\", \"hint\": \"\"}, {\"id\": \"5\", \"text\": \"Unlawful content is forbidden\", \"hint\": \"\"}]",
         "15114.0",
         "38"
        ],
        [
         "39",
         "social.anoxinon.de",
         "social.anoxinon.de - Mastodon",
         "Die offizielle Mastodon Instanz des Vereins Anoxinon e.V.",
         "1087",
         "[\"de\"]",
         "[{\"id\": \"1\", \"text\": \"Geht respektvoll und nett miteinander um!\", \"hint\": \"\"}, {\"id\": \"2\", \"text\": \"Beiträge mit rassistischen, illegalen, pornografischen oder gewaltverherrlichenden Inhalten sind strengstens untersagt. Zudem gelten allgemein deutsche Gesetze.\", \"hint\": \"\"}, {\"id\": \"3\", \"text\": \"Beleidigungen und Belästigungen sind generell verboten. Darunter fallen auch jegliche Formen der Diffamierung, Hetze, übler Nachrede und dergleichen.\", \"hint\": \"\"}, {\"id\": \"4\", \"text\": \"Konten für kommerzielle Zwecke erfordern eine schriftliche Erlaubnis unsererseits. Bis auf RSS-Bots \\r\\nbenötigen alle anderen die schriftliche Zustimmung von unserer Seite.\", \"hint\": \"\"}, {\"id\": \"5\", \"text\": \"Zuwiderhandlungen gegen diese Regeln werden mit Ermahnung, Verwarnung oder Sperre geahndet.\", \"hint\": \"\"}]",
         "10317.0",
         "39"
        ],
        [
         "40",
         "metalhead.club",
         "Metalhead.club",
         "Metalhead.club is a Mastodon instance hosted in Germany and powered by 100% green energy.",
         "747",
         "[\"en\"]",
         "[{\"id\": \"1\", \"text\": \"No pornography\", \"hint\": \"\"}, {\"id\": \"3\", \"text\": \"No insulting / hate speech\", \"hint\": \"\"}, {\"id\": \"4\", \"text\": \"No racism\", \"hint\": \"\"}, {\"id\": \"5\", \"text\": \"No extremist political content\", \"hint\": \"\"}, {\"id\": \"6\", \"text\": \"This server is for humans, not for bots! If you intend to bulk-send posts, this instance is not for you. (use botsin.space)\", \"hint\": \"\"}, {\"id\": \"7\", \"text\": \"Upload / distribute only content that you have permission for.\", \"hint\": \"\"}, {\"id\": \"8\", \"text\": \"No ads, except for featuring your own creative Metal music content (music, articles, reviews, ...)\", \"hint\": \"\"}, {\"id\": \"10\", \"text\": \"Misusing unrelated hashtags on posts for better visibility is prohibited \", \"hint\": \"\"}]",
         "5776.0",
         "40"
        ],
        [
         "41",
         "tkz.one",
         "TKZ.One",
         "La comunidad Mastodon más grande en Español para gamers, otakus y geeks. Libre de toxicidad. Contenido de anime, manga, videojuegos, tecnología, cómics, literatura, cine... ¡Únete a la familia!",
         "728",
         "[\"es\"]",
         "[{\"id\": \"11\", \"text\": \"Intenta mantener tu perfil y publicaciones mayormente en sintonía con la temática de la instancia: videojuegos, anime, manga, comics, series, cine, gastronomía, literatura, viajes y demás hobbies y temas relacionados.\", \"hint\": \"\"}, {\"id\": \"12\", \"text\": \"Sé amable y evita mal comportamiento, incluyendo racismo y discriminación de cualquier índole; las cuentas disruptivas podrían ser suspendidas. Trata a la gente como te gustaría que te tratasen.\", \"hint\": \"\"}, {\"id\": \"13\", \"text\": \"Habla principalmente en español, con opción de otros idiomas del territorio español; usa lenguaje inclusivo si lo deseas.\", \"hint\": \"\"}, {\"id\": \"14\", \"text\": \"No compartas pornografía infantil ni violencia; evita contenido ilegal bajo leyes españolas.\", \"hint\": \"\"}, {\"id\": \"15\", \"text\": \"Eres responsable de tus comentarios y publicaciones.\", \"hint\": \"\"}, {\"id\": \"16\", \"text\": \"Evita promover activismo, política institucional y proselitismo religioso. Se permiten temas políticos contextualizados y relacionados con la temática de la instancia. La promoción de nazismo, supremacía e ideologías ultra, religión o magufadas están estrictamente prohibidas.\", \"hint\": \"\"}, {\"id\": \"17\", \"text\": \"No compartas información falsa intencionalmente. En caso de hacerlo, retira cualquier bulo compartido si se verifica como tal.\", \"hint\": \"\"}, {\"id\": \"18\", \"text\": \"El contenido de adultos salvo la pornografía explícita, está permitido solo como forma de arte con la etiqueta CW, si es de tu autoría y se relaciona con la temática.\", \"hint\": \"\"}, {\"id\": \"19\", \"text\": \"Prohibido las cuentas centradas en el crossposting. Las cuentas que abusen de esta práctica pueden ser suspendidas.\", \"hint\": \"\"}, {\"id\": \"20\", \"text\": \"Las cuentas que promocionen SPAM, phishing o criptoactivos están prohibidas. \", \"hint\": \"\"}, {\"id\": \"21\", \"text\": \"El uso de IA para generar contenido es permitido si no se dedica a la promoción de dicho contenido. Las cuentas que promuevan activamente contenido generado por IA, tanto en el servidor como en sitios externos, serán prohibidas y pueden ser advertidas o canceladas por el equipo de moderación.\", \"hint\": \"\"}, {\"id\": \"22\", \"text\": \"El equipo de moderación se reserva el derecho de actuar como crea conveniente según las circunstancias y siempre velando por el buen funcionamiento para mantener la concordia en la instancia por algún motivo que no se cite expresamente en las normas anteriores.\", \"hint\": \"\"}]",
         "37079.0",
         "41"
        ],
        [
         "42",
         "masto.nu",
         "masto.nu",
         "General purpose Mastodon server. All languages are welcome but English, Dutch and Spanish are preferred.",
         "725",
         "[\"en\"]",
         "[{\"id\": \"7\", \"text\": \"No harassment, dogpiling or doxxing of other users.\", \"hint\": \"\"}, {\"id\": \"8\", \"text\": \"No impersonation of other people, companies, organizations, brands, etc.\", \"hint\": \"\"}, {\"id\": \"9\", \"text\": \"No racism, sexism, homophobia, transphobia, xenophobia, or casteism.\", \"hint\": \"\"}, {\"id\": \"10\", \"text\": \"No incitement of violence or advocacy of violent acts/ideologies.\", \"hint\": \"\"}, {\"id\": \"11\", \"text\": \"No advertising, spam or excessive promotion.\", \"hint\": \"\"}, {\"id\": \"12\", \"text\": \"No sexually explicit or graphically violent media.\", \"hint\": \"\"}, {\"id\": \"13\", \"text\": \"No intentionally false or misleading information.\", \"hint\": \"\"}, {\"id\": \"14\", \"text\": \"No illegal or unlawful content\", \"hint\": \"\"}, {\"id\": \"15\", \"text\": \"Content created by others must be attributed, and the use of AI must be disclosed. Profiles that only post AI-generated content will not be tolerated.\", \"hint\": \"\"}]",
         "24284.0",
         "42"
        ],
        [
         "43",
         "mastodon.ml",
         "Mastodon.ml",
         "Русскоязычный сервер социальной сети Mastodon. Зона общения, свободная от рекламы и шпионажа, теперь и на русском языке.",
         "715",
         "[\"ru\"]",
         "[{\"id\": \"7\", \"text\": \"Относитесь к другим пользователям с уважением. Харрасмент, разжигание ненависти (hate speech), трансфобия, гомофобия, расизм, сексизм, фашизм и прочие проявления шовинизма — запрещены\", \"hint\": \"\"}, {\"id\": \"8\", \"text\": \"Не разглашать чужую персональную информацию без согласия. Это относится как к пользователям сервера так и к людям вне него.\", \"hint\": \"\"}, {\"id\": \"9\", \"text\": \"Администрация сервера/модерационный состав будет рассматривать и решать спорные случаи исходя из ситуации и с учётом предыдущих жалоб на пользователей.\", \"hint\": \"\"}, {\"id\": \"10\", \"text\": \"Уважаемые щитпостеры, просим вас знать меру и не засорять ленты спамом. Излишнее злоупотребление будет наказываться.\", \"hint\": \"\"}, {\"id\": \"11\", \"text\": \"Проставляйте Content Warning и NSFW-метки на спорный контент (политика, описание/изображения жестоких сцен, сцен насилия, крови, порнографии, эротики, хентая, использование оскорбительной лексики, и.т.п)\", \"hint\": \"\"}, {\"id\": \"13\", \"text\": \"Свобода слова не означает вседозволенность\", \"hint\": \"\"}, {\"id\": \"14\", \"text\": \"Размещение рекламного контента, рекламирование внешних ресурсов или размещение ссылок на внешние ресурсы с целью рекламы будет рассматриваться администрацией. В некоторых случаях могут быть применены меры\", \"hint\": \"\"}, {\"id\": \"15\", \"text\": \"Убедительная просьба: заполняйте описания картинок. Это не обязательно, но очень сильно выручает незрячих пользователей, и не отнимает много времени\", \"hint\": \"\"}, {\"id\": \"17\", \"text\": \"ПОДАЧА ЗАЯВКИ НА РЕГИСТРАЦИЮ: ЗАЯВКИ МЕНЕЕ ПЯТИ СЛОВ ОТКЛОНЯЮТСЯ АВТОМАТИЧЕСКИ! Если не знаете, что написать, пишите о себе, как узнали о нас, чем вам интересен Мастодон, чем увлекаетесь.\", \"hint\": \"\"}]",
         "3506.0",
         "43"
        ],
        [
         "44",
         "mstdn.business",
         "Mastodon For Business",
         "Business-friendly Mastodon server,open for everyone interested to contribute with their real name, business, brand, or startup to build a professional community. Hosted on Hetzner Cloud in Helsinki.",
         "699",
         "[\"en\"]",
         "[{\"id\": \"2\", \"text\": \"No NSFW or illegal content.\"}, {\"id\": \"3\", \"text\": \"No racism, sexism, homophobia, transphobia, or xenophobia.\"}, {\"id\": \"4\", \"text\": \"Do not share intentionally false or misleading information.\"}, {\"id\": \"5\", \"text\": \"No spam or excessive promotion.\"}, {\"id\": \"6\", \"text\": \"Brands are welcome. For personal accounts use your real name.\"}]",
         "27114.0",
         "44"
        ],
        [
         "45",
         "ravenation.club",
         "Mastodon",
         "ravenation.club is an instance for all the ravers in the universe. Anyone who listens to electronic music (or not) is welcome. Operated by https://cgnfs.de",
         "665",
         "[\"en\"]",
         "[{\"id\": \"11\", \"text\": \"Treat others respectfully\", \"hint\": \"Refrain from any form of insult, bullying or discrimination, including but not limited to racist, sexist, homophobic, transphobic, anti-Semitic and misogynistic remarks or actions toward others.\"}, {\"id\": \"12\", \"text\": \"Use an appropriate tone\", \"hint\": \"Use a respectful and friendly tone, even if you disagree with someone.\"}, {\"id\": \"13\", \"text\": \"Respect the privacy of others\", \"hint\": \"Do not share personal information without explicit permission and respect the privacy rights of others.\"}, {\"id\": \"14\", \"text\": \"Compliance with applicable law\", \"hint\": \"Do not post illegal content.\"}, {\"id\": \"15\", \"text\": \"Avoid misinformation\", \"hint\": \"Do not share false or misleading information.\"}, {\"id\": \"16\", \"text\": \"No spam posts\", \"hint\": \"Refrain from posting unsolicited advertisements or similar content that does not fit the community.\"}, {\"id\": \"17\", \"text\": \"Mark sensitive content (CW)\", \"hint\": \"Please mark any content that may contain common triggers, is sexually explicit or violent as sensitive (CW) to ensure the safety of other members. Note: Accounts that exclusively post such content may be limited or banned.\"}, {\"id\": \"18\", \"text\": \"You must be older than 16 years\", \"hint\": \"According to European law, you must be at least 16 years old to use this instance.\"}]",
         "27827.0",
         "45"
        ],
        [
         "46",
         "dresden.network",
         "Dresden.Network",
         "dresden.network ist eine Mastodon Instanz für alle aus Dresden und Umgebung, dennoch offen für alle. Das Team besteht aus @markus@dresden.network und @ueckueck@dresden.network.",
         "660",
         "[\"de\"]",
         "[{\"id\": \"1\", \"text\": \"kein(e) Belästigung, Stalking, Doxxing\", \"hint\": \"\"}, {\"id\": \"2\", \"text\": \"keine Verbreitung von Verschwörungstheorien und/oder deren Befürwortung \", \"hint\": \"\"}, {\"id\": \"3\", \"text\": \"kein Rassismus, Sexismus, Beschimpfungen oder deren Befürwortung \", \"hint\": \"\"}, {\"id\": \"4\", \"text\": \"keine Diskriminierung von Geschlechtern und sexuellen Minderheiten oder deren Befürwortung \", \"hint\": \"\"}, {\"id\": \"5\", \"text\": \"keine gewalttätige nationalistische Propaganda, Nazi-Symbolismus oder Förderung der Ideologie des Nationalsozialismus \", \"hint\": \"\"}, {\"id\": \"6\", \"text\": \"Leute kontaktieren, die klar gemacht haben, dass sie keinen Kontakt wollen. Dogpiling \", \"hint\": \"\"}, {\"id\": \"7\", \"text\": \"keine nicht markierte Werbung \", \"hint\": \"\"}, {\"id\": \"8\", \"text\": \"keine automatisierte und/oder übermäßige Werbung \", \"hint\": \"\"}, {\"id\": \"9\", \"text\": \"kein sexueller Inhalt oder Gewaltdarstellungen \", \"hint\": \"\"}, {\"id\": \"10\", \"text\": \"keine Bots, die ohne ihre expliziten Anfragen mit Nutzer interagieren \", \"hint\": \"\"}]",
         "3862.0",
         "46"
        ],
        [
         "47",
         "sunny.garden",
         "Sunny Garden",
         "sunny.garden is a community for indie creators who draw, paint, sculpt, write, design, program, play, sing or build, and anyone else who thinks that sounds like a nice place to be.",
         "581",
         "[\"en\"]",
         "[{\"id\": \"1\", \"text\": \"Media containing nudity must be marked with a content warning.\", \"hint\": \"Profile image, header, and content must be appropriate for all audiences.\"}, {\"id\": \"2\", \"text\": \"No hate speech, derogatory language, or the use of slurs directed at marginalized groups or people. \", \"hint\": \"No racism, sexism, homophobia, transphobia, ableism, xenophobia. No fascist, neo-nazi or alt-right content.\"}, {\"id\": \"3\", \"text\": \"No incitement or promotion of violence including self-harm and suicide.\", \"hint\": \"\"}, {\"id\": \"4\", \"text\": \"No harassment, dogpiling, or doxxing.\", \"hint\": \"Ad hominem, personal attacks or mudslinging will be considered harassment.  You are free to criticize nations, corporations, billionaires, or high profile political figures; though other rules (eg. no racism, hate-speech, ableism) still apply.\"}, {\"id\": \"5\", \"text\": \"No content illegal in Canada.\", \"hint\": \"\"}, {\"id\": \"6\", \"text\": \"Do not share intentionally false or misleading information.\", \"hint\": \"\"}, {\"id\": \"7\", \"text\": \"No \\\"AI\\\" Art, no NFTs, no crypto, no blockchain.\", \"hint\": \"See About page for further details on \\\"AI\\\" Art policy.\"}, {\"id\": \"8\", \"text\": \"Respect personal boundaries.\", \"hint\": \"Don't pry into people's personal lives. Do not be \\\"a creep\\\".\"}, {\"id\": \"9\", \"text\": \"No explicit sexual, violent or gory content.\", \"hint\": \"\"}, {\"id\": \"10\", \"text\": \"No sexual depictions of minors.\", \"hint\": \"\"}, {\"id\": \"11\", \"text\": \"No proselytizing.\", \"hint\": \"\"}]",
         "2728.0",
         "47"
        ],
        [
         "48",
         "bark.lgbt",
         "Bark!",
         "Furry focused instance for critters that like to bark!\nLGBTQ+ run and friendly, active moderation",
         "546",
         "[\"en\"]",
         "[{\"id\": \"1\", \"text\": \"No discrimination, bigotry, transphobia, homophobia, etc of any kind is accepted\", \"hint\": \"\"}, {\"id\": \"2\", \"text\": \"No discussion of illegal topics or sharing of pirated data.\", \"hint\": \"\"}, {\"id\": \"5\", \"text\": \"Any content that would be considered Illegal in the European economic area is strictly banned\", \"hint\": \"\"}, {\"id\": \"6\", \"text\": \"No uncensored NSFW content. Use a CW\", \"hint\": \"\"}, {\"id\": \"7\", \"text\": \"You are at least 18 years of age during sign-up\", \"hint\": \"\"}, {\"id\": \"8\", \"text\": \"No zoophillia / Loli\", \"hint\": \"\"}, {\"id\": \"11\", \"text\": \"No NSFW profile pictures, headers and usernames\", \"hint\": \"\"}, {\"id\": \"46\", \"text\": \"No posting of AI art\", \"hint\": \"\"}]",
         "6377.0",
         "48"
        ],
        [
         "49",
         "urbanists.social",
         "Urbanists.Social",
         "We're a server for people who like bikes, transit, and walkable cities. Let's get to know each other!",
         "540",
         "[\"en\"]",
         "[{\"id\": \"1\", \"text\": \"Please don't post anything that's illegal in the US or EU.\", \"hint\": \"\"}, {\"id\": \"3\", \"text\": \"No racism, sexism, homophobia, transphobia, xenophobia, or any other form of discrimination.\", \"hint\": \"\"}, {\"id\": \"8\", \"text\": \"Punch Nazis, trebuchet TERFs. Any posts or usage containing nazi symbolism or ideology, or which contains \\\"gender critical\\\" / \\\"just asking questions\\\" shit will get you banned immediately and without recourse.\", \"hint\": \"\"}, {\"id\": \"9\", \"text\": \"No promotion of crypto or NFTs. \", \"hint\": \"\"}, {\"id\": \"10\", \"text\": \"NSFW content must be behind a content warning / marked as sensitive. Your profile (avatar, header, display name, etc.) must be SFW.\", \"hint\": \"\"}, {\"id\": \"11\", \"text\": \"Don't abuse the instance or use it to abuse other federated instances. Don't try to break things.\", \"hint\": \"\"}, {\"id\": \"12\", \"text\": \"Be considerate. Keep in mind that any public post you make will appear in our public timeline and the public timelines of other instances federated with Urbanists.Social. Use content warnings where appropriate. Use NSWF tags where appropriate. Don't be a jerk about it.\", \"hint\": \"\"}, {\"id\": \"13\", \"text\": \"Bots are allowed, but don't make them annoying. Admins will ask you to move your bot to another instance if it becomes a problem.\", \"hint\": \"\"}, {\"id\": \"14\", \"text\": \"Do not harass other users.\", \"hint\": \"\"}]",
         "6398.0",
         "49"
        ]
       ],
       "shape": {
        "columns": 8,
        "rows": 140
       }
      },
      "text/html": [
       "<div>\n",
       "<style scoped>\n",
       "    .dataframe tbody tr th:only-of-type {\n",
       "        vertical-align: middle;\n",
       "    }\n",
       "\n",
       "    .dataframe tbody tr th {\n",
       "        vertical-align: top;\n",
       "    }\n",
       "\n",
       "    .dataframe thead th {\n",
       "        text-align: right;\n",
       "    }\n",
       "</style>\n",
       "<table border=\"1\" class=\"dataframe\">\n",
       "  <thead>\n",
       "    <tr style=\"text-align: right;\">\n",
       "      <th></th>\n",
       "      <th>domain</th>\n",
       "      <th>title</th>\n",
       "      <th>description</th>\n",
       "      <th>active_month</th>\n",
       "      <th>languages</th>\n",
       "      <th>rules</th>\n",
       "      <th>total_users</th>\n",
       "      <th>server_id</th>\n",
       "    </tr>\n",
       "  </thead>\n",
       "  <tbody>\n",
       "    <tr>\n",
       "      <th>0</th>\n",
       "      <td>mastodon.social</td>\n",
       "      <td>Mastodon</td>\n",
       "      <td>The original server operated by the Mastodon g...</td>\n",
       "      <td>327503</td>\n",
       "      <td>[\"en\"]</td>\n",
       "      <td>[{\"id\": \"1\", \"text\": \"Sexually explicit or vio...</td>\n",
       "      <td>2711879.0</td>\n",
       "      <td>0</td>\n",
       "    </tr>\n",
       "    <tr>\n",
       "      <th>1</th>\n",
       "      <td>mstdn.social</td>\n",
       "      <td>Mastodon 🐘</td>\n",
       "      <td>A general-purpose Mastodon server with a 500 c...</td>\n",
       "      <td>14546</td>\n",
       "      <td>[\"en\"]</td>\n",
       "      <td>[{\"id\": \"2\", \"text\": \"Sexually explicit or vio...</td>\n",
       "      <td>260323.0</td>\n",
       "      <td>1</td>\n",
       "    </tr>\n",
       "    <tr>\n",
       "      <th>2</th>\n",
       "      <td>infosec.exchange</td>\n",
       "      <td>Infosec Exchange</td>\n",
       "      <td>A Mastodon instance for info/cyber security-mi...</td>\n",
       "      <td>13319</td>\n",
       "      <td>[\"en\"]</td>\n",
       "      <td>[{\"id\": \"1\", \"text\": \"Do unto others as you th...</td>\n",
       "      <td>75725.0</td>\n",
       "      <td>2</td>\n",
       "    </tr>\n",
       "    <tr>\n",
       "      <th>3</th>\n",
       "      <td>mas.to</td>\n",
       "      <td>mas.to</td>\n",
       "      <td>Hello! mas.to is a fast, up-to-date and fun Ma...</td>\n",
       "      <td>11889</td>\n",
       "      <td>[\"en\"]</td>\n",
       "      <td>[{\"id\": \"9\", \"text\": \"No discrimination, inclu...</td>\n",
       "      <td>183608.0</td>\n",
       "      <td>3</td>\n",
       "    </tr>\n",
       "    <tr>\n",
       "      <th>4</th>\n",
       "      <td>piaille.fr</td>\n",
       "      <td>Piaille</td>\n",
       "      <td>Piaille.fr est un serveur mastodon public fran...</td>\n",
       "      <td>9221</td>\n",
       "      <td>[\"fr\"]</td>\n",
       "      <td>[{\"id\": \"1\", \"text\": \"Conformément aux lois fr...</td>\n",
       "      <td>40869.0</td>\n",
       "      <td>4</td>\n",
       "    </tr>\n",
       "    <tr>\n",
       "      <th>...</th>\n",
       "      <td>...</td>\n",
       "      <td>...</td>\n",
       "      <td>...</td>\n",
       "      <td>...</td>\n",
       "      <td>...</td>\n",
       "      <td>...</td>\n",
       "      <td>...</td>\n",
       "      <td>...</td>\n",
       "    </tr>\n",
       "    <tr>\n",
       "      <th>135</th>\n",
       "      <td>ceilidh.online</td>\n",
       "      <td>Ceilidh Online</td>\n",
       "      <td>Ceilidh.Online is meant to be a safe gathering...</td>\n",
       "      <td>11</td>\n",
       "      <td>[\"en\"]</td>\n",
       "      <td>[{\"id\": \"2\", \"text\": \"Do not engage in hate sp...</td>\n",
       "      <td>42.0</td>\n",
       "      <td>135</td>\n",
       "    </tr>\n",
       "    <tr>\n",
       "      <th>136</th>\n",
       "      <td>mastodon.bahia.no</td>\n",
       "      <td>Bahia.no - A Bahia no Mastodon!</td>\n",
       "      <td>Bahia.no - aqui, todo mundo é baiano! Se você ...</td>\n",
       "      <td>10</td>\n",
       "      <td>[\"pt-BR\"]</td>\n",
       "      <td>[{\"id\": \"1\", \"text\": \"Idiomas permitidos: Baia...</td>\n",
       "      <td>15.0</td>\n",
       "      <td>136</td>\n",
       "    </tr>\n",
       "    <tr>\n",
       "      <th>137</th>\n",
       "      <td>dariox.club</td>\n",
       "      <td>DARiOX</td>\n",
       "      <td>A safe space for tech-centered LGBTQI+ folks a...</td>\n",
       "      <td>9</td>\n",
       "      <td>[\"en\"]</td>\n",
       "      <td>[{\"id\": \"2\", \"text\": \"No illegal content\", \"hi...</td>\n",
       "      <td>150.0</td>\n",
       "      <td>137</td>\n",
       "    </tr>\n",
       "    <tr>\n",
       "      <th>138</th>\n",
       "      <td>mastodon.mg</td>\n",
       "      <td>Mastodon Madagascar</td>\n",
       "      <td>La première instance malgache de Mastodon.</td>\n",
       "      <td>6</td>\n",
       "      <td>[\"fr\"]</td>\n",
       "      <td>[{\"id\": \"1\", \"text\": \"Cette instance étant héb...</td>\n",
       "      <td>113.0</td>\n",
       "      <td>138</td>\n",
       "    </tr>\n",
       "    <tr>\n",
       "      <th>139</th>\n",
       "      <td>wxw.moe</td>\n",
       "      <td>呜呜 w(&gt; ʌ &lt;)w</td>\n",
       "      <td>一个萌萌哒 泛ACGN 实例，欢迎安家 ~</td>\n",
       "      <td>3381</td>\n",
       "      <td>[\"en\"]</td>\n",
       "      <td>[{\"id\": \"67\", \"text\": \"拒绝真人不雅内容 / No inappropr...</td>\n",
       "      <td>23662.0</td>\n",
       "      <td>139</td>\n",
       "    </tr>\n",
       "  </tbody>\n",
       "</table>\n",
       "<p>140 rows × 8 columns</p>\n",
       "</div>"
      ],
      "text/plain": [
       "                domain                            title  \\\n",
       "0      mastodon.social                         Mastodon   \n",
       "1         mstdn.social                       Mastodon 🐘   \n",
       "2     infosec.exchange                 Infosec Exchange   \n",
       "3               mas.to                           mas.to   \n",
       "4           piaille.fr                          Piaille   \n",
       "..                 ...                              ...   \n",
       "135     ceilidh.online                   Ceilidh Online   \n",
       "136  mastodon.bahia.no  Bahia.no - A Bahia no Mastodon!   \n",
       "137        dariox.club                           DARiOX   \n",
       "138        mastodon.mg              Mastodon Madagascar   \n",
       "139            wxw.moe                     呜呜 w(> ʌ <)w   \n",
       "\n",
       "                                           description  active_month  \\\n",
       "0    The original server operated by the Mastodon g...        327503   \n",
       "1    A general-purpose Mastodon server with a 500 c...         14546   \n",
       "2    A Mastodon instance for info/cyber security-mi...         13319   \n",
       "3    Hello! mas.to is a fast, up-to-date and fun Ma...         11889   \n",
       "4    Piaille.fr est un serveur mastodon public fran...          9221   \n",
       "..                                                 ...           ...   \n",
       "135  Ceilidh.Online is meant to be a safe gathering...            11   \n",
       "136  Bahia.no - aqui, todo mundo é baiano! Se você ...            10   \n",
       "137  A safe space for tech-centered LGBTQI+ folks a...             9   \n",
       "138         La première instance malgache de Mastodon.             6   \n",
       "139                              一个萌萌哒 泛ACGN 实例，欢迎安家 ~          3381   \n",
       "\n",
       "     languages                                              rules  \\\n",
       "0       [\"en\"]  [{\"id\": \"1\", \"text\": \"Sexually explicit or vio...   \n",
       "1       [\"en\"]  [{\"id\": \"2\", \"text\": \"Sexually explicit or vio...   \n",
       "2       [\"en\"]  [{\"id\": \"1\", \"text\": \"Do unto others as you th...   \n",
       "3       [\"en\"]  [{\"id\": \"9\", \"text\": \"No discrimination, inclu...   \n",
       "4       [\"fr\"]  [{\"id\": \"1\", \"text\": \"Conformément aux lois fr...   \n",
       "..         ...                                                ...   \n",
       "135     [\"en\"]  [{\"id\": \"2\", \"text\": \"Do not engage in hate sp...   \n",
       "136  [\"pt-BR\"]  [{\"id\": \"1\", \"text\": \"Idiomas permitidos: Baia...   \n",
       "137     [\"en\"]  [{\"id\": \"2\", \"text\": \"No illegal content\", \"hi...   \n",
       "138     [\"fr\"]  [{\"id\": \"1\", \"text\": \"Cette instance étant héb...   \n",
       "139     [\"en\"]  [{\"id\": \"67\", \"text\": \"拒绝真人不雅内容 / No inappropr...   \n",
       "\n",
       "     total_users  server_id  \n",
       "0      2711879.0          0  \n",
       "1       260323.0          1  \n",
       "2        75725.0          2  \n",
       "3       183608.0          3  \n",
       "4        40869.0          4  \n",
       "..           ...        ...  \n",
       "135         42.0        135  \n",
       "136         15.0        136  \n",
       "137        150.0        137  \n",
       "138        113.0        138  \n",
       "139      23662.0        139  \n",
       "\n",
       "[140 rows x 8 columns]"
      ]
     },
     "execution_count": 85,
     "metadata": {},
     "output_type": "execute_result"
    }
   ],
   "source": [
    "mastodon.df"
   ]
  },
  {
   "cell_type": "code",
   "execution_count": 86,
   "id": "22f18565",
   "metadata": {},
   "outputs": [
    {
     "data": {
      "application/vnd.microsoft.datawrangler.viewer.v0+json": {
       "columns": [
        {
         "name": "index",
         "rawType": "int64",
         "type": "integer"
        },
        {
         "name": "name",
         "rawType": "object",
         "type": "string"
        },
        {
         "name": "title",
         "rawType": "object",
         "type": "string"
        },
        {
         "name": "description",
         "rawType": "object",
         "type": "unknown"
        },
        {
         "name": "language",
         "rawType": "object",
         "type": "string"
        },
        {
         "name": "subscribers",
         "rawType": "int64",
         "type": "integer"
        },
        {
         "name": "active_user_count",
         "rawType": "int64",
         "type": "integer"
        },
        {
         "name": "rules",
         "rawType": "object",
         "type": "unknown"
        },
        {
         "name": "server_id",
         "rawType": "int64",
         "type": "integer"
        }
       ],
       "ref": "564a1e55-2046-4b45-ab41-a8deb057667a",
       "rows": [
        [
         "0",
         "Home",
         "Home",
         null,
         "en",
         "307843",
         "51",
         null,
         "0"
        ],
        [
         "1",
         "AskReddit",
         "Ask Reddit...",
         "r/AskReddit is the place to ask and answer thought-provoking questions.",
         "es",
         "54701432",
         "9986",
         "Rule 1 - Questions must be clear and direct and may not use the body textbox; Rule 2 - No personal or professional advice requests; Rule 3 - Open ended questions only; Rule 4 - No personal info; Rule 5 - No loaded questions; Rule 6 - [Serious] tagged posts are off-limits to jokes or irrelevant replies; Rule 7 - No begging for goods or services, or Reddit rewards; Rule 8 - Be respectful to other users at all times and conduct your behaviour in a civil manner; Rule 9 -  No image only replies or large ascii art; Rule 10 - Harmful Misinformation; Rule 11 - No spam, machine generated content or karma farming",
         "1"
        ],
        [
         "2",
         "NoStupidQuestions",
         "No such thing as stupid questions",
         "Ask away!\n\nDisclaimer: This is an anonymous forum so answers may not be correct",
         "en",
         "6021303",
         "4872",
         "Top level comments must contain a genuine human-written attempt at an answer; Please try searching the subreddit for your question first; Be Nice; No medical advice questions; No trolling or joke questions; No suicide or 'was I raped/sexual assaulted/sexually harrassed?' questions; No self-promotion, shilling or begging; No illegal/unethical or disturbing subject matter; No disguised rants, agenda posts or potstirring",
         "2"
        ],
        [
         "3",
         "BaldursGate3",
         "Baldur's Gate 3",
         "A community all about Baldur's Gate III, the role-playing video game by Larian Studios. BG3 is the third main game in the Baldur's Gate series. Baldur's Gate III is based on a modified version of the Dungeons & Dragons 5th edition (D&D 5e) tabletop RPG ruleset.\n\nGather your party and venture forth!",
         "en",
         "3118378",
         "1384",
         "Be civil to one another.; Respect the opinions of others.; Keep your posts relevant.; Tag spoilers and NSFW content.; Memes, screenshots, and fanart must be flaired.; No Spamming; No Tav, Build/Multiclass, or LFG Posts outside of their megathreads; No piracy allowed. No posting pirated material of any kind but especially 5e material; Use modmail for issues or giveaways - don't mention/link or directly message the Mods; No discussion exclusively about 3rd Party wikis; No AI generated content or discussion; All posts should be in English. Non-English comments are allowed.; No asking for game codes/the game/steam accounts; No posting about bigoted mods; Cosplay posts must now be submitted on Sundays. ",
         "3"
        ],
        [
         "4",
         "facepalm",
         "now double verified",
         "/r/facepalm - please sir can I have some more?",
         "en",
         "8145733",
         "2345",
         "No uncivil, bigoted, misogynist, misandrist, racist comments or posts.; No Misinformation; No Memes; No language error posts; No jokes/satire/trolls posts; Remove identifying personal information; No 'likes\"/\"shares\" posts; No \"Reddit Meta\" Posts; No posts about politicians being politicians; No posts attacking a political party or side",
         "4"
        ],
        [
         "5",
         "interestingasfuck",
         "Interesting As Fuck",
         "For anything truly interesting as fuck",
         "en",
         "13961838",
         "4038",
         "Posts MUST be INTERESTING AS FUCK!; No Politics; Titles must be descriptive and directly related to the content; No porn or gore; No doxing/witch hunts or meta related posts; Provide a source when the title is in doubt; No FCoO/flooding; No self-promotion; Be civil; Repost limitations; No gossip or tabloid-type material; Additional/temporary rules",
         "5"
        ],
        [
         "6",
         "Damnthatsinteresting",
         "Damn, that's interesting!",
         "For the most interesting things on the internet",
         "en",
         "19795678",
         "3299",
         "Only \"Damnthatsinteresting\" content; Use descriptive titles; No racism, bigotry, or hate speech; No screenshots/memes/infographics; Moderator discretion; No reposts; No politics; Posts making claims must be sourced in comments at time of posting",
         "6"
        ],
        [
         "7",
         "LivestreamFail",
         "r/LivestreamFail",
         "The place for all things livestreaming.",
         "en",
         "4007153",
         "3960",
         "Harassment: Civility; Harassment: Death & Violence; Harassment: Discrimination; Harassment: Unsourced Allegations; Harassment: Speculation; Harassment: Out of Context Content; Quality: Duplicate Submissions; Quality: Title Guidelines; Quality: Old News; Spam: Engagement Manipulation; Spam:  LSF Meta Posts; Spam: LSF Meta Comments; Spam: Off-topic; Restricted Content; Banned Streamers",
         "7"
        ],
        [
         "8",
         "pics",
         "Reddit Pics",
         "A place for photographs, pictures, and other images.",
         "en",
         "32398953",
         "3539",
         "No screenshots, AI images, or pictures in which the focus is a screen.; No digital elements or text.; No pornography or gore.; No doxxing or witch-hunts.; Titles must obey all relevant rules.; Only approved image-hosts.; No GIFs or videos.; Remain civil.; No progress-pictures.; No FCoO or flooding.; Reposts are subject to limitations.; No self-promotional accounts.",
         "8"
        ],
        [
         "9",
         "Palworld",
         "Palworld",
         "[Unaffiliated with Pocketpair] \nPalworld is a brand-new multiplayer, open-world survival crafting game where you can befriend and collect mysterious creatures called \"Pals\" in a vast new world! Make your Pals fight, build, farm, work in factories, and more!",
         "en",
         "722697",
         "88",
         "Respect and Courtesy; Relevancy; No Low Effort Content or Spamming; No NSFW or Generally Inappropriate Content; Self Promotion Guidelines; No Sales, Advertisements, or Content Involving Monetary Exchange or Tender.; Art Submission Guidelines; English Only; Piracy, Hacks, and Cheating",
         "9"
        ],
        [
         "10",
         "AmItheAsshole",
         "Am I the Asshole? ",
         "A catharsis for the frustrated moral philosopher in all of us, and a place to finally find out if you were wrong in an argument that's been bothering you. Tell us about any non-violent conflict you have experienced; give us both sides of the story, and find out if you're right, or you're the asshole. \n\nSee our ~~*Best Of*~~ \"Most Controversial\" at /r/AITAFiltered!",
         "en",
         "24179747",
         "3163",
         "Be Civil; Voting Rules; Accept Your Judgment; Never Delete An Active Discussion; No Violeпce; How To Post; Post Interpersonal Conflicts; No Shitposts, No AI; Do Not Ask For Advice; Updates and META posts are restricted; No Partings/Relationship/Sex/Reproductive Autonomy Posts; This Is Not A Debate Sub; No Revenge Stories; No Medical Conflicts; Review the FAQ Before Participating",
         "10"
        ],
        [
         "11",
         "mildlyinfuriating",
         "jukmifgguggh",
         "jugkfmghgug",
         "en",
         "10478887",
         "3795",
         "Be civil. Respect Reddiquette and follow Reddit sitewide rules.; No memes, overdone references, price complaints, text-heavy pictures, or other low-quality posts.  ; No Reddit meta posts.; No reposts under 6 months or crossposts unless it's OC.; No GIFs cut short or overly edited GIFs. ; No politics, pushing agendas, or grandstanding. ; Hide or blur personal info such as full names, numbers, and addresses. ; No promotions.",
         "11"
        ],
        [
         "12",
         "Piracy",
         "Piracy: ꜱᴀɪʟ ᴛʜᴇ ʜɪɢʜ ꜱᴇᴀꜱ",
         "⚓ Dedicated to the discussion of digital piracy, including ethical problems and legal advancements.",
         "en",
         "2179942",
         "1824",
         "Posts must be related to the discussion of digital piracy; Don't request invites, trade, sell, or self-promote; Don't request or link to specific pirated titles, including DMs; Show effort and respect",
         "12"
        ],
        [
         "13",
         "PeterExplainsTheJoke",
         "PeterExplainsTheJoke",
         "Hey gamers, this is the subreddit where you post a meme/joke you don't understand so it can be explained to you. You can also post memes about u/PeterExplainsTheJoke or just post weird pictures of Peter.",
         "en",
         "1819939",
         "665",
         "Poor Behavior; Recently posted jokes; Dogwhistles/Conspiracy Theories; Metaposts; 'Wooooshing' users; Low effort posts; Banned Jokes; Political Shilling / Debating",
         "13"
        ],
        [
         "14",
         "funny",
         "funny",
         "Reddit's largest humor depository",
         "en",
         "66845994",
         "2551",
         "All posts must make an attempt at humor.; No memes, HIFW, MRW, MeIRL, DAE, or similar posts.; No reposts.; No personal info, no hate speech, no harassment.; No politics or political figures.; No forbidden titles, low-effort titles, or posts about Reddit cakedays.; No gore, pornography, or animal cruelty.; No unoriginal comics.; No pictures of just text.; No social-media, messaging, or AI-generated content.",
         "14"
        ],
        [
         "15",
         "AITAH",
         "AITAH",
         "This is a community like r/AmITheAsshole, except unlike that subreddit you can post interpersonal conflicts. Anything that's AITA including relationships, hypotheticals, even posting about Scar from the Lion King and trying to convince redditors that he was not the AH.\n\nrules: don't berate others and no pornography we have children here",
         "en",
         "4693425",
         "3275",
         "No completely fake posts. ; No AI or Bot post and comments; No karma farming; No third party posts.; Be civil to each other. ; No excessive use of demeaning language or names.; No advertising",
         "15"
        ],
        [
         "16",
         "movies",
         "Movie News and Discussion",
         "The goal of /r/Movies is to provide an inclusive place for discussions and news about films with major releases. Submissions should be for the purpose of informing or initiating a discussion, not just to entertain readers. Read our extensive list of rules for more information on other types of posts like fan-art and self-promotion, or message the moderators if you have any questions.",
         "en",
         "35497336",
         "4034",
         "Do Familiarize Yourself With Our Rules.; No Intentional Antagonism or Negative Attention Whoring; No Spam & Self-promotion - Same Source Posts; No Image Posts & Memes; No Ambiguous/Misleading/Inaccurate Information or Clickbait in the Submission Title; No Extraneous Comic Book Movie Submissions; No Repost or Discussion Threads of New Releases; No Spoilers; No Encouraging Piracy; No Subreddit Brigading; AI Generated Garbage; No Low Effort Posts; Scuttlebutt and Canards; No Complaints of a Movie OP has Not Completed.; Political Ranting Unrelated to the Movie at Hand",
         "16"
        ],
        [
         "17",
         "Helldivers",
         "Helldivers",
         "A subreddit dedicated to HELLDIVERS and HELLDIVERS II, intense co-op shooters set in a satirical dystopian future where you play as one of mankind's elite soldiers determined to spread managed democracy. Developed by Arrowhead Game Studios.",
         "en",
         "1975825",
         "876",
         "Be Civil; No reposts; No spamming; No begging; No naming and shaming; Credit the original creator; No low efforts posts/comments; No LFG request posts (use the megathread); Posts/comments must be related to Helldivers; No leaks/cheats/exploits discussions; Limited Self-promotion is allowed; No real-world political discussions; No low-quality rants/vents; Use the Q&A Megathread for simple questions; Submissions must be in English",
         "17"
        ],
        [
         "18",
         "gaming",
         "r/gaming",
         "The Number One Gaming forum on the Internet.",
         "en",
         "46599439",
         "7308",
         "Not directly gaming related or generic meme template; Posting guidelines, bandwagons, brigades, direct reply posts.; Piracy; Unmarked spoiler / Unmarked NSFW.; No Giveaways / Trades / Contests / Items for sale / Donation requests / Crypto anything; Not original source / Website screenshot; Spam / Excessive self-promotion; Discussion prompts must be posted as self/text posts; Bigotry / Incivility / Toxicity; AMA related rule.",
         "18"
        ],
        [
         "19",
         "worldnews",
         "World News",
         "A place for major news from around the world, excluding US-internal news.",
         "en",
         "45645893",
         "9572",
         "No US Internal News or Politics; No Editorialized or Misleading Titles; No Feature stories; No Editorials, Opinion or Analysis Pieces; No Articles In Languages Other Than English; No Images, Videos or Audio Clips; No Old News Articles (≥ 1 Week old); Your content might be removed if /r/worldnews is not the appropriate subreddit for the story.; No Bigotry or Other Offensive Content; No Personal Attacks On Other Users; No Memes, Gifs, unlabeled NSFW images; No chatGPT bots or copy/paste bots",
         "19"
        ],
        [
         "20",
         "leagueoflegends",
         "League of Legends",
         "This is a subreddit devoted to the game League of Legends.",
         "en",
         "8135989",
         "2369",
         "Please Read the full Rules on the sub. These are just several important ones; No Personal Attacks; All Claims Require Evidence; No Excessively Sexual or Violent Content/No NSFW; Don't Discuss or Advertise Cheats or Exploits; Posts Must Be Directly Related To League of Legends; Specific restricted content (see rules for list); Don't Address Individuals or Distinct Entities; Feature Suggestions; Personal Stories; Spoilers have to be tagged; Esports Content Restrictions; No Vague or Misleading Titles; Short duration content belongs in a text post; Reposts",
         "20"
        ],
        [
         "21",
         "pcmasterrace",
         "PC Master Race - PCMR: A place where all enthusiasts of PC, PC gaming and PC technology are welcome!",
         "Welcome to the official subreddit of the PC Master Race / PCMR!\n\nAll PC-related content is welcome, including build help, tech support, and any doubt one might have about PC ownership.\n\nYou don't necessarily need a PC to be a member of the PCMR. You just have to love PCs. It's not about the hardware in your rig, but the software in your heart!\n\nJoin us in celebrating and promoting tech, knowledge, and the best gaming, study, and work platform there exists. The Personal Computer.",
         "en",
         "15127454",
         "1806",
         "Harassment/calls to action against others; Follow PCMR Etiquette; Do not link to outside threads; Anonymize all images/screenshots; No referral or affiliate links; Low quality, unrelated, unoriginal or low-effort posts will be deleted at mod discretion.; Do not discriminate against others; No begging, trading, selling, or asking for valuation.; Do not abuse the NSFW or Spoiler tags; Peasantry posts must be self posts; Giveaway rules; Read our full rules here",
         "21"
        ],
        [
         "22",
         "Unexpected",
         "Unexpected",
         "This subreddit is for unexpected twists in videos and gifs.",
         "en",
         "11547639",
         "901",
         "Expected/No twist; Keep Content Civil; Unmarked NSFW/NSFL; No Reposts; Bad Title; No low/poor quality videos; No death or abuse; No minors; No glorifying violence/tragedy; Politics; No Pictures of Text - visit /r/unextexted; No stealing content; No linking to Reddit; Follow Reddit's TOS",
         "22"
        ],
        [
         "23",
         "news",
         "News",
         "The place for news articles about current events in the United States and the rest of the world. Discuss it all here.",
         "en",
         "30164625",
         "6295",
         "Submissions must be articles about a specific news event; Old News; No opinion/analysis or advocacy pieces; Articles must not be primarily concerning politics; No editorialized titles; Title must match article title; No paywalls/blogspam that steals content; No posts covering an already submitted story; Do not be racist, sexist, vitriolic, or overly crude; Do not be unnecessarily rude or provocative; No cheap or distracting jokes or memes; No witchhunting. Follow the Reddit Content Policy.; Do not advocate or celebrate death; No bots/Novelty accounts",
         "23"
        ],
        [
         "24",
         "politics",
         "Politics",
         "/r/Politics is for news and discussion about U.S. politics.",
         "en",
         "8822252",
         "8842",
         "General: No hateful speech; General: No novelty accounts or bots; General: No spam or solicitation; Comments: No incivility or personal attacks towards users; Comments: No flaming, baiting, or trolling; Comments: No witch hunts or personal information; Comments: Follow AMA specific rules; Posts: Submissions must be explicitly about US politics; Posts: Submissions must be published within the last 7 days; Posts: Submissions must be from the Approved Domain List; Posts: Titles must be the exact headline from the article with minor exceptions; Posts: Do not flood the new queue; Posts: No copy-pasted submissions or non-English articles; Posts: Disallowed submission types; Posts: Disclose employment or affiliation with a source",
         "24"
        ],
        [
         "25",
         "wallstreetbets",
         "wallstreetbets",
         "Like 4chan found a Bloomberg Terminal.",
         "en",
         "18670873",
         "5996",
         "Avoid Purely Political Discussion; Screenshots of Social Media Posts are Prohibited; Market Cap Must Be Above $500MM USD; Keep Threads Interesting, Otherwise Use the Daily!; YOLOs Must Be Above $10K or $25K (Options, Shares); Gains and Losses Must Be Above $2.5K or $5K (Options, Shares); Gains and Losses Must Be Realized; Only Crypto Allowed is BTC and ETH; Avoid Pump & Dumps, Short Squeezes, and Market Manipulation; No Bullshitting - Only Comment If You Know What You're Talking About; Please Don't Derail Discussion by Brigading, Spreading Hate, or Downvoting Everyone; Don't Shit on the Community; No Advertisement, Self-Promotion, Fundraising, or Begging; Content Guidelines; Glorifying Losses is Unacceptable",
         "25"
        ],
        [
         "26",
         "todayilearned",
         "Today I Learned (TIL)",
         "You learn something new every day; what did you learn today?\nSubmit interesting and specific facts about something that you just found out here.",
         "en",
         "40508942",
         "6548",
         "Inaccurate/unverifiable/not supported by source; No personal opinions/anecdotes/subjective posts; No recent sources; No politics/agenda pushing; No misleading claims; Too general/can't stand on its own/how to; No submissions about software/websites; All NSFW links must be tagged.",
         "26"
        ],
        [
         "27",
         "nottheonion",
         "Sadly, this is not the Onion.",
         "For true stories that you could have sworn were from The Onion.",
         "en",
         "25679956",
         "2142",
         "Do not alter headlines.; Submissions must be oniony.; Only submit news articles.; Use original, reliable sources.; Do not repost similar articles.; No satire articles; No tabloid sources; No old news.; Only submit articles in English.; Do not post mobile links.; No blocked or redirected links; No personal attacks, racism, sexism, or bigotry; Don’t break Reddit rules.",
         "27"
        ],
        [
         "28",
         "memes",
         "/r/Memes the original since 2008",
         "Memes!\n\nA way of describing cultural information being shared.\nAn element of a culture or system of behavior that may be considered to be passed from one individual to another by nongenetic means, especially imitation.",
         "en",
         "35469931",
         "967",
         "Rule 1 - ALL POSTS MUST BE MEMES and FOLLOW A GENERAL MEME FORMAT; Rule 2 - NO MEMES ABOUT POLARIZING/POLITICAL TOPICS, VULNERABLE GROUPS, VIOLENCE, ETC. [SEE LIST]; Rule 3 - NO SPAM/CHAINPOSTING and NO OVERUSED/PROHIBITED MEME TEMPLATES [SEE LIST]; Rule 4 - NO INTERACTION-BAITING POSTS/TITLES and NO IDENTIFYING INFO/WATERMARKS; Rule 5 - NO VIDEOS LONGER THAN 15 SECONDS and DIRECT REDDIT UPLOADS ONLY (NO LINKS); Rule 6 - ONLY POST MEMES YOU ACTUALLY MADE YOURSELF/NO REPOSTS and NO BAD CROPPING/LOW-RES MEMES",
         "28"
        ],
        [
         "29",
         "PublicFreakout",
         "/r/PublicFreakout",
         "A subreddit dedicated to people freaking out, melting down, losing their cool, or being weird in public.",
         "en",
         "4708767",
         "2282",
         "Rule 1; No doxxing; Rule 2; Use tact videos involving mental disorders; Rule 3; Abusive comments will be removed; Rule 4; No racism, sexism, transphobia or bigotry; Rule 5; Video posts only; Rule 6; Text Posts require moderator approval.; Rule 7; Posting Guidelines.; Rule 8; No videos involving death/murder.; Rule 9; Facebook Videos are allowed, not encouraged; Rule 10; Submissions must fit community",
         "29"
        ],
        [
         "30",
         "Wellthatsucks",
         "Well... That sucks...",
         "Posts that make you go: \"Well.. that sucks..\"",
         "en",
         "4071395",
         "927",
         "Please follow reddiquette.; Please be civil.; No injuries; No compilations ; No low effort; No Reposts.",
         "30"
        ],
        [
         "31",
         "explainlikeimfive",
         "Explain Like I'm Five | Don't Panic!",
         "Explain Like I'm Five is the best forum and archive on the internet for layperson-friendly explanations.\n\n\nDon't Panic!",
         "en",
         "23228465",
         "2442",
         "Be Civil; All submissions must seek objective explanations; Top-level comments must be written explanations; Explain for laypeople (but not actual 5-year-olds); ELI5 is for factual information, not opinions; Loaded questions are not allowed; Search before posting; don't repeat old posts; Don't guess; Don't try to trick the bot; Posts must begin with \"ELI5:\"; Link to the Detailed Rules",
         "31"
        ],
        [
         "32",
         "OutOfTheLoop",
         "What's everyone on about?",
         "A subreddit to help you keep up to date with what's going on with reddit and other stuff.",
         "en",
         "3584343",
         "654",
         "Post title must be a current, unbiased, and coherent question; Text body must include context; Recently asked - already on the frontpage (search); Top-level comment must answer or ask a follow-up; Uncivil; Not a loop - better suited for another subreddit; No AI Answers",
         "32"
        ],
        [
         "33",
         "OnePiece",
         "One Piece",
         "Welcome to r/OnePiece, the community for Eiichiro Oda's manga and anime series One Piece. From the East Blue to the New World, anything related to the world of One Piece belongs here! If you've just set sail with the Straw Hat Pirates, be wary of spoilers on this subreddit!",
         "en",
         "5164542",
         "426",
         "Be mindful of Spoilers.; No separate posts of chapter thread for 24h; Fanart/cosplay must directly link to the source; Plain panels/scenes must create discourse; Posts must be directly related to One Piece; Self promotion; No Low Effort Meme; No hentai; No posts about One Piece games other than news; No Questions answered in the FAQ/sidebar; Don't be Rude; Flair your posts",
         "33"
        ],
        [
         "34",
         "BlackPeopleTwitter",
         "Black Twitter",
         "Screenshots of Black people being hilarious or insightful on social media, it doesn't need to just be twitter but obviously that is best.",
         "en",
         "6116748",
         "1406",
         "Social media posts from black people only; Bad Faith Participation; Respectability; No Racism/Hate speech; Posts must be showcasing somebody being hilarious or insightful on social media.; Reddit Cliches; No reposts; Bad post title; Don't complain about the use of AAVE or slang.; Please respect these voices of the users of this community; No posts from corporate or meme accounts; Moderator Fiat; ☑️ Country Club",
         "34"
        ],
        [
         "35",
         "buildapc",
         "/r/buildapc - Planning on building a computer but need some advice? This is the place to ask!",
         "Planning on building a computer but need some advice? This is the place to ask!\n\n\n /r/buildapc is a community-driven subreddit dedicated to custom PC assembly. Anyone is welcome to seek the input of our helpful community as they piece together their desktop.",
         "en",
         "8034842",
         "1242",
         "Be respectful to others; No build-spoonfeeding requests; No piracy or grey-market software keys; No laptop or prebuilt PC questions; No submissions about hardware news, rumors, or reviews; No submissions about sales, deals or unauthorized giveaways; No submissions about retailer or customer service experiences; No titles that are all-caps, clickbait, PSAs, pro-tips or contain emoji.; No submissions that are low-effort, memes, jokes, meta, or hypothetical / dream builds.; No self-promotion, advertising or surveys; No selling, trading or requests for valuation; No excessive posting (more than one submission in 24 hours); No intentionally harmful, misleading or joke advice; No bots or automated accounts; Ban Appeal",
         "35"
        ],
        [
         "36",
         "HonkaiStarRail",
         "HonkaiStarRail",
         "Honkai: Star Rail is a strategy-RPG title in the Honkai series that takes players on a cosmic adventure across the stars. Hop aboard the Astral Express and experience the galaxy's infinite wonders on this journey filled with adventure and thrill.",
         "en",
         "1134209",
         "546",
         "Be respectful to others; No leaked / datamined / modded content; Megathreads; Mundane or Repetitive Posts; Original Content Rules; Non-Original Content Rules; Non-OC Art Submission Frequency; NSFW Rules; Be careful with spoilers; Commercial and Self-Promotion Rules; Shipping Rules",
         "36"
        ],
        [
         "37",
         "SipsTea",
         "SipsTea",
         "Delivering the internet's best content daily. On Wednesdays we post frogs!",
         "en",
         "1635741",
         "1841",
         "No NSFW; No Harassment ; No Toxicity; No Politics; No Sub GC's/Subreddits; No Spam; No Hate; No Impersonation (Catfishing); No Defamation ; No Brigading ; No Self Harm Discussion ; No Baiting; English Only; No Reposts; Reddit Site-Wide Rules",
         "37"
        ],
        [
         "38",
         "Minecraft",
         "Minecraft on reddit",
         "Minecraft community on Reddit",
         "en",
         "8485731",
         "779",
         "Be civil; Don’t advertise servers or communities; No memes; Don’t post images of text; Do not promote illegal or unethical practices; Stay on topic; Avoid chain posting; Explain your suggestions with a text post; Use a search engine, the wiki or community support before asking questions here; Speak English only.; Keep self-promotion to a minimum; Follow our standards for quality.; Don't post banned topics",
         "38"
        ],
        [
         "39",
         "mildlyinteresting",
         "For photos that are, you know, mildly interesting",
         "Aww, cripes. I didn't know I'd have to write a description. How many words is that so far, like a hundred? Soooo, yeah. Mildly interesting stuff. Stuff that interests you. Mildly. It's in the name, ffs.",
         "en",
         "24584963",
         "1880",
         "No Memes; No Related Posts; No X-Posts or Reposts; Original [OC] Photographs Only; No Screenshots; Titles Must Be Exact But Concise Descriptions",
         "39"
        ],
        [
         "40",
         "nfl",
         "NFL: National Football League Discussion",
         "The place to discuss all NFL related things",
         "en",
         "12371281",
         "3025",
         "Off Topic Content; Low effort/Joke Posts/Repost; Editorialized Title; All news should be sourced; Highlights: During Games; Personal Life/Off Field, Serious illness, deaths, and arrests for current or former players; Official threads are official and not unofficial; Original Content v. promotion and spam; Personal attack or any kind of slur; Off-Season Posting Policy",
         "40"
        ],
        [
         "41",
         "BeAmazed",
         "I bet you will /r/BeAmazed!",
         "A place to find and share things which are amazing in a positive way.",
         "en",
         "8928033",
         "430",
         "Post Appropriate Content; No Porn, Gore or Very Disturbing Content; No War or Politics related posts; No Misleading Content; Don’t be rude to others",
         "41"
        ],
        [
         "42",
         "DIY",
         "DIY",
         "DIY",
         "en",
         "26629669",
         "656",
         "All content must be DIY; Basic Community Rules; NSFW / Reddiquette / Civility; 𝗡𝗼 𝗦𝗮𝗹𝗲𝘀 | 𝗣𝗿𝗼𝗺𝗼𝘁𝗶𝗼𝗻𝘀 | 𝗔𝗱𝘃𝗲𝗿𝘁𝗶𝘀𝗶𝗻𝗴; Google First, Reddit Last | Product Search; Low effort posts; Content / Topics not suited for r/DIY; Rating & Reviewing Products or Brands; Sometimes you let the professionals handle it; No AI Content",
         "42"
        ],
        [
         "43",
         "nba",
         "NBA",
         "A community for NBA discussion.",
         "en",
         "16087593",
         "4426",
         "Be civil and respectful; No trolling or baiting users; No racist, sexist, or homophobic language; No reposts; No fake news; No self-promotion; No NSFW content; Posts and comments must be relevant to the NBA; Stats/Player Tweets/Quotes/Misc. Media are self-post only and must be sourced; No Reaction Posts; r/nba no longer permits links/references to Twitter/X (or alts), Facebook, Instagram, and Threads; Use the Daily Discussion Thread",
         "43"
        ],
        [
         "44",
         "MapPorn",
         "Map Porn, for interesting maps",
         "High quality images of maps.",
         "en",
         "5801395",
         "743",
         "Posts must be maps; No Low Effort Memes; Must meet aesthetic standards; No Advertising; No Repost Bots",
         "44"
        ],
        [
         "45",
         "Steam",
         "Steam on Reddit",
         "A subreddit for members of the Steam Community and fans of steam.\n\nDiscord: discord.gg/steam",
         "en",
         "4857400",
         "677",
         "Basic Requirements and Quality Standards; Common or Unrelated Content; Support; Bugs or Exploits; Advertising, User-Generated Content, or Surveys; Gambling, Scams, Cheating, or Trading; Begging, Charity, or Giveaways; Game Advice or Asking For Friends; Accusations or Witch Hunts; Steam Subscriber Agreement or Reddiquette",
         "45"
        ],
        [
         "46",
         "Overwatch",
         "Overwatch",
         "Subreddit for all things Overwatch™, Overwatch 2™ and the Overwatch™ Universe, the team-based shooter from Blizzard Entertainment.",
         "en",
         "6057927",
         "752",
         "Must be relevant to Overwatch.; Titles must be clear and accurate.  No spoilers in titles.; No low-quality, low-effort, or repetitive content.; No NSFW/NSFL content.; Be civil. No personal attacks or hateful speech.; Terms of Service Violations; No Witchhunting or Cheating Accusations.; Site Violations; Use Correct Flair.",
         "46"
        ],
        [
         "47",
         "Genshin_Impact",
         "Genshin Impact Official",
         "This is the official community for Genshin Impact (原神), the latest open-world action RPG from HoYoverse. The game features a massive, gorgeous map, an elaborate elemental combat system, engaging storyline & characters, co-op game mode, soothing soundtrack, and much more for you to explore!",
         "en",
         "3618874",
         "816",
         "Be respectful and civil; Relevance to Genshin Impact; Megathread; No account trading or commercial promotion; NSFW rules; Non-OC art rules; OC rules; Mark spoilers; Post quality; Self-promotion rules; Overall subreddit quality; Cosplay Rules and guidelines",
         "47"
        ],
        [
         "48",
         "classicwow",
         "WoW: Classic",
         "A community for World of Warcraft: Classic fans.",
         "en",
         "678347",
         "546",
         "Content must be related to WoW: Classic; Be civil and respectful; No witch hunts or brigading; Do not share or encourage the use of exploits, cheats, existing private servers, RWT, etc; No real world politics or religion; Flag NSFW content; Restricted content and extended rule-set; Flair your posts accurately; Follow Content Creator Guidelines",
         "48"
        ],
        [
         "49",
         "soccer",
         "The back page of the internet.",
         "The football subreddit. \n\nNews, results, and discussion about the beautiful game.",
         "en",
         "8590217",
         "7417",
         "Follow reddiquette; No racism, homophobia, xenophobia, sexism or other offensive behaviour; Be on topic; No shit-posting; No Duplicates; No NSFW content; You must link sources for news, quotes and stats; Only valuable image and stat submissions; Please use factual and objective titles; No low-effort questions as top-level submissions; Hard paywalled content should be summarised, but not copied.; No Baiting/Trolling; Follow the Submission Guidelines and use the correct Flair creating a new post.",
         "49"
        ]
       ],
       "shape": {
        "columns": 8,
        "rows": 100
       }
      },
      "text/html": [
       "<div>\n",
       "<style scoped>\n",
       "    .dataframe tbody tr th:only-of-type {\n",
       "        vertical-align: middle;\n",
       "    }\n",
       "\n",
       "    .dataframe tbody tr th {\n",
       "        vertical-align: top;\n",
       "    }\n",
       "\n",
       "    .dataframe thead th {\n",
       "        text-align: right;\n",
       "    }\n",
       "</style>\n",
       "<table border=\"1\" class=\"dataframe\">\n",
       "  <thead>\n",
       "    <tr style=\"text-align: right;\">\n",
       "      <th></th>\n",
       "      <th>name</th>\n",
       "      <th>title</th>\n",
       "      <th>description</th>\n",
       "      <th>language</th>\n",
       "      <th>subscribers</th>\n",
       "      <th>active_user_count</th>\n",
       "      <th>rules</th>\n",
       "      <th>server_id</th>\n",
       "    </tr>\n",
       "  </thead>\n",
       "  <tbody>\n",
       "    <tr>\n",
       "      <th>0</th>\n",
       "      <td>Home</td>\n",
       "      <td>Home</td>\n",
       "      <td>NaN</td>\n",
       "      <td>en</td>\n",
       "      <td>307843</td>\n",
       "      <td>51</td>\n",
       "      <td>NaN</td>\n",
       "      <td>0</td>\n",
       "    </tr>\n",
       "    <tr>\n",
       "      <th>1</th>\n",
       "      <td>AskReddit</td>\n",
       "      <td>Ask Reddit...</td>\n",
       "      <td>r/AskReddit is the place to ask and answer tho...</td>\n",
       "      <td>es</td>\n",
       "      <td>54701432</td>\n",
       "      <td>9986</td>\n",
       "      <td>Rule 1 - Questions must be clear and direct an...</td>\n",
       "      <td>1</td>\n",
       "    </tr>\n",
       "    <tr>\n",
       "      <th>2</th>\n",
       "      <td>NoStupidQuestions</td>\n",
       "      <td>No such thing as stupid questions</td>\n",
       "      <td>Ask away!\\n\\nDisclaimer: This is an anonymous ...</td>\n",
       "      <td>en</td>\n",
       "      <td>6021303</td>\n",
       "      <td>4872</td>\n",
       "      <td>Top level comments must contain a genuine huma...</td>\n",
       "      <td>2</td>\n",
       "    </tr>\n",
       "    <tr>\n",
       "      <th>3</th>\n",
       "      <td>BaldursGate3</td>\n",
       "      <td>Baldur's Gate 3</td>\n",
       "      <td>A community all about Baldur's Gate III, the r...</td>\n",
       "      <td>en</td>\n",
       "      <td>3118378</td>\n",
       "      <td>1384</td>\n",
       "      <td>Be civil to one another.; Respect the opinions...</td>\n",
       "      <td>3</td>\n",
       "    </tr>\n",
       "    <tr>\n",
       "      <th>4</th>\n",
       "      <td>facepalm</td>\n",
       "      <td>now double verified</td>\n",
       "      <td>/r/facepalm - please sir can I have some more?</td>\n",
       "      <td>en</td>\n",
       "      <td>8145733</td>\n",
       "      <td>2345</td>\n",
       "      <td>No uncivil, bigoted, misogynist, misandrist, r...</td>\n",
       "      <td>4</td>\n",
       "    </tr>\n",
       "    <tr>\n",
       "      <th>...</th>\n",
       "      <td>...</td>\n",
       "      <td>...</td>\n",
       "      <td>...</td>\n",
       "      <td>...</td>\n",
       "      <td>...</td>\n",
       "      <td>...</td>\n",
       "      <td>...</td>\n",
       "      <td>...</td>\n",
       "    </tr>\n",
       "    <tr>\n",
       "      <th>95</th>\n",
       "      <td>SteamDeck</td>\n",
       "      <td>Steam Deck</td>\n",
       "      <td>The Unofficial Subreddit for the Valve Steam D...</td>\n",
       "      <td>en</td>\n",
       "      <td>903284</td>\n",
       "      <td>446</td>\n",
       "      <td>Be Kind Or Get Banned; Posts must be about or ...</td>\n",
       "      <td>95</td>\n",
       "    </tr>\n",
       "    <tr>\n",
       "      <th>96</th>\n",
       "      <td>college</td>\n",
       "      <td>College</td>\n",
       "      <td>The subreddit for discussion related to colleg...</td>\n",
       "      <td>en</td>\n",
       "      <td>2911405</td>\n",
       "      <td>76</td>\n",
       "      <td>Do not post spam or surveys.; Do not post anyt...</td>\n",
       "      <td>96</td>\n",
       "    </tr>\n",
       "    <tr>\n",
       "      <th>97</th>\n",
       "      <td>manga</td>\n",
       "      <td>/r/manga: manga, on reddit.</td>\n",
       "      <td>Everything and anything manga!  (manhwa/manhua...</td>\n",
       "      <td>en</td>\n",
       "      <td>4725267</td>\n",
       "      <td>1480</td>\n",
       "      <td>Disrespectful; Follow submission guidelines wh...</td>\n",
       "      <td>97</td>\n",
       "    </tr>\n",
       "    <tr>\n",
       "      <th>98</th>\n",
       "      <td>CrazyFuckingVideos</td>\n",
       "      <td>CrazyFuckingVideos</td>\n",
       "      <td>Crazy fucking videos for your viewing pleasure</td>\n",
       "      <td>en</td>\n",
       "      <td>2240152</td>\n",
       "      <td>799</td>\n",
       "      <td>Follow Reddit's TOS; Be civil; Must be a Crazy...</td>\n",
       "      <td>98</td>\n",
       "    </tr>\n",
       "    <tr>\n",
       "      <th>99</th>\n",
       "      <td>rareinsults</td>\n",
       "      <td>r/RareInsults</td>\n",
       "      <td>Did you stumble across a unique insult? Lookin...</td>\n",
       "      <td>en</td>\n",
       "      <td>2924628</td>\n",
       "      <td>201</td>\n",
       "      <td>Don't be a dick; No hateful insults; Repost; N...</td>\n",
       "      <td>99</td>\n",
       "    </tr>\n",
       "  </tbody>\n",
       "</table>\n",
       "<p>100 rows × 8 columns</p>\n",
       "</div>"
      ],
      "text/plain": [
       "                  name                              title  \\\n",
       "0                 Home                               Home   \n",
       "1            AskReddit                      Ask Reddit...   \n",
       "2    NoStupidQuestions  No such thing as stupid questions   \n",
       "3         BaldursGate3                    Baldur's Gate 3   \n",
       "4             facepalm                now double verified   \n",
       "..                 ...                                ...   \n",
       "95           SteamDeck                         Steam Deck   \n",
       "96             college                            College   \n",
       "97               manga        /r/manga: manga, on reddit.   \n",
       "98  CrazyFuckingVideos                 CrazyFuckingVideos   \n",
       "99         rareinsults                      r/RareInsults   \n",
       "\n",
       "                                          description language  subscribers  \\\n",
       "0                                                 NaN       en       307843   \n",
       "1   r/AskReddit is the place to ask and answer tho...       es     54701432   \n",
       "2   Ask away!\\n\\nDisclaimer: This is an anonymous ...       en      6021303   \n",
       "3   A community all about Baldur's Gate III, the r...       en      3118378   \n",
       "4      /r/facepalm - please sir can I have some more?       en      8145733   \n",
       "..                                                ...      ...          ...   \n",
       "95  The Unofficial Subreddit for the Valve Steam D...       en       903284   \n",
       "96  The subreddit for discussion related to colleg...       en      2911405   \n",
       "97  Everything and anything manga!  (manhwa/manhua...       en      4725267   \n",
       "98     Crazy fucking videos for your viewing pleasure       en      2240152   \n",
       "99  Did you stumble across a unique insult? Lookin...       en      2924628   \n",
       "\n",
       "    active_user_count                                              rules  \\\n",
       "0                  51                                                NaN   \n",
       "1                9986  Rule 1 - Questions must be clear and direct an...   \n",
       "2                4872  Top level comments must contain a genuine huma...   \n",
       "3                1384  Be civil to one another.; Respect the opinions...   \n",
       "4                2345  No uncivil, bigoted, misogynist, misandrist, r...   \n",
       "..                ...                                                ...   \n",
       "95                446  Be Kind Or Get Banned; Posts must be about or ...   \n",
       "96                 76  Do not post spam or surveys.; Do not post anyt...   \n",
       "97               1480  Disrespectful; Follow submission guidelines wh...   \n",
       "98                799  Follow Reddit's TOS; Be civil; Must be a Crazy...   \n",
       "99                201  Don't be a dick; No hateful insults; Repost; N...   \n",
       "\n",
       "    server_id  \n",
       "0           0  \n",
       "1           1  \n",
       "2           2  \n",
       "3           3  \n",
       "4           4  \n",
       "..        ...  \n",
       "95         95  \n",
       "96         96  \n",
       "97         97  \n",
       "98         98  \n",
       "99         99  \n",
       "\n",
       "[100 rows x 8 columns]"
      ]
     },
     "execution_count": 86,
     "metadata": {},
     "output_type": "execute_result"
    }
   ],
   "source": [
    "reddit.df"
   ]
  },
  {
   "cell_type": "code",
   "execution_count": 87,
   "id": "e5d78d15",
   "metadata": {},
   "outputs": [
    {
     "name": "stdout",
     "output_type": "stream",
     "text": [
      "\n",
      "Starting data cleaning process... 🧹🧼\n",
      "Cleaning column: description\n",
      "Cleaning column: active_month\n",
      "Cleaning column: languages\n",
      "Cleaning column: rules\n",
      "Cleaning column: total_users\n",
      "Data is all clean and shiny! ✨🫧\n",
      "\n",
      "Starting data cleaning process... 🧹🧼\n",
      "Cleaning column: description\n",
      "Cleaning column: languages\n",
      "Cleaning column: total_users\n",
      "Cleaning column: active_month\n",
      "Cleaning column: rules\n",
      "Data is all clean and shiny! ✨🫧\n"
     ]
    }
   ],
   "source": [
    "mastodon.clean()\n",
    "reddit.clean()"
   ]
  },
  {
   "cell_type": "code",
   "execution_count": 88,
   "id": "7844084b",
   "metadata": {},
   "outputs": [
    {
     "data": {
      "application/vnd.microsoft.datawrangler.viewer.v0+json": {
       "columns": [
        {
         "name": "index",
         "rawType": "int64",
         "type": "integer"
        },
        {
         "name": "domain",
         "rawType": "object",
         "type": "string"
        },
        {
         "name": "title",
         "rawType": "object",
         "type": "string"
        },
        {
         "name": "description",
         "rawType": "object",
         "type": "string"
        },
        {
         "name": "active_month",
         "rawType": "int64",
         "type": "integer"
        },
        {
         "name": "languages",
         "rawType": "object",
         "type": "unknown"
        },
        {
         "name": "rules",
         "rawType": "object",
         "type": "unknown"
        },
        {
         "name": "total_users",
         "rawType": "int64",
         "type": "integer"
        },
        {
         "name": "server_id",
         "rawType": "int64",
         "type": "integer"
        }
       ],
       "ref": "47b04fde-ddeb-4f1d-a27e-43d197b3dcd3",
       "rows": [
        [
         "0",
         "mastodon.social",
         "Mastodon",
         "The original server operated by the Mastodon gGmbH non-profit",
         "327503",
         "['en']",
         "[{'id': '1', 'text': 'Sexually explicit or violent media must be marked as sensitive or with a content warning', 'hint': 'This includes content that is particularly provocative even if it may not show specific body parts, as well as dead bodies, bloody injuries, and other gore. Particularly obscene content may be prohibited entirely. Profile pictures and header images may not contain sexually explicit or violent media.'}, {'id': '2', 'text': 'No racism, sexism, homophobia, transphobia, ableism, xenophobia, or casteism.', 'hint': 'Transphobic behavior such as intentional misgendering and deadnaming is strictly prohibited. Promotion of \"conversion therapy\" is strictly prohibited. Criticism of governments and religions is permissible unless being used as a proxy for discrimination.'}, {'id': '3', 'text': 'No incitement of violence or promotion of violent ideologies', 'hint': 'Calling for people or groups to be assassinated, murdered, or attacked physically is strictly prohibited. Support for violent groups or events is prohibited.'}, {'id': '4', 'text': 'No harassment, block evasion, dogpiling, or doxxing of others', 'hint': 'Repeat attempts to communicate with users who have blocked you or creation of accounts solely to harass or insult individuals is strictly prohibited. Coordinated activity to attack other users is prohibited. Posting of private personal information about others is prohibited.'}, {'id': '7', 'text': 'Do not share information widely-known to be false and misleading', 'hint': 'False and misleading information and links from low-quality sources may not be posted, especially if they are likely to mislead or confuse others or endanger their safety.'}, {'id': '1008', 'text': 'Content created by others must be attributed, and use of generative AI must be disclosed', 'hint': 'Content created by others must clearly provide a reference to the author, creator, or source. For adult content, this should include performers. Accounts may not solely post AI-generated content.'}]",
         "2711879",
         "0"
        ],
        [
         "1",
         "mstdn.social",
         "Mastodon 🐘",
         "A general-purpose Mastodon server with a 500 character limit. All languages are welcome.",
         "14546",
         "['en']",
         "[{'id': '2', 'text': 'Sexually explicit or violent media must be marked as sensitive when posting.', 'hint': ''}, {'id': '3', 'text': 'No spam or advertising.', 'hint': ''}, {'id': '4', 'text': 'No racism, sexism, homophobia, transphobia, xenophobia, or casteism.', 'hint': ''}, {'id': '5', 'text': 'No incitement of violence or promotion of violent ideologies.', 'hint': ''}, {'id': '6', 'text': 'No harassment, dogpiling or doxxing of other users.', 'hint': ''}, {'id': '7', 'text': 'No illegal content.', 'hint': ''}, {'id': '11', 'text': 'No spreading of fake news or misinformation', 'hint': ''}, {'id': '12', 'text': 'Content created by others must be attributed, and use of AI must be disclosed. Profiles that only post AI-generated content will not be tolerated.', 'hint': ''}]",
         "260323",
         "1"
        ],
        [
         "2",
         "infosec.exchange",
         "Infosec Exchange",
         "A Mastodon instance for info/cyber security-minded people.\n",
         "13319",
         "['en']",
         "[{'id': '1', 'text': 'Do unto others as you think they would want done to them.  ', 'hint': ''}, {'id': '2', 'text': 'Mark sensitive content with a content warning.  ', 'hint': ''}, {'id': '3', 'text': 'Gratuitous obscenity that serves no practical benefit to a discussion is not permitted.', 'hint': ''}, {'id': '4', 'text': 'Illegal content such as child pornography, unsurprisingly, is not permitted', 'hint': ''}, {'id': '5', 'text': 'Spam is not permitted, this includes creating spam accounts that only serve to provide profile links or advertise products and services. ', 'hint': ''}, {'id': '6', 'text': 'Hate speech and abusive or threatening behavior is not permitted, specifically that which directed at any gender, nationality, religion, race, age, pizza topping preference, or sexual identity.  One can hate on systemd all day long here.', 'hint': ''}, {'id': '7', 'text': \"Lack of a specific rule against a certain behavior does not indicate acceptance of that behavior.  Each of us has a limited amount of time in this world.  Don't be a jerk.  \", 'hint': ''}, {'id': '8', 'text': 'Violating one or more of these rules may result in an immediate, permanent ban without notice or warning.  ', 'hint': ''}, {'id': '9', 'text': 'You may not impersonate a person or brand without a clear indication the account is unofficial and/or a parody. Parody accounts are permitted, as are legitimate brand accounts. ', 'hint': ''}, {'id': '11', 'text': 'No attacks against (or from) the instance.\\r\\n\\r\\nYou may not do anything which may impact confidentiality, integrity or availability of Infosec.Exchange, the users of the service or their data.\\r\\nFor more details see https://wiki.infosec.exchange/rules/start', 'hint': ''}, {'id': '12', 'text': 'No doxing (aka doxxing) or disclosing personal information without consent and as a means of harassing or causing others to harass another person.', 'hint': ''}, {'id': '13', 'text': 'No harassment in the form of continued engagement after a person has requested contact to stop', 'hint': ''}, {'id': '14', 'text': 'Automated posting:\\r\\n- accounts that post >50% using automation must be labeled as a “bot” in the user profile to help provide a visual indicator to visitors\\r\\n- automated posts must be limited to one post per hour/24 per day with post visibility set to “public”. There is no limit on “unlisted” posts.', 'hint': ''}, {'id': '15', 'text': 'Soliciting or inciting violence or harm against a person or segment of people is not permitted. ', 'hint': ''}]",
         "75725",
         "2"
        ],
        [
         "3",
         "mas.to",
         "mas.to",
         "Hello! mas.to is a fast, up-to-date and fun Mastodon server.",
         "11889",
         "['en']",
         "[{'id': '9', 'text': \"No discrimination, including (but not limited to) racism, sexism, homophobia or transphobia (including targeted misgendering, deadnaming, or promotion of so-called 'conversion therapy').\", 'hint': ''}, {'id': '10', 'text': 'No explicit (NSFW) content without content warnings and/or sensitive media markers. Explicit content must not be used in user avatars or header images.', 'hint': ''}, {'id': '17', 'text': 'No harassment of other users on this or other servers.', 'hint': ''}, {'id': '18', 'text': 'No content illegal in the following countries: United Kingdom, Germany', 'hint': ''}, {'id': '19', 'text': 'No incitement of violence or promotion of violent ideologies.', 'hint': ''}, {'id': '20', 'text': 'No disinformation regarding public health issues or political/military campaigns.', 'hint': ''}, {'id': '21', 'text': 'No spam. This includes commercial advertising, promotion of services, and SEO.', 'hint': ''}, {'id': '22', 'text': 'No impersonation of other individuals, public figures or organisations, unless clearly marked as a parody.', 'hint': ''}, {'id': '23', 'text': 'All automated (bot) accounts must enable the bot flag in their account preferences, respect #nobot markers, and post as unlisted unless making less than one post per hour.', 'hint': ''}]",
         "183608",
         "3"
        ],
        [
         "4",
         "piaille.fr",
         "Piaille",
         "Piaille.fr est un serveur mastodon public francophone accessible à toutes et à tous.\n\nJoignable via Tor ici :\npiaillesmbiv4wjdy7no6r4eijsv6mlsp3cxrpy37dhmose2jwyqdrid.onion",
         "9221",
         "['fr']",
         "[{'id': '1', 'text': 'Conformément aux lois françaises et à la jurisprudence, les contenus pédopornographiques, y compris sous forme dessinée, sont illégaux et seront supprimés, et les comptes concernés bloqués (si distants) ou supprimés (si local).', 'hint': ''}, {'id': '2', 'text': 'La nudité, les contenus érotiques, pornographiques ou visiblement violents doivent être marqués avec le drapeau \"sensible / sensitive\". Les comptes ne respectant pas cette règle seront supprimés\\r\\n', 'hint': ''}, {'id': '3', 'text': \"La publicité, sous forme répétée et/ou intrusive (faisant mention d'autres utilisateur·ices), n'est pas acceptée. Les comptes concernés seront rendus invisibles aux flux locaux et fédérés, ou supprimés, selon la gravité de la situation.\", 'hint': ''}, {'id': '4', 'text': \"Approchez les personnes avec précaution et politesse. Si une personne vous demande d'arrêter de la mentionner ou qu'elle exprime ne plus vouloir participer à une discussion, arrêtez immédiatement.\", 'hint': ''}, {'id': '5', 'text': 'Est interdit tout propos reproduisant des comportements oppressifs visibles dans la société ( par exemple : racisme, sexisme, lgbtphobie, validisme )\\r\\n', 'hint': ''}, {'id': '6', 'text': 'Sont interdits les avances ou propositions à caractères sexuels non-sollicitées.\\r\\n', 'hint': ''}, {'id': '7', 'text': \"Sont interdit toute conduite, en public ou en privé, ayant pour but de traquer, harceler ou intimider d'autres personnes.\\r\\n\", 'hint': ''}, {'id': '8', 'text': \"Il est interdit de rassembler, publier, disséminer les informations personnelles d'une autre personne sans son autorisation explicite.\\r\\n\", 'hint': ''}, {'id': '9', 'text': 'Il est interdit de poursuivre une conversation ou inciter une personne à poursuivre une interaction avec une personne ayant réclamé la cessation de ladite interaction. Cela peut être considéré comme du harcèlement, indépendamment de la confidentialité employée.\\r\\n', 'hint': ''}, {'id': '10', 'text': 'Est interdit toute tentative de retournement d’une oppression systémique. Par exemple : « racisme anti-blanc », « sexisme anti-homme », « hétérophobie », « cisphobie ».\\r\\n', 'hint': ''}, {'id': '11', 'text': 'Il est interdit de publier ou diffuser intentionnellement des propos diffamatoires, calomnieux, ainsi que toute désinformation avec intention de tromper (le gorafi ou the onion sont donc autorisés). Les profils satiriques doivent être indiqués comme tels dans leur nom et description publique.\\r\\n', 'hint': ''}]",
         "40869",
         "4"
        ],
        [
         "5",
         "hachyderm.io",
         "Hachyderm.io",
         "Hachyderm is a safe space, LGBTQIA+ and BLM, primarily comprised of tech industry professionals world wide. Note that many non-user account types have restrictions - please see our About page.",
         "8937",
         "['en']",
         "[{'id': '1', 'text': \"Don't be a dick.\", 'hint': ''}, {'id': '2', 'text': 'No hacking.', 'hint': ''}, {'id': '3', 'text': 'No violence.', 'hint': ''}, {'id': '4', 'text': 'No fascism. ', 'hint': ''}, {'id': '5', 'text': 'No colonialism.', 'hint': ''}, {'id': '6', 'text': 'No white supremacy.', 'hint': ''}, {'id': '7', 'text': 'No religious extremism. ', 'hint': ''}, {'id': '9', 'text': 'No nationalism.', 'hint': ''}, {'id': '11', 'text': 'No racism.', 'hint': ''}, {'id': '12', 'text': 'No homophobia.', 'hint': ''}, {'id': '13', 'text': 'No transphobia.', 'hint': ''}, {'id': '14', 'text': 'Safe Space: LGTBQIA+', 'hint': ''}, {'id': '15', 'text': 'Safe Space: neurodivergent (ADHD, Autism, etc.) ', 'hint': ''}]",
         "56318",
         "5"
        ],
        [
         "6",
         "troet.cafe",
         "troet.cafe  - Mastodon",
         "Hallo im troet.cafe!\nDies ist die derzeit größte deutschsprachige Mastodon Instanz zum tröten, neue Leute kennenlernen, sich auszutauschen und Spaß zu haben.",
         "6850",
         "['de']",
         "[{'id': '3', 'text': 'Keine Belästigung, Stalking und/oder Doxxing von anderen.\\r\\n'}, {'id': '4', 'text': 'Rassismus, Sexismus oder Beschimpfungen haben hier nichts verloren.'}, {'id': '5', 'text': 'Diskriminierung von Geschlechtern und sexuellen Minderheiten haben hier auch nichts verloren.'}, {'id': '7', 'text': 'Nationalistische Propaganda, Nazi-Symbolismus oder Förderung der Ideologie des Nationalsozialismus ist verboten.'}, {'id': '8', 'text': 'Aufrufe zu Gewalttaten sind verboten.\\r\\n'}, {'id': '11', 'text': 'Nicht markierter sexueller Inhalt und/oder Gewaltdarstellungen in jeglicher Form sind nicht erlaubt.'}, {'id': '12', 'text': 'Bots, die ohne ihre expliziten Anfragen mit Nutzer interagieren, werden gelöscht.\\r\\n'}, {'id': '13', 'text': 'Übermässige Werbung / Spam / Spamflut von wiederholenden Tröts sind nicht erwünscht.'}, {'id': '14', 'text': 'Falls du einen NSFW-Only Account erstellen möchtest, ziehe eventuell eine andere Instanz in Betracht. Wahrscheinlich sind wir leider nicht geeignet für dich.'}, {'id': '15', 'text': 'Allgemeine Verstöße gegen geltendes Recht in Deutschland.'}, {'id': '17', 'text': 'Gezieltes Misgendering, Deadnaming oder Werbung für sogenannte \"Konversionstherapien\" sind verboten.'}, {'id': '18', 'text': 'Mir ist bewusst, dass ein Verstoß gegen eine der Serverregeln zur Löschung von einzelnen Beiträgen, oder der Stummschaltung/Löschung des gesamten Accounts führen kann und mit dem Anlegen eines Accounts akzeptiere ich alle Regeln. '}]",
         "46749",
         "6"
        ],
        [
         "7",
         "mastodon.gamedev.place",
         "Gamedev Mastodon",
         "Mastodon server focused on game development and related topics.",
         "5078",
         "['en']",
         "[{'id': '1', 'text': 'Sexually explicit or violent media must be marked as sensitive when posting', 'hint': ''}, {'id': '2', 'text': 'No racism, sexism, homophobia, transphobia, xenophobia, or casteism', 'hint': ''}, {'id': '3', 'text': 'No incitement of violence or promotion of violent ideologies', 'hint': ''}, {'id': '4', 'text': 'No harassment, dogpiling or doxxing of other users', 'hint': ''}, {'id': '5', 'text': 'No content illegal in EU', 'hint': ''}, {'id': '6', 'text': 'Do not share intentionally false or misleading information', 'hint': ''}]",
         "33441",
         "7"
        ],
        [
         "8",
         "techhub.social",
         "TechHub",
         "A hub primarily for passionate technologists, but everyone is welcome",
         "5031",
         "['en']",
         "[{'id': '6', 'text': 'Violent media must be marked as sensitive when posting.', 'hint': ''}, {'id': '7', 'text': 'No racism, sexism, homophobia, transphobia, xenophobia, or casteism.', 'hint': ''}, {'id': '8', 'text': 'No incitement of violence or promotion of violent ideologies.', 'hint': ''}, {'id': '9', 'text': 'No harassment, dogpiling or doxxing of other users.', 'hint': ''}, {'id': '10', 'text': 'No content illegal in Canada.', 'hint': ''}, {'id': '11', 'text': 'Do not share false or misleading information that may lead to physical harm.', 'hint': ''}, {'id': '13', 'text': 'No spam, no direct advertising selling products or services, no aggressive promotion. If you promote your website, blog, etc do it responsibly and use a description and tags.', 'hint': ''}, {'id': '14', 'text': 'Bots must be marked as Bot in their profile and bots created after Dec 31st 2024 must post in silent mode', 'hint': ''}, {'id': '15', 'text': 'Sexually explicit content is not allowed', 'hint': ''}, {'id': '16', 'text': 'Agree to Code of Conduct (see about section)', 'hint': ''}]",
         "83099",
         "8"
        ],
        [
         "9",
         "mastodon.nl",
         "Mastodon.nl door Stichting Activityclub",
         "Mastodon voor de Nederlandse community - door de Nederlandse community - in stand gehouden door Stichting Activityclub",
         "4519",
         "['en']",
         "[{'id': '2', 'text': 'Heb respect voor elkaar'}, {'id': '3', 'text': 'Geen links of referenties naar racistische, hatelijke of offensieve content'}, {'id': '4', 'text': 'Geen accounts en toots die nodeloos ongefundeerd zijn'}, {'id': '5', 'text': 'Geen zaken die in Nederland illegaal zijn'}, {'id': '7', 'text': 'Geen reclame en spam'}, {'id': '9', 'text': 'Bij herhaling provoceren of uitlokken (trolling) is niet toegestaan.'}]",
         "43744",
         "9"
        ],
        [
         "10",
         "social.tchncs.de",
         "Mastodon",
         "A friendly server from Germany – which tends to attract techy people, but welcomes everybody. This is one of the oldest Mastodon instances.",
         "3697",
         "['en']",
         "[{'id': '1', 'text': 'Be nice to each other', 'hint': ''}, {'id': '2', 'text': 'Do not publish advertisements', 'hint': ''}, {'id': '3', 'text': 'Do not publish conspiracy myths', 'hint': ''}, {'id': '4', 'text': 'Do not publish content illegal in Germany and/or France, such as holocaust denial or Nazi symbolism', 'hint': ''}, {'id': '5', 'text': 'Do not publish content promoting the ideology of National Socialism', 'hint': ''}, {'id': '6', 'text': 'Do not publish content that is hateful towards specific individuals or groups, or intended to cause or incite harm', 'hint': ''}, {'id': '7', 'text': 'Do not exclusively crosspost from other platforms', 'hint': ''}]",
         "22825",
         "10"
        ],
        [
         "11",
         "kolektiva.social",
         "kolektiva.social",
         "Kolektiva is an anti-colonial anarchist collective that offers federated social media to anarchist collectives and individuals in the fediverse. For the social movements and liberation!",
         "3405",
         "['en']",
         "[{'id': '1', 'text': 'No racism, misogyny, homo/transphobia, ableism or other oppressive behaviour. ', 'hint': ''}, {'id': '2', 'text': 'No right wing bullshit and no authoritarian left wing apologetics. ', 'hint': ''}, {'id': '3', 'text': 'No harassment.', 'hint': ''}, {'id': '4', 'text': 'No electoral propaganda/campaigning.', 'hint': ''}, {'id': '5', 'text': 'No misinformation or conspiracy theories.', 'hint': ''}, {'id': '6', 'text': 'No promotion of capitalism, meritocracy or a commercial enterprise.', 'hint': ''}, {'id': '7', 'text': 'No spam.', 'hint': ''}, {'id': '8', 'text': 'No sexualized images without consent.', 'hint': ''}, {'id': '9', 'text': 'No glorification of nation states or militarism.', 'hint': ''}, {'id': '10', 'text': 'Propaganda from the USSR, CCP, or DPRK is not allowed.', 'hint': ''}]",
         "40004",
         "11"
        ],
        [
         "12",
         "norden.social",
         "norden.social",
         "Moin! Dies ist die Mastodon-Instanz für Nordlichter, Schnacker und alles dazwischen. Folge dem Leuchtturm.",
         "3383",
         "['en']",
         "[{'id': '12', 'text': 'Respektvoller Umgang', 'hint': 'Sei freundlich und respektvoll. Persönliche Angriffe, Beleidigungen oder herablassendes Verhalten werden nicht toleriert.'}, {'id': '13', 'text': 'Keine Diskriminierung', 'hint': 'Diskriminierung oder Hass aufgrund von Herkunft, Geschlecht, sexueller Orientierung, Geschlechtsidentität, Behinderung, Einschränkungen (Ableismus), Religion oder anderen persönlichen Merkmalen sind verboten.'}, {'id': '14', 'text': 'Einhaltung von Gesetzen und Urheberrechten', 'hint': 'Veröffentliche keine illegalen Inhalte oder Materialien, die Urheberrechte verletzen. Solche Beiträge werden entfernt, und wiederholte Verstöße können zur Kontosperrung führen.'}, {'id': '15', 'text': 'Schutz der Privatsphäre', 'hint': 'Teile keine persönlichen Daten ohne ausdrückliche Zustimmung der betroffenen Personen. Überlege sorgfältig, welche Informationen du öffentlich machst.'}, {'id': '16', 'text': 'Kennzeichnung anstößiger und nicht jugendfreier Inhalte', 'hint': 'Markiere Inhalte, die als anstößig oder jugendgefährdend gelten, mit einer Inhaltswarnung und (zum Beispiel per Hashtag) als “NSFW” (Not Safe for Work). Beachte, dass unsere Instanz möglicherweise nicht für Accounts geeignet ist, die ausschließlich jugendgefährende Inhalte teilen.'}, {'id': '17', 'text': 'Automatisierte Beiträge', 'hint': 'Automatisierte Inhalte wie Bots oder Crossposts müssen als “Öffentlich (Still)” veröffentlicht werden. Konten, die ohne aktive Teilnahme ausschließlich automatisierte Inhalte posten, können entfernt werden.'}, {'id': '18', 'text': 'Keine Belästigung oder Spam', 'hint': 'Belästigung, Mobbing, unerwünschte Kontaktaufnahmen, Spam oder die Verbreitung von Schadsoftware sind untersagt.'}, {'id': '19', 'text': 'Verbot extremistischer Inhalte', 'hint': 'Inhalte mit Nazi-Symbolik, extremistischer Propaganda oder Hassrede sind strengstens verboten.'}, {'id': '20', 'text': 'Authentizität bewahren', 'hint': 'Erstelle keine Fake-Profile und gib dich nicht als jemand anderes aus.'}, {'id': '21', 'text': 'Keine absichtliche Verbreitung von Falschinformationen', 'hint': 'Das bewusste Verbreiten von falschen Informationen, die der Community oder der Gesellschaft schaden könnten, ist verboten.'}]",
         "13802",
         "12"
        ],
        [
         "13",
         "mastodonapp.uk",
         "Mastodon App UK",
         "UK Hosted and Managed Mastodon Instance. General communal space for discussion, everyone welcome! Now with a 1000 character limit for posts!",
         "3227",
         "['en']",
         "[{'id': '1', 'text': 'Sexually explicit or violent media must be marked as sensitive & content warned when posting'}, {'id': '2', 'text': 'Be respectful. Racism, sexism, homophobia, transphobia (including targeted misgendering, deadnaming, or promotion of so-called \"conversion therapy\"), xenophobia, and other forms of hate and discrimination are not welcome. Your behaviour elsewhere may also be considered if brought to our attention. '}, {'id': '3', 'text': 'No incitement of violence or promotion of discriminatory or violent ideologies'}, {'id': '4', 'text': 'No spam, harrassment, dogpiling or doxxing of other users, this includes mass and spam reporting'}, {'id': '5', 'text': 'No content illegal in The United Kingdom'}, {'id': '6', 'text': 'No intentionally false or misleading information. By extension, do not pose as persons of interest. '}, {'id': '7', 'text': 'Controversial, reactionary, NSFW, and satirical or similar content may be removed if not obviously Content Warned where appropriate.'}, {'id': '9', 'text': 'No promotion of gambling, Crypto, NFTs, anti-vaccination, self-harm, terrorism, illegal activities, Abuse/exploitation, or Violence.'}, {'id': '10', 'text': 'The sites staff team will ultimately have the final say on any and all moderation actions.'}]",
         "80374",
         "13"
        ],
        [
         "14",
         "universeodon.com",
         "Universeodon Social Media",
         "Be one with the #fediverse. Join millions of humans building, creating, and collaborating on Mastodon Social Network. Supports 1000 character posts.",
         "3157",
         "['en']",
         "[{'id': '16', 'text': 'Sexually explicit or violent media must be marked as sensitive & content warned when posting'}, {'id': '17', 'text': 'Be respectful. Racism, sexism, homophobia, transphobia (including targeted misgendering, deadnaming, or promotion of so-called \"conversion therapy\"), xenophobia, and other forms of hate and discrimination are not welcome. Your behaviour elsewhere may also be considered if brought to our attention. '}, {'id': '18', 'text': 'No incitement of violence or promotion of discriminatory or violent ideologies'}, {'id': '19', 'text': 'No spam, harrassment, dogpiling or doxxing of other users, this includes mass and spam reporting'}, {'id': '20', 'text': 'No content illegal in The United Kingdom'}, {'id': '21', 'text': 'No intentionally false or misleading information. By extension, do not pose as persons of interest. '}, {'id': '22', 'text': 'Controversial, reactionary, NSFW, and satirical or similar content may be removed if not obviously Content Warned where appropriate.'}, {'id': '23', 'text': 'No promotion of gambling, Crypto, NFTs, anti-vaccination, self-harm, terrorism, illegal activities, Abuse/exploitation, or Violence.'}, {'id': '24', 'text': 'The sites staff team will ultimately have the final say on any and all moderation actions.'}]",
         "81677",
         "14"
        ],
        [
         "15",
         "mamot.fr",
         "Mamot - Le Mastodon de La Quadrature du Net ",
         "Mamot.fr est un serveur Mastodon francophone, géré par La Quadrature du Net.",
         "3122",
         "['en']",
         "[{'id': '1', 'text': 'Interdiction de la pédopornographique', 'hint': 'Conformément aux lois françaises et à la jurisprudence, les contenus pédopornographiques, y compris sous forme dessinée, sont illégaux et seront supprimés, et les comptes concernés bloqués (si distants) ou supprimés (si local).'}, {'id': '2', 'text': 'Discrétion des médias pornographique violent', 'hint': 'Les contenus pornographiques ou visiblement violents doivent être marqués avec le drapeau \"sensible / sensitive\". Les comptes ne respectant pas cette règle seront rendus invisibles aux flux locaux et fédérés. '}, {'id': '3', 'text': 'Interdiction de la Publicité', 'hint': \"La publicité, sous forme répétée et/ou intrusive (faisant mention d'autres utilisateur·ices), n'est pas acceptée. Les comptes concernés seront rendus invisibles aux flux locaux et fédérés, ou supprimés, selon la gravité de la situation. \"}, {'id': '4', 'text': 'Politesse des discussions', 'hint': \"Approchez les personnes avec précaution et politesse. Si une personne vous demande d'arrêter de la mentionner ou qu'elle exprime ne plus vouloir participer à une discussion, arrêtez immédiatement. \"}, {'id': '5', 'text': 'Interdiction des propos haineux', 'hint': 'Sont interdits les propos, images ou vidéos racistes, sexistes, homophobes ou transphobes.'}, {'id': '7', 'text': 'Interdiction du harcèlement', 'hint': \"Sont interdit toute conduite, en public ou en privé, ayant pour but de traquer, harceler ou intimider d'autres personnes, sexuellement ou non.\"}, {'id': '8', 'text': 'Interdiction de la révélations confidentielles', 'hint': \"Il est interdit de rassembler, publier, disséminer les informations personnelles d'une autre personne sans son autorisation explicite.\"}, {'id': '9', 'text': 'Interdiction de forcer une conversation', 'hint': 'Il est interdit de poursuivre une conversation ou inciter une personne à poursuivre une interaction avec une personne ayant réclamé la cessation de ladite interaction peut être considéré comme du harcèlement, indépendamment de la confidentialité employée.'}, {'id': '10', 'text': \"Interdiction de retournement d'une oppression systémique\", 'hint': 'Est interdit toute tentative de retournement d’une oppression systémique. Par exemple : « racisme anti-blanc », « sexisme anti-homme », « hétérophobie », « cisphobie ».'}, {'id': '11', 'text': 'Interdiction de la diffamation & calomnie', 'hint': 'Il est interdit publier ou diffuser intentionnellement des propos diffamatoires, calomnieux. Cela concerne aussi toute désinformation avec intention de tromper (le gorafi ou the onion sont donc autorisés).'}, {'id': '12', 'text': \"Interdiction du partage d'informations à véracité douteuse avec intention de nuire\", 'hint': \"Il est interdit de partager des informations à véracité douteuse avec intention de nuire. Veilliez à sourcer et à vérifier les informations que vous postez, notamment si elles peuvent nuire à la santé, l'intégrité ou à la sécurité des personnes. Une exigence particulière est apportée aux informations liées à la santé ou l'éducation. \"}, {'id': '13', 'text': 'Attribution : Il est encouragé d’attribuer l’auteur·ce ayant crée le média ou contenu que vous postez', 'hint': 'Cette mesure est surtout destinée à pouvoir généré un avertissement, sans actions, pour prévenir la génération de contenu par IA qui puisse spammer le serveur et le fédiverse.'}, {'id': '14', 'text': 'Création humaine : Il est découragé d’utiliser des outils de génération procédurale ( IA ), et si c’est le cas, ça doit être mentionné', 'hint': 'Cette mesure est surtout destinée à pouvoir généré un avertissement, sans actions, pour prévenir la génération de contenu par IA qui puisse spammer le serveur et le fédiverse.'}, {'id': '15', 'text': 'Interdiction des arnaques. Il est interdit de faire la promotion d’arnaques du type cryptomonnaie, prêts, ventes illégales, soins médicaux, mais sans y être limité.', 'hint': '\\r\\n\\r\\n    Cette mesure permet de supprimer les comptes qui font la promo de scams, de soins douteux, et de manière générale qui sont dans la prédation économique.\\r\\n'}]",
         "39731",
         "15"
        ],
        [
         "16",
         "nrw.social",
         "NRW.social",
         "Wir sind eine freundliche Mastodon Instanz aus Nordrhein-Westfalen. Ob NRW'ler oder NRW-Sympathifanten, jeder ist hier willkommen.",
         "2756",
         "['de']",
         "[]",
         "18579",
         "16"
        ],
        [
         "17",
         "c.im",
         "C.IM",
         "C.IM is a general, mainly English-speaking Mastodon instance.",
         "2688",
         "['en']",
         "[{'id': '11', 'text': 'Respect the laws of the Netherlands and the Isle of Man, including those related to hate speech and defamation.', 'hint': ''}, {'id': '12', 'text': 'Threatening, abusive, intolerant or illegal behavior may lead to moderation and/or further measures. We have a zero tolerance approach to racism, sexism, homophobia and transphobia. Moderation decisions are final. ', 'hint': ''}, {'id': '13', 'text': 'The Content Warning flag should be used for NSFW content, and NSFW media should be marked as sensitive.', 'hint': ''}, {'id': '14', 'text': 'Account registrations are monitored and accounts considered spam (including commercial advertising, political campaigning/propaganda, duplicate accounts or impersonating legal entities) will be moderated or removed.', 'hint': ''}, {'id': '15', 'text': 'Do not harass or bully other users.', 'hint': ''}, {'id': '16', 'text': 'Do not share illegal or copyrighted content.', 'hint': ''}, {'id': '17', 'text': 'Do not spam or engage in any form of malicious activity.', 'hint': ''}, {'id': '18', 'text': 'Keep discussions civil and respectful, and refrain from using derogatory language or engaging in personal attacks.', 'hint': ''}, {'id': '19', 'text': 'Do not reveal personal information about other people without their consent.', 'hint': ''}, {'id': '20', 'text': 'Use appropriate tags and content warnings when posting potentially sensitive or triggering content.', 'hint': ''}, {'id': '21', 'text': 'If you see a violation of these rules, report it to the moderation team.', 'hint': ''}, {'id': '22', 'text': 'To use our service, you are at least 18 years old.', 'hint': ''}]",
         "67782",
         "17"
        ],
        [
         "18",
         "mstdn.ca",
         "Mastodon Canada",
         "A community for Canadians, First Nations, Metis, and Inuit Peoples of the great white north.",
         "2670",
         "['en']",
         "[{'id': '1', 'text': 'No toxic and hateful speech.', 'hint': ''}, {'id': '3', 'text': 'No incitement of violence and no promotion of misleading or violent ideologies.', 'hint': ''}, {'id': '4', 'text': 'No harassment, dogpiling, or unwanted advances.', 'hint': ''}, {'id': '5', 'text': 'No doxxing of other users.', 'hint': ''}, {'id': '6', 'text': \"No content illegal in Canada or copyrighted content that you don't own rights to.\", 'hint': ''}, {'id': '7', 'text': 'Sexually explicit or violent media must be marked appropriately.', 'hint': ''}, {'id': '8', 'text': 'No spamming.\\r\\nExcessive posting, boosting, advertising or mass-marketing posts will be actioned accordingly and based on intent.', 'hint': ''}, {'id': '9', 'text': 'Be yourself.\\r\\nAccounts intended to impersonate or parody are not permitted, and those found to be directly misrepresenting themselves as another person or entity will be actioned accordingly.', 'hint': ''}, {'id': '10', 'text': 'Agree to the Terms of Service and Code of Conduct.', 'hint': ''}]",
         "35494",
         "18"
        ],
        [
         "19",
         "sfba.social",
         "SFBA.social",
         "A Mastodon instance for the San Francisco Bay Area. Come on in and join us!",
         "2269",
         "['en']",
         "[{'id': '28', 'text': 'Do not use slurs or racist, sexist, homophobic, transphobic, ableist or otherwise discriminatory or hateful jokes or language; or promote white supremacy, anti-Semitism, transphobia, casteist, or other hateful ideologies.', 'hint': ''}, {'id': '29', 'text': 'Do not post content that is illegal in the USA or California.', 'hint': 'This includes unlicensed media. We will remove copyrighted content in response to a valid DMCA notice per our policy.'}, {'id': '30', 'text': 'Do not harass anyone, participate in group harassment of anyone, or otherwise engage in name calling or personal attacks.', 'hint': ''}, {'id': '31', 'text': 'Do not post or threaten to post other people’s personally identifying information (“doxxing”).', 'hint': ''}, {'id': '32', 'text': 'Do not tone police.', 'hint': ''}, {'id': '33', 'text': 'Do not “shitpost” hateful content', 'hint': 'While humorous posts are allowed, even encouraged, “shitposting” is not an exception to rules 1 or 3. There are no ironic slurs.'}, {'id': '34', 'text': 'Do not sell or promote cryptocurrencies or NFTs.', 'hint': ''}, {'id': '62', 'text': 'Do not litigate moderation decisions on the timeline. ', 'hint': 'You can direct message @moderators with concerns.'}, {'id': '63', 'text': 'Mark content that contains nudity, gore, violence, etc. as sensitive and clearly label it with a content warning and/or hashtag.', 'hint': ''}, {'id': '64', 'text': 'Do not post spam.', 'hint': 'There is additional information about what SFBA.social considers spam on the information hub: https://hub.sfba.social/2024/07/05/sfba-social-spam-policy/'}, {'id': '65', 'text': 'Organizations must be based in the SF Bay Area.', 'hint': 'See our Corporate and Organization policy for more details.\\r\\nhttps://hub.sfba.social/governance/corporate-and-organization-accounts-on-sfba-sites/'}]",
         "39192",
         "19"
        ],
        [
         "20",
         "occm.cc",
         "자커마스 v3",
         "자커마스는 자작 캐릭터 커뮤니티, 즉 자캐커뮤를 위한 마스토돈 인스턴스입니다.\n자캐커뮤에 특화된 서버 설정을 제공하며, 한국어 검색을 지원합니다.",
         "2252",
         "['ko']",
         "[{'id': '1', 'text': '자커마스는 자작 캐릭터 커뮤니티를 위한 마스토돈 인스턴스입니다. 이외 목적의 계정은 사전에 승인받은 경우를 제외하고 7월 11일 오후 10시 이후 금지됩니다.', 'hint': ''}, {'id': '2', 'text': '19세 이상 이용가 내용을 민감한 콘텐츠 체크나 CW 없이 업로드할 수 없습니다.', 'hint': ''}, {'id': '3', 'text': '모든 종류의 혐오 발언을 사용할 수 없습니다. 불가피하게 사용시 열람 주의(CW) 기능을 사용해야 하며, 로컬/연합 타임라인에 노출되지 않도록 프라이버시 설정을 공개로 설정해서는 안됩니다.', 'hint': ''}, {'id': '4', 'text': '기본 공개 범위는 비표시를 권장합니다.', 'hint': ''}, {'id': '5', 'text': ' 공개 타임라인에는 커뮤니티 홍보지 등 누구나 봐야 하는 내용만 업로드 가능합니다. 이외 업로드시 계정 침묵 처리 등 조치가 이루어질 수 있습니다.', 'hint': ''}, {'id': '6', 'text': '타 인스턴스와 교류는 인스턴스 특징상 권장하지 않습니다. 기본적으로 차단하지는 않으나 특정 인스턴스의 요청이 있다면(공개 타임라인 오염 등) 인스턴스 단위 차단이 이루어질 수 있습니다.', 'hint': ''}, {'id': '7', 'text': '일회용 이메일로 가입을 지양합니다. 추후 계정을 찾게 될 수 없게 될수 있으며 이메일 확인시 인증이 불필요한 특성상 타인이 계정 정보를 탈취할 수 있습니다.', 'hint': ''}, {'id': '10', 'text': '총괄 계정은 공지 계정으로 DM(개인적인 멘션)을 보내 주시면 총괄 권한을 부여해 드립니다. 커뮤니티 총괄 계정은 초대 링크를 생성할 수 있습니다.', 'hint': ''}]",
         "9285",
         "20"
        ],
        [
         "21",
         "mastodon-japan.net",
         "Mastodon Japan Server",
         "こちらはMastodon Japan Server、日本居住および日本語話者向けの汎用サーバーです。\nただし日本国外居住者及び非日本語話者を除外するものではありません。ルール（利用規約）をご確認の上で平和に遊ぼう。",
         "2241",
         "['ja']",
         "[{'id': '2', 'text': '日本国内法は守ってください', 'hint': ''}, {'id': '3', 'text': '露骨な性表現や暴力的なメディアの禁止', 'hint': ''}, {'id': '4', 'text': '差別行為・暴力行為を行わないこと', 'hint': ''}, {'id': '5', 'text': '他のユーザーに対する嫌がらせ行為の禁止', 'hint': ''}]",
         "17108",
         "21"
        ],
        [
         "22",
         "mastodon.scot",
         "mastodon.scot",
         "A server intended for (but not limited to) users in Scotland or who identify as Scottish.",
         "2178",
         "['en']",
         "[{'id': '10', 'text': \"No discrimination, including (but not limited to) racism, sexism, homophobia or transphobia (including targeted misgendering, deadnaming, or promotion of so-called 'conversion therapy').\", 'hint': ''}, {'id': '11', 'text': 'No explicit (NSFW) content without content warnings and/or sensitive media markers. Explicit content must not be used in user avatars or header images.', 'hint': ''}, {'id': '18', 'text': 'No harassment of other users on this or other servers.', 'hint': ''}, {'id': '19', 'text': 'No content illegal in the following countries: United Kingdom, Germany', 'hint': ''}, {'id': '20', 'text': 'No incitement of violence or promotion of violent ideologies.', 'hint': ''}, {'id': '21', 'text': 'No disinformation regarding public health issues or political/military campaigns.', 'hint': ''}, {'id': '22', 'text': 'No spam. This includes commercial advertising, promotion of services, and SEO.', 'hint': ''}, {'id': '23', 'text': 'No impersonation of other individuals, public figures or organisations, unless clearly marked as a parody.', 'hint': ''}, {'id': '24', 'text': 'All automated (bot) accounts must enable the bot flag in their account preferences, respect #nobot markers, and post as unlisted unless making less than one post per hour.', 'hint': ''}]",
         "29106",
         "22"
        ],
        [
         "23",
         "sueden.social",
         "sueden.social",
         "Eine Community für alle, die sich dem Süden hingezogen fühlen. Wir können alles außer Hochdeutsch.",
         "1993",
         "['de']",
         "[{'id': '1', 'text': 'Sei kein Arschloch. Du hast eine Meinung? Das ist gut aber bitte beleidige niemanden bei deinen Äußerungen.', 'hint': ''}, {'id': '2', 'text': 'Diskriminiere niemanden. Rassistische, sexistische, frauenfeindliche, homophobe, antisemitische und andere menschenfeindliche Beiträge sind bei uns verboten!', 'hint': ''}, {'id': '3', 'text': 'Halte dich an Gesetze. Ganz einfach. Auch im Internet kann man angezeigt werden.', 'hint': ''}, {'id': '4', 'text': 'Du bist für deine Privatsphäre verantwortlich. Wenn du nicht willst, dass etwas im Internet über dich steht, veröffentliche es nicht.', 'hint': ''}, {'id': '5', 'text': 'Wir legen Wert auf eine gesunde Kommunikation untereinander. Falls du deinen Account nur benutzt um Links zu teilen und ohne Rücksicht Crossposter verwendest, oder für Referral-Link nutzt, werden wir Admins uns bei dir melden.', 'hint': ''}, {'id': '6', 'text': 'Falls du einen NSFW-Only Account erstellen möchtest, ziehe eventuell eine andere Instanz in Betracht. Wahrscheinlich sind wir leider nicht geeignet für dich.', 'hint': ''}, {'id': '7', 'text': 'Wir dulden keine Belästigung, einschließlich Brigading, Dogpiling oder jede andere Form der Kontaktaufnahme mit einem Nutzer, der angegeben hat, dass er nicht kontaktiert werden möchte.', 'hint': ''}, {'id': '8', 'text': '\\r\\nWir dulden keine gewalttätige nationalistische Propaganda, keine Nazi-Symbolik und keine Förderung der Ideologie des Nationalsozialismus.\\r\\n', 'hint': ''}, {'id': '9', 'text': 'Inhalte, die in Deutschland illegal sind, werden gelöscht und können zur sofortigen Sperrung des Kontos führen.', 'hint': ''}, {'id': '10', 'text': 'Mach dich nicht lustig über andere und sei nicht herablassend. Du möchtest auch mit Respekt behandelt werden. Beachte, dass sich Ironie, Sarkasmus oder ähnliche Ausdrucksformen nicht gut in die Schriftsprache übertragen lassen und dazu neigen, Diskussionen oder Missverständnisse zu eskalieren.', 'hint': ''}, {'id': '12', 'text': 'Automatisierte Beiträge sollten als \"Nicht gelistet\" gepostet werden (d. h. sie sind sichtbar, aber nicht in der lokalen Zeitleiste). Dies gilt auch für Bots, Feed-Poster, Twitter-\"Retweets\" und Twitter-Crossposts. Crossposter-Konten, die sich nicht aktiv beteiligen, können von uns entfernt werden.', 'hint': ''}, {'id': '15', 'text': 'Wir dulden keine Verschwörungstheorien, die das oben genannte (und/oder ähnliche) Verhalten unterstützen oder dazu führen.', 'hint': ''}]",
         "14611",
         "23"
        ],
        [
         "24",
         "ohai.social",
         "ohai.social",
         "A cozy, fast and secure Mastodon server where everyone is welcome. Run by the folks at ohai.is.",
         "1751",
         "['en']",
         "[{'id': '1', 'text': 'We do not tolerate discriminatory behavior and content promoting or advocating the oppression of members of marginalized groups.', 'hint': ''}, {'id': '8', 'text': 'We do not tolerate threatening behavior, stalking, doxxing, or harassment (including brigading, dogpiling, or any other form of contact with a user who has stated that they do not wish to be contacted).', 'hint': ''}, {'id': '11', 'text': 'We do not tolerate violent nationalist propaganda, Nazi symbolism or promoting the ideology of National Socialism.', 'hint': ''}, {'id': '12', 'text': 'We do not tolerate conspiracy narratives or other reactionary myths supporting or leading to the above-mentioned (and/or similar) behavior.', 'hint': ''}, {'id': '15', 'text': 'All explicit (NSFW) content must be marked as sensitive and have a content warning. Explicit content must not be used in user avatars or header images.', 'hint': ''}, {'id': '16', 'text': 'Content that is illegal in Germany will be deleted and may lead to immediate account suspension.', 'hint': ''}]",
         "40004",
         "24"
        ],
        [
         "25",
         "mastodon.ie",
         "mastodon.ie",
         "Irish Mastodon - run from Ireland, we welcome all who respect the community rules and members.",
         "1742",
         "['en']",
         "[{'id': '1', 'text': \"Don't Be A Ballox\", 'hint': ''}, {'id': '2', 'text': 'No bigotry, racism, xenophobia, sexism, homophobia, transphobia, anti-Traveller speech or any hate speech.', 'hint': ''}, {'id': '5', 'text': ' No unsolicited DMs ', 'hint': ''}, {'id': '8', 'text': 'We have Threads blocked, just so you know', 'hint': ''}, {'id': '9', 'text': 'We operate on a \"3 strikes and you\\'re out\" basis.', 'hint': ''}]",
         "21213",
         "25"
        ],
        [
         "26",
         "defcon.social",
         "DEF CON Social",
         "DEFCON.social = The intersection of technology and society, a community for artists, hackers, policy, academics, researchers, infosec, activists & cyberpunks",
         "1730",
         "['en']",
         "[{'id': '21', 'text': 'No toxic behavior', 'hint': 'No racism, sexism, homophobia, transphobia, ableism, xenophobia, casetism, supremacy, and edgelord behavior such as trolling, dogpiling, sealioning, harassment, doxxing, incitement to violence. Do not make users feel uncomfortable, unwelcome, or afraid'}, {'id': '25', 'text': \"Don't break laws here\", 'hint': \"Don't ask others to break laws here, or admit to breaking laws\"}, {'id': '26', 'text': 'Pornography, Nudity, Gore, illegal content, spam & commercial advertising are forbidden', 'hint': 'Promoting your own projects in moderation is OK'}, {'id': '28', 'text': 'No impersonation or undeclared automated accounts', 'hint': 'Don\\'t claim to be Taylor Swift when you aren\\'t. Mark your account as type \"Bot\" if you are automatically posting'}, {'id': '30', 'text': 'You must be at least 13 years old', 'hint': 'We want to comply with regulations such as the US Child Online Protection Act (COPA), the California Consumer Privacy Act (CCPA), and the UK Age-Appropriate Design Code (AADC)'}]",
         "15536",
         "26"
        ],
        [
         "27",
         "hessen.social",
         "hessen.social",
         "hessen.social ist die Mastodongemeinschaft für alle Hessen:innen und alle, die sich Hessen verbunden fühlen",
         "1558",
         "['de']",
         "[{'id': '1', 'text': 'Sei immer freundlich und höflich. Behandle andere mit Respekt.', 'hint': ''}, {'id': '2', 'text': 'Belästige und beleidige niemanden und unterlasse persönliche Angriffe.Weder allein noch als Gruppe. Das Veröffentlichen oder die Androhung von Veröffentlichung von personen-identifizierenden Informationen (\"doxing\") wird als Belästigung ausgelegt.', 'hint': ''}, {'id': '3', 'text': 'Kontaktiere keine Nutzer:innen die angegeben haben, dass sie nicht kontaktiert werden möchten.', 'hint': ''}, {'id': '4', 'text': 'Die Nutzung oder Befürwortung von rassistischer, sexistischer, homophober, transphober, behindertenfeindlicher und anderweitig diskriminierender oder hasserfüllter Sprache wird nicht geduldet', 'hint': ''}, {'id': '5', 'text': 'Verharmlosende oder gutheißende Inhalte zu Weißer Vorherrschaft, Antisemitismus, Transphobie oder anderen hasserfüllten Ideologien werden nicht geduldet.', 'hint': ''}, {'id': '6', 'text': 'Nochmal ganz deutlich: Wir dulden keine nationalistische Propaganda, keine Nazi-Symbolik und keine Förderung der Ideologie des Nationalsozialismus!', 'hint': ''}, {'id': '7', 'text': 'Poste keine pornographischen oder sexualisierten Inhalte. Dazu gehören auch Witze und Kommentare.', 'hint': ''}, {'id': '8', 'text': 'Halte dich an die in Deutschland geltenden Gesetze (verbietet u.a. auch gewaltverherrlichende Inhalte).', 'hint': ''}, {'id': '9', 'text': 'Veröffentliche keinen Spam oder kommerzielle Werbung. Kommerzielle Werbung in diesem Zusammenhang bedeutet, wenn die veröffentlichten Inhalte keinen persönlichen Bezug aufweisen und eindeutig dazu gedacht sind, direkt oder indirekt Geld zu erwirtschaften.', 'hint': ''}, {'id': '10', 'text': 'Nutze Inhaltswarnungen für Posts und NSFW-Marker bei Medien im Falle von kontroversen, aufrührerischen oder triggernden Themen', 'hint': ''}, {'id': '11', 'text': 'Keine Killerphrasen, Scheinargumente, schwarze Rhetorik oder Sophismus', 'hint': ''}, {'id': '12', 'text': 'Diskutiere Moderationsentscheidungen nicht zuerst in öffentlichen Toots', 'hint': ''}, {'id': '13', 'text': 'Nachgewiesene Falschinformationen/Fakenews (inkl. Verschwörungstheorien) sind hier unerwünscht', 'hint': ''}]",
         "10172",
         "27"
        ],
        [
         "28",
         "mastodon.eus",
         "Mastodon.eus",
         "Mastodon.eus euskara eta euskal kulturaren komunitatearentzat sortutako Mastodon instantzia bat da.\n\n2018an hauek sortua: Azkue Fund, Dinahosting, iametza, Laborategia.eus, PuntuEUS eta Talaios Koop",
         "1287",
         "['eu']",
         "[{'id': '1', 'text': 'Mastodon.eus euskaraz bizi da. Ahal bezain beste euskara erabili.', 'hint': ''}, {'id': '2', 'text': 'Debekatuak daude: faxismoa, arrazakeria, sexismoa, xenofobia, homofobia, transfobia.', 'hint': ''}, {'id': '3', 'text': 'Ez inor iraindu edo jazarri.', 'hint': ''}]",
         "5562",
         "28"
        ],
        [
         "29",
         "social.linux.pizza",
         "Linux.Pizza",
         "A instance dedicated - but not limited - to people with an interest in the GNU+Linux ecosystem and/or general tech. Sysadmins to enthusiasts, creators to movielovers - Welcome!\n\n",
         "1252",
         "['en']",
         "[{'id': '1', 'text': 'Dont post NSFW without CW', 'hint': ''}, {'id': '2', 'text': 'Dont post ads without permission\\r\\n', 'hint': ''}, {'id': '3', 'text': 'Dont promote violence, racism and/or discrimination towards other people of other ethnical backgrounds or sexual orientation (hate speech)', 'hint': ''}, {'id': '4', 'text': 'We dont want crypto-ads here aswell.', 'hint': ''}, {'id': '5', 'text': 'Dont be rude, keep conversations civil and kind.', 'hint': ''}, {'id': '6', 'text': 'All public posts from this instance are indexed by tootfinder.ch.', 'hint': ''}, {'id': '7', 'text': 'Do not flood the timeline with posts. If you still want to do that - please set the posts as \"unlisted\".', 'hint': ''}, {'id': '8', 'text': 'No vatniks', 'hint': ''}]",
         "11992",
         "29"
        ],
        [
         "30",
         "muenchen.social",
         "muenchen.social - Die erste Mastodon Instanz für München",
         "Hallo auf muenchen.social \nDies ist eine deutschsprachige Mastodon Instanz für München zum tröten, neue Leute kennenlernen, sich auszutauschen und Spass zu haben.",
         "1211",
         "['de']",
         "[{'id': '4', 'text': 'Keine Belästigung, Stalking und/oder Doxxing von anderen. '}, {'id': '5', 'text': 'Rassismus, Sexismus oder Beschimpfungen haben hier nichts verloren.'}, {'id': '6', 'text': ' Diskriminierung von Geschlechtern und sexuellen Minderheiten haben hier auch nichts verloren.'}, {'id': '7', 'text': 'Nationalistische Propaganda, Nazi-Symbolismus oder Förderung der Ideologie des Nationalsozialismus ist verboten. \\r\\n'}, {'id': '8', 'text': 'Aufrufe zu Gewalttaten sind verboten.\\r\\n'}, {'id': '10', 'text': ' Nicht markierter sexueller Inhalt und/oder Gewaltdarstellungen in jeglicher Form sind nicht erlaubt.'}, {'id': '11', 'text': ' Bots, die ohne ihre expliziten Anfragen mit Nutzer interagieren, werden gelöscht. '}, {'id': '12', 'text': 'Übermässige Werbung / Spam / Spamflut von wiederholenden Tröts sind nicht erwünscht. '}, {'id': '13', 'text': 'Falls du einen NSFW-Only Account erstellen möchtest, ziehe eventuell eine andere Instanz in Betracht. Wahrscheinlich sind wir leider nicht geeignet für dich.'}, {'id': '14', 'text': 'Allgemeine Verstöße gegen geltendes Recht in Deutschland.'}, {'id': '17', 'text': 'Gezieltes Misgendering, Deadnaming oder Werbung für sogenannte \"Konversionstherapien\" sind verboten.'}, {'id': '18', 'text': 'Mir ist bewusst, dass ein Verstoß gegen eine der Serverregeln zur Löschung von einzelnen Beiträgen, oder der Stummschaltung/Löschung des gesamten Accounts führen kann und mit dem Anlegen eines Accounts akzeptiere ich alle Regeln. '}]",
         "10999",
         "30"
        ],
        [
         "31",
         "social.cologne",
         "Mastodon",
         "social.cologne is eine Mastodon Instanz für jede:n Kölner:in und alle, die sich mit Köln verbunden fühlen. Betrieben von https://cgnfs.de.",
         "1201",
         "['en']",
         "[{'id': '12', 'text': 'Treat others with respect', 'hint': 'Avoid any form of insult, bullying, or discrimination, including but not limited to racist, sexist, homophobic, transphobic, anti-Semitic, and misogynistic statements or actions against others.'}, {'id': '13', 'text': 'Use appropriate tone', 'hint': 'Use a respectful and friendly tone, even if you disagree with someone.'}, {'id': '14', 'text': 'Respect privacy', 'hint': 'Do not share personal information without explicit permission and respect the privacy rights of others.'}, {'id': '15', 'text': 'Comply with applicable law', 'hint': 'Do not publish any illegal content.'}, {'id': '16', 'text': 'Avoid misinformation', 'hint': 'Do not share false or misleading information.'}, {'id': '17', 'text': 'No spam posts', 'hint': 'Refrain from publishing unwanted advertising or similar content that does not fit the community.'}, {'id': '19', 'text': 'Mark sensitive content (CW)', 'hint': 'Please mark any content that may contain common triggers, is sexually explicit or violent as sensitive (CW) to ensure the safety of other members. Note: Accounts that exclusively post such content may be limited or banned.'}, {'id': '20', 'text': 'You must be older than 16 years', 'hint': 'According to European law, you must be at least 16 years old to use this instance.'}]",
         "12065",
         "31"
        ],
        [
         "32",
         "flipboard.social",
         "Flipboard",
         "Welcome to Flipboard on Mastodon. A place for our community of curators and enthusiasts to inform and inspire each other.  \nIf you'd like to join please request an invitation via the sign-up page. ",
         "1192",
         "['en']",
         "[{'id': '6', 'text': 'This instance is part of Flipboard and adheres to the same Community Guidelines. You can read them here https://about.flipboard.com/community-guidelines/', 'hint': ''}, {'id': '7', 'text': 'Keep this instance safe, respectful, and fun by not violating the rules.', 'hint': ''}, {'id': '8', 'text': 'Consider how your post might impact others - if it might be received as offensive, painful, or otherwise unwanted, please use a content warning (CW.)', 'hint': ''}, {'id': '34', 'text': 'Misgendering, deadnaming, or promotion of so-called \"conversion therapy\" is prohibited.', 'hint': ''}]",
         "7482",
         "32"
        ],
        [
         "33",
         "livellosegreto.it",
         "Livello Segreto",
         "Livello Segreto è il social etico che ha rispetto di te e del tuo tempo.",
         "1149",
         "['en']",
         "[{'id': '2', 'text': 'No al sessismo', 'hint': ''}, {'id': '3', 'text': 'No al machismo', 'hint': ''}, {'id': '4', 'text': 'No al bullismo', 'hint': ''}, {'id': '5', 'text': \"No alla queerfobia, all'omofobia, alla bifobia, alla lesbofobia, alla transfobia, alla afobia\", 'hint': ''}, {'id': '6', 'text': \"No all'abilismo\", 'hint': ''}, {'id': '7', 'text': 'No al razzismo', 'hint': ''}, {'id': '9', 'text': 'No ai bot*', 'hint': '* in generale è una regola da tenere presente, ma se il bot ha utilità per la community scrivici che si sistema tutto'}, {'id': '10', 'text': 'Usare i CW per: NSFW, SPOILER, GUERRA, POLITICA', 'hint': ''}, {'id': '11', 'text': 'Evitare bestemmie e turpiloquio eccessivo/gratuito', 'hint': ''}, {'id': '12', 'text': 'No pornografia', 'hint': ''}, {'id': '15', 'text': 'Istanza antifascista', 'hint': ''}, {'id': '16', 'text': 'No alla pubblicità e/o agli annunci commerciali (consentiti i progetti personali/indipendenti)', 'hint': ''}, {'id': '17', 'text': 'No al proselitismo religioso', 'hint': ''}]",
         "7673",
         "33"
        ],
        [
         "34",
         "mastodon.green",
         "Mastodon.green",
         "Plant trees while you use Mastodon. A server originally for people in the EU, but now open for anyone in the world",
         "1141",
         "['en']",
         "[{'id': '395', 'text': 'Try 30-days for free, only 1,50 € (+VAT) per month after. No algorithms or ads to waste your time. We use 20 % of membership fees to plant trees. Change your plan or cancel at any time', 'hint': ''}, {'id': '397', 'text': 'Please abide by the community standards', 'hint': ''}, {'id': '398', 'text': 'You can use any official EU language, Icelandic and Norwegian on this server', 'hint': ''}, {'id': '399', 'text': 'No sexually explicit images or video', 'hint': ''}, {'id': '400', 'text': 'No racism, sexism, homophobia, transphobia, xenophobia, or casteism', 'hint': ''}, {'id': '401', 'text': 'No incitement of violence or promotion of violent ideologies', 'hint': ''}, {'id': '402', 'text': 'No harassment, dogpiling or doxxing of other users', 'hint': ''}, {'id': '404', 'text': 'No false or misleading information', 'hint': ''}]",
         "12004",
         "34"
        ],
        [
         "35",
         "mastodont.cat",
         "mastodont.cat, cultura catalana.",
         "Des del 13 d'abril del 2017, el primer i original servidor social en català per a la comunitat de llengua i cultura catalanes d'arreu d'internet.\n",
         "1132",
         "['ca']",
         "[{'id': '2', 'text': 'No és permès fer publicitat ni spam.', 'hint': ''}, {'id': '3', 'text': 'No s\\'accepta l\\'ús de \"crossposters\" (ponts que connecten xarxes diferents).', 'hint': ''}, {'id': '6', 'text': 'Aquest servidor bloqueja totes les instàncies del programari birdsitelive', 'hint': ''}, {'id': '8', 'text': \"La política de retenció dels fitxers multi mèdia remots és de 30 dies (seràn esborrats automàticament als 30 dies). Els arxius d'usuari seran esborrats als 7 dies. \", 'hint': ''}, {'id': '9', 'text': 'Està prohibida qualsevol mostra de racisme, xenofòbia o homofòbia contra cap usuari local o remot. ', 'hint': ''}, {'id': '10', 'text': \"L'ús d'altres llengües diferents del català en la majoria dels tuts publicats, pot provocar un avís i fins i tot suspensió del compte si és repetitiu.\", 'hint': ''}, {'id': '11', 'text': 'Està prohibida qualsevol mostra de nuesa, excepte quan aquesta tingui una procedència artística reconeguda i estigui degudament referenciada en el contingut del missatge', 'hint': ''}, {'id': '12', 'text': \"Està prohibida qualsevol mostra explícita de contingut sexual o pornogràfic, i especialment aquelles que continguin pederàstia o impliquin a menors d'edat, fet que a més serà denunciat a les autoritats pertinents.\", 'hint': ''}, {'id': '13', 'text': 'No és permeten faltes de respecte contra usuaris locals o remots. ', 'hint': ''}, {'id': '14', 'text': \"Els serveis addicionals de Blog (Wordpress) i xmpp (Ejabberd), estan dedicats als usuaris actius. Els comptes registrats en aquests serveis addicionals seran esborrats si es detecta una falta d'activitat, a mastodont.cat i en els darrers 30 dies, dels usuaris locals relacionats.\", 'hint': ''}]",
         "8624",
         "35"
        ],
        [
         "36",
         "indieweb.social",
         " Indieweb.Social ",
         "INDIEWEB.SOCIAL is an instance focused on the evolution of #Openweb, #Indieweb, #Fediverse, #Mastodon, #Humanetech and #Calm technologies. ",
         "1123",
         "['en']",
         "[{'id': '1', 'text': 'No spam or excessive self-promoting in posts.', 'hint': ''}, {'id': '2', 'text': 'No bots that are not labeled as such in their profile.', 'hint': ''}, {'id': '3', 'text': 'Keep conversations civil and respectful even in disagreement.', 'hint': ''}, {'id': '4', 'text': 'No racism, sexism, homophobia, transphobia, xenophobia, anti-Semitism, or casteism (including targeted misgendering, deadnaming, or promotion of so-called \"conversion therapy\").', 'hint': ''}, {'id': '5', 'text': 'No sexually explicit or violent posts or media allowed', 'hint': ''}, {'id': '6', 'text': 'No incitement of violence or promotion of violent ideologies', 'hint': ''}, {'id': '7', 'text': 'No illegal content.', 'hint': ''}]",
         "11825",
         "36"
        ],
        [
         "37",
         "nerdculture.de",
         "NerdCulture",
         "Be excellent to each other, live humanism, no nazis, no hate speech. Not only for nerds, but the domain is somewhat cool. ;)\nNo bots in general. Languages: DE, EN, FR, NL, ES, IT",
         "1109",
         "['en']",
         "[{'id': '1', 'text': 'Be friendly and polite to each other', 'hint': ''}, {'id': '2', 'text': 'No hate speech, no discrimination of others, regardless of their age, gender, nationality or whatever', 'hint': ''}, {'id': '3', 'text': 'No spamming of any kind.', 'hint': ''}, {'id': '4', 'text': \"Don't annoy others and don't get easily annoyed by others.\", 'hint': ''}, {'id': '5', 'text': 'No advertisements of commercial products.', 'hint': ''}, {'id': '6', 'text': 'No distribution of copyrighted material.', 'hint': ''}, {'id': '7', 'text': \"Do not upload material for which you don't have the rights\", 'hint': ''}, {'id': '8', 'text': 'No automated posts by bots, except when you have permission to do so by the server admins', 'hint': ''}, {'id': '9', 'text': \"Don't abuse this service or server.\", 'hint': ''}, {'id': '10', 'text': 'Treat other how you want to be treated by them - with respect!', 'hint': ''}, {'id': '11', 'text': 'This is a service running on a private server and as a friendly user you are welcome to use this service, but in the end the server admin can cancel user accounts and will do when the user misbehaves. The admin will decide in the end. ', 'hint': ''}, {'id': '12', 'text': \"Valid mail address required! You'll receive reminder mail after 6 months of inactivity to log in again. If you don't react to those mails, your account will be deleted after 7 months of inactivity. \", 'hint': ''}, {'id': '13', 'text': 'Allowed languages are German and English as main languages while as the following languages are tolerated: Dutch, French, Spanish, Italian.', 'hint': ''}, {'id': '14', 'text': 'This service is free of cost for you.\\r\\nHowever offering this service does have cost implications. If you can afford some cents per week it would be great when you could contribute in sharing the server costs. Of course this voluntarily for you. ', 'hint': ''}, {'id': '16', 'text': \"No free-speech extremists, no far-right extremists, no nationalists. This includes people that elect or support such political parties like AfD in Germany, Fratelli d'Italia in Italy or Rassemblement National in France, etc.. If you support these parties, this instance is not for you. \", 'hint': ''}, {'id': '18', 'text': 'Alt Texts for Pictures encouraged. Please conduct descriptive texts for pictures you upload (Alt Texts). This helps visually impaired users and others enormously in their online life. ', 'hint': ''}]",
         "7163",
         "37"
        ],
        [
         "38",
         "ieji.de",
         "ieji.de",
         "ieji.de is a generalistic mastodon instance, with the goal of being the fastest mastodon instance in Europe and with a focus on user privacy, like being usable via the tor network.",
         "1105",
         "['en']",
         "[{'id': '1', 'text': 'No explicit content allowed', 'hint': ''}, {'id': '2', 'text': 'Erotic content must have content warning', 'hint': ''}, {'id': '3', 'text': 'No harassment allowed', 'hint': ''}, {'id': '4', 'text': 'No backlink accounts allowed', 'hint': ''}, {'id': '5', 'text': 'Unlawful content is forbidden', 'hint': ''}]",
         "15114",
         "38"
        ],
        [
         "39",
         "social.anoxinon.de",
         "social.anoxinon.de - Mastodon",
         "Die offizielle Mastodon Instanz des Vereins Anoxinon e.V.",
         "1087",
         "['de']",
         "[{'id': '1', 'text': 'Geht respektvoll und nett miteinander um!', 'hint': ''}, {'id': '2', 'text': 'Beiträge mit rassistischen, illegalen, pornografischen oder gewaltverherrlichenden Inhalten sind strengstens untersagt. Zudem gelten allgemein deutsche Gesetze.', 'hint': ''}, {'id': '3', 'text': 'Beleidigungen und Belästigungen sind generell verboten. Darunter fallen auch jegliche Formen der Diffamierung, Hetze, übler Nachrede und dergleichen.', 'hint': ''}, {'id': '4', 'text': 'Konten für kommerzielle Zwecke erfordern eine schriftliche Erlaubnis unsererseits. Bis auf RSS-Bots \\r\\nbenötigen alle anderen die schriftliche Zustimmung von unserer Seite.', 'hint': ''}, {'id': '5', 'text': 'Zuwiderhandlungen gegen diese Regeln werden mit Ermahnung, Verwarnung oder Sperre geahndet.', 'hint': ''}]",
         "10317",
         "39"
        ],
        [
         "40",
         "metalhead.club",
         "Metalhead.club",
         "Metalhead.club is a Mastodon instance hosted in Germany and powered by 100% green energy.",
         "747",
         "['en']",
         "[{'id': '1', 'text': 'No pornography', 'hint': ''}, {'id': '3', 'text': 'No insulting / hate speech', 'hint': ''}, {'id': '4', 'text': 'No racism', 'hint': ''}, {'id': '5', 'text': 'No extremist political content', 'hint': ''}, {'id': '6', 'text': 'This server is for humans, not for bots! If you intend to bulk-send posts, this instance is not for you. (use botsin.space)', 'hint': ''}, {'id': '7', 'text': 'Upload / distribute only content that you have permission for.', 'hint': ''}, {'id': '8', 'text': 'No ads, except for featuring your own creative Metal music content (music, articles, reviews, ...)', 'hint': ''}, {'id': '10', 'text': 'Misusing unrelated hashtags on posts for better visibility is prohibited ', 'hint': ''}]",
         "5776",
         "40"
        ],
        [
         "41",
         "tkz.one",
         "TKZ.One",
         "La comunidad Mastodon más grande en Español para gamers, otakus y geeks. Libre de toxicidad. Contenido de anime, manga, videojuegos, tecnología, cómics, literatura, cine... ¡Únete a la familia!",
         "728",
         "['es']",
         "[{'id': '11', 'text': 'Intenta mantener tu perfil y publicaciones mayormente en sintonía con la temática de la instancia: videojuegos, anime, manga, comics, series, cine, gastronomía, literatura, viajes y demás hobbies y temas relacionados.', 'hint': ''}, {'id': '12', 'text': 'Sé amable y evita mal comportamiento, incluyendo racismo y discriminación de cualquier índole; las cuentas disruptivas podrían ser suspendidas. Trata a la gente como te gustaría que te tratasen.', 'hint': ''}, {'id': '13', 'text': 'Habla principalmente en español, con opción de otros idiomas del territorio español; usa lenguaje inclusivo si lo deseas.', 'hint': ''}, {'id': '14', 'text': 'No compartas pornografía infantil ni violencia; evita contenido ilegal bajo leyes españolas.', 'hint': ''}, {'id': '15', 'text': 'Eres responsable de tus comentarios y publicaciones.', 'hint': ''}, {'id': '16', 'text': 'Evita promover activismo, política institucional y proselitismo religioso. Se permiten temas políticos contextualizados y relacionados con la temática de la instancia. La promoción de nazismo, supremacía e ideologías ultra, religión o magufadas están estrictamente prohibidas.', 'hint': ''}, {'id': '17', 'text': 'No compartas información falsa intencionalmente. En caso de hacerlo, retira cualquier bulo compartido si se verifica como tal.', 'hint': ''}, {'id': '18', 'text': 'El contenido de adultos salvo la pornografía explícita, está permitido solo como forma de arte con la etiqueta CW, si es de tu autoría y se relaciona con la temática.', 'hint': ''}, {'id': '19', 'text': 'Prohibido las cuentas centradas en el crossposting. Las cuentas que abusen de esta práctica pueden ser suspendidas.', 'hint': ''}, {'id': '20', 'text': 'Las cuentas que promocionen SPAM, phishing o criptoactivos están prohibidas. ', 'hint': ''}, {'id': '21', 'text': 'El uso de IA para generar contenido es permitido si no se dedica a la promoción de dicho contenido. Las cuentas que promuevan activamente contenido generado por IA, tanto en el servidor como en sitios externos, serán prohibidas y pueden ser advertidas o canceladas por el equipo de moderación.', 'hint': ''}, {'id': '22', 'text': 'El equipo de moderación se reserva el derecho de actuar como crea conveniente según las circunstancias y siempre velando por el buen funcionamiento para mantener la concordia en la instancia por algún motivo que no se cite expresamente en las normas anteriores.', 'hint': ''}]",
         "37079",
         "41"
        ],
        [
         "42",
         "masto.nu",
         "masto.nu",
         "General purpose Mastodon server. All languages are welcome but English, Dutch and Spanish are preferred.",
         "725",
         "['en']",
         "[{'id': '7', 'text': 'No harassment, dogpiling or doxxing of other users.', 'hint': ''}, {'id': '8', 'text': 'No impersonation of other people, companies, organizations, brands, etc.', 'hint': ''}, {'id': '9', 'text': 'No racism, sexism, homophobia, transphobia, xenophobia, or casteism.', 'hint': ''}, {'id': '10', 'text': 'No incitement of violence or advocacy of violent acts/ideologies.', 'hint': ''}, {'id': '11', 'text': 'No advertising, spam or excessive promotion.', 'hint': ''}, {'id': '12', 'text': 'No sexually explicit or graphically violent media.', 'hint': ''}, {'id': '13', 'text': 'No intentionally false or misleading information.', 'hint': ''}, {'id': '14', 'text': 'No illegal or unlawful content', 'hint': ''}, {'id': '15', 'text': 'Content created by others must be attributed, and the use of AI must be disclosed. Profiles that only post AI-generated content will not be tolerated.', 'hint': ''}]",
         "24284",
         "42"
        ],
        [
         "43",
         "mastodon.ml",
         "Mastodon.ml",
         "Русскоязычный сервер социальной сети Mastodon. Зона общения, свободная от рекламы и шпионажа, теперь и на русском языке.",
         "715",
         "['ru']",
         "[{'id': '7', 'text': 'Относитесь к другим пользователям с уважением. Харрасмент, разжигание ненависти (hate speech), трансфобия, гомофобия, расизм, сексизм, фашизм и прочие проявления шовинизма — запрещены', 'hint': ''}, {'id': '8', 'text': 'Не разглашать чужую персональную информацию без согласия. Это относится как к пользователям сервера так и к людям вне него.', 'hint': ''}, {'id': '9', 'text': 'Администрация сервера/модерационный состав будет рассматривать и решать спорные случаи исходя из ситуации и с учётом предыдущих жалоб на пользователей.', 'hint': ''}, {'id': '10', 'text': 'Уважаемые щитпостеры, просим вас знать меру и не засорять ленты спамом. Излишнее злоупотребление будет наказываться.', 'hint': ''}, {'id': '11', 'text': 'Проставляйте Content Warning и NSFW-метки на спорный контент (политика, описание/изображения жестоких сцен, сцен насилия, крови, порнографии, эротики, хентая, использование оскорбительной лексики, и.т.п)', 'hint': ''}, {'id': '13', 'text': 'Свобода слова не означает вседозволенность', 'hint': ''}, {'id': '14', 'text': 'Размещение рекламного контента, рекламирование внешних ресурсов или размещение ссылок на внешние ресурсы с целью рекламы будет рассматриваться администрацией. В некоторых случаях могут быть применены меры', 'hint': ''}, {'id': '15', 'text': 'Убедительная просьба: заполняйте описания картинок. Это не обязательно, но очень сильно выручает незрячих пользователей, и не отнимает много времени', 'hint': ''}, {'id': '17', 'text': 'ПОДАЧА ЗАЯВКИ НА РЕГИСТРАЦИЮ: ЗАЯВКИ МЕНЕЕ ПЯТИ СЛОВ ОТКЛОНЯЮТСЯ АВТОМАТИЧЕСКИ! Если не знаете, что написать, пишите о себе, как узнали о нас, чем вам интересен Мастодон, чем увлекаетесь.', 'hint': ''}]",
         "3506",
         "43"
        ],
        [
         "44",
         "mstdn.business",
         "Mastodon For Business",
         "Business-friendly Mastodon server,open for everyone interested to contribute with their real name, business, brand, or startup to build a professional community. Hosted on Hetzner Cloud in Helsinki.",
         "699",
         "['en']",
         "[{'id': '2', 'text': 'No NSFW or illegal content.'}, {'id': '3', 'text': 'No racism, sexism, homophobia, transphobia, or xenophobia.'}, {'id': '4', 'text': 'Do not share intentionally false or misleading information.'}, {'id': '5', 'text': 'No spam or excessive promotion.'}, {'id': '6', 'text': 'Brands are welcome. For personal accounts use your real name.'}]",
         "27114",
         "44"
        ],
        [
         "45",
         "ravenation.club",
         "Mastodon",
         "ravenation.club is an instance for all the ravers in the universe. Anyone who listens to electronic music (or not) is welcome. Operated by https://cgnfs.de",
         "665",
         "['en']",
         "[{'id': '11', 'text': 'Treat others respectfully', 'hint': 'Refrain from any form of insult, bullying or discrimination, including but not limited to racist, sexist, homophobic, transphobic, anti-Semitic and misogynistic remarks or actions toward others.'}, {'id': '12', 'text': 'Use an appropriate tone', 'hint': 'Use a respectful and friendly tone, even if you disagree with someone.'}, {'id': '13', 'text': 'Respect the privacy of others', 'hint': 'Do not share personal information without explicit permission and respect the privacy rights of others.'}, {'id': '14', 'text': 'Compliance with applicable law', 'hint': 'Do not post illegal content.'}, {'id': '15', 'text': 'Avoid misinformation', 'hint': 'Do not share false or misleading information.'}, {'id': '16', 'text': 'No spam posts', 'hint': 'Refrain from posting unsolicited advertisements or similar content that does not fit the community.'}, {'id': '17', 'text': 'Mark sensitive content (CW)', 'hint': 'Please mark any content that may contain common triggers, is sexually explicit or violent as sensitive (CW) to ensure the safety of other members. Note: Accounts that exclusively post such content may be limited or banned.'}, {'id': '18', 'text': 'You must be older than 16 years', 'hint': 'According to European law, you must be at least 16 years old to use this instance.'}]",
         "27827",
         "45"
        ],
        [
         "46",
         "dresden.network",
         "Dresden.Network",
         "dresden.network ist eine Mastodon Instanz für alle aus Dresden und Umgebung, dennoch offen für alle. Das Team besteht aus @markus@dresden.network und @ueckueck@dresden.network.",
         "660",
         "['de']",
         "[{'id': '1', 'text': 'kein(e) Belästigung, Stalking, Doxxing', 'hint': ''}, {'id': '2', 'text': 'keine Verbreitung von Verschwörungstheorien und/oder deren Befürwortung ', 'hint': ''}, {'id': '3', 'text': 'kein Rassismus, Sexismus, Beschimpfungen oder deren Befürwortung ', 'hint': ''}, {'id': '4', 'text': 'keine Diskriminierung von Geschlechtern und sexuellen Minderheiten oder deren Befürwortung ', 'hint': ''}, {'id': '5', 'text': 'keine gewalttätige nationalistische Propaganda, Nazi-Symbolismus oder Förderung der Ideologie des Nationalsozialismus ', 'hint': ''}, {'id': '6', 'text': 'Leute kontaktieren, die klar gemacht haben, dass sie keinen Kontakt wollen. Dogpiling ', 'hint': ''}, {'id': '7', 'text': 'keine nicht markierte Werbung ', 'hint': ''}, {'id': '8', 'text': 'keine automatisierte und/oder übermäßige Werbung ', 'hint': ''}, {'id': '9', 'text': 'kein sexueller Inhalt oder Gewaltdarstellungen ', 'hint': ''}, {'id': '10', 'text': 'keine Bots, die ohne ihre expliziten Anfragen mit Nutzer interagieren ', 'hint': ''}]",
         "3862",
         "46"
        ],
        [
         "47",
         "sunny.garden",
         "Sunny Garden",
         "sunny.garden is a community for indie creators who draw, paint, sculpt, write, design, program, play, sing or build, and anyone else who thinks that sounds like a nice place to be.",
         "581",
         "['en']",
         "[{'id': '1', 'text': 'Media containing nudity must be marked with a content warning.', 'hint': 'Profile image, header, and content must be appropriate for all audiences.'}, {'id': '2', 'text': 'No hate speech, derogatory language, or the use of slurs directed at marginalized groups or people. ', 'hint': 'No racism, sexism, homophobia, transphobia, ableism, xenophobia. No fascist, neo-nazi or alt-right content.'}, {'id': '3', 'text': 'No incitement or promotion of violence including self-harm and suicide.', 'hint': ''}, {'id': '4', 'text': 'No harassment, dogpiling, or doxxing.', 'hint': 'Ad hominem, personal attacks or mudslinging will be considered harassment.  You are free to criticize nations, corporations, billionaires, or high profile political figures; though other rules (eg. no racism, hate-speech, ableism) still apply.'}, {'id': '5', 'text': 'No content illegal in Canada.', 'hint': ''}, {'id': '6', 'text': 'Do not share intentionally false or misleading information.', 'hint': ''}, {'id': '7', 'text': 'No \"AI\" Art, no NFTs, no crypto, no blockchain.', 'hint': 'See About page for further details on \"AI\" Art policy.'}, {'id': '8', 'text': 'Respect personal boundaries.', 'hint': 'Don\\'t pry into people\\'s personal lives. Do not be \"a creep\".'}, {'id': '9', 'text': 'No explicit sexual, violent or gory content.', 'hint': ''}, {'id': '10', 'text': 'No sexual depictions of minors.', 'hint': ''}, {'id': '11', 'text': 'No proselytizing.', 'hint': ''}]",
         "2728",
         "47"
        ],
        [
         "48",
         "bark.lgbt",
         "Bark!",
         "Furry focused instance for critters that like to bark!\nLGBTQ+ run and friendly, active moderation",
         "546",
         "['en']",
         "[{'id': '1', 'text': 'No discrimination, bigotry, transphobia, homophobia, etc of any kind is accepted', 'hint': ''}, {'id': '2', 'text': 'No discussion of illegal topics or sharing of pirated data.', 'hint': ''}, {'id': '5', 'text': 'Any content that would be considered Illegal in the European economic area is strictly banned', 'hint': ''}, {'id': '6', 'text': 'No uncensored NSFW content. Use a CW', 'hint': ''}, {'id': '7', 'text': 'You are at least 18 years of age during sign-up', 'hint': ''}, {'id': '8', 'text': 'No zoophillia / Loli', 'hint': ''}, {'id': '11', 'text': 'No NSFW profile pictures, headers and usernames', 'hint': ''}, {'id': '46', 'text': 'No posting of AI art', 'hint': ''}]",
         "6377",
         "48"
        ],
        [
         "49",
         "urbanists.social",
         "Urbanists.Social",
         "We're a server for people who like bikes, transit, and walkable cities. Let's get to know each other!",
         "540",
         "['en']",
         "[{'id': '1', 'text': \"Please don't post anything that's illegal in the US or EU.\", 'hint': ''}, {'id': '3', 'text': 'No racism, sexism, homophobia, transphobia, xenophobia, or any other form of discrimination.', 'hint': ''}, {'id': '8', 'text': 'Punch Nazis, trebuchet TERFs. Any posts or usage containing nazi symbolism or ideology, or which contains \"gender critical\" / \"just asking questions\" shit will get you banned immediately and without recourse.', 'hint': ''}, {'id': '9', 'text': 'No promotion of crypto or NFTs. ', 'hint': ''}, {'id': '10', 'text': 'NSFW content must be behind a content warning / marked as sensitive. Your profile (avatar, header, display name, etc.) must be SFW.', 'hint': ''}, {'id': '11', 'text': \"Don't abuse the instance or use it to abuse other federated instances. Don't try to break things.\", 'hint': ''}, {'id': '12', 'text': \"Be considerate. Keep in mind that any public post you make will appear in our public timeline and the public timelines of other instances federated with Urbanists.Social. Use content warnings where appropriate. Use NSWF tags where appropriate. Don't be a jerk about it.\", 'hint': ''}, {'id': '13', 'text': \"Bots are allowed, but don't make them annoying. Admins will ask you to move your bot to another instance if it becomes a problem.\", 'hint': ''}, {'id': '14', 'text': 'Do not harass other users.', 'hint': ''}]",
         "6398",
         "49"
        ]
       ],
       "shape": {
        "columns": 8,
        "rows": 140
       }
      },
      "text/html": [
       "<div>\n",
       "<style scoped>\n",
       "    .dataframe tbody tr th:only-of-type {\n",
       "        vertical-align: middle;\n",
       "    }\n",
       "\n",
       "    .dataframe tbody tr th {\n",
       "        vertical-align: top;\n",
       "    }\n",
       "\n",
       "    .dataframe thead th {\n",
       "        text-align: right;\n",
       "    }\n",
       "</style>\n",
       "<table border=\"1\" class=\"dataframe\">\n",
       "  <thead>\n",
       "    <tr style=\"text-align: right;\">\n",
       "      <th></th>\n",
       "      <th>domain</th>\n",
       "      <th>title</th>\n",
       "      <th>description</th>\n",
       "      <th>active_month</th>\n",
       "      <th>languages</th>\n",
       "      <th>rules</th>\n",
       "      <th>total_users</th>\n",
       "      <th>server_id</th>\n",
       "    </tr>\n",
       "  </thead>\n",
       "  <tbody>\n",
       "    <tr>\n",
       "      <th>0</th>\n",
       "      <td>mastodon.social</td>\n",
       "      <td>Mastodon</td>\n",
       "      <td>The original server operated by the Mastodon g...</td>\n",
       "      <td>327503</td>\n",
       "      <td>[en]</td>\n",
       "      <td>[{'id': '1', 'text': 'Sexually explicit or vio...</td>\n",
       "      <td>2711879</td>\n",
       "      <td>0</td>\n",
       "    </tr>\n",
       "    <tr>\n",
       "      <th>1</th>\n",
       "      <td>mstdn.social</td>\n",
       "      <td>Mastodon 🐘</td>\n",
       "      <td>A general-purpose Mastodon server with a 500 c...</td>\n",
       "      <td>14546</td>\n",
       "      <td>[en]</td>\n",
       "      <td>[{'id': '2', 'text': 'Sexually explicit or vio...</td>\n",
       "      <td>260323</td>\n",
       "      <td>1</td>\n",
       "    </tr>\n",
       "    <tr>\n",
       "      <th>2</th>\n",
       "      <td>infosec.exchange</td>\n",
       "      <td>Infosec Exchange</td>\n",
       "      <td>A Mastodon instance for info/cyber security-mi...</td>\n",
       "      <td>13319</td>\n",
       "      <td>[en]</td>\n",
       "      <td>[{'id': '1', 'text': 'Do unto others as you th...</td>\n",
       "      <td>75725</td>\n",
       "      <td>2</td>\n",
       "    </tr>\n",
       "    <tr>\n",
       "      <th>3</th>\n",
       "      <td>mas.to</td>\n",
       "      <td>mas.to</td>\n",
       "      <td>Hello! mas.to is a fast, up-to-date and fun Ma...</td>\n",
       "      <td>11889</td>\n",
       "      <td>[en]</td>\n",
       "      <td>[{'id': '9', 'text': 'No discrimination, inclu...</td>\n",
       "      <td>183608</td>\n",
       "      <td>3</td>\n",
       "    </tr>\n",
       "    <tr>\n",
       "      <th>4</th>\n",
       "      <td>piaille.fr</td>\n",
       "      <td>Piaille</td>\n",
       "      <td>Piaille.fr est un serveur mastodon public fran...</td>\n",
       "      <td>9221</td>\n",
       "      <td>[fr]</td>\n",
       "      <td>[{'id': '1', 'text': 'Conformément aux lois fr...</td>\n",
       "      <td>40869</td>\n",
       "      <td>4</td>\n",
       "    </tr>\n",
       "    <tr>\n",
       "      <th>...</th>\n",
       "      <td>...</td>\n",
       "      <td>...</td>\n",
       "      <td>...</td>\n",
       "      <td>...</td>\n",
       "      <td>...</td>\n",
       "      <td>...</td>\n",
       "      <td>...</td>\n",
       "      <td>...</td>\n",
       "    </tr>\n",
       "    <tr>\n",
       "      <th>135</th>\n",
       "      <td>ceilidh.online</td>\n",
       "      <td>Ceilidh Online</td>\n",
       "      <td>Ceilidh.Online is meant to be a safe gathering...</td>\n",
       "      <td>11</td>\n",
       "      <td>[en]</td>\n",
       "      <td>[{'id': '2', 'text': 'Do not engage in hate sp...</td>\n",
       "      <td>42</td>\n",
       "      <td>135</td>\n",
       "    </tr>\n",
       "    <tr>\n",
       "      <th>136</th>\n",
       "      <td>mastodon.bahia.no</td>\n",
       "      <td>Bahia.no - A Bahia no Mastodon!</td>\n",
       "      <td>Bahia.no - aqui, todo mundo é baiano! Se você ...</td>\n",
       "      <td>10</td>\n",
       "      <td>[pt-BR]</td>\n",
       "      <td>[{'id': '1', 'text': 'Idiomas permitidos: Baia...</td>\n",
       "      <td>15</td>\n",
       "      <td>136</td>\n",
       "    </tr>\n",
       "    <tr>\n",
       "      <th>137</th>\n",
       "      <td>dariox.club</td>\n",
       "      <td>DARiOX</td>\n",
       "      <td>A safe space for tech-centered LGBTQI+ folks a...</td>\n",
       "      <td>9</td>\n",
       "      <td>[en]</td>\n",
       "      <td>[{'id': '2', 'text': 'No illegal content', 'hi...</td>\n",
       "      <td>150</td>\n",
       "      <td>137</td>\n",
       "    </tr>\n",
       "    <tr>\n",
       "      <th>138</th>\n",
       "      <td>mastodon.mg</td>\n",
       "      <td>Mastodon Madagascar</td>\n",
       "      <td>La première instance malgache de Mastodon.</td>\n",
       "      <td>6</td>\n",
       "      <td>[fr]</td>\n",
       "      <td>[{'id': '1', 'text': 'Cette instance étant héb...</td>\n",
       "      <td>113</td>\n",
       "      <td>138</td>\n",
       "    </tr>\n",
       "    <tr>\n",
       "      <th>139</th>\n",
       "      <td>wxw.moe</td>\n",
       "      <td>呜呜 w(&gt; ʌ &lt;)w</td>\n",
       "      <td>一个萌萌哒 泛ACGN 实例，欢迎安家 ~</td>\n",
       "      <td>3381</td>\n",
       "      <td>[en]</td>\n",
       "      <td>[{'id': '67', 'text': '拒绝真人不雅内容 / No inappropr...</td>\n",
       "      <td>23662</td>\n",
       "      <td>139</td>\n",
       "    </tr>\n",
       "  </tbody>\n",
       "</table>\n",
       "<p>140 rows × 8 columns</p>\n",
       "</div>"
      ],
      "text/plain": [
       "                domain                            title  \\\n",
       "0      mastodon.social                         Mastodon   \n",
       "1         mstdn.social                       Mastodon 🐘   \n",
       "2     infosec.exchange                 Infosec Exchange   \n",
       "3               mas.to                           mas.to   \n",
       "4           piaille.fr                          Piaille   \n",
       "..                 ...                              ...   \n",
       "135     ceilidh.online                   Ceilidh Online   \n",
       "136  mastodon.bahia.no  Bahia.no - A Bahia no Mastodon!   \n",
       "137        dariox.club                           DARiOX   \n",
       "138        mastodon.mg              Mastodon Madagascar   \n",
       "139            wxw.moe                     呜呜 w(> ʌ <)w   \n",
       "\n",
       "                                           description  active_month  \\\n",
       "0    The original server operated by the Mastodon g...        327503   \n",
       "1    A general-purpose Mastodon server with a 500 c...         14546   \n",
       "2    A Mastodon instance for info/cyber security-mi...         13319   \n",
       "3    Hello! mas.to is a fast, up-to-date and fun Ma...         11889   \n",
       "4    Piaille.fr est un serveur mastodon public fran...          9221   \n",
       "..                                                 ...           ...   \n",
       "135  Ceilidh.Online is meant to be a safe gathering...            11   \n",
       "136  Bahia.no - aqui, todo mundo é baiano! Se você ...            10   \n",
       "137  A safe space for tech-centered LGBTQI+ folks a...             9   \n",
       "138         La première instance malgache de Mastodon.             6   \n",
       "139                              一个萌萌哒 泛ACGN 实例，欢迎安家 ~          3381   \n",
       "\n",
       "    languages                                              rules  total_users  \\\n",
       "0        [en]  [{'id': '1', 'text': 'Sexually explicit or vio...      2711879   \n",
       "1        [en]  [{'id': '2', 'text': 'Sexually explicit or vio...       260323   \n",
       "2        [en]  [{'id': '1', 'text': 'Do unto others as you th...        75725   \n",
       "3        [en]  [{'id': '9', 'text': 'No discrimination, inclu...       183608   \n",
       "4        [fr]  [{'id': '1', 'text': 'Conformément aux lois fr...        40869   \n",
       "..        ...                                                ...          ...   \n",
       "135      [en]  [{'id': '2', 'text': 'Do not engage in hate sp...           42   \n",
       "136   [pt-BR]  [{'id': '1', 'text': 'Idiomas permitidos: Baia...           15   \n",
       "137      [en]  [{'id': '2', 'text': 'No illegal content', 'hi...          150   \n",
       "138      [fr]  [{'id': '1', 'text': 'Cette instance étant héb...          113   \n",
       "139      [en]  [{'id': '67', 'text': '拒绝真人不雅内容 / No inappropr...        23662   \n",
       "\n",
       "     server_id  \n",
       "0            0  \n",
       "1            1  \n",
       "2            2  \n",
       "3            3  \n",
       "4            4  \n",
       "..         ...  \n",
       "135        135  \n",
       "136        136  \n",
       "137        137  \n",
       "138        138  \n",
       "139        139  \n",
       "\n",
       "[140 rows x 8 columns]"
      ]
     },
     "execution_count": 88,
     "metadata": {},
     "output_type": "execute_result"
    }
   ],
   "source": [
    "df_mastodon = mastodon.df\n",
    "df_mastodon"
   ]
  },
  {
   "cell_type": "code",
   "execution_count": 89,
   "id": "0cdd215c",
   "metadata": {},
   "outputs": [
    {
     "data": {
      "application/vnd.microsoft.datawrangler.viewer.v0+json": {
       "columns": [
        {
         "name": "index",
         "rawType": "int64",
         "type": "integer"
        },
        {
         "name": "domain",
         "rawType": "object",
         "type": "string"
        },
        {
         "name": "title",
         "rawType": "object",
         "type": "string"
        },
        {
         "name": "description",
         "rawType": "object",
         "type": "string"
        },
        {
         "name": "languages",
         "rawType": "object",
         "type": "string"
        },
        {
         "name": "total_users",
         "rawType": "int64",
         "type": "integer"
        },
        {
         "name": "active_month",
         "rawType": "int64",
         "type": "integer"
        },
        {
         "name": "rules",
         "rawType": "object",
         "type": "unknown"
        },
        {
         "name": "server_id",
         "rawType": "int64",
         "type": "integer"
        }
       ],
       "ref": "6341dec3-45fd-447a-9edc-0a41a841e55a",
       "rows": [
        [
         "0",
         "Home",
         "Home",
         "nan",
         "en",
         "307843",
         "51",
         "[]",
         "0"
        ],
        [
         "1",
         "AskReddit",
         "Ask Reddit...",
         "r/AskReddit is the place to ask and answer thought-provoking questions.",
         "es",
         "54701432",
         "9986",
         "['Rule 1 - Questions must be clear and direct and may not use the body textbox', ' Rule 2 - No personal or professional advice requests', ' Rule 3 - Open ended questions only', ' Rule 4 - No personal info', ' Rule 5 - No loaded questions', ' Rule 6 - [Serious] tagged posts are off-limits to jokes or irrelevant replies', ' Rule 7 - No begging for goods or services, or Reddit rewards', ' Rule 8 - Be respectful to other users at all times and conduct your behaviour in a civil manner', ' Rule 9 -  No image only replies or large ascii art', ' Rule 10 - Harmful Misinformation', ' Rule 11 - No spam, machine generated content or karma farming']",
         "1"
        ],
        [
         "2",
         "NoStupidQuestions",
         "No such thing as stupid questions",
         "Ask away!\n\nDisclaimer: This is an anonymous forum so answers may not be correct",
         "en",
         "6021303",
         "4872",
         "['Top level comments must contain a genuine human-written attempt at an answer', ' Please try searching the subreddit for your question first', ' Be Nice', ' No medical advice questions', ' No trolling or joke questions', \" No suicide or 'was I raped/sexual assaulted/sexually harrassed?' questions\", ' No self-promotion, shilling or begging', ' No illegal/unethical or disturbing subject matter', ' No disguised rants, agenda posts or potstirring']",
         "2"
        ],
        [
         "3",
         "BaldursGate3",
         "Baldur's Gate 3",
         "A community all about Baldur's Gate III, the role-playing video game by Larian Studios. BG3 is the third main game in the Baldur's Gate series. Baldur's Gate III is based on a modified version of the Dungeons & Dragons 5th edition (D&D 5e) tabletop RPG ruleset.\n\nGather your party and venture forth!",
         "en",
         "3118378",
         "1384",
         "['Be civil to one another.', ' Respect the opinions of others.', ' Keep your posts relevant.', ' Tag spoilers and NSFW content.', ' Memes, screenshots, and fanart must be flaired.', ' No Spamming', ' No Tav, Build/Multiclass, or LFG Posts outside of their megathreads', ' No piracy allowed. No posting pirated material of any kind but especially 5e material', \" Use modmail for issues or giveaways - don't mention/link or directly message the Mods\", ' No discussion exclusively about 3rd Party wikis', ' No AI generated content or discussion', ' All posts should be in English. Non-English comments are allowed.', ' No asking for game codes/the game/steam accounts', ' No posting about bigoted mods', ' Cosplay posts must now be submitted on Sundays. ']",
         "3"
        ],
        [
         "4",
         "facepalm",
         "now double verified",
         "/r/facepalm - please sir can I have some more?",
         "en",
         "8145733",
         "2345",
         "['No uncivil, bigoted, misogynist, misandrist, racist comments or posts.', ' No Misinformation', ' No Memes', ' No language error posts', ' No jokes/satire/trolls posts', ' Remove identifying personal information', ' No \\'likes\"/\"shares\" posts', ' No \"Reddit Meta\" Posts', ' No posts about politicians being politicians', ' No posts attacking a political party or side']",
         "4"
        ],
        [
         "5",
         "interestingasfuck",
         "Interesting As Fuck",
         "For anything truly interesting as fuck",
         "en",
         "13961838",
         "4038",
         "['Posts MUST be INTERESTING AS FUCK!', ' No Politics', ' Titles must be descriptive and directly related to the content', ' No porn or gore', ' No doxing/witch hunts or meta related posts', ' Provide a source when the title is in doubt', ' No FCoO/flooding', ' No self-promotion', ' Be civil', ' Repost limitations', ' No gossip or tabloid-type material', ' Additional/temporary rules']",
         "5"
        ],
        [
         "6",
         "Damnthatsinteresting",
         "Damn, that's interesting!",
         "For the most interesting things on the internet",
         "en",
         "19795678",
         "3299",
         "['Only \"Damnthatsinteresting\" content', ' Use descriptive titles', ' No racism, bigotry, or hate speech', ' No screenshots/memes/infographics', ' Moderator discretion', ' No reposts', ' No politics', ' Posts making claims must be sourced in comments at time of posting']",
         "6"
        ],
        [
         "7",
         "LivestreamFail",
         "r/LivestreamFail",
         "The place for all things livestreaming.",
         "en",
         "4007153",
         "3960",
         "['Harassment: Civility', ' Harassment: Death & Violence', ' Harassment: Discrimination', ' Harassment: Unsourced Allegations', ' Harassment: Speculation', ' Harassment: Out of Context Content', ' Quality: Duplicate Submissions', ' Quality: Title Guidelines', ' Quality: Old News', ' Spam: Engagement Manipulation', ' Spam:  LSF Meta Posts', ' Spam: LSF Meta Comments', ' Spam: Off-topic', ' Restricted Content', ' Banned Streamers']",
         "7"
        ],
        [
         "8",
         "pics",
         "Reddit Pics",
         "A place for photographs, pictures, and other images.",
         "en",
         "32398953",
         "3539",
         "['No screenshots, AI images, or pictures in which the focus is a screen.', ' No digital elements or text.', ' No pornography or gore.', ' No doxxing or witch-hunts.', ' Titles must obey all relevant rules.', ' Only approved image-hosts.', ' No GIFs or videos.', ' Remain civil.', ' No progress-pictures.', ' No FCoO or flooding.', ' Reposts are subject to limitations.', ' No self-promotional accounts.']",
         "8"
        ],
        [
         "9",
         "Palworld",
         "Palworld",
         "[Unaffiliated with Pocketpair] \nPalworld is a brand-new multiplayer, open-world survival crafting game where you can befriend and collect mysterious creatures called \"Pals\" in a vast new world! Make your Pals fight, build, farm, work in factories, and more!",
         "en",
         "722697",
         "88",
         "['Respect and Courtesy', ' Relevancy', ' No Low Effort Content or Spamming', ' No NSFW or Generally Inappropriate Content', ' Self Promotion Guidelines', ' No Sales, Advertisements, or Content Involving Monetary Exchange or Tender.', ' Art Submission Guidelines', ' English Only', ' Piracy, Hacks, and Cheating']",
         "9"
        ],
        [
         "10",
         "AmItheAsshole",
         "Am I the Asshole? ",
         "A catharsis for the frustrated moral philosopher in all of us, and a place to finally find out if you were wrong in an argument that's been bothering you. Tell us about any non-violent conflict you have experienced; give us both sides of the story, and find out if you're right, or you're the asshole. \n\nSee our ~~*Best Of*~~ \"Most Controversial\" at /r/AITAFiltered!",
         "en",
         "24179747",
         "3163",
         "['Be Civil', ' Voting Rules', ' Accept Your Judgment', ' Never Delete An Active Discussion', ' No Violeпce', ' How To Post', ' Post Interpersonal Conflicts', ' No Shitposts, No AI', ' Do Not Ask For Advice', ' Updates and META posts are restricted', ' No Partings/Relationship/Sex/Reproductive Autonomy Posts', ' This Is Not A Debate Sub', ' No Revenge Stories', ' No Medical Conflicts', ' Review the FAQ Before Participating']",
         "10"
        ],
        [
         "11",
         "mildlyinfuriating",
         "jukmifgguggh",
         "jugkfmghgug",
         "en",
         "10478887",
         "3795",
         "['Be civil. Respect Reddiquette and follow Reddit sitewide rules.', ' No memes, overdone references, price complaints, text-heavy pictures, or other low-quality posts.  ', ' No Reddit meta posts.', \" No reposts under 6 months or crossposts unless it's OC.\", ' No GIFs cut short or overly edited GIFs. ', ' No politics, pushing agendas, or grandstanding. ', ' Hide or blur personal info such as full names, numbers, and addresses. ', ' No promotions.']",
         "11"
        ],
        [
         "12",
         "Piracy",
         "Piracy: ꜱᴀɪʟ ᴛʜᴇ ʜɪɢʜ ꜱᴇᴀꜱ",
         "⚓ Dedicated to the discussion of digital piracy, including ethical problems and legal advancements.",
         "en",
         "2179942",
         "1824",
         "['Posts must be related to the discussion of digital piracy', \" Don't request invites, trade, sell, or self-promote\", \" Don't request or link to specific pirated titles, including DMs\", ' Show effort and respect']",
         "12"
        ],
        [
         "13",
         "PeterExplainsTheJoke",
         "PeterExplainsTheJoke",
         "Hey gamers, this is the subreddit where you post a meme/joke you don't understand so it can be explained to you. You can also post memes about u/PeterExplainsTheJoke or just post weird pictures of Peter.",
         "en",
         "1819939",
         "665",
         "['Poor Behavior', ' Recently posted jokes', ' Dogwhistles/Conspiracy Theories', ' Metaposts', \" 'Wooooshing' users\", ' Low effort posts', ' Banned Jokes', ' Political Shilling / Debating']",
         "13"
        ],
        [
         "14",
         "funny",
         "funny",
         "Reddit's largest humor depository",
         "en",
         "66845994",
         "2551",
         "['All posts must make an attempt at humor.', ' No memes, HIFW, MRW, MeIRL, DAE, or similar posts.', ' No reposts.', ' No personal info, no hate speech, no harassment.', ' No politics or political figures.', ' No forbidden titles, low-effort titles, or posts about Reddit cakedays.', ' No gore, pornography, or animal cruelty.', ' No unoriginal comics.', ' No pictures of just text.', ' No social-media, messaging, or AI-generated content.']",
         "14"
        ],
        [
         "15",
         "AITAH",
         "AITAH",
         "This is a community like r/AmITheAsshole, except unlike that subreddit you can post interpersonal conflicts. Anything that's AITA including relationships, hypotheticals, even posting about Scar from the Lion King and trying to convince redditors that he was not the AH.\n\nrules: don't berate others and no pornography we have children here",
         "en",
         "4693425",
         "3275",
         "['No completely fake posts. ', ' No AI or Bot post and comments', ' No karma farming', ' No third party posts.', ' Be civil to each other. ', ' No excessive use of demeaning language or names.', ' No advertising']",
         "15"
        ],
        [
         "16",
         "movies",
         "Movie News and Discussion",
         "The goal of /r/Movies is to provide an inclusive place for discussions and news about films with major releases. Submissions should be for the purpose of informing or initiating a discussion, not just to entertain readers. Read our extensive list of rules for more information on other types of posts like fan-art and self-promotion, or message the moderators if you have any questions.",
         "en",
         "35497336",
         "4034",
         "['Do Familiarize Yourself With Our Rules.', ' No Intentional Antagonism or Negative Attention Whoring', ' No Spam & Self-promotion - Same Source Posts', ' No Image Posts & Memes', ' No Ambiguous/Misleading/Inaccurate Information or Clickbait in the Submission Title', ' No Extraneous Comic Book Movie Submissions', ' No Repost or Discussion Threads of New Releases', ' No Spoilers', ' No Encouraging Piracy', ' No Subreddit Brigading', ' AI Generated Garbage', ' No Low Effort Posts', ' Scuttlebutt and Canards', ' No Complaints of a Movie OP has Not Completed.', ' Political Ranting Unrelated to the Movie at Hand']",
         "16"
        ],
        [
         "17",
         "Helldivers",
         "Helldivers",
         "A subreddit dedicated to HELLDIVERS and HELLDIVERS II, intense co-op shooters set in a satirical dystopian future where you play as one of mankind's elite soldiers determined to spread managed democracy. Developed by Arrowhead Game Studios.",
         "en",
         "1975825",
         "876",
         "['Be Civil', ' No reposts', ' No spamming', ' No begging', ' No naming and shaming', ' Credit the original creator', ' No low efforts posts/comments', ' No LFG request posts (use the megathread)', ' Posts/comments must be related to Helldivers', ' No leaks/cheats/exploits discussions', ' Limited Self-promotion is allowed', ' No real-world political discussions', ' No low-quality rants/vents', ' Use the Q&A Megathread for simple questions', ' Submissions must be in English']",
         "17"
        ],
        [
         "18",
         "gaming",
         "r/gaming",
         "The Number One Gaming forum on the Internet.",
         "en",
         "46599439",
         "7308",
         "['Not directly gaming related or generic meme template', ' Posting guidelines, bandwagons, brigades, direct reply posts.', ' Piracy', ' Unmarked spoiler / Unmarked NSFW.', ' No Giveaways / Trades / Contests / Items for sale / Donation requests / Crypto anything', ' Not original source / Website screenshot', ' Spam / Excessive self-promotion', ' Discussion prompts must be posted as self/text posts', ' Bigotry / Incivility / Toxicity', ' AMA related rule.']",
         "18"
        ],
        [
         "19",
         "worldnews",
         "World News",
         "A place for major news from around the world, excluding US-internal news.",
         "en",
         "45645893",
         "9572",
         "['No US Internal News or Politics', ' No Editorialized or Misleading Titles', ' No Feature stories', ' No Editorials, Opinion or Analysis Pieces', ' No Articles In Languages Other Than English', ' No Images, Videos or Audio Clips', ' No Old News Articles (≥ 1 Week old)', ' Your content might be removed if /r/worldnews is not the appropriate subreddit for the story.', ' No Bigotry or Other Offensive Content', ' No Personal Attacks On Other Users', ' No Memes, Gifs, unlabeled NSFW images', ' No chatGPT bots or copy/paste bots']",
         "19"
        ],
        [
         "20",
         "leagueoflegends",
         "League of Legends",
         "This is a subreddit devoted to the game League of Legends.",
         "en",
         "8135989",
         "2369",
         "['Please Read the full Rules on the sub. These are just several important ones', ' No Personal Attacks', ' All Claims Require Evidence', ' No Excessively Sexual or Violent Content/No NSFW', \" Don't Discuss or Advertise Cheats or Exploits\", ' Posts Must Be Directly Related To League of Legends', ' Specific restricted content (see rules for list)', \" Don't Address Individuals or Distinct Entities\", ' Feature Suggestions', ' Personal Stories', ' Spoilers have to be tagged', ' Esports Content Restrictions', ' No Vague or Misleading Titles', ' Short duration content belongs in a text post', ' Reposts']",
         "20"
        ],
        [
         "21",
         "pcmasterrace",
         "PC Master Race - PCMR: A place where all enthusiasts of PC, PC gaming and PC technology are welcome!",
         "Welcome to the official subreddit of the PC Master Race / PCMR!\n\nAll PC-related content is welcome, including build help, tech support, and any doubt one might have about PC ownership.\n\nYou don't necessarily need a PC to be a member of the PCMR. You just have to love PCs. It's not about the hardware in your rig, but the software in your heart!\n\nJoin us in celebrating and promoting tech, knowledge, and the best gaming, study, and work platform there exists. The Personal Computer.",
         "en",
         "15127454",
         "1806",
         "['Harassment/calls to action against others', ' Follow PCMR Etiquette', ' Do not link to outside threads', ' Anonymize all images/screenshots', ' No referral or affiliate links', ' Low quality, unrelated, unoriginal or low-effort posts will be deleted at mod discretion.', ' Do not discriminate against others', ' No begging, trading, selling, or asking for valuation.', ' Do not abuse the NSFW or Spoiler tags', ' Peasantry posts must be self posts', ' Giveaway rules', ' Read our full rules here']",
         "21"
        ],
        [
         "22",
         "Unexpected",
         "Unexpected",
         "This subreddit is for unexpected twists in videos and gifs.",
         "en",
         "11547639",
         "901",
         "['Expected/No twist', ' Keep Content Civil', ' Unmarked NSFW/NSFL', ' No Reposts', ' Bad Title', ' No low/poor quality videos', ' No death or abuse', ' No minors', ' No glorifying violence/tragedy', ' Politics', ' No Pictures of Text - visit /r/unextexted', ' No stealing content', ' No linking to Reddit', \" Follow Reddit's TOS\"]",
         "22"
        ],
        [
         "23",
         "news",
         "News",
         "The place for news articles about current events in the United States and the rest of the world. Discuss it all here.",
         "en",
         "30164625",
         "6295",
         "['Submissions must be articles about a specific news event', ' Old News', ' No opinion/analysis or advocacy pieces', ' Articles must not be primarily concerning politics', ' No editorialized titles', ' Title must match article title', ' No paywalls/blogspam that steals content', ' No posts covering an already submitted story', ' Do not be racist, sexist, vitriolic, or overly crude', ' Do not be unnecessarily rude or provocative', ' No cheap or distracting jokes or memes', ' No witchhunting. Follow the Reddit Content Policy.', ' Do not advocate or celebrate death', ' No bots/Novelty accounts']",
         "23"
        ],
        [
         "24",
         "politics",
         "Politics",
         "/r/Politics is for news and discussion about U.S. politics.",
         "en",
         "8822252",
         "8842",
         "['General: No hateful speech', ' General: No novelty accounts or bots', ' General: No spam or solicitation', ' Comments: No incivility or personal attacks towards users', ' Comments: No flaming, baiting, or trolling', ' Comments: No witch hunts or personal information', ' Comments: Follow AMA specific rules', ' Posts: Submissions must be explicitly about US politics', ' Posts: Submissions must be published within the last 7 days', ' Posts: Submissions must be from the Approved Domain List', ' Posts: Titles must be the exact headline from the article with minor exceptions', ' Posts: Do not flood the new queue', ' Posts: No copy-pasted submissions or non-English articles', ' Posts: Disallowed submission types', ' Posts: Disclose employment or affiliation with a source']",
         "24"
        ],
        [
         "25",
         "wallstreetbets",
         "wallstreetbets",
         "Like 4chan found a Bloomberg Terminal.",
         "en",
         "18670873",
         "5996",
         "['Avoid Purely Political Discussion', ' Screenshots of Social Media Posts are Prohibited', ' Market Cap Must Be Above $500MM USD', ' Keep Threads Interesting, Otherwise Use the Daily!', ' YOLOs Must Be Above $10K or $25K (Options, Shares)', ' Gains and Losses Must Be Above $2.5K or $5K (Options, Shares)', ' Gains and Losses Must Be Realized', ' Only Crypto Allowed is BTC and ETH', ' Avoid Pump & Dumps, Short Squeezes, and Market Manipulation', \" No Bullshitting - Only Comment If You Know What You're Talking About\", \" Please Don't Derail Discussion by Brigading, Spreading Hate, or Downvoting Everyone\", \" Don't Shit on the Community\", ' No Advertisement, Self-Promotion, Fundraising, or Begging', ' Content Guidelines', ' Glorifying Losses is Unacceptable']",
         "25"
        ],
        [
         "26",
         "todayilearned",
         "Today I Learned (TIL)",
         "You learn something new every day; what did you learn today?\nSubmit interesting and specific facts about something that you just found out here.",
         "en",
         "40508942",
         "6548",
         "['Inaccurate/unverifiable/not supported by source', ' No personal opinions/anecdotes/subjective posts', ' No recent sources', ' No politics/agenda pushing', ' No misleading claims', \" Too general/can't stand on its own/how to\", ' No submissions about software/websites', ' All NSFW links must be tagged.']",
         "26"
        ],
        [
         "27",
         "nottheonion",
         "Sadly, this is not the Onion.",
         "For true stories that you could have sworn were from The Onion.",
         "en",
         "25679956",
         "2142",
         "['Do not alter headlines.', ' Submissions must be oniony.', ' Only submit news articles.', ' Use original, reliable sources.', ' Do not repost similar articles.', ' No satire articles', ' No tabloid sources', ' No old news.', ' Only submit articles in English.', ' Do not post mobile links.', ' No blocked or redirected links', ' No personal attacks, racism, sexism, or bigotry', ' Don’t break Reddit rules.']",
         "27"
        ],
        [
         "28",
         "memes",
         "/r/Memes the original since 2008",
         "Memes!\n\nA way of describing cultural information being shared.\nAn element of a culture or system of behavior that may be considered to be passed from one individual to another by nongenetic means, especially imitation.",
         "en",
         "35469931",
         "967",
         "['Rule 1 - ALL POSTS MUST BE MEMES and FOLLOW A GENERAL MEME FORMAT', ' Rule 2 - NO MEMES ABOUT POLARIZING/POLITICAL TOPICS, VULNERABLE GROUPS, VIOLENCE, ETC. [SEE LIST]', ' Rule 3 - NO SPAM/CHAINPOSTING and NO OVERUSED/PROHIBITED MEME TEMPLATES [SEE LIST]', ' Rule 4 - NO INTERACTION-BAITING POSTS/TITLES and NO IDENTIFYING INFO/WATERMARKS', ' Rule 5 - NO VIDEOS LONGER THAN 15 SECONDS and DIRECT REDDIT UPLOADS ONLY (NO LINKS)', ' Rule 6 - ONLY POST MEMES YOU ACTUALLY MADE YOURSELF/NO REPOSTS and NO BAD CROPPING/LOW-RES MEMES']",
         "28"
        ],
        [
         "29",
         "PublicFreakout",
         "/r/PublicFreakout",
         "A subreddit dedicated to people freaking out, melting down, losing their cool, or being weird in public.",
         "en",
         "4708767",
         "2282",
         "['Rule 1', ' No doxxing', ' Rule 2', ' Use tact videos involving mental disorders', ' Rule 3', ' Abusive comments will be removed', ' Rule 4', ' No racism, sexism, transphobia or bigotry', ' Rule 5', ' Video posts only', ' Rule 6', ' Text Posts require moderator approval.', ' Rule 7', ' Posting Guidelines.', ' Rule 8', ' No videos involving death/murder.', ' Rule 9', ' Facebook Videos are allowed, not encouraged', ' Rule 10', ' Submissions must fit community']",
         "29"
        ],
        [
         "30",
         "Wellthatsucks",
         "Well... That sucks...",
         "Posts that make you go: \"Well.. that sucks..\"",
         "en",
         "4071395",
         "927",
         "['Please follow reddiquette.', ' Please be civil.', ' No injuries', ' No compilations ', ' No low effort', ' No Reposts.']",
         "30"
        ],
        [
         "31",
         "explainlikeimfive",
         "Explain Like I'm Five | Don't Panic!",
         "Explain Like I'm Five is the best forum and archive on the internet for layperson-friendly explanations.\n\n\nDon't Panic!",
         "en",
         "23228465",
         "2442",
         "['Be Civil', ' All submissions must seek objective explanations', ' Top-level comments must be written explanations', ' Explain for laypeople (but not actual 5-year-olds)', ' ELI5 is for factual information, not opinions', ' Loaded questions are not allowed', ' Search before posting', \" don't repeat old posts\", \" Don't guess\", \" Don't try to trick the bot\", ' Posts must begin with \"ELI5:\"', ' Link to the Detailed Rules']",
         "31"
        ],
        [
         "32",
         "OutOfTheLoop",
         "What's everyone on about?",
         "A subreddit to help you keep up to date with what's going on with reddit and other stuff.",
         "en",
         "3584343",
         "654",
         "['Post title must be a current, unbiased, and coherent question', ' Text body must include context', ' Recently asked - already on the frontpage (search)', ' Top-level comment must answer or ask a follow-up', ' Uncivil', ' Not a loop - better suited for another subreddit', ' No AI Answers']",
         "32"
        ],
        [
         "33",
         "OnePiece",
         "One Piece",
         "Welcome to r/OnePiece, the community for Eiichiro Oda's manga and anime series One Piece. From the East Blue to the New World, anything related to the world of One Piece belongs here! If you've just set sail with the Straw Hat Pirates, be wary of spoilers on this subreddit!",
         "en",
         "5164542",
         "426",
         "['Be mindful of Spoilers.', ' No separate posts of chapter thread for 24h', ' Fanart/cosplay must directly link to the source', ' Plain panels/scenes must create discourse', ' Posts must be directly related to One Piece', ' Self promotion', ' No Low Effort Meme', ' No hentai', ' No posts about One Piece games other than news', ' No Questions answered in the FAQ/sidebar', \" Don't be Rude\", ' Flair your posts']",
         "33"
        ],
        [
         "34",
         "BlackPeopleTwitter",
         "Black Twitter",
         "Screenshots of Black people being hilarious or insightful on social media, it doesn't need to just be twitter but obviously that is best.",
         "en",
         "6116748",
         "1406",
         "['Social media posts from black people only', ' Bad Faith Participation', ' Respectability', ' No Racism/Hate speech', ' Posts must be showcasing somebody being hilarious or insightful on social media.', ' Reddit Cliches', ' No reposts', ' Bad post title', \" Don't complain about the use of AAVE or slang.\", ' Please respect these voices of the users of this community', ' No posts from corporate or meme accounts', ' Moderator Fiat', ' ☑️ Country Club']",
         "34"
        ],
        [
         "35",
         "buildapc",
         "/r/buildapc - Planning on building a computer but need some advice? This is the place to ask!",
         "Planning on building a computer but need some advice? This is the place to ask!\n\n\n /r/buildapc is a community-driven subreddit dedicated to custom PC assembly. Anyone is welcome to seek the input of our helpful community as they piece together their desktop.",
         "en",
         "8034842",
         "1242",
         "['Be respectful to others', ' No build-spoonfeeding requests', ' No piracy or grey-market software keys', ' No laptop or prebuilt PC questions', ' No submissions about hardware news, rumors, or reviews', ' No submissions about sales, deals or unauthorized giveaways', ' No submissions about retailer or customer service experiences', ' No titles that are all-caps, clickbait, PSAs, pro-tips or contain emoji.', ' No submissions that are low-effort, memes, jokes, meta, or hypothetical / dream builds.', ' No self-promotion, advertising or surveys', ' No selling, trading or requests for valuation', ' No excessive posting (more than one submission in 24 hours)', ' No intentionally harmful, misleading or joke advice', ' No bots or automated accounts', ' Ban Appeal']",
         "35"
        ],
        [
         "36",
         "HonkaiStarRail",
         "HonkaiStarRail",
         "Honkai: Star Rail is a strategy-RPG title in the Honkai series that takes players on a cosmic adventure across the stars. Hop aboard the Astral Express and experience the galaxy's infinite wonders on this journey filled with adventure and thrill.",
         "en",
         "1134209",
         "546",
         "['Be respectful to others', ' No leaked / datamined / modded content', ' Megathreads', ' Mundane or Repetitive Posts', ' Original Content Rules', ' Non-Original Content Rules', ' Non-OC Art Submission Frequency', ' NSFW Rules', ' Be careful with spoilers', ' Commercial and Self-Promotion Rules', ' Shipping Rules']",
         "36"
        ],
        [
         "37",
         "SipsTea",
         "SipsTea",
         "Delivering the internet's best content daily. On Wednesdays we post frogs!",
         "en",
         "1635741",
         "1841",
         "['No NSFW', ' No Harassment ', ' No Toxicity', ' No Politics', \" No Sub GC's/Subreddits\", ' No Spam', ' No Hate', ' No Impersonation (Catfishing)', ' No Defamation ', ' No Brigading ', ' No Self Harm Discussion ', ' No Baiting', ' English Only', ' No Reposts', ' Reddit Site-Wide Rules']",
         "37"
        ],
        [
         "38",
         "Minecraft",
         "Minecraft on reddit",
         "Minecraft community on Reddit",
         "en",
         "8485731",
         "779",
         "['Be civil', ' Don’t advertise servers or communities', ' No memes', ' Don’t post images of text', ' Do not promote illegal or unethical practices', ' Stay on topic', ' Avoid chain posting', ' Explain your suggestions with a text post', ' Use a search engine, the wiki or community support before asking questions here', ' Speak English only.', ' Keep self-promotion to a minimum', ' Follow our standards for quality.', \" Don't post banned topics\"]",
         "38"
        ],
        [
         "39",
         "mildlyinteresting",
         "For photos that are, you know, mildly interesting",
         "Aww, cripes. I didn't know I'd have to write a description. How many words is that so far, like a hundred? Soooo, yeah. Mildly interesting stuff. Stuff that interests you. Mildly. It's in the name, ffs.",
         "en",
         "24584963",
         "1880",
         "['No Memes', ' No Related Posts', ' No X-Posts or Reposts', ' Original [OC] Photographs Only', ' No Screenshots', ' Titles Must Be Exact But Concise Descriptions']",
         "39"
        ],
        [
         "40",
         "nfl",
         "NFL: National Football League Discussion",
         "The place to discuss all NFL related things",
         "en",
         "12371281",
         "3025",
         "['Off Topic Content', ' Low effort/Joke Posts/Repost', ' Editorialized Title', ' All news should be sourced', ' Highlights: During Games', ' Personal Life/Off Field, Serious illness, deaths, and arrests for current or former players', ' Official threads are official and not unofficial', ' Original Content v. promotion and spam', ' Personal attack or any kind of slur', ' Off-Season Posting Policy']",
         "40"
        ],
        [
         "41",
         "BeAmazed",
         "I bet you will /r/BeAmazed!",
         "A place to find and share things which are amazing in a positive way.",
         "en",
         "8928033",
         "430",
         "['Post Appropriate Content', ' No Porn, Gore or Very Disturbing Content', ' No War or Politics related posts', ' No Misleading Content', ' Don’t be rude to others']",
         "41"
        ],
        [
         "42",
         "DIY",
         "DIY",
         "DIY",
         "en",
         "26629669",
         "656",
         "['All content must be DIY', ' Basic Community Rules', ' NSFW / Reddiquette / Civility', ' 𝗡𝗼 𝗦𝗮𝗹𝗲𝘀 | 𝗣𝗿𝗼𝗺𝗼𝘁𝗶𝗼𝗻𝘀 | 𝗔𝗱𝘃𝗲𝗿𝘁𝗶𝘀𝗶𝗻𝗴', ' Google First, Reddit Last | Product Search', ' Low effort posts', ' Content / Topics not suited for r/DIY', ' Rating & Reviewing Products or Brands', ' Sometimes you let the professionals handle it', ' No AI Content']",
         "42"
        ],
        [
         "43",
         "nba",
         "NBA",
         "A community for NBA discussion.",
         "en",
         "16087593",
         "4426",
         "['Be civil and respectful', ' No trolling or baiting users', ' No racist, sexist, or homophobic language', ' No reposts', ' No fake news', ' No self-promotion', ' No NSFW content', ' Posts and comments must be relevant to the NBA', ' Stats/Player Tweets/Quotes/Misc. Media are self-post only and must be sourced', ' No Reaction Posts', ' r/nba no longer permits links/references to Twitter/X (or alts), Facebook, Instagram, and Threads', ' Use the Daily Discussion Thread']",
         "43"
        ],
        [
         "44",
         "MapPorn",
         "Map Porn, for interesting maps",
         "High quality images of maps.",
         "en",
         "5801395",
         "743",
         "['Posts must be maps', ' No Low Effort Memes', ' Must meet aesthetic standards', ' No Advertising', ' No Repost Bots']",
         "44"
        ],
        [
         "45",
         "Steam",
         "Steam on Reddit",
         "A subreddit for members of the Steam Community and fans of steam.\n\nDiscord: discord.gg/steam",
         "en",
         "4857400",
         "677",
         "['Basic Requirements and Quality Standards', ' Common or Unrelated Content', ' Support', ' Bugs or Exploits', ' Advertising, User-Generated Content, or Surveys', ' Gambling, Scams, Cheating, or Trading', ' Begging, Charity, or Giveaways', ' Game Advice or Asking For Friends', ' Accusations or Witch Hunts', ' Steam Subscriber Agreement or Reddiquette']",
         "45"
        ],
        [
         "46",
         "Overwatch",
         "Overwatch",
         "Subreddit for all things Overwatch™, Overwatch 2™ and the Overwatch™ Universe, the team-based shooter from Blizzard Entertainment.",
         "en",
         "6057927",
         "752",
         "['Must be relevant to Overwatch.', ' Titles must be clear and accurate.  No spoilers in titles.', ' No low-quality, low-effort, or repetitive content.', ' No NSFW/NSFL content.', ' Be civil. No personal attacks or hateful speech.', ' Terms of Service Violations', ' No Witchhunting or Cheating Accusations.', ' Site Violations', ' Use Correct Flair.']",
         "46"
        ],
        [
         "47",
         "Genshin_Impact",
         "Genshin Impact Official",
         "This is the official community for Genshin Impact (原神), the latest open-world action RPG from HoYoverse. The game features a massive, gorgeous map, an elaborate elemental combat system, engaging storyline & characters, co-op game mode, soothing soundtrack, and much more for you to explore!",
         "en",
         "3618874",
         "816",
         "['Be respectful and civil', ' Relevance to Genshin Impact', ' Megathread', ' No account trading or commercial promotion', ' NSFW rules', ' Non-OC art rules', ' OC rules', ' Mark spoilers', ' Post quality', ' Self-promotion rules', ' Overall subreddit quality', ' Cosplay Rules and guidelines']",
         "47"
        ],
        [
         "48",
         "classicwow",
         "WoW: Classic",
         "A community for World of Warcraft: Classic fans.",
         "en",
         "678347",
         "546",
         "['Content must be related to WoW: Classic', ' Be civil and respectful', ' No witch hunts or brigading', ' Do not share or encourage the use of exploits, cheats, existing private servers, RWT, etc', ' No real world politics or religion', ' Flag NSFW content', ' Restricted content and extended rule-set', ' Flair your posts accurately', ' Follow Content Creator Guidelines']",
         "48"
        ],
        [
         "49",
         "soccer",
         "The back page of the internet.",
         "The football subreddit. \n\nNews, results, and discussion about the beautiful game.",
         "en",
         "8590217",
         "7417",
         "['Follow reddiquette', ' No racism, homophobia, xenophobia, sexism or other offensive behaviour', ' Be on topic', ' No shit-posting', ' No Duplicates', ' No NSFW content', ' You must link sources for news, quotes and stats', ' Only valuable image and stat submissions', ' Please use factual and objective titles', ' No low-effort questions as top-level submissions', ' Hard paywalled content should be summarised, but not copied.', ' No Baiting/Trolling', ' Follow the Submission Guidelines and use the correct Flair creating a new post.']",
         "49"
        ]
       ],
       "shape": {
        "columns": 8,
        "rows": 100
       }
      },
      "text/html": [
       "<div>\n",
       "<style scoped>\n",
       "    .dataframe tbody tr th:only-of-type {\n",
       "        vertical-align: middle;\n",
       "    }\n",
       "\n",
       "    .dataframe tbody tr th {\n",
       "        vertical-align: top;\n",
       "    }\n",
       "\n",
       "    .dataframe thead th {\n",
       "        text-align: right;\n",
       "    }\n",
       "</style>\n",
       "<table border=\"1\" class=\"dataframe\">\n",
       "  <thead>\n",
       "    <tr style=\"text-align: right;\">\n",
       "      <th></th>\n",
       "      <th>domain</th>\n",
       "      <th>title</th>\n",
       "      <th>description</th>\n",
       "      <th>languages</th>\n",
       "      <th>total_users</th>\n",
       "      <th>active_month</th>\n",
       "      <th>rules</th>\n",
       "      <th>server_id</th>\n",
       "    </tr>\n",
       "  </thead>\n",
       "  <tbody>\n",
       "    <tr>\n",
       "      <th>0</th>\n",
       "      <td>Home</td>\n",
       "      <td>Home</td>\n",
       "      <td>nan</td>\n",
       "      <td>en</td>\n",
       "      <td>307843</td>\n",
       "      <td>51</td>\n",
       "      <td>[]</td>\n",
       "      <td>0</td>\n",
       "    </tr>\n",
       "    <tr>\n",
       "      <th>1</th>\n",
       "      <td>AskReddit</td>\n",
       "      <td>Ask Reddit...</td>\n",
       "      <td>r/AskReddit is the place to ask and answer tho...</td>\n",
       "      <td>es</td>\n",
       "      <td>54701432</td>\n",
       "      <td>9986</td>\n",
       "      <td>[Rule 1 - Questions must be clear and direct a...</td>\n",
       "      <td>1</td>\n",
       "    </tr>\n",
       "    <tr>\n",
       "      <th>2</th>\n",
       "      <td>NoStupidQuestions</td>\n",
       "      <td>No such thing as stupid questions</td>\n",
       "      <td>Ask away!\\n\\nDisclaimer: This is an anonymous ...</td>\n",
       "      <td>en</td>\n",
       "      <td>6021303</td>\n",
       "      <td>4872</td>\n",
       "      <td>[Top level comments must contain a genuine hum...</td>\n",
       "      <td>2</td>\n",
       "    </tr>\n",
       "    <tr>\n",
       "      <th>3</th>\n",
       "      <td>BaldursGate3</td>\n",
       "      <td>Baldur's Gate 3</td>\n",
       "      <td>A community all about Baldur's Gate III, the r...</td>\n",
       "      <td>en</td>\n",
       "      <td>3118378</td>\n",
       "      <td>1384</td>\n",
       "      <td>[Be civil to one another.,  Respect the opinio...</td>\n",
       "      <td>3</td>\n",
       "    </tr>\n",
       "    <tr>\n",
       "      <th>4</th>\n",
       "      <td>facepalm</td>\n",
       "      <td>now double verified</td>\n",
       "      <td>/r/facepalm - please sir can I have some more?</td>\n",
       "      <td>en</td>\n",
       "      <td>8145733</td>\n",
       "      <td>2345</td>\n",
       "      <td>[No uncivil, bigoted, misogynist, misandrist, ...</td>\n",
       "      <td>4</td>\n",
       "    </tr>\n",
       "    <tr>\n",
       "      <th>...</th>\n",
       "      <td>...</td>\n",
       "      <td>...</td>\n",
       "      <td>...</td>\n",
       "      <td>...</td>\n",
       "      <td>...</td>\n",
       "      <td>...</td>\n",
       "      <td>...</td>\n",
       "      <td>...</td>\n",
       "    </tr>\n",
       "    <tr>\n",
       "      <th>95</th>\n",
       "      <td>SteamDeck</td>\n",
       "      <td>Steam Deck</td>\n",
       "      <td>The Unofficial Subreddit for the Valve Steam D...</td>\n",
       "      <td>en</td>\n",
       "      <td>903284</td>\n",
       "      <td>446</td>\n",
       "      <td>[Be Kind Or Get Banned,  Posts must be about o...</td>\n",
       "      <td>95</td>\n",
       "    </tr>\n",
       "    <tr>\n",
       "      <th>96</th>\n",
       "      <td>college</td>\n",
       "      <td>College</td>\n",
       "      <td>The subreddit for discussion related to colleg...</td>\n",
       "      <td>en</td>\n",
       "      <td>2911405</td>\n",
       "      <td>76</td>\n",
       "      <td>[Do not post spam or surveys.,  Do not post an...</td>\n",
       "      <td>96</td>\n",
       "    </tr>\n",
       "    <tr>\n",
       "      <th>97</th>\n",
       "      <td>manga</td>\n",
       "      <td>/r/manga: manga, on reddit.</td>\n",
       "      <td>Everything and anything manga!  (manhwa/manhua...</td>\n",
       "      <td>en</td>\n",
       "      <td>4725267</td>\n",
       "      <td>1480</td>\n",
       "      <td>[Disrespectful,  Follow submission guidelines ...</td>\n",
       "      <td>97</td>\n",
       "    </tr>\n",
       "    <tr>\n",
       "      <th>98</th>\n",
       "      <td>CrazyFuckingVideos</td>\n",
       "      <td>CrazyFuckingVideos</td>\n",
       "      <td>Crazy fucking videos for your viewing pleasure</td>\n",
       "      <td>en</td>\n",
       "      <td>2240152</td>\n",
       "      <td>799</td>\n",
       "      <td>[Follow Reddit's TOS,  Be civil,  Must be a Cr...</td>\n",
       "      <td>98</td>\n",
       "    </tr>\n",
       "    <tr>\n",
       "      <th>99</th>\n",
       "      <td>rareinsults</td>\n",
       "      <td>r/RareInsults</td>\n",
       "      <td>Did you stumble across a unique insult? Lookin...</td>\n",
       "      <td>en</td>\n",
       "      <td>2924628</td>\n",
       "      <td>201</td>\n",
       "      <td>[Don't be a dick,  No hateful insults,  Repost...</td>\n",
       "      <td>99</td>\n",
       "    </tr>\n",
       "  </tbody>\n",
       "</table>\n",
       "<p>100 rows × 8 columns</p>\n",
       "</div>"
      ],
      "text/plain": [
       "                domain                              title  \\\n",
       "0                 Home                               Home   \n",
       "1            AskReddit                      Ask Reddit...   \n",
       "2    NoStupidQuestions  No such thing as stupid questions   \n",
       "3         BaldursGate3                    Baldur's Gate 3   \n",
       "4             facepalm                now double verified   \n",
       "..                 ...                                ...   \n",
       "95           SteamDeck                         Steam Deck   \n",
       "96             college                            College   \n",
       "97               manga        /r/manga: manga, on reddit.   \n",
       "98  CrazyFuckingVideos                 CrazyFuckingVideos   \n",
       "99         rareinsults                      r/RareInsults   \n",
       "\n",
       "                                          description languages  total_users  \\\n",
       "0                                                 nan        en       307843   \n",
       "1   r/AskReddit is the place to ask and answer tho...        es     54701432   \n",
       "2   Ask away!\\n\\nDisclaimer: This is an anonymous ...        en      6021303   \n",
       "3   A community all about Baldur's Gate III, the r...        en      3118378   \n",
       "4      /r/facepalm - please sir can I have some more?        en      8145733   \n",
       "..                                                ...       ...          ...   \n",
       "95  The Unofficial Subreddit for the Valve Steam D...        en       903284   \n",
       "96  The subreddit for discussion related to colleg...        en      2911405   \n",
       "97  Everything and anything manga!  (manhwa/manhua...        en      4725267   \n",
       "98     Crazy fucking videos for your viewing pleasure        en      2240152   \n",
       "99  Did you stumble across a unique insult? Lookin...        en      2924628   \n",
       "\n",
       "    active_month                                              rules  server_id  \n",
       "0             51                                                 []          0  \n",
       "1           9986  [Rule 1 - Questions must be clear and direct a...          1  \n",
       "2           4872  [Top level comments must contain a genuine hum...          2  \n",
       "3           1384  [Be civil to one another.,  Respect the opinio...          3  \n",
       "4           2345  [No uncivil, bigoted, misogynist, misandrist, ...          4  \n",
       "..           ...                                                ...        ...  \n",
       "95           446  [Be Kind Or Get Banned,  Posts must be about o...         95  \n",
       "96            76  [Do not post spam or surveys.,  Do not post an...         96  \n",
       "97          1480  [Disrespectful,  Follow submission guidelines ...         97  \n",
       "98           799  [Follow Reddit's TOS,  Be civil,  Must be a Cr...         98  \n",
       "99           201  [Don't be a dick,  No hateful insults,  Repost...         99  \n",
       "\n",
       "[100 rows x 8 columns]"
      ]
     },
     "execution_count": 89,
     "metadata": {},
     "output_type": "execute_result"
    }
   ],
   "source": [
    "df_reddit = reddit.df\n",
    "df_reddit"
   ]
  },
  {
   "cell_type": "code",
   "execution_count": 90,
   "id": "726e69f1",
   "metadata": {},
   "outputs": [
    {
     "data": {
      "application/vnd.microsoft.datawrangler.viewer.v0+json": {
       "columns": [
        {
         "name": "index",
         "rawType": "int64",
         "type": "integer"
        },
        {
         "name": "mastodon",
         "rawType": "object",
         "type": "string"
        },
        {
         "name": "reddit",
         "rawType": "object",
         "type": "string"
        }
       ],
       "ref": "a209964e-acd8-468c-a8b2-1896698cf561",
       "rows": [
        [
         "0",
         "'en' : 94",
         "'en' : 99"
        ],
        [
         "1",
         "'de' : 16",
         "'es' : 1"
        ],
        [
         "2",
         "'fr' : 7",
         ""
        ],
        [
         "3",
         "'ko' : 3",
         ""
        ],
        [
         "4",
         "'es' : 3",
         ""
        ],
        [
         "5",
         "'nl' : 2",
         ""
        ],
        [
         "6",
         "'it' : 2",
         ""
        ],
        [
         "7",
         "'he' : 1",
         ""
        ],
        [
         "8",
         "'gd' : 1",
         ""
        ],
        [
         "9",
         "'pl' : 1",
         ""
        ],
        [
         "10",
         "'et' : 1",
         ""
        ],
        [
         "11",
         "'be' : 1",
         ""
        ],
        [
         "12",
         "'cs' : 1",
         ""
        ],
        [
         "13",
         "'no' : 1",
         ""
        ],
        [
         "14",
         "'gl' : 1",
         ""
        ],
        [
         "15",
         "'ru' : 1",
         ""
        ],
        [
         "16",
         "'ca' : 1",
         ""
        ],
        [
         "17",
         "'eu' : 1",
         ""
        ],
        [
         "18",
         "'ja' : 1",
         ""
        ],
        [
         "19",
         "'pt-BR' : 1",
         ""
        ]
       ],
       "shape": {
        "columns": 2,
        "rows": 20
       }
      },
      "text/html": [
       "<div>\n",
       "<style scoped>\n",
       "    .dataframe tbody tr th:only-of-type {\n",
       "        vertical-align: middle;\n",
       "    }\n",
       "\n",
       "    .dataframe tbody tr th {\n",
       "        vertical-align: top;\n",
       "    }\n",
       "\n",
       "    .dataframe thead th {\n",
       "        text-align: right;\n",
       "    }\n",
       "</style>\n",
       "<table border=\"1\" class=\"dataframe\">\n",
       "  <thead>\n",
       "    <tr style=\"text-align: right;\">\n",
       "      <th></th>\n",
       "      <th>mastodon</th>\n",
       "      <th>reddit</th>\n",
       "    </tr>\n",
       "  </thead>\n",
       "  <tbody>\n",
       "    <tr>\n",
       "      <th>0</th>\n",
       "      <td>'en' : 94</td>\n",
       "      <td>'en' : 99</td>\n",
       "    </tr>\n",
       "    <tr>\n",
       "      <th>1</th>\n",
       "      <td>'de' : 16</td>\n",
       "      <td>'es' : 1</td>\n",
       "    </tr>\n",
       "    <tr>\n",
       "      <th>2</th>\n",
       "      <td>'fr' : 7</td>\n",
       "      <td></td>\n",
       "    </tr>\n",
       "    <tr>\n",
       "      <th>3</th>\n",
       "      <td>'ko' : 3</td>\n",
       "      <td></td>\n",
       "    </tr>\n",
       "    <tr>\n",
       "      <th>4</th>\n",
       "      <td>'es' : 3</td>\n",
       "      <td></td>\n",
       "    </tr>\n",
       "    <tr>\n",
       "      <th>5</th>\n",
       "      <td>'nl' : 2</td>\n",
       "      <td></td>\n",
       "    </tr>\n",
       "    <tr>\n",
       "      <th>6</th>\n",
       "      <td>'it' : 2</td>\n",
       "      <td></td>\n",
       "    </tr>\n",
       "    <tr>\n",
       "      <th>7</th>\n",
       "      <td>'he' : 1</td>\n",
       "      <td></td>\n",
       "    </tr>\n",
       "    <tr>\n",
       "      <th>8</th>\n",
       "      <td>'gd' : 1</td>\n",
       "      <td></td>\n",
       "    </tr>\n",
       "    <tr>\n",
       "      <th>9</th>\n",
       "      <td>'pl' : 1</td>\n",
       "      <td></td>\n",
       "    </tr>\n",
       "    <tr>\n",
       "      <th>10</th>\n",
       "      <td>'et' : 1</td>\n",
       "      <td></td>\n",
       "    </tr>\n",
       "    <tr>\n",
       "      <th>11</th>\n",
       "      <td>'be' : 1</td>\n",
       "      <td></td>\n",
       "    </tr>\n",
       "    <tr>\n",
       "      <th>12</th>\n",
       "      <td>'cs' : 1</td>\n",
       "      <td></td>\n",
       "    </tr>\n",
       "    <tr>\n",
       "      <th>13</th>\n",
       "      <td>'no' : 1</td>\n",
       "      <td></td>\n",
       "    </tr>\n",
       "    <tr>\n",
       "      <th>14</th>\n",
       "      <td>'gl' : 1</td>\n",
       "      <td></td>\n",
       "    </tr>\n",
       "    <tr>\n",
       "      <th>15</th>\n",
       "      <td>'ru' : 1</td>\n",
       "      <td></td>\n",
       "    </tr>\n",
       "    <tr>\n",
       "      <th>16</th>\n",
       "      <td>'ca' : 1</td>\n",
       "      <td></td>\n",
       "    </tr>\n",
       "    <tr>\n",
       "      <th>17</th>\n",
       "      <td>'eu' : 1</td>\n",
       "      <td></td>\n",
       "    </tr>\n",
       "    <tr>\n",
       "      <th>18</th>\n",
       "      <td>'ja' : 1</td>\n",
       "      <td></td>\n",
       "    </tr>\n",
       "    <tr>\n",
       "      <th>19</th>\n",
       "      <td>'pt-BR' : 1</td>\n",
       "      <td></td>\n",
       "    </tr>\n",
       "  </tbody>\n",
       "</table>\n",
       "</div>"
      ],
      "text/plain": [
       "       mastodon     reddit\n",
       "0     'en' : 94  'en' : 99\n",
       "1     'de' : 16   'es' : 1\n",
       "2      'fr' : 7           \n",
       "3      'ko' : 3           \n",
       "4      'es' : 3           \n",
       "5      'nl' : 2           \n",
       "6      'it' : 2           \n",
       "7      'he' : 1           \n",
       "8      'gd' : 1           \n",
       "9      'pl' : 1           \n",
       "10     'et' : 1           \n",
       "11     'be' : 1           \n",
       "12     'cs' : 1           \n",
       "13     'no' : 1           \n",
       "14     'gl' : 1           \n",
       "15     'ru' : 1           \n",
       "16     'ca' : 1           \n",
       "17     'eu' : 1           \n",
       "18     'ja' : 1           \n",
       "19  'pt-BR' : 1           "
      ]
     },
     "metadata": {},
     "output_type": "display_data"
    }
   ],
   "source": [
    "display(utils.compare_languages(df_mastodon, df_reddit))"
   ]
  },
  {
   "cell_type": "code",
   "execution_count": 91,
   "id": "577c9347",
   "metadata": {},
   "outputs": [],
   "source": [
    "df_mastodon_en = mastodon.take_english_servers_only()\n",
    "df_reddit_en =  reddit.take_english_servers_only()"
   ]
  },
  {
   "cell_type": "code",
   "execution_count": 92,
   "id": "973deec2",
   "metadata": {},
   "outputs": [
    {
     "data": {
      "application/vnd.microsoft.datawrangler.viewer.v0+json": {
       "columns": [
        {
         "name": "index",
         "rawType": "int64",
         "type": "integer"
        },
        {
         "name": "domain",
         "rawType": "object",
         "type": "string"
        },
        {
         "name": "title",
         "rawType": "object",
         "type": "string"
        },
        {
         "name": "description",
         "rawType": "object",
         "type": "string"
        },
        {
         "name": "active_month",
         "rawType": "int64",
         "type": "integer"
        },
        {
         "name": "languages",
         "rawType": "object",
         "type": "unknown"
        },
        {
         "name": "rules",
         "rawType": "object",
         "type": "unknown"
        },
        {
         "name": "total_users",
         "rawType": "int64",
         "type": "integer"
        },
        {
         "name": "server_id",
         "rawType": "int64",
         "type": "integer"
        }
       ],
       "ref": "45d28325-1e03-4021-9799-b108eddf119a",
       "rows": [
        [
         "0",
         "mastodon.social",
         "Mastodon",
         "The original server operated by the Mastodon gGmbH non-profit",
         "327503",
         "['en']",
         "[{'id': '1', 'text': 'Sexually explicit or violent media must be marked as sensitive or with a content warning', 'hint': 'This includes content that is particularly provocative even if it may not show specific body parts, as well as dead bodies, bloody injuries, and other gore. Particularly obscene content may be prohibited entirely. Profile pictures and header images may not contain sexually explicit or violent media.'}, {'id': '2', 'text': 'No racism, sexism, homophobia, transphobia, ableism, xenophobia, or casteism.', 'hint': 'Transphobic behavior such as intentional misgendering and deadnaming is strictly prohibited. Promotion of \"conversion therapy\" is strictly prohibited. Criticism of governments and religions is permissible unless being used as a proxy for discrimination.'}, {'id': '3', 'text': 'No incitement of violence or promotion of violent ideologies', 'hint': 'Calling for people or groups to be assassinated, murdered, or attacked physically is strictly prohibited. Support for violent groups or events is prohibited.'}, {'id': '4', 'text': 'No harassment, block evasion, dogpiling, or doxxing of others', 'hint': 'Repeat attempts to communicate with users who have blocked you or creation of accounts solely to harass or insult individuals is strictly prohibited. Coordinated activity to attack other users is prohibited. Posting of private personal information about others is prohibited.'}, {'id': '7', 'text': 'Do not share information widely-known to be false and misleading', 'hint': 'False and misleading information and links from low-quality sources may not be posted, especially if they are likely to mislead or confuse others or endanger their safety.'}, {'id': '1008', 'text': 'Content created by others must be attributed, and use of generative AI must be disclosed', 'hint': 'Content created by others must clearly provide a reference to the author, creator, or source. For adult content, this should include performers. Accounts may not solely post AI-generated content.'}]",
         "2711879",
         "0"
        ],
        [
         "1",
         "mstdn.social",
         "Mastodon 🐘",
         "A general-purpose Mastodon server with a 500 character limit. All languages are welcome.",
         "14546",
         "['en']",
         "[{'id': '2', 'text': 'Sexually explicit or violent media must be marked as sensitive when posting.', 'hint': ''}, {'id': '3', 'text': 'No spam or advertising.', 'hint': ''}, {'id': '4', 'text': 'No racism, sexism, homophobia, transphobia, xenophobia, or casteism.', 'hint': ''}, {'id': '5', 'text': 'No incitement of violence or promotion of violent ideologies.', 'hint': ''}, {'id': '6', 'text': 'No harassment, dogpiling or doxxing of other users.', 'hint': ''}, {'id': '7', 'text': 'No illegal content.', 'hint': ''}, {'id': '11', 'text': 'No spreading of fake news or misinformation', 'hint': ''}, {'id': '12', 'text': 'Content created by others must be attributed, and use of AI must be disclosed. Profiles that only post AI-generated content will not be tolerated.', 'hint': ''}]",
         "260323",
         "1"
        ],
        [
         "2",
         "infosec.exchange",
         "Infosec Exchange",
         "A Mastodon instance for info/cyber security-minded people.\n",
         "13319",
         "['en']",
         "[{'id': '1', 'text': 'Do unto others as you think they would want done to them.  ', 'hint': ''}, {'id': '2', 'text': 'Mark sensitive content with a content warning.  ', 'hint': ''}, {'id': '3', 'text': 'Gratuitous obscenity that serves no practical benefit to a discussion is not permitted.', 'hint': ''}, {'id': '4', 'text': 'Illegal content such as child pornography, unsurprisingly, is not permitted', 'hint': ''}, {'id': '5', 'text': 'Spam is not permitted, this includes creating spam accounts that only serve to provide profile links or advertise products and services. ', 'hint': ''}, {'id': '6', 'text': 'Hate speech and abusive or threatening behavior is not permitted, specifically that which directed at any gender, nationality, religion, race, age, pizza topping preference, or sexual identity.  One can hate on systemd all day long here.', 'hint': ''}, {'id': '7', 'text': \"Lack of a specific rule against a certain behavior does not indicate acceptance of that behavior.  Each of us has a limited amount of time in this world.  Don't be a jerk.  \", 'hint': ''}, {'id': '8', 'text': 'Violating one or more of these rules may result in an immediate, permanent ban without notice or warning.  ', 'hint': ''}, {'id': '9', 'text': 'You may not impersonate a person or brand without a clear indication the account is unofficial and/or a parody. Parody accounts are permitted, as are legitimate brand accounts. ', 'hint': ''}, {'id': '11', 'text': 'No attacks against (or from) the instance.\\r\\n\\r\\nYou may not do anything which may impact confidentiality, integrity or availability of Infosec.Exchange, the users of the service or their data.\\r\\nFor more details see https://wiki.infosec.exchange/rules/start', 'hint': ''}, {'id': '12', 'text': 'No doxing (aka doxxing) or disclosing personal information without consent and as a means of harassing or causing others to harass another person.', 'hint': ''}, {'id': '13', 'text': 'No harassment in the form of continued engagement after a person has requested contact to stop', 'hint': ''}, {'id': '14', 'text': 'Automated posting:\\r\\n- accounts that post >50% using automation must be labeled as a “bot” in the user profile to help provide a visual indicator to visitors\\r\\n- automated posts must be limited to one post per hour/24 per day with post visibility set to “public”. There is no limit on “unlisted” posts.', 'hint': ''}, {'id': '15', 'text': 'Soliciting or inciting violence or harm against a person or segment of people is not permitted. ', 'hint': ''}]",
         "75725",
         "2"
        ],
        [
         "3",
         "mas.to",
         "mas.to",
         "Hello! mas.to is a fast, up-to-date and fun Mastodon server.",
         "11889",
         "['en']",
         "[{'id': '9', 'text': \"No discrimination, including (but not limited to) racism, sexism, homophobia or transphobia (including targeted misgendering, deadnaming, or promotion of so-called 'conversion therapy').\", 'hint': ''}, {'id': '10', 'text': 'No explicit (NSFW) content without content warnings and/or sensitive media markers. Explicit content must not be used in user avatars or header images.', 'hint': ''}, {'id': '17', 'text': 'No harassment of other users on this or other servers.', 'hint': ''}, {'id': '18', 'text': 'No content illegal in the following countries: United Kingdom, Germany', 'hint': ''}, {'id': '19', 'text': 'No incitement of violence or promotion of violent ideologies.', 'hint': ''}, {'id': '20', 'text': 'No disinformation regarding public health issues or political/military campaigns.', 'hint': ''}, {'id': '21', 'text': 'No spam. This includes commercial advertising, promotion of services, and SEO.', 'hint': ''}, {'id': '22', 'text': 'No impersonation of other individuals, public figures or organisations, unless clearly marked as a parody.', 'hint': ''}, {'id': '23', 'text': 'All automated (bot) accounts must enable the bot flag in their account preferences, respect #nobot markers, and post as unlisted unless making less than one post per hour.', 'hint': ''}]",
         "183608",
         "3"
        ],
        [
         "5",
         "hachyderm.io",
         "Hachyderm.io",
         "Hachyderm is a safe space, LGBTQIA+ and BLM, primarily comprised of tech industry professionals world wide. Note that many non-user account types have restrictions - please see our About page.",
         "8937",
         "['en']",
         "[{'id': '1', 'text': \"Don't be a dick.\", 'hint': ''}, {'id': '2', 'text': 'No hacking.', 'hint': ''}, {'id': '3', 'text': 'No violence.', 'hint': ''}, {'id': '4', 'text': 'No fascism. ', 'hint': ''}, {'id': '5', 'text': 'No colonialism.', 'hint': ''}, {'id': '6', 'text': 'No white supremacy.', 'hint': ''}, {'id': '7', 'text': 'No religious extremism. ', 'hint': ''}, {'id': '9', 'text': 'No nationalism.', 'hint': ''}, {'id': '11', 'text': 'No racism.', 'hint': ''}, {'id': '12', 'text': 'No homophobia.', 'hint': ''}, {'id': '13', 'text': 'No transphobia.', 'hint': ''}, {'id': '14', 'text': 'Safe Space: LGTBQIA+', 'hint': ''}, {'id': '15', 'text': 'Safe Space: neurodivergent (ADHD, Autism, etc.) ', 'hint': ''}]",
         "56318",
         "5"
        ],
        [
         "7",
         "mastodon.gamedev.place",
         "Gamedev Mastodon",
         "Mastodon server focused on game development and related topics.",
         "5078",
         "['en']",
         "[{'id': '1', 'text': 'Sexually explicit or violent media must be marked as sensitive when posting', 'hint': ''}, {'id': '2', 'text': 'No racism, sexism, homophobia, transphobia, xenophobia, or casteism', 'hint': ''}, {'id': '3', 'text': 'No incitement of violence or promotion of violent ideologies', 'hint': ''}, {'id': '4', 'text': 'No harassment, dogpiling or doxxing of other users', 'hint': ''}, {'id': '5', 'text': 'No content illegal in EU', 'hint': ''}, {'id': '6', 'text': 'Do not share intentionally false or misleading information', 'hint': ''}]",
         "33441",
         "7"
        ],
        [
         "8",
         "techhub.social",
         "TechHub",
         "A hub primarily for passionate technologists, but everyone is welcome",
         "5031",
         "['en']",
         "[{'id': '6', 'text': 'Violent media must be marked as sensitive when posting.', 'hint': ''}, {'id': '7', 'text': 'No racism, sexism, homophobia, transphobia, xenophobia, or casteism.', 'hint': ''}, {'id': '8', 'text': 'No incitement of violence or promotion of violent ideologies.', 'hint': ''}, {'id': '9', 'text': 'No harassment, dogpiling or doxxing of other users.', 'hint': ''}, {'id': '10', 'text': 'No content illegal in Canada.', 'hint': ''}, {'id': '11', 'text': 'Do not share false or misleading information that may lead to physical harm.', 'hint': ''}, {'id': '13', 'text': 'No spam, no direct advertising selling products or services, no aggressive promotion. If you promote your website, blog, etc do it responsibly and use a description and tags.', 'hint': ''}, {'id': '14', 'text': 'Bots must be marked as Bot in their profile and bots created after Dec 31st 2024 must post in silent mode', 'hint': ''}, {'id': '15', 'text': 'Sexually explicit content is not allowed', 'hint': ''}, {'id': '16', 'text': 'Agree to Code of Conduct (see about section)', 'hint': ''}]",
         "83099",
         "8"
        ],
        [
         "9",
         "mastodon.nl",
         "Mastodon.nl door Stichting Activityclub",
         "Mastodon voor de Nederlandse community - door de Nederlandse community - in stand gehouden door Stichting Activityclub",
         "4519",
         "['en']",
         "[{'id': '2', 'text': 'Heb respect voor elkaar'}, {'id': '3', 'text': 'Geen links of referenties naar racistische, hatelijke of offensieve content'}, {'id': '4', 'text': 'Geen accounts en toots die nodeloos ongefundeerd zijn'}, {'id': '5', 'text': 'Geen zaken die in Nederland illegaal zijn'}, {'id': '7', 'text': 'Geen reclame en spam'}, {'id': '9', 'text': 'Bij herhaling provoceren of uitlokken (trolling) is niet toegestaan.'}]",
         "43744",
         "9"
        ],
        [
         "10",
         "social.tchncs.de",
         "Mastodon",
         "A friendly server from Germany – which tends to attract techy people, but welcomes everybody. This is one of the oldest Mastodon instances.",
         "3697",
         "['en']",
         "[{'id': '1', 'text': 'Be nice to each other', 'hint': ''}, {'id': '2', 'text': 'Do not publish advertisements', 'hint': ''}, {'id': '3', 'text': 'Do not publish conspiracy myths', 'hint': ''}, {'id': '4', 'text': 'Do not publish content illegal in Germany and/or France, such as holocaust denial or Nazi symbolism', 'hint': ''}, {'id': '5', 'text': 'Do not publish content promoting the ideology of National Socialism', 'hint': ''}, {'id': '6', 'text': 'Do not publish content that is hateful towards specific individuals or groups, or intended to cause or incite harm', 'hint': ''}, {'id': '7', 'text': 'Do not exclusively crosspost from other platforms', 'hint': ''}]",
         "22825",
         "10"
        ],
        [
         "11",
         "kolektiva.social",
         "kolektiva.social",
         "Kolektiva is an anti-colonial anarchist collective that offers federated social media to anarchist collectives and individuals in the fediverse. For the social movements and liberation!",
         "3405",
         "['en']",
         "[{'id': '1', 'text': 'No racism, misogyny, homo/transphobia, ableism or other oppressive behaviour. ', 'hint': ''}, {'id': '2', 'text': 'No right wing bullshit and no authoritarian left wing apologetics. ', 'hint': ''}, {'id': '3', 'text': 'No harassment.', 'hint': ''}, {'id': '4', 'text': 'No electoral propaganda/campaigning.', 'hint': ''}, {'id': '5', 'text': 'No misinformation or conspiracy theories.', 'hint': ''}, {'id': '6', 'text': 'No promotion of capitalism, meritocracy or a commercial enterprise.', 'hint': ''}, {'id': '7', 'text': 'No spam.', 'hint': ''}, {'id': '8', 'text': 'No sexualized images without consent.', 'hint': ''}, {'id': '9', 'text': 'No glorification of nation states or militarism.', 'hint': ''}, {'id': '10', 'text': 'Propaganda from the USSR, CCP, or DPRK is not allowed.', 'hint': ''}]",
         "40004",
         "11"
        ],
        [
         "12",
         "norden.social",
         "norden.social",
         "Moin! Dies ist die Mastodon-Instanz für Nordlichter, Schnacker und alles dazwischen. Folge dem Leuchtturm.",
         "3383",
         "['en']",
         "[{'id': '12', 'text': 'Respektvoller Umgang', 'hint': 'Sei freundlich und respektvoll. Persönliche Angriffe, Beleidigungen oder herablassendes Verhalten werden nicht toleriert.'}, {'id': '13', 'text': 'Keine Diskriminierung', 'hint': 'Diskriminierung oder Hass aufgrund von Herkunft, Geschlecht, sexueller Orientierung, Geschlechtsidentität, Behinderung, Einschränkungen (Ableismus), Religion oder anderen persönlichen Merkmalen sind verboten.'}, {'id': '14', 'text': 'Einhaltung von Gesetzen und Urheberrechten', 'hint': 'Veröffentliche keine illegalen Inhalte oder Materialien, die Urheberrechte verletzen. Solche Beiträge werden entfernt, und wiederholte Verstöße können zur Kontosperrung führen.'}, {'id': '15', 'text': 'Schutz der Privatsphäre', 'hint': 'Teile keine persönlichen Daten ohne ausdrückliche Zustimmung der betroffenen Personen. Überlege sorgfältig, welche Informationen du öffentlich machst.'}, {'id': '16', 'text': 'Kennzeichnung anstößiger und nicht jugendfreier Inhalte', 'hint': 'Markiere Inhalte, die als anstößig oder jugendgefährdend gelten, mit einer Inhaltswarnung und (zum Beispiel per Hashtag) als “NSFW” (Not Safe for Work). Beachte, dass unsere Instanz möglicherweise nicht für Accounts geeignet ist, die ausschließlich jugendgefährende Inhalte teilen.'}, {'id': '17', 'text': 'Automatisierte Beiträge', 'hint': 'Automatisierte Inhalte wie Bots oder Crossposts müssen als “Öffentlich (Still)” veröffentlicht werden. Konten, die ohne aktive Teilnahme ausschließlich automatisierte Inhalte posten, können entfernt werden.'}, {'id': '18', 'text': 'Keine Belästigung oder Spam', 'hint': 'Belästigung, Mobbing, unerwünschte Kontaktaufnahmen, Spam oder die Verbreitung von Schadsoftware sind untersagt.'}, {'id': '19', 'text': 'Verbot extremistischer Inhalte', 'hint': 'Inhalte mit Nazi-Symbolik, extremistischer Propaganda oder Hassrede sind strengstens verboten.'}, {'id': '20', 'text': 'Authentizität bewahren', 'hint': 'Erstelle keine Fake-Profile und gib dich nicht als jemand anderes aus.'}, {'id': '21', 'text': 'Keine absichtliche Verbreitung von Falschinformationen', 'hint': 'Das bewusste Verbreiten von falschen Informationen, die der Community oder der Gesellschaft schaden könnten, ist verboten.'}]",
         "13802",
         "12"
        ],
        [
         "13",
         "mastodonapp.uk",
         "Mastodon App UK",
         "UK Hosted and Managed Mastodon Instance. General communal space for discussion, everyone welcome! Now with a 1000 character limit for posts!",
         "3227",
         "['en']",
         "[{'id': '1', 'text': 'Sexually explicit or violent media must be marked as sensitive & content warned when posting'}, {'id': '2', 'text': 'Be respectful. Racism, sexism, homophobia, transphobia (including targeted misgendering, deadnaming, or promotion of so-called \"conversion therapy\"), xenophobia, and other forms of hate and discrimination are not welcome. Your behaviour elsewhere may also be considered if brought to our attention. '}, {'id': '3', 'text': 'No incitement of violence or promotion of discriminatory or violent ideologies'}, {'id': '4', 'text': 'No spam, harrassment, dogpiling or doxxing of other users, this includes mass and spam reporting'}, {'id': '5', 'text': 'No content illegal in The United Kingdom'}, {'id': '6', 'text': 'No intentionally false or misleading information. By extension, do not pose as persons of interest. '}, {'id': '7', 'text': 'Controversial, reactionary, NSFW, and satirical or similar content may be removed if not obviously Content Warned where appropriate.'}, {'id': '9', 'text': 'No promotion of gambling, Crypto, NFTs, anti-vaccination, self-harm, terrorism, illegal activities, Abuse/exploitation, or Violence.'}, {'id': '10', 'text': 'The sites staff team will ultimately have the final say on any and all moderation actions.'}]",
         "80374",
         "13"
        ],
        [
         "14",
         "universeodon.com",
         "Universeodon Social Media",
         "Be one with the #fediverse. Join millions of humans building, creating, and collaborating on Mastodon Social Network. Supports 1000 character posts.",
         "3157",
         "['en']",
         "[{'id': '16', 'text': 'Sexually explicit or violent media must be marked as sensitive & content warned when posting'}, {'id': '17', 'text': 'Be respectful. Racism, sexism, homophobia, transphobia (including targeted misgendering, deadnaming, or promotion of so-called \"conversion therapy\"), xenophobia, and other forms of hate and discrimination are not welcome. Your behaviour elsewhere may also be considered if brought to our attention. '}, {'id': '18', 'text': 'No incitement of violence or promotion of discriminatory or violent ideologies'}, {'id': '19', 'text': 'No spam, harrassment, dogpiling or doxxing of other users, this includes mass and spam reporting'}, {'id': '20', 'text': 'No content illegal in The United Kingdom'}, {'id': '21', 'text': 'No intentionally false or misleading information. By extension, do not pose as persons of interest. '}, {'id': '22', 'text': 'Controversial, reactionary, NSFW, and satirical or similar content may be removed if not obviously Content Warned where appropriate.'}, {'id': '23', 'text': 'No promotion of gambling, Crypto, NFTs, anti-vaccination, self-harm, terrorism, illegal activities, Abuse/exploitation, or Violence.'}, {'id': '24', 'text': 'The sites staff team will ultimately have the final say on any and all moderation actions.'}]",
         "81677",
         "14"
        ],
        [
         "15",
         "mamot.fr",
         "Mamot - Le Mastodon de La Quadrature du Net ",
         "Mamot.fr est un serveur Mastodon francophone, géré par La Quadrature du Net.",
         "3122",
         "['en']",
         "[{'id': '1', 'text': 'Interdiction de la pédopornographique', 'hint': 'Conformément aux lois françaises et à la jurisprudence, les contenus pédopornographiques, y compris sous forme dessinée, sont illégaux et seront supprimés, et les comptes concernés bloqués (si distants) ou supprimés (si local).'}, {'id': '2', 'text': 'Discrétion des médias pornographique violent', 'hint': 'Les contenus pornographiques ou visiblement violents doivent être marqués avec le drapeau \"sensible / sensitive\". Les comptes ne respectant pas cette règle seront rendus invisibles aux flux locaux et fédérés. '}, {'id': '3', 'text': 'Interdiction de la Publicité', 'hint': \"La publicité, sous forme répétée et/ou intrusive (faisant mention d'autres utilisateur·ices), n'est pas acceptée. Les comptes concernés seront rendus invisibles aux flux locaux et fédérés, ou supprimés, selon la gravité de la situation. \"}, {'id': '4', 'text': 'Politesse des discussions', 'hint': \"Approchez les personnes avec précaution et politesse. Si une personne vous demande d'arrêter de la mentionner ou qu'elle exprime ne plus vouloir participer à une discussion, arrêtez immédiatement. \"}, {'id': '5', 'text': 'Interdiction des propos haineux', 'hint': 'Sont interdits les propos, images ou vidéos racistes, sexistes, homophobes ou transphobes.'}, {'id': '7', 'text': 'Interdiction du harcèlement', 'hint': \"Sont interdit toute conduite, en public ou en privé, ayant pour but de traquer, harceler ou intimider d'autres personnes, sexuellement ou non.\"}, {'id': '8', 'text': 'Interdiction de la révélations confidentielles', 'hint': \"Il est interdit de rassembler, publier, disséminer les informations personnelles d'une autre personne sans son autorisation explicite.\"}, {'id': '9', 'text': 'Interdiction de forcer une conversation', 'hint': 'Il est interdit de poursuivre une conversation ou inciter une personne à poursuivre une interaction avec une personne ayant réclamé la cessation de ladite interaction peut être considéré comme du harcèlement, indépendamment de la confidentialité employée.'}, {'id': '10', 'text': \"Interdiction de retournement d'une oppression systémique\", 'hint': 'Est interdit toute tentative de retournement d’une oppression systémique. Par exemple : « racisme anti-blanc », « sexisme anti-homme », « hétérophobie », « cisphobie ».'}, {'id': '11', 'text': 'Interdiction de la diffamation & calomnie', 'hint': 'Il est interdit publier ou diffuser intentionnellement des propos diffamatoires, calomnieux. Cela concerne aussi toute désinformation avec intention de tromper (le gorafi ou the onion sont donc autorisés).'}, {'id': '12', 'text': \"Interdiction du partage d'informations à véracité douteuse avec intention de nuire\", 'hint': \"Il est interdit de partager des informations à véracité douteuse avec intention de nuire. Veilliez à sourcer et à vérifier les informations que vous postez, notamment si elles peuvent nuire à la santé, l'intégrité ou à la sécurité des personnes. Une exigence particulière est apportée aux informations liées à la santé ou l'éducation. \"}, {'id': '13', 'text': 'Attribution : Il est encouragé d’attribuer l’auteur·ce ayant crée le média ou contenu que vous postez', 'hint': 'Cette mesure est surtout destinée à pouvoir généré un avertissement, sans actions, pour prévenir la génération de contenu par IA qui puisse spammer le serveur et le fédiverse.'}, {'id': '14', 'text': 'Création humaine : Il est découragé d’utiliser des outils de génération procédurale ( IA ), et si c’est le cas, ça doit être mentionné', 'hint': 'Cette mesure est surtout destinée à pouvoir généré un avertissement, sans actions, pour prévenir la génération de contenu par IA qui puisse spammer le serveur et le fédiverse.'}, {'id': '15', 'text': 'Interdiction des arnaques. Il est interdit de faire la promotion d’arnaques du type cryptomonnaie, prêts, ventes illégales, soins médicaux, mais sans y être limité.', 'hint': '\\r\\n\\r\\n    Cette mesure permet de supprimer les comptes qui font la promo de scams, de soins douteux, et de manière générale qui sont dans la prédation économique.\\r\\n'}]",
         "39731",
         "15"
        ],
        [
         "17",
         "c.im",
         "C.IM",
         "C.IM is a general, mainly English-speaking Mastodon instance.",
         "2688",
         "['en']",
         "[{'id': '11', 'text': 'Respect the laws of the Netherlands and the Isle of Man, including those related to hate speech and defamation.', 'hint': ''}, {'id': '12', 'text': 'Threatening, abusive, intolerant or illegal behavior may lead to moderation and/or further measures. We have a zero tolerance approach to racism, sexism, homophobia and transphobia. Moderation decisions are final. ', 'hint': ''}, {'id': '13', 'text': 'The Content Warning flag should be used for NSFW content, and NSFW media should be marked as sensitive.', 'hint': ''}, {'id': '14', 'text': 'Account registrations are monitored and accounts considered spam (including commercial advertising, political campaigning/propaganda, duplicate accounts or impersonating legal entities) will be moderated or removed.', 'hint': ''}, {'id': '15', 'text': 'Do not harass or bully other users.', 'hint': ''}, {'id': '16', 'text': 'Do not share illegal or copyrighted content.', 'hint': ''}, {'id': '17', 'text': 'Do not spam or engage in any form of malicious activity.', 'hint': ''}, {'id': '18', 'text': 'Keep discussions civil and respectful, and refrain from using derogatory language or engaging in personal attacks.', 'hint': ''}, {'id': '19', 'text': 'Do not reveal personal information about other people without their consent.', 'hint': ''}, {'id': '20', 'text': 'Use appropriate tags and content warnings when posting potentially sensitive or triggering content.', 'hint': ''}, {'id': '21', 'text': 'If you see a violation of these rules, report it to the moderation team.', 'hint': ''}, {'id': '22', 'text': 'To use our service, you are at least 18 years old.', 'hint': ''}]",
         "67782",
         "17"
        ],
        [
         "18",
         "mstdn.ca",
         "Mastodon Canada",
         "A community for Canadians, First Nations, Metis, and Inuit Peoples of the great white north.",
         "2670",
         "['en']",
         "[{'id': '1', 'text': 'No toxic and hateful speech.', 'hint': ''}, {'id': '3', 'text': 'No incitement of violence and no promotion of misleading or violent ideologies.', 'hint': ''}, {'id': '4', 'text': 'No harassment, dogpiling, or unwanted advances.', 'hint': ''}, {'id': '5', 'text': 'No doxxing of other users.', 'hint': ''}, {'id': '6', 'text': \"No content illegal in Canada or copyrighted content that you don't own rights to.\", 'hint': ''}, {'id': '7', 'text': 'Sexually explicit or violent media must be marked appropriately.', 'hint': ''}, {'id': '8', 'text': 'No spamming.\\r\\nExcessive posting, boosting, advertising or mass-marketing posts will be actioned accordingly and based on intent.', 'hint': ''}, {'id': '9', 'text': 'Be yourself.\\r\\nAccounts intended to impersonate or parody are not permitted, and those found to be directly misrepresenting themselves as another person or entity will be actioned accordingly.', 'hint': ''}, {'id': '10', 'text': 'Agree to the Terms of Service and Code of Conduct.', 'hint': ''}]",
         "35494",
         "18"
        ],
        [
         "19",
         "sfba.social",
         "SFBA.social",
         "A Mastodon instance for the San Francisco Bay Area. Come on in and join us!",
         "2269",
         "['en']",
         "[{'id': '28', 'text': 'Do not use slurs or racist, sexist, homophobic, transphobic, ableist or otherwise discriminatory or hateful jokes or language; or promote white supremacy, anti-Semitism, transphobia, casteist, or other hateful ideologies.', 'hint': ''}, {'id': '29', 'text': 'Do not post content that is illegal in the USA or California.', 'hint': 'This includes unlicensed media. We will remove copyrighted content in response to a valid DMCA notice per our policy.'}, {'id': '30', 'text': 'Do not harass anyone, participate in group harassment of anyone, or otherwise engage in name calling or personal attacks.', 'hint': ''}, {'id': '31', 'text': 'Do not post or threaten to post other people’s personally identifying information (“doxxing”).', 'hint': ''}, {'id': '32', 'text': 'Do not tone police.', 'hint': ''}, {'id': '33', 'text': 'Do not “shitpost” hateful content', 'hint': 'While humorous posts are allowed, even encouraged, “shitposting” is not an exception to rules 1 or 3. There are no ironic slurs.'}, {'id': '34', 'text': 'Do not sell or promote cryptocurrencies or NFTs.', 'hint': ''}, {'id': '62', 'text': 'Do not litigate moderation decisions on the timeline. ', 'hint': 'You can direct message @moderators with concerns.'}, {'id': '63', 'text': 'Mark content that contains nudity, gore, violence, etc. as sensitive and clearly label it with a content warning and/or hashtag.', 'hint': ''}, {'id': '64', 'text': 'Do not post spam.', 'hint': 'There is additional information about what SFBA.social considers spam on the information hub: https://hub.sfba.social/2024/07/05/sfba-social-spam-policy/'}, {'id': '65', 'text': 'Organizations must be based in the SF Bay Area.', 'hint': 'See our Corporate and Organization policy for more details.\\r\\nhttps://hub.sfba.social/governance/corporate-and-organization-accounts-on-sfba-sites/'}]",
         "39192",
         "19"
        ],
        [
         "22",
         "mastodon.scot",
         "mastodon.scot",
         "A server intended for (but not limited to) users in Scotland or who identify as Scottish.",
         "2178",
         "['en']",
         "[{'id': '10', 'text': \"No discrimination, including (but not limited to) racism, sexism, homophobia or transphobia (including targeted misgendering, deadnaming, or promotion of so-called 'conversion therapy').\", 'hint': ''}, {'id': '11', 'text': 'No explicit (NSFW) content without content warnings and/or sensitive media markers. Explicit content must not be used in user avatars or header images.', 'hint': ''}, {'id': '18', 'text': 'No harassment of other users on this or other servers.', 'hint': ''}, {'id': '19', 'text': 'No content illegal in the following countries: United Kingdom, Germany', 'hint': ''}, {'id': '20', 'text': 'No incitement of violence or promotion of violent ideologies.', 'hint': ''}, {'id': '21', 'text': 'No disinformation regarding public health issues or political/military campaigns.', 'hint': ''}, {'id': '22', 'text': 'No spam. This includes commercial advertising, promotion of services, and SEO.', 'hint': ''}, {'id': '23', 'text': 'No impersonation of other individuals, public figures or organisations, unless clearly marked as a parody.', 'hint': ''}, {'id': '24', 'text': 'All automated (bot) accounts must enable the bot flag in their account preferences, respect #nobot markers, and post as unlisted unless making less than one post per hour.', 'hint': ''}]",
         "29106",
         "22"
        ],
        [
         "24",
         "ohai.social",
         "ohai.social",
         "A cozy, fast and secure Mastodon server where everyone is welcome. Run by the folks at ohai.is.",
         "1751",
         "['en']",
         "[{'id': '1', 'text': 'We do not tolerate discriminatory behavior and content promoting or advocating the oppression of members of marginalized groups.', 'hint': ''}, {'id': '8', 'text': 'We do not tolerate threatening behavior, stalking, doxxing, or harassment (including brigading, dogpiling, or any other form of contact with a user who has stated that they do not wish to be contacted).', 'hint': ''}, {'id': '11', 'text': 'We do not tolerate violent nationalist propaganda, Nazi symbolism or promoting the ideology of National Socialism.', 'hint': ''}, {'id': '12', 'text': 'We do not tolerate conspiracy narratives or other reactionary myths supporting or leading to the above-mentioned (and/or similar) behavior.', 'hint': ''}, {'id': '15', 'text': 'All explicit (NSFW) content must be marked as sensitive and have a content warning. Explicit content must not be used in user avatars or header images.', 'hint': ''}, {'id': '16', 'text': 'Content that is illegal in Germany will be deleted and may lead to immediate account suspension.', 'hint': ''}]",
         "40004",
         "24"
        ],
        [
         "25",
         "mastodon.ie",
         "mastodon.ie",
         "Irish Mastodon - run from Ireland, we welcome all who respect the community rules and members.",
         "1742",
         "['en']",
         "[{'id': '1', 'text': \"Don't Be A Ballox\", 'hint': ''}, {'id': '2', 'text': 'No bigotry, racism, xenophobia, sexism, homophobia, transphobia, anti-Traveller speech or any hate speech.', 'hint': ''}, {'id': '5', 'text': ' No unsolicited DMs ', 'hint': ''}, {'id': '8', 'text': 'We have Threads blocked, just so you know', 'hint': ''}, {'id': '9', 'text': 'We operate on a \"3 strikes and you\\'re out\" basis.', 'hint': ''}]",
         "21213",
         "25"
        ],
        [
         "26",
         "defcon.social",
         "DEF CON Social",
         "DEFCON.social = The intersection of technology and society, a community for artists, hackers, policy, academics, researchers, infosec, activists & cyberpunks",
         "1730",
         "['en']",
         "[{'id': '21', 'text': 'No toxic behavior', 'hint': 'No racism, sexism, homophobia, transphobia, ableism, xenophobia, casetism, supremacy, and edgelord behavior such as trolling, dogpiling, sealioning, harassment, doxxing, incitement to violence. Do not make users feel uncomfortable, unwelcome, or afraid'}, {'id': '25', 'text': \"Don't break laws here\", 'hint': \"Don't ask others to break laws here, or admit to breaking laws\"}, {'id': '26', 'text': 'Pornography, Nudity, Gore, illegal content, spam & commercial advertising are forbidden', 'hint': 'Promoting your own projects in moderation is OK'}, {'id': '28', 'text': 'No impersonation or undeclared automated accounts', 'hint': 'Don\\'t claim to be Taylor Swift when you aren\\'t. Mark your account as type \"Bot\" if you are automatically posting'}, {'id': '30', 'text': 'You must be at least 13 years old', 'hint': 'We want to comply with regulations such as the US Child Online Protection Act (COPA), the California Consumer Privacy Act (CCPA), and the UK Age-Appropriate Design Code (AADC)'}]",
         "15536",
         "26"
        ],
        [
         "29",
         "social.linux.pizza",
         "Linux.Pizza",
         "A instance dedicated - but not limited - to people with an interest in the GNU+Linux ecosystem and/or general tech. Sysadmins to enthusiasts, creators to movielovers - Welcome!\n\n",
         "1252",
         "['en']",
         "[{'id': '1', 'text': 'Dont post NSFW without CW', 'hint': ''}, {'id': '2', 'text': 'Dont post ads without permission\\r\\n', 'hint': ''}, {'id': '3', 'text': 'Dont promote violence, racism and/or discrimination towards other people of other ethnical backgrounds or sexual orientation (hate speech)', 'hint': ''}, {'id': '4', 'text': 'We dont want crypto-ads here aswell.', 'hint': ''}, {'id': '5', 'text': 'Dont be rude, keep conversations civil and kind.', 'hint': ''}, {'id': '6', 'text': 'All public posts from this instance are indexed by tootfinder.ch.', 'hint': ''}, {'id': '7', 'text': 'Do not flood the timeline with posts. If you still want to do that - please set the posts as \"unlisted\".', 'hint': ''}, {'id': '8', 'text': 'No vatniks', 'hint': ''}]",
         "11992",
         "29"
        ],
        [
         "31",
         "social.cologne",
         "Mastodon",
         "social.cologne is eine Mastodon Instanz für jede:n Kölner:in und alle, die sich mit Köln verbunden fühlen. Betrieben von https://cgnfs.de.",
         "1201",
         "['en']",
         "[{'id': '12', 'text': 'Treat others with respect', 'hint': 'Avoid any form of insult, bullying, or discrimination, including but not limited to racist, sexist, homophobic, transphobic, anti-Semitic, and misogynistic statements or actions against others.'}, {'id': '13', 'text': 'Use appropriate tone', 'hint': 'Use a respectful and friendly tone, even if you disagree with someone.'}, {'id': '14', 'text': 'Respect privacy', 'hint': 'Do not share personal information without explicit permission and respect the privacy rights of others.'}, {'id': '15', 'text': 'Comply with applicable law', 'hint': 'Do not publish any illegal content.'}, {'id': '16', 'text': 'Avoid misinformation', 'hint': 'Do not share false or misleading information.'}, {'id': '17', 'text': 'No spam posts', 'hint': 'Refrain from publishing unwanted advertising or similar content that does not fit the community.'}, {'id': '19', 'text': 'Mark sensitive content (CW)', 'hint': 'Please mark any content that may contain common triggers, is sexually explicit or violent as sensitive (CW) to ensure the safety of other members. Note: Accounts that exclusively post such content may be limited or banned.'}, {'id': '20', 'text': 'You must be older than 16 years', 'hint': 'According to European law, you must be at least 16 years old to use this instance.'}]",
         "12065",
         "31"
        ],
        [
         "32",
         "flipboard.social",
         "Flipboard",
         "Welcome to Flipboard on Mastodon. A place for our community of curators and enthusiasts to inform and inspire each other.  \nIf you'd like to join please request an invitation via the sign-up page. ",
         "1192",
         "['en']",
         "[{'id': '6', 'text': 'This instance is part of Flipboard and adheres to the same Community Guidelines. You can read them here https://about.flipboard.com/community-guidelines/', 'hint': ''}, {'id': '7', 'text': 'Keep this instance safe, respectful, and fun by not violating the rules.', 'hint': ''}, {'id': '8', 'text': 'Consider how your post might impact others - if it might be received as offensive, painful, or otherwise unwanted, please use a content warning (CW.)', 'hint': ''}, {'id': '34', 'text': 'Misgendering, deadnaming, or promotion of so-called \"conversion therapy\" is prohibited.', 'hint': ''}]",
         "7482",
         "32"
        ],
        [
         "33",
         "livellosegreto.it",
         "Livello Segreto",
         "Livello Segreto è il social etico che ha rispetto di te e del tuo tempo.",
         "1149",
         "['en']",
         "[{'id': '2', 'text': 'No al sessismo', 'hint': ''}, {'id': '3', 'text': 'No al machismo', 'hint': ''}, {'id': '4', 'text': 'No al bullismo', 'hint': ''}, {'id': '5', 'text': \"No alla queerfobia, all'omofobia, alla bifobia, alla lesbofobia, alla transfobia, alla afobia\", 'hint': ''}, {'id': '6', 'text': \"No all'abilismo\", 'hint': ''}, {'id': '7', 'text': 'No al razzismo', 'hint': ''}, {'id': '9', 'text': 'No ai bot*', 'hint': '* in generale è una regola da tenere presente, ma se il bot ha utilità per la community scrivici che si sistema tutto'}, {'id': '10', 'text': 'Usare i CW per: NSFW, SPOILER, GUERRA, POLITICA', 'hint': ''}, {'id': '11', 'text': 'Evitare bestemmie e turpiloquio eccessivo/gratuito', 'hint': ''}, {'id': '12', 'text': 'No pornografia', 'hint': ''}, {'id': '15', 'text': 'Istanza antifascista', 'hint': ''}, {'id': '16', 'text': 'No alla pubblicità e/o agli annunci commerciali (consentiti i progetti personali/indipendenti)', 'hint': ''}, {'id': '17', 'text': 'No al proselitismo religioso', 'hint': ''}]",
         "7673",
         "33"
        ],
        [
         "34",
         "mastodon.green",
         "Mastodon.green",
         "Plant trees while you use Mastodon. A server originally for people in the EU, but now open for anyone in the world",
         "1141",
         "['en']",
         "[{'id': '395', 'text': 'Try 30-days for free, only 1,50 € (+VAT) per month after. No algorithms or ads to waste your time. We use 20 % of membership fees to plant trees. Change your plan or cancel at any time', 'hint': ''}, {'id': '397', 'text': 'Please abide by the community standards', 'hint': ''}, {'id': '398', 'text': 'You can use any official EU language, Icelandic and Norwegian on this server', 'hint': ''}, {'id': '399', 'text': 'No sexually explicit images or video', 'hint': ''}, {'id': '400', 'text': 'No racism, sexism, homophobia, transphobia, xenophobia, or casteism', 'hint': ''}, {'id': '401', 'text': 'No incitement of violence or promotion of violent ideologies', 'hint': ''}, {'id': '402', 'text': 'No harassment, dogpiling or doxxing of other users', 'hint': ''}, {'id': '404', 'text': 'No false or misleading information', 'hint': ''}]",
         "12004",
         "34"
        ],
        [
         "36",
         "indieweb.social",
         " Indieweb.Social ",
         "INDIEWEB.SOCIAL is an instance focused on the evolution of #Openweb, #Indieweb, #Fediverse, #Mastodon, #Humanetech and #Calm technologies. ",
         "1123",
         "['en']",
         "[{'id': '1', 'text': 'No spam or excessive self-promoting in posts.', 'hint': ''}, {'id': '2', 'text': 'No bots that are not labeled as such in their profile.', 'hint': ''}, {'id': '3', 'text': 'Keep conversations civil and respectful even in disagreement.', 'hint': ''}, {'id': '4', 'text': 'No racism, sexism, homophobia, transphobia, xenophobia, anti-Semitism, or casteism (including targeted misgendering, deadnaming, or promotion of so-called \"conversion therapy\").', 'hint': ''}, {'id': '5', 'text': 'No sexually explicit or violent posts or media allowed', 'hint': ''}, {'id': '6', 'text': 'No incitement of violence or promotion of violent ideologies', 'hint': ''}, {'id': '7', 'text': 'No illegal content.', 'hint': ''}]",
         "11825",
         "36"
        ],
        [
         "37",
         "nerdculture.de",
         "NerdCulture",
         "Be excellent to each other, live humanism, no nazis, no hate speech. Not only for nerds, but the domain is somewhat cool. ;)\nNo bots in general. Languages: DE, EN, FR, NL, ES, IT",
         "1109",
         "['en']",
         "[{'id': '1', 'text': 'Be friendly and polite to each other', 'hint': ''}, {'id': '2', 'text': 'No hate speech, no discrimination of others, regardless of their age, gender, nationality or whatever', 'hint': ''}, {'id': '3', 'text': 'No spamming of any kind.', 'hint': ''}, {'id': '4', 'text': \"Don't annoy others and don't get easily annoyed by others.\", 'hint': ''}, {'id': '5', 'text': 'No advertisements of commercial products.', 'hint': ''}, {'id': '6', 'text': 'No distribution of copyrighted material.', 'hint': ''}, {'id': '7', 'text': \"Do not upload material for which you don't have the rights\", 'hint': ''}, {'id': '8', 'text': 'No automated posts by bots, except when you have permission to do so by the server admins', 'hint': ''}, {'id': '9', 'text': \"Don't abuse this service or server.\", 'hint': ''}, {'id': '10', 'text': 'Treat other how you want to be treated by them - with respect!', 'hint': ''}, {'id': '11', 'text': 'This is a service running on a private server and as a friendly user you are welcome to use this service, but in the end the server admin can cancel user accounts and will do when the user misbehaves. The admin will decide in the end. ', 'hint': ''}, {'id': '12', 'text': \"Valid mail address required! You'll receive reminder mail after 6 months of inactivity to log in again. If you don't react to those mails, your account will be deleted after 7 months of inactivity. \", 'hint': ''}, {'id': '13', 'text': 'Allowed languages are German and English as main languages while as the following languages are tolerated: Dutch, French, Spanish, Italian.', 'hint': ''}, {'id': '14', 'text': 'This service is free of cost for you.\\r\\nHowever offering this service does have cost implications. If you can afford some cents per week it would be great when you could contribute in sharing the server costs. Of course this voluntarily for you. ', 'hint': ''}, {'id': '16', 'text': \"No free-speech extremists, no far-right extremists, no nationalists. This includes people that elect or support such political parties like AfD in Germany, Fratelli d'Italia in Italy or Rassemblement National in France, etc.. If you support these parties, this instance is not for you. \", 'hint': ''}, {'id': '18', 'text': 'Alt Texts for Pictures encouraged. Please conduct descriptive texts for pictures you upload (Alt Texts). This helps visually impaired users and others enormously in their online life. ', 'hint': ''}]",
         "7163",
         "37"
        ],
        [
         "38",
         "ieji.de",
         "ieji.de",
         "ieji.de is a generalistic mastodon instance, with the goal of being the fastest mastodon instance in Europe and with a focus on user privacy, like being usable via the tor network.",
         "1105",
         "['en']",
         "[{'id': '1', 'text': 'No explicit content allowed', 'hint': ''}, {'id': '2', 'text': 'Erotic content must have content warning', 'hint': ''}, {'id': '3', 'text': 'No harassment allowed', 'hint': ''}, {'id': '4', 'text': 'No backlink accounts allowed', 'hint': ''}, {'id': '5', 'text': 'Unlawful content is forbidden', 'hint': ''}]",
         "15114",
         "38"
        ],
        [
         "40",
         "metalhead.club",
         "Metalhead.club",
         "Metalhead.club is a Mastodon instance hosted in Germany and powered by 100% green energy.",
         "747",
         "['en']",
         "[{'id': '1', 'text': 'No pornography', 'hint': ''}, {'id': '3', 'text': 'No insulting / hate speech', 'hint': ''}, {'id': '4', 'text': 'No racism', 'hint': ''}, {'id': '5', 'text': 'No extremist political content', 'hint': ''}, {'id': '6', 'text': 'This server is for humans, not for bots! If you intend to bulk-send posts, this instance is not for you. (use botsin.space)', 'hint': ''}, {'id': '7', 'text': 'Upload / distribute only content that you have permission for.', 'hint': ''}, {'id': '8', 'text': 'No ads, except for featuring your own creative Metal music content (music, articles, reviews, ...)', 'hint': ''}, {'id': '10', 'text': 'Misusing unrelated hashtags on posts for better visibility is prohibited ', 'hint': ''}]",
         "5776",
         "40"
        ],
        [
         "42",
         "masto.nu",
         "masto.nu",
         "General purpose Mastodon server. All languages are welcome but English, Dutch and Spanish are preferred.",
         "725",
         "['en']",
         "[{'id': '7', 'text': 'No harassment, dogpiling or doxxing of other users.', 'hint': ''}, {'id': '8', 'text': 'No impersonation of other people, companies, organizations, brands, etc.', 'hint': ''}, {'id': '9', 'text': 'No racism, sexism, homophobia, transphobia, xenophobia, or casteism.', 'hint': ''}, {'id': '10', 'text': 'No incitement of violence or advocacy of violent acts/ideologies.', 'hint': ''}, {'id': '11', 'text': 'No advertising, spam or excessive promotion.', 'hint': ''}, {'id': '12', 'text': 'No sexually explicit or graphically violent media.', 'hint': ''}, {'id': '13', 'text': 'No intentionally false or misleading information.', 'hint': ''}, {'id': '14', 'text': 'No illegal or unlawful content', 'hint': ''}, {'id': '15', 'text': 'Content created by others must be attributed, and the use of AI must be disclosed. Profiles that only post AI-generated content will not be tolerated.', 'hint': ''}]",
         "24284",
         "42"
        ],
        [
         "44",
         "mstdn.business",
         "Mastodon For Business",
         "Business-friendly Mastodon server,open for everyone interested to contribute with their real name, business, brand, or startup to build a professional community. Hosted on Hetzner Cloud in Helsinki.",
         "699",
         "['en']",
         "[{'id': '2', 'text': 'No NSFW or illegal content.'}, {'id': '3', 'text': 'No racism, sexism, homophobia, transphobia, or xenophobia.'}, {'id': '4', 'text': 'Do not share intentionally false or misleading information.'}, {'id': '5', 'text': 'No spam or excessive promotion.'}, {'id': '6', 'text': 'Brands are welcome. For personal accounts use your real name.'}]",
         "27114",
         "44"
        ],
        [
         "45",
         "ravenation.club",
         "Mastodon",
         "ravenation.club is an instance for all the ravers in the universe. Anyone who listens to electronic music (or not) is welcome. Operated by https://cgnfs.de",
         "665",
         "['en']",
         "[{'id': '11', 'text': 'Treat others respectfully', 'hint': 'Refrain from any form of insult, bullying or discrimination, including but not limited to racist, sexist, homophobic, transphobic, anti-Semitic and misogynistic remarks or actions toward others.'}, {'id': '12', 'text': 'Use an appropriate tone', 'hint': 'Use a respectful and friendly tone, even if you disagree with someone.'}, {'id': '13', 'text': 'Respect the privacy of others', 'hint': 'Do not share personal information without explicit permission and respect the privacy rights of others.'}, {'id': '14', 'text': 'Compliance with applicable law', 'hint': 'Do not post illegal content.'}, {'id': '15', 'text': 'Avoid misinformation', 'hint': 'Do not share false or misleading information.'}, {'id': '16', 'text': 'No spam posts', 'hint': 'Refrain from posting unsolicited advertisements or similar content that does not fit the community.'}, {'id': '17', 'text': 'Mark sensitive content (CW)', 'hint': 'Please mark any content that may contain common triggers, is sexually explicit or violent as sensitive (CW) to ensure the safety of other members. Note: Accounts that exclusively post such content may be limited or banned.'}, {'id': '18', 'text': 'You must be older than 16 years', 'hint': 'According to European law, you must be at least 16 years old to use this instance.'}]",
         "27827",
         "45"
        ],
        [
         "47",
         "sunny.garden",
         "Sunny Garden",
         "sunny.garden is a community for indie creators who draw, paint, sculpt, write, design, program, play, sing or build, and anyone else who thinks that sounds like a nice place to be.",
         "581",
         "['en']",
         "[{'id': '1', 'text': 'Media containing nudity must be marked with a content warning.', 'hint': 'Profile image, header, and content must be appropriate for all audiences.'}, {'id': '2', 'text': 'No hate speech, derogatory language, or the use of slurs directed at marginalized groups or people. ', 'hint': 'No racism, sexism, homophobia, transphobia, ableism, xenophobia. No fascist, neo-nazi or alt-right content.'}, {'id': '3', 'text': 'No incitement or promotion of violence including self-harm and suicide.', 'hint': ''}, {'id': '4', 'text': 'No harassment, dogpiling, or doxxing.', 'hint': 'Ad hominem, personal attacks or mudslinging will be considered harassment.  You are free to criticize nations, corporations, billionaires, or high profile political figures; though other rules (eg. no racism, hate-speech, ableism) still apply.'}, {'id': '5', 'text': 'No content illegal in Canada.', 'hint': ''}, {'id': '6', 'text': 'Do not share intentionally false or misleading information.', 'hint': ''}, {'id': '7', 'text': 'No \"AI\" Art, no NFTs, no crypto, no blockchain.', 'hint': 'See About page for further details on \"AI\" Art policy.'}, {'id': '8', 'text': 'Respect personal boundaries.', 'hint': 'Don\\'t pry into people\\'s personal lives. Do not be \"a creep\".'}, {'id': '9', 'text': 'No explicit sexual, violent or gory content.', 'hint': ''}, {'id': '10', 'text': 'No sexual depictions of minors.', 'hint': ''}, {'id': '11', 'text': 'No proselytizing.', 'hint': ''}]",
         "2728",
         "47"
        ],
        [
         "48",
         "bark.lgbt",
         "Bark!",
         "Furry focused instance for critters that like to bark!\nLGBTQ+ run and friendly, active moderation",
         "546",
         "['en']",
         "[{'id': '1', 'text': 'No discrimination, bigotry, transphobia, homophobia, etc of any kind is accepted', 'hint': ''}, {'id': '2', 'text': 'No discussion of illegal topics or sharing of pirated data.', 'hint': ''}, {'id': '5', 'text': 'Any content that would be considered Illegal in the European economic area is strictly banned', 'hint': ''}, {'id': '6', 'text': 'No uncensored NSFW content. Use a CW', 'hint': ''}, {'id': '7', 'text': 'You are at least 18 years of age during sign-up', 'hint': ''}, {'id': '8', 'text': 'No zoophillia / Loli', 'hint': ''}, {'id': '11', 'text': 'No NSFW profile pictures, headers and usernames', 'hint': ''}, {'id': '46', 'text': 'No posting of AI art', 'hint': ''}]",
         "6377",
         "48"
        ],
        [
         "49",
         "urbanists.social",
         "Urbanists.Social",
         "We're a server for people who like bikes, transit, and walkable cities. Let's get to know each other!",
         "540",
         "['en']",
         "[{'id': '1', 'text': \"Please don't post anything that's illegal in the US or EU.\", 'hint': ''}, {'id': '3', 'text': 'No racism, sexism, homophobia, transphobia, xenophobia, or any other form of discrimination.', 'hint': ''}, {'id': '8', 'text': 'Punch Nazis, trebuchet TERFs. Any posts or usage containing nazi symbolism or ideology, or which contains \"gender critical\" / \"just asking questions\" shit will get you banned immediately and without recourse.', 'hint': ''}, {'id': '9', 'text': 'No promotion of crypto or NFTs. ', 'hint': ''}, {'id': '10', 'text': 'NSFW content must be behind a content warning / marked as sensitive. Your profile (avatar, header, display name, etc.) must be SFW.', 'hint': ''}, {'id': '11', 'text': \"Don't abuse the instance or use it to abuse other federated instances. Don't try to break things.\", 'hint': ''}, {'id': '12', 'text': \"Be considerate. Keep in mind that any public post you make will appear in our public timeline and the public timelines of other instances federated with Urbanists.Social. Use content warnings where appropriate. Use NSWF tags where appropriate. Don't be a jerk about it.\", 'hint': ''}, {'id': '13', 'text': \"Bots are allowed, but don't make them annoying. Admins will ask you to move your bot to another instance if it becomes a problem.\", 'hint': ''}, {'id': '14', 'text': 'Do not harass other users.', 'hint': ''}]",
         "6398",
         "49"
        ],
        [
         "50",
         "hostux.social",
         "Mastodon Hostux",
         "European mastodon instance hosted in TH2LF (FR). Also beer, privacy and free software lovers. Join us!\nThis service is managed by alarig and valere.\nPhoto from https://www.flickr.com/photos/cogdog/",
         "526",
         "['en']",
         "[]",
         "8518",
         "50"
        ],
        [
         "52",
         "mastodon.me.uk",
         "mastodon.me.uk",
         "Open, user-supported, corporation-free social media for the UK.",
         "517",
         "['en']",
         "[{'id': '2', 'text': 'Commercial use (company accounts, advertising etc) is not permitted on this server.', 'hint': \"It's OK to register an account for a non-profit or public sector organisation, and we reserve the right to make exceptions for some companies that act in good faith.\"}, {'id': '3', 'text': 'You must comply with the Code of Conduct (see below).', 'hint': \"In general, be respectful of each other and we'll all get on just fine.\"}, {'id': '5', 'text': 'Automated (bot) accounts are allowed if run by someone with a personal account here. ', 'hint': 'Bot accounts must enable the bot flag in their account preferences, respect #nobot markers, and post as unlisted if making more than one post every six hours (on average). The mods may remove bot accounts that become disruptive.'}]",
         "2698",
         "52"
        ],
        [
         "54",
         "freiburg.social",
         "freiburg.social",
         "Ein Mastodon-Server für Freiburg und Umland betrieben durch den Verein freiburg.social e.V.: https://wir.freiburg.social",
         "504",
         "['en']",
         "[{'id': '1', 'text': 'Keine rassistische, sexistische, homophobe, transphobe, beeinträchtigtenfeindliche und anderweitig diskriminierende oder hasserfüllte Sprache.', 'hint': ''}, {'id': '2', 'text': 'Kein Belästigung einzelner Personen durch ungewünschte Kontaktaufnahme, Stalking oder Doxing.', 'hint': ''}, {'id': '3', 'text': 'Keine Verbreitung von Inhalten die in der Bundesrepublik Deutschland gegen geltendes Recht verstoßen.', 'hint': ''}, {'id': '4', 'text': 'Kein Verbreiten von Verschwörungserzählungen.', 'hint': ''}, {'id': '5', 'text': 'Nicht jugendfreie Beiträge müssen als solche gekennzeichnet werden.', 'hint': ''}, {'id': '7', 'text': 'Profilbilder und Banner, die nicht jugendfrei sind, werden nicht toleriert.', 'hint': ''}, {'id': '8', 'text': 'Werbung muss als solche gekennzeichnet sein. Übermäßige oder automatisierte Werbung wird nicht toleriert.', 'hint': ''}, {'id': '9', 'text': 'Die lokale Timeline soll den manuellen Posts der Mitglieder:innen von freiburg.social vorbehalten bleiben. Automatisierte Posts, wie zum Beispiel Re-tweets von Twitter, müssen auf \"ungelistet\" gesetzt werden. ', 'hint': ''}, {'id': '10', 'text': 'Bot-Accounts, also Nutzerkonten, die größtenteils automatisierte Inhalte erstellen, müssen als solche gekennzeichnet sein, dürfen nicht auf der lokalen Timeline posten und dürfen nur mit Nutzer:innen interagieren, wenn sie dazu eingeladen worden sind.', 'hint': ''}, {'id': '11', 'text': 'Nicht als jemand anderes ausgeben (Verwechslungsgefahr)', 'hint': ''}]",
         "2674",
         "54"
        ],
        [
         "57",
         "rheinneckar.social",
         "rheinneckar.social",
         "Das soziale Netzwerk für die Rhein-Neckar-Region im Fediverse. Mannheim, Heidelberg, Ludwigshafen und alles drumherum.",
         "418",
         "['en']",
         "[{'id': '1', 'text': 'Sexuell freizügige oder gewalttätige Medien müssen mit einer Inhaltswarnung versehen werden. Sexually explicit or violent media must be marked as sensitive when posting.', 'hint': ''}, {'id': '2', 'text': 'Kein Rassismus, Sexismus, Homophobie, Transfeindlichkeit, Fremdenfeindlichkeit oder Diskriminierung aufgrund der sozialen Herkunft. No racism, sexism, homophobia, transphobia, xenophobia, or casteism.', 'hint': ''}, {'id': '3', 'text': 'Keine Aufrufe zur Gewalt oder Verbreitung gewalttätiger Ideen. No incitement of violence or promotion of violent ideologies.', 'hint': ''}, {'id': '4', 'text': 'Keine Belästigung, Mobbing oder Bloßstellung anderer Nutzer. No harassment, dogpiling or doxxing of other users.', 'hint': ''}, {'id': '5', 'text': 'Keine in Deutschland rechtswidrigen Inhalte. No content illegal in Germany.', 'hint': ''}, {'id': '6', 'text': 'Keine Verbreitung von absichtlich falschen oder irreführenden Informationen. Do not share intentionally false or misleading information.', 'hint': ''}]",
         "3528",
         "57"
        ],
        [
         "58",
         "mastoot.fr",
         "Mastodon — Mastoot.fr",
         "Serveur généraliste où la bienveillance, le respect, la fraternité et la sororité sont de mise. Tendance à Gauche.",
         "407",
         "['en']",
         "[{'id': '1', 'text': 'Principalement francophone', 'hint': ''}, {'id': '2', 'text': \"Pas de spam ni de Bot cross-post (cas particulier, contactez l'admin avant)\", 'hint': ''}, {'id': '3', 'text': \"Pas de racisme, de xénophobie, de transphobie, d'homophobie, de grossophobie etc.\", 'hint': ''}, {'id': '4', 'text': 'Pas de diffusion des idées/propagande d’extrême droite, des droites et LReM', 'hint': ''}, {'id': '5', 'text': 'Pas de confusionnisme, de complotisme, de platistes, de Fake-News', 'hint': ''}, {'id': '6', 'text': \"Utilisation du CW pour la nudité, ainsi que pour les mentions d'animaux morts, d'acte de torture ou de guerre.\", 'hint': ''}, {'id': '7', 'text': 'Bienveillance et respect de toutes et tous', 'hint': ''}, {'id': '8', 'text': 'Évitez l\\'utilisation du mot \"Pouet\" (qui a une connotation misogyne) : utilisez plutôt \"Toot\" ou \"Publier\"', 'hint': ''}, {'id': '9', 'text': '/!\\\\ Si vous ne recevez pas le mail de confirmation, envoyez-moi un mail à stefofficiel@proton.me il se peut que ça arrive dans vos SPAMS /!\\\\', 'hint': ''}, {'id': '10', 'text': '=> Pas de pornographie autorisé <=', 'hint': ''}]",
         "1880",
         "58"
        ],
        [
         "61",
         "glasgow.social",
         "Glasgow.social",
         "A place for communities in and around Glasgow, Scotland.",
         "371",
         "['en']",
         "[{'id': '1', 'text': 'No discrimination, including (but not limited to) racism, sexism, homophobia or transphobia.', 'hint': ''}, {'id': '2', 'text': 'No explicit (NSFW) content without content warnings and/or sensitive media markers. Explicit content must not be used in user avatars or header images.', 'hint': ''}, {'id': '3', 'text': 'No harassment of other users on this or other servers.', 'hint': ''}, {'id': '4', 'text': 'No content illegal in the following countries: United Kingdom, Germany', 'hint': ''}, {'id': '5', 'text': 'No incitement of violence or promotion of violent ideologies.', 'hint': ''}, {'id': '6', 'text': 'No disinformation regarding public health issues or political/military campaigns.', 'hint': ''}, {'id': '7', 'text': 'No spam. This includes commercial advertising, promotional campaigns, and SEO.', 'hint': ''}, {'id': '8', 'text': 'English language only.  We cannot moderate all languages.  At this time we are able to moderate English only.  Unsupported language accounts will be suspended.  See https://joinmastodon.org/servers to find a server in your country or language.', 'hint': ''}]",
         "14907",
         "61"
        ],
        [
         "63",
         "mastoart.social",
         "mastoart.social",
         "mastoart.social is a creative space for you to share your art and be part of a friendly creative community. A Mastodon instance that's hosted in Germany and runs on 100% green energy.",
         "330",
         "['en']",
         "[{'id': '1', 'text': 'Be kind and respectful.', 'hint': 'No personal attacks, harrassment, dogpiling or stalking. Misinformation as well as racist, extremist, ableist, anti-semitic, homophobic, sexist, transphobic or otherwise hateful or discriminatory content are prohibited.'}, {'id': '2', 'text': 'This server is for humans, not for corporations or bots.', 'hint': 'No corporate content marketing or ads. Promotion of your own work, commissions or stores is welcome and encouraged. Bots are only allowed if given explicit written permission by the administration team.'}, {'id': '3', 'text': 'Content must be your own.', 'hint': 'You may only upload content that you have created yourself, or content created by third parties that you have explicit permission to upload.'}, {'id': '4', 'text': 'No AI-generated work.', 'hint': 'You may not upload work generated through, or assisted by, LLMs/AI such as ChatGPT or MidJourney. You are free to upload generative work that does not rely on training from existing work of other people, such as fractals or other types of procedural generation.'}, {'id': '5', 'text': 'No NFTs or cryptocurrencies.', 'hint': ''}, {'id': '6', 'text': 'No erotic or nude photography and no pornography.', 'hint': 'Drawn or painted non-explicit suggestive and mature content depicting consenting adult characters is welcome, but must be marked as sensitive or put under a content warning (CW) and tagged accordingly. Examples include non-sexual, drawn or painted depictions of nude characters, characters in seductive poses or clothing, or characters engaging in intimate behavior such as ‘making out’.'}, {'id': '7', 'text': 'NSFW and potentially triggering content must be put under a content warning.', 'hint': 'NSFW (not-safe-for work) content and content including common phobia or anxiety triggers must be marked as sensitive or put under a content warning (CW) and tagged accordingly for ease of filtering. Examples include spiders, gore, drugs, suicidal ideation or erotic content.'}, {'id': '9', 'text': 'No bulk-uploading or flooding the local timeline.', 'hint': \"This is a microblogging platform, not a gallery site. It runs on voluntary community donations and storage space is not unlimited. Uploading large quantities of images in quick succession floods the local timeline, drowning out other members' works. Please be fair to your fellow creatives.\"}, {'id': '10', 'text': '(Recommended) Add alt text to your images.', 'hint': 'This is not an enforcable rule, but we recommend that you add alt text to your images if you can. It contributes to an inclusive community and increases the chances that your work will be shared by other users. '}]",
         "654",
         "63"
        ],
        [
         "64",
         "peoplemaking.games",
         "People Making Games",
         "We're a community of folks who celebrate the craft of creating interactive experiences, whether they're working in games or around them! This is a space for games folks and creatives to call home!",
         "326",
         "['en']",
         "[{'id': '5', 'text': 'Be respectful of one another', 'hint': ''}, {'id': '6', 'text': 'No discrimination or harassment, including but not limited to racism, sexism, ableism, homophobia or transphobia.\\r\\n\\r\\nIn regards to PeopleMaking.Games\\' stance on recent \"Mastodon Discourse\": Tone policing marginalized groups is tantamount to harassment. It is not productive or useful.', 'hint': ''}, {'id': '7', 'text': 'No incitement of violence or promotion of violent ideologies. ', 'hint': ''}, {'id': '8', 'text': 'No explicit (NSFW) content without content warnings and/or sensitive media markers. Explicit content must not be used in user avatars or header images.', 'hint': ''}, {'id': '9', 'text': 'Provide appropriate content warnings on potentially sensitive posts. We permit and even encourage topical discussions, but ask that you respect the rights of others to have autonomy over the content they engage with.', 'hint': ''}, {'id': '10', 'text': 'Posts containing art not owned by the poster must be credited, ideally with a link back to the source.', 'hint': ''}, {'id': '11', 'text': 'The actions of individuals you bring to the community reflect back on you. Be responsible with your invites, and avoid posting an invite link in a public place. ', 'hint': ''}, {'id': '12', 'text': 'Mastodon v4 does not currently support badging for given roles. Until there is a UI implementation, using the \"Astro\" logo in your username is restricted to Moderators and Administrators. Thank you!', 'hint': ''}, {'id': '13', 'text': 'No NFTs, Crypto, or Web3 promotion. While these topics can be discussed at a distance, preferably behind CWs, if your primary reason for being here is to monetize via Web3 there are more suitable crypto-related instances available. NFTs may not be used in profile pictures.', 'hint': ''}]",
         "3027",
         "64"
        ],
        [
         "67",
         "cupoftea.social",
         "CupOfTea.Social",
         "A Small Community Mastodon Server for Casual Chit-Chat. UK Based, A place for good and wholesome content open to everyone. Pets, Photos, Music & Food are popular topics. ",
         "316",
         "['en']",
         "[{'id': '1', 'text': 'Be Respectful, Content that is racist, sexist, hateful, nasty or discriminatory is not welcome.', 'hint': ''}, {'id': '2', 'text': 'No harassment, dogpiling or doxxing of other users', 'hint': ''}, {'id': '3', 'text': 'No incitement of violence or promotion of violent ideologies', 'hint': ''}, {'id': '4', 'text': 'Sexually explicit ,violent  or sensitive media must be marked as such when posting\\r\\n', 'hint': ''}, {'id': '5', 'text': 'No spam , Excessive promotion  , Porn , S**t Posting or Second Life locally on Cupoftea.social', 'hint': ''}, {'id': '6', 'text': 'No accounts setup purely to sell something / Fake Engagement (Such As Investments/NFT/Cryptos/Wealth stuff) There has to be a human element in your posting. ', 'hint': ''}, {'id': '7', 'text': 'No Selling Of Animals ', 'hint': ''}, {'id': '10', 'text': 'Please use the correct posting language setting for your language so others can translate', 'hint': ''}, {'id': '11', 'text': 'No Links to X.com', 'hint': ''}]",
         "5427",
         "67"
        ],
        [
         "68",
         "vmst.io",
         "vmst·io",
         "Mastodon for respectful technologists, geeks and nerds of every type and stripe.",
         "308",
         "['en']",
         "[{'id': '20', 'text': 'Advertising', 'hint': 'Do not advertise or engage in excessive self-promotion of your brand or business.'}, {'id': '21', 'text': 'CSAM', 'hint': 'Do not post or view child sexual abuse materials (CSAM) including CG-CSAM or lolicon.'}, {'id': '22', 'text': 'Disinformation', 'hint': 'Do not deliberately deceive or mislead others.'}, {'id': '23', 'text': 'Extremism', 'hint': 'Do not incite violence against others or advocate violent ideologies.'}, {'id': '24', 'text': 'Gore', 'hint': 'Do not share media that depicts graphic violence, gore, or death for shock value.'}, {'id': '25', 'text': 'Harassment', 'hint': 'Do not engage in harassment or dogpiling behavior towards others.'}, {'id': '26', 'text': 'Impersonation', 'hint': 'Do not impersonate other people or orginizations.'}, {'id': '27', 'text': 'NSFW', 'hint': 'Do not share sexually explicit content, all other NSFW content must use content warnings.'}]",
         "1230",
         "68"
        ],
        [
         "69",
         "union.place",
         "The Union Place",
         "The Union Place: a federated server for union members, organizations, friends, and allies. If you support labor and labor rights, you have a place here!",
         "306",
         "['en']",
         "[{'id': '1', 'text': 'No hate.', 'hint': ''}, {'id': '5', 'text': \"Don't be a dick.\", 'hint': ''}, {'id': '6', 'text': 'No harassment.', 'hint': ''}, {'id': '7', 'text': 'No violence.', 'hint': ''}, {'id': '8', 'text': 'No fascism.', 'hint': ''}, {'id': '9', 'text': 'No colonialism.', 'hint': ''}, {'id': '10', 'text': 'No white supremacy.', 'hint': ''}, {'id': '11', 'text': 'No religious extremism.', 'hint': ''}, {'id': '12', 'text': 'No nationalism.', 'hint': ''}, {'id': '13', 'text': 'No racism.', 'hint': ''}, {'id': '14', 'text': 'No homophobia.', 'hint': ''}, {'id': '15', 'text': 'No transphobia.', 'hint': ''}, {'id': '16', 'text': 'No conspiracy theories.', 'hint': ''}, {'id': '17', 'text': 'No police unions.', 'hint': ''}, {'id': '18', 'text': 'Safe Space: LGTBQIA+', 'hint': ''}, {'id': '19', 'text': 'Safe Space: neurodivergent (ADHD, Aspie, Autism, etc)', 'hint': ''}, {'id': '20', 'text': 'No hacking.', 'hint': ''}, {'id': '21', 'text': 'No pornography.', 'hint': ''}, {'id': '54', 'text': 'No impersonation accounts.', 'hint': ''}, {'id': '55', 'text': 'No sexism.', 'hint': ''}, {'id': '56', 'text': 'To join, users should share a reason they want to be a member of a union-oriented space intended for union members, organizations, friends, and allies. If you only say \"leaving Twitter\" we will NOT approve your account.', 'hint': ''}]",
         "5884",
         "69"
        ],
        [
         "71",
         "gaygeek.social",
         "Gaygeek Social",
         "This server is intended as a safe place for LGBTQIA+ individuals to socialize. You do not have to be LGBTQIA to join, so long as you are an ally. ",
         "267",
         "['en']",
         "[{'id': '1', 'text': \"Don't post anything which would violate the law in either your home jurisdiction, under US law, or Washington State law.\\r\\n\\r\\nAny solicitation of, links to, or media containing child sexual abuse material, real or illustrated, is zero tolerance under these legal jurisdictions and you WILL be reported.\", 'hint': ''}, {'id': '2', 'text': \"Don't be a jerk. Hate speech, discrimination, and harassment of any kind are not tolerated here. \", 'hint': ''}, {'id': '3', 'text': 'If you post adult content, mark it as sensitive so that your followers can choose when to see it. This includes thirst traps even if they do not depict anything explicitly sexual. ', 'hint': ''}, {'id': '4', 'text': 'No spam. This includes using completely unrelated hashtags in your posts. ', 'hint': ''}, {'id': '5', 'text': 'Do not register trademarked usernames unless you are authorized to use that name (Subject to verification and the moderators make the final call)', 'hint': ''}, {'id': '34', 'text': 'No advertising or link farming accounts. Commercial accounts are acceptable only if they are also used for customer engagement.', 'hint': 'Mastodon is for conversation, not advertisements.  If the majority of your posts link to products or services elsewhere and you do not participate in conversation, or you have no posts and just have profile headers that link to your business, your account is subject to suspension under this rule. '}]",
         "2016",
         "71"
        ],
        [
         "73",
         "freeradical.zone",
         "Free Radical",
         "Infosec and privacy and technology and leftward politics and cats and dogs and...",
         "259",
         "['en']",
         "[{'id': '1', 'text': 'No commercial accounts, advertising, or excessive promotion.', 'hint': ''}, {'id': '2', 'text': \"No bots, unless they're cute, funny, or useful. Bots should avoid posting to the public timeline.\", 'hint': ''}, {'id': '3', 'text': 'No gore or graphic violence.', 'hint': ''}, {'id': '4', 'text': 'Content that is borderline NSFW or could be construed as NSFW at a glance should be put behind a CW (Content Warning).', 'hint': ''}, {'id': '5', 'text': 'No racism.', 'hint': ''}, {'id': '6', 'text': 'No sexism.', 'hint': ''}, {'id': '7', 'text': 'No discrimination based on gender, sexual minority, sexual orientation, disability, physical appearance, body size, race, ethnicity, religion (or lack thereof), or national origin.', 'hint': ''}, {'id': '8', 'text': 'No xenophobia or violent nationalism.', 'hint': ''}, {'id': '9', 'text': 'No sexual depictions of children.', 'hint': ''}, {'id': '10', 'text': 'No holocaust denialism, Nazi symbolism, or promotion of National Socialism.', 'hint': ''}, {'id': '11', 'text': 'No stalking or harassment.', 'hint': ''}, {'id': '12', 'text': 'No fake accounts unless they are clearly labeled as such.', 'hint': ''}, {'id': '13', 'text': 'No solicitation of prostitution.', 'hint': ''}, {'id': '14', 'text': 'No Republican politicians, especially from Florida or Texas. The First Amendment overrules dumb state laws.', 'hint': ''}, {'id': '15', 'text': 'No COVID-19 misinformation. See https://blog.freeradical.zone/new-junk-medical-advice-policy/ for more information.', 'hint': ''}]",
         "2893",
         "73"
        ],
        [
         "76",
         "woof.tech",
         "Woof.tech (Mastodon)",
         "Queer, tech and furry instance. Open to anyone that fits the atmosphere, come on in!",
         "246",
         "['en']",
         "[{'id': '1', 'text': 'Do not partake in unlawful activities on, or towards this instance.', 'hint': 'This instance is located in Europe. To be specific Finland and The Netherlands, please adhere to their respective laws.'}, {'id': '2', 'text': \"Be respectful. Don't insult, don't harass. Behave.\", 'hint': ''}, {'id': '3', 'text': \"Don't be transphobic, homophobic or otherwise rude to someone simply because of their identity or who they are. We will act strongly on violations. \", 'hint': ''}, {'id': '4', 'text': 'Content Warnings are required for NSFW, kink/fetish content, and otherwise questionable topics (drugs, \"tasteful\" nudity, sensitive or suggestive topics). ', 'hint': 'Locked accounts may post NSFW content without content warning, as long as these posts are marked as \"Followers Only\" and they clearly state in their profile that their content is NSFW. \\r\\nPlease contact an Administrator if unsure'}, {'id': '5', 'text': 'Do not impersonate other people. This applies to both (ex-)living beings and (online) identities', 'hint': 'There is an exception to this rule for parody reasons. A parody account is required to have \"(parody)\" both in the title and biography section clearly stated.'}, {'id': '6', 'text': 'Avatars that would fall under the 4th rule (content warnings) are not allowed, all avatars are required to be safe-for-work (SFW).\\r\\nThe same applies for banners, although we are slightly more lenient on these. Please try to keep it tasteful though! ', 'hint': ''}, {'id': '7', 'text': \"You're required to tag, or otherwise provide attribution the original artist of any art you post. Please do not post art you don't own / doesn't contain your characters or work.\", 'hint': ''}, {'id': '8', 'text': 'NSFW art and pictures of underage characters or real animals are not allowed!', 'hint': ''}, {'id': '9', 'text': 'You need to be 16 years or older in order to register on this instance, as required by dutch law on data processing. ', 'hint': ''}, {'id': '10', 'text': 'The usage of \"disposable\" email services for registration is not allowed, the email address you use needs to be a long-term email address only accessible by you.', 'hint': \"Using forwarding services (such as Apple's Mail Privacy feature) is totally fine, as long as the email address used can be used in future communication with you.\"}]",
         "717",
         "76"
        ]
       ],
       "shape": {
        "columns": 8,
        "rows": 94
       }
      },
      "text/html": [
       "<div>\n",
       "<style scoped>\n",
       "    .dataframe tbody tr th:only-of-type {\n",
       "        vertical-align: middle;\n",
       "    }\n",
       "\n",
       "    .dataframe tbody tr th {\n",
       "        vertical-align: top;\n",
       "    }\n",
       "\n",
       "    .dataframe thead th {\n",
       "        text-align: right;\n",
       "    }\n",
       "</style>\n",
       "<table border=\"1\" class=\"dataframe\">\n",
       "  <thead>\n",
       "    <tr style=\"text-align: right;\">\n",
       "      <th></th>\n",
       "      <th>domain</th>\n",
       "      <th>title</th>\n",
       "      <th>description</th>\n",
       "      <th>active_month</th>\n",
       "      <th>languages</th>\n",
       "      <th>rules</th>\n",
       "      <th>total_users</th>\n",
       "      <th>server_id</th>\n",
       "    </tr>\n",
       "  </thead>\n",
       "  <tbody>\n",
       "    <tr>\n",
       "      <th>0</th>\n",
       "      <td>mastodon.social</td>\n",
       "      <td>Mastodon</td>\n",
       "      <td>The original server operated by the Mastodon g...</td>\n",
       "      <td>327503</td>\n",
       "      <td>[en]</td>\n",
       "      <td>[{'id': '1', 'text': 'Sexually explicit or vio...</td>\n",
       "      <td>2711879</td>\n",
       "      <td>0</td>\n",
       "    </tr>\n",
       "    <tr>\n",
       "      <th>1</th>\n",
       "      <td>mstdn.social</td>\n",
       "      <td>Mastodon 🐘</td>\n",
       "      <td>A general-purpose Mastodon server with a 500 c...</td>\n",
       "      <td>14546</td>\n",
       "      <td>[en]</td>\n",
       "      <td>[{'id': '2', 'text': 'Sexually explicit or vio...</td>\n",
       "      <td>260323</td>\n",
       "      <td>1</td>\n",
       "    </tr>\n",
       "    <tr>\n",
       "      <th>2</th>\n",
       "      <td>infosec.exchange</td>\n",
       "      <td>Infosec Exchange</td>\n",
       "      <td>A Mastodon instance for info/cyber security-mi...</td>\n",
       "      <td>13319</td>\n",
       "      <td>[en]</td>\n",
       "      <td>[{'id': '1', 'text': 'Do unto others as you th...</td>\n",
       "      <td>75725</td>\n",
       "      <td>2</td>\n",
       "    </tr>\n",
       "    <tr>\n",
       "      <th>3</th>\n",
       "      <td>mas.to</td>\n",
       "      <td>mas.to</td>\n",
       "      <td>Hello! mas.to is a fast, up-to-date and fun Ma...</td>\n",
       "      <td>11889</td>\n",
       "      <td>[en]</td>\n",
       "      <td>[{'id': '9', 'text': 'No discrimination, inclu...</td>\n",
       "      <td>183608</td>\n",
       "      <td>3</td>\n",
       "    </tr>\n",
       "    <tr>\n",
       "      <th>5</th>\n",
       "      <td>hachyderm.io</td>\n",
       "      <td>Hachyderm.io</td>\n",
       "      <td>Hachyderm is a safe space, LGBTQIA+ and BLM, p...</td>\n",
       "      <td>8937</td>\n",
       "      <td>[en]</td>\n",
       "      <td>[{'id': '1', 'text': 'Don't be a dick.', 'hint...</td>\n",
       "      <td>56318</td>\n",
       "      <td>5</td>\n",
       "    </tr>\n",
       "    <tr>\n",
       "      <th>...</th>\n",
       "      <td>...</td>\n",
       "      <td>...</td>\n",
       "      <td>...</td>\n",
       "      <td>...</td>\n",
       "      <td>...</td>\n",
       "      <td>...</td>\n",
       "      <td>...</td>\n",
       "      <td>...</td>\n",
       "    </tr>\n",
       "    <tr>\n",
       "      <th>133</th>\n",
       "      <td>mcr.wtf</td>\n",
       "      <td>mcr.wtf 🐝 Mastodon for Manchester</td>\n",
       "      <td>A community open to all whilst intended for pe...</td>\n",
       "      <td>14</td>\n",
       "      <td>[en]</td>\n",
       "      <td>[{'id': '1', 'text': 'No discrimination, inclu...</td>\n",
       "      <td>157</td>\n",
       "      <td>133</td>\n",
       "    </tr>\n",
       "    <tr>\n",
       "      <th>134</th>\n",
       "      <td>nfld.me</td>\n",
       "      <td>Mastodon Newfoundland and Labrador</td>\n",
       "      <td>Newfoundland and Labrador's Mastodon Server</td>\n",
       "      <td>12</td>\n",
       "      <td>[en]</td>\n",
       "      <td>[{'id': '1', 'text': 'No hate speech. We have ...</td>\n",
       "      <td>73</td>\n",
       "      <td>134</td>\n",
       "    </tr>\n",
       "    <tr>\n",
       "      <th>135</th>\n",
       "      <td>ceilidh.online</td>\n",
       "      <td>Ceilidh Online</td>\n",
       "      <td>Ceilidh.Online is meant to be a safe gathering...</td>\n",
       "      <td>11</td>\n",
       "      <td>[en]</td>\n",
       "      <td>[{'id': '2', 'text': 'Do not engage in hate sp...</td>\n",
       "      <td>42</td>\n",
       "      <td>135</td>\n",
       "    </tr>\n",
       "    <tr>\n",
       "      <th>137</th>\n",
       "      <td>dariox.club</td>\n",
       "      <td>DARiOX</td>\n",
       "      <td>A safe space for tech-centered LGBTQI+ folks a...</td>\n",
       "      <td>9</td>\n",
       "      <td>[en]</td>\n",
       "      <td>[{'id': '2', 'text': 'No illegal content', 'hi...</td>\n",
       "      <td>150</td>\n",
       "      <td>137</td>\n",
       "    </tr>\n",
       "    <tr>\n",
       "      <th>139</th>\n",
       "      <td>wxw.moe</td>\n",
       "      <td>呜呜 w(&gt; ʌ &lt;)w</td>\n",
       "      <td>一个萌萌哒 泛ACGN 实例，欢迎安家 ~</td>\n",
       "      <td>3381</td>\n",
       "      <td>[en]</td>\n",
       "      <td>[{'id': '67', 'text': '拒绝真人不雅内容 / No inappropr...</td>\n",
       "      <td>23662</td>\n",
       "      <td>139</td>\n",
       "    </tr>\n",
       "  </tbody>\n",
       "</table>\n",
       "<p>94 rows × 8 columns</p>\n",
       "</div>"
      ],
      "text/plain": [
       "               domain                               title  \\\n",
       "0     mastodon.social                            Mastodon   \n",
       "1        mstdn.social                          Mastodon 🐘   \n",
       "2    infosec.exchange                    Infosec Exchange   \n",
       "3              mas.to                              mas.to   \n",
       "5        hachyderm.io                        Hachyderm.io   \n",
       "..                ...                                 ...   \n",
       "133           mcr.wtf   mcr.wtf 🐝 Mastodon for Manchester   \n",
       "134           nfld.me  Mastodon Newfoundland and Labrador   \n",
       "135    ceilidh.online                      Ceilidh Online   \n",
       "137       dariox.club                              DARiOX   \n",
       "139           wxw.moe                        呜呜 w(> ʌ <)w   \n",
       "\n",
       "                                           description  active_month  \\\n",
       "0    The original server operated by the Mastodon g...        327503   \n",
       "1    A general-purpose Mastodon server with a 500 c...         14546   \n",
       "2    A Mastodon instance for info/cyber security-mi...         13319   \n",
       "3    Hello! mas.to is a fast, up-to-date and fun Ma...         11889   \n",
       "5    Hachyderm is a safe space, LGBTQIA+ and BLM, p...          8937   \n",
       "..                                                 ...           ...   \n",
       "133  A community open to all whilst intended for pe...            14   \n",
       "134        Newfoundland and Labrador's Mastodon Server            12   \n",
       "135  Ceilidh.Online is meant to be a safe gathering...            11   \n",
       "137  A safe space for tech-centered LGBTQI+ folks a...             9   \n",
       "139                              一个萌萌哒 泛ACGN 实例，欢迎安家 ~          3381   \n",
       "\n",
       "    languages                                              rules  total_users  \\\n",
       "0        [en]  [{'id': '1', 'text': 'Sexually explicit or vio...      2711879   \n",
       "1        [en]  [{'id': '2', 'text': 'Sexually explicit or vio...       260323   \n",
       "2        [en]  [{'id': '1', 'text': 'Do unto others as you th...        75725   \n",
       "3        [en]  [{'id': '9', 'text': 'No discrimination, inclu...       183608   \n",
       "5        [en]  [{'id': '1', 'text': 'Don't be a dick.', 'hint...        56318   \n",
       "..        ...                                                ...          ...   \n",
       "133      [en]  [{'id': '1', 'text': 'No discrimination, inclu...          157   \n",
       "134      [en]  [{'id': '1', 'text': 'No hate speech. We have ...           73   \n",
       "135      [en]  [{'id': '2', 'text': 'Do not engage in hate sp...           42   \n",
       "137      [en]  [{'id': '2', 'text': 'No illegal content', 'hi...          150   \n",
       "139      [en]  [{'id': '67', 'text': '拒绝真人不雅内容 / No inappropr...        23662   \n",
       "\n",
       "     server_id  \n",
       "0            0  \n",
       "1            1  \n",
       "2            2  \n",
       "3            3  \n",
       "5            5  \n",
       "..         ...  \n",
       "133        133  \n",
       "134        134  \n",
       "135        135  \n",
       "137        137  \n",
       "139        139  \n",
       "\n",
       "[94 rows x 8 columns]"
      ]
     },
     "execution_count": 92,
     "metadata": {},
     "output_type": "execute_result"
    }
   ],
   "source": [
    "df_mastodon_en"
   ]
  },
  {
   "cell_type": "markdown",
   "id": "2c7d96f4",
   "metadata": {},
   "source": [
    "## Mastodon dataset"
   ]
  },
  {
   "cell_type": "code",
   "execution_count": 93,
   "id": "65b24071",
   "metadata": {},
   "outputs": [
    {
     "data": {
      "application/vnd.microsoft.datawrangler.viewer.v0+json": {
       "columns": [
        {
         "name": "index",
         "rawType": "int64",
         "type": "integer"
        },
        {
         "name": "server_id",
         "rawType": "int64",
         "type": "integer"
        },
        {
         "name": "rule_id",
         "rawType": "object",
         "type": "string"
        },
        {
         "name": "text",
         "rawType": "object",
         "type": "string"
        },
        {
         "name": "hint",
         "rawType": "object",
         "type": "unknown"
        }
       ],
       "ref": "530b6e66-5b4c-44c7-bea7-8a9ae26b1f4c",
       "rows": [
        [
         "0",
         "0",
         "1",
         "Sexually explicit or violent media must be marked as sensitive or with a content warning",
         "This includes content that is particularly provocative even if it may not show specific body parts, as well as dead bodies, bloody injuries, and other gore. Particularly obscene content may be prohibited entirely. Profile pictures and header images may not contain sexually explicit or violent media."
        ],
        [
         "1",
         "0",
         "2",
         "No racism, sexism, homophobia, transphobia, ableism, xenophobia, or casteism.",
         "Transphobic behavior such as intentional misgendering and deadnaming is strictly prohibited. Promotion of \"conversion therapy\" is strictly prohibited. Criticism of governments and religions is permissible unless being used as a proxy for discrimination."
        ],
        [
         "2",
         "0",
         "3",
         "No incitement of violence or promotion of violent ideologies",
         "Calling for people or groups to be assassinated, murdered, or attacked physically is strictly prohibited. Support for violent groups or events is prohibited."
        ],
        [
         "3",
         "0",
         "4",
         "No harassment, block evasion, dogpiling, or doxxing of others",
         "Repeat attempts to communicate with users who have blocked you or creation of accounts solely to harass or insult individuals is strictly prohibited. Coordinated activity to attack other users is prohibited. Posting of private personal information about others is prohibited."
        ],
        [
         "4",
         "0",
         "7",
         "Do not share information widely-known to be false and misleading",
         "False and misleading information and links from low-quality sources may not be posted, especially if they are likely to mislead or confuse others or endanger their safety."
        ],
        [
         "5",
         "0",
         "1008",
         "Content created by others must be attributed, and use of generative AI must be disclosed",
         "Content created by others must clearly provide a reference to the author, creator, or source. For adult content, this should include performers. Accounts may not solely post AI-generated content."
        ],
        [
         "6",
         "1",
         "2",
         "Sexually explicit or violent media must be marked as sensitive when posting.",
         ""
        ],
        [
         "7",
         "1",
         "3",
         "No spam or advertising.",
         ""
        ],
        [
         "8",
         "1",
         "4",
         "No racism, sexism, homophobia, transphobia, xenophobia, or casteism.",
         ""
        ],
        [
         "9",
         "1",
         "5",
         "No incitement of violence or promotion of violent ideologies.",
         ""
        ],
        [
         "10",
         "1",
         "6",
         "No harassment, dogpiling or doxxing of other users.",
         ""
        ],
        [
         "11",
         "1",
         "7",
         "No illegal content.",
         ""
        ],
        [
         "12",
         "1",
         "11",
         "No spreading of fake news or misinformation",
         ""
        ],
        [
         "13",
         "1",
         "12",
         "Content created by others must be attributed, and use of AI must be disclosed. Profiles that only post AI-generated content will not be tolerated.",
         ""
        ],
        [
         "14",
         "2",
         "1",
         "Do unto others as you think they would want done to them.  ",
         ""
        ],
        [
         "15",
         "2",
         "2",
         "Mark sensitive content with a content warning.  ",
         ""
        ],
        [
         "16",
         "2",
         "3",
         "Gratuitous obscenity that serves no practical benefit to a discussion is not permitted.",
         ""
        ],
        [
         "17",
         "2",
         "4",
         "Illegal content such as child pornography, unsurprisingly, is not permitted",
         ""
        ],
        [
         "18",
         "2",
         "5",
         "Spam is not permitted, this includes creating spam accounts that only serve to provide profile links or advertise products and services. ",
         ""
        ],
        [
         "19",
         "2",
         "6",
         "Hate speech and abusive or threatening behavior is not permitted, specifically that which directed at any gender, nationality, religion, race, age, pizza topping preference, or sexual identity.  One can hate on systemd all day long here.",
         ""
        ],
        [
         "20",
         "2",
         "7",
         "Lack of a specific rule against a certain behavior does not indicate acceptance of that behavior.  Each of us has a limited amount of time in this world.  Don't be a jerk.  ",
         ""
        ],
        [
         "21",
         "2",
         "8",
         "Violating one or more of these rules may result in an immediate, permanent ban without notice or warning.  ",
         ""
        ],
        [
         "22",
         "2",
         "9",
         "You may not impersonate a person or brand without a clear indication the account is unofficial and/or a parody. Parody accounts are permitted, as are legitimate brand accounts. ",
         ""
        ],
        [
         "23",
         "2",
         "11",
         "No attacks against (or from) the instance.\r\n\r\nYou may not do anything which may impact confidentiality, integrity or availability of Infosec.Exchange, the users of the service or their data.\r\nFor more details see https://wiki.infosec.exchange/rules/start",
         ""
        ],
        [
         "24",
         "2",
         "12",
         "No doxing (aka doxxing) or disclosing personal information without consent and as a means of harassing or causing others to harass another person.",
         ""
        ],
        [
         "25",
         "2",
         "13",
         "No harassment in the form of continued engagement after a person has requested contact to stop",
         ""
        ],
        [
         "26",
         "2",
         "14",
         "Automated posting:\r\n- accounts that post >50% using automation must be labeled as a “bot” in the user profile to help provide a visual indicator to visitors\r\n- automated posts must be limited to one post per hour/24 per day with post visibility set to “public”. There is no limit on “unlisted” posts.",
         ""
        ],
        [
         "27",
         "2",
         "15",
         "Soliciting or inciting violence or harm against a person or segment of people is not permitted. ",
         ""
        ],
        [
         "28",
         "3",
         "9",
         "No discrimination, including (but not limited to) racism, sexism, homophobia or transphobia (including targeted misgendering, deadnaming, or promotion of so-called 'conversion therapy').",
         ""
        ],
        [
         "29",
         "3",
         "10",
         "No explicit (NSFW) content without content warnings and/or sensitive media markers. Explicit content must not be used in user avatars or header images.",
         ""
        ],
        [
         "30",
         "3",
         "17",
         "No harassment of other users on this or other servers.",
         ""
        ],
        [
         "31",
         "3",
         "18",
         "No content illegal in the following countries: United Kingdom, Germany",
         ""
        ],
        [
         "32",
         "3",
         "19",
         "No incitement of violence or promotion of violent ideologies.",
         ""
        ],
        [
         "33",
         "3",
         "20",
         "No disinformation regarding public health issues or political/military campaigns.",
         ""
        ],
        [
         "34",
         "3",
         "21",
         "No spam. This includes commercial advertising, promotion of services, and SEO.",
         ""
        ],
        [
         "35",
         "3",
         "22",
         "No impersonation of other individuals, public figures or organisations, unless clearly marked as a parody.",
         ""
        ],
        [
         "36",
         "3",
         "23",
         "All automated (bot) accounts must enable the bot flag in their account preferences, respect #nobot markers, and post as unlisted unless making less than one post per hour.",
         ""
        ],
        [
         "37",
         "5",
         "1",
         "Don't be a dick.",
         ""
        ],
        [
         "38",
         "5",
         "2",
         "No hacking.",
         ""
        ],
        [
         "39",
         "5",
         "3",
         "No violence.",
         ""
        ],
        [
         "40",
         "5",
         "4",
         "No fascism. ",
         ""
        ],
        [
         "41",
         "5",
         "5",
         "No colonialism.",
         ""
        ],
        [
         "42",
         "5",
         "6",
         "No white supremacy.",
         ""
        ],
        [
         "43",
         "5",
         "7",
         "No religious extremism. ",
         ""
        ],
        [
         "44",
         "5",
         "9",
         "No nationalism.",
         ""
        ],
        [
         "45",
         "5",
         "11",
         "No racism.",
         ""
        ],
        [
         "46",
         "5",
         "12",
         "No homophobia.",
         ""
        ],
        [
         "47",
         "5",
         "13",
         "No transphobia.",
         ""
        ],
        [
         "48",
         "5",
         "14",
         "Safe Space: LGTBQIA+",
         ""
        ],
        [
         "49",
         "5",
         "15",
         "Safe Space: neurodivergent (ADHD, Autism, etc.) ",
         ""
        ]
       ],
       "shape": {
        "columns": 4,
        "rows": 807
       }
      },
      "text/html": [
       "<div>\n",
       "<style scoped>\n",
       "    .dataframe tbody tr th:only-of-type {\n",
       "        vertical-align: middle;\n",
       "    }\n",
       "\n",
       "    .dataframe tbody tr th {\n",
       "        vertical-align: top;\n",
       "    }\n",
       "\n",
       "    .dataframe thead th {\n",
       "        text-align: right;\n",
       "    }\n",
       "</style>\n",
       "<table border=\"1\" class=\"dataframe\">\n",
       "  <thead>\n",
       "    <tr style=\"text-align: right;\">\n",
       "      <th></th>\n",
       "      <th>server_id</th>\n",
       "      <th>rule_id</th>\n",
       "      <th>text</th>\n",
       "      <th>hint</th>\n",
       "    </tr>\n",
       "  </thead>\n",
       "  <tbody>\n",
       "    <tr>\n",
       "      <th>0</th>\n",
       "      <td>0</td>\n",
       "      <td>1</td>\n",
       "      <td>Sexually explicit or violent media must be mar...</td>\n",
       "      <td>This includes content that is particularly pro...</td>\n",
       "    </tr>\n",
       "    <tr>\n",
       "      <th>1</th>\n",
       "      <td>0</td>\n",
       "      <td>2</td>\n",
       "      <td>No racism, sexism, homophobia, transphobia, ab...</td>\n",
       "      <td>Transphobic behavior such as intentional misge...</td>\n",
       "    </tr>\n",
       "    <tr>\n",
       "      <th>2</th>\n",
       "      <td>0</td>\n",
       "      <td>3</td>\n",
       "      <td>No incitement of violence or promotion of viol...</td>\n",
       "      <td>Calling for people or groups to be assassinate...</td>\n",
       "    </tr>\n",
       "    <tr>\n",
       "      <th>3</th>\n",
       "      <td>0</td>\n",
       "      <td>4</td>\n",
       "      <td>No harassment, block evasion, dogpiling, or do...</td>\n",
       "      <td>Repeat attempts to communicate with users who ...</td>\n",
       "    </tr>\n",
       "    <tr>\n",
       "      <th>4</th>\n",
       "      <td>0</td>\n",
       "      <td>7</td>\n",
       "      <td>Do not share information widely-known to be fa...</td>\n",
       "      <td>False and misleading information and links fro...</td>\n",
       "    </tr>\n",
       "    <tr>\n",
       "      <th>...</th>\n",
       "      <td>...</td>\n",
       "      <td>...</td>\n",
       "      <td>...</td>\n",
       "      <td>...</td>\n",
       "    </tr>\n",
       "    <tr>\n",
       "      <th>803</th>\n",
       "      <td>139</td>\n",
       "      <td>77</td>\n",
       "      <td>③ 同意呜呜站的社区规则？/ Do you agree with the community...</td>\n",
       "      <td></td>\n",
       "    </tr>\n",
       "    <tr>\n",
       "      <th>804</th>\n",
       "      <td>139</td>\n",
       "      <td>78</td>\n",
       "      <td>🌸 缺项或错误将被拒绝 ... / Incomplete or nonsensical re...</td>\n",
       "      <td></td>\n",
       "    </tr>\n",
       "    <tr>\n",
       "      <th>805</th>\n",
       "      <td>139</td>\n",
       "      <td>79</td>\n",
       "      <td>详细社区规则见： / For detailed community rules, pleas...</td>\n",
       "      <td></td>\n",
       "    </tr>\n",
       "    <tr>\n",
       "      <th>806</th>\n",
       "      <td>139</td>\n",
       "      <td>80</td>\n",
       "      <td>https://wxw.moe/about</td>\n",
       "      <td></td>\n",
       "    </tr>\n",
       "    <tr>\n",
       "      <th>807</th>\n",
       "      <td>139</td>\n",
       "      <td>82</td>\n",
       "      <td>使用本站代表您同意了这些规则与政策，注册前请务必仔细阅读！/ By using this i...</td>\n",
       "      <td></td>\n",
       "    </tr>\n",
       "  </tbody>\n",
       "</table>\n",
       "<p>807 rows × 4 columns</p>\n",
       "</div>"
      ],
      "text/plain": [
       "     server_id rule_id                                               text  \\\n",
       "0            0       1  Sexually explicit or violent media must be mar...   \n",
       "1            0       2  No racism, sexism, homophobia, transphobia, ab...   \n",
       "2            0       3  No incitement of violence or promotion of viol...   \n",
       "3            0       4  No harassment, block evasion, dogpiling, or do...   \n",
       "4            0       7  Do not share information widely-known to be fa...   \n",
       "..         ...     ...                                                ...   \n",
       "803        139      77  ③ 同意呜呜站的社区规则？/ Do you agree with the community...   \n",
       "804        139      78  🌸 缺项或错误将被拒绝 ... / Incomplete or nonsensical re...   \n",
       "805        139      79  详细社区规则见： / For detailed community rules, pleas...   \n",
       "806        139      80                              https://wxw.moe/about   \n",
       "807        139      82  使用本站代表您同意了这些规则与政策，注册前请务必仔细阅读！/ By using this i...   \n",
       "\n",
       "                                                  hint  \n",
       "0    This includes content that is particularly pro...  \n",
       "1    Transphobic behavior such as intentional misge...  \n",
       "2    Calling for people or groups to be assassinate...  \n",
       "3    Repeat attempts to communicate with users who ...  \n",
       "4    False and misleading information and links fro...  \n",
       "..                                                 ...  \n",
       "803                                                     \n",
       "804                                                     \n",
       "805                                                     \n",
       "806                                                     \n",
       "807                                                     \n",
       "\n",
       "[807 rows x 4 columns]"
      ]
     },
     "execution_count": 93,
     "metadata": {},
     "output_type": "execute_result"
    }
   ],
   "source": [
    "mastodon_rules = mastodon.extract_rules()\n",
    "mastodon_rules"
   ]
  },
  {
   "cell_type": "code",
   "execution_count": 94,
   "id": "48a00c41",
   "metadata": {},
   "outputs": [
    {
     "data": {
      "application/vnd.microsoft.datawrangler.viewer.v0+json": {
       "columns": [
        {
         "name": "index",
         "rawType": "int64",
         "type": "integer"
        },
        {
         "name": "server_id",
         "rawType": "int64",
         "type": "integer"
        },
        {
         "name": "rule_id",
         "rawType": "object",
         "type": "string"
        },
        {
         "name": "text",
         "rawType": "object",
         "type": "string"
        },
        {
         "name": "hint",
         "rawType": "object",
         "type": "unknown"
        },
        {
         "name": "is_english_pred",
         "rawType": "bool",
         "type": "boolean"
        }
       ],
       "ref": "c475ad43-ace3-46a5-a89a-6ff93f94cb11",
       "rows": [
        [
         "0",
         "0",
         "1",
         "Sexually explicit or violent media must be marked as sensitive or with a content warning",
         "This includes content that is particularly provocative even if it may not show specific body parts, as well as dead bodies, bloody injuries, and other gore. Particularly obscene content may be prohibited entirely. Profile pictures and header images may not contain sexually explicit or violent media.",
         "True"
        ],
        [
         "1",
         "0",
         "2",
         "No racism, sexism, homophobia, transphobia, ableism, xenophobia, or casteism.",
         "Transphobic behavior such as intentional misgendering and deadnaming is strictly prohibited. Promotion of \"conversion therapy\" is strictly prohibited. Criticism of governments and religions is permissible unless being used as a proxy for discrimination.",
         "True"
        ],
        [
         "2",
         "0",
         "3",
         "No incitement of violence or promotion of violent ideologies",
         "Calling for people or groups to be assassinated, murdered, or attacked physically is strictly prohibited. Support for violent groups or events is prohibited.",
         "True"
        ],
        [
         "3",
         "0",
         "4",
         "No harassment, block evasion, dogpiling, or doxxing of others",
         "Repeat attempts to communicate with users who have blocked you or creation of accounts solely to harass or insult individuals is strictly prohibited. Coordinated activity to attack other users is prohibited. Posting of private personal information about others is prohibited.",
         "True"
        ],
        [
         "4",
         "0",
         "7",
         "Do not share information widely-known to be false and misleading",
         "False and misleading information and links from low-quality sources may not be posted, especially if they are likely to mislead or confuse others or endanger their safety.",
         "True"
        ],
        [
         "5",
         "0",
         "1008",
         "Content created by others must be attributed, and use of generative AI must be disclosed",
         "Content created by others must clearly provide a reference to the author, creator, or source. For adult content, this should include performers. Accounts may not solely post AI-generated content.",
         "True"
        ],
        [
         "6",
         "1",
         "2",
         "Sexually explicit or violent media must be marked as sensitive when posting.",
         "",
         "True"
        ],
        [
         "7",
         "1",
         "3",
         "No spam or advertising.",
         "",
         "True"
        ],
        [
         "8",
         "1",
         "4",
         "No racism, sexism, homophobia, transphobia, xenophobia, or casteism.",
         "",
         "True"
        ],
        [
         "9",
         "1",
         "5",
         "No incitement of violence or promotion of violent ideologies.",
         "",
         "True"
        ],
        [
         "10",
         "1",
         "6",
         "No harassment, dogpiling or doxxing of other users.",
         "",
         "True"
        ],
        [
         "11",
         "1",
         "7",
         "No illegal content.",
         "",
         "True"
        ],
        [
         "12",
         "1",
         "11",
         "No spreading of fake news or misinformation",
         "",
         "True"
        ],
        [
         "13",
         "1",
         "12",
         "Content created by others must be attributed, and use of AI must be disclosed. Profiles that only post AI-generated content will not be tolerated.",
         "",
         "True"
        ],
        [
         "14",
         "2",
         "1",
         "Do unto others as you think they would want done to them.  ",
         "",
         "True"
        ],
        [
         "15",
         "2",
         "2",
         "Mark sensitive content with a content warning.  ",
         "",
         "True"
        ],
        [
         "16",
         "2",
         "3",
         "Gratuitous obscenity that serves no practical benefit to a discussion is not permitted.",
         "",
         "True"
        ],
        [
         "17",
         "2",
         "4",
         "Illegal content such as child pornography, unsurprisingly, is not permitted",
         "",
         "True"
        ],
        [
         "18",
         "2",
         "5",
         "Spam is not permitted, this includes creating spam accounts that only serve to provide profile links or advertise products and services. ",
         "",
         "True"
        ],
        [
         "19",
         "2",
         "6",
         "Hate speech and abusive or threatening behavior is not permitted, specifically that which directed at any gender, nationality, religion, race, age, pizza topping preference, or sexual identity.  One can hate on systemd all day long here.",
         "",
         "True"
        ],
        [
         "20",
         "2",
         "7",
         "Lack of a specific rule against a certain behavior does not indicate acceptance of that behavior.  Each of us has a limited amount of time in this world.  Don't be a jerk.  ",
         "",
         "True"
        ],
        [
         "21",
         "2",
         "8",
         "Violating one or more of these rules may result in an immediate, permanent ban without notice or warning.  ",
         "",
         "True"
        ],
        [
         "22",
         "2",
         "9",
         "You may not impersonate a person or brand without a clear indication the account is unofficial and/or a parody. Parody accounts are permitted, as are legitimate brand accounts. ",
         "",
         "True"
        ],
        [
         "23",
         "2",
         "11",
         "No attacks against (or from) the instance.\r\n\r\nYou may not do anything which may impact confidentiality, integrity or availability of Infosec.Exchange, the users of the service or their data.\r\nFor more details see https://wiki.infosec.exchange/rules/start",
         "",
         "True"
        ],
        [
         "24",
         "2",
         "12",
         "No doxing (aka doxxing) or disclosing personal information without consent and as a means of harassing or causing others to harass another person.",
         "",
         "True"
        ],
        [
         "25",
         "2",
         "13",
         "No harassment in the form of continued engagement after a person has requested contact to stop",
         "",
         "True"
        ],
        [
         "26",
         "2",
         "14",
         "Automated posting:\r\n- accounts that post >50% using automation must be labeled as a “bot” in the user profile to help provide a visual indicator to visitors\r\n- automated posts must be limited to one post per hour/24 per day with post visibility set to “public”. There is no limit on “unlisted” posts.",
         "",
         "True"
        ],
        [
         "27",
         "2",
         "15",
         "Soliciting or inciting violence or harm against a person or segment of people is not permitted. ",
         "",
         "True"
        ],
        [
         "28",
         "3",
         "9",
         "No discrimination, including (but not limited to) racism, sexism, homophobia or transphobia (including targeted misgendering, deadnaming, or promotion of so-called 'conversion therapy').",
         "",
         "True"
        ],
        [
         "29",
         "3",
         "10",
         "No explicit (NSFW) content without content warnings and/or sensitive media markers. Explicit content must not be used in user avatars or header images.",
         "",
         "True"
        ],
        [
         "30",
         "3",
         "17",
         "No harassment of other users on this or other servers.",
         "",
         "True"
        ],
        [
         "31",
         "3",
         "18",
         "No content illegal in the following countries: United Kingdom, Germany",
         "",
         "True"
        ],
        [
         "32",
         "3",
         "19",
         "No incitement of violence or promotion of violent ideologies.",
         "",
         "True"
        ],
        [
         "33",
         "3",
         "20",
         "No disinformation regarding public health issues or political/military campaigns.",
         "",
         "True"
        ],
        [
         "34",
         "3",
         "21",
         "No spam. This includes commercial advertising, promotion of services, and SEO.",
         "",
         "True"
        ],
        [
         "35",
         "3",
         "22",
         "No impersonation of other individuals, public figures or organisations, unless clearly marked as a parody.",
         "",
         "True"
        ],
        [
         "36",
         "3",
         "23",
         "All automated (bot) accounts must enable the bot flag in their account preferences, respect #nobot markers, and post as unlisted unless making less than one post per hour.",
         "",
         "True"
        ],
        [
         "37",
         "5",
         "1",
         "Don't be a dick.",
         "",
         "True"
        ],
        [
         "38",
         "5",
         "2",
         "No hacking.",
         "",
         "True"
        ],
        [
         "39",
         "5",
         "3",
         "No violence.",
         "",
         "True"
        ],
        [
         "40",
         "5",
         "4",
         "No fascism. ",
         "",
         "False"
        ],
        [
         "41",
         "5",
         "5",
         "No colonialism.",
         "",
         "True"
        ],
        [
         "42",
         "5",
         "6",
         "No white supremacy.",
         "",
         "True"
        ],
        [
         "43",
         "5",
         "7",
         "No religious extremism. ",
         "",
         "True"
        ],
        [
         "44",
         "5",
         "9",
         "No nationalism.",
         "",
         "True"
        ],
        [
         "45",
         "5",
         "11",
         "No racism.",
         "",
         "True"
        ],
        [
         "46",
         "5",
         "12",
         "No homophobia.",
         "",
         "False"
        ],
        [
         "47",
         "5",
         "13",
         "No transphobia.",
         "",
         "False"
        ],
        [
         "48",
         "5",
         "14",
         "Safe Space: LGTBQIA+",
         "",
         "False"
        ],
        [
         "49",
         "5",
         "15",
         "Safe Space: neurodivergent (ADHD, Autism, etc.) ",
         "",
         "True"
        ]
       ],
       "shape": {
        "columns": 5,
        "rows": 807
       }
      },
      "text/html": [
       "<div>\n",
       "<style scoped>\n",
       "    .dataframe tbody tr th:only-of-type {\n",
       "        vertical-align: middle;\n",
       "    }\n",
       "\n",
       "    .dataframe tbody tr th {\n",
       "        vertical-align: top;\n",
       "    }\n",
       "\n",
       "    .dataframe thead th {\n",
       "        text-align: right;\n",
       "    }\n",
       "</style>\n",
       "<table border=\"1\" class=\"dataframe\">\n",
       "  <thead>\n",
       "    <tr style=\"text-align: right;\">\n",
       "      <th></th>\n",
       "      <th>server_id</th>\n",
       "      <th>rule_id</th>\n",
       "      <th>text</th>\n",
       "      <th>hint</th>\n",
       "      <th>is_english_pred</th>\n",
       "    </tr>\n",
       "  </thead>\n",
       "  <tbody>\n",
       "    <tr>\n",
       "      <th>0</th>\n",
       "      <td>0</td>\n",
       "      <td>1</td>\n",
       "      <td>Sexually explicit or violent media must be mar...</td>\n",
       "      <td>This includes content that is particularly pro...</td>\n",
       "      <td>True</td>\n",
       "    </tr>\n",
       "    <tr>\n",
       "      <th>1</th>\n",
       "      <td>0</td>\n",
       "      <td>2</td>\n",
       "      <td>No racism, sexism, homophobia, transphobia, ab...</td>\n",
       "      <td>Transphobic behavior such as intentional misge...</td>\n",
       "      <td>True</td>\n",
       "    </tr>\n",
       "    <tr>\n",
       "      <th>2</th>\n",
       "      <td>0</td>\n",
       "      <td>3</td>\n",
       "      <td>No incitement of violence or promotion of viol...</td>\n",
       "      <td>Calling for people or groups to be assassinate...</td>\n",
       "      <td>True</td>\n",
       "    </tr>\n",
       "    <tr>\n",
       "      <th>3</th>\n",
       "      <td>0</td>\n",
       "      <td>4</td>\n",
       "      <td>No harassment, block evasion, dogpiling, or do...</td>\n",
       "      <td>Repeat attempts to communicate with users who ...</td>\n",
       "      <td>True</td>\n",
       "    </tr>\n",
       "    <tr>\n",
       "      <th>4</th>\n",
       "      <td>0</td>\n",
       "      <td>7</td>\n",
       "      <td>Do not share information widely-known to be fa...</td>\n",
       "      <td>False and misleading information and links fro...</td>\n",
       "      <td>True</td>\n",
       "    </tr>\n",
       "    <tr>\n",
       "      <th>...</th>\n",
       "      <td>...</td>\n",
       "      <td>...</td>\n",
       "      <td>...</td>\n",
       "      <td>...</td>\n",
       "      <td>...</td>\n",
       "    </tr>\n",
       "    <tr>\n",
       "      <th>803</th>\n",
       "      <td>139</td>\n",
       "      <td>77</td>\n",
       "      <td>③ 同意呜呜站的社区规则？/ Do you agree with the community...</td>\n",
       "      <td></td>\n",
       "      <td>True</td>\n",
       "    </tr>\n",
       "    <tr>\n",
       "      <th>804</th>\n",
       "      <td>139</td>\n",
       "      <td>78</td>\n",
       "      <td>🌸 缺项或错误将被拒绝 ... / Incomplete or nonsensical re...</td>\n",
       "      <td></td>\n",
       "      <td>False</td>\n",
       "    </tr>\n",
       "    <tr>\n",
       "      <th>805</th>\n",
       "      <td>139</td>\n",
       "      <td>79</td>\n",
       "      <td>详细社区规则见： / For detailed community rules, pleas...</td>\n",
       "      <td></td>\n",
       "      <td>False</td>\n",
       "    </tr>\n",
       "    <tr>\n",
       "      <th>806</th>\n",
       "      <td>139</td>\n",
       "      <td>80</td>\n",
       "      <td>https://wxw.moe/about</td>\n",
       "      <td></td>\n",
       "      <td>False</td>\n",
       "    </tr>\n",
       "    <tr>\n",
       "      <th>807</th>\n",
       "      <td>139</td>\n",
       "      <td>82</td>\n",
       "      <td>使用本站代表您同意了这些规则与政策，注册前请务必仔细阅读！/ By using this i...</td>\n",
       "      <td></td>\n",
       "      <td>False</td>\n",
       "    </tr>\n",
       "  </tbody>\n",
       "</table>\n",
       "<p>807 rows × 5 columns</p>\n",
       "</div>"
      ],
      "text/plain": [
       "     server_id rule_id                                               text  \\\n",
       "0            0       1  Sexually explicit or violent media must be mar...   \n",
       "1            0       2  No racism, sexism, homophobia, transphobia, ab...   \n",
       "2            0       3  No incitement of violence or promotion of viol...   \n",
       "3            0       4  No harassment, block evasion, dogpiling, or do...   \n",
       "4            0       7  Do not share information widely-known to be fa...   \n",
       "..         ...     ...                                                ...   \n",
       "803        139      77  ③ 同意呜呜站的社区规则？/ Do you agree with the community...   \n",
       "804        139      78  🌸 缺项或错误将被拒绝 ... / Incomplete or nonsensical re...   \n",
       "805        139      79  详细社区规则见： / For detailed community rules, pleas...   \n",
       "806        139      80                              https://wxw.moe/about   \n",
       "807        139      82  使用本站代表您同意了这些规则与政策，注册前请务必仔细阅读！/ By using this i...   \n",
       "\n",
       "                                                  hint  is_english_pred  \n",
       "0    This includes content that is particularly pro...             True  \n",
       "1    Transphobic behavior such as intentional misge...             True  \n",
       "2    Calling for people or groups to be assassinate...             True  \n",
       "3    Repeat attempts to communicate with users who ...             True  \n",
       "4    False and misleading information and links fro...             True  \n",
       "..                                                 ...              ...  \n",
       "803                                                                True  \n",
       "804                                                               False  \n",
       "805                                                               False  \n",
       "806                                                               False  \n",
       "807                                                               False  \n",
       "\n",
       "[807 rows x 5 columns]"
      ]
     },
     "execution_count": 94,
     "metadata": {},
     "output_type": "execute_result"
    }
   ],
   "source": [
    "mastodon.predicts_english_rules()"
   ]
  },
  {
   "cell_type": "markdown",
   "id": "e69cf1bd",
   "metadata": {},
   "source": [
    "⚠️ **Important note** ⚠️: \n",
    "\n",
    "After manually inspecting the language classification of both models on $\\frac{1}{3}$ of the rules, it seems like the ```lang_recognition``` one has a higher precision. For long sentences both models perform very well, but for shorter content, especially when rules contain acronyms such as NSFW (Not Safe For Work), CSAM (Child Sexual Abuse Material), LGBT(QIA+), ADHD, NFTs, or word specific to reprehensible online behavior such as doxxing, spamming, homophobia, xenophobia, transphobia. This behavior from the model shows that they were not trained on the same type of dataset as our study but were still very useful to put a good proportion of the rules out which strenghtened our analysis.\n",
    "\n",
    "\n",
    "\"Bleep-bloop-bleep. No robots 🤖\""
   ]
  },
  {
   "cell_type": "markdown",
   "id": "57a4ff25",
   "metadata": {},
   "source": [
    "By looking at the data we realised that servers often write all their rules in the same language. This means that we can check for the prediction rate among each server and see if we find cases where the prediction rate is neither 100% of english nor 0% of english and inspect them further."
   ]
  },
  {
   "cell_type": "code",
   "execution_count": 95,
   "id": "1c5477d7",
   "metadata": {},
   "outputs": [
    {
     "data": {
      "application/vnd.microsoft.datawrangler.viewer.v0+json": {
       "columns": [
        {
         "name": "index",
         "rawType": "int64",
         "type": "integer"
        },
        {
         "name": "server_id",
         "rawType": "int64",
         "type": "integer"
        },
        {
         "name": "is_english_pred_rate",
         "rawType": "float64",
         "type": "float"
        }
       ],
       "ref": "a4b61ac3-bf86-432a-842c-27cd17b1032e",
       "rows": [
        [
         "0",
         "0",
         "1.0"
        ],
        [
         "1",
         "1",
         "1.0"
        ],
        [
         "2",
         "2",
         "1.0"
        ],
        [
         "3",
         "3",
         "1.0"
        ],
        [
         "4",
         "5",
         "0.6923076923076923"
        ],
        [
         "5",
         "7",
         "1.0"
        ],
        [
         "6",
         "8",
         "1.0"
        ],
        [
         "7",
         "9",
         "0.0"
        ],
        [
         "8",
         "10",
         "1.0"
        ],
        [
         "9",
         "11",
         "0.9"
        ],
        [
         "10",
         "12",
         "0.0"
        ],
        [
         "11",
         "13",
         "1.0"
        ],
        [
         "12",
         "14",
         "1.0"
        ],
        [
         "13",
         "15",
         "0.0"
        ],
        [
         "14",
         "17",
         "1.0"
        ],
        [
         "15",
         "18",
         "1.0"
        ],
        [
         "16",
         "19",
         "1.0"
        ],
        [
         "17",
         "22",
         "1.0"
        ],
        [
         "18",
         "24",
         "1.0"
        ],
        [
         "19",
         "25",
         "1.0"
        ],
        [
         "20",
         "26",
         "1.0"
        ],
        [
         "21",
         "29",
         "0.75"
        ],
        [
         "22",
         "31",
         "0.875"
        ],
        [
         "23",
         "32",
         "1.0"
        ],
        [
         "24",
         "33",
         "0.0"
        ],
        [
         "25",
         "34",
         "1.0"
        ],
        [
         "26",
         "36",
         "1.0"
        ],
        [
         "27",
         "37",
         "0.9375"
        ],
        [
         "28",
         "38",
         "1.0"
        ],
        [
         "29",
         "40",
         "1.0"
        ],
        [
         "30",
         "42",
         "1.0"
        ],
        [
         "31",
         "44",
         "1.0"
        ],
        [
         "32",
         "45",
         "0.875"
        ],
        [
         "33",
         "47",
         "0.9090909090909091"
        ],
        [
         "34",
         "48",
         "0.875"
        ],
        [
         "35",
         "49",
         "1.0"
        ],
        [
         "36",
         "52",
         "1.0"
        ],
        [
         "37",
         "54",
         "0.0"
        ],
        [
         "38",
         "57",
         "0.0"
        ],
        [
         "39",
         "58",
         "0.0"
        ],
        [
         "40",
         "61",
         "1.0"
        ],
        [
         "41",
         "63",
         "1.0"
        ],
        [
         "42",
         "64",
         "1.0"
        ],
        [
         "43",
         "67",
         "1.0"
        ],
        [
         "44",
         "68",
         "0.375"
        ],
        [
         "45",
         "69",
         "0.7619047619047619"
        ],
        [
         "46",
         "71",
         "1.0"
        ],
        [
         "47",
         "73",
         "1.0"
        ],
        [
         "48",
         "76",
         "1.0"
        ],
        [
         "49",
         "77",
         "1.0"
        ]
       ],
       "shape": {
        "columns": 2,
        "rows": 93
       }
      },
      "text/html": [
       "<div>\n",
       "<style scoped>\n",
       "    .dataframe tbody tr th:only-of-type {\n",
       "        vertical-align: middle;\n",
       "    }\n",
       "\n",
       "    .dataframe tbody tr th {\n",
       "        vertical-align: top;\n",
       "    }\n",
       "\n",
       "    .dataframe thead th {\n",
       "        text-align: right;\n",
       "    }\n",
       "</style>\n",
       "<table border=\"1\" class=\"dataframe\">\n",
       "  <thead>\n",
       "    <tr style=\"text-align: right;\">\n",
       "      <th></th>\n",
       "      <th>server_id</th>\n",
       "      <th>is_english_pred_rate</th>\n",
       "    </tr>\n",
       "  </thead>\n",
       "  <tbody>\n",
       "    <tr>\n",
       "      <th>0</th>\n",
       "      <td>0</td>\n",
       "      <td>1.000000</td>\n",
       "    </tr>\n",
       "    <tr>\n",
       "      <th>1</th>\n",
       "      <td>1</td>\n",
       "      <td>1.000000</td>\n",
       "    </tr>\n",
       "    <tr>\n",
       "      <th>2</th>\n",
       "      <td>2</td>\n",
       "      <td>1.000000</td>\n",
       "    </tr>\n",
       "    <tr>\n",
       "      <th>3</th>\n",
       "      <td>3</td>\n",
       "      <td>1.000000</td>\n",
       "    </tr>\n",
       "    <tr>\n",
       "      <th>4</th>\n",
       "      <td>5</td>\n",
       "      <td>0.692308</td>\n",
       "    </tr>\n",
       "    <tr>\n",
       "      <th>...</th>\n",
       "      <td>...</td>\n",
       "      <td>...</td>\n",
       "    </tr>\n",
       "    <tr>\n",
       "      <th>88</th>\n",
       "      <td>133</td>\n",
       "      <td>1.000000</td>\n",
       "    </tr>\n",
       "    <tr>\n",
       "      <th>89</th>\n",
       "      <td>134</td>\n",
       "      <td>1.000000</td>\n",
       "    </tr>\n",
       "    <tr>\n",
       "      <th>90</th>\n",
       "      <td>135</td>\n",
       "      <td>1.000000</td>\n",
       "    </tr>\n",
       "    <tr>\n",
       "      <th>91</th>\n",
       "      <td>137</td>\n",
       "      <td>0.928571</td>\n",
       "    </tr>\n",
       "    <tr>\n",
       "      <th>92</th>\n",
       "      <td>139</td>\n",
       "      <td>0.133333</td>\n",
       "    </tr>\n",
       "  </tbody>\n",
       "</table>\n",
       "<p>93 rows × 2 columns</p>\n",
       "</div>"
      ],
      "text/plain": [
       "    server_id  is_english_pred_rate\n",
       "0           0              1.000000\n",
       "1           1              1.000000\n",
       "2           2              1.000000\n",
       "3           3              1.000000\n",
       "4           5              0.692308\n",
       "..        ...                   ...\n",
       "88        133              1.000000\n",
       "89        134              1.000000\n",
       "90        135              1.000000\n",
       "91        137              0.928571\n",
       "92        139              0.133333\n",
       "\n",
       "[93 rows x 2 columns]"
      ]
     },
     "execution_count": 95,
     "metadata": {},
     "output_type": "execute_result"
    }
   ],
   "source": [
    "# count the proportion of rules predicted to be english per server\n",
    "english_pred_rate = mastodon.rules_df.groupby(\"server_id\")[[\"server_id\", \"is_english_pred\"]].apply(lambda server: server[\"is_english_pred\"].sum() / server[\"server_id\"].count()).reset_index(name='is_english_pred_rate')\n",
    "english_pred_rate"
   ]
  },
  {
   "cell_type": "code",
   "execution_count": 96,
   "id": "266f0c82",
   "metadata": {},
   "outputs": [
    {
     "data": {
      "application/vnd.microsoft.datawrangler.viewer.v0+json": {
       "columns": [
        {
         "name": "index",
         "rawType": "int64",
         "type": "integer"
        },
        {
         "name": "server_id",
         "rawType": "int64",
         "type": "integer"
        },
        {
         "name": "is_english_pred_rate",
         "rawType": "float64",
         "type": "float"
        }
       ],
       "ref": "a14a71e2-bd34-4684-86e4-b1892aee1219",
       "rows": [
        [
         "4",
         "5",
         "0.6923076923076923"
        ],
        [
         "9",
         "11",
         "0.9"
        ],
        [
         "21",
         "29",
         "0.75"
        ],
        [
         "22",
         "31",
         "0.875"
        ],
        [
         "27",
         "37",
         "0.9375"
        ],
        [
         "32",
         "45",
         "0.875"
        ],
        [
         "33",
         "47",
         "0.9090909090909091"
        ],
        [
         "34",
         "48",
         "0.875"
        ],
        [
         "44",
         "68",
         "0.375"
        ],
        [
         "45",
         "69",
         "0.7619047619047619"
        ],
        [
         "50",
         "78",
         "0.8333333333333334"
        ],
        [
         "54",
         "85",
         "0.8888888888888888"
        ],
        [
         "59",
         "93",
         "0.5"
        ],
        [
         "66",
         "104",
         "0.8333333333333334"
        ],
        [
         "78",
         "121",
         "0.8333333333333334"
        ],
        [
         "86",
         "129",
         "0.8"
        ],
        [
         "91",
         "137",
         "0.9285714285714286"
        ],
        [
         "92",
         "139",
         "0.13333333333333333"
        ]
       ],
       "shape": {
        "columns": 2,
        "rows": 18
       }
      },
      "text/html": [
       "<div>\n",
       "<style scoped>\n",
       "    .dataframe tbody tr th:only-of-type {\n",
       "        vertical-align: middle;\n",
       "    }\n",
       "\n",
       "    .dataframe tbody tr th {\n",
       "        vertical-align: top;\n",
       "    }\n",
       "\n",
       "    .dataframe thead th {\n",
       "        text-align: right;\n",
       "    }\n",
       "</style>\n",
       "<table border=\"1\" class=\"dataframe\">\n",
       "  <thead>\n",
       "    <tr style=\"text-align: right;\">\n",
       "      <th></th>\n",
       "      <th>server_id</th>\n",
       "      <th>is_english_pred_rate</th>\n",
       "    </tr>\n",
       "  </thead>\n",
       "  <tbody>\n",
       "    <tr>\n",
       "      <th>4</th>\n",
       "      <td>5</td>\n",
       "      <td>0.692308</td>\n",
       "    </tr>\n",
       "    <tr>\n",
       "      <th>9</th>\n",
       "      <td>11</td>\n",
       "      <td>0.900000</td>\n",
       "    </tr>\n",
       "    <tr>\n",
       "      <th>21</th>\n",
       "      <td>29</td>\n",
       "      <td>0.750000</td>\n",
       "    </tr>\n",
       "    <tr>\n",
       "      <th>22</th>\n",
       "      <td>31</td>\n",
       "      <td>0.875000</td>\n",
       "    </tr>\n",
       "    <tr>\n",
       "      <th>27</th>\n",
       "      <td>37</td>\n",
       "      <td>0.937500</td>\n",
       "    </tr>\n",
       "    <tr>\n",
       "      <th>32</th>\n",
       "      <td>45</td>\n",
       "      <td>0.875000</td>\n",
       "    </tr>\n",
       "    <tr>\n",
       "      <th>33</th>\n",
       "      <td>47</td>\n",
       "      <td>0.909091</td>\n",
       "    </tr>\n",
       "    <tr>\n",
       "      <th>34</th>\n",
       "      <td>48</td>\n",
       "      <td>0.875000</td>\n",
       "    </tr>\n",
       "    <tr>\n",
       "      <th>44</th>\n",
       "      <td>68</td>\n",
       "      <td>0.375000</td>\n",
       "    </tr>\n",
       "    <tr>\n",
       "      <th>45</th>\n",
       "      <td>69</td>\n",
       "      <td>0.761905</td>\n",
       "    </tr>\n",
       "    <tr>\n",
       "      <th>50</th>\n",
       "      <td>78</td>\n",
       "      <td>0.833333</td>\n",
       "    </tr>\n",
       "    <tr>\n",
       "      <th>54</th>\n",
       "      <td>85</td>\n",
       "      <td>0.888889</td>\n",
       "    </tr>\n",
       "    <tr>\n",
       "      <th>59</th>\n",
       "      <td>93</td>\n",
       "      <td>0.500000</td>\n",
       "    </tr>\n",
       "    <tr>\n",
       "      <th>66</th>\n",
       "      <td>104</td>\n",
       "      <td>0.833333</td>\n",
       "    </tr>\n",
       "    <tr>\n",
       "      <th>78</th>\n",
       "      <td>121</td>\n",
       "      <td>0.833333</td>\n",
       "    </tr>\n",
       "    <tr>\n",
       "      <th>86</th>\n",
       "      <td>129</td>\n",
       "      <td>0.800000</td>\n",
       "    </tr>\n",
       "    <tr>\n",
       "      <th>91</th>\n",
       "      <td>137</td>\n",
       "      <td>0.928571</td>\n",
       "    </tr>\n",
       "    <tr>\n",
       "      <th>92</th>\n",
       "      <td>139</td>\n",
       "      <td>0.133333</td>\n",
       "    </tr>\n",
       "  </tbody>\n",
       "</table>\n",
       "</div>"
      ],
      "text/plain": [
       "    server_id  is_english_pred_rate\n",
       "4           5              0.692308\n",
       "9          11              0.900000\n",
       "21         29              0.750000\n",
       "22         31              0.875000\n",
       "27         37              0.937500\n",
       "32         45              0.875000\n",
       "33         47              0.909091\n",
       "34         48              0.875000\n",
       "44         68              0.375000\n",
       "45         69              0.761905\n",
       "50         78              0.833333\n",
       "54         85              0.888889\n",
       "59         93              0.500000\n",
       "66        104              0.833333\n",
       "78        121              0.833333\n",
       "86        129              0.800000\n",
       "91        137              0.928571\n",
       "92        139              0.133333"
      ]
     },
     "execution_count": 96,
     "metadata": {},
     "output_type": "execute_result"
    }
   ],
   "source": [
    "english_pred_rate[(english_pred_rate[\"is_english_pred_rate\"] < 1) & (english_pred_rate[\"is_english_pred_rate\"] > 0)]"
   ]
  },
  {
   "cell_type": "markdown",
   "id": "e1ac9423",
   "metadata": {},
   "source": [
    "As expected, some servers had rules whose format was confusing for the model to detect their language. After inspecting the problematic rules,we can safely reinclude the servers where the model did not predict 0 or 100% of english: these servers' rules are all in english and were wrongly predicted as in another language. We however note 2 exceptions:\n",
    "- ```server 93``` has their rules in german and an english transltion versio of them. We will keep the rules predicted to be in english in this server and put the ones predicted to be in german out.\n",
    "- ```server 139``` has the following format of rules: \"使用本站代表您同意了这些规则与政策，注册前请务必仔细阅读！/ By using this instance, you agree to these rules and policies. Please be sure to read them carefully before registering!\". We will keep all rules from this server and remove the first part in chinese during standardization of the rules texts."
   ]
  },
  {
   "cell_type": "code",
   "execution_count": 97,
   "id": "ec04eada",
   "metadata": {},
   "outputs": [
    {
     "name": "stdout",
     "output_type": "stream",
     "text": [
      "Started with 807 rules…\n",
      "Removed 111 rules from servers with 0% of rules predicted to be in english…\n",
      "Removed 10 rules from server 93 that were not predicted to be in english…\n",
      "In total, we removed 121 of the 807 rules (14%) that were not detected to be in english.\n",
      "Final total number of english rules: 686\n"
     ]
    }
   ],
   "source": [
    "mastodon_rules_english = mastodon.keep_english_rules_only()"
   ]
  },
  {
   "cell_type": "code",
   "execution_count": 98,
   "id": "9de3133d",
   "metadata": {},
   "outputs": [
    {
     "name": "stdout",
     "output_type": "stream",
     "text": [
      " We removed 121 of the 807 rules (15%) that were not detected to be in english.\n"
     ]
    }
   ],
   "source": [
    "# count how many rules we excluded\n",
    "non_english_rules_pourcentage = 100 * (mastodon_rules.shape[0] - mastodon_rules_english.shape[0]) / mastodon_rules.shape[0]\n",
    "print(f\" We removed {mastodon_rules.shape[0] - mastodon_rules_english.shape[0]} of the {mastodon_rules.shape[0]} rules ({non_english_rules_pourcentage:.0f}%) that were not detected to be in english.\")"
   ]
  },
  {
   "cell_type": "code",
   "execution_count": 99,
   "id": "81517aab",
   "metadata": {},
   "outputs": [
    {
     "data": {
      "application/vnd.microsoft.datawrangler.viewer.v0+json": {
       "columns": [
        {
         "name": "index",
         "rawType": "int64",
         "type": "integer"
        },
        {
         "name": "server_id",
         "rawType": "int64",
         "type": "integer"
        },
        {
         "name": "rule_id",
         "rawType": "object",
         "type": "string"
        },
        {
         "name": "text",
         "rawType": "object",
         "type": "unknown"
        },
        {
         "name": "hint",
         "rawType": "object",
         "type": "unknown"
        },
        {
         "name": "is_english_pred",
         "rawType": "bool",
         "type": "boolean"
        },
        {
         "name": "rules",
         "rawType": "object",
         "type": "unknown"
        }
       ],
       "ref": "135ae3c6-4e74-4b26-b3ed-50dea7936b71",
       "rows": [
        [
         "0",
         "0",
         "1",
         "['sexually', 'explicit', 'or', 'violent', 'media', 'must', 'be', 'marked', 'as', 'sensitive', 'or', 'with', 'a', 'content', 'warning']",
         "['this', 'includes', 'content', 'that', 'is', 'particularly', 'provocative', 'even', 'if', 'it', 'may', 'not', 'show', 'specific', 'body', 'parts', 'as', 'well', 'as', 'dead', 'bodies', 'bloody', 'injuries', 'and', 'other', 'gore', 'particularly', 'obscene', 'content', 'may', 'be', 'prohibited', 'entirely', 'profile', 'pictures', 'and', 'header', 'images', 'may', 'not', 'contain', 'sexually', 'explicit', 'or', 'violent', 'media']",
         "True",
         "['sexually', 'explicit', 'or', 'violent', 'media', 'must', 'be', 'marked', 'as', 'sensitive', 'or', 'with', 'a', 'content', 'warning', 'this', 'includes', 'content', 'that', 'is', 'particularly', 'provocative', 'even', 'if', 'it', 'may', 'not', 'show', 'specific', 'body', 'parts', 'as', 'well', 'as', 'dead', 'bodies', 'bloody', 'injuries', 'and', 'other', 'gore', 'particularly', 'obscene', 'content', 'may', 'be', 'prohibited', 'entirely', 'profile', 'pictures', 'and', 'header', 'images', 'may', 'not', 'contain', 'sexually', 'explicit', 'or', 'violent', 'media']"
        ],
        [
         "1",
         "0",
         "2",
         "['no', 'racism', 'sexism', 'homophobia', 'transphobia', 'ableism', 'xenophobia', 'or', 'casteism']",
         "['transphobic', 'behavior', 'such', 'as', 'intentional', 'misgendering', 'and', 'deadnaming', 'is', 'strictly', 'prohibited', 'promotion', 'of', 'conversion', 'therapy', 'is', 'strictly', 'prohibited', 'criticism', 'of', 'governments', 'and', 'religions', 'is', 'permissible', 'unless', 'being', 'used', 'as', 'a', 'proxy', 'for', 'discrimination']",
         "True",
         "['no', 'racism', 'sexism', 'homophobia', 'transphobia', 'ableism', 'xenophobia', 'or', 'casteism', 'transphobic', 'behavior', 'such', 'as', 'intentional', 'misgendering', 'and', 'deadnaming', 'is', 'strictly', 'prohibited', 'promotion', 'of', 'conversion', 'therapy', 'is', 'strictly', 'prohibited', 'criticism', 'of', 'governments', 'and', 'religions', 'is', 'permissible', 'unless', 'being', 'used', 'as', 'a', 'proxy', 'for', 'discrimination']"
        ],
        [
         "2",
         "0",
         "3",
         "['no', 'incitement', 'of', 'violence', 'or', 'promotion', 'of', 'violent', 'ideologies']",
         "['calling', 'for', 'people', 'or', 'groups', 'to', 'be', 'assassinated', 'murdered', 'or', 'attacked', 'physically', 'is', 'strictly', 'prohibited', 'support', 'for', 'violent', 'groups', 'or', 'events', 'is', 'prohibited']",
         "True",
         "['no', 'incitement', 'of', 'violence', 'or', 'promotion', 'of', 'violent', 'ideologies', 'calling', 'for', 'people', 'or', 'groups', 'to', 'be', 'assassinated', 'murdered', 'or', 'attacked', 'physically', 'is', 'strictly', 'prohibited', 'support', 'for', 'violent', 'groups', 'or', 'events', 'is', 'prohibited']"
        ],
        [
         "3",
         "0",
         "4",
         "['no', 'harassment', 'block', 'evasion', 'dogpiling', 'or', 'doxxing', 'of', 'others']",
         "['repeat', 'attempts', 'to', 'communicate', 'with', 'users', 'who', 'have', 'blocked', 'you', 'or', 'creation', 'of', 'accounts', 'solely', 'to', 'harass', 'or', 'insult', 'individuals', 'is', 'strictly', 'prohibited', 'coordinated', 'activity', 'to', 'attack', 'other', 'users', 'is', 'prohibited', 'posting', 'of', 'private', 'personal', 'information', 'about', 'others', 'is', 'prohibited']",
         "True",
         "['no', 'harassment', 'block', 'evasion', 'dogpiling', 'or', 'doxxing', 'of', 'others', 'repeat', 'attempts', 'to', 'communicate', 'with', 'users', 'who', 'have', 'blocked', 'you', 'or', 'creation', 'of', 'accounts', 'solely', 'to', 'harass', 'or', 'insult', 'individuals', 'is', 'strictly', 'prohibited', 'coordinated', 'activity', 'to', 'attack', 'other', 'users', 'is', 'prohibited', 'posting', 'of', 'private', 'personal', 'information', 'about', 'others', 'is', 'prohibited']"
        ],
        [
         "4",
         "0",
         "7",
         "['do', 'not', 'share', 'information', 'widely', 'known', 'to', 'be', 'false', 'and', 'misleading']",
         "['false', 'and', 'misleading', 'information', 'and', 'links', 'from', 'low', 'quality', 'sources', 'may', 'not', 'be', 'posted', 'especially', 'if', 'they', 'are', 'likely', 'to', 'mislead', 'or', 'confuse', 'others', 'or', 'endanger', 'their', 'safety']",
         "True",
         "['do', 'not', 'share', 'information', 'widely', 'known', 'to', 'be', 'false', 'and', 'misleading', 'false', 'and', 'misleading', 'information', 'and', 'links', 'from', 'low', 'quality', 'sources', 'may', 'not', 'be', 'posted', 'especially', 'if', 'they', 'are', 'likely', 'to', 'mislead', 'or', 'confuse', 'others', 'or', 'endanger', 'their', 'safety']"
        ],
        [
         "5",
         "0",
         "1008",
         "['content', 'created', 'by', 'others', 'must', 'be', 'attributed', 'and', 'use', 'of', 'generative', 'ai', 'must', 'be', 'disclosed']",
         "['content', 'created', 'by', 'others', 'must', 'clearly', 'provide', 'a', 'reference', 'to', 'the', 'author', 'creator', 'or', 'source', 'for', 'adult', 'content', 'this', 'should', 'include', 'performers', 'accounts', 'may', 'not', 'solely', 'post', 'ai', 'generated', 'content']",
         "True",
         "['content', 'created', 'by', 'others', 'must', 'be', 'attributed', 'and', 'use', 'of', 'generative', 'ai', 'must', 'be', 'disclosed', 'content', 'created', 'by', 'others', 'must', 'clearly', 'provide', 'a', 'reference', 'to', 'the', 'author', 'creator', 'or', 'source', 'for', 'adult', 'content', 'this', 'should', 'include', 'performers', 'accounts', 'may', 'not', 'solely', 'post', 'ai', 'generated', 'content']"
        ],
        [
         "6",
         "1",
         "2",
         "['sexually', 'explicit', 'or', 'violent', 'media', 'must', 'be', 'marked', 'as', 'sensitive', 'when', 'posting']",
         "[]",
         "True",
         "['sexually', 'explicit', 'or', 'violent', 'media', 'must', 'be', 'marked', 'as', 'sensitive', 'when', 'posting']"
        ],
        [
         "7",
         "1",
         "3",
         "['no', 'spam', 'or', 'advertising']",
         "[]",
         "True",
         "['no', 'spam', 'or', 'advertising']"
        ],
        [
         "8",
         "1",
         "4",
         "['no', 'racism', 'sexism', 'homophobia', 'transphobia', 'xenophobia', 'or', 'casteism']",
         "[]",
         "True",
         "['no', 'racism', 'sexism', 'homophobia', 'transphobia', 'xenophobia', 'or', 'casteism']"
        ],
        [
         "9",
         "1",
         "5",
         "['no', 'incitement', 'of', 'violence', 'or', 'promotion', 'of', 'violent', 'ideologies']",
         "[]",
         "True",
         "['no', 'incitement', 'of', 'violence', 'or', 'promotion', 'of', 'violent', 'ideologies']"
        ],
        [
         "10",
         "1",
         "6",
         "['no', 'harassment', 'dogpiling', 'or', 'doxxing', 'of', 'other', 'users']",
         "[]",
         "True",
         "['no', 'harassment', 'dogpiling', 'or', 'doxxing', 'of', 'other', 'users']"
        ],
        [
         "11",
         "1",
         "7",
         "['no', 'illegal', 'content']",
         "[]",
         "True",
         "['no', 'illegal', 'content']"
        ],
        [
         "12",
         "1",
         "11",
         "['no', 'spreading', 'of', 'fake', 'news', 'or', 'misinformation']",
         "[]",
         "True",
         "['no', 'spreading', 'of', 'fake', 'news', 'or', 'misinformation']"
        ],
        [
         "13",
         "1",
         "12",
         "['content', 'created', 'by', 'others', 'must', 'be', 'attributed', 'and', 'use', 'of', 'ai', 'must', 'be', 'disclosed', 'profiles', 'that', 'only', 'post', 'ai', 'generated', 'content', 'will', 'not', 'be', 'tolerated']",
         "[]",
         "True",
         "['content', 'created', 'by', 'others', 'must', 'be', 'attributed', 'and', 'use', 'of', 'ai', 'must', 'be', 'disclosed', 'profiles', 'that', 'only', 'post', 'ai', 'generated', 'content', 'will', 'not', 'be', 'tolerated']"
        ],
        [
         "14",
         "2",
         "1",
         "['do', 'unto', 'others', 'as', 'you', 'think', 'they', 'would', 'want', 'done', 'to', 'them']",
         "[]",
         "True",
         "['do', 'unto', 'others', 'as', 'you', 'think', 'they', 'would', 'want', 'done', 'to', 'them']"
        ],
        [
         "15",
         "2",
         "2",
         "['mark', 'sensitive', 'content', 'with', 'a', 'content', 'warning']",
         "[]",
         "True",
         "['mark', 'sensitive', 'content', 'with', 'a', 'content', 'warning']"
        ],
        [
         "16",
         "2",
         "3",
         "['gratuitous', 'obscenity', 'that', 'serves', 'no', 'practical', 'benefit', 'to', 'a', 'discussion', 'is', 'not', 'permitted']",
         "[]",
         "True",
         "['gratuitous', 'obscenity', 'that', 'serves', 'no', 'practical', 'benefit', 'to', 'a', 'discussion', 'is', 'not', 'permitted']"
        ],
        [
         "17",
         "2",
         "4",
         "['illegal', 'content', 'such', 'as', 'child', 'pornography', 'unsurprisingly', 'is', 'not', 'permitted']",
         "[]",
         "True",
         "['illegal', 'content', 'such', 'as', 'child', 'pornography', 'unsurprisingly', 'is', 'not', 'permitted']"
        ],
        [
         "18",
         "2",
         "5",
         "['spam', 'is', 'not', 'permitted', 'this', 'includes', 'creating', 'spam', 'accounts', 'that', 'only', 'serve', 'to', 'provide', 'profile', 'links', 'or', 'advertise', 'products', 'and', 'services']",
         "[]",
         "True",
         "['spam', 'is', 'not', 'permitted', 'this', 'includes', 'creating', 'spam', 'accounts', 'that', 'only', 'serve', 'to', 'provide', 'profile', 'links', 'or', 'advertise', 'products', 'and', 'services']"
        ],
        [
         "19",
         "2",
         "6",
         "['hate', 'speech', 'and', 'abusive', 'or', 'threatening', 'behavior', 'is', 'not', 'permitted', 'specifically', 'that', 'which', 'directed', 'at', 'any', 'gender', 'nationality', 'religion', 'race', 'age', 'pizza', 'topping', 'preference', 'or', 'sexual', 'identity', 'one', 'can', 'hate', 'on', 'systemd', 'all', 'day', 'long', 'here']",
         "[]",
         "True",
         "['hate', 'speech', 'and', 'abusive', 'or', 'threatening', 'behavior', 'is', 'not', 'permitted', 'specifically', 'that', 'which', 'directed', 'at', 'any', 'gender', 'nationality', 'religion', 'race', 'age', 'pizza', 'topping', 'preference', 'or', 'sexual', 'identity', 'one', 'can', 'hate', 'on', 'systemd', 'all', 'day', 'long', 'here']"
        ],
        [
         "20",
         "2",
         "7",
         "['lack', 'of', 'a', 'specific', 'rule', 'against', 'a', 'certain', 'behavior', 'does', 'not', 'indicate', 'acceptance', 'of', 'that', 'behavior', 'each', 'of', 'us', 'has', 'a', 'limited', 'amount', 'of', 'time', 'in', 'this', 'world', 'don', 't', 'be', 'a', 'jerk']",
         "[]",
         "True",
         "['lack', 'of', 'a', 'specific', 'rule', 'against', 'a', 'certain', 'behavior', 'does', 'not', 'indicate', 'acceptance', 'of', 'that', 'behavior', 'each', 'of', 'us', 'has', 'a', 'limited', 'amount', 'of', 'time', 'in', 'this', 'world', 'don', 't', 'be', 'a', 'jerk']"
        ],
        [
         "21",
         "2",
         "8",
         "['violating', 'one', 'or', 'more', 'of', 'these', 'rules', 'may', 'result', 'in', 'an', 'immediate', 'permanent', 'ban', 'without', 'notice', 'or', 'warning']",
         "[]",
         "True",
         "['violating', 'one', 'or', 'more', 'of', 'these', 'rules', 'may', 'result', 'in', 'an', 'immediate', 'permanent', 'ban', 'without', 'notice', 'or', 'warning']"
        ],
        [
         "22",
         "2",
         "9",
         "['you', 'may', 'not', 'impersonate', 'a', 'person', 'or', 'brand', 'without', 'a', 'clear', 'indication', 'the', 'account', 'is', 'unofficial', 'and', 'or', 'a', 'parody', 'parody', 'accounts', 'are', 'permitted', 'as', 'are', 'legitimate', 'brand', 'accounts']",
         "[]",
         "True",
         "['you', 'may', 'not', 'impersonate', 'a', 'person', 'or', 'brand', 'without', 'a', 'clear', 'indication', 'the', 'account', 'is', 'unofficial', 'and', 'or', 'a', 'parody', 'parody', 'accounts', 'are', 'permitted', 'as', 'are', 'legitimate', 'brand', 'accounts']"
        ],
        [
         "23",
         "2",
         "11",
         "['no', 'attacks', 'against', 'or', 'from', 'the', 'instance', 'you', 'may', 'not', 'do', 'anything', 'which', 'may', 'impact', 'confidentiality', 'integrity', 'or', 'availability', 'of', 'infosec', 'exchange', 'the', 'users', 'of', 'the', 'service', 'or', 'their', 'data', 'for', 'more', 'details', 'see', 'https', 'wiki', 'infosec', 'exchange', 'rules', 'start']",
         "[]",
         "True",
         "['no', 'attacks', 'against', 'or', 'from', 'the', 'instance', 'you', 'may', 'not', 'do', 'anything', 'which', 'may', 'impact', 'confidentiality', 'integrity', 'or', 'availability', 'of', 'infosec', 'exchange', 'the', 'users', 'of', 'the', 'service', 'or', 'their', 'data', 'for', 'more', 'details', 'see', 'https', 'wiki', 'infosec', 'exchange', 'rules', 'start']"
        ],
        [
         "24",
         "2",
         "12",
         "['no', 'doxing', 'aka', 'doxxing', 'or', 'disclosing', 'personal', 'information', 'without', 'consent', 'and', 'as', 'a', 'means', 'of', 'harassing', 'or', 'causing', 'others', 'to', 'harass', 'another', 'person']",
         "[]",
         "True",
         "['no', 'doxing', 'aka', 'doxxing', 'or', 'disclosing', 'personal', 'information', 'without', 'consent', 'and', 'as', 'a', 'means', 'of', 'harassing', 'or', 'causing', 'others', 'to', 'harass', 'another', 'person']"
        ],
        [
         "25",
         "2",
         "13",
         "['no', 'harassment', 'in', 'the', 'form', 'of', 'continued', 'engagement', 'after', 'a', 'person', 'has', 'requested', 'contact', 'to', 'stop']",
         "[]",
         "True",
         "['no', 'harassment', 'in', 'the', 'form', 'of', 'continued', 'engagement', 'after', 'a', 'person', 'has', 'requested', 'contact', 'to', 'stop']"
        ],
        [
         "26",
         "2",
         "14",
         "['automated', 'posting', 'accounts', 'that', 'post', '50', 'using', 'automation', 'must', 'be', 'labeled', 'as', 'a', 'bot', 'in', 'the', 'user', 'profile', 'to', 'help', 'provide', 'a', 'visual', 'indicator', 'to', 'visitors', 'automated', 'posts', 'must', 'be', 'limited', 'to', 'one', 'post', 'per', 'hour', '24', 'per', 'day', 'with', 'post', 'visibility', 'set', 'to', 'public', 'there', 'is', 'no', 'limit', 'on', 'unlisted', 'posts']",
         "[]",
         "True",
         "['automated', 'posting', 'accounts', 'that', 'post', '50', 'using', 'automation', 'must', 'be', 'labeled', 'as', 'a', 'bot', 'in', 'the', 'user', 'profile', 'to', 'help', 'provide', 'a', 'visual', 'indicator', 'to', 'visitors', 'automated', 'posts', 'must', 'be', 'limited', 'to', 'one', 'post', 'per', 'hour', '24', 'per', 'day', 'with', 'post', 'visibility', 'set', 'to', 'public', 'there', 'is', 'no', 'limit', 'on', 'unlisted', 'posts']"
        ],
        [
         "27",
         "2",
         "15",
         "['soliciting', 'or', 'inciting', 'violence', 'or', 'harm', 'against', 'a', 'person', 'or', 'segment', 'of', 'people', 'is', 'not', 'permitted']",
         "[]",
         "True",
         "['soliciting', 'or', 'inciting', 'violence', 'or', 'harm', 'against', 'a', 'person', 'or', 'segment', 'of', 'people', 'is', 'not', 'permitted']"
        ],
        [
         "28",
         "3",
         "9",
         "['no', 'discrimination', 'including', 'but', 'not', 'limited', 'to', 'racism', 'sexism', 'homophobia', 'or', 'transphobia', 'including', 'targeted', 'misgendering', 'deadnaming', 'or', 'promotion', 'of', 'so', 'called', 'conversion', 'therapy']",
         "[]",
         "True",
         "['no', 'discrimination', 'including', 'but', 'not', 'limited', 'to', 'racism', 'sexism', 'homophobia', 'or', 'transphobia', 'including', 'targeted', 'misgendering', 'deadnaming', 'or', 'promotion', 'of', 'so', 'called', 'conversion', 'therapy']"
        ],
        [
         "29",
         "3",
         "10",
         "['no', 'explicit', 'nsfw', 'content', 'without', 'content', 'warnings', 'and', 'or', 'sensitive', 'media', 'markers', 'explicit', 'content', 'must', 'not', 'be', 'used', 'in', 'user', 'avatars', 'or', 'header', 'images']",
         "[]",
         "True",
         "['no', 'explicit', 'nsfw', 'content', 'without', 'content', 'warnings', 'and', 'or', 'sensitive', 'media', 'markers', 'explicit', 'content', 'must', 'not', 'be', 'used', 'in', 'user', 'avatars', 'or', 'header', 'images']"
        ],
        [
         "30",
         "3",
         "17",
         "['no', 'harassment', 'of', 'other', 'users', 'on', 'this', 'or', 'other', 'servers']",
         "[]",
         "True",
         "['no', 'harassment', 'of', 'other', 'users', 'on', 'this', 'or', 'other', 'servers']"
        ],
        [
         "31",
         "3",
         "18",
         "['no', 'content', 'illegal', 'in', 'the', 'following', 'countries', 'united', 'kingdom', 'germany']",
         "[]",
         "True",
         "['no', 'content', 'illegal', 'in', 'the', 'following', 'countries', 'united', 'kingdom', 'germany']"
        ],
        [
         "32",
         "3",
         "19",
         "['no', 'incitement', 'of', 'violence', 'or', 'promotion', 'of', 'violent', 'ideologies']",
         "[]",
         "True",
         "['no', 'incitement', 'of', 'violence', 'or', 'promotion', 'of', 'violent', 'ideologies']"
        ],
        [
         "33",
         "3",
         "20",
         "['no', 'disinformation', 'regarding', 'public', 'health', 'issues', 'or', 'political', 'military', 'campaigns']",
         "[]",
         "True",
         "['no', 'disinformation', 'regarding', 'public', 'health', 'issues', 'or', 'political', 'military', 'campaigns']"
        ],
        [
         "34",
         "3",
         "21",
         "['no', 'spam', 'this', 'includes', 'commercial', 'advertising', 'promotion', 'of', 'services', 'and', 'seo']",
         "[]",
         "True",
         "['no', 'spam', 'this', 'includes', 'commercial', 'advertising', 'promotion', 'of', 'services', 'and', 'seo']"
        ],
        [
         "35",
         "3",
         "22",
         "['no', 'impersonation', 'of', 'other', 'individuals', 'public', 'figures', 'or', 'organisations', 'unless', 'clearly', 'marked', 'as', 'a', 'parody']",
         "[]",
         "True",
         "['no', 'impersonation', 'of', 'other', 'individuals', 'public', 'figures', 'or', 'organisations', 'unless', 'clearly', 'marked', 'as', 'a', 'parody']"
        ],
        [
         "36",
         "3",
         "23",
         "['all', 'automated', 'bot', 'accounts', 'must', 'enable', 'the', 'bot', 'flag', 'in', 'their', 'account', 'preferences', 'respect', 'nobot', 'markers', 'and', 'post', 'as', 'unlisted', 'unless', 'making', 'less', 'than', 'one', 'post', 'per', 'hour']",
         "[]",
         "True",
         "['all', 'automated', 'bot', 'accounts', 'must', 'enable', 'the', 'bot', 'flag', 'in', 'their', 'account', 'preferences', 'respect', 'nobot', 'markers', 'and', 'post', 'as', 'unlisted', 'unless', 'making', 'less', 'than', 'one', 'post', 'per', 'hour']"
        ],
        [
         "37",
         "5",
         "1",
         "['don', 't', 'be', 'a', 'dick']",
         "[]",
         "True",
         "['don', 't', 'be', 'a', 'dick']"
        ],
        [
         "38",
         "5",
         "2",
         "['no', 'hacking']",
         "[]",
         "True",
         "['no', 'hacking']"
        ],
        [
         "39",
         "5",
         "3",
         "['no', 'violence']",
         "[]",
         "True",
         "['no', 'violence']"
        ],
        [
         "40",
         "5",
         "4",
         "['no', 'fascism']",
         "[]",
         "False",
         "['no', 'fascism']"
        ],
        [
         "41",
         "5",
         "5",
         "['no', 'colonialism']",
         "[]",
         "True",
         "['no', 'colonialism']"
        ],
        [
         "42",
         "5",
         "6",
         "['no', 'white', 'supremacy']",
         "[]",
         "True",
         "['no', 'white', 'supremacy']"
        ],
        [
         "43",
         "5",
         "7",
         "['no', 'religious', 'extremism']",
         "[]",
         "True",
         "['no', 'religious', 'extremism']"
        ],
        [
         "44",
         "5",
         "9",
         "['no', 'nationalism']",
         "[]",
         "True",
         "['no', 'nationalism']"
        ],
        [
         "45",
         "5",
         "11",
         "['no', 'racism']",
         "[]",
         "True",
         "['no', 'racism']"
        ],
        [
         "46",
         "5",
         "12",
         "['no', 'homophobia']",
         "[]",
         "False",
         "['no', 'homophobia']"
        ],
        [
         "47",
         "5",
         "13",
         "['no', 'transphobia']",
         "[]",
         "False",
         "['no', 'transphobia']"
        ],
        [
         "48",
         "5",
         "14",
         "['safe', 'space', 'lgtbqia']",
         "[]",
         "False",
         "['safe', 'space', 'lgtbqia']"
        ],
        [
         "49",
         "5",
         "15",
         "['safe', 'space', 'neurodivergent', 'adhd', 'autism', 'etc']",
         "[]",
         "True",
         "['safe', 'space', 'neurodivergent', 'adhd', 'autism', 'etc']"
        ]
       ],
       "shape": {
        "columns": 6,
        "rows": 686
       }
      },
      "text/html": [
       "<div>\n",
       "<style scoped>\n",
       "    .dataframe tbody tr th:only-of-type {\n",
       "        vertical-align: middle;\n",
       "    }\n",
       "\n",
       "    .dataframe tbody tr th {\n",
       "        vertical-align: top;\n",
       "    }\n",
       "\n",
       "    .dataframe thead th {\n",
       "        text-align: right;\n",
       "    }\n",
       "</style>\n",
       "<table border=\"1\" class=\"dataframe\">\n",
       "  <thead>\n",
       "    <tr style=\"text-align: right;\">\n",
       "      <th></th>\n",
       "      <th>server_id</th>\n",
       "      <th>rule_id</th>\n",
       "      <th>text</th>\n",
       "      <th>hint</th>\n",
       "      <th>is_english_pred</th>\n",
       "      <th>rules</th>\n",
       "    </tr>\n",
       "  </thead>\n",
       "  <tbody>\n",
       "    <tr>\n",
       "      <th>0</th>\n",
       "      <td>0</td>\n",
       "      <td>1</td>\n",
       "      <td>[sexually, explicit, or, violent, media, must,...</td>\n",
       "      <td>[this, includes, content, that, is, particular...</td>\n",
       "      <td>True</td>\n",
       "      <td>[sexually, explicit, or, violent, media, must,...</td>\n",
       "    </tr>\n",
       "    <tr>\n",
       "      <th>1</th>\n",
       "      <td>0</td>\n",
       "      <td>2</td>\n",
       "      <td>[no, racism, sexism, homophobia, transphobia, ...</td>\n",
       "      <td>[transphobic, behavior, such, as, intentional,...</td>\n",
       "      <td>True</td>\n",
       "      <td>[no, racism, sexism, homophobia, transphobia, ...</td>\n",
       "    </tr>\n",
       "    <tr>\n",
       "      <th>2</th>\n",
       "      <td>0</td>\n",
       "      <td>3</td>\n",
       "      <td>[no, incitement, of, violence, or, promotion, ...</td>\n",
       "      <td>[calling, for, people, or, groups, to, be, ass...</td>\n",
       "      <td>True</td>\n",
       "      <td>[no, incitement, of, violence, or, promotion, ...</td>\n",
       "    </tr>\n",
       "    <tr>\n",
       "      <th>3</th>\n",
       "      <td>0</td>\n",
       "      <td>4</td>\n",
       "      <td>[no, harassment, block, evasion, dogpiling, or...</td>\n",
       "      <td>[repeat, attempts, to, communicate, with, user...</td>\n",
       "      <td>True</td>\n",
       "      <td>[no, harassment, block, evasion, dogpiling, or...</td>\n",
       "    </tr>\n",
       "    <tr>\n",
       "      <th>4</th>\n",
       "      <td>0</td>\n",
       "      <td>7</td>\n",
       "      <td>[do, not, share, information, widely, known, t...</td>\n",
       "      <td>[false, and, misleading, information, and, lin...</td>\n",
       "      <td>True</td>\n",
       "      <td>[do, not, share, information, widely, known, t...</td>\n",
       "    </tr>\n",
       "    <tr>\n",
       "      <th>...</th>\n",
       "      <td>...</td>\n",
       "      <td>...</td>\n",
       "      <td>...</td>\n",
       "      <td>...</td>\n",
       "      <td>...</td>\n",
       "      <td>...</td>\n",
       "    </tr>\n",
       "    <tr>\n",
       "      <th>681</th>\n",
       "      <td>139</td>\n",
       "      <td>77</td>\n",
       "      <td>[do, you, agree, with, the, community, rules, ...</td>\n",
       "      <td>[]</td>\n",
       "      <td>True</td>\n",
       "      <td>[do, you, agree, with, the, community, rules, ...</td>\n",
       "    </tr>\n",
       "    <tr>\n",
       "      <th>682</th>\n",
       "      <td>139</td>\n",
       "      <td>78</td>\n",
       "      <td>[incomplete, or, nonsensical, responses, will,...</td>\n",
       "      <td>[]</td>\n",
       "      <td>False</td>\n",
       "      <td>[incomplete, or, nonsensical, responses, will,...</td>\n",
       "    </tr>\n",
       "    <tr>\n",
       "      <th>683</th>\n",
       "      <td>139</td>\n",
       "      <td>79</td>\n",
       "      <td>[for, detailed, community, rules, please, see]</td>\n",
       "      <td>[]</td>\n",
       "      <td>False</td>\n",
       "      <td>[for, detailed, community, rules, please, see]</td>\n",
       "    </tr>\n",
       "    <tr>\n",
       "      <th>684</th>\n",
       "      <td>139</td>\n",
       "      <td>80</td>\n",
       "      <td>[https, wxw, moe, about]</td>\n",
       "      <td>[]</td>\n",
       "      <td>False</td>\n",
       "      <td>[https, wxw, moe, about]</td>\n",
       "    </tr>\n",
       "    <tr>\n",
       "      <th>685</th>\n",
       "      <td>139</td>\n",
       "      <td>82</td>\n",
       "      <td>[by, using, this, instance, you, agree, to, th...</td>\n",
       "      <td>[]</td>\n",
       "      <td>False</td>\n",
       "      <td>[by, using, this, instance, you, agree, to, th...</td>\n",
       "    </tr>\n",
       "  </tbody>\n",
       "</table>\n",
       "<p>686 rows × 6 columns</p>\n",
       "</div>"
      ],
      "text/plain": [
       "     server_id rule_id                                               text  \\\n",
       "0            0       1  [sexually, explicit, or, violent, media, must,...   \n",
       "1            0       2  [no, racism, sexism, homophobia, transphobia, ...   \n",
       "2            0       3  [no, incitement, of, violence, or, promotion, ...   \n",
       "3            0       4  [no, harassment, block, evasion, dogpiling, or...   \n",
       "4            0       7  [do, not, share, information, widely, known, t...   \n",
       "..         ...     ...                                                ...   \n",
       "681        139      77  [do, you, agree, with, the, community, rules, ...   \n",
       "682        139      78  [incomplete, or, nonsensical, responses, will,...   \n",
       "683        139      79     [for, detailed, community, rules, please, see]   \n",
       "684        139      80                           [https, wxw, moe, about]   \n",
       "685        139      82  [by, using, this, instance, you, agree, to, th...   \n",
       "\n",
       "                                                  hint  is_english_pred  \\\n",
       "0    [this, includes, content, that, is, particular...             True   \n",
       "1    [transphobic, behavior, such, as, intentional,...             True   \n",
       "2    [calling, for, people, or, groups, to, be, ass...             True   \n",
       "3    [repeat, attempts, to, communicate, with, user...             True   \n",
       "4    [false, and, misleading, information, and, lin...             True   \n",
       "..                                                 ...              ...   \n",
       "681                                                 []             True   \n",
       "682                                                 []            False   \n",
       "683                                                 []            False   \n",
       "684                                                 []            False   \n",
       "685                                                 []            False   \n",
       "\n",
       "                                                 rules  \n",
       "0    [sexually, explicit, or, violent, media, must,...  \n",
       "1    [no, racism, sexism, homophobia, transphobia, ...  \n",
       "2    [no, incitement, of, violence, or, promotion, ...  \n",
       "3    [no, harassment, block, evasion, dogpiling, or...  \n",
       "4    [do, not, share, information, widely, known, t...  \n",
       "..                                                 ...  \n",
       "681  [do, you, agree, with, the, community, rules, ...  \n",
       "682  [incomplete, or, nonsensical, responses, will,...  \n",
       "683     [for, detailed, community, rules, please, see]  \n",
       "684                           [https, wxw, moe, about]  \n",
       "685  [by, using, this, instance, you, agree, to, th...  \n",
       "\n",
       "[686 rows x 6 columns]"
      ]
     },
     "execution_count": 99,
     "metadata": {},
     "output_type": "execute_result"
    }
   ],
   "source": [
    "mastodon_std_df = mastodon.standardize_rules()\n",
    "mastodon_std_df"
   ]
  },
  {
   "cell_type": "code",
   "execution_count": 100,
   "id": "3af2e831",
   "metadata": {},
   "outputs": [],
   "source": [
    "# Compute strictness metrics TODO: define metrics and compute them\n",
    "# mastodon_std_df[\"strict_rule\"] = mastodon_std_df[\"text\"].apply(utils.contains_strict_words)\n",
    "# mastodon_std_df\n",
    "\n",
    "# TODO: use self.compute_strictness"
   ]
  },
  {
   "cell_type": "code",
   "execution_count": 101,
   "id": "5ae202a6",
   "metadata": {},
   "outputs": [
    {
     "name": "stderr",
     "output_type": "stream",
     "text": [
      "[nltk_data] Downloading package stopwords to\n",
      "[nltk_data]     /Users/eglantinevialaneix/nltk_data...\n",
      "[nltk_data]   Package stopwords is already up-to-date!\n"
     ]
    },
    {
     "data": {
      "application/vnd.microsoft.datawrangler.viewer.v0+json": {
       "columns": [
        {
         "name": "index",
         "rawType": "int64",
         "type": "integer"
        },
        {
         "name": "server_id",
         "rawType": "int64",
         "type": "integer"
        },
        {
         "name": "rule_id",
         "rawType": "object",
         "type": "string"
        },
        {
         "name": "text",
         "rawType": "object",
         "type": "unknown"
        },
        {
         "name": "hint",
         "rawType": "object",
         "type": "unknown"
        },
        {
         "name": "is_english_pred",
         "rawType": "bool",
         "type": "boolean"
        },
        {
         "name": "rules",
         "rawType": "object",
         "type": "unknown"
        }
       ],
       "ref": "cbf61ac8-24bf-43a6-b878-9c43363310a6",
       "rows": [
        [
         "0",
         "0",
         "1",
         "['sexually', 'explicit', 'violent', 'media', 'must', 'marked', 'sensitive', 'content', 'warning']",
         "['includes', 'content', 'particularly', 'provocative', 'even', 'may', 'show', 'specific', 'body', 'parts', 'well', 'dead', 'bodies', 'bloody', 'injuries', 'gore', 'particularly', 'obscene', 'content', 'may', 'prohibited', 'entirely', 'profile', 'pictures', 'header', 'images', 'may', 'contain', 'sexually', 'explicit', 'violent', 'media']",
         "True",
         "['sexually', 'explicit', 'violent', 'media', 'must', 'marked', 'sensitive', 'content', 'warning', 'includes', 'content', 'particularly', 'provocative', 'even', 'may', 'show', 'specific', 'body', 'parts', 'well', 'dead', 'bodies', 'bloody', 'injuries', 'gore', 'particularly', 'obscene', 'content', 'may', 'prohibited', 'entirely', 'profile', 'pictures', 'header', 'images', 'may', 'contain', 'sexually', 'explicit', 'violent', 'media']"
        ],
        [
         "1",
         "0",
         "2",
         "['racism', 'sexism', 'homophobia', 'transphobia', 'ableism', 'xenophobia', 'casteism']",
         "['transphobic', 'behavior', 'intentional', 'misgendering', 'deadnaming', 'strictly', 'prohibited', 'promotion', 'conversion', 'therapy', 'strictly', 'prohibited', 'criticism', 'governments', 'religions', 'permissible', 'unless', 'used', 'proxy', 'discrimination']",
         "True",
         "['racism', 'sexism', 'homophobia', 'transphobia', 'ableism', 'xenophobia', 'casteism', 'transphobic', 'behavior', 'intentional', 'misgendering', 'deadnaming', 'strictly', 'prohibited', 'promotion', 'conversion', 'therapy', 'strictly', 'prohibited', 'criticism', 'governments', 'religions', 'permissible', 'unless', 'used', 'proxy', 'discrimination']"
        ],
        [
         "2",
         "0",
         "3",
         "['incitement', 'violence', 'promotion', 'violent', 'ideologies']",
         "['calling', 'people', 'groups', 'assassinated', 'murdered', 'attacked', 'physically', 'strictly', 'prohibited', 'support', 'violent', 'groups', 'events', 'prohibited']",
         "True",
         "['incitement', 'violence', 'promotion', 'violent', 'ideologies', 'calling', 'people', 'groups', 'assassinated', 'murdered', 'attacked', 'physically', 'strictly', 'prohibited', 'support', 'violent', 'groups', 'events', 'prohibited']"
        ],
        [
         "3",
         "0",
         "4",
         "['harassment', 'block', 'evasion', 'dogpiling', 'doxxing', 'others']",
         "['repeat', 'attempts', 'communicate', 'users', 'blocked', 'creation', 'accounts', 'solely', 'harass', 'insult', 'individuals', 'strictly', 'prohibited', 'coordinated', 'activity', 'attack', 'users', 'prohibited', 'posting', 'private', 'personal', 'information', 'others', 'prohibited']",
         "True",
         "['harassment', 'block', 'evasion', 'dogpiling', 'doxxing', 'others', 'repeat', 'attempts', 'communicate', 'users', 'blocked', 'creation', 'accounts', 'solely', 'harass', 'insult', 'individuals', 'strictly', 'prohibited', 'coordinated', 'activity', 'attack', 'users', 'prohibited', 'posting', 'private', 'personal', 'information', 'others', 'prohibited']"
        ],
        [
         "4",
         "0",
         "7",
         "['share', 'information', 'widely', 'known', 'false', 'misleading']",
         "['false', 'misleading', 'information', 'links', 'low', 'quality', 'sources', 'may', 'posted', 'especially', 'likely', 'mislead', 'confuse', 'others', 'endanger', 'safety']",
         "True",
         "['share', 'information', 'widely', 'known', 'false', 'misleading', 'false', 'misleading', 'information', 'links', 'low', 'quality', 'sources', 'may', 'posted', 'especially', 'likely', 'mislead', 'confuse', 'others', 'endanger', 'safety']"
        ],
        [
         "5",
         "0",
         "1008",
         "['content', 'created', 'others', 'must', 'attributed', 'use', 'generative', 'ai', 'must', 'disclosed']",
         "['content', 'created', 'others', 'must', 'clearly', 'provide', 'reference', 'author', 'creator', 'source', 'adult', 'content', 'include', 'performers', 'accounts', 'may', 'solely', 'post', 'ai', 'generated', 'content']",
         "True",
         "['content', 'created', 'others', 'must', 'attributed', 'use', 'generative', 'ai', 'must', 'disclosed', 'content', 'created', 'others', 'must', 'clearly', 'provide', 'reference', 'author', 'creator', 'source', 'adult', 'content', 'include', 'performers', 'accounts', 'may', 'solely', 'post', 'ai', 'generated', 'content']"
        ],
        [
         "6",
         "1",
         "2",
         "['sexually', 'explicit', 'violent', 'media', 'must', 'marked', 'sensitive', 'posting']",
         "[]",
         "True",
         "['sexually', 'explicit', 'violent', 'media', 'must', 'marked', 'sensitive', 'posting']"
        ],
        [
         "7",
         "1",
         "3",
         "['spam', 'advertising']",
         "[]",
         "True",
         "['spam', 'advertising']"
        ],
        [
         "8",
         "1",
         "4",
         "['racism', 'sexism', 'homophobia', 'transphobia', 'xenophobia', 'casteism']",
         "[]",
         "True",
         "['racism', 'sexism', 'homophobia', 'transphobia', 'xenophobia', 'casteism']"
        ],
        [
         "9",
         "1",
         "5",
         "['incitement', 'violence', 'promotion', 'violent', 'ideologies']",
         "[]",
         "True",
         "['incitement', 'violence', 'promotion', 'violent', 'ideologies']"
        ],
        [
         "10",
         "1",
         "6",
         "['harassment', 'dogpiling', 'doxxing', 'users']",
         "[]",
         "True",
         "['harassment', 'dogpiling', 'doxxing', 'users']"
        ],
        [
         "11",
         "1",
         "7",
         "['illegal', 'content']",
         "[]",
         "True",
         "['illegal', 'content']"
        ],
        [
         "12",
         "1",
         "11",
         "['spreading', 'fake', 'news', 'misinformation']",
         "[]",
         "True",
         "['spreading', 'fake', 'news', 'misinformation']"
        ],
        [
         "13",
         "1",
         "12",
         "['content', 'created', 'others', 'must', 'attributed', 'use', 'ai', 'must', 'disclosed', 'profiles', 'post', 'ai', 'generated', 'content', 'tolerated']",
         "[]",
         "True",
         "['content', 'created', 'others', 'must', 'attributed', 'use', 'ai', 'must', 'disclosed', 'profiles', 'post', 'ai', 'generated', 'content', 'tolerated']"
        ],
        [
         "14",
         "2",
         "1",
         "['unto', 'others', 'think', 'would', 'want', 'done']",
         "[]",
         "True",
         "['unto', 'others', 'think', 'would', 'want', 'done']"
        ],
        [
         "15",
         "2",
         "2",
         "['mark', 'sensitive', 'content', 'content', 'warning']",
         "[]",
         "True",
         "['mark', 'sensitive', 'content', 'content', 'warning']"
        ],
        [
         "16",
         "2",
         "3",
         "['gratuitous', 'obscenity', 'serves', 'practical', 'benefit', 'discussion', 'permitted']",
         "[]",
         "True",
         "['gratuitous', 'obscenity', 'serves', 'practical', 'benefit', 'discussion', 'permitted']"
        ],
        [
         "17",
         "2",
         "4",
         "['illegal', 'content', 'child', 'pornography', 'unsurprisingly', 'permitted']",
         "[]",
         "True",
         "['illegal', 'content', 'child', 'pornography', 'unsurprisingly', 'permitted']"
        ],
        [
         "18",
         "2",
         "5",
         "['spam', 'permitted', 'includes', 'creating', 'spam', 'accounts', 'serve', 'provide', 'profile', 'links', 'advertise', 'products', 'services']",
         "[]",
         "True",
         "['spam', 'permitted', 'includes', 'creating', 'spam', 'accounts', 'serve', 'provide', 'profile', 'links', 'advertise', 'products', 'services']"
        ],
        [
         "19",
         "2",
         "6",
         "['hate', 'speech', 'abusive', 'threatening', 'behavior', 'permitted', 'specifically', 'directed', 'gender', 'nationality', 'religion', 'race', 'age', 'pizza', 'topping', 'preference', 'sexual', 'identity', 'one', 'hate', 'systemd', 'day', 'long']",
         "[]",
         "True",
         "['hate', 'speech', 'abusive', 'threatening', 'behavior', 'permitted', 'specifically', 'directed', 'gender', 'nationality', 'religion', 'race', 'age', 'pizza', 'topping', 'preference', 'sexual', 'identity', 'one', 'hate', 'systemd', 'day', 'long']"
        ],
        [
         "20",
         "2",
         "7",
         "['lack', 'specific', 'rule', 'certain', 'behavior', 'indicate', 'acceptance', 'behavior', 'us', 'limited', 'amount', 'time', 'world', 'jerk']",
         "[]",
         "True",
         "['lack', 'specific', 'rule', 'certain', 'behavior', 'indicate', 'acceptance', 'behavior', 'us', 'limited', 'amount', 'time', 'world', 'jerk']"
        ],
        [
         "21",
         "2",
         "8",
         "['violating', 'one', 'rules', 'may', 'result', 'immediate', 'permanent', 'ban', 'without', 'notice', 'warning']",
         "[]",
         "True",
         "['violating', 'one', 'rules', 'may', 'result', 'immediate', 'permanent', 'ban', 'without', 'notice', 'warning']"
        ],
        [
         "22",
         "2",
         "9",
         "['may', 'impersonate', 'person', 'brand', 'without', 'clear', 'indication', 'account', 'unofficial', 'parody', 'parody', 'accounts', 'permitted', 'legitimate', 'brand', 'accounts']",
         "[]",
         "True",
         "['may', 'impersonate', 'person', 'brand', 'without', 'clear', 'indication', 'account', 'unofficial', 'parody', 'parody', 'accounts', 'permitted', 'legitimate', 'brand', 'accounts']"
        ],
        [
         "23",
         "2",
         "11",
         "['attacks', 'instance', 'may', 'anything', 'may', 'impact', 'confidentiality', 'integrity', 'availability', 'infosec', 'exchange', 'users', 'service', 'data', 'details', 'see', 'https', 'wiki', 'infosec', 'exchange', 'rules', 'start']",
         "[]",
         "True",
         "['attacks', 'instance', 'may', 'anything', 'may', 'impact', 'confidentiality', 'integrity', 'availability', 'infosec', 'exchange', 'users', 'service', 'data', 'details', 'see', 'https', 'wiki', 'infosec', 'exchange', 'rules', 'start']"
        ],
        [
         "24",
         "2",
         "12",
         "['doxing', 'aka', 'doxxing', 'disclosing', 'personal', 'information', 'without', 'consent', 'means', 'harassing', 'causing', 'others', 'harass', 'another', 'person']",
         "[]",
         "True",
         "['doxing', 'aka', 'doxxing', 'disclosing', 'personal', 'information', 'without', 'consent', 'means', 'harassing', 'causing', 'others', 'harass', 'another', 'person']"
        ],
        [
         "25",
         "2",
         "13",
         "['harassment', 'form', 'continued', 'engagement', 'person', 'requested', 'contact', 'stop']",
         "[]",
         "True",
         "['harassment', 'form', 'continued', 'engagement', 'person', 'requested', 'contact', 'stop']"
        ],
        [
         "26",
         "2",
         "14",
         "['automated', 'posting', 'accounts', 'post', '50', 'using', 'automation', 'must', 'labeled', 'bot', 'user', 'profile', 'help', 'provide', 'visual', 'indicator', 'visitors', 'automated', 'posts', 'must', 'limited', 'one', 'post', 'per', 'hour', '24', 'per', 'day', 'post', 'visibility', 'set', 'public', 'limit', 'unlisted', 'posts']",
         "[]",
         "True",
         "['automated', 'posting', 'accounts', 'post', '50', 'using', 'automation', 'must', 'labeled', 'bot', 'user', 'profile', 'help', 'provide', 'visual', 'indicator', 'visitors', 'automated', 'posts', 'must', 'limited', 'one', 'post', 'per', 'hour', '24', 'per', 'day', 'post', 'visibility', 'set', 'public', 'limit', 'unlisted', 'posts']"
        ],
        [
         "27",
         "2",
         "15",
         "['soliciting', 'inciting', 'violence', 'harm', 'person', 'segment', 'people', 'permitted']",
         "[]",
         "True",
         "['soliciting', 'inciting', 'violence', 'harm', 'person', 'segment', 'people', 'permitted']"
        ],
        [
         "28",
         "3",
         "9",
         "['discrimination', 'including', 'limited', 'racism', 'sexism', 'homophobia', 'transphobia', 'including', 'targeted', 'misgendering', 'deadnaming', 'promotion', 'called', 'conversion', 'therapy']",
         "[]",
         "True",
         "['discrimination', 'including', 'limited', 'racism', 'sexism', 'homophobia', 'transphobia', 'including', 'targeted', 'misgendering', 'deadnaming', 'promotion', 'called', 'conversion', 'therapy']"
        ],
        [
         "29",
         "3",
         "10",
         "['explicit', 'nsfw', 'content', 'without', 'content', 'warnings', 'sensitive', 'media', 'markers', 'explicit', 'content', 'must', 'used', 'user', 'avatars', 'header', 'images']",
         "[]",
         "True",
         "['explicit', 'nsfw', 'content', 'without', 'content', 'warnings', 'sensitive', 'media', 'markers', 'explicit', 'content', 'must', 'used', 'user', 'avatars', 'header', 'images']"
        ],
        [
         "30",
         "3",
         "17",
         "['harassment', 'users', 'servers']",
         "[]",
         "True",
         "['harassment', 'users', 'servers']"
        ],
        [
         "31",
         "3",
         "18",
         "['content', 'illegal', 'following', 'countries', 'united', 'kingdom', 'germany']",
         "[]",
         "True",
         "['content', 'illegal', 'following', 'countries', 'united', 'kingdom', 'germany']"
        ],
        [
         "32",
         "3",
         "19",
         "['incitement', 'violence', 'promotion', 'violent', 'ideologies']",
         "[]",
         "True",
         "['incitement', 'violence', 'promotion', 'violent', 'ideologies']"
        ],
        [
         "33",
         "3",
         "20",
         "['disinformation', 'regarding', 'public', 'health', 'issues', 'political', 'military', 'campaigns']",
         "[]",
         "True",
         "['disinformation', 'regarding', 'public', 'health', 'issues', 'political', 'military', 'campaigns']"
        ],
        [
         "34",
         "3",
         "21",
         "['spam', 'includes', 'commercial', 'advertising', 'promotion', 'services', 'seo']",
         "[]",
         "True",
         "['spam', 'includes', 'commercial', 'advertising', 'promotion', 'services', 'seo']"
        ],
        [
         "35",
         "3",
         "22",
         "['impersonation', 'individuals', 'public', 'figures', 'organisations', 'unless', 'clearly', 'marked', 'parody']",
         "[]",
         "True",
         "['impersonation', 'individuals', 'public', 'figures', 'organisations', 'unless', 'clearly', 'marked', 'parody']"
        ],
        [
         "36",
         "3",
         "23",
         "['automated', 'bot', 'accounts', 'must', 'enable', 'bot', 'flag', 'account', 'preferences', 'respect', 'nobot', 'markers', 'post', 'unlisted', 'unless', 'making', 'less', 'one', 'post', 'per', 'hour']",
         "[]",
         "True",
         "['automated', 'bot', 'accounts', 'must', 'enable', 'bot', 'flag', 'account', 'preferences', 'respect', 'nobot', 'markers', 'post', 'unlisted', 'unless', 'making', 'less', 'one', 'post', 'per', 'hour']"
        ],
        [
         "37",
         "5",
         "1",
         "['dick']",
         "[]",
         "True",
         "['dick']"
        ],
        [
         "38",
         "5",
         "2",
         "['hacking']",
         "[]",
         "True",
         "['hacking']"
        ],
        [
         "39",
         "5",
         "3",
         "['violence']",
         "[]",
         "True",
         "['violence']"
        ],
        [
         "40",
         "5",
         "4",
         "['fascism']",
         "[]",
         "False",
         "['fascism']"
        ],
        [
         "41",
         "5",
         "5",
         "['colonialism']",
         "[]",
         "True",
         "['colonialism']"
        ],
        [
         "42",
         "5",
         "6",
         "['white', 'supremacy']",
         "[]",
         "True",
         "['white', 'supremacy']"
        ],
        [
         "43",
         "5",
         "7",
         "['religious', 'extremism']",
         "[]",
         "True",
         "['religious', 'extremism']"
        ],
        [
         "44",
         "5",
         "9",
         "['nationalism']",
         "[]",
         "True",
         "['nationalism']"
        ],
        [
         "45",
         "5",
         "11",
         "['racism']",
         "[]",
         "True",
         "['racism']"
        ],
        [
         "46",
         "5",
         "12",
         "['homophobia']",
         "[]",
         "False",
         "['homophobia']"
        ],
        [
         "47",
         "5",
         "13",
         "['transphobia']",
         "[]",
         "False",
         "['transphobia']"
        ],
        [
         "48",
         "5",
         "14",
         "['safe', 'space', 'lgtbqia']",
         "[]",
         "False",
         "['safe', 'space', 'lgtbqia']"
        ],
        [
         "49",
         "5",
         "15",
         "['safe', 'space', 'neurodivergent', 'adhd', 'autism', 'etc']",
         "[]",
         "True",
         "['safe', 'space', 'neurodivergent', 'adhd', 'autism', 'etc']"
        ]
       ],
       "shape": {
        "columns": 6,
        "rows": 686
       }
      },
      "text/html": [
       "<div>\n",
       "<style scoped>\n",
       "    .dataframe tbody tr th:only-of-type {\n",
       "        vertical-align: middle;\n",
       "    }\n",
       "\n",
       "    .dataframe tbody tr th {\n",
       "        vertical-align: top;\n",
       "    }\n",
       "\n",
       "    .dataframe thead th {\n",
       "        text-align: right;\n",
       "    }\n",
       "</style>\n",
       "<table border=\"1\" class=\"dataframe\">\n",
       "  <thead>\n",
       "    <tr style=\"text-align: right;\">\n",
       "      <th></th>\n",
       "      <th>server_id</th>\n",
       "      <th>rule_id</th>\n",
       "      <th>text</th>\n",
       "      <th>hint</th>\n",
       "      <th>is_english_pred</th>\n",
       "      <th>rules</th>\n",
       "    </tr>\n",
       "  </thead>\n",
       "  <tbody>\n",
       "    <tr>\n",
       "      <th>0</th>\n",
       "      <td>0</td>\n",
       "      <td>1</td>\n",
       "      <td>[sexually, explicit, violent, media, must, mar...</td>\n",
       "      <td>[includes, content, particularly, provocative,...</td>\n",
       "      <td>True</td>\n",
       "      <td>[sexually, explicit, violent, media, must, mar...</td>\n",
       "    </tr>\n",
       "    <tr>\n",
       "      <th>1</th>\n",
       "      <td>0</td>\n",
       "      <td>2</td>\n",
       "      <td>[racism, sexism, homophobia, transphobia, able...</td>\n",
       "      <td>[transphobic, behavior, intentional, misgender...</td>\n",
       "      <td>True</td>\n",
       "      <td>[racism, sexism, homophobia, transphobia, able...</td>\n",
       "    </tr>\n",
       "    <tr>\n",
       "      <th>2</th>\n",
       "      <td>0</td>\n",
       "      <td>3</td>\n",
       "      <td>[incitement, violence, promotion, violent, ide...</td>\n",
       "      <td>[calling, people, groups, assassinated, murder...</td>\n",
       "      <td>True</td>\n",
       "      <td>[incitement, violence, promotion, violent, ide...</td>\n",
       "    </tr>\n",
       "    <tr>\n",
       "      <th>3</th>\n",
       "      <td>0</td>\n",
       "      <td>4</td>\n",
       "      <td>[harassment, block, evasion, dogpiling, doxxin...</td>\n",
       "      <td>[repeat, attempts, communicate, users, blocked...</td>\n",
       "      <td>True</td>\n",
       "      <td>[harassment, block, evasion, dogpiling, doxxin...</td>\n",
       "    </tr>\n",
       "    <tr>\n",
       "      <th>4</th>\n",
       "      <td>0</td>\n",
       "      <td>7</td>\n",
       "      <td>[share, information, widely, known, false, mis...</td>\n",
       "      <td>[false, misleading, information, links, low, q...</td>\n",
       "      <td>True</td>\n",
       "      <td>[share, information, widely, known, false, mis...</td>\n",
       "    </tr>\n",
       "    <tr>\n",
       "      <th>...</th>\n",
       "      <td>...</td>\n",
       "      <td>...</td>\n",
       "      <td>...</td>\n",
       "      <td>...</td>\n",
       "      <td>...</td>\n",
       "      <td>...</td>\n",
       "    </tr>\n",
       "    <tr>\n",
       "      <th>681</th>\n",
       "      <td>139</td>\n",
       "      <td>77</td>\n",
       "      <td>[agree, community, rules, instance]</td>\n",
       "      <td>[]</td>\n",
       "      <td>True</td>\n",
       "      <td>[agree, community, rules, instance]</td>\n",
       "    </tr>\n",
       "    <tr>\n",
       "      <th>682</th>\n",
       "      <td>139</td>\n",
       "      <td>78</td>\n",
       "      <td>[incomplete, nonsensical, responses, result, r...</td>\n",
       "      <td>[]</td>\n",
       "      <td>False</td>\n",
       "      <td>[incomplete, nonsensical, responses, result, r...</td>\n",
       "    </tr>\n",
       "    <tr>\n",
       "      <th>683</th>\n",
       "      <td>139</td>\n",
       "      <td>79</td>\n",
       "      <td>[detailed, community, rules, please, see]</td>\n",
       "      <td>[]</td>\n",
       "      <td>False</td>\n",
       "      <td>[detailed, community, rules, please, see]</td>\n",
       "    </tr>\n",
       "    <tr>\n",
       "      <th>684</th>\n",
       "      <td>139</td>\n",
       "      <td>80</td>\n",
       "      <td>[https, wxw, moe]</td>\n",
       "      <td>[]</td>\n",
       "      <td>False</td>\n",
       "      <td>[https, wxw, moe]</td>\n",
       "    </tr>\n",
       "    <tr>\n",
       "      <th>685</th>\n",
       "      <td>139</td>\n",
       "      <td>82</td>\n",
       "      <td>[using, instance, agree, rules, policies, plea...</td>\n",
       "      <td>[]</td>\n",
       "      <td>False</td>\n",
       "      <td>[using, instance, agree, rules, policies, plea...</td>\n",
       "    </tr>\n",
       "  </tbody>\n",
       "</table>\n",
       "<p>686 rows × 6 columns</p>\n",
       "</div>"
      ],
      "text/plain": [
       "     server_id rule_id                                               text  \\\n",
       "0            0       1  [sexually, explicit, violent, media, must, mar...   \n",
       "1            0       2  [racism, sexism, homophobia, transphobia, able...   \n",
       "2            0       3  [incitement, violence, promotion, violent, ide...   \n",
       "3            0       4  [harassment, block, evasion, dogpiling, doxxin...   \n",
       "4            0       7  [share, information, widely, known, false, mis...   \n",
       "..         ...     ...                                                ...   \n",
       "681        139      77                [agree, community, rules, instance]   \n",
       "682        139      78  [incomplete, nonsensical, responses, result, r...   \n",
       "683        139      79          [detailed, community, rules, please, see]   \n",
       "684        139      80                                  [https, wxw, moe]   \n",
       "685        139      82  [using, instance, agree, rules, policies, plea...   \n",
       "\n",
       "                                                  hint  is_english_pred  \\\n",
       "0    [includes, content, particularly, provocative,...             True   \n",
       "1    [transphobic, behavior, intentional, misgender...             True   \n",
       "2    [calling, people, groups, assassinated, murder...             True   \n",
       "3    [repeat, attempts, communicate, users, blocked...             True   \n",
       "4    [false, misleading, information, links, low, q...             True   \n",
       "..                                                 ...              ...   \n",
       "681                                                 []             True   \n",
       "682                                                 []            False   \n",
       "683                                                 []            False   \n",
       "684                                                 []            False   \n",
       "685                                                 []            False   \n",
       "\n",
       "                                                 rules  \n",
       "0    [sexually, explicit, violent, media, must, mar...  \n",
       "1    [racism, sexism, homophobia, transphobia, able...  \n",
       "2    [incitement, violence, promotion, violent, ide...  \n",
       "3    [harassment, block, evasion, dogpiling, doxxin...  \n",
       "4    [share, information, widely, known, false, mis...  \n",
       "..                                                 ...  \n",
       "681                [agree, community, rules, instance]  \n",
       "682  [incomplete, nonsensical, responses, result, r...  \n",
       "683          [detailed, community, rules, please, see]  \n",
       "684                                  [https, wxw, moe]  \n",
       "685  [using, instance, agree, rules, policies, plea...  \n",
       "\n",
       "[686 rows x 6 columns]"
      ]
     },
     "execution_count": 101,
     "metadata": {},
     "output_type": "execute_result"
    }
   ],
   "source": [
    "# Natural language processing\n",
    "import nltk\n",
    "from nltk.corpus import stopwords\n",
    "from sklearn.feature_extraction.text import TfidfVectorizer\n",
    "\n",
    "# Download stopwords if not already done\n",
    "nltk.download('stopwords')\n",
    "\n",
    "# Set of English stopwords\n",
    "stop_words = set(stopwords.words('english'))\n",
    "\n",
    "# Remove stop words from the tokenized lists\n",
    "mastodon_std_df[\"text\"] = mastodon_std_df[\"text\"].apply(lambda words: [word for word in words if word not in stop_words] if isinstance(words, list) else words)\n",
    "mastodon_std_df[\"hint\"] = mastodon_std_df[\"hint\"].apply(lambda words: [word for word in words if word not in stop_words] if isinstance(words, list) else words)\n",
    "mastodon_std_df[\"rules\"] = mastodon_std_df[\"rules\"].apply(lambda words: [word for word in words if word not in stop_words] if isinstance(words, list) else words)\n",
    "\n",
    "mastodon_std_df"
   ]
  },
  {
   "cell_type": "code",
   "execution_count": 102,
   "id": "663a236b",
   "metadata": {},
   "outputs": [
    {
     "data": {
      "application/vnd.microsoft.datawrangler.viewer.v0+json": {
       "columns": [
        {
         "name": "rules",
         "rawType": "object",
         "type": "string"
        },
        {
         "name": "count",
         "rawType": "int64",
         "type": "integer"
        }
       ],
       "ref": "56da1b99-49e9-436b-b7f7-4126a4a27a77",
       "rows": [
        [
         "content",
         "200"
        ],
        [
         "post",
         "87"
        ],
        [
         "must",
         "80"
        ],
        [
         "account",
         "80"
        ],
        [
         "promotion",
         "59"
        ],
        [
         "violent",
         "55"
        ],
        [
         "user",
         "55"
        ],
        [
         "violence",
         "50"
        ],
        [
         "harassment",
         "48"
        ],
        [
         "explicit",
         "46"
        ],
        [
         "spam",
         "46"
        ],
        [
         "racism",
         "45"
        ],
        [
         "warning",
         "44"
        ],
        [
         "illegal",
         "44"
        ],
        [
         "sensitive",
         "42"
        ],
        [
         "use",
         "42"
        ],
        [
         "nsfw",
         "42"
        ],
        [
         "transphobia",
         "41"
        ],
        [
         "sexism",
         "39"
        ],
        [
         "homophobia",
         "39"
        ],
        [
         "server",
         "38"
        ],
        [
         "others",
         "37"
        ],
        [
         "may",
         "37"
        ],
        [
         "instance",
         "36"
        ],
        [
         "please",
         "34"
        ],
        [
         "bot",
         "34"
        ],
        [
         "information",
         "33"
        ],
        [
         "medium",
         "33"
        ],
        [
         "ideology",
         "32"
        ],
        [
         "posting",
         "31"
        ],
        [
         "marked",
         "31"
        ],
        [
         "allowed",
         "30"
        ],
        [
         "incitement",
         "30"
        ],
        [
         "language",
         "29"
        ],
        [
         "including",
         "28"
        ],
        [
         "share",
         "27"
        ],
        [
         "rule",
         "27"
        ],
        [
         "without",
         "27"
        ],
        [
         "doxxing",
         "27"
        ],
        [
         "hate",
         "27"
        ],
        [
         "community",
         "26"
        ],
        [
         "xenophobia",
         "26"
        ],
        [
         "speech",
         "26"
        ],
        [
         "dogpiling",
         "25"
        ],
        [
         "advertising",
         "24"
        ],
        [
         "image",
         "24"
        ],
        [
         "law",
         "24"
        ],
        [
         "people",
         "24"
        ],
        [
         "discrimination",
         "23"
        ],
        [
         "sexual",
         "23"
        ]
       ],
       "shape": {
        "columns": 1,
        "rows": 1561
       }
      },
      "text/plain": [
       "rules\n",
       "content        200\n",
       "post            87\n",
       "must            80\n",
       "account         80\n",
       "promotion       59\n",
       "              ... \n",
       "home             1\n",
       "washington       1\n",
       "illustrated      1\n",
       "choose           1\n",
       "registering      1\n",
       "Name: count, Length: 1561, dtype: int64"
      ]
     },
     "execution_count": 102,
     "metadata": {},
     "output_type": "execute_result"
    }
   ],
   "source": [
    "#tokenize each text and each hint\n",
    "nlp_df = mastodon_std_df.copy()\n",
    "\n",
    "# Lemmatize tokens\n",
    "nlp_df[\"rules\"] = nlp_df[\"rules\"].apply(utils.lemmatize)\n",
    "\n",
    "vocab = nlp_df[\"rules\"].explode().unique()\n",
    "nlp_df[\"rules\"].explode().value_counts()"
   ]
  },
  {
   "cell_type": "code",
   "execution_count": 103,
   "id": "f760de55",
   "metadata": {},
   "outputs": [
    {
     "name": "stdout",
     "output_type": "stream",
     "text": [
      "TF-IDF matrix shape: (686, 1552)\n"
     ]
    }
   ],
   "source": [
    "# TF-IDF scores\n",
    "# Join the tokens back into strings\n",
    "nlp_df['rules_str'] = nlp_df['rules'].apply(lambda x: ' '.join(x))\n",
    "\n",
    "# Create and fit TF-IDF Vectorizer\n",
    "tfidf_vect = TfidfVectorizer()\n",
    "tfidf_matrix = tfidf_vect.fit_transform(nlp_df['rules_str'])\n",
    "\n",
    "# Get feature names (words)\n",
    "feature_names = tfidf_vect.get_feature_names_out()\n",
    "\n",
    "tfidf = pd.DataFrame(tfidf_matrix.toarray(), columns=feature_names)\n",
    "print(f\"TF-IDF matrix shape: {tfidf_matrix.shape}\")\n",
    "    "
   ]
  },
  {
   "cell_type": "code",
   "execution_count": 104,
   "id": "b244df01",
   "metadata": {},
   "outputs": [
    {
     "name": "stdout",
     "output_type": "stream",
     "text": [
      "Top 10 terms by average TF-IDF score:\n",
      "            term     score\n",
      "317      content  0.053128\n",
      "1499    violence  0.027877\n",
      "650   harassment  0.027863\n",
      "1500     violent  0.026972\n",
      "1092   promotion  0.025790\n",
      "700      illegal  0.023923\n",
      "1475        user  0.023074\n",
      "916         must  0.022689\n",
      "1294        spam  0.022434\n",
      "1126      racism  0.022163\n"
     ]
    }
   ],
   "source": [
    "# Display top terms with highest average TF-IDF scores\n",
    "mean_tfidf = tfidf_matrix.mean(axis=0).A1\n",
    "term_scores = pd.DataFrame({'term': feature_names, 'score': mean_tfidf})\n",
    "print(\"Top 10 terms by average TF-IDF score:\")\n",
    "print(term_scores.sort_values('score', ascending=False).head(10))"
   ]
  },
  {
   "cell_type": "code",
   "execution_count": 105,
   "id": "5e21c3e2",
   "metadata": {},
   "outputs": [
    {
     "name": "stdout",
     "output_type": "stream",
     "text": [
      "Top TF-IDF words for document 575:\n",
      "sweden     0.829030\n",
      "illegal    0.457128\n",
      "content    0.322092\n",
      "05         0.000000\n",
      "07         0.000000\n",
      "Name: 575, dtype: float64 \n",
      "\n",
      "Top TF-IDF words for document 234:\n",
      "excessive    0.717753\n",
      "spam         0.520481\n",
      "promotion    0.462526\n",
      "05           0.000000\n",
      "07           0.000000\n",
      "Name: 234, dtype: float64 \n",
      "\n",
      "Top TF-IDF words for document 519:\n",
      "material    0.671549\n",
      "nsfw        0.532986\n",
      "explicit    0.514731\n",
      "05          0.000000\n",
      "07          0.000000\n",
      "Name: 519, dtype: float64 \n",
      "\n",
      "Top TF-IDF words for document 292:\n",
      "another       0.604488\n",
      "one           0.592550\n",
      "respectful    0.532428\n",
      "05            0.000000\n",
      "07            0.000000\n",
      "Name: 292, dtype: float64 \n",
      "\n",
      "Top TF-IDF words for document 177:\n",
      "called          0.405052\n",
      "conversion      0.397670\n",
      "deadnaming      0.397670\n",
      "misgendering    0.397670\n",
      "therapy         0.397670\n",
      "Name: 177, dtype: float64 \n",
      "\n"
     ]
    }
   ],
   "source": [
    "# Display the top TF-IDF words for a few sample documents\n",
    "sample_indices = np.random.choice(tfidf.index, size=5, replace=False)\n",
    "for idx in sample_indices:\n",
    "    print(f\"Top TF-IDF words for document {idx}:\")\n",
    "    doc_tfidf = tfidf.iloc[idx]\n",
    "    top_words = doc_tfidf.nlargest(5)\n",
    "    print(top_words, '\\n')"
   ]
  },
  {
   "cell_type": "code",
   "execution_count": 115,
   "id": "8071b36c",
   "metadata": {},
   "outputs": [
    {
     "data": {
      "application/vnd.microsoft.datawrangler.viewer.v0+json": {
       "columns": [
        {
         "name": "index",
         "rawType": "int64",
         "type": "integer"
        },
        {
         "name": "rules_str",
         "rawType": "object",
         "type": "string"
        }
       ],
       "ref": "9d5bb98e-f485-4a5b-8a02-f4c36a59f038",
       "rows": [
        [
         "0",
         "sexually explicit violent medium must marked sensitive content warning includes content particularly provocative even may show specific body part well dead body bloody injury gore particularly obscene content may prohibited entirely profile picture header image may contain sexually explicit violent medium"
        ],
        [
         "1",
         "racism sexism homophobia transphobia ableism xenophobia casteism transphobic behavior intentional misgendering deadnaming strictly prohibited promotion conversion therapy strictly prohibited criticism government religion permissible unless used proxy discrimination"
        ],
        [
         "2",
         "incitement violence promotion violent ideology calling people group assassinated murdered attacked physically strictly prohibited support violent group event prohibited"
        ],
        [
         "3",
         "harassment block evasion dogpiling doxxing others repeat attempt communicate user blocked creation account solely harass insult individual strictly prohibited coordinated activity attack user prohibited posting private personal information others prohibited"
        ],
        [
         "4",
         "share information widely known false misleading false misleading information link low quality source may posted especially likely mislead confuse others endanger safety"
        ],
        [
         "5",
         "content created others must attributed use generative ai must disclosed content created others must clearly provide reference author creator source adult content include performer account may solely post ai generated content"
        ],
        [
         "6",
         "sexually explicit violent medium must marked sensitive posting"
        ],
        [
         "7",
         "spam advertising"
        ],
        [
         "8",
         "racism sexism homophobia transphobia xenophobia casteism"
        ],
        [
         "9",
         "incitement violence promotion violent ideology"
        ],
        [
         "10",
         "harassment dogpiling doxxing user"
        ],
        [
         "11",
         "illegal content"
        ],
        [
         "12",
         "spreading fake news misinformation"
        ],
        [
         "13",
         "content created others must attributed use ai must disclosed profile post ai generated content tolerated"
        ],
        [
         "14",
         "unto others think would want done"
        ],
        [
         "15",
         "mark sensitive content content warning"
        ],
        [
         "16",
         "gratuitous obscenity serf practical benefit discussion permitted"
        ],
        [
         "17",
         "illegal content child pornography unsurprisingly permitted"
        ],
        [
         "18",
         "spam permitted includes creating spam account serve provide profile link advertise product service"
        ],
        [
         "19",
         "hate speech abusive threatening behavior permitted specifically directed gender nationality religion race age pizza topping preference sexual identity one hate systemd day long"
        ],
        [
         "20",
         "lack specific rule certain behavior indicate acceptance behavior u limited amount time world jerk"
        ],
        [
         "21",
         "violating one rule may result immediate permanent ban without notice warning"
        ],
        [
         "22",
         "may impersonate person brand without clear indication account unofficial parody parody account permitted legitimate brand account"
        ],
        [
         "23",
         "attack instance may anything may impact confidentiality integrity availability infosec exchange user service data detail see http wiki infosec exchange rule start"
        ],
        [
         "24",
         "doxing aka doxxing disclosing personal information without consent mean harassing causing others harass another person"
        ],
        [
         "25",
         "harassment form continued engagement person requested contact stop"
        ],
        [
         "26",
         "automated posting account post 50 using automation must labeled bot user profile help provide visual indicator visitor automated post must limited one post per hour 24 per day post visibility set public limit unlisted post"
        ],
        [
         "27",
         "soliciting inciting violence harm person segment people permitted"
        ],
        [
         "28",
         "discrimination including limited racism sexism homophobia transphobia including targeted misgendering deadnaming promotion called conversion therapy"
        ],
        [
         "29",
         "explicit nsfw content without content warning sensitive medium marker explicit content must used user avatar header image"
        ],
        [
         "30",
         "harassment user server"
        ],
        [
         "31",
         "content illegal following country united kingdom germany"
        ],
        [
         "32",
         "incitement violence promotion violent ideology"
        ],
        [
         "33",
         "disinformation regarding public health issue political military campaign"
        ],
        [
         "34",
         "spam includes commercial advertising promotion service seo"
        ],
        [
         "35",
         "impersonation individual public figure organisation unless clearly marked parody"
        ],
        [
         "36",
         "automated bot account must enable bot flag account preference respect nobot marker post unlisted unless making less one post per hour"
        ],
        [
         "37",
         "dick"
        ],
        [
         "38",
         "hacking"
        ],
        [
         "39",
         "violence"
        ],
        [
         "40",
         "fascism"
        ],
        [
         "41",
         "colonialism"
        ],
        [
         "42",
         "white supremacy"
        ],
        [
         "43",
         "religious extremism"
        ],
        [
         "44",
         "nationalism"
        ],
        [
         "45",
         "racism"
        ],
        [
         "46",
         "homophobia"
        ],
        [
         "47",
         "transphobia"
        ],
        [
         "48",
         "safe space lgtbqia"
        ],
        [
         "49",
         "safe space neurodivergent adhd autism etc"
        ]
       ],
       "shape": {
        "columns": 1,
        "rows": 686
       }
      },
      "text/plain": [
       "0      sexually explicit violent medium must marked s...\n",
       "1      racism sexism homophobia transphobia ableism x...\n",
       "2      incitement violence promotion violent ideology...\n",
       "3      harassment block evasion dogpiling doxxing oth...\n",
       "4      share information widely known false misleadin...\n",
       "                             ...                        \n",
       "681                        agree community rule instance\n",
       "682     incomplete nonsensical response result rejection\n",
       "683                   detailed community rule please see\n",
       "684                                         http wxw moe\n",
       "685    using instance agree rule policy please sure r...\n",
       "Name: rules_str, Length: 686, dtype: object"
      ]
     },
     "execution_count": 115,
     "metadata": {},
     "output_type": "execute_result"
    }
   ],
   "source": [
    "nlp_df[\"rules_str\"]"
   ]
  },
  {
   "cell_type": "code",
   "execution_count": 106,
   "id": "3a781ab5",
   "metadata": {},
   "outputs": [],
   "source": [
    "# Topic modeling - runs for 20 sec\n",
    "from bertopic import BERTopic\n",
    "\n",
    "topic_model = BERTopic()\n",
    "topics, probs = topic_model.fit_transform(nlp_df['rules_str'])"
   ]
  },
  {
   "cell_type": "code",
   "execution_count": 107,
   "id": "e3ba9399",
   "metadata": {},
   "outputs": [
    {
     "data": {
      "application/vnd.microsoft.datawrangler.viewer.v0+json": {
       "columns": [
        {
         "name": "index",
         "rawType": "int64",
         "type": "integer"
        },
        {
         "name": "Topic",
         "rawType": "int64",
         "type": "integer"
        },
        {
         "name": "Count",
         "rawType": "int64",
         "type": "integer"
        },
        {
         "name": "Name",
         "rawType": "object",
         "type": "string"
        },
        {
         "name": "Representation",
         "rawType": "object",
         "type": "unknown"
        },
        {
         "name": "Representative_Docs",
         "rawType": "object",
         "type": "unknown"
        }
       ],
       "ref": "691e9fc3-1207-4fc6-b839-8d35d4a23d30",
       "rows": [
        [
         "0",
         "-1",
         "108",
         "-1_ai_account_server_must",
         "['ai', 'account', 'server', 'must', 'nfts', 'art', 'generated', 'reason', 'law', 'author']",
         "['content created others must attributed use ai must disclosed profile post ai generated content suspended', 'content created others must attributed use ai must disclosed profile post ai generated content tolerated', 'content created others must attributed use ai must disclosed profile post ai generated content tolerated']"
        ],
        [
         "1",
         "0",
         "106",
         "0_content_warning_sensitive_nsfw",
         "['content', 'warning', 'sensitive', 'nsfw', 'explicit', 'medium', 'must', 'marked', 'sexually', 'cw']",
         "['explicit nsfw content without content warning sensitive medium marker explicit content must used user avatar header image', 'explicit nsfw content without content warning sensitive medium marker explicit content must used user avatar header image', 'explicit nsfw content must marked sensitive content warning explicit content must used user avatar header image']"
        ],
        [
         "2",
         "1",
         "78",
         "1_speech_hate_respect_respectful",
         "['speech', 'hate', 'respect', 'respectful', 'others', 'hateful', 'sexist', 'even', 'keep', 'people']",
         "['racism hate speech', 'hate speech', 'treat others respect avoid form insult bullying discrimination including limited racist sexist homophobic transphobic anti semitic misogynistic statement action others']"
        ],
        [
         "3",
         "2",
         "42",
         "2_spam_advertising_excessive_commercial",
         "['spam', 'advertising', 'excessive', 'commercial', 'promotion', 'self', 'advertisement', 'business', 'seo', 'ad']",
         "['spam advertising', 'spam advertising', 'advertising spam excessive promotion']"
        ],
        [
         "4",
         "3",
         "41",
         "3_false_misleading_information_intentionally",
         "['false', 'misleading', 'information', 'intentionally', 'misinformation', 'share', 'disinformation', 'health', 'conspiracy', 'military']",
         "['share intentionally false misleading information', 'share intentionally false misleading information', 'share intentionally false misleading information']"
        ],
        [
         "5",
         "4",
         "37",
         "4_violence_incitement_ideology_promotion",
         "['violence', 'incitement', 'ideology', 'promotion', 'violent', 'harm', 'extremism', 'self', 'exploitation', 'inciting']",
         "['incitement violence promotion violent ideology', 'incitement violence promotion violent ideology', 'incitement violence promotion violent ideology']"
        ],
        [
         "6",
         "5",
         "29",
         "5_doxxing_dogpiling_harassment_user",
         "['doxxing', 'dogpiling', 'harassment', 'user', 'identifying', 'reporting', 'personally', 'harrassment', 'information', 'doxing']",
         "['harassment dogpiling doxxing user', 'harassment dogpiling doxxing user', 'harassment dogpiling doxxing user']"
        ],
        [
         "7",
         "6",
         "28",
         "6_rule_moderator_report_admins",
         "['rule', 'moderator', 'report', 'admins', 'server', 'admin', 'instance', 'result', 'user', 'team']",
         "['hoosier social admins unilateral authority judgment user violate rule user immediately suspended without appeal admins de federate server whose user act group harass attack server user', 'mastodon server break rule banned federating nfld possible follow user server around world federated timeline also stream post server break rule limited blocked communicating u', 'please report issue admins moderator let u take care please act admin moderator instead report adverse activity team handle properly well make report admins']"
        ],
        [
         "8",
         "7",
         "26",
         "7_illegal_content_canada_law",
         "['illegal', 'content', 'canada', 'law', 'copyrighted', 'state', 'applicable', 'violates', 'unlawful', 'post']",
         "['illegal content', 'illegal content', 'illegal content']"
        ],
        [
         "9",
         "8",
         "19",
         "8_illegal_united_kingdom_germany",
         "['illegal', 'united', 'kingdom', 'germany', 'eu', 'content', 'country', 'following', 'anything', 'considered']",
         "['content illegal following country united kingdom germany', 'content illegal following country united kingdom germany', 'content illegal following country united kingdom germany']"
        ],
        [
         "10",
         "9",
         "19",
         "9_national_nazi_nationalist_nationalism",
         "['national', 'nazi', 'nationalist', 'nationalism', 'fascism', 'socialism', 'extremist', 'symbolism', 'wing', 'colonialism']",
         "['holocaust denialism nazi symbolism promotion national socialism', 'free speech extremist far right extremist nationalist includes people elect support political party like afd germany fratelli italia italy rassemblement national france etc support party instance', 'tolerate violent nationalist propaganda nazi symbolism promoting ideology national socialism']"
        ],
        [
         "11",
         "10",
         "18",
         "10_impersonation_parody_clearly_account",
         "['impersonation', 'parody', 'clearly', 'account', 'impersonate', 'unless', 'brand', 'individual', 'organisation', 'entity']",
         "['impersonation individual public figure organisation unless clearly marked parody', 'impersonation individual public figure organisation unless clearly marked parody', 'impersonation individual public figure organisation unless clearly marked parody']"
        ],
        [
         "12",
         "11",
         "18",
         "11_bot_unlisted_post_automated",
         "['bot', 'unlisted', 'post', 'automated', 'account', 'hour', 'per', 'one', 'enable', 'nobot']",
         "['automated bot account allowed run someone personal account bot account must enable bot flag account preference respect nobot marker post unlisted making one post every six hour average mod may remove bot account become disruptive', 'automated bot account must enable bot flag account preference respect nobot marker post unlisted unless making less one post per hour', 'automated bot account must enable bot flag account preference respect nobot marker post unlisted unless making less one post per hour']"
        ],
        [
         "13",
         "12",
         "17",
         "12_casteism_xenophobia_sexism_homophobia",
         "['casteism', 'xenophobia', 'sexism', 'homophobia', 'transphobia', 'racism', 'anti', 'traveller', 'islamophobia', 'fatphobia']",
         "['racism sexism homophobia transphobia xenophobia casteism', 'racism sexism homophobia transphobia xenophobia casteism', 'racism sexism homophobia transphobia xenophobia casteism']"
        ],
        [
         "14",
         "13",
         "17",
         "13_harassment_engage_kind_stalking",
         "['harassment', 'engage', 'kind', 'stalking', 'personal', 'harass', 'anyone', 'group', 'attack', 'unethical']",
         "['engage harassment kind', 'harassment', 'harassment']"
        ],
        [
         "15",
         "14",
         "14",
         "14_agree_mastodon_community_http",
         "['agree', 'mastodon', 'community', 'http', 'read', 'rule', 'code', 'conduct', 'flipboard', 'charter']",
         "['please direct request site feature mastodon open source project may implement downstream change specific instance see fit wish maintain relative parity latest stable mastodon release', 'agree bound term code conduct http mastodon africa', 'agree community rule instance']"
        ],
        [
         "16",
         "15",
         "12",
         "15_account_email_product_mail",
         "['account', 'email', 'product', 'mail', 'address', 'link', 'service', 'used', 'valid', 'advertise']",
         "['valid reachable email required temporary email account sorry sell email sign bullshit need able reach issue account', 'usage disposable email service registration allowed email address use need long term email address accessible using forwarding service apple mail privacy feature totally fine long email address used used future communication', 'advertising link farming account commercial account acceptable also used customer engagement mastodon conversation advertisement majority post link product service elsewhere participate conversation post profile header link business account subject suspension rule']"
        ],
        [
         "17",
         "16",
         "12",
         "16_deadnaming_therapy_misgendering_conversion",
         "['deadnaming', 'therapy', 'misgendering', 'conversion', 'called', 'targeted', 'including', 'sexism', 'homophobia', 'transphobia']",
         "['racism sexism homophobia transphobia xenophobia anti semitism casteism including targeted misgendering deadnaming promotion called conversion therapy', 'discrimination including limited racism sexism homophobia transphobia including targeted misgendering deadnaming promotion called conversion therapy', 'discrimination including limited racism sexism homophobia transphobia including targeted misgendering deadnaming promotion called conversion therapy']"
        ],
        [
         "18",
         "17",
         "12",
         "17_homophobia_transphobia_discrimination_diversity",
         "['homophobia', 'transphobia', 'discrimination', 'diversity', 'racism', 'etc', 'limited', 'sexism', 'kind', 'stronger']",
         "['discrimination kind prohibited includes limited racism xenophobia sexism homophobia transphobia etc', 'discrimination including limited racism sexism homophobia transphobia', 'discrimination including limited racism sexism homophobia transphobia']"
        ],
        [
         "19",
         "18",
         "12",
         "18_year_18_older_least",
         "['year', '18', 'older', 'least', 'old', '16', '13', 'must', 'age', 'use']",
         "['use service least 18 year old', 'must older 16 year according european law must least 16 year old use instance', 'must older 16 year according european law must least 16 year old use instance']"
        ],
        [
         "20",
         "19",
         "11",
         "19_language_english_translation_deepl",
         "['language', 'english', 'translation', 'deepl', 'moderate', 'german', 'translate', 'norwegian', 'system', 'mod']",
         "['language allowed norwegian english portuguese moderation issue post language deleted', 'allowed language german english main language following language tolerated dutch french spanish italian', 'english language cannot moderate language time able moderate english unsupported language account suspended see http joinmastodon org server find server country language']"
        ],
        [
         "21",
         "20",
         "10",
         "20_material_upload_dmca_permission",
         "['material', 'upload', 'dmca', 'permission', 'copyrighted', 'distribute', 'created', '1044123', 'holder', 'overboard']",
         "['upload distribute content permission', 'upload material right', 'post copyrighted material adhere dmca take notice see dmca policy bottom http hear social dmca registration number dmca 1044123']"
        ]
       ],
       "shape": {
        "columns": 5,
        "rows": 22
       }
      },
      "text/html": [
       "<div>\n",
       "<style scoped>\n",
       "    .dataframe tbody tr th:only-of-type {\n",
       "        vertical-align: middle;\n",
       "    }\n",
       "\n",
       "    .dataframe tbody tr th {\n",
       "        vertical-align: top;\n",
       "    }\n",
       "\n",
       "    .dataframe thead th {\n",
       "        text-align: right;\n",
       "    }\n",
       "</style>\n",
       "<table border=\"1\" class=\"dataframe\">\n",
       "  <thead>\n",
       "    <tr style=\"text-align: right;\">\n",
       "      <th></th>\n",
       "      <th>Topic</th>\n",
       "      <th>Count</th>\n",
       "      <th>Name</th>\n",
       "      <th>Representation</th>\n",
       "      <th>Representative_Docs</th>\n",
       "    </tr>\n",
       "  </thead>\n",
       "  <tbody>\n",
       "    <tr>\n",
       "      <th>0</th>\n",
       "      <td>-1</td>\n",
       "      <td>108</td>\n",
       "      <td>-1_ai_account_server_must</td>\n",
       "      <td>[ai, account, server, must, nfts, art, generat...</td>\n",
       "      <td>[content created others must attributed use ai...</td>\n",
       "    </tr>\n",
       "    <tr>\n",
       "      <th>1</th>\n",
       "      <td>0</td>\n",
       "      <td>106</td>\n",
       "      <td>0_content_warning_sensitive_nsfw</td>\n",
       "      <td>[content, warning, sensitive, nsfw, explicit, ...</td>\n",
       "      <td>[explicit nsfw content without content warning...</td>\n",
       "    </tr>\n",
       "    <tr>\n",
       "      <th>2</th>\n",
       "      <td>1</td>\n",
       "      <td>78</td>\n",
       "      <td>1_speech_hate_respect_respectful</td>\n",
       "      <td>[speech, hate, respect, respectful, others, ha...</td>\n",
       "      <td>[racism hate speech, hate speech, treat others...</td>\n",
       "    </tr>\n",
       "    <tr>\n",
       "      <th>3</th>\n",
       "      <td>2</td>\n",
       "      <td>42</td>\n",
       "      <td>2_spam_advertising_excessive_commercial</td>\n",
       "      <td>[spam, advertising, excessive, commercial, pro...</td>\n",
       "      <td>[spam advertising, spam advertising, advertisi...</td>\n",
       "    </tr>\n",
       "    <tr>\n",
       "      <th>4</th>\n",
       "      <td>3</td>\n",
       "      <td>41</td>\n",
       "      <td>3_false_misleading_information_intentionally</td>\n",
       "      <td>[false, misleading, information, intentionally...</td>\n",
       "      <td>[share intentionally false misleading informat...</td>\n",
       "    </tr>\n",
       "    <tr>\n",
       "      <th>5</th>\n",
       "      <td>4</td>\n",
       "      <td>37</td>\n",
       "      <td>4_violence_incitement_ideology_promotion</td>\n",
       "      <td>[violence, incitement, ideology, promotion, vi...</td>\n",
       "      <td>[incitement violence promotion violent ideolog...</td>\n",
       "    </tr>\n",
       "    <tr>\n",
       "      <th>6</th>\n",
       "      <td>5</td>\n",
       "      <td>29</td>\n",
       "      <td>5_doxxing_dogpiling_harassment_user</td>\n",
       "      <td>[doxxing, dogpiling, harassment, user, identif...</td>\n",
       "      <td>[harassment dogpiling doxxing user, harassment...</td>\n",
       "    </tr>\n",
       "    <tr>\n",
       "      <th>7</th>\n",
       "      <td>6</td>\n",
       "      <td>28</td>\n",
       "      <td>6_rule_moderator_report_admins</td>\n",
       "      <td>[rule, moderator, report, admins, server, admi...</td>\n",
       "      <td>[hoosier social admins unilateral authority ju...</td>\n",
       "    </tr>\n",
       "    <tr>\n",
       "      <th>8</th>\n",
       "      <td>7</td>\n",
       "      <td>26</td>\n",
       "      <td>7_illegal_content_canada_law</td>\n",
       "      <td>[illegal, content, canada, law, copyrighted, s...</td>\n",
       "      <td>[illegal content, illegal content, illegal con...</td>\n",
       "    </tr>\n",
       "    <tr>\n",
       "      <th>9</th>\n",
       "      <td>8</td>\n",
       "      <td>19</td>\n",
       "      <td>8_illegal_united_kingdom_germany</td>\n",
       "      <td>[illegal, united, kingdom, germany, eu, conten...</td>\n",
       "      <td>[content illegal following country united king...</td>\n",
       "    </tr>\n",
       "    <tr>\n",
       "      <th>10</th>\n",
       "      <td>9</td>\n",
       "      <td>19</td>\n",
       "      <td>9_national_nazi_nationalist_nationalism</td>\n",
       "      <td>[national, nazi, nationalist, nationalism, fas...</td>\n",
       "      <td>[holocaust denialism nazi symbolism promotion ...</td>\n",
       "    </tr>\n",
       "    <tr>\n",
       "      <th>11</th>\n",
       "      <td>10</td>\n",
       "      <td>18</td>\n",
       "      <td>10_impersonation_parody_clearly_account</td>\n",
       "      <td>[impersonation, parody, clearly, account, impe...</td>\n",
       "      <td>[impersonation individual public figure organi...</td>\n",
       "    </tr>\n",
       "    <tr>\n",
       "      <th>12</th>\n",
       "      <td>11</td>\n",
       "      <td>18</td>\n",
       "      <td>11_bot_unlisted_post_automated</td>\n",
       "      <td>[bot, unlisted, post, automated, account, hour...</td>\n",
       "      <td>[automated bot account allowed run someone per...</td>\n",
       "    </tr>\n",
       "    <tr>\n",
       "      <th>13</th>\n",
       "      <td>12</td>\n",
       "      <td>17</td>\n",
       "      <td>12_casteism_xenophobia_sexism_homophobia</td>\n",
       "      <td>[casteism, xenophobia, sexism, homophobia, tra...</td>\n",
       "      <td>[racism sexism homophobia transphobia xenophob...</td>\n",
       "    </tr>\n",
       "    <tr>\n",
       "      <th>14</th>\n",
       "      <td>13</td>\n",
       "      <td>17</td>\n",
       "      <td>13_harassment_engage_kind_stalking</td>\n",
       "      <td>[harassment, engage, kind, stalking, personal,...</td>\n",
       "      <td>[engage harassment kind, harassment, harassment]</td>\n",
       "    </tr>\n",
       "    <tr>\n",
       "      <th>15</th>\n",
       "      <td>14</td>\n",
       "      <td>14</td>\n",
       "      <td>14_agree_mastodon_community_http</td>\n",
       "      <td>[agree, mastodon, community, http, read, rule,...</td>\n",
       "      <td>[please direct request site feature mastodon o...</td>\n",
       "    </tr>\n",
       "    <tr>\n",
       "      <th>16</th>\n",
       "      <td>15</td>\n",
       "      <td>12</td>\n",
       "      <td>15_account_email_product_mail</td>\n",
       "      <td>[account, email, product, mail, address, link,...</td>\n",
       "      <td>[valid reachable email required temporary emai...</td>\n",
       "    </tr>\n",
       "    <tr>\n",
       "      <th>17</th>\n",
       "      <td>16</td>\n",
       "      <td>12</td>\n",
       "      <td>16_deadnaming_therapy_misgendering_conversion</td>\n",
       "      <td>[deadnaming, therapy, misgendering, conversion...</td>\n",
       "      <td>[racism sexism homophobia transphobia xenophob...</td>\n",
       "    </tr>\n",
       "    <tr>\n",
       "      <th>18</th>\n",
       "      <td>17</td>\n",
       "      <td>12</td>\n",
       "      <td>17_homophobia_transphobia_discrimination_diver...</td>\n",
       "      <td>[homophobia, transphobia, discrimination, dive...</td>\n",
       "      <td>[discrimination kind prohibited includes limit...</td>\n",
       "    </tr>\n",
       "    <tr>\n",
       "      <th>19</th>\n",
       "      <td>18</td>\n",
       "      <td>12</td>\n",
       "      <td>18_year_18_older_least</td>\n",
       "      <td>[year, 18, older, least, old, 16, 13, must, ag...</td>\n",
       "      <td>[use service least 18 year old, must older 16 ...</td>\n",
       "    </tr>\n",
       "    <tr>\n",
       "      <th>20</th>\n",
       "      <td>19</td>\n",
       "      <td>11</td>\n",
       "      <td>19_language_english_translation_deepl</td>\n",
       "      <td>[language, english, translation, deepl, modera...</td>\n",
       "      <td>[language allowed norwegian english portuguese...</td>\n",
       "    </tr>\n",
       "    <tr>\n",
       "      <th>21</th>\n",
       "      <td>20</td>\n",
       "      <td>10</td>\n",
       "      <td>20_material_upload_dmca_permission</td>\n",
       "      <td>[material, upload, dmca, permission, copyright...</td>\n",
       "      <td>[upload distribute content permission, upload ...</td>\n",
       "    </tr>\n",
       "  </tbody>\n",
       "</table>\n",
       "</div>"
      ],
      "text/plain": [
       "    Topic  Count                                               Name  \\\n",
       "0      -1    108                          -1_ai_account_server_must   \n",
       "1       0    106                   0_content_warning_sensitive_nsfw   \n",
       "2       1     78                   1_speech_hate_respect_respectful   \n",
       "3       2     42            2_spam_advertising_excessive_commercial   \n",
       "4       3     41       3_false_misleading_information_intentionally   \n",
       "5       4     37           4_violence_incitement_ideology_promotion   \n",
       "6       5     29                5_doxxing_dogpiling_harassment_user   \n",
       "7       6     28                     6_rule_moderator_report_admins   \n",
       "8       7     26                       7_illegal_content_canada_law   \n",
       "9       8     19                   8_illegal_united_kingdom_germany   \n",
       "10      9     19            9_national_nazi_nationalist_nationalism   \n",
       "11     10     18            10_impersonation_parody_clearly_account   \n",
       "12     11     18                     11_bot_unlisted_post_automated   \n",
       "13     12     17           12_casteism_xenophobia_sexism_homophobia   \n",
       "14     13     17                 13_harassment_engage_kind_stalking   \n",
       "15     14     14                   14_agree_mastodon_community_http   \n",
       "16     15     12                      15_account_email_product_mail   \n",
       "17     16     12      16_deadnaming_therapy_misgendering_conversion   \n",
       "18     17     12  17_homophobia_transphobia_discrimination_diver...   \n",
       "19     18     12                             18_year_18_older_least   \n",
       "20     19     11              19_language_english_translation_deepl   \n",
       "21     20     10                 20_material_upload_dmca_permission   \n",
       "\n",
       "                                       Representation  \\\n",
       "0   [ai, account, server, must, nfts, art, generat...   \n",
       "1   [content, warning, sensitive, nsfw, explicit, ...   \n",
       "2   [speech, hate, respect, respectful, others, ha...   \n",
       "3   [spam, advertising, excessive, commercial, pro...   \n",
       "4   [false, misleading, information, intentionally...   \n",
       "5   [violence, incitement, ideology, promotion, vi...   \n",
       "6   [doxxing, dogpiling, harassment, user, identif...   \n",
       "7   [rule, moderator, report, admins, server, admi...   \n",
       "8   [illegal, content, canada, law, copyrighted, s...   \n",
       "9   [illegal, united, kingdom, germany, eu, conten...   \n",
       "10  [national, nazi, nationalist, nationalism, fas...   \n",
       "11  [impersonation, parody, clearly, account, impe...   \n",
       "12  [bot, unlisted, post, automated, account, hour...   \n",
       "13  [casteism, xenophobia, sexism, homophobia, tra...   \n",
       "14  [harassment, engage, kind, stalking, personal,...   \n",
       "15  [agree, mastodon, community, http, read, rule,...   \n",
       "16  [account, email, product, mail, address, link,...   \n",
       "17  [deadnaming, therapy, misgendering, conversion...   \n",
       "18  [homophobia, transphobia, discrimination, dive...   \n",
       "19  [year, 18, older, least, old, 16, 13, must, ag...   \n",
       "20  [language, english, translation, deepl, modera...   \n",
       "21  [material, upload, dmca, permission, copyright...   \n",
       "\n",
       "                                  Representative_Docs  \n",
       "0   [content created others must attributed use ai...  \n",
       "1   [explicit nsfw content without content warning...  \n",
       "2   [racism hate speech, hate speech, treat others...  \n",
       "3   [spam advertising, spam advertising, advertisi...  \n",
       "4   [share intentionally false misleading informat...  \n",
       "5   [incitement violence promotion violent ideolog...  \n",
       "6   [harassment dogpiling doxxing user, harassment...  \n",
       "7   [hoosier social admins unilateral authority ju...  \n",
       "8   [illegal content, illegal content, illegal con...  \n",
       "9   [content illegal following country united king...  \n",
       "10  [holocaust denialism nazi symbolism promotion ...  \n",
       "11  [impersonation individual public figure organi...  \n",
       "12  [automated bot account allowed run someone per...  \n",
       "13  [racism sexism homophobia transphobia xenophob...  \n",
       "14   [engage harassment kind, harassment, harassment]  \n",
       "15  [please direct request site feature mastodon o...  \n",
       "16  [valid reachable email required temporary emai...  \n",
       "17  [racism sexism homophobia transphobia xenophob...  \n",
       "18  [discrimination kind prohibited includes limit...  \n",
       "19  [use service least 18 year old, must older 16 ...  \n",
       "20  [language allowed norwegian english portuguese...  \n",
       "21  [upload distribute content permission, upload ...  "
      ]
     },
     "execution_count": 107,
     "metadata": {},
     "output_type": "execute_result"
    }
   ],
   "source": [
    "topic_model.get_topic_info()"
   ]
  },
  {
   "cell_type": "markdown",
   "id": "65294ce4",
   "metadata": {},
   "source": [
    "Spend A LOT of time in data cleaning but was soooo worth it 🥹 the topics extracted make so much sense!!"
   ]
  },
  {
   "cell_type": "code",
   "execution_count": 108,
   "id": "aa2d4539",
   "metadata": {},
   "outputs": [
    {
     "data": {
      "application/vnd.microsoft.datawrangler.viewer.v0+json": {
       "columns": [
        {
         "name": "index",
         "rawType": "int64",
         "type": "integer"
        },
        {
         "name": "server_id",
         "rawType": "int64",
         "type": "integer"
        },
        {
         "name": "rule_id",
         "rawType": "object",
         "type": "string"
        },
        {
         "name": "text",
         "rawType": "object",
         "type": "unknown"
        },
        {
         "name": "hint",
         "rawType": "object",
         "type": "unknown"
        },
        {
         "name": "is_english_pred",
         "rawType": "bool",
         "type": "boolean"
        },
        {
         "name": "rules",
         "rawType": "object",
         "type": "unknown"
        },
        {
         "name": "rules_str",
         "rawType": "object",
         "type": "string"
        }
       ],
       "ref": "8e46c582-ceb1-4442-a722-1070e9716dcf",
       "rows": [
        [
         "0",
         "0",
         "1",
         "['sexually', 'explicit', 'violent', 'media', 'must', 'marked', 'sensitive', 'content', 'warning']",
         "['includes', 'content', 'particularly', 'provocative', 'even', 'may', 'show', 'specific', 'body', 'parts', 'well', 'dead', 'bodies', 'bloody', 'injuries', 'gore', 'particularly', 'obscene', 'content', 'may', 'prohibited', 'entirely', 'profile', 'pictures', 'header', 'images', 'may', 'contain', 'sexually', 'explicit', 'violent', 'media']",
         "True",
         "['sexually', 'explicit', 'violent', 'medium', 'must', 'marked', 'sensitive', 'content', 'warning', 'includes', 'content', 'particularly', 'provocative', 'even', 'may', 'show', 'specific', 'body', 'part', 'well', 'dead', 'body', 'bloody', 'injury', 'gore', 'particularly', 'obscene', 'content', 'may', 'prohibited', 'entirely', 'profile', 'picture', 'header', 'image', 'may', 'contain', 'sexually', 'explicit', 'violent', 'medium']",
         "sexually explicit violent medium must marked sensitive content warning includes content particularly provocative even may show specific body part well dead body bloody injury gore particularly obscene content may prohibited entirely profile picture header image may contain sexually explicit violent medium"
        ],
        [
         "1",
         "0",
         "2",
         "['racism', 'sexism', 'homophobia', 'transphobia', 'ableism', 'xenophobia', 'casteism']",
         "['transphobic', 'behavior', 'intentional', 'misgendering', 'deadnaming', 'strictly', 'prohibited', 'promotion', 'conversion', 'therapy', 'strictly', 'prohibited', 'criticism', 'governments', 'religions', 'permissible', 'unless', 'used', 'proxy', 'discrimination']",
         "True",
         "['racism', 'sexism', 'homophobia', 'transphobia', 'ableism', 'xenophobia', 'casteism', 'transphobic', 'behavior', 'intentional', 'misgendering', 'deadnaming', 'strictly', 'prohibited', 'promotion', 'conversion', 'therapy', 'strictly', 'prohibited', 'criticism', 'government', 'religion', 'permissible', 'unless', 'used', 'proxy', 'discrimination']",
         "racism sexism homophobia transphobia ableism xenophobia casteism transphobic behavior intentional misgendering deadnaming strictly prohibited promotion conversion therapy strictly prohibited criticism government religion permissible unless used proxy discrimination"
        ],
        [
         "2",
         "0",
         "3",
         "['incitement', 'violence', 'promotion', 'violent', 'ideologies']",
         "['calling', 'people', 'groups', 'assassinated', 'murdered', 'attacked', 'physically', 'strictly', 'prohibited', 'support', 'violent', 'groups', 'events', 'prohibited']",
         "True",
         "['incitement', 'violence', 'promotion', 'violent', 'ideology', 'calling', 'people', 'group', 'assassinated', 'murdered', 'attacked', 'physically', 'strictly', 'prohibited', 'support', 'violent', 'group', 'event', 'prohibited']",
         "incitement violence promotion violent ideology calling people group assassinated murdered attacked physically strictly prohibited support violent group event prohibited"
        ],
        [
         "3",
         "0",
         "4",
         "['harassment', 'block', 'evasion', 'dogpiling', 'doxxing', 'others']",
         "['repeat', 'attempts', 'communicate', 'users', 'blocked', 'creation', 'accounts', 'solely', 'harass', 'insult', 'individuals', 'strictly', 'prohibited', 'coordinated', 'activity', 'attack', 'users', 'prohibited', 'posting', 'private', 'personal', 'information', 'others', 'prohibited']",
         "True",
         "['harassment', 'block', 'evasion', 'dogpiling', 'doxxing', 'others', 'repeat', 'attempt', 'communicate', 'user', 'blocked', 'creation', 'account', 'solely', 'harass', 'insult', 'individual', 'strictly', 'prohibited', 'coordinated', 'activity', 'attack', 'user', 'prohibited', 'posting', 'private', 'personal', 'information', 'others', 'prohibited']",
         "harassment block evasion dogpiling doxxing others repeat attempt communicate user blocked creation account solely harass insult individual strictly prohibited coordinated activity attack user prohibited posting private personal information others prohibited"
        ],
        [
         "4",
         "0",
         "7",
         "['share', 'information', 'widely', 'known', 'false', 'misleading']",
         "['false', 'misleading', 'information', 'links', 'low', 'quality', 'sources', 'may', 'posted', 'especially', 'likely', 'mislead', 'confuse', 'others', 'endanger', 'safety']",
         "True",
         "['share', 'information', 'widely', 'known', 'false', 'misleading', 'false', 'misleading', 'information', 'link', 'low', 'quality', 'source', 'may', 'posted', 'especially', 'likely', 'mislead', 'confuse', 'others', 'endanger', 'safety']",
         "share information widely known false misleading false misleading information link low quality source may posted especially likely mislead confuse others endanger safety"
        ],
        [
         "5",
         "0",
         "1008",
         "['content', 'created', 'others', 'must', 'attributed', 'use', 'generative', 'ai', 'must', 'disclosed']",
         "['content', 'created', 'others', 'must', 'clearly', 'provide', 'reference', 'author', 'creator', 'source', 'adult', 'content', 'include', 'performers', 'accounts', 'may', 'solely', 'post', 'ai', 'generated', 'content']",
         "True",
         "['content', 'created', 'others', 'must', 'attributed', 'use', 'generative', 'ai', 'must', 'disclosed', 'content', 'created', 'others', 'must', 'clearly', 'provide', 'reference', 'author', 'creator', 'source', 'adult', 'content', 'include', 'performer', 'account', 'may', 'solely', 'post', 'ai', 'generated', 'content']",
         "content created others must attributed use generative ai must disclosed content created others must clearly provide reference author creator source adult content include performer account may solely post ai generated content"
        ],
        [
         "6",
         "1",
         "2",
         "['sexually', 'explicit', 'violent', 'media', 'must', 'marked', 'sensitive', 'posting']",
         "[]",
         "True",
         "['sexually', 'explicit', 'violent', 'medium', 'must', 'marked', 'sensitive', 'posting']",
         "sexually explicit violent medium must marked sensitive posting"
        ],
        [
         "7",
         "1",
         "3",
         "['spam', 'advertising']",
         "[]",
         "True",
         "['spam', 'advertising']",
         "spam advertising"
        ],
        [
         "8",
         "1",
         "4",
         "['racism', 'sexism', 'homophobia', 'transphobia', 'xenophobia', 'casteism']",
         "[]",
         "True",
         "['racism', 'sexism', 'homophobia', 'transphobia', 'xenophobia', 'casteism']",
         "racism sexism homophobia transphobia xenophobia casteism"
        ],
        [
         "9",
         "1",
         "5",
         "['incitement', 'violence', 'promotion', 'violent', 'ideologies']",
         "[]",
         "True",
         "['incitement', 'violence', 'promotion', 'violent', 'ideology']",
         "incitement violence promotion violent ideology"
        ],
        [
         "10",
         "1",
         "6",
         "['harassment', 'dogpiling', 'doxxing', 'users']",
         "[]",
         "True",
         "['harassment', 'dogpiling', 'doxxing', 'user']",
         "harassment dogpiling doxxing user"
        ],
        [
         "11",
         "1",
         "7",
         "['illegal', 'content']",
         "[]",
         "True",
         "['illegal', 'content']",
         "illegal content"
        ],
        [
         "12",
         "1",
         "11",
         "['spreading', 'fake', 'news', 'misinformation']",
         "[]",
         "True",
         "['spreading', 'fake', 'news', 'misinformation']",
         "spreading fake news misinformation"
        ],
        [
         "13",
         "1",
         "12",
         "['content', 'created', 'others', 'must', 'attributed', 'use', 'ai', 'must', 'disclosed', 'profiles', 'post', 'ai', 'generated', 'content', 'tolerated']",
         "[]",
         "True",
         "['content', 'created', 'others', 'must', 'attributed', 'use', 'ai', 'must', 'disclosed', 'profile', 'post', 'ai', 'generated', 'content', 'tolerated']",
         "content created others must attributed use ai must disclosed profile post ai generated content tolerated"
        ],
        [
         "14",
         "2",
         "1",
         "['unto', 'others', 'think', 'would', 'want', 'done']",
         "[]",
         "True",
         "['unto', 'others', 'think', 'would', 'want', 'done']",
         "unto others think would want done"
        ],
        [
         "15",
         "2",
         "2",
         "['mark', 'sensitive', 'content', 'content', 'warning']",
         "[]",
         "True",
         "['mark', 'sensitive', 'content', 'content', 'warning']",
         "mark sensitive content content warning"
        ],
        [
         "16",
         "2",
         "3",
         "['gratuitous', 'obscenity', 'serves', 'practical', 'benefit', 'discussion', 'permitted']",
         "[]",
         "True",
         "['gratuitous', 'obscenity', 'serf', 'practical', 'benefit', 'discussion', 'permitted']",
         "gratuitous obscenity serf practical benefit discussion permitted"
        ],
        [
         "17",
         "2",
         "4",
         "['illegal', 'content', 'child', 'pornography', 'unsurprisingly', 'permitted']",
         "[]",
         "True",
         "['illegal', 'content', 'child', 'pornography', 'unsurprisingly', 'permitted']",
         "illegal content child pornography unsurprisingly permitted"
        ],
        [
         "18",
         "2",
         "5",
         "['spam', 'permitted', 'includes', 'creating', 'spam', 'accounts', 'serve', 'provide', 'profile', 'links', 'advertise', 'products', 'services']",
         "[]",
         "True",
         "['spam', 'permitted', 'includes', 'creating', 'spam', 'account', 'serve', 'provide', 'profile', 'link', 'advertise', 'product', 'service']",
         "spam permitted includes creating spam account serve provide profile link advertise product service"
        ],
        [
         "19",
         "2",
         "6",
         "['hate', 'speech', 'abusive', 'threatening', 'behavior', 'permitted', 'specifically', 'directed', 'gender', 'nationality', 'religion', 'race', 'age', 'pizza', 'topping', 'preference', 'sexual', 'identity', 'one', 'hate', 'systemd', 'day', 'long']",
         "[]",
         "True",
         "['hate', 'speech', 'abusive', 'threatening', 'behavior', 'permitted', 'specifically', 'directed', 'gender', 'nationality', 'religion', 'race', 'age', 'pizza', 'topping', 'preference', 'sexual', 'identity', 'one', 'hate', 'systemd', 'day', 'long']",
         "hate speech abusive threatening behavior permitted specifically directed gender nationality religion race age pizza topping preference sexual identity one hate systemd day long"
        ],
        [
         "20",
         "2",
         "7",
         "['lack', 'specific', 'rule', 'certain', 'behavior', 'indicate', 'acceptance', 'behavior', 'us', 'limited', 'amount', 'time', 'world', 'jerk']",
         "[]",
         "True",
         "['lack', 'specific', 'rule', 'certain', 'behavior', 'indicate', 'acceptance', 'behavior', 'u', 'limited', 'amount', 'time', 'world', 'jerk']",
         "lack specific rule certain behavior indicate acceptance behavior u limited amount time world jerk"
        ],
        [
         "21",
         "2",
         "8",
         "['violating', 'one', 'rules', 'may', 'result', 'immediate', 'permanent', 'ban', 'without', 'notice', 'warning']",
         "[]",
         "True",
         "['violating', 'one', 'rule', 'may', 'result', 'immediate', 'permanent', 'ban', 'without', 'notice', 'warning']",
         "violating one rule may result immediate permanent ban without notice warning"
        ],
        [
         "22",
         "2",
         "9",
         "['may', 'impersonate', 'person', 'brand', 'without', 'clear', 'indication', 'account', 'unofficial', 'parody', 'parody', 'accounts', 'permitted', 'legitimate', 'brand', 'accounts']",
         "[]",
         "True",
         "['may', 'impersonate', 'person', 'brand', 'without', 'clear', 'indication', 'account', 'unofficial', 'parody', 'parody', 'account', 'permitted', 'legitimate', 'brand', 'account']",
         "may impersonate person brand without clear indication account unofficial parody parody account permitted legitimate brand account"
        ],
        [
         "23",
         "2",
         "11",
         "['attacks', 'instance', 'may', 'anything', 'may', 'impact', 'confidentiality', 'integrity', 'availability', 'infosec', 'exchange', 'users', 'service', 'data', 'details', 'see', 'https', 'wiki', 'infosec', 'exchange', 'rules', 'start']",
         "[]",
         "True",
         "['attack', 'instance', 'may', 'anything', 'may', 'impact', 'confidentiality', 'integrity', 'availability', 'infosec', 'exchange', 'user', 'service', 'data', 'detail', 'see', 'http', 'wiki', 'infosec', 'exchange', 'rule', 'start']",
         "attack instance may anything may impact confidentiality integrity availability infosec exchange user service data detail see http wiki infosec exchange rule start"
        ],
        [
         "24",
         "2",
         "12",
         "['doxing', 'aka', 'doxxing', 'disclosing', 'personal', 'information', 'without', 'consent', 'means', 'harassing', 'causing', 'others', 'harass', 'another', 'person']",
         "[]",
         "True",
         "['doxing', 'aka', 'doxxing', 'disclosing', 'personal', 'information', 'without', 'consent', 'mean', 'harassing', 'causing', 'others', 'harass', 'another', 'person']",
         "doxing aka doxxing disclosing personal information without consent mean harassing causing others harass another person"
        ],
        [
         "25",
         "2",
         "13",
         "['harassment', 'form', 'continued', 'engagement', 'person', 'requested', 'contact', 'stop']",
         "[]",
         "True",
         "['harassment', 'form', 'continued', 'engagement', 'person', 'requested', 'contact', 'stop']",
         "harassment form continued engagement person requested contact stop"
        ],
        [
         "26",
         "2",
         "14",
         "['automated', 'posting', 'accounts', 'post', '50', 'using', 'automation', 'must', 'labeled', 'bot', 'user', 'profile', 'help', 'provide', 'visual', 'indicator', 'visitors', 'automated', 'posts', 'must', 'limited', 'one', 'post', 'per', 'hour', '24', 'per', 'day', 'post', 'visibility', 'set', 'public', 'limit', 'unlisted', 'posts']",
         "[]",
         "True",
         "['automated', 'posting', 'account', 'post', '50', 'using', 'automation', 'must', 'labeled', 'bot', 'user', 'profile', 'help', 'provide', 'visual', 'indicator', 'visitor', 'automated', 'post', 'must', 'limited', 'one', 'post', 'per', 'hour', '24', 'per', 'day', 'post', 'visibility', 'set', 'public', 'limit', 'unlisted', 'post']",
         "automated posting account post 50 using automation must labeled bot user profile help provide visual indicator visitor automated post must limited one post per hour 24 per day post visibility set public limit unlisted post"
        ],
        [
         "27",
         "2",
         "15",
         "['soliciting', 'inciting', 'violence', 'harm', 'person', 'segment', 'people', 'permitted']",
         "[]",
         "True",
         "['soliciting', 'inciting', 'violence', 'harm', 'person', 'segment', 'people', 'permitted']",
         "soliciting inciting violence harm person segment people permitted"
        ],
        [
         "28",
         "3",
         "9",
         "['discrimination', 'including', 'limited', 'racism', 'sexism', 'homophobia', 'transphobia', 'including', 'targeted', 'misgendering', 'deadnaming', 'promotion', 'called', 'conversion', 'therapy']",
         "[]",
         "True",
         "['discrimination', 'including', 'limited', 'racism', 'sexism', 'homophobia', 'transphobia', 'including', 'targeted', 'misgendering', 'deadnaming', 'promotion', 'called', 'conversion', 'therapy']",
         "discrimination including limited racism sexism homophobia transphobia including targeted misgendering deadnaming promotion called conversion therapy"
        ],
        [
         "29",
         "3",
         "10",
         "['explicit', 'nsfw', 'content', 'without', 'content', 'warnings', 'sensitive', 'media', 'markers', 'explicit', 'content', 'must', 'used', 'user', 'avatars', 'header', 'images']",
         "[]",
         "True",
         "['explicit', 'nsfw', 'content', 'without', 'content', 'warning', 'sensitive', 'medium', 'marker', 'explicit', 'content', 'must', 'used', 'user', 'avatar', 'header', 'image']",
         "explicit nsfw content without content warning sensitive medium marker explicit content must used user avatar header image"
        ],
        [
         "30",
         "3",
         "17",
         "['harassment', 'users', 'servers']",
         "[]",
         "True",
         "['harassment', 'user', 'server']",
         "harassment user server"
        ],
        [
         "31",
         "3",
         "18",
         "['content', 'illegal', 'following', 'countries', 'united', 'kingdom', 'germany']",
         "[]",
         "True",
         "['content', 'illegal', 'following', 'country', 'united', 'kingdom', 'germany']",
         "content illegal following country united kingdom germany"
        ],
        [
         "32",
         "3",
         "19",
         "['incitement', 'violence', 'promotion', 'violent', 'ideologies']",
         "[]",
         "True",
         "['incitement', 'violence', 'promotion', 'violent', 'ideology']",
         "incitement violence promotion violent ideology"
        ],
        [
         "33",
         "3",
         "20",
         "['disinformation', 'regarding', 'public', 'health', 'issues', 'political', 'military', 'campaigns']",
         "[]",
         "True",
         "['disinformation', 'regarding', 'public', 'health', 'issue', 'political', 'military', 'campaign']",
         "disinformation regarding public health issue political military campaign"
        ],
        [
         "34",
         "3",
         "21",
         "['spam', 'includes', 'commercial', 'advertising', 'promotion', 'services', 'seo']",
         "[]",
         "True",
         "['spam', 'includes', 'commercial', 'advertising', 'promotion', 'service', 'seo']",
         "spam includes commercial advertising promotion service seo"
        ],
        [
         "35",
         "3",
         "22",
         "['impersonation', 'individuals', 'public', 'figures', 'organisations', 'unless', 'clearly', 'marked', 'parody']",
         "[]",
         "True",
         "['impersonation', 'individual', 'public', 'figure', 'organisation', 'unless', 'clearly', 'marked', 'parody']",
         "impersonation individual public figure organisation unless clearly marked parody"
        ],
        [
         "36",
         "3",
         "23",
         "['automated', 'bot', 'accounts', 'must', 'enable', 'bot', 'flag', 'account', 'preferences', 'respect', 'nobot', 'markers', 'post', 'unlisted', 'unless', 'making', 'less', 'one', 'post', 'per', 'hour']",
         "[]",
         "True",
         "['automated', 'bot', 'account', 'must', 'enable', 'bot', 'flag', 'account', 'preference', 'respect', 'nobot', 'marker', 'post', 'unlisted', 'unless', 'making', 'less', 'one', 'post', 'per', 'hour']",
         "automated bot account must enable bot flag account preference respect nobot marker post unlisted unless making less one post per hour"
        ],
        [
         "37",
         "5",
         "1",
         "['dick']",
         "[]",
         "True",
         "['dick']",
         "dick"
        ],
        [
         "38",
         "5",
         "2",
         "['hacking']",
         "[]",
         "True",
         "['hacking']",
         "hacking"
        ],
        [
         "39",
         "5",
         "3",
         "['violence']",
         "[]",
         "True",
         "['violence']",
         "violence"
        ],
        [
         "40",
         "5",
         "4",
         "['fascism']",
         "[]",
         "False",
         "['fascism']",
         "fascism"
        ],
        [
         "41",
         "5",
         "5",
         "['colonialism']",
         "[]",
         "True",
         "['colonialism']",
         "colonialism"
        ],
        [
         "42",
         "5",
         "6",
         "['white', 'supremacy']",
         "[]",
         "True",
         "['white', 'supremacy']",
         "white supremacy"
        ],
        [
         "43",
         "5",
         "7",
         "['religious', 'extremism']",
         "[]",
         "True",
         "['religious', 'extremism']",
         "religious extremism"
        ],
        [
         "44",
         "5",
         "9",
         "['nationalism']",
         "[]",
         "True",
         "['nationalism']",
         "nationalism"
        ],
        [
         "45",
         "5",
         "11",
         "['racism']",
         "[]",
         "True",
         "['racism']",
         "racism"
        ],
        [
         "46",
         "5",
         "12",
         "['homophobia']",
         "[]",
         "False",
         "['homophobia']",
         "homophobia"
        ],
        [
         "47",
         "5",
         "13",
         "['transphobia']",
         "[]",
         "False",
         "['transphobia']",
         "transphobia"
        ],
        [
         "48",
         "5",
         "14",
         "['safe', 'space', 'lgtbqia']",
         "[]",
         "False",
         "['safe', 'space', 'lgtbqia']",
         "safe space lgtbqia"
        ],
        [
         "49",
         "5",
         "15",
         "['safe', 'space', 'neurodivergent', 'adhd', 'autism', 'etc']",
         "[]",
         "True",
         "['safe', 'space', 'neurodivergent', 'adhd', 'autism', 'etc']",
         "safe space neurodivergent adhd autism etc"
        ]
       ],
       "shape": {
        "columns": 7,
        "rows": 686
       }
      },
      "text/html": [
       "<div>\n",
       "<style scoped>\n",
       "    .dataframe tbody tr th:only-of-type {\n",
       "        vertical-align: middle;\n",
       "    }\n",
       "\n",
       "    .dataframe tbody tr th {\n",
       "        vertical-align: top;\n",
       "    }\n",
       "\n",
       "    .dataframe thead th {\n",
       "        text-align: right;\n",
       "    }\n",
       "</style>\n",
       "<table border=\"1\" class=\"dataframe\">\n",
       "  <thead>\n",
       "    <tr style=\"text-align: right;\">\n",
       "      <th></th>\n",
       "      <th>server_id</th>\n",
       "      <th>rule_id</th>\n",
       "      <th>text</th>\n",
       "      <th>hint</th>\n",
       "      <th>is_english_pred</th>\n",
       "      <th>rules</th>\n",
       "      <th>rules_str</th>\n",
       "    </tr>\n",
       "  </thead>\n",
       "  <tbody>\n",
       "    <tr>\n",
       "      <th>0</th>\n",
       "      <td>0</td>\n",
       "      <td>1</td>\n",
       "      <td>[sexually, explicit, violent, media, must, mar...</td>\n",
       "      <td>[includes, content, particularly, provocative,...</td>\n",
       "      <td>True</td>\n",
       "      <td>[sexually, explicit, violent, medium, must, ma...</td>\n",
       "      <td>sexually explicit violent medium must marked s...</td>\n",
       "    </tr>\n",
       "    <tr>\n",
       "      <th>1</th>\n",
       "      <td>0</td>\n",
       "      <td>2</td>\n",
       "      <td>[racism, sexism, homophobia, transphobia, able...</td>\n",
       "      <td>[transphobic, behavior, intentional, misgender...</td>\n",
       "      <td>True</td>\n",
       "      <td>[racism, sexism, homophobia, transphobia, able...</td>\n",
       "      <td>racism sexism homophobia transphobia ableism x...</td>\n",
       "    </tr>\n",
       "    <tr>\n",
       "      <th>2</th>\n",
       "      <td>0</td>\n",
       "      <td>3</td>\n",
       "      <td>[incitement, violence, promotion, violent, ide...</td>\n",
       "      <td>[calling, people, groups, assassinated, murder...</td>\n",
       "      <td>True</td>\n",
       "      <td>[incitement, violence, promotion, violent, ide...</td>\n",
       "      <td>incitement violence promotion violent ideology...</td>\n",
       "    </tr>\n",
       "    <tr>\n",
       "      <th>3</th>\n",
       "      <td>0</td>\n",
       "      <td>4</td>\n",
       "      <td>[harassment, block, evasion, dogpiling, doxxin...</td>\n",
       "      <td>[repeat, attempts, communicate, users, blocked...</td>\n",
       "      <td>True</td>\n",
       "      <td>[harassment, block, evasion, dogpiling, doxxin...</td>\n",
       "      <td>harassment block evasion dogpiling doxxing oth...</td>\n",
       "    </tr>\n",
       "    <tr>\n",
       "      <th>4</th>\n",
       "      <td>0</td>\n",
       "      <td>7</td>\n",
       "      <td>[share, information, widely, known, false, mis...</td>\n",
       "      <td>[false, misleading, information, links, low, q...</td>\n",
       "      <td>True</td>\n",
       "      <td>[share, information, widely, known, false, mis...</td>\n",
       "      <td>share information widely known false misleadin...</td>\n",
       "    </tr>\n",
       "    <tr>\n",
       "      <th>...</th>\n",
       "      <td>...</td>\n",
       "      <td>...</td>\n",
       "      <td>...</td>\n",
       "      <td>...</td>\n",
       "      <td>...</td>\n",
       "      <td>...</td>\n",
       "      <td>...</td>\n",
       "    </tr>\n",
       "    <tr>\n",
       "      <th>681</th>\n",
       "      <td>139</td>\n",
       "      <td>77</td>\n",
       "      <td>[agree, community, rules, instance]</td>\n",
       "      <td>[]</td>\n",
       "      <td>True</td>\n",
       "      <td>[agree, community, rule, instance]</td>\n",
       "      <td>agree community rule instance</td>\n",
       "    </tr>\n",
       "    <tr>\n",
       "      <th>682</th>\n",
       "      <td>139</td>\n",
       "      <td>78</td>\n",
       "      <td>[incomplete, nonsensical, responses, result, r...</td>\n",
       "      <td>[]</td>\n",
       "      <td>False</td>\n",
       "      <td>[incomplete, nonsensical, response, result, re...</td>\n",
       "      <td>incomplete nonsensical response result rejection</td>\n",
       "    </tr>\n",
       "    <tr>\n",
       "      <th>683</th>\n",
       "      <td>139</td>\n",
       "      <td>79</td>\n",
       "      <td>[detailed, community, rules, please, see]</td>\n",
       "      <td>[]</td>\n",
       "      <td>False</td>\n",
       "      <td>[detailed, community, rule, please, see]</td>\n",
       "      <td>detailed community rule please see</td>\n",
       "    </tr>\n",
       "    <tr>\n",
       "      <th>684</th>\n",
       "      <td>139</td>\n",
       "      <td>80</td>\n",
       "      <td>[https, wxw, moe]</td>\n",
       "      <td>[]</td>\n",
       "      <td>False</td>\n",
       "      <td>[http, wxw, moe]</td>\n",
       "      <td>http wxw moe</td>\n",
       "    </tr>\n",
       "    <tr>\n",
       "      <th>685</th>\n",
       "      <td>139</td>\n",
       "      <td>82</td>\n",
       "      <td>[using, instance, agree, rules, policies, plea...</td>\n",
       "      <td>[]</td>\n",
       "      <td>False</td>\n",
       "      <td>[using, instance, agree, rule, policy, please,...</td>\n",
       "      <td>using instance agree rule policy please sure r...</td>\n",
       "    </tr>\n",
       "  </tbody>\n",
       "</table>\n",
       "<p>686 rows × 7 columns</p>\n",
       "</div>"
      ],
      "text/plain": [
       "     server_id rule_id                                               text  \\\n",
       "0            0       1  [sexually, explicit, violent, media, must, mar...   \n",
       "1            0       2  [racism, sexism, homophobia, transphobia, able...   \n",
       "2            0       3  [incitement, violence, promotion, violent, ide...   \n",
       "3            0       4  [harassment, block, evasion, dogpiling, doxxin...   \n",
       "4            0       7  [share, information, widely, known, false, mis...   \n",
       "..         ...     ...                                                ...   \n",
       "681        139      77                [agree, community, rules, instance]   \n",
       "682        139      78  [incomplete, nonsensical, responses, result, r...   \n",
       "683        139      79          [detailed, community, rules, please, see]   \n",
       "684        139      80                                  [https, wxw, moe]   \n",
       "685        139      82  [using, instance, agree, rules, policies, plea...   \n",
       "\n",
       "                                                  hint  is_english_pred  \\\n",
       "0    [includes, content, particularly, provocative,...             True   \n",
       "1    [transphobic, behavior, intentional, misgender...             True   \n",
       "2    [calling, people, groups, assassinated, murder...             True   \n",
       "3    [repeat, attempts, communicate, users, blocked...             True   \n",
       "4    [false, misleading, information, links, low, q...             True   \n",
       "..                                                 ...              ...   \n",
       "681                                                 []             True   \n",
       "682                                                 []            False   \n",
       "683                                                 []            False   \n",
       "684                                                 []            False   \n",
       "685                                                 []            False   \n",
       "\n",
       "                                                 rules  \\\n",
       "0    [sexually, explicit, violent, medium, must, ma...   \n",
       "1    [racism, sexism, homophobia, transphobia, able...   \n",
       "2    [incitement, violence, promotion, violent, ide...   \n",
       "3    [harassment, block, evasion, dogpiling, doxxin...   \n",
       "4    [share, information, widely, known, false, mis...   \n",
       "..                                                 ...   \n",
       "681                 [agree, community, rule, instance]   \n",
       "682  [incomplete, nonsensical, response, result, re...   \n",
       "683           [detailed, community, rule, please, see]   \n",
       "684                                   [http, wxw, moe]   \n",
       "685  [using, instance, agree, rule, policy, please,...   \n",
       "\n",
       "                                             rules_str  \n",
       "0    sexually explicit violent medium must marked s...  \n",
       "1    racism sexism homophobia transphobia ableism x...  \n",
       "2    incitement violence promotion violent ideology...  \n",
       "3    harassment block evasion dogpiling doxxing oth...  \n",
       "4    share information widely known false misleadin...  \n",
       "..                                                 ...  \n",
       "681                      agree community rule instance  \n",
       "682   incomplete nonsensical response result rejection  \n",
       "683                 detailed community rule please see  \n",
       "684                                       http wxw moe  \n",
       "685  using instance agree rule policy please sure r...  \n",
       "\n",
       "[686 rows x 7 columns]"
      ]
     },
     "execution_count": 108,
     "metadata": {},
     "output_type": "execute_result"
    }
   ],
   "source": [
    "nlp_df"
   ]
  },
  {
   "cell_type": "code",
   "execution_count": 126,
   "id": "aa294ad5",
   "metadata": {},
   "outputs": [
    {
     "data": {
      "text/plain": [
       "array([  0,   1,   2,   3,   5,   7,   8,  10,  11,  13,  14,  17,  18,\n",
       "        19,  22,  24,  25,  26,  29,  31,  32,  34,  36,  37,  38,  40,\n",
       "        42,  44,  45,  47,  48,  49,  52,  61,  63,  64,  67,  68,  69,\n",
       "        71,  73,  76,  77,  78,  80,  84,  85,  87,  88,  90,  91,  93,\n",
       "        94,  96,  97, 100, 104, 107, 109, 110, 111, 112, 114, 117, 118,\n",
       "       119, 120, 121, 122, 123, 126, 127, 128, 129, 130, 133, 134, 135,\n",
       "       137, 139])"
      ]
     },
     "execution_count": 126,
     "metadata": {},
     "output_type": "execute_result"
    }
   ],
   "source": [
    "english_servers = nlp_df[\"server_id\"].unique()\n",
    "english_servers"
   ]
  },
  {
   "cell_type": "code",
   "execution_count": 109,
   "id": "6fef2fac",
   "metadata": {},
   "outputs": [
    {
     "name": "stdout",
     "output_type": "stream",
     "text": [
      "\n",
      "Clusters of servers based on their rules topics:\n",
      "\n",
      "Cluster 0:\n",
      "                domain  total_users\n",
      "0      mastodon.social      2711879\n",
      "1         mstdn.social       260323\n",
      "5         hachyderm.io        56318\n",
      "9          mastodon.nl        43744\n",
      "15            mamot.fr        39731\n",
      "44      mstdn.business        27114\n",
      "10    social.tchncs.de        22825\n",
      "61      glasgow.social        14907\n",
      "12       norden.social        13802\n",
      "29  social.linux.pizza        11992\n",
      "50       hostux.social         8518\n",
      "37      nerdculture.de         7163\n",
      "78           oslo.town         2374\n",
      "68             vmst.io         1230\n",
      "63     mastoart.social          654\n",
      "\n",
      "Cluster 1:\n",
      "                    domain  total_users\n",
      "8           techhub.social        83099\n",
      "13          mastodonapp.uk        80374\n",
      "24             ohai.social        40004\n",
      "19             sfba.social        39192\n",
      "18                mstdn.ca        35494\n",
      "7   mastodon.gamedev.place        33441\n",
      "22           mastodon.scot        29106\n",
      "42                masto.nu        24284\n",
      "25             mastodon.ie        21213\n",
      "38                 ieji.de        15114\n",
      "34          mastodon.green        12004\n",
      "32        flipboard.social         7482\n",
      "49        urbanists.social         6398\n",
      "69             union.place         5884\n",
      "40          metalhead.club         5776\n",
      "67         cupoftea.social         5427\n",
      "52          mastodon.me.uk         2698\n",
      "54         freiburg.social         2674\n",
      "71          gaygeek.social         2016\n",
      "\n",
      "Cluster 2:\n",
      "              domain  total_users\n",
      "73  freeradical.zone         2893\n",
      "\n",
      "Cluster 3:\n",
      "               domain  total_users\n",
      "26      defcon.social        15536\n",
      "36    indieweb.social        11825\n",
      "33  livellosegreto.it         7673\n",
      "47       sunny.garden         2728\n",
      "\n",
      "Cluster 4:\n",
      "                domain  total_users\n",
      "3               mas.to       183608\n",
      "14    universeodon.com        81677\n",
      "2     infosec.exchange        75725\n",
      "17                c.im        67782\n",
      "11    kolektiva.social        40004\n",
      "45     ravenation.club        27827\n",
      "31      social.cologne        12065\n",
      "48           bark.lgbt         6377\n",
      "57  rheinneckar.social         3528\n",
      "64  peoplemaking.games         3027\n",
      "58          mastoot.fr         1880\n",
      "77        famichiki.jp         1544\n",
      "76           woof.tech          717\n"
     ]
    }
   ],
   "source": [
    "from sklearn.cluster import KMeans\n",
    "from sklearn.preprocessing import StandardScaler\n",
    "\n",
    "all_rules_per_server = nlp_df.groupby('server_id').agg({'rules_str': list}).reset_index(drop=False)\n",
    "    \n",
    "\n",
    "def cluster_on_topic(one_doc_per_server_df, topic_model, n_clusters=5):\n",
    "    # Create a document-topic matrix\n",
    "    servers_topics = {}\n",
    "    # one doc = all rules of a server\n",
    "    for idx, (server_id, document) in one_doc_per_server_df.iterrows():\n",
    "        # Get topics for all rules of this server\n",
    "        server_topics, _ = topic_model.transform(document)\n",
    "        # Count frequency of each topic\n",
    "        topic_freq = pd.Series(server_topics).value_counts(normalize=True)\n",
    "        servers_topics[idx] = topic_freq\n",
    "\n",
    "    # Convert to matrix format\n",
    "    topic_info = topic_model.get_topic_info()\n",
    "    n_topics = len(topic_info[topic_info['Topic'] != -1])  # Exclude -1 for outliers\n",
    "    topic_matrix = np.zeros((len(servers_topics), n_topics))\n",
    "\n",
    "    for i, (server, topics) in enumerate(servers_topics.items()):\n",
    "        for topic_idx, freq in topics.items():\n",
    "            if topic_idx != -1:  # Skip outlier topic\n",
    "                topic_matrix[i, topic_idx] = freq\n",
    "\n",
    "    # Perform clustering\n",
    "\n",
    "    # Scale the features\n",
    "    scaler = StandardScaler()\n",
    "    topic_matrix_scaled = scaler.fit_transform(topic_matrix)\n",
    "\n",
    "    # Apply K-means clustering\n",
    "    n_clusters = 5  # You can adjust this number\n",
    "    kmeans = KMeans(n_clusters=n_clusters, random_state=42)\n",
    "    clusters = kmeans.fit_predict(topic_matrix_scaled)\n",
    "\n",
    "    # Create dataframe with results\n",
    "    cluster_results = pd.DataFrame({\n",
    "        'server_id': list(servers_topics.keys()),\n",
    "        'cluster': clusters\n",
    "    })\n",
    "\n",
    "    # Merge with original data to get server info\n",
    "    server_clusters = cluster_results.merge(\n",
    "        df_mastodon_en[['domain', 'title', 'total_users']], \n",
    "        left_on='server_id', \n",
    "        right_index=True\n",
    "    )\n",
    "\n",
    "    # Display results sorted by cluster\n",
    "    print(\"\\nClusters of servers based on their rules topics:\")\n",
    "    for cluster in range(n_clusters):\n",
    "        print(f\"\\nCluster {cluster}:\")\n",
    "        cluster_servers = server_clusters[server_clusters['cluster'] == cluster]\n",
    "        print(cluster_servers[['domain', 'total_users']].sort_values('total_users', ascending=False))\n",
    "\n",
    "    return server_clusters\n",
    "\n",
    "server_clusters = cluster_on_topic(all_rules_per_server, topic_model, n_clusters=5)"
   ]
  },
  {
   "cell_type": "code",
   "execution_count": 110,
   "id": "c27d5f50",
   "metadata": {},
   "outputs": [],
   "source": [
    "# Export the results to a CSV file\n",
    "export_to_csv = False\n",
    "if export_to_csv:\n",
    "    print(\"\\nExporting server clusters to 'server_clusters.csv'...\")\n",
    "    server_clusters.to_csv('server_clusters.csv', index=False)"
   ]
  },
  {
   "cell_type": "code",
   "execution_count": 111,
   "id": "dfd1d4cf",
   "metadata": {},
   "outputs": [],
   "source": [
    "# how many"
   ]
  },
  {
   "cell_type": "code",
   "execution_count": 112,
   "id": "ab36514e",
   "metadata": {},
   "outputs": [],
   "source": [
    "# heat map of the topics from rules and topics from description"
   ]
  },
  {
   "cell_type": "markdown",
   "id": "1902a597",
   "metadata": {},
   "source": [
    "### Clustering on server description"
   ]
  },
  {
   "cell_type": "code",
   "execution_count": 129,
   "id": "e6205fbe",
   "metadata": {},
   "outputs": [
    {
     "data": {
      "application/vnd.microsoft.datawrangler.viewer.v0+json": {
       "columns": [
        {
         "name": "index",
         "rawType": "int64",
         "type": "integer"
        },
        {
         "name": "server_id",
         "rawType": "int64",
         "type": "integer"
        },
        {
         "name": "description",
         "rawType": "object",
         "type": "string"
        }
       ],
       "ref": "5fc35d6f-6cba-415a-9f04-1493a2acde4c",
       "rows": [
        [
         "0",
         "0",
         "original server operated mastodon ggmbh non profit"
        ],
        [
         "1",
         "1",
         "general purpose mastodon server 500 character limit languages welcome"
        ],
        [
         "2",
         "2",
         "mastodon instance info cyber security minded people"
        ],
        [
         "3",
         "3",
         "hello mas fast date fun mastodon server"
        ],
        [
         "5",
         "5",
         "hachyderm safe space lgbtqia blm primarily comprised tech industry professionals world wide note many non user account types restrictions please see page"
        ],
        [
         "7",
         "7",
         "mastodon server focused game development related topics"
        ],
        [
         "8",
         "8",
         "hub primarily passionate technologists everyone welcome"
        ],
        [
         "10",
         "10",
         "friendly server germany tends attract techy people welcomes everybody one oldest mastodon instances"
        ],
        [
         "11",
         "11",
         "kolektiva anti colonial anarchist collective offers federated social media anarchist collectives individuals fediverse social movements liberation"
        ],
        [
         "13",
         "13",
         "uk hosted managed mastodon instance general communal space discussion everyone welcome 1000 character limit posts"
        ],
        [
         "14",
         "14",
         "one fediverse join millions humans building creating collaborating mastodon social network supports 1000 character posts"
        ],
        [
         "17",
         "17",
         "c im general mainly english speaking mastodon instance"
        ],
        [
         "18",
         "18",
         "community canadians first nations metis inuit peoples great white north"
        ],
        [
         "19",
         "19",
         "mastodon instance san francisco bay area come join us"
        ],
        [
         "22",
         "22",
         "server intended limited users scotland identify scottish"
        ],
        [
         "24",
         "24",
         "cozy fast secure mastodon server everyone welcome run folks ohai"
        ],
        [
         "25",
         "25",
         "irish mastodon run ireland welcome respect community rules members"
        ],
        [
         "26",
         "26",
         "defcon social intersection technology society community artists hackers policy academics researchers infosec activists cyberpunks"
        ],
        [
         "29",
         "29",
         "instance dedicated limited people interest gnu linux ecosystem general tech sysadmins enthusiasts creators movielovers welcome"
        ],
        [
         "31",
         "31",
         "social cologne eine mastodon instanz f r jede n k lner und alle die sich mit k ln verbunden f hlen betrieben von https cgnfs de"
        ],
        [
         "32",
         "32",
         "welcome flipboard mastodon place community curators enthusiasts inform inspire like join please request invitation via sign page"
        ],
        [
         "34",
         "34",
         "plant trees use mastodon server originally people eu open anyone world"
        ],
        [
         "36",
         "36",
         "indieweb social instance focused evolution openweb indieweb fediverse mastodon humanetech calm technologies"
        ],
        [
         "37",
         "37",
         "excellent live humanism nazis hate speech nerds domain somewhat cool bots general languages de en fr nl es"
        ],
        [
         "38",
         "38",
         "ieji de generalistic mastodon instance goal fastest mastodon instance europe focus user privacy like usable via tor network"
        ],
        [
         "40",
         "40",
         "metalhead club mastodon instance hosted germany powered 100 green energy"
        ],
        [
         "42",
         "42",
         "general purpose mastodon server languages welcome english dutch spanish preferred"
        ],
        [
         "44",
         "44",
         "business friendly mastodon server open everyone interested contribute real name business brand startup build professional community hosted hetzner cloud helsinki"
        ],
        [
         "45",
         "45",
         "ravenation club instance ravers universe anyone listens electronic music welcome operated https cgnfs de"
        ],
        [
         "47",
         "47",
         "sunny garden community indie creators draw paint sculpt write design program play sing build anyone else thinks sounds like nice place"
        ],
        [
         "48",
         "48",
         "furry focused instance critters like bark lgbtq run friendly active moderation"
        ],
        [
         "49",
         "49",
         "server people like bikes transit walkable cities let get know"
        ],
        [
         "52",
         "52",
         "open user supported corporation free social media uk"
        ],
        [
         "61",
         "61",
         "place communities around glasgow scotland"
        ],
        [
         "63",
         "63",
         "mastoart social creative space share art part friendly creative community mastodon instance hosted germany runs 100 green energy"
        ],
        [
         "64",
         "64",
         "community folks celebrate craft creating interactive experiences whether working games around space games folks creatives call home"
        ],
        [
         "67",
         "67",
         "small community mastodon server casual chit chat uk based place good wholesome content open everyone pets photos music food popular topics"
        ],
        [
         "68",
         "68",
         "mastodon respectful technologists geeks nerds every type stripe"
        ],
        [
         "69",
         "69",
         "union place federated server union members organizations friends allies support labor labor rights place"
        ],
        [
         "71",
         "71",
         "server intended safe place lgbtqia individuals socialize lgbtqia join long ally"
        ],
        [
         "73",
         "73",
         "infosec privacy technology leftward politics cats dogs"
        ],
        [
         "76",
         "76",
         "queer tech furry instance open anyone fits atmosphere come"
        ],
        [
         "77",
         "77",
         "community driven server operated diverse group foreigners residing japan primarily english speakers community welcome users languages"
        ],
        [
         "78",
         "78",
         "online home people oslo norway gateway world"
        ],
        [
         "80",
         "80",
         "veganism social welcoming space internet vegans connect engage broader decentralized social media community"
        ],
        [
         "84",
         "84",
         "speak mind respect boston area open posting size 12k characters interesting things say cloudflare aggressive ai bot blocking threads federating"
        ],
        [
         "85",
         "85",
         "fediverse community musicians levels instruments regions languages genres"
        ],
        [
         "87",
         "87",
         "mastodon instance focusing hiking mountaineering climbing backpacking outdoors"
        ],
        [
         "88",
         "88",
         "another server furry community special features related higher quality images video instance check https furries club"
        ],
        [
         "90",
         "90",
         "mastodon instance run libreops"
        ]
       ],
       "shape": {
        "columns": 2,
        "rows": 79
       }
      },
      "text/html": [
       "<div>\n",
       "<style scoped>\n",
       "    .dataframe tbody tr th:only-of-type {\n",
       "        vertical-align: middle;\n",
       "    }\n",
       "\n",
       "    .dataframe tbody tr th {\n",
       "        vertical-align: top;\n",
       "    }\n",
       "\n",
       "    .dataframe thead th {\n",
       "        text-align: right;\n",
       "    }\n",
       "</style>\n",
       "<table border=\"1\" class=\"dataframe\">\n",
       "  <thead>\n",
       "    <tr style=\"text-align: right;\">\n",
       "      <th></th>\n",
       "      <th>server_id</th>\n",
       "      <th>description</th>\n",
       "    </tr>\n",
       "  </thead>\n",
       "  <tbody>\n",
       "    <tr>\n",
       "      <th>0</th>\n",
       "      <td>0</td>\n",
       "      <td>original server operated mastodon ggmbh non pr...</td>\n",
       "    </tr>\n",
       "    <tr>\n",
       "      <th>1</th>\n",
       "      <td>1</td>\n",
       "      <td>general purpose mastodon server 500 character ...</td>\n",
       "    </tr>\n",
       "    <tr>\n",
       "      <th>2</th>\n",
       "      <td>2</td>\n",
       "      <td>mastodon instance info cyber security minded p...</td>\n",
       "    </tr>\n",
       "    <tr>\n",
       "      <th>3</th>\n",
       "      <td>3</td>\n",
       "      <td>hello mas fast date fun mastodon server</td>\n",
       "    </tr>\n",
       "    <tr>\n",
       "      <th>5</th>\n",
       "      <td>5</td>\n",
       "      <td>hachyderm safe space lgbtqia blm primarily com...</td>\n",
       "    </tr>\n",
       "    <tr>\n",
       "      <th>...</th>\n",
       "      <td>...</td>\n",
       "      <td>...</td>\n",
       "    </tr>\n",
       "    <tr>\n",
       "      <th>133</th>\n",
       "      <td>133</td>\n",
       "      <td>community open whilst intended people identify...</td>\n",
       "    </tr>\n",
       "    <tr>\n",
       "      <th>134</th>\n",
       "      <td>134</td>\n",
       "      <td>newfoundland labrador mastodon server</td>\n",
       "    </tr>\n",
       "    <tr>\n",
       "      <th>135</th>\n",
       "      <td>135</td>\n",
       "      <td>ceilidh online meant safe gathering place like...</td>\n",
       "    </tr>\n",
       "    <tr>\n",
       "      <th>137</th>\n",
       "      <td>137</td>\n",
       "      <td>safe space tech centered lgbtqi folks furries ...</td>\n",
       "    </tr>\n",
       "    <tr>\n",
       "      <th>139</th>\n",
       "      <td>139</td>\n",
       "      <td>acgn</td>\n",
       "    </tr>\n",
       "  </tbody>\n",
       "</table>\n",
       "<p>79 rows × 2 columns</p>\n",
       "</div>"
      ],
      "text/plain": [
       "     server_id                                        description\n",
       "0            0  original server operated mastodon ggmbh non pr...\n",
       "1            1  general purpose mastodon server 500 character ...\n",
       "2            2  mastodon instance info cyber security minded p...\n",
       "3            3            hello mas fast date fun mastodon server\n",
       "5            5  hachyderm safe space lgbtqia blm primarily com...\n",
       "..         ...                                                ...\n",
       "133        133  community open whilst intended people identify...\n",
       "134        134              newfoundland labrador mastodon server\n",
       "135        135  ceilidh online meant safe gathering place like...\n",
       "137        137  safe space tech centered lgbtqi folks furries ...\n",
       "139        139                                               acgn\n",
       "\n",
       "[79 rows x 2 columns]"
      ]
     },
     "execution_count": 129,
     "metadata": {},
     "output_type": "execute_result"
    }
   ],
   "source": [
    "mastodon_serv_descr = mastodon.df_en[[\"server_id\", \"description\"]].copy()\n",
    "\n",
    "# keep only english servers\n",
    "english_servers = english_servers[english_servers != 93] # we remove server 93 since its descr is not in english\n",
    "mastodon_serv_descr = mastodon_serv_descr[mastodon_serv_descr[\"server_id\"].isin(english_servers)]\n",
    "\n",
    "def _remove_empty(x):\n",
    "        if isinstance(x, list) and len(x) > 0:\n",
    "            return [item for item in x if item != '']\n",
    "        return x\n",
    "\n",
    "mastodon_serv_descr[\"description\"] = mastodon_serv_descr[\"description\"].apply(lambda x: x.strip() if isinstance(x, str) else x)\n",
    "mastodon_serv_descr[\"description\"] = mastodon_serv_descr[\"description\"].str.lower()\n",
    "mastodon_serv_descr[\"description\"] = mastodon_serv_descr[\"description\"].str.replace(r\"[^a-zA-Z0-9\\s]\", \" \", regex=True)\n",
    "mastodon_serv_descr[\"description\"] = mastodon_serv_descr[\"description\"].str.replace(r\"\\s+\", \" \", regex=True).str.strip()\n",
    "mastodon_serv_descr[\"description\"] = mastodon_serv_descr[\"description\"].str.split(\" \")\n",
    "mastodon_serv_descr[\"description\"] = mastodon_serv_descr[\"description\"].apply(_remove_empty)\n",
    "mastodon_serv_descr[\"description\"] = mastodon_serv_descr[\"description\"].apply(lambda words: [word for word in words if word not in stop_words] if isinstance(words, list) else words)\n",
    "mastodon_serv_descr[\"description\"] = mastodon_serv_descr[\"description\"].apply(lambda words: [word for word in words if word not in stop_words] if isinstance(words, list) else words)\n",
    "mastodon_serv_descr[\"description\"] = mastodon_serv_descr[\"description\"].apply(lambda x: ' '.join(x))\n",
    "mastodon_serv_descr"
   ]
  },
  {
   "cell_type": "code",
   "execution_count": 137,
   "id": "e4512fb4",
   "metadata": {},
   "outputs": [
    {
     "name": "stdout",
     "output_type": "stream",
     "text": [
      "Help on class UMAP in module umap.umap_:\n",
      "\n",
      "class UMAP(sklearn.base.BaseEstimator)\n",
      " |  UMAP(\n",
      " |      n_neighbors=15,\n",
      " |      n_components=2,\n",
      " |      metric='euclidean',\n",
      " |      metric_kwds=None,\n",
      " |      output_metric='euclidean',\n",
      " |      output_metric_kwds=None,\n",
      " |      n_epochs=None,\n",
      " |      learning_rate=1.0,\n",
      " |      init='spectral',\n",
      " |      min_dist=0.1,\n",
      " |      spread=1.0,\n",
      " |      low_memory=True,\n",
      " |      n_jobs=-1,\n",
      " |      set_op_mix_ratio=1.0,\n",
      " |      local_connectivity=1.0,\n",
      " |      repulsion_strength=1.0,\n",
      " |      negative_sample_rate=5,\n",
      " |      transform_queue_size=4.0,\n",
      " |      a=None,\n",
      " |      b=None,\n",
      " |      random_state=None,\n",
      " |      angular_rp_forest=False,\n",
      " |      target_n_neighbors=-1,\n",
      " |      target_metric='categorical',\n",
      " |      target_metric_kwds=None,\n",
      " |      target_weight=0.5,\n",
      " |      transform_seed=42,\n",
      " |      transform_mode='embedding',\n",
      " |      force_approximation_algorithm=False,\n",
      " |      verbose=False,\n",
      " |      tqdm_kwds=None,\n",
      " |      unique=False,\n",
      " |      densmap=False,\n",
      " |      dens_lambda=2.0,\n",
      " |      dens_frac=0.3,\n",
      " |      dens_var_shift=0.1,\n",
      " |      output_dens=False,\n",
      " |      disconnection_distance=None,\n",
      " |      precomputed_knn=(None, None, None)\n",
      " |  )\n",
      " |\n",
      " |  Uniform Manifold Approximation and Projection\n",
      " |\n",
      " |  Finds a low dimensional embedding of the data that approximates\n",
      " |  an underlying manifold.\n",
      " |\n",
      " |  Parameters\n",
      " |  ----------\n",
      " |  n_neighbors: float (optional, default 15)\n",
      " |      The size of local neighborhood (in terms of number of neighboring\n",
      " |      sample points) used for manifold approximation. Larger values\n",
      " |      result in more global views of the manifold, while smaller\n",
      " |      values result in more local data being preserved. In general\n",
      " |      values should be in the range 2 to 100.\n",
      " |\n",
      " |  n_components: int (optional, default 2)\n",
      " |      The dimension of the space to embed into. This defaults to 2 to\n",
      " |      provide easy visualization, but can reasonably be set to any\n",
      " |      integer value in the range 2 to 100.\n",
      " |\n",
      " |  metric: string or function (optional, default 'euclidean')\n",
      " |      The metric to use to compute distances in high dimensional space.\n",
      " |      If a string is passed it must match a valid predefined metric. If\n",
      " |      a general metric is required a function that takes two 1d arrays and\n",
      " |      returns a float can be provided. For performance purposes it is\n",
      " |      required that this be a numba jit'd function. Valid string metrics\n",
      " |      include:\n",
      " |\n",
      " |      * euclidean\n",
      " |      * manhattan\n",
      " |      * chebyshev\n",
      " |      * minkowski\n",
      " |      * canberra\n",
      " |      * braycurtis\n",
      " |      * mahalanobis\n",
      " |      * wminkowski\n",
      " |      * seuclidean\n",
      " |      * cosine\n",
      " |      * correlation\n",
      " |      * haversine\n",
      " |      * hamming\n",
      " |      * jaccard\n",
      " |      * dice\n",
      " |      * russelrao\n",
      " |      * kulsinski\n",
      " |      * ll_dirichlet\n",
      " |      * hellinger\n",
      " |      * rogerstanimoto\n",
      " |      * sokalmichener\n",
      " |      * sokalsneath\n",
      " |      * yule\n",
      " |\n",
      " |      Metrics that take arguments (such as minkowski, mahalanobis etc.)\n",
      " |      can have arguments passed via the metric_kwds dictionary. At this\n",
      " |      time care must be taken and dictionary elements must be ordered\n",
      " |      appropriately; this will hopefully be fixed in the future.\n",
      " |\n",
      " |  n_epochs: int (optional, default None)\n",
      " |      The number of training epochs to be used in optimizing the\n",
      " |      low dimensional embedding. Larger values result in more accurate\n",
      " |      embeddings. If None is specified a value will be selected based on\n",
      " |      the size of the input dataset (200 for large datasets, 500 for small).\n",
      " |\n",
      " |  learning_rate: float (optional, default 1.0)\n",
      " |      The initial learning rate for the embedding optimization.\n",
      " |\n",
      " |  init: string (optional, default 'spectral')\n",
      " |      How to initialize the low dimensional embedding. Options are:\n",
      " |\n",
      " |          * 'spectral': use a spectral embedding of the fuzzy 1-skeleton\n",
      " |          * 'random': assign initial embedding positions at random.\n",
      " |          * 'pca': use the first n_components from PCA applied to the\n",
      " |              input data.\n",
      " |          * 'tswspectral': use a spectral embedding of the fuzzy\n",
      " |              1-skeleton, using a truncated singular value decomposition to\n",
      " |              \"warm\" up the eigensolver. This is intended as an alternative\n",
      " |              to the 'spectral' method, if that takes an  excessively long\n",
      " |              time to complete initialization (or fails to complete).\n",
      " |          * A numpy array of initial embedding positions.\n",
      " |\n",
      " |  min_dist: float (optional, default 0.1)\n",
      " |      The effective minimum distance between embedded points. Smaller values\n",
      " |      will result in a more clustered/clumped embedding where nearby points\n",
      " |      on the manifold are drawn closer together, while larger values will\n",
      " |      result on a more even dispersal of points. The value should be set\n",
      " |      relative to the ``spread`` value, which determines the scale at which\n",
      " |      embedded points will be spread out.\n",
      " |\n",
      " |  spread: float (optional, default 1.0)\n",
      " |      The effective scale of embedded points. In combination with ``min_dist``\n",
      " |      this determines how clustered/clumped the embedded points are.\n",
      " |\n",
      " |  low_memory: bool (optional, default True)\n",
      " |      For some datasets the nearest neighbor computation can consume a lot of\n",
      " |      memory. If you find that UMAP is failing due to memory constraints\n",
      " |      consider setting this option to True. This approach is more\n",
      " |      computationally expensive, but avoids excessive memory use.\n",
      " |\n",
      " |  set_op_mix_ratio: float (optional, default 1.0)\n",
      " |      Interpolate between (fuzzy) union and intersection as the set operation\n",
      " |      used to combine local fuzzy simplicial sets to obtain a global fuzzy\n",
      " |      simplicial sets. Both fuzzy set operations use the product t-norm.\n",
      " |      The value of this parameter should be between 0.0 and 1.0; a value of\n",
      " |      1.0 will use a pure fuzzy union, while 0.0 will use a pure fuzzy\n",
      " |      intersection.\n",
      " |\n",
      " |  local_connectivity: int (optional, default 1)\n",
      " |      The local connectivity required -- i.e. the number of nearest\n",
      " |      neighbors that should be assumed to be connected at a local level.\n",
      " |      The higher this value the more connected the manifold becomes\n",
      " |      locally. In practice this should be not more than the local intrinsic\n",
      " |      dimension of the manifold.\n",
      " |\n",
      " |  repulsion_strength: float (optional, default 1.0)\n",
      " |      Weighting applied to negative samples in low dimensional embedding\n",
      " |      optimization. Values higher than one will result in greater weight\n",
      " |      being given to negative samples.\n",
      " |\n",
      " |  negative_sample_rate: int (optional, default 5)\n",
      " |      The number of negative samples to select per positive sample\n",
      " |      in the optimization process. Increasing this value will result\n",
      " |      in greater repulsive force being applied, greater optimization\n",
      " |      cost, but slightly more accuracy.\n",
      " |\n",
      " |  transform_queue_size: float (optional, default 4.0)\n",
      " |      For transform operations (embedding new points using a trained model\n",
      " |      this will control how aggressively to search for nearest neighbors.\n",
      " |      Larger values will result in slower performance but more accurate\n",
      " |      nearest neighbor evaluation.\n",
      " |\n",
      " |  a: float (optional, default None)\n",
      " |      More specific parameters controlling the embedding. If None these\n",
      " |      values are set automatically as determined by ``min_dist`` and\n",
      " |      ``spread``.\n",
      " |  b: float (optional, default None)\n",
      " |      More specific parameters controlling the embedding. If None these\n",
      " |      values are set automatically as determined by ``min_dist`` and\n",
      " |      ``spread``.\n",
      " |\n",
      " |  random_state: int, RandomState instance or None, optional (default: None)\n",
      " |      If int, random_state is the seed used by the random number generator;\n",
      " |      If RandomState instance, random_state is the random number generator;\n",
      " |      If None, the random number generator is the RandomState instance used\n",
      " |      by `np.random`.\n",
      " |\n",
      " |  metric_kwds: dict (optional, default None)\n",
      " |      Arguments to pass on to the metric, such as the ``p`` value for\n",
      " |      Minkowski distance. If None then no arguments are passed on.\n",
      " |\n",
      " |  angular_rp_forest: bool (optional, default False)\n",
      " |      Whether to use an angular random projection forest to initialise\n",
      " |      the approximate nearest neighbor search. This can be faster, but is\n",
      " |      mostly only useful for a metric that uses an angular style distance such\n",
      " |      as cosine, correlation etc. In the case of those metrics angular forests\n",
      " |      will be chosen automatically.\n",
      " |\n",
      " |  target_n_neighbors: int (optional, default -1)\n",
      " |      The number of nearest neighbors to use to construct the target simplicial\n",
      " |      set. If set to -1 use the ``n_neighbors`` value.\n",
      " |\n",
      " |  target_metric: string or callable (optional, default 'categorical')\n",
      " |      The metric used to measure distance for a target array is using supervised\n",
      " |      dimension reduction. By default this is 'categorical' which will measure\n",
      " |      distance in terms of whether categories match or are different. Furthermore,\n",
      " |      if semi-supervised is required target values of -1 will be trated as\n",
      " |      unlabelled under the 'categorical' metric. If the target array takes\n",
      " |      continuous values (e.g. for a regression problem) then metric of 'l1'\n",
      " |      or 'l2' is probably more appropriate.\n",
      " |\n",
      " |  target_metric_kwds: dict (optional, default None)\n",
      " |      Keyword argument to pass to the target metric when performing\n",
      " |      supervised dimension reduction. If None then no arguments are passed on.\n",
      " |\n",
      " |  target_weight: float (optional, default 0.5)\n",
      " |      weighting factor between data topology and target topology. A value of\n",
      " |      0.0 weights predominantly on data, a value of 1.0 places a strong emphasis on\n",
      " |      target. The default of 0.5 balances the weighting equally between data and\n",
      " |      target.\n",
      " |\n",
      " |  transform_seed: int (optional, default 42)\n",
      " |      Random seed used for the stochastic aspects of the transform operation.\n",
      " |      This ensures consistency in transform operations.\n",
      " |\n",
      " |  verbose: bool (optional, default False)\n",
      " |      Controls verbosity of logging.\n",
      " |\n",
      " |  tqdm_kwds: dict (optional, defaul None)\n",
      " |      Key word arguments to be used by the tqdm progress bar.\n",
      " |\n",
      " |  unique: bool (optional, default False)\n",
      " |      Controls if the rows of your data should be uniqued before being\n",
      " |      embedded.  If you have more duplicates than you have ``n_neighbors``\n",
      " |      you can have the identical data points lying in different regions of\n",
      " |      your space.  It also violates the definition of a metric.\n",
      " |      For to map from internal structures back to your data use the variable\n",
      " |      _unique_inverse_.\n",
      " |\n",
      " |  densmap: bool (optional, default False)\n",
      " |      Specifies whether the density-augmented objective of densMAP\n",
      " |      should be used for optimization. Turning on this option generates\n",
      " |      an embedding where the local densities are encouraged to be correlated\n",
      " |      with those in the original space. Parameters below with the prefix 'dens'\n",
      " |      further control the behavior of this extension.\n",
      " |\n",
      " |  dens_lambda: float (optional, default 2.0)\n",
      " |      Controls the regularization weight of the density correlation term\n",
      " |      in densMAP. Higher values prioritize density preservation over the\n",
      " |      UMAP objective, and vice versa for values closer to zero. Setting this\n",
      " |      parameter to zero is equivalent to running the original UMAP algorithm.\n",
      " |\n",
      " |  dens_frac: float (optional, default 0.3)\n",
      " |      Controls the fraction of epochs (between 0 and 1) where the\n",
      " |      density-augmented objective is used in densMAP. The first\n",
      " |      (1 - dens_frac) fraction of epochs optimize the original UMAP objective\n",
      " |      before introducing the density correlation term.\n",
      " |\n",
      " |  dens_var_shift: float (optional, default 0.1)\n",
      " |      A small constant added to the variance of local radii in the\n",
      " |      embedding when calculating the density correlation objective to\n",
      " |      prevent numerical instability from dividing by a small number\n",
      " |\n",
      " |  output_dens: float (optional, default False)\n",
      " |      Determines whether the local radii of the final embedding (an inverse\n",
      " |      measure of local density) are computed and returned in addition to\n",
      " |      the embedding. If set to True, local radii of the original data\n",
      " |      are also included in the output for comparison; the output is a tuple\n",
      " |      (embedding, original local radii, embedding local radii). This option\n",
      " |      can also be used when densmap=False to calculate the densities for\n",
      " |      UMAP embeddings.\n",
      " |\n",
      " |  disconnection_distance: float (optional, default np.inf or maximal value for bounded distances)\n",
      " |      Disconnect any vertices of distance greater than or equal to disconnection_distance when approximating the\n",
      " |      manifold via our k-nn graph. This is particularly useful in the case that you have a bounded metric.  The\n",
      " |      UMAP assumption that we have a connected manifold can be problematic when you have points that are maximally\n",
      " |      different from all the rest of your data.  The connected manifold assumption will make such points have perfect\n",
      " |      similarity to a random set of other points.  Too many such points will artificially connect your space.\n",
      " |\n",
      " |  precomputed_knn: tuple (optional, default (None,None,None))\n",
      " |      If the k-nearest neighbors of each point has already been calculated you\n",
      " |      can pass them in here to save computation time. The number of nearest\n",
      " |      neighbors in the precomputed_knn must be greater or equal to the\n",
      " |      n_neighbors parameter. This should be a tuple containing the output\n",
      " |      of the nearest_neighbors() function or attributes from a previously fit\n",
      " |      UMAP object; (knn_indices, knn_dists, knn_search_index). If you wish to use\n",
      " |      k-nearest neighbors data calculated by another package then provide a tuple of\n",
      " |      the form (knn_indices, knn_dists). The contents of the tuple should be two numpy\n",
      " |      arrays of shape (N, n_neighbors) where N is the number of items in the\n",
      " |      input data. The first array should be the integer indices of the nearest\n",
      " |      neighbors, and the second array should be the corresponding distances. The\n",
      " |      nearest neighbor of each item should be itself, e.g. the nearest neighbor of\n",
      " |      item 0 should be 0, the nearest neighbor of item 1 is 1 and so on. Please note\n",
      " |      that you will *not* be able to transform new data in this case.\n",
      " |\n",
      " |  Method resolution order:\n",
      " |      UMAP\n",
      " |      sklearn.base.BaseEstimator\n",
      " |      sklearn.utils._estimator_html_repr._HTMLDocumentationLinkMixin\n",
      " |      sklearn.utils._metadata_requests._MetadataRequester\n",
      " |      builtins.object\n",
      " |\n",
      " |  Methods defined here:\n",
      " |\n",
      " |  __add__(self, other)\n",
      " |\n",
      " |  __init__(\n",
      " |      self,\n",
      " |      n_neighbors=15,\n",
      " |      n_components=2,\n",
      " |      metric='euclidean',\n",
      " |      metric_kwds=None,\n",
      " |      output_metric='euclidean',\n",
      " |      output_metric_kwds=None,\n",
      " |      n_epochs=None,\n",
      " |      learning_rate=1.0,\n",
      " |      init='spectral',\n",
      " |      min_dist=0.1,\n",
      " |      spread=1.0,\n",
      " |      low_memory=True,\n",
      " |      n_jobs=-1,\n",
      " |      set_op_mix_ratio=1.0,\n",
      " |      local_connectivity=1.0,\n",
      " |      repulsion_strength=1.0,\n",
      " |      negative_sample_rate=5,\n",
      " |      transform_queue_size=4.0,\n",
      " |      a=None,\n",
      " |      b=None,\n",
      " |      random_state=None,\n",
      " |      angular_rp_forest=False,\n",
      " |      target_n_neighbors=-1,\n",
      " |      target_metric='categorical',\n",
      " |      target_metric_kwds=None,\n",
      " |      target_weight=0.5,\n",
      " |      transform_seed=42,\n",
      " |      transform_mode='embedding',\n",
      " |      force_approximation_algorithm=False,\n",
      " |      verbose=False,\n",
      " |      tqdm_kwds=None,\n",
      " |      unique=False,\n",
      " |      densmap=False,\n",
      " |      dens_lambda=2.0,\n",
      " |      dens_frac=0.3,\n",
      " |      dens_var_shift=0.1,\n",
      " |      output_dens=False,\n",
      " |      disconnection_distance=None,\n",
      " |      precomputed_knn=(None, None, None)\n",
      " |  )\n",
      " |      Initialize self.  See help(type(self)) for accurate signature.\n",
      " |\n",
      " |  __mul__(self, other)\n",
      " |\n",
      " |  __repr__(self)\n",
      " |      Return repr(self).\n",
      " |\n",
      " |  __sub__(self, other)\n",
      " |\n",
      " |  fit(self, X, y=None, force_all_finite=True, **kwargs)\n",
      " |      Fit X into an embedded space.\n",
      " |\n",
      " |      Optionally use y for supervised dimension reduction.\n",
      " |\n",
      " |      Parameters\n",
      " |      ----------\n",
      " |      X : array, shape (n_samples, n_features) or (n_samples, n_samples)\n",
      " |          If the metric is 'precomputed' X must be a square distance\n",
      " |          matrix. Otherwise it contains a sample per row. If the method\n",
      " |          is 'exact', X may be a sparse matrix of type 'csr', 'csc'\n",
      " |          or 'coo'.\n",
      " |\n",
      " |      y : array, shape (n_samples)\n",
      " |          A target array for supervised dimension reduction. How this is\n",
      " |          handled is determined by parameters UMAP was instantiated with.\n",
      " |          The relevant attributes are ``target_metric`` and\n",
      " |          ``target_metric_kwds``.\n",
      " |\n",
      " |      force_all_finite : Whether to raise an error on np.inf, np.nan, pd.NA in array.\n",
      " |          The possibilities are: - True: Force all values of array to be finite.\n",
      " |                                 - False: accepts np.inf, np.nan, pd.NA in array.\n",
      " |                                 - 'allow-nan': accepts only np.nan and pd.NA values in array.\n",
      " |                                   Values cannot be infinite.\n",
      " |\n",
      " |      **kwargs : optional\n",
      " |          Any additional keyword arguments are passed to _fit_embed_data.\n",
      " |\n",
      " |  fit_transform(self, X, y=None, force_all_finite=True, **kwargs)\n",
      " |      Fit X into an embedded space and return that transformed\n",
      " |      output.\n",
      " |\n",
      " |      Parameters\n",
      " |      ----------\n",
      " |      X : array, shape (n_samples, n_features) or (n_samples, n_samples)\n",
      " |          If the metric is 'precomputed' X must be a square distance\n",
      " |          matrix. Otherwise it contains a sample per row.\n",
      " |\n",
      " |      y : array, shape (n_samples)\n",
      " |          A target array for supervised dimension reduction. How this is\n",
      " |          handled is determined by parameters UMAP was instantiated with.\n",
      " |          The relevant attributes are ``target_metric`` and\n",
      " |          ``target_metric_kwds``.\n",
      " |\n",
      " |      force_all_finite : Whether to raise an error on np.inf, np.nan, pd.NA in array.\n",
      " |          The possibilities are: - True: Force all values of array to be finite.\n",
      " |                                 - False: accepts np.inf, np.nan, pd.NA in array.\n",
      " |                                 - 'allow-nan': accepts only np.nan and pd.NA values in array.\n",
      " |                                   Values cannot be infinite.\n",
      " |\n",
      " |      **kwargs : Any additional keyword arguments are passed to _fit_embed_data.\n",
      " |\n",
      " |      Returns\n",
      " |      -------\n",
      " |      X_new : array, shape (n_samples, n_components)\n",
      " |          Embedding of the training data in low-dimensional space.\n",
      " |\n",
      " |      or a tuple (X_new, r_orig, r_emb) if ``output_dens`` flag is set,\n",
      " |      which additionally includes:\n",
      " |\n",
      " |      r_orig: array, shape (n_samples)\n",
      " |          Local radii of data points in the original data space (log-transformed).\n",
      " |\n",
      " |      r_emb: array, shape (n_samples)\n",
      " |          Local radii of data points in the embedding (log-transformed).\n",
      " |\n",
      " |  get_feature_names_out(self, feature_names_out=None)\n",
      " |      Defines descriptive names for each output of the (fitted) estimator.\n",
      " |      :param feature_names_out: Optional passthrough for feature names.\n",
      " |      By default, feature names will be generated automatically.\n",
      " |      :return: List of descriptive names for each output variable from the fitted estimator.\n",
      " |\n",
      " |  inverse_transform(self, X)\n",
      " |      Transform X in the existing embedded space back into the input\n",
      " |      data space and return that transformed output.\n",
      " |\n",
      " |      Parameters\n",
      " |      ----------\n",
      " |      X : array, shape (n_samples, n_components)\n",
      " |          New points to be inverse transformed.\n",
      " |      Returns\n",
      " |      -------\n",
      " |      X_new : array, shape (n_samples, n_features)\n",
      " |          Generated data points new data in data space.\n",
      " |\n",
      " |  set_fit_request(\n",
      " |      self: umap.umap_.UMAP,\n",
      " |      *,\n",
      " |      force_all_finite: Union[bool, NoneType, str] = '$UNCHANGED$'\n",
      " |  ) -> umap.umap_.UMAP from sklearn.utils._metadata_requests.RequestMethod.__get__.<locals>\n",
      " |      Request metadata passed to the ``fit`` method.\n",
      " |\n",
      " |      Note that this method is only relevant if\n",
      " |      ``enable_metadata_routing=True`` (see :func:`sklearn.set_config`).\n",
      " |      Please see :ref:`User Guide <metadata_routing>` on how the routing\n",
      " |      mechanism works.\n",
      " |\n",
      " |      The options for each parameter are:\n",
      " |\n",
      " |      - ``True``: metadata is requested, and passed to ``fit`` if provided. The request is ignored if metadata is not provided.\n",
      " |\n",
      " |      - ``False``: metadata is not requested and the meta-estimator will not pass it to ``fit``.\n",
      " |\n",
      " |      - ``None``: metadata is not requested, and the meta-estimator will raise an error if the user provides it.\n",
      " |\n",
      " |      - ``str``: metadata should be passed to the meta-estimator with this given alias instead of the original name.\n",
      " |\n",
      " |      The default (``sklearn.utils.metadata_routing.UNCHANGED``) retains the\n",
      " |      existing request. This allows you to change the request for some\n",
      " |      parameters and not others.\n",
      " |\n",
      " |      .. versionadded:: 1.3\n",
      " |\n",
      " |      .. note::\n",
      " |          This method is only relevant if this estimator is used as a\n",
      " |          sub-estimator of a meta-estimator, e.g. used inside a\n",
      " |          :class:`~sklearn.pipeline.Pipeline`. Otherwise it has no effect.\n",
      " |\n",
      " |      Parameters\n",
      " |      ----------\n",
      " |      force_all_finite : str, True, False, or None,                     default=sklearn.utils.metadata_routing.UNCHANGED\n",
      " |          Metadata routing for ``force_all_finite`` parameter in ``fit``.\n",
      " |\n",
      " |      Returns\n",
      " |      -------\n",
      " |      self : object\n",
      " |          The updated object.\n",
      " |\n",
      " |  set_transform_request(\n",
      " |      self: umap.umap_.UMAP,\n",
      " |      *,\n",
      " |      force_all_finite: Union[bool, NoneType, str] = '$UNCHANGED$'\n",
      " |  ) -> umap.umap_.UMAP from sklearn.utils._metadata_requests.RequestMethod.__get__.<locals>\n",
      " |      Request metadata passed to the ``transform`` method.\n",
      " |\n",
      " |      Note that this method is only relevant if\n",
      " |      ``enable_metadata_routing=True`` (see :func:`sklearn.set_config`).\n",
      " |      Please see :ref:`User Guide <metadata_routing>` on how the routing\n",
      " |      mechanism works.\n",
      " |\n",
      " |      The options for each parameter are:\n",
      " |\n",
      " |      - ``True``: metadata is requested, and passed to ``transform`` if provided. The request is ignored if metadata is not provided.\n",
      " |\n",
      " |      - ``False``: metadata is not requested and the meta-estimator will not pass it to ``transform``.\n",
      " |\n",
      " |      - ``None``: metadata is not requested, and the meta-estimator will raise an error if the user provides it.\n",
      " |\n",
      " |      - ``str``: metadata should be passed to the meta-estimator with this given alias instead of the original name.\n",
      " |\n",
      " |      The default (``sklearn.utils.metadata_routing.UNCHANGED``) retains the\n",
      " |      existing request. This allows you to change the request for some\n",
      " |      parameters and not others.\n",
      " |\n",
      " |      .. versionadded:: 1.3\n",
      " |\n",
      " |      .. note::\n",
      " |          This method is only relevant if this estimator is used as a\n",
      " |          sub-estimator of a meta-estimator, e.g. used inside a\n",
      " |          :class:`~sklearn.pipeline.Pipeline`. Otherwise it has no effect.\n",
      " |\n",
      " |      Parameters\n",
      " |      ----------\n",
      " |      force_all_finite : str, True, False, or None,                     default=sklearn.utils.metadata_routing.UNCHANGED\n",
      " |          Metadata routing for ``force_all_finite`` parameter in ``transform``.\n",
      " |\n",
      " |      Returns\n",
      " |      -------\n",
      " |      self : object\n",
      " |          The updated object.\n",
      " |\n",
      " |  transform(self, X, force_all_finite=True)\n",
      " |      Transform X into the existing embedded space and return that\n",
      " |      transformed output.\n",
      " |\n",
      " |      Parameters\n",
      " |      ----------\n",
      " |      X : array, shape (n_samples, n_features)\n",
      " |          New data to be transformed.\n",
      " |\n",
      " |      force_all_finite : Whether to raise an error on np.inf, np.nan, pd.NA in array.\n",
      " |          The possibilities are: - True: Force all values of array to be finite.\n",
      " |                                 - False: accepts np.inf, np.nan, pd.NA in array.\n",
      " |                                 - 'allow-nan': accepts only np.nan and pd.NA values in array.\n",
      " |                                   Values cannot be infinite.\n",
      " |\n",
      " |      Returns\n",
      " |      -------\n",
      " |      X_new : array, shape (n_samples, n_components)\n",
      " |          Embedding of the new data in low-dimensional space.\n",
      " |\n",
      " |  update(self, X, force_all_finite=True)\n",
      " |\n",
      " |  ----------------------------------------------------------------------\n",
      " |  Methods inherited from sklearn.base.BaseEstimator:\n",
      " |\n",
      " |  __getstate__(self)\n",
      " |      Helper for pickle.\n",
      " |\n",
      " |  __setstate__(self, state)\n",
      " |\n",
      " |  __sklearn_clone__(self)\n",
      " |\n",
      " |  __sklearn_tags__(self)\n",
      " |\n",
      " |  get_params(self, deep=True)\n",
      " |      Get parameters for this estimator.\n",
      " |\n",
      " |      Parameters\n",
      " |      ----------\n",
      " |      deep : bool, default=True\n",
      " |          If True, will return the parameters for this estimator and\n",
      " |          contained subobjects that are estimators.\n",
      " |\n",
      " |      Returns\n",
      " |      -------\n",
      " |      params : dict\n",
      " |          Parameter names mapped to their values.\n",
      " |\n",
      " |  set_params(self, **params)\n",
      " |      Set the parameters of this estimator.\n",
      " |\n",
      " |      The method works on simple estimators as well as on nested objects\n",
      " |      (such as :class:`~sklearn.pipeline.Pipeline`). The latter have\n",
      " |      parameters of the form ``<component>__<parameter>`` so that it's\n",
      " |      possible to update each component of a nested object.\n",
      " |\n",
      " |      Parameters\n",
      " |      ----------\n",
      " |      **params : dict\n",
      " |          Estimator parameters.\n",
      " |\n",
      " |      Returns\n",
      " |      -------\n",
      " |      self : estimator instance\n",
      " |          Estimator instance.\n",
      " |\n",
      " |  ----------------------------------------------------------------------\n",
      " |  Data descriptors inherited from sklearn.utils._estimator_html_repr._HTMLDocumentationLinkMixin:\n",
      " |\n",
      " |  __dict__\n",
      " |      dictionary for instance variables\n",
      " |\n",
      " |  __weakref__\n",
      " |      list of weak references to the object\n",
      " |\n",
      " |  ----------------------------------------------------------------------\n",
      " |  Methods inherited from sklearn.utils._metadata_requests._MetadataRequester:\n",
      " |\n",
      " |  get_metadata_routing(self)\n",
      " |      Get metadata routing of this object.\n",
      " |\n",
      " |      Please check :ref:`User Guide <metadata_routing>` on how the routing\n",
      " |      mechanism works.\n",
      " |\n",
      " |      Returns\n",
      " |      -------\n",
      " |      routing : MetadataRequest\n",
      " |          A :class:`~sklearn.utils.metadata_routing.MetadataRequest` encapsulating\n",
      " |          routing information.\n",
      " |\n",
      " |  ----------------------------------------------------------------------\n",
      " |  Class methods inherited from sklearn.utils._metadata_requests._MetadataRequester:\n",
      " |\n",
      " |  __init_subclass__(**kwargs)\n",
      " |      Set the ``set_{method}_request`` methods.\n",
      " |\n",
      " |      This uses PEP-487 [1]_ to set the ``set_{method}_request`` methods. It\n",
      " |      looks for the information available in the set default values which are\n",
      " |      set using ``__metadata_request__*`` class attributes, or inferred\n",
      " |      from method signatures.\n",
      " |\n",
      " |      The ``__metadata_request__*`` class attributes are used when a method\n",
      " |      does not explicitly accept a metadata through its arguments or if the\n",
      " |      developer would like to specify a request value for those metadata\n",
      " |      which are different from the default ``None``.\n",
      " |\n",
      " |      References\n",
      " |      ----------\n",
      " |      .. [1] https://www.python.org/dev/peps/pep-0487\n",
      "\n"
     ]
    }
   ],
   "source": [
    "from umap import UMAP\n",
    "help(UMAP)"
   ]
  },
  {
   "cell_type": "code",
   "execution_count": 139,
   "id": "d678e701",
   "metadata": {},
   "outputs": [
    {
     "data": {
      "application/vnd.microsoft.datawrangler.viewer.v0+json": {
       "columns": [
        {
         "name": "index",
         "rawType": "int64",
         "type": "integer"
        },
        {
         "name": "Topic",
         "rawType": "int64",
         "type": "integer"
        },
        {
         "name": "Count",
         "rawType": "int64",
         "type": "integer"
        },
        {
         "name": "Name",
         "rawType": "object",
         "type": "string"
        },
        {
         "name": "Representation",
         "rawType": "object",
         "type": "unknown"
        },
        {
         "name": "Representative_Docs",
         "rawType": "object",
         "type": "unknown"
        }
       ],
       "ref": "4e6324fc-a605-4d49-90b8-71ea7e462dc7",
       "rows": [
        [
         "0",
         "-1",
         "17",
         "-1_community_forever_music_server",
         "['community', 'forever', 'music', 'server', 'languages', 'welcome', 'fediverse', 'open', 'singapore', 'kpop']",
         "['small community mastodon server casual chit chat uk based place good wholesome content open everyone pets photos music food popular topics', 'community driven server operated diverse group foreigners residing japan primarily english speakers community welcome users languages', 'fediverse home bts army kpop fans welcome share favourite music scream idol learn together fun drama bangtan forever army forever kpop forever']"
        ],
        [
         "1",
         "0",
         "36",
         "0_mastodon_instance_server_social",
         "['mastodon', 'instance', 'server', 'social', 'general', 'welcome', 'join', 'purpose', 'friendly', 'run']",
         "['uk hosted managed mastodon instance general communal space discussion everyone welcome 1000 character limit posts', 'general purpose mastodon server 500 character limit languages welcome', 'general purpose mastodon instance everyone']"
        ],
        [
         "2",
         "1",
         "26",
         "1_social_space_community_place",
         "['social', 'space', 'community', 'place', 'games', 'lgbtqia', 'safe', 'open', 'tech', 'folks']",
         "['server intended safe place lgbtqia individuals socialize lgbtqia join long ally', 'hachyderm safe space lgbtqia blm primarily comprised tech industry professionals world wide note many non user account types restrictions please see page', 'safe space tech centered lgbtqi folks furries short non descriptive join reasons get ip banned join spamming rules last updated 2023 08 4']"
        ]
       ],
       "shape": {
        "columns": 5,
        "rows": 3
       }
      },
      "text/html": [
       "<div>\n",
       "<style scoped>\n",
       "    .dataframe tbody tr th:only-of-type {\n",
       "        vertical-align: middle;\n",
       "    }\n",
       "\n",
       "    .dataframe tbody tr th {\n",
       "        vertical-align: top;\n",
       "    }\n",
       "\n",
       "    .dataframe thead th {\n",
       "        text-align: right;\n",
       "    }\n",
       "</style>\n",
       "<table border=\"1\" class=\"dataframe\">\n",
       "  <thead>\n",
       "    <tr style=\"text-align: right;\">\n",
       "      <th></th>\n",
       "      <th>Topic</th>\n",
       "      <th>Count</th>\n",
       "      <th>Name</th>\n",
       "      <th>Representation</th>\n",
       "      <th>Representative_Docs</th>\n",
       "    </tr>\n",
       "  </thead>\n",
       "  <tbody>\n",
       "    <tr>\n",
       "      <th>0</th>\n",
       "      <td>-1</td>\n",
       "      <td>17</td>\n",
       "      <td>-1_community_forever_music_server</td>\n",
       "      <td>[community, forever, music, server, languages,...</td>\n",
       "      <td>[small community mastodon server casual chit c...</td>\n",
       "    </tr>\n",
       "    <tr>\n",
       "      <th>1</th>\n",
       "      <td>0</td>\n",
       "      <td>36</td>\n",
       "      <td>0_mastodon_instance_server_social</td>\n",
       "      <td>[mastodon, instance, server, social, general, ...</td>\n",
       "      <td>[uk hosted managed mastodon instance general c...</td>\n",
       "    </tr>\n",
       "    <tr>\n",
       "      <th>2</th>\n",
       "      <td>1</td>\n",
       "      <td>26</td>\n",
       "      <td>1_social_space_community_place</td>\n",
       "      <td>[social, space, community, place, games, lgbtq...</td>\n",
       "      <td>[server intended safe place lgbtqia individual...</td>\n",
       "    </tr>\n",
       "  </tbody>\n",
       "</table>\n",
       "</div>"
      ],
      "text/plain": [
       "   Topic  Count                               Name  \\\n",
       "0     -1     17  -1_community_forever_music_server   \n",
       "1      0     36  0_mastodon_instance_server_social   \n",
       "2      1     26     1_social_space_community_place   \n",
       "\n",
       "                                      Representation  \\\n",
       "0  [community, forever, music, server, languages,...   \n",
       "1  [mastodon, instance, server, social, general, ...   \n",
       "2  [social, space, community, place, games, lgbtq...   \n",
       "\n",
       "                                 Representative_Docs  \n",
       "0  [small community mastodon server casual chit c...  \n",
       "1  [uk hosted managed mastodon instance general c...  \n",
       "2  [server intended safe place lgbtqia individual...  "
      ]
     },
     "execution_count": 139,
     "metadata": {},
     "output_type": "execute_result"
    }
   ],
   "source": [
    "from hdbscan import HDBSCAN\n",
    "from umap import UMAP\n",
    "\n",
    "umap_model = UMAP(n_components=5)\n",
    "hdbscan_model = HDBSCAN(min_cluster_size=2)\n",
    "topic_model_descr = BERTopic()#nr_topics=5)#, hdbscan_model=hdbscan_model)\n",
    "topic_model_descr.fit(mastodon_serv_descr['description'])\n",
    "topic_model_descr.get_topic_info()"
   ]
  },
  {
   "cell_type": "code",
   "execution_count": 144,
   "id": "cf276000",
   "metadata": {},
   "outputs": [],
   "source": [
    "# manually add some stop words"
   ]
  },
  {
   "cell_type": "code",
   "execution_count": 143,
   "id": "875168e8",
   "metadata": {},
   "outputs": [
    {
     "name": "stderr",
     "output_type": "stream",
     "text": [
      "2025-06-04 15:57:42,511 - BERTopic - Embedding - Transforming documents to embeddings.\n",
      "Batches: 100%|██████████| 3/3 [00:00<00:00, 14.86it/s]\n",
      "2025-06-04 15:57:44,377 - BERTopic - Embedding - Completed ✓\n",
      "2025-06-04 15:57:44,377 - BERTopic - Dimensionality - Fitting the dimensionality reduction algorithm\n",
      "2025-06-04 15:57:44,421 - BERTopic - Dimensionality - Completed ✓\n",
      "2025-06-04 15:57:44,421 - BERTopic - Cluster - Start clustering the reduced embeddings\n",
      "2025-06-04 15:57:44,424 - BERTopic - Cluster - Completed ✓\n",
      "2025-06-04 15:57:44,424 - BERTopic - Representation - Fine-tuning topics using representation models.\n",
      "2025-06-04 15:57:44,435 - BERTopic - Representation - Completed ✓\n",
      "2025-06-04 15:57:44,452 - BERTopic - Topic reduction - Reducing number of topics\n",
      "2025-06-04 15:57:44,453 - BERTopic - Representation - Fine-tuning topics using representation models.\n",
      "2025-06-04 15:57:44,458 - BERTopic - Representation - Completed ✓\n",
      "2025-06-04 15:57:44,458 - BERTopic - Topic reduction - Reduced number of topics from 31 to 10\n"
     ]
    },
    {
     "data": {
      "application/vnd.microsoft.datawrangler.viewer.v0+json": {
       "columns": [
        {
         "name": "index",
         "rawType": "int64",
         "type": "integer"
        },
        {
         "name": "Topic",
         "rawType": "int64",
         "type": "integer"
        },
        {
         "name": "Count",
         "rawType": "int64",
         "type": "integer"
        },
        {
         "name": "Name",
         "rawType": "object",
         "type": "string"
        },
        {
         "name": "Representation",
         "rawType": "object",
         "type": "unknown"
        },
        {
         "name": "Representative_Docs",
         "rawType": "object",
         "type": "unknown"
        }
       ],
       "ref": "c27b9f1d-fe45-4a0a-9dde-8595578700f3",
       "rows": [
        [
         "0",
         "-1",
         "5",
         "-1_mastodon_open_instance_3d",
         "['mastodon', 'open', 'instance', '3d', 'geeks', 'im', 'etc', 'cyberfurz', 'climbing', 'chillout']",
         "['mastodon instance focusing hiking mountaineering climbing backpacking outdoors', 'plant trees use mastodon server originally people eu open anyone world', 'mastodon instance open said minor focus tech 3d art vrchat resonite chillout secondlife etc come chill cyberfurz']"
        ],
        [
         "1",
         "0",
         "34",
         "0_mastodon_server_instance_social",
         "['mastodon', 'server', 'instance', 'social', 'welcome', 'hosted', 'purpose', 'join', 'general', 'run']",
         "['uk hosted managed mastodon instance general communal space discussion everyone welcome 1000 character limit posts', 'general purpose mastodon server 500 character limit languages welcome', 'general purpose mastodon instance everyone']"
        ],
        [
         "2",
         "1",
         "12",
         "1_lgbtqia_furry_safe_instance",
         "['lgbtqia', 'furry', 'safe', 'instance', 'tech', 'server', 'labor', 'infosec', 'furries', 'privacy']",
         "['server intended safe place lgbtqia individuals socialize lgbtqia join long ally', 'safe space tech centered lgbtqi folks furries short non descriptive join reasons get ip banned join spamming rules last updated 2023 08 4', 'hachyderm safe space lgbtqia blm primarily comprised tech industry professionals world wide note many non user account types restrictions please see page']"
        ],
        [
         "3",
         "2",
         "12",
         "2_social_media_content_people",
         "['social', 'media', 'content', 'people', 'open', 'want', 'also', 'anarchist', 'authors', 'online']",
         "['kolektiva anti colonial anarchist collective offers federated social media anarchist collectives individuals fediverse social movements liberation', 'veracious network hosted central ohio us comprised folks interested gaming technology science open source 18 content allowed content warning included', 'small community mastodon server casual chit chat uk based place good wholesome content open everyone pets photos music food popular topics']"
        ],
        [
         "4",
         "3",
         "5",
         "3_games_creators_folks_welcome",
         "['games', 'creators', 'folks', 'welcome', 'everyone', 'write', 'linux', 'trading', 'garden', 'whether']",
         "['gamepad club video games focus open forms gaming tabletop rpgs trading card games hosted uk eu everyone welcome', 'community folks celebrate craft creating interactive experiences whether working games around space games folks creatives call home', 'sunny garden community indie creators draw paint sculpt write design program play sing build anyone else thinks sounds like nice place']"
        ],
        [
         "5",
         "4",
         "3",
         "4_scotland_great_metis_inuit",
         "['scotland', 'great', 'metis', 'inuit', 'nations', 'glasgow', 'first', 'communities', 'canadians', 'north']",
         "['place communities around glasgow scotland', 'server intended limited users scotland identify scottish', 'community canadians first nations metis inuit peoples great white north']"
        ],
        [
         "6",
         "5",
         "2",
         "5_12k_speech_cool_bots",
         "['12k', 'speech', 'cool', 'bots', 'cloudflare', 'es', 'characters', 'hate', 'bot', 'boston']",
         "['excellent live humanism nazis hate speech nerds domain somewhat cool bots general languages de en fr nl es', 'speak mind respect boston area open posting size 12k characters interesting things say cloudflare aggressive ai bot blocking threads federating']"
        ],
        [
         "7",
         "6",
         "2",
         "6_acgn_universe_ravers_ravenation",
         "['acgn', 'universe', 'ravers', 'ravenation', 'listens', 'electronic', 'cgnfs', 'operated', 'music', 'de']",
         "['acgn', 'ravenation club instance ravers universe anyone listens electronic music welcome operated https cgnfs de']"
        ],
        [
         "8",
         "7",
         "2",
         "7_musicians_drummers_regions_lovers",
         "['musicians', 'drummers', 'regions', 'lovers', 'levels', 'kinds', 'instruments', 'ages', 'genres', 'primarily']",
         "['fediverse community musicians levels instruments regions languages genres', 'server intended primarily drummers kinds ages musicians music lovers welcome']"
        ],
        [
         "9",
         "8",
         "2",
         "8_forever_kpop_army_dead",
         "['forever', 'kpop', 'army', 'dead', 'together', 'timeline', 'scream', 'round', 'always', 'bangtan']",
         "['timeline always dead round parts', 'fediverse home bts army kpop fans welcome share favourite music scream idol learn together fun drama bangtan forever army forever kpop forever']"
        ]
       ],
       "shape": {
        "columns": 5,
        "rows": 10
       }
      },
      "text/html": [
       "<div>\n",
       "<style scoped>\n",
       "    .dataframe tbody tr th:only-of-type {\n",
       "        vertical-align: middle;\n",
       "    }\n",
       "\n",
       "    .dataframe tbody tr th {\n",
       "        vertical-align: top;\n",
       "    }\n",
       "\n",
       "    .dataframe thead th {\n",
       "        text-align: right;\n",
       "    }\n",
       "</style>\n",
       "<table border=\"1\" class=\"dataframe\">\n",
       "  <thead>\n",
       "    <tr style=\"text-align: right;\">\n",
       "      <th></th>\n",
       "      <th>Topic</th>\n",
       "      <th>Count</th>\n",
       "      <th>Name</th>\n",
       "      <th>Representation</th>\n",
       "      <th>Representative_Docs</th>\n",
       "    </tr>\n",
       "  </thead>\n",
       "  <tbody>\n",
       "    <tr>\n",
       "      <th>0</th>\n",
       "      <td>-1</td>\n",
       "      <td>5</td>\n",
       "      <td>-1_mastodon_open_instance_3d</td>\n",
       "      <td>[mastodon, open, instance, 3d, geeks, im, etc,...</td>\n",
       "      <td>[mastodon instance focusing hiking mountaineer...</td>\n",
       "    </tr>\n",
       "    <tr>\n",
       "      <th>1</th>\n",
       "      <td>0</td>\n",
       "      <td>34</td>\n",
       "      <td>0_mastodon_server_instance_social</td>\n",
       "      <td>[mastodon, server, instance, social, welcome, ...</td>\n",
       "      <td>[uk hosted managed mastodon instance general c...</td>\n",
       "    </tr>\n",
       "    <tr>\n",
       "      <th>2</th>\n",
       "      <td>1</td>\n",
       "      <td>12</td>\n",
       "      <td>1_lgbtqia_furry_safe_instance</td>\n",
       "      <td>[lgbtqia, furry, safe, instance, tech, server,...</td>\n",
       "      <td>[server intended safe place lgbtqia individual...</td>\n",
       "    </tr>\n",
       "    <tr>\n",
       "      <th>3</th>\n",
       "      <td>2</td>\n",
       "      <td>12</td>\n",
       "      <td>2_social_media_content_people</td>\n",
       "      <td>[social, media, content, people, open, want, a...</td>\n",
       "      <td>[kolektiva anti colonial anarchist collective ...</td>\n",
       "    </tr>\n",
       "    <tr>\n",
       "      <th>4</th>\n",
       "      <td>3</td>\n",
       "      <td>5</td>\n",
       "      <td>3_games_creators_folks_welcome</td>\n",
       "      <td>[games, creators, folks, welcome, everyone, wr...</td>\n",
       "      <td>[gamepad club video games focus open forms gam...</td>\n",
       "    </tr>\n",
       "    <tr>\n",
       "      <th>5</th>\n",
       "      <td>4</td>\n",
       "      <td>3</td>\n",
       "      <td>4_scotland_great_metis_inuit</td>\n",
       "      <td>[scotland, great, metis, inuit, nations, glasg...</td>\n",
       "      <td>[place communities around glasgow scotland, se...</td>\n",
       "    </tr>\n",
       "    <tr>\n",
       "      <th>6</th>\n",
       "      <td>5</td>\n",
       "      <td>2</td>\n",
       "      <td>5_12k_speech_cool_bots</td>\n",
       "      <td>[12k, speech, cool, bots, cloudflare, es, char...</td>\n",
       "      <td>[excellent live humanism nazis hate speech ner...</td>\n",
       "    </tr>\n",
       "    <tr>\n",
       "      <th>7</th>\n",
       "      <td>6</td>\n",
       "      <td>2</td>\n",
       "      <td>6_acgn_universe_ravers_ravenation</td>\n",
       "      <td>[acgn, universe, ravers, ravenation, listens, ...</td>\n",
       "      <td>[acgn, ravenation club instance ravers univers...</td>\n",
       "    </tr>\n",
       "    <tr>\n",
       "      <th>8</th>\n",
       "      <td>7</td>\n",
       "      <td>2</td>\n",
       "      <td>7_musicians_drummers_regions_lovers</td>\n",
       "      <td>[musicians, drummers, regions, lovers, levels,...</td>\n",
       "      <td>[fediverse community musicians levels instrume...</td>\n",
       "    </tr>\n",
       "    <tr>\n",
       "      <th>9</th>\n",
       "      <td>8</td>\n",
       "      <td>2</td>\n",
       "      <td>8_forever_kpop_army_dead</td>\n",
       "      <td>[forever, kpop, army, dead, together, timeline...</td>\n",
       "      <td>[timeline always dead round parts, fediverse h...</td>\n",
       "    </tr>\n",
       "  </tbody>\n",
       "</table>\n",
       "</div>"
      ],
      "text/plain": [
       "   Topic  Count                                 Name  \\\n",
       "0     -1      5         -1_mastodon_open_instance_3d   \n",
       "1      0     34    0_mastodon_server_instance_social   \n",
       "2      1     12        1_lgbtqia_furry_safe_instance   \n",
       "3      2     12        2_social_media_content_people   \n",
       "4      3      5       3_games_creators_folks_welcome   \n",
       "5      4      3         4_scotland_great_metis_inuit   \n",
       "6      5      2               5_12k_speech_cool_bots   \n",
       "7      6      2    6_acgn_universe_ravers_ravenation   \n",
       "8      7      2  7_musicians_drummers_regions_lovers   \n",
       "9      8      2             8_forever_kpop_army_dead   \n",
       "\n",
       "                                      Representation  \\\n",
       "0  [mastodon, open, instance, 3d, geeks, im, etc,...   \n",
       "1  [mastodon, server, instance, social, welcome, ...   \n",
       "2  [lgbtqia, furry, safe, instance, tech, server,...   \n",
       "3  [social, media, content, people, open, want, a...   \n",
       "4  [games, creators, folks, welcome, everyone, wr...   \n",
       "5  [scotland, great, metis, inuit, nations, glasg...   \n",
       "6  [12k, speech, cool, bots, cloudflare, es, char...   \n",
       "7  [acgn, universe, ravers, ravenation, listens, ...   \n",
       "8  [musicians, drummers, regions, lovers, levels,...   \n",
       "9  [forever, kpop, army, dead, together, timeline...   \n",
       "\n",
       "                                 Representative_Docs  \n",
       "0  [mastodon instance focusing hiking mountaineer...  \n",
       "1  [uk hosted managed mastodon instance general c...  \n",
       "2  [server intended safe place lgbtqia individual...  \n",
       "3  [kolektiva anti colonial anarchist collective ...  \n",
       "4  [gamepad club video games focus open forms gam...  \n",
       "5  [place communities around glasgow scotland, se...  \n",
       "6  [excellent live humanism nazis hate speech ner...  \n",
       "7  [acgn, ravenation club instance ravers univers...  \n",
       "8  [fediverse community musicians levels instrume...  \n",
       "9  [timeline always dead round parts, fediverse h...  "
      ]
     },
     "execution_count": 143,
     "metadata": {},
     "output_type": "execute_result"
    }
   ],
   "source": [
    "from bertopic import BERTopic\n",
    "from hdbscan import HDBSCAN\n",
    "from umap import UMAP\n",
    "\n",
    "umap_model = UMAP(n_neighbors=5, n_components=2, min_dist=0.0)\n",
    "hdbscan_model = HDBSCAN(min_cluster_size=2, min_samples=1)\n",
    "\n",
    "topic_model = BERTopic(umap_model=umap_model, hdbscan_model=hdbscan_model, verbose=True)#, calculate_probabilities=True)\n",
    "topic_model.fit_transform(mastodon_serv_descr['description'])\n",
    "\n",
    "# Reduce to desired number of topics\n",
    "topic_model.reduce_topics(mastodon_serv_descr['description'], nr_topics=10)\n",
    "topic_model.get_topic_info()\n"
   ]
  },
  {
   "cell_type": "code",
   "execution_count": 136,
   "id": "6e78151a",
   "metadata": {},
   "outputs": [
    {
     "name": "stdout",
     "output_type": "stream",
     "text": [
      "Help on function fit in module bertopic._bertopic:\n",
      "\n",
      "fit(\n",
      "    self,\n",
      "    documents: List[str],\n",
      "    embeddings: numpy.ndarray = None,\n",
      "    images: List[str] = None,\n",
      "    y: Union[List[int], numpy.ndarray] = None\n",
      ")\n",
      "    Fit the models on a collection of documents and generate topics.\n",
      "\n",
      "    Arguments:\n",
      "        documents: A list of documents to fit on\n",
      "        embeddings: Pre-trained document embeddings. These can be used\n",
      "                    instead of the sentence-transformer model\n",
      "        images: A list of paths to the images to fit on or the images themselves\n",
      "        y: The target class for (semi)-supervised modeling. Use -1 if no class for a\n",
      "           specific instance is specified.\n",
      "\n",
      "    Examples:\n",
      "    ```python\n",
      "    from bertopic import BERTopic\n",
      "    from sklearn.datasets import fetch_20newsgroups\n",
      "\n",
      "    docs = fetch_20newsgroups(subset='all')['data']\n",
      "    topic_model = BERTopic().fit(docs)\n",
      "    ```\n",
      "\n",
      "    If you want to use your own embeddings, use it as follows:\n",
      "\n",
      "    ```python\n",
      "    from bertopic import BERTopic\n",
      "    from sklearn.datasets import fetch_20newsgroups\n",
      "    from sentence_transformers import SentenceTransformer\n",
      "\n",
      "    # Create embeddings\n",
      "    docs = fetch_20newsgroups(subset='all')['data']\n",
      "    sentence_model = SentenceTransformer(\"all-MiniLM-L6-v2\")\n",
      "    embeddings = sentence_model.encode(docs, show_progress_bar=True)\n",
      "\n",
      "    # Create topic model\n",
      "    topic_model = BERTopic().fit(docs, embeddings)\n",
      "    ```\n",
      "\n"
     ]
    }
   ],
   "source": [
    "help(BERTopic.fit)"
   ]
  },
  {
   "cell_type": "code",
   "execution_count": null,
   "id": "57f0fdd2",
   "metadata": {},
   "outputs": [],
   "source": [
    "cluster_on_topic(mastodon_serv_descr, topic_model_descr)"
   ]
  },
  {
   "cell_type": "markdown",
   "id": "9e24ec87",
   "metadata": {},
   "source": [
    "## Reddit dataset"
   ]
  },
  {
   "cell_type": "code",
   "execution_count": null,
   "id": "04e377d8",
   "metadata": {},
   "outputs": [
    {
     "data": {
      "application/vnd.microsoft.datawrangler.viewer.v0+json": {
       "columns": [
        {
         "name": "index",
         "rawType": "int64",
         "type": "integer"
        },
        {
         "name": "domain",
         "rawType": "object",
         "type": "string"
        },
        {
         "name": "title",
         "rawType": "object",
         "type": "string"
        },
        {
         "name": "description",
         "rawType": "object",
         "type": "string"
        },
        {
         "name": "languages",
         "rawType": "object",
         "type": "string"
        },
        {
         "name": "total_users",
         "rawType": "int64",
         "type": "integer"
        },
        {
         "name": "active_month",
         "rawType": "int64",
         "type": "integer"
        },
        {
         "name": "rules",
         "rawType": "object",
         "type": "unknown"
        }
       ],
       "ref": "049f2297-69c5-4187-a516-205fdcf4da38",
       "rows": [
        [
         "0",
         "Home",
         "Home",
         "nan",
         "en",
         "307843",
         "51",
         "[]"
        ],
        [
         "2",
         "NoStupidQuestions",
         "No such thing as stupid questions",
         "Ask away!\n\nDisclaimer: This is an anonymous forum so answers may not be correct",
         "en",
         "6021303",
         "4872",
         "['Top level comments must contain a genuine human-written attempt at an answer', ' Please try searching the subreddit for your question first', ' Be Nice', ' No medical advice questions', ' No trolling or joke questions', \" No suicide or 'was I raped/sexual assaulted/sexually harrassed?' questions\", ' No self-promotion, shilling or begging', ' No illegal/unethical or disturbing subject matter', ' No disguised rants, agenda posts or potstirring']"
        ],
        [
         "3",
         "BaldursGate3",
         "Baldur's Gate 3",
         "A community all about Baldur's Gate III, the role-playing video game by Larian Studios. BG3 is the third main game in the Baldur's Gate series. Baldur's Gate III is based on a modified version of the Dungeons & Dragons 5th edition (D&D 5e) tabletop RPG ruleset.\n\nGather your party and venture forth!",
         "en",
         "3118378",
         "1384",
         "['Be civil to one another.', ' Respect the opinions of others.', ' Keep your posts relevant.', ' Tag spoilers and NSFW content.', ' Memes, screenshots, and fanart must be flaired.', ' No Spamming', ' No Tav, Build/Multiclass, or LFG Posts outside of their megathreads', ' No piracy allowed. No posting pirated material of any kind but especially 5e material', \" Use modmail for issues or giveaways - don't mention/link or directly message the Mods\", ' No discussion exclusively about 3rd Party wikis', ' No AI generated content or discussion', ' All posts should be in English. Non-English comments are allowed.', ' No asking for game codes/the game/steam accounts', ' No posting about bigoted mods', ' Cosplay posts must now be submitted on Sundays. ']"
        ],
        [
         "4",
         "facepalm",
         "now double verified",
         "/r/facepalm - please sir can I have some more?",
         "en",
         "8145733",
         "2345",
         "['No uncivil, bigoted, misogynist, misandrist, racist comments or posts.', ' No Misinformation', ' No Memes', ' No language error posts', ' No jokes/satire/trolls posts', ' Remove identifying personal information', ' No \\'likes\"/\"shares\" posts', ' No \"Reddit Meta\" Posts', ' No posts about politicians being politicians', ' No posts attacking a political party or side']"
        ],
        [
         "5",
         "interestingasfuck",
         "Interesting As Fuck",
         "For anything truly interesting as fuck",
         "en",
         "13961838",
         "4038",
         "['Posts MUST be INTERESTING AS FUCK!', ' No Politics', ' Titles must be descriptive and directly related to the content', ' No porn or gore', ' No doxing/witch hunts or meta related posts', ' Provide a source when the title is in doubt', ' No FCoO/flooding', ' No self-promotion', ' Be civil', ' Repost limitations', ' No gossip or tabloid-type material', ' Additional/temporary rules']"
        ],
        [
         "6",
         "Damnthatsinteresting",
         "Damn, that's interesting!",
         "For the most interesting things on the internet",
         "en",
         "19795678",
         "3299",
         "['Only \"Damnthatsinteresting\" content', ' Use descriptive titles', ' No racism, bigotry, or hate speech', ' No screenshots/memes/infographics', ' Moderator discretion', ' No reposts', ' No politics', ' Posts making claims must be sourced in comments at time of posting']"
        ],
        [
         "7",
         "LivestreamFail",
         "r/LivestreamFail",
         "The place for all things livestreaming.",
         "en",
         "4007153",
         "3960",
         "['Harassment: Civility', ' Harassment: Death & Violence', ' Harassment: Discrimination', ' Harassment: Unsourced Allegations', ' Harassment: Speculation', ' Harassment: Out of Context Content', ' Quality: Duplicate Submissions', ' Quality: Title Guidelines', ' Quality: Old News', ' Spam: Engagement Manipulation', ' Spam:  LSF Meta Posts', ' Spam: LSF Meta Comments', ' Spam: Off-topic', ' Restricted Content', ' Banned Streamers']"
        ],
        [
         "8",
         "pics",
         "Reddit Pics",
         "A place for photographs, pictures, and other images.",
         "en",
         "32398953",
         "3539",
         "['No screenshots, AI images, or pictures in which the focus is a screen.', ' No digital elements or text.', ' No pornography or gore.', ' No doxxing or witch-hunts.', ' Titles must obey all relevant rules.', ' Only approved image-hosts.', ' No GIFs or videos.', ' Remain civil.', ' No progress-pictures.', ' No FCoO or flooding.', ' Reposts are subject to limitations.', ' No self-promotional accounts.']"
        ],
        [
         "9",
         "Palworld",
         "Palworld",
         "[Unaffiliated with Pocketpair] \nPalworld is a brand-new multiplayer, open-world survival crafting game where you can befriend and collect mysterious creatures called \"Pals\" in a vast new world! Make your Pals fight, build, farm, work in factories, and more!",
         "en",
         "722697",
         "88",
         "['Respect and Courtesy', ' Relevancy', ' No Low Effort Content or Spamming', ' No NSFW or Generally Inappropriate Content', ' Self Promotion Guidelines', ' No Sales, Advertisements, or Content Involving Monetary Exchange or Tender.', ' Art Submission Guidelines', ' English Only', ' Piracy, Hacks, and Cheating']"
        ],
        [
         "10",
         "AmItheAsshole",
         "Am I the Asshole? ",
         "A catharsis for the frustrated moral philosopher in all of us, and a place to finally find out if you were wrong in an argument that's been bothering you. Tell us about any non-violent conflict you have experienced; give us both sides of the story, and find out if you're right, or you're the asshole. \n\nSee our ~~*Best Of*~~ \"Most Controversial\" at /r/AITAFiltered!",
         "en",
         "24179747",
         "3163",
         "['Be Civil', ' Voting Rules', ' Accept Your Judgment', ' Never Delete An Active Discussion', ' No Violeпce', ' How To Post', ' Post Interpersonal Conflicts', ' No Shitposts, No AI', ' Do Not Ask For Advice', ' Updates and META posts are restricted', ' No Partings/Relationship/Sex/Reproductive Autonomy Posts', ' This Is Not A Debate Sub', ' No Revenge Stories', ' No Medical Conflicts', ' Review the FAQ Before Participating']"
        ],
        [
         "11",
         "mildlyinfuriating",
         "jukmifgguggh",
         "jugkfmghgug",
         "en",
         "10478887",
         "3795",
         "['Be civil. Respect Reddiquette and follow Reddit sitewide rules.', ' No memes, overdone references, price complaints, text-heavy pictures, or other low-quality posts.  ', ' No Reddit meta posts.', \" No reposts under 6 months or crossposts unless it's OC.\", ' No GIFs cut short or overly edited GIFs. ', ' No politics, pushing agendas, or grandstanding. ', ' Hide or blur personal info such as full names, numbers, and addresses. ', ' No promotions.']"
        ],
        [
         "12",
         "Piracy",
         "Piracy: ꜱᴀɪʟ ᴛʜᴇ ʜɪɢʜ ꜱᴇᴀꜱ",
         "⚓ Dedicated to the discussion of digital piracy, including ethical problems and legal advancements.",
         "en",
         "2179942",
         "1824",
         "['Posts must be related to the discussion of digital piracy', \" Don't request invites, trade, sell, or self-promote\", \" Don't request or link to specific pirated titles, including DMs\", ' Show effort and respect']"
        ],
        [
         "13",
         "PeterExplainsTheJoke",
         "PeterExplainsTheJoke",
         "Hey gamers, this is the subreddit where you post a meme/joke you don't understand so it can be explained to you. You can also post memes about u/PeterExplainsTheJoke or just post weird pictures of Peter.",
         "en",
         "1819939",
         "665",
         "['Poor Behavior', ' Recently posted jokes', ' Dogwhistles/Conspiracy Theories', ' Metaposts', \" 'Wooooshing' users\", ' Low effort posts', ' Banned Jokes', ' Political Shilling / Debating']"
        ],
        [
         "14",
         "funny",
         "funny",
         "Reddit's largest humor depository",
         "en",
         "66845994",
         "2551",
         "['All posts must make an attempt at humor.', ' No memes, HIFW, MRW, MeIRL, DAE, or similar posts.', ' No reposts.', ' No personal info, no hate speech, no harassment.', ' No politics or political figures.', ' No forbidden titles, low-effort titles, or posts about Reddit cakedays.', ' No gore, pornography, or animal cruelty.', ' No unoriginal comics.', ' No pictures of just text.', ' No social-media, messaging, or AI-generated content.']"
        ],
        [
         "15",
         "AITAH",
         "AITAH",
         "This is a community like r/AmITheAsshole, except unlike that subreddit you can post interpersonal conflicts. Anything that's AITA including relationships, hypotheticals, even posting about Scar from the Lion King and trying to convince redditors that he was not the AH.\n\nrules: don't berate others and no pornography we have children here",
         "en",
         "4693425",
         "3275",
         "['No completely fake posts. ', ' No AI or Bot post and comments', ' No karma farming', ' No third party posts.', ' Be civil to each other. ', ' No excessive use of demeaning language or names.', ' No advertising']"
        ],
        [
         "16",
         "movies",
         "Movie News and Discussion",
         "The goal of /r/Movies is to provide an inclusive place for discussions and news about films with major releases. Submissions should be for the purpose of informing or initiating a discussion, not just to entertain readers. Read our extensive list of rules for more information on other types of posts like fan-art and self-promotion, or message the moderators if you have any questions.",
         "en",
         "35497336",
         "4034",
         "['Do Familiarize Yourself With Our Rules.', ' No Intentional Antagonism or Negative Attention Whoring', ' No Spam & Self-promotion - Same Source Posts', ' No Image Posts & Memes', ' No Ambiguous/Misleading/Inaccurate Information or Clickbait in the Submission Title', ' No Extraneous Comic Book Movie Submissions', ' No Repost or Discussion Threads of New Releases', ' No Spoilers', ' No Encouraging Piracy', ' No Subreddit Brigading', ' AI Generated Garbage', ' No Low Effort Posts', ' Scuttlebutt and Canards', ' No Complaints of a Movie OP has Not Completed.', ' Political Ranting Unrelated to the Movie at Hand']"
        ],
        [
         "17",
         "Helldivers",
         "Helldivers",
         "A subreddit dedicated to HELLDIVERS and HELLDIVERS II, intense co-op shooters set in a satirical dystopian future where you play as one of mankind's elite soldiers determined to spread managed democracy. Developed by Arrowhead Game Studios.",
         "en",
         "1975825",
         "876",
         "['Be Civil', ' No reposts', ' No spamming', ' No begging', ' No naming and shaming', ' Credit the original creator', ' No low efforts posts/comments', ' No LFG request posts (use the megathread)', ' Posts/comments must be related to Helldivers', ' No leaks/cheats/exploits discussions', ' Limited Self-promotion is allowed', ' No real-world political discussions', ' No low-quality rants/vents', ' Use the Q&A Megathread for simple questions', ' Submissions must be in English']"
        ],
        [
         "18",
         "gaming",
         "r/gaming",
         "The Number One Gaming forum on the Internet.",
         "en",
         "46599439",
         "7308",
         "['Not directly gaming related or generic meme template', ' Posting guidelines, bandwagons, brigades, direct reply posts.', ' Piracy', ' Unmarked spoiler / Unmarked NSFW.', ' No Giveaways / Trades / Contests / Items for sale / Donation requests / Crypto anything', ' Not original source / Website screenshot', ' Spam / Excessive self-promotion', ' Discussion prompts must be posted as self/text posts', ' Bigotry / Incivility / Toxicity', ' AMA related rule.']"
        ],
        [
         "19",
         "worldnews",
         "World News",
         "A place for major news from around the world, excluding US-internal news.",
         "en",
         "45645893",
         "9572",
         "['No US Internal News or Politics', ' No Editorialized or Misleading Titles', ' No Feature stories', ' No Editorials, Opinion or Analysis Pieces', ' No Articles In Languages Other Than English', ' No Images, Videos or Audio Clips', ' No Old News Articles (≥ 1 Week old)', ' Your content might be removed if /r/worldnews is not the appropriate subreddit for the story.', ' No Bigotry or Other Offensive Content', ' No Personal Attacks On Other Users', ' No Memes, Gifs, unlabeled NSFW images', ' No chatGPT bots or copy/paste bots']"
        ],
        [
         "20",
         "leagueoflegends",
         "League of Legends",
         "This is a subreddit devoted to the game League of Legends.",
         "en",
         "8135989",
         "2369",
         "['Please Read the full Rules on the sub. These are just several important ones', ' No Personal Attacks', ' All Claims Require Evidence', ' No Excessively Sexual or Violent Content/No NSFW', \" Don't Discuss or Advertise Cheats or Exploits\", ' Posts Must Be Directly Related To League of Legends', ' Specific restricted content (see rules for list)', \" Don't Address Individuals or Distinct Entities\", ' Feature Suggestions', ' Personal Stories', ' Spoilers have to be tagged', ' Esports Content Restrictions', ' No Vague or Misleading Titles', ' Short duration content belongs in a text post', ' Reposts']"
        ],
        [
         "21",
         "pcmasterrace",
         "PC Master Race - PCMR: A place where all enthusiasts of PC, PC gaming and PC technology are welcome!",
         "Welcome to the official subreddit of the PC Master Race / PCMR!\n\nAll PC-related content is welcome, including build help, tech support, and any doubt one might have about PC ownership.\n\nYou don't necessarily need a PC to be a member of the PCMR. You just have to love PCs. It's not about the hardware in your rig, but the software in your heart!\n\nJoin us in celebrating and promoting tech, knowledge, and the best gaming, study, and work platform there exists. The Personal Computer.",
         "en",
         "15127454",
         "1806",
         "['Harassment/calls to action against others', ' Follow PCMR Etiquette', ' Do not link to outside threads', ' Anonymize all images/screenshots', ' No referral or affiliate links', ' Low quality, unrelated, unoriginal or low-effort posts will be deleted at mod discretion.', ' Do not discriminate against others', ' No begging, trading, selling, or asking for valuation.', ' Do not abuse the NSFW or Spoiler tags', ' Peasantry posts must be self posts', ' Giveaway rules', ' Read our full rules here']"
        ],
        [
         "22",
         "Unexpected",
         "Unexpected",
         "This subreddit is for unexpected twists in videos and gifs.",
         "en",
         "11547639",
         "901",
         "['Expected/No twist', ' Keep Content Civil', ' Unmarked NSFW/NSFL', ' No Reposts', ' Bad Title', ' No low/poor quality videos', ' No death or abuse', ' No minors', ' No glorifying violence/tragedy', ' Politics', ' No Pictures of Text - visit /r/unextexted', ' No stealing content', ' No linking to Reddit', \" Follow Reddit's TOS\"]"
        ],
        [
         "23",
         "news",
         "News",
         "The place for news articles about current events in the United States and the rest of the world. Discuss it all here.",
         "en",
         "30164625",
         "6295",
         "['Submissions must be articles about a specific news event', ' Old News', ' No opinion/analysis or advocacy pieces', ' Articles must not be primarily concerning politics', ' No editorialized titles', ' Title must match article title', ' No paywalls/blogspam that steals content', ' No posts covering an already submitted story', ' Do not be racist, sexist, vitriolic, or overly crude', ' Do not be unnecessarily rude or provocative', ' No cheap or distracting jokes or memes', ' No witchhunting. Follow the Reddit Content Policy.', ' Do not advocate or celebrate death', ' No bots/Novelty accounts']"
        ],
        [
         "24",
         "politics",
         "Politics",
         "/r/Politics is for news and discussion about U.S. politics.",
         "en",
         "8822252",
         "8842",
         "['General: No hateful speech', ' General: No novelty accounts or bots', ' General: No spam or solicitation', ' Comments: No incivility or personal attacks towards users', ' Comments: No flaming, baiting, or trolling', ' Comments: No witch hunts or personal information', ' Comments: Follow AMA specific rules', ' Posts: Submissions must be explicitly about US politics', ' Posts: Submissions must be published within the last 7 days', ' Posts: Submissions must be from the Approved Domain List', ' Posts: Titles must be the exact headline from the article with minor exceptions', ' Posts: Do not flood the new queue', ' Posts: No copy-pasted submissions or non-English articles', ' Posts: Disallowed submission types', ' Posts: Disclose employment or affiliation with a source']"
        ],
        [
         "25",
         "wallstreetbets",
         "wallstreetbets",
         "Like 4chan found a Bloomberg Terminal.",
         "en",
         "18670873",
         "5996",
         "['Avoid Purely Political Discussion', ' Screenshots of Social Media Posts are Prohibited', ' Market Cap Must Be Above $500MM USD', ' Keep Threads Interesting, Otherwise Use the Daily!', ' YOLOs Must Be Above $10K or $25K (Options, Shares)', ' Gains and Losses Must Be Above $2.5K or $5K (Options, Shares)', ' Gains and Losses Must Be Realized', ' Only Crypto Allowed is BTC and ETH', ' Avoid Pump & Dumps, Short Squeezes, and Market Manipulation', \" No Bullshitting - Only Comment If You Know What You're Talking About\", \" Please Don't Derail Discussion by Brigading, Spreading Hate, or Downvoting Everyone\", \" Don't Shit on the Community\", ' No Advertisement, Self-Promotion, Fundraising, or Begging', ' Content Guidelines', ' Glorifying Losses is Unacceptable']"
        ],
        [
         "26",
         "todayilearned",
         "Today I Learned (TIL)",
         "You learn something new every day; what did you learn today?\nSubmit interesting and specific facts about something that you just found out here.",
         "en",
         "40508942",
         "6548",
         "['Inaccurate/unverifiable/not supported by source', ' No personal opinions/anecdotes/subjective posts', ' No recent sources', ' No politics/agenda pushing', ' No misleading claims', \" Too general/can't stand on its own/how to\", ' No submissions about software/websites', ' All NSFW links must be tagged.']"
        ],
        [
         "27",
         "nottheonion",
         "Sadly, this is not the Onion.",
         "For true stories that you could have sworn were from The Onion.",
         "en",
         "25679956",
         "2142",
         "['Do not alter headlines.', ' Submissions must be oniony.', ' Only submit news articles.', ' Use original, reliable sources.', ' Do not repost similar articles.', ' No satire articles', ' No tabloid sources', ' No old news.', ' Only submit articles in English.', ' Do not post mobile links.', ' No blocked or redirected links', ' No personal attacks, racism, sexism, or bigotry', ' Don’t break Reddit rules.']"
        ],
        [
         "28",
         "memes",
         "/r/Memes the original since 2008",
         "Memes!\n\nA way of describing cultural information being shared.\nAn element of a culture or system of behavior that may be considered to be passed from one individual to another by nongenetic means, especially imitation.",
         "en",
         "35469931",
         "967",
         "['Rule 1 - ALL POSTS MUST BE MEMES and FOLLOW A GENERAL MEME FORMAT', ' Rule 2 - NO MEMES ABOUT POLARIZING/POLITICAL TOPICS, VULNERABLE GROUPS, VIOLENCE, ETC. [SEE LIST]', ' Rule 3 - NO SPAM/CHAINPOSTING and NO OVERUSED/PROHIBITED MEME TEMPLATES [SEE LIST]', ' Rule 4 - NO INTERACTION-BAITING POSTS/TITLES and NO IDENTIFYING INFO/WATERMARKS', ' Rule 5 - NO VIDEOS LONGER THAN 15 SECONDS and DIRECT REDDIT UPLOADS ONLY (NO LINKS)', ' Rule 6 - ONLY POST MEMES YOU ACTUALLY MADE YOURSELF/NO REPOSTS and NO BAD CROPPING/LOW-RES MEMES']"
        ],
        [
         "29",
         "PublicFreakout",
         "/r/PublicFreakout",
         "A subreddit dedicated to people freaking out, melting down, losing their cool, or being weird in public.",
         "en",
         "4708767",
         "2282",
         "['Rule 1', ' No doxxing', ' Rule 2', ' Use tact videos involving mental disorders', ' Rule 3', ' Abusive comments will be removed', ' Rule 4', ' No racism, sexism, transphobia or bigotry', ' Rule 5', ' Video posts only', ' Rule 6', ' Text Posts require moderator approval.', ' Rule 7', ' Posting Guidelines.', ' Rule 8', ' No videos involving death/murder.', ' Rule 9', ' Facebook Videos are allowed, not encouraged', ' Rule 10', ' Submissions must fit community']"
        ],
        [
         "30",
         "Wellthatsucks",
         "Well... That sucks...",
         "Posts that make you go: \"Well.. that sucks..\"",
         "en",
         "4071395",
         "927",
         "['Please follow reddiquette.', ' Please be civil.', ' No injuries', ' No compilations ', ' No low effort', ' No Reposts.']"
        ],
        [
         "31",
         "explainlikeimfive",
         "Explain Like I'm Five | Don't Panic!",
         "Explain Like I'm Five is the best forum and archive on the internet for layperson-friendly explanations.\n\n\nDon't Panic!",
         "en",
         "23228465",
         "2442",
         "['Be Civil', ' All submissions must seek objective explanations', ' Top-level comments must be written explanations', ' Explain for laypeople (but not actual 5-year-olds)', ' ELI5 is for factual information, not opinions', ' Loaded questions are not allowed', ' Search before posting', \" don't repeat old posts\", \" Don't guess\", \" Don't try to trick the bot\", ' Posts must begin with \"ELI5:\"', ' Link to the Detailed Rules']"
        ],
        [
         "32",
         "OutOfTheLoop",
         "What's everyone on about?",
         "A subreddit to help you keep up to date with what's going on with reddit and other stuff.",
         "en",
         "3584343",
         "654",
         "['Post title must be a current, unbiased, and coherent question', ' Text body must include context', ' Recently asked - already on the frontpage (search)', ' Top-level comment must answer or ask a follow-up', ' Uncivil', ' Not a loop - better suited for another subreddit', ' No AI Answers']"
        ],
        [
         "33",
         "OnePiece",
         "One Piece",
         "Welcome to r/OnePiece, the community for Eiichiro Oda's manga and anime series One Piece. From the East Blue to the New World, anything related to the world of One Piece belongs here! If you've just set sail with the Straw Hat Pirates, be wary of spoilers on this subreddit!",
         "en",
         "5164542",
         "426",
         "['Be mindful of Spoilers.', ' No separate posts of chapter thread for 24h', ' Fanart/cosplay must directly link to the source', ' Plain panels/scenes must create discourse', ' Posts must be directly related to One Piece', ' Self promotion', ' No Low Effort Meme', ' No hentai', ' No posts about One Piece games other than news', ' No Questions answered in the FAQ/sidebar', \" Don't be Rude\", ' Flair your posts']"
        ],
        [
         "34",
         "BlackPeopleTwitter",
         "Black Twitter",
         "Screenshots of Black people being hilarious or insightful on social media, it doesn't need to just be twitter but obviously that is best.",
         "en",
         "6116748",
         "1406",
         "['Social media posts from black people only', ' Bad Faith Participation', ' Respectability', ' No Racism/Hate speech', ' Posts must be showcasing somebody being hilarious or insightful on social media.', ' Reddit Cliches', ' No reposts', ' Bad post title', \" Don't complain about the use of AAVE or slang.\", ' Please respect these voices of the users of this community', ' No posts from corporate or meme accounts', ' Moderator Fiat', ' ☑️ Country Club']"
        ],
        [
         "35",
         "buildapc",
         "/r/buildapc - Planning on building a computer but need some advice? This is the place to ask!",
         "Planning on building a computer but need some advice? This is the place to ask!\n\n\n /r/buildapc is a community-driven subreddit dedicated to custom PC assembly. Anyone is welcome to seek the input of our helpful community as they piece together their desktop.",
         "en",
         "8034842",
         "1242",
         "['Be respectful to others', ' No build-spoonfeeding requests', ' No piracy or grey-market software keys', ' No laptop or prebuilt PC questions', ' No submissions about hardware news, rumors, or reviews', ' No submissions about sales, deals or unauthorized giveaways', ' No submissions about retailer or customer service experiences', ' No titles that are all-caps, clickbait, PSAs, pro-tips or contain emoji.', ' No submissions that are low-effort, memes, jokes, meta, or hypothetical / dream builds.', ' No self-promotion, advertising or surveys', ' No selling, trading or requests for valuation', ' No excessive posting (more than one submission in 24 hours)', ' No intentionally harmful, misleading or joke advice', ' No bots or automated accounts', ' Ban Appeal']"
        ],
        [
         "36",
         "HonkaiStarRail",
         "HonkaiStarRail",
         "Honkai: Star Rail is a strategy-RPG title in the Honkai series that takes players on a cosmic adventure across the stars. Hop aboard the Astral Express and experience the galaxy's infinite wonders on this journey filled with adventure and thrill.",
         "en",
         "1134209",
         "546",
         "['Be respectful to others', ' No leaked / datamined / modded content', ' Megathreads', ' Mundane or Repetitive Posts', ' Original Content Rules', ' Non-Original Content Rules', ' Non-OC Art Submission Frequency', ' NSFW Rules', ' Be careful with spoilers', ' Commercial and Self-Promotion Rules', ' Shipping Rules']"
        ],
        [
         "37",
         "SipsTea",
         "SipsTea",
         "Delivering the internet's best content daily. On Wednesdays we post frogs!",
         "en",
         "1635741",
         "1841",
         "['No NSFW', ' No Harassment ', ' No Toxicity', ' No Politics', \" No Sub GC's/Subreddits\", ' No Spam', ' No Hate', ' No Impersonation (Catfishing)', ' No Defamation ', ' No Brigading ', ' No Self Harm Discussion ', ' No Baiting', ' English Only', ' No Reposts', ' Reddit Site-Wide Rules']"
        ],
        [
         "38",
         "Minecraft",
         "Minecraft on reddit",
         "Minecraft community on Reddit",
         "en",
         "8485731",
         "779",
         "['Be civil', ' Don’t advertise servers or communities', ' No memes', ' Don’t post images of text', ' Do not promote illegal or unethical practices', ' Stay on topic', ' Avoid chain posting', ' Explain your suggestions with a text post', ' Use a search engine, the wiki or community support before asking questions here', ' Speak English only.', ' Keep self-promotion to a minimum', ' Follow our standards for quality.', \" Don't post banned topics\"]"
        ],
        [
         "39",
         "mildlyinteresting",
         "For photos that are, you know, mildly interesting",
         "Aww, cripes. I didn't know I'd have to write a description. How many words is that so far, like a hundred? Soooo, yeah. Mildly interesting stuff. Stuff that interests you. Mildly. It's in the name, ffs.",
         "en",
         "24584963",
         "1880",
         "['No Memes', ' No Related Posts', ' No X-Posts or Reposts', ' Original [OC] Photographs Only', ' No Screenshots', ' Titles Must Be Exact But Concise Descriptions']"
        ],
        [
         "40",
         "nfl",
         "NFL: National Football League Discussion",
         "The place to discuss all NFL related things",
         "en",
         "12371281",
         "3025",
         "['Off Topic Content', ' Low effort/Joke Posts/Repost', ' Editorialized Title', ' All news should be sourced', ' Highlights: During Games', ' Personal Life/Off Field, Serious illness, deaths, and arrests for current or former players', ' Official threads are official and not unofficial', ' Original Content v. promotion and spam', ' Personal attack or any kind of slur', ' Off-Season Posting Policy']"
        ],
        [
         "41",
         "BeAmazed",
         "I bet you will /r/BeAmazed!",
         "A place to find and share things which are amazing in a positive way.",
         "en",
         "8928033",
         "430",
         "['Post Appropriate Content', ' No Porn, Gore or Very Disturbing Content', ' No War or Politics related posts', ' No Misleading Content', ' Don’t be rude to others']"
        ],
        [
         "42",
         "DIY",
         "DIY",
         "DIY",
         "en",
         "26629669",
         "656",
         "['All content must be DIY', ' Basic Community Rules', ' NSFW / Reddiquette / Civility', ' 𝗡𝗼 𝗦𝗮𝗹𝗲𝘀 | 𝗣𝗿𝗼𝗺𝗼𝘁𝗶𝗼𝗻𝘀 | 𝗔𝗱𝘃𝗲𝗿𝘁𝗶𝘀𝗶𝗻𝗴', ' Google First, Reddit Last | Product Search', ' Low effort posts', ' Content / Topics not suited for r/DIY', ' Rating & Reviewing Products or Brands', ' Sometimes you let the professionals handle it', ' No AI Content']"
        ],
        [
         "43",
         "nba",
         "NBA",
         "A community for NBA discussion.",
         "en",
         "16087593",
         "4426",
         "['Be civil and respectful', ' No trolling or baiting users', ' No racist, sexist, or homophobic language', ' No reposts', ' No fake news', ' No self-promotion', ' No NSFW content', ' Posts and comments must be relevant to the NBA', ' Stats/Player Tweets/Quotes/Misc. Media are self-post only and must be sourced', ' No Reaction Posts', ' r/nba no longer permits links/references to Twitter/X (or alts), Facebook, Instagram, and Threads', ' Use the Daily Discussion Thread']"
        ],
        [
         "44",
         "MapPorn",
         "Map Porn, for interesting maps",
         "High quality images of maps.",
         "en",
         "5801395",
         "743",
         "['Posts must be maps', ' No Low Effort Memes', ' Must meet aesthetic standards', ' No Advertising', ' No Repost Bots']"
        ],
        [
         "45",
         "Steam",
         "Steam on Reddit",
         "A subreddit for members of the Steam Community and fans of steam.\n\nDiscord: discord.gg/steam",
         "en",
         "4857400",
         "677",
         "['Basic Requirements and Quality Standards', ' Common or Unrelated Content', ' Support', ' Bugs or Exploits', ' Advertising, User-Generated Content, or Surveys', ' Gambling, Scams, Cheating, or Trading', ' Begging, Charity, or Giveaways', ' Game Advice or Asking For Friends', ' Accusations or Witch Hunts', ' Steam Subscriber Agreement or Reddiquette']"
        ],
        [
         "46",
         "Overwatch",
         "Overwatch",
         "Subreddit for all things Overwatch™, Overwatch 2™ and the Overwatch™ Universe, the team-based shooter from Blizzard Entertainment.",
         "en",
         "6057927",
         "752",
         "['Must be relevant to Overwatch.', ' Titles must be clear and accurate.  No spoilers in titles.', ' No low-quality, low-effort, or repetitive content.', ' No NSFW/NSFL content.', ' Be civil. No personal attacks or hateful speech.', ' Terms of Service Violations', ' No Witchhunting or Cheating Accusations.', ' Site Violations', ' Use Correct Flair.']"
        ],
        [
         "47",
         "Genshin_Impact",
         "Genshin Impact Official",
         "This is the official community for Genshin Impact (原神), the latest open-world action RPG from HoYoverse. The game features a massive, gorgeous map, an elaborate elemental combat system, engaging storyline & characters, co-op game mode, soothing soundtrack, and much more for you to explore!",
         "en",
         "3618874",
         "816",
         "['Be respectful and civil', ' Relevance to Genshin Impact', ' Megathread', ' No account trading or commercial promotion', ' NSFW rules', ' Non-OC art rules', ' OC rules', ' Mark spoilers', ' Post quality', ' Self-promotion rules', ' Overall subreddit quality', ' Cosplay Rules and guidelines']"
        ],
        [
         "48",
         "classicwow",
         "WoW: Classic",
         "A community for World of Warcraft: Classic fans.",
         "en",
         "678347",
         "546",
         "['Content must be related to WoW: Classic', ' Be civil and respectful', ' No witch hunts or brigading', ' Do not share or encourage the use of exploits, cheats, existing private servers, RWT, etc', ' No real world politics or religion', ' Flag NSFW content', ' Restricted content and extended rule-set', ' Flair your posts accurately', ' Follow Content Creator Guidelines']"
        ],
        [
         "49",
         "soccer",
         "The back page of the internet.",
         "The football subreddit. \n\nNews, results, and discussion about the beautiful game.",
         "en",
         "8590217",
         "7417",
         "['Follow reddiquette', ' No racism, homophobia, xenophobia, sexism or other offensive behaviour', ' Be on topic', ' No shit-posting', ' No Duplicates', ' No NSFW content', ' You must link sources for news, quotes and stats', ' Only valuable image and stat submissions', ' Please use factual and objective titles', ' No low-effort questions as top-level submissions', ' Hard paywalled content should be summarised, but not copied.', ' No Baiting/Trolling', ' Follow the Submission Guidelines and use the correct Flair creating a new post.']"
        ],
        [
         "50",
         "Eldenring",
         "r/EldenRing",
         "This is the subreddit for the Elden Ring gaming community. Elden Ring is an action RPG which takes place in the Lands Between, sometime after the Shattering of the titular Elden Ring. Players must explore and fight their way through the vast open-world to unite all the shards, restore the Elden Ring, and become Elden Lord.\n\nElden Ring was directed by Hidetaka Miyazaki and made in collaboration with George R. R. Martin. It was developed by FromSoft and published by Bandai Namco.",
         "en",
         "4315898",
         "692",
         "['Please be respectful, do not harass others.', ' Keep posts and discussion Elden Ring related.', ' No low-effort content or spamming of posts.', ' Self-Promotion Guidelines', ' No sales, adverts, or interactions involving real-world tender. No in-game trading.', ' No NSFW or generally inappropriate content.', ' All artwork must be OC only. No AI artwork.', ' No discussion of Moderation or Meta Sub topics.', ' Titles must require context and be free of spoilers. Utilize appropriate flairs.', ' Discussion of mods, cheats, hacks, etc. are not allowed.', ' No technical or account support requests & questions.', ' Datamining, leaks, rumors, and speculation are not allowed.']"
        ]
       ],
       "shape": {
        "columns": 7,
        "rows": 99
       }
      },
      "text/html": [
       "<div>\n",
       "<style scoped>\n",
       "    .dataframe tbody tr th:only-of-type {\n",
       "        vertical-align: middle;\n",
       "    }\n",
       "\n",
       "    .dataframe tbody tr th {\n",
       "        vertical-align: top;\n",
       "    }\n",
       "\n",
       "    .dataframe thead th {\n",
       "        text-align: right;\n",
       "    }\n",
       "</style>\n",
       "<table border=\"1\" class=\"dataframe\">\n",
       "  <thead>\n",
       "    <tr style=\"text-align: right;\">\n",
       "      <th></th>\n",
       "      <th>domain</th>\n",
       "      <th>title</th>\n",
       "      <th>description</th>\n",
       "      <th>languages</th>\n",
       "      <th>total_users</th>\n",
       "      <th>active_month</th>\n",
       "      <th>rules</th>\n",
       "    </tr>\n",
       "  </thead>\n",
       "  <tbody>\n",
       "    <tr>\n",
       "      <th>0</th>\n",
       "      <td>Home</td>\n",
       "      <td>Home</td>\n",
       "      <td>nan</td>\n",
       "      <td>en</td>\n",
       "      <td>307843</td>\n",
       "      <td>51</td>\n",
       "      <td>[]</td>\n",
       "    </tr>\n",
       "    <tr>\n",
       "      <th>2</th>\n",
       "      <td>NoStupidQuestions</td>\n",
       "      <td>No such thing as stupid questions</td>\n",
       "      <td>Ask away!\\n\\nDisclaimer: This is an anonymous ...</td>\n",
       "      <td>en</td>\n",
       "      <td>6021303</td>\n",
       "      <td>4872</td>\n",
       "      <td>[Top level comments must contain a genuine hum...</td>\n",
       "    </tr>\n",
       "    <tr>\n",
       "      <th>3</th>\n",
       "      <td>BaldursGate3</td>\n",
       "      <td>Baldur's Gate 3</td>\n",
       "      <td>A community all about Baldur's Gate III, the r...</td>\n",
       "      <td>en</td>\n",
       "      <td>3118378</td>\n",
       "      <td>1384</td>\n",
       "      <td>[Be civil to one another.,  Respect the opinio...</td>\n",
       "    </tr>\n",
       "    <tr>\n",
       "      <th>4</th>\n",
       "      <td>facepalm</td>\n",
       "      <td>now double verified</td>\n",
       "      <td>/r/facepalm - please sir can I have some more?</td>\n",
       "      <td>en</td>\n",
       "      <td>8145733</td>\n",
       "      <td>2345</td>\n",
       "      <td>[No uncivil, bigoted, misogynist, misandrist, ...</td>\n",
       "    </tr>\n",
       "    <tr>\n",
       "      <th>5</th>\n",
       "      <td>interestingasfuck</td>\n",
       "      <td>Interesting As Fuck</td>\n",
       "      <td>For anything truly interesting as fuck</td>\n",
       "      <td>en</td>\n",
       "      <td>13961838</td>\n",
       "      <td>4038</td>\n",
       "      <td>[Posts MUST be INTERESTING AS FUCK!,  No Polit...</td>\n",
       "    </tr>\n",
       "    <tr>\n",
       "      <th>...</th>\n",
       "      <td>...</td>\n",
       "      <td>...</td>\n",
       "      <td>...</td>\n",
       "      <td>...</td>\n",
       "      <td>...</td>\n",
       "      <td>...</td>\n",
       "      <td>...</td>\n",
       "    </tr>\n",
       "    <tr>\n",
       "      <th>95</th>\n",
       "      <td>SteamDeck</td>\n",
       "      <td>Steam Deck</td>\n",
       "      <td>The Unofficial Subreddit for the Valve Steam D...</td>\n",
       "      <td>en</td>\n",
       "      <td>903284</td>\n",
       "      <td>446</td>\n",
       "      <td>[Be Kind Or Get Banned,  Posts must be about o...</td>\n",
       "    </tr>\n",
       "    <tr>\n",
       "      <th>96</th>\n",
       "      <td>college</td>\n",
       "      <td>College</td>\n",
       "      <td>The subreddit for discussion related to colleg...</td>\n",
       "      <td>en</td>\n",
       "      <td>2911405</td>\n",
       "      <td>76</td>\n",
       "      <td>[Do not post spam or surveys.,  Do not post an...</td>\n",
       "    </tr>\n",
       "    <tr>\n",
       "      <th>97</th>\n",
       "      <td>manga</td>\n",
       "      <td>/r/manga: manga, on reddit.</td>\n",
       "      <td>Everything and anything manga!  (manhwa/manhua...</td>\n",
       "      <td>en</td>\n",
       "      <td>4725267</td>\n",
       "      <td>1480</td>\n",
       "      <td>[Disrespectful,  Follow submission guidelines ...</td>\n",
       "    </tr>\n",
       "    <tr>\n",
       "      <th>98</th>\n",
       "      <td>CrazyFuckingVideos</td>\n",
       "      <td>CrazyFuckingVideos</td>\n",
       "      <td>Crazy fucking videos for your viewing pleasure</td>\n",
       "      <td>en</td>\n",
       "      <td>2240152</td>\n",
       "      <td>799</td>\n",
       "      <td>[Follow Reddit's TOS,  Be civil,  Must be a Cr...</td>\n",
       "    </tr>\n",
       "    <tr>\n",
       "      <th>99</th>\n",
       "      <td>rareinsults</td>\n",
       "      <td>r/RareInsults</td>\n",
       "      <td>Did you stumble across a unique insult? Lookin...</td>\n",
       "      <td>en</td>\n",
       "      <td>2924628</td>\n",
       "      <td>201</td>\n",
       "      <td>[Don't be a dick,  No hateful insults,  Repost...</td>\n",
       "    </tr>\n",
       "  </tbody>\n",
       "</table>\n",
       "<p>99 rows × 7 columns</p>\n",
       "</div>"
      ],
      "text/plain": [
       "                domain                              title  \\\n",
       "0                 Home                               Home   \n",
       "2    NoStupidQuestions  No such thing as stupid questions   \n",
       "3         BaldursGate3                    Baldur's Gate 3   \n",
       "4             facepalm                now double verified   \n",
       "5    interestingasfuck                Interesting As Fuck   \n",
       "..                 ...                                ...   \n",
       "95           SteamDeck                         Steam Deck   \n",
       "96             college                            College   \n",
       "97               manga        /r/manga: manga, on reddit.   \n",
       "98  CrazyFuckingVideos                 CrazyFuckingVideos   \n",
       "99         rareinsults                      r/RareInsults   \n",
       "\n",
       "                                          description languages  total_users  \\\n",
       "0                                                 nan        en       307843   \n",
       "2   Ask away!\\n\\nDisclaimer: This is an anonymous ...        en      6021303   \n",
       "3   A community all about Baldur's Gate III, the r...        en      3118378   \n",
       "4      /r/facepalm - please sir can I have some more?        en      8145733   \n",
       "5              For anything truly interesting as fuck        en     13961838   \n",
       "..                                                ...       ...          ...   \n",
       "95  The Unofficial Subreddit for the Valve Steam D...        en       903284   \n",
       "96  The subreddit for discussion related to colleg...        en      2911405   \n",
       "97  Everything and anything manga!  (manhwa/manhua...        en      4725267   \n",
       "98     Crazy fucking videos for your viewing pleasure        en      2240152   \n",
       "99  Did you stumble across a unique insult? Lookin...        en      2924628   \n",
       "\n",
       "    active_month                                              rules  \n",
       "0             51                                                 []  \n",
       "2           4872  [Top level comments must contain a genuine hum...  \n",
       "3           1384  [Be civil to one another.,  Respect the opinio...  \n",
       "4           2345  [No uncivil, bigoted, misogynist, misandrist, ...  \n",
       "5           4038  [Posts MUST be INTERESTING AS FUCK!,  No Polit...  \n",
       "..           ...                                                ...  \n",
       "95           446  [Be Kind Or Get Banned,  Posts must be about o...  \n",
       "96            76  [Do not post spam or surveys.,  Do not post an...  \n",
       "97          1480  [Disrespectful,  Follow submission guidelines ...  \n",
       "98           799  [Follow Reddit's TOS,  Be civil,  Must be a Cr...  \n",
       "99           201  [Don't be a dick,  No hateful insults,  Repost...  \n",
       "\n",
       "[99 rows x 7 columns]"
      ]
     },
     "execution_count": 175,
     "metadata": {},
     "output_type": "execute_result"
    }
   ],
   "source": [
    "df_reddit_en"
   ]
  },
  {
   "cell_type": "code",
   "execution_count": null,
   "id": "3980b42d",
   "metadata": {},
   "outputs": [
    {
     "data": {
      "application/vnd.microsoft.datawrangler.viewer.v0+json": {
       "columns": [
        {
         "name": "index",
         "rawType": "int64",
         "type": "integer"
        },
        {
         "name": "server_id",
         "rawType": "int64",
         "type": "integer"
        },
        {
         "name": "rule_id",
         "rawType": "int64",
         "type": "integer"
        },
        {
         "name": "rules",
         "rawType": "object",
         "type": "string"
        }
       ],
       "ref": "7f86ea54-994f-43a4-b5c0-331e1878b0dd",
       "rows": [
        [
         "0",
         "1",
         "0",
         "Rule 1 - Questions must be clear and direct and may not use the body textbox"
        ],
        [
         "1",
         "1",
         "1",
         " Rule 2 - No personal or professional advice requests"
        ],
        [
         "2",
         "1",
         "2",
         " Rule 3 - Open ended questions only"
        ],
        [
         "3",
         "1",
         "3",
         " Rule 4 - No personal info"
        ],
        [
         "4",
         "1",
         "4",
         " Rule 5 - No loaded questions"
        ],
        [
         "5",
         "1",
         "5",
         " Rule 6 - [Serious] tagged posts are off-limits to jokes or irrelevant replies"
        ],
        [
         "6",
         "1",
         "6",
         " Rule 7 - No begging for goods or services, or Reddit rewards"
        ],
        [
         "7",
         "1",
         "7",
         " Rule 8 - Be respectful to other users at all times and conduct your behaviour in a civil manner"
        ],
        [
         "8",
         "1",
         "8",
         " Rule 9 -  No image only replies or large ascii art"
        ],
        [
         "9",
         "1",
         "9",
         " Rule 10 - Harmful Misinformation"
        ],
        [
         "10",
         "1",
         "10",
         " Rule 11 - No spam, machine generated content or karma farming"
        ],
        [
         "11",
         "2",
         "0",
         "Top level comments must contain a genuine human-written attempt at an answer"
        ],
        [
         "12",
         "2",
         "1",
         " Please try searching the subreddit for your question first"
        ],
        [
         "13",
         "2",
         "2",
         " Be Nice"
        ],
        [
         "14",
         "2",
         "3",
         " No medical advice questions"
        ],
        [
         "15",
         "2",
         "4",
         " No trolling or joke questions"
        ],
        [
         "16",
         "2",
         "5",
         " No suicide or 'was I raped/sexual assaulted/sexually harrassed?' questions"
        ],
        [
         "17",
         "2",
         "6",
         " No self-promotion, shilling or begging"
        ],
        [
         "18",
         "2",
         "7",
         " No illegal/unethical or disturbing subject matter"
        ],
        [
         "19",
         "2",
         "8",
         " No disguised rants, agenda posts or potstirring"
        ],
        [
         "20",
         "3",
         "0",
         "Be civil to one another."
        ],
        [
         "21",
         "3",
         "1",
         " Respect the opinions of others."
        ],
        [
         "22",
         "3",
         "2",
         " Keep your posts relevant."
        ],
        [
         "23",
         "3",
         "3",
         " Tag spoilers and NSFW content."
        ],
        [
         "24",
         "3",
         "4",
         " Memes, screenshots, and fanart must be flaired."
        ],
        [
         "25",
         "3",
         "5",
         " No Spamming"
        ],
        [
         "26",
         "3",
         "6",
         " No Tav, Build/Multiclass, or LFG Posts outside of their megathreads"
        ],
        [
         "27",
         "3",
         "7",
         " No piracy allowed. No posting pirated material of any kind but especially 5e material"
        ],
        [
         "28",
         "3",
         "8",
         " Use modmail for issues or giveaways - don't mention/link or directly message the Mods"
        ],
        [
         "29",
         "3",
         "9",
         " No discussion exclusively about 3rd Party wikis"
        ],
        [
         "30",
         "3",
         "10",
         " No AI generated content or discussion"
        ],
        [
         "31",
         "3",
         "11",
         " All posts should be in English. Non-English comments are allowed."
        ],
        [
         "32",
         "3",
         "12",
         " No asking for game codes/the game/steam accounts"
        ],
        [
         "33",
         "3",
         "13",
         " No posting about bigoted mods"
        ],
        [
         "34",
         "3",
         "14",
         " Cosplay posts must now be submitted on Sundays. "
        ],
        [
         "35",
         "4",
         "0",
         "No uncivil, bigoted, misogynist, misandrist, racist comments or posts."
        ],
        [
         "36",
         "4",
         "1",
         " No Misinformation"
        ],
        [
         "37",
         "4",
         "2",
         " No Memes"
        ],
        [
         "38",
         "4",
         "3",
         " No language error posts"
        ],
        [
         "39",
         "4",
         "4",
         " No jokes/satire/trolls posts"
        ],
        [
         "40",
         "4",
         "5",
         " Remove identifying personal information"
        ],
        [
         "41",
         "4",
         "6",
         " No 'likes\"/\"shares\" posts"
        ],
        [
         "42",
         "4",
         "7",
         " No \"Reddit Meta\" Posts"
        ],
        [
         "43",
         "4",
         "8",
         " No posts about politicians being politicians"
        ],
        [
         "44",
         "4",
         "9",
         " No posts attacking a political party or side"
        ],
        [
         "45",
         "5",
         "0",
         "Posts MUST be INTERESTING AS FUCK!"
        ],
        [
         "46",
         "5",
         "1",
         " No Politics"
        ],
        [
         "47",
         "5",
         "2",
         " Titles must be descriptive and directly related to the content"
        ],
        [
         "48",
         "5",
         "3",
         " No porn or gore"
        ],
        [
         "49",
         "5",
         "4",
         " No doxing/witch hunts or meta related posts"
        ]
       ],
       "shape": {
        "columns": 3,
        "rows": 1055
       }
      },
      "text/html": [
       "<div>\n",
       "<style scoped>\n",
       "    .dataframe tbody tr th:only-of-type {\n",
       "        vertical-align: middle;\n",
       "    }\n",
       "\n",
       "    .dataframe tbody tr th {\n",
       "        vertical-align: top;\n",
       "    }\n",
       "\n",
       "    .dataframe thead th {\n",
       "        text-align: right;\n",
       "    }\n",
       "</style>\n",
       "<table border=\"1\" class=\"dataframe\">\n",
       "  <thead>\n",
       "    <tr style=\"text-align: right;\">\n",
       "      <th></th>\n",
       "      <th>server_id</th>\n",
       "      <th>rule_id</th>\n",
       "      <th>rules</th>\n",
       "    </tr>\n",
       "  </thead>\n",
       "  <tbody>\n",
       "    <tr>\n",
       "      <th>0</th>\n",
       "      <td>1</td>\n",
       "      <td>0</td>\n",
       "      <td>Rule 1 - Questions must be clear and direct an...</td>\n",
       "    </tr>\n",
       "    <tr>\n",
       "      <th>1</th>\n",
       "      <td>1</td>\n",
       "      <td>1</td>\n",
       "      <td>Rule 2 - No personal or professional advice r...</td>\n",
       "    </tr>\n",
       "    <tr>\n",
       "      <th>2</th>\n",
       "      <td>1</td>\n",
       "      <td>2</td>\n",
       "      <td>Rule 3 - Open ended questions only</td>\n",
       "    </tr>\n",
       "    <tr>\n",
       "      <th>3</th>\n",
       "      <td>1</td>\n",
       "      <td>3</td>\n",
       "      <td>Rule 4 - No personal info</td>\n",
       "    </tr>\n",
       "    <tr>\n",
       "      <th>4</th>\n",
       "      <td>1</td>\n",
       "      <td>4</td>\n",
       "      <td>Rule 5 - No loaded questions</td>\n",
       "    </tr>\n",
       "    <tr>\n",
       "      <th>...</th>\n",
       "      <td>...</td>\n",
       "      <td>...</td>\n",
       "      <td>...</td>\n",
       "    </tr>\n",
       "    <tr>\n",
       "      <th>1050</th>\n",
       "      <td>99</td>\n",
       "      <td>8</td>\n",
       "      <td>No image macros/memes</td>\n",
       "    </tr>\n",
       "    <tr>\n",
       "      <th>1051</th>\n",
       "      <td>99</td>\n",
       "      <td>9</td>\n",
       "      <td>No crossposts</td>\n",
       "    </tr>\n",
       "    <tr>\n",
       "      <th>1052</th>\n",
       "      <td>99</td>\n",
       "      <td>10</td>\n",
       "      <td>No r/RoastMe</td>\n",
       "    </tr>\n",
       "    <tr>\n",
       "      <th>1053</th>\n",
       "      <td>99</td>\n",
       "      <td>11</td>\n",
       "      <td>Moderators Discretion</td>\n",
       "    </tr>\n",
       "    <tr>\n",
       "      <th>1054</th>\n",
       "      <td>99</td>\n",
       "      <td>12</td>\n",
       "      <td>Do not post your own insults</td>\n",
       "    </tr>\n",
       "  </tbody>\n",
       "</table>\n",
       "<p>1055 rows × 3 columns</p>\n",
       "</div>"
      ],
      "text/plain": [
       "      server_id  rule_id                                              rules\n",
       "0             1        0  Rule 1 - Questions must be clear and direct an...\n",
       "1             1        1   Rule 2 - No personal or professional advice r...\n",
       "2             1        2                 Rule 3 - Open ended questions only\n",
       "3             1        3                          Rule 4 - No personal info\n",
       "4             1        4                       Rule 5 - No loaded questions\n",
       "...         ...      ...                                                ...\n",
       "1050         99        8                              No image macros/memes\n",
       "1051         99        9                                      No crossposts\n",
       "1052         99       10                                       No r/RoastMe\n",
       "1053         99       11                              Moderators Discretion\n",
       "1054         99       12                       Do not post your own insults\n",
       "\n",
       "[1055 rows x 3 columns]"
      ]
     },
     "execution_count": 56,
     "metadata": {},
     "output_type": "execute_result"
    }
   ],
   "source": [
    "reddit_rules = reddit.extract_rules()\n",
    "reddit_rules"
   ]
  },
  {
   "cell_type": "code",
   "execution_count": null,
   "id": "36b4b8a8",
   "metadata": {},
   "outputs": [
    {
     "data": {
      "application/vnd.microsoft.datawrangler.viewer.v0+json": {
       "columns": [
        {
         "name": "index",
         "rawType": "int64",
         "type": "integer"
        },
        {
         "name": "server_id",
         "rawType": "int64",
         "type": "integer"
        },
        {
         "name": "rules",
         "rawType": "object",
         "type": "string"
        },
        {
         "name": "rule_id",
         "rawType": "int64",
         "type": "integer"
        }
       ],
       "ref": "483b6fdc-0b2d-4973-9ed4-9b2b65fc6600",
       "rows": [
        [
         "1",
         "2",
         "Top level comments must contain a genuine human-written attempt at an answer",
         "0"
        ],
        [
         "2",
         "2",
         " Please try searching the subreddit for your question first",
         "1"
        ],
        [
         "3",
         "2",
         " Be Nice",
         "2"
        ],
        [
         "4",
         "2",
         " No medical advice questions",
         "3"
        ],
        [
         "5",
         "2",
         " No trolling or joke questions",
         "4"
        ],
        [
         "6",
         "2",
         " No suicide or 'was I raped/sexual assaulted/sexually harrassed?' questions",
         "5"
        ],
        [
         "7",
         "2",
         " No self-promotion, shilling or begging",
         "6"
        ],
        [
         "8",
         "2",
         " No illegal/unethical or disturbing subject matter",
         "7"
        ],
        [
         "9",
         "2",
         " No disguised rants, agenda posts or potstirring",
         "8"
        ],
        [
         "10",
         "3",
         "Be civil to one another.",
         "0"
        ],
        [
         "11",
         "3",
         " Respect the opinions of others.",
         "1"
        ],
        [
         "12",
         "3",
         " Keep your posts relevant.",
         "2"
        ],
        [
         "13",
         "3",
         " Tag spoilers and NSFW content.",
         "3"
        ],
        [
         "14",
         "3",
         " Memes, screenshots, and fanart must be flaired.",
         "4"
        ],
        [
         "15",
         "3",
         " No Spamming",
         "5"
        ],
        [
         "16",
         "3",
         " No Tav, Build/Multiclass, or LFG Posts outside of their megathreads",
         "6"
        ],
        [
         "17",
         "3",
         " No piracy allowed. No posting pirated material of any kind but especially 5e material",
         "7"
        ],
        [
         "18",
         "3",
         " Use modmail for issues or giveaways - don't mention/link or directly message the Mods",
         "8"
        ],
        [
         "19",
         "3",
         " No discussion exclusively about 3rd Party wikis",
         "9"
        ],
        [
         "20",
         "3",
         " No AI generated content or discussion",
         "10"
        ],
        [
         "21",
         "3",
         " All posts should be in English. Non-English comments are allowed.",
         "11"
        ],
        [
         "22",
         "3",
         " No asking for game codes/the game/steam accounts",
         "12"
        ],
        [
         "23",
         "3",
         " No posting about bigoted mods",
         "13"
        ],
        [
         "24",
         "3",
         " Cosplay posts must now be submitted on Sundays. ",
         "14"
        ],
        [
         "25",
         "4",
         "No uncivil, bigoted, misogynist, misandrist, racist comments or posts.",
         "0"
        ],
        [
         "26",
         "4",
         " No Misinformation",
         "1"
        ],
        [
         "27",
         "4",
         " No Memes",
         "2"
        ],
        [
         "28",
         "4",
         " No language error posts",
         "3"
        ],
        [
         "29",
         "4",
         " No jokes/satire/trolls posts",
         "4"
        ],
        [
         "30",
         "4",
         " Remove identifying personal information",
         "5"
        ],
        [
         "31",
         "4",
         " No 'likes\"/\"shares\" posts",
         "6"
        ],
        [
         "32",
         "4",
         " No \"Reddit Meta\" Posts",
         "7"
        ],
        [
         "33",
         "4",
         " No posts about politicians being politicians",
         "8"
        ],
        [
         "34",
         "4",
         " No posts attacking a political party or side",
         "9"
        ],
        [
         "35",
         "5",
         "Posts MUST be INTERESTING AS FUCK!",
         "0"
        ],
        [
         "36",
         "5",
         " No Politics",
         "1"
        ],
        [
         "37",
         "5",
         " Titles must be descriptive and directly related to the content",
         "2"
        ],
        [
         "38",
         "5",
         " No porn or gore",
         "3"
        ],
        [
         "39",
         "5",
         " No doxing/witch hunts or meta related posts",
         "4"
        ],
        [
         "40",
         "5",
         " Provide a source when the title is in doubt",
         "5"
        ],
        [
         "41",
         "5",
         " No FCoO/flooding",
         "6"
        ],
        [
         "42",
         "5",
         " No self-promotion",
         "7"
        ],
        [
         "43",
         "5",
         " Be civil",
         "8"
        ],
        [
         "44",
         "5",
         " Repost limitations",
         "9"
        ],
        [
         "45",
         "5",
         " No gossip or tabloid-type material",
         "10"
        ],
        [
         "46",
         "5",
         " Additional/temporary rules",
         "11"
        ],
        [
         "47",
         "6",
         "Only \"Damnthatsinteresting\" content",
         "0"
        ],
        [
         "48",
         "6",
         " Use descriptive titles",
         "1"
        ],
        [
         "49",
         "6",
         " No racism, bigotry, or hate speech",
         "2"
        ],
        [
         "50",
         "6",
         " No screenshots/memes/infographics",
         "3"
        ]
       ],
       "shape": {
        "columns": 3,
        "rows": 1044
       }
      },
      "text/html": [
       "<div>\n",
       "<style scoped>\n",
       "    .dataframe tbody tr th:only-of-type {\n",
       "        vertical-align: middle;\n",
       "    }\n",
       "\n",
       "    .dataframe tbody tr th {\n",
       "        vertical-align: top;\n",
       "    }\n",
       "\n",
       "    .dataframe thead th {\n",
       "        text-align: right;\n",
       "    }\n",
       "</style>\n",
       "<table border=\"1\" class=\"dataframe\">\n",
       "  <thead>\n",
       "    <tr style=\"text-align: right;\">\n",
       "      <th></th>\n",
       "      <th>server_id</th>\n",
       "      <th>rules</th>\n",
       "      <th>rule_id</th>\n",
       "    </tr>\n",
       "  </thead>\n",
       "  <tbody>\n",
       "    <tr>\n",
       "      <th>1</th>\n",
       "      <td>2</td>\n",
       "      <td>Top level comments must contain a genuine huma...</td>\n",
       "      <td>0</td>\n",
       "    </tr>\n",
       "    <tr>\n",
       "      <th>2</th>\n",
       "      <td>2</td>\n",
       "      <td>Please try searching the subreddit for your q...</td>\n",
       "      <td>1</td>\n",
       "    </tr>\n",
       "    <tr>\n",
       "      <th>3</th>\n",
       "      <td>2</td>\n",
       "      <td>Be Nice</td>\n",
       "      <td>2</td>\n",
       "    </tr>\n",
       "    <tr>\n",
       "      <th>4</th>\n",
       "      <td>2</td>\n",
       "      <td>No medical advice questions</td>\n",
       "      <td>3</td>\n",
       "    </tr>\n",
       "    <tr>\n",
       "      <th>5</th>\n",
       "      <td>2</td>\n",
       "      <td>No trolling or joke questions</td>\n",
       "      <td>4</td>\n",
       "    </tr>\n",
       "    <tr>\n",
       "      <th>...</th>\n",
       "      <td>...</td>\n",
       "      <td>...</td>\n",
       "      <td>...</td>\n",
       "    </tr>\n",
       "    <tr>\n",
       "      <th>1040</th>\n",
       "      <td>99</td>\n",
       "      <td>No image macros/memes</td>\n",
       "      <td>8</td>\n",
       "    </tr>\n",
       "    <tr>\n",
       "      <th>1041</th>\n",
       "      <td>99</td>\n",
       "      <td>No crossposts</td>\n",
       "      <td>9</td>\n",
       "    </tr>\n",
       "    <tr>\n",
       "      <th>1042</th>\n",
       "      <td>99</td>\n",
       "      <td>No r/RoastMe</td>\n",
       "      <td>10</td>\n",
       "    </tr>\n",
       "    <tr>\n",
       "      <th>1043</th>\n",
       "      <td>99</td>\n",
       "      <td>Moderators Discretion</td>\n",
       "      <td>11</td>\n",
       "    </tr>\n",
       "    <tr>\n",
       "      <th>1044</th>\n",
       "      <td>99</td>\n",
       "      <td>Do not post your own insults</td>\n",
       "      <td>12</td>\n",
       "    </tr>\n",
       "  </tbody>\n",
       "</table>\n",
       "<p>1044 rows × 3 columns</p>\n",
       "</div>"
      ],
      "text/plain": [
       "      server_id                                              rules  rule_id\n",
       "1             2  Top level comments must contain a genuine huma...        0\n",
       "2             2   Please try searching the subreddit for your q...        1\n",
       "3             2                                            Be Nice        2\n",
       "4             2                        No medical advice questions        3\n",
       "5             2                      No trolling or joke questions        4\n",
       "...         ...                                                ...      ...\n",
       "1040         99                              No image macros/memes        8\n",
       "1041         99                                      No crossposts        9\n",
       "1042         99                                       No r/RoastMe       10\n",
       "1043         99                              Moderators Discretion       11\n",
       "1044         99                       Do not post your own insults       12\n",
       "\n",
       "[1044 rows x 3 columns]"
      ]
     },
     "execution_count": 203,
     "metadata": {},
     "output_type": "execute_result"
    }
   ],
   "source": [
    "rules = df_reddit_en['rules'].explode().reset_index(drop=False)\n",
    "rules = rules.rename(columns={\"index\": \"server_id\"})\n",
    "# We add an index to the rules\n",
    "rules[\"rule_id\"] = rules.groupby(\"server_id\").cumcount()\n",
    "rules = rules.dropna()\n",
    "rules"
   ]
  },
  {
   "cell_type": "code",
   "execution_count": null,
   "id": "f14ac1e2",
   "metadata": {},
   "outputs": [],
   "source": []
  },
  {
   "cell_type": "code",
   "execution_count": null,
   "id": "a4f4f3be",
   "metadata": {},
   "outputs": [
    {
     "name": "stdout",
     "output_type": "stream",
     "text": [
      " We removed 277 of the 1044 rules (27%) that were not detected to be in english.\n"
     ]
    }
   ],
   "source": [
    "# remove rules that are not written in english\n",
    "df_english = rules[rules.rules.apply(utils.is_english)].reset_index(drop=True)\n",
    "\n",
    "non_english_rules_pourcentage = 100 * (rules.shape[0] - df_english.shape[0]) / rules.shape[0]\n",
    "\n",
    "print(f\" We removed {rules.shape[0] - df_english.shape[0]} of the {rules.shape[0]} rules ({non_english_rules_pourcentage:.0f}%) that were not detected to be in english.\")"
   ]
  },
  {
   "cell_type": "code",
   "execution_count": null,
   "id": "b39cb443",
   "metadata": {},
   "outputs": [],
   "source": [
    "def r_remove_empty(x):\n",
    "    if isinstance(x, list) and len(x) > 0:\n",
    "        return [item for item in x if item != '']\n",
    "    return x\n",
    "\n",
    "def r_standardize_text(df_column):\n",
    "    df_column = df_column.apply(lambda x: x.strip() if isinstance(x, str) else x)\n",
    "    df_column = df_column.str.lower()\n",
    "    df_column = df_column.str.replace(r\"[^a-zA-Z0-9\\s]\", \" \", regex=True)\n",
    "    df_column = df_column.str.replace(r\"\\s+\", \" \", regex=True).str.strip()\n",
    "    df_column = df_column.str.split(\" \")\n",
    "    df_column = df_column.apply(r_remove_empty)\n",
    "    return df_column"
   ]
  },
  {
   "cell_type": "code",
   "execution_count": null,
   "id": "3aab4839",
   "metadata": {},
   "outputs": [
    {
     "data": {
      "text/plain": [
       "pandas.core.frame.DataFrame"
      ]
     },
     "execution_count": 206,
     "metadata": {},
     "output_type": "execute_result"
    }
   ],
   "source": [
    "type(df_english)"
   ]
  },
  {
   "cell_type": "code",
   "execution_count": null,
   "id": "5d7782b1",
   "metadata": {},
   "outputs": [
    {
     "data": {
      "application/vnd.microsoft.datawrangler.viewer.v0+json": {
       "columns": [
        {
         "name": "index",
         "rawType": "int64",
         "type": "integer"
        },
        {
         "name": "server_id",
         "rawType": "int64",
         "type": "integer"
        },
        {
         "name": "rules",
         "rawType": "object",
         "type": "string"
        },
        {
         "name": "rule_id",
         "rawType": "int64",
         "type": "integer"
        }
       ],
       "ref": "57e1393b-36cb-4ca4-a0e6-fd416e2c3022",
       "rows": [
        [
         "0",
         "2",
         "Top level comments must contain a genuine human-written attempt at an answer",
         "0"
        ],
        [
         "1",
         "2",
         " Please try searching the subreddit for your question first",
         "1"
        ],
        [
         "2",
         "2",
         " No suicide or 'was I raped/sexual assaulted/sexually harrassed?' questions",
         "5"
        ],
        [
         "3",
         "2",
         " No self-promotion, shilling or begging",
         "6"
        ],
        [
         "4",
         "2",
         " No illegal/unethical or disturbing subject matter",
         "7"
        ],
        [
         "5",
         "2",
         " No disguised rants, agenda posts or potstirring",
         "8"
        ],
        [
         "6",
         "3",
         "Be civil to one another.",
         "0"
        ],
        [
         "7",
         "3",
         " Respect the opinions of others.",
         "1"
        ],
        [
         "8",
         "3",
         " Tag spoilers and NSFW content.",
         "3"
        ],
        [
         "9",
         "3",
         " Memes, screenshots, and fanart must be flaired.",
         "4"
        ],
        [
         "10",
         "3",
         " No Spamming",
         "5"
        ],
        [
         "11",
         "3",
         " No Tav, Build/Multiclass, or LFG Posts outside of their megathreads",
         "6"
        ],
        [
         "12",
         "3",
         " No piracy allowed. No posting pirated material of any kind but especially 5e material",
         "7"
        ],
        [
         "13",
         "3",
         " Use modmail for issues or giveaways - don't mention/link or directly message the Mods",
         "8"
        ],
        [
         "14",
         "3",
         " No discussion exclusively about 3rd Party wikis",
         "9"
        ],
        [
         "15",
         "3",
         " All posts should be in English. Non-English comments are allowed.",
         "11"
        ],
        [
         "16",
         "3",
         " No asking for game codes/the game/steam accounts",
         "12"
        ],
        [
         "17",
         "3",
         " No posting about bigoted mods",
         "13"
        ],
        [
         "18",
         "3",
         " Cosplay posts must now be submitted on Sundays. ",
         "14"
        ],
        [
         "19",
         "4",
         "No uncivil, bigoted, misogynist, misandrist, racist comments or posts.",
         "0"
        ],
        [
         "20",
         "4",
         " No Misinformation",
         "1"
        ],
        [
         "21",
         "4",
         " Remove identifying personal information",
         "5"
        ],
        [
         "22",
         "4",
         " No \"Reddit Meta\" Posts",
         "7"
        ],
        [
         "23",
         "4",
         " No posts about politicians being politicians",
         "8"
        ],
        [
         "24",
         "4",
         " No posts attacking a political party or side",
         "9"
        ],
        [
         "25",
         "5",
         "Posts MUST be INTERESTING AS FUCK!",
         "0"
        ],
        [
         "26",
         "5",
         " No Politics",
         "1"
        ],
        [
         "27",
         "5",
         " Titles must be descriptive and directly related to the content",
         "2"
        ],
        [
         "28",
         "5",
         " No porn or gore",
         "3"
        ],
        [
         "29",
         "5",
         " No doxing/witch hunts or meta related posts",
         "4"
        ],
        [
         "30",
         "5",
         " Provide a source when the title is in doubt",
         "5"
        ],
        [
         "31",
         "5",
         " No FCoO/flooding",
         "6"
        ],
        [
         "32",
         "5",
         " No self-promotion",
         "7"
        ],
        [
         "33",
         "5",
         " No gossip or tabloid-type material",
         "10"
        ],
        [
         "34",
         "5",
         " Additional/temporary rules",
         "11"
        ],
        [
         "35",
         "6",
         "Only \"Damnthatsinteresting\" content",
         "0"
        ],
        [
         "36",
         "6",
         " No racism, bigotry, or hate speech",
         "2"
        ],
        [
         "37",
         "6",
         " No screenshots/memes/infographics",
         "3"
        ],
        [
         "38",
         "6",
         " No politics",
         "6"
        ],
        [
         "39",
         "6",
         " Posts making claims must be sourced in comments at time of posting",
         "7"
        ],
        [
         "40",
         "7",
         "Harassment: Civility",
         "0"
        ],
        [
         "41",
         "7",
         " Harassment: Death & Violence",
         "1"
        ],
        [
         "42",
         "7",
         " Harassment: Discrimination",
         "2"
        ],
        [
         "43",
         "7",
         " Harassment: Unsourced Allegations",
         "3"
        ],
        [
         "44",
         "7",
         " Harassment: Speculation",
         "4"
        ],
        [
         "45",
         "7",
         " Harassment: Out of Context Content",
         "5"
        ],
        [
         "46",
         "7",
         " Quality: Duplicate Submissions",
         "6"
        ],
        [
         "47",
         "7",
         " Quality: Title Guidelines",
         "7"
        ],
        [
         "48",
         "7",
         " Quality: Old News",
         "8"
        ],
        [
         "49",
         "7",
         " Spam: Off-topic",
         "12"
        ]
       ],
       "shape": {
        "columns": 3,
        "rows": 767
       }
      },
      "text/html": [
       "<div>\n",
       "<style scoped>\n",
       "    .dataframe tbody tr th:only-of-type {\n",
       "        vertical-align: middle;\n",
       "    }\n",
       "\n",
       "    .dataframe tbody tr th {\n",
       "        vertical-align: top;\n",
       "    }\n",
       "\n",
       "    .dataframe thead th {\n",
       "        text-align: right;\n",
       "    }\n",
       "</style>\n",
       "<table border=\"1\" class=\"dataframe\">\n",
       "  <thead>\n",
       "    <tr style=\"text-align: right;\">\n",
       "      <th></th>\n",
       "      <th>server_id</th>\n",
       "      <th>rules</th>\n",
       "      <th>rule_id</th>\n",
       "    </tr>\n",
       "  </thead>\n",
       "  <tbody>\n",
       "    <tr>\n",
       "      <th>0</th>\n",
       "      <td>2</td>\n",
       "      <td>Top level comments must contain a genuine huma...</td>\n",
       "      <td>0</td>\n",
       "    </tr>\n",
       "    <tr>\n",
       "      <th>1</th>\n",
       "      <td>2</td>\n",
       "      <td>Please try searching the subreddit for your q...</td>\n",
       "      <td>1</td>\n",
       "    </tr>\n",
       "    <tr>\n",
       "      <th>2</th>\n",
       "      <td>2</td>\n",
       "      <td>No suicide or 'was I raped/sexual assaulted/s...</td>\n",
       "      <td>5</td>\n",
       "    </tr>\n",
       "    <tr>\n",
       "      <th>3</th>\n",
       "      <td>2</td>\n",
       "      <td>No self-promotion, shilling or begging</td>\n",
       "      <td>6</td>\n",
       "    </tr>\n",
       "    <tr>\n",
       "      <th>4</th>\n",
       "      <td>2</td>\n",
       "      <td>No illegal/unethical or disturbing subject ma...</td>\n",
       "      <td>7</td>\n",
       "    </tr>\n",
       "    <tr>\n",
       "      <th>...</th>\n",
       "      <td>...</td>\n",
       "      <td>...</td>\n",
       "      <td>...</td>\n",
       "    </tr>\n",
       "    <tr>\n",
       "      <th>762</th>\n",
       "      <td>99</td>\n",
       "      <td>No personal information</td>\n",
       "      <td>4</td>\n",
       "    </tr>\n",
       "    <tr>\n",
       "      <th>763</th>\n",
       "      <td>99</td>\n",
       "      <td>No long videos (&gt;10s) or long texts</td>\n",
       "      <td>7</td>\n",
       "    </tr>\n",
       "    <tr>\n",
       "      <th>764</th>\n",
       "      <td>99</td>\n",
       "      <td>No r/RoastMe</td>\n",
       "      <td>10</td>\n",
       "    </tr>\n",
       "    <tr>\n",
       "      <th>765</th>\n",
       "      <td>99</td>\n",
       "      <td>Moderators Discretion</td>\n",
       "      <td>11</td>\n",
       "    </tr>\n",
       "    <tr>\n",
       "      <th>766</th>\n",
       "      <td>99</td>\n",
       "      <td>Do not post your own insults</td>\n",
       "      <td>12</td>\n",
       "    </tr>\n",
       "  </tbody>\n",
       "</table>\n",
       "<p>767 rows × 3 columns</p>\n",
       "</div>"
      ],
      "text/plain": [
       "     server_id                                              rules  rule_id\n",
       "0            2  Top level comments must contain a genuine huma...        0\n",
       "1            2   Please try searching the subreddit for your q...        1\n",
       "2            2   No suicide or 'was I raped/sexual assaulted/s...        5\n",
       "3            2             No self-promotion, shilling or begging        6\n",
       "4            2   No illegal/unethical or disturbing subject ma...        7\n",
       "..         ...                                                ...      ...\n",
       "762         99                            No personal information        4\n",
       "763         99                No long videos (>10s) or long texts        7\n",
       "764         99                                       No r/RoastMe       10\n",
       "765         99                              Moderators Discretion       11\n",
       "766         99                       Do not post your own insults       12\n",
       "\n",
       "[767 rows x 3 columns]"
      ]
     },
     "execution_count": 207,
     "metadata": {},
     "output_type": "execute_result"
    }
   ],
   "source": [
    "df_english"
   ]
  },
  {
   "cell_type": "code",
   "execution_count": null,
   "id": "eb63ba13",
   "metadata": {},
   "outputs": [
    {
     "data": {
      "application/vnd.microsoft.datawrangler.viewer.v0+json": {
       "columns": [
        {
         "name": "index",
         "rawType": "int64",
         "type": "integer"
        },
        {
         "name": "server_id",
         "rawType": "int64",
         "type": "integer"
        },
        {
         "name": "rules",
         "rawType": "object",
         "type": "unknown"
        },
        {
         "name": "rule_id",
         "rawType": "int64",
         "type": "integer"
        }
       ],
       "ref": "788ef24d-bc02-4338-8f6f-c6422b7f321c",
       "rows": [
        [
         "0",
         "2",
         "['top', 'level', 'comments', 'must', 'contain', 'a', 'genuine', 'human', 'written', 'attempt', 'at', 'an', 'answer']",
         "0"
        ],
        [
         "1",
         "2",
         "['please', 'try', 'searching', 'the', 'subreddit', 'for', 'your', 'question', 'first']",
         "1"
        ],
        [
         "2",
         "2",
         "['no', 'suicide', 'or', 'was', 'i', 'raped', 'sexual', 'assaulted', 'sexually', 'harrassed', 'questions']",
         "5"
        ],
        [
         "3",
         "2",
         "['no', 'self', 'promotion', 'shilling', 'or', 'begging']",
         "6"
        ],
        [
         "4",
         "2",
         "['no', 'illegal', 'unethical', 'or', 'disturbing', 'subject', 'matter']",
         "7"
        ],
        [
         "5",
         "2",
         "['no', 'disguised', 'rants', 'agenda', 'posts', 'or', 'potstirring']",
         "8"
        ],
        [
         "6",
         "3",
         "['be', 'civil', 'to', 'one', 'another']",
         "0"
        ],
        [
         "7",
         "3",
         "['respect', 'the', 'opinions', 'of', 'others']",
         "1"
        ],
        [
         "8",
         "3",
         "['tag', 'spoilers', 'and', 'nsfw', 'content']",
         "3"
        ],
        [
         "9",
         "3",
         "['memes', 'screenshots', 'and', 'fanart', 'must', 'be', 'flaired']",
         "4"
        ],
        [
         "10",
         "3",
         "['no', 'spamming']",
         "5"
        ],
        [
         "11",
         "3",
         "['no', 'tav', 'build', 'multiclass', 'or', 'lfg', 'posts', 'outside', 'of', 'their', 'megathreads']",
         "6"
        ],
        [
         "12",
         "3",
         "['no', 'piracy', 'allowed', 'no', 'posting', 'pirated', 'material', 'of', 'any', 'kind', 'but', 'especially', '5e', 'material']",
         "7"
        ],
        [
         "13",
         "3",
         "['use', 'modmail', 'for', 'issues', 'or', 'giveaways', 'don', 't', 'mention', 'link', 'or', 'directly', 'message', 'the', 'mods']",
         "8"
        ],
        [
         "14",
         "3",
         "['no', 'discussion', 'exclusively', 'about', '3rd', 'party', 'wikis']",
         "9"
        ],
        [
         "15",
         "3",
         "['all', 'posts', 'should', 'be', 'in', 'english', 'non', 'english', 'comments', 'are', 'allowed']",
         "11"
        ],
        [
         "16",
         "3",
         "['no', 'asking', 'for', 'game', 'codes', 'the', 'game', 'steam', 'accounts']",
         "12"
        ],
        [
         "17",
         "3",
         "['no', 'posting', 'about', 'bigoted', 'mods']",
         "13"
        ],
        [
         "18",
         "3",
         "['cosplay', 'posts', 'must', 'now', 'be', 'submitted', 'on', 'sundays']",
         "14"
        ],
        [
         "19",
         "4",
         "['no', 'uncivil', 'bigoted', 'misogynist', 'misandrist', 'racist', 'comments', 'or', 'posts']",
         "0"
        ],
        [
         "20",
         "4",
         "['no', 'misinformation']",
         "1"
        ],
        [
         "21",
         "4",
         "['remove', 'identifying', 'personal', 'information']",
         "5"
        ],
        [
         "22",
         "4",
         "['no', 'reddit', 'meta', 'posts']",
         "7"
        ],
        [
         "23",
         "4",
         "['no', 'posts', 'about', 'politicians', 'being', 'politicians']",
         "8"
        ],
        [
         "24",
         "4",
         "['no', 'posts', 'attacking', 'a', 'political', 'party', 'or', 'side']",
         "9"
        ],
        [
         "25",
         "5",
         "['posts', 'must', 'be', 'interesting', 'as', 'fuck']",
         "0"
        ],
        [
         "26",
         "5",
         "['no', 'politics']",
         "1"
        ],
        [
         "27",
         "5",
         "['titles', 'must', 'be', 'descriptive', 'and', 'directly', 'related', 'to', 'the', 'content']",
         "2"
        ],
        [
         "28",
         "5",
         "['no', 'porn', 'or', 'gore']",
         "3"
        ],
        [
         "29",
         "5",
         "['no', 'doxing', 'witch', 'hunts', 'or', 'meta', 'related', 'posts']",
         "4"
        ],
        [
         "30",
         "5",
         "['provide', 'a', 'source', 'when', 'the', 'title', 'is', 'in', 'doubt']",
         "5"
        ],
        [
         "31",
         "5",
         "['no', 'fcoo', 'flooding']",
         "6"
        ],
        [
         "32",
         "5",
         "['no', 'self', 'promotion']",
         "7"
        ],
        [
         "33",
         "5",
         "['no', 'gossip', 'or', 'tabloid', 'type', 'material']",
         "10"
        ],
        [
         "34",
         "5",
         "['additional', 'temporary', 'rules']",
         "11"
        ],
        [
         "35",
         "6",
         "['only', 'damnthatsinteresting', 'content']",
         "0"
        ],
        [
         "36",
         "6",
         "['no', 'racism', 'bigotry', 'or', 'hate', 'speech']",
         "2"
        ],
        [
         "37",
         "6",
         "['no', 'screenshots', 'memes', 'infographics']",
         "3"
        ],
        [
         "38",
         "6",
         "['no', 'politics']",
         "6"
        ],
        [
         "39",
         "6",
         "['posts', 'making', 'claims', 'must', 'be', 'sourced', 'in', 'comments', 'at', 'time', 'of', 'posting']",
         "7"
        ],
        [
         "40",
         "7",
         "['harassment', 'civility']",
         "0"
        ],
        [
         "41",
         "7",
         "['harassment', 'death', 'violence']",
         "1"
        ],
        [
         "42",
         "7",
         "['harassment', 'discrimination']",
         "2"
        ],
        [
         "43",
         "7",
         "['harassment', 'unsourced', 'allegations']",
         "3"
        ],
        [
         "44",
         "7",
         "['harassment', 'speculation']",
         "4"
        ],
        [
         "45",
         "7",
         "['harassment', 'out', 'of', 'context', 'content']",
         "5"
        ],
        [
         "46",
         "7",
         "['quality', 'duplicate', 'submissions']",
         "6"
        ],
        [
         "47",
         "7",
         "['quality', 'title', 'guidelines']",
         "7"
        ],
        [
         "48",
         "7",
         "['quality', 'old', 'news']",
         "8"
        ],
        [
         "49",
         "7",
         "['spam', 'off', 'topic']",
         "12"
        ]
       ],
       "shape": {
        "columns": 3,
        "rows": 767
       }
      },
      "text/html": [
       "<div>\n",
       "<style scoped>\n",
       "    .dataframe tbody tr th:only-of-type {\n",
       "        vertical-align: middle;\n",
       "    }\n",
       "\n",
       "    .dataframe tbody tr th {\n",
       "        vertical-align: top;\n",
       "    }\n",
       "\n",
       "    .dataframe thead th {\n",
       "        text-align: right;\n",
       "    }\n",
       "</style>\n",
       "<table border=\"1\" class=\"dataframe\">\n",
       "  <thead>\n",
       "    <tr style=\"text-align: right;\">\n",
       "      <th></th>\n",
       "      <th>server_id</th>\n",
       "      <th>rules</th>\n",
       "      <th>rule_id</th>\n",
       "    </tr>\n",
       "  </thead>\n",
       "  <tbody>\n",
       "    <tr>\n",
       "      <th>0</th>\n",
       "      <td>2</td>\n",
       "      <td>[top, level, comments, must, contain, a, genui...</td>\n",
       "      <td>0</td>\n",
       "    </tr>\n",
       "    <tr>\n",
       "      <th>1</th>\n",
       "      <td>2</td>\n",
       "      <td>[please, try, searching, the, subreddit, for, ...</td>\n",
       "      <td>1</td>\n",
       "    </tr>\n",
       "    <tr>\n",
       "      <th>2</th>\n",
       "      <td>2</td>\n",
       "      <td>[no, suicide, or, was, i, raped, sexual, assau...</td>\n",
       "      <td>5</td>\n",
       "    </tr>\n",
       "    <tr>\n",
       "      <th>3</th>\n",
       "      <td>2</td>\n",
       "      <td>[no, self, promotion, shilling, or, begging]</td>\n",
       "      <td>6</td>\n",
       "    </tr>\n",
       "    <tr>\n",
       "      <th>4</th>\n",
       "      <td>2</td>\n",
       "      <td>[no, illegal, unethical, or, disturbing, subje...</td>\n",
       "      <td>7</td>\n",
       "    </tr>\n",
       "    <tr>\n",
       "      <th>...</th>\n",
       "      <td>...</td>\n",
       "      <td>...</td>\n",
       "      <td>...</td>\n",
       "    </tr>\n",
       "    <tr>\n",
       "      <th>762</th>\n",
       "      <td>99</td>\n",
       "      <td>[no, personal, information]</td>\n",
       "      <td>4</td>\n",
       "    </tr>\n",
       "    <tr>\n",
       "      <th>763</th>\n",
       "      <td>99</td>\n",
       "      <td>[no, long, videos, 10s, or, long, texts]</td>\n",
       "      <td>7</td>\n",
       "    </tr>\n",
       "    <tr>\n",
       "      <th>764</th>\n",
       "      <td>99</td>\n",
       "      <td>[no, r, roastme]</td>\n",
       "      <td>10</td>\n",
       "    </tr>\n",
       "    <tr>\n",
       "      <th>765</th>\n",
       "      <td>99</td>\n",
       "      <td>[moderators, discretion]</td>\n",
       "      <td>11</td>\n",
       "    </tr>\n",
       "    <tr>\n",
       "      <th>766</th>\n",
       "      <td>99</td>\n",
       "      <td>[do, not, post, your, own, insults]</td>\n",
       "      <td>12</td>\n",
       "    </tr>\n",
       "  </tbody>\n",
       "</table>\n",
       "<p>767 rows × 3 columns</p>\n",
       "</div>"
      ],
      "text/plain": [
       "     server_id                                              rules  rule_id\n",
       "0            2  [top, level, comments, must, contain, a, genui...        0\n",
       "1            2  [please, try, searching, the, subreddit, for, ...        1\n",
       "2            2  [no, suicide, or, was, i, raped, sexual, assau...        5\n",
       "3            2       [no, self, promotion, shilling, or, begging]        6\n",
       "4            2  [no, illegal, unethical, or, disturbing, subje...        7\n",
       "..         ...                                                ...      ...\n",
       "762         99                        [no, personal, information]        4\n",
       "763         99           [no, long, videos, 10s, or, long, texts]        7\n",
       "764         99                                   [no, r, roastme]       10\n",
       "765         99                           [moderators, discretion]       11\n",
       "766         99                [do, not, post, your, own, insults]       12\n",
       "\n",
       "[767 rows x 3 columns]"
      ]
     },
     "execution_count": 208,
     "metadata": {},
     "output_type": "execute_result"
    }
   ],
   "source": [
    "# Process te rules for NLP\n",
    "standardized_df = df_english.copy()\n",
    "standardized_df[\"rules\"] = r_standardize_text(standardized_df['rules'])\n",
    "\n",
    "# Compute strictness metrics TODO: define metrics and compute them\n",
    "#standardized_df[\"strict_rule\"] = standardized_df[\"rules\"].apply(utils.contains_strict_words)\n",
    "standardized_df #[\"rules\"]"
   ]
  },
  {
   "cell_type": "code",
   "execution_count": null,
   "id": "6ff86570",
   "metadata": {},
   "outputs": [
    {
     "data": {
      "application/vnd.microsoft.datawrangler.viewer.v0+json": {
       "columns": [
        {
         "name": "index",
         "rawType": "int64",
         "type": "integer"
        },
        {
         "name": "server_id",
         "rawType": "int64",
         "type": "integer"
        },
        {
         "name": "rules",
         "rawType": "object",
         "type": "unknown"
        },
        {
         "name": "rule_id",
         "rawType": "int64",
         "type": "integer"
        }
       ],
       "ref": "c146abc8-aa60-42bf-bbfc-8e40e316e34f",
       "rows": [
        [
         "0",
         "2",
         "['top', 'level', 'comments', 'must', 'contain', 'a', 'genuine', 'human', 'written', 'attempt', 'at', 'an', 'answer']",
         "0"
        ],
        [
         "1",
         "2",
         "['please', 'try', 'searching', 'the', 'subreddit', 'for', 'your', 'question', 'first']",
         "1"
        ],
        [
         "2",
         "2",
         "['no', 'suicide', 'or', 'was', 'i', 'raped', 'sexual', 'assaulted', 'sexually', 'harrassed', 'questions']",
         "5"
        ],
        [
         "3",
         "2",
         "['no', 'self', 'promotion', 'shilling', 'or', 'begging']",
         "6"
        ],
        [
         "4",
         "2",
         "['no', 'illegal', 'unethical', 'or', 'disturbing', 'subject', 'matter']",
         "7"
        ],
        [
         "5",
         "2",
         "['no', 'disguised', 'rants', 'agenda', 'posts', 'or', 'potstirring']",
         "8"
        ],
        [
         "6",
         "3",
         "['be', 'civil', 'to', 'one', 'another']",
         "0"
        ],
        [
         "7",
         "3",
         "['respect', 'the', 'opinions', 'of', 'others']",
         "1"
        ],
        [
         "8",
         "3",
         "['tag', 'spoilers', 'and', 'nsfw', 'content']",
         "3"
        ],
        [
         "9",
         "3",
         "['memes', 'screenshots', 'and', 'fanart', 'must', 'be', 'flaired']",
         "4"
        ],
        [
         "10",
         "3",
         "['no', 'spamming']",
         "5"
        ],
        [
         "11",
         "3",
         "['no', 'tav', 'build', 'multiclass', 'or', 'lfg', 'posts', 'outside', 'of', 'their', 'megathreads']",
         "6"
        ],
        [
         "12",
         "3",
         "['no', 'piracy', 'allowed', 'no', 'posting', 'pirated', 'material', 'of', 'any', 'kind', 'but', 'especially', '5e', 'material']",
         "7"
        ],
        [
         "13",
         "3",
         "['use', 'modmail', 'for', 'issues', 'or', 'giveaways', 'don', 't', 'mention', 'link', 'or', 'directly', 'message', 'the', 'mods']",
         "8"
        ],
        [
         "14",
         "3",
         "['no', 'discussion', 'exclusively', 'about', '3rd', 'party', 'wikis']",
         "9"
        ],
        [
         "15",
         "3",
         "['all', 'posts', 'should', 'be', 'in', 'english', 'non', 'english', 'comments', 'are', 'allowed']",
         "11"
        ],
        [
         "16",
         "3",
         "['no', 'asking', 'for', 'game', 'codes', 'the', 'game', 'steam', 'accounts']",
         "12"
        ],
        [
         "17",
         "3",
         "['no', 'posting', 'about', 'bigoted', 'mods']",
         "13"
        ],
        [
         "18",
         "3",
         "['cosplay', 'posts', 'must', 'now', 'be', 'submitted', 'on', 'sundays']",
         "14"
        ],
        [
         "19",
         "4",
         "['no', 'uncivil', 'bigoted', 'misogynist', 'misandrist', 'racist', 'comments', 'or', 'posts']",
         "0"
        ],
        [
         "20",
         "4",
         "['no', 'misinformation']",
         "1"
        ],
        [
         "21",
         "4",
         "['remove', 'identifying', 'personal', 'information']",
         "5"
        ],
        [
         "22",
         "4",
         "['no', 'reddit', 'meta', 'posts']",
         "7"
        ],
        [
         "23",
         "4",
         "['no', 'posts', 'about', 'politicians', 'being', 'politicians']",
         "8"
        ],
        [
         "24",
         "4",
         "['no', 'posts', 'attacking', 'a', 'political', 'party', 'or', 'side']",
         "9"
        ],
        [
         "25",
         "5",
         "['posts', 'must', 'be', 'interesting', 'as', 'fuck']",
         "0"
        ],
        [
         "26",
         "5",
         "['no', 'politics']",
         "1"
        ],
        [
         "27",
         "5",
         "['titles', 'must', 'be', 'descriptive', 'and', 'directly', 'related', 'to', 'the', 'content']",
         "2"
        ],
        [
         "28",
         "5",
         "['no', 'porn', 'or', 'gore']",
         "3"
        ],
        [
         "29",
         "5",
         "['no', 'doxing', 'witch', 'hunts', 'or', 'meta', 'related', 'posts']",
         "4"
        ],
        [
         "30",
         "5",
         "['provide', 'a', 'source', 'when', 'the', 'title', 'is', 'in', 'doubt']",
         "5"
        ],
        [
         "31",
         "5",
         "['no', 'fcoo', 'flooding']",
         "6"
        ],
        [
         "32",
         "5",
         "['no', 'self', 'promotion']",
         "7"
        ],
        [
         "33",
         "5",
         "['no', 'gossip', 'or', 'tabloid', 'type', 'material']",
         "10"
        ],
        [
         "34",
         "5",
         "['additional', 'temporary', 'rules']",
         "11"
        ],
        [
         "35",
         "6",
         "['only', 'damnthatsinteresting', 'content']",
         "0"
        ],
        [
         "36",
         "6",
         "['no', 'racism', 'bigotry', 'or', 'hate', 'speech']",
         "2"
        ],
        [
         "37",
         "6",
         "['no', 'screenshots', 'memes', 'infographics']",
         "3"
        ],
        [
         "38",
         "6",
         "['no', 'politics']",
         "6"
        ],
        [
         "39",
         "6",
         "['posts', 'making', 'claims', 'must', 'be', 'sourced', 'in', 'comments', 'at', 'time', 'of', 'posting']",
         "7"
        ],
        [
         "40",
         "7",
         "['harassment', 'civility']",
         "0"
        ],
        [
         "41",
         "7",
         "['harassment', 'death', 'violence']",
         "1"
        ],
        [
         "42",
         "7",
         "['harassment', 'discrimination']",
         "2"
        ],
        [
         "43",
         "7",
         "['harassment', 'unsourced', 'allegations']",
         "3"
        ],
        [
         "44",
         "7",
         "['harassment', 'speculation']",
         "4"
        ],
        [
         "45",
         "7",
         "['harassment', 'out', 'of', 'context', 'content']",
         "5"
        ],
        [
         "46",
         "7",
         "['quality', 'duplicate', 'submissions']",
         "6"
        ],
        [
         "47",
         "7",
         "['quality', 'title', 'guidelines']",
         "7"
        ],
        [
         "48",
         "7",
         "['quality', 'old', 'news']",
         "8"
        ],
        [
         "49",
         "7",
         "['spam', 'off', 'topic']",
         "12"
        ]
       ],
       "shape": {
        "columns": 3,
        "rows": 767
       }
      },
      "text/html": [
       "<div>\n",
       "<style scoped>\n",
       "    .dataframe tbody tr th:only-of-type {\n",
       "        vertical-align: middle;\n",
       "    }\n",
       "\n",
       "    .dataframe tbody tr th {\n",
       "        vertical-align: top;\n",
       "    }\n",
       "\n",
       "    .dataframe thead th {\n",
       "        text-align: right;\n",
       "    }\n",
       "</style>\n",
       "<table border=\"1\" class=\"dataframe\">\n",
       "  <thead>\n",
       "    <tr style=\"text-align: right;\">\n",
       "      <th></th>\n",
       "      <th>server_id</th>\n",
       "      <th>rules</th>\n",
       "      <th>rule_id</th>\n",
       "    </tr>\n",
       "  </thead>\n",
       "  <tbody>\n",
       "    <tr>\n",
       "      <th>0</th>\n",
       "      <td>2</td>\n",
       "      <td>[top, level, comments, must, contain, a, genui...</td>\n",
       "      <td>0</td>\n",
       "    </tr>\n",
       "    <tr>\n",
       "      <th>1</th>\n",
       "      <td>2</td>\n",
       "      <td>[please, try, searching, the, subreddit, for, ...</td>\n",
       "      <td>1</td>\n",
       "    </tr>\n",
       "    <tr>\n",
       "      <th>2</th>\n",
       "      <td>2</td>\n",
       "      <td>[no, suicide, or, was, i, raped, sexual, assau...</td>\n",
       "      <td>5</td>\n",
       "    </tr>\n",
       "    <tr>\n",
       "      <th>3</th>\n",
       "      <td>2</td>\n",
       "      <td>[no, self, promotion, shilling, or, begging]</td>\n",
       "      <td>6</td>\n",
       "    </tr>\n",
       "    <tr>\n",
       "      <th>4</th>\n",
       "      <td>2</td>\n",
       "      <td>[no, illegal, unethical, or, disturbing, subje...</td>\n",
       "      <td>7</td>\n",
       "    </tr>\n",
       "    <tr>\n",
       "      <th>...</th>\n",
       "      <td>...</td>\n",
       "      <td>...</td>\n",
       "      <td>...</td>\n",
       "    </tr>\n",
       "    <tr>\n",
       "      <th>762</th>\n",
       "      <td>99</td>\n",
       "      <td>[no, personal, information]</td>\n",
       "      <td>4</td>\n",
       "    </tr>\n",
       "    <tr>\n",
       "      <th>763</th>\n",
       "      <td>99</td>\n",
       "      <td>[no, long, videos, 10s, or, long, texts]</td>\n",
       "      <td>7</td>\n",
       "    </tr>\n",
       "    <tr>\n",
       "      <th>764</th>\n",
       "      <td>99</td>\n",
       "      <td>[no, r, roastme]</td>\n",
       "      <td>10</td>\n",
       "    </tr>\n",
       "    <tr>\n",
       "      <th>765</th>\n",
       "      <td>99</td>\n",
       "      <td>[moderators, discretion]</td>\n",
       "      <td>11</td>\n",
       "    </tr>\n",
       "    <tr>\n",
       "      <th>766</th>\n",
       "      <td>99</td>\n",
       "      <td>[do, not, post, your, own, insults]</td>\n",
       "      <td>12</td>\n",
       "    </tr>\n",
       "  </tbody>\n",
       "</table>\n",
       "<p>767 rows × 3 columns</p>\n",
       "</div>"
      ],
      "text/plain": [
       "     server_id                                              rules  rule_id\n",
       "0            2  [top, level, comments, must, contain, a, genui...        0\n",
       "1            2  [please, try, searching, the, subreddit, for, ...        1\n",
       "2            2  [no, suicide, or, was, i, raped, sexual, assau...        5\n",
       "3            2       [no, self, promotion, shilling, or, begging]        6\n",
       "4            2  [no, illegal, unethical, or, disturbing, subje...        7\n",
       "..         ...                                                ...      ...\n",
       "762         99                        [no, personal, information]        4\n",
       "763         99           [no, long, videos, 10s, or, long, texts]        7\n",
       "764         99                                   [no, r, roastme]       10\n",
       "765         99                           [moderators, discretion]       11\n",
       "766         99                [do, not, post, your, own, insults]       12\n",
       "\n",
       "[767 rows x 3 columns]"
      ]
     },
     "execution_count": 209,
     "metadata": {},
     "output_type": "execute_result"
    }
   ],
   "source": [
    "# Keep only the rows from standardized_df that have a matching server_id and rule_id in df_english\n",
    "standardized_df = standardized_df.merge(df_english[[\"server_id\", \"rule_id\"]], on=[\"server_id\", \"rule_id\"], how='inner')\n",
    "standardized_df"
   ]
  },
  {
   "cell_type": "code",
   "execution_count": null,
   "id": "eb50c2b6",
   "metadata": {},
   "outputs": [
    {
     "name": "stderr",
     "output_type": "stream",
     "text": [
      "[nltk_data] Downloading package stopwords to\n",
      "[nltk_data]     /Users/eglantinevialaneix/nltk_data...\n",
      "[nltk_data]   Package stopwords is already up-to-date!\n"
     ]
    },
    {
     "data": {
      "application/vnd.microsoft.datawrangler.viewer.v0+json": {
       "columns": [
        {
         "name": "index",
         "rawType": "int64",
         "type": "integer"
        },
        {
         "name": "server_id",
         "rawType": "int64",
         "type": "integer"
        },
        {
         "name": "rules",
         "rawType": "object",
         "type": "unknown"
        },
        {
         "name": "rule_id",
         "rawType": "int64",
         "type": "integer"
        }
       ],
       "ref": "5f15c779-66c9-4df6-98ce-8961fcdfce32",
       "rows": [
        [
         "0",
         "2",
         "['top', 'level', 'comments', 'must', 'contain', 'genuine', 'human', 'written', 'attempt', 'answer']",
         "0"
        ],
        [
         "1",
         "2",
         "['please', 'try', 'searching', 'subreddit', 'question', 'first']",
         "1"
        ],
        [
         "2",
         "2",
         "['suicide', 'raped', 'sexual', 'assaulted', 'sexually', 'harrassed', 'questions']",
         "5"
        ],
        [
         "3",
         "2",
         "['self', 'promotion', 'shilling', 'begging']",
         "6"
        ],
        [
         "4",
         "2",
         "['illegal', 'unethical', 'disturbing', 'subject', 'matter']",
         "7"
        ],
        [
         "5",
         "2",
         "['disguised', 'rants', 'agenda', 'posts', 'potstirring']",
         "8"
        ],
        [
         "6",
         "3",
         "['civil', 'one', 'another']",
         "0"
        ],
        [
         "7",
         "3",
         "['respect', 'opinions', 'others']",
         "1"
        ],
        [
         "8",
         "3",
         "['tag', 'spoilers', 'nsfw', 'content']",
         "3"
        ],
        [
         "9",
         "3",
         "['memes', 'screenshots', 'fanart', 'must', 'flaired']",
         "4"
        ],
        [
         "10",
         "3",
         "['spamming']",
         "5"
        ],
        [
         "11",
         "3",
         "['tav', 'build', 'multiclass', 'lfg', 'posts', 'outside', 'megathreads']",
         "6"
        ],
        [
         "12",
         "3",
         "['piracy', 'allowed', 'posting', 'pirated', 'material', 'kind', 'especially', '5e', 'material']",
         "7"
        ],
        [
         "13",
         "3",
         "['use', 'modmail', 'issues', 'giveaways', 'mention', 'link', 'directly', 'message', 'mods']",
         "8"
        ],
        [
         "14",
         "3",
         "['discussion', 'exclusively', '3rd', 'party', 'wikis']",
         "9"
        ],
        [
         "15",
         "3",
         "['posts', 'english', 'non', 'english', 'comments', 'allowed']",
         "11"
        ],
        [
         "16",
         "3",
         "['asking', 'game', 'codes', 'game', 'steam', 'accounts']",
         "12"
        ],
        [
         "17",
         "3",
         "['posting', 'bigoted', 'mods']",
         "13"
        ],
        [
         "18",
         "3",
         "['cosplay', 'posts', 'must', 'submitted', 'sundays']",
         "14"
        ],
        [
         "19",
         "4",
         "['uncivil', 'bigoted', 'misogynist', 'misandrist', 'racist', 'comments', 'posts']",
         "0"
        ],
        [
         "20",
         "4",
         "['misinformation']",
         "1"
        ],
        [
         "21",
         "4",
         "['remove', 'identifying', 'personal', 'information']",
         "5"
        ],
        [
         "22",
         "4",
         "['reddit', 'meta', 'posts']",
         "7"
        ],
        [
         "23",
         "4",
         "['posts', 'politicians', 'politicians']",
         "8"
        ],
        [
         "24",
         "4",
         "['posts', 'attacking', 'political', 'party', 'side']",
         "9"
        ],
        [
         "25",
         "5",
         "['posts', 'must', 'interesting', 'fuck']",
         "0"
        ],
        [
         "26",
         "5",
         "['politics']",
         "1"
        ],
        [
         "27",
         "5",
         "['titles', 'must', 'descriptive', 'directly', 'related', 'content']",
         "2"
        ],
        [
         "28",
         "5",
         "['porn', 'gore']",
         "3"
        ],
        [
         "29",
         "5",
         "['doxing', 'witch', 'hunts', 'meta', 'related', 'posts']",
         "4"
        ],
        [
         "30",
         "5",
         "['provide', 'source', 'title', 'doubt']",
         "5"
        ],
        [
         "31",
         "5",
         "['fcoo', 'flooding']",
         "6"
        ],
        [
         "32",
         "5",
         "['self', 'promotion']",
         "7"
        ],
        [
         "33",
         "5",
         "['gossip', 'tabloid', 'type', 'material']",
         "10"
        ],
        [
         "34",
         "5",
         "['additional', 'temporary', 'rules']",
         "11"
        ],
        [
         "35",
         "6",
         "['damnthatsinteresting', 'content']",
         "0"
        ],
        [
         "36",
         "6",
         "['racism', 'bigotry', 'hate', 'speech']",
         "2"
        ],
        [
         "37",
         "6",
         "['screenshots', 'memes', 'infographics']",
         "3"
        ],
        [
         "38",
         "6",
         "['politics']",
         "6"
        ],
        [
         "39",
         "6",
         "['posts', 'making', 'claims', 'must', 'sourced', 'comments', 'time', 'posting']",
         "7"
        ],
        [
         "40",
         "7",
         "['harassment', 'civility']",
         "0"
        ],
        [
         "41",
         "7",
         "['harassment', 'death', 'violence']",
         "1"
        ],
        [
         "42",
         "7",
         "['harassment', 'discrimination']",
         "2"
        ],
        [
         "43",
         "7",
         "['harassment', 'unsourced', 'allegations']",
         "3"
        ],
        [
         "44",
         "7",
         "['harassment', 'speculation']",
         "4"
        ],
        [
         "45",
         "7",
         "['harassment', 'context', 'content']",
         "5"
        ],
        [
         "46",
         "7",
         "['quality', 'duplicate', 'submissions']",
         "6"
        ],
        [
         "47",
         "7",
         "['quality', 'title', 'guidelines']",
         "7"
        ],
        [
         "48",
         "7",
         "['quality', 'old', 'news']",
         "8"
        ],
        [
         "49",
         "7",
         "['spam', 'topic']",
         "12"
        ]
       ],
       "shape": {
        "columns": 3,
        "rows": 767
       }
      },
      "text/html": [
       "<div>\n",
       "<style scoped>\n",
       "    .dataframe tbody tr th:only-of-type {\n",
       "        vertical-align: middle;\n",
       "    }\n",
       "\n",
       "    .dataframe tbody tr th {\n",
       "        vertical-align: top;\n",
       "    }\n",
       "\n",
       "    .dataframe thead th {\n",
       "        text-align: right;\n",
       "    }\n",
       "</style>\n",
       "<table border=\"1\" class=\"dataframe\">\n",
       "  <thead>\n",
       "    <tr style=\"text-align: right;\">\n",
       "      <th></th>\n",
       "      <th>server_id</th>\n",
       "      <th>rules</th>\n",
       "      <th>rule_id</th>\n",
       "    </tr>\n",
       "  </thead>\n",
       "  <tbody>\n",
       "    <tr>\n",
       "      <th>0</th>\n",
       "      <td>2</td>\n",
       "      <td>[top, level, comments, must, contain, genuine,...</td>\n",
       "      <td>0</td>\n",
       "    </tr>\n",
       "    <tr>\n",
       "      <th>1</th>\n",
       "      <td>2</td>\n",
       "      <td>[please, try, searching, subreddit, question, ...</td>\n",
       "      <td>1</td>\n",
       "    </tr>\n",
       "    <tr>\n",
       "      <th>2</th>\n",
       "      <td>2</td>\n",
       "      <td>[suicide, raped, sexual, assaulted, sexually, ...</td>\n",
       "      <td>5</td>\n",
       "    </tr>\n",
       "    <tr>\n",
       "      <th>3</th>\n",
       "      <td>2</td>\n",
       "      <td>[self, promotion, shilling, begging]</td>\n",
       "      <td>6</td>\n",
       "    </tr>\n",
       "    <tr>\n",
       "      <th>4</th>\n",
       "      <td>2</td>\n",
       "      <td>[illegal, unethical, disturbing, subject, matter]</td>\n",
       "      <td>7</td>\n",
       "    </tr>\n",
       "    <tr>\n",
       "      <th>...</th>\n",
       "      <td>...</td>\n",
       "      <td>...</td>\n",
       "      <td>...</td>\n",
       "    </tr>\n",
       "    <tr>\n",
       "      <th>762</th>\n",
       "      <td>99</td>\n",
       "      <td>[personal, information]</td>\n",
       "      <td>4</td>\n",
       "    </tr>\n",
       "    <tr>\n",
       "      <th>763</th>\n",
       "      <td>99</td>\n",
       "      <td>[long, videos, 10s, long, texts]</td>\n",
       "      <td>7</td>\n",
       "    </tr>\n",
       "    <tr>\n",
       "      <th>764</th>\n",
       "      <td>99</td>\n",
       "      <td>[r, roastme]</td>\n",
       "      <td>10</td>\n",
       "    </tr>\n",
       "    <tr>\n",
       "      <th>765</th>\n",
       "      <td>99</td>\n",
       "      <td>[moderators, discretion]</td>\n",
       "      <td>11</td>\n",
       "    </tr>\n",
       "    <tr>\n",
       "      <th>766</th>\n",
       "      <td>99</td>\n",
       "      <td>[post, insults]</td>\n",
       "      <td>12</td>\n",
       "    </tr>\n",
       "  </tbody>\n",
       "</table>\n",
       "<p>767 rows × 3 columns</p>\n",
       "</div>"
      ],
      "text/plain": [
       "     server_id                                              rules  rule_id\n",
       "0            2  [top, level, comments, must, contain, genuine,...        0\n",
       "1            2  [please, try, searching, subreddit, question, ...        1\n",
       "2            2  [suicide, raped, sexual, assaulted, sexually, ...        5\n",
       "3            2               [self, promotion, shilling, begging]        6\n",
       "4            2  [illegal, unethical, disturbing, subject, matter]        7\n",
       "..         ...                                                ...      ...\n",
       "762         99                            [personal, information]        4\n",
       "763         99                   [long, videos, 10s, long, texts]        7\n",
       "764         99                                       [r, roastme]       10\n",
       "765         99                           [moderators, discretion]       11\n",
       "766         99                                    [post, insults]       12\n",
       "\n",
       "[767 rows x 3 columns]"
      ]
     },
     "execution_count": 211,
     "metadata": {},
     "output_type": "execute_result"
    }
   ],
   "source": [
    "# Natural language processing\n",
    "import nltk\n",
    "from nltk.corpus import stopwords\n",
    "from sklearn.feature_extraction.text import TfidfVectorizer\n",
    "\n",
    "# Download stopwords if not already done\n",
    "nltk.download('stopwords')\n",
    "\n",
    "# Set of English stopwords\n",
    "stop_words = set(stopwords.words('english')).union(set(stopwords.words('french'))).union(set(stopwords.words('german'))).union(set(stopwords.words('spanish')))\n",
    "\n",
    "# Remove stop words from the tokenized lists\n",
    "standardized_df[\"rules\"] = standardized_df[\"rules\"].apply(lambda words: [word for word in words if word not in stop_words] if isinstance(words, list) else words)\n",
    "\n",
    "# Lemmatize tokens\n",
    "# No need to lemmatize for berTOPIC\n",
    "#standardized_df[\"text\"] = standardized_df[\"text\"].apply(lemmatize)\n",
    "#standardized_df[\"hint\"] = standardized_df[\"hint\"].apply(lemmatize)\n",
    "\n",
    "standardized_df"
   ]
  },
  {
   "cell_type": "code",
   "execution_count": null,
   "id": "7c3502b7",
   "metadata": {},
   "outputs": [
    {
     "data": {
      "application/vnd.microsoft.datawrangler.viewer.v0+json": {
       "columns": [
        {
         "name": "rules",
         "rawType": "object",
         "type": "string"
        },
        {
         "name": "count",
         "rawType": "int64",
         "type": "integer"
        }
       ],
       "ref": "ee3fc1eb-00a1-42f4-8784-7c5593ac27d0",
       "rows": [
        [
         "posts",
         "126"
        ],
        [
         "must",
         "73"
        ],
        [
         "content",
         "64"
        ],
        [
         "post",
         "39"
        ],
        [
         "self",
         "35"
        ],
        [
         "rule",
         "33"
        ],
        [
         "low",
         "32"
        ],
        [
         "comments",
         "26"
        ],
        [
         "promotion",
         "26"
        ],
        [
         "effort",
         "24"
        ],
        [
         "personal",
         "23"
        ],
        [
         "rules",
         "21"
        ],
        [
         "discussion",
         "20"
        ],
        [
         "civil",
         "19"
        ],
        [
         "submissions",
         "19"
        ],
        [
         "title",
         "19"
        ],
        [
         "reddit",
         "17"
        ],
        [
         "questions",
         "17"
        ],
        [
         "follow",
         "17"
        ],
        [
         "use",
         "16"
        ],
        [
         "politics",
         "16"
        ],
        [
         "titles",
         "16"
        ],
        [
         "information",
         "16"
        ],
        [
         "allowed",
         "15"
        ],
        [
         "spam",
         "15"
        ],
        [
         "related",
         "15"
        ],
        [
         "quality",
         "14"
        ],
        [
         "posting",
         "14"
        ],
        [
         "memes",
         "14"
        ],
        [
         "links",
         "13"
        ],
        [
         "nsfw",
         "13"
        ],
        [
         "witch",
         "12"
        ],
        [
         "news",
         "12"
        ],
        [
         "source",
         "11"
        ],
        [
         "link",
         "10"
        ],
        [
         "giveaways",
         "10"
        ],
        [
         "english",
         "10"
        ],
        [
         "screenshots",
         "10"
        ],
        [
         "text",
         "10"
        ],
        [
         "reposts",
         "10"
        ],
        [
         "meme",
         "9"
        ],
        [
         "advice",
         "9"
        ],
        [
         "game",
         "9"
        ],
        [
         "respectful",
         "9"
        ],
        [
         "old",
         "9"
        ],
        [
         "harassment",
         "9"
        ],
        [
         "topic",
         "9"
        ],
        [
         "topics",
         "9"
        ],
        [
         "meta",
         "9"
        ],
        [
         "bigotry",
         "9"
        ]
       ],
       "shape": {
        "columns": 1,
        "rows": 1171
       }
      },
      "text/plain": [
       "rules\n",
       "posts         126\n",
       "must           73\n",
       "content        64\n",
       "post           39\n",
       "self           35\n",
       "             ... \n",
       "grey            1\n",
       "keys            1\n",
       "reviews         1\n",
       "deals           1\n",
       "moderators      1\n",
       "Name: count, Length: 1171, dtype: int64"
      ]
     },
     "execution_count": 213,
     "metadata": {},
     "output_type": "execute_result"
    }
   ],
   "source": [
    "#tokenize each text and each hint\n",
    "nlp_df = standardized_df.copy()\n",
    "\n",
    "#nlp_df[\"document\"] = nlp_df.apply(create_document, axis=1)\n",
    "\n",
    "vocab = nlp_df[\"rules\"].explode().unique()\n",
    "nlp_df[\"rules\"].explode().value_counts()"
   ]
  },
  {
   "cell_type": "code",
   "execution_count": null,
   "id": "897ef122",
   "metadata": {},
   "outputs": [
    {
     "name": "stdout",
     "output_type": "stream",
     "text": [
      "TF-IDF matrix shape: (767, 1157)\n"
     ]
    }
   ],
   "source": [
    "# TF-IDF scores\n",
    "# Join the tokens back into strings\n",
    "nlp_df['document_str'] = nlp_df['rules'].apply(lambda x: ' '.join(x))\n",
    "\n",
    "# Create and fit TF-IDF Vectorizer\n",
    "tfidf_vect = TfidfVectorizer()\n",
    "tfidf_matrix = tfidf_vect.fit_transform(nlp_df['document_str'])\n",
    "\n",
    "# Get feature names (words)\n",
    "feature_names = tfidf_vect.get_feature_names_out()\n",
    "\n",
    "tfidf = pd.DataFrame(tfidf_matrix.toarray(), columns=feature_names)\n",
    "print(f\"TF-IDF matrix shape: {tfidf_matrix.shape}\")\n",
    "    "
   ]
  },
  {
   "cell_type": "code",
   "execution_count": null,
   "id": "7a6fe000",
   "metadata": {},
   "outputs": [
    {
     "name": "stdout",
     "output_type": "stream",
     "text": [
      "Top 10 terms by average TF-IDF score:\n",
      "          term     score\n",
      "778      posts  0.041990\n",
      "230    content  0.027015\n",
      "677       must  0.025548\n",
      "912       self  0.020700\n",
      "798  promotion  0.017493\n",
      "607        low  0.017454\n",
      "189      civil  0.016888\n",
      "775       post  0.015915\n",
      "341     effort  0.014231\n",
      "768   politics  0.013817\n"
     ]
    }
   ],
   "source": [
    "# Display top terms with highest average TF-IDF scores\n",
    "mean_tfidf = tfidf_matrix.mean(axis=0).A1\n",
    "term_scores = pd.DataFrame({'term': feature_names, 'score': mean_tfidf})\n",
    "print(\"Top 10 terms by average TF-IDF score:\")\n",
    "print(term_scores.sort_values('score', ascending=False).head(10))"
   ]
  },
  {
   "cell_type": "code",
   "execution_count": null,
   "id": "952331ce",
   "metadata": {},
   "outputs": [
    {
     "name": "stdout",
     "output_type": "stream",
     "text": [
      "Top TF-IDF words for document 722:\n",
      "accessory    0.400045\n",
      "modding      0.400045\n",
      "setup        0.400045\n",
      "hardware     0.360151\n",
      "review       0.360151\n",
      "Name: 722, dtype: float64 \n",
      "\n",
      "Top TF-IDF words for document 583:\n",
      "tumblr         0.637504\n",
      "posts          0.517937\n",
      "screenshots    0.481146\n",
      "must           0.306315\n",
      "10k            0.000000\n",
      "Name: 583, dtype: float64 \n",
      "\n",
      "Top TF-IDF words for document 361:\n",
      "generated      0.509268\n",
      "user           0.509268\n",
      "advertising    0.452856\n",
      "surveys        0.443270\n",
      "content        0.282358\n",
      "Name: 361, dtype: float64 \n",
      "\n",
      "Top TF-IDF words for document 659:\n",
      "high        0.540310\n",
      "topical     0.540310\n",
      "relevant    0.442926\n",
      "quality     0.383681\n",
      "content     0.269695\n",
      "Name: 659, dtype: float64 \n",
      "\n",
      "Top TF-IDF words for document 104:\n",
      "third    0.693675\n",
      "party    0.648727\n",
      "posts    0.313000\n",
      "10k      0.000000\n",
      "10s      0.000000\n",
      "Name: 104, dtype: float64 \n",
      "\n"
     ]
    }
   ],
   "source": [
    "# Display the top TF-IDF words for a few sample documents\n",
    "sample_indices = np.random.choice(tfidf.index, size=5, replace=False)\n",
    "for idx in sample_indices:\n",
    "    print(f\"Top TF-IDF words for document {idx}:\")\n",
    "    doc_tfidf = tfidf.iloc[idx]\n",
    "    top_words = doc_tfidf.nlargest(5)\n",
    "    print(top_words, '\\n')"
   ]
  },
  {
   "cell_type": "code",
   "execution_count": null,
   "id": "eb17f392",
   "metadata": {},
   "outputs": [],
   "source": [
    "# Topic modeling\n",
    "from bertopic import BERTopic\n",
    "\n",
    "topic_model = BERTopic()\n",
    "topics, probs = topic_model.fit_transform(nlp_df['document_str'])"
   ]
  },
  {
   "cell_type": "code",
   "execution_count": null,
   "id": "b82b031d",
   "metadata": {},
   "outputs": [
    {
     "data": {
      "application/vnd.microsoft.datawrangler.viewer.v0+json": {
       "columns": [
        {
         "name": "index",
         "rawType": "int64",
         "type": "integer"
        },
        {
         "name": "Topic",
         "rawType": "int64",
         "type": "integer"
        },
        {
         "name": "Count",
         "rawType": "int64",
         "type": "integer"
        },
        {
         "name": "Name",
         "rawType": "object",
         "type": "string"
        },
        {
         "name": "Representation",
         "rawType": "object",
         "type": "unknown"
        },
        {
         "name": "Representative_Docs",
         "rawType": "object",
         "type": "unknown"
        }
       ],
       "ref": "b9aa4897-d329-4c39-8736-c5680915e940",
       "rows": [
        [
         "0",
         "-1",
         "164",
         "-1_must_english_questions_posts",
         "['must', 'english', 'questions', 'posts', 'submissions', 'comments', 'advice', 'posting', 'search', 'flair']",
         "['top level comment must answer ask follow', 'posts english non english comments allowed', 'submissions must english']"
        ],
        [
         "1",
         "0",
         "112",
         "0_personal_witch_bigotry_harassment",
         "['personal', 'witch', 'bigotry', 'harassment', 'hunts', 'racism', 'information', 'attacks', 'trolling', 'speech']",
         "['personal information witch hunting', 'comments witch hunts personal information', 'personal attacks racism sexism bigotry']"
        ],
        [
         "2",
         "1",
         "81",
         "1_promotion_self_giveaways_spam",
         "['promotion', 'self', 'giveaways', 'spam', 'surveys', 'advertising', 'trading', 'begging', 'promotional', 'flooding']",
         "['self promotion', 'self promotion', 'self promotion']"
        ],
        [
         "3",
         "2",
         "51",
         "2_rules_content_rule_follow",
         "['rules', 'content', 'rule', 'follow', 'restricted', 'reddit', 'reddiquette', 'full', 'read', 'disallowed']",
         "['specific restricted content see rules list', 'read full rules', 'read full list rules']"
        ],
        [
         "4",
         "3",
         "46",
         "3_links_piracy_exploits_cheats",
         "['links', 'piracy', 'exploits', 'cheats', 'pirated', 'link', 'material', 'content', 'cheating', 'copyrighted']",
         "['direct links copyrighted material', 'links discussion illegal copyrighted pirated content', 'cheating exploits piracy']"
        ],
        [
         "5",
         "4",
         "37",
         "4_posts_must_relevant_deck",
         "['posts', 'must', 'relevant', 'deck', 'related', 'steam', 'meta', 'nba', 'wow', 'posted']",
         "['game review deck posts must include game title steam deck experience', 'posts comments must relevant nba', 'posts must related steam deck']"
        ],
        [
         "6",
         "5",
         "33",
         "5_screenshots_memes_meme_image",
         "['screenshots', 'memes', 'meme', 'image', 'pictures', 'text', 'images', 'hosts', 'format', 'infographics']",
         "['screenshots', 'screenshots memes infographics', 'image posts memes']"
        ],
        [
         "7",
         "6",
         "31",
         "6_discussion_thread_threads_megathread",
         "['discussion', 'thread', 'threads', 'megathread', 'use', 'daily', 'topics', 'meta', 'topic', 'official']",
         "['discussion moderation meta sub topics', 'use daily discussion thread', 'topic posts discussion']"
        ],
        [
         "8",
         "7",
         "30",
         "7_titles_title_clickbait_editorialized",
         "['titles', 'title', 'clickbait', 'editorialized', 'article', 'must', 'contain', 'misleading', 'bad', 'exact']",
         "['editorialized misleading titles', 'title must match article title', 'title post must contain actual concise question clickbait titles']"
        ],
        [
         "9",
         "8",
         "28",
         "8_nsfw_spoilers_gore_porn",
         "['nsfw', 'spoilers', 'gore', 'porn', 'mark', 'dick', 'death', 'content', 'marked', 'generally']",
         "['mark nsfw content', 'mark nsfw spoilers', 'properly mark nsfw spoilers']"
        ],
        [
         "10",
         "9",
         "28",
         "9_low_effort_posts_content",
         "['low', 'effort', 'posts', 'content', 'poorly', 'quality', 'memes', 'spamming', 'comments', 'meme']",
         "['low effort posts', 'low effort posts', 'low effort posts']"
        ],
        [
         "11",
         "10",
         "26",
         "10_politics_political_agenda_world",
         "['politics', 'political', 'agenda', 'world', 'real', 'pushing', 'politicians', 'us', 'figures', 'explicitly']",
         "['politics', 'politics', 'politics']"
        ],
        [
         "12",
         "11",
         "22",
         "11_respectful_others_respect_civil",
         "['respectful', 'others', 'respect', 'civil', 'please', 'accept', 'courtesy', 'creative', 'discriminate', 'asshole']",
         "['civil respectful', 'respectful others', 'respectful others']"
        ],
        [
         "13",
         "12",
         "21",
         "12_videos_video_youtube_uploads",
         "['videos', 'video', 'youtube', 'uploads', 'photos', 'gifs', 'footage', 'fine', 'compilations', 'combat']",
         "['rule 5 videos longer 15 seconds direct reddit uploads links', 'rule 8 tv clips movie clips stills videos live performances home video fine', 'compilations youtube video uploads']"
        ],
        [
         "14",
         "13",
         "15",
         "13_bots_accounts_novelty_account",
         "['bots', 'accounts', 'novelty', 'account', 'bot', 'age', 'support', 'game', 'bans', 'chatgpt']",
         "['bots novelty accounts allowed', 'novelty accounts bots allowed', 'bots novelty accounts']"
        ],
        [
         "15",
         "14",
         "15",
         "14_news_old_articles_tabloid",
         "['news', 'old', 'articles', 'tabloid', 'sources', 'type', 'gossip', 'week', 'event', 'blogs']",
         "['quality old news', 'old news', 'old news']"
        ],
        [
         "16",
         "15",
         "14",
         "15_reposts_recent_months_old",
         "['reposts', 'recent', 'months', 'old', 'duplicates', 'mundane', 'limitations', 'less', 'crossposts', 'repeat']",
         "['x posts reposts', 'reposts', 'reposts']"
        ],
        [
         "17",
         "16",
         "13",
         "16_civil_keep_stand_civility",
         "['civil', 'keep', 'stand', 'civility', 'another', 'general', 'one', 'please', 'discussion', 'comments']",
         "['civil', 'civil', 'civil']"
        ]
       ],
       "shape": {
        "columns": 5,
        "rows": 18
       }
      },
      "text/html": [
       "<div>\n",
       "<style scoped>\n",
       "    .dataframe tbody tr th:only-of-type {\n",
       "        vertical-align: middle;\n",
       "    }\n",
       "\n",
       "    .dataframe tbody tr th {\n",
       "        vertical-align: top;\n",
       "    }\n",
       "\n",
       "    .dataframe thead th {\n",
       "        text-align: right;\n",
       "    }\n",
       "</style>\n",
       "<table border=\"1\" class=\"dataframe\">\n",
       "  <thead>\n",
       "    <tr style=\"text-align: right;\">\n",
       "      <th></th>\n",
       "      <th>Topic</th>\n",
       "      <th>Count</th>\n",
       "      <th>Name</th>\n",
       "      <th>Representation</th>\n",
       "      <th>Representative_Docs</th>\n",
       "    </tr>\n",
       "  </thead>\n",
       "  <tbody>\n",
       "    <tr>\n",
       "      <th>0</th>\n",
       "      <td>-1</td>\n",
       "      <td>164</td>\n",
       "      <td>-1_must_english_questions_posts</td>\n",
       "      <td>[must, english, questions, posts, submissions,...</td>\n",
       "      <td>[top level comment must answer ask follow, pos...</td>\n",
       "    </tr>\n",
       "    <tr>\n",
       "      <th>1</th>\n",
       "      <td>0</td>\n",
       "      <td>112</td>\n",
       "      <td>0_personal_witch_bigotry_harassment</td>\n",
       "      <td>[personal, witch, bigotry, harassment, hunts, ...</td>\n",
       "      <td>[personal information witch hunting, comments ...</td>\n",
       "    </tr>\n",
       "    <tr>\n",
       "      <th>2</th>\n",
       "      <td>1</td>\n",
       "      <td>81</td>\n",
       "      <td>1_promotion_self_giveaways_spam</td>\n",
       "      <td>[promotion, self, giveaways, spam, surveys, ad...</td>\n",
       "      <td>[self promotion, self promotion, self promotion]</td>\n",
       "    </tr>\n",
       "    <tr>\n",
       "      <th>3</th>\n",
       "      <td>2</td>\n",
       "      <td>51</td>\n",
       "      <td>2_rules_content_rule_follow</td>\n",
       "      <td>[rules, content, rule, follow, restricted, red...</td>\n",
       "      <td>[specific restricted content see rules list, r...</td>\n",
       "    </tr>\n",
       "    <tr>\n",
       "      <th>4</th>\n",
       "      <td>3</td>\n",
       "      <td>46</td>\n",
       "      <td>3_links_piracy_exploits_cheats</td>\n",
       "      <td>[links, piracy, exploits, cheats, pirated, lin...</td>\n",
       "      <td>[direct links copyrighted material, links disc...</td>\n",
       "    </tr>\n",
       "    <tr>\n",
       "      <th>5</th>\n",
       "      <td>4</td>\n",
       "      <td>37</td>\n",
       "      <td>4_posts_must_relevant_deck</td>\n",
       "      <td>[posts, must, relevant, deck, related, steam, ...</td>\n",
       "      <td>[game review deck posts must include game titl...</td>\n",
       "    </tr>\n",
       "    <tr>\n",
       "      <th>6</th>\n",
       "      <td>5</td>\n",
       "      <td>33</td>\n",
       "      <td>5_screenshots_memes_meme_image</td>\n",
       "      <td>[screenshots, memes, meme, image, pictures, te...</td>\n",
       "      <td>[screenshots, screenshots memes infographics, ...</td>\n",
       "    </tr>\n",
       "    <tr>\n",
       "      <th>7</th>\n",
       "      <td>6</td>\n",
       "      <td>31</td>\n",
       "      <td>6_discussion_thread_threads_megathread</td>\n",
       "      <td>[discussion, thread, threads, megathread, use,...</td>\n",
       "      <td>[discussion moderation meta sub topics, use da...</td>\n",
       "    </tr>\n",
       "    <tr>\n",
       "      <th>8</th>\n",
       "      <td>7</td>\n",
       "      <td>30</td>\n",
       "      <td>7_titles_title_clickbait_editorialized</td>\n",
       "      <td>[titles, title, clickbait, editorialized, arti...</td>\n",
       "      <td>[editorialized misleading titles, title must m...</td>\n",
       "    </tr>\n",
       "    <tr>\n",
       "      <th>9</th>\n",
       "      <td>8</td>\n",
       "      <td>28</td>\n",
       "      <td>8_nsfw_spoilers_gore_porn</td>\n",
       "      <td>[nsfw, spoilers, gore, porn, mark, dick, death...</td>\n",
       "      <td>[mark nsfw content, mark nsfw spoilers, proper...</td>\n",
       "    </tr>\n",
       "    <tr>\n",
       "      <th>10</th>\n",
       "      <td>9</td>\n",
       "      <td>28</td>\n",
       "      <td>9_low_effort_posts_content</td>\n",
       "      <td>[low, effort, posts, content, poorly, quality,...</td>\n",
       "      <td>[low effort posts, low effort posts, low effor...</td>\n",
       "    </tr>\n",
       "    <tr>\n",
       "      <th>11</th>\n",
       "      <td>10</td>\n",
       "      <td>26</td>\n",
       "      <td>10_politics_political_agenda_world</td>\n",
       "      <td>[politics, political, agenda, world, real, pus...</td>\n",
       "      <td>[politics, politics, politics]</td>\n",
       "    </tr>\n",
       "    <tr>\n",
       "      <th>12</th>\n",
       "      <td>11</td>\n",
       "      <td>22</td>\n",
       "      <td>11_respectful_others_respect_civil</td>\n",
       "      <td>[respectful, others, respect, civil, please, a...</td>\n",
       "      <td>[civil respectful, respectful others, respectf...</td>\n",
       "    </tr>\n",
       "    <tr>\n",
       "      <th>13</th>\n",
       "      <td>12</td>\n",
       "      <td>21</td>\n",
       "      <td>12_videos_video_youtube_uploads</td>\n",
       "      <td>[videos, video, youtube, uploads, photos, gifs...</td>\n",
       "      <td>[rule 5 videos longer 15 seconds direct reddit...</td>\n",
       "    </tr>\n",
       "    <tr>\n",
       "      <th>14</th>\n",
       "      <td>13</td>\n",
       "      <td>15</td>\n",
       "      <td>13_bots_accounts_novelty_account</td>\n",
       "      <td>[bots, accounts, novelty, account, bot, age, s...</td>\n",
       "      <td>[bots novelty accounts allowed, novelty accoun...</td>\n",
       "    </tr>\n",
       "    <tr>\n",
       "      <th>15</th>\n",
       "      <td>14</td>\n",
       "      <td>15</td>\n",
       "      <td>14_news_old_articles_tabloid</td>\n",
       "      <td>[news, old, articles, tabloid, sources, type, ...</td>\n",
       "      <td>[quality old news, old news, old news]</td>\n",
       "    </tr>\n",
       "    <tr>\n",
       "      <th>16</th>\n",
       "      <td>15</td>\n",
       "      <td>14</td>\n",
       "      <td>15_reposts_recent_months_old</td>\n",
       "      <td>[reposts, recent, months, old, duplicates, mun...</td>\n",
       "      <td>[x posts reposts, reposts, reposts]</td>\n",
       "    </tr>\n",
       "    <tr>\n",
       "      <th>17</th>\n",
       "      <td>16</td>\n",
       "      <td>13</td>\n",
       "      <td>16_civil_keep_stand_civility</td>\n",
       "      <td>[civil, keep, stand, civility, another, genera...</td>\n",
       "      <td>[civil, civil, civil]</td>\n",
       "    </tr>\n",
       "  </tbody>\n",
       "</table>\n",
       "</div>"
      ],
      "text/plain": [
       "    Topic  Count                                    Name  \\\n",
       "0      -1    164         -1_must_english_questions_posts   \n",
       "1       0    112     0_personal_witch_bigotry_harassment   \n",
       "2       1     81         1_promotion_self_giveaways_spam   \n",
       "3       2     51             2_rules_content_rule_follow   \n",
       "4       3     46          3_links_piracy_exploits_cheats   \n",
       "5       4     37              4_posts_must_relevant_deck   \n",
       "6       5     33          5_screenshots_memes_meme_image   \n",
       "7       6     31  6_discussion_thread_threads_megathread   \n",
       "8       7     30  7_titles_title_clickbait_editorialized   \n",
       "9       8     28               8_nsfw_spoilers_gore_porn   \n",
       "10      9     28              9_low_effort_posts_content   \n",
       "11     10     26      10_politics_political_agenda_world   \n",
       "12     11     22      11_respectful_others_respect_civil   \n",
       "13     12     21         12_videos_video_youtube_uploads   \n",
       "14     13     15        13_bots_accounts_novelty_account   \n",
       "15     14     15            14_news_old_articles_tabloid   \n",
       "16     15     14            15_reposts_recent_months_old   \n",
       "17     16     13            16_civil_keep_stand_civility   \n",
       "\n",
       "                                       Representation  \\\n",
       "0   [must, english, questions, posts, submissions,...   \n",
       "1   [personal, witch, bigotry, harassment, hunts, ...   \n",
       "2   [promotion, self, giveaways, spam, surveys, ad...   \n",
       "3   [rules, content, rule, follow, restricted, red...   \n",
       "4   [links, piracy, exploits, cheats, pirated, lin...   \n",
       "5   [posts, must, relevant, deck, related, steam, ...   \n",
       "6   [screenshots, memes, meme, image, pictures, te...   \n",
       "7   [discussion, thread, threads, megathread, use,...   \n",
       "8   [titles, title, clickbait, editorialized, arti...   \n",
       "9   [nsfw, spoilers, gore, porn, mark, dick, death...   \n",
       "10  [low, effort, posts, content, poorly, quality,...   \n",
       "11  [politics, political, agenda, world, real, pus...   \n",
       "12  [respectful, others, respect, civil, please, a...   \n",
       "13  [videos, video, youtube, uploads, photos, gifs...   \n",
       "14  [bots, accounts, novelty, account, bot, age, s...   \n",
       "15  [news, old, articles, tabloid, sources, type, ...   \n",
       "16  [reposts, recent, months, old, duplicates, mun...   \n",
       "17  [civil, keep, stand, civility, another, genera...   \n",
       "\n",
       "                                  Representative_Docs  \n",
       "0   [top level comment must answer ask follow, pos...  \n",
       "1   [personal information witch hunting, comments ...  \n",
       "2    [self promotion, self promotion, self promotion]  \n",
       "3   [specific restricted content see rules list, r...  \n",
       "4   [direct links copyrighted material, links disc...  \n",
       "5   [game review deck posts must include game titl...  \n",
       "6   [screenshots, screenshots memes infographics, ...  \n",
       "7   [discussion moderation meta sub topics, use da...  \n",
       "8   [editorialized misleading titles, title must m...  \n",
       "9   [mark nsfw content, mark nsfw spoilers, proper...  \n",
       "10  [low effort posts, low effort posts, low effor...  \n",
       "11                     [politics, politics, politics]  \n",
       "12  [civil respectful, respectful others, respectf...  \n",
       "13  [rule 5 videos longer 15 seconds direct reddit...  \n",
       "14  [bots novelty accounts allowed, novelty accoun...  \n",
       "15             [quality old news, old news, old news]  \n",
       "16                [x posts reposts, reposts, reposts]  \n",
       "17                              [civil, civil, civil]  "
      ]
     },
     "execution_count": 219,
     "metadata": {},
     "output_type": "execute_result"
    }
   ],
   "source": [
    "topic_model.get_topic_info()"
   ]
  },
  {
   "cell_type": "code",
   "execution_count": null,
   "id": "d1d9313f",
   "metadata": {},
   "outputs": [],
   "source": [
    "# try consensus clutering on topics shared between servers"
   ]
  },
  {
   "cell_type": "code",
   "execution_count": null,
   "id": "0588c714",
   "metadata": {},
   "outputs": [],
   "source": [
    "# topic modelling on description of mastodon, reddit and mast+reddit"
   ]
  }
 ],
 "metadata": {
  "kernelspec": {
   "display_name": ".venv",
   "language": "python",
   "name": "python3"
  },
  "language_info": {
   "codemirror_mode": {
    "name": "ipython",
    "version": 3
   },
   "file_extension": ".py",
   "mimetype": "text/x-python",
   "name": "python",
   "nbconvert_exporter": "python",
   "pygments_lexer": "ipython3",
   "version": "3.13.2"
  }
 },
 "nbformat": 4,
 "nbformat_minor": 5
}
